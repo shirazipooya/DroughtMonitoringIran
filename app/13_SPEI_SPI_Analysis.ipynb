{
 "cells": [
  {
   "cell_type": "code",
   "execution_count": 73,
   "metadata": {},
   "outputs": [],
   "source": [
    "import os\n",
    "import sys\n",
    "import sqlite3\n",
    "import numpy as np\n",
    "import pandas as pd\n",
    "import geopandas as gp\n",
    "import plotly.express as px\n",
    "import skill_metrics as sm\n",
    "import skill_metrics as sm\n",
    "import matplotlib.pyplot as plt\n",
    "import scipy.stats as scs\n",
    "\n",
    "import spei"
   ]
  },
  {
   "cell_type": "code",
   "execution_count": 74,
   "metadata": {},
   "outputs": [],
   "source": [
    "sys.path.append('/home/pooya/w/DroughtMonitoringIran/')\n",
    "\n",
    "DATABASE_PATH = \"./database/database.db\""
   ]
  },
  {
   "cell_type": "markdown",
   "metadata": {},
   "source": [
    "### Monthly Data"
   ]
  },
  {
   "cell_type": "code",
   "execution_count": 75,
   "metadata": {},
   "outputs": [],
   "source": [
    "conn = sqlite3.connect(DATABASE_PATH)\n",
    "\n",
    "data = pd.read_sql(sql='SELECT * FROM data', con=conn)\n",
    "\n",
    "data['Date'] = pd.to_datetime(data[\"Date\"], format=\"%Y-%m\")\n",
    "\n",
    "conn.close()"
   ]
  },
  {
   "cell_type": "markdown",
   "metadata": {},
   "source": [
    "### Unique Station"
   ]
  },
  {
   "cell_type": "code",
   "execution_count": 76,
   "metadata": {},
   "outputs": [
    {
     "data": {
      "text/html": [
       "<div>\n",
       "<style scoped>\n",
       "    .dataframe tbody tr th:only-of-type {\n",
       "        vertical-align: middle;\n",
       "    }\n",
       "\n",
       "    .dataframe tbody tr th {\n",
       "        vertical-align: top;\n",
       "    }\n",
       "\n",
       "    .dataframe thead th {\n",
       "        text-align: right;\n",
       "    }\n",
       "</style>\n",
       "<table border=\"1\" class=\"dataframe\">\n",
       "  <thead>\n",
       "    <tr style=\"text-align: right;\">\n",
       "      <th></th>\n",
       "      <th>Station_ID</th>\n",
       "      <th>Station_Name</th>\n",
       "    </tr>\n",
       "  </thead>\n",
       "  <tbody>\n",
       "    <tr>\n",
       "      <th>0</th>\n",
       "      <td>40709</td>\n",
       "      <td>Astara</td>\n",
       "    </tr>\n",
       "    <tr>\n",
       "      <th>1</th>\n",
       "      <td>40718</td>\n",
       "      <td>Bandar-e-anzali</td>\n",
       "    </tr>\n",
       "    <tr>\n",
       "      <th>2</th>\n",
       "      <td>40719</td>\n",
       "      <td>Rasht</td>\n",
       "    </tr>\n",
       "    <tr>\n",
       "      <th>3</th>\n",
       "      <td>40720</td>\n",
       "      <td>Manjil</td>\n",
       "    </tr>\n",
       "    <tr>\n",
       "      <th>4</th>\n",
       "      <td>40732</td>\n",
       "      <td>Ramsar</td>\n",
       "    </tr>\n",
       "    <tr>\n",
       "      <th>5</th>\n",
       "      <td>40734</td>\n",
       "      <td>Nowshahr</td>\n",
       "    </tr>\n",
       "    <tr>\n",
       "      <th>6</th>\n",
       "      <td>40735</td>\n",
       "      <td>Siahbisheh</td>\n",
       "    </tr>\n",
       "    <tr>\n",
       "      <th>7</th>\n",
       "      <td>40736</td>\n",
       "      <td>Babolsar</td>\n",
       "    </tr>\n",
       "    <tr>\n",
       "      <th>8</th>\n",
       "      <td>40737</td>\n",
       "      <td>Gharakhil</td>\n",
       "    </tr>\n",
       "    <tr>\n",
       "      <th>9</th>\n",
       "      <td>40759</td>\n",
       "      <td>Sari</td>\n",
       "    </tr>\n",
       "    <tr>\n",
       "      <th>10</th>\n",
       "      <td>40760</td>\n",
       "      <td>Kiyasar</td>\n",
       "    </tr>\n",
       "    <tr>\n",
       "      <th>11</th>\n",
       "      <td>40788</td>\n",
       "      <td>Sari (dasht-e-naz airport)</td>\n",
       "    </tr>\n",
       "    <tr>\n",
       "      <th>12</th>\n",
       "      <td>40805</td>\n",
       "      <td>Jirandeh</td>\n",
       "    </tr>\n",
       "    <tr>\n",
       "      <th>13</th>\n",
       "      <td>99249</td>\n",
       "      <td>Talesh</td>\n",
       "    </tr>\n",
       "    <tr>\n",
       "      <th>14</th>\n",
       "      <td>99268</td>\n",
       "      <td>Kiyashahr</td>\n",
       "    </tr>\n",
       "    <tr>\n",
       "      <th>15</th>\n",
       "      <td>99276</td>\n",
       "      <td>Lahijan</td>\n",
       "    </tr>\n",
       "    <tr>\n",
       "      <th>16</th>\n",
       "      <td>99281</td>\n",
       "      <td>Masuleh</td>\n",
       "    </tr>\n",
       "    <tr>\n",
       "      <th>17</th>\n",
       "      <td>99299</td>\n",
       "      <td>Galugah</td>\n",
       "    </tr>\n",
       "    <tr>\n",
       "      <th>18</th>\n",
       "      <td>99306</td>\n",
       "      <td>Bandar-e-amirabad</td>\n",
       "    </tr>\n",
       "    <tr>\n",
       "      <th>19</th>\n",
       "      <td>99309</td>\n",
       "      <td>Amol</td>\n",
       "    </tr>\n",
       "    <tr>\n",
       "      <th>20</th>\n",
       "      <td>99348</td>\n",
       "      <td>Kojur</td>\n",
       "    </tr>\n",
       "    <tr>\n",
       "      <th>21</th>\n",
       "      <td>99357</td>\n",
       "      <td>Baladeh</td>\n",
       "    </tr>\n",
       "    <tr>\n",
       "      <th>22</th>\n",
       "      <td>99360</td>\n",
       "      <td>Polsefid</td>\n",
       "    </tr>\n",
       "    <tr>\n",
       "      <th>23</th>\n",
       "      <td>99361</td>\n",
       "      <td>Alasht</td>\n",
       "    </tr>\n",
       "  </tbody>\n",
       "</table>\n",
       "</div>"
      ],
      "text/plain": [
       "   Station_ID                Station_Name\n",
       "0       40709                      Astara\n",
       "1       40718             Bandar-e-anzali\n",
       "2       40719                       Rasht\n",
       "3       40720                      Manjil\n",
       "4       40732                      Ramsar\n",
       "5       40734                    Nowshahr\n",
       "6       40735                  Siahbisheh\n",
       "7       40736                    Babolsar\n",
       "8       40737                   Gharakhil\n",
       "9       40759                        Sari\n",
       "10      40760                     Kiyasar\n",
       "11      40788  Sari (dasht-e-naz airport)\n",
       "12      40805                    Jirandeh\n",
       "13      99249                      Talesh\n",
       "14      99268                   Kiyashahr\n",
       "15      99276                     Lahijan\n",
       "16      99281                     Masuleh\n",
       "17      99299                     Galugah\n",
       "18      99306           Bandar-e-amirabad\n",
       "19      99309                        Amol\n",
       "20      99348                       Kojur\n",
       "21      99357                     Baladeh\n",
       "22      99360                    Polsefid\n",
       "23      99361                      Alasht"
      ]
     },
     "execution_count": 76,
     "metadata": {},
     "output_type": "execute_result"
    }
   ],
   "source": [
    "data[['Station_ID', 'Station_Name']].drop_duplicates().reset_index(drop=True)"
   ]
  },
  {
   "cell_type": "markdown",
   "metadata": {},
   "source": [
    "### Select Stations\n",
    "- Cluster 3 - Bandar-e-anzali:  40718  \n",
    "- Cluster 1 - Gharakhil:        40737  \n",
    "- Cluster 2 - Siahbisheh:       40735  "
   ]
  },
  {
   "cell_type": "code",
   "execution_count": 77,
   "metadata": {},
   "outputs": [],
   "source": [
    "selected_stations = [\"Bandar-e-anzali\", \"Gharakhil\", \"Siahbisheh\"]"
   ]
  },
  {
   "cell_type": "markdown",
   "metadata": {},
   "source": [
    "### Selected Colmns"
   ]
  },
  {
   "cell_type": "code",
   "execution_count": 78,
   "metadata": {},
   "outputs": [],
   "source": [
    "scale = 12\n",
    "di = 'SPEI'\n",
    "\n",
    "sf = [\n",
    "    'Station_ID',\n",
    "    'Station_Name',\n",
    "    'Date',\n",
    "    'NDVI',\n",
    "    'EVI',\n",
    "    'PCI_GPM',\n",
    "    'VCI',\n",
    "    'TCI',\n",
    "    'VHI',\n",
    "    'CI_GPM',\n",
    "    f'{di}_{scale}',\n",
    "    f'GPM_{di}_{scale}'\n",
    "]"
   ]
  },
  {
   "cell_type": "markdown",
   "metadata": {},
   "source": [
    "### Filter Data"
   ]
  },
  {
   "cell_type": "code",
   "execution_count": 79,
   "metadata": {},
   "outputs": [],
   "source": [
    "df = data[sf].query('Station_Name in @selected_stations')"
   ]
  },
  {
   "cell_type": "markdown",
   "metadata": {},
   "source": [
    "### Plot"
   ]
  },
  {
   "cell_type": "code",
   "execution_count": 80,
   "metadata": {},
   "outputs": [
    {
     "data": {
      "image/png": "[encoded data removed]",
      "text/plain": [
       "<Figure size 1200x800 with 2 Axes>"
      ]
     },
     "metadata": {},
     "output_type": "display_data"
    }
   ],
   "source": [
    "df_plot = df.query('Station_Name == \"Gharakhil\"')\n",
    "df_plot.set_index('Date', inplace=True)\n",
    "\n",
    "f, ax = plt.subplots(2, 1, figsize=(12, 8), sharex=True)\n",
    "spei.plot.si(df_plot[f'{di}_{scale}'], ax=ax[0], cmap=\"vik_r\")\n",
    "spei.plot.si(df_plot[f'GPM_{di}_{scale}'], ax=ax[1], cmap=\"vik_r\")\n",
    "ax[0].set_xlim(pd.to_datetime([\"2014\", \"2024\"]))\n",
    "[x.grid() for x in ax]\n",
    "[ax[i].set_ylabel(n, fontsize=14) for i, n in enumerate([f'{di}_{scale}', f'GPM_{di}_{scale}'])];"
   ]
  },
  {
   "cell_type": "markdown",
   "metadata": {},
   "source": [
    "### Calculate Model Evaluator"
   ]
  },
  {
   "cell_type": "code",
   "execution_count": 81,
   "metadata": {},
   "outputs": [
    {
     "name": "stdout",
     "output_type": "stream",
     "text": [
      "\n",
      "Metrics for Station ID: Bandar-e-anzali\n",
      "Model Performance Metrics:\n",
      "Mean Absolute Error (MAE): 0.4612\n",
      "Mean Squared Error (MSE): 0.3247\n",
      "Root Mean Squared Error (RMSE): 0.5698\n",
      "R-squared (R2): 0.6831\n",
      "Explained Variance Score: 0.6838\n",
      "Willmott's Index of Agreement (WI): 0.7168\n",
      "Nash–Sutcliffe Efficiency (NS): 0.6831\n",
      "Mean Absolute Deviation (MAD): 0.4612\n",
      "\n",
      "Metrics for Station ID: Gharakhil\n",
      "Model Performance Metrics:\n",
      "Mean Absolute Error (MAE): 0.4014\n",
      "Mean Squared Error (MSE): 0.2536\n",
      "Root Mean Squared Error (RMSE): 0.5036\n",
      "R-squared (R2): 0.7326\n",
      "Explained Variance Score: 0.7336\n",
      "Willmott's Index of Agreement (WI): 0.7585\n",
      "Nash–Sutcliffe Efficiency (NS): 0.7326\n",
      "Mean Absolute Deviation (MAD): 0.4014\n",
      "\n",
      "Metrics for Station ID: Siahbisheh\n",
      "Model Performance Metrics:\n",
      "Mean Absolute Error (MAE): 0.3828\n",
      "Mean Squared Error (MSE): 0.2197\n",
      "Root Mean Squared Error (RMSE): 0.4688\n",
      "R-squared (R2): 0.7740\n",
      "Explained Variance Score: 0.7749\n",
      "Willmott's Index of Agreement (WI): 0.7614\n",
      "Nash–Sutcliffe Efficiency (NS): 0.7740\n",
      "Mean Absolute Deviation (MAD): 0.3828\n"
     ]
    }
   ],
   "source": [
    "from utils.model_evaluator import ModelEvaluator\n",
    "\n",
    "for st in selected_stations:\n",
    "    print(f\"\\nMetrics for Station ID: {st}\")\n",
    "    ModelEvaluator(df.query('Station_Name == @st'), f'{di}_{scale}', f'GPM_{di}_{scale}').display_metrics()"
   ]
  },
  {
   "cell_type": "code",
   "execution_count": 82,
   "metadata": {},
   "outputs": [
    {
     "data": {
      "application/vnd.plotly.v1+json": {
       "config": {
        "plotlyServerURL": "https://plot.ly"
       },
       "data": [
        {
         "hovertemplate": "SPEI_12=%{x}<br>GPM_SPEI_12=%{y}<extra></extra>",
         "legendgroup": "",
         "marker": {
          "color": "#636efa",
          "symbol": "circle"
         },
         "mode": "markers",
         "name": "",
         "orientation": "v",
         "showlegend": false,
         "type": "scatter",
         "x": [
          null,
          null,
          null,
          null,
          null,
          null,
          null,
          null,
          null,
          null,
          null,
          1.403,
          1.04,
          0.32,
          -0.019,
          -0.999,
          0.267,
          0.373,
          -0.546,
          -1.383,
          -1.395,
          -1.126,
          -1.485,
          -1.004,
          -1.232,
          -0.147,
          -0.095,
          0.715,
          -0.181,
          -0.559,
          -0.332,
          0.254,
          0.232,
          0.017,
          -0.343,
          0.327,
          0.545,
          -0.472,
          -0.27,
          -0.456,
          -0.992,
          -0.737,
          -0.312,
          -0.016,
          -0.119,
          -0.409,
          -0.294,
          -0.825,
          -0.937,
          -0.498,
          -0.363,
          -1.094,
          -0.005,
          0.576,
          0.669,
          0.336,
          0.287,
          0.585,
          0.377,
          1.298,
          1.531,
          2.165,
          2.756,
          2.079,
          2.035,
          1.604,
          1.848,
          1.415,
          1.489,
          1.854,
          2.211,
          1.649,
          1.443,
          0.324,
          -0.102,
          0.723,
          0.685,
          0.633,
          0.617,
          0.585,
          0.622,
          0.169,
          -0.006,
          -0.704,
          -1.361,
          -0.066,
          0.201,
          -0.141,
          0.158,
          0.513,
          0.501,
          0.434,
          0.422,
          0.511,
          0.136,
          -0.149,
          -0.247,
          -0.158,
          -0.456,
          -0.257,
          -0.325,
          0.082,
          0.044,
          0.368,
          0.326,
          0.122,
          0.322,
          0.217,
          0.141,
          -0.05,
          -0.013,
          0.381,
          -0.04,
          -0.267,
          -0.618,
          -0.543,
          -0.712,
          -0.328,
          0.24,
          -0.636,
          0.71,
          0.764,
          1.304,
          1.231,
          1.389,
          1.335,
          1.52,
          1.182,
          1.251,
          1.466,
          1.202,
          0.844,
          0.739,
          0.801,
          0.131,
          -0.211,
          -0.195,
          -0.919,
          -1.474,
          -1.503,
          -1.875,
          -2.043,
          -1.56,
          -0.257,
          -0.754,
          -2.08,
          -1.108,
          -0.659,
          -1.493,
          -0.822,
          -0.056,
          0.482,
          0.5,
          0.543,
          0.687,
          -0.045,
          0.384,
          -0.207,
          0.232,
          0.799,
          1.187,
          1.078,
          1.067,
          0.839,
          0.852,
          0.863,
          0.607,
          1.002,
          0.275,
          0.614,
          0.64,
          0.601,
          0.012,
          -0.296,
          -0.411,
          -1.635,
          -1.606,
          -1.326,
          -0.683,
          -2,
          -1.727,
          -0.538,
          -0.727,
          -1.106,
          -1.091,
          -2.119,
          -1.01,
          -0.649,
          -0.561,
          -0.727,
          -1.889,
          -1.199,
          -0.99,
          -2.477,
          -2.662,
          -2.133,
          -2.069,
          -1.619,
          -2.124,
          -1.857,
          -1.259,
          -1.042,
          0.181,
          0.113,
          0.084,
          0.729,
          0.774,
          0.394,
          0.536,
          0.542,
          0.47,
          0.443,
          0.531,
          0.566
         ],
         "xaxis": "x",
         "y": [
          null,
          null,
          null,
          null,
          null,
          null,
          null,
          null,
          null,
          null,
          null,
          1.201,
          0.925,
          0.642,
          0.348,
          -0.16,
          0.79,
          0.544,
          -0.715,
          -1.373,
          -1.524,
          -1.509,
          -1.719,
          -1.506,
          -1.287,
          -0.509,
          -0.197,
          0.404,
          -0.37,
          -0.755,
          -0.358,
          0.452,
          0.544,
          0.537,
          0.32,
          0.625,
          0.628,
          -0.032,
          0.205,
          -0.368,
          -0.443,
          -0.183,
          0.335,
          0.46,
          0.391,
          0.123,
          0.087,
          -0.513,
          -0.805,
          -0.674,
          -1.094,
          -1.371,
          -0.975,
          -0.596,
          -0.467,
          -0.935,
          -0.987,
          -0.53,
          -0.463,
          0.329,
          1.004,
          1.552,
          2.152,
          1.947,
          1.708,
          1.862,
          2.007,
          1.634,
          1.692,
          1.795,
          1.921,
          1.399,
          1.139,
          0.456,
          -0.144,
          0.388,
          0.27,
          0.071,
          -0.274,
          -0.119,
          -0.028,
          -0.534,
          -0.619,
          -0.892,
          -1.232,
          -0.33,
          0.176,
          0.158,
          0.151,
          0.192,
          0.45,
          0.13,
          -0.086,
          0,
          -0.189,
          -0.594,
          -0.732,
          -0.426,
          -0.278,
          -0.444,
          -0.213,
          0.103,
          0.221,
          0.567,
          0.602,
          0.517,
          0.794,
          0.986,
          0.975,
          1.663,
          1.093,
          1.072,
          1,
          0.747,
          0.563,
          0.377,
          0.421,
          0.771,
          1.041,
          0.465,
          1.103,
          0.918,
          0.93,
          0.961,
          1.019,
          1.436,
          1.439,
          1.121,
          1.11,
          1.077,
          0.542,
          0.285,
          0.168,
          -0.511,
          -1.086,
          -1.389,
          -1.313,
          -1.686,
          -1.985,
          -1.571,
          -1.531,
          -1.653,
          -1.685,
          -1.145,
          -1.355,
          -1.896,
          -0.466,
          0.001,
          -0.455,
          -0.31,
          0.773,
          0.991,
          0.839,
          0.828,
          1.005,
          0.709,
          0.749,
          0.526,
          0.594,
          0.714,
          1.004,
          1.129,
          0.697,
          0.89,
          0.924,
          0.96,
          0.863,
          1.231,
          0.773,
          0.831,
          1.069,
          1.066,
          0.608,
          0.139,
          -0.234,
          -1.046,
          -1.07,
          -1.068,
          -0.586,
          -1.502,
          -1.264,
          -0.419,
          -1.317,
          -1.784,
          -1.871,
          -1.788,
          -1.168,
          -0.71,
          -0.571,
          -0.514,
          -0.983,
          -1.036,
          -0.879,
          -2.109,
          -2.063,
          -1.095,
          -1.177,
          -0.965,
          -1.326,
          -1.182,
          -1.082,
          -0.982,
          -0.441,
          -0.314,
          -0.315,
          -0.156,
          -0.01,
          -0.299,
          null,
          null,
          null,
          null,
          null,
          null
         ],
         "yaxis": "y"
        }
       ],
       "layout": {
        "legend": {
         "tracegroupgap": 0
        },
        "template": {
         "data": {
          "bar": [
           {
            "error_x": {
             "color": "#2a3f5f"
            },
            "error_y": {
             "color": "#2a3f5f"
            },
            "marker": {
             "line": {
              "color": "#E5ECF6",
              "width": 0.5
             },
             "pattern": {
              "fillmode": "overlay",
              "size": 10,
              "solidity": 0.2
             }
            },
            "type": "bar"
           }
          ],
          "barpolar": [
           {
            "marker": {
             "line": {
              "color": "#E5ECF6",
              "width": 0.5
             },
             "pattern": {
              "fillmode": "overlay",
              "size": 10,
              "solidity": 0.2
             }
            },
            "type": "barpolar"
           }
          ],
          "carpet": [
           {
            "aaxis": {
             "endlinecolor": "#2a3f5f",
             "gridcolor": "white",
             "linecolor": "white",
             "minorgridcolor": "white",
             "startlinecolor": "#2a3f5f"
            },
            "baxis": {
             "endlinecolor": "#2a3f5f",
             "gridcolor": "white",
             "linecolor": "white",
             "minorgridcolor": "white",
             "startlinecolor": "#2a3f5f"
            },
            "type": "carpet"
           }
          ],
          "choropleth": [
           {
            "colorbar": {
             "outlinewidth": 0,
             "ticks": ""
            },
            "type": "choropleth"
           }
          ],
          "contour": [
           {
            "colorbar": {
             "outlinewidth": 0,
             "ticks": ""
            },
            "colorscale": [
             [
              0,
              "#0d0887"
             ],
             [
              0.1111111111111111,
              "#46039f"
             ],
             [
              0.2222222222222222,
              "#7201a8"
             ],
             [
              0.3333333333333333,
              "#9c179e"
             ],
             [
              0.4444444444444444,
              "#bd3786"
             ],
             [
              0.5555555555555556,
              "#d8576b"
             ],
             [
              0.6666666666666666,
              "#ed7953"
             ],
             [
              0.7777777777777778,
              "#fb9f3a"
             ],
             [
              0.8888888888888888,
              "#fdca26"
             ],
             [
              1,
              "#f0f921"
             ]
            ],
            "type": "contour"
           }
          ],
          "contourcarpet": [
           {
            "colorbar": {
             "outlinewidth": 0,
             "ticks": ""
            },
            "type": "contourcarpet"
           }
          ],
          "heatmap": [
           {
            "colorbar": {
             "outlinewidth": 0,
             "ticks": ""
            },
            "colorscale": [
             [
              0,
              "#0d0887"
             ],
             [
              0.1111111111111111,
              "#46039f"
             ],
             [
              0.2222222222222222,
              "#7201a8"
             ],
             [
              0.3333333333333333,
              "#9c179e"
             ],
             [
              0.4444444444444444,
              "#bd3786"
             ],
             [
              0.5555555555555556,
              "#d8576b"
             ],
             [
              0.6666666666666666,
              "#ed7953"
             ],
             [
              0.7777777777777778,
              "#fb9f3a"
             ],
             [
              0.8888888888888888,
              "#fdca26"
             ],
             [
              1,
              "#f0f921"
             ]
            ],
            "type": "heatmap"
           }
          ],
          "heatmapgl": [
           {
            "colorbar": {
             "outlinewidth": 0,
             "ticks": ""
            },
            "colorscale": [
             [
              0,
              "#0d0887"
             ],
             [
              0.1111111111111111,
              "#46039f"
             ],
             [
              0.2222222222222222,
              "#7201a8"
             ],
             [
              0.3333333333333333,
              "#9c179e"
             ],
             [
              0.4444444444444444,
              "#bd3786"
             ],
             [
              0.5555555555555556,
              "#d8576b"
             ],
             [
              0.6666666666666666,
              "#ed7953"
             ],
             [
              0.7777777777777778,
              "#fb9f3a"
             ],
             [
              0.8888888888888888,
              "#fdca26"
             ],
             [
              1,
              "#f0f921"
             ]
            ],
            "type": "heatmapgl"
           }
          ],
          "histogram": [
           {
            "marker": {
             "pattern": {
              "fillmode": "overlay",
              "size": 10,
              "solidity": 0.2
             }
            },
            "type": "histogram"
           }
          ],
          "histogram2d": [
           {
            "colorbar": {
             "outlinewidth": 0,
             "ticks": ""
            },
            "colorscale": [
             [
              0,
              "#0d0887"
             ],
             [
              0.1111111111111111,
              "#46039f"
             ],
             [
              0.2222222222222222,
              "#7201a8"
             ],
             [
              0.3333333333333333,
              "#9c179e"
             ],
             [
              0.4444444444444444,
              "#bd3786"
             ],
             [
              0.5555555555555556,
              "#d8576b"
             ],
             [
              0.6666666666666666,
              "#ed7953"
             ],
             [
              0.7777777777777778,
              "#fb9f3a"
             ],
             [
              0.8888888888888888,
              "#fdca26"
             ],
             [
              1,
              "#f0f921"
             ]
            ],
            "type": "histogram2d"
           }
          ],
          "histogram2dcontour": [
           {
            "colorbar": {
             "outlinewidth": 0,
             "ticks": ""
            },
            "colorscale": [
             [
              0,
              "#0d0887"
             ],
             [
              0.1111111111111111,
              "#46039f"
             ],
             [
              0.2222222222222222,
              "#7201a8"
             ],
             [
              0.3333333333333333,
              "#9c179e"
             ],
             [
              0.4444444444444444,
              "#bd3786"
             ],
             [
              0.5555555555555556,
              "#d8576b"
             ],
             [
              0.6666666666666666,
              "#ed7953"
             ],
             [
              0.7777777777777778,
              "#fb9f3a"
             ],
             [
              0.8888888888888888,
              "#fdca26"
             ],
             [
              1,
              "#f0f921"
             ]
            ],
            "type": "histogram2dcontour"
           }
          ],
          "mesh3d": [
           {
            "colorbar": {
             "outlinewidth": 0,
             "ticks": ""
            },
            "type": "mesh3d"
           }
          ],
          "parcoords": [
           {
            "line": {
             "colorbar": {
              "outlinewidth": 0,
              "ticks": ""
             }
            },
            "type": "parcoords"
           }
          ],
          "pie": [
           {
            "automargin": true,
            "type": "pie"
           }
          ],
          "scatter": [
           {
            "fillpattern": {
             "fillmode": "overlay",
             "size": 10,
             "solidity": 0.2
            },
            "type": "scatter"
           }
          ],
          "scatter3d": [
           {
            "line": {
             "colorbar": {
              "outlinewidth": 0,
              "ticks": ""
             }
            },
            "marker": {
             "colorbar": {
              "outlinewidth": 0,
              "ticks": ""
             }
            },
            "type": "scatter3d"
           }
          ],
          "scattercarpet": [
           {
            "marker": {
             "colorbar": {
              "outlinewidth": 0,
              "ticks": ""
             }
            },
            "type": "scattercarpet"
           }
          ],
          "scattergeo": [
           {
            "marker": {
             "colorbar": {
              "outlinewidth": 0,
              "ticks": ""
             }
            },
            "type": "scattergeo"
           }
          ],
          "scattergl": [
           {
            "marker": {
             "colorbar": {
              "outlinewidth": 0,
              "ticks": ""
             }
            },
            "type": "scattergl"
           }
          ],
          "scattermapbox": [
           {
            "marker": {
             "colorbar": {
              "outlinewidth": 0,
              "ticks": ""
             }
            },
            "type": "scattermapbox"
           }
          ],
          "scatterpolar": [
           {
            "marker": {
             "colorbar": {
              "outlinewidth": 0,
              "ticks": ""
             }
            },
            "type": "scatterpolar"
           }
          ],
          "scatterpolargl": [
           {
            "marker": {
             "colorbar": {
              "outlinewidth": 0,
              "ticks": ""
             }
            },
            "type": "scatterpolargl"
           }
          ],
          "scatterternary": [
           {
            "marker": {
             "colorbar": {
              "outlinewidth": 0,
              "ticks": ""
             }
            },
            "type": "scatterternary"
           }
          ],
          "surface": [
           {
            "colorbar": {
             "outlinewidth": 0,
             "ticks": ""
            },
            "colorscale": [
             [
              0,
              "#0d0887"
             ],
             [
              0.1111111111111111,
              "#46039f"
             ],
             [
              0.2222222222222222,
              "#7201a8"
             ],
             [
              0.3333333333333333,
              "#9c179e"
             ],
             [
              0.4444444444444444,
              "#bd3786"
             ],
             [
              0.5555555555555556,
              "#d8576b"
             ],
             [
              0.6666666666666666,
              "#ed7953"
             ],
             [
              0.7777777777777778,
              "#fb9f3a"
             ],
             [
              0.8888888888888888,
              "#fdca26"
             ],
             [
              1,
              "#f0f921"
             ]
            ],
            "type": "surface"
           }
          ],
          "table": [
           {
            "cells": {
             "fill": {
              "color": "#EBF0F8"
             },
             "line": {
              "color": "white"
             }
            },
            "header": {
             "fill": {
              "color": "#C8D4E3"
             },
             "line": {
              "color": "white"
             }
            },
            "type": "table"
           }
          ]
         },
         "layout": {
          "annotationdefaults": {
           "arrowcolor": "#2a3f5f",
           "arrowhead": 0,
           "arrowwidth": 1
          },
          "autotypenumbers": "strict",
          "coloraxis": {
           "colorbar": {
            "outlinewidth": 0,
            "ticks": ""
           }
          },
          "colorscale": {
           "diverging": [
            [
             0,
             "#8e0152"
            ],
            [
             0.1,
             "#c51b7d"
            ],
            [
             0.2,
             "#de77ae"
            ],
            [
             0.3,
             "#f1b6da"
            ],
            [
             0.4,
             "#fde0ef"
            ],
            [
             0.5,
             "#f7f7f7"
            ],
            [
             0.6,
             "#e6f5d0"
            ],
            [
             0.7,
             "#b8e186"
            ],
            [
             0.8,
             "#7fbc41"
            ],
            [
             0.9,
             "#4d9221"
            ],
            [
             1,
             "#276419"
            ]
           ],
           "sequential": [
            [
             0,
             "#0d0887"
            ],
            [
             0.1111111111111111,
             "#46039f"
            ],
            [
             0.2222222222222222,
             "#7201a8"
            ],
            [
             0.3333333333333333,
             "#9c179e"
            ],
            [
             0.4444444444444444,
             "#bd3786"
            ],
            [
             0.5555555555555556,
             "#d8576b"
            ],
            [
             0.6666666666666666,
             "#ed7953"
            ],
            [
             0.7777777777777778,
             "#fb9f3a"
            ],
            [
             0.8888888888888888,
             "#fdca26"
            ],
            [
             1,
             "#f0f921"
            ]
           ],
           "sequentialminus": [
            [
             0,
             "#0d0887"
            ],
            [
             0.1111111111111111,
             "#46039f"
            ],
            [
             0.2222222222222222,
             "#7201a8"
            ],
            [
             0.3333333333333333,
             "#9c179e"
            ],
            [
             0.4444444444444444,
             "#bd3786"
            ],
            [
             0.5555555555555556,
             "#d8576b"
            ],
            [
             0.6666666666666666,
             "#ed7953"
            ],
            [
             0.7777777777777778,
             "#fb9f3a"
            ],
            [
             0.8888888888888888,
             "#fdca26"
            ],
            [
             1,
             "#f0f921"
            ]
           ]
          },
          "colorway": [
           "#636efa",
           "#EF553B",
           "#00cc96",
           "#ab63fa",
           "#FFA15A",
           "#19d3f3",
           "#FF6692",
           "#B6E880",
           "#FF97FF",
           "#FECB52"
          ],
          "font": {
           "color": "#2a3f5f"
          },
          "geo": {
           "bgcolor": "white",
           "lakecolor": "white",
           "landcolor": "#E5ECF6",
           "showlakes": true,
           "showland": true,
           "subunitcolor": "white"
          },
          "hoverlabel": {
           "align": "left"
          },
          "hovermode": "closest",
          "mapbox": {
           "style": "light"
          },
          "paper_bgcolor": "white",
          "plot_bgcolor": "#E5ECF6",
          "polar": {
           "angularaxis": {
            "gridcolor": "white",
            "linecolor": "white",
            "ticks": ""
           },
           "bgcolor": "#E5ECF6",
           "radialaxis": {
            "gridcolor": "white",
            "linecolor": "white",
            "ticks": ""
           }
          },
          "scene": {
           "xaxis": {
            "backgroundcolor": "#E5ECF6",
            "gridcolor": "white",
            "gridwidth": 2,
            "linecolor": "white",
            "showbackground": true,
            "ticks": "",
            "zerolinecolor": "white"
           },
           "yaxis": {
            "backgroundcolor": "#E5ECF6",
            "gridcolor": "white",
            "gridwidth": 2,
            "linecolor": "white",
            "showbackground": true,
            "ticks": "",
            "zerolinecolor": "white"
           },
           "zaxis": {
            "backgroundcolor": "#E5ECF6",
            "gridcolor": "white",
            "gridwidth": 2,
            "linecolor": "white",
            "showbackground": true,
            "ticks": "",
            "zerolinecolor": "white"
           }
          },
          "shapedefaults": {
           "line": {
            "color": "#2a3f5f"
           }
          },
          "ternary": {
           "aaxis": {
            "gridcolor": "white",
            "linecolor": "white",
            "ticks": ""
           },
           "baxis": {
            "gridcolor": "white",
            "linecolor": "white",
            "ticks": ""
           },
           "bgcolor": "#E5ECF6",
           "caxis": {
            "gridcolor": "white",
            "linecolor": "white",
            "ticks": ""
           }
          },
          "title": {
           "x": 0.05
          },
          "xaxis": {
           "automargin": true,
           "gridcolor": "white",
           "linecolor": "white",
           "ticks": "",
           "title": {
            "standoff": 15
           },
           "zerolinecolor": "white",
           "zerolinewidth": 2
          },
          "yaxis": {
           "automargin": true,
           "gridcolor": "white",
           "linecolor": "white",
           "ticks": "",
           "title": {
            "standoff": 15
           },
           "zerolinecolor": "white",
           "zerolinewidth": 2
          }
         }
        },
        "title": {
         "text": "Bandar-e-anzali"
        },
        "xaxis": {
         "anchor": "y",
         "constrain": "domain",
         "domain": [
          0,
          1
         ],
         "range": [
          -2.109,
          2.756
         ],
         "title": {
          "text": "SPEI_12"
         }
        },
        "yaxis": {
         "anchor": "x",
         "domain": [
          0,
          1
         ],
         "range": [
          -2.109,
          2.756
         ],
         "scaleanchor": "x",
         "scaleratio": 1,
         "title": {
          "text": "GPM_SPEI_12"
         }
        }
       }
      },
      "text/html": [
       "<div>                            <div id=\"317c6476-80a4-402a-953d-bc22ae95f6ec\" class=\"plotly-graph-div\" style=\"height:525px; width:100%;\"></div>            <script type=\"text/javascript\">                require([\"plotly\"], function(Plotly) {                    window.PLOTLYENV=window.PLOTLYENV || {};                                    if (document.getElementById(\"317c6476-80a4-402a-953d-bc22ae95f6ec\")) {                    Plotly.newPlot(                        \"317c6476-80a4-402a-953d-bc22ae95f6ec\",                        [{\"hovertemplate\":\"SPEI_12=%{x}\\u003cbr\\u003eGPM_SPEI_12=%{y}\\u003cextra\\u003e\\u003c\\u002fextra\\u003e\",\"legendgroup\":\"\",\"marker\":{\"color\":\"#636efa\",\"symbol\":\"circle\"},\"mode\":\"markers\",\"name\":\"\",\"orientation\":\"v\",\"showlegend\":false,\"x\":[null,null,null,null,null,null,null,null,null,null,null,1.403,1.04,0.32,-0.019,-0.999,0.267,0.373,-0.546,-1.383,-1.395,-1.126,-1.485,-1.004,-1.232,-0.147,-0.095,0.715,-0.181,-0.559,-0.332,0.254,0.232,0.017,-0.343,0.327,0.545,-0.472,-0.27,-0.456,-0.992,-0.737,-0.312,-0.016,-0.119,-0.409,-0.294,-0.825,-0.937,-0.498,-0.363,-1.094,-0.005,0.576,0.669,0.336,0.287,0.585,0.377,1.298,1.531,2.165,2.756,2.079,2.035,1.604,1.848,1.415,1.489,1.854,2.211,1.649,1.443,0.324,-0.102,0.723,0.685,0.633,0.617,0.585,0.622,0.169,-0.006,-0.704,-1.361,-0.066,0.201,-0.141,0.158,0.513,0.501,0.434,0.422,0.511,0.136,-0.149,-0.247,-0.158,-0.456,-0.257,-0.325,0.082,0.044,0.368,0.326,0.122,0.322,0.217,0.141,-0.05,-0.013,0.381,-0.04,-0.267,-0.618,-0.543,-0.712,-0.328,0.24,-0.636,0.71,0.764,1.304,1.231,1.389,1.335,1.52,1.182,1.251,1.466,1.202,0.844,0.739,0.801,0.131,-0.211,-0.195,-0.919,-1.474,-1.503,-1.875,-2.043,-1.56,-0.257,-0.754,-2.08,-1.108,-0.659,-1.493,-0.822,-0.056,0.482,0.5,0.543,0.687,-0.045,0.384,-0.207,0.232,0.799,1.187,1.078,1.067,0.839,0.852,0.863,0.607,1.002,0.275,0.614,0.64,0.601,0.012,-0.296,-0.411,-1.635,-1.606,-1.326,-0.683,-2.0,-1.727,-0.538,-0.727,-1.106,-1.091,-2.119,-1.01,-0.649,-0.561,-0.727,-1.889,-1.199,-0.99,-2.477,-2.662,-2.133,-2.069,-1.619,-2.124,-1.857,-1.259,-1.042,0.181,0.113,0.084,0.729,0.774,0.394,0.536,0.542,0.47,0.443,0.531,0.566],\"xaxis\":\"x\",\"y\":[null,null,null,null,null,null,null,null,null,null,null,1.201,0.925,0.642,0.348,-0.16,0.79,0.544,-0.715,-1.373,-1.524,-1.509,-1.719,-1.506,-1.287,-0.509,-0.197,0.404,-0.37,-0.755,-0.358,0.452,0.544,0.537,0.32,0.625,0.628,-0.032,0.205,-0.368,-0.443,-0.183,0.335,0.46,0.391,0.123,0.087,-0.513,-0.805,-0.674,-1.094,-1.371,-0.975,-0.596,-0.467,-0.935,-0.987,-0.53,-0.463,0.329,1.004,1.552,2.152,1.947,1.708,1.862,2.007,1.634,1.692,1.795,1.921,1.399,1.139,0.456,-0.144,0.388,0.27,0.071,-0.274,-0.119,-0.028,-0.534,-0.619,-0.892,-1.232,-0.33,0.176,0.158,0.151,0.192,0.45,0.13,-0.086,0.0,-0.189,-0.594,-0.732,-0.426,-0.278,-0.444,-0.213,0.103,0.221,0.567,0.602,0.517,0.794,0.986,0.975,1.663,1.093,1.072,1.0,0.747,0.563,0.377,0.421,0.771,1.041,0.465,1.103,0.918,0.93,0.961,1.019,1.436,1.439,1.121,1.11,1.077,0.542,0.285,0.168,-0.511,-1.086,-1.389,-1.313,-1.686,-1.985,-1.571,-1.531,-1.653,-1.685,-1.145,-1.355,-1.896,-0.466,0.001,-0.455,-0.31,0.773,0.991,0.839,0.828,1.005,0.709,0.749,0.526,0.594,0.714,1.004,1.129,0.697,0.89,0.924,0.96,0.863,1.231,0.773,0.831,1.069,1.066,0.608,0.139,-0.234,-1.046,-1.07,-1.068,-0.586,-1.502,-1.264,-0.419,-1.317,-1.784,-1.871,-1.788,-1.168,-0.71,-0.571,-0.514,-0.983,-1.036,-0.879,-2.109,-2.063,-1.095,-1.177,-0.965,-1.326,-1.182,-1.082,-0.982,-0.441,-0.314,-0.315,-0.156,-0.01,-0.299,null,null,null,null,null,null],\"yaxis\":\"y\",\"type\":\"scatter\"}],                        {\"template\":{\"data\":{\"histogram2dcontour\":[{\"type\":\"histogram2dcontour\",\"colorbar\":{\"outlinewidth\":0,\"ticks\":\"\"},\"colorscale\":[[0.0,\"#0d0887\"],[0.1111111111111111,\"#46039f\"],[0.2222222222222222,\"#7201a8\"],[0.3333333333333333,\"#9c179e\"],[0.4444444444444444,\"#bd3786\"],[0.5555555555555556,\"#d8576b\"],[0.6666666666666666,\"#ed7953\"],[0.7777777777777778,\"#fb9f3a\"],[0.8888888888888888,\"#fdca26\"],[1.0,\"#f0f921\"]]}],\"choropleth\":[{\"type\":\"choropleth\",\"colorbar\":{\"outlinewidth\":0,\"ticks\":\"\"}}],\"histogram2d\":[{\"type\":\"histogram2d\",\"colorbar\":{\"outlinewidth\":0,\"ticks\":\"\"},\"colorscale\":[[0.0,\"#0d0887\"],[0.1111111111111111,\"#46039f\"],[0.2222222222222222,\"#7201a8\"],[0.3333333333333333,\"#9c179e\"],[0.4444444444444444,\"#bd3786\"],[0.5555555555555556,\"#d8576b\"],[0.6666666666666666,\"#ed7953\"],[0.7777777777777778,\"#fb9f3a\"],[0.8888888888888888,\"#fdca26\"],[1.0,\"#f0f921\"]]}],\"heatmap\":[{\"type\":\"heatmap\",\"colorbar\":{\"outlinewidth\":0,\"ticks\":\"\"},\"colorscale\":[[0.0,\"#0d0887\"],[0.1111111111111111,\"#46039f\"],[0.2222222222222222,\"#7201a8\"],[0.3333333333333333,\"#9c179e\"],[0.4444444444444444,\"#bd3786\"],[0.5555555555555556,\"#d8576b\"],[0.6666666666666666,\"#ed7953\"],[0.7777777777777778,\"#fb9f3a\"],[0.8888888888888888,\"#fdca26\"],[1.0,\"#f0f921\"]]}],\"heatmapgl\":[{\"type\":\"heatmapgl\",\"colorbar\":{\"outlinewidth\":0,\"ticks\":\"\"},\"colorscale\":[[0.0,\"#0d0887\"],[0.1111111111111111,\"#46039f\"],[0.2222222222222222,\"#7201a8\"],[0.3333333333333333,\"#9c179e\"],[0.4444444444444444,\"#bd3786\"],[0.5555555555555556,\"#d8576b\"],[0.6666666666666666,\"#ed7953\"],[0.7777777777777778,\"#fb9f3a\"],[0.8888888888888888,\"#fdca26\"],[1.0,\"#f0f921\"]]}],\"contourcarpet\":[{\"type\":\"contourcarpet\",\"colorbar\":{\"outlinewidth\":0,\"ticks\":\"\"}}],\"contour\":[{\"type\":\"contour\",\"colorbar\":{\"outlinewidth\":0,\"ticks\":\"\"},\"colorscale\":[[0.0,\"#0d0887\"],[0.1111111111111111,\"#46039f\"],[0.2222222222222222,\"#7201a8\"],[0.3333333333333333,\"#9c179e\"],[0.4444444444444444,\"#bd3786\"],[0.5555555555555556,\"#d8576b\"],[0.6666666666666666,\"#ed7953\"],[0.7777777777777778,\"#fb9f3a\"],[0.8888888888888888,\"#fdca26\"],[1.0,\"#f0f921\"]]}],\"surface\":[{\"type\":\"surface\",\"colorbar\":{\"outlinewidth\":0,\"ticks\":\"\"},\"colorscale\":[[0.0,\"#0d0887\"],[0.1111111111111111,\"#46039f\"],[0.2222222222222222,\"#7201a8\"],[0.3333333333333333,\"#9c179e\"],[0.4444444444444444,\"#bd3786\"],[0.5555555555555556,\"#d8576b\"],[0.6666666666666666,\"#ed7953\"],[0.7777777777777778,\"#fb9f3a\"],[0.8888888888888888,\"#fdca26\"],[1.0,\"#f0f921\"]]}],\"mesh3d\":[{\"type\":\"mesh3d\",\"colorbar\":{\"outlinewidth\":0,\"ticks\":\"\"}}],\"scatter\":[{\"fillpattern\":{\"fillmode\":\"overlay\",\"size\":10,\"solidity\":0.2},\"type\":\"scatter\"}],\"parcoords\":[{\"type\":\"parcoords\",\"line\":{\"colorbar\":{\"outlinewidth\":0,\"ticks\":\"\"}}}],\"scatterpolargl\":[{\"type\":\"scatterpolargl\",\"marker\":{\"colorbar\":{\"outlinewidth\":0,\"ticks\":\"\"}}}],\"bar\":[{\"error_x\":{\"color\":\"#2a3f5f\"},\"error_y\":{\"color\":\"#2a3f5f\"},\"marker\":{\"line\":{\"color\":\"#E5ECF6\",\"width\":0.5},\"pattern\":{\"fillmode\":\"overlay\",\"size\":10,\"solidity\":0.2}},\"type\":\"bar\"}],\"scattergeo\":[{\"type\":\"scattergeo\",\"marker\":{\"colorbar\":{\"outlinewidth\":0,\"ticks\":\"\"}}}],\"scatterpolar\":[{\"type\":\"scatterpolar\",\"marker\":{\"colorbar\":{\"outlinewidth\":0,\"ticks\":\"\"}}}],\"histogram\":[{\"marker\":{\"pattern\":{\"fillmode\":\"overlay\",\"size\":10,\"solidity\":0.2}},\"type\":\"histogram\"}],\"scattergl\":[{\"type\":\"scattergl\",\"marker\":{\"colorbar\":{\"outlinewidth\":0,\"ticks\":\"\"}}}],\"scatter3d\":[{\"type\":\"scatter3d\",\"line\":{\"colorbar\":{\"outlinewidth\":0,\"ticks\":\"\"}},\"marker\":{\"colorbar\":{\"outlinewidth\":0,\"ticks\":\"\"}}}],\"scattermapbox\":[{\"type\":\"scattermapbox\",\"marker\":{\"colorbar\":{\"outlinewidth\":0,\"ticks\":\"\"}}}],\"scatterternary\":[{\"type\":\"scatterternary\",\"marker\":{\"colorbar\":{\"outlinewidth\":0,\"ticks\":\"\"}}}],\"scattercarpet\":[{\"type\":\"scattercarpet\",\"marker\":{\"colorbar\":{\"outlinewidth\":0,\"ticks\":\"\"}}}],\"carpet\":[{\"aaxis\":{\"endlinecolor\":\"#2a3f5f\",\"gridcolor\":\"white\",\"linecolor\":\"white\",\"minorgridcolor\":\"white\",\"startlinecolor\":\"#2a3f5f\"},\"baxis\":{\"endlinecolor\":\"#2a3f5f\",\"gridcolor\":\"white\",\"linecolor\":\"white\",\"minorgridcolor\":\"white\",\"startlinecolor\":\"#2a3f5f\"},\"type\":\"carpet\"}],\"table\":[{\"cells\":{\"fill\":{\"color\":\"#EBF0F8\"},\"line\":{\"color\":\"white\"}},\"header\":{\"fill\":{\"color\":\"#C8D4E3\"},\"line\":{\"color\":\"white\"}},\"type\":\"table\"}],\"barpolar\":[{\"marker\":{\"line\":{\"color\":\"#E5ECF6\",\"width\":0.5},\"pattern\":{\"fillmode\":\"overlay\",\"size\":10,\"solidity\":0.2}},\"type\":\"barpolar\"}],\"pie\":[{\"automargin\":true,\"type\":\"pie\"}]},\"layout\":{\"autotypenumbers\":\"strict\",\"colorway\":[\"#636efa\",\"#EF553B\",\"#00cc96\",\"#ab63fa\",\"#FFA15A\",\"#19d3f3\",\"#FF6692\",\"#B6E880\",\"#FF97FF\",\"#FECB52\"],\"font\":{\"color\":\"#2a3f5f\"},\"hovermode\":\"closest\",\"hoverlabel\":{\"align\":\"left\"},\"paper_bgcolor\":\"white\",\"plot_bgcolor\":\"#E5ECF6\",\"polar\":{\"bgcolor\":\"#E5ECF6\",\"angularaxis\":{\"gridcolor\":\"white\",\"linecolor\":\"white\",\"ticks\":\"\"},\"radialaxis\":{\"gridcolor\":\"white\",\"linecolor\":\"white\",\"ticks\":\"\"}},\"ternary\":{\"bgcolor\":\"#E5ECF6\",\"aaxis\":{\"gridcolor\":\"white\",\"linecolor\":\"white\",\"ticks\":\"\"},\"baxis\":{\"gridcolor\":\"white\",\"linecolor\":\"white\",\"ticks\":\"\"},\"caxis\":{\"gridcolor\":\"white\",\"linecolor\":\"white\",\"ticks\":\"\"}},\"coloraxis\":{\"colorbar\":{\"outlinewidth\":0,\"ticks\":\"\"}},\"colorscale\":{\"sequential\":[[0.0,\"#0d0887\"],[0.1111111111111111,\"#46039f\"],[0.2222222222222222,\"#7201a8\"],[0.3333333333333333,\"#9c179e\"],[0.4444444444444444,\"#bd3786\"],[0.5555555555555556,\"#d8576b\"],[0.6666666666666666,\"#ed7953\"],[0.7777777777777778,\"#fb9f3a\"],[0.8888888888888888,\"#fdca26\"],[1.0,\"#f0f921\"]],\"sequentialminus\":[[0.0,\"#0d0887\"],[0.1111111111111111,\"#46039f\"],[0.2222222222222222,\"#7201a8\"],[0.3333333333333333,\"#9c179e\"],[0.4444444444444444,\"#bd3786\"],[0.5555555555555556,\"#d8576b\"],[0.6666666666666666,\"#ed7953\"],[0.7777777777777778,\"#fb9f3a\"],[0.8888888888888888,\"#fdca26\"],[1.0,\"#f0f921\"]],\"diverging\":[[0,\"#8e0152\"],[0.1,\"#c51b7d\"],[0.2,\"#de77ae\"],[0.3,\"#f1b6da\"],[0.4,\"#fde0ef\"],[0.5,\"#f7f7f7\"],[0.6,\"#e6f5d0\"],[0.7,\"#b8e186\"],[0.8,\"#7fbc41\"],[0.9,\"#4d9221\"],[1,\"#276419\"]]},\"xaxis\":{\"gridcolor\":\"white\",\"linecolor\":\"white\",\"ticks\":\"\",\"title\":{\"standoff\":15},\"zerolinecolor\":\"white\",\"automargin\":true,\"zerolinewidth\":2},\"yaxis\":{\"gridcolor\":\"white\",\"linecolor\":\"white\",\"ticks\":\"\",\"title\":{\"standoff\":15},\"zerolinecolor\":\"white\",\"automargin\":true,\"zerolinewidth\":2},\"scene\":{\"xaxis\":{\"backgroundcolor\":\"#E5ECF6\",\"gridcolor\":\"white\",\"linecolor\":\"white\",\"showbackground\":true,\"ticks\":\"\",\"zerolinecolor\":\"white\",\"gridwidth\":2},\"yaxis\":{\"backgroundcolor\":\"#E5ECF6\",\"gridcolor\":\"white\",\"linecolor\":\"white\",\"showbackground\":true,\"ticks\":\"\",\"zerolinecolor\":\"white\",\"gridwidth\":2},\"zaxis\":{\"backgroundcolor\":\"#E5ECF6\",\"gridcolor\":\"white\",\"linecolor\":\"white\",\"showbackground\":true,\"ticks\":\"\",\"zerolinecolor\":\"white\",\"gridwidth\":2}},\"shapedefaults\":{\"line\":{\"color\":\"#2a3f5f\"}},\"annotationdefaults\":{\"arrowcolor\":\"#2a3f5f\",\"arrowhead\":0,\"arrowwidth\":1},\"geo\":{\"bgcolor\":\"white\",\"landcolor\":\"#E5ECF6\",\"subunitcolor\":\"white\",\"showland\":true,\"showlakes\":true,\"lakecolor\":\"white\"},\"title\":{\"x\":0.05},\"mapbox\":{\"style\":\"light\"}}},\"xaxis\":{\"anchor\":\"y\",\"domain\":[0.0,1.0],\"title\":{\"text\":\"SPEI_12\"},\"range\":[-2.109,2.756],\"constrain\":\"domain\"},\"yaxis\":{\"anchor\":\"x\",\"domain\":[0.0,1.0],\"title\":{\"text\":\"GPM_SPEI_12\"},\"range\":[-2.109,2.756],\"scaleanchor\":\"x\",\"scaleratio\":1},\"legend\":{\"tracegroupgap\":0},\"title\":{\"text\":\"Bandar-e-anzali\"}},                        {\"responsive\": true}                    ).then(function(){\n",
       "                            \n",
       "var gd = document.getElementById('317c6476-80a4-402a-953d-bc22ae95f6ec');\n",
       "var x = new MutationObserver(function (mutations, observer) {{\n",
       "        var display = window.getComputedStyle(gd).display;\n",
       "        if (!display || display === 'none') {{\n",
       "            console.log([gd, 'removed!']);\n",
       "            Plotly.purge(gd);\n",
       "            observer.disconnect();\n",
       "        }}\n",
       "}});\n",
       "\n",
       "// Listen for the removal of the full notebook cells\n",
       "var notebookContainer = gd.closest('#notebook-container');\n",
       "if (notebookContainer) {{\n",
       "    x.observe(notebookContainer, {childList: true});\n",
       "}}\n",
       "\n",
       "// Listen for the clearing of the current output cell\n",
       "var outputEl = gd.closest('.output');\n",
       "if (outputEl) {{\n",
       "    x.observe(outputEl, {childList: true});\n",
       "}}\n",
       "\n",
       "                        })                };                });            </script>        </div>"
      ]
     },
     "metadata": {},
     "output_type": "display_data"
    },
    {
     "data": {
      "application/vnd.plotly.v1+json": {
       "config": {
        "plotlyServerURL": "https://plot.ly"
       },
       "data": [
        {
         "hovertemplate": "SPEI_12=%{x}<br>GPM_SPEI_12=%{y}<extra></extra>",
         "legendgroup": "",
         "marker": {
          "color": "#636efa",
          "symbol": "circle"
         },
         "mode": "markers",
         "name": "",
         "orientation": "v",
         "showlegend": false,
         "type": "scatter",
         "x": [
          null,
          null,
          null,
          null,
          null,
          null,
          null,
          null,
          null,
          null,
          null,
          1.5,
          1.387,
          1.587,
          1.161,
          0.834,
          0.926,
          0.771,
          -0.509,
          -0.972,
          -0.856,
          -0.983,
          -1.243,
          -1.295,
          -0.968,
          -0.287,
          -0.594,
          -0.394,
          -0.43,
          -0.32,
          0.395,
          1.017,
          1.067,
          1.077,
          0.832,
          1.203,
          1.58,
          1.385,
          1.37,
          1.328,
          1.573,
          1.7,
          1.852,
          1.714,
          1.661,
          1.541,
          1.359,
          0.92,
          -0.225,
          -0.206,
          -1.479,
          -1.62,
          -1.164,
          -1.049,
          -0.669,
          -0.926,
          -0.913,
          -0.514,
          -0.543,
          -0.14,
          0.403,
          1.293,
          1.193,
          1.304,
          1.292,
          1.291,
          1.478,
          1.242,
          0.988,
          0.803,
          0.898,
          0.366,
          0.47,
          -0.639,
          0.118,
          0.431,
          0.276,
          0.082,
          -0.087,
          0.266,
          0.38,
          0.415,
          0.316,
          0.339,
          0.054,
          0.532,
          0.376,
          0.392,
          0.211,
          0.133,
          0.145,
          -0.155,
          -0.31,
          -0.191,
          -0.205,
          -0.671,
          -0.438,
          -0.406,
          -0.387,
          -0.904,
          -0.776,
          -0.658,
          -0.611,
          -0.584,
          -0.618,
          -0.808,
          -0.599,
          -0.352,
          -0.444,
          -0.49,
          0.073,
          0.178,
          0.061,
          0.55,
          0.551,
          0.789,
          1.1,
          1.42,
          1.433,
          1.031,
          1.274,
          0.969,
          0.839,
          0.764,
          0.834,
          0.636,
          0.364,
          0.313,
          -0.113,
          -0.439,
          -1.028,
          -1.155,
          -1.746,
          -1.74,
          -1.943,
          -1.782,
          -1.261,
          -1.897,
          -1.831,
          -1.666,
          -1.732,
          -1.787,
          -1.57,
          -1.2,
          -1.351,
          -1.141,
          -0.904,
          -0.714,
          -0.931,
          -0.489,
          0.278,
          0.665,
          0.69,
          0.546,
          0.904,
          0.531,
          1,
          0.523,
          1.183,
          1.179,
          1.051,
          1.307,
          1.332,
          1.017,
          1.068,
          1.185,
          0.851,
          1.109,
          0.687,
          0.702,
          0.171,
          0.616,
          0.656,
          -0.018,
          -0.192,
          -0.744,
          -0.495,
          -0.38,
          -0.206,
          -0.927,
          -0.256,
          0.131,
          0.258,
          -0.315,
          0.051,
          0.224,
          0.272,
          0.177,
          0.253,
          0.231,
          0.007,
          0.083,
          -0.15,
          -0.738,
          -1.063,
          -0.74,
          -1.822,
          -1.529,
          -1.652,
          -1.368,
          -1.46,
          -1.4,
          -1.396,
          -1.536,
          -1.39,
          -1.464,
          -0.83,
          -1.047,
          -0.798,
          -0.976,
          -1.202,
          -0.816,
          -0.751,
          -0.677
         ],
         "xaxis": "x",
         "y": [
          null,
          null,
          null,
          null,
          null,
          null,
          null,
          null,
          null,
          null,
          null,
          1.341,
          1.102,
          1.229,
          0.829,
          0.524,
          0.967,
          0.681,
          -0.695,
          -1.086,
          -1.189,
          -1.219,
          -1.336,
          -1.33,
          -1.209,
          -0.563,
          -0.622,
          -0.366,
          -0.706,
          -0.583,
          0.107,
          0.759,
          1.017,
          1.166,
          1.035,
          1.349,
          1.268,
          1.165,
          1.311,
          0.902,
          0.881,
          1.119,
          1.004,
          0.855,
          0.695,
          0.284,
          0.295,
          -0.051,
          -0.401,
          -0.492,
          -1.064,
          -1.225,
          -1.005,
          -0.828,
          -0.412,
          -0.832,
          -0.748,
          -0.277,
          -0.192,
          0.272,
          0.648,
          1.481,
          1.817,
          1.832,
          1.814,
          1.781,
          1.704,
          1.417,
          1.369,
          1.482,
          1.601,
          1.13,
          1.064,
          0.509,
          0.504,
          0.923,
          0.637,
          0.351,
          0.139,
          0.275,
          0.68,
          0.368,
          0.31,
          0.184,
          0.16,
          0.491,
          0.014,
          0.203,
          0.236,
          0.305,
          0.619,
          0.309,
          0.147,
          0.46,
          0.477,
          -0.088,
          -0.147,
          -0.017,
          0.008,
          -0.542,
          -0.583,
          -0.301,
          -0.153,
          -0.21,
          -0.413,
          -0.837,
          -0.448,
          -0.266,
          0.14,
          0.18,
          0.084,
          0.283,
          0.235,
          0.164,
          0.089,
          0.429,
          0.679,
          0.978,
          0.893,
          0.503,
          0.677,
          0.104,
          0.313,
          0.396,
          0.476,
          0.629,
          0.271,
          0.354,
          0.055,
          -0.134,
          -0.401,
          -0.612,
          -0.762,
          -0.983,
          -0.955,
          -1.176,
          -1.021,
          -1.314,
          -1.578,
          -1.463,
          -1.245,
          -1.188,
          -1.291,
          -0.984,
          -1.215,
          -1.081,
          -0.557,
          -0.323,
          -0.62,
          -0.141,
          0.951,
          0.961,
          0.79,
          0.807,
          1.021,
          0.954,
          1.003,
          0.81,
          1.347,
          1.308,
          1.248,
          1.527,
          1.149,
          1.032,
          1.165,
          1.179,
          1.1,
          1.258,
          1.032,
          0.975,
          0.6,
          0.736,
          0.266,
          -0.478,
          -0.839,
          -1.277,
          -1.126,
          -1.128,
          -0.853,
          -1.418,
          -1.522,
          -1.287,
          -1.229,
          -1.491,
          -1.009,
          -0.931,
          -0.759,
          -0.471,
          -0.583,
          -0.541,
          -0.751,
          -0.897,
          -0.915,
          -1.776,
          -1.948,
          -1.519,
          -1.886,
          -1.942,
          -2.042,
          -1.819,
          -1.796,
          -1.575,
          -1.621,
          -1.39,
          -1.28,
          -1.045,
          -0.429,
          -0.557,
          null,
          null,
          null,
          null,
          null,
          null
         ],
         "yaxis": "y"
        }
       ],
       "layout": {
        "legend": {
         "tracegroupgap": 0
        },
        "template": {
         "data": {
          "bar": [
           {
            "error_x": {
             "color": "#2a3f5f"
            },
            "error_y": {
             "color": "#2a3f5f"
            },
            "marker": {
             "line": {
              "color": "#E5ECF6",
              "width": 0.5
             },
             "pattern": {
              "fillmode": "overlay",
              "size": 10,
              "solidity": 0.2
             }
            },
            "type": "bar"
           }
          ],
          "barpolar": [
           {
            "marker": {
             "line": {
              "color": "#E5ECF6",
              "width": 0.5
             },
             "pattern": {
              "fillmode": "overlay",
              "size": 10,
              "solidity": 0.2
             }
            },
            "type": "barpolar"
           }
          ],
          "carpet": [
           {
            "aaxis": {
             "endlinecolor": "#2a3f5f",
             "gridcolor": "white",
             "linecolor": "white",
             "minorgridcolor": "white",
             "startlinecolor": "#2a3f5f"
            },
            "baxis": {
             "endlinecolor": "#2a3f5f",
             "gridcolor": "white",
             "linecolor": "white",
             "minorgridcolor": "white",
             "startlinecolor": "#2a3f5f"
            },
            "type": "carpet"
           }
          ],
          "choropleth": [
           {
            "colorbar": {
             "outlinewidth": 0,
             "ticks": ""
            },
            "type": "choropleth"
           }
          ],
          "contour": [
           {
            "colorbar": {
             "outlinewidth": 0,
             "ticks": ""
            },
            "colorscale": [
             [
              0,
              "#0d0887"
             ],
             [
              0.1111111111111111,
              "#46039f"
             ],
             [
              0.2222222222222222,
              "#7201a8"
             ],
             [
              0.3333333333333333,
              "#9c179e"
             ],
             [
              0.4444444444444444,
              "#bd3786"
             ],
             [
              0.5555555555555556,
              "#d8576b"
             ],
             [
              0.6666666666666666,
              "#ed7953"
             ],
             [
              0.7777777777777778,
              "#fb9f3a"
             ],
             [
              0.8888888888888888,
              "#fdca26"
             ],
             [
              1,
              "#f0f921"
             ]
            ],
            "type": "contour"
           }
          ],
          "contourcarpet": [
           {
            "colorbar": {
             "outlinewidth": 0,
             "ticks": ""
            },
            "type": "contourcarpet"
           }
          ],
          "heatmap": [
           {
            "colorbar": {
             "outlinewidth": 0,
             "ticks": ""
            },
            "colorscale": [
             [
              0,
              "#0d0887"
             ],
             [
              0.1111111111111111,
              "#46039f"
             ],
             [
              0.2222222222222222,
              "#7201a8"
             ],
             [
              0.3333333333333333,
              "#9c179e"
             ],
             [
              0.4444444444444444,
              "#bd3786"
             ],
             [
              0.5555555555555556,
              "#d8576b"
             ],
             [
              0.6666666666666666,
              "#ed7953"
             ],
             [
              0.7777777777777778,
              "#fb9f3a"
             ],
             [
              0.8888888888888888,
              "#fdca26"
             ],
             [
              1,
              "#f0f921"
             ]
            ],
            "type": "heatmap"
           }
          ],
          "heatmapgl": [
           {
            "colorbar": {
             "outlinewidth": 0,
             "ticks": ""
            },
            "colorscale": [
             [
              0,
              "#0d0887"
             ],
             [
              0.1111111111111111,
              "#46039f"
             ],
             [
              0.2222222222222222,
              "#7201a8"
             ],
             [
              0.3333333333333333,
              "#9c179e"
             ],
             [
              0.4444444444444444,
              "#bd3786"
             ],
             [
              0.5555555555555556,
              "#d8576b"
             ],
             [
              0.6666666666666666,
              "#ed7953"
             ],
             [
              0.7777777777777778,
              "#fb9f3a"
             ],
             [
              0.8888888888888888,
              "#fdca26"
             ],
             [
              1,
              "#f0f921"
             ]
            ],
            "type": "heatmapgl"
           }
          ],
          "histogram": [
           {
            "marker": {
             "pattern": {
              "fillmode": "overlay",
              "size": 10,
              "solidity": 0.2
             }
            },
            "type": "histogram"
           }
          ],
          "histogram2d": [
           {
            "colorbar": {
             "outlinewidth": 0,
             "ticks": ""
            },
            "colorscale": [
             [
              0,
              "#0d0887"
             ],
             [
              0.1111111111111111,
              "#46039f"
             ],
             [
              0.2222222222222222,
              "#7201a8"
             ],
             [
              0.3333333333333333,
              "#9c179e"
             ],
             [
              0.4444444444444444,
              "#bd3786"
             ],
             [
              0.5555555555555556,
              "#d8576b"
             ],
             [
              0.6666666666666666,
              "#ed7953"
             ],
             [
              0.7777777777777778,
              "#fb9f3a"
             ],
             [
              0.8888888888888888,
              "#fdca26"
             ],
             [
              1,
              "#f0f921"
             ]
            ],
            "type": "histogram2d"
           }
          ],
          "histogram2dcontour": [
           {
            "colorbar": {
             "outlinewidth": 0,
             "ticks": ""
            },
            "colorscale": [
             [
              0,
              "#0d0887"
             ],
             [
              0.1111111111111111,
              "#46039f"
             ],
             [
              0.2222222222222222,
              "#7201a8"
             ],
             [
              0.3333333333333333,
              "#9c179e"
             ],
             [
              0.4444444444444444,
              "#bd3786"
             ],
             [
              0.5555555555555556,
              "#d8576b"
             ],
             [
              0.6666666666666666,
              "#ed7953"
             ],
             [
              0.7777777777777778,
              "#fb9f3a"
             ],
             [
              0.8888888888888888,
              "#fdca26"
             ],
             [
              1,
              "#f0f921"
             ]
            ],
            "type": "histogram2dcontour"
           }
          ],
          "mesh3d": [
           {
            "colorbar": {
             "outlinewidth": 0,
             "ticks": ""
            },
            "type": "mesh3d"
           }
          ],
          "parcoords": [
           {
            "line": {
             "colorbar": {
              "outlinewidth": 0,
              "ticks": ""
             }
            },
            "type": "parcoords"
           }
          ],
          "pie": [
           {
            "automargin": true,
            "type": "pie"
           }
          ],
          "scatter": [
           {
            "fillpattern": {
             "fillmode": "overlay",
             "size": 10,
             "solidity": 0.2
            },
            "type": "scatter"
           }
          ],
          "scatter3d": [
           {
            "line": {
             "colorbar": {
              "outlinewidth": 0,
              "ticks": ""
             }
            },
            "marker": {
             "colorbar": {
              "outlinewidth": 0,
              "ticks": ""
             }
            },
            "type": "scatter3d"
           }
          ],
          "scattercarpet": [
           {
            "marker": {
             "colorbar": {
              "outlinewidth": 0,
              "ticks": ""
             }
            },
            "type": "scattercarpet"
           }
          ],
          "scattergeo": [
           {
            "marker": {
             "colorbar": {
              "outlinewidth": 0,
              "ticks": ""
             }
            },
            "type": "scattergeo"
           }
          ],
          "scattergl": [
           {
            "marker": {
             "colorbar": {
              "outlinewidth": 0,
              "ticks": ""
             }
            },
            "type": "scattergl"
           }
          ],
          "scattermapbox": [
           {
            "marker": {
             "colorbar": {
              "outlinewidth": 0,
              "ticks": ""
             }
            },
            "type": "scattermapbox"
           }
          ],
          "scatterpolar": [
           {
            "marker": {
             "colorbar": {
              "outlinewidth": 0,
              "ticks": ""
             }
            },
            "type": "scatterpolar"
           }
          ],
          "scatterpolargl": [
           {
            "marker": {
             "colorbar": {
              "outlinewidth": 0,
              "ticks": ""
             }
            },
            "type": "scatterpolargl"
           }
          ],
          "scatterternary": [
           {
            "marker": {
             "colorbar": {
              "outlinewidth": 0,
              "ticks": ""
             }
            },
            "type": "scatterternary"
           }
          ],
          "surface": [
           {
            "colorbar": {
             "outlinewidth": 0,
             "ticks": ""
            },
            "colorscale": [
             [
              0,
              "#0d0887"
             ],
             [
              0.1111111111111111,
              "#46039f"
             ],
             [
              0.2222222222222222,
              "#7201a8"
             ],
             [
              0.3333333333333333,
              "#9c179e"
             ],
             [
              0.4444444444444444,
              "#bd3786"
             ],
             [
              0.5555555555555556,
              "#d8576b"
             ],
             [
              0.6666666666666666,
              "#ed7953"
             ],
             [
              0.7777777777777778,
              "#fb9f3a"
             ],
             [
              0.8888888888888888,
              "#fdca26"
             ],
             [
              1,
              "#f0f921"
             ]
            ],
            "type": "surface"
           }
          ],
          "table": [
           {
            "cells": {
             "fill": {
              "color": "#EBF0F8"
             },
             "line": {
              "color": "white"
             }
            },
            "header": {
             "fill": {
              "color": "#C8D4E3"
             },
             "line": {
              "color": "white"
             }
            },
            "type": "table"
           }
          ]
         },
         "layout": {
          "annotationdefaults": {
           "arrowcolor": "#2a3f5f",
           "arrowhead": 0,
           "arrowwidth": 1
          },
          "autotypenumbers": "strict",
          "coloraxis": {
           "colorbar": {
            "outlinewidth": 0,
            "ticks": ""
           }
          },
          "colorscale": {
           "diverging": [
            [
             0,
             "#8e0152"
            ],
            [
             0.1,
             "#c51b7d"
            ],
            [
             0.2,
             "#de77ae"
            ],
            [
             0.3,
             "#f1b6da"
            ],
            [
             0.4,
             "#fde0ef"
            ],
            [
             0.5,
             "#f7f7f7"
            ],
            [
             0.6,
             "#e6f5d0"
            ],
            [
             0.7,
             "#b8e186"
            ],
            [
             0.8,
             "#7fbc41"
            ],
            [
             0.9,
             "#4d9221"
            ],
            [
             1,
             "#276419"
            ]
           ],
           "sequential": [
            [
             0,
             "#0d0887"
            ],
            [
             0.1111111111111111,
             "#46039f"
            ],
            [
             0.2222222222222222,
             "#7201a8"
            ],
            [
             0.3333333333333333,
             "#9c179e"
            ],
            [
             0.4444444444444444,
             "#bd3786"
            ],
            [
             0.5555555555555556,
             "#d8576b"
            ],
            [
             0.6666666666666666,
             "#ed7953"
            ],
            [
             0.7777777777777778,
             "#fb9f3a"
            ],
            [
             0.8888888888888888,
             "#fdca26"
            ],
            [
             1,
             "#f0f921"
            ]
           ],
           "sequentialminus": [
            [
             0,
             "#0d0887"
            ],
            [
             0.1111111111111111,
             "#46039f"
            ],
            [
             0.2222222222222222,
             "#7201a8"
            ],
            [
             0.3333333333333333,
             "#9c179e"
            ],
            [
             0.4444444444444444,
             "#bd3786"
            ],
            [
             0.5555555555555556,
             "#d8576b"
            ],
            [
             0.6666666666666666,
             "#ed7953"
            ],
            [
             0.7777777777777778,
             "#fb9f3a"
            ],
            [
             0.8888888888888888,
             "#fdca26"
            ],
            [
             1,
             "#f0f921"
            ]
           ]
          },
          "colorway": [
           "#636efa",
           "#EF553B",
           "#00cc96",
           "#ab63fa",
           "#FFA15A",
           "#19d3f3",
           "#FF6692",
           "#B6E880",
           "#FF97FF",
           "#FECB52"
          ],
          "font": {
           "color": "#2a3f5f"
          },
          "geo": {
           "bgcolor": "white",
           "lakecolor": "white",
           "landcolor": "#E5ECF6",
           "showlakes": true,
           "showland": true,
           "subunitcolor": "white"
          },
          "hoverlabel": {
           "align": "left"
          },
          "hovermode": "closest",
          "mapbox": {
           "style": "light"
          },
          "paper_bgcolor": "white",
          "plot_bgcolor": "#E5ECF6",
          "polar": {
           "angularaxis": {
            "gridcolor": "white",
            "linecolor": "white",
            "ticks": ""
           },
           "bgcolor": "#E5ECF6",
           "radialaxis": {
            "gridcolor": "white",
            "linecolor": "white",
            "ticks": ""
           }
          },
          "scene": {
           "xaxis": {
            "backgroundcolor": "#E5ECF6",
            "gridcolor": "white",
            "gridwidth": 2,
            "linecolor": "white",
            "showbackground": true,
            "ticks": "",
            "zerolinecolor": "white"
           },
           "yaxis": {
            "backgroundcolor": "#E5ECF6",
            "gridcolor": "white",
            "gridwidth": 2,
            "linecolor": "white",
            "showbackground": true,
            "ticks": "",
            "zerolinecolor": "white"
           },
           "zaxis": {
            "backgroundcolor": "#E5ECF6",
            "gridcolor": "white",
            "gridwidth": 2,
            "linecolor": "white",
            "showbackground": true,
            "ticks": "",
            "zerolinecolor": "white"
           }
          },
          "shapedefaults": {
           "line": {
            "color": "#2a3f5f"
           }
          },
          "ternary": {
           "aaxis": {
            "gridcolor": "white",
            "linecolor": "white",
            "ticks": ""
           },
           "baxis": {
            "gridcolor": "white",
            "linecolor": "white",
            "ticks": ""
           },
           "bgcolor": "#E5ECF6",
           "caxis": {
            "gridcolor": "white",
            "linecolor": "white",
            "ticks": ""
           }
          },
          "title": {
           "x": 0.05
          },
          "xaxis": {
           "automargin": true,
           "gridcolor": "white",
           "linecolor": "white",
           "ticks": "",
           "title": {
            "standoff": 15
           },
           "zerolinecolor": "white",
           "zerolinewidth": 2
          },
          "yaxis": {
           "automargin": true,
           "gridcolor": "white",
           "linecolor": "white",
           "ticks": "",
           "title": {
            "standoff": 15
           },
           "zerolinecolor": "white",
           "zerolinewidth": 2
          }
         }
        },
        "title": {
         "text": "Gharakhil"
        },
        "xaxis": {
         "anchor": "y",
         "constrain": "domain",
         "domain": [
          0,
          1
         ],
         "range": [
          -1.943,
          1.852
         ],
         "title": {
          "text": "SPEI_12"
         }
        },
        "yaxis": {
         "anchor": "x",
         "domain": [
          0,
          1
         ],
         "range": [
          -1.943,
          1.852
         ],
         "scaleanchor": "x",
         "scaleratio": 1,
         "title": {
          "text": "GPM_SPEI_12"
         }
        }
       }
      },
      "text/html": [
       "<div>                            <div id=\"23c4efe4-b36a-4218-9674-b5df64d899da\" class=\"plotly-graph-div\" style=\"height:525px; width:100%;\"></div>            <script type=\"text/javascript\">                require([\"plotly\"], function(Plotly) {                    window.PLOTLYENV=window.PLOTLYENV || {};                                    if (document.getElementById(\"23c4efe4-b36a-4218-9674-b5df64d899da\")) {                    Plotly.newPlot(                        \"23c4efe4-b36a-4218-9674-b5df64d899da\",                        [{\"hovertemplate\":\"SPEI_12=%{x}\\u003cbr\\u003eGPM_SPEI_12=%{y}\\u003cextra\\u003e\\u003c\\u002fextra\\u003e\",\"legendgroup\":\"\",\"marker\":{\"color\":\"#636efa\",\"symbol\":\"circle\"},\"mode\":\"markers\",\"name\":\"\",\"orientation\":\"v\",\"showlegend\":false,\"x\":[null,null,null,null,null,null,null,null,null,null,null,1.5,1.387,1.587,1.161,0.834,0.926,0.771,-0.509,-0.972,-0.856,-0.983,-1.243,-1.295,-0.968,-0.287,-0.594,-0.394,-0.43,-0.32,0.395,1.017,1.067,1.077,0.832,1.203,1.58,1.385,1.37,1.328,1.573,1.7,1.852,1.714,1.661,1.541,1.359,0.92,-0.225,-0.206,-1.479,-1.62,-1.164,-1.049,-0.669,-0.926,-0.913,-0.514,-0.543,-0.14,0.403,1.293,1.193,1.304,1.292,1.291,1.478,1.242,0.988,0.803,0.898,0.366,0.47,-0.639,0.118,0.431,0.276,0.082,-0.087,0.266,0.38,0.415,0.316,0.339,0.054,0.532,0.376,0.392,0.211,0.133,0.145,-0.155,-0.31,-0.191,-0.205,-0.671,-0.438,-0.406,-0.387,-0.904,-0.776,-0.658,-0.611,-0.584,-0.618,-0.808,-0.599,-0.352,-0.444,-0.49,0.073,0.178,0.061,0.55,0.551,0.789,1.1,1.42,1.433,1.031,1.274,0.969,0.839,0.764,0.834,0.636,0.364,0.313,-0.113,-0.439,-1.028,-1.155,-1.746,-1.74,-1.943,-1.782,-1.261,-1.897,-1.831,-1.666,-1.732,-1.787,-1.57,-1.2,-1.351,-1.141,-0.904,-0.714,-0.931,-0.489,0.278,0.665,0.69,0.546,0.904,0.531,1.0,0.523,1.183,1.179,1.051,1.307,1.332,1.017,1.068,1.185,0.851,1.109,0.687,0.702,0.171,0.616,0.656,-0.018,-0.192,-0.744,-0.495,-0.38,-0.206,-0.927,-0.256,0.131,0.258,-0.315,0.051,0.224,0.272,0.177,0.253,0.231,0.007,0.083,-0.15,-0.738,-1.063,-0.74,-1.822,-1.529,-1.652,-1.368,-1.46,-1.4,-1.396,-1.536,-1.39,-1.464,-0.83,-1.047,-0.798,-0.976,-1.202,-0.816,-0.751,-0.677],\"xaxis\":\"x\",\"y\":[null,null,null,null,null,null,null,null,null,null,null,1.341,1.102,1.229,0.829,0.524,0.967,0.681,-0.695,-1.086,-1.189,-1.219,-1.336,-1.33,-1.209,-0.563,-0.622,-0.366,-0.706,-0.583,0.107,0.759,1.017,1.166,1.035,1.349,1.268,1.165,1.311,0.902,0.881,1.119,1.004,0.855,0.695,0.284,0.295,-0.051,-0.401,-0.492,-1.064,-1.225,-1.005,-0.828,-0.412,-0.832,-0.748,-0.277,-0.192,0.272,0.648,1.481,1.817,1.832,1.814,1.781,1.704,1.417,1.369,1.482,1.601,1.13,1.064,0.509,0.504,0.923,0.637,0.351,0.139,0.275,0.68,0.368,0.31,0.184,0.16,0.491,0.014,0.203,0.236,0.305,0.619,0.309,0.147,0.46,0.477,-0.088,-0.147,-0.017,0.008,-0.542,-0.583,-0.301,-0.153,-0.21,-0.413,-0.837,-0.448,-0.266,0.14,0.18,0.084,0.283,0.235,0.164,0.089,0.429,0.679,0.978,0.893,0.503,0.677,0.104,0.313,0.396,0.476,0.629,0.271,0.354,0.055,-0.134,-0.401,-0.612,-0.762,-0.983,-0.955,-1.176,-1.021,-1.314,-1.578,-1.463,-1.245,-1.188,-1.291,-0.984,-1.215,-1.081,-0.557,-0.323,-0.62,-0.141,0.951,0.961,0.79,0.807,1.021,0.954,1.003,0.81,1.347,1.308,1.248,1.527,1.149,1.032,1.165,1.179,1.1,1.258,1.032,0.975,0.6,0.736,0.266,-0.478,-0.839,-1.277,-1.126,-1.128,-0.853,-1.418,-1.522,-1.287,-1.229,-1.491,-1.009,-0.931,-0.759,-0.471,-0.583,-0.541,-0.751,-0.897,-0.915,-1.776,-1.948,-1.519,-1.886,-1.942,-2.042,-1.819,-1.796,-1.575,-1.621,-1.39,-1.28,-1.045,-0.429,-0.557,null,null,null,null,null,null],\"yaxis\":\"y\",\"type\":\"scatter\"}],                        {\"template\":{\"data\":{\"histogram2dcontour\":[{\"type\":\"histogram2dcontour\",\"colorbar\":{\"outlinewidth\":0,\"ticks\":\"\"},\"colorscale\":[[0.0,\"#0d0887\"],[0.1111111111111111,\"#46039f\"],[0.2222222222222222,\"#7201a8\"],[0.3333333333333333,\"#9c179e\"],[0.4444444444444444,\"#bd3786\"],[0.5555555555555556,\"#d8576b\"],[0.6666666666666666,\"#ed7953\"],[0.7777777777777778,\"#fb9f3a\"],[0.8888888888888888,\"#fdca26\"],[1.0,\"#f0f921\"]]}],\"choropleth\":[{\"type\":\"choropleth\",\"colorbar\":{\"outlinewidth\":0,\"ticks\":\"\"}}],\"histogram2d\":[{\"type\":\"histogram2d\",\"colorbar\":{\"outlinewidth\":0,\"ticks\":\"\"},\"colorscale\":[[0.0,\"#0d0887\"],[0.1111111111111111,\"#46039f\"],[0.2222222222222222,\"#7201a8\"],[0.3333333333333333,\"#9c179e\"],[0.4444444444444444,\"#bd3786\"],[0.5555555555555556,\"#d8576b\"],[0.6666666666666666,\"#ed7953\"],[0.7777777777777778,\"#fb9f3a\"],[0.8888888888888888,\"#fdca26\"],[1.0,\"#f0f921\"]]}],\"heatmap\":[{\"type\":\"heatmap\",\"colorbar\":{\"outlinewidth\":0,\"ticks\":\"\"},\"colorscale\":[[0.0,\"#0d0887\"],[0.1111111111111111,\"#46039f\"],[0.2222222222222222,\"#7201a8\"],[0.3333333333333333,\"#9c179e\"],[0.4444444444444444,\"#bd3786\"],[0.5555555555555556,\"#d8576b\"],[0.6666666666666666,\"#ed7953\"],[0.7777777777777778,\"#fb9f3a\"],[0.8888888888888888,\"#fdca26\"],[1.0,\"#f0f921\"]]}],\"heatmapgl\":[{\"type\":\"heatmapgl\",\"colorbar\":{\"outlinewidth\":0,\"ticks\":\"\"},\"colorscale\":[[0.0,\"#0d0887\"],[0.1111111111111111,\"#46039f\"],[0.2222222222222222,\"#7201a8\"],[0.3333333333333333,\"#9c179e\"],[0.4444444444444444,\"#bd3786\"],[0.5555555555555556,\"#d8576b\"],[0.6666666666666666,\"#ed7953\"],[0.7777777777777778,\"#fb9f3a\"],[0.8888888888888888,\"#fdca26\"],[1.0,\"#f0f921\"]]}],\"contourcarpet\":[{\"type\":\"contourcarpet\",\"colorbar\":{\"outlinewidth\":0,\"ticks\":\"\"}}],\"contour\":[{\"type\":\"contour\",\"colorbar\":{\"outlinewidth\":0,\"ticks\":\"\"},\"colorscale\":[[0.0,\"#0d0887\"],[0.1111111111111111,\"#46039f\"],[0.2222222222222222,\"#7201a8\"],[0.3333333333333333,\"#9c179e\"],[0.4444444444444444,\"#bd3786\"],[0.5555555555555556,\"#d8576b\"],[0.6666666666666666,\"#ed7953\"],[0.7777777777777778,\"#fb9f3a\"],[0.8888888888888888,\"#fdca26\"],[1.0,\"#f0f921\"]]}],\"surface\":[{\"type\":\"surface\",\"colorbar\":{\"outlinewidth\":0,\"ticks\":\"\"},\"colorscale\":[[0.0,\"#0d0887\"],[0.1111111111111111,\"#46039f\"],[0.2222222222222222,\"#7201a8\"],[0.3333333333333333,\"#9c179e\"],[0.4444444444444444,\"#bd3786\"],[0.5555555555555556,\"#d8576b\"],[0.6666666666666666,\"#ed7953\"],[0.7777777777777778,\"#fb9f3a\"],[0.8888888888888888,\"#fdca26\"],[1.0,\"#f0f921\"]]}],\"mesh3d\":[{\"type\":\"mesh3d\",\"colorbar\":{\"outlinewidth\":0,\"ticks\":\"\"}}],\"scatter\":[{\"fillpattern\":{\"fillmode\":\"overlay\",\"size\":10,\"solidity\":0.2},\"type\":\"scatter\"}],\"parcoords\":[{\"type\":\"parcoords\",\"line\":{\"colorbar\":{\"outlinewidth\":0,\"ticks\":\"\"}}}],\"scatterpolargl\":[{\"type\":\"scatterpolargl\",\"marker\":{\"colorbar\":{\"outlinewidth\":0,\"ticks\":\"\"}}}],\"bar\":[{\"error_x\":{\"color\":\"#2a3f5f\"},\"error_y\":{\"color\":\"#2a3f5f\"},\"marker\":{\"line\":{\"color\":\"#E5ECF6\",\"width\":0.5},\"pattern\":{\"fillmode\":\"overlay\",\"size\":10,\"solidity\":0.2}},\"type\":\"bar\"}],\"scattergeo\":[{\"type\":\"scattergeo\",\"marker\":{\"colorbar\":{\"outlinewidth\":0,\"ticks\":\"\"}}}],\"scatterpolar\":[{\"type\":\"scatterpolar\",\"marker\":{\"colorbar\":{\"outlinewidth\":0,\"ticks\":\"\"}}}],\"histogram\":[{\"marker\":{\"pattern\":{\"fillmode\":\"overlay\",\"size\":10,\"solidity\":0.2}},\"type\":\"histogram\"}],\"scattergl\":[{\"type\":\"scattergl\",\"marker\":{\"colorbar\":{\"outlinewidth\":0,\"ticks\":\"\"}}}],\"scatter3d\":[{\"type\":\"scatter3d\",\"line\":{\"colorbar\":{\"outlinewidth\":0,\"ticks\":\"\"}},\"marker\":{\"colorbar\":{\"outlinewidth\":0,\"ticks\":\"\"}}}],\"scattermapbox\":[{\"type\":\"scattermapbox\",\"marker\":{\"colorbar\":{\"outlinewidth\":0,\"ticks\":\"\"}}}],\"scatterternary\":[{\"type\":\"scatterternary\",\"marker\":{\"colorbar\":{\"outlinewidth\":0,\"ticks\":\"\"}}}],\"scattercarpet\":[{\"type\":\"scattercarpet\",\"marker\":{\"colorbar\":{\"outlinewidth\":0,\"ticks\":\"\"}}}],\"carpet\":[{\"aaxis\":{\"endlinecolor\":\"#2a3f5f\",\"gridcolor\":\"white\",\"linecolor\":\"white\",\"minorgridcolor\":\"white\",\"startlinecolor\":\"#2a3f5f\"},\"baxis\":{\"endlinecolor\":\"#2a3f5f\",\"gridcolor\":\"white\",\"linecolor\":\"white\",\"minorgridcolor\":\"white\",\"startlinecolor\":\"#2a3f5f\"},\"type\":\"carpet\"}],\"table\":[{\"cells\":{\"fill\":{\"color\":\"#EBF0F8\"},\"line\":{\"color\":\"white\"}},\"header\":{\"fill\":{\"color\":\"#C8D4E3\"},\"line\":{\"color\":\"white\"}},\"type\":\"table\"}],\"barpolar\":[{\"marker\":{\"line\":{\"color\":\"#E5ECF6\",\"width\":0.5},\"pattern\":{\"fillmode\":\"overlay\",\"size\":10,\"solidity\":0.2}},\"type\":\"barpolar\"}],\"pie\":[{\"automargin\":true,\"type\":\"pie\"}]},\"layout\":{\"autotypenumbers\":\"strict\",\"colorway\":[\"#636efa\",\"#EF553B\",\"#00cc96\",\"#ab63fa\",\"#FFA15A\",\"#19d3f3\",\"#FF6692\",\"#B6E880\",\"#FF97FF\",\"#FECB52\"],\"font\":{\"color\":\"#2a3f5f\"},\"hovermode\":\"closest\",\"hoverlabel\":{\"align\":\"left\"},\"paper_bgcolor\":\"white\",\"plot_bgcolor\":\"#E5ECF6\",\"polar\":{\"bgcolor\":\"#E5ECF6\",\"angularaxis\":{\"gridcolor\":\"white\",\"linecolor\":\"white\",\"ticks\":\"\"},\"radialaxis\":{\"gridcolor\":\"white\",\"linecolor\":\"white\",\"ticks\":\"\"}},\"ternary\":{\"bgcolor\":\"#E5ECF6\",\"aaxis\":{\"gridcolor\":\"white\",\"linecolor\":\"white\",\"ticks\":\"\"},\"baxis\":{\"gridcolor\":\"white\",\"linecolor\":\"white\",\"ticks\":\"\"},\"caxis\":{\"gridcolor\":\"white\",\"linecolor\":\"white\",\"ticks\":\"\"}},\"coloraxis\":{\"colorbar\":{\"outlinewidth\":0,\"ticks\":\"\"}},\"colorscale\":{\"sequential\":[[0.0,\"#0d0887\"],[0.1111111111111111,\"#46039f\"],[0.2222222222222222,\"#7201a8\"],[0.3333333333333333,\"#9c179e\"],[0.4444444444444444,\"#bd3786\"],[0.5555555555555556,\"#d8576b\"],[0.6666666666666666,\"#ed7953\"],[0.7777777777777778,\"#fb9f3a\"],[0.8888888888888888,\"#fdca26\"],[1.0,\"#f0f921\"]],\"sequentialminus\":[[0.0,\"#0d0887\"],[0.1111111111111111,\"#46039f\"],[0.2222222222222222,\"#7201a8\"],[0.3333333333333333,\"#9c179e\"],[0.4444444444444444,\"#bd3786\"],[0.5555555555555556,\"#d8576b\"],[0.6666666666666666,\"#ed7953\"],[0.7777777777777778,\"#fb9f3a\"],[0.8888888888888888,\"#fdca26\"],[1.0,\"#f0f921\"]],\"diverging\":[[0,\"#8e0152\"],[0.1,\"#c51b7d\"],[0.2,\"#de77ae\"],[0.3,\"#f1b6da\"],[0.4,\"#fde0ef\"],[0.5,\"#f7f7f7\"],[0.6,\"#e6f5d0\"],[0.7,\"#b8e186\"],[0.8,\"#7fbc41\"],[0.9,\"#4d9221\"],[1,\"#276419\"]]},\"xaxis\":{\"gridcolor\":\"white\",\"linecolor\":\"white\",\"ticks\":\"\",\"title\":{\"standoff\":15},\"zerolinecolor\":\"white\",\"automargin\":true,\"zerolinewidth\":2},\"yaxis\":{\"gridcolor\":\"white\",\"linecolor\":\"white\",\"ticks\":\"\",\"title\":{\"standoff\":15},\"zerolinecolor\":\"white\",\"automargin\":true,\"zerolinewidth\":2},\"scene\":{\"xaxis\":{\"backgroundcolor\":\"#E5ECF6\",\"gridcolor\":\"white\",\"linecolor\":\"white\",\"showbackground\":true,\"ticks\":\"\",\"zerolinecolor\":\"white\",\"gridwidth\":2},\"yaxis\":{\"backgroundcolor\":\"#E5ECF6\",\"gridcolor\":\"white\",\"linecolor\":\"white\",\"showbackground\":true,\"ticks\":\"\",\"zerolinecolor\":\"white\",\"gridwidth\":2},\"zaxis\":{\"backgroundcolor\":\"#E5ECF6\",\"gridcolor\":\"white\",\"linecolor\":\"white\",\"showbackground\":true,\"ticks\":\"\",\"zerolinecolor\":\"white\",\"gridwidth\":2}},\"shapedefaults\":{\"line\":{\"color\":\"#2a3f5f\"}},\"annotationdefaults\":{\"arrowcolor\":\"#2a3f5f\",\"arrowhead\":0,\"arrowwidth\":1},\"geo\":{\"bgcolor\":\"white\",\"landcolor\":\"#E5ECF6\",\"subunitcolor\":\"white\",\"showland\":true,\"showlakes\":true,\"lakecolor\":\"white\"},\"title\":{\"x\":0.05},\"mapbox\":{\"style\":\"light\"}}},\"xaxis\":{\"anchor\":\"y\",\"domain\":[0.0,1.0],\"title\":{\"text\":\"SPEI_12\"},\"range\":[-1.943,1.852],\"constrain\":\"domain\"},\"yaxis\":{\"anchor\":\"x\",\"domain\":[0.0,1.0],\"title\":{\"text\":\"GPM_SPEI_12\"},\"range\":[-1.943,1.852],\"scaleanchor\":\"x\",\"scaleratio\":1},\"legend\":{\"tracegroupgap\":0},\"title\":{\"text\":\"Gharakhil\"}},                        {\"responsive\": true}                    ).then(function(){\n",
       "                            \n",
       "var gd = document.getElementById('23c4efe4-b36a-4218-9674-b5df64d899da');\n",
       "var x = new MutationObserver(function (mutations, observer) {{\n",
       "        var display = window.getComputedStyle(gd).display;\n",
       "        if (!display || display === 'none') {{\n",
       "            console.log([gd, 'removed!']);\n",
       "            Plotly.purge(gd);\n",
       "            observer.disconnect();\n",
       "        }}\n",
       "}});\n",
       "\n",
       "// Listen for the removal of the full notebook cells\n",
       "var notebookContainer = gd.closest('#notebook-container');\n",
       "if (notebookContainer) {{\n",
       "    x.observe(notebookContainer, {childList: true});\n",
       "}}\n",
       "\n",
       "// Listen for the clearing of the current output cell\n",
       "var outputEl = gd.closest('.output');\n",
       "if (outputEl) {{\n",
       "    x.observe(outputEl, {childList: true});\n",
       "}}\n",
       "\n",
       "                        })                };                });            </script>        </div>"
      ]
     },
     "metadata": {},
     "output_type": "display_data"
    },
    {
     "data": {
      "application/vnd.plotly.v1+json": {
       "config": {
        "plotlyServerURL": "https://plot.ly"
       },
       "data": [
        {
         "hovertemplate": "SPEI_12=%{x}<br>GPM_SPEI_12=%{y}<extra></extra>",
         "legendgroup": "",
         "marker": {
          "color": "#636efa",
          "symbol": "circle"
         },
         "mode": "markers",
         "name": "",
         "orientation": "v",
         "showlegend": false,
         "type": "scatter",
         "x": [
          null,
          null,
          null,
          null,
          null,
          null,
          null,
          null,
          null,
          null,
          null,
          1.568,
          1.485,
          1.262,
          1.142,
          1.02,
          1.218,
          1.234,
          0.372,
          -0.852,
          -1.096,
          -1.59,
          -1.641,
          -1.941,
          -2.034,
          -1.928,
          -1.256,
          -0.925,
          -0.884,
          -0.829,
          -0.381,
          0.478,
          0.586,
          1.087,
          0.76,
          0.96,
          1.156,
          1.054,
          1.166,
          0.801,
          0.634,
          0.566,
          0.603,
          0.683,
          0.811,
          0.11,
          -0.041,
          -0.293,
          -0.818,
          -0.837,
          -1.231,
          -1.18,
          -0.94,
          -0.898,
          -0.3,
          -0.72,
          -0.397,
          0.46,
          0.511,
          0.784,
          0.906,
          1.287,
          1.736,
          1.726,
          1.855,
          1.964,
          2.069,
          2.165,
          2.047,
          1.779,
          1.82,
          1.249,
          1.205,
          0.852,
          0.4,
          0.625,
          0.555,
          0.288,
          0.121,
          0.052,
          0.539,
          0.571,
          0.064,
          0.33,
          0.181,
          0.274,
          0.092,
          0.411,
          0.356,
          0.358,
          0.184,
          0.179,
          -0.426,
          -0.478,
          0.062,
          -0.646,
          -0.59,
          -0.341,
          -0.086,
          -0.796,
          -0.868,
          -0.616,
          -0.221,
          -0.071,
          -0.402,
          -0.807,
          -0.979,
          -0.741,
          -0.392,
          -0.116,
          -0.296,
          -0.066,
          0.125,
          0.027,
          0.087,
          0.223,
          0.448,
          0.592,
          0.402,
          0.103,
          -0.011,
          -0.412,
          -0.504,
          0.065,
          -0.225,
          -0.109,
          -0.399,
          -0.085,
          -0.303,
          -0.284,
          -0.245,
          -0.263,
          -0.294,
          0.141,
          -0.173,
          -1.114,
          -0.892,
          -1.168,
          -1.608,
          -1.609,
          -1.2,
          -1.031,
          -1.326,
          -0.923,
          -0.667,
          -0.453,
          0.187,
          0.179,
          0.358,
          0.659,
          1.21,
          1.384,
          0.952,
          0.737,
          0.797,
          0.651,
          0.685,
          0.618,
          0.376,
          0.587,
          0.25,
          0.394,
          0.252,
          0.755,
          1.156,
          1.283,
          1.386,
          1.262,
          1.172,
          1.359,
          1.549,
          1.445,
          1.513,
          1.369,
          1.504,
          0.369,
          0.624,
          0.43,
          0.466,
          0.029,
          0.106,
          -0.573,
          -0.448,
          -0.261,
          -0.071,
          -0.291,
          -0.235,
          0.049,
          -0.49,
          -0.45,
          -0.816,
          -1.016,
          -1.24,
          -1.694,
          -2.118,
          -1.98,
          -2.113,
          -2.106,
          -1.998,
          -1.832,
          -2.047,
          -1.752,
          -1.461,
          -1.28,
          -1.039,
          -0.86,
          -0.546,
          -0.725,
          -0.868,
          -0.829,
          -1.3,
          -1.367,
          -0.84,
          -0.871
         ],
         "xaxis": "x",
         "y": [
          null,
          null,
          null,
          null,
          null,
          null,
          null,
          null,
          null,
          null,
          null,
          1.373,
          1.318,
          1.177,
          0.834,
          0.755,
          1.071,
          0.791,
          -0.529,
          -1.236,
          -1.691,
          -2.061,
          -2.078,
          -2.06,
          -1.959,
          -1.824,
          -1.394,
          -1.318,
          -1.544,
          -1.522,
          -1.126,
          0.045,
          0.404,
          0.834,
          0.732,
          0.775,
          0.909,
          0.845,
          0.775,
          0.532,
          0.4,
          0.535,
          0.64,
          0.562,
          0.467,
          -0.099,
          -0.072,
          -0.098,
          -0.449,
          -0.711,
          -1.135,
          -1.482,
          -1.181,
          -1.086,
          -0.699,
          -1.064,
          -1.054,
          -0.599,
          -0.495,
          -0.107,
          0.171,
          0.849,
          1.701,
          1.623,
          1.655,
          1.634,
          1.688,
          1.567,
          1.471,
          1.563,
          1.707,
          1.274,
          1.181,
          0.834,
          0.433,
          0.819,
          0.678,
          0.399,
          0.221,
          0.172,
          0.62,
          0.372,
          -0.023,
          -0.187,
          -0.469,
          -0.483,
          -0.466,
          -0.273,
          -0.357,
          -0.34,
          -0.127,
          -0.168,
          -0.324,
          -0.126,
          -0.003,
          -0.323,
          -0.235,
          0.194,
          0.236,
          -0.107,
          -0.277,
          -0.034,
          0.193,
          0.14,
          -0.164,
          -0.47,
          -0.213,
          -0.156,
          0.109,
          0.06,
          0.041,
          0.303,
          0.318,
          0.083,
          0.16,
          0.604,
          0.886,
          1.124,
          0.985,
          0.763,
          0.695,
          0.11,
          0.053,
          0.196,
          0.024,
          0.449,
          0.225,
          0.444,
          0.187,
          0.057,
          -0.125,
          -0.302,
          -0.367,
          -0.595,
          -0.759,
          -1.109,
          -1.051,
          -1.342,
          -1.831,
          -1.601,
          -1.305,
          -1.237,
          -1.348,
          -1.256,
          -1.366,
          -1.248,
          -0.422,
          -0.153,
          -0.159,
          0.083,
          1.134,
          1.083,
          0.786,
          0.825,
          1.038,
          1.073,
          1.064,
          1.073,
          1.102,
          1.211,
          1.18,
          1.575,
          1.506,
          1.718,
          1.722,
          1.638,
          1.628,
          1.634,
          1.628,
          1.608,
          1.622,
          1.372,
          1.117,
          0.627,
          0.387,
          -0.64,
          -0.323,
          -0.433,
          -0.076,
          -0.687,
          -0.811,
          -0.427,
          -0.649,
          -0.835,
          -0.436,
          -0.529,
          -0.41,
          -0.215,
          -0.481,
          -0.356,
          -0.764,
          -0.894,
          -0.819,
          -1.629,
          -1.884,
          -1.551,
          -1.606,
          -1.676,
          -1.76,
          -1.464,
          -1.338,
          -1.02,
          -0.831,
          -0.746,
          -0.566,
          -0.216,
          -0.058,
          -0.164,
          null,
          null,
          null,
          null,
          null,
          null
         ],
         "yaxis": "y"
        }
       ],
       "layout": {
        "legend": {
         "tracegroupgap": 0
        },
        "template": {
         "data": {
          "bar": [
           {
            "error_x": {
             "color": "#2a3f5f"
            },
            "error_y": {
             "color": "#2a3f5f"
            },
            "marker": {
             "line": {
              "color": "#E5ECF6",
              "width": 0.5
             },
             "pattern": {
              "fillmode": "overlay",
              "size": 10,
              "solidity": 0.2
             }
            },
            "type": "bar"
           }
          ],
          "barpolar": [
           {
            "marker": {
             "line": {
              "color": "#E5ECF6",
              "width": 0.5
             },
             "pattern": {
              "fillmode": "overlay",
              "size": 10,
              "solidity": 0.2
             }
            },
            "type": "barpolar"
           }
          ],
          "carpet": [
           {
            "aaxis": {
             "endlinecolor": "#2a3f5f",
             "gridcolor": "white",
             "linecolor": "white",
             "minorgridcolor": "white",
             "startlinecolor": "#2a3f5f"
            },
            "baxis": {
             "endlinecolor": "#2a3f5f",
             "gridcolor": "white",
             "linecolor": "white",
             "minorgridcolor": "white",
             "startlinecolor": "#2a3f5f"
            },
            "type": "carpet"
           }
          ],
          "choropleth": [
           {
            "colorbar": {
             "outlinewidth": 0,
             "ticks": ""
            },
            "type": "choropleth"
           }
          ],
          "contour": [
           {
            "colorbar": {
             "outlinewidth": 0,
             "ticks": ""
            },
            "colorscale": [
             [
              0,
              "#0d0887"
             ],
             [
              0.1111111111111111,
              "#46039f"
             ],
             [
              0.2222222222222222,
              "#7201a8"
             ],
             [
              0.3333333333333333,
              "#9c179e"
             ],
             [
              0.4444444444444444,
              "#bd3786"
             ],
             [
              0.5555555555555556,
              "#d8576b"
             ],
             [
              0.6666666666666666,
              "#ed7953"
             ],
             [
              0.7777777777777778,
              "#fb9f3a"
             ],
             [
              0.8888888888888888,
              "#fdca26"
             ],
             [
              1,
              "#f0f921"
             ]
            ],
            "type": "contour"
           }
          ],
          "contourcarpet": [
           {
            "colorbar": {
             "outlinewidth": 0,
             "ticks": ""
            },
            "type": "contourcarpet"
           }
          ],
          "heatmap": [
           {
            "colorbar": {
             "outlinewidth": 0,
             "ticks": ""
            },
            "colorscale": [
             [
              0,
              "#0d0887"
             ],
             [
              0.1111111111111111,
              "#46039f"
             ],
             [
              0.2222222222222222,
              "#7201a8"
             ],
             [
              0.3333333333333333,
              "#9c179e"
             ],
             [
              0.4444444444444444,
              "#bd3786"
             ],
             [
              0.5555555555555556,
              "#d8576b"
             ],
             [
              0.6666666666666666,
              "#ed7953"
             ],
             [
              0.7777777777777778,
              "#fb9f3a"
             ],
             [
              0.8888888888888888,
              "#fdca26"
             ],
             [
              1,
              "#f0f921"
             ]
            ],
            "type": "heatmap"
           }
          ],
          "heatmapgl": [
           {
            "colorbar": {
             "outlinewidth": 0,
             "ticks": ""
            },
            "colorscale": [
             [
              0,
              "#0d0887"
             ],
             [
              0.1111111111111111,
              "#46039f"
             ],
             [
              0.2222222222222222,
              "#7201a8"
             ],
             [
              0.3333333333333333,
              "#9c179e"
             ],
             [
              0.4444444444444444,
              "#bd3786"
             ],
             [
              0.5555555555555556,
              "#d8576b"
             ],
             [
              0.6666666666666666,
              "#ed7953"
             ],
             [
              0.7777777777777778,
              "#fb9f3a"
             ],
             [
              0.8888888888888888,
              "#fdca26"
             ],
             [
              1,
              "#f0f921"
             ]
            ],
            "type": "heatmapgl"
           }
          ],
          "histogram": [
           {
            "marker": {
             "pattern": {
              "fillmode": "overlay",
              "size": 10,
              "solidity": 0.2
             }
            },
            "type": "histogram"
           }
          ],
          "histogram2d": [
           {
            "colorbar": {
             "outlinewidth": 0,
             "ticks": ""
            },
            "colorscale": [
             [
              0,
              "#0d0887"
             ],
             [
              0.1111111111111111,
              "#46039f"
             ],
             [
              0.2222222222222222,
              "#7201a8"
             ],
             [
              0.3333333333333333,
              "#9c179e"
             ],
             [
              0.4444444444444444,
              "#bd3786"
             ],
             [
              0.5555555555555556,
              "#d8576b"
             ],
             [
              0.6666666666666666,
              "#ed7953"
             ],
             [
              0.7777777777777778,
              "#fb9f3a"
             ],
             [
              0.8888888888888888,
              "#fdca26"
             ],
             [
              1,
              "#f0f921"
             ]
            ],
            "type": "histogram2d"
           }
          ],
          "histogram2dcontour": [
           {
            "colorbar": {
             "outlinewidth": 0,
             "ticks": ""
            },
            "colorscale": [
             [
              0,
              "#0d0887"
             ],
             [
              0.1111111111111111,
              "#46039f"
             ],
             [
              0.2222222222222222,
              "#7201a8"
             ],
             [
              0.3333333333333333,
              "#9c179e"
             ],
             [
              0.4444444444444444,
              "#bd3786"
             ],
             [
              0.5555555555555556,
              "#d8576b"
             ],
             [
              0.6666666666666666,
              "#ed7953"
             ],
             [
              0.7777777777777778,
              "#fb9f3a"
             ],
             [
              0.8888888888888888,
              "#fdca26"
             ],
             [
              1,
              "#f0f921"
             ]
            ],
            "type": "histogram2dcontour"
           }
          ],
          "mesh3d": [
           {
            "colorbar": {
             "outlinewidth": 0,
             "ticks": ""
            },
            "type": "mesh3d"
           }
          ],
          "parcoords": [
           {
            "line": {
             "colorbar": {
              "outlinewidth": 0,
              "ticks": ""
             }
            },
            "type": "parcoords"
           }
          ],
          "pie": [
           {
            "automargin": true,
            "type": "pie"
           }
          ],
          "scatter": [
           {
            "fillpattern": {
             "fillmode": "overlay",
             "size": 10,
             "solidity": 0.2
            },
            "type": "scatter"
           }
          ],
          "scatter3d": [
           {
            "line": {
             "colorbar": {
              "outlinewidth": 0,
              "ticks": ""
             }
            },
            "marker": {
             "colorbar": {
              "outlinewidth": 0,
              "ticks": ""
             }
            },
            "type": "scatter3d"
           }
          ],
          "scattercarpet": [
           {
            "marker": {
             "colorbar": {
              "outlinewidth": 0,
              "ticks": ""
             }
            },
            "type": "scattercarpet"
           }
          ],
          "scattergeo": [
           {
            "marker": {
             "colorbar": {
              "outlinewidth": 0,
              "ticks": ""
             }
            },
            "type": "scattergeo"
           }
          ],
          "scattergl": [
           {
            "marker": {
             "colorbar": {
              "outlinewidth": 0,
              "ticks": ""
             }
            },
            "type": "scattergl"
           }
          ],
          "scattermapbox": [
           {
            "marker": {
             "colorbar": {
              "outlinewidth": 0,
              "ticks": ""
             }
            },
            "type": "scattermapbox"
           }
          ],
          "scatterpolar": [
           {
            "marker": {
             "colorbar": {
              "outlinewidth": 0,
              "ticks": ""
             }
            },
            "type": "scatterpolar"
           }
          ],
          "scatterpolargl": [
           {
            "marker": {
             "colorbar": {
              "outlinewidth": 0,
              "ticks": ""
             }
            },
            "type": "scatterpolargl"
           }
          ],
          "scatterternary": [
           {
            "marker": {
             "colorbar": {
              "outlinewidth": 0,
              "ticks": ""
             }
            },
            "type": "scatterternary"
           }
          ],
          "surface": [
           {
            "colorbar": {
             "outlinewidth": 0,
             "ticks": ""
            },
            "colorscale": [
             [
              0,
              "#0d0887"
             ],
             [
              0.1111111111111111,
              "#46039f"
             ],
             [
              0.2222222222222222,
              "#7201a8"
             ],
             [
              0.3333333333333333,
              "#9c179e"
             ],
             [
              0.4444444444444444,
              "#bd3786"
             ],
             [
              0.5555555555555556,
              "#d8576b"
             ],
             [
              0.6666666666666666,
              "#ed7953"
             ],
             [
              0.7777777777777778,
              "#fb9f3a"
             ],
             [
              0.8888888888888888,
              "#fdca26"
             ],
             [
              1,
              "#f0f921"
             ]
            ],
            "type": "surface"
           }
          ],
          "table": [
           {
            "cells": {
             "fill": {
              "color": "#EBF0F8"
             },
             "line": {
              "color": "white"
             }
            },
            "header": {
             "fill": {
              "color": "#C8D4E3"
             },
             "line": {
              "color": "white"
             }
            },
            "type": "table"
           }
          ]
         },
         "layout": {
          "annotationdefaults": {
           "arrowcolor": "#2a3f5f",
           "arrowhead": 0,
           "arrowwidth": 1
          },
          "autotypenumbers": "strict",
          "coloraxis": {
           "colorbar": {
            "outlinewidth": 0,
            "ticks": ""
           }
          },
          "colorscale": {
           "diverging": [
            [
             0,
             "#8e0152"
            ],
            [
             0.1,
             "#c51b7d"
            ],
            [
             0.2,
             "#de77ae"
            ],
            [
             0.3,
             "#f1b6da"
            ],
            [
             0.4,
             "#fde0ef"
            ],
            [
             0.5,
             "#f7f7f7"
            ],
            [
             0.6,
             "#e6f5d0"
            ],
            [
             0.7,
             "#b8e186"
            ],
            [
             0.8,
             "#7fbc41"
            ],
            [
             0.9,
             "#4d9221"
            ],
            [
             1,
             "#276419"
            ]
           ],
           "sequential": [
            [
             0,
             "#0d0887"
            ],
            [
             0.1111111111111111,
             "#46039f"
            ],
            [
             0.2222222222222222,
             "#7201a8"
            ],
            [
             0.3333333333333333,
             "#9c179e"
            ],
            [
             0.4444444444444444,
             "#bd3786"
            ],
            [
             0.5555555555555556,
             "#d8576b"
            ],
            [
             0.6666666666666666,
             "#ed7953"
            ],
            [
             0.7777777777777778,
             "#fb9f3a"
            ],
            [
             0.8888888888888888,
             "#fdca26"
            ],
            [
             1,
             "#f0f921"
            ]
           ],
           "sequentialminus": [
            [
             0,
             "#0d0887"
            ],
            [
             0.1111111111111111,
             "#46039f"
            ],
            [
             0.2222222222222222,
             "#7201a8"
            ],
            [
             0.3333333333333333,
             "#9c179e"
            ],
            [
             0.4444444444444444,
             "#bd3786"
            ],
            [
             0.5555555555555556,
             "#d8576b"
            ],
            [
             0.6666666666666666,
             "#ed7953"
            ],
            [
             0.7777777777777778,
             "#fb9f3a"
            ],
            [
             0.8888888888888888,
             "#fdca26"
            ],
            [
             1,
             "#f0f921"
            ]
           ]
          },
          "colorway": [
           "#636efa",
           "#EF553B",
           "#00cc96",
           "#ab63fa",
           "#FFA15A",
           "#19d3f3",
           "#FF6692",
           "#B6E880",
           "#FF97FF",
           "#FECB52"
          ],
          "font": {
           "color": "#2a3f5f"
          },
          "geo": {
           "bgcolor": "white",
           "lakecolor": "white",
           "landcolor": "#E5ECF6",
           "showlakes": true,
           "showland": true,
           "subunitcolor": "white"
          },
          "hoverlabel": {
           "align": "left"
          },
          "hovermode": "closest",
          "mapbox": {
           "style": "light"
          },
          "paper_bgcolor": "white",
          "plot_bgcolor": "#E5ECF6",
          "polar": {
           "angularaxis": {
            "gridcolor": "white",
            "linecolor": "white",
            "ticks": ""
           },
           "bgcolor": "#E5ECF6",
           "radialaxis": {
            "gridcolor": "white",
            "linecolor": "white",
            "ticks": ""
           }
          },
          "scene": {
           "xaxis": {
            "backgroundcolor": "#E5ECF6",
            "gridcolor": "white",
            "gridwidth": 2,
            "linecolor": "white",
            "showbackground": true,
            "ticks": "",
            "zerolinecolor": "white"
           },
           "yaxis": {
            "backgroundcolor": "#E5ECF6",
            "gridcolor": "white",
            "gridwidth": 2,
            "linecolor": "white",
            "showbackground": true,
            "ticks": "",
            "zerolinecolor": "white"
           },
           "zaxis": {
            "backgroundcolor": "#E5ECF6",
            "gridcolor": "white",
            "gridwidth": 2,
            "linecolor": "white",
            "showbackground": true,
            "ticks": "",
            "zerolinecolor": "white"
           }
          },
          "shapedefaults": {
           "line": {
            "color": "#2a3f5f"
           }
          },
          "ternary": {
           "aaxis": {
            "gridcolor": "white",
            "linecolor": "white",
            "ticks": ""
           },
           "baxis": {
            "gridcolor": "white",
            "linecolor": "white",
            "ticks": ""
           },
           "bgcolor": "#E5ECF6",
           "caxis": {
            "gridcolor": "white",
            "linecolor": "white",
            "ticks": ""
           }
          },
          "title": {
           "x": 0.05
          },
          "xaxis": {
           "automargin": true,
           "gridcolor": "white",
           "linecolor": "white",
           "ticks": "",
           "title": {
            "standoff": 15
           },
           "zerolinecolor": "white",
           "zerolinewidth": 2
          },
          "yaxis": {
           "automargin": true,
           "gridcolor": "white",
           "linecolor": "white",
           "ticks": "",
           "title": {
            "standoff": 15
           },
           "zerolinecolor": "white",
           "zerolinewidth": 2
          }
         }
        },
        "title": {
         "text": "Siahbisheh"
        },
        "xaxis": {
         "anchor": "y",
         "constrain": "domain",
         "domain": [
          0,
          1
         ],
         "range": [
          -2.078,
          2.165
         ],
         "title": {
          "text": "SPEI_12"
         }
        },
        "yaxis": {
         "anchor": "x",
         "domain": [
          0,
          1
         ],
         "range": [
          -2.078,
          2.165
         ],
         "scaleanchor": "x",
         "scaleratio": 1,
         "title": {
          "text": "GPM_SPEI_12"
         }
        }
       }
      },
      "text/html": [
       "<div>                            <div id=\"411cbcda-e622-4420-8e22-833c838e3fc7\" class=\"plotly-graph-div\" style=\"height:525px; width:100%;\"></div>            <script type=\"text/javascript\">                require([\"plotly\"], function(Plotly) {                    window.PLOTLYENV=window.PLOTLYENV || {};                                    if (document.getElementById(\"411cbcda-e622-4420-8e22-833c838e3fc7\")) {                    Plotly.newPlot(                        \"411cbcda-e622-4420-8e22-833c838e3fc7\",                        [{\"hovertemplate\":\"SPEI_12=%{x}\\u003cbr\\u003eGPM_SPEI_12=%{y}\\u003cextra\\u003e\\u003c\\u002fextra\\u003e\",\"legendgroup\":\"\",\"marker\":{\"color\":\"#636efa\",\"symbol\":\"circle\"},\"mode\":\"markers\",\"name\":\"\",\"orientation\":\"v\",\"showlegend\":false,\"x\":[null,null,null,null,null,null,null,null,null,null,null,1.568,1.485,1.262,1.142,1.02,1.218,1.234,0.372,-0.852,-1.096,-1.59,-1.641,-1.941,-2.034,-1.928,-1.256,-0.925,-0.884,-0.829,-0.381,0.478,0.586,1.087,0.76,0.96,1.156,1.054,1.166,0.801,0.634,0.566,0.603,0.683,0.811,0.11,-0.041,-0.293,-0.818,-0.837,-1.231,-1.18,-0.94,-0.898,-0.3,-0.72,-0.397,0.46,0.511,0.784,0.906,1.287,1.736,1.726,1.855,1.964,2.069,2.165,2.047,1.779,1.82,1.249,1.205,0.852,0.4,0.625,0.555,0.288,0.121,0.052,0.539,0.571,0.064,0.33,0.181,0.274,0.092,0.411,0.356,0.358,0.184,0.179,-0.426,-0.478,0.062,-0.646,-0.59,-0.341,-0.086,-0.796,-0.868,-0.616,-0.221,-0.071,-0.402,-0.807,-0.979,-0.741,-0.392,-0.116,-0.296,-0.066,0.125,0.027,0.087,0.223,0.448,0.592,0.402,0.103,-0.011,-0.412,-0.504,0.065,-0.225,-0.109,-0.399,-0.085,-0.303,-0.284,-0.245,-0.263,-0.294,0.141,-0.173,-1.114,-0.892,-1.168,-1.608,-1.609,-1.2,-1.031,-1.326,-0.923,-0.667,-0.453,0.187,0.179,0.358,0.659,1.21,1.384,0.952,0.737,0.797,0.651,0.685,0.618,0.376,0.587,0.25,0.394,0.252,0.755,1.156,1.283,1.386,1.262,1.172,1.359,1.549,1.445,1.513,1.369,1.504,0.369,0.624,0.43,0.466,0.029,0.106,-0.573,-0.448,-0.261,-0.071,-0.291,-0.235,0.049,-0.49,-0.45,-0.816,-1.016,-1.24,-1.694,-2.118,-1.98,-2.113,-2.106,-1.998,-1.832,-2.047,-1.752,-1.461,-1.28,-1.039,-0.86,-0.546,-0.725,-0.868,-0.829,-1.3,-1.367,-0.84,-0.871],\"xaxis\":\"x\",\"y\":[null,null,null,null,null,null,null,null,null,null,null,1.373,1.318,1.177,0.834,0.755,1.071,0.791,-0.529,-1.236,-1.691,-2.061,-2.078,-2.06,-1.959,-1.824,-1.394,-1.318,-1.544,-1.522,-1.126,0.045,0.404,0.834,0.732,0.775,0.909,0.845,0.775,0.532,0.4,0.535,0.64,0.562,0.467,-0.099,-0.072,-0.098,-0.449,-0.711,-1.135,-1.482,-1.181,-1.086,-0.699,-1.064,-1.054,-0.599,-0.495,-0.107,0.171,0.849,1.701,1.623,1.655,1.634,1.688,1.567,1.471,1.563,1.707,1.274,1.181,0.834,0.433,0.819,0.678,0.399,0.221,0.172,0.62,0.372,-0.023,-0.187,-0.469,-0.483,-0.466,-0.273,-0.357,-0.34,-0.127,-0.168,-0.324,-0.126,-0.003,-0.323,-0.235,0.194,0.236,-0.107,-0.277,-0.034,0.193,0.14,-0.164,-0.47,-0.213,-0.156,0.109,0.06,0.041,0.303,0.318,0.083,0.16,0.604,0.886,1.124,0.985,0.763,0.695,0.11,0.053,0.196,0.024,0.449,0.225,0.444,0.187,0.057,-0.125,-0.302,-0.367,-0.595,-0.759,-1.109,-1.051,-1.342,-1.831,-1.601,-1.305,-1.237,-1.348,-1.256,-1.366,-1.248,-0.422,-0.153,-0.159,0.083,1.134,1.083,0.786,0.825,1.038,1.073,1.064,1.073,1.102,1.211,1.18,1.575,1.506,1.718,1.722,1.638,1.628,1.634,1.628,1.608,1.622,1.372,1.117,0.627,0.387,-0.64,-0.323,-0.433,-0.076,-0.687,-0.811,-0.427,-0.649,-0.835,-0.436,-0.529,-0.41,-0.215,-0.481,-0.356,-0.764,-0.894,-0.819,-1.629,-1.884,-1.551,-1.606,-1.676,-1.76,-1.464,-1.338,-1.02,-0.831,-0.746,-0.566,-0.216,-0.058,-0.164,null,null,null,null,null,null],\"yaxis\":\"y\",\"type\":\"scatter\"}],                        {\"template\":{\"data\":{\"histogram2dcontour\":[{\"type\":\"histogram2dcontour\",\"colorbar\":{\"outlinewidth\":0,\"ticks\":\"\"},\"colorscale\":[[0.0,\"#0d0887\"],[0.1111111111111111,\"#46039f\"],[0.2222222222222222,\"#7201a8\"],[0.3333333333333333,\"#9c179e\"],[0.4444444444444444,\"#bd3786\"],[0.5555555555555556,\"#d8576b\"],[0.6666666666666666,\"#ed7953\"],[0.7777777777777778,\"#fb9f3a\"],[0.8888888888888888,\"#fdca26\"],[1.0,\"#f0f921\"]]}],\"choropleth\":[{\"type\":\"choropleth\",\"colorbar\":{\"outlinewidth\":0,\"ticks\":\"\"}}],\"histogram2d\":[{\"type\":\"histogram2d\",\"colorbar\":{\"outlinewidth\":0,\"ticks\":\"\"},\"colorscale\":[[0.0,\"#0d0887\"],[0.1111111111111111,\"#46039f\"],[0.2222222222222222,\"#7201a8\"],[0.3333333333333333,\"#9c179e\"],[0.4444444444444444,\"#bd3786\"],[0.5555555555555556,\"#d8576b\"],[0.6666666666666666,\"#ed7953\"],[0.7777777777777778,\"#fb9f3a\"],[0.8888888888888888,\"#fdca26\"],[1.0,\"#f0f921\"]]}],\"heatmap\":[{\"type\":\"heatmap\",\"colorbar\":{\"outlinewidth\":0,\"ticks\":\"\"},\"colorscale\":[[0.0,\"#0d0887\"],[0.1111111111111111,\"#46039f\"],[0.2222222222222222,\"#7201a8\"],[0.3333333333333333,\"#9c179e\"],[0.4444444444444444,\"#bd3786\"],[0.5555555555555556,\"#d8576b\"],[0.6666666666666666,\"#ed7953\"],[0.7777777777777778,\"#fb9f3a\"],[0.8888888888888888,\"#fdca26\"],[1.0,\"#f0f921\"]]}],\"heatmapgl\":[{\"type\":\"heatmapgl\",\"colorbar\":{\"outlinewidth\":0,\"ticks\":\"\"},\"colorscale\":[[0.0,\"#0d0887\"],[0.1111111111111111,\"#46039f\"],[0.2222222222222222,\"#7201a8\"],[0.3333333333333333,\"#9c179e\"],[0.4444444444444444,\"#bd3786\"],[0.5555555555555556,\"#d8576b\"],[0.6666666666666666,\"#ed7953\"],[0.7777777777777778,\"#fb9f3a\"],[0.8888888888888888,\"#fdca26\"],[1.0,\"#f0f921\"]]}],\"contourcarpet\":[{\"type\":\"contourcarpet\",\"colorbar\":{\"outlinewidth\":0,\"ticks\":\"\"}}],\"contour\":[{\"type\":\"contour\",\"colorbar\":{\"outlinewidth\":0,\"ticks\":\"\"},\"colorscale\":[[0.0,\"#0d0887\"],[0.1111111111111111,\"#46039f\"],[0.2222222222222222,\"#7201a8\"],[0.3333333333333333,\"#9c179e\"],[0.4444444444444444,\"#bd3786\"],[0.5555555555555556,\"#d8576b\"],[0.6666666666666666,\"#ed7953\"],[0.7777777777777778,\"#fb9f3a\"],[0.8888888888888888,\"#fdca26\"],[1.0,\"#f0f921\"]]}],\"surface\":[{\"type\":\"surface\",\"colorbar\":{\"outlinewidth\":0,\"ticks\":\"\"},\"colorscale\":[[0.0,\"#0d0887\"],[0.1111111111111111,\"#46039f\"],[0.2222222222222222,\"#7201a8\"],[0.3333333333333333,\"#9c179e\"],[0.4444444444444444,\"#bd3786\"],[0.5555555555555556,\"#d8576b\"],[0.6666666666666666,\"#ed7953\"],[0.7777777777777778,\"#fb9f3a\"],[0.8888888888888888,\"#fdca26\"],[1.0,\"#f0f921\"]]}],\"mesh3d\":[{\"type\":\"mesh3d\",\"colorbar\":{\"outlinewidth\":0,\"ticks\":\"\"}}],\"scatter\":[{\"fillpattern\":{\"fillmode\":\"overlay\",\"size\":10,\"solidity\":0.2},\"type\":\"scatter\"}],\"parcoords\":[{\"type\":\"parcoords\",\"line\":{\"colorbar\":{\"outlinewidth\":0,\"ticks\":\"\"}}}],\"scatterpolargl\":[{\"type\":\"scatterpolargl\",\"marker\":{\"colorbar\":{\"outlinewidth\":0,\"ticks\":\"\"}}}],\"bar\":[{\"error_x\":{\"color\":\"#2a3f5f\"},\"error_y\":{\"color\":\"#2a3f5f\"},\"marker\":{\"line\":{\"color\":\"#E5ECF6\",\"width\":0.5},\"pattern\":{\"fillmode\":\"overlay\",\"size\":10,\"solidity\":0.2}},\"type\":\"bar\"}],\"scattergeo\":[{\"type\":\"scattergeo\",\"marker\":{\"colorbar\":{\"outlinewidth\":0,\"ticks\":\"\"}}}],\"scatterpolar\":[{\"type\":\"scatterpolar\",\"marker\":{\"colorbar\":{\"outlinewidth\":0,\"ticks\":\"\"}}}],\"histogram\":[{\"marker\":{\"pattern\":{\"fillmode\":\"overlay\",\"size\":10,\"solidity\":0.2}},\"type\":\"histogram\"}],\"scattergl\":[{\"type\":\"scattergl\",\"marker\":{\"colorbar\":{\"outlinewidth\":0,\"ticks\":\"\"}}}],\"scatter3d\":[{\"type\":\"scatter3d\",\"line\":{\"colorbar\":{\"outlinewidth\":0,\"ticks\":\"\"}},\"marker\":{\"colorbar\":{\"outlinewidth\":0,\"ticks\":\"\"}}}],\"scattermapbox\":[{\"type\":\"scattermapbox\",\"marker\":{\"colorbar\":{\"outlinewidth\":0,\"ticks\":\"\"}}}],\"scatterternary\":[{\"type\":\"scatterternary\",\"marker\":{\"colorbar\":{\"outlinewidth\":0,\"ticks\":\"\"}}}],\"scattercarpet\":[{\"type\":\"scattercarpet\",\"marker\":{\"colorbar\":{\"outlinewidth\":0,\"ticks\":\"\"}}}],\"carpet\":[{\"aaxis\":{\"endlinecolor\":\"#2a3f5f\",\"gridcolor\":\"white\",\"linecolor\":\"white\",\"minorgridcolor\":\"white\",\"startlinecolor\":\"#2a3f5f\"},\"baxis\":{\"endlinecolor\":\"#2a3f5f\",\"gridcolor\":\"white\",\"linecolor\":\"white\",\"minorgridcolor\":\"white\",\"startlinecolor\":\"#2a3f5f\"},\"type\":\"carpet\"}],\"table\":[{\"cells\":{\"fill\":{\"color\":\"#EBF0F8\"},\"line\":{\"color\":\"white\"}},\"header\":{\"fill\":{\"color\":\"#C8D4E3\"},\"line\":{\"color\":\"white\"}},\"type\":\"table\"}],\"barpolar\":[{\"marker\":{\"line\":{\"color\":\"#E5ECF6\",\"width\":0.5},\"pattern\":{\"fillmode\":\"overlay\",\"size\":10,\"solidity\":0.2}},\"type\":\"barpolar\"}],\"pie\":[{\"automargin\":true,\"type\":\"pie\"}]},\"layout\":{\"autotypenumbers\":\"strict\",\"colorway\":[\"#636efa\",\"#EF553B\",\"#00cc96\",\"#ab63fa\",\"#FFA15A\",\"#19d3f3\",\"#FF6692\",\"#B6E880\",\"#FF97FF\",\"#FECB52\"],\"font\":{\"color\":\"#2a3f5f\"},\"hovermode\":\"closest\",\"hoverlabel\":{\"align\":\"left\"},\"paper_bgcolor\":\"white\",\"plot_bgcolor\":\"#E5ECF6\",\"polar\":{\"bgcolor\":\"#E5ECF6\",\"angularaxis\":{\"gridcolor\":\"white\",\"linecolor\":\"white\",\"ticks\":\"\"},\"radialaxis\":{\"gridcolor\":\"white\",\"linecolor\":\"white\",\"ticks\":\"\"}},\"ternary\":{\"bgcolor\":\"#E5ECF6\",\"aaxis\":{\"gridcolor\":\"white\",\"linecolor\":\"white\",\"ticks\":\"\"},\"baxis\":{\"gridcolor\":\"white\",\"linecolor\":\"white\",\"ticks\":\"\"},\"caxis\":{\"gridcolor\":\"white\",\"linecolor\":\"white\",\"ticks\":\"\"}},\"coloraxis\":{\"colorbar\":{\"outlinewidth\":0,\"ticks\":\"\"}},\"colorscale\":{\"sequential\":[[0.0,\"#0d0887\"],[0.1111111111111111,\"#46039f\"],[0.2222222222222222,\"#7201a8\"],[0.3333333333333333,\"#9c179e\"],[0.4444444444444444,\"#bd3786\"],[0.5555555555555556,\"#d8576b\"],[0.6666666666666666,\"#ed7953\"],[0.7777777777777778,\"#fb9f3a\"],[0.8888888888888888,\"#fdca26\"],[1.0,\"#f0f921\"]],\"sequentialminus\":[[0.0,\"#0d0887\"],[0.1111111111111111,\"#46039f\"],[0.2222222222222222,\"#7201a8\"],[0.3333333333333333,\"#9c179e\"],[0.4444444444444444,\"#bd3786\"],[0.5555555555555556,\"#d8576b\"],[0.6666666666666666,\"#ed7953\"],[0.7777777777777778,\"#fb9f3a\"],[0.8888888888888888,\"#fdca26\"],[1.0,\"#f0f921\"]],\"diverging\":[[0,\"#8e0152\"],[0.1,\"#c51b7d\"],[0.2,\"#de77ae\"],[0.3,\"#f1b6da\"],[0.4,\"#fde0ef\"],[0.5,\"#f7f7f7\"],[0.6,\"#e6f5d0\"],[0.7,\"#b8e186\"],[0.8,\"#7fbc41\"],[0.9,\"#4d9221\"],[1,\"#276419\"]]},\"xaxis\":{\"gridcolor\":\"white\",\"linecolor\":\"white\",\"ticks\":\"\",\"title\":{\"standoff\":15},\"zerolinecolor\":\"white\",\"automargin\":true,\"zerolinewidth\":2},\"yaxis\":{\"gridcolor\":\"white\",\"linecolor\":\"white\",\"ticks\":\"\",\"title\":{\"standoff\":15},\"zerolinecolor\":\"white\",\"automargin\":true,\"zerolinewidth\":2},\"scene\":{\"xaxis\":{\"backgroundcolor\":\"#E5ECF6\",\"gridcolor\":\"white\",\"linecolor\":\"white\",\"showbackground\":true,\"ticks\":\"\",\"zerolinecolor\":\"white\",\"gridwidth\":2},\"yaxis\":{\"backgroundcolor\":\"#E5ECF6\",\"gridcolor\":\"white\",\"linecolor\":\"white\",\"showbackground\":true,\"ticks\":\"\",\"zerolinecolor\":\"white\",\"gridwidth\":2},\"zaxis\":{\"backgroundcolor\":\"#E5ECF6\",\"gridcolor\":\"white\",\"linecolor\":\"white\",\"showbackground\":true,\"ticks\":\"\",\"zerolinecolor\":\"white\",\"gridwidth\":2}},\"shapedefaults\":{\"line\":{\"color\":\"#2a3f5f\"}},\"annotationdefaults\":{\"arrowcolor\":\"#2a3f5f\",\"arrowhead\":0,\"arrowwidth\":1},\"geo\":{\"bgcolor\":\"white\",\"landcolor\":\"#E5ECF6\",\"subunitcolor\":\"white\",\"showland\":true,\"showlakes\":true,\"lakecolor\":\"white\"},\"title\":{\"x\":0.05},\"mapbox\":{\"style\":\"light\"}}},\"xaxis\":{\"anchor\":\"y\",\"domain\":[0.0,1.0],\"title\":{\"text\":\"SPEI_12\"},\"range\":[-2.078,2.165],\"constrain\":\"domain\"},\"yaxis\":{\"anchor\":\"x\",\"domain\":[0.0,1.0],\"title\":{\"text\":\"GPM_SPEI_12\"},\"range\":[-2.078,2.165],\"scaleanchor\":\"x\",\"scaleratio\":1},\"legend\":{\"tracegroupgap\":0},\"title\":{\"text\":\"Siahbisheh\"}},                        {\"responsive\": true}                    ).then(function(){\n",
       "                            \n",
       "var gd = document.getElementById('411cbcda-e622-4420-8e22-833c838e3fc7');\n",
       "var x = new MutationObserver(function (mutations, observer) {{\n",
       "        var display = window.getComputedStyle(gd).display;\n",
       "        if (!display || display === 'none') {{\n",
       "            console.log([gd, 'removed!']);\n",
       "            Plotly.purge(gd);\n",
       "            observer.disconnect();\n",
       "        }}\n",
       "}});\n",
       "\n",
       "// Listen for the removal of the full notebook cells\n",
       "var notebookContainer = gd.closest('#notebook-container');\n",
       "if (notebookContainer) {{\n",
       "    x.observe(notebookContainer, {childList: true});\n",
       "}}\n",
       "\n",
       "// Listen for the clearing of the current output cell\n",
       "var outputEl = gd.closest('.output');\n",
       "if (outputEl) {{\n",
       "    x.observe(outputEl, {childList: true});\n",
       "}}\n",
       "\n",
       "                        })                };                });            </script>        </div>"
      ]
     },
     "metadata": {},
     "output_type": "display_data"
    }
   ],
   "source": [
    "import plotly.express as px\n",
    "\n",
    "for st in selected_stations:\n",
    "    station_data = df.query('Station_Name == @st')\n",
    "    fig = px.scatter(station_data, x=f'{di}_{scale}', y=f'GPM_{di}_{scale}', title=st)\n",
    "    max_limit = max(station_data[f'{di}_{scale}'].max(), station_data[f'GPM_{di}_{scale}'].max())\n",
    "    min_limit = max(station_data[f'{di}_{scale}'].min(), station_data[f'GPM_{di}_{scale}'].min())\n",
    "    fig.update_layout(xaxis=dict(range=[min_limit, max_limit]), yaxis=dict(range=[min_limit, max_limit]))\n",
    "    fig.update_yaxes(scaleanchor=\"x\", scaleratio=1)\n",
    "    fig.update_xaxes(constrain='domain')\n",
    "    fig.show()"
   ]
  },
  {
   "cell_type": "code",
   "execution_count": 93,
   "metadata": {},
   "outputs": [
    {
     "data": {
      "image/png": "[encoded data removed]",
      "text/plain": [
       "<Figure size 800x1200 with 7 Axes>"
      ]
     },
     "metadata": {},
     "output_type": "display_data"
    }
   ],
   "source": [
    "df_plot = df.query('Station_Name == \"Bandar-e-anzali\"')\n",
    "df_plot.set_index('Date', inplace=True)\n",
    "\n",
    "f, ax = plt.subplots(7, 1, figsize=(8, 12), sharex=True)\n",
    "spei.plot.si(df_plot['NDVI'], ax=ax[0], cmap=\"vik_r\")\n",
    "spei.plot.si(df_plot['EVI'], ax=ax[1], cmap=\"roma\")\n",
    "spei.plot.si(df_plot['PCI_GPM'], ax=ax[2], cmap=\"seismic_r\")\n",
    "spei.plot.si(df_plot['VCI'], ax=ax[3], cmap=\"roma\")\n",
    "spei.plot.si(df_plot['TCI'], ax=ax[4], cmap=\"vik_r\")\n",
    "spei.plot.si(df_plot['VHI'], ax=ax[5], cmap=\"seismic_r\")\n",
    "spei.plot.si(df_plot['CI_GPM'], ax=ax[6], cmap=\"roma\")\n",
    "ax[0].set_xlim(pd.to_datetime([\"2014\", \"2024\"]))\n",
    "ax[0].set_ylim(-0.2, 1)\n",
    "ax[1].set_ylim(-0.2, 1)\n",
    "ax[2].set_ylim(0, 1)\n",
    "ax[3].set_ylim(0, 1)\n",
    "ax[4].set_ylim(0, 1)\n",
    "ax[5].set_ylim(0, 1)\n",
    "ax[6].set_ylim(0, 1)\n",
    "[x.grid() for x in ax]\n",
    "[ax[i].set_ylabel(n, fontsize=14) for i, n in enumerate(['NDVI', 'EVI', 'PCI', 'VCI', 'TCI', 'VHI', 'CI'])];"
   ]
  }
 ],
 "metadata": {
  "kernelspec": {
   "display_name": ".venv",
   "language": "python",
   "name": "python3"
  },
  "language_info": {
   "codemirror_mode": {
    "name": "ipython",
    "version": 3
   },
   "file_extension": ".py",
   "mimetype": "text/x-python",
   "name": "python",
   "nbconvert_exporter": "python",
   "pygments_lexer": "ipython3",
   "version": "3.12.2"
  }
 },
 "nbformat": 4,
 "nbformat_minor": 2
}
