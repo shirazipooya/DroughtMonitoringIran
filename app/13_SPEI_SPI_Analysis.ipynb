{
 "cells": [
  {
   "cell_type": "markdown",
   "metadata": {},
   "source": [
    "هدف من این است که نتایج جدول زیر 15 درصد بهتر شوند.\n",
    "خروجی مد نظر:\n",
    "1- جدول پیش‌بینی‌شده از Report جدید\n",
    "2- Confusion Matrix بهبود‌یافته رو به شکل Heatmap تصویری هم بکش\n",
    "\n",
    "Overall Accuracy: 0.6979\n",
    "Macro-F1 Score: 0.3946\n",
    "Cohen's Kappa: 0.3476\n",
    "\n",
    "Classification Report:\n",
    "              precision    recall  f1-score   support\n",
    "\n",
    "          ED       1.00      0.50      0.67        10\n",
    "          EW       0.00      0.00      0.00         3\n",
    "          MD       0.21      0.08      0.12        49\n",
    "          MW       0.49      0.31      0.38        54\n",
    "          NN       0.75      0.94      0.84       309\n",
    "          SD       0.52      0.34      0.42        32\n",
    "          VW       0.50      0.26      0.34        23\n",
    "\n",
    "    accuracy                           0.70       480\n",
    "   macro avg       0.50      0.35      0.39       480\n",
    "weighted avg       0.64      0.70      0.65       480\n",
    "\n",
    "\n"
   ]
  },
  {
   "cell_type": "code",
   "execution_count": 1,
   "metadata": {},
   "outputs": [],
   "source": [
    "import os\n",
    "import sys\n",
    "import sqlite3\n",
    "import numpy as np\n",
    "import pandas as pd\n",
    "import geopandas as gp\n",
    "import plotly.express as px\n",
    "import skill_metrics as sm\n",
    "import skill_metrics as sm\n",
    "import matplotlib.pyplot as plt\n",
    "import scipy.stats as scs\n",
    "\n",
    "import spei"
   ]
  },
  {
   "cell_type": "code",
   "execution_count": 2,
   "metadata": {},
   "outputs": [],
   "source": [
    "sys.path.append('/home/pooya/w/DroughtMonitoringIran/')\n",
    "\n",
    "DATABASE_PATH = \"./database/database.db\""
   ]
  },
  {
   "cell_type": "markdown",
   "metadata": {},
   "source": [
    "### Monthly Data"
   ]
  },
  {
   "cell_type": "code",
   "execution_count": 3,
   "metadata": {},
   "outputs": [],
   "source": [
    "conn = sqlite3.connect(DATABASE_PATH)\n",
    "\n",
    "data = pd.read_sql(sql='SELECT * FROM data', con=conn)\n",
    "\n",
    "data['Date'] = pd.to_datetime(data[\"Date\"], format=\"%Y-%m\")\n",
    "\n",
    "conn.close()"
   ]
  },
  {
   "cell_type": "markdown",
   "metadata": {},
   "source": [
    "### Unique Station"
   ]
  },
  {
   "cell_type": "code",
   "execution_count": 4,
   "metadata": {},
   "outputs": [
    {
     "data": {
      "application/vnd.microsoft.datawrangler.viewer.v0+json": {
       "columns": [
        {
         "name": "index",
         "rawType": "int64",
         "type": "integer"
        },
        {
         "name": "Station_ID",
         "rawType": "object",
         "type": "string"
        },
        {
         "name": "Station_Name",
         "rawType": "object",
         "type": "string"
        }
       ],
       "ref": "530503dd-ea29-4240-88e1-31c24fed3968",
       "rows": [
        [
         "0",
         "40709",
         "Astara"
        ],
        [
         "1",
         "40718",
         "Bandar-e-anzali"
        ],
        [
         "2",
         "40719",
         "Rasht"
        ],
        [
         "3",
         "40720",
         "Manjil"
        ],
        [
         "4",
         "40732",
         "Ramsar"
        ],
        [
         "5",
         "40734",
         "Nowshahr"
        ],
        [
         "6",
         "40735",
         "Siahbisheh"
        ],
        [
         "7",
         "40736",
         "Babolsar"
        ],
        [
         "8",
         "40737",
         "Gharakhil"
        ],
        [
         "9",
         "40759",
         "Sari"
        ],
        [
         "10",
         "40760",
         "Kiyasar"
        ],
        [
         "11",
         "40788",
         "Sari (dasht-e-naz airport)"
        ],
        [
         "12",
         "40805",
         "Jirandeh"
        ],
        [
         "13",
         "99249",
         "Talesh"
        ],
        [
         "14",
         "99268",
         "Kiyashahr"
        ],
        [
         "15",
         "99276",
         "Lahijan"
        ],
        [
         "16",
         "99281",
         "Masuleh"
        ],
        [
         "17",
         "99299",
         "Galugah"
        ],
        [
         "18",
         "99306",
         "Bandar-e-amirabad"
        ],
        [
         "19",
         "99309",
         "Amol"
        ],
        [
         "20",
         "99348",
         "Kojur"
        ],
        [
         "21",
         "99357",
         "Baladeh"
        ],
        [
         "22",
         "99360",
         "Polsefid"
        ],
        [
         "23",
         "99361",
         "Alasht"
        ]
       ],
       "shape": {
        "columns": 2,
        "rows": 24
       }
      },
      "text/html": [
       "<div>\n",
       "<style scoped>\n",
       "    .dataframe tbody tr th:only-of-type {\n",
       "        vertical-align: middle;\n",
       "    }\n",
       "\n",
       "    .dataframe tbody tr th {\n",
       "        vertical-align: top;\n",
       "    }\n",
       "\n",
       "    .dataframe thead th {\n",
       "        text-align: right;\n",
       "    }\n",
       "</style>\n",
       "<table border=\"1\" class=\"dataframe\">\n",
       "  <thead>\n",
       "    <tr style=\"text-align: right;\">\n",
       "      <th></th>\n",
       "      <th>Station_ID</th>\n",
       "      <th>Station_Name</th>\n",
       "    </tr>\n",
       "  </thead>\n",
       "  <tbody>\n",
       "    <tr>\n",
       "      <th>0</th>\n",
       "      <td>40709</td>\n",
       "      <td>Astara</td>\n",
       "    </tr>\n",
       "    <tr>\n",
       "      <th>1</th>\n",
       "      <td>40718</td>\n",
       "      <td>Bandar-e-anzali</td>\n",
       "    </tr>\n",
       "    <tr>\n",
       "      <th>2</th>\n",
       "      <td>40719</td>\n",
       "      <td>Rasht</td>\n",
       "    </tr>\n",
       "    <tr>\n",
       "      <th>3</th>\n",
       "      <td>40720</td>\n",
       "      <td>Manjil</td>\n",
       "    </tr>\n",
       "    <tr>\n",
       "      <th>4</th>\n",
       "      <td>40732</td>\n",
       "      <td>Ramsar</td>\n",
       "    </tr>\n",
       "    <tr>\n",
       "      <th>5</th>\n",
       "      <td>40734</td>\n",
       "      <td>Nowshahr</td>\n",
       "    </tr>\n",
       "    <tr>\n",
       "      <th>6</th>\n",
       "      <td>40735</td>\n",
       "      <td>Siahbisheh</td>\n",
       "    </tr>\n",
       "    <tr>\n",
       "      <th>7</th>\n",
       "      <td>40736</td>\n",
       "      <td>Babolsar</td>\n",
       "    </tr>\n",
       "    <tr>\n",
       "      <th>8</th>\n",
       "      <td>40737</td>\n",
       "      <td>Gharakhil</td>\n",
       "    </tr>\n",
       "    <tr>\n",
       "      <th>9</th>\n",
       "      <td>40759</td>\n",
       "      <td>Sari</td>\n",
       "    </tr>\n",
       "    <tr>\n",
       "      <th>10</th>\n",
       "      <td>40760</td>\n",
       "      <td>Kiyasar</td>\n",
       "    </tr>\n",
       "    <tr>\n",
       "      <th>11</th>\n",
       "      <td>40788</td>\n",
       "      <td>Sari (dasht-e-naz airport)</td>\n",
       "    </tr>\n",
       "    <tr>\n",
       "      <th>12</th>\n",
       "      <td>40805</td>\n",
       "      <td>Jirandeh</td>\n",
       "    </tr>\n",
       "    <tr>\n",
       "      <th>13</th>\n",
       "      <td>99249</td>\n",
       "      <td>Talesh</td>\n",
       "    </tr>\n",
       "    <tr>\n",
       "      <th>14</th>\n",
       "      <td>99268</td>\n",
       "      <td>Kiyashahr</td>\n",
       "    </tr>\n",
       "    <tr>\n",
       "      <th>15</th>\n",
       "      <td>99276</td>\n",
       "      <td>Lahijan</td>\n",
       "    </tr>\n",
       "    <tr>\n",
       "      <th>16</th>\n",
       "      <td>99281</td>\n",
       "      <td>Masuleh</td>\n",
       "    </tr>\n",
       "    <tr>\n",
       "      <th>17</th>\n",
       "      <td>99299</td>\n",
       "      <td>Galugah</td>\n",
       "    </tr>\n",
       "    <tr>\n",
       "      <th>18</th>\n",
       "      <td>99306</td>\n",
       "      <td>Bandar-e-amirabad</td>\n",
       "    </tr>\n",
       "    <tr>\n",
       "      <th>19</th>\n",
       "      <td>99309</td>\n",
       "      <td>Amol</td>\n",
       "    </tr>\n",
       "    <tr>\n",
       "      <th>20</th>\n",
       "      <td>99348</td>\n",
       "      <td>Kojur</td>\n",
       "    </tr>\n",
       "    <tr>\n",
       "      <th>21</th>\n",
       "      <td>99357</td>\n",
       "      <td>Baladeh</td>\n",
       "    </tr>\n",
       "    <tr>\n",
       "      <th>22</th>\n",
       "      <td>99360</td>\n",
       "      <td>Polsefid</td>\n",
       "    </tr>\n",
       "    <tr>\n",
       "      <th>23</th>\n",
       "      <td>99361</td>\n",
       "      <td>Alasht</td>\n",
       "    </tr>\n",
       "  </tbody>\n",
       "</table>\n",
       "</div>"
      ],
      "text/plain": [
       "   Station_ID                Station_Name\n",
       "0       40709                      Astara\n",
       "1       40718             Bandar-e-anzali\n",
       "2       40719                       Rasht\n",
       "3       40720                      Manjil\n",
       "4       40732                      Ramsar\n",
       "5       40734                    Nowshahr\n",
       "6       40735                  Siahbisheh\n",
       "7       40736                    Babolsar\n",
       "8       40737                   Gharakhil\n",
       "9       40759                        Sari\n",
       "10      40760                     Kiyasar\n",
       "11      40788  Sari (dasht-e-naz airport)\n",
       "12      40805                    Jirandeh\n",
       "13      99249                      Talesh\n",
       "14      99268                   Kiyashahr\n",
       "15      99276                     Lahijan\n",
       "16      99281                     Masuleh\n",
       "17      99299                     Galugah\n",
       "18      99306           Bandar-e-amirabad\n",
       "19      99309                        Amol\n",
       "20      99348                       Kojur\n",
       "21      99357                     Baladeh\n",
       "22      99360                    Polsefid\n",
       "23      99361                      Alasht"
      ]
     },
     "execution_count": 4,
     "metadata": {},
     "output_type": "execute_result"
    }
   ],
   "source": [
    "data[['Station_ID', 'Station_Name']].drop_duplicates().reset_index(drop=True)"
   ]
  },
  {
   "cell_type": "markdown",
   "metadata": {},
   "source": [
    "### Select Stations\n",
    "- Cluster 3 - Bandar-e-anzali:  40718  \n",
    "- Cluster 1 - Gharakhil:        40737  \n",
    "- Cluster 2 - Siahbisheh:       40735  "
   ]
  },
  {
   "cell_type": "code",
   "execution_count": 5,
   "metadata": {},
   "outputs": [],
   "source": [
    "selected_stations = [\"Sari\", \"Alasht\", \"Ramsar\"]\n",
    "\n",
    "data = data.query(\"Station_Name in @selected_stations and Date >= '2006-09' and Date < '2023-10'\")"
   ]
  },
  {
   "cell_type": "markdown",
   "metadata": {},
   "source": [
    "### Selected Colmns"
   ]
  },
  {
   "cell_type": "code",
   "execution_count": 9,
   "metadata": {},
   "outputs": [],
   "source": [
    "scale = 3\n",
    "di = 'SPEI'\n",
    "\n",
    "sf = [\n",
    "    'Station_ID',\n",
    "    'Station_Name',\n",
    "    'Date',\n",
    "    'NDVI',\n",
    "    'EVI',\n",
    "    'PCI_GPM',\n",
    "    'VCI',\n",
    "    'TCI',\n",
    "    'VHI',\n",
    "    'CI_GPM',\n",
    "    f'{di}_{scale}',\n",
    "    f'GPM_{di}_{scale}'\n",
    "]"
   ]
  },
  {
   "cell_type": "markdown",
   "metadata": {},
   "source": [
    "### Filter Data"
   ]
  },
  {
   "cell_type": "code",
   "execution_count": 10,
   "metadata": {},
   "outputs": [],
   "source": [
    "df = data[sf].query('Station_Name in @selected_stations').dropna(subset=[f'{di}_{scale}', f'GPM_{di}_{scale}'])\n",
    "\n",
    "df[f'{di}_{scale}_Class'] = pd.cut(df[f'{di}_{scale}'], bins=[-10, -2, -1.5, -1, 1, 1.5, 2, 10], labels=['ED', 'SD', 'MD', 'NN', 'MW', 'VW', 'EW'])\n",
    "df[f'{di}_{scale}_Class'] = df[f'{di}_{scale}_Class'].astype('category')\n",
    "\n",
    "df[f'GPM_{di}_{scale}_Class'] = pd.cut(df[f'GPM_{di}_{scale}'], bins=[-10, -2, -1.5, -1, 1, 1.5, 2, 10], labels=['ED', 'SD', 'MD', 'NN', 'MW', 'VW', 'EW'])\n",
    "df[f'GPM_{di}_{scale}_Class'] = df[f'GPM_{di}_{scale}_Class'].astype('category')"
   ]
  },
  {
   "cell_type": "code",
   "execution_count": 11,
   "metadata": {},
   "outputs": [
    {
     "data": {
      "application/vnd.microsoft.datawrangler.viewer.v0+json": {
       "columns": [
        {
         "name": "index",
         "rawType": "int64",
         "type": "integer"
        },
        {
         "name": "Station_ID",
         "rawType": "object",
         "type": "string"
        },
        {
         "name": "Station_Name",
         "rawType": "object",
         "type": "string"
        },
        {
         "name": "Date",
         "rawType": "datetime64[ns]",
         "type": "datetime"
        },
        {
         "name": "NDVI",
         "rawType": "float64",
         "type": "float"
        },
        {
         "name": "EVI",
         "rawType": "float64",
         "type": "float"
        },
        {
         "name": "PCI_GPM",
         "rawType": "float64",
         "type": "float"
        },
        {
         "name": "VCI",
         "rawType": "float64",
         "type": "float"
        },
        {
         "name": "TCI",
         "rawType": "float64",
         "type": "float"
        },
        {
         "name": "VHI",
         "rawType": "float64",
         "type": "float"
        },
        {
         "name": "CI_GPM",
         "rawType": "float64",
         "type": "float"
        },
        {
         "name": "SPEI_3",
         "rawType": "float64",
         "type": "float"
        },
        {
         "name": "GPM_SPEI_3",
         "rawType": "float64",
         "type": "float"
        },
        {
         "name": "SPEI_3_Class",
         "rawType": "category",
         "type": "unknown"
        },
        {
         "name": "GPM_SPEI_3_Class",
         "rawType": "category",
         "type": "unknown"
        }
       ],
       "ref": "756544c3-b355-42df-ad83-d2f758ac9c82",
       "rows": [
        [
         "858",
         "40732",
         "Ramsar",
         "2006-11-01 00:00:00",
         "0.561",
         "0.301",
         "0.456",
         "1.0",
         "0.315",
         "0.658",
         "0.591",
         "0.562",
         "0.385",
         "NN",
         "NN"
        ],
        [
         "859",
         "40732",
         "Ramsar",
         "2006-12-01 00:00:00",
         "0.497",
         "0.26",
         "0.845",
         "0.987",
         "0.839",
         "0.913",
         "0.89",
         "0.192",
         "0.375",
         "NN",
         "NN"
        ],
        [
         "860",
         "40732",
         "Ramsar",
         "2007-01-01 00:00:00",
         "0.442",
         "0.216",
         "0.092",
         "1.0",
         "0.33",
         "0.665",
         "0.474",
         "-0.366",
         "0.063",
         "NN",
         "NN"
        ],
        [
         "861",
         "40732",
         "Ramsar",
         "2007-02-01 00:00:00",
         "0.4",
         "0.198",
         "0.693",
         "0.862",
         "0.28",
         "0.571",
         "0.612",
         "0.061",
         "0.885",
         "NN",
         "NN"
        ],
        [
         "862",
         "40732",
         "Ramsar",
         "2007-03-01 00:00:00",
         "0.416",
         "0.193",
         "1.0",
         "1.0",
         "0.749",
         "0.874",
         "0.916",
         "0.33",
         "0.817",
         "NN",
         "NN"
        ],
        [
         "863",
         "40732",
         "Ramsar",
         "2007-04-01 00:00:00",
         "0.47",
         "0.22",
         "0.838",
         "1.0",
         "0.881",
         "0.94",
         "0.906",
         "0.883",
         "1.731",
         "NN",
         "VW"
        ],
        [
         "864",
         "40732",
         "Ramsar",
         "2007-05-01 00:00:00",
         "0.575",
         "0.301",
         "0.149",
         "1.0",
         "0.366",
         "0.683",
         "0.505",
         "1.034",
         "1.868",
         "MW",
         "VW"
        ],
        [
         "865",
         "40732",
         "Ramsar",
         "2007-06-01 00:00:00",
         "0.591",
         "0.334",
         "0.689",
         "1.0",
         "0.339",
         "0.669",
         "0.676",
         "0.973",
         "1.736",
         "NN",
         "VW"
        ],
        [
         "866",
         "40732",
         "Ramsar",
         "2007-07-01 00:00:00",
         "0.615",
         "0.37",
         "0.548",
         "1.0",
         "0.824",
         "0.912",
         "0.79",
         "0.397",
         "0.894",
         "NN",
         "NN"
        ],
        [
         "867",
         "40732",
         "Ramsar",
         "2007-08-01 00:00:00",
         "0.577",
         "0.336",
         "0.14",
         "1.0",
         "0.263",
         "0.631",
         "0.467",
         "-0.133",
         "0.805",
         "NN",
         "NN"
        ],
        [
         "868",
         "40732",
         "Ramsar",
         "2007-09-01 00:00:00",
         "0.518",
         "0.278",
         "0.667",
         "0.769",
         "0.004",
         "0.387",
         "0.48",
         "-0.135",
         "0.309",
         "NN",
         "NN"
        ],
        [
         "869",
         "40732",
         "Ramsar",
         "2007-10-01 00:00:00",
         "0.562",
         "0.285",
         "0.068",
         "0.883",
         "0.363",
         "0.623",
         "0.438",
         "-1.372",
         "-1.245",
         "MD",
         "MD"
        ],
        [
         "870",
         "40732",
         "Ramsar",
         "2007-11-01 00:00:00",
         "0.512",
         "0.26",
         "0.365",
         "0.772",
         "0.447",
         "0.61",
         "0.528",
         "-0.675",
         "-1.112",
         "NN",
         "MD"
        ],
        [
         "871",
         "40732",
         "Ramsar",
         "2007-12-01 00:00:00",
         "0.463",
         "0.213",
         "0.599",
         "0.817",
         "0.807",
         "0.812",
         "0.741",
         "-0.934",
         "-0.848",
         "NN",
         "NN"
        ],
        [
         "872",
         "40732",
         "Ramsar",
         "2008-01-01 00:00:00",
         "0.375",
         "0.176",
         "0.789",
         "0.488",
         "1.0",
         "0.744",
         "0.759",
         "0.275",
         "0.795",
         "NN",
         "NN"
        ],
        [
         "873",
         "40732",
         "Ramsar",
         "2008-02-01 00:00:00",
         "0.329",
         "0.161",
         "0.0",
         "0.099",
         "0.902",
         "0.5",
         "0.333",
         "-0.145",
         "0.866",
         "NN",
         "NN"
        ],
        [
         "874",
         "40732",
         "Ramsar",
         "2008-03-01 00:00:00",
         "0.328",
         "0.159",
         "0.0",
         "0.226",
         "0.395",
         "0.31",
         "0.207",
         "-2.144",
         "-1.642",
         "ED",
         "SD"
        ],
        [
         "875",
         "40732",
         "Ramsar",
         "2008-04-01 00:00:00",
         "0.448",
         "0.251",
         "0.0",
         "0.854",
         "0.373",
         "0.614",
         "0.409",
         "-1.961",
         "-2.241",
         "SD",
         "ED"
        ],
        [
         "876",
         "40732",
         "Ramsar",
         "2008-05-01 00:00:00",
         "0.509",
         "0.25",
         "0.068",
         "0.633",
         "0.751",
         "0.692",
         "0.484",
         "-2.32",
         "-2.563",
         "ED",
         "ED"
        ],
        [
         "877",
         "40732",
         "Ramsar",
         "2008-06-01 00:00:00",
         "0.512",
         "0.303",
         "0.578",
         "0.65",
         "1.0",
         "0.825",
         "0.743",
         "0.663",
         "-0.741",
         "NN",
         "NN"
        ],
        [
         "878",
         "40732",
         "Ramsar",
         "2008-07-01 00:00:00",
         "0.527",
         "0.342",
         "0.417",
         "0.557",
         "0.859",
         "0.708",
         "0.611",
         "1.345",
         "0.77",
         "MW",
         "NN"
        ],
        [
         "879",
         "40732",
         "Ramsar",
         "2008-08-01 00:00:00",
         "0.541",
         "0.316",
         "0.145",
         "0.825",
         "0.274",
         "0.55",
         "0.415",
         "1.193",
         "0.268",
         "MW",
         "NN"
        ],
        [
         "880",
         "40732",
         "Ramsar",
         "2008-09-01 00:00:00",
         "0.526",
         "0.28",
         "0.579",
         "0.81",
         "0.782",
         "0.796",
         "0.724",
         "-0.135",
         "-0.393",
         "NN",
         "NN"
        ],
        [
         "881",
         "40732",
         "Ramsar",
         "2008-10-01 00:00:00",
         "0.585",
         "0.292",
         "0.547",
         "1.0",
         "0.688",
         "0.844",
         "0.745",
         "-0.49",
         "0.307",
         "NN",
         "NN"
        ],
        [
         "882",
         "40732",
         "Ramsar",
         "2008-11-01 00:00:00",
         "0.528",
         "0.237",
         "0.405",
         "0.849",
         "0.488",
         "0.668",
         "0.581",
         "0.072",
         "0.409",
         "NN",
         "NN"
        ],
        [
         "883",
         "40732",
         "Ramsar",
         "2008-12-01 00:00:00",
         "0.408",
         "0.18",
         "1.0",
         "0.537",
         "0.719",
         "0.628",
         "0.752",
         "0.735",
         "0.88",
         "NN",
         "NN"
        ],
        [
         "884",
         "40732",
         "Ramsar",
         "2009-01-01 00:00:00",
         "0.368",
         "0.164",
         "0.352",
         "0.432",
         "0.516",
         "0.474",
         "0.434",
         "1.485",
         "0.765",
         "MW",
         "NN"
        ],
        [
         "885",
         "40732",
         "Ramsar",
         "2009-02-01 00:00:00",
         "0.356",
         "0.165",
         "0.239",
         "0.387",
         "0.469",
         "0.428",
         "0.365",
         "1.218",
         "0.835",
         "MW",
         "NN"
        ],
        [
         "886",
         "40732",
         "Ramsar",
         "2009-03-01 00:00:00",
         "0.386",
         "0.193",
         "0.235",
         "0.735",
         "0.462",
         "0.599",
         "0.477",
         "-0.291",
         "-1.224",
         "NN",
         "MD"
        ],
        [
         "887",
         "40732",
         "Ramsar",
         "2009-04-01 00:00:00",
         "0.469",
         "0.226",
         "0.694",
         "0.995",
         "0.757",
         "0.876",
         "0.815",
         "0.519",
         "-0.109",
         "NN",
         "NN"
        ],
        [
         "888",
         "40732",
         "Ramsar",
         "2009-05-01 00:00:00",
         "0.489",
         "0.274",
         "0.13",
         "0.516",
         "1.0",
         "0.758",
         "0.549",
         "0.72",
         "0.407",
         "NN",
         "NN"
        ],
        [
         "889",
         "40732",
         "Ramsar",
         "2009-06-01 00:00:00",
         "0.508",
         "0.327",
         "0.544",
         "0.632",
         "0.649",
         "0.641",
         "0.609",
         "1.149",
         "1.762",
         "MW",
         "VW"
        ],
        [
         "890",
         "40732",
         "Ramsar",
         "2009-07-01 00:00:00",
         "0.505",
         "0.284",
         "0.096",
         "0.444",
         "1.0",
         "0.722",
         "0.513",
         "-0.626",
         "0.471",
         "NN",
         "NN"
        ],
        [
         "891",
         "40732",
         "Ramsar",
         "2009-08-01 00:00:00",
         "0.573",
         "0.293",
         "0.622",
         "0.979",
         "1.0",
         "0.989",
         "0.867",
         "0.555",
         "1.09",
         "NN",
         "MW"
        ],
        [
         "892",
         "40732",
         "Ramsar",
         "2009-09-01 00:00:00",
         "0.552",
         "0.335",
         "0.811",
         "0.937",
         "0.878",
         "0.907",
         "0.875",
         "0.018",
         "1.103",
         "NN",
         "MW"
        ],
        [
         "893",
         "40732",
         "Ramsar",
         "2009-10-01 00:00:00",
         "0.496",
         "0.265",
         "0.275",
         "0.543",
         "0.557",
         "0.55",
         "0.459",
         "-0.161",
         "0.603",
         "NN",
         "NN"
        ],
        [
         "894",
         "40732",
         "Ramsar",
         "2009-11-01 00:00:00",
         "0.448",
         "0.223",
         "0.332",
         "0.474",
         "0.299",
         "0.386",
         "0.368",
         "-1.401",
         "-0.301",
         "MD",
         "NN"
        ],
        [
         "895",
         "40732",
         "Ramsar",
         "2009-12-01 00:00:00",
         "0.399",
         "0.205",
         "0.471",
         "0.492",
         "0.437",
         "0.465",
         "0.467",
         "-1.361",
         "-0.772",
         "MD",
         "NN"
        ],
        [
         "896",
         "40732",
         "Ramsar",
         "2010-01-01 00:00:00",
         "0.39",
         "0.201",
         "0.246",
         "0.602",
         "0.078",
         "0.34",
         "0.309",
         "-1.399",
         "-1.167",
         "MD",
         "MD"
        ],
        [
         "897",
         "40732",
         "Ramsar",
         "2010-02-01 00:00:00",
         "0.413",
         "0.211",
         "0.288",
         "1.0",
         "0.621",
         "0.81",
         "0.636",
         "-1.877",
         "-1.14",
         "SD",
         "MD"
        ],
        [
         "898",
         "40732",
         "Ramsar",
         "2010-03-01 00:00:00",
         "0.391",
         "0.19",
         "0.669",
         "0.785",
         "0.613",
         "0.699",
         "0.689",
         "-1.324",
         "-0.4",
         "MD",
         "NN"
        ],
        [
         "899",
         "40732",
         "Ramsar",
         "2010-04-01 00:00:00",
         "0.367",
         "0.162",
         "0.69",
         "0.298",
         "1.0",
         "0.649",
         "0.663",
         "-0.211",
         "0.807",
         "NN",
         "NN"
        ],
        [
         "900",
         "40732",
         "Ramsar",
         "2010-05-01 00:00:00",
         "0.521",
         "0.297",
         "0.205",
         "0.7",
         "0.659",
         "0.68",
         "0.521",
         "0.393",
         "1.027",
         "NN",
         "MW"
        ],
        [
         "901",
         "40732",
         "Ramsar",
         "2010-06-01 00:00:00",
         "0.465",
         "0.275",
         "0.2",
         "0.442",
         "0.18",
         "0.311",
         "0.274",
         "-0.084",
         "0.827",
         "NN",
         "NN"
        ],
        [
         "902",
         "40732",
         "Ramsar",
         "2010-07-01 00:00:00",
         "0.524",
         "0.261",
         "0.0",
         "0.537",
         "0.458",
         "0.497",
         "0.332",
         "-2.044",
         "-1.794",
         "ED",
         "SD"
        ],
        [
         "903",
         "40732",
         "Ramsar",
         "2010-08-01 00:00:00",
         "0.368",
         "0.204",
         "0.366",
         "0.0",
         "0.007",
         "0.004",
         "0.125",
         "-0.743",
         "-1.501",
         "NN",
         "SD"
        ],
        [
         "904",
         "40732",
         "Ramsar",
         "2010-09-01 00:00:00",
         "0.445",
         "0.254",
         "0.302",
         "0.409",
         "0.167",
         "0.288",
         "0.293",
         "-1.268",
         "-1.589",
         "MD",
         "SD"
        ],
        [
         "905",
         "40732",
         "Ramsar",
         "2010-10-01 00:00:00",
         "0.482",
         "0.258",
         "0.434",
         "0.469",
         "0.424",
         "0.446",
         "0.442",
         "-0.213",
         "-0.608",
         "NN",
         "NN"
        ],
        [
         "906",
         "40732",
         "Ramsar",
         "2010-11-01 00:00:00",
         "0.447",
         "0.254",
         "0.069",
         "0.468",
         "0.228",
         "0.348",
         "0.255",
         "-0.91",
         "-1.515",
         "NN",
         "SD"
        ],
        [
         "907",
         "40732",
         "Ramsar",
         "2010-12-01 00:00:00",
         "0.381",
         "0.209",
         "0.0",
         "0.4",
         "0.017",
         "0.208",
         "0.139",
         "-1.314",
         "-1.608",
         "MD",
         "SD"
        ]
       ],
       "shape": {
        "columns": 14,
        "rows": 609
       }
      },
      "text/html": [
       "<div>\n",
       "<style scoped>\n",
       "    .dataframe tbody tr th:only-of-type {\n",
       "        vertical-align: middle;\n",
       "    }\n",
       "\n",
       "    .dataframe tbody tr th {\n",
       "        vertical-align: top;\n",
       "    }\n",
       "\n",
       "    .dataframe thead th {\n",
       "        text-align: right;\n",
       "    }\n",
       "</style>\n",
       "<table border=\"1\" class=\"dataframe\">\n",
       "  <thead>\n",
       "    <tr style=\"text-align: right;\">\n",
       "      <th></th>\n",
       "      <th>Station_ID</th>\n",
       "      <th>Station_Name</th>\n",
       "      <th>Date</th>\n",
       "      <th>NDVI</th>\n",
       "      <th>EVI</th>\n",
       "      <th>PCI_GPM</th>\n",
       "      <th>VCI</th>\n",
       "      <th>TCI</th>\n",
       "      <th>VHI</th>\n",
       "      <th>CI_GPM</th>\n",
       "      <th>SPEI_3</th>\n",
       "      <th>GPM_SPEI_3</th>\n",
       "      <th>SPEI_3_Class</th>\n",
       "      <th>GPM_SPEI_3_Class</th>\n",
       "    </tr>\n",
       "  </thead>\n",
       "  <tbody>\n",
       "    <tr>\n",
       "      <th>858</th>\n",
       "      <td>40732</td>\n",
       "      <td>Ramsar</td>\n",
       "      <td>2006-11-01</td>\n",
       "      <td>0.561</td>\n",
       "      <td>0.301</td>\n",
       "      <td>0.456</td>\n",
       "      <td>1.000</td>\n",
       "      <td>0.315</td>\n",
       "      <td>0.658</td>\n",
       "      <td>0.591</td>\n",
       "      <td>0.562</td>\n",
       "      <td>0.385</td>\n",
       "      <td>NN</td>\n",
       "      <td>NN</td>\n",
       "    </tr>\n",
       "    <tr>\n",
       "      <th>859</th>\n",
       "      <td>40732</td>\n",
       "      <td>Ramsar</td>\n",
       "      <td>2006-12-01</td>\n",
       "      <td>0.497</td>\n",
       "      <td>0.260</td>\n",
       "      <td>0.845</td>\n",
       "      <td>0.987</td>\n",
       "      <td>0.839</td>\n",
       "      <td>0.913</td>\n",
       "      <td>0.890</td>\n",
       "      <td>0.192</td>\n",
       "      <td>0.375</td>\n",
       "      <td>NN</td>\n",
       "      <td>NN</td>\n",
       "    </tr>\n",
       "    <tr>\n",
       "      <th>860</th>\n",
       "      <td>40732</td>\n",
       "      <td>Ramsar</td>\n",
       "      <td>2007-01-01</td>\n",
       "      <td>0.442</td>\n",
       "      <td>0.216</td>\n",
       "      <td>0.092</td>\n",
       "      <td>1.000</td>\n",
       "      <td>0.330</td>\n",
       "      <td>0.665</td>\n",
       "      <td>0.474</td>\n",
       "      <td>-0.366</td>\n",
       "      <td>0.063</td>\n",
       "      <td>NN</td>\n",
       "      <td>NN</td>\n",
       "    </tr>\n",
       "    <tr>\n",
       "      <th>861</th>\n",
       "      <td>40732</td>\n",
       "      <td>Ramsar</td>\n",
       "      <td>2007-02-01</td>\n",
       "      <td>0.400</td>\n",
       "      <td>0.198</td>\n",
       "      <td>0.693</td>\n",
       "      <td>0.862</td>\n",
       "      <td>0.280</td>\n",
       "      <td>0.571</td>\n",
       "      <td>0.612</td>\n",
       "      <td>0.061</td>\n",
       "      <td>0.885</td>\n",
       "      <td>NN</td>\n",
       "      <td>NN</td>\n",
       "    </tr>\n",
       "    <tr>\n",
       "      <th>862</th>\n",
       "      <td>40732</td>\n",
       "      <td>Ramsar</td>\n",
       "      <td>2007-03-01</td>\n",
       "      <td>0.416</td>\n",
       "      <td>0.193</td>\n",
       "      <td>1.000</td>\n",
       "      <td>1.000</td>\n",
       "      <td>0.749</td>\n",
       "      <td>0.874</td>\n",
       "      <td>0.916</td>\n",
       "      <td>0.330</td>\n",
       "      <td>0.817</td>\n",
       "      <td>NN</td>\n",
       "      <td>NN</td>\n",
       "    </tr>\n",
       "    <tr>\n",
       "      <th>...</th>\n",
       "      <td>...</td>\n",
       "      <td>...</td>\n",
       "      <td>...</td>\n",
       "      <td>...</td>\n",
       "      <td>...</td>\n",
       "      <td>...</td>\n",
       "      <td>...</td>\n",
       "      <td>...</td>\n",
       "      <td>...</td>\n",
       "      <td>...</td>\n",
       "      <td>...</td>\n",
       "      <td>...</td>\n",
       "      <td>...</td>\n",
       "      <td>...</td>\n",
       "    </tr>\n",
       "    <tr>\n",
       "      <th>5122</th>\n",
       "      <td>99361</td>\n",
       "      <td>Alasht</td>\n",
       "      <td>2023-05-01</td>\n",
       "      <td>0.469</td>\n",
       "      <td>0.287</td>\n",
       "      <td>0.441</td>\n",
       "      <td>0.000</td>\n",
       "      <td>0.141</td>\n",
       "      <td>0.070</td>\n",
       "      <td>0.194</td>\n",
       "      <td>-1.816</td>\n",
       "      <td>-0.647</td>\n",
       "      <td>SD</td>\n",
       "      <td>NN</td>\n",
       "    </tr>\n",
       "    <tr>\n",
       "      <th>5123</th>\n",
       "      <td>99361</td>\n",
       "      <td>Alasht</td>\n",
       "      <td>2023-06-01</td>\n",
       "      <td>0.461</td>\n",
       "      <td>0.257</td>\n",
       "      <td>0.462</td>\n",
       "      <td>0.236</td>\n",
       "      <td>0.836</td>\n",
       "      <td>0.536</td>\n",
       "      <td>0.511</td>\n",
       "      <td>-0.261</td>\n",
       "      <td>-0.365</td>\n",
       "      <td>NN</td>\n",
       "      <td>NN</td>\n",
       "    </tr>\n",
       "    <tr>\n",
       "      <th>5124</th>\n",
       "      <td>99361</td>\n",
       "      <td>Alasht</td>\n",
       "      <td>2023-07-01</td>\n",
       "      <td>0.466</td>\n",
       "      <td>0.259</td>\n",
       "      <td>0.215</td>\n",
       "      <td>0.573</td>\n",
       "      <td>0.767</td>\n",
       "      <td>0.670</td>\n",
       "      <td>0.518</td>\n",
       "      <td>0.809</td>\n",
       "      <td>-0.046</td>\n",
       "      <td>NN</td>\n",
       "      <td>NN</td>\n",
       "    </tr>\n",
       "    <tr>\n",
       "      <th>5125</th>\n",
       "      <td>99361</td>\n",
       "      <td>Alasht</td>\n",
       "      <td>2023-08-01</td>\n",
       "      <td>0.420</td>\n",
       "      <td>0.219</td>\n",
       "      <td>0.222</td>\n",
       "      <td>0.537</td>\n",
       "      <td>0.274</td>\n",
       "      <td>0.406</td>\n",
       "      <td>0.345</td>\n",
       "      <td>0.378</td>\n",
       "      <td>-0.621</td>\n",
       "      <td>NN</td>\n",
       "      <td>NN</td>\n",
       "    </tr>\n",
       "    <tr>\n",
       "      <th>5126</th>\n",
       "      <td>99361</td>\n",
       "      <td>Alasht</td>\n",
       "      <td>2023-09-01</td>\n",
       "      <td>0.380</td>\n",
       "      <td>0.175</td>\n",
       "      <td>0.455</td>\n",
       "      <td>0.375</td>\n",
       "      <td>0.948</td>\n",
       "      <td>0.662</td>\n",
       "      <td>0.593</td>\n",
       "      <td>-0.451</td>\n",
       "      <td>-0.772</td>\n",
       "      <td>NN</td>\n",
       "      <td>NN</td>\n",
       "    </tr>\n",
       "  </tbody>\n",
       "</table>\n",
       "<p>609 rows × 14 columns</p>\n",
       "</div>"
      ],
      "text/plain": [
       "     Station_ID Station_Name       Date   NDVI    EVI  PCI_GPM    VCI    TCI  \\\n",
       "858       40732       Ramsar 2006-11-01  0.561  0.301    0.456  1.000  0.315   \n",
       "859       40732       Ramsar 2006-12-01  0.497  0.260    0.845  0.987  0.839   \n",
       "860       40732       Ramsar 2007-01-01  0.442  0.216    0.092  1.000  0.330   \n",
       "861       40732       Ramsar 2007-02-01  0.400  0.198    0.693  0.862  0.280   \n",
       "862       40732       Ramsar 2007-03-01  0.416  0.193    1.000  1.000  0.749   \n",
       "...         ...          ...        ...    ...    ...      ...    ...    ...   \n",
       "5122      99361       Alasht 2023-05-01  0.469  0.287    0.441  0.000  0.141   \n",
       "5123      99361       Alasht 2023-06-01  0.461  0.257    0.462  0.236  0.836   \n",
       "5124      99361       Alasht 2023-07-01  0.466  0.259    0.215  0.573  0.767   \n",
       "5125      99361       Alasht 2023-08-01  0.420  0.219    0.222  0.537  0.274   \n",
       "5126      99361       Alasht 2023-09-01  0.380  0.175    0.455  0.375  0.948   \n",
       "\n",
       "        VHI  CI_GPM  SPEI_3  GPM_SPEI_3 SPEI_3_Class GPM_SPEI_3_Class  \n",
       "858   0.658   0.591   0.562       0.385           NN               NN  \n",
       "859   0.913   0.890   0.192       0.375           NN               NN  \n",
       "860   0.665   0.474  -0.366       0.063           NN               NN  \n",
       "861   0.571   0.612   0.061       0.885           NN               NN  \n",
       "862   0.874   0.916   0.330       0.817           NN               NN  \n",
       "...     ...     ...     ...         ...          ...              ...  \n",
       "5122  0.070   0.194  -1.816      -0.647           SD               NN  \n",
       "5123  0.536   0.511  -0.261      -0.365           NN               NN  \n",
       "5124  0.670   0.518   0.809      -0.046           NN               NN  \n",
       "5125  0.406   0.345   0.378      -0.621           NN               NN  \n",
       "5126  0.662   0.593  -0.451      -0.772           NN               NN  \n",
       "\n",
       "[609 rows x 14 columns]"
      ]
     },
     "execution_count": 11,
     "metadata": {},
     "output_type": "execute_result"
    }
   ],
   "source": [
    "df"
   ]
  },
  {
   "cell_type": "markdown",
   "metadata": {},
   "source": [
    "### Plot"
   ]
  },
  {
   "cell_type": "code",
   "execution_count": 14,
   "metadata": {},
   "outputs": [
    {
     "data": {
      "image/png": "[encoded data removed]",
      "text/plain": [
       "<Figure size 1200x800 with 2 Axes>"
      ]
     },
     "metadata": {},
     "output_type": "display_data"
    }
   ],
   "source": [
    "df_plot = df.query('Station_Name == \"Alasht\"')\n",
    "df_plot.set_index('Date', inplace=True)\n",
    "\n",
    "f, ax = plt.subplots(2, 1, figsize=(12, 8), sharex=True)\n",
    "spei.plot.si(df_plot[f'{di}_{scale}'], ax=ax[0], cmap=\"vik_r\")\n",
    "spei.plot.si(df_plot[f'GPM_{di}_{scale}'], ax=ax[1], cmap=\"vik_r\")\n",
    "ax[0].set_xlim(pd.to_datetime([\"2006\", \"2024\"]))\n",
    "[x.grid() for x in ax]\n",
    "[ax[i].set_ylabel(n, fontsize=14) for i, n in enumerate([f'{di}{scale} (Station)', f'{di}{scale} (GPM)'])];"
   ]
  },
  {
   "cell_type": "markdown",
   "metadata": {},
   "source": [
    "### Calculate Model Evaluator"
   ]
  },
  {
   "cell_type": "code",
   "execution_count": 15,
   "metadata": {},
   "outputs": [
    {
     "name": "stdout",
     "output_type": "stream",
     "text": [
      "              precision    recall  f1-score   support\n",
      "\n",
      "          ED       0.60      0.75      0.67         4\n",
      "          EW       0.33      1.00      0.50         1\n",
      "          MD       0.12      0.14      0.13        14\n",
      "          MW       0.50      0.57      0.53        23\n",
      "          NN       0.82      0.84      0.83       134\n",
      "          SD       0.45      0.36      0.40        14\n",
      "          VW       0.50      0.15      0.24        13\n",
      "\n",
      "    accuracy                           0.68       203\n",
      "   macro avg       0.47      0.54      0.47       203\n",
      "weighted avg       0.68      0.68      0.67       203\n",
      "\n"
     ]
    }
   ],
   "source": [
    "from sklearn.metrics import accuracy_score, classification_report\n",
    "\n",
    "report = classification_report(df_plot[f'{di}_{scale}_Class'], df_plot[f'GPM_{di}_{scale}_Class'])\n",
    "print(report)"
   ]
  },
  {
   "cell_type": "code",
   "execution_count": 31,
   "metadata": {},
   "outputs": [
    {
     "name": "stdout",
     "output_type": "stream",
     "text": [
      "\n",
      "Metrics for Station ID: Sari\n",
      "Model Performance Metrics:\n",
      "Mean Absolute Error (MAE): 0.4425\n",
      "Mean Squared Error (MSE): 0.3073\n",
      "Root Mean Squared Error (RMSE): 0.5544\n",
      "R-squared (R2): 0.6542\n",
      "Explained Variance Score: 0.6615\n",
      "Willmott's Index of Agreement (WI): 0.7068\n",
      "Nash–Sutcliffe Efficiency (NS): 0.6542\n",
      "Mean Absolute Deviation (MAD): 0.4425\n",
      "\n",
      "Metrics for Station ID: Alasht\n",
      "Model Performance Metrics:\n",
      "Mean Absolute Error (MAE): 0.4591\n",
      "Mean Squared Error (MSE): 0.3156\n",
      "Root Mean Squared Error (RMSE): 0.5618\n",
      "R-squared (R2): 0.6398\n",
      "Explained Variance Score: 0.6458\n",
      "Willmott's Index of Agreement (WI): 0.6930\n",
      "Nash–Sutcliffe Efficiency (NS): 0.6398\n",
      "Mean Absolute Deviation (MAD): 0.4591\n",
      "\n",
      "Metrics for Station ID: Ramsar\n",
      "Model Performance Metrics:\n",
      "Mean Absolute Error (MAE): 1.0037\n",
      "Mean Squared Error (MSE): 1.5776\n",
      "Root Mean Squared Error (RMSE): 1.2560\n",
      "R-squared (R2): -0.5923\n",
      "Explained Variance Score: -0.5913\n",
      "Willmott's Index of Agreement (WI): 0.3759\n",
      "Nash–Sutcliffe Efficiency (NS): -0.5923\n",
      "Mean Absolute Deviation (MAD): 1.0037\n"
     ]
    }
   ],
   "source": [
    "from utils.model_evaluator import ModelEvaluator\n",
    "\n",
    "for st in selected_stations:\n",
    "    print(f\"\\nMetrics for Station ID: {st}\")\n",
    "    ModelEvaluator(df.query('Station_Name == @st'), f'{di}_{scale}', f'GPM_{di}_{scale}').display_metrics()"
   ]
  },
  {
   "cell_type": "code",
   "execution_count": 58,
   "metadata": {},
   "outputs": [
    {
     "data": {
      "application/vnd.plotly.v1+json": {
       "config": {
        "plotlyServerURL": "https://plot.ly"
       },
       "data": [
        {
         "hovertemplate": "SPEI_24=%{x}<br>GPM_SPEI_24=%{y}<extra></extra>",
         "legendgroup": "",
         "marker": {
          "color": "#636efa",
          "symbol": "circle"
         },
         "mode": "markers",
         "name": "",
         "orientation": "v",
         "showlegend": false,
         "type": "scatter",
         "x": {
          "bdata": "PzVeukkM5r+mm8QgsHLgvzm0yHa+n8o/ke18PzVeur8v3SQGgZXDv/yp8dJNYrC/+n5qvHSTuL+PwvUoXI/av5zEILByaME/ObTIdr6fyj97FK5H4Xq0v8P1KFyPwuW/eekmMQiszD8lBoGVQ4vgP4PAyqFFtuM/IbByaJHt6D/HSzeJQWDlP/yp8dJNYug/K4cW2c737z9SuB6F61H0Pylcj8L1KPQ/ObTIdr6f9D/NzMzMzMz0P0oMAiuHFvM/JQaBlUOL9D/jpZvEILDiP1pkO99Pjce/Gy/dJAaBxb8UrkfhehTWv1CNl24Sg8C/aJHtfD81rj8AAAAAAADAP6wcWmQ738+/Di2yne+n3r/pJjEIrBzav2Q730+Nl+a/ukkMAiuH7r93vp8aL93wv6JFtvP91Ni/KVyPwvUo6L9qvHSTGATWv8dLN4lBYN2/Gy/dJAaBtb8ZBFYOLbLNP5zEILByaJG/46WbxCCw0r9qvHSTGASmP1g5tMh2vq8/Vg4tsp3v1z+iRbbz/dTwP/p+arx0k/Y/N4lBYOXQ+D/D9Shcj8L3P7ByaJHtfPk/mG4Sg8DK9z8lBoGVQ4v2P+f7qfHSTfQ/NV66SQwC9T99PzVeukn2P6rx0k1iEPo/ObTIdr6f+D+DwMqhRbb7P5qZmZmZmf8/WDm0yHa+9z/ByqFFtvP1P/LSTWIQWPc/JQaBlUOL8D8lBoGVQ4vwP5HtfD81XvA/vHSTGARW8D8nMQisHFryP2iR7Xw/NfA/qMZLN4lB7D/LoUW28/2kP9v5fmq8dOM/hetRuB6F0z8bL90kBoGlv7x0kxgEVta/j8L1KFyP2r9aZDvfT423vyuHFtnO96O/qMZLN4lB2L9cj8L1KFzjv2IQWDm0yNa/16NwPQrX07/y0k1iEFjpv2iR7Xw/NfS/N4lBYOXQ8L9/arx0kxj6v42XbhKDwPS/VOOlm8Qg6L+R7Xw/NV7qvzMzMzMzM7O/eekmMQiszD+LbOf7qfGyP0w3iUFg5dg/+FPjpZvE4D/0/dR46SbxP9ejcD0K1+8/7FG4HoXr6T8OLbKd76fqP5ZDi2zn++0/I9v5fmq88D+LbOf7qfHqPzVeukkMAu8/uB6F61G47j/4U+Olm8TwPxfZzvdT490/eekmMQisvD/fT42XbhLDvyGwcmiR7eS/wcqhRbbz1b8AAAAAAADAv/7UeOkmMcg/4XoUrkfh2r9g5dAi2/nmvwwCK4cW2eq/f2q8dJMY/r8rhxbZzvcAwL6fGi/dJADAO99PjZdu/r9eukkMAisBwMUgsHJokQDAFK5H4XoU/r8xCKwcWmT9vyUGgZVDi/a/CKwcWmQ7/b/sUbgehevlv7gehetRuL6/GQRWDi2y1b+uR+F6FK7fv6AaL90kBtG/2c73U+Olm7/VeOkmMQjMPyuHFtnO98M/XrpJDAIr7z+HFtnO91PrPycxCKwcWtw/2c73U+Ol8T9iEFg5tMj0P+Olm8QgsPI/Gy/dJAaB8z9g5dAi2/n0P4cW2c73U/c/ke18PzVe+D8xCKwcWmT1P6abxCCwctg/d76fGi/d6D/hehSuR+HuPw4tsp3vp+o/TDeJQWDl6D/HSzeJQWDVP+XQItv5ftK/I9v5fmq8tD956SYxCKycP/7UeOkmMdC/9P3UeOkm2b9U46WbxCDgvz0K16NwPdK/HVpkO99P4b+6SQwCK4e2v2IQWDm0yLY/WDm0yHa+4783iUFg5dDmvx1aZDvfT/u/i2zn+6nx5r+wcmiR7Xzrv6abxCCwcui/JQaBlUOL9L/0/dR46Sblv/7UeOkmMdi/eekmMQis5L89CtejcD3qvxBYObTIdvS/I9v5fmq88L+BlUOLbOfzvxsv3SQGgfG/3SQGgZVD678/NV66SQzmv3sUrkfhevC/bxKDwMqh7b+gGi/dJAbpvw==",
          "dtype": "f8"
         },
         "xaxis": "x",
         "y": {
          "bdata": "+n5qvHSTiD/fT42XbhLDP0SLbOf7qbE/O99PjZduwj8xCKwcWmS7P9NNYhBYOcQ//Knx0k1iwD99PzVeuknMv/p+arx0k2g/WmQ730+Nxz9oke18PzW+P/p+arx0k4g/Rrbz/dR42T/wp8ZLN4nlP/LSTWIQWLk/tMh2vp8a7z8OLbKd76fqPy/dJAaBlec/ZDvfT42X7j+R7Xw/NV70P42XbhKDwPo/vHSTGARW+j9U46WbxCD4PycxCKwcWvQ/d76fGi/d9j+oxks3iUHwPxsv3SQGgbU/8tJNYhBY2T/8qfHSTWKAP8P1KFyPwrU/lkOLbOf70T9iEFg5tMjWP/yp8dJNYlC/MzMzMzMzs79YObTIdr6vP9NNYhBYObS/16NwPQrXwz+cxCCwcmihvzMzMzMzM7M/kxgEVg4t2j/ZzvdT46XbP3e+nxov3eA/ppvEILBy5D+TGARWDi3qP8HKoUW289U/j8L1KFyP0j/y0k1iEFjlP7x0kxgEVuo/3SQGgZVD6z/sUbgehevxP1CNl24Sg8A/eekmMQis+D/hehSuR+H8P6jGSzeJQfw/aJHtfD81+D8QWDm0yHb2P2Dl0CLb+fY/PQrXo3A9+D/TTWIQWDn2P5qZmZmZmfc/30+Nl24S8z/wp8ZLN4nxP8uhRbbz/bQ/BoGVQ4ts3z9YObTIdr7rPxsv3SQGgeU/TDeJQWDl0D8K16NwPQrXPyGwcmiR7dQ/PzVeukkM2j9/arx0kxjgPycxCKwcWtQ/PzVeukkMwj+LbOf7qfHCv5zEILByaJE/I9v5fmq8tL/8qfHSTWLQv9NNYhBYOdy/3SQGgZVD078ZBFYOLbKtP8P1KFyPwrW/qvHSTWIQ2L9SuB6F61Hgv3E9CtejcNW/46WbxCCw2r8dWmQ730/dvyuHFtnO96O/i2zn+6nx0r8MAiuHFtnevwRWDi2ynee/8tJNYhBY4b+e76fGSzfZv4lBYOXQIqu/TDeJQWDlsD+28/3UeOnGv3npJjEIrLw/5/up8dJNwj93vp8aL93cPzm0yHa+n5o/FK5H4XoUzj9OYhBYObTYP42XbhKDwNo/gZVDi2zn0z8pXI/C9SisP3sUrkfhetQ/exSuR+F61D9cj8L1KFzXP/yp8dJNYmC/HVpkO99P1b85tMh2vp/avzMzMzMzM8O/HVpkO99P5b9Ei2zn+6nlv5qZmZmZmeW/001iEFg57L8dWmQ730/zv5HtfD81XvK/rkfhehSu878rhxbZzvf1vxsv3SQGgfm/UI2XbhKD+L/NzMzMzMz8v4lBYOXQIue/j8L1KFyP9r8j2/l+arz0v9nO91Pjpfm/9P3UeOkm97/ByqFFtvPlv9ejcD0K19u/ObTIdr6f2r/Xo3A9Ctfbv6rx0k1iENC/UrgehetRuL9qvHSTGAS2v/p+arx0k3i/arx0kxgE5j/RItv5fmroP4XrUbgehds/iUFg5dAi7z8ZBFYOLbL1P1pkO99Pjfc/5/up8dJN9j/+1HjpJjH2PwRWDi2ynfc/GQRWDi2y+T9YObTIdr73P8l2vp8aL70/N4lBYOXQ8j+6SQwCK4f0P4PAyqFFtu8/LbKd76fG4z97FK5H4XrEv9NNYhBYOeC/FK5H4XoU3r9SuB6F61Hgv6wcWmQ739e/bef7qfHS4b+oxks3iUHgv4ts5/up8bK/XI/C9Shc77/P91PjpZvsv76fGi/dJO6/VOOlm8Qg9r9xPQrXo3D3v/yp8dJNYvi/GQRWDi2y97/y0k1iEFj3v+Olm8QgsPa/PzVeukkM/L+uR+F6FK75v0w3iUFg5fK/arx0kxgE/r8pXI/C9Sj8vwwCK4cW2QDAZmZmZmZmAMACK4cW2c7/v9v5fmq8dP2/PQrXo3A9/L+6SQwCK4f6v2IQWDm0yPq/UI2XbhKD+r9zaJHtfD/5vw==",
          "dtype": "f8"
         },
         "yaxis": "y"
        }
       ],
       "layout": {
        "legend": {
         "tracegroupgap": 0
        },
        "template": {
         "data": {
          "bar": [
           {
            "error_x": {
             "color": "#2a3f5f"
            },
            "error_y": {
             "color": "#2a3f5f"
            },
            "marker": {
             "line": {
              "color": "#E5ECF6",
              "width": 0.5
             },
             "pattern": {
              "fillmode": "overlay",
              "size": 10,
              "solidity": 0.2
             }
            },
            "type": "bar"
           }
          ],
          "barpolar": [
           {
            "marker": {
             "line": {
              "color": "#E5ECF6",
              "width": 0.5
             },
             "pattern": {
              "fillmode": "overlay",
              "size": 10,
              "solidity": 0.2
             }
            },
            "type": "barpolar"
           }
          ],
          "carpet": [
           {
            "aaxis": {
             "endlinecolor": "#2a3f5f",
             "gridcolor": "white",
             "linecolor": "white",
             "minorgridcolor": "white",
             "startlinecolor": "#2a3f5f"
            },
            "baxis": {
             "endlinecolor": "#2a3f5f",
             "gridcolor": "white",
             "linecolor": "white",
             "minorgridcolor": "white",
             "startlinecolor": "#2a3f5f"
            },
            "type": "carpet"
           }
          ],
          "choropleth": [
           {
            "colorbar": {
             "outlinewidth": 0,
             "ticks": ""
            },
            "type": "choropleth"
           }
          ],
          "contour": [
           {
            "colorbar": {
             "outlinewidth": 0,
             "ticks": ""
            },
            "colorscale": [
             [
              0,
              "#0d0887"
             ],
             [
              0.1111111111111111,
              "#46039f"
             ],
             [
              0.2222222222222222,
              "#7201a8"
             ],
             [
              0.3333333333333333,
              "#9c179e"
             ],
             [
              0.4444444444444444,
              "#bd3786"
             ],
             [
              0.5555555555555556,
              "#d8576b"
             ],
             [
              0.6666666666666666,
              "#ed7953"
             ],
             [
              0.7777777777777778,
              "#fb9f3a"
             ],
             [
              0.8888888888888888,
              "#fdca26"
             ],
             [
              1,
              "#f0f921"
             ]
            ],
            "type": "contour"
           }
          ],
          "contourcarpet": [
           {
            "colorbar": {
             "outlinewidth": 0,
             "ticks": ""
            },
            "type": "contourcarpet"
           }
          ],
          "heatmap": [
           {
            "colorbar": {
             "outlinewidth": 0,
             "ticks": ""
            },
            "colorscale": [
             [
              0,
              "#0d0887"
             ],
             [
              0.1111111111111111,
              "#46039f"
             ],
             [
              0.2222222222222222,
              "#7201a8"
             ],
             [
              0.3333333333333333,
              "#9c179e"
             ],
             [
              0.4444444444444444,
              "#bd3786"
             ],
             [
              0.5555555555555556,
              "#d8576b"
             ],
             [
              0.6666666666666666,
              "#ed7953"
             ],
             [
              0.7777777777777778,
              "#fb9f3a"
             ],
             [
              0.8888888888888888,
              "#fdca26"
             ],
             [
              1,
              "#f0f921"
             ]
            ],
            "type": "heatmap"
           }
          ],
          "histogram": [
           {
            "marker": {
             "pattern": {
              "fillmode": "overlay",
              "size": 10,
              "solidity": 0.2
             }
            },
            "type": "histogram"
           }
          ],
          "histogram2d": [
           {
            "colorbar": {
             "outlinewidth": 0,
             "ticks": ""
            },
            "colorscale": [
             [
              0,
              "#0d0887"
             ],
             [
              0.1111111111111111,
              "#46039f"
             ],
             [
              0.2222222222222222,
              "#7201a8"
             ],
             [
              0.3333333333333333,
              "#9c179e"
             ],
             [
              0.4444444444444444,
              "#bd3786"
             ],
             [
              0.5555555555555556,
              "#d8576b"
             ],
             [
              0.6666666666666666,
              "#ed7953"
             ],
             [
              0.7777777777777778,
              "#fb9f3a"
             ],
             [
              0.8888888888888888,
              "#fdca26"
             ],
             [
              1,
              "#f0f921"
             ]
            ],
            "type": "histogram2d"
           }
          ],
          "histogram2dcontour": [
           {
            "colorbar": {
             "outlinewidth": 0,
             "ticks": ""
            },
            "colorscale": [
             [
              0,
              "#0d0887"
             ],
             [
              0.1111111111111111,
              "#46039f"
             ],
             [
              0.2222222222222222,
              "#7201a8"
             ],
             [
              0.3333333333333333,
              "#9c179e"
             ],
             [
              0.4444444444444444,
              "#bd3786"
             ],
             [
              0.5555555555555556,
              "#d8576b"
             ],
             [
              0.6666666666666666,
              "#ed7953"
             ],
             [
              0.7777777777777778,
              "#fb9f3a"
             ],
             [
              0.8888888888888888,
              "#fdca26"
             ],
             [
              1,
              "#f0f921"
             ]
            ],
            "type": "histogram2dcontour"
           }
          ],
          "mesh3d": [
           {
            "colorbar": {
             "outlinewidth": 0,
             "ticks": ""
            },
            "type": "mesh3d"
           }
          ],
          "parcoords": [
           {
            "line": {
             "colorbar": {
              "outlinewidth": 0,
              "ticks": ""
             }
            },
            "type": "parcoords"
           }
          ],
          "pie": [
           {
            "automargin": true,
            "type": "pie"
           }
          ],
          "scatter": [
           {
            "fillpattern": {
             "fillmode": "overlay",
             "size": 10,
             "solidity": 0.2
            },
            "type": "scatter"
           }
          ],
          "scatter3d": [
           {
            "line": {
             "colorbar": {
              "outlinewidth": 0,
              "ticks": ""
             }
            },
            "marker": {
             "colorbar": {
              "outlinewidth": 0,
              "ticks": ""
             }
            },
            "type": "scatter3d"
           }
          ],
          "scattercarpet": [
           {
            "marker": {
             "colorbar": {
              "outlinewidth": 0,
              "ticks": ""
             }
            },
            "type": "scattercarpet"
           }
          ],
          "scattergeo": [
           {
            "marker": {
             "colorbar": {
              "outlinewidth": 0,
              "ticks": ""
             }
            },
            "type": "scattergeo"
           }
          ],
          "scattergl": [
           {
            "marker": {
             "colorbar": {
              "outlinewidth": 0,
              "ticks": ""
             }
            },
            "type": "scattergl"
           }
          ],
          "scattermap": [
           {
            "marker": {
             "colorbar": {
              "outlinewidth": 0,
              "ticks": ""
             }
            },
            "type": "scattermap"
           }
          ],
          "scattermapbox": [
           {
            "marker": {
             "colorbar": {
              "outlinewidth": 0,
              "ticks": ""
             }
            },
            "type": "scattermapbox"
           }
          ],
          "scatterpolar": [
           {
            "marker": {
             "colorbar": {
              "outlinewidth": 0,
              "ticks": ""
             }
            },
            "type": "scatterpolar"
           }
          ],
          "scatterpolargl": [
           {
            "marker": {
             "colorbar": {
              "outlinewidth": 0,
              "ticks": ""
             }
            },
            "type": "scatterpolargl"
           }
          ],
          "scatterternary": [
           {
            "marker": {
             "colorbar": {
              "outlinewidth": 0,
              "ticks": ""
             }
            },
            "type": "scatterternary"
           }
          ],
          "surface": [
           {
            "colorbar": {
             "outlinewidth": 0,
             "ticks": ""
            },
            "colorscale": [
             [
              0,
              "#0d0887"
             ],
             [
              0.1111111111111111,
              "#46039f"
             ],
             [
              0.2222222222222222,
              "#7201a8"
             ],
             [
              0.3333333333333333,
              "#9c179e"
             ],
             [
              0.4444444444444444,
              "#bd3786"
             ],
             [
              0.5555555555555556,
              "#d8576b"
             ],
             [
              0.6666666666666666,
              "#ed7953"
             ],
             [
              0.7777777777777778,
              "#fb9f3a"
             ],
             [
              0.8888888888888888,
              "#fdca26"
             ],
             [
              1,
              "#f0f921"
             ]
            ],
            "type": "surface"
           }
          ],
          "table": [
           {
            "cells": {
             "fill": {
              "color": "#EBF0F8"
             },
             "line": {
              "color": "white"
             }
            },
            "header": {
             "fill": {
              "color": "#C8D4E3"
             },
             "line": {
              "color": "white"
             }
            },
            "type": "table"
           }
          ]
         },
         "layout": {
          "annotationdefaults": {
           "arrowcolor": "#2a3f5f",
           "arrowhead": 0,
           "arrowwidth": 1
          },
          "autotypenumbers": "strict",
          "coloraxis": {
           "colorbar": {
            "outlinewidth": 0,
            "ticks": ""
           }
          },
          "colorscale": {
           "diverging": [
            [
             0,
             "#8e0152"
            ],
            [
             0.1,
             "#c51b7d"
            ],
            [
             0.2,
             "#de77ae"
            ],
            [
             0.3,
             "#f1b6da"
            ],
            [
             0.4,
             "#fde0ef"
            ],
            [
             0.5,
             "#f7f7f7"
            ],
            [
             0.6,
             "#e6f5d0"
            ],
            [
             0.7,
             "#b8e186"
            ],
            [
             0.8,
             "#7fbc41"
            ],
            [
             0.9,
             "#4d9221"
            ],
            [
             1,
             "#276419"
            ]
           ],
           "sequential": [
            [
             0,
             "#0d0887"
            ],
            [
             0.1111111111111111,
             "#46039f"
            ],
            [
             0.2222222222222222,
             "#7201a8"
            ],
            [
             0.3333333333333333,
             "#9c179e"
            ],
            [
             0.4444444444444444,
             "#bd3786"
            ],
            [
             0.5555555555555556,
             "#d8576b"
            ],
            [
             0.6666666666666666,
             "#ed7953"
            ],
            [
             0.7777777777777778,
             "#fb9f3a"
            ],
            [
             0.8888888888888888,
             "#fdca26"
            ],
            [
             1,
             "#f0f921"
            ]
           ],
           "sequentialminus": [
            [
             0,
             "#0d0887"
            ],
            [
             0.1111111111111111,
             "#46039f"
            ],
            [
             0.2222222222222222,
             "#7201a8"
            ],
            [
             0.3333333333333333,
             "#9c179e"
            ],
            [
             0.4444444444444444,
             "#bd3786"
            ],
            [
             0.5555555555555556,
             "#d8576b"
            ],
            [
             0.6666666666666666,
             "#ed7953"
            ],
            [
             0.7777777777777778,
             "#fb9f3a"
            ],
            [
             0.8888888888888888,
             "#fdca26"
            ],
            [
             1,
             "#f0f921"
            ]
           ]
          },
          "colorway": [
           "#636efa",
           "#EF553B",
           "#00cc96",
           "#ab63fa",
           "#FFA15A",
           "#19d3f3",
           "#FF6692",
           "#B6E880",
           "#FF97FF",
           "#FECB52"
          ],
          "font": {
           "color": "#2a3f5f"
          },
          "geo": {
           "bgcolor": "white",
           "lakecolor": "white",
           "landcolor": "#E5ECF6",
           "showlakes": true,
           "showland": true,
           "subunitcolor": "white"
          },
          "hoverlabel": {
           "align": "left"
          },
          "hovermode": "closest",
          "mapbox": {
           "style": "light"
          },
          "paper_bgcolor": "white",
          "plot_bgcolor": "#E5ECF6",
          "polar": {
           "angularaxis": {
            "gridcolor": "white",
            "linecolor": "white",
            "ticks": ""
           },
           "bgcolor": "#E5ECF6",
           "radialaxis": {
            "gridcolor": "white",
            "linecolor": "white",
            "ticks": ""
           }
          },
          "scene": {
           "xaxis": {
            "backgroundcolor": "#E5ECF6",
            "gridcolor": "white",
            "gridwidth": 2,
            "linecolor": "white",
            "showbackground": true,
            "ticks": "",
            "zerolinecolor": "white"
           },
           "yaxis": {
            "backgroundcolor": "#E5ECF6",
            "gridcolor": "white",
            "gridwidth": 2,
            "linecolor": "white",
            "showbackground": true,
            "ticks": "",
            "zerolinecolor": "white"
           },
           "zaxis": {
            "backgroundcolor": "#E5ECF6",
            "gridcolor": "white",
            "gridwidth": 2,
            "linecolor": "white",
            "showbackground": true,
            "ticks": "",
            "zerolinecolor": "white"
           }
          },
          "shapedefaults": {
           "line": {
            "color": "#2a3f5f"
           }
          },
          "ternary": {
           "aaxis": {
            "gridcolor": "white",
            "linecolor": "white",
            "ticks": ""
           },
           "baxis": {
            "gridcolor": "white",
            "linecolor": "white",
            "ticks": ""
           },
           "bgcolor": "#E5ECF6",
           "caxis": {
            "gridcolor": "white",
            "linecolor": "white",
            "ticks": ""
           }
          },
          "title": {
           "x": 0.05
          },
          "xaxis": {
           "automargin": true,
           "gridcolor": "white",
           "linecolor": "white",
           "ticks": "",
           "title": {
            "standoff": 15
           },
           "zerolinecolor": "white",
           "zerolinewidth": 2
          },
          "yaxis": {
           "automargin": true,
           "gridcolor": "white",
           "linecolor": "white",
           "ticks": "",
           "title": {
            "standoff": 15
           },
           "zerolinecolor": "white",
           "zerolinewidth": 2
          }
         }
        },
        "title": {
         "text": "Sari"
        },
        "xaxis": {
         "anchor": "y",
         "constrain": "domain",
         "domain": [
          0,
          1
         ],
         "range": [
          -2.106,
          1.975
         ],
         "title": {
          "text": "SPEI_24"
         }
        },
        "yaxis": {
         "anchor": "x",
         "domain": [
          0,
          1
         ],
         "range": [
          -2.106,
          1.975
         ],
         "scaleanchor": "x",
         "scaleratio": 1,
         "title": {
          "text": "GPM_SPEI_24"
         }
        }
       }
      }
     },
     "metadata": {},
     "output_type": "display_data"
    },
    {
     "data": {
      "application/vnd.plotly.v1+json": {
       "config": {
        "plotlyServerURL": "https://plot.ly"
       },
       "data": [
        {
         "hovertemplate": "SPEI_24=%{x}<br>GPM_SPEI_24=%{y}<extra></extra>",
         "legendgroup": "",
         "marker": {
          "color": "#636efa",
          "symbol": "circle"
         },
         "mode": "markers",
         "name": "",
         "orientation": "v",
         "showlegend": false,
         "type": "scatter",
         "x": {
          "bdata": "BoGVQ4tsxz8fhetRuB7FPzvfT42XbtI/UI2XbhKD0D/HSzeJQWDFP0SLbOf7qbE/0SLb+X5qzD8ZBFYOLbLVv8P1KFyPwsW/d76fGi/dxL85tMh2vp/av2IQWDm0yOa/d76fGi/d3L8ZBFYOLbK9vx1aZDvfT82//Knx0k1ioD9aZDvfT423P8P1KFyPwsW/9P3UeOkmwb+kcD0K16OwPzvfT42Xbto/x0s3iUFg1T+4HoXrUbiOPxfZzvdT48U/rkfhehSu1z/8qfHSTWLYP9v5fmq8dMM/arx0kxgEpr/n+6nx0k3Sv+f7qfHSTcK/PQrXo3A9yr/LoUW28/20P7gehetRuNa/yXa+nxov3b9aZDvfT43fvyGwcmiR7eS/nMQgsHJo4b/Jdr6fGi/hvxKDwMqhRca/x0s3iUFgxb/b+X5qvHSjv76fGi/dJMY/CKwcWmQ71z8lBoGVQ4vkP6RwPQrXo9g/WDm0yHa+zz9OYhBYObTYP4cW2c73U9M/AiuHFtnOtz8/NV66SQzmPy/dJAaBlec/JQaBlUOL8D8K16NwPQrzP8l2vp8aL/M/7FG4HoXr8T91kxgEVg7tPwaBlUOLbPE/4XoUrkfh8j8j2/l+arz0P7pJDAIrh/Y/8KfGSzeJ9T99PzVeuknyP166SQwCK/E/FK5H4XoU6j+YbhKDwMrtP/p+arx0k+g/w/UoXI/C3T/dJAaBlUPLP28Sg8DKodU/kxgEVg4t0j/sUbgehevlPyUGgZVDi9w/LbKd76fG0z/dJAaBlUPLv8l2vp8aL62/QmDl0CLbyb8K16NwPQrXvx1aZDvfT+G/8KfGSzeJ4b+LbOf7qfHSv1pkO99PjeO/RIts5/up7b/0/dR46Sb1v8HKoUW28/O/UrgehetR+L+28/3UeOnwv/Cnxks3ifG/7FG4HoXr7b8lBoGVQ4vkv5HtfD81Xua//Knx0k1i4L+6SQwCK4fev6JFtvP91Ni/+FPjpZvE0L8zMzMzMzPbv39qvHSTGNS/oBov3SQGwb956SYxCKy8PxKDwMqhRca/+FPjpZvEwD9SuB6F61HQPxkEVg4tss0/Gy/dJAaB3T/8qfHSTWKgPz81XrpJDNo/tvP91Hjp3j/0/dR46SblP9NNYhBYOdQ/MQisHFpkuz99PzVeuknUvwaBlUOLbMe//tR46SYx2L/ZzvdT46Xjv/yp8dJNYti/Rrbz/dR45b8CK4cW2c7vv90kBoGVQ++/8tJNYhBY6b8730+Nl27qv6rx0k1iEPK/1XjpJjEI8L9QjZduEoPyv42XbhKDwOq/FK5H4XoU8r+HFtnO91Pvv4/C9Shcj+q/nMQgsHJo6b+6SQwCK4eWP0w3iUFg5cA/JzEIrBxaxD9MN4lBYOXQP3npJjEIrNQ/qMZLN4lB4D83iUFg5dDmPwrXo3A9CuM/vp8aL90k8j++nxov3STyP0w3iUFg5fA/ObTIdr6f+D+amZmZmZn/P1YOLbKd7/8/4XoUrkfh+j+kcD0K16P6PwaBlUOLbPs/2/l+arx0/z/ufD81Xrr/PzeJQWDl0ABAfT81XrpJAECWQ4ts5/v9P0jhehSuRwBA7FG4HoXr/T+HFtnO91P7PyuHFtnO9/U/tMh2vp8a9z+Nl24Sg8D2P4ts5/up8fQ/MzMzMzMz9T+28/3UeOnyP3e+nxov3fI/bef7qfHS5T956SYxCKzkP4GVQ4ts5+c/ZmZmZmZm1j+TGARWDi3CP2Dl0CLb+b6/sHJoke18vz/D9Shcj8K1P5MYBFYOLbK/j8L1KFyP4r8xCKwcWmTvv99PjZduEve/5dAi2/l++L/jpZvEILD6v4ts5/up8fq/f2q8dJMY/L9xPQrXo3D9v1YOLbKd7/2/EoPAyqFFAMCmm8QgsHL8v2iR7Xw/Nf6/2c73U+Ol/79I4XoUrkcAwA==",
          "dtype": "f8"
         },
         "xaxis": "x",
         "y": {
          "bdata": "mpmZmZmZyT9CYOXQItvRP3npJjEIrOA/Rrbz/dR40T8OLbKd76fGP90kBoGVQ8s/qvHSTWIQuD+mm8QgsHLYv6JFtvP91Mi/QmDl0CLbub8730+Nl26CP6abxCCwcsi/uB6F61G4nj+q8dJNYhDQPzVeukkMAts/XrpJDAIr4z/VeOkmMQjgP83MzMzMzMw/8tJNYhBY2T9QjZduEoPoP7gehetRuPI/UrgehetR9D9kO99PjZfwP7gehetRuOo/WDm0yHa+7z83iUFg5dDqP4PAyqFFtuM/f2q8dJMY1D8730+Nl26Cv6rx0k1iEKg/aJHtfD81zj+iRbbz/dTYP3sUrkfheoQ/WDm0yHa+v79SuB6F61HQvzVeukkMAsu/nMQgsHJokb9xPQrXo3C9v4/C9Shcj9I/vp8aL90k1j8QWDm0yHbWP4lBYOXQIts/xSCwcmiR5T/D9Shcj8LpPwRWDi2yneM/30+Nl24S4z8OLbKd76fuP4PAyqFFtvE/Gy/dJAaB8T+WQ4ts5/vzPylcj8L1KPY/MQisHFpk+z+uR+F6FK79P99PjZduEv8/O99PjZdu/D+WQ4ts5/v5PzMzMzMzM/s/UrgehetR/D8dWmQ730/7P6JFtvP91Po/arx0kxgE+D/NzMzMzMz0P8P1KFyPwvE/sHJoke186z8bL90kBoHxP6jGSzeJQfA/6SYxCKwc4j8lBoGVQ4vkP39qvHSTGOA/uB6F61G44j+LbOf7qfHiPxSuR+F6FNY/aJHtfD81vj/P91PjpZvEv/yp8dJNYlA/ObTIdr6fur8zMzMzMzPTv2Q730+Nl+K/VOOlm8Qg2L9qvHSTGASmvycxCKwcWtS/O99PjZdu4r8nMQisHFrovxBYObTIduK/ZDvfT42X5r9t5/up8dLdv1K4HoXrUdi/GQRWDi2y1b8ZBFYOLbLVvzEIrBxaZOO/fT81XrpJ4L8j2/l+arzcvwrXo3A9Cse/hetRuB6Fy7+F61G4HoXTvzm0yHa+n7q/pHA9CtejsL/RItv5fmrMP7gehetRuL6/qvHSTWIQuL8j2/l+arzEPxfZzvdT48U/+n5qvHSTqD/+1HjpJjHQv5MYBFYOLcI/w/UoXI/CtT/2KFyPwvXIP3sUrkfhenS/8KfGSzeJ0b8xCKwcWmTbvxsv3SQGge2/WmQ730+N67/l0CLb+X7uv6wcWmQ73/G/uB6F61G49L9YObTIdr75v6rx0k1iEPi/NV66SQwC97+8dJMYBFb4vxBYObTIdvq/F9nO91Pj+b/2KFyPwvX8vzm0yHa+n/q/fT81XrpJ9r+gGi/dJAb1vxBYObTIdvi/tvP91Hjp9r+HFtnO91Prv9V46SYxCOS/GQRWDi2y3b/2KFyPwvXYvwwCK4cW2da/WmQ730+Nx78MAiuHFtnOvxBYObTIdr6/AAAAAAAA4D/sUbgehevlP5zEILByaOE/hxbZzvdT8T+8dJMYBFb2P+f7qfHSTfg/8tJNYhBY9T/HSzeJQWD1Pylcj8L1KPg/i2zn+6nx+j+HFtnO91P7P65H4XoUrvU/EFg5tMh29j8OLbKd76f2P2q8dJMYBPQ/7nw/NV667T+4HoXrUbjWP0w3iUFg5bA/Vg4tsp3vxz/ByqFFtvO9P8dLN4lBYNU/rkfhehSuxz/RItv5fmq8P2iR7Xw/Na4/PzVeukkM0r/Jdr6fGi/Nvylcj8L1KNS/KVyPwvUo6L/b+X5qvHTrv1TjpZvEIPK/d76fGi/d8L8MAiuHFtnwv1TjpZvEIPC/qvHSTWIQ9r+PwvUoXI/2v166SQwCK/m/mG4Sg8DK+78QWDm0yHb6vxfZzvdT4/2/ppvEILBy/r/pJjEIrBz+v7ByaJHtfP2/Di2yne+n/r8ZBFYOLbL7vyUGgZVDi/y/NV66SQwC/b8EVg4tsp37vw==",
          "dtype": "f8"
         },
         "yaxis": "y"
        }
       ],
       "layout": {
        "legend": {
         "tracegroupgap": 0
        },
        "template": {
         "data": {
          "bar": [
           {
            "error_x": {
             "color": "#2a3f5f"
            },
            "error_y": {
             "color": "#2a3f5f"
            },
            "marker": {
             "line": {
              "color": "#E5ECF6",
              "width": 0.5
             },
             "pattern": {
              "fillmode": "overlay",
              "size": 10,
              "solidity": 0.2
             }
            },
            "type": "bar"
           }
          ],
          "barpolar": [
           {
            "marker": {
             "line": {
              "color": "#E5ECF6",
              "width": 0.5
             },
             "pattern": {
              "fillmode": "overlay",
              "size": 10,
              "solidity": 0.2
             }
            },
            "type": "barpolar"
           }
          ],
          "carpet": [
           {
            "aaxis": {
             "endlinecolor": "#2a3f5f",
             "gridcolor": "white",
             "linecolor": "white",
             "minorgridcolor": "white",
             "startlinecolor": "#2a3f5f"
            },
            "baxis": {
             "endlinecolor": "#2a3f5f",
             "gridcolor": "white",
             "linecolor": "white",
             "minorgridcolor": "white",
             "startlinecolor": "#2a3f5f"
            },
            "type": "carpet"
           }
          ],
          "choropleth": [
           {
            "colorbar": {
             "outlinewidth": 0,
             "ticks": ""
            },
            "type": "choropleth"
           }
          ],
          "contour": [
           {
            "colorbar": {
             "outlinewidth": 0,
             "ticks": ""
            },
            "colorscale": [
             [
              0,
              "#0d0887"
             ],
             [
              0.1111111111111111,
              "#46039f"
             ],
             [
              0.2222222222222222,
              "#7201a8"
             ],
             [
              0.3333333333333333,
              "#9c179e"
             ],
             [
              0.4444444444444444,
              "#bd3786"
             ],
             [
              0.5555555555555556,
              "#d8576b"
             ],
             [
              0.6666666666666666,
              "#ed7953"
             ],
             [
              0.7777777777777778,
              "#fb9f3a"
             ],
             [
              0.8888888888888888,
              "#fdca26"
             ],
             [
              1,
              "#f0f921"
             ]
            ],
            "type": "contour"
           }
          ],
          "contourcarpet": [
           {
            "colorbar": {
             "outlinewidth": 0,
             "ticks": ""
            },
            "type": "contourcarpet"
           }
          ],
          "heatmap": [
           {
            "colorbar": {
             "outlinewidth": 0,
             "ticks": ""
            },
            "colorscale": [
             [
              0,
              "#0d0887"
             ],
             [
              0.1111111111111111,
              "#46039f"
             ],
             [
              0.2222222222222222,
              "#7201a8"
             ],
             [
              0.3333333333333333,
              "#9c179e"
             ],
             [
              0.4444444444444444,
              "#bd3786"
             ],
             [
              0.5555555555555556,
              "#d8576b"
             ],
             [
              0.6666666666666666,
              "#ed7953"
             ],
             [
              0.7777777777777778,
              "#fb9f3a"
             ],
             [
              0.8888888888888888,
              "#fdca26"
             ],
             [
              1,
              "#f0f921"
             ]
            ],
            "type": "heatmap"
           }
          ],
          "histogram": [
           {
            "marker": {
             "pattern": {
              "fillmode": "overlay",
              "size": 10,
              "solidity": 0.2
             }
            },
            "type": "histogram"
           }
          ],
          "histogram2d": [
           {
            "colorbar": {
             "outlinewidth": 0,
             "ticks": ""
            },
            "colorscale": [
             [
              0,
              "#0d0887"
             ],
             [
              0.1111111111111111,
              "#46039f"
             ],
             [
              0.2222222222222222,
              "#7201a8"
             ],
             [
              0.3333333333333333,
              "#9c179e"
             ],
             [
              0.4444444444444444,
              "#bd3786"
             ],
             [
              0.5555555555555556,
              "#d8576b"
             ],
             [
              0.6666666666666666,
              "#ed7953"
             ],
             [
              0.7777777777777778,
              "#fb9f3a"
             ],
             [
              0.8888888888888888,
              "#fdca26"
             ],
             [
              1,
              "#f0f921"
             ]
            ],
            "type": "histogram2d"
           }
          ],
          "histogram2dcontour": [
           {
            "colorbar": {
             "outlinewidth": 0,
             "ticks": ""
            },
            "colorscale": [
             [
              0,
              "#0d0887"
             ],
             [
              0.1111111111111111,
              "#46039f"
             ],
             [
              0.2222222222222222,
              "#7201a8"
             ],
             [
              0.3333333333333333,
              "#9c179e"
             ],
             [
              0.4444444444444444,
              "#bd3786"
             ],
             [
              0.5555555555555556,
              "#d8576b"
             ],
             [
              0.6666666666666666,
              "#ed7953"
             ],
             [
              0.7777777777777778,
              "#fb9f3a"
             ],
             [
              0.8888888888888888,
              "#fdca26"
             ],
             [
              1,
              "#f0f921"
             ]
            ],
            "type": "histogram2dcontour"
           }
          ],
          "mesh3d": [
           {
            "colorbar": {
             "outlinewidth": 0,
             "ticks": ""
            },
            "type": "mesh3d"
           }
          ],
          "parcoords": [
           {
            "line": {
             "colorbar": {
              "outlinewidth": 0,
              "ticks": ""
             }
            },
            "type": "parcoords"
           }
          ],
          "pie": [
           {
            "automargin": true,
            "type": "pie"
           }
          ],
          "scatter": [
           {
            "fillpattern": {
             "fillmode": "overlay",
             "size": 10,
             "solidity": 0.2
            },
            "type": "scatter"
           }
          ],
          "scatter3d": [
           {
            "line": {
             "colorbar": {
              "outlinewidth": 0,
              "ticks": ""
             }
            },
            "marker": {
             "colorbar": {
              "outlinewidth": 0,
              "ticks": ""
             }
            },
            "type": "scatter3d"
           }
          ],
          "scattercarpet": [
           {
            "marker": {
             "colorbar": {
              "outlinewidth": 0,
              "ticks": ""
             }
            },
            "type": "scattercarpet"
           }
          ],
          "scattergeo": [
           {
            "marker": {
             "colorbar": {
              "outlinewidth": 0,
              "ticks": ""
             }
            },
            "type": "scattergeo"
           }
          ],
          "scattergl": [
           {
            "marker": {
             "colorbar": {
              "outlinewidth": 0,
              "ticks": ""
             }
            },
            "type": "scattergl"
           }
          ],
          "scattermap": [
           {
            "marker": {
             "colorbar": {
              "outlinewidth": 0,
              "ticks": ""
             }
            },
            "type": "scattermap"
           }
          ],
          "scattermapbox": [
           {
            "marker": {
             "colorbar": {
              "outlinewidth": 0,
              "ticks": ""
             }
            },
            "type": "scattermapbox"
           }
          ],
          "scatterpolar": [
           {
            "marker": {
             "colorbar": {
              "outlinewidth": 0,
              "ticks": ""
             }
            },
            "type": "scatterpolar"
           }
          ],
          "scatterpolargl": [
           {
            "marker": {
             "colorbar": {
              "outlinewidth": 0,
              "ticks": ""
             }
            },
            "type": "scatterpolargl"
           }
          ],
          "scatterternary": [
           {
            "marker": {
             "colorbar": {
              "outlinewidth": 0,
              "ticks": ""
             }
            },
            "type": "scatterternary"
           }
          ],
          "surface": [
           {
            "colorbar": {
             "outlinewidth": 0,
             "ticks": ""
            },
            "colorscale": [
             [
              0,
              "#0d0887"
             ],
             [
              0.1111111111111111,
              "#46039f"
             ],
             [
              0.2222222222222222,
              "#7201a8"
             ],
             [
              0.3333333333333333,
              "#9c179e"
             ],
             [
              0.4444444444444444,
              "#bd3786"
             ],
             [
              0.5555555555555556,
              "#d8576b"
             ],
             [
              0.6666666666666666,
              "#ed7953"
             ],
             [
              0.7777777777777778,
              "#fb9f3a"
             ],
             [
              0.8888888888888888,
              "#fdca26"
             ],
             [
              1,
              "#f0f921"
             ]
            ],
            "type": "surface"
           }
          ],
          "table": [
           {
            "cells": {
             "fill": {
              "color": "#EBF0F8"
             },
             "line": {
              "color": "white"
             }
            },
            "header": {
             "fill": {
              "color": "#C8D4E3"
             },
             "line": {
              "color": "white"
             }
            },
            "type": "table"
           }
          ]
         },
         "layout": {
          "annotationdefaults": {
           "arrowcolor": "#2a3f5f",
           "arrowhead": 0,
           "arrowwidth": 1
          },
          "autotypenumbers": "strict",
          "coloraxis": {
           "colorbar": {
            "outlinewidth": 0,
            "ticks": ""
           }
          },
          "colorscale": {
           "diverging": [
            [
             0,
             "#8e0152"
            ],
            [
             0.1,
             "#c51b7d"
            ],
            [
             0.2,
             "#de77ae"
            ],
            [
             0.3,
             "#f1b6da"
            ],
            [
             0.4,
             "#fde0ef"
            ],
            [
             0.5,
             "#f7f7f7"
            ],
            [
             0.6,
             "#e6f5d0"
            ],
            [
             0.7,
             "#b8e186"
            ],
            [
             0.8,
             "#7fbc41"
            ],
            [
             0.9,
             "#4d9221"
            ],
            [
             1,
             "#276419"
            ]
           ],
           "sequential": [
            [
             0,
             "#0d0887"
            ],
            [
             0.1111111111111111,
             "#46039f"
            ],
            [
             0.2222222222222222,
             "#7201a8"
            ],
            [
             0.3333333333333333,
             "#9c179e"
            ],
            [
             0.4444444444444444,
             "#bd3786"
            ],
            [
             0.5555555555555556,
             "#d8576b"
            ],
            [
             0.6666666666666666,
             "#ed7953"
            ],
            [
             0.7777777777777778,
             "#fb9f3a"
            ],
            [
             0.8888888888888888,
             "#fdca26"
            ],
            [
             1,
             "#f0f921"
            ]
           ],
           "sequentialminus": [
            [
             0,
             "#0d0887"
            ],
            [
             0.1111111111111111,
             "#46039f"
            ],
            [
             0.2222222222222222,
             "#7201a8"
            ],
            [
             0.3333333333333333,
             "#9c179e"
            ],
            [
             0.4444444444444444,
             "#bd3786"
            ],
            [
             0.5555555555555556,
             "#d8576b"
            ],
            [
             0.6666666666666666,
             "#ed7953"
            ],
            [
             0.7777777777777778,
             "#fb9f3a"
            ],
            [
             0.8888888888888888,
             "#fdca26"
            ],
            [
             1,
             "#f0f921"
            ]
           ]
          },
          "colorway": [
           "#636efa",
           "#EF553B",
           "#00cc96",
           "#ab63fa",
           "#FFA15A",
           "#19d3f3",
           "#FF6692",
           "#B6E880",
           "#FF97FF",
           "#FECB52"
          ],
          "font": {
           "color": "#2a3f5f"
          },
          "geo": {
           "bgcolor": "white",
           "lakecolor": "white",
           "landcolor": "#E5ECF6",
           "showlakes": true,
           "showland": true,
           "subunitcolor": "white"
          },
          "hoverlabel": {
           "align": "left"
          },
          "hovermode": "closest",
          "mapbox": {
           "style": "light"
          },
          "paper_bgcolor": "white",
          "plot_bgcolor": "#E5ECF6",
          "polar": {
           "angularaxis": {
            "gridcolor": "white",
            "linecolor": "white",
            "ticks": ""
           },
           "bgcolor": "#E5ECF6",
           "radialaxis": {
            "gridcolor": "white",
            "linecolor": "white",
            "ticks": ""
           }
          },
          "scene": {
           "xaxis": {
            "backgroundcolor": "#E5ECF6",
            "gridcolor": "white",
            "gridwidth": 2,
            "linecolor": "white",
            "showbackground": true,
            "ticks": "",
            "zerolinecolor": "white"
           },
           "yaxis": {
            "backgroundcolor": "#E5ECF6",
            "gridcolor": "white",
            "gridwidth": 2,
            "linecolor": "white",
            "showbackground": true,
            "ticks": "",
            "zerolinecolor": "white"
           },
           "zaxis": {
            "backgroundcolor": "#E5ECF6",
            "gridcolor": "white",
            "gridwidth": 2,
            "linecolor": "white",
            "showbackground": true,
            "ticks": "",
            "zerolinecolor": "white"
           }
          },
          "shapedefaults": {
           "line": {
            "color": "#2a3f5f"
           }
          },
          "ternary": {
           "aaxis": {
            "gridcolor": "white",
            "linecolor": "white",
            "ticks": ""
           },
           "baxis": {
            "gridcolor": "white",
            "linecolor": "white",
            "ticks": ""
           },
           "bgcolor": "#E5ECF6",
           "caxis": {
            "gridcolor": "white",
            "linecolor": "white",
            "ticks": ""
           }
          },
          "title": {
           "x": 0.05
          },
          "xaxis": {
           "automargin": true,
           "gridcolor": "white",
           "linecolor": "white",
           "ticks": "",
           "title": {
            "standoff": 15
           },
           "zerolinecolor": "white",
           "zerolinewidth": 2
          },
          "yaxis": {
           "automargin": true,
           "gridcolor": "white",
           "linecolor": "white",
           "ticks": "",
           "title": {
            "standoff": 15
           },
           "zerolinecolor": "white",
           "zerolinewidth": 2
          }
         }
        },
        "title": {
         "text": "Alasht"
        },
        "xaxis": {
         "anchor": "y",
         "constrain": "domain",
         "domain": [
          0,
          1
         ],
         "range": [
          -1.916,
          2.102
         ],
         "title": {
          "text": "SPEI_24"
         }
        },
        "yaxis": {
         "anchor": "x",
         "domain": [
          0,
          1
         ],
         "range": [
          -1.916,
          2.102
         ],
         "scaleanchor": "x",
         "scaleratio": 1,
         "title": {
          "text": "GPM_SPEI_24"
         }
        }
       }
      }
     },
     "metadata": {},
     "output_type": "display_data"
    },
    {
     "data": {
      "application/vnd.plotly.v1+json": {
       "config": {
        "plotlyServerURL": "https://plot.ly"
       },
       "data": [
        {
         "hovertemplate": "SPEI_24=%{x}<br>GPM_SPEI_24=%{y}<extra></extra>",
         "legendgroup": "",
         "marker": {
          "color": "#636efa",
          "symbol": "circle"
         },
         "mode": "markers",
         "name": "",
         "orientation": "v",
         "showlegend": false,
         "type": "scatter",
         "x": {
          "bdata": "ObTIdr6fyr+8dJMYBFbiv4XrUbgehfW/nMQgsHJo4b+amZmZmZnRv+xRuB6F69G/ke18PzVe0r91kxgEVg7dvx+F61G4HtW/+n5qvHST2L+PwvUoXI/avzvfT42XbuK/UI2XbhKDwL+yne+nxkvHv3sUrkfheoS/I9v5fmq81L9WDi2yne/fv9nO91Pjpee/VOOlm8Qg6L9CYOXQItvZvwrXo3A9Cqe/w/UoXI/Cxb9CYOXQItvhv05iEFg5tOi/1XjpJjEI5L+sHFpkO9/jv4GVQ4ts5+O/F9nO91Pj878K16NwPQr/vzVeukkMAv+/rkfhehSuAMBxPQrXo3AAwOXQItv5fgHAjZduEoPAAcDP91PjpZsBwFCNl24SgwDA2/l+arx0AMDFILByaJH/vz81XrpJDP6/f2q8dJMY4L9iEFg5tMjmv4XrUbgehee/zczMzMzM5L8xCKwcWmTjv8dLN4lBYO2//tR46SYx8L+cxCCwcmjlv+XQItv5ftK/NV66SQwCy7/6fmq8dJO4v1yPwvUoXOu/FK5H4XoU3r+cxCCwcmixv39qvHSTGMS/ppvEILBy2L/n+6nx0k3Sv+Olm8QgsNK/Di2yne+n1r9MN4lBYOXgv3sUrkfhetS/UI2XbhKD4L8730+Nl27wvzMzMzMzM/e/gZVDi2zn/b8xCKwcWmT3v05iEFg5tPa/WDm0yHa+778j2/l+arzsv/7UeOkmMeS/iUFg5dAi578tsp3vp8bvv/hT46WbxPS/O99PjZdu+L/ufD81Xrr5v+F6FK5H4eo/BoGVQ4ts7z9g5dAi2/nqP9NNYhBYOfI/kxgEVg4t9j+cxCCwcmj1P3E9CtejcPU/Rrbz/dR49T8hsHJoke30P6abxCCwcvQ/7nw/NV668z/Xo3A9CtfxP0a28/3UePk/nu+nxks3+T+R7Xw/NV78P1g5tMh2vv0/GQRWDi2y+z8MAiuHFtn6P5ZDi2zn+/s/zczMzMzM/D99PzVeukn8PxSuR+F6FPw/x0s3iUFg+z9OYhBYObT6P4PAyqFFtvU/GQRWDi2y8T9WDi2yne/zP7pJDAIrh/A/BFYOLbKd6z9cj8L1KFznP4lBYOXQIus/DAIrhxbZ6j8K16NwPQrvP6RwPQrXo+Q//tR46SYx5D8tsp3vp8bvPwwCK4cW2eo/5dAi2/l+2j+amZmZmZnJPycxCKwcWtw/aJHtfD81zj/pJjEIrByqP9nO91Pjpau/cT0K16Nwvb+6SQwCK4eGv6rx0k1iENC/ObTIdr6fmj/8qfHSTWKgvzvfT42XbqI/CtejcD0K1z8pXI/C9Si8PyGwcmiR7bw/YOXQItv51j8GgZVDi2zjP1CNl24Sg+g/SOF6FK5H5T89CtejcD3iPzMzMzMzM+s/qvHSTWIQ8D+PwvUoXI/uP2Q730+Nl+I/L90kBoGV6z9SuB6F61HyP6jGSzeJQfA/lkOLbOf78T+BlUOLbOfzP7Kd76fGS/c/bxKDwMqh9z85tMh2vp/2P3WTGARWDvU/vHSTGARW+D8j2/l+arzyPx1aZDvfT+k/2/l+arx05z9Ei2zn+6npP8P1KFyPwuU/EoPAyqFF5j9iEFg5tMjiP1pkO99Pjcc/tvP91Hjp1j+0yHa+nxrfP8l2vp8aL70/+n5qvHSTaL+cxCCwcmjBv0SLbOf7qcG/UI2XbhKD5D+F61G4HoXTP57vp8ZLN9E/z/dT46Wb1D+YbhKDwMrZP8l2vp8aL72/AiuHFtnOt7956SYxCKyMv5zEILByaKG/0SLb+X5q5L/b+X5qvHSTv5HtfD81Xsq/LbKd76fG5797FK5H4XrovyPb+X5qvOi/XI/C9Shc67956SYxCKzsv8UgsHJokeW/qMZLN4lB5L+sHFpkO9/jv4PAyqFFttO/w/UoXI/Cxb8Sg8DKoUW2Pw==",
          "dtype": "f8"
         },
         "xaxis": "x",
         "y": {
          "bdata": "CKwcWmQ7r7/sUbgeheuxv4ts5/up8aK/0SLb+X5qvL9oke18PzWuP3E9CtejcL0/EoPAyqFFxr9OYhBYObTIPxKDwMqhReq/9ihcj8L16L8AAAAAAADovzVeukkMAuu/UI2XbhKD4L+Nl24Sg8DKv3npJjEIrMy/jZduEoPAyr9KDAIrhxbRv/T91HjpJum/xSCwcmiR5b/l0CLb+X7aPyuHFtnO9+c/1XjpJjEI6D/FILByaJHdP0SLbOf7qdE/j8L1KFyP0j+cxCCwcmjRP/LSTWIQWMm//tR46SYx5L/wp8ZLN4nxvxSuR+F6FPK/wcqhRbbz6b/Jdr6fGi/VPwIrhxbZzue/dZMYBFYO6b83iUFg5dDmvxSuR+F6FOa/rBxaZDvf379KDAIrhxbJv4XrUbgehcs/JQaBlUOL6D9t5/up8dLlP6rx0k1iEOw/8KfGSzeJ7T8nMQisHFrkP+58PzVeutk/VOOlm8Qg4D+4HoXrUbjwP0a28/3UePM/H4XrUbge9z+yne+nxkv3PxfZzvdT4/k/rkfhehSu+z/HSzeJQWAAQPyp8dJNYgBAjZduEoPA/D+wcmiR7XznPxSuR+F6FPg/y6FFtvP9+j+cxCCwcmj5P+F6FK5H4fY/iUFg5dAi9T+8dJMYBFbwP+58PzVeuu0/arx0kxgE1j++nxov3STmP1pkO99Pjd8/XI/C9Shc1z9aZDvfT43fP5qZmZmZmck/8tJNYhBYyT8AAAAAAAAAAJhuEoPAysG//Knx0k1i4L/2KFyPwvXov6rx0k1iEKg/nu+nxks30T8AAAAAAAAAAHnpJjEIrHw/ppvEILBy2D+8dJMYBFbiP6jGSzeJQeA/IbByaJHtzD/D9Shcj8LFPwaBlUOLbNc/JQaBlUOLzD8QWDm0yHbOP1YOLbKd7+M/pHA9Ctej4D9iEFg5tMjWP0a28/3UeNk/ZDvfT42X3j/sUbgehevhP2iR7Xw/Neo/2/l+arx06z8AAAAAAADsP7x0kxgEVvA/i2zn+6nx8j+28/3UeOn0P/LSTWIQWPc/MQisHFpk8T97FK5H4XryP/YoXI/C9fI/oBov3SQG8T+HFtnO91PjP76fGi/dJPI/nMQgsHJo8z+BlUOLbOf1Px1aZDvfT/E/iUFg5dAi8T+HFtnO91PzPycxCKwcWug/TmIQWDm0yD8rhxbZzvejP3Noke18P7U/arx0kxgEpj89CtejcD3SP2Dl0CLb+d6/TmIQWDm02L8nMQisHFrcv7gehetRuOa/+FPjpZvE5L/sUbgehevpv0jhehSuR/W/N4lBYOXQ8L9aZDvfT43vvwAAAAAAAPS/FK5H4XoU9r/6fmq8dJOIv5HtfD81XvC/K4cW2c738b/8qfHSTWLyv42XbhKDwO6/mpmZmZmZ6b/NzMzMzMzsv6jGSzeJQfK/kxgEVg4t4r+6SQwCK4e2v4XrUbgehdO/TDeJQWDlsL9YObTIdr7fP7bz/dR46eo/GQRWDi2y5T9SuB6F61HkPwaBlUOLbOc/6SYxCKwc8j8lBoGVQ4vsP6JFtvP91Ng/BoGVQ4ts5z/RItv5fmrsP1YOLbKd7+M/wcqhRbbz4T8ZBFYOLbLdP99PjZduEtO/H4XrUbgexb8j2/l+arzEv8l2vp8aL60/5dAi2/l+0r/4U+Olm8TQv1TjpZvEINC/uB6F61G4nj/FILByaJHNv2ZmZmZmZt6//Knx0k1i7L9vEoPAyqHFP4PAyqFFtvW/bxKDwMqh9b/RItv5fmr0v+58PzVeuvO/j8L1KFyP/L/6fmq8dJP+v1TjpZvEIPq/K4cW2c73AMCiRbbz/dT+vx+F61G4HgDAg8DKoUW2AMCiRbbz/dQewIts5/up8f6/1XjpJjEI/r+amZmZmZn7v90kBoGVQ/2/g8DKoUW2978IrBxaZDv3vw==",
          "dtype": "f8"
         },
         "yaxis": "y"
        }
       ],
       "layout": {
        "legend": {
         "tracegroupgap": 0
        },
        "template": {
         "data": {
          "bar": [
           {
            "error_x": {
             "color": "#2a3f5f"
            },
            "error_y": {
             "color": "#2a3f5f"
            },
            "marker": {
             "line": {
              "color": "#E5ECF6",
              "width": 0.5
             },
             "pattern": {
              "fillmode": "overlay",
              "size": 10,
              "solidity": 0.2
             }
            },
            "type": "bar"
           }
          ],
          "barpolar": [
           {
            "marker": {
             "line": {
              "color": "#E5ECF6",
              "width": 0.5
             },
             "pattern": {
              "fillmode": "overlay",
              "size": 10,
              "solidity": 0.2
             }
            },
            "type": "barpolar"
           }
          ],
          "carpet": [
           {
            "aaxis": {
             "endlinecolor": "#2a3f5f",
             "gridcolor": "white",
             "linecolor": "white",
             "minorgridcolor": "white",
             "startlinecolor": "#2a3f5f"
            },
            "baxis": {
             "endlinecolor": "#2a3f5f",
             "gridcolor": "white",
             "linecolor": "white",
             "minorgridcolor": "white",
             "startlinecolor": "#2a3f5f"
            },
            "type": "carpet"
           }
          ],
          "choropleth": [
           {
            "colorbar": {
             "outlinewidth": 0,
             "ticks": ""
            },
            "type": "choropleth"
           }
          ],
          "contour": [
           {
            "colorbar": {
             "outlinewidth": 0,
             "ticks": ""
            },
            "colorscale": [
             [
              0,
              "#0d0887"
             ],
             [
              0.1111111111111111,
              "#46039f"
             ],
             [
              0.2222222222222222,
              "#7201a8"
             ],
             [
              0.3333333333333333,
              "#9c179e"
             ],
             [
              0.4444444444444444,
              "#bd3786"
             ],
             [
              0.5555555555555556,
              "#d8576b"
             ],
             [
              0.6666666666666666,
              "#ed7953"
             ],
             [
              0.7777777777777778,
              "#fb9f3a"
             ],
             [
              0.8888888888888888,
              "#fdca26"
             ],
             [
              1,
              "#f0f921"
             ]
            ],
            "type": "contour"
           }
          ],
          "contourcarpet": [
           {
            "colorbar": {
             "outlinewidth": 0,
             "ticks": ""
            },
            "type": "contourcarpet"
           }
          ],
          "heatmap": [
           {
            "colorbar": {
             "outlinewidth": 0,
             "ticks": ""
            },
            "colorscale": [
             [
              0,
              "#0d0887"
             ],
             [
              0.1111111111111111,
              "#46039f"
             ],
             [
              0.2222222222222222,
              "#7201a8"
             ],
             [
              0.3333333333333333,
              "#9c179e"
             ],
             [
              0.4444444444444444,
              "#bd3786"
             ],
             [
              0.5555555555555556,
              "#d8576b"
             ],
             [
              0.6666666666666666,
              "#ed7953"
             ],
             [
              0.7777777777777778,
              "#fb9f3a"
             ],
             [
              0.8888888888888888,
              "#fdca26"
             ],
             [
              1,
              "#f0f921"
             ]
            ],
            "type": "heatmap"
           }
          ],
          "histogram": [
           {
            "marker": {
             "pattern": {
              "fillmode": "overlay",
              "size": 10,
              "solidity": 0.2
             }
            },
            "type": "histogram"
           }
          ],
          "histogram2d": [
           {
            "colorbar": {
             "outlinewidth": 0,
             "ticks": ""
            },
            "colorscale": [
             [
              0,
              "#0d0887"
             ],
             [
              0.1111111111111111,
              "#46039f"
             ],
             [
              0.2222222222222222,
              "#7201a8"
             ],
             [
              0.3333333333333333,
              "#9c179e"
             ],
             [
              0.4444444444444444,
              "#bd3786"
             ],
             [
              0.5555555555555556,
              "#d8576b"
             ],
             [
              0.6666666666666666,
              "#ed7953"
             ],
             [
              0.7777777777777778,
              "#fb9f3a"
             ],
             [
              0.8888888888888888,
              "#fdca26"
             ],
             [
              1,
              "#f0f921"
             ]
            ],
            "type": "histogram2d"
           }
          ],
          "histogram2dcontour": [
           {
            "colorbar": {
             "outlinewidth": 0,
             "ticks": ""
            },
            "colorscale": [
             [
              0,
              "#0d0887"
             ],
             [
              0.1111111111111111,
              "#46039f"
             ],
             [
              0.2222222222222222,
              "#7201a8"
             ],
             [
              0.3333333333333333,
              "#9c179e"
             ],
             [
              0.4444444444444444,
              "#bd3786"
             ],
             [
              0.5555555555555556,
              "#d8576b"
             ],
             [
              0.6666666666666666,
              "#ed7953"
             ],
             [
              0.7777777777777778,
              "#fb9f3a"
             ],
             [
              0.8888888888888888,
              "#fdca26"
             ],
             [
              1,
              "#f0f921"
             ]
            ],
            "type": "histogram2dcontour"
           }
          ],
          "mesh3d": [
           {
            "colorbar": {
             "outlinewidth": 0,
             "ticks": ""
            },
            "type": "mesh3d"
           }
          ],
          "parcoords": [
           {
            "line": {
             "colorbar": {
              "outlinewidth": 0,
              "ticks": ""
             }
            },
            "type": "parcoords"
           }
          ],
          "pie": [
           {
            "automargin": true,
            "type": "pie"
           }
          ],
          "scatter": [
           {
            "fillpattern": {
             "fillmode": "overlay",
             "size": 10,
             "solidity": 0.2
            },
            "type": "scatter"
           }
          ],
          "scatter3d": [
           {
            "line": {
             "colorbar": {
              "outlinewidth": 0,
              "ticks": ""
             }
            },
            "marker": {
             "colorbar": {
              "outlinewidth": 0,
              "ticks": ""
             }
            },
            "type": "scatter3d"
           }
          ],
          "scattercarpet": [
           {
            "marker": {
             "colorbar": {
              "outlinewidth": 0,
              "ticks": ""
             }
            },
            "type": "scattercarpet"
           }
          ],
          "scattergeo": [
           {
            "marker": {
             "colorbar": {
              "outlinewidth": 0,
              "ticks": ""
             }
            },
            "type": "scattergeo"
           }
          ],
          "scattergl": [
           {
            "marker": {
             "colorbar": {
              "outlinewidth": 0,
              "ticks": ""
             }
            },
            "type": "scattergl"
           }
          ],
          "scattermap": [
           {
            "marker": {
             "colorbar": {
              "outlinewidth": 0,
              "ticks": ""
             }
            },
            "type": "scattermap"
           }
          ],
          "scattermapbox": [
           {
            "marker": {
             "colorbar": {
              "outlinewidth": 0,
              "ticks": ""
             }
            },
            "type": "scattermapbox"
           }
          ],
          "scatterpolar": [
           {
            "marker": {
             "colorbar": {
              "outlinewidth": 0,
              "ticks": ""
             }
            },
            "type": "scatterpolar"
           }
          ],
          "scatterpolargl": [
           {
            "marker": {
             "colorbar": {
              "outlinewidth": 0,
              "ticks": ""
             }
            },
            "type": "scatterpolargl"
           }
          ],
          "scatterternary": [
           {
            "marker": {
             "colorbar": {
              "outlinewidth": 0,
              "ticks": ""
             }
            },
            "type": "scatterternary"
           }
          ],
          "surface": [
           {
            "colorbar": {
             "outlinewidth": 0,
             "ticks": ""
            },
            "colorscale": [
             [
              0,
              "#0d0887"
             ],
             [
              0.1111111111111111,
              "#46039f"
             ],
             [
              0.2222222222222222,
              "#7201a8"
             ],
             [
              0.3333333333333333,
              "#9c179e"
             ],
             [
              0.4444444444444444,
              "#bd3786"
             ],
             [
              0.5555555555555556,
              "#d8576b"
             ],
             [
              0.6666666666666666,
              "#ed7953"
             ],
             [
              0.7777777777777778,
              "#fb9f3a"
             ],
             [
              0.8888888888888888,
              "#fdca26"
             ],
             [
              1,
              "#f0f921"
             ]
            ],
            "type": "surface"
           }
          ],
          "table": [
           {
            "cells": {
             "fill": {
              "color": "#EBF0F8"
             },
             "line": {
              "color": "white"
             }
            },
            "header": {
             "fill": {
              "color": "#C8D4E3"
             },
             "line": {
              "color": "white"
             }
            },
            "type": "table"
           }
          ]
         },
         "layout": {
          "annotationdefaults": {
           "arrowcolor": "#2a3f5f",
           "arrowhead": 0,
           "arrowwidth": 1
          },
          "autotypenumbers": "strict",
          "coloraxis": {
           "colorbar": {
            "outlinewidth": 0,
            "ticks": ""
           }
          },
          "colorscale": {
           "diverging": [
            [
             0,
             "#8e0152"
            ],
            [
             0.1,
             "#c51b7d"
            ],
            [
             0.2,
             "#de77ae"
            ],
            [
             0.3,
             "#f1b6da"
            ],
            [
             0.4,
             "#fde0ef"
            ],
            [
             0.5,
             "#f7f7f7"
            ],
            [
             0.6,
             "#e6f5d0"
            ],
            [
             0.7,
             "#b8e186"
            ],
            [
             0.8,
             "#7fbc41"
            ],
            [
             0.9,
             "#4d9221"
            ],
            [
             1,
             "#276419"
            ]
           ],
           "sequential": [
            [
             0,
             "#0d0887"
            ],
            [
             0.1111111111111111,
             "#46039f"
            ],
            [
             0.2222222222222222,
             "#7201a8"
            ],
            [
             0.3333333333333333,
             "#9c179e"
            ],
            [
             0.4444444444444444,
             "#bd3786"
            ],
            [
             0.5555555555555556,
             "#d8576b"
            ],
            [
             0.6666666666666666,
             "#ed7953"
            ],
            [
             0.7777777777777778,
             "#fb9f3a"
            ],
            [
             0.8888888888888888,
             "#fdca26"
            ],
            [
             1,
             "#f0f921"
            ]
           ],
           "sequentialminus": [
            [
             0,
             "#0d0887"
            ],
            [
             0.1111111111111111,
             "#46039f"
            ],
            [
             0.2222222222222222,
             "#7201a8"
            ],
            [
             0.3333333333333333,
             "#9c179e"
            ],
            [
             0.4444444444444444,
             "#bd3786"
            ],
            [
             0.5555555555555556,
             "#d8576b"
            ],
            [
             0.6666666666666666,
             "#ed7953"
            ],
            [
             0.7777777777777778,
             "#fb9f3a"
            ],
            [
             0.8888888888888888,
             "#fdca26"
            ],
            [
             1,
             "#f0f921"
            ]
           ]
          },
          "colorway": [
           "#636efa",
           "#EF553B",
           "#00cc96",
           "#ab63fa",
           "#FFA15A",
           "#19d3f3",
           "#FF6692",
           "#B6E880",
           "#FF97FF",
           "#FECB52"
          ],
          "font": {
           "color": "#2a3f5f"
          },
          "geo": {
           "bgcolor": "white",
           "lakecolor": "white",
           "landcolor": "#E5ECF6",
           "showlakes": true,
           "showland": true,
           "subunitcolor": "white"
          },
          "hoverlabel": {
           "align": "left"
          },
          "hovermode": "closest",
          "mapbox": {
           "style": "light"
          },
          "paper_bgcolor": "white",
          "plot_bgcolor": "#E5ECF6",
          "polar": {
           "angularaxis": {
            "gridcolor": "white",
            "linecolor": "white",
            "ticks": ""
           },
           "bgcolor": "#E5ECF6",
           "radialaxis": {
            "gridcolor": "white",
            "linecolor": "white",
            "ticks": ""
           }
          },
          "scene": {
           "xaxis": {
            "backgroundcolor": "#E5ECF6",
            "gridcolor": "white",
            "gridwidth": 2,
            "linecolor": "white",
            "showbackground": true,
            "ticks": "",
            "zerolinecolor": "white"
           },
           "yaxis": {
            "backgroundcolor": "#E5ECF6",
            "gridcolor": "white",
            "gridwidth": 2,
            "linecolor": "white",
            "showbackground": true,
            "ticks": "",
            "zerolinecolor": "white"
           },
           "zaxis": {
            "backgroundcolor": "#E5ECF6",
            "gridcolor": "white",
            "gridwidth": 2,
            "linecolor": "white",
            "showbackground": true,
            "ticks": "",
            "zerolinecolor": "white"
           }
          },
          "shapedefaults": {
           "line": {
            "color": "#2a3f5f"
           }
          },
          "ternary": {
           "aaxis": {
            "gridcolor": "white",
            "linecolor": "white",
            "ticks": ""
           },
           "baxis": {
            "gridcolor": "white",
            "linecolor": "white",
            "ticks": ""
           },
           "bgcolor": "#E5ECF6",
           "caxis": {
            "gridcolor": "white",
            "linecolor": "white",
            "ticks": ""
           }
          },
          "title": {
           "x": 0.05
          },
          "xaxis": {
           "automargin": true,
           "gridcolor": "white",
           "linecolor": "white",
           "ticks": "",
           "title": {
            "standoff": 15
           },
           "zerolinecolor": "white",
           "zerolinewidth": 2
          },
          "yaxis": {
           "automargin": true,
           "gridcolor": "white",
           "linecolor": "white",
           "ticks": "",
           "title": {
            "standoff": 15
           },
           "zerolinecolor": "white",
           "zerolinewidth": 2
          }
         }
        },
        "title": {
         "text": "Ramsar"
        },
        "xaxis": {
         "anchor": "y",
         "constrain": "domain",
         "domain": [
          0,
          1
         ],
         "range": [
          -2.219,
          2.048
         ],
         "title": {
          "text": "SPEI_24"
         }
        },
        "yaxis": {
         "anchor": "x",
         "domain": [
          0,
          1
         ],
         "range": [
          -2.219,
          2.048
         ],
         "scaleanchor": "x",
         "scaleratio": 1,
         "title": {
          "text": "GPM_SPEI_24"
         }
        }
       }
      }
     },
     "metadata": {},
     "output_type": "display_data"
    }
   ],
   "source": [
    "import plotly.express as px\n",
    "\n",
    "for st in selected_stations:\n",
    "    station_data = df.query('Station_Name == @st')\n",
    "    fig = px.scatter(station_data, x=f'{di}_{scale}', y=f'GPM_{di}_{scale}', title=st)\n",
    "    max_limit = max(station_data[f'{di}_{scale}'].max(), station_data[f'GPM_{di}_{scale}'].max())\n",
    "    min_limit = max(station_data[f'{di}_{scale}'].min(), station_data[f'GPM_{di}_{scale}'].min())\n",
    "    fig.update_layout(xaxis=dict(range=[min_limit, max_limit]), yaxis=dict(range=[min_limit, max_limit]))\n",
    "    fig.update_yaxes(scaleanchor=\"x\", scaleratio=1)\n",
    "    fig.update_xaxes(constrain='domain')\n",
    "    fig.show()"
   ]
  },
  {
   "cell_type": "code",
   "execution_count": 43,
   "metadata": {},
   "outputs": [
    {
     "data": {
      "application/vnd.plotly.v1+json": {
       "config": {
        "plotlyServerURL": "https://plot.ly"
       },
       "data": [
        {
         "hovertemplate": "Sari<br>SPI24 (Station)=%{x}<br>SPI24 (GPM)=%{y}<extra></extra>",
         "legendgroup": "",
         "marker": {
          "color": "black",
          "opacity": 0.7,
          "size": 8,
          "symbol": "circle"
         },
         "mode": "markers",
         "name": "",
         "orientation": "v",
         "showlegend": false,
         "type": "scatter",
         "x": {
          "bdata": "okW28/3U4L85tMh2vp/Sv0w3iUFg5bA/i2zn+6nxor/6fmq8dJO4v65H4XoUrvE/VOOlm8QgsL9OYhBYObTIP3npJjEIrOA/5/up8dJNwj97FK5H4XrEvwRWDi2ynde/46WbxCCwwj+WQ4ts5/vZP0SLbOf7qbE/Di2yne+n5j8MAiuHFtniPwrXo3A9Cvk/i2zn+6nx8D8pXI/C9Sj2P05iEFg5tPg/j8L1KFyP9D8v3SQGgZXzP3E9CtejcOU/bxKDwMqh8z9aZDvfT43fP/p+arx0k4i/gZVDi2zny7+LbOf7qfHSv/T91HjpJvE/WDm0yHa+rz8dWmQ730/dP7gehetRuK4/MQisHFpk47+28/3UeOnev+xRuB6F69m/Rrbz/dR46b8fhetRuB7tv3npJjEIrHy/arx0kxgE6r9GtvP91HjZv1K4HoXrUeg/kxgEVg4twr8zMzMzMzPjPzMzMzMzM9s/w/UoXI/Ctb/jpZvEILDCP1g5tMh2vq8/AiuHFtnO1z81XrpJDALvP6rx0k1iEMg/mpmZmZmZ+z+4HoXrUbj6P83MzMzMzABAtMh2vp8a+z99PzVeukn6Pz81XrpJDPw/TmIQWDm0+j/NzMzMzMz6P2ZmZmZmZvI/xSCwcmiR+z+JQWDl0CL9P0Jg5dAi29E/rBxaZDvf+z9cj8L1KFz5PycxCKwcWgBAUI2XbhKD8j9MN4lBYOX0P76fGi/dJPY/7nw/NV668T+iRbbz/dTyPyGwcmiR7eQ/Di2yne+n7j8nMQisHFrEP1K4HoXrUbg/RIts5/up0T+q8dJNYhC4v+kmMQisHOo/7nw/NV664b8AAAAAAADAP/p+arx0k4g/bef7qfHS6b9KDAIrhxbtv3npJjEIrNS/i2zn+6nx2r91kxgEVg7pv6AaL90kBsG/Di2yne+n8r91kxgEVg7/vzvfT42XbhLAi2zn+6nx6r9vEoPAyqHlv5qZmZmZmZk/MzMzMzMzw79WDi2yne/Xv1pkO99PjZc/SOF6FK5HwT8lBoGVQ4voP8P1KFyPwrU/y6FFtvP94D8nMQisHFrkP2IQWDm0yPg/LbKd76fG6z9oke18PzXuP3sUrkfhevI/arx0kxgE6j/ufD81XrrpP6jGSzeJQcA/6SYxCKwcqr++nxov3STGv7gehetRuK6/46WbxCCw2r8X2c73U+PFv1yPwvUoXPM/5/up8dJN4r8ZBFYOLbLhv7bz/dR46fC/rBxaZDvfAcCamZmZmZkBwM/3U+Olm/a/kxgEVg4tAcCcxCCwcmgEwLTIdr6fGs+/UI2XbhKDAMAOLbKd76f+v7TIdr6fGu+/PzVeukkMAcAhsHJoke28vwisHFpkO88/6SYxCKwc0r91kxgEVg7Vv0jhehSuR8G/okW28/3UuL/8qfHSTWKwP3npJjEIrIw/UrgehetR7D/2KFyPwvXoP0jhehSuR/U/pHA9Ctej8j/Xo3A9Ctf3P2Dl0CLb+fg/O99PjZdu9j+F61G4HoX3P6wcWmQ73+8/uB6F61G4+j+JQWDl0CL1P7gehetRuK4/y6FFtvP96D+yne+nxkvvP0SLbOf7qfk/pHA9Ctej6D/RItv5fmrkPxsv3SQGgZU/EFg5tMh2vr85tMh2vp/Kv4lBYOXQIsu/YhBYObTI1r/8qfHSTWLYvzvfT42XboK/YhBYObTI4r/ByqFFtvO9v2Dl0CLb+fI/7nw/NV665b9YObTIdr7Xv1g5tMh2PhrAsp3vp8ZL67+amZmZmZntv0oMAiuHFuG/9P3UeOkm879qvHSTGATev/yp8dJNYlC/AiuHFtnO378v3SQGgZXjvxsv3SQGgZW/9ihcj8L17L+8dJMYBFbmv9Ei2/l+atS/sHJoke18379t5/up8dLdv3sUrkfheuC/LbKd76fG47+amZmZmZnZvw==",
          "dtype": "f8"
         },
         "xaxis": "x",
         "y": {
          "bdata": "6SYxCKwcyr/pJjEIrByqv5zEILByaNk/K4cW2c73s79qvHSTGAS2vxsv3SQGgZU//Knx0k1iUL+amZmZmZnJv6RwPQrXo8C/WDm0yHa+v7+0yHa+nxrPvzm0yHa+n7q/mG4Sg8DKwb+amZmZmZnJP5zEILByaNk/EoPAyqFF4j/P91PjpZvgPwrXo3A9CuM/TmIQWDm06D/D9Shcj8LpP/yp8dJNYvI/VOOlm8Qg8j8ZBFYOLbLxP6wcWmQ739c/rBxaZDvf8T/ByqFFtvPlPw4tsp3vp94/7nw/NV660T/LoUW28/20v/hT46WbxMA/SOF6FK5HwT8EVg4tsp3PP6RwPQrXo7C//Knx0k1iwL956SYxCKyMP3sUrkfhenQ/001iEFg5tD8730+Nl27CvwAAAAAAAOQ/ppvEILByyD8QWDm0yHa+P30/NV66Scw/exSuR+F61D8j2/l+arzgP0a28/3UeNE/cT0K16NwzT8fhetRuB7dPxkEVg4tss0/HVpkO99P4T83iUFg5dDuPxsv3SQGgfE/ZmZmZmZm+D+wcmiR7Xz7PxBYObTIdvo/YhBYObTI+D+uR+F6FK7zP/7UeOkmMfY/Vg4tsp3v9z99PzVeukn2P5MYBFYOLeI/6SYxCKwc8j+TGARWDi3yP/YoXI/C9eg/nMQgsHJo4T/RItv5fmrsPxSuR+F6FOY/PzVeukkM0j+JQWDl0CLTP1yPwvUoXNc/BFYOLbKd1z/HSzeJQWDhP2ZmZmZmZsY/MQisHFpkuz/HSzeJQWDVv+Olm8QgsLK/Gy/dJAaB1b8nMQisHFrgv5MYBFYOLeK/AiuHFtnO479QjZduEoPQvxsv3SQGgd2/8KfGSzeJ5b8lBoGVQ4vovxBYObTIdr6/30+Nl24S47+Nl24Sg8Div7Kd76fGS9+/pHA9Ctej2L9t5/up8dLhv7gehetRuN6/BoGVQ4tsx7/6fmq8dJNoPwIrhxbZzsc/ukkMAiuH1j+oxks3iUHAP4cW2c73U8M/46WbxCCw0j+yne+nxkvnP7bz/dR46d4/EoPAyqFF3j8fhetRuB7hP7Kd76fGS+M/WmQ730+N4z/LoUW28/3UP23n+6nx0uE/7nw/NV664T9eukkMAivjP+F6FK5H4bo/gZVDi2znu7/ByqFFtvPNv30/NV66SeC/PQrXo3A92r956SYxCKzcvzeJQWDl0MK/0SLb+X5q5L+HFtnO91Pnvx1aZDvfT/G/xSCwcmiR879YObTIdr71v1pkO99Pjd+/+FPjpZvE+L+sHFpkO9//v6RwPQrXo/q/Vg4tsp3v9b/sUbgehevzv6abxCCwcvC/BFYOLbKd6793vp8aL93EP5zEILByaNE/oBov3SQG0T+R7Xw/NV7SP+xRuB6F68E/x0s3iUFg1T/6fmq8dJPYP0w3iUFg5dg/H4XrUbge8z/n+6nx0k3yP9nO91Pjpes/d76fGi/d+j9YObTIdr77P39qvHSTGABAiUFg5dAi/z+4HoXrUbj+P/hT46WbxOg/cT0K16NwAUAAAAAAAAAAQMl2vp8aL/s/2/l+arx0+z/P91PjpZv6P4ts5/up8fY/UrgehetR8j8OLbKd76fWPzm0yHa+n6q/sp3vp8ZLtz9QjZduEoPAP6jGSzeJQcA/AiuHFtnOtz+amZmZmZmpP05iEFg5tMg/HVpkO99P4b8Sg8DKoUXev2q8dJMYBKa/TmIQWDm05L/jpZvEILDiv+F6FK5H4fC/ke18PzVe7r+oxks3iUHwv39qvHSTGNS/XI/C9Shc97/n+6nx0k3yv/YoXI/C9fi/sp3vp8ZL/b+0yHa+nxr9v4GVQ4ts5/+/kxgEVg4t/r8fhetRuB73vxsv3SQGgfu/okW28/3U+r9kO99PjZf6v0a28/3UeOG/d76fGi/d/L9kO99PjZf6vw==",
          "dtype": "f8"
         },
         "yaxis": "y"
        },
        {
         "line": {
          "color": "red",
          "dash": "dash"
         },
         "mode": "lines",
         "showlegend": false,
         "type": "scatter",
         "x": [
          -7.061,
          2.68
         ],
         "y": [
          -7.061,
          2.68
         ]
        }
       ],
       "layout": {
        "height": 600,
        "legend": {
         "tracegroupgap": 0
        },
        "margin": {
         "b": 20,
         "l": 20,
         "r": 20,
         "t": 20
        },
        "template": {
         "data": {
          "bar": [
           {
            "error_x": {
             "color": "#2a3f5f"
            },
            "error_y": {
             "color": "#2a3f5f"
            },
            "marker": {
             "line": {
              "color": "#E5ECF6",
              "width": 0.5
             },
             "pattern": {
              "fillmode": "overlay",
              "size": 10,
              "solidity": 0.2
             }
            },
            "type": "bar"
           }
          ],
          "barpolar": [
           {
            "marker": {
             "line": {
              "color": "#E5ECF6",
              "width": 0.5
             },
             "pattern": {
              "fillmode": "overlay",
              "size": 10,
              "solidity": 0.2
             }
            },
            "type": "barpolar"
           }
          ],
          "carpet": [
           {
            "aaxis": {
             "endlinecolor": "#2a3f5f",
             "gridcolor": "white",
             "linecolor": "white",
             "minorgridcolor": "white",
             "startlinecolor": "#2a3f5f"
            },
            "baxis": {
             "endlinecolor": "#2a3f5f",
             "gridcolor": "white",
             "linecolor": "white",
             "minorgridcolor": "white",
             "startlinecolor": "#2a3f5f"
            },
            "type": "carpet"
           }
          ],
          "choropleth": [
           {
            "colorbar": {
             "outlinewidth": 0,
             "ticks": ""
            },
            "type": "choropleth"
           }
          ],
          "contour": [
           {
            "colorbar": {
             "outlinewidth": 0,
             "ticks": ""
            },
            "colorscale": [
             [
              0,
              "#0d0887"
             ],
             [
              0.1111111111111111,
              "#46039f"
             ],
             [
              0.2222222222222222,
              "#7201a8"
             ],
             [
              0.3333333333333333,
              "#9c179e"
             ],
             [
              0.4444444444444444,
              "#bd3786"
             ],
             [
              0.5555555555555556,
              "#d8576b"
             ],
             [
              0.6666666666666666,
              "#ed7953"
             ],
             [
              0.7777777777777778,
              "#fb9f3a"
             ],
             [
              0.8888888888888888,
              "#fdca26"
             ],
             [
              1,
              "#f0f921"
             ]
            ],
            "type": "contour"
           }
          ],
          "contourcarpet": [
           {
            "colorbar": {
             "outlinewidth": 0,
             "ticks": ""
            },
            "type": "contourcarpet"
           }
          ],
          "heatmap": [
           {
            "colorbar": {
             "outlinewidth": 0,
             "ticks": ""
            },
            "colorscale": [
             [
              0,
              "#0d0887"
             ],
             [
              0.1111111111111111,
              "#46039f"
             ],
             [
              0.2222222222222222,
              "#7201a8"
             ],
             [
              0.3333333333333333,
              "#9c179e"
             ],
             [
              0.4444444444444444,
              "#bd3786"
             ],
             [
              0.5555555555555556,
              "#d8576b"
             ],
             [
              0.6666666666666666,
              "#ed7953"
             ],
             [
              0.7777777777777778,
              "#fb9f3a"
             ],
             [
              0.8888888888888888,
              "#fdca26"
             ],
             [
              1,
              "#f0f921"
             ]
            ],
            "type": "heatmap"
           }
          ],
          "histogram": [
           {
            "marker": {
             "pattern": {
              "fillmode": "overlay",
              "size": 10,
              "solidity": 0.2
             }
            },
            "type": "histogram"
           }
          ],
          "histogram2d": [
           {
            "colorbar": {
             "outlinewidth": 0,
             "ticks": ""
            },
            "colorscale": [
             [
              0,
              "#0d0887"
             ],
             [
              0.1111111111111111,
              "#46039f"
             ],
             [
              0.2222222222222222,
              "#7201a8"
             ],
             [
              0.3333333333333333,
              "#9c179e"
             ],
             [
              0.4444444444444444,
              "#bd3786"
             ],
             [
              0.5555555555555556,
              "#d8576b"
             ],
             [
              0.6666666666666666,
              "#ed7953"
             ],
             [
              0.7777777777777778,
              "#fb9f3a"
             ],
             [
              0.8888888888888888,
              "#fdca26"
             ],
             [
              1,
              "#f0f921"
             ]
            ],
            "type": "histogram2d"
           }
          ],
          "histogram2dcontour": [
           {
            "colorbar": {
             "outlinewidth": 0,
             "ticks": ""
            },
            "colorscale": [
             [
              0,
              "#0d0887"
             ],
             [
              0.1111111111111111,
              "#46039f"
             ],
             [
              0.2222222222222222,
              "#7201a8"
             ],
             [
              0.3333333333333333,
              "#9c179e"
             ],
             [
              0.4444444444444444,
              "#bd3786"
             ],
             [
              0.5555555555555556,
              "#d8576b"
             ],
             [
              0.6666666666666666,
              "#ed7953"
             ],
             [
              0.7777777777777778,
              "#fb9f3a"
             ],
             [
              0.8888888888888888,
              "#fdca26"
             ],
             [
              1,
              "#f0f921"
             ]
            ],
            "type": "histogram2dcontour"
           }
          ],
          "mesh3d": [
           {
            "colorbar": {
             "outlinewidth": 0,
             "ticks": ""
            },
            "type": "mesh3d"
           }
          ],
          "parcoords": [
           {
            "line": {
             "colorbar": {
              "outlinewidth": 0,
              "ticks": ""
             }
            },
            "type": "parcoords"
           }
          ],
          "pie": [
           {
            "automargin": true,
            "type": "pie"
           }
          ],
          "scatter": [
           {
            "fillpattern": {
             "fillmode": "overlay",
             "size": 10,
             "solidity": 0.2
            },
            "type": "scatter"
           }
          ],
          "scatter3d": [
           {
            "line": {
             "colorbar": {
              "outlinewidth": 0,
              "ticks": ""
             }
            },
            "marker": {
             "colorbar": {
              "outlinewidth": 0,
              "ticks": ""
             }
            },
            "type": "scatter3d"
           }
          ],
          "scattercarpet": [
           {
            "marker": {
             "colorbar": {
              "outlinewidth": 0,
              "ticks": ""
             }
            },
            "type": "scattercarpet"
           }
          ],
          "scattergeo": [
           {
            "marker": {
             "colorbar": {
              "outlinewidth": 0,
              "ticks": ""
             }
            },
            "type": "scattergeo"
           }
          ],
          "scattergl": [
           {
            "marker": {
             "colorbar": {
              "outlinewidth": 0,
              "ticks": ""
             }
            },
            "type": "scattergl"
           }
          ],
          "scattermap": [
           {
            "marker": {
             "colorbar": {
              "outlinewidth": 0,
              "ticks": ""
             }
            },
            "type": "scattermap"
           }
          ],
          "scattermapbox": [
           {
            "marker": {
             "colorbar": {
              "outlinewidth": 0,
              "ticks": ""
             }
            },
            "type": "scattermapbox"
           }
          ],
          "scatterpolar": [
           {
            "marker": {
             "colorbar": {
              "outlinewidth": 0,
              "ticks": ""
             }
            },
            "type": "scatterpolar"
           }
          ],
          "scatterpolargl": [
           {
            "marker": {
             "colorbar": {
              "outlinewidth": 0,
              "ticks": ""
             }
            },
            "type": "scatterpolargl"
           }
          ],
          "scatterternary": [
           {
            "marker": {
             "colorbar": {
              "outlinewidth": 0,
              "ticks": ""
             }
            },
            "type": "scatterternary"
           }
          ],
          "surface": [
           {
            "colorbar": {
             "outlinewidth": 0,
             "ticks": ""
            },
            "colorscale": [
             [
              0,
              "#0d0887"
             ],
             [
              0.1111111111111111,
              "#46039f"
             ],
             [
              0.2222222222222222,
              "#7201a8"
             ],
             [
              0.3333333333333333,
              "#9c179e"
             ],
             [
              0.4444444444444444,
              "#bd3786"
             ],
             [
              0.5555555555555556,
              "#d8576b"
             ],
             [
              0.6666666666666666,
              "#ed7953"
             ],
             [
              0.7777777777777778,
              "#fb9f3a"
             ],
             [
              0.8888888888888888,
              "#fdca26"
             ],
             [
              1,
              "#f0f921"
             ]
            ],
            "type": "surface"
           }
          ],
          "table": [
           {
            "cells": {
             "fill": {
              "color": "#EBF0F8"
             },
             "line": {
              "color": "white"
             }
            },
            "header": {
             "fill": {
              "color": "#C8D4E3"
             },
             "line": {
              "color": "white"
             }
            },
            "type": "table"
           }
          ]
         },
         "layout": {
          "annotationdefaults": {
           "arrowcolor": "#2a3f5f",
           "arrowhead": 0,
           "arrowwidth": 1
          },
          "autotypenumbers": "strict",
          "coloraxis": {
           "colorbar": {
            "outlinewidth": 0,
            "ticks": ""
           }
          },
          "colorscale": {
           "diverging": [
            [
             0,
             "#8e0152"
            ],
            [
             0.1,
             "#c51b7d"
            ],
            [
             0.2,
             "#de77ae"
            ],
            [
             0.3,
             "#f1b6da"
            ],
            [
             0.4,
             "#fde0ef"
            ],
            [
             0.5,
             "#f7f7f7"
            ],
            [
             0.6,
             "#e6f5d0"
            ],
            [
             0.7,
             "#b8e186"
            ],
            [
             0.8,
             "#7fbc41"
            ],
            [
             0.9,
             "#4d9221"
            ],
            [
             1,
             "#276419"
            ]
           ],
           "sequential": [
            [
             0,
             "#0d0887"
            ],
            [
             0.1111111111111111,
             "#46039f"
            ],
            [
             0.2222222222222222,
             "#7201a8"
            ],
            [
             0.3333333333333333,
             "#9c179e"
            ],
            [
             0.4444444444444444,
             "#bd3786"
            ],
            [
             0.5555555555555556,
             "#d8576b"
            ],
            [
             0.6666666666666666,
             "#ed7953"
            ],
            [
             0.7777777777777778,
             "#fb9f3a"
            ],
            [
             0.8888888888888888,
             "#fdca26"
            ],
            [
             1,
             "#f0f921"
            ]
           ],
           "sequentialminus": [
            [
             0,
             "#0d0887"
            ],
            [
             0.1111111111111111,
             "#46039f"
            ],
            [
             0.2222222222222222,
             "#7201a8"
            ],
            [
             0.3333333333333333,
             "#9c179e"
            ],
            [
             0.4444444444444444,
             "#bd3786"
            ],
            [
             0.5555555555555556,
             "#d8576b"
            ],
            [
             0.6666666666666666,
             "#ed7953"
            ],
            [
             0.7777777777777778,
             "#fb9f3a"
            ],
            [
             0.8888888888888888,
             "#fdca26"
            ],
            [
             1,
             "#f0f921"
            ]
           ]
          },
          "colorway": [
           "#636efa",
           "#EF553B",
           "#00cc96",
           "#ab63fa",
           "#FFA15A",
           "#19d3f3",
           "#FF6692",
           "#B6E880",
           "#FF97FF",
           "#FECB52"
          ],
          "font": {
           "color": "#2a3f5f"
          },
          "geo": {
           "bgcolor": "white",
           "lakecolor": "white",
           "landcolor": "#E5ECF6",
           "showlakes": true,
           "showland": true,
           "subunitcolor": "white"
          },
          "hoverlabel": {
           "align": "left"
          },
          "hovermode": "closest",
          "mapbox": {
           "style": "light"
          },
          "paper_bgcolor": "white",
          "plot_bgcolor": "#E5ECF6",
          "polar": {
           "angularaxis": {
            "gridcolor": "white",
            "linecolor": "white",
            "ticks": ""
           },
           "bgcolor": "#E5ECF6",
           "radialaxis": {
            "gridcolor": "white",
            "linecolor": "white",
            "ticks": ""
           }
          },
          "scene": {
           "xaxis": {
            "backgroundcolor": "#E5ECF6",
            "gridcolor": "white",
            "gridwidth": 2,
            "linecolor": "white",
            "showbackground": true,
            "ticks": "",
            "zerolinecolor": "white"
           },
           "yaxis": {
            "backgroundcolor": "#E5ECF6",
            "gridcolor": "white",
            "gridwidth": 2,
            "linecolor": "white",
            "showbackground": true,
            "ticks": "",
            "zerolinecolor": "white"
           },
           "zaxis": {
            "backgroundcolor": "#E5ECF6",
            "gridcolor": "white",
            "gridwidth": 2,
            "linecolor": "white",
            "showbackground": true,
            "ticks": "",
            "zerolinecolor": "white"
           }
          },
          "shapedefaults": {
           "line": {
            "color": "#2a3f5f"
           }
          },
          "ternary": {
           "aaxis": {
            "gridcolor": "white",
            "linecolor": "white",
            "ticks": ""
           },
           "baxis": {
            "gridcolor": "white",
            "linecolor": "white",
            "ticks": ""
           },
           "bgcolor": "#E5ECF6",
           "caxis": {
            "gridcolor": "white",
            "linecolor": "white",
            "ticks": ""
           }
          },
          "title": {
           "x": 0.05
          },
          "xaxis": {
           "automargin": true,
           "gridcolor": "white",
           "linecolor": "white",
           "ticks": "",
           "title": {
            "standoff": 15
           },
           "zerolinecolor": "white",
           "zerolinewidth": 2
          },
          "yaxis": {
           "automargin": true,
           "gridcolor": "white",
           "linecolor": "white",
           "ticks": "",
           "title": {
            "standoff": 15
           },
           "zerolinecolor": "white",
           "zerolinewidth": 2
          }
         }
        },
        "title": {},
        "width": 600,
        "xaxis": {
         "anchor": "y",
         "domain": [
          0,
          1
         ],
         "range": [
          -7.061,
          2.68
         ],
         "title": {
          "text": "Sari<br>SPI24 (Station)"
         }
        },
        "yaxis": {
         "anchor": "x",
         "domain": [
          0,
          1
         ],
         "range": [
          -7.061,
          2.68
         ],
         "scaleanchor": "x",
         "scaleratio": 1,
         "title": {
          "text": "SPI24 (GPM)"
         }
        }
       }
      }
     },
     "metadata": {},
     "output_type": "display_data"
    },
    {
     "data": {
      "application/vnd.plotly.v1+json": {
       "config": {
        "plotlyServerURL": "https://plot.ly"
       },
       "data": [
        {
         "hovertemplate": "Alasht<br>SPI24 (Station)=%{x}<br>SPI24 (GPM)=%{y}<extra></extra>",
         "legendgroup": "",
         "marker": {
          "color": "black",
          "opacity": 0.7,
          "size": 8,
          "symbol": "circle"
         },
         "mode": "markers",
         "name": "",
         "orientation": "v",
         "showlegend": false,
         "type": "scatter",
         "x": {
          "bdata": "3SQGgZVDy7/6fmq8dJPIv6jGSzeJQcC/6SYxCKwcur8fhetRuB7Fv23n+6nx0tW/WmQ730+N1z8/NV66SQzmv1CNl24Sg+C/nMQgsHJokb8MAiuHFtnqv6jGSzeJQfC/9P3UeOkm7b+iRbbz/dTkv28Sg8DKoem/9P3UeOkm2b+8dJMYBFbOv2ZmZmZmZt6/d76fGi/dxD++nxov3STWv4/C9Shcj8K/9P3UeOkmsT+DwMqhRbbbv7Kd76fGS7e/MzMzMzMzwz+gGi/dJAbBP9v5fmq8dJO/MQisHFpku7/0/dR46SbRv/hT46WbxMC/PQrXo3A90j+cxCCwcmihv8uhRbbz/dy//Knx0k1igD9aZDvfT43jv5zEILByaOW/VOOlm8Qg2L/sUbgehevZv3npJjEIrHw/WmQ730+Np78bL90kBoG1P1yPwvUoXM8/L90kBoGV5z83iUFg5dDmP/T91HjpJuE/MQisHFpkyz++nxov3STeP6RwPQrXo9A/exSuR+F6tD/b+X5qvHTjP/p+arx0k+Q/NV66SQwC7z8tsp3vp8bxPxsv3SQGgfE/rkfhehSu8T+HFtnO91PrP1K4HoXrUfA/vHSTGARW1j9YObTIdr7xPzeJQWDl0PI/arx0kxgE8D9QjZduEoPsP3e+nxov3eg/CKwcWmQ74z+mm8QgsHLoP6abxCCwcuA/FK5H4XoU4j++nxov3STGv/p+arx0k6i/K4cW2c73sz+yne+nxkvHP1pkO99Pjbc//Knx0k1iUD8nMQisHFrgv6abxCCwcti/ppvEILBy4L8MAiuHFtnmv5huEoPAyu2/aJHtfD811r9aZDvfT43nvwaBlUOLbO+//Knx0k1iwL+sHFpkO9/3v30/NV66SfK/hxbZzvdT9b+sHFpkO9/nv0w3iUFg5ei/DAIrhxbZ4r/ZzvdT46XLv+F6FK5H4dK/x0s3iUFg3T8rhxbZzvejP/p+arx0k7g/MzMzMzMzwz+LbOf7qfGiPxkEVg4tsr0/L90kBoGV0z8QWDm0yHbeP6jGSzeJQdA/XrpJDAIr4z/+1HjpJjHkP166SQwCK+M/tvP91Hjp7j8nMQisHFrcP65H4XoUruc/nu+nxks30T+kcD0K16PoP4GVQ4ts59s/UrgehetR2D/6fmq8dJOYvwrXo3A9Csc/ObTIdr6fij/ufD81XrrJv/p+arx0k2i/vHSTGARWzj9vEoPAyqHlv1pkO99Pjee/nMQgsHJokb9I4XoUrkfpv2q8dJMYBO6/Gy/dJAaB7b+0yHa+nxrxv/T91HjpJuW/cT0K16Nw879CYOXQItvtv6JFtvP91OS/kxgEVg4tsj+PwvUoXI/SPxBYObTIdtY/Di2yne+nxj99PzVeukncP5ZDi2zn+9k/arx0kxgE3j8Sg8DKoUXiPyGwcmiR7dw/4XoUrkfh8D+Nl24Sg8DwP0w3iUFg5ew/xSCwcmiR9T9WDi2yne/9P4XrUbgehf8/rBxaZDvf3z97FK5H4Xr8P/hT46WbxPw/BoGVQ4ts/z8OLbKd76cAQHE9CtejcAFAx0s3iUFgAEDByqFFtvP9P99PjZduEgBAd76fGi/d+D/+1HjpJjH6P1CNl24Sg/Y/w/UoXI/C3T9t5/up8dL5PxfZzvdT4/c/F9nO91Pj+T/ByqFFtvP3P8UgsHJokfc/XrpJDAIr7z/6fmq8dJPsP8/3U+Olm/A/hetRuB6F6z+R7Xw/NV7aP/LSTWIQWNE/rkfhehSuxz+HFtnO91PTP/p+arx0k7g/uB6F61G4vr8j2/l+arzcv4lBYOXQIu+/NV66SQwC87/2KFyPwvX2v0jhehSuR/m/30+Nl24S/b+Nl24Sg8D8v+F6FK5H4fy/hetRuB6F07+6SQwCK4f8vz81XrpJDADAI9v5fmq8AMCDwMqhRbYBwA==",
          "dtype": "f8"
         },
         "xaxis": "x",
         "y": {
          "bdata": "WmQ730+Nlz/jpZvEILDCP9Ei2/l+auA/EoPAyqFFxj83iUFg5dDCP2Dl0CLb+c4/vp8aL90kxj8dWmQ730/Nv8dLN4lBYMW/+n5qvHSTmL9I4XoUrkfRv6AaL90kBsG/+n5qvHSTaL/RItv5fmq8P/YoXI/C9dA/vp8aL90k1j81XrpJDALTPzMzMzMzM9M/qMZLN4lB2D+0yHa+nxrnP0oMAiuHFvE/wcqhRbbz4T9g5dAi2/nwP1TjpZvEIMA/qMZLN4lBwD8zMzMzMzPnP2Dl0CLb+eI/PzVeukkM2j/pJjEIrByqPz0K16NwPdI/mG4Sg8DK0T9xPQrXo3DdP/7UeOkmMcg/+n5qvHSTuD+R7Xw/NV66Pxsv3SQGgaW/WmQ730+Npz/Jdr6fGi+tP6RwPQrXo+g/001iEFg55D8AAAAAAADgP28Sg8DKoeE/arx0kxgE3j8v3SQGgZXrP4XrUbgeheM/16NwPQrX0z+cxCCwcmjpP+xRuB6F68E/eekmMQisvD9KDAIrhxbzP30/NV66SfQ/jZduEoPA+j8dWmQ730/9P2Q730+Nl/w/ObTIdr6f8D/b+X5qvHT3P/hT46WbxPY/JzEIrBxa6D81XrpJDAL3PwAAAAAAANA/SOF6FK5HwT/FILByaJHxP83MzMzMzOg/arx0kxgE3j8730+Nl27qP8UgsHJokeU/3SQGgZVDyz+BlUOLbOfLP/7UeOkmMcg/GQRWDi2yvT+amZmZmZnRPzm0yHa+n5q/+n5qvHSTaD/P91PjpZvcv5HtfD81Xsq/1XjpJjEI3L+sHFpkO9/jv6wcWmQ73+e/4XoUrkfh0r+cxCCwcmjZv2IQWDm0yN6/Rrbz/dR40b+YbhKDwMrpv4ts5/up8cK/6SYxCKwcqr/P91PjpZvgv1TjpZvEINi/nMQgsHJo2b+mm8QgsHLgvxSuR+F6FN6/iUFg5dAiq7+TGARWDi3Cv0w3iUFg5bA/+FPjpZvEwD9YObTIdr6vv0w3iUFg5aC/Gy/dJAaBlT89CtejcD3aPxKDwMqhRcY/PQrXo3A9yj+LbOf7qfHaP8dLN4lBYN0/g8DKoUW20z9Ei2zn+6mxPw4tsp3vp9Y/mpmZmZmZyT9zaJHtfD/VP3npJjEIrKy/uB6F61G4jr+sHFpkO9/fv2q8dJMYBOq/2/l+arx057/b+X5qvHTnv+XQItv5fuK/FK5H4XoU3r/+1HjpJjH0v1g5tMh2vvO/Gy/dJAaB4b85tMh2vp/2vwRWDi2ynde/46WbxCCwwr8nMQisHFr+v1yPwvUoXPm/YOXQItv59L8/NV66SQz0v6RwPQrXo/C/j8L1KFyP2r+amZmZmZmZP8P1KFyPwsU/KVyPwvUovD/8qfHSTWLAP3sUrkfhepS/CtejcD0Kpz8GgZVDi2zXP+XQItv5fto/4XoUrkfh8D/wp8ZLN4nxPwRWDi2ynes/0SLb+X5q8D9CYOXQItv9P4cW2c73UwBAsp3vp8ZL7z+e76fGSzf/P7TIdr6fGtc/XI/C9Shczz9Ei2zn+6n/P5huEoPAyvk/LbKd76fG+T/Jdr6fGi/5PwisHFpkO/U/ZmZmZmZm5j8xCKwcWmTbP3sUrkfheoQ/QmDl0CLbyT9mZmZmZmbWP3sUrkfheqQ/ukkMAiuHpj9oke18PzW+P/LSTWIQWMk/+n5qvHST0L8EVg4tsp3Pvylcj8L1KKw/CtejcD0Kx7+DwMqhRbbbv8uhRbbz/ey/xSCwcmiR1b8/NV66SQzuvwwCK4cW2c6/WDm0yHa+v7+F61G4HoXxv+XQItv5fva/nu+nxks3+7/jpZvEILD6v/hT46WbxPy/K4cW2c7367/RItv5fmr6v05iEFg5tPi//Knx0k1i6L+HFtnO91P7v+Olm8QgsNq/XrpJDAIrx79WDi2yne/7vw==",
          "dtype": "f8"
         },
         "yaxis": "y"
        },
        {
         "line": {
          "color": "red",
          "dash": "dash"
         },
         "mode": "lines",
         "showlegend": false,
         "type": "scatter",
         "x": [
          -2.714,
          2.68
         ],
         "y": [
          -2.714,
          2.68
         ]
        }
       ],
       "layout": {
        "height": 600,
        "legend": {
         "tracegroupgap": 0
        },
        "margin": {
         "b": 20,
         "l": 20,
         "r": 20,
         "t": 20
        },
        "template": {
         "data": {
          "bar": [
           {
            "error_x": {
             "color": "#2a3f5f"
            },
            "error_y": {
             "color": "#2a3f5f"
            },
            "marker": {
             "line": {
              "color": "#E5ECF6",
              "width": 0.5
             },
             "pattern": {
              "fillmode": "overlay",
              "size": 10,
              "solidity": 0.2
             }
            },
            "type": "bar"
           }
          ],
          "barpolar": [
           {
            "marker": {
             "line": {
              "color": "#E5ECF6",
              "width": 0.5
             },
             "pattern": {
              "fillmode": "overlay",
              "size": 10,
              "solidity": 0.2
             }
            },
            "type": "barpolar"
           }
          ],
          "carpet": [
           {
            "aaxis": {
             "endlinecolor": "#2a3f5f",
             "gridcolor": "white",
             "linecolor": "white",
             "minorgridcolor": "white",
             "startlinecolor": "#2a3f5f"
            },
            "baxis": {
             "endlinecolor": "#2a3f5f",
             "gridcolor": "white",
             "linecolor": "white",
             "minorgridcolor": "white",
             "startlinecolor": "#2a3f5f"
            },
            "type": "carpet"
           }
          ],
          "choropleth": [
           {
            "colorbar": {
             "outlinewidth": 0,
             "ticks": ""
            },
            "type": "choropleth"
           }
          ],
          "contour": [
           {
            "colorbar": {
             "outlinewidth": 0,
             "ticks": ""
            },
            "colorscale": [
             [
              0,
              "#0d0887"
             ],
             [
              0.1111111111111111,
              "#46039f"
             ],
             [
              0.2222222222222222,
              "#7201a8"
             ],
             [
              0.3333333333333333,
              "#9c179e"
             ],
             [
              0.4444444444444444,
              "#bd3786"
             ],
             [
              0.5555555555555556,
              "#d8576b"
             ],
             [
              0.6666666666666666,
              "#ed7953"
             ],
             [
              0.7777777777777778,
              "#fb9f3a"
             ],
             [
              0.8888888888888888,
              "#fdca26"
             ],
             [
              1,
              "#f0f921"
             ]
            ],
            "type": "contour"
           }
          ],
          "contourcarpet": [
           {
            "colorbar": {
             "outlinewidth": 0,
             "ticks": ""
            },
            "type": "contourcarpet"
           }
          ],
          "heatmap": [
           {
            "colorbar": {
             "outlinewidth": 0,
             "ticks": ""
            },
            "colorscale": [
             [
              0,
              "#0d0887"
             ],
             [
              0.1111111111111111,
              "#46039f"
             ],
             [
              0.2222222222222222,
              "#7201a8"
             ],
             [
              0.3333333333333333,
              "#9c179e"
             ],
             [
              0.4444444444444444,
              "#bd3786"
             ],
             [
              0.5555555555555556,
              "#d8576b"
             ],
             [
              0.6666666666666666,
              "#ed7953"
             ],
             [
              0.7777777777777778,
              "#fb9f3a"
             ],
             [
              0.8888888888888888,
              "#fdca26"
             ],
             [
              1,
              "#f0f921"
             ]
            ],
            "type": "heatmap"
           }
          ],
          "histogram": [
           {
            "marker": {
             "pattern": {
              "fillmode": "overlay",
              "size": 10,
              "solidity": 0.2
             }
            },
            "type": "histogram"
           }
          ],
          "histogram2d": [
           {
            "colorbar": {
             "outlinewidth": 0,
             "ticks": ""
            },
            "colorscale": [
             [
              0,
              "#0d0887"
             ],
             [
              0.1111111111111111,
              "#46039f"
             ],
             [
              0.2222222222222222,
              "#7201a8"
             ],
             [
              0.3333333333333333,
              "#9c179e"
             ],
             [
              0.4444444444444444,
              "#bd3786"
             ],
             [
              0.5555555555555556,
              "#d8576b"
             ],
             [
              0.6666666666666666,
              "#ed7953"
             ],
             [
              0.7777777777777778,
              "#fb9f3a"
             ],
             [
              0.8888888888888888,
              "#fdca26"
             ],
             [
              1,
              "#f0f921"
             ]
            ],
            "type": "histogram2d"
           }
          ],
          "histogram2dcontour": [
           {
            "colorbar": {
             "outlinewidth": 0,
             "ticks": ""
            },
            "colorscale": [
             [
              0,
              "#0d0887"
             ],
             [
              0.1111111111111111,
              "#46039f"
             ],
             [
              0.2222222222222222,
              "#7201a8"
             ],
             [
              0.3333333333333333,
              "#9c179e"
             ],
             [
              0.4444444444444444,
              "#bd3786"
             ],
             [
              0.5555555555555556,
              "#d8576b"
             ],
             [
              0.6666666666666666,
              "#ed7953"
             ],
             [
              0.7777777777777778,
              "#fb9f3a"
             ],
             [
              0.8888888888888888,
              "#fdca26"
             ],
             [
              1,
              "#f0f921"
             ]
            ],
            "type": "histogram2dcontour"
           }
          ],
          "mesh3d": [
           {
            "colorbar": {
             "outlinewidth": 0,
             "ticks": ""
            },
            "type": "mesh3d"
           }
          ],
          "parcoords": [
           {
            "line": {
             "colorbar": {
              "outlinewidth": 0,
              "ticks": ""
             }
            },
            "type": "parcoords"
           }
          ],
          "pie": [
           {
            "automargin": true,
            "type": "pie"
           }
          ],
          "scatter": [
           {
            "fillpattern": {
             "fillmode": "overlay",
             "size": 10,
             "solidity": 0.2
            },
            "type": "scatter"
           }
          ],
          "scatter3d": [
           {
            "line": {
             "colorbar": {
              "outlinewidth": 0,
              "ticks": ""
             }
            },
            "marker": {
             "colorbar": {
              "outlinewidth": 0,
              "ticks": ""
             }
            },
            "type": "scatter3d"
           }
          ],
          "scattercarpet": [
           {
            "marker": {
             "colorbar": {
              "outlinewidth": 0,
              "ticks": ""
             }
            },
            "type": "scattercarpet"
           }
          ],
          "scattergeo": [
           {
            "marker": {
             "colorbar": {
              "outlinewidth": 0,
              "ticks": ""
             }
            },
            "type": "scattergeo"
           }
          ],
          "scattergl": [
           {
            "marker": {
             "colorbar": {
              "outlinewidth": 0,
              "ticks": ""
             }
            },
            "type": "scattergl"
           }
          ],
          "scattermap": [
           {
            "marker": {
             "colorbar": {
              "outlinewidth": 0,
              "ticks": ""
             }
            },
            "type": "scattermap"
           }
          ],
          "scattermapbox": [
           {
            "marker": {
             "colorbar": {
              "outlinewidth": 0,
              "ticks": ""
             }
            },
            "type": "scattermapbox"
           }
          ],
          "scatterpolar": [
           {
            "marker": {
             "colorbar": {
              "outlinewidth": 0,
              "ticks": ""
             }
            },
            "type": "scatterpolar"
           }
          ],
          "scatterpolargl": [
           {
            "marker": {
             "colorbar": {
              "outlinewidth": 0,
              "ticks": ""
             }
            },
            "type": "scatterpolargl"
           }
          ],
          "scatterternary": [
           {
            "marker": {
             "colorbar": {
              "outlinewidth": 0,
              "ticks": ""
             }
            },
            "type": "scatterternary"
           }
          ],
          "surface": [
           {
            "colorbar": {
             "outlinewidth": 0,
             "ticks": ""
            },
            "colorscale": [
             [
              0,
              "#0d0887"
             ],
             [
              0.1111111111111111,
              "#46039f"
             ],
             [
              0.2222222222222222,
              "#7201a8"
             ],
             [
              0.3333333333333333,
              "#9c179e"
             ],
             [
              0.4444444444444444,
              "#bd3786"
             ],
             [
              0.5555555555555556,
              "#d8576b"
             ],
             [
              0.6666666666666666,
              "#ed7953"
             ],
             [
              0.7777777777777778,
              "#fb9f3a"
             ],
             [
              0.8888888888888888,
              "#fdca26"
             ],
             [
              1,
              "#f0f921"
             ]
            ],
            "type": "surface"
           }
          ],
          "table": [
           {
            "cells": {
             "fill": {
              "color": "#EBF0F8"
             },
             "line": {
              "color": "white"
             }
            },
            "header": {
             "fill": {
              "color": "#C8D4E3"
             },
             "line": {
              "color": "white"
             }
            },
            "type": "table"
           }
          ]
         },
         "layout": {
          "annotationdefaults": {
           "arrowcolor": "#2a3f5f",
           "arrowhead": 0,
           "arrowwidth": 1
          },
          "autotypenumbers": "strict",
          "coloraxis": {
           "colorbar": {
            "outlinewidth": 0,
            "ticks": ""
           }
          },
          "colorscale": {
           "diverging": [
            [
             0,
             "#8e0152"
            ],
            [
             0.1,
             "#c51b7d"
            ],
            [
             0.2,
             "#de77ae"
            ],
            [
             0.3,
             "#f1b6da"
            ],
            [
             0.4,
             "#fde0ef"
            ],
            [
             0.5,
             "#f7f7f7"
            ],
            [
             0.6,
             "#e6f5d0"
            ],
            [
             0.7,
             "#b8e186"
            ],
            [
             0.8,
             "#7fbc41"
            ],
            [
             0.9,
             "#4d9221"
            ],
            [
             1,
             "#276419"
            ]
           ],
           "sequential": [
            [
             0,
             "#0d0887"
            ],
            [
             0.1111111111111111,
             "#46039f"
            ],
            [
             0.2222222222222222,
             "#7201a8"
            ],
            [
             0.3333333333333333,
             "#9c179e"
            ],
            [
             0.4444444444444444,
             "#bd3786"
            ],
            [
             0.5555555555555556,
             "#d8576b"
            ],
            [
             0.6666666666666666,
             "#ed7953"
            ],
            [
             0.7777777777777778,
             "#fb9f3a"
            ],
            [
             0.8888888888888888,
             "#fdca26"
            ],
            [
             1,
             "#f0f921"
            ]
           ],
           "sequentialminus": [
            [
             0,
             "#0d0887"
            ],
            [
             0.1111111111111111,
             "#46039f"
            ],
            [
             0.2222222222222222,
             "#7201a8"
            ],
            [
             0.3333333333333333,
             "#9c179e"
            ],
            [
             0.4444444444444444,
             "#bd3786"
            ],
            [
             0.5555555555555556,
             "#d8576b"
            ],
            [
             0.6666666666666666,
             "#ed7953"
            ],
            [
             0.7777777777777778,
             "#fb9f3a"
            ],
            [
             0.8888888888888888,
             "#fdca26"
            ],
            [
             1,
             "#f0f921"
            ]
           ]
          },
          "colorway": [
           "#636efa",
           "#EF553B",
           "#00cc96",
           "#ab63fa",
           "#FFA15A",
           "#19d3f3",
           "#FF6692",
           "#B6E880",
           "#FF97FF",
           "#FECB52"
          ],
          "font": {
           "color": "#2a3f5f"
          },
          "geo": {
           "bgcolor": "white",
           "lakecolor": "white",
           "landcolor": "#E5ECF6",
           "showlakes": true,
           "showland": true,
           "subunitcolor": "white"
          },
          "hoverlabel": {
           "align": "left"
          },
          "hovermode": "closest",
          "mapbox": {
           "style": "light"
          },
          "paper_bgcolor": "white",
          "plot_bgcolor": "#E5ECF6",
          "polar": {
           "angularaxis": {
            "gridcolor": "white",
            "linecolor": "white",
            "ticks": ""
           },
           "bgcolor": "#E5ECF6",
           "radialaxis": {
            "gridcolor": "white",
            "linecolor": "white",
            "ticks": ""
           }
          },
          "scene": {
           "xaxis": {
            "backgroundcolor": "#E5ECF6",
            "gridcolor": "white",
            "gridwidth": 2,
            "linecolor": "white",
            "showbackground": true,
            "ticks": "",
            "zerolinecolor": "white"
           },
           "yaxis": {
            "backgroundcolor": "#E5ECF6",
            "gridcolor": "white",
            "gridwidth": 2,
            "linecolor": "white",
            "showbackground": true,
            "ticks": "",
            "zerolinecolor": "white"
           },
           "zaxis": {
            "backgroundcolor": "#E5ECF6",
            "gridcolor": "white",
            "gridwidth": 2,
            "linecolor": "white",
            "showbackground": true,
            "ticks": "",
            "zerolinecolor": "white"
           }
          },
          "shapedefaults": {
           "line": {
            "color": "#2a3f5f"
           }
          },
          "ternary": {
           "aaxis": {
            "gridcolor": "white",
            "linecolor": "white",
            "ticks": ""
           },
           "baxis": {
            "gridcolor": "white",
            "linecolor": "white",
            "ticks": ""
           },
           "bgcolor": "#E5ECF6",
           "caxis": {
            "gridcolor": "white",
            "linecolor": "white",
            "ticks": ""
           }
          },
          "title": {
           "x": 0.05
          },
          "xaxis": {
           "automargin": true,
           "gridcolor": "white",
           "linecolor": "white",
           "ticks": "",
           "title": {
            "standoff": 15
           },
           "zerolinecolor": "white",
           "zerolinewidth": 2
          },
          "yaxis": {
           "automargin": true,
           "gridcolor": "white",
           "linecolor": "white",
           "ticks": "",
           "title": {
            "standoff": 15
           },
           "zerolinecolor": "white",
           "zerolinewidth": 2
          }
         }
        },
        "title": {},
        "width": 600,
        "xaxis": {
         "anchor": "y",
         "domain": [
          0,
          1
         ],
         "range": [
          -2.714,
          2.68
         ],
         "title": {
          "text": "Alasht<br>SPI24 (Station)"
         }
        },
        "yaxis": {
         "anchor": "x",
         "domain": [
          0,
          1
         ],
         "range": [
          -2.714,
          2.68
         ],
         "scaleanchor": "x",
         "scaleratio": 1,
         "title": {
          "text": "SPI24 (GPM)"
         }
        }
       }
      }
     },
     "metadata": {},
     "output_type": "display_data"
    },
    {
     "data": {
      "application/vnd.plotly.v1+json": {
       "config": {
        "plotlyServerURL": "https://plot.ly"
       },
       "data": [
        {
         "hovertemplate": "Ramsar<br>SPI24 (Station)=%{x}<br>SPI24 (GPM)=%{y}<extra></extra>",
         "legendgroup": "",
         "marker": {
          "color": "black",
          "opacity": 0.7,
          "size": 8,
          "symbol": "circle"
         },
         "mode": "markers",
         "name": "",
         "orientation": "v",
         "showlegend": false,
         "type": "scatter",
         "x": {
          "bdata": "BFYOLbKdz7956SYxCKzgv5zEILByaPW/+n5qvHSTuL8QWDm0yHbWv6wcWmQ739e/MzMzMzMz27+YbhKDwMrhv83MzMzMzNy/dZMYBFYO4b9oke18PzXivycxCKwcWuS/O99PjZdu0r8fhetRuB7Vv7ByaJHtfL+//Knx0k1ioL+cxCCwcmjlvyuHFtnO9+u/c2iR7Xw/7b8QWDm0yHbmv0Jg5dAi29m/0SLb+X5q4L/n+6nx0k3qv5zEILByaO2/TDeJQWDl6L+yne+nxkvnv8uhRbbz/eS/x0s3iUFg8b+gGi/dJAYBwNejcD0K1wDARrbz/dR4AcC6SQwCK4cBwNV46SYxCALAH4XrUbgeAsDD9Shcj8IBwNejcD0K1wDAqvHSTWIQAcCuR+F6FK4CwGZmZmZmZgPAmpmZmZmZmb8OLbKd76fmv4cW2c73U+e/8KfGSzeJ5b8EVg4tsp3jv5huEoPAyum/jZduEoPA6r/Jdr6fGi/hv30/NV66Scy/N4lBYOXQwr/8qfHSTWKAv1pkO99Pjd+/sp3vp8ZLtz8rhxbZzvejv0oMAiuHFrm/z/dT46Wb1L99PzVeuknMv6wcWmQ738+/9P3UeOkm0b9GtvP91HjZv8HKoUW2882/SgwCK4cW2b+4HoXrUbjmv/7UeOkmMfC/QmDl0CJbGsDTTWIQWDn0vwAAAAAAAPS/vHSTGARW6r9YObTIdr7nv2IQWDm0yOK/QmDl0CLb5b/wp8ZLN4ntv0w3iUFg5fK/fT81XrpJ9r+iRbbz/dT0vxfZzvdT4+k/K4cW2c737z/P91PjpZvoP2Dl0CLb+fA/7FG4HoXr9T8K16NwPQr1P39qvHSTGPQ/RIts5/up8z8bL90kBoHzP5zEILByaPM/YOXQItv58j8bL90kBoHxPycxCKwcWvo/kxgEVg4t+D8xCKwcWmT/P5zEILByaABA9ihcj8L1/j+R7Xw/NV7+PzeJQWDl0P4/sp3vp8ZL/z/4U+Olm8T+PxkEVg4tsv0/ukkMAiuH/D/jpZvEILD8P3E9CtejcPU/8KfGSzeJ8T9vEoPAyqHzP166SQwCK+8/oBov3SQG6T/LoUW28/3kP1yPwvUoXOc/aJHtfD815j+amZmZmZnpP7TIdr6fGt8/rBxaZDvf3z8j2/l+arzsP30/NV66Seg/5dAi2/l+4j+R7Xw/NV66P83MzMzMzNQ/001iEFg5tD/LoUW28/20v5qZmZmZmcm/2c73U+Oly7+gGi/dJAbBv1g5tMh2vs+/GQRWDi2ynb956SYxCKyMv/hT46WbxMA/uB6F61G44j+iRbbz/dS4P2Dl0CLb+b4/exSuR+F61D8QWDm0yHbiP42XbhKDwOY/y6FFtvP95D+F61G4HoXjP3sUrkfheuw/O99PjZdu8D8OLbKd76fuPyUGgZVDi+Q/Di2yne+n7j91kxgEVg7zPwwCK4cW2fA/YOXQItv58j/dJAaBlUP1P6jGSzeJQfg/ke18PzVe+D/wp8ZLN4n3Px1aZDvfT/U/i2zn+6nx+D/jpZvEILDyP0jhehSuR+k/tMh2vp8a6z93vp8aL93oP3WTGARWDuU/JQaBlUOL5D93vp8aL93gP4/C9Shcj8I/qMZLN4lB0D/D9Shcj8LVP/p+arx0k5g/arx0kxgEpr/jpZvEILCyvxsv3SQGgZW/001iEFg56D+oxks3iUHQPx1aZDvfT80/AAAAAAAA0D91kxgEVg7VPxsv3SQGgbW/KVyPwvUovL9MN4lBYOWwv9nO91Pjpau/KVyPwvUo4L+LbOf7qfGyP/yp8dJNYlA/i2zn+6nxsr8GgZVDi2zjvylcj8L1KOS/FK5H4XoU5r/ByqFFtvPlv9Ei2/l+auC/ukkMAiuH3r9kO99PjZfev5qZmZmZmcm/UrgehetRuL8nMQisHFrEPw==",
          "dtype": "f8"
         },
         "xaxis": "x",
         "y": {
          "bdata": "JQaBlUOLzL9U46WbxCDAP4cW2c73U9O/N4lBYOXQ0r/ZzvdT46W7v0SLbOf7qbG/WmQ730+Nlz/D9Shcj8Lpv5HtfD81Xsq/KVyPwvUo8L8730+Nl27yv1pkO99Pjfe/y6FFtvP97L9KDAIrhxbRv23n+6nx0uG/FK5H4XoU3r9oke18PzXWv65H4XoUruu/AAAAAAAA0L+28/3UeOnWvy/dJAaBlcM/bxKDwMqh1T9U46WbxCDQP1pkO99Pjac/wcqhRbbzvT99PzVeukngP7bz/dR46ca/ukkMAiuH3r+DwMqhRbbnvz81XrpJDPC/qvHSTWIQ0L/Xo3A9CtfTv1TjpZvEIMC/9ihcj8L15L+LbOf7qfHiv39qvHSTGOS/HVpkO99P3b+iRbbz/dTQP9V46SYxCNQ/WDm0yHa+6z+28/3UeOneP166SQwCK+s/d76fGi/d5D+LbOf7qfHwP0SLbOf7qdE/7FG4HoXr5T+DwMqhRbbvPwRWDi2ynfM/8tJNYhBY8z/6fmq8dJP4Pz0K16NwPfY/SOF6FK5H9z/8qfHSTWL2P+58PzVeuv8/L90kBoGV8T8AAAAAAAD6PzvfT42XbuI//Knx0k1i+j8tsp3vp8b3P23n+6nx0vc/VOOlm8Qg8j/TTWIQWDnyP99PjZduEuc/QmDl0CLbuT+LbOf7qfHSP9nO91Pjpcs/zczMzMzMzD/6fmq8dJNoPyPb+X5qvLQ/w/UoXI/Ctb/8qfHSTWLQv5huEoPAyuG/EoPAyqFF6r+DwMqhRbYcwArXo3A9Cse/ukkMAiuHtj8j2/l+arzEv8HKoUW2882/LbKd76fGyz956SYxCKzMP+xRuB6F68E/+n5qvHSTaD/6fmq8dJOIP/T91HjpJtE/qvHSTWIQyD/fT42XbhLjP1g5tMh2vuc/x0s3iUFg5T9g5dAi2/nWP2iR7Xw/NeY/d76fGi/d5D+6SQwCK4fyP65H4XoUrt8/9P3UeOkm9T8nMQisHFr0P2Dl0CLb+fY/9P3UeOkm+T9vEoPAyqH7P6wcWmQ73/0/9ihcj8L19j/LoUW28/3wP3Noke18P/c/Rrbz/dR47T+Nl24Sg8D0P166SQwCK+M/rkfhehSu+T/ZzvdT46X5P05iEFg5tPY/TmIQWDm09j9aZDvfT435P/7UeOkmMfQ/xSCwcmiR4T+wcmiR7XzPP23n+6nx0t0/aJHtfD811j/8qfHSTWKwvzm0yHa+n5o/CtejcD0Kt79aZDvfT42XP6RwPQrXo9i/ke18PzVe2r+JQWDl0CK7v3e+nxov3fK/001iEFg56L++nxov3STivzMzMzMzM+u/tvP91Hjp1r9oke18PzXqv7gehetRuL6/AiuHFtnO57/ByqFFtvPpv4PAyqFFtue/DAIrhxbZ5r8QWDm0yHbWv1TjpZvEIPS/MQisHFpk278730+Nl26Cv76fGi/dJMa/CKwcWmQ7zz9QjZduEoPYP+f7qfHSTdo/lkOLbOf77T/n+6nx0k3qPz0K16NwPeo/SgwCK4cW8z/+1HjpJjHyPxfZzvdT490/I9v5fmq86D9SuB6F61HkP4/C9Shcj+Y/bxKDwMqh4T9I4XoUrkfhP8P1KFyPwrU/IbByaJHtzD/4U+Olm8TQP90kBoGVQ9M/O99PjZdugj+gGi/dJAbZPzeJQWDl0MI/rkfhehSu3z8rhxbZzvezP9NNYhBYObQ/exSuR+F6dL+HFtnO91PDv+kmMQisHMq/7nw/NV667b9aZDvfT43vv4/C9Shcj+6/XI/C9Shc+79cj8L1KFz1v57vp8ZLN/e/1XjpJjEIAMDRItv5fmr0v6jGSzeJQf6/uB6F61G46r8bL90kBoH/v2q8dJMYBN6/9ihcj8L1/L/b+X5qvHT/v7bz/dR46fy/4XoUrkfh9r9vEoPAyqHtvw==",
          "dtype": "f8"
         },
         "yaxis": "y"
        },
        {
         "line": {
          "color": "red",
          "dash": "dash"
         },
         "mode": "lines",
         "showlegend": false,
         "type": "scatter",
         "x": [
          -7.678,
          2.551
         ],
         "y": [
          -7.678,
          2.551
         ]
        }
       ],
       "layout": {
        "height": 600,
        "legend": {
         "tracegroupgap": 0
        },
        "margin": {
         "b": 20,
         "l": 20,
         "r": 20,
         "t": 20
        },
        "template": {
         "data": {
          "bar": [
           {
            "error_x": {
             "color": "#2a3f5f"
            },
            "error_y": {
             "color": "#2a3f5f"
            },
            "marker": {
             "line": {
              "color": "#E5ECF6",
              "width": 0.5
             },
             "pattern": {
              "fillmode": "overlay",
              "size": 10,
              "solidity": 0.2
             }
            },
            "type": "bar"
           }
          ],
          "barpolar": [
           {
            "marker": {
             "line": {
              "color": "#E5ECF6",
              "width": 0.5
             },
             "pattern": {
              "fillmode": "overlay",
              "size": 10,
              "solidity": 0.2
             }
            },
            "type": "barpolar"
           }
          ],
          "carpet": [
           {
            "aaxis": {
             "endlinecolor": "#2a3f5f",
             "gridcolor": "white",
             "linecolor": "white",
             "minorgridcolor": "white",
             "startlinecolor": "#2a3f5f"
            },
            "baxis": {
             "endlinecolor": "#2a3f5f",
             "gridcolor": "white",
             "linecolor": "white",
             "minorgridcolor": "white",
             "startlinecolor": "#2a3f5f"
            },
            "type": "carpet"
           }
          ],
          "choropleth": [
           {
            "colorbar": {
             "outlinewidth": 0,
             "ticks": ""
            },
            "type": "choropleth"
           }
          ],
          "contour": [
           {
            "colorbar": {
             "outlinewidth": 0,
             "ticks": ""
            },
            "colorscale": [
             [
              0,
              "#0d0887"
             ],
             [
              0.1111111111111111,
              "#46039f"
             ],
             [
              0.2222222222222222,
              "#7201a8"
             ],
             [
              0.3333333333333333,
              "#9c179e"
             ],
             [
              0.4444444444444444,
              "#bd3786"
             ],
             [
              0.5555555555555556,
              "#d8576b"
             ],
             [
              0.6666666666666666,
              "#ed7953"
             ],
             [
              0.7777777777777778,
              "#fb9f3a"
             ],
             [
              0.8888888888888888,
              "#fdca26"
             ],
             [
              1,
              "#f0f921"
             ]
            ],
            "type": "contour"
           }
          ],
          "contourcarpet": [
           {
            "colorbar": {
             "outlinewidth": 0,
             "ticks": ""
            },
            "type": "contourcarpet"
           }
          ],
          "heatmap": [
           {
            "colorbar": {
             "outlinewidth": 0,
             "ticks": ""
            },
            "colorscale": [
             [
              0,
              "#0d0887"
             ],
             [
              0.1111111111111111,
              "#46039f"
             ],
             [
              0.2222222222222222,
              "#7201a8"
             ],
             [
              0.3333333333333333,
              "#9c179e"
             ],
             [
              0.4444444444444444,
              "#bd3786"
             ],
             [
              0.5555555555555556,
              "#d8576b"
             ],
             [
              0.6666666666666666,
              "#ed7953"
             ],
             [
              0.7777777777777778,
              "#fb9f3a"
             ],
             [
              0.8888888888888888,
              "#fdca26"
             ],
             [
              1,
              "#f0f921"
             ]
            ],
            "type": "heatmap"
           }
          ],
          "histogram": [
           {
            "marker": {
             "pattern": {
              "fillmode": "overlay",
              "size": 10,
              "solidity": 0.2
             }
            },
            "type": "histogram"
           }
          ],
          "histogram2d": [
           {
            "colorbar": {
             "outlinewidth": 0,
             "ticks": ""
            },
            "colorscale": [
             [
              0,
              "#0d0887"
             ],
             [
              0.1111111111111111,
              "#46039f"
             ],
             [
              0.2222222222222222,
              "#7201a8"
             ],
             [
              0.3333333333333333,
              "#9c179e"
             ],
             [
              0.4444444444444444,
              "#bd3786"
             ],
             [
              0.5555555555555556,
              "#d8576b"
             ],
             [
              0.6666666666666666,
              "#ed7953"
             ],
             [
              0.7777777777777778,
              "#fb9f3a"
             ],
             [
              0.8888888888888888,
              "#fdca26"
             ],
             [
              1,
              "#f0f921"
             ]
            ],
            "type": "histogram2d"
           }
          ],
          "histogram2dcontour": [
           {
            "colorbar": {
             "outlinewidth": 0,
             "ticks": ""
            },
            "colorscale": [
             [
              0,
              "#0d0887"
             ],
             [
              0.1111111111111111,
              "#46039f"
             ],
             [
              0.2222222222222222,
              "#7201a8"
             ],
             [
              0.3333333333333333,
              "#9c179e"
             ],
             [
              0.4444444444444444,
              "#bd3786"
             ],
             [
              0.5555555555555556,
              "#d8576b"
             ],
             [
              0.6666666666666666,
              "#ed7953"
             ],
             [
              0.7777777777777778,
              "#fb9f3a"
             ],
             [
              0.8888888888888888,
              "#fdca26"
             ],
             [
              1,
              "#f0f921"
             ]
            ],
            "type": "histogram2dcontour"
           }
          ],
          "mesh3d": [
           {
            "colorbar": {
             "outlinewidth": 0,
             "ticks": ""
            },
            "type": "mesh3d"
           }
          ],
          "parcoords": [
           {
            "line": {
             "colorbar": {
              "outlinewidth": 0,
              "ticks": ""
             }
            },
            "type": "parcoords"
           }
          ],
          "pie": [
           {
            "automargin": true,
            "type": "pie"
           }
          ],
          "scatter": [
           {
            "fillpattern": {
             "fillmode": "overlay",
             "size": 10,
             "solidity": 0.2
            },
            "type": "scatter"
           }
          ],
          "scatter3d": [
           {
            "line": {
             "colorbar": {
              "outlinewidth": 0,
              "ticks": ""
             }
            },
            "marker": {
             "colorbar": {
              "outlinewidth": 0,
              "ticks": ""
             }
            },
            "type": "scatter3d"
           }
          ],
          "scattercarpet": [
           {
            "marker": {
             "colorbar": {
              "outlinewidth": 0,
              "ticks": ""
             }
            },
            "type": "scattercarpet"
           }
          ],
          "scattergeo": [
           {
            "marker": {
             "colorbar": {
              "outlinewidth": 0,
              "ticks": ""
             }
            },
            "type": "scattergeo"
           }
          ],
          "scattergl": [
           {
            "marker": {
             "colorbar": {
              "outlinewidth": 0,
              "ticks": ""
             }
            },
            "type": "scattergl"
           }
          ],
          "scattermap": [
           {
            "marker": {
             "colorbar": {
              "outlinewidth": 0,
              "ticks": ""
             }
            },
            "type": "scattermap"
           }
          ],
          "scattermapbox": [
           {
            "marker": {
             "colorbar": {
              "outlinewidth": 0,
              "ticks": ""
             }
            },
            "type": "scattermapbox"
           }
          ],
          "scatterpolar": [
           {
            "marker": {
             "colorbar": {
              "outlinewidth": 0,
              "ticks": ""
             }
            },
            "type": "scatterpolar"
           }
          ],
          "scatterpolargl": [
           {
            "marker": {
             "colorbar": {
              "outlinewidth": 0,
              "ticks": ""
             }
            },
            "type": "scatterpolargl"
           }
          ],
          "scatterternary": [
           {
            "marker": {
             "colorbar": {
              "outlinewidth": 0,
              "ticks": ""
             }
            },
            "type": "scatterternary"
           }
          ],
          "surface": [
           {
            "colorbar": {
             "outlinewidth": 0,
             "ticks": ""
            },
            "colorscale": [
             [
              0,
              "#0d0887"
             ],
             [
              0.1111111111111111,
              "#46039f"
             ],
             [
              0.2222222222222222,
              "#7201a8"
             ],
             [
              0.3333333333333333,
              "#9c179e"
             ],
             [
              0.4444444444444444,
              "#bd3786"
             ],
             [
              0.5555555555555556,
              "#d8576b"
             ],
             [
              0.6666666666666666,
              "#ed7953"
             ],
             [
              0.7777777777777778,
              "#fb9f3a"
             ],
             [
              0.8888888888888888,
              "#fdca26"
             ],
             [
              1,
              "#f0f921"
             ]
            ],
            "type": "surface"
           }
          ],
          "table": [
           {
            "cells": {
             "fill": {
              "color": "#EBF0F8"
             },
             "line": {
              "color": "white"
             }
            },
            "header": {
             "fill": {
              "color": "#C8D4E3"
             },
             "line": {
              "color": "white"
             }
            },
            "type": "table"
           }
          ]
         },
         "layout": {
          "annotationdefaults": {
           "arrowcolor": "#2a3f5f",
           "arrowhead": 0,
           "arrowwidth": 1
          },
          "autotypenumbers": "strict",
          "coloraxis": {
           "colorbar": {
            "outlinewidth": 0,
            "ticks": ""
           }
          },
          "colorscale": {
           "diverging": [
            [
             0,
             "#8e0152"
            ],
            [
             0.1,
             "#c51b7d"
            ],
            [
             0.2,
             "#de77ae"
            ],
            [
             0.3,
             "#f1b6da"
            ],
            [
             0.4,
             "#fde0ef"
            ],
            [
             0.5,
             "#f7f7f7"
            ],
            [
             0.6,
             "#e6f5d0"
            ],
            [
             0.7,
             "#b8e186"
            ],
            [
             0.8,
             "#7fbc41"
            ],
            [
             0.9,
             "#4d9221"
            ],
            [
             1,
             "#276419"
            ]
           ],
           "sequential": [
            [
             0,
             "#0d0887"
            ],
            [
             0.1111111111111111,
             "#46039f"
            ],
            [
             0.2222222222222222,
             "#7201a8"
            ],
            [
             0.3333333333333333,
             "#9c179e"
            ],
            [
             0.4444444444444444,
             "#bd3786"
            ],
            [
             0.5555555555555556,
             "#d8576b"
            ],
            [
             0.6666666666666666,
             "#ed7953"
            ],
            [
             0.7777777777777778,
             "#fb9f3a"
            ],
            [
             0.8888888888888888,
             "#fdca26"
            ],
            [
             1,
             "#f0f921"
            ]
           ],
           "sequentialminus": [
            [
             0,
             "#0d0887"
            ],
            [
             0.1111111111111111,
             "#46039f"
            ],
            [
             0.2222222222222222,
             "#7201a8"
            ],
            [
             0.3333333333333333,
             "#9c179e"
            ],
            [
             0.4444444444444444,
             "#bd3786"
            ],
            [
             0.5555555555555556,
             "#d8576b"
            ],
            [
             0.6666666666666666,
             "#ed7953"
            ],
            [
             0.7777777777777778,
             "#fb9f3a"
            ],
            [
             0.8888888888888888,
             "#fdca26"
            ],
            [
             1,
             "#f0f921"
            ]
           ]
          },
          "colorway": [
           "#636efa",
           "#EF553B",
           "#00cc96",
           "#ab63fa",
           "#FFA15A",
           "#19d3f3",
           "#FF6692",
           "#B6E880",
           "#FF97FF",
           "#FECB52"
          ],
          "font": {
           "color": "#2a3f5f"
          },
          "geo": {
           "bgcolor": "white",
           "lakecolor": "white",
           "landcolor": "#E5ECF6",
           "showlakes": true,
           "showland": true,
           "subunitcolor": "white"
          },
          "hoverlabel": {
           "align": "left"
          },
          "hovermode": "closest",
          "mapbox": {
           "style": "light"
          },
          "paper_bgcolor": "white",
          "plot_bgcolor": "#E5ECF6",
          "polar": {
           "angularaxis": {
            "gridcolor": "white",
            "linecolor": "white",
            "ticks": ""
           },
           "bgcolor": "#E5ECF6",
           "radialaxis": {
            "gridcolor": "white",
            "linecolor": "white",
            "ticks": ""
           }
          },
          "scene": {
           "xaxis": {
            "backgroundcolor": "#E5ECF6",
            "gridcolor": "white",
            "gridwidth": 2,
            "linecolor": "white",
            "showbackground": true,
            "ticks": "",
            "zerolinecolor": "white"
           },
           "yaxis": {
            "backgroundcolor": "#E5ECF6",
            "gridcolor": "white",
            "gridwidth": 2,
            "linecolor": "white",
            "showbackground": true,
            "ticks": "",
            "zerolinecolor": "white"
           },
           "zaxis": {
            "backgroundcolor": "#E5ECF6",
            "gridcolor": "white",
            "gridwidth": 2,
            "linecolor": "white",
            "showbackground": true,
            "ticks": "",
            "zerolinecolor": "white"
           }
          },
          "shapedefaults": {
           "line": {
            "color": "#2a3f5f"
           }
          },
          "ternary": {
           "aaxis": {
            "gridcolor": "white",
            "linecolor": "white",
            "ticks": ""
           },
           "baxis": {
            "gridcolor": "white",
            "linecolor": "white",
            "ticks": ""
           },
           "bgcolor": "#E5ECF6",
           "caxis": {
            "gridcolor": "white",
            "linecolor": "white",
            "ticks": ""
           }
          },
          "title": {
           "x": 0.05
          },
          "xaxis": {
           "automargin": true,
           "gridcolor": "white",
           "linecolor": "white",
           "ticks": "",
           "title": {
            "standoff": 15
           },
           "zerolinecolor": "white",
           "zerolinewidth": 2
          },
          "yaxis": {
           "automargin": true,
           "gridcolor": "white",
           "linecolor": "white",
           "ticks": "",
           "title": {
            "standoff": 15
           },
           "zerolinecolor": "white",
           "zerolinewidth": 2
          }
         }
        },
        "title": {},
        "width": 600,
        "xaxis": {
         "anchor": "y",
         "domain": [
          0,
          1
         ],
         "range": [
          -7.678,
          2.551
         ],
         "title": {
          "text": "Ramsar<br>SPI24 (Station)"
         }
        },
        "yaxis": {
         "anchor": "x",
         "domain": [
          0,
          1
         ],
         "range": [
          -7.678,
          2.551
         ],
         "scaleanchor": "x",
         "scaleratio": 1,
         "title": {
          "text": "SPI24 (GPM)"
         }
        }
       }
      }
     },
     "metadata": {},
     "output_type": "display_data"
    }
   ],
   "source": [
    "import plotly.express as px\n",
    "import plotly.graph_objects as go\n",
    "import numpy as np\n",
    "\n",
    "\n",
    "x=f'{di}_{scale}'\n",
    "y=f'GPM_{di}_{scale}'\n",
    "\n",
    "for st in selected_stations:\n",
    "    station_data = data.query(\"Station_Name == @st\")[['Date', x, y]].dropna()\n",
    "\n",
    "    fig = px.scatter(\n",
    "        station_data,\n",
    "        x=x,\n",
    "        y=y,\n",
    "        labels={\n",
    "            x: f\"{st}<br>{di}{scale} (Station)\",\n",
    "            y: f'{di}{scale} (GPM)'\n",
    "        },\n",
    "        opacity=0.7,\n",
    "        color_discrete_sequence=[\"black\"],  # make points black\n",
    "    )\n",
    "\n",
    "    # Make scatter markers bigger\n",
    "    fig.update_traces(marker=dict(size=8, color=\"black\"))\n",
    "\n",
    "    # Equal axis limits\n",
    "    max_limit = max(station_data[x].max(),\n",
    "                    station_data[y].max()) + 0.5\n",
    "    min_limit = min(station_data[x].min(),\n",
    "                    station_data[y].min()) - 0.5\n",
    "    \n",
    "    # Equal ticks\n",
    "    tick_vals = np.arange(min_limit, max_limit, 1)\n",
    "\n",
    "    fig.update_layout(\n",
    "        xaxis=dict(range=[min_limit, max_limit]),\n",
    "        yaxis=dict(range=[min_limit, max_limit]),\n",
    "        width=600,\n",
    "        height=600,\n",
    "        title=None,\n",
    "        margin=dict(l=20, r=20, t=20, b=20),\n",
    "    )\n",
    "    fig.update_yaxes(scaleanchor=\"x\", scaleratio=1)\n",
    "\n",
    "    # Add 1:1 line (hidden from legend)\n",
    "    fig.add_trace(go.Scatter(\n",
    "        x=[min_limit, max_limit],\n",
    "        y=[min_limit, max_limit],\n",
    "        mode=\"lines\",\n",
    "        line=dict(color=\"red\", dash=\"dash\"),\n",
    "        showlegend=False\n",
    "    ))\n",
    "\n",
    "    fig.show()\n"
   ]
  },
  {
   "cell_type": "code",
   "execution_count": 93,
   "metadata": {},
   "outputs": [
    {
     "data": {
      "image/png": "[encoded data removed]",
      "text/plain": [
       "<Figure size 800x1200 with 7 Axes>"
      ]
     },
     "metadata": {},
     "output_type": "display_data"
    }
   ],
   "source": [
    "df_plot = df.query('Station_Name == \"Bandar-e-anzali\"')\n",
    "df_plot.set_index('Date', inplace=True)\n",
    "\n",
    "f, ax = plt.subplots(7, 1, figsize=(8, 12), sharex=True)\n",
    "spei.plot.si(df_plot['NDVI'], ax=ax[0], cmap=\"vik_r\")\n",
    "spei.plot.si(df_plot['EVI'], ax=ax[1], cmap=\"roma\")\n",
    "spei.plot.si(df_plot['PCI_GPM'], ax=ax[2], cmap=\"seismic_r\")\n",
    "spei.plot.si(df_plot['VCI'], ax=ax[3], cmap=\"roma\")\n",
    "spei.plot.si(df_plot['TCI'], ax=ax[4], cmap=\"vik_r\")\n",
    "spei.plot.si(df_plot['VHI'], ax=ax[5], cmap=\"seismic_r\")\n",
    "spei.plot.si(df_plot['CI_GPM'], ax=ax[6], cmap=\"roma\")\n",
    "ax[0].set_xlim(pd.to_datetime([\"2014\", \"2024\"]))\n",
    "ax[0].set_ylim(-0.2, 1)\n",
    "ax[1].set_ylim(-0.2, 1)\n",
    "ax[2].set_ylim(0, 1)\n",
    "ax[3].set_ylim(0, 1)\n",
    "ax[4].set_ylim(0, 1)\n",
    "ax[5].set_ylim(0, 1)\n",
    "ax[6].set_ylim(0, 1)\n",
    "[x.grid() for x in ax]\n",
    "[ax[i].set_ylabel(n, fontsize=14) for i, n in enumerate(['NDVI', 'EVI', 'PCI', 'VCI', 'TCI', 'VHI', 'CI'])];"
   ]
  }
 ],
 "metadata": {
  "kernelspec": {
   "display_name": "droughtmonitoringiran (3.12.3)",
   "language": "python",
   "name": "python3"
  },
  "language_info": {
   "codemirror_mode": {
    "name": "ipython",
    "version": 3
   },
   "file_extension": ".py",
   "mimetype": "text/x-python",
   "name": "python",
   "nbconvert_exporter": "python",
   "pygments_lexer": "ipython3",
   "version": "3.12.3"
  }
 },
 "nbformat": 4,
 "nbformat_minor": 2
}
