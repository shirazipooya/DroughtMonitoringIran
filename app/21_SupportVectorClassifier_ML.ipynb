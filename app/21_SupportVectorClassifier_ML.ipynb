{
 "cells": [
  {
   "cell_type": "markdown",
   "id": "466fb799",
   "metadata": {
    "notebookRunGroups": {
     "groupValue": "1"
    }
   },
   "source": [
    "# Import Libraries"
   ]
  },
  {
   "cell_type": "code",
   "execution_count": 1,
   "id": "c141a822",
   "metadata": {
    "notebookRunGroups": {
     "groupValue": "1"
    }
   },
   "outputs": [
    {
     "name": "stderr",
     "output_type": "stream",
     "text": [
      "/home/pooya/w/DroughtMonitoringIran/.venv/lib/python3.12/site-packages/tqdm/auto.py:21: TqdmWarning: IProgress not found. Please update jupyter and ipywidgets. See https://ipywidgets.readthedocs.io/en/stable/user_install.html\n",
      "  from .autonotebook import tqdm as notebook_tqdm\n"
     ]
    }
   ],
   "source": [
    "import sys\n",
    "import sqlite3\n",
    "import warnings\n",
    "\n",
    "import pandas as pd\n",
    "import numpy as np\n",
    "\n",
    "import optuna\n",
    "import matplotlib.pyplot as plt\n",
    "import seaborn as sns\n",
    "import shap\n",
    "from sklearn.svm import SVC\n",
    "from sklearn.ensemble import RandomForestClassifier\n",
    "\n",
    "from sklearn.model_selection import train_test_split, StratifiedKFold\n",
    "from sklearn.preprocessing import StandardScaler, LabelEncoder\n",
    "from sklearn.metrics import accuracy_score, f1_score, cohen_kappa_score, classification_report, confusion_matrix\n",
    "from sklearn.feature_selection import RFECV\n",
    "\n",
    "\n",
    "warnings.filterwarnings('ignore')\n",
    "np.random.seed(42)"
   ]
  },
  {
   "cell_type": "markdown",
   "id": "27845aff",
   "metadata": {},
   "source": [
    "# Load Database"
   ]
  },
  {
   "cell_type": "code",
   "execution_count": 2,
   "id": "1361a6af",
   "metadata": {
    "notebookRunGroups": {
     "groupValue": "1"
    }
   },
   "outputs": [],
   "source": [
    "sys.path.append('/home/pooya/w/DroughtMonitoringIran/')\n",
    "\n",
    "DATABASE_PATH = \"./database/database.db\"\n",
    "\n",
    "conn = sqlite3.connect(DATABASE_PATH)\n",
    "\n",
    "data = pd.read_sql(sql='SELECT * FROM data', con=conn)\n",
    "\n",
    "conn.close()"
   ]
  },
  {
   "cell_type": "markdown",
   "id": "94899866",
   "metadata": {},
   "source": [
    "# Select Columns and Rows"
   ]
  },
  {
   "cell_type": "code",
   "execution_count": 3,
   "id": "c0de84b7",
   "metadata": {},
   "outputs": [],
   "source": [
    "# Select Drought Index and Period\n",
    "di = 'SPEI'\n",
    "di_scale = 6\n",
    "\n",
    "# Select Stations\n",
    "# selected_stations = ['Ramsar', 'Nowshahr', 'Siahbisheh', 'Kiyasar', 'Kojur', 'Baladeh', 'Alasht', 'Babolsar', 'Gharakhil', 'Sari', 'Sari (dasht-e-naz airport)', 'Galugah', 'Bandar-e-amirabad', 'Amol', 'Polsefid']\n",
    "selected_stations = ['Ramsar', 'Nowshahr']\n",
    "# selected_stations = ['Siahbisheh', 'Kiyasar', 'Kojur', 'Baladeh', 'Alasht']\n",
    "# selected_stations = ['Babolsar', 'Gharakhil', 'Sari', 'Sari (dasht-e-naz airport)', 'Galugah', 'Bandar-e-amirabad', 'Amol', 'Polsefid']\n",
    "\n",
    "# Select Columns\n",
    "selected_columns = [\n",
    "    'Station_Name', 'Station_ID',\n",
    "    'Station_Latitude', 'Station_Longitude', 'Station_Elevation',\n",
    "    'Date',\n",
    "    f'{di}_{di_scale}',\n",
    "    f'GPM_{di}_{di_scale}',\n",
    "    f'ERA5_{di}_{di_scale}',\n",
    "    'ERA5_Precipitation',\n",
    "    'GPM_Precipitation',\n",
    "    'TRMM_Precipitation',\n",
    "    'TERRACLIMATE_Precipitation',\n",
    "    'PERSIANNCDR_Precipitation',\n",
    "    'PET_MOD16A2GF',\n",
    "    'NDVI', 'EVI',\n",
    "    'LSTDay', 'LSTNight', 'LST',\n",
    "    'PCI_GPM', 'PCI_ERA5',\n",
    "    'VCI', 'TCI', 'VHI',\n",
    "    'CI_GPM', 'CI_ERA5',\n",
    "]\n",
    "\n",
    "# Select Start and End Date\n",
    "start_date = '2006-09'\n",
    "end_date = '2023-10'"
   ]
  },
  {
   "cell_type": "markdown",
   "id": "c773c79b",
   "metadata": {},
   "source": [
    "# Filter Data"
   ]
  },
  {
   "cell_type": "code",
   "execution_count": 4,
   "id": "ecf78173",
   "metadata": {},
   "outputs": [],
   "source": [
    "df = data\\\n",
    "    .filter(items=selected_columns)\\\n",
    "        .query(\"Station_Name in @selected_stations and Date >= @start_date and Date < @end_date\")"
   ]
  },
  {
   "cell_type": "markdown",
   "id": "ba7b1f34",
   "metadata": {},
   "source": [
    "# Add Some Columns"
   ]
  },
  {
   "cell_type": "code",
   "execution_count": 5,
   "id": "3303aafd",
   "metadata": {},
   "outputs": [],
   "source": [
    "# Date, Year, Month\n",
    "df['Date'] = pd.to_datetime(df['Date'], format='%Y-%m')\n",
    "df['Year'] = df['Date'].dt.year\n",
    "df['Month'] = df['Date'].dt.month\n",
    "\n",
    "# SPI and SPEI Class\n",
    "df[f'{di}_{di_scale}_Class'] = pd.cut(df[f'{di}_{di_scale}'], bins=[-10, -2, -1.5, -1, 1, 1.5, 2, 10], labels=['ED', 'SD', 'MD', 'NN', 'MW', 'VW', 'EW'])\n",
    "\n",
    "# Month Sin & Cos\n",
    "df['Month_sin'] = np.sin(2 * np.pi * df['Month'] / 12)\n",
    "df['Month_cos'] = np.cos(2 * np.pi * df['Month'] / 12)\n",
    "        \n",
    "# LST Diff\n",
    "df['LST_Diff'] = df['LSTDay'] - df['LSTNight']\n",
    "\n",
    "# Convert to Category\n",
    "df['Station_ID'] = df['Station_ID'].astype('category')\n",
    "df['Year'] = df['Year'].astype('category')\n",
    "df['Month'] = df['Month'].astype('category')\n",
    "df[f'{di}_{di_scale}_Class'] = df[f'{di}_{di_scale}_Class'].astype('category')"
   ]
  },
  {
   "cell_type": "code",
   "execution_count": 6,
   "id": "d4284e6f",
   "metadata": {},
   "outputs": [],
   "source": [
    "df.dropna(inplace=True)\n",
    "df.sort_values(by=['Station_ID', 'Year', 'Month'], inplace=True)\n",
    "df.reset_index(drop=True, inplace=True)"
   ]
  },
  {
   "cell_type": "code",
   "execution_count": 7,
   "id": "1e02915e",
   "metadata": {},
   "outputs": [],
   "source": [
    "selected_columns_lag_roll = [\n",
    "    'ERA5_Precipitation',\n",
    "    'GPM_Precipitation',\n",
    "    'TRMM_Precipitation',\n",
    "    'TERRACLIMATE_Precipitation',\n",
    "    'PERSIANNCDR_Precipitation',\n",
    "    f'GPM_{di}_{di_scale}',\n",
    "    f'ERA5_{di}_{di_scale}',\n",
    "    'PET_MOD16A2GF',\n",
    "    'NDVI', 'EVI',\n",
    "    'LSTDay', 'LSTNight', 'LST',\n",
    "    'PCI_GPM', 'PCI_ERA5',\n",
    "    'VCI', 'TCI', 'VHI',\n",
    "    'CI_GPM', 'CI_ERA5',\n",
    "]\n",
    "\n",
    "# Add Lag\n",
    "for lag in range(1, 4):\n",
    "    for col in selected_columns_lag_roll:\n",
    "        df[f'{col}_lag_{lag}'] = df.groupby('Station_ID', observed=False)[col].shift(lag)\n",
    "\n",
    "\n",
    "# Add Mean and Std Roll\n",
    "for r in [3]:\n",
    "    for col in selected_columns_lag_roll:\n",
    "        df[f'{col}_roll_mean_{r}'] = df.groupby('Station_ID', observed=False)[col].transform(lambda x: x.rolling(window=r, min_periods=1).mean())\n",
    "        df[f'{col}_roll_std_{r}'] = df.groupby('Station_ID', observed=False)[col].transform(lambda x: x.rolling(window=r, min_periods=1).std())"
   ]
  },
  {
   "cell_type": "markdown",
   "id": "6a11e19b",
   "metadata": {},
   "source": [
    "# Remove all NA"
   ]
  },
  {
   "cell_type": "code",
   "execution_count": 8,
   "id": "689557a4",
   "metadata": {},
   "outputs": [],
   "source": [
    "df.dropna(inplace=True)\n",
    "df.reset_index(drop=True, inplace=True)"
   ]
  },
  {
   "cell_type": "markdown",
   "id": "059b02cb",
   "metadata": {},
   "source": [
    "# Station-wise Standardization"
   ]
  },
  {
   "cell_type": "code",
   "execution_count": 9,
   "id": "00653016",
   "metadata": {},
   "outputs": [
    {
     "name": "stdout",
     "output_type": "stream",
     "text": [
      "Removing classes with fewer than 2 samples: ['EW']\n",
      "Data shape after removing rare classes: (303, 126)\n",
      "\n",
      "--- Final Class Distribution ---\n",
      "SPEI_6_Class\n",
      "NN    199\n",
      "MD     37\n",
      "MW     31\n",
      "SD     20\n",
      "VW     13\n",
      "ED      3\n",
      "EW      0\n",
      "Name: count, dtype: int64\n",
      "Target Classes: ['ED' 'MD' 'MW' 'NN' 'SD' 'VW']\n",
      "Training set shape: (212, 126)\n",
      "Testing set shape: (91, 126)\n"
     ]
    }
   ],
   "source": [
    "# Define columns to exclude from features\n",
    "EXCLUDE_COLS = ['Station_Name', 'Station_ID', 'Date', f'{di}_{di_scale}_Class', f'{di}_{di_scale}', 'Year', 'Month']\n",
    "FEATURES = [col for col in df.columns if col not in EXCLUDE_COLS]\n",
    "\n",
    "# Station-wise standardization\n",
    "df_scaled = df.copy()\n",
    "for station in df_scaled['Station_Name'].unique():\n",
    "    station_mask = df_scaled['Station_Name'] == station\n",
    "    scaler = StandardScaler()\n",
    "    df_scaled.loc[station_mask, FEATURES] = scaler.fit_transform(df_scaled.loc[station_mask, FEATURES])\n",
    "\n",
    "\n",
    "class_counts = df_scaled[f'{di}_{di_scale}_Class'].value_counts()\n",
    "classes_to_remove = class_counts[class_counts < 2].index\n",
    "\n",
    "if not classes_to_remove.empty:\n",
    "    print(f\"Removing classes with fewer than 2 samples: {classes_to_remove.tolist()}\")\n",
    "    \n",
    "    # Filter the dataframe to exclude these rare classes\n",
    "    df_filtered = df_scaled[~df_scaled[f'{di}_{di_scale}_Class'].isin(classes_to_remove)].copy()\n",
    "    \n",
    "    # Redefine X and y from the filtered dataframe\n",
    "    X = df_filtered[FEATURES]\n",
    "    y = df_filtered[f'{di}_{di_scale}_Class']\n",
    "    \n",
    "    print(f\"Data shape after removing rare classes: {X.shape}\")\n",
    "    print(\"\\n--- Final Class Distribution ---\")\n",
    "    print(y.value_counts())\n",
    "else:\n",
    "    print(\"No classes with fewer than 2 samples found.\")\n",
    "    X = df_scaled[FEATURES]\n",
    "    y = df_scaled[f'{di}_{di_scale}_Class']\n",
    "\n",
    "# Encode the target variable\n",
    "le = LabelEncoder()\n",
    "y_encoded = le.fit_transform(y)\n",
    "\n",
    "# Split data into training and testing sets\n",
    "X_train, X_test, y_train, y_test = train_test_split(\n",
    "    X,\n",
    "    y_encoded,\n",
    "    test_size=0.30,\n",
    "    random_state=42,\n",
    "    stratify=y_encoded\n",
    ")\n",
    "\n",
    "print(f\"Target Classes: {le.classes_}\")\n",
    "print(f\"Training set shape: {X_train.shape}\")\n",
    "print(f\"Testing set shape: {X_test.shape}\")"
   ]
  },
  {
   "cell_type": "markdown",
   "id": "b2c0534b",
   "metadata": {},
   "source": [
    "# Feature Selection with RFECV"
   ]
  },
  {
   "cell_type": "code",
   "execution_count": 10,
   "id": "395cf562",
   "metadata": {},
   "outputs": [
    {
     "name": "stdout",
     "output_type": "stream",
     "text": [
      "Optimal number of features found: 16\n",
      "Selected features: ['GPM_SPEI_6', 'ERA5_SPEI_6', 'GPM_Precipitation', 'TRMM_Precipitation', 'LSTDay_lag_3', 'VHI_lag_3', 'TRMM_Precipitation_roll_mean_3', 'GPM_SPEI_6_roll_mean_3', 'GPM_SPEI_6_roll_std_3', 'EVI_roll_std_3', 'LSTDay_roll_std_3', 'PCI_GPM_roll_mean_3', 'PCI_ERA5_roll_mean_3', 'VCI_roll_mean_3', 'CI_ERA5_roll_mean_3', 'CI_ERA5_roll_std_3']\n"
     ]
    },
    {
     "data": {
      "image/png": "[encoded data removed]",
      "text/plain": [
       "<Figure size 1200x800 with 1 Axes>"
      ]
     },
     "metadata": {},
     "output_type": "display_data"
    }
   ],
   "source": [
    "# The estimator that will be used by RFECV\n",
    "estimator = RandomForestClassifier(\n",
    "    random_state=42,\n",
    "    n_jobs=-1\n",
    ")\n",
    "\n",
    "# The RFECV object\n",
    "rfecv = RFECV(\n",
    "    estimator=estimator,\n",
    "    step=1,\n",
    "    cv=StratifiedKFold(5),\n",
    "    scoring='f1_macro',\n",
    "    n_jobs=-1\n",
    ")\n",
    "\n",
    "# Fit RFECV on the training data\n",
    "rfecv.fit(X_train, y_train)\n",
    "\n",
    "print(f\"Optimal number of features found: {rfecv.n_features_}\")\n",
    "\n",
    "# Get the final selected features\n",
    "final_features = X_train.columns[rfecv.support_]\n",
    "print(f\"Selected features: {final_features.tolist()}\")\n",
    "\n",
    "# --- Plot Feature Importances ---\n",
    "# The `rfecv.estimator_` attribute is the model trained on the full set of features\n",
    "# during the last step of the cross-validation process. We can use its feature importances.\n",
    "importances = rfecv.estimator_.feature_importances_\n",
    "feature_importance_df = pd.DataFrame({\n",
    "    'Feature': final_features,\n",
    "    'Importance': importances\n",
    "}).sort_values(by='Importance', ascending=False)\n",
    "\n",
    "# Plot only the selected features\n",
    "selected_feature_importances = feature_importance_df[feature_importance_df['Feature'].isin(final_features)]\n",
    "\n",
    "plt.figure(figsize=(12, 8))\n",
    "sns.barplot(x='Importance', y='Feature', data=selected_feature_importances)\n",
    "plt.title('Feature Importances for Selected Features (from RFECV)')\n",
    "plt.xlabel('Importance')\n",
    "plt.ylabel('Feature')\n",
    "plt.tight_layout()\n",
    "plt.show()\n",
    "\n",
    "\n",
    "# Update training and testing sets with selected features\n",
    "X_train_final = X_train[final_features]\n",
    "X_test_final = X_test[final_features]"
   ]
  },
  {
   "cell_type": "markdown",
   "id": "948efbdd",
   "metadata": {},
   "source": [
    "# Hyperparameter Tuning with Optuna"
   ]
  },
  {
   "cell_type": "code",
   "execution_count": 11,
   "id": "95b28a9a",
   "metadata": {},
   "outputs": [
    {
     "name": "stderr",
     "output_type": "stream",
     "text": [
      "[I 2025-08-22 21:06:40,086] A new study created in memory with name: no-name-3c3c45a5-2909-4b06-93d0-4ef70d4c234c\n",
      "[I 2025-08-22 21:06:40,121] Trial 0 finished with value: 0.14788650745050008 and parameters: {'C': 0.032752568979895244, 'gamma': 0.0143704925803513, 'kernel': 'poly'}. Best is trial 0 with value: 0.14788650745050008.\n",
      "[I 2025-08-22 21:06:40,146] Trial 1 finished with value: 0.14788650745050008 and parameters: {'C': 0.11315239563559515, 'gamma': 0.037116358655245416, 'kernel': 'rbf'}. Best is trial 0 with value: 0.14788650745050008.\n",
      "[I 2025-08-22 21:06:40,167] Trial 2 finished with value: 0.14788650745050008 and parameters: {'C': 0.004404232500653855, 'gamma': 0.0020082883950385544, 'kernel': 'rbf'}. Best is trial 0 with value: 0.14788650745050008.\n",
      "[I 2025-08-22 21:06:40,186] Trial 3 finished with value: 0.14788650745050008 and parameters: {'C': 0.05547398335257112, 'gamma': 0.0019595920098877738, 'kernel': 'poly'}. Best is trial 0 with value: 0.14788650745050008.\n",
      "[I 2025-08-22 21:06:40,208] Trial 4 finished with value: 0.14788650745050008 and parameters: {'C': 0.001130976146428785, 'gamma': 0.0020155970306200395, 'kernel': 'rbf'}. Best is trial 0 with value: 0.14788650745050008.\n",
      "[I 2025-08-22 21:06:40,231] Trial 5 finished with value: 0.14788650745050008 and parameters: {'C': 0.0377093903404961, 'gamma': 0.03315157527737704, 'kernel': 'poly'}. Best is trial 0 with value: 0.14788650745050008.\n",
      "[I 2025-08-22 21:06:40,254] Trial 6 finished with value: 0.14788650745050008 and parameters: {'C': 3.2802561910421275, 'gamma': 0.0005569132290396616, 'kernel': 'rbf'}. Best is trial 0 with value: 0.14788650745050008.\n",
      "[I 2025-08-22 21:06:40,273] Trial 7 finished with value: 0.14788650745050008 and parameters: {'C': 0.028162132885779886, 'gamma': 0.0009873350627431009, 'kernel': 'poly'}. Best is trial 0 with value: 0.14788650745050008.\n",
      "[I 2025-08-22 21:06:40,300] Trial 8 finished with value: 0.27413470822984276 and parameters: {'C': 72.6116715240559, 'gamma': 0.03893233303867333, 'kernel': 'rbf'}. Best is trial 8 with value: 0.27413470822984276.\n",
      "[I 2025-08-22 21:06:40,322] Trial 9 finished with value: 0.14788650745050008 and parameters: {'C': 19.854902330325952, 'gamma': 0.0038363872461179634, 'kernel': 'poly'}. Best is trial 8 with value: 0.27413470822984276.\n",
      "[I 2025-08-22 21:06:40,356] Trial 10 finished with value: 0.16453233775257456 and parameters: {'C': 263.27363212282563, 'gamma': 0.00015079094454531746, 'kernel': 'rbf'}. Best is trial 8 with value: 0.27413470822984276.\n",
      "[I 2025-08-22 21:06:40,388] Trial 11 finished with value: 0.23373402943266858 and parameters: {'C': 835.7894670471026, 'gamma': 0.00010088173472327328, 'kernel': 'rbf'}. Best is trial 8 with value: 0.27413470822984276.\n",
      "[I 2025-08-22 21:06:40,414] Trial 12 finished with value: 0.2326229183215575 and parameters: {'C': 743.5666004640125, 'gamma': 0.00012070960376494193, 'kernel': 'rbf'}. Best is trial 8 with value: 0.27413470822984276.\n",
      "[I 2025-08-22 21:06:40,445] Trial 13 finished with value: 0.2873376503708199 and parameters: {'C': 63.42969806726826, 'gamma': 0.08489198422042983, 'kernel': 'rbf'}. Best is trial 13 with value: 0.2873376503708199.\n",
      "[I 2025-08-22 21:06:40,475] Trial 14 finished with value: 0.28998041938179464 and parameters: {'C': 41.43703927454651, 'gamma': 0.09007373570921372, 'kernel': 'rbf'}. Best is trial 14 with value: 0.28998041938179464.\n",
      "[I 2025-08-22 21:06:40,505] Trial 15 finished with value: 0.31130803096168125 and parameters: {'C': 4.187709002792817, 'gamma': 0.08980568806387577, 'kernel': 'rbf'}. Best is trial 15 with value: 0.31130803096168125.\n",
      "[I 2025-08-22 21:06:40,531] Trial 16 finished with value: 0.15304620874124855 and parameters: {'C': 1.740123180334727, 'gamma': 0.01077863265872977, 'kernel': 'rbf'}. Best is trial 15 with value: 0.31130803096168125.\n",
      "[I 2025-08-22 21:06:40,560] Trial 17 finished with value: 0.3017343072109289 and parameters: {'C': 5.80898944592565, 'gamma': 0.07244305623325674, 'kernel': 'rbf'}. Best is trial 15 with value: 0.31130803096168125.\n",
      "[I 2025-08-22 21:06:40,587] Trial 18 finished with value: 0.272805210608131 and parameters: {'C': 7.3406179460642464, 'gamma': 0.008559997713745491, 'kernel': 'rbf'}. Best is trial 15 with value: 0.31130803096168125.\n",
      "[I 2025-08-22 21:06:40,614] Trial 19 finished with value: 0.15801228743867052 and parameters: {'C': 0.8766748162722768, 'gamma': 0.025566839555844014, 'kernel': 'rbf'}. Best is trial 15 with value: 0.31130803096168125.\n",
      "[I 2025-08-22 21:06:40,641] Trial 20 finished with value: 0.14788650745050008 and parameters: {'C': 0.28047652176106924, 'gamma': 0.005585170949490735, 'kernel': 'rbf'}. Best is trial 15 with value: 0.31130803096168125.\n",
      "[I 2025-08-22 21:06:40,671] Trial 21 finished with value: 0.2849877631134916 and parameters: {'C': 15.269259395038626, 'gamma': 0.08316760283588412, 'kernel': 'rbf'}. Best is trial 15 with value: 0.31130803096168125.\n",
      "[I 2025-08-22 21:06:40,701] Trial 22 finished with value: 0.28833003251537737 and parameters: {'C': 60.91890348803088, 'gamma': 0.05976605228818225, 'kernel': 'rbf'}. Best is trial 15 with value: 0.31130803096168125.\n",
      "[I 2025-08-22 21:06:40,729] Trial 23 finished with value: 0.2813109509413515 and parameters: {'C': 4.141881560886994, 'gamma': 0.018688013432193652, 'kernel': 'rbf'}. Best is trial 15 with value: 0.31130803096168125.\n",
      "[I 2025-08-22 21:06:40,757] Trial 24 finished with value: 0.14788650745050008 and parameters: {'C': 0.40705426932080424, 'gamma': 0.0991229485361803, 'kernel': 'rbf'}. Best is trial 15 with value: 0.31130803096168125.\n",
      "[I 2025-08-22 21:06:40,786] Trial 25 finished with value: 0.27133331497086693 and parameters: {'C': 20.212992239983848, 'gamma': 0.04989119185402976, 'kernel': 'rbf'}. Best is trial 15 with value: 0.31130803096168125.\n",
      "[I 2025-08-22 21:06:40,813] Trial 26 finished with value: 0.3252665674196615 and parameters: {'C': 181.5500017271726, 'gamma': 0.02506338702934131, 'kernel': 'poly'}. Best is trial 26 with value: 0.3252665674196615.\n",
      "[I 2025-08-22 21:06:40,842] Trial 27 finished with value: 0.32559408160742975 and parameters: {'C': 217.39971841402766, 'gamma': 0.020368827533066063, 'kernel': 'poly'}. Best is trial 27 with value: 0.32559408160742975.\n",
      "[I 2025-08-22 21:06:40,871] Trial 28 finished with value: 0.3277931556815038 and parameters: {'C': 184.20715250501013, 'gamma': 0.020520678955412076, 'kernel': 'poly'}. Best is trial 28 with value: 0.3277931556815038.\n",
      "[I 2025-08-22 21:06:40,898] Trial 29 finished with value: 0.3326030678489695 and parameters: {'C': 240.67646391912157, 'gamma': 0.016308380757818774, 'kernel': 'poly'}. Best is trial 29 with value: 0.3326030678489695.\n",
      "[I 2025-08-22 21:06:40,925] Trial 30 finished with value: 0.3128822260255365 and parameters: {'C': 286.5591967937315, 'gamma': 0.014095979108836804, 'kernel': 'poly'}. Best is trial 29 with value: 0.3326030678489695.\n",
      "[I 2025-08-22 21:06:40,951] Trial 31 finished with value: 0.3277931556815038 and parameters: {'C': 171.31326218026885, 'gamma': 0.021300212103601567, 'kernel': 'poly'}. Best is trial 29 with value: 0.3326030678489695.\n",
      "[I 2025-08-22 21:06:40,976] Trial 32 finished with value: 0.18055459417317485 and parameters: {'C': 153.9861273189061, 'gamma': 0.007008211874395497, 'kernel': 'poly'}. Best is trial 29 with value: 0.3326030678489695.\n",
      "[I 2025-08-22 21:06:41,003] Trial 33 finished with value: 0.32961663679808834 and parameters: {'C': 434.5862427920196, 'gamma': 0.014628068476087263, 'kernel': 'poly'}. Best is trial 29 with value: 0.3326030678489695.\n",
      "[I 2025-08-22 21:06:41,029] Trial 34 finished with value: 0.32228649128649123 and parameters: {'C': 483.68643308240803, 'gamma': 0.010856471257737883, 'kernel': 'poly'}. Best is trial 29 with value: 0.3326030678489695.\n",
      "[I 2025-08-22 21:06:41,054] Trial 35 finished with value: 0.14730971335257925 and parameters: {'C': 126.0550333623424, 'gamma': 0.004255728008843294, 'kernel': 'poly'}. Best is trial 29 with value: 0.3326030678489695.\n",
      "[I 2025-08-22 21:06:41,080] Trial 36 finished with value: 0.3277931556815038 and parameters: {'C': 516.4060677493814, 'gamma': 0.01511642932813913, 'kernel': 'poly'}. Best is trial 29 with value: 0.3326030678489695.\n",
      "[I 2025-08-22 21:06:41,108] Trial 37 finished with value: 0.30698383533816853 and parameters: {'C': 968.6521143319815, 'gamma': 0.03444625013964656, 'kernel': 'poly'}. Best is trial 29 with value: 0.3326030678489695.\n",
      "[I 2025-08-22 21:06:41,132] Trial 38 finished with value: 0.14730971335257925 and parameters: {'C': 29.199778606946193, 'gamma': 0.00618044585744928, 'kernel': 'poly'}. Best is trial 29 with value: 0.3326030678489695.\n",
      "[I 2025-08-22 21:06:41,157] Trial 39 finished with value: 0.14788650745050008 and parameters: {'C': 0.012558305734444757, 'gamma': 0.0016476455355268586, 'kernel': 'poly'}. Best is trial 29 with value: 0.3326030678489695.\n",
      "[I 2025-08-22 21:06:41,183] Trial 40 finished with value: 0.14788650745050008 and parameters: {'C': 120.98124237198472, 'gamma': 0.002887996678839545, 'kernel': 'poly'}. Best is trial 29 with value: 0.3326030678489695.\n",
      "[I 2025-08-22 21:06:41,217] Trial 41 finished with value: 0.3266205377935148 and parameters: {'C': 446.6436518703462, 'gamma': 0.015106185769286937, 'kernel': 'poly'}. Best is trial 29 with value: 0.3326030678489695.\n",
      "[I 2025-08-22 21:06:41,249] Trial 42 finished with value: 0.3128822260255365 and parameters: {'C': 430.6713266480246, 'gamma': 0.012909098407825328, 'kernel': 'poly'}. Best is trial 29 with value: 0.3326030678489695.\n",
      "[I 2025-08-22 21:06:41,278] Trial 43 finished with value: 0.32961663679808834 and parameters: {'C': 93.46901047423808, 'gamma': 0.02483655350069093, 'kernel': 'poly'}. Best is trial 29 with value: 0.3326030678489695.\n",
      "[I 2025-08-22 21:06:41,308] Trial 44 finished with value: 0.3210074571780601 and parameters: {'C': 93.365612342654, 'gamma': 0.046232557385387514, 'kernel': 'poly'}. Best is trial 29 with value: 0.3326030678489695.\n",
      "[I 2025-08-22 21:06:41,334] Trial 45 finished with value: 0.269241285126531 and parameters: {'C': 12.312767400407962, 'gamma': 0.030974649803190327, 'kernel': 'poly'}. Best is trial 29 with value: 0.3326030678489695.\n",
      "[I 2025-08-22 21:06:41,360] Trial 46 finished with value: 0.30093006993006993 and parameters: {'C': 45.06580227222682, 'gamma': 0.02096551255585311, 'kernel': 'poly'}. Best is trial 29 with value: 0.3326030678489695.\n",
      "[I 2025-08-22 21:06:41,386] Trial 47 finished with value: 0.2598988484366433 and parameters: {'C': 265.54307907397833, 'gamma': 0.010175573056637655, 'kernel': 'poly'}. Best is trial 29 with value: 0.3326030678489695.\n",
      "[I 2025-08-22 21:06:41,413] Trial 48 finished with value: 0.3210074571780601 and parameters: {'C': 107.08506137200666, 'gamma': 0.044221472909960514, 'kernel': 'poly'}. Best is trial 29 with value: 0.3326030678489695.\n",
      "[I 2025-08-22 21:06:41,435] Trial 49 finished with value: 0.14788650745050008 and parameters: {'C': 28.46643967712343, 'gamma': 0.00020341943064984989, 'kernel': 'poly'}. Best is trial 29 with value: 0.3326030678489695.\n",
      "[I 2025-08-22 21:06:41,462] Trial 50 finished with value: 0.3269933504590354 and parameters: {'C': 278.9503441581079, 'gamma': 0.026417707088910673, 'kernel': 'poly'}. Best is trial 29 with value: 0.3326030678489695.\n",
      "[I 2025-08-22 21:06:41,489] Trial 51 finished with value: 0.3305522595194726 and parameters: {'C': 502.54228079914054, 'gamma': 0.018324288334065, 'kernel': 'poly'}. Best is trial 29 with value: 0.3326030678489695.\n",
      "[I 2025-08-22 21:06:41,516] Trial 52 finished with value: 0.3269933504590354 and parameters: {'C': 963.6168680264541, 'gamma': 0.017441878757807484, 'kernel': 'poly'}. Best is trial 29 with value: 0.3326030678489695.\n",
      "[I 2025-08-22 21:06:41,541] Trial 53 finished with value: 0.1732714719690693 and parameters: {'C': 65.21384145527409, 'gamma': 0.008589248764255562, 'kernel': 'poly'}. Best is trial 29 with value: 0.3326030678489695.\n",
      "[I 2025-08-22 21:06:41,568] Trial 54 finished with value: 0.323957843161233 and parameters: {'C': 361.62866567650235, 'gamma': 0.026816225341047707, 'kernel': 'poly'}. Best is trial 29 with value: 0.3326030678489695.\n",
      "[I 2025-08-22 21:06:41,596] Trial 55 finished with value: 0.30698383533816853 and parameters: {'C': 623.1950087473145, 'gamma': 0.0373328697803649, 'kernel': 'poly'}. Best is trial 29 with value: 0.3326030678489695.\n",
      "[I 2025-08-22 21:06:41,624] Trial 56 finished with value: 0.31703105260286346 and parameters: {'C': 184.54991739825627, 'gamma': 0.05430344356816308, 'kernel': 'poly'}. Best is trial 29 with value: 0.3326030678489695.\n",
      "[I 2025-08-22 21:06:41,649] Trial 57 finished with value: 0.14788650745050008 and parameters: {'C': 39.382154818093305, 'gamma': 0.004615747458017851, 'kernel': 'poly'}. Best is trial 29 with value: 0.3326030678489695.\n",
      "[I 2025-08-22 21:06:41,674] Trial 58 finished with value: 0.21178271225112466 and parameters: {'C': 84.45757908869064, 'gamma': 0.009031898836639789, 'kernel': 'poly'}. Best is trial 29 with value: 0.3326030678489695.\n",
      "[I 2025-08-22 21:06:41,698] Trial 59 finished with value: 0.14788650745050008 and parameters: {'C': 0.0023732283711466223, 'gamma': 0.06767498647044398, 'kernel': 'poly'}. Best is trial 29 with value: 0.3326030678489695.\n",
      "[I 2025-08-22 21:06:41,725] Trial 60 finished with value: 0.14788650745050008 and parameters: {'C': 0.11072485389122405, 'gamma': 0.02182407956719816, 'kernel': 'poly'}. Best is trial 29 with value: 0.3326030678489695.\n",
      "[I 2025-08-22 21:06:41,753] Trial 61 finished with value: 0.32931418646728056 and parameters: {'C': 641.8613932725369, 'gamma': 0.01556751231138542, 'kernel': 'poly'}. Best is trial 29 with value: 0.3326030678489695.\n",
      "[I 2025-08-22 21:06:41,780] Trial 62 finished with value: 0.3326030678489695 and parameters: {'C': 643.4168665206184, 'gamma': 0.012059048909209525, 'kernel': 'poly'}. Best is trial 29 with value: 0.3326030678489695.\n",
      "[I 2025-08-22 21:06:41,807] Trial 63 finished with value: 0.3128822260255365 and parameters: {'C': 639.4941644882841, 'gamma': 0.011392432798180866, 'kernel': 'poly'}. Best is trial 29 with value: 0.3326030678489695.\n",
      "[I 2025-08-22 21:06:41,833] Trial 64 finished with value: 0.26587590931895144 and parameters: {'C': 313.7735044176515, 'gamma': 0.00718701588526703, 'kernel': 'poly'}. Best is trial 29 with value: 0.3326030678489695.\n",
      "[I 2025-08-22 21:06:41,861] Trial 65 finished with value: 0.33076186016510034 and parameters: {'C': 641.0579173726559, 'gamma': 0.014775692167315623, 'kernel': 'poly'}. Best is trial 29 with value: 0.3326030678489695.\n",
      "[I 2025-08-22 21:06:41,889] Trial 66 finished with value: 0.32931418646728056 and parameters: {'C': 713.2872736119141, 'gamma': 0.01484411805219766, 'kernel': 'poly'}. Best is trial 29 with value: 0.3326030678489695.\n",
      "[I 2025-08-22 21:06:41,917] Trial 67 finished with value: 0.14671620058515344 and parameters: {'C': 976.6161298502847, 'gamma': 0.0028019383103329494, 'kernel': 'poly'}. Best is trial 29 with value: 0.3326030678489695.\n",
      "[I 2025-08-22 21:06:41,945] Trial 68 finished with value: 0.31554479643004235 and parameters: {'C': 382.27558389136004, 'gamma': 0.012609733520882996, 'kernel': 'poly'}. Best is trial 29 with value: 0.3326030678489695.\n",
      "[I 2025-08-22 21:06:41,973] Trial 69 finished with value: 0.3305522595194726 and parameters: {'C': 617.641258226565, 'gamma': 0.017042356559408323, 'kernel': 'poly'}. Best is trial 29 with value: 0.3326030678489695.\n",
      "[I 2025-08-22 21:06:42,001] Trial 70 finished with value: 0.323957843161233 and parameters: {'C': 235.31495846947882, 'gamma': 0.03151003339895581, 'kernel': 'poly'}. Best is trial 29 with value: 0.3326030678489695.\n",
      "[I 2025-08-22 21:06:42,030] Trial 71 finished with value: 0.3305522595194726 and parameters: {'C': 617.7501819918106, 'gamma': 0.01706838288432096, 'kernel': 'poly'}. Best is trial 29 with value: 0.3326030678489695.\n",
      "[I 2025-08-22 21:06:42,058] Trial 72 finished with value: 0.323957843161233 and parameters: {'C': 351.55546954998835, 'gamma': 0.026408150964652218, 'kernel': 'poly'}. Best is trial 29 with value: 0.3326030678489695.\n",
      "[I 2025-08-22 21:06:42,086] Trial 73 finished with value: 0.32749220319368433 and parameters: {'C': 543.25043971748, 'gamma': 0.017014494888913285, 'kernel': 'poly'}. Best is trial 29 with value: 0.3326030678489695.\n",
      "[I 2025-08-22 21:06:42,112] Trial 74 finished with value: 0.21178271225112466 and parameters: {'C': 130.24990156077206, 'gamma': 0.007841572557711432, 'kernel': 'poly'}. Best is trial 29 with value: 0.3326030678489695.\n",
      "[I 2025-08-22 21:06:42,139] Trial 75 finished with value: 0.16097707015037083 and parameters: {'C': 220.42900049068047, 'gamma': 0.005009609313103531, 'kernel': 'poly'}. Best is trial 29 with value: 0.3326030678489695.\n",
      "[I 2025-08-22 21:06:42,166] Trial 76 finished with value: 0.32961663679808834 and parameters: {'C': 742.5283248116341, 'gamma': 0.01212617294929693, 'kernel': 'poly'}. Best is trial 29 with value: 0.3326030678489695.\n",
      "[I 2025-08-22 21:06:42,201] Trial 77 finished with value: 0.269241285126531 and parameters: {'C': 461.395313646458, 'gamma': 0.009372951649873814, 'kernel': 'poly'}. Best is trial 29 with value: 0.3326030678489695.\n",
      "[I 2025-08-22 21:06:42,243] Trial 78 finished with value: 0.3128822260255365 and parameters: {'C': 144.19706348377596, 'gamma': 0.018829586518676045, 'kernel': 'poly'}. Best is trial 29 with value: 0.3326030678489695.\n",
      "[I 2025-08-22 21:06:42,274] Trial 79 finished with value: 0.25444733789038004 and parameters: {'C': 1.9326373989013652, 'gamma': 0.039865192826490876, 'kernel': 'poly'}. Best is trial 29 with value: 0.3326030678489695.\n",
      "[I 2025-08-22 21:06:42,297] Trial 80 finished with value: 0.14788650745050008 and parameters: {'C': 956.2728878662555, 'gamma': 0.0005529412323298925, 'kernel': 'poly'}. Best is trial 29 with value: 0.3326030678489695.\n",
      "[I 2025-08-22 21:06:42,325] Trial 81 finished with value: 0.3128822260255365 and parameters: {'C': 554.2877710746321, 'gamma': 0.011624287415016924, 'kernel': 'poly'}. Best is trial 29 with value: 0.3326030678489695.\n",
      "[I 2025-08-22 21:06:42,356] Trial 82 finished with value: 0.3273970675676705 and parameters: {'C': 676.8645703673454, 'gamma': 0.023338765335186137, 'kernel': 'poly'}. Best is trial 29 with value: 0.3326030678489695.\n",
      "[I 2025-08-22 21:06:42,384] Trial 83 finished with value: 0.32228649128649123 and parameters: {'C': 319.4009462901023, 'gamma': 0.01315212852394196, 'kernel': 'poly'}. Best is trial 29 with value: 0.3326030678489695.\n",
      "[I 2025-08-22 21:06:42,410] Trial 84 finished with value: 0.17184081015210373 and parameters: {'C': 223.6494679820986, 'gamma': 0.005767443234882965, 'kernel': 'poly'}. Best is trial 29 with value: 0.3326030678489695.\n",
      "[I 2025-08-22 21:06:42,441] Trial 85 finished with value: 0.32422422718984134 and parameters: {'C': 419.5014204326892, 'gamma': 0.030425636302894746, 'kernel': 'poly'}. Best is trial 29 with value: 0.3326030678489695.\n",
      "[I 2025-08-22 21:06:42,472] Trial 86 finished with value: 0.3292722462722462 and parameters: {'C': 807.2273036719399, 'gamma': 0.01787764884218245, 'kernel': 'poly'}. Best is trial 29 with value: 0.3326030678489695.\n",
      "[I 2025-08-22 21:06:42,499] Trial 87 finished with value: 0.2542122127457948 and parameters: {'C': 90.5765808009515, 'gamma': 0.013042536361462208, 'kernel': 'poly'}. Best is trial 29 with value: 0.3326030678489695.\n",
      "[I 2025-08-22 21:06:42,525] Trial 88 finished with value: 0.253678266316326 and parameters: {'C': 160.75472044678452, 'gamma': 0.01036682791197438, 'kernel': 'poly'}. Best is trial 29 with value: 0.3326030678489695.\n",
      "[I 2025-08-22 21:06:42,553] Trial 89 finished with value: 0.32961663679808834 and parameters: {'C': 288.13776748387266, 'gamma': 0.016585569456861255, 'kernel': 'poly'}. Best is trial 29 with value: 0.3326030678489695.\n",
      "[I 2025-08-22 21:06:42,584] Trial 90 finished with value: 0.26925863088141927 and parameters: {'C': 472.29155412338537, 'gamma': 0.023386455029443753, 'kernel': 'rbf'}. Best is trial 29 with value: 0.3326030678489695.\n",
      "[I 2025-08-22 21:06:42,612] Trial 91 finished with value: 0.3332729074400148 and parameters: {'C': 291.3613021597937, 'gamma': 0.015844525575537567, 'kernel': 'poly'}. Best is trial 91 with value: 0.3332729074400148.\n",
      "[I 2025-08-22 21:06:42,639] Trial 92 finished with value: 0.2546041922422519 and parameters: {'C': 770.6270573623909, 'gamma': 0.006430580276438465, 'kernel': 'poly'}. Best is trial 91 with value: 0.3332729074400148.\n",
      "[I 2025-08-22 21:06:42,669] Trial 93 finished with value: 0.32749220319368433 and parameters: {'C': 351.19314055911485, 'gamma': 0.019720892426952883, 'kernel': 'poly'}. Best is trial 91 with value: 0.3332729074400148.\n",
      "[I 2025-08-22 21:06:42,697] Trial 94 finished with value: 0.32769014895244397 and parameters: {'C': 204.61417109068842, 'gamma': 0.028946027411621878, 'kernel': 'poly'}. Best is trial 91 with value: 0.3332729074400148.\n",
      "[I 2025-08-22 21:06:42,724] Trial 95 finished with value: 0.32961663679808834 and parameters: {'C': 547.0192722272587, 'gamma': 0.013775528716233288, 'kernel': 'poly'}. Best is trial 91 with value: 0.3332729074400148.\n",
      "[I 2025-08-22 21:06:42,749] Trial 96 finished with value: 0.21178271225112466 and parameters: {'C': 52.34484296803184, 'gamma': 0.010591462139573092, 'kernel': 'poly'}. Best is trial 91 with value: 0.3332729074400148.\n",
      "[I 2025-08-22 21:06:42,776] Trial 97 finished with value: 0.269241285126531 and parameters: {'C': 712.8966485799366, 'gamma': 0.00810820168909312, 'kernel': 'poly'}. Best is trial 91 with value: 0.3332729074400148.\n",
      "[I 2025-08-22 21:06:42,802] Trial 98 finished with value: 0.3340424436674437 and parameters: {'C': 108.00543935293443, 'gamma': 0.016751336490854148, 'kernel': 'poly'}. Best is trial 98 with value: 0.3340424436674437.\n",
      "[I 2025-08-22 21:06:42,830] Trial 99 finished with value: 0.3305522595194726 and parameters: {'C': 69.39893972547578, 'gamma': 0.03631507556036439, 'kernel': 'poly'}. Best is trial 98 with value: 0.3340424436674437.\n"
     ]
    },
    {
     "name": "stdout",
     "output_type": "stream",
     "text": [
      "Best trial found: 98\n",
      "Best Macro-F1 Score: 0.3340424436674437\n",
      "Best Hyperparameters:\n",
      "{'C': 108.00543935293443, 'gamma': 0.016751336490854148, 'kernel': 'poly'}\n"
     ]
    }
   ],
   "source": [
    "def objective(trial):\n",
    "    \"\"\"Define the objective function for Optuna to optimize.\"\"\"\n",
    "    params = {\n",
    "        'C': trial.suggest_float('C', 1e-3, 1e3, log=True),\n",
    "        'gamma': trial.suggest_float('gamma', 1e-4, 1e-1, log=True),\n",
    "        'kernel': trial.suggest_categorical('kernel', ['rbf', 'poly']),\n",
    "        'random_state': 42\n",
    "    }\n",
    "\n",
    "    model = SVC(**params)\n",
    "\n",
    "    # Stratified K-Fold Cross-Validation\n",
    "    skf = StratifiedKFold(n_splits=5, shuffle=True, random_state=42)\n",
    "    f1_scores = []\n",
    "    \n",
    "    for train_idx, val_idx in skf.split(X_train_final, y_train):\n",
    "        X_train_fold, X_val_fold = X_train_final.iloc[train_idx], X_train_final.iloc[val_idx]\n",
    "        y_train_fold, y_val_fold = y_train[train_idx], y_train[val_idx]\n",
    "        \n",
    "        model.fit(X_train_fold, y_train_fold)\n",
    "        preds = model.predict(X_val_fold)\n",
    "        f1_scores.append(f1_score(y_val_fold, preds, average='macro'))\n",
    "        \n",
    "    return np.mean(f1_scores)\n",
    "\n",
    "# Create a study object and optimize\n",
    "study = optuna.create_study(direction='maximize')\n",
    "study.optimize(objective, n_trials=100, timeout=600) # 50 trials or 10 minutes\n",
    "\n",
    "print(f\"Best trial found: {study.best_trial.number}\")\n",
    "print(f\"Best Macro-F1 Score: {study.best_value}\")\n",
    "print(\"Best Hyperparameters:\")\n",
    "print(study.best_params)\n"
   ]
  },
  {
   "cell_type": "markdown",
   "id": "48541f6a",
   "metadata": {},
   "source": [
    "# Model Training & Evaluation"
   ]
  },
  {
   "cell_type": "code",
   "execution_count": 12,
   "id": "8e6cdd2c",
   "metadata": {},
   "outputs": [
    {
     "name": "stdout",
     "output_type": "stream",
     "text": [
      "Overall Accuracy: 0.6593\n",
      "Macro-F1 Score: 0.2822\n",
      "Cohen's Kappa: 0.1905\n",
      "\n",
      "Classification Report:\n",
      "              precision    recall  f1-score   support\n",
      "\n",
      "          ED       0.00      0.00      0.00         1\n",
      "          MD       0.60      0.27      0.38        11\n",
      "          MW       0.40      0.22      0.29         9\n",
      "          NN       0.69      0.90      0.78        60\n",
      "          SD       0.50      0.17      0.25         6\n",
      "          VW       0.00      0.00      0.00         4\n",
      "\n",
      "    accuracy                           0.66        91\n",
      "   macro avg       0.37      0.26      0.28        91\n",
      "weighted avg       0.60      0.66      0.61        91\n",
      "\n",
      "\n",
      "--- Plotting Confusion Matrix ---\n"
     ]
    },
    {
     "data": {
      "image/png": "[encoded data removed]",
      "text/plain": [
       "<Figure size 1000x800 with 2 Axes>"
      ]
     },
     "metadata": {},
     "output_type": "display_data"
    }
   ],
   "source": [
    "# Get best hyperparameters\n",
    "best_params = study.best_params\n",
    "best_params['random_state'] = 42\n",
    "best_params['probability'] = True\n",
    "\n",
    "# Train the final model\n",
    "final_model = SVC(**best_params)\n",
    "final_model.fit(X_train_final, y_train)\n",
    "\n",
    "# Make predictions on the test set\n",
    "y_pred = final_model.predict(X_test_final)\n",
    "\n",
    "# Evaluate the model\n",
    "accuracy = accuracy_score(y_test, y_pred)\n",
    "macro_f1 = f1_score(y_test, y_pred, average='macro')\n",
    "kappa = cohen_kappa_score(y_test, y_pred)\n",
    "\n",
    "print(f\"Overall Accuracy: {accuracy:.4f}\")\n",
    "print(f\"Macro-F1 Score: {macro_f1:.4f}\")\n",
    "print(f\"Cohen's Kappa: {kappa:.4f}\")\n",
    "\n",
    "print(\"\\nClassification Report:\")\n",
    "print(classification_report(y_test, y_pred, target_names=le.classes_))\n",
    "\n",
    "\n",
    "# --- Plot Confusion Matrix ---\n",
    "print(\"\\n--- Plotting Confusion Matrix ---\")\n",
    "cm = confusion_matrix(y_test, y_pred)\n",
    "plt.figure(figsize=(10, 8))\n",
    "sns.heatmap(cm, annot=True, fmt='d', cmap='Blues', xticklabels=le.classes_, yticklabels=le.classes_)\n",
    "plt.title('Confusion Matrix')\n",
    "plt.ylabel('Actual')\n",
    "plt.xlabel('Predicted')\n",
    "plt.show()"
   ]
  },
  {
   "cell_type": "markdown",
   "id": "a065bac3",
   "metadata": {},
   "source": [
    "# Explainability with SHAP"
   ]
  },
  {
   "cell_type": "code",
   "execution_count": 13,
   "id": "410e324e",
   "metadata": {},
   "outputs": [
    {
     "ename": "InvalidModelError",
     "evalue": "Model type not yet supported by TreeExplainer: <class 'sklearn.svm._classes.SVC'>",
     "output_type": "error",
     "traceback": [
      "\u001b[31m---------------------------------------------------------------------------\u001b[39m",
      "\u001b[31mInvalidModelError\u001b[39m                         Traceback (most recent call last)",
      "\u001b[36mCell\u001b[39m\u001b[36m \u001b[39m\u001b[32mIn[13]\u001b[39m\u001b[32m, line 3\u001b[39m\n\u001b[32m      1\u001b[39m \u001b[38;5;66;03m# Create SHAP explainer for the final model\u001b[39;00m\n\u001b[32m      2\u001b[39m \u001b[38;5;66;03m# Using a subset of the training data for the background is a common practice for performance\u001b[39;00m\n\u001b[32m----> \u001b[39m\u001b[32m3\u001b[39m explainer = \u001b[43mshap\u001b[49m\u001b[43m.\u001b[49m\u001b[43mTreeExplainer\u001b[49m\u001b[43m(\u001b[49m\u001b[43mfinal_model\u001b[49m\u001b[43m,\u001b[49m\u001b[43m \u001b[49m\u001b[43mX_train_final\u001b[49m\u001b[43m.\u001b[49m\u001b[43msample\u001b[49m\u001b[43m(\u001b[49m\u001b[32;43m100\u001b[39;49m\u001b[43m,\u001b[49m\u001b[43m \u001b[49m\u001b[43mrandom_state\u001b[49m\u001b[43m=\u001b[49m\u001b[32;43m42\u001b[39;49m\u001b[43m)\u001b[49m\u001b[43m)\u001b[49m\n\u001b[32m      4\u001b[39m shap_values = explainer.shap_values(X_test_final)\n\u001b[32m      6\u001b[39m \u001b[38;5;66;03m# SHAP Summary Plot (Bar)\u001b[39;00m\n",
      "\u001b[36mFile \u001b[39m\u001b[32m~/w/DroughtMonitoringIran/.venv/lib/python3.12/site-packages/shap/explainers/_tree.py:278\u001b[39m, in \u001b[36mTreeExplainer.__init__\u001b[39m\u001b[34m(self, model, data, model_output, feature_perturbation, feature_names, approximate, link, linearize_link)\u001b[39m\n\u001b[32m    276\u001b[39m \u001b[38;5;28mself\u001b[39m.feature_perturbation = feature_perturbation\n\u001b[32m    277\u001b[39m \u001b[38;5;28mself\u001b[39m.expected_value = \u001b[38;5;28;01mNone\u001b[39;00m\n\u001b[32m--> \u001b[39m\u001b[32m278\u001b[39m \u001b[38;5;28mself\u001b[39m.model = \u001b[43mTreeEnsemble\u001b[49m\u001b[43m(\u001b[49m\u001b[43mmodel\u001b[49m\u001b[43m,\u001b[49m\u001b[43m \u001b[49m\u001b[38;5;28;43mself\u001b[39;49m\u001b[43m.\u001b[49m\u001b[43mdata\u001b[49m\u001b[43m,\u001b[49m\u001b[43m \u001b[49m\u001b[38;5;28;43mself\u001b[39;49m\u001b[43m.\u001b[49m\u001b[43mdata_missing\u001b[49m\u001b[43m,\u001b[49m\u001b[43m \u001b[49m\u001b[43mmodel_output\u001b[49m\u001b[43m)\u001b[49m\n\u001b[32m    279\u001b[39m \u001b[38;5;28mself\u001b[39m.model_output = model_output\n\u001b[32m    280\u001b[39m \u001b[38;5;66;03m# self.model_output = self.model.model_output # this allows the TreeEnsemble to translate model outputs types by how it loads the model\u001b[39;00m\n\u001b[32m    281\u001b[39m \n\u001b[32m    282\u001b[39m \u001b[38;5;66;03m# check for unsupported combinations of feature_perturbation and model_outputs\u001b[39;00m\n",
      "\u001b[36mFile \u001b[39m\u001b[32m~/w/DroughtMonitoringIran/.venv/lib/python3.12/site-packages/shap/explainers/_tree.py:1436\u001b[39m, in \u001b[36mTreeEnsemble.__init__\u001b[39m\u001b[34m(self, model, data, data_missing, model_output)\u001b[39m\n\u001b[32m   1434\u001b[39m     \u001b[38;5;28mself\u001b[39m.base_offset = model.init_params[param_idx]\n\u001b[32m   1435\u001b[39m \u001b[38;5;28;01melse\u001b[39;00m:\n\u001b[32m-> \u001b[39m\u001b[32m1436\u001b[39m     \u001b[38;5;28;01mraise\u001b[39;00m InvalidModelError(\u001b[33m\"\u001b[39m\u001b[33mModel type not yet supported by TreeExplainer: \u001b[39m\u001b[33m\"\u001b[39m + \u001b[38;5;28mstr\u001b[39m(\u001b[38;5;28mtype\u001b[39m(model)))\n\u001b[32m   1438\u001b[39m \u001b[38;5;66;03m# build a dense numpy version of all the tree objects\u001b[39;00m\n\u001b[32m   1439\u001b[39m \u001b[38;5;28;01mif\u001b[39;00m \u001b[38;5;28mself\u001b[39m.trees \u001b[38;5;129;01mis\u001b[39;00m \u001b[38;5;129;01mnot\u001b[39;00m \u001b[38;5;28;01mNone\u001b[39;00m \u001b[38;5;129;01mand\u001b[39;00m \u001b[38;5;28mself\u001b[39m.trees:\n",
      "\u001b[31mInvalidModelError\u001b[39m: Model type not yet supported by TreeExplainer: <class 'sklearn.svm._classes.SVC'>"
     ]
    }
   ],
   "source": [
    "# Create SHAP explainer for the final model\n",
    "# Using a subset of the training data for the background is a common practice for performance\n",
    "explainer = shap.TreeExplainer(final_model, X_train_final.sample(100, random_state=42))\n",
    "shap_values = explainer.shap_values(X_test_final)\n",
    "\n",
    "# SHAP Summary Plot (Bar)\n",
    "print(\"\\nGenerating SHAP Summary Bar Plot...\")\n",
    "plt.figure()\n",
    "shap.summary_plot(shap_values, X_test_final, plot_type=\"bar\", class_names=le.classes_, show=False)\n",
    "plt.title(\"SHAP Summary Plot (Global Feature Importance)\")\n",
    "plt.tight_layout()\n",
    "plt.show()\n",
    "\n",
    "# SHAP Summary Plot (Beeswarm)\n",
    "print(\"\\nGenerating SHAP Summary Beeswarm Plot...\")\n",
    "plt.figure()\n",
    "shap.summary_plot(shap_values, X_test_final, class_names=le.classes_, show=False,  plot_type=\"violin\")\n",
    "plt.title(\"SHAP Summary Plot (Beeswarm)\")\n",
    "plt.tight_layout()\n",
    "plt.show()"
   ]
  }
 ],
 "metadata": {
  "kernelspec": {
   "display_name": "droughtmonitoringiran (3.12.3)",
   "language": "python",
   "name": "python3"
  },
  "language_info": {
   "codemirror_mode": {
    "name": "ipython",
    "version": 3
   },
   "file_extension": ".py",
   "mimetype": "text/x-python",
   "name": "python",
   "nbconvert_exporter": "python",
   "pygments_lexer": "ipython3",
   "version": "3.12.3"
  }
 },
 "nbformat": 4,
 "nbformat_minor": 5
}
