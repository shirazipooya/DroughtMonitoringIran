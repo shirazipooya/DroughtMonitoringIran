{
 "cells": [
  {
   "cell_type": "markdown",
   "id": "466fb799",
   "metadata": {
    "notebookRunGroups": {
     "groupValue": "1"
    }
   },
   "source": [
    "# Import Libraries"
   ]
  },
  {
   "cell_type": "code",
   "execution_count": 1,
   "id": "c141a822",
   "metadata": {
    "notebookRunGroups": {
     "groupValue": "1"
    }
   },
   "outputs": [
    {
     "name": "stderr",
     "output_type": "stream",
     "text": [
      "/home/pooya/w/DroughtMonitoringIran/.venv/lib/python3.12/site-packages/tqdm/auto.py:21: TqdmWarning: IProgress not found. Please update jupyter and ipywidgets. See https://ipywidgets.readthedocs.io/en/stable/user_install.html\n",
      "  from .autonotebook import tqdm as notebook_tqdm\n"
     ]
    }
   ],
   "source": [
    "import sys\n",
    "import sqlite3\n",
    "import warnings\n",
    "\n",
    "import pandas as pd\n",
    "import numpy as np\n",
    "\n",
    "import optuna\n",
    "import matplotlib.pyplot as plt\n",
    "import seaborn as sns\n",
    "import shap\n",
    "from xgboost import XGBClassifier\n",
    "\n",
    "from sklearn.model_selection import train_test_split, StratifiedKFold\n",
    "from sklearn.preprocessing import StandardScaler, LabelEncoder\n",
    "from sklearn.metrics import accuracy_score, f1_score, cohen_kappa_score, classification_report, confusion_matrix\n",
    "from sklearn.feature_selection import RFECV\n",
    "\n",
    "\n",
    "warnings.filterwarnings('ignore')\n",
    "np.random.seed(42)"
   ]
  },
  {
   "cell_type": "markdown",
   "id": "27845aff",
   "metadata": {},
   "source": [
    "# Load Database"
   ]
  },
  {
   "cell_type": "code",
   "execution_count": 2,
   "id": "1361a6af",
   "metadata": {
    "notebookRunGroups": {
     "groupValue": "1"
    }
   },
   "outputs": [],
   "source": [
    "sys.path.append('/home/pooya/w/DroughtMonitoringIran/')\n",
    "\n",
    "DATABASE_PATH = \"./database/database.db\"\n",
    "\n",
    "conn = sqlite3.connect(DATABASE_PATH)\n",
    "\n",
    "data = pd.read_sql(sql='SELECT * FROM data', con=conn)\n",
    "\n",
    "conn.close()"
   ]
  },
  {
   "cell_type": "markdown",
   "id": "94899866",
   "metadata": {},
   "source": [
    "# Select Columns and Rows"
   ]
  },
  {
   "cell_type": "code",
   "execution_count": 3,
   "id": "c0de84b7",
   "metadata": {},
   "outputs": [],
   "source": [
    "# Select Drought Index and Period\n",
    "di = 'SPEI'\n",
    "di_scale = 6\n",
    "\n",
    "# Select Stations\n",
    "# selected_stations = ['Ramsar', 'Nowshahr', 'Siahbisheh', 'Kiyasar', 'Kojur', 'Baladeh', 'Alasht', 'Babolsar', 'Gharakhil', 'Sari', 'Sari (dasht-e-naz airport)', 'Galugah', 'Bandar-e-amirabad', 'Amol', 'Polsefid']\n",
    "selected_stations = ['Ramsar', 'Nowshahr']\n",
    "# selected_stations = ['Siahbisheh', 'Kiyasar', 'Kojur', 'Baladeh', 'Alasht']\n",
    "# selected_stations = ['Babolsar', 'Gharakhil', 'Sari', 'Sari (dasht-e-naz airport)', 'Galugah', 'Bandar-e-amirabad', 'Amol', 'Polsefid']\n",
    "\n",
    "# Select Columns\n",
    "selected_columns = [\n",
    "    'Station_Name', 'Station_ID',\n",
    "    'Station_Latitude', 'Station_Longitude', 'Station_Elevation',\n",
    "    'Date',\n",
    "    f'{di}_{di_scale}',\n",
    "    f'GPM_{di}_{di_scale}',\n",
    "    f'ERA5_{di}_{di_scale}',\n",
    "    'ERA5_Precipitation',\n",
    "    'GPM_Precipitation',\n",
    "    'TRMM_Precipitation',\n",
    "    'TERRACLIMATE_Precipitation',\n",
    "    'PERSIANNCDR_Precipitation',\n",
    "    'PET_MOD16A2GF',\n",
    "    'NDVI', 'EVI',\n",
    "    'LSTDay', 'LSTNight', 'LST',\n",
    "    'PCI_GPM', 'PCI_ERA5',\n",
    "    'VCI', 'TCI', 'VHI',\n",
    "    'CI_GPM', 'CI_ERA5',\n",
    "]\n",
    "\n",
    "# Select Start and End Date\n",
    "start_date = '2006-09'\n",
    "end_date = '2023-10'"
   ]
  },
  {
   "cell_type": "markdown",
   "id": "c773c79b",
   "metadata": {},
   "source": [
    "# Filter Data"
   ]
  },
  {
   "cell_type": "code",
   "execution_count": 4,
   "id": "ecf78173",
   "metadata": {},
   "outputs": [],
   "source": [
    "df = data\\\n",
    "    .filter(items=selected_columns)\\\n",
    "        .query(\"Station_Name in @selected_stations and Date >= @start_date and Date < @end_date\")"
   ]
  },
  {
   "cell_type": "markdown",
   "id": "ba7b1f34",
   "metadata": {},
   "source": [
    "# Add Some Columns"
   ]
  },
  {
   "cell_type": "code",
   "execution_count": 5,
   "id": "3303aafd",
   "metadata": {},
   "outputs": [],
   "source": [
    "# Date, Year, Month\n",
    "df['Date'] = pd.to_datetime(df['Date'], format='%Y-%m')\n",
    "df['Year'] = df['Date'].dt.year\n",
    "df['Month'] = df['Date'].dt.month\n",
    "\n",
    "# SPI and SPEI Class\n",
    "df[f'{di}_{di_scale}_Class'] = pd.cut(df[f'{di}_{di_scale}'], bins=[-10, -2, -1.5, -1, 1, 1.5, 2, 10], labels=['ED', 'SD', 'MD', 'NN', 'MW', 'VW', 'EW'])\n",
    "\n",
    "# Month Sin & Cos\n",
    "df['Month_sin'] = np.sin(2 * np.pi * df['Month'] / 12)\n",
    "df['Month_cos'] = np.cos(2 * np.pi * df['Month'] / 12)\n",
    "        \n",
    "# LST Diff\n",
    "df['LST_Diff'] = df['LSTDay'] - df['LSTNight']\n",
    "\n",
    "# Convert to Category\n",
    "df['Station_ID'] = df['Station_ID'].astype('category')\n",
    "df['Year'] = df['Year'].astype('category')\n",
    "df['Month'] = df['Month'].astype('category')\n",
    "df[f'{di}_{di_scale}_Class'] = df[f'{di}_{di_scale}_Class'].astype('category')"
   ]
  },
  {
   "cell_type": "code",
   "execution_count": 6,
   "id": "d4284e6f",
   "metadata": {},
   "outputs": [],
   "source": [
    "df.dropna(inplace=True)\n",
    "df.sort_values(by=['Station_ID', 'Year', 'Month'], inplace=True)\n",
    "df.reset_index(drop=True, inplace=True)"
   ]
  },
  {
   "cell_type": "code",
   "execution_count": 7,
   "id": "1e02915e",
   "metadata": {},
   "outputs": [],
   "source": [
    "selected_columns_lag_roll = [\n",
    "    'ERA5_Precipitation',\n",
    "    'GPM_Precipitation',\n",
    "    'TRMM_Precipitation',\n",
    "    'TERRACLIMATE_Precipitation',\n",
    "    'PERSIANNCDR_Precipitation',\n",
    "    f'GPM_{di}_{di_scale}',\n",
    "    f'ERA5_{di}_{di_scale}',\n",
    "    'PET_MOD16A2GF',\n",
    "    'NDVI', 'EVI',\n",
    "    'LSTDay', 'LSTNight', 'LST',\n",
    "    'PCI_GPM', 'PCI_ERA5',\n",
    "    'VCI', 'TCI', 'VHI',\n",
    "    'CI_GPM', 'CI_ERA5',\n",
    "]\n",
    "\n",
    "# Add Lag\n",
    "for lag in range(1, 4):\n",
    "    for col in selected_columns_lag_roll:\n",
    "        df[f'{col}_lag_{lag}'] = df.groupby('Station_ID', observed=False)[col].shift(lag)\n",
    "\n",
    "\n",
    "# Add Mean and Std Roll\n",
    "for r in [3]:\n",
    "    for col in selected_columns_lag_roll:\n",
    "        df[f'{col}_roll_mean_{r}'] = df.groupby('Station_ID', observed=False)[col].transform(lambda x: x.rolling(window=r, min_periods=1).mean())\n",
    "        df[f'{col}_roll_std_{r}'] = df.groupby('Station_ID', observed=False)[col].transform(lambda x: x.rolling(window=r, min_periods=1).std())"
   ]
  },
  {
   "cell_type": "markdown",
   "id": "6a11e19b",
   "metadata": {},
   "source": [
    "# Remove all NA"
   ]
  },
  {
   "cell_type": "code",
   "execution_count": 8,
   "id": "689557a4",
   "metadata": {},
   "outputs": [],
   "source": [
    "df.dropna(inplace=True)\n",
    "df.reset_index(drop=True, inplace=True)"
   ]
  },
  {
   "cell_type": "markdown",
   "id": "059b02cb",
   "metadata": {},
   "source": [
    "# Station-wise Standardization"
   ]
  },
  {
   "cell_type": "code",
   "execution_count": 9,
   "id": "00653016",
   "metadata": {},
   "outputs": [
    {
     "name": "stdout",
     "output_type": "stream",
     "text": [
      "Removing classes with fewer than 2 samples: ['EW']\n",
      "Data shape after removing rare classes: (303, 126)\n",
      "\n",
      "--- Final Class Distribution ---\n",
      "SPEI_6_Class\n",
      "NN    199\n",
      "MD     37\n",
      "MW     31\n",
      "SD     20\n",
      "VW     13\n",
      "ED      3\n",
      "EW      0\n",
      "Name: count, dtype: int64\n",
      "Target Classes: ['ED' 'MD' 'MW' 'NN' 'SD' 'VW']\n",
      "Training set shape: (212, 126)\n",
      "Testing set shape: (91, 126)\n"
     ]
    }
   ],
   "source": [
    "# Define columns to exclude from features\n",
    "EXCLUDE_COLS = ['Station_Name', 'Station_ID', 'Date', f'{di}_{di_scale}_Class', f'{di}_{di_scale}', 'Year', 'Month']\n",
    "FEATURES = [col for col in df.columns if col not in EXCLUDE_COLS]\n",
    "\n",
    "# Station-wise standardization\n",
    "df_scaled = df.copy()\n",
    "for station in df_scaled['Station_Name'].unique():\n",
    "    station_mask = df_scaled['Station_Name'] == station\n",
    "    scaler = StandardScaler()\n",
    "    df_scaled.loc[station_mask, FEATURES] = scaler.fit_transform(df_scaled.loc[station_mask, FEATURES])\n",
    "\n",
    "\n",
    "class_counts = df_scaled[f'{di}_{di_scale}_Class'].value_counts()\n",
    "classes_to_remove = class_counts[class_counts < 2].index\n",
    "\n",
    "if not classes_to_remove.empty:\n",
    "    print(f\"Removing classes with fewer than 2 samples: {classes_to_remove.tolist()}\")\n",
    "    \n",
    "    # Filter the dataframe to exclude these rare classes\n",
    "    df_filtered = df_scaled[~df_scaled[f'{di}_{di_scale}_Class'].isin(classes_to_remove)].copy()\n",
    "    \n",
    "    # Redefine X and y from the filtered dataframe\n",
    "    X = df_filtered[FEATURES]\n",
    "    y = df_filtered[f'{di}_{di_scale}_Class']\n",
    "    \n",
    "    print(f\"Data shape after removing rare classes: {X.shape}\")\n",
    "    print(\"\\n--- Final Class Distribution ---\")\n",
    "    print(y.value_counts())\n",
    "else:\n",
    "    print(\"No classes with fewer than 2 samples found.\")\n",
    "    X = df_scaled[FEATURES]\n",
    "    y = df_scaled[f'{di}_{di_scale}_Class']\n",
    "\n",
    "# Encode the target variable\n",
    "le = LabelEncoder()\n",
    "y_encoded = le.fit_transform(y)\n",
    "\n",
    "# Split data into training and testing sets\n",
    "X_train, X_test, y_train, y_test = train_test_split(\n",
    "    X,\n",
    "    y_encoded,\n",
    "    test_size=0.30,\n",
    "    random_state=42,\n",
    "    stratify=y_encoded\n",
    ")\n",
    "\n",
    "print(f\"Target Classes: {le.classes_}\")\n",
    "print(f\"Training set shape: {X_train.shape}\")\n",
    "print(f\"Testing set shape: {X_test.shape}\")"
   ]
  },
  {
   "cell_type": "markdown",
   "id": "b2c0534b",
   "metadata": {},
   "source": [
    "# Feature Selection with RFECV"
   ]
  },
  {
   "cell_type": "code",
   "execution_count": 10,
   "id": "395cf562",
   "metadata": {},
   "outputs": [
    {
     "name": "stdout",
     "output_type": "stream",
     "text": [
      "Optimal number of features found: 1\n",
      "Selected features: ['GPM_SPEI_6']\n"
     ]
    },
    {
     "data": {
      "image/png": "[encoded data removed]",
      "text/plain": [
       "<Figure size 1200x800 with 1 Axes>"
      ]
     },
     "metadata": {},
     "output_type": "display_data"
    }
   ],
   "source": [
    "# The estimator that will be used by RFECV\n",
    "estimator = XGBClassifier(\n",
    "    random_state=42, \n",
    "    use_label_encoder=False, \n",
    "    eval_metric='mlogloss', \n",
    "    n_jobs=-1\n",
    ")\n",
    "\n",
    "# The RFECV object\n",
    "rfecv = RFECV(\n",
    "    estimator=estimator,\n",
    "    step=1,\n",
    "    cv=StratifiedKFold(5),\n",
    "    scoring='f1_macro',\n",
    "    n_jobs=-1\n",
    ")\n",
    "\n",
    "# Fit RFECV on the training data\n",
    "rfecv.fit(X_train, y_train)\n",
    "\n",
    "print(f\"Optimal number of features found: {rfecv.n_features_}\")\n",
    "\n",
    "# Get the final selected features\n",
    "final_features = X_train.columns[rfecv.support_]\n",
    "print(f\"Selected features: {final_features.tolist()}\")\n",
    "\n",
    "# --- Plot Feature Importances ---\n",
    "# The `rfecv.estimator_` attribute is the model trained on the full set of features\n",
    "# during the last step of the cross-validation process. We can use its feature importances.\n",
    "importances = rfecv.estimator_.feature_importances_\n",
    "feature_importance_df = pd.DataFrame({\n",
    "    'Feature': final_features,\n",
    "    'Importance': importances\n",
    "}).sort_values(by='Importance', ascending=False)\n",
    "\n",
    "# Plot only the selected features\n",
    "selected_feature_importances = feature_importance_df[feature_importance_df['Feature'].isin(final_features)]\n",
    "\n",
    "plt.figure(figsize=(12, 8))\n",
    "sns.barplot(x='Importance', y='Feature', data=selected_feature_importances)\n",
    "plt.title('Feature Importances for Selected Features (from RFECV)')\n",
    "plt.xlabel('Importance')\n",
    "plt.ylabel('Feature')\n",
    "plt.tight_layout()\n",
    "plt.show()\n",
    "\n",
    "\n",
    "# Update training and testing sets with selected features\n",
    "X_train_final = X_train[final_features]\n",
    "X_test_final = X_test[final_features]"
   ]
  },
  {
   "cell_type": "markdown",
   "id": "948efbdd",
   "metadata": {},
   "source": [
    "# Hyperparameter Tuning with Optuna"
   ]
  },
  {
   "cell_type": "code",
   "execution_count": 11,
   "id": "95b28a9a",
   "metadata": {},
   "outputs": [
    {
     "name": "stderr",
     "output_type": "stream",
     "text": [
      "[I 2025-08-22 20:57:19,857] A new study created in memory with name: no-name-7a6b2402-412c-44a8-b5fe-94743adfddf2\n",
      "[I 2025-08-22 20:57:21,374] Trial 0 finished with value: 0.21329762949956105 and parameters: {'n_estimators': 580, 'learning_rate': 0.016478651885444676, 'max_depth': 7, 'subsample': 0.865305288751677, 'colsample_bytree': 0.7358123064047265, 'gamma': 3.6631032666456105}. Best is trial 0 with value: 0.21329762949956105.\n",
      "[I 2025-08-22 20:57:23,522] Trial 1 finished with value: 0.239922908899662 and parameters: {'n_estimators': 796, 'learning_rate': 0.06117402354797565, 'max_depth': 9, 'subsample': 0.8593427439079551, 'colsample_bytree': 0.8971155343949982, 'gamma': 3.047328213925971}. Best is trial 1 with value: 0.239922908899662.\n",
      "[I 2025-08-22 20:57:25,168] Trial 2 finished with value: 0.14788650745050008 and parameters: {'n_estimators': 594, 'learning_rate': 0.017761954905248165, 'max_depth': 4, 'subsample': 0.7233675994911706, 'colsample_bytree': 0.8937153104904292, 'gamma': 4.854265813776844}. Best is trial 1 with value: 0.239922908899662.\n",
      "[I 2025-08-22 20:57:26,012] Trial 3 finished with value: 0.24553643546971027 and parameters: {'n_estimators': 368, 'learning_rate': 0.20637886326632163, 'max_depth': 10, 'subsample': 0.6028573576080755, 'colsample_bytree': 0.7725990099183844, 'gamma': 3.5616305027617328}. Best is trial 3 with value: 0.24553643546971027.\n",
      "[I 2025-08-22 20:57:27,309] Trial 4 finished with value: 0.25336100936100936 and parameters: {'n_estimators': 212, 'learning_rate': 0.01359543835207521, 'max_depth': 9, 'subsample': 0.6370728649798983, 'colsample_bytree': 0.6604546760220266, 'gamma': 0.30996094670799945}. Best is trial 4 with value: 0.25336100936100936.\n",
      "[I 2025-08-22 20:57:29,806] Trial 5 finished with value: 0.1962553759784343 and parameters: {'n_estimators': 845, 'learning_rate': 0.10956247034021703, 'max_depth': 3, 'subsample': 0.6208414237723309, 'colsample_bytree': 0.7357979494639671, 'gamma': 4.567284775799925}. Best is trial 4 with value: 0.25336100936100936.\n",
      "[I 2025-08-22 20:57:35,292] Trial 6 finished with value: 0.239922908899662 and parameters: {'n_estimators': 928, 'learning_rate': 0.0338384359743795, 'max_depth': 5, 'subsample': 0.9181176822939113, 'colsample_bytree': 0.9634579115958379, 'gamma': 2.6585571121200586}. Best is trial 4 with value: 0.25336100936100936.\n",
      "[I 2025-08-22 20:57:37,122] Trial 7 finished with value: 0.2308697688030436 and parameters: {'n_estimators': 294, 'learning_rate': 0.09551237243271718, 'max_depth': 6, 'subsample': 0.6186107436774553, 'colsample_bytree': 0.8072620214714684, 'gamma': 2.9935225574179065}. Best is trial 4 with value: 0.25336100936100936.\n",
      "[I 2025-08-22 20:57:38,741] Trial 8 finished with value: 0.24286976880304362 and parameters: {'n_estimators': 372, 'learning_rate': 0.1447820931577458, 'max_depth': 8, 'subsample': 0.7491992294649106, 'colsample_bytree': 0.9575932067311097, 'gamma': 3.4927839563462966}. Best is trial 4 with value: 0.25336100936100936.\n",
      "[I 2025-08-22 20:57:39,295] Trial 9 finished with value: 0.1928863388113286 and parameters: {'n_estimators': 174, 'learning_rate': 0.18159896090843858, 'max_depth': 10, 'subsample': 0.982307927596008, 'colsample_bytree': 0.7874433672674996, 'gamma': 4.084536538236712}. Best is trial 4 with value: 0.25336100936100936.\n",
      "[I 2025-08-22 20:57:40,687] Trial 10 finished with value: 0.24970249195249195 and parameters: {'n_estimators': 170, 'learning_rate': 0.010652541854868143, 'max_depth': 8, 'subsample': 0.7150786316082522, 'colsample_bytree': 0.60068095500868, 'gamma': 0.053099760207495184}. Best is trial 4 with value: 0.25336100936100936.\n",
      "[I 2025-08-22 20:57:41,933] Trial 11 finished with value: 0.2540882820882821 and parameters: {'n_estimators': 120, 'learning_rate': 0.011129848947592332, 'max_depth': 8, 'subsample': 0.7021084951297208, 'colsample_bytree': 0.605481721431625, 'gamma': 0.03386535812093805}. Best is trial 11 with value: 0.2540882820882821.\n",
      "[I 2025-08-22 20:57:43,685] Trial 12 finished with value: 0.2846861239119304 and parameters: {'n_estimators': 116, 'learning_rate': 0.02816295402493971, 'max_depth': 8, 'subsample': 0.6725863133973365, 'colsample_bytree': 0.6010152037259395, 'gamma': 0.051663995228313137}. Best is trial 12 with value: 0.2846861239119304.\n",
      "[I 2025-08-22 20:57:44,166] Trial 13 finished with value: 0.22288475945764946 and parameters: {'n_estimators': 100, 'learning_rate': 0.028122674851138816, 'max_depth': 7, 'subsample': 0.6880566194239903, 'colsample_bytree': 0.6039670597753337, 'gamma': 1.0271317843685497}. Best is trial 12 with value: 0.2846861239119304.\n",
      "[I 2025-08-22 20:57:45,642] Trial 14 finished with value: 0.22453258777799756 and parameters: {'n_estimators': 413, 'learning_rate': 0.02594408982170417, 'max_depth': 6, 'subsample': 0.7752477248454207, 'colsample_bytree': 0.6676936056485154, 'gamma': 1.6391436753657882}. Best is trial 12 with value: 0.2846861239119304.\n",
      "[I 2025-08-22 20:57:48,110] Trial 15 finished with value: 0.2271992544446642 and parameters: {'n_estimators': 270, 'learning_rate': 0.046550230796039475, 'max_depth': 8, 'subsample': 0.6902425986898243, 'colsample_bytree': 0.6605710235068609, 'gamma': 1.6693579883711238}. Best is trial 12 with value: 0.2846861239119304.\n",
      "[I 2025-08-22 20:57:48,962] Trial 16 finished with value: 0.2283963459104124 and parameters: {'n_estimators': 101, 'learning_rate': 0.020841438318285596, 'max_depth': 9, 'subsample': 0.810234278367803, 'colsample_bytree': 0.6858001002283448, 'gamma': 0.7749555389805654}. Best is trial 12 with value: 0.2846861239119304.\n",
      "[I 2025-08-22 20:57:54,702] Trial 17 finished with value: 0.227922908899662 and parameters: {'n_estimators': 510, 'learning_rate': 0.01015262066830443, 'max_depth': 7, 'subsample': 0.6701833990133911, 'colsample_bytree': 0.6172981689025426, 'gamma': 1.7816812703521316}. Best is trial 12 with value: 0.2846861239119304.\n",
      "[I 2025-08-22 20:57:56,746] Trial 18 finished with value: 0.2751821374340633 and parameters: {'n_estimators': 686, 'learning_rate': 0.04450816934158515, 'max_depth': 5, 'subsample': 0.8031317253501391, 'colsample_bytree': 0.7089654402499046, 'gamma': 0.7943267295829601}. Best is trial 12 with value: 0.2846861239119304.\n",
      "[I 2025-08-22 20:58:02,159] Trial 19 finished with value: 0.2680887767923156 and parameters: {'n_estimators': 705, 'learning_rate': 0.05420949800013699, 'max_depth': 5, 'subsample': 0.8188610385910418, 'colsample_bytree': 0.7054046166286261, 'gamma': 0.8658819855038009}. Best is trial 12 with value: 0.2846861239119304.\n",
      "[I 2025-08-22 20:58:05,007] Trial 20 finished with value: 0.22763554092965857 and parameters: {'n_estimators': 695, 'learning_rate': 0.04031014433562866, 'max_depth': 3, 'subsample': 0.7735944391568155, 'colsample_bytree': 0.844521730642992, 'gamma': 1.1864001207840391}. Best is trial 12 with value: 0.2846861239119304.\n",
      "[I 2025-08-22 20:58:07,228] Trial 21 finished with value: 0.2699330347072283 and parameters: {'n_estimators': 700, 'learning_rate': 0.06584354157104598, 'max_depth': 5, 'subsample': 0.8319591553769065, 'colsample_bytree': 0.7105635848484659, 'gamma': 0.6302319608745724}. Best is trial 12 with value: 0.2846861239119304.\n",
      "[I 2025-08-22 20:58:09,839] Trial 22 finished with value: 0.3086176540761237 and parameters: {'n_estimators': 709, 'learning_rate': 0.06928151260400064, 'max_depth': 5, 'subsample': 0.8481661219271817, 'colsample_bytree': 0.7274314960180269, 'gamma': 0.4486869967123671}. Best is trial 22 with value: 0.3086176540761237.\n",
      "[I 2025-08-22 20:58:11,607] Trial 23 finished with value: 0.2702066644648612 and parameters: {'n_estimators': 485, 'learning_rate': 0.08739113427533014, 'max_depth': 4, 'subsample': 0.9108947467755726, 'colsample_bytree': 0.7584874326254486, 'gamma': 0.45206424653423793}. Best is trial 22 with value: 0.3086176540761237.\n",
      "[I 2025-08-22 20:58:13,484] Trial 24 finished with value: 0.24164369888910864 and parameters: {'n_estimators': 785, 'learning_rate': 0.28141596003447406, 'max_depth': 4, 'subsample': 0.8953104292330704, 'colsample_bytree': 0.8234957549894528, 'gamma': 2.1841881998065036}. Best is trial 22 with value: 0.3086176540761237.\n",
      "[I 2025-08-22 20:58:15,123] Trial 25 finished with value: 0.2389278317039511 and parameters: {'n_estimators': 635, 'learning_rate': 0.0768841219191422, 'max_depth': 6, 'subsample': 0.7888514310705934, 'colsample_bytree': 0.636486980874813, 'gamma': 1.220651577416569}. Best is trial 22 with value: 0.3086176540761237.\n",
      "[I 2025-08-22 20:58:18,308] Trial 26 finished with value: 0.2606345366103431 and parameters: {'n_estimators': 953, 'learning_rate': 0.03732880752764794, 'max_depth': 5, 'subsample': 0.9531271152841799, 'colsample_bytree': 0.7379259157111246, 'gamma': 0.3826110338781845}. Best is trial 22 with value: 0.3086176540761237.\n",
      "[I 2025-08-22 20:58:21,137] Trial 27 finished with value: 0.22719925444466424 and parameters: {'n_estimators': 867, 'learning_rate': 0.02726001933373591, 'max_depth': 6, 'subsample': 0.8530113957582454, 'colsample_bytree': 0.7032884377362448, 'gamma': 1.4163411848396321}. Best is trial 22 with value: 0.3086176540761237.\n",
      "[I 2025-08-22 20:58:30,355] Trial 28 finished with value: 0.293263858298946 and parameters: {'n_estimators': 1000, 'learning_rate': 0.04929068286725146, 'max_depth': 4, 'subsample': 0.7493691675312606, 'colsample_bytree': 0.6373269807777702, 'gamma': 0.02559576010461262}. Best is trial 22 with value: 0.3086176540761237.\n",
      "[I 2025-08-22 20:58:34,959] Trial 29 finished with value: 0.293263858298946 and parameters: {'n_estimators': 886, 'learning_rate': 0.1201466938571623, 'max_depth': 4, 'subsample': 0.6680930744218384, 'colsample_bytree': 0.6393543743581807, 'gamma': 0.0014875907513141051}. Best is trial 22 with value: 0.3086176540761237.\n",
      "[I 2025-08-22 20:58:38,052] Trial 30 finished with value: 0.22453258777799756 and parameters: {'n_estimators': 986, 'learning_rate': 0.12640803924751345, 'max_depth': 4, 'subsample': 0.7526398382392212, 'colsample_bytree': 0.63050061806586, 'gamma': 2.137860873525806}. Best is trial 22 with value: 0.3086176540761237.\n",
      "[I 2025-08-22 20:58:43,095] Trial 31 finished with value: 0.2990083600386081 and parameters: {'n_estimators': 896, 'learning_rate': 0.05292183486163441, 'max_depth': 3, 'subsample': 0.6512575068388655, 'colsample_bytree': 0.6364111385427819, 'gamma': 0.07843844557399468}. Best is trial 22 with value: 0.3086176540761237.\n",
      "[I 2025-08-22 20:58:46,248] Trial 32 finished with value: 0.3150149763183065 and parameters: {'n_estimators': 897, 'learning_rate': 0.06690363202222124, 'max_depth': 3, 'subsample': 0.6457111293012341, 'colsample_bytree': 0.6445994928825666, 'gamma': 0.5537549564189717}. Best is trial 32 with value: 0.3150149763183065.\n",
      "[I 2025-08-22 20:58:48,931] Trial 33 finished with value: 0.2970620985205682 and parameters: {'n_estimators': 789, 'learning_rate': 0.06380674941408591, 'max_depth': 3, 'subsample': 0.6430755658866134, 'colsample_bytree': 0.6667717056318462, 'gamma': 0.556694095165249}. Best is trial 32 with value: 0.3150149763183065.\n",
      "[I 2025-08-22 20:58:52,386] Trial 34 finished with value: 0.29501987291460974 and parameters: {'n_estimators': 798, 'learning_rate': 0.07112594023318174, 'max_depth': 3, 'subsample': 0.6456781072620181, 'colsample_bytree': 0.6808456372770035, 'gamma': 0.4876036217190978}. Best is trial 32 with value: 0.3150149763183065.\n",
      "[I 2025-08-22 20:58:54,898] Trial 35 finished with value: 0.27311192033772685 and parameters: {'n_estimators': 775, 'learning_rate': 0.05887041413590714, 'max_depth': 3, 'subsample': 0.6022333767353937, 'colsample_bytree': 0.7338857982943339, 'gamma': 1.0570395901464367}. Best is trial 32 with value: 0.3150149763183065.\n",
      "[I 2025-08-22 20:58:58,316] Trial 36 finished with value: 0.30221719536389324 and parameters: {'n_estimators': 826, 'learning_rate': 0.08476690807249786, 'max_depth': 3, 'subsample': 0.6476902919523906, 'colsample_bytree': 0.6547363123791246, 'gamma': 0.36758902382532466}. Best is trial 32 with value: 0.3150149763183065.\n",
      "[I 2025-08-22 20:59:01,412] Trial 37 finished with value: 0.31424303590851616 and parameters: {'n_estimators': 908, 'learning_rate': 0.08338523341048029, 'max_depth': 3, 'subsample': 0.7226206276476894, 'colsample_bytree': 0.6880097568169782, 'gamma': 0.3794249869337429}. Best is trial 32 with value: 0.3150149763183065.\n",
      "[I 2025-08-22 20:59:03,333] Trial 38 finished with value: 0.26023084078637193 and parameters: {'n_estimators': 826, 'learning_rate': 0.08569106167657514, 'max_depth': 4, 'subsample': 0.7187716589738847, 'colsample_bytree': 0.754041827994085, 'gamma': 1.3849226185996615}. Best is trial 32 with value: 0.3150149763183065.\n",
      "[I 2025-08-22 20:59:05,107] Trial 39 finished with value: 0.30885662518668766 and parameters: {'n_estimators': 604, 'learning_rate': 0.10345441391793089, 'max_depth': 3, 'subsample': 0.624415014110739, 'colsample_bytree': 0.8788655417135358, 'gamma': 0.3236851214146467}. Best is trial 32 with value: 0.3150149763183065.\n",
      "[I 2025-08-22 20:59:06,598] Trial 40 finished with value: 0.29741282642089095 and parameters: {'n_estimators': 593, 'learning_rate': 0.16080558469864084, 'max_depth': 3, 'subsample': 0.6219070927097752, 'colsample_bytree': 0.8983022363035894, 'gamma': 0.8592213907054485}. Best is trial 32 with value: 0.3150149763183065.\n",
      "[I 2025-08-22 20:59:08,512] Trial 41 finished with value: 0.3021919571797214 and parameters: {'n_estimators': 742, 'learning_rate': 0.09890588343058426, 'max_depth': 3, 'subsample': 0.872507002154608, 'colsample_bytree': 0.8717697220857189, 'gamma': 0.37597074285366533}. Best is trial 32 with value: 0.3150149763183065.\n",
      "[I 2025-08-22 20:59:11,542] Trial 42 finished with value: 0.2973416933719414 and parameters: {'n_estimators': 940, 'learning_rate': 0.10696468443302774, 'max_depth': 4, 'subsample': 0.6287361669995637, 'colsample_bytree': 0.9477076299253472, 'gamma': 0.2515886270654646}. Best is trial 32 with value: 0.3150149763183065.\n",
      "[I 2025-08-22 20:59:13,339] Trial 43 finished with value: 0.282973216908833 and parameters: {'n_estimators': 629, 'learning_rate': 0.07418381508530135, 'max_depth': 3, 'subsample': 0.7330771794774817, 'colsample_bytree': 0.9943867274531438, 'gamma': 0.6246991206664528}. Best is trial 32 with value: 0.3150149763183065.\n",
      "[I 2025-08-22 20:59:15,891] Trial 44 finished with value: 0.2973416933719414 and parameters: {'n_estimators': 855, 'learning_rate': 0.132514931885306, 'max_depth': 3, 'subsample': 0.6640457299338749, 'colsample_bytree': 0.9271336464824705, 'gamma': 0.2818041942446801}. Best is trial 32 with value: 0.3150149763183065.\n",
      "[I 2025-08-22 20:59:18,308] Trial 45 finished with value: 0.23947944768137922 and parameters: {'n_estimators': 541, 'learning_rate': 0.22364883968045365, 'max_depth': 4, 'subsample': 0.6910473335157572, 'colsample_bytree': 0.6875032831162186, 'gamma': 3.02654943251898}. Best is trial 32 with value: 0.3150149763183065.\n",
      "[I 2025-08-22 20:59:26,760] Trial 46 finished with value: 0.23376139761550307 and parameters: {'n_estimators': 750, 'learning_rate': 0.09140509022771491, 'max_depth': 3, 'subsample': 0.6082699607527954, 'colsample_bytree': 0.7874545655139668, 'gamma': 4.5129994675744225}. Best is trial 32 with value: 0.3150149763183065.\n",
      "[I 2025-08-22 20:59:29,003] Trial 47 finished with value: 0.2700783240057434 and parameters: {'n_estimators': 919, 'learning_rate': 0.15702751253042482, 'max_depth': 5, 'subsample': 0.843964542303004, 'colsample_bytree': 0.7247270379691813, 'gamma': 0.9969842793909572}. Best is trial 32 with value: 0.3150149763183065.\n",
      "[I 2025-08-22 20:59:31,978] Trial 48 finished with value: 0.297628690325605 and parameters: {'n_estimators': 823, 'learning_rate': 0.08012205013994826, 'max_depth': 4, 'subsample': 0.7042352563440862, 'colsample_bytree': 0.8184810091307209, 'gamma': 0.25595260759999194}. Best is trial 32 with value: 0.3150149763183065.\n",
      "[I 2025-08-22 20:59:34,438] Trial 49 finished with value: 0.27790926969458674 and parameters: {'n_estimators': 747, 'learning_rate': 0.11067689183330032, 'max_depth': 3, 'subsample': 0.637480987897497, 'colsample_bytree': 0.8697033002018011, 'gamma': 0.6877059093475517}. Best is trial 32 with value: 0.3150149763183065.\n",
      "[I 2025-08-22 20:59:36,113] Trial 50 finished with value: 0.22719925444466424 and parameters: {'n_estimators': 666, 'learning_rate': 0.06321971035412405, 'max_depth': 4, 'subsample': 0.8796165906786013, 'colsample_bytree': 0.6630187002882113, 'gamma': 1.4005329970173737}. Best is trial 32 with value: 0.3150149763183065.\n",
      "[I 2025-08-22 20:59:38,726] Trial 51 finished with value: 0.32033428447097123 and parameters: {'n_estimators': 734, 'learning_rate': 0.09363676201445181, 'max_depth': 3, 'subsample': 0.874688832333281, 'colsample_bytree': 0.8723752742641561, 'gamma': 0.30325955947437}. Best is trial 51 with value: 0.32033428447097123.\n",
      "[I 2025-08-22 20:59:41,599] Trial 52 finished with value: 0.2983877596525171 and parameters: {'n_estimators': 834, 'learning_rate': 0.10295158883962692, 'max_depth': 3, 'subsample': 0.832122559344164, 'colsample_bytree': 0.9128904674878143, 'gamma': 0.24192959358244448}. Best is trial 51 with value: 0.32033428447097123.\n",
      "[I 2025-08-22 20:59:44,390] Trial 53 finished with value: 0.2593826680862069 and parameters: {'n_estimators': 559, 'learning_rate': 0.07130109128927486, 'max_depth': 3, 'subsample': 0.9366571258878575, 'colsample_bytree': 0.8447498148653345, 'gamma': 0.582184997085087}. Best is trial 51 with value: 0.32033428447097123.\n",
      "[I 2025-08-22 20:59:48,014] Trial 54 finished with value: 0.2506825214586409 and parameters: {'n_estimators': 618, 'learning_rate': 0.09212263995800377, 'max_depth': 3, 'subsample': 0.8923634860580294, 'colsample_bytree': 0.8744135993583808, 'gamma': 0.862039569615979}. Best is trial 51 with value: 0.32033428447097123.\n",
      "[I 2025-08-22 20:59:52,920] Trial 55 finished with value: 0.24284848484848487 and parameters: {'n_estimators': 657, 'learning_rate': 0.12269873396649147, 'max_depth': 4, 'subsample': 0.681888880170397, 'colsample_bytree': 0.6502669452784481, 'gamma': 3.6922569586458263}. Best is trial 51 with value: 0.32033428447097123.\n",
      "[I 2025-08-22 20:59:58,603] Trial 56 finished with value: 0.24485576689134345 and parameters: {'n_estimators': 905, 'learning_rate': 0.14137871231802468, 'max_depth': 7, 'subsample': 0.6140409046693788, 'colsample_bytree': 0.8505272507713544, 'gamma': 2.7266429351009287}. Best is trial 51 with value: 0.32033428447097123.\n",
      "[I 2025-08-22 21:00:04,198] Trial 57 finished with value: 0.3150791941006066 and parameters: {'n_estimators': 950, 'learning_rate': 0.0836832112896008, 'max_depth': 3, 'subsample': 0.6574520791248031, 'colsample_bytree': 0.6784044698983419, 'gamma': 0.4299945362831596}. Best is trial 51 with value: 0.32033428447097123.\n",
      "[I 2025-08-22 21:00:05,910] Trial 58 finished with value: 0.2750100357366354 and parameters: {'n_estimators': 495, 'learning_rate': 0.1906955575661308, 'max_depth': 5, 'subsample': 0.6572941400257273, 'colsample_bytree': 0.6781884095968662, 'gamma': 1.0525403350474642}. Best is trial 51 with value: 0.32033428447097123.\n",
      "[I 2025-08-22 21:00:11,348] Trial 59 finished with value: 0.29867134398168876 and parameters: {'n_estimators': 957, 'learning_rate': 0.0429269763523356, 'max_depth': 4, 'subsample': 0.7840496996169608, 'colsample_bytree': 0.6965355352703579, 'gamma': 0.18461981242099074}. Best is trial 51 with value: 0.32033428447097123.\n",
      "[I 2025-08-22 21:00:13,900] Trial 60 finished with value: 0.2686244910780299 and parameters: {'n_estimators': 873, 'learning_rate': 0.0573853624937139, 'max_depth': 10, 'subsample': 0.8601932464436122, 'colsample_bytree': 0.7208158707840633, 'gamma': 0.7374019991634222}. Best is trial 51 with value: 0.32033428447097123.\n",
      "[I 2025-08-22 21:00:18,880] Trial 61 finished with value: 0.31650555694257737 and parameters: {'n_estimators': 960, 'learning_rate': 0.07866564618374206, 'max_depth': 3, 'subsample': 0.6319516326750292, 'colsample_bytree': 0.6551111844485099, 'gamma': 0.4660332097551355}. Best is trial 51 with value: 0.32033428447097123.\n",
      "[I 2025-08-22 21:00:22,651] Trial 62 finished with value: 0.31636956530844523 and parameters: {'n_estimators': 982, 'learning_rate': 0.07147055072882243, 'max_depth': 3, 'subsample': 0.6248692340003843, 'colsample_bytree': 0.619416924257555, 'gamma': 0.4676563480894375}. Best is trial 51 with value: 0.32033428447097123.\n",
      "[I 2025-08-22 21:00:29,317] Trial 63 finished with value: 0.32010390114804427 and parameters: {'n_estimators': 972, 'learning_rate': 0.0808530421926589, 'max_depth': 3, 'subsample': 0.6299675559072068, 'colsample_bytree': 0.6179833233006565, 'gamma': 0.4949289879662639}. Best is trial 51 with value: 0.32033428447097123.\n",
      "[I 2025-08-22 21:00:35,828] Trial 64 finished with value: 0.2703271045893997 and parameters: {'n_estimators': 983, 'learning_rate': 0.08197814781316547, 'max_depth': 3, 'subsample': 0.634704637208294, 'colsample_bytree': 0.6188922812450108, 'gamma': 1.2553421264623508}. Best is trial 51 with value: 0.32033428447097123.\n",
      "[I 2025-08-22 21:00:39,780] Trial 65 finished with value: 0.2934918735230461 and parameters: {'n_estimators': 961, 'learning_rate': 0.05192763386113482, 'max_depth': 3, 'subsample': 0.6776513069396515, 'colsample_bytree': 0.6136640528065094, 'gamma': 0.5573765144399059}. Best is trial 51 with value: 0.32033428447097123.\n",
      "[I 2025-08-22 21:00:43,765] Trial 66 finished with value: 0.27851530982678524 and parameters: {'n_estimators': 912, 'learning_rate': 0.06369011042517887, 'max_depth': 3, 'subsample': 0.6015028152017992, 'colsample_bytree': 0.6217229858085512, 'gamma': 0.8987718731184039}. Best is trial 51 with value: 0.32033428447097123.\n",
      "[I 2025-08-22 21:00:46,684] Trial 67 finished with value: 0.2281824421670969 and parameters: {'n_estimators': 936, 'learning_rate': 0.03259108918542183, 'max_depth': 4, 'subsample': 0.986529641827157, 'colsample_bytree': 0.6526551792191282, 'gamma': 0.714758325284668}. Best is trial 51 with value: 0.32033428447097123.\n",
      "[I 2025-08-22 21:00:50,069] Trial 68 finished with value: 0.29558777153030025 and parameters: {'n_estimators': 978, 'learning_rate': 0.11431138334720806, 'max_depth': 9, 'subsample': 0.7007976495667023, 'colsample_bytree': 0.6022101466026406, 'gamma': 0.16666893365248214}. Best is trial 51 with value: 0.32033428447097123.\n",
      "[I 2025-08-22 21:00:52,711] Trial 69 finished with value: 0.312063656843927 and parameters: {'n_estimators': 877, 'learning_rate': 0.09349042542582864, 'max_depth': 3, 'subsample': 0.6572243109729686, 'colsample_bytree': 0.6430147565294335, 'gamma': 0.4685870515702693}. Best is trial 51 with value: 0.32033428447097123.\n",
      "[I 2025-08-22 21:00:54,952] Trial 70 finished with value: 0.23506761649915445 and parameters: {'n_estimators': 925, 'learning_rate': 0.07383178681371122, 'max_depth': 4, 'subsample': 0.611946736451109, 'colsample_bytree': 0.673781680935173, 'gamma': 1.788458023866913}. Best is trial 51 with value: 0.32033428447097123.\n",
      "[I 2025-08-22 21:00:57,233] Trial 71 finished with value: 0.3154273567264461 and parameters: {'n_estimators': 886, 'learning_rate': 0.09680728198808866, 'max_depth': 3, 'subsample': 0.6614167217229814, 'colsample_bytree': 0.69034439821666, 'gamma': 0.4971628118729119}. Best is trial 51 with value: 0.32033428447097123.\n",
      "[I 2025-08-22 21:01:00,848] Trial 72 finished with value: 0.29558777153030025 and parameters: {'n_estimators': 996, 'learning_rate': 0.08113805084348841, 'max_depth': 3, 'subsample': 0.7304066555533137, 'colsample_bytree': 0.6275103414219049, 'gamma': 0.11811245179419272}. Best is trial 51 with value: 0.32033428447097123.\n",
      "[I 2025-08-22 21:01:03,728] Trial 73 finished with value: 0.32091746047007813 and parameters: {'n_estimators': 964, 'learning_rate': 0.0680179571443255, 'max_depth': 3, 'subsample': 0.6331773499140159, 'colsample_bytree': 0.6937412832920211, 'gamma': 0.4721164139581608}. Best is trial 73 with value: 0.32091746047007813.\n",
      "[I 2025-08-22 21:01:06,261] Trial 74 finished with value: 0.2813952697718417 and parameters: {'n_estimators': 964, 'learning_rate': 0.06779965773606404, 'max_depth': 3, 'subsample': 0.6327561994507892, 'colsample_bytree': 0.6124294965791313, 'gamma': 0.6843603402348921}. Best is trial 73 with value: 0.32091746047007813.\n",
      "[I 2025-08-22 21:01:12,255] Trial 75 finished with value: 0.26562642093789635 and parameters: {'n_estimators': 938, 'learning_rate': 0.05862240667158163, 'max_depth': 3, 'subsample': 0.6618445661258161, 'colsample_bytree': 0.6458736850454558, 'gamma': 1.0056268094144392}. Best is trial 73 with value: 0.32091746047007813.\n",
      "[I 2025-08-22 21:01:15,948] Trial 76 finished with value: 0.26940052062632713 and parameters: {'n_estimators': 888, 'learning_rate': 0.01353771248008677, 'max_depth': 3, 'subsample': 0.6442928392818299, 'colsample_bytree': 0.6957406063602553, 'gamma': 0.49783112432194393}. Best is trial 73 with value: 0.32091746047007813.\n",
      "[I 2025-08-22 21:01:18,394] Trial 77 finished with value: 0.2764489579255576 and parameters: {'n_estimators': 858, 'learning_rate': 0.048929420366052065, 'max_depth': 4, 'subsample': 0.6212467981295723, 'colsample_bytree': 0.668217243798565, 'gamma': 0.799280878093362}. Best is trial 73 with value: 0.32091746047007813.\n",
      "[I 2025-08-22 21:01:21,525] Trial 78 finished with value: 0.25965407391636897 and parameters: {'n_estimators': 1000, 'learning_rate': 0.09691945330016534, 'max_depth': 3, 'subsample': 0.66986492687313, 'colsample_bytree': 0.6281454392265565, 'gamma': 1.1343463335364419}. Best is trial 73 with value: 0.32091746047007813.\n",
      "[I 2025-08-22 21:01:23,913] Trial 79 finished with value: 0.24284848484848487 and parameters: {'n_estimators': 962, 'learning_rate': 0.07637056511045434, 'max_depth': 4, 'subsample': 0.6521153344237882, 'colsample_bytree': 0.7138209077614496, 'gamma': 3.2691760320782097}. Best is trial 73 with value: 0.32091746047007813.\n",
      "[I 2025-08-22 21:01:27,335] Trial 80 finished with value: 0.30190651451570993 and parameters: {'n_estimators': 939, 'learning_rate': 0.06724389993003622, 'max_depth': 3, 'subsample': 0.6288798584494456, 'colsample_bytree': 0.749769784923585, 'gamma': 0.13485027778945335}. Best is trial 73 with value: 0.32091746047007813.\n",
      "[I 2025-08-22 21:01:30,559] Trial 81 finished with value: 0.30715509963552046 and parameters: {'n_estimators': 905, 'learning_rate': 0.08273719578881092, 'max_depth': 3, 'subsample': 0.6864729692810335, 'colsample_bytree': 0.688306571200946, 'gamma': 0.4242350547227894}. Best is trial 73 with value: 0.32091746047007813.\n",
      "[I 2025-08-22 21:01:32,431] Trial 82 finished with value: 0.3174269852897249 and parameters: {'n_estimators': 444, 'learning_rate': 0.08679032961201245, 'max_depth': 3, 'subsample': 0.6383226780713562, 'colsample_bytree': 0.7692337272968008, 'gamma': 0.37398384267873747}. Best is trial 73 with value: 0.32091746047007813.\n",
      "[I 2025-08-22 21:01:34,901] Trial 83 finished with value: 0.2821590288445127 and parameters: {'n_estimators': 429, 'learning_rate': 0.08865395224769756, 'max_depth': 3, 'subsample': 0.6188869014784598, 'colsample_bytree': 0.7945302044614464, 'gamma': 0.5860045941853539}. Best is trial 73 with value: 0.32091746047007813.\n",
      "[I 2025-08-22 21:01:37,988] Trial 84 finished with value: 0.3280504153724493 and parameters: {'n_estimators': 435, 'learning_rate': 0.05595581362478942, 'max_depth': 3, 'subsample': 0.6407213933195237, 'colsample_bytree': 0.6598656634153118, 'gamma': 0.35148766805542137}. Best is trial 84 with value: 0.3280504153724493.\n",
      "[I 2025-08-22 21:01:40,110] Trial 85 finished with value: 0.31102480421042034 and parameters: {'n_estimators': 350, 'learning_rate': 0.053151377766843984, 'max_depth': 3, 'subsample': 0.6365834246399046, 'colsample_bytree': 0.6595318343066846, 'gamma': 0.352481813258359}. Best is trial 84 with value: 0.3280504153724493.\n",
      "[I 2025-08-22 21:01:48,414] Trial 86 finished with value: 0.29810488080179554 and parameters: {'n_estimators': 439, 'learning_rate': 0.057468900722876894, 'max_depth': 4, 'subsample': 0.6130432239976247, 'colsample_bytree': 0.6723147551012133, 'gamma': 0.008969395768102517}. Best is trial 84 with value: 0.3280504153724493.\n",
      "[I 2025-08-22 21:01:49,505] Trial 87 finished with value: 0.26940676447551115 and parameters: {'n_estimators': 396, 'learning_rate': 0.11184309834002078, 'max_depth': 3, 'subsample': 0.6514690203540886, 'colsample_bytree': 0.7412978761496449, 'gamma': 0.919395707094675}. Best is trial 84 with value: 0.3280504153724493.\n",
      "[I 2025-08-22 21:01:52,725] Trial 88 finished with value: 0.29810488080179554 and parameters: {'n_estimators': 465, 'learning_rate': 0.09980086550356548, 'max_depth': 3, 'subsample': 0.6706418149254075, 'colsample_bytree': 0.7009985631528858, 'gamma': 0.20612263718332477}. Best is trial 84 with value: 0.3280504153724493.\n",
      "[I 2025-08-22 21:01:54,288] Trial 89 finished with value: 0.2869503517077552 and parameters: {'n_estimators': 350, 'learning_rate': 0.13448657299359362, 'max_depth': 4, 'subsample': 0.9737839524510247, 'colsample_bytree': 0.8310803778757506, 'gamma': 0.3345579326195871}. Best is trial 84 with value: 0.3280504153724493.\n",
      "[I 2025-08-22 21:01:56,084] Trial 90 finished with value: 0.2741863316629313 and parameters: {'n_estimators': 528, 'learning_rate': 0.07492915302939987, 'max_depth': 3, 'subsample': 0.6007120025922894, 'colsample_bytree': 0.8065456425822222, 'gamma': 0.6762236993036701}. Best is trial 84 with value: 0.3280504153724493.\n",
      "[I 2025-08-22 21:01:58,742] Trial 91 finished with value: 0.2978902831403424 and parameters: {'n_estimators': 975, 'learning_rate': 0.06218989551641488, 'max_depth': 3, 'subsample': 0.6414577425431457, 'colsample_bytree': 0.776016402343349, 'gamma': 0.5136073518338132}. Best is trial 84 with value: 0.3280504153724493.\n",
      "[I 2025-08-22 21:02:00,218] Trial 92 finished with value: 0.3318496175270369 and parameters: {'n_estimators': 460, 'learning_rate': 0.0712973148653532, 'max_depth': 3, 'subsample': 0.6258482339876247, 'colsample_bytree': 0.6363850816226259, 'gamma': 0.45231731996012736}. Best is trial 92 with value: 0.3318496175270369.\n",
      "[I 2025-08-22 21:02:01,871] Trial 93 finished with value: 0.2670792998058995 and parameters: {'n_estimators': 464, 'learning_rate': 0.08816824455041541, 'max_depth': 3, 'subsample': 0.6240763635188894, 'colsample_bytree': 0.636901585984389, 'gamma': 0.7807787906029215}. Best is trial 92 with value: 0.3318496175270369.\n",
      "[I 2025-08-22 21:02:03,436] Trial 94 finished with value: 0.2888296055796056 and parameters: {'n_estimators': 310, 'learning_rate': 0.07851334473743707, 'max_depth': 3, 'subsample': 0.6274114009576538, 'colsample_bytree': 0.6563148081193351, 'gamma': 0.42750729591964653}. Best is trial 92 with value: 0.3318496175270369.\n",
      "[I 2025-08-22 21:02:05,286] Trial 95 finished with value: 0.3128772161659609 and parameters: {'n_estimators': 401, 'learning_rate': 0.07104161246794595, 'max_depth': 3, 'subsample': 0.6608688098351925, 'colsample_bytree': 0.6114346157038067, 'gamma': 0.28849494295340117}. Best is trial 92 with value: 0.3318496175270369.\n",
      "[I 2025-08-22 21:02:07,572] Trial 96 finished with value: 0.29810488080179554 and parameters: {'n_estimators': 454, 'learning_rate': 0.10421651397164863, 'max_depth': 3, 'subsample': 0.6084307227944531, 'colsample_bytree': 0.6821334912421514, 'gamma': 0.13732681735841004}. Best is trial 92 with value: 0.3318496175270369.\n",
      "[I 2025-08-22 21:02:09,686] Trial 97 finished with value: 0.29040546468045153 and parameters: {'n_estimators': 506, 'learning_rate': 0.04694219650095627, 'max_depth': 4, 'subsample': 0.6365053989306056, 'colsample_bytree': 0.6262597588969798, 'gamma': 0.6211435235021379}. Best is trial 92 with value: 0.3318496175270369.\n",
      "[I 2025-08-22 21:02:11,817] Trial 98 finished with value: 0.2812891095672328 and parameters: {'n_estimators': 477, 'learning_rate': 0.11945748684799277, 'max_depth': 3, 'subsample': 0.6543495352770674, 'colsample_bytree': 0.7152857982651443, 'gamma': 0.47726155602879594}. Best is trial 92 with value: 0.3318496175270369.\n",
      "[I 2025-08-22 21:02:12,778] Trial 99 finished with value: 0.2271992544446642 and parameters: {'n_estimators': 371, 'learning_rate': 0.09624229791616068, 'max_depth': 3, 'subsample': 0.6777723646982323, 'colsample_bytree': 0.6634795016616969, 'gamma': 2.1441470402355978}. Best is trial 92 with value: 0.3318496175270369.\n"
     ]
    },
    {
     "name": "stdout",
     "output_type": "stream",
     "text": [
      "Best trial found: 92\n",
      "Best Macro-F1 Score: 0.3318496175270369\n",
      "Best Hyperparameters:\n",
      "{'n_estimators': 460, 'learning_rate': 0.0712973148653532, 'max_depth': 3, 'subsample': 0.6258482339876247, 'colsample_bytree': 0.6363850816226259, 'gamma': 0.45231731996012736}\n"
     ]
    }
   ],
   "source": [
    "def objective(trial):\n",
    "    \"\"\"Define the objective function for Optuna to optimize.\"\"\"\n",
    "    params = {\n",
    "        'n_estimators': trial.suggest_int('n_estimators', 100, 1000),\n",
    "        'learning_rate': trial.suggest_float('learning_rate', 0.01, 0.3, log=True),\n",
    "        'max_depth': trial.suggest_int('max_depth', 3, 10),\n",
    "        'subsample': trial.suggest_float('subsample', 0.6, 1.0),\n",
    "        'colsample_bytree': trial.suggest_float('colsample_bytree', 0.6, 1.0),\n",
    "        'gamma': trial.suggest_float('gamma', 0, 5),\n",
    "        'random_state': 42,\n",
    "        'use_label_encoder': False,\n",
    "        'eval_metric': 'mlogloss',\n",
    "        'n_jobs': -1\n",
    "    }\n",
    "\n",
    "    model = XGBClassifier(**params)\n",
    "\n",
    "    # Stratified K-Fold Cross-Validation\n",
    "    skf = StratifiedKFold(n_splits=5, shuffle=True, random_state=42)\n",
    "    f1_scores = []\n",
    "    \n",
    "    for train_idx, val_idx in skf.split(X_train_final, y_train):\n",
    "        X_train_fold, X_val_fold = X_train_final.iloc[train_idx], X_train_final.iloc[val_idx]\n",
    "        y_train_fold, y_val_fold = y_train[train_idx], y_train[val_idx]\n",
    "        \n",
    "        model.fit(X_train_fold, y_train_fold)\n",
    "        preds = model.predict(X_val_fold)\n",
    "        f1_scores.append(f1_score(y_val_fold, preds, average='macro'))\n",
    "        \n",
    "    return np.mean(f1_scores)\n",
    "\n",
    "# Create a study object and optimize\n",
    "study = optuna.create_study(direction='maximize')\n",
    "study.optimize(objective, n_trials=100, timeout=600) # 50 trials or 10 minutes\n",
    "\n",
    "print(f\"Best trial found: {study.best_trial.number}\")\n",
    "print(f\"Best Macro-F1 Score: {study.best_value}\")\n",
    "print(\"Best Hyperparameters:\")\n",
    "print(study.best_params)\n"
   ]
  },
  {
   "cell_type": "markdown",
   "id": "48541f6a",
   "metadata": {},
   "source": [
    "# Model Training & Evaluation"
   ]
  },
  {
   "cell_type": "code",
   "execution_count": 12,
   "id": "8e6cdd2c",
   "metadata": {},
   "outputs": [
    {
     "name": "stdout",
     "output_type": "stream",
     "text": [
      "Overall Accuracy: 0.6264\n",
      "Macro-F1 Score: 0.1835\n",
      "Cohen's Kappa: 0.0870\n",
      "\n",
      "Classification Report:\n",
      "              precision    recall  f1-score   support\n",
      "\n",
      "          ED       0.00      0.00      0.00         1\n",
      "          MD       0.25      0.09      0.13        11\n",
      "          MW       0.00      0.00      0.00         9\n",
      "          NN       0.69      0.92      0.79        60\n",
      "          SD       0.20      0.17      0.18         6\n",
      "          VW       0.00      0.00      0.00         4\n",
      "\n",
      "    accuracy                           0.63        91\n",
      "   macro avg       0.19      0.20      0.18        91\n",
      "weighted avg       0.50      0.63      0.55        91\n",
      "\n",
      "\n",
      "--- Plotting Confusion Matrix ---\n"
     ]
    },
    {
     "data": {
      "image/png": "[encoded data removed]",
      "text/plain": [
       "<Figure size 1000x800 with 2 Axes>"
      ]
     },
     "metadata": {},
     "output_type": "display_data"
    }
   ],
   "source": [
    "# Get best hyperparameters\n",
    "best_params = study.best_params\n",
    "best_params['random_state'] = 42\n",
    "best_params['use_label_encoder'] = False\n",
    "best_params['eval_metric'] = 'mlogloss'\n",
    "best_params['n_jobs'] = -1\n",
    "\n",
    "# Train the final model\n",
    "final_model = XGBClassifier(**best_params)\n",
    "final_model.fit(X_train_final, y_train)\n",
    "\n",
    "# Make predictions on the test set\n",
    "y_pred = final_model.predict(X_test_final)\n",
    "\n",
    "# Evaluate the model\n",
    "accuracy = accuracy_score(y_test, y_pred)\n",
    "macro_f1 = f1_score(y_test, y_pred, average='macro')\n",
    "kappa = cohen_kappa_score(y_test, y_pred)\n",
    "\n",
    "print(f\"Overall Accuracy: {accuracy:.4f}\")\n",
    "print(f\"Macro-F1 Score: {macro_f1:.4f}\")\n",
    "print(f\"Cohen's Kappa: {kappa:.4f}\")\n",
    "\n",
    "print(\"\\nClassification Report:\")\n",
    "print(classification_report(y_test, y_pred, target_names=le.classes_))\n",
    "\n",
    "\n",
    "# --- Plot Confusion Matrix ---\n",
    "print(\"\\n--- Plotting Confusion Matrix ---\")\n",
    "cm = confusion_matrix(y_test, y_pred)\n",
    "plt.figure(figsize=(10, 8))\n",
    "sns.heatmap(cm, annot=True, fmt='d', cmap='Blues', xticklabels=le.classes_, yticklabels=le.classes_)\n",
    "plt.title('Confusion Matrix')\n",
    "plt.ylabel('Actual')\n",
    "plt.xlabel('Predicted')\n",
    "plt.show()"
   ]
  },
  {
   "cell_type": "markdown",
   "id": "a065bac3",
   "metadata": {},
   "source": [
    "# Explainability with SHAP"
   ]
  },
  {
   "cell_type": "code",
   "execution_count": 14,
   "id": "410e324e",
   "metadata": {},
   "outputs": [
    {
     "name": "stdout",
     "output_type": "stream",
     "text": [
      "\n",
      "Generating SHAP Summary Bar Plot...\n"
     ]
    },
    {
     "data": {
      "image/png": "[encoded data removed]",
      "text/plain": [
       "<Figure size 800x190 with 1 Axes>"
      ]
     },
     "metadata": {},
     "output_type": "display_data"
    },
    {
     "name": "stdout",
     "output_type": "stream",
     "text": [
      "\n",
      "Generating SHAP Summary Beeswarm Plot...\n"
     ]
    },
    {
     "ename": "IndexError",
     "evalue": "index 1 is out of bounds for axis 1 with size 1",
     "output_type": "error",
     "traceback": [
      "\u001b[31m---------------------------------------------------------------------------\u001b[39m",
      "\u001b[31mIndexError\u001b[39m                                Traceback (most recent call last)",
      "\u001b[36mCell\u001b[39m\u001b[36m \u001b[39m\u001b[32mIn[14]\u001b[39m\u001b[32m, line 17\u001b[39m\n\u001b[32m     15\u001b[39m \u001b[38;5;28mprint\u001b[39m(\u001b[33m\"\u001b[39m\u001b[38;5;130;01m\\n\u001b[39;00m\u001b[33mGenerating SHAP Summary Beeswarm Plot...\u001b[39m\u001b[33m\"\u001b[39m)\n\u001b[32m     16\u001b[39m plt.figure()\n\u001b[32m---> \u001b[39m\u001b[32m17\u001b[39m \u001b[43mshap\u001b[49m\u001b[43m.\u001b[49m\u001b[43msummary_plot\u001b[49m\u001b[43m(\u001b[49m\u001b[43mshap_values\u001b[49m\u001b[43m,\u001b[49m\u001b[43m \u001b[49m\u001b[43mX_test_final\u001b[49m\u001b[43m,\u001b[49m\u001b[43m \u001b[49m\u001b[43mclass_names\u001b[49m\u001b[43m=\u001b[49m\u001b[43mle\u001b[49m\u001b[43m.\u001b[49m\u001b[43mclasses_\u001b[49m\u001b[43m,\u001b[49m\u001b[43m \u001b[49m\u001b[43mshow\u001b[49m\u001b[43m=\u001b[49m\u001b[38;5;28;43;01mFalse\u001b[39;49;00m\u001b[43m,\u001b[49m\u001b[43m  \u001b[49m\u001b[43mplot_type\u001b[49m\u001b[43m=\u001b[49m\u001b[33;43m\"\u001b[39;49m\u001b[33;43mviolin\u001b[39;49m\u001b[33;43m\"\u001b[39;49m\u001b[43m)\u001b[49m\n\u001b[32m     18\u001b[39m plt.title(\u001b[33m\"\u001b[39m\u001b[33mSHAP Summary Plot (Beeswarm)\u001b[39m\u001b[33m\"\u001b[39m)\n\u001b[32m     19\u001b[39m plt.tight_layout()\n",
      "\u001b[36mFile \u001b[39m\u001b[32m~/w/DroughtMonitoringIran/.venv/lib/python3.12/site-packages/shap/plots/_beeswarm.py:721\u001b[39m, in \u001b[36msummary_legacy\u001b[39m\u001b[34m(shap_values, features, feature_names, max_display, plot_type, color, axis_color, title, alpha, show, sort, color_bar, plot_size, layered_violin_max_num_bins, class_names, class_inds, color_bar_label, cmap, show_values_in_legend, use_log_scale, rng)\u001b[39m\n\u001b[32m    719\u001b[39m plt.figure(figsize=(\u001b[32m1.5\u001b[39m * max_display + \u001b[32m1\u001b[39m, \u001b[32m0.8\u001b[39m * max_display + \u001b[32m1\u001b[39m))\n\u001b[32m    720\u001b[39m plt.subplot(\u001b[32m1\u001b[39m, max_display, \u001b[32m1\u001b[39m)\n\u001b[32m--> \u001b[39m\u001b[32m721\u001b[39m proj_shap_values = \u001b[43mshap_values\u001b[49m\u001b[43m[\u001b[49m\u001b[43m:\u001b[49m\u001b[43m,\u001b[49m\u001b[43m \u001b[49m\u001b[43msort_inds\u001b[49m\u001b[43m[\u001b[49m\u001b[32;43m0\u001b[39;49m\u001b[43m]\u001b[49m\u001b[43m,\u001b[49m\u001b[43m \u001b[49m\u001b[43msort_inds\u001b[49m\u001b[43m]\u001b[49m\n\u001b[32m    722\u001b[39m proj_shap_values[:, \u001b[32m1\u001b[39m:] *= \u001b[32m2\u001b[39m  \u001b[38;5;66;03m# because off diag effects are split in half\u001b[39;00m\n\u001b[32m    723\u001b[39m summary_legacy(\n\u001b[32m    724\u001b[39m     proj_shap_values,\n\u001b[32m    725\u001b[39m     features[:, sort_inds] \u001b[38;5;28;01mif\u001b[39;00m features \u001b[38;5;129;01mis\u001b[39;00m \u001b[38;5;129;01mnot\u001b[39;00m \u001b[38;5;28;01mNone\u001b[39;00m \u001b[38;5;28;01melse\u001b[39;00m \u001b[38;5;28;01mNone\u001b[39;00m,\n\u001b[32m   (...)\u001b[39m\u001b[32m    731\u001b[39m     max_display=max_display,\n\u001b[32m    732\u001b[39m )\n",
      "\u001b[31mIndexError\u001b[39m: index 1 is out of bounds for axis 1 with size 1"
     ]
    },
    {
     "data": {
      "text/plain": [
       "<Figure size 640x480 with 0 Axes>"
      ]
     },
     "metadata": {},
     "output_type": "display_data"
    },
    {
     "data": {
      "image/png": "[encoded data removed]",
      "text/plain": [
       "<Figure size 1150x660 with 1 Axes>"
      ]
     },
     "metadata": {},
     "output_type": "display_data"
    }
   ],
   "source": [
    "# Create SHAP explainer for the final model\n",
    "# Using a subset of the training data for the background is a common practice for performance\n",
    "explainer = shap.TreeExplainer(final_model, X_train_final.sample(100, random_state=42))\n",
    "shap_values = explainer.shap_values(X_test_final)\n",
    "\n",
    "# SHAP Summary Plot (Bar)\n",
    "print(\"\\nGenerating SHAP Summary Bar Plot...\")\n",
    "plt.figure()\n",
    "shap.summary_plot(shap_values, X_test_final, plot_type=\"bar\", class_names=le.classes_, show=False)\n",
    "plt.title(\"SHAP Summary Plot (Global Feature Importance)\")\n",
    "plt.tight_layout()\n",
    "plt.show()\n",
    "\n",
    "# SHAP Summary Plot (Beeswarm)\n",
    "print(\"\\nGenerating SHAP Summary Beeswarm Plot...\")\n",
    "plt.figure()\n",
    "shap.summary_plot(shap_values, X_test_final, class_names=le.classes_, show=False,  plot_type=\"violin\")\n",
    "plt.title(\"SHAP Summary Plot (Beeswarm)\")\n",
    "plt.tight_layout()\n",
    "plt.show()"
   ]
  }
 ],
 "metadata": {
  "kernelspec": {
   "display_name": "droughtmonitoringiran (3.12.3)",
   "language": "python",
   "name": "python3"
  },
  "language_info": {
   "codemirror_mode": {
    "name": "ipython",
    "version": 3
   },
   "file_extension": ".py",
   "mimetype": "text/x-python",
   "name": "python",
   "nbconvert_exporter": "python",
   "pygments_lexer": "ipython3",
   "version": "3.12.3"
  }
 },
 "nbformat": 4,
 "nbformat_minor": 5
}
