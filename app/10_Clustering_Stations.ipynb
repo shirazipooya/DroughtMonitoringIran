{
 "cells": [
  {
   "cell_type": "code",
   "execution_count": 1,
   "metadata": {},
   "outputs": [],
   "source": [
    "import os\n",
    "import sys\n",
    "import sqlite3\n",
    "import numpy as np\n",
    "import pandas as pd\n",
    "import geopandas as gpd\n",
    "import plotly.express as px\n",
    "import plotly.graph_objects as go\n",
    "import matplotlib.pyplot as plt\n",
    "import seaborn as sns\n",
    "import scipy.stats as scs\n",
    "from sklearn.preprocessing import StandardScaler\n",
    "from sklearn.cluster import KMeans\n",
    "from scipy.cluster.hierarchy import dendrogram, linkage\n",
    "from scipy.cluster.hierarchy import fcluster\n",
    "from sklearn.cluster import DBSCAN\n"
   ]
  },
  {
   "cell_type": "code",
   "execution_count": 2,
   "metadata": {},
   "outputs": [],
   "source": [
    "sys.path.append('/home/pooya/w/DroughtMonitoringIran/')\n",
    "\n",
    "DATABASE_PATH = \"./database/database.db\""
   ]
  },
  {
   "cell_type": "markdown",
   "metadata": {},
   "source": [
    "### Monthly Data"
   ]
  },
  {
   "cell_type": "code",
   "execution_count": 3,
   "metadata": {},
   "outputs": [],
   "source": [
    "conn = sqlite3.connect(DATABASE_PATH)\n",
    "\n",
    "data = pd.read_sql(sql='SELECT * FROM data', con=conn)\n",
    "data['Date'] = pd.to_datetime(data['Date'])\n",
    "# data['Date'] = data[\"Date\"].dt.to_period(\"M\").astype(str)\n",
    "data['Station_ID'] = data['Station_ID'].astype(str)\n",
    "\n",
    "conn.close()"
   ]
  },
  {
   "cell_type": "markdown",
   "metadata": {},
   "source": [
    "### Prepare the Data"
   ]
  },
  {
   "cell_type": "code",
   "execution_count": 4,
   "metadata": {},
   "outputs": [],
   "source": [
    "# Aggregate the data by station\n",
    "station_data = data.groupby([\"Station_ID\", \"Station_Name\", data[\"Date\"].dt.year]).agg({\n",
    "    'Temperature': 'mean',\n",
    "    'Temperature_Maximum': 'mean',\n",
    "    'Temperature_Minimum': 'mean',\n",
    "    'Precipitation': 'sum',\n",
    "    'Station_Elevation': 'first',\n",
    "}).groupby([\"Station_ID\", \"Station_Name\"]).agg({\n",
    "    'Temperature': 'mean',\n",
    "    'Temperature_Maximum': 'mean',\n",
    "    'Temperature_Minimum': 'mean',\n",
    "    'Precipitation': 'mean',\n",
    "    'Station_Elevation': 'first',\n",
    "}).reset_index()\n",
    "\n",
    "station_data['DT'] = station_data['Temperature_Maximum'] - station_data['Temperature_Minimum']\n",
    "\n",
    "# Normalize the data\n",
    "scaler = StandardScaler()\n",
    "features = [\"Temperature\", \"Precipitation\", \"Station_Elevation\", \"DT\"]\n",
    "station_data_scaled = scaler.fit_transform(station_data[features])"
   ]
  },
  {
   "cell_type": "code",
   "execution_count": 5,
   "metadata": {},
   "outputs": [
    {
     "data": {
      "text/html": [
       "<div>\n",
       "<style scoped>\n",
       "    .dataframe tbody tr th:only-of-type {\n",
       "        vertical-align: middle;\n",
       "    }\n",
       "\n",
       "    .dataframe tbody tr th {\n",
       "        vertical-align: top;\n",
       "    }\n",
       "\n",
       "    .dataframe thead th {\n",
       "        text-align: right;\n",
       "    }\n",
       "</style>\n",
       "<table border=\"1\" class=\"dataframe\">\n",
       "  <thead>\n",
       "    <tr style=\"text-align: right;\">\n",
       "      <th></th>\n",
       "      <th>Station_ID</th>\n",
       "      <th>Station_Name</th>\n",
       "      <th>Temperature</th>\n",
       "      <th>Temperature_Maximum</th>\n",
       "      <th>Temperature_Minimum</th>\n",
       "      <th>Precipitation</th>\n",
       "      <th>Station_Elevation</th>\n",
       "      <th>DT</th>\n",
       "    </tr>\n",
       "  </thead>\n",
       "  <tbody>\n",
       "    <tr>\n",
       "      <th>0</th>\n",
       "      <td>40709</td>\n",
       "      <td>Astara</td>\n",
       "      <td>16.000439</td>\n",
       "      <td>19.720175</td>\n",
       "      <td>12.275439</td>\n",
       "      <td>1292.834737</td>\n",
       "      <td>-21.1</td>\n",
       "      <td>7.444737</td>\n",
       "    </tr>\n",
       "    <tr>\n",
       "      <th>1</th>\n",
       "      <td>40718</td>\n",
       "      <td>Bandar-e-anzali</td>\n",
       "      <td>17.348684</td>\n",
       "      <td>20.267105</td>\n",
       "      <td>14.430263</td>\n",
       "      <td>1688.572632</td>\n",
       "      <td>-23.6</td>\n",
       "      <td>5.836842</td>\n",
       "    </tr>\n",
       "    <tr>\n",
       "      <th>2</th>\n",
       "      <td>40719</td>\n",
       "      <td>Rasht</td>\n",
       "      <td>16.992105</td>\n",
       "      <td>21.193421</td>\n",
       "      <td>12.794737</td>\n",
       "      <td>1193.433158</td>\n",
       "      <td>-8.6</td>\n",
       "      <td>8.398684</td>\n",
       "    </tr>\n",
       "    <tr>\n",
       "      <th>3</th>\n",
       "      <td>40720</td>\n",
       "      <td>Manjil</td>\n",
       "      <td>18.105263</td>\n",
       "      <td>23.306579</td>\n",
       "      <td>12.902632</td>\n",
       "      <td>202.634737</td>\n",
       "      <td>338.3</td>\n",
       "      <td>10.403947</td>\n",
       "    </tr>\n",
       "    <tr>\n",
       "      <th>4</th>\n",
       "      <td>40732</td>\n",
       "      <td>Ramsar</td>\n",
       "      <td>17.272807</td>\n",
       "      <td>20.396930</td>\n",
       "      <td>14.143421</td>\n",
       "      <td>1222.457895</td>\n",
       "      <td>-20.0</td>\n",
       "      <td>6.253509</td>\n",
       "    </tr>\n",
       "    <tr>\n",
       "      <th>5</th>\n",
       "      <td>40734</td>\n",
       "      <td>Nowshahr</td>\n",
       "      <td>17.106140</td>\n",
       "      <td>20.520614</td>\n",
       "      <td>13.699123</td>\n",
       "      <td>1263.907368</td>\n",
       "      <td>-20.9</td>\n",
       "      <td>6.821491</td>\n",
       "    </tr>\n",
       "    <tr>\n",
       "      <th>6</th>\n",
       "      <td>40735</td>\n",
       "      <td>Siahbisheh</td>\n",
       "      <td>11.159211</td>\n",
       "      <td>15.782895</td>\n",
       "      <td>6.531579</td>\n",
       "      <td>500.231579</td>\n",
       "      <td>1855.4</td>\n",
       "      <td>9.251316</td>\n",
       "    </tr>\n",
       "    <tr>\n",
       "      <th>7</th>\n",
       "      <td>40736</td>\n",
       "      <td>Babolsar</td>\n",
       "      <td>18.222807</td>\n",
       "      <td>21.776754</td>\n",
       "      <td>14.675877</td>\n",
       "      <td>824.827368</td>\n",
       "      <td>-21.0</td>\n",
       "      <td>7.100877</td>\n",
       "    </tr>\n",
       "    <tr>\n",
       "      <th>8</th>\n",
       "      <td>40737</td>\n",
       "      <td>Gharakhil</td>\n",
       "      <td>17.604825</td>\n",
       "      <td>22.495614</td>\n",
       "      <td>12.707018</td>\n",
       "      <td>654.970000</td>\n",
       "      <td>14.7</td>\n",
       "      <td>9.788596</td>\n",
       "    </tr>\n",
       "    <tr>\n",
       "      <th>9</th>\n",
       "      <td>40759</td>\n",
       "      <td>Sari</td>\n",
       "      <td>18.416228</td>\n",
       "      <td>23.222807</td>\n",
       "      <td>13.617544</td>\n",
       "      <td>705.675263</td>\n",
       "      <td>23.0</td>\n",
       "      <td>9.605263</td>\n",
       "    </tr>\n",
       "    <tr>\n",
       "      <th>10</th>\n",
       "      <td>40760</td>\n",
       "      <td>Kiyasar</td>\n",
       "      <td>13.489474</td>\n",
       "      <td>18.585088</td>\n",
       "      <td>8.396053</td>\n",
       "      <td>501.895789</td>\n",
       "      <td>1294.3</td>\n",
       "      <td>10.189035</td>\n",
       "    </tr>\n",
       "    <tr>\n",
       "      <th>11</th>\n",
       "      <td>40788</td>\n",
       "      <td>Sari (dasht-e-naz airport)</td>\n",
       "      <td>17.798684</td>\n",
       "      <td>22.761404</td>\n",
       "      <td>12.835526</td>\n",
       "      <td>602.572632</td>\n",
       "      <td>16.7</td>\n",
       "      <td>9.925877</td>\n",
       "    </tr>\n",
       "    <tr>\n",
       "      <th>12</th>\n",
       "      <td>40805</td>\n",
       "      <td>Jirandeh</td>\n",
       "      <td>12.189447</td>\n",
       "      <td>16.456579</td>\n",
       "      <td>7.878509</td>\n",
       "      <td>279.998947</td>\n",
       "      <td>1581.4</td>\n",
       "      <td>8.578070</td>\n",
       "    </tr>\n",
       "    <tr>\n",
       "      <th>13</th>\n",
       "      <td>99249</td>\n",
       "      <td>Talesh</td>\n",
       "      <td>16.435526</td>\n",
       "      <td>20.034649</td>\n",
       "      <td>12.843860</td>\n",
       "      <td>945.697368</td>\n",
       "      <td>7.0</td>\n",
       "      <td>7.190789</td>\n",
       "    </tr>\n",
       "    <tr>\n",
       "      <th>14</th>\n",
       "      <td>99268</td>\n",
       "      <td>Kiyashahr</td>\n",
       "      <td>17.100439</td>\n",
       "      <td>20.820175</td>\n",
       "      <td>13.379386</td>\n",
       "      <td>1153.539474</td>\n",
       "      <td>-22.0</td>\n",
       "      <td>7.440789</td>\n",
       "    </tr>\n",
       "    <tr>\n",
       "      <th>15</th>\n",
       "      <td>99276</td>\n",
       "      <td>Lahijan</td>\n",
       "      <td>16.696053</td>\n",
       "      <td>21.514474</td>\n",
       "      <td>11.877632</td>\n",
       "      <td>1291.396316</td>\n",
       "      <td>34.2</td>\n",
       "      <td>9.636842</td>\n",
       "    </tr>\n",
       "    <tr>\n",
       "      <th>16</th>\n",
       "      <td>99281</td>\n",
       "      <td>Masuleh</td>\n",
       "      <td>12.177193</td>\n",
       "      <td>16.121491</td>\n",
       "      <td>8.225000</td>\n",
       "      <td>882.793158</td>\n",
       "      <td>1081.0</td>\n",
       "      <td>7.896491</td>\n",
       "    </tr>\n",
       "    <tr>\n",
       "      <th>17</th>\n",
       "      <td>99299</td>\n",
       "      <td>Galugah</td>\n",
       "      <td>17.671491</td>\n",
       "      <td>22.702193</td>\n",
       "      <td>12.636842</td>\n",
       "      <td>536.922632</td>\n",
       "      <td>-10.0</td>\n",
       "      <td>10.065351</td>\n",
       "    </tr>\n",
       "    <tr>\n",
       "      <th>18</th>\n",
       "      <td>99306</td>\n",
       "      <td>Bandar-e-amirabad</td>\n",
       "      <td>17.824123</td>\n",
       "      <td>21.648246</td>\n",
       "      <td>14.002632</td>\n",
       "      <td>588.898947</td>\n",
       "      <td>-20.0</td>\n",
       "      <td>7.645614</td>\n",
       "    </tr>\n",
       "    <tr>\n",
       "      <th>19</th>\n",
       "      <td>99309</td>\n",
       "      <td>Amol</td>\n",
       "      <td>17.754386</td>\n",
       "      <td>22.402193</td>\n",
       "      <td>13.112719</td>\n",
       "      <td>643.814211</td>\n",
       "      <td>23.7</td>\n",
       "      <td>9.289474</td>\n",
       "    </tr>\n",
       "    <tr>\n",
       "      <th>20</th>\n",
       "      <td>99348</td>\n",
       "      <td>Kojur</td>\n",
       "      <td>11.779825</td>\n",
       "      <td>17.833772</td>\n",
       "      <td>5.731140</td>\n",
       "      <td>305.863158</td>\n",
       "      <td>1550.0</td>\n",
       "      <td>12.102632</td>\n",
       "    </tr>\n",
       "    <tr>\n",
       "      <th>21</th>\n",
       "      <td>99357</td>\n",
       "      <td>Baladeh</td>\n",
       "      <td>9.441667</td>\n",
       "      <td>16.222368</td>\n",
       "      <td>2.657018</td>\n",
       "      <td>292.498947</td>\n",
       "      <td>2120.0</td>\n",
       "      <td>13.565351</td>\n",
       "    </tr>\n",
       "    <tr>\n",
       "      <th>22</th>\n",
       "      <td>99360</td>\n",
       "      <td>Polsefid</td>\n",
       "      <td>15.498325</td>\n",
       "      <td>20.433772</td>\n",
       "      <td>10.562746</td>\n",
       "      <td>537.645263</td>\n",
       "      <td>610.0</td>\n",
       "      <td>9.871026</td>\n",
       "    </tr>\n",
       "    <tr>\n",
       "      <th>23</th>\n",
       "      <td>99361</td>\n",
       "      <td>Alasht</td>\n",
       "      <td>11.304386</td>\n",
       "      <td>15.646053</td>\n",
       "      <td>6.982456</td>\n",
       "      <td>500.945263</td>\n",
       "      <td>1805.0</td>\n",
       "      <td>8.663596</td>\n",
       "    </tr>\n",
       "  </tbody>\n",
       "</table>\n",
       "</div>"
      ],
      "text/plain": [
       "   Station_ID                Station_Name  Temperature  Temperature_Maximum  \\\n",
       "0       40709                      Astara    16.000439            19.720175   \n",
       "1       40718             Bandar-e-anzali    17.348684            20.267105   \n",
       "2       40719                       Rasht    16.992105            21.193421   \n",
       "3       40720                      Manjil    18.105263            23.306579   \n",
       "4       40732                      Ramsar    17.272807            20.396930   \n",
       "5       40734                    Nowshahr    17.106140            20.520614   \n",
       "6       40735                  Siahbisheh    11.159211            15.782895   \n",
       "7       40736                    Babolsar    18.222807            21.776754   \n",
       "8       40737                   Gharakhil    17.604825            22.495614   \n",
       "9       40759                        Sari    18.416228            23.222807   \n",
       "10      40760                     Kiyasar    13.489474            18.585088   \n",
       "11      40788  Sari (dasht-e-naz airport)    17.798684            22.761404   \n",
       "12      40805                    Jirandeh    12.189447            16.456579   \n",
       "13      99249                      Talesh    16.435526            20.034649   \n",
       "14      99268                   Kiyashahr    17.100439            20.820175   \n",
       "15      99276                     Lahijan    16.696053            21.514474   \n",
       "16      99281                     Masuleh    12.177193            16.121491   \n",
       "17      99299                     Galugah    17.671491            22.702193   \n",
       "18      99306           Bandar-e-amirabad    17.824123            21.648246   \n",
       "19      99309                        Amol    17.754386            22.402193   \n",
       "20      99348                       Kojur    11.779825            17.833772   \n",
       "21      99357                     Baladeh     9.441667            16.222368   \n",
       "22      99360                    Polsefid    15.498325            20.433772   \n",
       "23      99361                      Alasht    11.304386            15.646053   \n",
       "\n",
       "    Temperature_Minimum  Precipitation  Station_Elevation         DT  \n",
       "0             12.275439    1292.834737              -21.1   7.444737  \n",
       "1             14.430263    1688.572632              -23.6   5.836842  \n",
       "2             12.794737    1193.433158               -8.6   8.398684  \n",
       "3             12.902632     202.634737              338.3  10.403947  \n",
       "4             14.143421    1222.457895              -20.0   6.253509  \n",
       "5             13.699123    1263.907368              -20.9   6.821491  \n",
       "6              6.531579     500.231579             1855.4   9.251316  \n",
       "7             14.675877     824.827368              -21.0   7.100877  \n",
       "8             12.707018     654.970000               14.7   9.788596  \n",
       "9             13.617544     705.675263               23.0   9.605263  \n",
       "10             8.396053     501.895789             1294.3  10.189035  \n",
       "11            12.835526     602.572632               16.7   9.925877  \n",
       "12             7.878509     279.998947             1581.4   8.578070  \n",
       "13            12.843860     945.697368                7.0   7.190789  \n",
       "14            13.379386    1153.539474              -22.0   7.440789  \n",
       "15            11.877632    1291.396316               34.2   9.636842  \n",
       "16             8.225000     882.793158             1081.0   7.896491  \n",
       "17            12.636842     536.922632              -10.0  10.065351  \n",
       "18            14.002632     588.898947              -20.0   7.645614  \n",
       "19            13.112719     643.814211               23.7   9.289474  \n",
       "20             5.731140     305.863158             1550.0  12.102632  \n",
       "21             2.657018     292.498947             2120.0  13.565351  \n",
       "22            10.562746     537.645263              610.0   9.871026  \n",
       "23             6.982456     500.945263             1805.0   8.663596  "
      ]
     },
     "execution_count": 5,
     "metadata": {},
     "output_type": "execute_result"
    }
   ],
   "source": [
    "station_data"
   ]
  },
  {
   "cell_type": "markdown",
   "metadata": {},
   "source": [
    "### Apply Clustering Algorithm"
   ]
  },
  {
   "cell_type": "markdown",
   "metadata": {},
   "source": [
    "##### K-Means Clustering"
   ]
  },
  {
   "cell_type": "code",
   "execution_count": 41,
   "metadata": {},
   "outputs": [
    {
     "data": {
      "text/plain": [
       "Cluster\n",
       "3    9\n",
       "1    8\n",
       "2    7\n",
       "Name: count, dtype: int64"
      ]
     },
     "execution_count": 41,
     "metadata": {},
     "output_type": "execute_result"
    }
   ],
   "source": [
    "k = 3\n",
    "\n",
    "kmeans = KMeans(n_clusters=k, random_state=42)\n",
    "\n",
    "station_data['Cluster'] = kmeans.fit_predict(station_data_scaled)\n",
    "station_data['Cluster'] = station_data['Cluster'] + 1\n",
    "\n",
    "\n",
    "station_data.Cluster.value_counts()"
   ]
  },
  {
   "cell_type": "code",
   "execution_count": 42,
   "metadata": {},
   "outputs": [
    {
     "data": {
      "application/vnd.plotly.v1+json": {
       "config": {
        "plotlyServerURL": "https://plot.ly"
       },
       "data": [
        {
         "hovertemplate": "<b>%{hovertext}</b><br><br>Cluster=3<br>Temperature=%{x}<br>Precipitation=%{y}<extra></extra>",
         "hovertext": [
          "Astara",
          "Bandar-e-anzali",
          "Rasht",
          "Ramsar",
          "Nowshahr",
          "Babolsar",
          "Talesh",
          "Kiyashahr",
          "Lahijan"
         ],
         "legendgroup": "3",
         "marker": {
          "color": "#636efa",
          "size": 8,
          "symbol": "circle"
         },
         "mode": "markers",
         "name": "3",
         "orientation": "v",
         "showlegend": true,
         "type": "scatter",
         "x": [
          16.00043859649123,
          17.348684210526315,
          16.992105263157896,
          17.272807017543858,
          17.106140350877194,
          18.22280701754386,
          16.435526315789474,
          17.100438596491227,
          16.696052631578947
         ],
         "xaxis": "x",
         "y": [
          1292.8347368421053,
          1688.5726315789475,
          1193.4331578947367,
          1222.457894736842,
          1263.9073684210525,
          824.8273684210526,
          945.6973684210526,
          1153.5394736842106,
          1291.3963157894736
         ],
         "yaxis": "y"
        },
        {
         "hovertemplate": "<b>%{hovertext}</b><br><br>Cluster=1<br>Temperature=%{x}<br>Precipitation=%{y}<extra></extra>",
         "hovertext": [
          "Manjil",
          "Gharakhil",
          "Sari",
          "Sari (dasht-e-naz airport)",
          "Galugah",
          "Bandar-e-amirabad",
          "Amol",
          "Polsefid"
         ],
         "legendgroup": "1",
         "marker": {
          "color": "#EF553B",
          "size": 8,
          "symbol": "circle"
         },
         "mode": "markers",
         "name": "1",
         "orientation": "v",
         "showlegend": true,
         "type": "scatter",
         "x": [
          18.105263157894736,
          17.604824561403507,
          18.41622807017544,
          17.798684210526318,
          17.671491228070174,
          17.824122807017545,
          17.75438596491228,
          15.498324561403509
         ],
         "xaxis": "x",
         "y": [
          202.63473684210527,
          654.97,
          705.6752631578947,
          602.5726315789474,
          536.9226315789474,
          588.8989473684211,
          643.8142105263157,
          537.6452631578948
         ],
         "yaxis": "y"
        },
        {
         "hovertemplate": "<b>%{hovertext}</b><br><br>Cluster=2<br>Temperature=%{x}<br>Precipitation=%{y}<extra></extra>",
         "hovertext": [
          "Siahbisheh",
          "Kiyasar",
          "Jirandeh",
          "Masuleh",
          "Kojur",
          "Baladeh",
          "Alasht"
         ],
         "legendgroup": "2",
         "marker": {
          "color": "#00cc96",
          "size": 8,
          "symbol": "circle"
         },
         "mode": "markers",
         "name": "2",
         "orientation": "v",
         "showlegend": true,
         "type": "scatter",
         "x": [
          11.159210526315789,
          13.489473684210527,
          12.189447368421053,
          12.177192982456141,
          11.779824561403508,
          9.441666666666666,
          11.30438596491228
         ],
         "xaxis": "x",
         "y": [
          500.2315789473684,
          501.89578947368426,
          279.99894736842106,
          882.7931578947369,
          305.86315789473684,
          292.49894736842106,
          500.9452631578947
         ],
         "yaxis": "y"
        }
       ],
       "layout": {
        "font": {
         "family": "B Zar",
         "size": 24
        },
        "height": 600,
        "legend": {
         "font": {
          "size": 18
         },
         "title": {
          "text": "خوشه‌ها"
         },
         "tracegroupgap": 0
        },
        "margin": {
         "b": 50,
         "l": 50,
         "r": 50,
         "t": 50
        },
        "paper_bgcolor": "white",
        "plot_bgcolor": "white",
        "shapes": [
         {
          "line": {
           "color": "black",
           "width": 2
          },
          "type": "rect",
          "x0": 0,
          "x1": 1,
          "xref": "paper",
          "y0": 0,
          "y1": 1,
          "yref": "paper"
         }
        ],
        "template": {
         "data": {
          "bar": [
           {
            "error_x": {
             "color": "#2a3f5f"
            },
            "error_y": {
             "color": "#2a3f5f"
            },
            "marker": {
             "line": {
              "color": "white",
              "width": 0.5
             },
             "pattern": {
              "fillmode": "overlay",
              "size": 10,
              "solidity": 0.2
             }
            },
            "type": "bar"
           }
          ],
          "barpolar": [
           {
            "marker": {
             "line": {
              "color": "white",
              "width": 0.5
             },
             "pattern": {
              "fillmode": "overlay",
              "size": 10,
              "solidity": 0.2
             }
            },
            "type": "barpolar"
           }
          ],
          "carpet": [
           {
            "aaxis": {
             "endlinecolor": "#2a3f5f",
             "gridcolor": "#C8D4E3",
             "linecolor": "#C8D4E3",
             "minorgridcolor": "#C8D4E3",
             "startlinecolor": "#2a3f5f"
            },
            "baxis": {
             "endlinecolor": "#2a3f5f",
             "gridcolor": "#C8D4E3",
             "linecolor": "#C8D4E3",
             "minorgridcolor": "#C8D4E3",
             "startlinecolor": "#2a3f5f"
            },
            "type": "carpet"
           }
          ],
          "choropleth": [
           {
            "colorbar": {
             "outlinewidth": 0,
             "ticks": ""
            },
            "type": "choropleth"
           }
          ],
          "contour": [
           {
            "colorbar": {
             "outlinewidth": 0,
             "ticks": ""
            },
            "colorscale": [
             [
              0,
              "#0d0887"
             ],
             [
              0.1111111111111111,
              "#46039f"
             ],
             [
              0.2222222222222222,
              "#7201a8"
             ],
             [
              0.3333333333333333,
              "#9c179e"
             ],
             [
              0.4444444444444444,
              "#bd3786"
             ],
             [
              0.5555555555555556,
              "#d8576b"
             ],
             [
              0.6666666666666666,
              "#ed7953"
             ],
             [
              0.7777777777777778,
              "#fb9f3a"
             ],
             [
              0.8888888888888888,
              "#fdca26"
             ],
             [
              1,
              "#f0f921"
             ]
            ],
            "type": "contour"
           }
          ],
          "contourcarpet": [
           {
            "colorbar": {
             "outlinewidth": 0,
             "ticks": ""
            },
            "type": "contourcarpet"
           }
          ],
          "heatmap": [
           {
            "colorbar": {
             "outlinewidth": 0,
             "ticks": ""
            },
            "colorscale": [
             [
              0,
              "#0d0887"
             ],
             [
              0.1111111111111111,
              "#46039f"
             ],
             [
              0.2222222222222222,
              "#7201a8"
             ],
             [
              0.3333333333333333,
              "#9c179e"
             ],
             [
              0.4444444444444444,
              "#bd3786"
             ],
             [
              0.5555555555555556,
              "#d8576b"
             ],
             [
              0.6666666666666666,
              "#ed7953"
             ],
             [
              0.7777777777777778,
              "#fb9f3a"
             ],
             [
              0.8888888888888888,
              "#fdca26"
             ],
             [
              1,
              "#f0f921"
             ]
            ],
            "type": "heatmap"
           }
          ],
          "heatmapgl": [
           {
            "colorbar": {
             "outlinewidth": 0,
             "ticks": ""
            },
            "colorscale": [
             [
              0,
              "#0d0887"
             ],
             [
              0.1111111111111111,
              "#46039f"
             ],
             [
              0.2222222222222222,
              "#7201a8"
             ],
             [
              0.3333333333333333,
              "#9c179e"
             ],
             [
              0.4444444444444444,
              "#bd3786"
             ],
             [
              0.5555555555555556,
              "#d8576b"
             ],
             [
              0.6666666666666666,
              "#ed7953"
             ],
             [
              0.7777777777777778,
              "#fb9f3a"
             ],
             [
              0.8888888888888888,
              "#fdca26"
             ],
             [
              1,
              "#f0f921"
             ]
            ],
            "type": "heatmapgl"
           }
          ],
          "histogram": [
           {
            "marker": {
             "pattern": {
              "fillmode": "overlay",
              "size": 10,
              "solidity": 0.2
             }
            },
            "type": "histogram"
           }
          ],
          "histogram2d": [
           {
            "colorbar": {
             "outlinewidth": 0,
             "ticks": ""
            },
            "colorscale": [
             [
              0,
              "#0d0887"
             ],
             [
              0.1111111111111111,
              "#46039f"
             ],
             [
              0.2222222222222222,
              "#7201a8"
             ],
             [
              0.3333333333333333,
              "#9c179e"
             ],
             [
              0.4444444444444444,
              "#bd3786"
             ],
             [
              0.5555555555555556,
              "#d8576b"
             ],
             [
              0.6666666666666666,
              "#ed7953"
             ],
             [
              0.7777777777777778,
              "#fb9f3a"
             ],
             [
              0.8888888888888888,
              "#fdca26"
             ],
             [
              1,
              "#f0f921"
             ]
            ],
            "type": "histogram2d"
           }
          ],
          "histogram2dcontour": [
           {
            "colorbar": {
             "outlinewidth": 0,
             "ticks": ""
            },
            "colorscale": [
             [
              0,
              "#0d0887"
             ],
             [
              0.1111111111111111,
              "#46039f"
             ],
             [
              0.2222222222222222,
              "#7201a8"
             ],
             [
              0.3333333333333333,
              "#9c179e"
             ],
             [
              0.4444444444444444,
              "#bd3786"
             ],
             [
              0.5555555555555556,
              "#d8576b"
             ],
             [
              0.6666666666666666,
              "#ed7953"
             ],
             [
              0.7777777777777778,
              "#fb9f3a"
             ],
             [
              0.8888888888888888,
              "#fdca26"
             ],
             [
              1,
              "#f0f921"
             ]
            ],
            "type": "histogram2dcontour"
           }
          ],
          "mesh3d": [
           {
            "colorbar": {
             "outlinewidth": 0,
             "ticks": ""
            },
            "type": "mesh3d"
           }
          ],
          "parcoords": [
           {
            "line": {
             "colorbar": {
              "outlinewidth": 0,
              "ticks": ""
             }
            },
            "type": "parcoords"
           }
          ],
          "pie": [
           {
            "automargin": true,
            "type": "pie"
           }
          ],
          "scatter": [
           {
            "fillpattern": {
             "fillmode": "overlay",
             "size": 10,
             "solidity": 0.2
            },
            "type": "scatter"
           }
          ],
          "scatter3d": [
           {
            "line": {
             "colorbar": {
              "outlinewidth": 0,
              "ticks": ""
             }
            },
            "marker": {
             "colorbar": {
              "outlinewidth": 0,
              "ticks": ""
             }
            },
            "type": "scatter3d"
           }
          ],
          "scattercarpet": [
           {
            "marker": {
             "colorbar": {
              "outlinewidth": 0,
              "ticks": ""
             }
            },
            "type": "scattercarpet"
           }
          ],
          "scattergeo": [
           {
            "marker": {
             "colorbar": {
              "outlinewidth": 0,
              "ticks": ""
             }
            },
            "type": "scattergeo"
           }
          ],
          "scattergl": [
           {
            "marker": {
             "colorbar": {
              "outlinewidth": 0,
              "ticks": ""
             }
            },
            "type": "scattergl"
           }
          ],
          "scattermapbox": [
           {
            "marker": {
             "colorbar": {
              "outlinewidth": 0,
              "ticks": ""
             }
            },
            "type": "scattermapbox"
           }
          ],
          "scatterpolar": [
           {
            "marker": {
             "colorbar": {
              "outlinewidth": 0,
              "ticks": ""
             }
            },
            "type": "scatterpolar"
           }
          ],
          "scatterpolargl": [
           {
            "marker": {
             "colorbar": {
              "outlinewidth": 0,
              "ticks": ""
             }
            },
            "type": "scatterpolargl"
           }
          ],
          "scatterternary": [
           {
            "marker": {
             "colorbar": {
              "outlinewidth": 0,
              "ticks": ""
             }
            },
            "type": "scatterternary"
           }
          ],
          "surface": [
           {
            "colorbar": {
             "outlinewidth": 0,
             "ticks": ""
            },
            "colorscale": [
             [
              0,
              "#0d0887"
             ],
             [
              0.1111111111111111,
              "#46039f"
             ],
             [
              0.2222222222222222,
              "#7201a8"
             ],
             [
              0.3333333333333333,
              "#9c179e"
             ],
             [
              0.4444444444444444,
              "#bd3786"
             ],
             [
              0.5555555555555556,
              "#d8576b"
             ],
             [
              0.6666666666666666,
              "#ed7953"
             ],
             [
              0.7777777777777778,
              "#fb9f3a"
             ],
             [
              0.8888888888888888,
              "#fdca26"
             ],
             [
              1,
              "#f0f921"
             ]
            ],
            "type": "surface"
           }
          ],
          "table": [
           {
            "cells": {
             "fill": {
              "color": "#EBF0F8"
             },
             "line": {
              "color": "white"
             }
            },
            "header": {
             "fill": {
              "color": "#C8D4E3"
             },
             "line": {
              "color": "white"
             }
            },
            "type": "table"
           }
          ]
         },
         "layout": {
          "annotationdefaults": {
           "arrowcolor": "#2a3f5f",
           "arrowhead": 0,
           "arrowwidth": 1
          },
          "autotypenumbers": "strict",
          "coloraxis": {
           "colorbar": {
            "outlinewidth": 0,
            "ticks": ""
           }
          },
          "colorscale": {
           "diverging": [
            [
             0,
             "#8e0152"
            ],
            [
             0.1,
             "#c51b7d"
            ],
            [
             0.2,
             "#de77ae"
            ],
            [
             0.3,
             "#f1b6da"
            ],
            [
             0.4,
             "#fde0ef"
            ],
            [
             0.5,
             "#f7f7f7"
            ],
            [
             0.6,
             "#e6f5d0"
            ],
            [
             0.7,
             "#b8e186"
            ],
            [
             0.8,
             "#7fbc41"
            ],
            [
             0.9,
             "#4d9221"
            ],
            [
             1,
             "#276419"
            ]
           ],
           "sequential": [
            [
             0,
             "#0d0887"
            ],
            [
             0.1111111111111111,
             "#46039f"
            ],
            [
             0.2222222222222222,
             "#7201a8"
            ],
            [
             0.3333333333333333,
             "#9c179e"
            ],
            [
             0.4444444444444444,
             "#bd3786"
            ],
            [
             0.5555555555555556,
             "#d8576b"
            ],
            [
             0.6666666666666666,
             "#ed7953"
            ],
            [
             0.7777777777777778,
             "#fb9f3a"
            ],
            [
             0.8888888888888888,
             "#fdca26"
            ],
            [
             1,
             "#f0f921"
            ]
           ],
           "sequentialminus": [
            [
             0,
             "#0d0887"
            ],
            [
             0.1111111111111111,
             "#46039f"
            ],
            [
             0.2222222222222222,
             "#7201a8"
            ],
            [
             0.3333333333333333,
             "#9c179e"
            ],
            [
             0.4444444444444444,
             "#bd3786"
            ],
            [
             0.5555555555555556,
             "#d8576b"
            ],
            [
             0.6666666666666666,
             "#ed7953"
            ],
            [
             0.7777777777777778,
             "#fb9f3a"
            ],
            [
             0.8888888888888888,
             "#fdca26"
            ],
            [
             1,
             "#f0f921"
            ]
           ]
          },
          "colorway": [
           "#636efa",
           "#EF553B",
           "#00cc96",
           "#ab63fa",
           "#FFA15A",
           "#19d3f3",
           "#FF6692",
           "#B6E880",
           "#FF97FF",
           "#FECB52"
          ],
          "font": {
           "color": "#2a3f5f"
          },
          "geo": {
           "bgcolor": "white",
           "lakecolor": "white",
           "landcolor": "white",
           "showlakes": true,
           "showland": true,
           "subunitcolor": "#C8D4E3"
          },
          "hoverlabel": {
           "align": "left"
          },
          "hovermode": "closest",
          "mapbox": {
           "style": "light"
          },
          "paper_bgcolor": "white",
          "plot_bgcolor": "white",
          "polar": {
           "angularaxis": {
            "gridcolor": "#EBF0F8",
            "linecolor": "#EBF0F8",
            "ticks": ""
           },
           "bgcolor": "white",
           "radialaxis": {
            "gridcolor": "#EBF0F8",
            "linecolor": "#EBF0F8",
            "ticks": ""
           }
          },
          "scene": {
           "xaxis": {
            "backgroundcolor": "white",
            "gridcolor": "#DFE8F3",
            "gridwidth": 2,
            "linecolor": "#EBF0F8",
            "showbackground": true,
            "ticks": "",
            "zerolinecolor": "#EBF0F8"
           },
           "yaxis": {
            "backgroundcolor": "white",
            "gridcolor": "#DFE8F3",
            "gridwidth": 2,
            "linecolor": "#EBF0F8",
            "showbackground": true,
            "ticks": "",
            "zerolinecolor": "#EBF0F8"
           },
           "zaxis": {
            "backgroundcolor": "white",
            "gridcolor": "#DFE8F3",
            "gridwidth": 2,
            "linecolor": "#EBF0F8",
            "showbackground": true,
            "ticks": "",
            "zerolinecolor": "#EBF0F8"
           }
          },
          "shapedefaults": {
           "line": {
            "color": "#2a3f5f"
           }
          },
          "ternary": {
           "aaxis": {
            "gridcolor": "#DFE8F3",
            "linecolor": "#A2B1C6",
            "ticks": ""
           },
           "baxis": {
            "gridcolor": "#DFE8F3",
            "linecolor": "#A2B1C6",
            "ticks": ""
           },
           "bgcolor": "white",
           "caxis": {
            "gridcolor": "#DFE8F3",
            "linecolor": "#A2B1C6",
            "ticks": ""
           }
          },
          "title": {
           "x": 0.05
          },
          "xaxis": {
           "automargin": true,
           "gridcolor": "#EBF0F8",
           "linecolor": "#EBF0F8",
           "ticks": "",
           "title": {
            "standoff": 15
           },
           "zerolinecolor": "#EBF0F8",
           "zerolinewidth": 2
          },
          "yaxis": {
           "automargin": true,
           "gridcolor": "#EBF0F8",
           "linecolor": "#EBF0F8",
           "ticks": "",
           "title": {
            "standoff": 15
           },
           "zerolinecolor": "#EBF0F8",
           "zerolinewidth": 2
          }
         }
        },
        "width": 600,
        "xaxis": {
         "anchor": "y",
         "domain": [
          0,
          1
         ],
         "dtick": 1,
         "linecolor": "black",
         "linewidth": 1,
         "showgrid": true,
         "showline": true,
         "ticklen": 6,
         "ticks": "inside",
         "tickwidth": 1,
         "title": {
          "text": "(درجه سانتیگراد) دمای متوسط"
         },
         "zeroline": true
        },
        "yaxis": {
         "anchor": "x",
         "domain": [
          0,
          1
         ],
         "dtick": 150,
         "linecolor": "black",
         "linewidth": 1,
         "showgrid": true,
         "showline": true,
         "ticklen": 6,
         "ticks": "inside",
         "tickwidth": 1,
         "title": {
          "text": "بارش (میلیمتر)"
         },
         "zeroline": true
        }
       }
      },
      "text/html": [
       "<div>                            <div id=\"804f3108-e717-4774-8f7d-cacacfd347e7\" class=\"plotly-graph-div\" style=\"height:600px; width:600px;\"></div>            <script type=\"text/javascript\">                require([\"plotly\"], function(Plotly) {                    window.PLOTLYENV=window.PLOTLYENV || {};                                    if (document.getElementById(\"804f3108-e717-4774-8f7d-cacacfd347e7\")) {                    Plotly.newPlot(                        \"804f3108-e717-4774-8f7d-cacacfd347e7\",                        [{\"hovertemplate\":\"\\u003cb\\u003e%{hovertext}\\u003c\\u002fb\\u003e\\u003cbr\\u003e\\u003cbr\\u003eCluster=3\\u003cbr\\u003eTemperature=%{x}\\u003cbr\\u003ePrecipitation=%{y}\\u003cextra\\u003e\\u003c\\u002fextra\\u003e\",\"hovertext\":[\"Astara\",\"Bandar-e-anzali\",\"Rasht\",\"Ramsar\",\"Nowshahr\",\"Babolsar\",\"Talesh\",\"Kiyashahr\",\"Lahijan\"],\"legendgroup\":\"3\",\"marker\":{\"color\":\"#636efa\",\"symbol\":\"circle\",\"size\":8},\"mode\":\"markers\",\"name\":\"3\",\"orientation\":\"v\",\"showlegend\":true,\"x\":[16.00043859649123,17.348684210526315,16.992105263157896,17.272807017543858,17.106140350877194,18.22280701754386,16.435526315789474,17.100438596491227,16.696052631578947],\"xaxis\":\"x\",\"y\":[1292.8347368421053,1688.5726315789475,1193.4331578947367,1222.457894736842,1263.9073684210525,824.8273684210526,945.6973684210526,1153.5394736842106,1291.3963157894736],\"yaxis\":\"y\",\"type\":\"scatter\"},{\"hovertemplate\":\"\\u003cb\\u003e%{hovertext}\\u003c\\u002fb\\u003e\\u003cbr\\u003e\\u003cbr\\u003eCluster=1\\u003cbr\\u003eTemperature=%{x}\\u003cbr\\u003ePrecipitation=%{y}\\u003cextra\\u003e\\u003c\\u002fextra\\u003e\",\"hovertext\":[\"Manjil\",\"Gharakhil\",\"Sari\",\"Sari (dasht-e-naz airport)\",\"Galugah\",\"Bandar-e-amirabad\",\"Amol\",\"Polsefid\"],\"legendgroup\":\"1\",\"marker\":{\"color\":\"#EF553B\",\"symbol\":\"circle\",\"size\":8},\"mode\":\"markers\",\"name\":\"1\",\"orientation\":\"v\",\"showlegend\":true,\"x\":[18.105263157894736,17.604824561403507,18.41622807017544,17.798684210526318,17.671491228070174,17.824122807017545,17.75438596491228,15.498324561403509],\"xaxis\":\"x\",\"y\":[202.63473684210527,654.97,705.6752631578947,602.5726315789474,536.9226315789474,588.8989473684211,643.8142105263157,537.6452631578948],\"yaxis\":\"y\",\"type\":\"scatter\"},{\"hovertemplate\":\"\\u003cb\\u003e%{hovertext}\\u003c\\u002fb\\u003e\\u003cbr\\u003e\\u003cbr\\u003eCluster=2\\u003cbr\\u003eTemperature=%{x}\\u003cbr\\u003ePrecipitation=%{y}\\u003cextra\\u003e\\u003c\\u002fextra\\u003e\",\"hovertext\":[\"Siahbisheh\",\"Kiyasar\",\"Jirandeh\",\"Masuleh\",\"Kojur\",\"Baladeh\",\"Alasht\"],\"legendgroup\":\"2\",\"marker\":{\"color\":\"#00cc96\",\"symbol\":\"circle\",\"size\":8},\"mode\":\"markers\",\"name\":\"2\",\"orientation\":\"v\",\"showlegend\":true,\"x\":[11.159210526315789,13.489473684210527,12.189447368421053,12.177192982456141,11.779824561403508,9.441666666666666,11.30438596491228],\"xaxis\":\"x\",\"y\":[500.2315789473684,501.89578947368426,279.99894736842106,882.7931578947369,305.86315789473684,292.49894736842106,500.9452631578947],\"yaxis\":\"y\",\"type\":\"scatter\"}],                        {\"template\":{\"data\":{\"barpolar\":[{\"marker\":{\"line\":{\"color\":\"white\",\"width\":0.5},\"pattern\":{\"fillmode\":\"overlay\",\"size\":10,\"solidity\":0.2}},\"type\":\"barpolar\"}],\"bar\":[{\"error_x\":{\"color\":\"#2a3f5f\"},\"error_y\":{\"color\":\"#2a3f5f\"},\"marker\":{\"line\":{\"color\":\"white\",\"width\":0.5},\"pattern\":{\"fillmode\":\"overlay\",\"size\":10,\"solidity\":0.2}},\"type\":\"bar\"}],\"carpet\":[{\"aaxis\":{\"endlinecolor\":\"#2a3f5f\",\"gridcolor\":\"#C8D4E3\",\"linecolor\":\"#C8D4E3\",\"minorgridcolor\":\"#C8D4E3\",\"startlinecolor\":\"#2a3f5f\"},\"baxis\":{\"endlinecolor\":\"#2a3f5f\",\"gridcolor\":\"#C8D4E3\",\"linecolor\":\"#C8D4E3\",\"minorgridcolor\":\"#C8D4E3\",\"startlinecolor\":\"#2a3f5f\"},\"type\":\"carpet\"}],\"choropleth\":[{\"colorbar\":{\"outlinewidth\":0,\"ticks\":\"\"},\"type\":\"choropleth\"}],\"contourcarpet\":[{\"colorbar\":{\"outlinewidth\":0,\"ticks\":\"\"},\"type\":\"contourcarpet\"}],\"contour\":[{\"colorbar\":{\"outlinewidth\":0,\"ticks\":\"\"},\"colorscale\":[[0.0,\"#0d0887\"],[0.1111111111111111,\"#46039f\"],[0.2222222222222222,\"#7201a8\"],[0.3333333333333333,\"#9c179e\"],[0.4444444444444444,\"#bd3786\"],[0.5555555555555556,\"#d8576b\"],[0.6666666666666666,\"#ed7953\"],[0.7777777777777778,\"#fb9f3a\"],[0.8888888888888888,\"#fdca26\"],[1.0,\"#f0f921\"]],\"type\":\"contour\"}],\"heatmapgl\":[{\"colorbar\":{\"outlinewidth\":0,\"ticks\":\"\"},\"colorscale\":[[0.0,\"#0d0887\"],[0.1111111111111111,\"#46039f\"],[0.2222222222222222,\"#7201a8\"],[0.3333333333333333,\"#9c179e\"],[0.4444444444444444,\"#bd3786\"],[0.5555555555555556,\"#d8576b\"],[0.6666666666666666,\"#ed7953\"],[0.7777777777777778,\"#fb9f3a\"],[0.8888888888888888,\"#fdca26\"],[1.0,\"#f0f921\"]],\"type\":\"heatmapgl\"}],\"heatmap\":[{\"colorbar\":{\"outlinewidth\":0,\"ticks\":\"\"},\"colorscale\":[[0.0,\"#0d0887\"],[0.1111111111111111,\"#46039f\"],[0.2222222222222222,\"#7201a8\"],[0.3333333333333333,\"#9c179e\"],[0.4444444444444444,\"#bd3786\"],[0.5555555555555556,\"#d8576b\"],[0.6666666666666666,\"#ed7953\"],[0.7777777777777778,\"#fb9f3a\"],[0.8888888888888888,\"#fdca26\"],[1.0,\"#f0f921\"]],\"type\":\"heatmap\"}],\"histogram2dcontour\":[{\"colorbar\":{\"outlinewidth\":0,\"ticks\":\"\"},\"colorscale\":[[0.0,\"#0d0887\"],[0.1111111111111111,\"#46039f\"],[0.2222222222222222,\"#7201a8\"],[0.3333333333333333,\"#9c179e\"],[0.4444444444444444,\"#bd3786\"],[0.5555555555555556,\"#d8576b\"],[0.6666666666666666,\"#ed7953\"],[0.7777777777777778,\"#fb9f3a\"],[0.8888888888888888,\"#fdca26\"],[1.0,\"#f0f921\"]],\"type\":\"histogram2dcontour\"}],\"histogram2d\":[{\"colorbar\":{\"outlinewidth\":0,\"ticks\":\"\"},\"colorscale\":[[0.0,\"#0d0887\"],[0.1111111111111111,\"#46039f\"],[0.2222222222222222,\"#7201a8\"],[0.3333333333333333,\"#9c179e\"],[0.4444444444444444,\"#bd3786\"],[0.5555555555555556,\"#d8576b\"],[0.6666666666666666,\"#ed7953\"],[0.7777777777777778,\"#fb9f3a\"],[0.8888888888888888,\"#fdca26\"],[1.0,\"#f0f921\"]],\"type\":\"histogram2d\"}],\"histogram\":[{\"marker\":{\"pattern\":{\"fillmode\":\"overlay\",\"size\":10,\"solidity\":0.2}},\"type\":\"histogram\"}],\"mesh3d\":[{\"colorbar\":{\"outlinewidth\":0,\"ticks\":\"\"},\"type\":\"mesh3d\"}],\"parcoords\":[{\"line\":{\"colorbar\":{\"outlinewidth\":0,\"ticks\":\"\"}},\"type\":\"parcoords\"}],\"pie\":[{\"automargin\":true,\"type\":\"pie\"}],\"scatter3d\":[{\"line\":{\"colorbar\":{\"outlinewidth\":0,\"ticks\":\"\"}},\"marker\":{\"colorbar\":{\"outlinewidth\":0,\"ticks\":\"\"}},\"type\":\"scatter3d\"}],\"scattercarpet\":[{\"marker\":{\"colorbar\":{\"outlinewidth\":0,\"ticks\":\"\"}},\"type\":\"scattercarpet\"}],\"scattergeo\":[{\"marker\":{\"colorbar\":{\"outlinewidth\":0,\"ticks\":\"\"}},\"type\":\"scattergeo\"}],\"scattergl\":[{\"marker\":{\"colorbar\":{\"outlinewidth\":0,\"ticks\":\"\"}},\"type\":\"scattergl\"}],\"scattermapbox\":[{\"marker\":{\"colorbar\":{\"outlinewidth\":0,\"ticks\":\"\"}},\"type\":\"scattermapbox\"}],\"scatterpolargl\":[{\"marker\":{\"colorbar\":{\"outlinewidth\":0,\"ticks\":\"\"}},\"type\":\"scatterpolargl\"}],\"scatterpolar\":[{\"marker\":{\"colorbar\":{\"outlinewidth\":0,\"ticks\":\"\"}},\"type\":\"scatterpolar\"}],\"scatter\":[{\"fillpattern\":{\"fillmode\":\"overlay\",\"size\":10,\"solidity\":0.2},\"type\":\"scatter\"}],\"scatterternary\":[{\"marker\":{\"colorbar\":{\"outlinewidth\":0,\"ticks\":\"\"}},\"type\":\"scatterternary\"}],\"surface\":[{\"colorbar\":{\"outlinewidth\":0,\"ticks\":\"\"},\"colorscale\":[[0.0,\"#0d0887\"],[0.1111111111111111,\"#46039f\"],[0.2222222222222222,\"#7201a8\"],[0.3333333333333333,\"#9c179e\"],[0.4444444444444444,\"#bd3786\"],[0.5555555555555556,\"#d8576b\"],[0.6666666666666666,\"#ed7953\"],[0.7777777777777778,\"#fb9f3a\"],[0.8888888888888888,\"#fdca26\"],[1.0,\"#f0f921\"]],\"type\":\"surface\"}],\"table\":[{\"cells\":{\"fill\":{\"color\":\"#EBF0F8\"},\"line\":{\"color\":\"white\"}},\"header\":{\"fill\":{\"color\":\"#C8D4E3\"},\"line\":{\"color\":\"white\"}},\"type\":\"table\"}]},\"layout\":{\"annotationdefaults\":{\"arrowcolor\":\"#2a3f5f\",\"arrowhead\":0,\"arrowwidth\":1},\"autotypenumbers\":\"strict\",\"coloraxis\":{\"colorbar\":{\"outlinewidth\":0,\"ticks\":\"\"}},\"colorscale\":{\"diverging\":[[0,\"#8e0152\"],[0.1,\"#c51b7d\"],[0.2,\"#de77ae\"],[0.3,\"#f1b6da\"],[0.4,\"#fde0ef\"],[0.5,\"#f7f7f7\"],[0.6,\"#e6f5d0\"],[0.7,\"#b8e186\"],[0.8,\"#7fbc41\"],[0.9,\"#4d9221\"],[1,\"#276419\"]],\"sequential\":[[0.0,\"#0d0887\"],[0.1111111111111111,\"#46039f\"],[0.2222222222222222,\"#7201a8\"],[0.3333333333333333,\"#9c179e\"],[0.4444444444444444,\"#bd3786\"],[0.5555555555555556,\"#d8576b\"],[0.6666666666666666,\"#ed7953\"],[0.7777777777777778,\"#fb9f3a\"],[0.8888888888888888,\"#fdca26\"],[1.0,\"#f0f921\"]],\"sequentialminus\":[[0.0,\"#0d0887\"],[0.1111111111111111,\"#46039f\"],[0.2222222222222222,\"#7201a8\"],[0.3333333333333333,\"#9c179e\"],[0.4444444444444444,\"#bd3786\"],[0.5555555555555556,\"#d8576b\"],[0.6666666666666666,\"#ed7953\"],[0.7777777777777778,\"#fb9f3a\"],[0.8888888888888888,\"#fdca26\"],[1.0,\"#f0f921\"]]},\"colorway\":[\"#636efa\",\"#EF553B\",\"#00cc96\",\"#ab63fa\",\"#FFA15A\",\"#19d3f3\",\"#FF6692\",\"#B6E880\",\"#FF97FF\",\"#FECB52\"],\"font\":{\"color\":\"#2a3f5f\"},\"geo\":{\"bgcolor\":\"white\",\"lakecolor\":\"white\",\"landcolor\":\"white\",\"showlakes\":true,\"showland\":true,\"subunitcolor\":\"#C8D4E3\"},\"hoverlabel\":{\"align\":\"left\"},\"hovermode\":\"closest\",\"mapbox\":{\"style\":\"light\"},\"paper_bgcolor\":\"white\",\"plot_bgcolor\":\"white\",\"polar\":{\"angularaxis\":{\"gridcolor\":\"#EBF0F8\",\"linecolor\":\"#EBF0F8\",\"ticks\":\"\"},\"bgcolor\":\"white\",\"radialaxis\":{\"gridcolor\":\"#EBF0F8\",\"linecolor\":\"#EBF0F8\",\"ticks\":\"\"}},\"scene\":{\"xaxis\":{\"backgroundcolor\":\"white\",\"gridcolor\":\"#DFE8F3\",\"gridwidth\":2,\"linecolor\":\"#EBF0F8\",\"showbackground\":true,\"ticks\":\"\",\"zerolinecolor\":\"#EBF0F8\"},\"yaxis\":{\"backgroundcolor\":\"white\",\"gridcolor\":\"#DFE8F3\",\"gridwidth\":2,\"linecolor\":\"#EBF0F8\",\"showbackground\":true,\"ticks\":\"\",\"zerolinecolor\":\"#EBF0F8\"},\"zaxis\":{\"backgroundcolor\":\"white\",\"gridcolor\":\"#DFE8F3\",\"gridwidth\":2,\"linecolor\":\"#EBF0F8\",\"showbackground\":true,\"ticks\":\"\",\"zerolinecolor\":\"#EBF0F8\"}},\"shapedefaults\":{\"line\":{\"color\":\"#2a3f5f\"}},\"ternary\":{\"aaxis\":{\"gridcolor\":\"#DFE8F3\",\"linecolor\":\"#A2B1C6\",\"ticks\":\"\"},\"baxis\":{\"gridcolor\":\"#DFE8F3\",\"linecolor\":\"#A2B1C6\",\"ticks\":\"\"},\"bgcolor\":\"white\",\"caxis\":{\"gridcolor\":\"#DFE8F3\",\"linecolor\":\"#A2B1C6\",\"ticks\":\"\"}},\"title\":{\"x\":0.05},\"xaxis\":{\"automargin\":true,\"gridcolor\":\"#EBF0F8\",\"linecolor\":\"#EBF0F8\",\"ticks\":\"\",\"title\":{\"standoff\":15},\"zerolinecolor\":\"#EBF0F8\",\"zerolinewidth\":2},\"yaxis\":{\"automargin\":true,\"gridcolor\":\"#EBF0F8\",\"linecolor\":\"#EBF0F8\",\"ticks\":\"\",\"title\":{\"standoff\":15},\"zerolinecolor\":\"#EBF0F8\",\"zerolinewidth\":2}}},\"xaxis\":{\"anchor\":\"y\",\"domain\":[0.0,1.0],\"title\":{\"text\":\"(\\u062f\\u0631\\u062c\\u0647 \\u0633\\u0627\\u0646\\u062a\\u06cc\\u06af\\u0631\\u0627\\u062f) \\u062f\\u0645\\u0627\\u06cc \\u0645\\u062a\\u0648\\u0633\\u0637\"},\"showgrid\":true,\"zeroline\":true,\"showline\":true,\"linecolor\":\"black\",\"linewidth\":1,\"ticks\":\"inside\",\"ticklen\":6,\"tickwidth\":1,\"dtick\":1},\"yaxis\":{\"anchor\":\"x\",\"domain\":[0.0,1.0],\"title\":{\"text\":\"\\u0628\\u0627\\u0631\\u0634 (\\u0645\\u06cc\\u0644\\u06cc\\u0645\\u062a\\u0631)\"},\"showgrid\":true,\"zeroline\":true,\"showline\":true,\"linecolor\":\"black\",\"linewidth\":1,\"ticks\":\"inside\",\"ticklen\":6,\"tickwidth\":1,\"dtick\":150},\"legend\":{\"title\":{\"text\":\"\\u062e\\u0648\\u0634\\u0647\\u200c\\u0647\\u0627\"},\"tracegroupgap\":0,\"font\":{\"size\":18}},\"margin\":{\"t\":50,\"l\":50,\"r\":50,\"b\":50},\"height\":600,\"width\":600,\"font\":{\"family\":\"B Zar\",\"size\":24},\"plot_bgcolor\":\"white\",\"paper_bgcolor\":\"white\",\"shapes\":[{\"line\":{\"color\":\"black\",\"width\":2},\"type\":\"rect\",\"x0\":0,\"x1\":1,\"xref\":\"paper\",\"y0\":0,\"y1\":1,\"yref\":\"paper\"}]},                        {\"responsive\": true}                    ).then(function(){\n",
       "                            \n",
       "var gd = document.getElementById('804f3108-e717-4774-8f7d-cacacfd347e7');\n",
       "var x = new MutationObserver(function (mutations, observer) {{\n",
       "        var display = window.getComputedStyle(gd).display;\n",
       "        if (!display || display === 'none') {{\n",
       "            console.log([gd, 'removed!']);\n",
       "            Plotly.purge(gd);\n",
       "            observer.disconnect();\n",
       "        }}\n",
       "}});\n",
       "\n",
       "// Listen for the removal of the full notebook cells\n",
       "var notebookContainer = gd.closest('#notebook-container');\n",
       "if (notebookContainer) {{\n",
       "    x.observe(notebookContainer, {childList: true});\n",
       "}}\n",
       "\n",
       "// Listen for the clearing of the current output cell\n",
       "var outputEl = gd.closest('.output');\n",
       "if (outputEl) {{\n",
       "    x.observe(outputEl, {childList: true});\n",
       "}}\n",
       "\n",
       "                        })                };                });            </script>        </div>"
      ]
     },
     "metadata": {},
     "output_type": "display_data"
    }
   ],
   "source": [
    "station_data['Cluster'] = station_data['Cluster'].astype(str)\n",
    "fig = px.scatter(\n",
    "    station_data,\n",
    "    x=\"Temperature\",\n",
    "    y=\"Precipitation\",\n",
    "    color=\"Cluster\",  # This is equivalent to `hue=\"Cluster\"` in seaborn\n",
    "    color_continuous_scale=\"Viridis\",  # Set the color palette to 'Viridis'\n",
    "    hover_name=station_data['Station_Name'],\n",
    "    height=600,\n",
    "    width=600\n",
    ")\n",
    "\n",
    "fig.update_traces(\n",
    "    marker=dict(size=8)\n",
    ")\n",
    "\n",
    "fig.update_layout(\n",
    "    template=\"plotly_white\",\n",
    "    # bordercolor='black',\n",
    "    # title={\n",
    "    #     'text': \"دمای متوسط در مقابل مجموع بارش بر اساس خوشه‌ها\",\n",
    "    #     'x': 0.5,  # Center the title\n",
    "    #     'xanchor': 'center',\n",
    "    #     'yanchor': 'top',\n",
    "    #     'font': {'size': 24, 'family': 'B Zar'}  # Change title font and size\n",
    "    # },\n",
    "    xaxis_title=\"(درجه سانتیگراد) دمای متوسط\",\n",
    "    yaxis_title=\"بارش (میلیمتر)\",\n",
    "    font={\n",
    "        'family': 'B Zar',\n",
    "        'size': 24\n",
    "    },\n",
    "    legend_title=\"خوشه‌ها\",\n",
    "    legend=dict(\n",
    "        font=dict(\n",
    "            size=18\n",
    "        )\n",
    "    ),\n",
    "    # xaxis=dict(showgrid=True, gridwidth=1, gridcolor='LightGray'),\n",
    "    # yaxis=dict(showgrid=True, gridwidth=1, gridcolor='LightGray'),\n",
    "    margin=dict(l=50, r=50, t=50, b=50)\n",
    ")\n",
    "\n",
    "fig.update_layout(\n",
    "    xaxis=dict(\n",
    "        showgrid=True,\n",
    "        zeroline=True,\n",
    "        showline=True,\n",
    "        linecolor='black',\n",
    "        linewidth=1,\n",
    "        ticks='inside',\n",
    "        ticklen=6,\n",
    "        tickwidth=1, \n",
    "        dtick=1\n",
    "    ),\n",
    "    yaxis=dict(\n",
    "        showgrid=True,\n",
    "        zeroline=True,\n",
    "        showline=True,\n",
    "        linecolor='black',\n",
    "        linewidth=1,\n",
    "        ticks='inside',\n",
    "        ticklen=6,\n",
    "        tickwidth=1,\n",
    "        dtick=150\n",
    "    ),\n",
    "    plot_bgcolor='white',\n",
    "    paper_bgcolor='white',\n",
    "    shapes=[\n",
    "        dict(\n",
    "            type=\"rect\",\n",
    "            x0=0,\n",
    "            x1=1,\n",
    "            y0=0,\n",
    "            y1=1,\n",
    "            xref=\"paper\",\n",
    "            yref=\"paper\",\n",
    "            line=dict(\n",
    "                color=\"black\",\n",
    "                width=2\n",
    "            )\n",
    "        )\n",
    "    ]\n",
    ")\n",
    "\n",
    "fig.show()"
   ]
  },
  {
   "cell_type": "code",
   "execution_count": 43,
   "metadata": {},
   "outputs": [
    {
     "data": {
      "application/vnd.plotly.v1+json": {
       "config": {
        "plotlyServerURL": "https://plot.ly"
       },
       "data": [
        {
         "hovertemplate": "Station: %{text}<br>Temperature: %{x}<br>Precipitation: %{y}<br>Elevation: %{z}<br><extra></extra>",
         "marker": {
          "color": [
           "blue",
           "blue",
           "blue",
           "red",
           "blue",
           "blue",
           "green",
           "blue",
           "red",
           "red",
           "green",
           "red",
           "green",
           "blue",
           "blue",
           "blue",
           "green",
           "red",
           "red",
           "red",
           "green",
           "green",
           "red",
           "green"
          ],
          "opacity": 0.8,
          "size": 8,
          "symbol": [
           "cross",
           "cross",
           "cross",
           "square",
           "cross",
           "cross",
           "circle",
           "cross",
           "square",
           "square",
           "circle",
           "square",
           "circle",
           "cross",
           "cross",
           "cross",
           "circle",
           "square",
           "square",
           "square",
           "circle",
           "circle",
           "square",
           "circle"
          ]
         },
         "mode": "markers",
         "text": [
          "Astara",
          "Bandar-e-anzali",
          "Rasht",
          "Manjil",
          "Ramsar",
          "Nowshahr",
          "Siahbisheh",
          "Babolsar",
          "Gharakhil",
          "Sari",
          "Kiyasar",
          "Sari (dasht-e-naz airport)",
          "Jirandeh",
          "Talesh",
          "Kiyashahr",
          "Lahijan",
          "Masuleh",
          "Galugah",
          "Bandar-e-amirabad",
          "Amol",
          "Kojur",
          "Baladeh",
          "Polsefid",
          "Alasht"
         ],
         "type": "scatter3d",
         "x": [
          16,
          17.3,
          17,
          18.1,
          17.3,
          17.1,
          11.2,
          18.2,
          17.6,
          18.4,
          13.5,
          17.8,
          12.2,
          16.4,
          17.1,
          16.7,
          12.2,
          17.7,
          17.8,
          17.8,
          11.8,
          9.4,
          15.5,
          11.3
         ],
         "y": [
          1292.8,
          1688.6,
          1193.4,
          202.6,
          1222.5,
          1263.9,
          500.2,
          824.8,
          655,
          705.7,
          501.9,
          602.6,
          280,
          945.7,
          1153.5,
          1291.4,
          882.8,
          536.9,
          588.9,
          643.8,
          305.9,
          292.5,
          537.6,
          500.9
         ],
         "z": [
          -21.1,
          -23.6,
          -8.6,
          338.3,
          -20,
          -20.9,
          1855.4,
          -21,
          14.7,
          23,
          1294.3,
          16.7,
          1581.4,
          7,
          -22,
          34.2,
          1081,
          -10,
          -20,
          23.7,
          1550,
          2120,
          610,
          1805
         ]
        }
       ],
       "layout": {
        "font": {
         "family": "B Zar",
         "size": 18
        },
        "height": 800,
        "margin": {
         "b": 0,
         "l": 0,
         "r": 0,
         "t": 0
        },
        "scene": {
         "xaxis": {
          "title": {
           "text": "دمای متوسط (درجه سانتیگراد)"
          }
         },
         "yaxis": {
          "title": {
           "text": "بارندگی (میلیمتر)"
          }
         },
         "zaxis": {
          "title": {
           "text": "ارتفاع ایستگاه (متر)"
          }
         }
        },
        "template": {
         "data": {
          "bar": [
           {
            "error_x": {
             "color": "#2a3f5f"
            },
            "error_y": {
             "color": "#2a3f5f"
            },
            "marker": {
             "line": {
              "color": "#E5ECF6",
              "width": 0.5
             },
             "pattern": {
              "fillmode": "overlay",
              "size": 10,
              "solidity": 0.2
             }
            },
            "type": "bar"
           }
          ],
          "barpolar": [
           {
            "marker": {
             "line": {
              "color": "#E5ECF6",
              "width": 0.5
             },
             "pattern": {
              "fillmode": "overlay",
              "size": 10,
              "solidity": 0.2
             }
            },
            "type": "barpolar"
           }
          ],
          "carpet": [
           {
            "aaxis": {
             "endlinecolor": "#2a3f5f",
             "gridcolor": "white",
             "linecolor": "white",
             "minorgridcolor": "white",
             "startlinecolor": "#2a3f5f"
            },
            "baxis": {
             "endlinecolor": "#2a3f5f",
             "gridcolor": "white",
             "linecolor": "white",
             "minorgridcolor": "white",
             "startlinecolor": "#2a3f5f"
            },
            "type": "carpet"
           }
          ],
          "choropleth": [
           {
            "colorbar": {
             "outlinewidth": 0,
             "ticks": ""
            },
            "type": "choropleth"
           }
          ],
          "contour": [
           {
            "colorbar": {
             "outlinewidth": 0,
             "ticks": ""
            },
            "colorscale": [
             [
              0,
              "#0d0887"
             ],
             [
              0.1111111111111111,
              "#46039f"
             ],
             [
              0.2222222222222222,
              "#7201a8"
             ],
             [
              0.3333333333333333,
              "#9c179e"
             ],
             [
              0.4444444444444444,
              "#bd3786"
             ],
             [
              0.5555555555555556,
              "#d8576b"
             ],
             [
              0.6666666666666666,
              "#ed7953"
             ],
             [
              0.7777777777777778,
              "#fb9f3a"
             ],
             [
              0.8888888888888888,
              "#fdca26"
             ],
             [
              1,
              "#f0f921"
             ]
            ],
            "type": "contour"
           }
          ],
          "contourcarpet": [
           {
            "colorbar": {
             "outlinewidth": 0,
             "ticks": ""
            },
            "type": "contourcarpet"
           }
          ],
          "heatmap": [
           {
            "colorbar": {
             "outlinewidth": 0,
             "ticks": ""
            },
            "colorscale": [
             [
              0,
              "#0d0887"
             ],
             [
              0.1111111111111111,
              "#46039f"
             ],
             [
              0.2222222222222222,
              "#7201a8"
             ],
             [
              0.3333333333333333,
              "#9c179e"
             ],
             [
              0.4444444444444444,
              "#bd3786"
             ],
             [
              0.5555555555555556,
              "#d8576b"
             ],
             [
              0.6666666666666666,
              "#ed7953"
             ],
             [
              0.7777777777777778,
              "#fb9f3a"
             ],
             [
              0.8888888888888888,
              "#fdca26"
             ],
             [
              1,
              "#f0f921"
             ]
            ],
            "type": "heatmap"
           }
          ],
          "heatmapgl": [
           {
            "colorbar": {
             "outlinewidth": 0,
             "ticks": ""
            },
            "colorscale": [
             [
              0,
              "#0d0887"
             ],
             [
              0.1111111111111111,
              "#46039f"
             ],
             [
              0.2222222222222222,
              "#7201a8"
             ],
             [
              0.3333333333333333,
              "#9c179e"
             ],
             [
              0.4444444444444444,
              "#bd3786"
             ],
             [
              0.5555555555555556,
              "#d8576b"
             ],
             [
              0.6666666666666666,
              "#ed7953"
             ],
             [
              0.7777777777777778,
              "#fb9f3a"
             ],
             [
              0.8888888888888888,
              "#fdca26"
             ],
             [
              1,
              "#f0f921"
             ]
            ],
            "type": "heatmapgl"
           }
          ],
          "histogram": [
           {
            "marker": {
             "pattern": {
              "fillmode": "overlay",
              "size": 10,
              "solidity": 0.2
             }
            },
            "type": "histogram"
           }
          ],
          "histogram2d": [
           {
            "colorbar": {
             "outlinewidth": 0,
             "ticks": ""
            },
            "colorscale": [
             [
              0,
              "#0d0887"
             ],
             [
              0.1111111111111111,
              "#46039f"
             ],
             [
              0.2222222222222222,
              "#7201a8"
             ],
             [
              0.3333333333333333,
              "#9c179e"
             ],
             [
              0.4444444444444444,
              "#bd3786"
             ],
             [
              0.5555555555555556,
              "#d8576b"
             ],
             [
              0.6666666666666666,
              "#ed7953"
             ],
             [
              0.7777777777777778,
              "#fb9f3a"
             ],
             [
              0.8888888888888888,
              "#fdca26"
             ],
             [
              1,
              "#f0f921"
             ]
            ],
            "type": "histogram2d"
           }
          ],
          "histogram2dcontour": [
           {
            "colorbar": {
             "outlinewidth": 0,
             "ticks": ""
            },
            "colorscale": [
             [
              0,
              "#0d0887"
             ],
             [
              0.1111111111111111,
              "#46039f"
             ],
             [
              0.2222222222222222,
              "#7201a8"
             ],
             [
              0.3333333333333333,
              "#9c179e"
             ],
             [
              0.4444444444444444,
              "#bd3786"
             ],
             [
              0.5555555555555556,
              "#d8576b"
             ],
             [
              0.6666666666666666,
              "#ed7953"
             ],
             [
              0.7777777777777778,
              "#fb9f3a"
             ],
             [
              0.8888888888888888,
              "#fdca26"
             ],
             [
              1,
              "#f0f921"
             ]
            ],
            "type": "histogram2dcontour"
           }
          ],
          "mesh3d": [
           {
            "colorbar": {
             "outlinewidth": 0,
             "ticks": ""
            },
            "type": "mesh3d"
           }
          ],
          "parcoords": [
           {
            "line": {
             "colorbar": {
              "outlinewidth": 0,
              "ticks": ""
             }
            },
            "type": "parcoords"
           }
          ],
          "pie": [
           {
            "automargin": true,
            "type": "pie"
           }
          ],
          "scatter": [
           {
            "fillpattern": {
             "fillmode": "overlay",
             "size": 10,
             "solidity": 0.2
            },
            "type": "scatter"
           }
          ],
          "scatter3d": [
           {
            "line": {
             "colorbar": {
              "outlinewidth": 0,
              "ticks": ""
             }
            },
            "marker": {
             "colorbar": {
              "outlinewidth": 0,
              "ticks": ""
             }
            },
            "type": "scatter3d"
           }
          ],
          "scattercarpet": [
           {
            "marker": {
             "colorbar": {
              "outlinewidth": 0,
              "ticks": ""
             }
            },
            "type": "scattercarpet"
           }
          ],
          "scattergeo": [
           {
            "marker": {
             "colorbar": {
              "outlinewidth": 0,
              "ticks": ""
             }
            },
            "type": "scattergeo"
           }
          ],
          "scattergl": [
           {
            "marker": {
             "colorbar": {
              "outlinewidth": 0,
              "ticks": ""
             }
            },
            "type": "scattergl"
           }
          ],
          "scattermapbox": [
           {
            "marker": {
             "colorbar": {
              "outlinewidth": 0,
              "ticks": ""
             }
            },
            "type": "scattermapbox"
           }
          ],
          "scatterpolar": [
           {
            "marker": {
             "colorbar": {
              "outlinewidth": 0,
              "ticks": ""
             }
            },
            "type": "scatterpolar"
           }
          ],
          "scatterpolargl": [
           {
            "marker": {
             "colorbar": {
              "outlinewidth": 0,
              "ticks": ""
             }
            },
            "type": "scatterpolargl"
           }
          ],
          "scatterternary": [
           {
            "marker": {
             "colorbar": {
              "outlinewidth": 0,
              "ticks": ""
             }
            },
            "type": "scatterternary"
           }
          ],
          "surface": [
           {
            "colorbar": {
             "outlinewidth": 0,
             "ticks": ""
            },
            "colorscale": [
             [
              0,
              "#0d0887"
             ],
             [
              0.1111111111111111,
              "#46039f"
             ],
             [
              0.2222222222222222,
              "#7201a8"
             ],
             [
              0.3333333333333333,
              "#9c179e"
             ],
             [
              0.4444444444444444,
              "#bd3786"
             ],
             [
              0.5555555555555556,
              "#d8576b"
             ],
             [
              0.6666666666666666,
              "#ed7953"
             ],
             [
              0.7777777777777778,
              "#fb9f3a"
             ],
             [
              0.8888888888888888,
              "#fdca26"
             ],
             [
              1,
              "#f0f921"
             ]
            ],
            "type": "surface"
           }
          ],
          "table": [
           {
            "cells": {
             "fill": {
              "color": "#EBF0F8"
             },
             "line": {
              "color": "white"
             }
            },
            "header": {
             "fill": {
              "color": "#C8D4E3"
             },
             "line": {
              "color": "white"
             }
            },
            "type": "table"
           }
          ]
         },
         "layout": {
          "annotationdefaults": {
           "arrowcolor": "#2a3f5f",
           "arrowhead": 0,
           "arrowwidth": 1
          },
          "autotypenumbers": "strict",
          "coloraxis": {
           "colorbar": {
            "outlinewidth": 0,
            "ticks": ""
           }
          },
          "colorscale": {
           "diverging": [
            [
             0,
             "#8e0152"
            ],
            [
             0.1,
             "#c51b7d"
            ],
            [
             0.2,
             "#de77ae"
            ],
            [
             0.3,
             "#f1b6da"
            ],
            [
             0.4,
             "#fde0ef"
            ],
            [
             0.5,
             "#f7f7f7"
            ],
            [
             0.6,
             "#e6f5d0"
            ],
            [
             0.7,
             "#b8e186"
            ],
            [
             0.8,
             "#7fbc41"
            ],
            [
             0.9,
             "#4d9221"
            ],
            [
             1,
             "#276419"
            ]
           ],
           "sequential": [
            [
             0,
             "#0d0887"
            ],
            [
             0.1111111111111111,
             "#46039f"
            ],
            [
             0.2222222222222222,
             "#7201a8"
            ],
            [
             0.3333333333333333,
             "#9c179e"
            ],
            [
             0.4444444444444444,
             "#bd3786"
            ],
            [
             0.5555555555555556,
             "#d8576b"
            ],
            [
             0.6666666666666666,
             "#ed7953"
            ],
            [
             0.7777777777777778,
             "#fb9f3a"
            ],
            [
             0.8888888888888888,
             "#fdca26"
            ],
            [
             1,
             "#f0f921"
            ]
           ],
           "sequentialminus": [
            [
             0,
             "#0d0887"
            ],
            [
             0.1111111111111111,
             "#46039f"
            ],
            [
             0.2222222222222222,
             "#7201a8"
            ],
            [
             0.3333333333333333,
             "#9c179e"
            ],
            [
             0.4444444444444444,
             "#bd3786"
            ],
            [
             0.5555555555555556,
             "#d8576b"
            ],
            [
             0.6666666666666666,
             "#ed7953"
            ],
            [
             0.7777777777777778,
             "#fb9f3a"
            ],
            [
             0.8888888888888888,
             "#fdca26"
            ],
            [
             1,
             "#f0f921"
            ]
           ]
          },
          "colorway": [
           "#636efa",
           "#EF553B",
           "#00cc96",
           "#ab63fa",
           "#FFA15A",
           "#19d3f3",
           "#FF6692",
           "#B6E880",
           "#FF97FF",
           "#FECB52"
          ],
          "font": {
           "color": "#2a3f5f"
          },
          "geo": {
           "bgcolor": "white",
           "lakecolor": "white",
           "landcolor": "#E5ECF6",
           "showlakes": true,
           "showland": true,
           "subunitcolor": "white"
          },
          "hoverlabel": {
           "align": "left"
          },
          "hovermode": "closest",
          "mapbox": {
           "style": "light"
          },
          "paper_bgcolor": "white",
          "plot_bgcolor": "#E5ECF6",
          "polar": {
           "angularaxis": {
            "gridcolor": "white",
            "linecolor": "white",
            "ticks": ""
           },
           "bgcolor": "#E5ECF6",
           "radialaxis": {
            "gridcolor": "white",
            "linecolor": "white",
            "ticks": ""
           }
          },
          "scene": {
           "xaxis": {
            "backgroundcolor": "#E5ECF6",
            "gridcolor": "white",
            "gridwidth": 2,
            "linecolor": "white",
            "showbackground": true,
            "ticks": "",
            "zerolinecolor": "white"
           },
           "yaxis": {
            "backgroundcolor": "#E5ECF6",
            "gridcolor": "white",
            "gridwidth": 2,
            "linecolor": "white",
            "showbackground": true,
            "ticks": "",
            "zerolinecolor": "white"
           },
           "zaxis": {
            "backgroundcolor": "#E5ECF6",
            "gridcolor": "white",
            "gridwidth": 2,
            "linecolor": "white",
            "showbackground": true,
            "ticks": "",
            "zerolinecolor": "white"
           }
          },
          "shapedefaults": {
           "line": {
            "color": "#2a3f5f"
           }
          },
          "ternary": {
           "aaxis": {
            "gridcolor": "white",
            "linecolor": "white",
            "ticks": ""
           },
           "baxis": {
            "gridcolor": "white",
            "linecolor": "white",
            "ticks": ""
           },
           "bgcolor": "#E5ECF6",
           "caxis": {
            "gridcolor": "white",
            "linecolor": "white",
            "ticks": ""
           }
          },
          "title": {
           "x": 0.05
          },
          "xaxis": {
           "automargin": true,
           "gridcolor": "white",
           "linecolor": "white",
           "ticks": "",
           "title": {
            "standoff": 15
           },
           "zerolinecolor": "white",
           "zerolinewidth": 2
          },
          "yaxis": {
           "automargin": true,
           "gridcolor": "white",
           "linecolor": "white",
           "ticks": "",
           "title": {
            "standoff": 15
           },
           "zerolinecolor": "white",
           "zerolinewidth": 2
          }
         }
        },
        "width": 800
       }
      },
      "text/html": [
       "<div>                            <div id=\"57757b99-80b8-45bd-b07f-431dc04554d3\" class=\"plotly-graph-div\" style=\"height:800px; width:800px;\"></div>            <script type=\"text/javascript\">                require([\"plotly\"], function(Plotly) {                    window.PLOTLYENV=window.PLOTLYENV || {};                                    if (document.getElementById(\"57757b99-80b8-45bd-b07f-431dc04554d3\")) {                    Plotly.newPlot(                        \"57757b99-80b8-45bd-b07f-431dc04554d3\",                        [{\"hovertemplate\":\"Station: %{text}\\u003cbr\\u003eTemperature: %{x}\\u003cbr\\u003ePrecipitation: %{y}\\u003cbr\\u003eElevation: %{z}\\u003cbr\\u003e\\u003cextra\\u003e\\u003c\\u002fextra\\u003e\",\"marker\":{\"color\":[\"blue\",\"blue\",\"blue\",\"red\",\"blue\",\"blue\",\"green\",\"blue\",\"red\",\"red\",\"green\",\"red\",\"green\",\"blue\",\"blue\",\"blue\",\"green\",\"red\",\"red\",\"red\",\"green\",\"green\",\"red\",\"green\"],\"opacity\":0.8,\"size\":8,\"symbol\":[\"cross\",\"cross\",\"cross\",\"square\",\"cross\",\"cross\",\"circle\",\"cross\",\"square\",\"square\",\"circle\",\"square\",\"circle\",\"cross\",\"cross\",\"cross\",\"circle\",\"square\",\"square\",\"square\",\"circle\",\"circle\",\"square\",\"circle\"]},\"mode\":\"markers\",\"text\":[\"Astara\",\"Bandar-e-anzali\",\"Rasht\",\"Manjil\",\"Ramsar\",\"Nowshahr\",\"Siahbisheh\",\"Babolsar\",\"Gharakhil\",\"Sari\",\"Kiyasar\",\"Sari (dasht-e-naz airport)\",\"Jirandeh\",\"Talesh\",\"Kiyashahr\",\"Lahijan\",\"Masuleh\",\"Galugah\",\"Bandar-e-amirabad\",\"Amol\",\"Kojur\",\"Baladeh\",\"Polsefid\",\"Alasht\"],\"x\":[16.0,17.3,17.0,18.1,17.3,17.1,11.2,18.2,17.6,18.4,13.5,17.8,12.2,16.4,17.1,16.7,12.2,17.7,17.8,17.8,11.8,9.4,15.5,11.3],\"y\":[1292.8,1688.6,1193.4,202.6,1222.5,1263.9,500.2,824.8,655.0,705.7,501.9,602.6,280.0,945.7,1153.5,1291.4,882.8,536.9,588.9,643.8,305.9,292.5,537.6,500.9],\"z\":[-21.1,-23.6,-8.6,338.3,-20.0,-20.9,1855.4,-21.0,14.7,23.0,1294.3,16.7,1581.4,7.0,-22.0,34.2,1081.0,-10.0,-20.0,23.7,1550.0,2120.0,610.0,1805.0],\"type\":\"scatter3d\"}],                        {\"template\":{\"data\":{\"histogram2dcontour\":[{\"type\":\"histogram2dcontour\",\"colorbar\":{\"outlinewidth\":0,\"ticks\":\"\"},\"colorscale\":[[0.0,\"#0d0887\"],[0.1111111111111111,\"#46039f\"],[0.2222222222222222,\"#7201a8\"],[0.3333333333333333,\"#9c179e\"],[0.4444444444444444,\"#bd3786\"],[0.5555555555555556,\"#d8576b\"],[0.6666666666666666,\"#ed7953\"],[0.7777777777777778,\"#fb9f3a\"],[0.8888888888888888,\"#fdca26\"],[1.0,\"#f0f921\"]]}],\"choropleth\":[{\"type\":\"choropleth\",\"colorbar\":{\"outlinewidth\":0,\"ticks\":\"\"}}],\"histogram2d\":[{\"type\":\"histogram2d\",\"colorbar\":{\"outlinewidth\":0,\"ticks\":\"\"},\"colorscale\":[[0.0,\"#0d0887\"],[0.1111111111111111,\"#46039f\"],[0.2222222222222222,\"#7201a8\"],[0.3333333333333333,\"#9c179e\"],[0.4444444444444444,\"#bd3786\"],[0.5555555555555556,\"#d8576b\"],[0.6666666666666666,\"#ed7953\"],[0.7777777777777778,\"#fb9f3a\"],[0.8888888888888888,\"#fdca26\"],[1.0,\"#f0f921\"]]}],\"heatmap\":[{\"type\":\"heatmap\",\"colorbar\":{\"outlinewidth\":0,\"ticks\":\"\"},\"colorscale\":[[0.0,\"#0d0887\"],[0.1111111111111111,\"#46039f\"],[0.2222222222222222,\"#7201a8\"],[0.3333333333333333,\"#9c179e\"],[0.4444444444444444,\"#bd3786\"],[0.5555555555555556,\"#d8576b\"],[0.6666666666666666,\"#ed7953\"],[0.7777777777777778,\"#fb9f3a\"],[0.8888888888888888,\"#fdca26\"],[1.0,\"#f0f921\"]]}],\"heatmapgl\":[{\"type\":\"heatmapgl\",\"colorbar\":{\"outlinewidth\":0,\"ticks\":\"\"},\"colorscale\":[[0.0,\"#0d0887\"],[0.1111111111111111,\"#46039f\"],[0.2222222222222222,\"#7201a8\"],[0.3333333333333333,\"#9c179e\"],[0.4444444444444444,\"#bd3786\"],[0.5555555555555556,\"#d8576b\"],[0.6666666666666666,\"#ed7953\"],[0.7777777777777778,\"#fb9f3a\"],[0.8888888888888888,\"#fdca26\"],[1.0,\"#f0f921\"]]}],\"contourcarpet\":[{\"type\":\"contourcarpet\",\"colorbar\":{\"outlinewidth\":0,\"ticks\":\"\"}}],\"contour\":[{\"type\":\"contour\",\"colorbar\":{\"outlinewidth\":0,\"ticks\":\"\"},\"colorscale\":[[0.0,\"#0d0887\"],[0.1111111111111111,\"#46039f\"],[0.2222222222222222,\"#7201a8\"],[0.3333333333333333,\"#9c179e\"],[0.4444444444444444,\"#bd3786\"],[0.5555555555555556,\"#d8576b\"],[0.6666666666666666,\"#ed7953\"],[0.7777777777777778,\"#fb9f3a\"],[0.8888888888888888,\"#fdca26\"],[1.0,\"#f0f921\"]]}],\"surface\":[{\"type\":\"surface\",\"colorbar\":{\"outlinewidth\":0,\"ticks\":\"\"},\"colorscale\":[[0.0,\"#0d0887\"],[0.1111111111111111,\"#46039f\"],[0.2222222222222222,\"#7201a8\"],[0.3333333333333333,\"#9c179e\"],[0.4444444444444444,\"#bd3786\"],[0.5555555555555556,\"#d8576b\"],[0.6666666666666666,\"#ed7953\"],[0.7777777777777778,\"#fb9f3a\"],[0.8888888888888888,\"#fdca26\"],[1.0,\"#f0f921\"]]}],\"mesh3d\":[{\"type\":\"mesh3d\",\"colorbar\":{\"outlinewidth\":0,\"ticks\":\"\"}}],\"scatter\":[{\"fillpattern\":{\"fillmode\":\"overlay\",\"size\":10,\"solidity\":0.2},\"type\":\"scatter\"}],\"parcoords\":[{\"type\":\"parcoords\",\"line\":{\"colorbar\":{\"outlinewidth\":0,\"ticks\":\"\"}}}],\"scatterpolargl\":[{\"type\":\"scatterpolargl\",\"marker\":{\"colorbar\":{\"outlinewidth\":0,\"ticks\":\"\"}}}],\"bar\":[{\"error_x\":{\"color\":\"#2a3f5f\"},\"error_y\":{\"color\":\"#2a3f5f\"},\"marker\":{\"line\":{\"color\":\"#E5ECF6\",\"width\":0.5},\"pattern\":{\"fillmode\":\"overlay\",\"size\":10,\"solidity\":0.2}},\"type\":\"bar\"}],\"scattergeo\":[{\"type\":\"scattergeo\",\"marker\":{\"colorbar\":{\"outlinewidth\":0,\"ticks\":\"\"}}}],\"scatterpolar\":[{\"type\":\"scatterpolar\",\"marker\":{\"colorbar\":{\"outlinewidth\":0,\"ticks\":\"\"}}}],\"histogram\":[{\"marker\":{\"pattern\":{\"fillmode\":\"overlay\",\"size\":10,\"solidity\":0.2}},\"type\":\"histogram\"}],\"scattergl\":[{\"type\":\"scattergl\",\"marker\":{\"colorbar\":{\"outlinewidth\":0,\"ticks\":\"\"}}}],\"scatter3d\":[{\"type\":\"scatter3d\",\"line\":{\"colorbar\":{\"outlinewidth\":0,\"ticks\":\"\"}},\"marker\":{\"colorbar\":{\"outlinewidth\":0,\"ticks\":\"\"}}}],\"scattermapbox\":[{\"type\":\"scattermapbox\",\"marker\":{\"colorbar\":{\"outlinewidth\":0,\"ticks\":\"\"}}}],\"scatterternary\":[{\"type\":\"scatterternary\",\"marker\":{\"colorbar\":{\"outlinewidth\":0,\"ticks\":\"\"}}}],\"scattercarpet\":[{\"type\":\"scattercarpet\",\"marker\":{\"colorbar\":{\"outlinewidth\":0,\"ticks\":\"\"}}}],\"carpet\":[{\"aaxis\":{\"endlinecolor\":\"#2a3f5f\",\"gridcolor\":\"white\",\"linecolor\":\"white\",\"minorgridcolor\":\"white\",\"startlinecolor\":\"#2a3f5f\"},\"baxis\":{\"endlinecolor\":\"#2a3f5f\",\"gridcolor\":\"white\",\"linecolor\":\"white\",\"minorgridcolor\":\"white\",\"startlinecolor\":\"#2a3f5f\"},\"type\":\"carpet\"}],\"table\":[{\"cells\":{\"fill\":{\"color\":\"#EBF0F8\"},\"line\":{\"color\":\"white\"}},\"header\":{\"fill\":{\"color\":\"#C8D4E3\"},\"line\":{\"color\":\"white\"}},\"type\":\"table\"}],\"barpolar\":[{\"marker\":{\"line\":{\"color\":\"#E5ECF6\",\"width\":0.5},\"pattern\":{\"fillmode\":\"overlay\",\"size\":10,\"solidity\":0.2}},\"type\":\"barpolar\"}],\"pie\":[{\"automargin\":true,\"type\":\"pie\"}]},\"layout\":{\"autotypenumbers\":\"strict\",\"colorway\":[\"#636efa\",\"#EF553B\",\"#00cc96\",\"#ab63fa\",\"#FFA15A\",\"#19d3f3\",\"#FF6692\",\"#B6E880\",\"#FF97FF\",\"#FECB52\"],\"font\":{\"color\":\"#2a3f5f\"},\"hovermode\":\"closest\",\"hoverlabel\":{\"align\":\"left\"},\"paper_bgcolor\":\"white\",\"plot_bgcolor\":\"#E5ECF6\",\"polar\":{\"bgcolor\":\"#E5ECF6\",\"angularaxis\":{\"gridcolor\":\"white\",\"linecolor\":\"white\",\"ticks\":\"\"},\"radialaxis\":{\"gridcolor\":\"white\",\"linecolor\":\"white\",\"ticks\":\"\"}},\"ternary\":{\"bgcolor\":\"#E5ECF6\",\"aaxis\":{\"gridcolor\":\"white\",\"linecolor\":\"white\",\"ticks\":\"\"},\"baxis\":{\"gridcolor\":\"white\",\"linecolor\":\"white\",\"ticks\":\"\"},\"caxis\":{\"gridcolor\":\"white\",\"linecolor\":\"white\",\"ticks\":\"\"}},\"coloraxis\":{\"colorbar\":{\"outlinewidth\":0,\"ticks\":\"\"}},\"colorscale\":{\"sequential\":[[0.0,\"#0d0887\"],[0.1111111111111111,\"#46039f\"],[0.2222222222222222,\"#7201a8\"],[0.3333333333333333,\"#9c179e\"],[0.4444444444444444,\"#bd3786\"],[0.5555555555555556,\"#d8576b\"],[0.6666666666666666,\"#ed7953\"],[0.7777777777777778,\"#fb9f3a\"],[0.8888888888888888,\"#fdca26\"],[1.0,\"#f0f921\"]],\"sequentialminus\":[[0.0,\"#0d0887\"],[0.1111111111111111,\"#46039f\"],[0.2222222222222222,\"#7201a8\"],[0.3333333333333333,\"#9c179e\"],[0.4444444444444444,\"#bd3786\"],[0.5555555555555556,\"#d8576b\"],[0.6666666666666666,\"#ed7953\"],[0.7777777777777778,\"#fb9f3a\"],[0.8888888888888888,\"#fdca26\"],[1.0,\"#f0f921\"]],\"diverging\":[[0,\"#8e0152\"],[0.1,\"#c51b7d\"],[0.2,\"#de77ae\"],[0.3,\"#f1b6da\"],[0.4,\"#fde0ef\"],[0.5,\"#f7f7f7\"],[0.6,\"#e6f5d0\"],[0.7,\"#b8e186\"],[0.8,\"#7fbc41\"],[0.9,\"#4d9221\"],[1,\"#276419\"]]},\"xaxis\":{\"gridcolor\":\"white\",\"linecolor\":\"white\",\"ticks\":\"\",\"title\":{\"standoff\":15},\"zerolinecolor\":\"white\",\"automargin\":true,\"zerolinewidth\":2},\"yaxis\":{\"gridcolor\":\"white\",\"linecolor\":\"white\",\"ticks\":\"\",\"title\":{\"standoff\":15},\"zerolinecolor\":\"white\",\"automargin\":true,\"zerolinewidth\":2},\"scene\":{\"xaxis\":{\"backgroundcolor\":\"#E5ECF6\",\"gridcolor\":\"white\",\"linecolor\":\"white\",\"showbackground\":true,\"ticks\":\"\",\"zerolinecolor\":\"white\",\"gridwidth\":2},\"yaxis\":{\"backgroundcolor\":\"#E5ECF6\",\"gridcolor\":\"white\",\"linecolor\":\"white\",\"showbackground\":true,\"ticks\":\"\",\"zerolinecolor\":\"white\",\"gridwidth\":2},\"zaxis\":{\"backgroundcolor\":\"#E5ECF6\",\"gridcolor\":\"white\",\"linecolor\":\"white\",\"showbackground\":true,\"ticks\":\"\",\"zerolinecolor\":\"white\",\"gridwidth\":2}},\"shapedefaults\":{\"line\":{\"color\":\"#2a3f5f\"}},\"annotationdefaults\":{\"arrowcolor\":\"#2a3f5f\",\"arrowhead\":0,\"arrowwidth\":1},\"geo\":{\"bgcolor\":\"white\",\"landcolor\":\"#E5ECF6\",\"subunitcolor\":\"white\",\"showland\":true,\"showlakes\":true,\"lakecolor\":\"white\"},\"title\":{\"x\":0.05},\"mapbox\":{\"style\":\"light\"}}},\"margin\":{\"l\":0,\"r\":0,\"t\":0,\"b\":0},\"font\":{\"family\":\"B Zar\",\"size\":18},\"scene\":{\"xaxis\":{\"title\":{\"text\":\"\\u062f\\u0645\\u0627\\u06cc \\u0645\\u062a\\u0648\\u0633\\u0637 (\\u062f\\u0631\\u062c\\u0647 \\u0633\\u0627\\u0646\\u062a\\u06cc\\u06af\\u0631\\u0627\\u062f)\"}},\"yaxis\":{\"title\":{\"text\":\"\\u0628\\u0627\\u0631\\u0646\\u062f\\u06af\\u06cc (\\u0645\\u06cc\\u0644\\u06cc\\u0645\\u062a\\u0631)\"}},\"zaxis\":{\"title\":{\"text\":\"\\u0627\\u0631\\u062a\\u0641\\u0627\\u0639 \\u0627\\u06cc\\u0633\\u062a\\u06af\\u0627\\u0647 (\\u0645\\u062a\\u0631)\"}}},\"width\":800,\"height\":800},                        {\"responsive\": true}                    ).then(function(){\n",
       "                            \n",
       "var gd = document.getElementById('57757b99-80b8-45bd-b07f-431dc04554d3');\n",
       "var x = new MutationObserver(function (mutations, observer) {{\n",
       "        var display = window.getComputedStyle(gd).display;\n",
       "        if (!display || display === 'none') {{\n",
       "            console.log([gd, 'removed!']);\n",
       "            Plotly.purge(gd);\n",
       "            observer.disconnect();\n",
       "        }}\n",
       "}});\n",
       "\n",
       "// Listen for the removal of the full notebook cells\n",
       "var notebookContainer = gd.closest('#notebook-container');\n",
       "if (notebookContainer) {{\n",
       "    x.observe(notebookContainer, {childList: true});\n",
       "}}\n",
       "\n",
       "// Listen for the clearing of the current output cell\n",
       "var outputEl = gd.closest('.output');\n",
       "if (outputEl) {{\n",
       "    x.observe(outputEl, {childList: true});\n",
       "}}\n",
       "\n",
       "                        })                };                });            </script>        </div>"
      ]
     },
     "metadata": {},
     "output_type": "display_data"
    }
   ],
   "source": [
    "import plotly.graph_objects as go\n",
    "\n",
    "# Assuming 'station_data' DataFrame is already loaded and processed\n",
    "station_data['Cluster'] = station_data['Cluster'].astype(int)\n",
    "\n",
    "# Define custom colors for each cluster (you can choose your own colors)\n",
    "custom_colors = {\n",
    "    1: 'red',     # Cluster 1 gets blue\n",
    "    2: 'green',    # Cluster 2 gets green\n",
    "    3: 'blue'    # Cluster 3 gets orange\n",
    "}\n",
    "\n",
    "# Assign custom colors based on the 'Cluster' column\n",
    "colors = [custom_colors.get(cluster, 'gray') for cluster in station_data['Cluster']]\n",
    "\n",
    "# Define marker shapes for each cluster (you can define more shapes or customize)\n",
    "cluster_shapes = {\n",
    "    1: 'square',  # Cluster 1 gets square markers\n",
    "    2: 'circle',  # Cluster 2 gets diamond markers\n",
    "    3: 'cross'  # Cluster 3 gets cross markers\n",
    "}\n",
    "\n",
    "# Define the shape list based on the Cluster\n",
    "shapes = [cluster_shapes.get(cluster, 'circle') for cluster in station_data['Cluster']]\n",
    "\n",
    "# Create the 3D scatter plot\n",
    "fig = go.Figure(\n",
    "    data=[\n",
    "        go.Scatter3d(\n",
    "            x=round(station_data[\"Temperature\"], 1),\n",
    "            y=round(station_data[\"Precipitation\"], 1),\n",
    "            z=round(station_data[\"Station_Elevation\"], 1),\n",
    "            mode=\"markers\",\n",
    "            marker=dict(\n",
    "                size=8,\n",
    "                color=colors,  # Custom colors for clusters\n",
    "                symbol=shapes,  # Custom shapes for each cluster\n",
    "                opacity=0.8,  # Marker transparency (optional)\n",
    "            ),\n",
    "            text=station_data[\"Station_Name\"],\n",
    "            hovertemplate=(\n",
    "                'Station: %{text}<br>'\n",
    "                'Temperature: %{x}<br>'\n",
    "                'Precipitation: %{y}<br>'\n",
    "                'Elevation: %{z}<br>'\n",
    "                '<extra></extra>'\n",
    "            )\n",
    "        )\n",
    "    ]\n",
    ")\n",
    "\n",
    "# Set the title and labels for axes\n",
    "fig.update_layout(\n",
    "\n",
    "    scene=dict(\n",
    "        xaxis_title=\"دمای متوسط (درجه سانتیگراد)\",\n",
    "        yaxis_title=\"بارندگی (میلیمتر)\",\n",
    "        zaxis_title=\"ارتفاع ایستگاه (متر)\",\n",
    "        # xaxis=dict(\n",
    "        #     autorange='reversed'  # Reverse the x-axis direction (greater to lower)\n",
    "        # ),\n",
    "        # yaxis=dict(\n",
    "        #     autorange='reversed'  # Reverse the y-axis direction (greater to lower)\n",
    "        # ),\n",
    "    ),\n",
    "    width=800,  # Optional: Adjust the width of the plot\n",
    "    height=800,\n",
    "    margin=dict(l=0, r=0, t=0, b=0),\n",
    "    font={\n",
    "        'family': 'B Zar',\n",
    "        'size': 18\n",
    "    },\n",
    ")\n",
    "\n",
    "# Show the plot\n",
    "fig.show()\n"
   ]
  },
  {
   "cell_type": "code",
   "execution_count": 44,
   "metadata": {},
   "outputs": [
    {
     "data": {
      "application/vnd.plotly.v1+json": {
       "config": {
        "plotlyServerURL": "https://plot.ly"
       },
       "data": [
        {
         "customdata": [
          [
           "\n    Station Name: <b>Astara</b><br>\n    Station ID: <b>40709</b><br>\n    Province: <b>Gilan</b><br>\n    Latitude: <b>38.365</b><br>\n    Longitude: <b>48.855</b><br>\n    Elevation: <b>-21.1 m</b><br>\n    Temperature: <b>16.0</b><br>\n    Precipitation: <b>1292.8</b><br>\n    DT: <b>7.4</b><br>\n    ",
           "40709",
           "Astara"
          ],
          [
           "\n    Station Name: <b>Bandar-e-anzali</b><br>\n    Station ID: <b>40718</b><br>\n    Province: <b>Gilan</b><br>\n    Latitude: <b>37.48</b><br>\n    Longitude: <b>49.458</b><br>\n    Elevation: <b>-23.6 m</b><br>\n    Temperature: <b>17.3</b><br>\n    Precipitation: <b>1688.6</b><br>\n    DT: <b>5.8</b><br>\n    ",
           "40718",
           "Bandar-e-anzali"
          ],
          [
           "\n    Station Name: <b>Rasht</b><br>\n    Station ID: <b>40719</b><br>\n    Province: <b>Gilan</b><br>\n    Latitude: <b>37.323</b><br>\n    Longitude: <b>49.624</b><br>\n    Elevation: <b>-8.6 m</b><br>\n    Temperature: <b>17.0</b><br>\n    Precipitation: <b>1193.4</b><br>\n    DT: <b>8.4</b><br>\n    ",
           "40719",
           "Rasht"
          ],
          [
           "\n    Station Name: <b>Ramsar</b><br>\n    Station ID: <b>40732</b><br>\n    Province: <b>Mazandaran</b><br>\n    Latitude: <b>36.905</b><br>\n    Longitude: <b>50.684</b><br>\n    Elevation: <b>-20.0 m</b><br>\n    Temperature: <b>17.3</b><br>\n    Precipitation: <b>1222.5</b><br>\n    DT: <b>6.3</b><br>\n    ",
           "40732",
           "Ramsar"
          ],
          [
           "\n    Station Name: <b>Nowshahr</b><br>\n    Station ID: <b>40734</b><br>\n    Province: <b>Mazandaran</b><br>\n    Latitude: <b>36.661</b><br>\n    Longitude: <b>51.466</b><br>\n    Elevation: <b>-20.9 m</b><br>\n    Temperature: <b>17.1</b><br>\n    Precipitation: <b>1263.9</b><br>\n    DT: <b>6.8</b><br>\n    ",
           "40734",
           "Nowshahr"
          ],
          [
           "\n    Station Name: <b>Babolsar</b><br>\n    Station ID: <b>40736</b><br>\n    Province: <b>Mazandaran</b><br>\n    Latitude: <b>36.699</b><br>\n    Longitude: <b>52.643</b><br>\n    Elevation: <b>-21.0 m</b><br>\n    Temperature: <b>18.2</b><br>\n    Precipitation: <b>824.8</b><br>\n    DT: <b>7.1</b><br>\n    ",
           "40736",
           "Babolsar"
          ],
          [
           "\n    Station Name: <b>Talesh</b><br>\n    Station ID: <b>99249</b><br>\n    Province: <b>Gilan</b><br>\n    Latitude: <b>37.839</b><br>\n    Longitude: <b>48.897</b><br>\n    Elevation: <b>7.0 m</b><br>\n    Temperature: <b>16.4</b><br>\n    Precipitation: <b>945.7</b><br>\n    DT: <b>7.2</b><br>\n    ",
           "99249",
           "Talesh"
          ],
          [
           "\n    Station Name: <b>Kiyashahr</b><br>\n    Station ID: <b>99268</b><br>\n    Province: <b>Gilan</b><br>\n    Latitude: <b>37.417</b><br>\n    Longitude: <b>49.883</b><br>\n    Elevation: <b>-22.0 m</b><br>\n    Temperature: <b>17.1</b><br>\n    Precipitation: <b>1153.5</b><br>\n    DT: <b>7.4</b><br>\n    ",
           "99268",
           "Kiyashahr"
          ],
          [
           "\n    Station Name: <b>Lahijan</b><br>\n    Station ID: <b>99276</b><br>\n    Province: <b>Gilan</b><br>\n    Latitude: <b>37.194</b><br>\n    Longitude: <b>50.016</b><br>\n    Elevation: <b>34.2 m</b><br>\n    Temperature: <b>16.7</b><br>\n    Precipitation: <b>1291.4</b><br>\n    DT: <b>9.6</b><br>\n    ",
           "99276",
           "Lahijan"
          ]
         ],
         "hovertemplate": "%{customdata[0]}",
         "hovertext": [
          "Astara",
          "Bandar-e-anzali",
          "Rasht",
          "Ramsar",
          "Nowshahr",
          "Babolsar",
          "Talesh",
          "Kiyashahr",
          "Lahijan"
         ],
         "lat": [
          38.365,
          37.48,
          37.323,
          36.905,
          36.661,
          36.699,
          37.839,
          37.417,
          37.194
         ],
         "legendgroup": "3",
         "lon": [
          48.855,
          49.458,
          49.624,
          50.684,
          51.466,
          52.643,
          48.897,
          49.883,
          50.016
         ],
         "marker": {
          "color": "darkgreen",
          "size": 20
         },
         "mode": "markers+text",
         "name": "3",
         "showlegend": true,
         "subplot": "mapbox",
         "text": [
          "Astara",
          "Bandar-e-anzali",
          "Rasht",
          "Ramsar",
          "Nowshahr",
          "Babolsar",
          "Talesh",
          "Kiyashahr",
          "Lahijan"
         ],
         "textfont": {
          "color": "black",
          "size": 14
         },
         "textposition": "top right",
         "type": "scattermapbox"
        },
        {
         "customdata": [
          [
           "\n    Station Name: <b>Manjil</b><br>\n    Station ID: <b>40720</b><br>\n    Province: <b>Gilan</b><br>\n    Latitude: <b>36.729</b><br>\n    Longitude: <b>49.41</b><br>\n    Elevation: <b>338.3 m</b><br>\n    Temperature: <b>18.1</b><br>\n    Precipitation: <b>202.6</b><br>\n    DT: <b>10.4</b><br>\n    ",
           "40720",
           "Manjil"
          ],
          [
           "\n    Station Name: <b>Gharakhil</b><br>\n    Station ID: <b>40737</b><br>\n    Province: <b>Mazandaran</b><br>\n    Latitude: <b>36.487</b><br>\n    Longitude: <b>52.108</b><br>\n    Elevation: <b>14.7 m</b><br>\n    Temperature: <b>17.6</b><br>\n    Precipitation: <b>655.0</b><br>\n    DT: <b>9.8</b><br>\n    ",
           "40737",
           "Gharakhil"
          ],
          [
           "\n    Station Name: <b>Sari</b><br>\n    Station ID: <b>40759</b><br>\n    Province: <b>Mazandaran</b><br>\n    Latitude: <b>36.536</b><br>\n    Longitude: <b>52.998</b><br>\n    Elevation: <b>23.0 m</b><br>\n    Temperature: <b>18.4</b><br>\n    Precipitation: <b>705.7</b><br>\n    DT: <b>9.6</b><br>\n    ",
           "40759",
           "Sari"
          ],
          [
           "\n    Station Name: <b>Sari (dasht-e-naz airport)</b><br>\n    Station ID: <b>40788</b><br>\n    Province: <b>Mazandaran</b><br>\n    Latitude: <b>36.64</b><br>\n    Longitude: <b>53.195</b><br>\n    Elevation: <b>16.7 m</b><br>\n    Temperature: <b>17.8</b><br>\n    Precipitation: <b>602.6</b><br>\n    DT: <b>9.9</b><br>\n    ",
           "40788",
           "Sari (dasht-e-naz airport)"
          ],
          [
           "\n    Station Name: <b>Galugah</b><br>\n    Station ID: <b>99299</b><br>\n    Province: <b>Mazandaran</b><br>\n    Latitude: <b>36.738</b><br>\n    Longitude: <b>53.837</b><br>\n    Elevation: <b>-10.0 m</b><br>\n    Temperature: <b>17.7</b><br>\n    Precipitation: <b>536.9</b><br>\n    DT: <b>10.1</b><br>\n    ",
           "99299",
           "Galugah"
          ],
          [
           "\n    Station Name: <b>Bandar-e-amirabad</b><br>\n    Station ID: <b>99306</b><br>\n    Province: <b>Mazandaran</b><br>\n    Latitude: <b>36.856</b><br>\n    Longitude: <b>53.386</b><br>\n    Elevation: <b>-20.0 m</b><br>\n    Temperature: <b>17.8</b><br>\n    Precipitation: <b>588.9</b><br>\n    DT: <b>7.6</b><br>\n    ",
           "99306",
           "Bandar-e-amirabad"
          ],
          [
           "\n    Station Name: <b>Amol</b><br>\n    Station ID: <b>99309</b><br>\n    Province: <b>Mazandaran</b><br>\n    Latitude: <b>36.479</b><br>\n    Longitude: <b>52.468</b><br>\n    Elevation: <b>23.7 m</b><br>\n    Temperature: <b>17.8</b><br>\n    Precipitation: <b>643.8</b><br>\n    DT: <b>9.3</b><br>\n    ",
           "99309",
           "Amol"
          ],
          [
           "\n    Station Name: <b>Polsefid</b><br>\n    Station ID: <b>99360</b><br>\n    Province: <b>Mazandaran</b><br>\n    Latitude: <b>36.104</b><br>\n    Longitude: <b>53.062</b><br>\n    Elevation: <b>610.0 m</b><br>\n    Temperature: <b>15.5</b><br>\n    Precipitation: <b>537.6</b><br>\n    DT: <b>9.9</b><br>\n    ",
           "99360",
           "Polsefid"
          ]
         ],
         "hovertemplate": "%{customdata[0]}",
         "hovertext": [
          "Manjil",
          "Gharakhil",
          "Sari",
          "Sari (dasht-e-naz airport)",
          "Galugah",
          "Bandar-e-amirabad",
          "Amol",
          "Polsefid"
         ],
         "lat": [
          36.729,
          36.487,
          36.536,
          36.64,
          36.738,
          36.856,
          36.479,
          36.104
         ],
         "legendgroup": "1",
         "lon": [
          49.41,
          52.108,
          52.998,
          53.195,
          53.837,
          53.386,
          52.468,
          53.062
         ],
         "marker": {
          "color": "darkred",
          "size": 20
         },
         "mode": "markers+text",
         "name": "1",
         "showlegend": true,
         "subplot": "mapbox",
         "text": [
          "Manjil",
          "Gharakhil",
          "Sari",
          "Sari (dasht-e-naz airport)",
          "Galugah",
          "Bandar-e-amirabad",
          "Amol",
          "Polsefid"
         ],
         "textfont": {
          "color": "black",
          "size": 14
         },
         "textposition": "top right",
         "type": "scattermapbox"
        },
        {
         "customdata": [
          [
           "\n    Station Name: <b>Siahbisheh</b><br>\n    Station ID: <b>40735</b><br>\n    Province: <b>Mazandaran</b><br>\n    Latitude: <b>36.231</b><br>\n    Longitude: <b>51.303</b><br>\n    Elevation: <b>1855.4 m</b><br>\n    Temperature: <b>11.2</b><br>\n    Precipitation: <b>500.2</b><br>\n    DT: <b>9.3</b><br>\n    ",
           "40735",
           "Siahbisheh"
          ],
          [
           "\n    Station Name: <b>Kiyasar</b><br>\n    Station ID: <b>40760</b><br>\n    Province: <b>Mazandaran</b><br>\n    Latitude: <b>36.248</b><br>\n    Longitude: <b>53.546</b><br>\n    Elevation: <b>1294.3 m</b><br>\n    Temperature: <b>13.5</b><br>\n    Precipitation: <b>501.9</b><br>\n    DT: <b>10.2</b><br>\n    ",
           "40760",
           "Kiyasar"
          ],
          [
           "\n    Station Name: <b>Jirandeh</b><br>\n    Station ID: <b>40805</b><br>\n    Province: <b>Gilan</b><br>\n    Latitude: <b>36.708</b><br>\n    Longitude: <b>49.802</b><br>\n    Elevation: <b>1581.4 m</b><br>\n    Temperature: <b>12.2</b><br>\n    Precipitation: <b>280.0</b><br>\n    DT: <b>8.6</b><br>\n    ",
           "40805",
           "Jirandeh"
          ],
          [
           "\n    Station Name: <b>Masuleh</b><br>\n    Station ID: <b>99281</b><br>\n    Province: <b>Gilan</b><br>\n    Latitude: <b>37.15</b><br>\n    Longitude: <b>48.983</b><br>\n    Elevation: <b>1081.0 m</b><br>\n    Temperature: <b>12.2</b><br>\n    Precipitation: <b>882.8</b><br>\n    DT: <b>7.9</b><br>\n    ",
           "99281",
           "Masuleh"
          ],
          [
           "\n    Station Name: <b>Kojur</b><br>\n    Station ID: <b>99348</b><br>\n    Province: <b>Mazandaran</b><br>\n    Latitude: <b>36.39</b><br>\n    Longitude: <b>51.729</b><br>\n    Elevation: <b>1550.0 m</b><br>\n    Temperature: <b>11.8</b><br>\n    Precipitation: <b>305.9</b><br>\n    DT: <b>12.1</b><br>\n    ",
           "99348",
           "Kojur"
          ],
          [
           "\n    Station Name: <b>Baladeh</b><br>\n    Station ID: <b>99357</b><br>\n    Province: <b>Mazandaran</b><br>\n    Latitude: <b>36.198</b><br>\n    Longitude: <b>51.801</b><br>\n    Elevation: <b>2120.0 m</b><br>\n    Temperature: <b>9.4</b><br>\n    Precipitation: <b>292.5</b><br>\n    DT: <b>13.6</b><br>\n    ",
           "99357",
           "Baladeh"
          ],
          [
           "\n    Station Name: <b>Alasht</b><br>\n    Station ID: <b>99361</b><br>\n    Province: <b>Mazandaran</b><br>\n    Latitude: <b>36.071</b><br>\n    Longitude: <b>52.843</b><br>\n    Elevation: <b>1805.0 m</b><br>\n    Temperature: <b>11.3</b><br>\n    Precipitation: <b>500.9</b><br>\n    DT: <b>8.7</b><br>\n    ",
           "99361",
           "Alasht"
          ]
         ],
         "hovertemplate": "%{customdata[0]}",
         "hovertext": [
          "Siahbisheh",
          "Kiyasar",
          "Jirandeh",
          "Masuleh",
          "Kojur",
          "Baladeh",
          "Alasht"
         ],
         "lat": [
          36.231,
          36.248,
          36.708,
          37.15,
          36.39,
          36.198,
          36.071
         ],
         "legendgroup": "2",
         "lon": [
          51.303,
          53.546,
          49.802,
          48.983,
          51.729,
          51.801,
          52.843
         ],
         "marker": {
          "color": "darkblue",
          "size": 20
         },
         "mode": "markers+text",
         "name": "2",
         "showlegend": true,
         "subplot": "mapbox",
         "text": [
          "Siahbisheh",
          "Kiyasar",
          "Jirandeh",
          "Masuleh",
          "Kojur",
          "Baladeh",
          "Alasht"
         ],
         "textfont": {
          "color": "black",
          "size": 14
         },
         "textposition": "top right",
         "type": "scattermapbox"
        }
       ],
       "layout": {
        "height": 600,
        "hoverlabel": {
         "align": "left",
         "bgcolor": "white",
         "font": {
          "family": "Arial",
          "size": 16
         }
        },
        "legend": {
         "bgcolor": "snow",
         "bordercolor": "Black",
         "borderwidth": 0.5,
         "font": {
          "color": "black",
          "family": "Times New Roman",
          "size": 14
         },
         "title": {
          "font": {
           "family": "Times New Roman"
          },
          "text": ""
         },
         "tracegroupgap": 0,
         "traceorder": "normal",
         "x": 0.01,
         "xanchor": "left",
         "y": 0.98,
         "yanchor": "top"
        },
        "mapbox": {
         "center": {
          "lat": 36.81033333333333,
          "lon": 51.333208333333324
         },
         "domain": {
          "x": [
           0,
           1
          ],
          "y": [
           0,
           1
          ]
         },
         "layers": [
          {
           "below": "traces",
           "color": "black",
           "line": {
            "width": 2
           },
           "source": {
            "bbox": [
             48.56694954400024,
             35.763081806000116,
             54.133187031000205,
             38.45550625800013
            ],
            "features": [
             {
              "bbox": [
               53.62967190700027,
               36.807089924000195,
               53.640665017000174,
               36.812039203000154
              ],
              "geometry": {
               "coordinates": [
                [
                 [
                  53.63523633800014,
                  36.80748057500023
                 ],
                 [
                  53.63319350900014,
                  36.807089924000195
                 ],
                 [
                  53.63145938700018,
                  36.807438096000226
                 ],
                 [
                  53.63033815600022,
                  36.80794653000015
                 ],
                 [
                  53.62976708600024,
                  36.808660369000165
                 ],
                 [
                  53.62967190700027,
                  36.809374207000246
                 ],
                 [
                  53.63048092400015,
                  36.80965974200018
                 ],
                 [
                  53.63228931400022,
                  36.81061152700016
                 ],
                 [
                  53.63438324000009,
                  36.81127777600011
                 ],
                 [
                  53.635239846000275,
                  36.81137295400015
                 ],
                 [
                  53.63590609500022,
                  36.811658490000184
                 ],
                 [
                  53.63681029000014,
                  36.812039203000154
                 ],
                 [
                  53.63747653900015,
                  36.81113500800018
                 ],
                 [
                  53.63761930700019,
                  36.8105639380002
                 ],
                 [
                  53.63847591300021,
                  36.81008804500016
                 ],
                 [
                  53.63961805400015,
                  36.80980251000028
                 ],
                 [
                  53.640427071000204,
                  36.80951697500018
                 ],
                 [
                  53.640665017000174,
                  36.809088672000144
                 ],
                 [
                  53.64061742800021,
                  36.808660369000165
                 ],
                 [
                  53.64004635700013,
                  36.808327244000225
                 ],
                 [
                  53.63890421600024,
                  36.808184477000225
                 ],
                 [
                  53.63804761000023,
                  36.80804170900012
                 ],
                 [
                  53.63714341500025,
                  36.80780376300015
                 ],
                 [
                  53.6363007770002,
                  36.8077791460002
                 ],
                 [
                  53.63523633800014,
                  36.80748057500023
                 ]
                ]
               ],
               "type": "Polygon"
              },
              "id": "0",
              "properties": {
               "Markaz": "ساری",
               "Ostan": "مازندران"
              },
              "type": "Feature"
             },
             {
              "bbox": [
               53.6009637100002,
               36.808054030000164,
               53.626768965000224,
               36.82179499400024
              ],
              "geometry": {
               "coordinates": [
                [
                 [
                  53.626483429000245,
                  36.809088672000144
                 ],
                 [
                  53.62510411000022,
                  36.808054030000164
                 ],
                 [
                  53.62410386100015,
                  36.8081572280002
                 ],
                 [
                  53.621534150000286,
                  36.80813688700022
                 ],
                 [
                  53.6186787970002,
                  36.808422423000195
                 ],
                 [
                  53.61563308700022,
                  36.809088672000144
                 ],
                 [
                  53.612587377000125,
                  36.80985009900019
                 ],
                 [
                  53.61030309500012,
                  36.81023081300009
                 ],
                 [
                  53.608113990000106,
                  36.81080188400017
                 ],
                 [
                  53.60697184900016,
                  36.81222956000016
                 ],
                 [
                  53.606210422000174,
                  36.813181345000146
                 ],
                 [
                  53.60459238800024,
                  36.813562058000116
                 ],
                 [
                  53.60278399800018,
                  36.81394277200019
                 ],
                 [
                  53.60145150000022,
                  36.814323486000205
                 ],
                 [
                  53.6009637100002,
                  36.814954043000284
                 ],
                 [
                  53.60423546900029,
                  36.81644120600009
                 ],
                 [
                  53.605722632000095,
                  36.818671951000226
                 ],
                 [
                  53.60825080900014,
                  36.821200128000214
                 ],
                 [
                  53.611522568000225,
                  36.82179499400024
                 ],
                 [
                  53.614050746000146,
                  36.82149756100023
                 ],
                 [
                  53.61538919200024,
                  36.820456547000276
                 ],
                 [
                  53.61671250500018,
                  36.81918196300012
                 ],
                 [
                  53.618012548000195,
                  36.81841615900021
                 ],
                 [
                  53.61972576000022,
                  36.81832098000024
                 ],
                 [
                  53.621534150000286,
                  36.81708366100008
                 ],
                 [
                  53.622866649000116,
                  36.816417412000305
                 ],
                 [
                  53.623437719000094,
                  36.81518009200022
                 ],
                 [
                  53.62438950400025,
                  36.8144186640003
                 ],
                 [
                  53.626102716000275,
                  36.813181345000146
                 ],
                 [
                  53.62667378600008,
                  36.81222956000016
                 ],
                 [
                  53.626768965000224,
                  36.81080188400017
                 ],
                 [
                  53.626768965000224,
                  36.80985009900019
                 ],
                 [
                  53.626483429000245,
                  36.809088672000144
                 ]
                ]
               ],
               "type": "Polygon"
              },
              "id": "1",
              "properties": {
               "Markaz": "ساری",
               "Ostan": "مازندران"
              },
              "type": "Feature"
             },
             {
              "bbox": [
               53.59490243000016,
               36.843295407000085,
               53.63819434300018,
               36.85797668100014
              ],
              "geometry": {
               "coordinates": [
                [
                 [
                  53.61992008300018,
                  36.8537888300001
                 ],
                 [
                  53.62263266800022,
                  36.85336052700012
                 ],
                 [
                  53.625488022000184,
                  36.85364606200022
                 ],
                 [
                  53.62777230400019,
                  36.854217133000134
                 ],
                 [
                  53.631698415000244,
                  36.85478820300011
                 ],
                 [
                  53.634233356000095,
                  36.85361713800012
                 ],
                 [
                  53.635910061000175,
                  36.85171869900017
                 ],
                 [
                  53.637337737000166,
                  36.84864919400013
                 ],
                 [
                  53.63819434300018,
                  36.84672183000015
                 ],
                 [
                  53.63801158400008,
                  36.84541577400012
                 ],
                 [
                  53.63769465600012,
                  36.84379509300021
                 ],
                 [
                  53.63526760600024,
                  36.843295407000085
                 ],
                 [
                  53.63255502100026,
                  36.8442947800001
                 ],
                 [
                  53.63055627300025,
                  36.84486585100018
                 ],
                 [
                  53.626987082000085,
                  36.845793841000216
                 ],
                 [
                  53.62391757700021,
                  36.846222144000194
                 ],
                 [
                  53.62220436500019,
                  36.846222144000194
                 ],
                 [
                  53.620919456000195,
                  36.8464362950001
                 ],
                 [
                  53.61992008300018,
                  36.847007366000184
                 ],
                 [
                  53.61813548700019,
                  36.847721204000095
                 ],
                 [
                  53.61681488600021,
                  36.848458837000294
                 ],
                 [
                  53.61569653900017,
                  36.848720578000155
                 ],
                 [
                  53.61429265700019,
                  36.84898231800014
                 ],
                 [
                  53.612983954000185,
                  36.84983892400015
                 ],
                 [
                  53.61153724200017,
                  36.85076215500027
                 ],
                 [
                  53.60936717300012,
                  36.85076215500027
                 ],
                 [
                  53.608796103000145,
                  36.84979133500019
                 ],
                 [
                  53.608282139000266,
                  36.84796390900016
                 ],
                 [
                  53.60731131900019,
                  36.8471073030002
                 ],
                 [
                  53.60576942800009,
                  36.84744994500011
                 ],
                 [
                  53.603770681000185,
                  36.84939158600008
                 ],
                 [
                  53.601594664000174,
                  36.84955219900013
                 ],
                 [
                  53.59906648700013,
                  36.84940348300012
                 ],
                 [
                  53.59519986200024,
                  36.848957334000204
                 ],
                 [
                  53.59505114600017,
                  36.851039362000165
                 ],
                 [
                  53.59490243000016,
                  36.85505470300012
                 ],
                 [
                  53.595173688000216,
                  36.85545445200029
                 ],
                 [
                  53.59717243600022,
                  36.855930345000104
                 ],
                 [
                  53.60007537800021,
                  36.856549004000215
                 ],
                 [
                  53.60354939100017,
                  36.85754837800016
                 ],
                 [
                  53.60569090600018,
                  36.85773873500017
                 ],
                 [
                  53.60773724200021,
                  36.85797668100014
                 ],
                 [
                  53.60954563300015,
                  36.8578815030001
                 ],
                 [
                  53.610973309000144,
                  36.85754837800016
                 ],
                 [
                  53.61278170000014,
                  36.85683454000025
                 ],
                 [
                  53.61513736600017,
                  36.855930345000104
                 ],
                 [
                  53.617992719000085,
                  36.85414574900028
                 ],
                 [
                  53.61992008300018,
                  36.8537888300001
                 ]
                ]
               ],
               "type": "Polygon"
              },
              "id": "2",
              "properties": {
               "Markaz": "ساری",
               "Ostan": "مازندران"
              },
              "type": "Feature"
             },
             {
              "bbox": [
               50.36244486700019,
               35.763081806000116,
               54.133187031000205,
               36.963182303000224
              ],
              "geometry": {
               "coordinates": [
                [
                 [
                  50.78149817100024,
                  36.86863971400021
                 ],
                 [
                  50.7839028260002,
                  36.86610146700025
                 ],
                 [
                  50.79722780700018,
                  36.86027178800026
                 ],
                 [
                  50.803295433000244,
                  36.85848719200021
                 ],
                 [
                  50.809244085000216,
                  36.854918001000215
                 ],
                 [
                  50.82054652500011,
                  36.848612429000184
                 ],
                 [
                  50.83244383000016,
                  36.84361556100009
                 ],
                 [
                  50.845292920000134,
                  36.839213558000154
                 ],
                 [
                  50.857190225000124,
                  36.83564436700016
                 ],
                 [
                  50.86432860800022,
                  36.83314593200009
                 ],
                 [
                  50.87063417900015,
                  36.83005263300021
                 ],
                 [
                  50.87872434700023,
                  36.825293711000086
                 ],
                 [
                  50.887647325000216,
                  36.820772735000105
                 ],
                 [
                  50.891216517000146,
                  36.81720354400011
                 ],
                 [
                  50.89621338500024,
                  36.81375332500022
                 ],
                 [
                  50.90239998400028,
                  36.80875645700013
                 ],
                 [
                  50.910728097000174,
                  36.80518726600013
                 ],
                 [
                  50.920840807000275,
                  36.79923861300023
                 ],
                 [
                  50.92807588600016,
                  36.7953799040003
                 ],
                 [
                  50.93154838100014,
                  36.79352790700028
                 ],
                 [
                  50.943564659000174,
                  36.78769822700019
                 ],
                 [
                  50.95415326100016,
                  36.78317725100021
                 ],
                 [
                  50.966080281000245,
                  36.77819983400025
                 ],
                 [
                  50.96926283800025,
                  36.77687168000011
                 ],
                 [
                  50.98687084900024,
                  36.77127994600022
                 ],
                 [
                  50.99638869300014,
                  36.766877943000225
                 ],
                 [
                  50.9998389120002,
                  36.76497437500012
                 ],
                 [
                  51.002533802000244,
                  36.763628820000235
                 ],
                 [
                  51.011087842000165,
                  36.75935780100025
                 ],
                 [
                  51.03773780400019,
                  36.750315849000174
                 ],
                 [
                  51.056059654000194,
                  36.74448616900008
                 ],
                 [
                  51.07402458400014,
                  36.74091697800009
                 ],
                 [
                  51.07747480300009,
                  36.73937032800018
                 ],
                 [
                  51.08011124600017,
                  36.73812824900017
                 ],
                 [
                  51.091342302000214,
                  36.735368075000224
                 ],
                 [
                  51.10057461000031,
                  36.73260790000023
                 ],
                 [
                  51.1087599560002,
                  36.7309898660003
                 ],
                 [
                  51.12075244000022,
                  36.72775379900014
                 ],
                 [
                  51.12770046600025,
                  36.726135766000084
                 ],
                 [
                  51.13455331400024,
                  36.72375630500011
                 ],
                 [
                  51.14435669300019,
                  36.72223345000015
                 ],
                 [
                  51.14787829500011,
                  36.7215672010002
                 ],
                 [
                  51.1506384700001,
                  36.720615416000214
                 ],
                 [
                  51.15686996000022,
                  36.71977205600024
                 ],
                 [
                  51.163297202000194,
                  36.718902204000244
                 ],
                 [
                  51.180143786000144,
                  36.715190245000144
                 ],
                 [
                  51.20517571600027,
                  36.7110975720002
                 ],
                 [
                  51.218976590000125,
                  36.70909882500024
                 ],
                 [
                  51.22000454300019,
                  36.70895666100023
                 ],
                 [
                  51.227923363000286,
                  36.70786150500021
                 ],
                 [
                  51.242676022000296,
                  36.70586275800014
                 ],
                 [
                  51.246547029000226,
                  36.70542215600028
                 ],
                 [
                  51.25438297000011,
                  36.70453026000018
                 ],
                 [
                  51.258285286000216,
                  36.70319776200023
                 ],
                 [
                  51.26409117100019,
                  36.70148455000026
                 ],
                 [
                  51.268183844000134,
                  36.701103836000186
                 ],
                 [
                  51.2717054470001,
                  36.70138937100029
                 ],
                 [
                  51.27427526400021,
                  36.701294193000194
                 ],
                 [
                  51.27627401100011,
                  36.70034240900014
                 ],
                 [
                  51.27865347200009,
                  36.69891473200022
                 ],
                 [
                  51.281508825000174,
                  36.69748705500018
                 ],
                 [
                  51.284744892000106,
                  36.69720152000025
                 ],
                 [
                  51.28557497400021,
                  36.69730528000014
                 ],
                 [
                  51.288552030000176,
                  36.69767741200019
                 ],
                 [
                  51.29635666200022,
                  36.6965352710003
                 ],
                 [
                  51.31958020100018,
                  36.69453652400017
                 ],
                 [
                  51.322625912000206,
                  36.69377509600008
                 ],
                 [
                  51.326718584000105,
                  36.6931088470003
                 ],
                 [
                  51.336902677000126,
                  36.69244259800013
                 ],
                 [
                  51.35260712100029,
                  36.690919743000165
                 ],
                 [
                  51.36269603500017,
                  36.69015831600012
                 ],
                 [
                  51.36659835100028,
                  36.69015831600012
                 ],
                 [
                  51.36916816900009,
                  36.68930171000011
                 ],
                 [
                  51.386681002000216,
                  36.68901617400013
                 ],
                 [
                  51.38971658500009,
                  36.68875530400021
                 ],
                 [
                  51.39886384200014,
                  36.68796921100011
                 ],
                 [
                  51.41133221800027,
                  36.686731892000125
                 ],
                 [
                  51.42085006100024,
                  36.68654153500012
                 ],
                 [
                  51.426084876000175,
                  36.68558975000013
                 ],
                 [
                  51.430272727000215,
                  36.68416207400014
                 ],
                 [
                  51.434650936000196,
                  36.68083082800018
                 ],
                 [
                  51.440551999000206,
                  36.67730922600015
                 ],
                 [
                  51.44388324400023,
                  36.67492976500017
                 ],
                 [
                  51.44645306200022,
                  36.67369244500014
                 ],
                 [
                  51.45133447300009,
                  36.67352116700016
                 ],
                 [
                  51.451878233000116,
                  36.67350208800025
                 ],
                 [
                  51.454733587000135,
                  36.67131298400017
                 ],
                 [
                  51.460539471000175,
                  36.66645888400018
                 ],
                 [
                  51.46368036000024,
                  36.66446013700022
                 ],
                 [
                  51.46881999600009,
                  36.66322281700019
                 ],
                 [
                  51.47862337500021,
                  36.661795140000095
                 ],
                 [
                  51.4834774750002,
                  36.66103371300022
                 ],
                 [
                  51.48604729300024,
                  36.65932050100008
                 ],
                 [
                  51.49118692900021,
                  36.6583687170002
                 ],
                 [
                  51.49689763500021,
                  36.65903496600015
                 ],
                 [
                  51.49908674000022,
                  36.65979639300019
                 ],
                 [
                  51.50070477300028,
                  36.6583687170002
                 ],
                 [
                  51.500895129000185,
                  36.65627479100016
                 ],
                 [
                  51.500609595000185,
                  36.65522782800031
                 ],
                 [
                  51.50184691400017,
                  36.65332425900027
                 ],
                 [
                  51.50498780300023,
                  36.652658010000096
                 ],
                 [
                  51.50993708200025,
                  36.651420690000236
                 ],
                 [
                  51.51640921600017,
                  36.64970747800021
                 ],
                 [
                  51.52288135000009,
                  36.64685212500012
                 ],
                 [
                  51.528401699000256,
                  36.64523409200012
                 ],
                 [
                  51.53230401500019,
                  36.64494855600009
                 ],
                 [
                  51.53573043800009,
                  36.64314016600025
                 ],
                 [
                  51.538871328000084,
                  36.641807668000126
                 ],
                 [
                  51.545248283000205,
                  36.63904749300025
                 ],
                 [
                  51.550007205000156,
                  36.63790535200019
                 ],
                 [
                  51.555432376000226,
                  36.636572854000235
                 ],
                 [
                  51.56152379600013,
                  36.635335534000205
                 ],
                 [
                  51.56609236200012,
                  36.6346692850002
                 ],
                 [
                  51.56999467800023,
                  36.63314643000024
                 ],
                 [
                  51.572659674000306,
                  36.63190911000021
                 ],
                 [
                  51.57551502600012,
                  36.62981518400011
                 ],
                 [
                  51.577513774000124,
                  36.62914893500016
                 ],
                 [
                  51.5795125220003,
                  36.62886340000023
                 ],
                 [
                  51.5815112690002,
                  36.62715018800009
                 ],
                 [
                  51.58550876300018,
                  36.62286715800025
                 ],
                 [
                  51.59083875600021,
                  36.617727523000156
                 ],
                 [
                  51.60073731400013,
                  36.61515770500017
                 ],
                 [
                  51.612634619000175,
                  36.61077949600019
                 ],
                 [
                  51.62353083900024,
                  36.60764594300019
                 ],
                 [
                  51.627196920000245,
                  36.60659164500015
                 ],
                 [
                  51.64366279000018,
                  36.6022134370001
                 ],
                 [
                  51.64804099900016,
                  36.60011951100023
                 ],
                 [
                  51.650801173000275,
                  36.59954844000015
                 ],
                 [
                  51.65451313300025,
                  36.59964361900012
                 ],
                 [
                  51.656892594000226,
                  36.59897737000017
                 ],
                 [
                  51.658986519000166,
                  36.597835229000225
                 ],
                 [
                  51.66412615400009,
                  36.59716897900017
                 ],
                 [
                  51.66736222200012,
                  36.597264158000144
                 ],
                 [
                  51.66926579100016,
                  36.59716897900017
                 ],
                 [
                  51.67269221400028,
                  36.59640755200013
                 ],
                 [
                  51.674215070000116,
                  36.59574130300018
                 ],
                 [
                  51.677736671000105,
                  36.59497987500026
                 ],
                 [
                  51.682305237000094,
                  36.59450398300015
                 ],
                 [
                  51.685541305000186,
                  36.59421844800022
                 ],
                 [
                  51.687540051000155,
                  36.59374255600011
                 ],
                 [
                  51.690871297000115,
                  36.59260041400012
                 ],
                 [
                  51.69867592900016,
                  36.59260041400012
                 ],
                 [
                  51.712381624000216,
                  36.59079202400022
                 ],
                 [
                  51.71894893700011,
                  36.590030596000304
                 ],
                 [
                  51.727610175000166,
                  36.58936434700013
                 ],
                 [
                  51.73170284800017,
                  36.58888845500019
                 ],
                 [
                  51.742648368000175,
                  36.58822220600024
                 ],
                 [
                  51.76377798200019,
                  36.586413816000174
                 ],
                 [
                  51.77795957000012,
                  36.586318637000204
                 ],
                 [
                  51.787858127000106,
                  36.586318637000204
                 ],
                 [
                  51.7984229340002,
                  36.5856523880002
                 ],
                 [
                  51.80270596400021,
                  36.58489096100021
                 ],
                 [
                  51.806227566000246,
                  36.58441506800017
                 ],
                 [
                  51.81060577400012,
                  36.58374881900022
                 ],
                 [
                  51.81403219800012,
                  36.58336810600025
                 ],
                 [
                  51.8166971950003,
                  36.58127418000015
                 ],
                 [
                  51.81955254800022,
                  36.57956096800018
                 ],
                 [
                  51.8241211130001,
                  36.577752578000116
                 ],
                 [
                  51.83068842500029,
                  36.57575383000011
                 ],
                 [
                  51.841253232000156,
                  36.57385026200018
                 ],
                 [
                  51.853423910000174,
                  36.57302791800015
                 ],
                 [
                  51.855339641000114,
                  36.572898477000194
                 ],
                 [
                  51.87389943700009,
                  36.57213705000015
                 ],
                 [
                  51.9069263570002,
                  36.57051901600022
                 ],
                 [
                  51.9331804680001,
                  36.57134498800019
                 ],
                 [
                  51.949280762000114,
                  36.57185151400017
                 ],
                 [
                  51.97726322300019,
                  36.57432615400012
                 ],
                 [
                  51.991826631000094,
                  36.57622809100019
                 ],
                 [
                  52.00277104500026,
                  36.577657399000145
                 ],
                 [
                  52.03113422200016,
                  36.58289221300021
                 ],
                 [
                  52.036940105000156,
                  36.583653641000126
                 ],
                 [
                  52.040937600000234,
                  36.58460542500018
                 ],
                 [
                  52.047314555000185,
                  36.58498613900025
                 ],
                 [
                  52.064781936000145,
                  36.58835224800015
                 ],
                 [
                  52.065588816000115,
                  36.588507741000114
                 ],
                 [
                  52.09947234100025,
                  36.59583648100022
                 ],
                 [
                  52.14135085400011,
                  36.60583021700023
                 ],
                 [
                  52.15534208500014,
                  36.61077949600019
                 ],
                 [
                  52.17484196100014,
                  36.61594502700012
                 ],
                 [
                  52.1840859740002,
                  36.61839377200016
                 ],
                 [
                  52.217683963000184,
                  36.62800679400027
                 ],
                 [
                  52.24557124600017,
                  36.635335534000205
                 ],
                 [
                  52.26993692700012,
                  36.64085588300014
                 ],
                 [
                  52.2813583410001,
                  36.64447266400015
                 ],
                 [
                  52.291365561000134,
                  36.647197845000164
                 ],
                 [
                  52.30267831000015,
                  36.65027854900012
                 ],
                 [
                  52.31514668600022,
                  36.65284836700016
                 ],
                 [
                  52.32533231400009,
                  36.654945408000174
                 ],
                 [
                  52.34427128900012,
                  36.65884460900014
                 ],
                 [
                  52.37177785800009,
                  36.665602278000165
                 ],
                 [
                  52.405484395000144,
                  36.67382113200017
                 ],
                 [
                  52.406517989000236,
                  36.67407315900016
                 ],
                 [
                  52.42079475500026,
                  36.67835618900017
                 ],
                 [
                  52.435832947000165,
                  36.681972970000174
                 ],
                 [
                  52.46286362500024,
                  36.68520903700016
                 ],
                 [
                  52.469887227000186,
                  36.68614048200021
                 ],
                 [
                  52.48941841100026,
                  36.6887306390002
                 ],
                 [
                  52.49998321700025,
                  36.690443851000225
                 ],
                 [
                  52.53452671000014,
                  36.694401959000174
                 ],
                 [
                  52.53653173800012,
                  36.694631702000265
                 ],
                 [
                  52.5674647310002,
                  36.6962497360002
                 ],
                 [
                  52.58017656200013,
                  36.69869257900024
                 ],
                 [
                  52.594209873000125,
                  36.70138937100029
                 ],
                 [
                  52.641418379000186,
                  36.71014578800009
                 ],
                 [
                  52.65264943500023,
                  36.71252524900024
                 ],
                 [
                  52.664832276000254,
                  36.714619175000166
                 ],
                 [
                  52.66753116700016,
                  36.714776698000094
                 ],
                 [
                  52.68929313500024,
                  36.71604685100016
                 ],
                 [
                  52.7149814230001,
                  36.721330258000194
                 ],
                 [
                  52.7161334540001,
                  36.7215672010002
                 ],
                 [
                  52.75391929600016,
                  36.72851522700023
                 ],
                 [
                  52.78437639700013,
                  36.73175129400022
                 ],
                 [
                  52.811502252000196,
                  36.73546325300015
                 ],
                 [
                  52.83405954300031,
                  36.74069806700015
                 ],
                 [
                  52.845500962000244,
                  36.74323090100012
                 ],
                 [
                  52.87146466900009,
                  36.74897859200024
                 ],
                 [
                  52.90820354700014,
                  36.75744947300012
                 ],
                 [
                  52.91933808500022,
                  36.760479974000134
                 ],
                 [
                  52.939326897000115,
                  36.765920354000116
                 ],
                 [
                  52.97663684600013,
                  36.77572373300029
                 ],
                 [
                  52.995196641000234,
                  36.78076819100022
                 ],
                 [
                  53.0061759940001,
                  36.78357093700009
                 ],
                 [
                  53.04031122200024,
                  36.79228478200014
                 ],
                 [
                  53.07248153400019,
                  36.80170744700024
                 ],
                 [
                  53.1125516580002,
                  36.8141758230002
                 ],
                 [
                  53.12549592600027,
                  36.81674564100018
                 ],
                 [
                  53.1467207180001,
                  36.82140938500021
                 ],
                 [
                  53.15704289300021,
                  36.82328614400018
                 ],
                 [
                  53.161378198000136,
                  36.824074381000116
                 ],
                 [
                  53.198117076000244,
                  36.8306416930003
                 ],
                 [
                  53.20544581600018,
                  36.83140312100022
                 ],
                 [
                  53.20820599100023,
                  36.83130794200025
                 ],
                 [
                  53.20925295400025,
                  36.83092722900011
                 ],
                 [
                  53.21144205800016,
                  36.83073687200027
                 ],
                 [
                  53.21458294600018,
                  36.832259727000235
                 ],
                 [
                  53.224195969000164,
                  36.83416329600027
                 ],
                 [
                  53.24105190900025,
                  36.83710996400015
                 ],
                 [
                  53.254731244000084,
                  36.839501315000234
                 ],
                 [
                  53.26374858700018,
                  36.84124235200011
                 ],
                 [
                  53.273290225000096,
                  36.84288418000028
                 ],
                 [
                  53.28114244700015,
                  36.84413339700012
                 ],
                 [
                  53.29071977700016,
                  36.8456800470002
                 ],
                 [
                  53.29922635000014,
                  36.846929264000096
                 ],
                 [
                  53.30571038200014,
                  36.84788104800015
                 ],
                 [
                  53.3149307930002,
                  36.84895180500018
                 ],
                 [
                  53.32980242400009,
                  36.85085537400022
                 ],
                 [
                  53.341521270000214,
                  36.8518071590002
                 ],
                 [
                  53.35093203800011,
                  36.85341329500022
                 ],
                 [
                  53.36276985700016,
                  36.8547814850001
                 ],
                 [
                  53.37460767500016,
                  36.85656608100015
                 ],
                 [
                  53.39589433300017,
                  36.85957609900015
                 ],
                 [
                  53.41074217000022,
                  36.86128931100012
                 ],
                 [
                  53.42787428900016,
                  36.86300252300015
                 ],
                 [
                  53.445720247000224,
                  36.86514403800015
                 ],
                 [
                  53.455595010000195,
                  36.86601492000028
                 ],
                 [
                  53.470062133000226,
                  36.86829920300016
                 ],
                 [
                  53.4795799770003,
                  36.869060630000206
                 ],
                 [
                  53.4866231810002,
                  36.87001241500019
                 ],
                 [
                  53.49633138200011,
                  36.87115455600025
                 ],
                 [
                  53.507752795000215,
                  36.87210634000013
                 ],
                 [
                  53.51784171000014,
                  36.872867768000276
                 ],
                 [
                  53.53078597800021,
                  36.874009909000165
                 ],
                 [
                  53.54696631200011,
                  36.875723121000135
                 ],
                 [
                  53.56181414900021,
                  36.87667490600012
                 ],
                 [
                  53.576281272000244,
                  36.878768831000116
                 ],
                 [
                  53.58903518300025,
                  36.879530259000205
                 ],
                 [
                  53.59812402000023,
                  36.88068128300023
                 ],
                 [
                  53.60469133300012,
                  36.88142367500018
                 ],
                 [
                  53.610287825000114,
                  36.88188053200008
                 ],
                 [
                  53.615541675000145,
                  36.882680031000234
                 ],
                 [
                  53.6201102400002,
                  36.883365315000106
                 ],
                 [
                  53.62587805400017,
                  36.88376506500015
                 ],
                 [
                  53.631817188000184,
                  36.88456456400013
                 ],
                 [
                  53.63659133900023,
                  36.885105177000185
                 ],
                 [
                  53.64258758100027,
                  36.8858666050001
                 ],
                 [
                  53.64839346500014,
                  36.886152140000206
                 ],
                 [
                  53.65467524200022,
                  36.886342497000214
                 ],
                 [
                  53.65829202300023,
                  36.886818389000155
                 ],
                 [
                  53.66352683700012,
                  36.887294281000095
                 ],
                 [
                  53.67057004200012,
                  36.88815088700011
                 ],
                 [
                  53.68036152400009,
                  36.8889301610003
                 ],
                 [
                  53.690028084000176,
                  36.88952502600023
                 ],
                 [
                  53.699099779000164,
                  36.8902686080001
                 ],
                 [
                  53.70642257100013,
                  36.89068178400015
                 ],
                 [
                  53.715100300000245,
                  36.89178957900009
                 ],
                 [
                  53.71760603700017,
                  36.89210946000014
                 ],
                 [
                  53.72807566600022,
                  36.8932991910001
                 ],
                 [
                  53.73783145600021,
                  36.89401302900018
                 ],
                 [
                  53.74853903000013,
                  36.8954407060001
                 ],
                 [
                  53.761150174000136,
                  36.897106328000234
                 ],
                 [
                  53.77233364100027,
                  36.89805811300022
                 ],
                 [
                  53.784944784000174,
                  36.89972373500018
                 ],
                 [
                  53.79122758700015,
                  36.900477672000136
                 ],
                 [
                  53.79707333400023,
                  36.89240430900014
                 ],
                 [
                  53.80378341400012,
                  36.883409947000246
                 ],
                 [
                  53.808351979000236,
                  36.87669986600008
                 ],
                 [
                  53.80423876700024,
                  36.87675320000022
                 ],
                 [
                  53.79654987200024,
                  36.87584862400013
                 ],
                 [
                  53.78871021400016,
                  36.87630091200009
                 ],
                 [
                  53.78147360700012,
                  36.87675320000022
                 ],
                 [
                  53.77288013600008,
                  36.878110064000225
                 ],
                 [
                  53.766554699000096,
                  36.87716151100017
                 ],
                 [
                  53.76323132600021,
                  36.87584862400013
                 ],
                 [
                  53.75825615900021,
                  36.87283337100018
                 ],
                 [
                  53.75388404200021,
                  36.87011964300018
                 ],
                 [
                  53.74800429900017,
                  36.86981811800018
                 ],
                 [
                  53.74109936900015,
                  36.87027040600009
                 ],
                 [
                  53.737782591000155,
                  36.86996888100009
                 ],
                 [
                  53.736124202000155,
                  36.867104391000225
                 ],
                 [
                  53.73416428700011,
                  36.86439066300022
                 ],
                 [
                  53.72662615500025,
                  36.86439066300022
                 ],
                 [
                  53.72119870000017,
                  36.863938375000146
                 ],
                 [
                  53.713509804000296,
                  36.86363685000015
                 ],
                 [
                  53.71245953200025,
                  36.86328111200021
                 ],
                 [
                  53.704162520000125,
                  36.86047083400018
                 ],
                 [
                  53.69421218500008,
                  36.85956625800014
                 ],
                 [
                  53.68652329000025,
                  36.858963207000215
                 ],
                 [
                  53.67823134500014,
                  36.858963207000215
                 ],
                 [
                  53.666427124000165,
                  36.86061522000023
                 ],
                 [
                  53.66047847200019,
                  36.85883062400018
                 ],
                 [
                  53.652745223000124,
                  36.86269724800019
                 ],
                 [
                  53.64471454200009,
                  36.86210238300009
                 ],
                 [
                  53.639063322000254,
                  36.86388697900014
                 ],
                 [
                  53.63063838000022,
                  36.86232833900016
                 ],
                 [
                  53.62567885400017,
                  36.86358954600013
                 ],
                 [
                  53.61764817300019,
                  36.86626644000012
                 ],
                 [
                  53.60932006000024,
                  36.86775360300015
                 ],
                 [
                  53.60366884000018,
                  36.868943333000175
                 ],
                 [
                  53.59861248500022,
                  36.868051035000235
                 ],
                 [
                  53.594448429000124,
                  36.866861305000214
                 ],
                 [
                  53.59087923700025,
                  36.864184411000224
                 ],
                 [
                  53.5890946410002,
                  36.86180495000025
                 ],
                 [
                  53.58471643300015,
                  36.862304637000136
                 ],
                 [
                  53.57957679700013,
                  36.86154320900022
                 ],
                 [
                  53.572343236000165,
                  36.8604010680001
                 ],
                 [
                  53.56301574900016,
                  36.85982999700019
                 ],
                 [
                  53.556010616000094,
                  36.85944928400022
                 ],
                 [
                  53.55772382700019,
                  36.85621321700023
                 ],
                 [
                  53.56038882400014,
                  36.856974644000104
                 ],
                 [
                  53.563601096000184,
                  36.85602286000022
                 ],
                 [
                  53.56831242900017,
                  36.85430964800025
                 ],
                 [
                  53.57195300400019,
                  36.85352442600009
                 ],
                 [
                  53.573880368000175,
                  36.85295335500018
                 ],
                 [
                  53.57516527700017,
                  36.85159706200017
                 ],
                 [
                  53.57766371100013,
                  36.85102599200013
                 ],
                 [
                  53.580019377000156,
                  36.84931278000016
                 ],
                 [
                  53.581803973000206,
                  36.84874170900025
                 ],
                 [
                  53.58423102300014,
                  36.8488130930001
                 ],
                 [
                  53.586729457000274,
                  36.84902724500023
                 ],
                 [
                  53.58808575000012,
                  36.84809925500019
                 ],
                 [
                  53.59008449700019,
                  36.846457427000246
                 ],
                 [
                  53.592011861000174,
                  36.84453006300009
                 ],
                 [
                  53.59351092100019,
                  36.84224578100009
                 ],
                 [
                  53.593439537000165,
                  36.84081810400022
                 ],
                 [
                  53.59293985000011,
                  36.839818730000104
                 ],
                 [
                  53.59186909300024,
                  36.83974734700013
                 ],
                 [
                  53.59086971900018,
                  36.840960872000096
                 ],
                 [
                  53.589156507000155,
                  36.842174397000235
                 ],
                 [
                  53.58751467900021,
                  36.84281685100012
                 ],
                 [
                  53.58637253800009,
                  36.84188886200013
                 ],
                 [
                  53.58615362800015,
                  36.840885324000226
                 ],
                 [
                  53.585766965000175,
                  36.84020122900023
                 ],
                 [
                  53.58517210000025,
                  36.839249444000245
                 ],
                 [
                  53.58386339600014,
                  36.838059714000224
                 ],
                 [
                  53.58332801800009,
                  36.83722690300016
                 ],
                 [
                  53.58332801800009,
                  36.83615614500019
                 ],
                 [
                  53.58362545000017,
                  36.83508538800015
                 ],
                 [
                  53.583419627000126,
                  36.83375836200014
                 ],
                 [
                  53.58393359000013,
                  36.832844649000094
                 ],
                 [
                  53.585589695000294,
                  36.83153118700017
                 ],
                 [
                  53.58621787300018,
                  36.82970376100013
                 ],
                 [
                  53.58604655200014,
                  36.828218977000176
                 ],
                 [
                  53.58524705300016,
                  36.827248157000156
                 ],
                 [
                  53.58393359000013,
                  36.82639155100014
                 ],
                 [
                  53.582391700000244,
                  36.826277337000136
                 ],
                 [
                  53.58124955800025,
                  36.825934694000125
                 ],
                 [
                  53.57987898900029,
                  36.826220230000104
                 ],
                 [
                  53.578394205000166,
                  36.82576337300026
                 ],
                 [
                  53.57656677900013,
                  36.82519230300022
                 ],
                 [
                  53.57513910300014,
                  36.825706266000225
                 ],
                 [
                  53.57354010500018,
                  36.8242214830002
                 ],
                 [
                  53.57182689300015,
                  36.82325066200025
                 ],
                 [
                  53.5707989660001,
                  36.821822986000086
                 ],
                 [
                  53.5693141820002,
                  36.82130902200021
                 ],
                 [
                  53.56760097000017,
                  36.821480343000246
                 ],
                 [
                  53.56565933000013,
                  36.82227984200023
                 ],
                 [
                  53.5639461180001,
                  36.82205141400016
                 ],
                 [
                  53.56286970600024,
                  36.822180451000236
                 ],
                 [
                  53.56160472800019,
                  36.82262248500024
                 ],
                 [
                  53.55983440900019,
                  36.82427859000023
                 ],
                 [
                  53.55772144800022,
                  36.82559205200016
                 ],
                 [
                  53.55509452300021,
                  36.826220230000104
                 ],
                 [
                  53.551610992000235,
                  36.827419478000195
                 ],
                 [
                  53.54847010400022,
                  36.82844740500025
                 ],
                 [
                  53.54681399900022,
                  36.82884715500012
                 ],
                 [
                  53.54424418100024,
                  36.82907558300019
                 ],
                 [
                  53.54133172100012,
                  36.82890426200015
                 ],
                 [
                  53.53847636700016,
                  36.82970376100013
                 ],
                 [
                  53.53653472700023,
                  36.830160617000104
                 ],
                 [
                  53.533450946000244,
                  36.8294182250001
                 ],
                 [
                  53.5312808770002,
                  36.82930401100009
                 ],
                 [
                  53.52863967600024,
                  36.8285987390002
                 ],
                 [
                  53.52471356500024,
                  36.828384587000244
                 ],
                 [
                  53.52242928200013,
                  36.828384587000244
                 ],
                 [
                  53.52207236300018,
                  36.82931257700028
                 ],
                 [
                  53.52307173700024,
                  36.83038333500019
                 ],
                 [
                  53.52378557500015,
                  36.831239941000206
                 ],
                 [
                  53.52264343400009,
                  36.83166824400024
                 ],
                 [
                  53.51994517900022,
                  36.83174160200025
                 ],
                 [
                  53.5168042370002,
                  36.83081163800023
                 ],
                 [
                  53.51273535800027,
                  36.83002641600024
                 ],
                 [
                  53.51002277300023,
                  36.82959811300009
                 ],
                 [
                  53.507310187000144,
                  36.8290984260002
                 ],
                 [
                  53.50217055100018,
                  36.830240567000146
                 ],
                 [
                  53.497173683000085,
                  36.830240567000146
                 ],
                 [
                  53.49389002700019,
                  36.830240567000146
                 ],
                 [
                  53.49017806800009,
                  36.83031195100017
                 ],
                 [
                  53.485752270000205,
                  36.83052610200019
                 ],
                 [
                  53.472307952000165,
                  36.8330367260001
                 ],
                 [
                  53.47351775700014,
                  36.829327439000224
                 ],
                 [
                  53.470805172000155,
                  36.82818529700023
                 ],
                 [
                  53.47180454500017,
                  36.82604378300016
                 ],
                 [
                  53.4737081140002,
                  36.82423539200022
                 ],
                 [
                  53.47580204000025,
                  36.82190352000015
                 ],
                 [
                  53.4783242690001,
                  36.819857184000114
                 ],
                 [
                  53.48179828200023,
                  36.81866745300022
                 ],
                 [
                  53.4843205100002,
                  36.81814397200014
                 ],
                 [
                  53.486652382000216,
                  36.817715669000165
                 ],
                 [
                  53.48850836200012,
                  36.8175253120001
                 ],
                 [
                  53.48984086000024,
                  36.818048794000276
                 ],
                 [
                  53.49103059000009,
                  36.81833432900015
                 ],
                 [
                  53.4930293380001,
                  36.81823915000018
                 ],
                 [
                  53.49421906800012,
                  36.81757290100023
                 ],
                 [
                  53.495551566000245,
                  36.81614522500024
                 ],
                 [
                  53.49726477800027,
                  36.81357540700026
                 ],
                 [
                  53.498635348000164,
                  36.8118146060001
                 ],
                 [
                  53.50020579200026,
                  36.809244788000115
                 ],
                 [
                  53.501871415000096,
                  36.80933996600015
                 ],
                 [
                  53.50367980500016,
                  36.80962550200019
                 ],
                 [
                  53.50529783900009,
                  36.80986344800016
                 ],
                 [
                  53.506582748000085,
                  36.810291751000136
                 ],
                 [
                  53.5061068550001,
                  36.81119594600028
                 ],
                 [
                  53.506297212000106,
                  36.81214773000016
                 ],
                 [
                  53.50824844200025,
                  36.81271947700009
                 ],
                 [
                  53.510056761000214,
                  36.81252844400018
                 ],
                 [
                  53.51162720500014,
                  36.81157666000013
                 ],
                 [
                  53.51305488100013,
                  36.810672464000106
                 ],
                 [
                  53.51457773600009,
                  36.81095800000014
                 ],
                 [
                  53.515470293000135,
                  36.810882432000085
                 ],
                 [
                  53.51667366500021,
                  36.811024014000225
                 ],
                 [
                  53.517718625000214,
                  36.81091041100018
                 ],
                 [
                  53.51928906900025,
                  36.81038692900023
                 ],
                 [
                  53.519717372000116,
                  36.80929237700025
                 ],
                 [
                  53.52109746000025,
                  36.80805505700016
                 ],
                 [
                  53.52214442200017,
                  36.80748398700018
                 ],
                 [
                  53.52401762100021,
                  36.80657430400015
                 ],
                 [
                  53.52722982900025,
                  36.8065886440001
                 ],
                 [
                  53.53301769700022,
                  36.80653532700018
                 ],
                 [
                  53.53509541200009,
                  36.80651940200022
                 ],
                 [
                  53.538069929000244,
                  36.8064966030002
                 ],
                 [
                  53.543693549000125,
                  36.80645350000009
                 ],
                 [
                  53.54778685200017,
                  36.80642198900023
                 ],
                 [
                  53.55018248300024,
                  36.806402558000116
                 ],
                 [
                  53.55248285400023,
                  36.80622898400014
                 ],
                 [
                  53.55543290100013,
                  36.8058887360001
                 ],
                 [
                  53.560662980000245,
                  36.805258966000224
                 ],
                 [
                  53.566343503000155,
                  36.80457442500011
                 ],
                 [
                  53.57045851900011,
                  36.80408003200017
                 ],
                 [
                  53.57276947000008,
                  36.80380238600014
                 ],
                 [
                  53.57571653000019,
                  36.80422971300021
                 ],
                 [
                  53.57812142100016,
                  36.80394550500017
                 ],
                 [
                  53.58085548100024,
                  36.80374554500014
                 ],
                 [
                  53.583273194000185,
                  36.80349328700021
                 ],
                 [
                  53.58550689500015,
                  36.80315395900021
                 ],
                 [
                  53.58657883700022,
                  36.80299113600012
                 ],
                 [
                  53.597546011000304,
                  36.79874912100024
                 ],
                 [
                  53.61087099300022,
                  36.793990198000245
                 ],
                 [
                  53.62062678300026,
                  36.79042100700025
                 ],
                 [
                  53.6280031120001,
                  36.78732770800019
                 ],
                 [
                  53.63680711800009,
                  36.78280673200021
                 ],
                 [
                  53.651912056000185,
                  36.77632945600021
                 ],
                 [
                  53.65338102800024,
                  36.77784163300015
                 ],
                 [
                  53.6535713840002,
                  36.782219841000256
                 ],
                 [
                  53.65309549100016,
                  36.78450412400014
                 ],
                 [
                  53.65223888600025,
                  36.788882332000185
                 ],
                 [
                  53.65338102800024,
                  36.79097625800023
                 ],
                 [
                  53.656046025000194,
                  36.793165362000195
                 ],
                 [
                  53.657957076000116,
                  36.79488914200016
                 ],
                 [
                  53.66090012400031,
                  36.797543570000244
                 ],
                 [
                  53.664326548000304,
                  36.7991616030003
                 ],
                 [
                  53.67146493100017,
                  36.79697249900016
                 ],
                 [
                  53.68459955600025,
                  36.79440268100018
                 ],
                 [
                  53.7022075670003,
                  36.79164250700023
                 ],
                 [
                  53.71324826700021,
                  36.789834116000236
                 ],
                 [
                  53.71571463200024,
                  36.78991059200018
                 ],
                 [
                  53.72552628500023,
                  36.79021483000014
                 ],
                 [
                  53.73371163100012,
                  36.79107143600015
                 ],
                 [
                  53.7491305380002,
                  36.7934508970003
                 ],
                 [
                  53.75988570200013,
                  36.79440268100018
                 ],
                 [
                  53.765881944000114,
                  36.79373643200017
                 ],
                 [
                  53.77225889900012,
                  36.792689470000084
                 ],
                 [
                  53.78767909300018,
                  36.79356811300022
                 ],
                 [
                  53.79720729300021,
                  36.79380933400017
                 ],
                 [
                  53.80806220400012,
                  36.7918795720002
                 ],
                 [
                  53.82132931700016,
                  36.78802004800025
                 ],
                 [
                  53.83254605800016,
                  36.78802004800025
                 ],
                 [
                  53.83893839400025,
                  36.786210896000114
                 ],
                 [
                  53.84906964400011,
                  36.785246015000155
                 ],
                 [
                  53.84967269500015,
                  36.78355747300026
                 ],
                 [
                  53.8505169660001,
                  36.778250628000194
                 ],
                 [
                  53.8481351760002,
                  36.76537142400019
                 ],
                 [
                  53.84870624700011,
                  36.75918482600025
                 ],
                 [
                  53.851942313000166,
                  36.752522335000094
                 ],
                 [
                  53.8556542730002,
                  36.74862001900016
                 ],
                 [
                  53.85546391600013,
                  36.74576466600024
                 ],
                 [
                  53.85137124300019,
                  36.74186235000013
                 ],
                 [
                  53.849658030000114,
                  36.73910217500014
                 ],
                 [
                  53.85013392300016,
                  36.73434325300019
                 ],
                 [
                  53.850514637000174,
                  36.73053611500012
                 ],
                 [
                  53.850324280000166,
                  36.72587237200014
                 ],
                 [
                  53.85175195700009,
                  36.72044720000014
                 ],
                 [
                  53.8538458820002,
                  36.71664006300017
                 ],
                 [
                  53.85336999000009,
                  36.71045346400018
                 ],
                 [
                  53.851466421000225,
                  36.703410260000226
                 ],
                 [
                  53.84842071100013,
                  36.6930358100002
                 ],
                 [
                  53.84784964100015,
                  36.68675403300011
                 ],
                 [
                  53.850038745000234,
                  36.68161439700009
                 ],
                 [
                  53.85298927700012,
                  36.67761690200018
                 ],
                 [
                  53.85812891100011,
                  36.673143516000096
                 ],
                 [
                  53.86269876700021,
                  36.67136635000014
                 ],
                 [
                  53.864981760000205,
                  36.67047851900014
                 ],
                 [
                  53.87002621700026,
                  36.66990744900011
                 ],
                 [
                  53.87821156300015,
                  36.6697932350001
                 ],
                 [
                  53.88277815500015,
                  36.67061207200027
                 ],
                 [
                  53.894772612000224,
                  36.67276280200019
                 ],
                 [
                  53.93075006100014,
                  36.67813086600029
                 ],
                 [
                  53.941391551000265,
                  36.678811921000204
                 ],
                 [
                  53.94502682800021,
                  36.679044579000106
                 ],
                 [
                  53.95621981300019,
                  36.67607501200018
                 ],
                 [
                  53.96467165800027,
                  36.67059273300015
                 ],
                 [
                  53.97472250200019,
                  36.6604276760001
                 ],
                 [
                  53.9824890620003,
                  36.65368904300021
                 ],
                 [
                  53.98865662500015,
                  36.65209004500025
                 ],
                 [
                  53.99635850600015,
                  36.65010952800009
                 ],
                 [
                  54.0020295180002,
                  36.65004477200023
                 ],
                 [
                  54.0043534950002,
                  36.65001815600016
                 ],
                 [
                  54.01112513700025,
                  36.64930896400011
                 ],
                 [
                  54.01787644700016,
                  36.64860190100012
                 ],
                 [
                  54.03797813400013,
                  36.644855678000226
                 ],
                 [
                  54.047252321000144,
                  36.64216022400018
                 ],
                 [
                  54.06356209900014,
                  36.63603834700018
                 ],
                 [
                  54.0801003040001,
                  36.62859158600014
                 ],
                 [
                  54.095770483000194,
                  36.61950014100012
                 ],
                 [
                  54.10856246500026,
                  36.61091123900019
                 ],
                 [
                  54.11829350900018,
                  36.60227665100018
                 ],
                 [
                  54.1247808710001,
                  36.59336794900008
                 ],
                 [
                  54.12825298100017,
                  36.58377396200024
                 ],
                 [
                  54.132273318000216,
                  36.570844923000095
                 ],
                 [
                  54.133187031000205,
                  36.55800725500018
                 ],
                 [
                  54.13213626100014,
                  36.546905641000194
                 ],
                 [
                  54.130720006000104,
                  36.53297151800024
                 ],
                 [
                  54.12994335000013,
                  36.52100187700023
                 ],
                 [
                  54.12839003800025,
                  36.509214979000205
                 ],
                 [
                  54.1281159240001,
                  36.50190527500024
                 ],
                 [
                  54.12827609200019,
                  36.49569137600008
                 ],
                 [
                  54.11413699900015,
                  36.491445131000205
                 ],
                 [
                  54.0984801460001,
                  36.4879711180003
                 ],
                 [
                  54.08477445000011,
                  36.482926660000146
                 ],
                 [
                  54.070973576000085,
                  36.47569309900018
                 ],
                 [
                  54.06050394800013,
                  36.46950650000019
                 ],
                 [
                  54.04951083800023,
                  36.46341508000012
                 ],
                 [
                  54.03461541200022,
                  36.456609821000086
                 ],
                 [
                  54.02963678600025,
                  36.45477860300025
                 ],
                 [
                  54.02219462600016,
                  36.45204125600014
                 ],
                 [
                  54.010011786000234,
                  36.4500900980002
                 ],
                 [
                  54.001255369000205,
                  36.451470186000165
                 ],
                 [
                  53.99435896700015,
                  36.451827534000245
                 ],
                 [
                  53.983013697000274,
                  36.44931482400017
                 ],
                 [
                  53.96116072800021,
                  36.44725896900019
                 ],
                 [
                  53.93854633100017,
                  36.4420812620001
                 ],
                 [
                  53.927581773000156,
                  36.43469541500019
                 ],
                 [
                  53.91745478800027,
                  36.425634428000194
                 ],
                 [
                  53.90496737600017,
                  36.41131959000023
                 ],
                 [
                  53.89110939600022,
                  36.397233181000104
                 ],
                 [
                  53.87907884100014,
                  36.377969065000116
                 ],
                 [
                  53.87615786800018,
                  36.36866046900013
                 ],
                 [
                  53.876767010000094,
                  36.364701046000164
                 ],
                 [
                  53.877490366000245,
                  36.36230254900022
                 ],
                 [
                  53.87924164900011,
                  36.36017055200011
                 ],
                 [
                  53.88537114100012,
                  36.35640148600021
                 ],
                 [
                  53.88910213600019,
                  36.35404106000016
                 ],
                 [
                  53.89085341900022,
                  36.353736489000084
                 ],
                 [
                  53.89629762600015,
                  36.35114763600018
                 ],
                 [
                  53.90257940300023,
                  36.34772121200018
                 ],
                 [
                  53.90722411100012,
                  36.34600800000021
                 ],
                 [
                  53.9203968070002,
                  36.33831758200017
                 ],
                 [
                  53.930409579000184,
                  36.33150280600012
                 ],
                 [
                  53.936310642000194,
                  36.32636317000015
                 ],
                 [
                  53.93836649700023,
                  36.3251448860002
                 ],
                 [
                  53.94198327700019,
                  36.32095703500022
                 ],
                 [
                  53.94628534300017,
                  36.31684532600025
                 ],
                 [
                  53.94853155400011,
                  36.31189604700012
                 ],
                 [
                  53.94971176700017,
                  36.30786048100015
                 ],
                 [
                  53.948988410000084,
                  36.30401527200024
                 ],
                 [
                  53.9479604830002,
                  36.29811420900023
                 ],
                 [
                  53.94544777200019,
                  36.29327914400011
                 ],
                 [
                  53.94270663300017,
                  36.285474512000235
                 ],
                 [
                  53.94118377800021,
                  36.28170544600016
                 ],
                 [
                  53.93867106800013,
                  36.27805059400026
                 ],
                 [
                  53.93528271500014,
                  36.27313938600014
                 ],
                 [
                  53.93277000400019,
                  36.26948453400024
                 ],
                 [
                  53.929572009000196,
                  36.26487789800012
                 ],
                 [
                  53.92648822700011,
                  36.26255554400018
                 ],
                 [
                  53.92386130200009,
                  36.2586341920001
                 ],
                 [
                  53.92211001900023,
                  36.256273767000096
                 ],
                 [
                  53.92081559200017,
                  36.25429405500023
                 ],
                 [
                  53.908061681000106,
                  36.242606143000216
                 ],
                 [
                  53.901817975000085,
                  36.23720000700024
                 ],
                 [
                  53.89420370000022,
                  36.230118731000175
                 ],
                 [
                  53.89047270500021,
                  36.226578093000114
                 ],
                 [
                  53.886056426000096,
                  36.22383695400026
                 ],
                 [
                  53.880726433000234,
                  36.220905458000175
                 ],
                 [
                  53.869647663000194,
                  36.215575466000246
                 ],
                 [
                  53.859596819000274,
                  36.21058811500012
                 ],
                 [
                  53.85221097200014,
                  36.207961190000105
                 ],
                 [
                  53.8478708360002,
                  36.206286050000244
                 ],
                 [
                  53.841817487000185,
                  36.2041921240002
                 ],
                 [
                  53.8296727180001,
                  36.19947127300014
                 ],
                 [
                  53.822401085000195,
                  36.19619713500009
                 ],
                 [
                  53.81950766000017,
                  36.19494078000014
                 ],
                 [
                  53.81436802500025,
                  36.192922997000096
                 ],
                 [
                  53.80835274700013,
                  36.189839215000234
                 ],
                 [
                  53.80416489600009,
                  36.188620931000116
                 ],
                 [
                  53.7995963310002,
                  36.187326504000225
                 ],
                 [
                  53.78330178200014,
                  36.17780866000015
                 ],
                 [
                  53.776364763000174,
                  36.17365969100018
                 ],
                 [
                  53.767608346000145,
                  36.16733984200016
                 ],
                 [
                  53.75953721600024,
                  36.15904028200015
                 ],
                 [
                  53.751999082000225,
                  36.15279657700023
                 ],
                 [
                  53.74674523100009,
                  36.145563015000164
                 ],
                 [
                  53.73745581600025,
                  36.135436029000175
                 ],
                 [
                  53.716744988000244,
                  36.12325318900025
                 ],
                 [
                  53.70950408500022,
                  36.11877263000014
                 ],
                 [
                  53.70296315000019,
                  36.11472520100017
                 ],
                 [
                  53.6895620250001,
                  36.10497892800015
                 ],
                 [
                  53.68111018000019,
                  36.10071493400011
                 ],
                 [
                  53.65209979000025,
                  36.09310065900013
                 ],
                 [
                  53.62217569000023,
                  36.09051180500012
                 ],
                 [
                  53.60519585600025,
                  36.08898895000016
                 ],
                 [
                  53.59643943900022,
                  36.08936966400023
                 ],
                 [
                  53.58943430600016,
                  36.09005494900015
                 ],
                 [
                  53.58357131400015,
                  36.09043566300022
                 ],
                 [
                  53.573520471000165,
                  36.09005494900015
                 ],
                 [
                  53.554941640000095,
                  36.0878468090001
                 ],
                 [
                  53.52775867700012,
                  36.08297367300008
                 ],
                 [
                  53.50666713500027,
                  36.0806893900002
                 ],
                 [
                  53.493037582000284,
                  36.07909039300017
                 ],
                 [
                  53.484052737000184,
                  36.07695839500013
                 ],
                 [
                  53.460676912000224,
                  36.07429339900028
                 ],
                 [
                  53.45245349500027,
                  36.0753593980001
                 ],
                 [
                  53.441108225000164,
                  36.07695839500013
                 ],
                 [
                  53.42961066900011,
                  36.075892397000246
                 ],
                 [
                  53.41095569500021,
                  36.071704546000205
                 ],
                 [
                  53.38483873100023,
                  36.06492784100021
                 ],
                 [
                  53.361919763000174,
                  36.05464856900022
                 ],
                 [
                  53.34722223000011,
                  36.04718380300022
                 ],
                 [
                  53.3275793800002,
                  36.03584130900015
                 ],
                 [
                  53.30359441400026,
                  36.0210696150001
                 ],
                 [
                  53.29072628900019,
                  36.01056191600014
                 ],
                 [
                  53.283340442000224,
                  36.0026430690001
                 ],
                 [
                  53.275497739000116,
                  35.99754150500024
                 ],
                 [
                  53.268264177000276,
                  35.992972940000186
                 ],
                 [
                  53.259466704000204,
                  35.987540653000224
                 ],
                 [
                  53.25261385600021,
                  35.98274366000021
                 ],
                 [
                  53.244314296000084,
                  35.979697950000116
                 ],
                 [
                  53.23251217000018,
                  35.97231210300015
                 ],
                 [
                  53.228400462000195,
                  35.967971966000164
                 ],
                 [
                  53.22577984900016,
                  35.962029503000224
                 ],
                 [
                  53.22669356200015,
                  35.9587744010002
                 ],
                 [
                  53.2279499170001,
                  35.95129337500009
                 ],
                 [
                  53.23143344800013,
                  35.94512581200024
                 ],
                 [
                  53.23463144400023,
                  35.93815875000024
                 ],
                 [
                  53.23348930300011,
                  35.93221961600017
                 ],
                 [
                  53.23109080600017,
                  35.92839344200013
                 ],
                 [
                  53.22657934800014,
                  35.92462437600017
                 ],
                 [
                  53.21778486000022,
                  35.922397201000194
                 ],
                 [
                  53.217737271000146,
                  35.92234961200029
                 ],
                 [
                  53.207886302000134,
                  35.9209695240001
                 ],
                 [
                  53.20403157500016,
                  35.9211122920002
                 ],
                 [
                  53.158203156000184,
                  35.91868524200015
                 ],
                 [
                  53.1444974610003,
                  35.91868524200015
                 ],
                 [
                  53.10771099400023,
                  35.91849488500009
                 ],
                 [
                  53.09814556100025,
                  35.917447922000235
                 ],
                 [
                  53.090911999000184,
                  35.91587747800014
                 ],
                 [
                  53.079585765000104,
                  35.914687747000244
                 ],
                 [
                  53.06093079000016,
                  35.91126132300025
                 ],
                 [
                  53.05712365300019,
                  35.90959570100023
                 ],
                 [
                  53.05369722900019,
                  35.90664516900017
                 ],
                 [
                  53.04751063000015,
                  35.901077230000226
                 ],
                 [
                  53.04365590400022,
                  35.896651433000216
                 ],
                 [
                  53.041324032000205,
                  35.8936533120002
                 ],
                 [
                  53.0377072510002,
                  35.89170215400026
                 ],
                 [
                  53.03375734600013,
                  35.8900841200001
                 ],
                 [
                  53.02818940700013,
                  35.88884680100017
                 ],
                 [
                  53.024382269000284,
                  35.888323319000165
                 ],
                 [
                  53.021669684000244,
                  35.887419124000246
                 ],
                 [
                  53.0215269160002,
                  35.88546796600025
                 ],
                 [
                  53.0214317380001,
                  35.883469219000176
                 ],
                 [
                  53.02252629000009,
                  35.87923377800013
                 ],
                 [
                  53.024477448000255,
                  35.87609289000011
                 ],
                 [
                  53.024715394000225,
                  35.87485557000025
                 ],
                 [
                  53.02490575100023,
                  35.87166709200022
                 ],
                 [
                  53.02504851800023,
                  35.87023941500013
                 ],
                 [
                  53.02538164300017,
                  35.86790754400022
                 ],
                 [
                  53.02371602000011,
                  35.86471906600019
                 ],
                 [
                  53.01971852600013,
                  35.85848487800018
                 ],
                 [
                  53.01986129400018,
                  35.85267899300027
                 ],
                 [
                  53.020879104000244,
                  35.851346148000175
                 ],
                 [
                  53.0183346930001,
                  35.8492058650001
                 ],
                 [
                  53.01302373600021,
                  35.84475151400022
                 ],
                 [
                  53.00725592200013,
                  35.84029716300017
                 ],
                 [
                  52.997490614000185,
                  35.83595702600019
                 ],
                 [
                  52.987211343000126,
                  35.8328732450002
                 ],
                 [
                  52.9766465360002,
                  35.83030342700022
                 ],
                 [
                  52.96099920100028,
                  35.830874497000195
                 ],
                 [
                  52.939526943000146,
                  35.8331016730001
                 ],
                 [
                  52.92130979100011,
                  35.83669941800014
                 ],
                 [
                  52.90526270600009,
                  35.84218169600024
                 ],
                 [
                  52.89235650900031,
                  35.84800661700018
                 ],
                 [
                  52.87448199800025,
                  35.8563442480002
                 ],
                 [
                  52.861575802000175,
                  35.86182652600013
                 ],
                 [
                  52.843701291000116,
                  35.869421766000244
                 ],
                 [
                  52.83130409600011,
                  35.87421909700009
                 ],
                 [
                  52.816836973000306,
                  35.879396805000226
                 ],
                 [
                  52.79917185400018,
                  35.88777250700025
                 ],
                 [
                  52.78500930200022,
                  35.89675735200018
                 ],
                 [
                  52.76932389500013,
                  35.90399091400025
                 ],
                 [
                  52.75196334800012,
                  35.91000619100009
                 ],
                 [
                  52.72668395400018,
                  35.91845803700022
                 ],
                 [
                  52.710237120000215,
                  35.92432102800012
                 ],
                 [
                  52.695008569000095,
                  35.929651021000154
                 ],
                 [
                  52.68267344300017,
                  35.93315358800015
                 ],
                 [
                  52.66576975200019,
                  35.93589472700023
                 ],
                 [
                  52.6629213020002,
                  35.93643530900016
                 ],
                 [
                  52.6553381950003,
                  35.937874438000165
                 ],
                 [
                  52.6280790900002,
                  35.940006435000214
                 ],
                 [
                  52.610566257000244,
                  35.94092014800009
                 ],
                 [
                  52.602392407000195,
                  35.94018239800016
                 ],
                 [
                  52.5899716200002,
                  35.93984927300022
                 ],
                 [
                  52.5756472650001,
                  35.93946855900015
                 ],
                 [
                  52.52025341300015,
                  35.93842159700023
                 ],
                 [
                  52.51568484700016,
                  35.93718427700014
                 ],
                 [
                  52.50669048500009,
                  35.93727945500018
                 ],
                 [
                  52.50093218900025,
                  35.93727945500018
                 ],
                 [
                  52.49879778100018,
                  35.93676499400016
                 ],
                 [
                  52.491944933000184,
                  35.935714224000094
                 ],
                 [
                  52.48646265500025,
                  35.93429796800018
                 ],
                 [
                  52.481894090000196,
                  35.93288171300014
                 ],
                 [
                  52.47745879700011,
                  35.9313097110001
                 ],
                 [
                  52.47467575700023,
                  35.930323317000216
                 ],
                 [
                  52.46325434400018,
                  35.92516083800018
                 ],
                 [
                  52.45489387000015,
                  35.92040953000014
                 ],
                 [
                  52.4424673740001,
                  35.91241454100009
                 ],
                 [
                  52.43058910300027,
                  35.90227232700022
                 ],
                 [
                  52.42350782700021,
                  35.894277338000165
                 ],
                 [
                  52.42116838700025,
                  35.890967886000226
                 ],
                 [
                  52.41976160400009,
                  35.88897780200023
                 ],
                 [
                  52.41108133000023,
                  35.877327961000105
                 ],
                 [
                  52.39920306100021,
                  35.86343952300024
                 ],
                 [
                  52.39043141600018,
                  35.855261792000135
                 ],
                 [
                  52.38079174300009,
                  35.849048543000265
                 ],
                 [
                  52.37567070800009,
                  35.846727008000244
                 ],
                 [
                  52.3705124720002,
                  35.844388607000155
                 ],
                 [
                  52.354887979000125,
                  35.83835810100015
                 ],
                 [
                  52.336750777000134,
                  35.832144852000226
                 ],
                 [
                  52.32391310800011,
                  35.82862705700023
                 ],
                 [
                  52.30760333000012,
                  35.82469809100024
                 ],
                 [
                  52.2923900080001,
                  35.81866758500024
                 ],
                 [
                  52.286862044000145,
                  35.81610918900009
                 ],
                 [
                  52.283572677000166,
                  35.81341373500021
                 ],
                 [
                  52.27178577900014,
                  35.80249486400015
                 ],
                 [
                  52.26589233000021,
                  35.79632730200018
                 ],
                 [
                  52.25780597000016,
                  35.784997260000125
                 ],
                 [
                  52.25273486300023,
                  35.77791598400023
                 ],
                 [
                  52.24802924100027,
                  35.77467230300016
                 ],
                 [
                  52.236425085000235,
                  35.77042353700017
                 ],
                 [
                  52.223356888000126,
                  35.76754029600022
                 ],
                 [
                  52.22048079300015,
                  35.76690574200012
                 ],
                 [
                  52.215590967000196,
                  35.76665099700011
                 ],
                 [
                  52.20783392500016,
                  35.76617510500017
                 ],
                 [
                  52.198316081000144,
                  35.76531849900016
                 ],
                 [
                  52.184657975000164,
                  35.7644618930002
                 ],
                 [
                  52.17390281100023,
                  35.76508055300019
                 ],
                 [
                  52.165717465000114,
                  35.76522332100012
                 ],
                 [
                  52.15334426800018,
                  35.76484260700022
                 ],
                 [
                  52.14001928600021,
                  35.76374805500029
                 ],
                 [
                  52.12222091800021,
                  35.76312939500025
                 ],
                 [
                  52.102233446000184,
                  35.763081806000116
                 ],
                 [
                  52.0906692650002,
                  35.76384323300016
                 ],
                 [
                  52.08143695600023,
                  35.76531849900016
                 ],
                 [
                  52.066113227000244,
                  35.76893528000022
                 ],
                 [
                  52.05678574000024,
                  35.771980990000145
                 ],
                 [
                  52.04355593800017,
                  35.776406787000155
                 ],
                 [
                  52.0346091630002,
                  35.7787862480003
                 ],
                 [
                  52.025482904000114,
                  35.78102309200028
                 ],
                 [
                  52.016488541000115,
                  35.784021213000244
                 ],
                 [
                  52.00597132300015,
                  35.78806629600018
                 ],
                 [
                  51.99578723000013,
                  35.79544262600018
                 ],
                 [
                  51.982033946000115,
                  35.80634055700011
                 ],
                 [
                  51.97689431000015,
                  35.8106711760002
                 ],
                 [
                  51.97237333400017,
                  35.81314581500021
                 ],
                 [
                  51.961475403000236,
                  35.81633429300024
                 ],
                 [
                  51.945770960000175,
                  35.82114080400015
                 ],
                 [
                  51.932017675000225,
                  35.82623285100021
                 ],
                 [
                  51.9196920670002,
                  35.8325622170002
                 ],
                 [
                  51.90541530100023,
                  35.84198488300024
                 ],
                 [
                  51.890757822000296,
                  35.85369183100022
                 ],
                 [
                  51.87959055300024,
                  35.865765534000275
                 ],
                 [
                  51.87610034200026,
                  35.86953904100011
                 ],
                 [
                  51.867962585000214,
                  35.88105563300013
                 ],
                 [
                  51.861538040000084,
                  35.89309570500018
                 ],
                 [
                  51.85492313900011,
                  35.90304185200023
                 ],
                 [
                  51.84097949700015,
                  35.922363076000124
                 ],
                 [
                  51.83279415100026,
                  35.932547169000145
                 ],
                 [
                  51.83139621800012,
                  35.93437826600024
                 ],
                 [
                  51.8294153170001,
                  35.936972966000155
                 ],
                 [
                  51.81923122400025,
                  35.945063134000236
                 ],
                 [
                  51.80414544100023,
                  35.957864634000146
                 ],
                 [
                  51.79615045200012,
                  35.96543132000028
                 ],
                 [
                  51.7855856450002,
                  35.97342630900016
                 ],
                 [
                  51.7735455720001,
                  35.98499048900021
                 ],
                 [
                  51.765455405000125,
                  35.99455592300012
                 ],
                 [
                  51.764646388000244,
                  35.9973636870003
                 ],
                 [
                  51.7638553030003,
                  36.00026558700023
                 ],
                 [
                  51.76195173400026,
                  36.002473727000165
                 ],
                 [
                  51.75791616800012,
                  36.00628086500018
                 ],
                 [
                  51.738728195000135,
                  36.017854563000185
                 ],
                 [
                  51.7318119210002,
                  36.02211610500018
                 ],
                 [
                  51.71611379700022,
                  36.031788687000244
                 ],
                 [
                  51.7153161010001,
                  36.032154298000194
                 ],
                 [
                  51.683220128000244,
                  36.04686495200019
                 ],
                 [
                  51.66654486600021,
                  36.05219494400012
                 ],
                 [
                  51.65031051500017,
                  36.05844321600023
                 ],
                 [
                  51.64438732500014,
                  36.0607229320002
                 ],
                 [
                  51.62999634600021,
                  36.06612906800018
                 ],
                 [
                  51.61042765700017,
                  36.07633219700017
                 ],
                 [
                  51.58141726900021,
                  36.092550603000234
                 ],
                 [
                  51.567635431000156,
                  36.09848973800024
                 ],
                 [
                  51.55278759400028,
                  36.10130701900016
                 ],
                 [
                  51.53687375900029,
                  36.103439016000095
                 ],
                 [
                  51.52042692400022,
                  36.107246154000165
                 ],
                 [
                  51.4959851010002,
                  36.11630714200027
                 ],
                 [
                  51.483573832000104,
                  36.12331227500016
                 ],
                 [
                  51.46689856900019,
                  36.13267783300023
                 ],
                 [
                  51.45981729300013,
                  36.137246398000116
                 ],
                 [
                  51.44961416400031,
                  36.1450891020001
                 ],
                 [
                  51.43872575100028,
                  36.1504952370002
                 ],
                 [
                  51.429284050000206,
                  36.15201809200022
                 ],
                 [
                  51.40712650900019,
                  36.152322663000234
                 ],
                 [
                  51.38595882400017,
                  36.15285566300014
                 ],
                 [
                  51.3638012830001,
                  36.15293180500021
                 ],
                 [
                  51.34453716700011,
                  36.153693233000126
                 ],
                 [
                  51.339011505000144,
                  36.153817525000136
                 ],
                 [
                  51.314874252000095,
                  36.154731238000124
                 ],
                 [
                  51.31198082800017,
                  36.1554926660001
                 ],
                 [
                  51.30733612000023,
                  36.157776948000105
                 ],
                 [
                  51.288833431000114,
                  36.16965521800023
                 ],
                 [
                  51.27657444800019,
                  36.17757406400011
                 ],
                 [
                  51.271777455000176,
                  36.18031520300019
                 ],
                 [
                  51.268046460000164,
                  36.18138120100025
                 ],
                 [
                  51.26210732500016,
                  36.18275177100014
                 ],
                 [
                  51.256472761000225,
                  36.18320862700011
                 ],
                 [
                  51.24923920000009,
                  36.18183805800015
                 ],
                 [
                  51.24048278300029,
                  36.17894463300013
                 ],
                 [
                  51.22761465800022,
                  36.172853213000224
                 ],
                 [
                  51.22099023800013,
                  36.16980750300013
                 ],
                 [
                  51.20621854500013,
                  36.165010510000116
                 ],
                 [
                  51.20324897800015,
                  36.163868368000124
                 ],
                 [
                  51.1941118470001,
                  36.16706636400022
                 ],
                 [
                  51.176294443000245,
                  36.174223783000116
                 ],
                 [
                  51.16395931800025,
                  36.18061977400026
                 ],
                 [
                  51.151471906000154,
                  36.18640662300021
                 ],
                 [
                  51.131217934000176,
                  36.19561989600021
                 ],
                 [
                  51.11043096300017,
                  36.20361488500015
                 ],
                 [
                  51.09367955700009,
                  36.21008701900024
                 ],
                 [
                  51.07685200900028,
                  36.21678758100023
                 ],
                 [
                  51.05675032200014,
                  36.22287900100014
                 ],
                 [
                  51.05142033000021,
                  36.22493485600012
                 ],
                 [
                  51.033755211000084,
                  36.23041713400022
                 ],
                 [
                  51.00018463700013,
                  36.24872156100014
                 ],
                 [
                  50.98842058200012,
                  36.25443226700014
                 ],
                 [
                  50.97939766600018,
                  36.2555744080002
                 ],
                 [
                  50.96454982900025,
                  36.25808711900021
                 ],
                 [
                  50.9442197150002,
                  36.26448311000013
                 ],
                 [
                  50.92720180900022,
                  36.26950853200009
                 ],
                 [
                  50.925660764000156,
                  36.26998444300011
                 ],
                 [
                  50.911668688000134,
                  36.2743055250001
                 ],
                 [
                  50.89887670700017,
                  36.27853144800008
                 ],
                 [
                  50.8968208510002,
                  36.27853144800008
                 ],
                 [
                  50.891909644000236,
                  36.280358874000115
                 ],
                 [
                  50.868952604000185,
                  36.29052393200021
                 ],
                 [
                  50.86095761500013,
                  36.29520671100016
                 ],
                 [
                  50.85483466400018,
                  36.29779341100016
                 ],
                 [
                  50.8582134990001,
                  36.304931794000254
                 ],
                 [
                  50.86016465700021,
                  36.311403928000175
                 ],
                 [
                  50.86273447500025,
                  36.31911338100025
                 ],
                 [
                  50.86278206400016,
                  36.32867881500016
                 ],
                 [
                  50.86273447500025,
                  36.342622456000186
                 ],
                 [
                  50.86263929600028,
                  36.36399001600017
                 ],
                 [
                  50.85868939100021,
                  36.374174109000194
                 ],
                 [
                  50.85416841500023,
                  36.385405165000236
                 ],
                 [
                  50.84931431500024,
                  36.39525613400019
                 ],
                 [
                  50.84017718400014,
                  36.4051071020001
                 ],
                 [
                  50.82675702400019,
                  36.417147175000196
                 ],
                 [
                  50.82133185300029,
                  36.42366689800025
                 ],
                 [
                  50.806626784000116,
                  36.43456482900018
                 ],
                 [
                  50.7967631250001,
                  36.43692525500012
                 ],
                 [
                  50.783514286000184,
                  36.44134153400023
                 ],
                 [
                  50.77544315400013,
                  36.446519242000136
                 ],
                 [
                  50.765468454000086,
                  36.45131623500015
                 ],
                 [
                  50.74696576500014,
                  36.45999650900018
                 ],
                 [
                  50.73089964400015,
                  36.46730621300014
                 ],
                 [
                  50.71795537700018,
                  36.475453487000095
                 ],
                 [
                  50.704782680000164,
                  36.485504331000186
                 ],
                 [
                  50.68605156300015,
                  36.497382600000265
                 ],
                 [
                  50.677295147000166,
                  36.50339787700011
                 ],
                 [
                  50.67343601600021,
                  36.50553138100008
                 ],
                 [
                  50.66792958800022,
                  36.508575585000244
                 ],
                 [
                  50.66001074200011,
                  36.51162129500017
                 ],
                 [
                  50.651635039000155,
                  36.5135248630001
                 ],
                 [
                  50.6341983490002,
                  36.51664671600025
                 ],
                 [
                  50.60716767200017,
                  36.521976709000285
                 ],
                 [
                  50.599956958000234,
                  36.52400926000013
                 ],
                 [
                  50.595822402000124,
                  36.52517470500021
                 ],
                 [
                  50.58059385200022,
                  36.530656983000085
                 ],
                 [
                  50.57534000200019,
                  36.534844834000126
                 ],
                 [
                  50.57077143700013,
                  36.538880400000096
                 ],
                 [
                  50.5652891580001,
                  36.54413425000013
                 ],
                 [
                  50.55485760200014,
                  36.55205309600018
                 ],
                 [
                  50.54830932500022,
                  36.5556318050003
                 ],
                 [
                  50.542979332000186,
                  36.56119022600018
                 ],
                 [
                  50.53978133600009,
                  36.56408365100026
                 ],
                 [
                  50.53140563400018,
                  36.57032735700011
                 ],
                 [
                  50.52409592900017,
                  36.574591351000095
                 ],
                 [
                  50.51762379600012,
                  36.57558120600021
                 ],
                 [
                  50.51069480500013,
                  36.578322346000164
                 ],
                 [
                  50.498283537000134,
                  36.58327162400025
                 ],
                 [
                  50.48868955000012,
                  36.588068618000136
                 ],
                 [
                  50.47429857000009,
                  36.59644432100009
                 ],
                 [
                  50.467978721000236,
                  36.600708315000304
                 ],
                 [
                  50.46165887300009,
                  36.60512459400019
                 ],
                 [
                  50.45533902400024,
                  36.607180449000225
                 ],
                 [
                  50.447039464000284,
                  36.61060687200012
                 ],
                 [
                  50.43995818800022,
                  36.612586584000155
                 ],
                 [
                  50.420008787000086,
                  36.62042928800014
                 ],
                 [
                  50.41521384400011,
                  36.621640913000135
                 ],
                 [
                  50.405846235000126,
                  36.624007997000206
                 ],
                 [
                  50.39038925700021,
                  36.628119705000245
                 ],
                 [
                  50.38026227100016,
                  36.63230755700022
                 ],
                 [
                  50.36967842800016,
                  36.636114694000184
                 ],
                 [
                  50.36244486700019,
                  36.63603855200029
                 ],
                 [
                  50.36271437500028,
                  36.63814510800012
                 ],
                 [
                  50.36499865900009,
                  36.64052456900009
                 ],
                 [
                  50.36794919000022,
                  36.64318956500017
                 ],
                 [
                  50.37289846900018,
                  36.64809125500017
                 ],
                 [
                  50.37875194300011,
                  36.65399231800018
                 ],
                 [
                  50.385033720000195,
                  36.66141623600021
                 ],
                 [
                  50.39183897800012,
                  36.66855461900025
                 ],
                 [
                  50.39916771900016,
                  36.6771206790001
                 ],
                 [
                  50.40806690300019,
                  36.68778066400023
                 ],
                 [
                  50.41558600000013,
                  36.695014226000296
                 ],
                 [
                  50.42115393800026,
                  36.70281885800017
                 ],
                 [
                  50.42350255300016,
                  36.70696517800019
                 ],
                 [
                  50.425008665000234,
                  36.7096241160001
                 ],
                 [
                  50.429719999000156,
                  36.71842812200009
                 ],
                 [
                  50.43314642200022,
                  36.72509061300025
                 ],
                 [
                  50.43514516900012,
                  36.73227658500025
                 ],
                 [
                  50.43676320300028,
                  36.7404619310002
                 ],
                 [
                  50.43747704100019,
                  36.748837634000154
                 ],
                 [
                  50.43676320300028,
                  36.75730851500015
                 ],
                 [
                  50.435954186000174,
                  36.768872695000084
                 ],
                 [
                  50.435478294000234,
                  36.77596348900022
                 ],
                 [
                  50.43309883300009,
                  36.78148383900009
                 ],
                 [
                  50.43057660400024,
                  36.788289097000245
                 ],
                 [
                  50.42933928400015,
                  36.79909185000008
                 ],
                 [
                  50.429624820000186,
                  36.80627782200014
                 ],
                 [
                  50.42994137600027,
                  36.81830698600015
                 ],
                 [
                  50.42995794400019,
                  36.81893655500028
                 ],
                 [
                  50.43095731800014,
                  36.830215200000225
                 ],
                 [
                  50.43224222700013,
                  36.837972243000195
                 ],
                 [
                  50.43328918800012,
                  36.84430160900018
                 ],
                 [
                  50.43350175600017,
                  36.848004051000146
                 ],
                 [
                  50.43578603700024,
                  36.85386704200022
                 ],
                 [
                  50.4408114590002,
                  36.85866403600011
                 ],
                 [
                  50.446446023000306,
                  36.862547316000246
                 ],
                 [
                  50.44933944700023,
                  36.864603171000226
                 ],
                 [
                  50.45520244000011,
                  36.86589759700024
                 ],
                 [
                  50.46114157400018,
                  36.86764888100021
                 ],
                 [
                  50.46494871000027,
                  36.86940016400024
                 ],
                 [
                  50.467547281000236,
                  36.87036172200021
                 ],
                 [
                  50.49251179200019,
                  36.878425120000145
                 ],
                 [
                  50.49446295000013,
                  36.877520925000226
                 ],
                 [
                  50.496271341000295,
                  36.87514146400025
                 ],
                 [
                  50.49822249800013,
                  36.871857808000186
                 ],
                 [
                  50.50131579800012,
                  36.86966870400022
                 ],
                 [
                  50.50498016900019,
                  36.86843138400019
                 ],
                 [
                  50.51097641000024,
                  36.86909763300014
                 ],
                 [
                  50.51687747300031,
                  36.87190539700009
                 ],
                 [
                  50.52187434100017,
                  36.87652155200021
                 ],
                 [
                  50.52501523000012,
                  36.882232258000215
                 ],
                 [
                  50.52553871000009,
                  36.88456413000023
                 ],
                 [
                  50.52568147900024,
                  36.888942338000106
                 ],
                 [
                  50.52439657000025,
                  36.891226621000214
                 ],
                 [
                  50.523920677000206,
                  36.892749476000176
                 ],
                 [
                  50.5258718350002,
                  36.89489099000025
                 ],
                 [
                  50.53577039300012,
                  36.90112517800026
                 ],
                 [
                  50.54219493800014,
                  36.9068834740001
                 ],
                 [
                  50.54980921200024,
                  36.914592928000275
                 ],
                 [
                  50.556757239000206,
                  36.92068434800012
                 ],
                 [
                  50.5634673190001,
                  36.926252287000125
                 ],
                 [
                  50.56951115000021,
                  36.931629868000186
                 ],
                 [
                  50.57184302200022,
                  36.93386656200016
                 ],
                 [
                  50.5781723880001,
                  36.94143324800024
                 ],
                 [
                  50.58669085900016,
                  36.950094486000125
                 ],
                 [
                  50.59411477700013,
                  36.9558527810002
                 ],
                 [
                  50.59739843400013,
                  36.95889849200023
                 ],
                 [
                  50.60025378700021,
                  36.96132554200017
                 ],
                 [
                  50.60154618600012,
                  36.963182303000224
                 ],
                 [
                  50.6060381150001,
                  36.96116093500012
                 ],
                 [
                  50.63090348300028,
                  36.951167198000235
                 ],
                 [
                  50.64054030000011,
                  36.94843081800013
                 ],
                 [
                  50.65136684800029,
                  36.94462368100017
                 ],
                 [
                  50.66064674600017,
                  36.93950783900016
                 ],
                 [
                  50.66945075100023,
                  36.9307038340001
                 ],
                 [
                  50.674209672000245,
                  36.921661882000194
                 ],
                 [
                  50.68051524500015,
                  36.91416658000014
                 ],
                 [
                  50.693483307000236,
                  36.90607641200012
                 ],
                 [
                  50.707998020000105,
                  36.89929494800015
                 ],
                 [
                  50.73226852200008,
                  36.88918223900015
                 ],
                 [
                  50.746426315000235,
                  36.882876667000176
                 ],
                 [
                  50.75016971900021,
                  36.8826796460001
                 ],
                 [
                  50.753207779000206,
                  36.88251974800022
                 ],
                 [
                  50.75903745800019,
                  36.88156796400017
                 ],
                 [
                  50.763082542000234,
                  36.87847466500011
                 ],
                 [
                  50.76938811300016,
                  36.87728493400016
                 ],
                 [
                  50.77283833200022,
                  36.87669006900023
                 ],
                 [
                  50.777478281000185,
                  36.87288293100016
                 ],
                 [
                  50.78149817100024,
                  36.86863971400021
                 ]
                ]
               ],
               "type": "Polygon"
              },
              "id": "3",
              "properties": {
               "Markaz": "ساری",
               "Ostan": "مازندران"
              },
              "type": "Feature"
             },
             {
              "bbox": [
               48.56694954400024,
               36.568652216000146,
               50.60154618600012,
               38.45550625800013
              ],
              "geometry": {
               "coordinates": [
                [
                 [
                  48.65572156100012,
                  38.39916062100019
                 ],
                 [
                  48.66424954900015,
                  38.396724053000185
                 ],
                 [
                  48.67490953400011,
                  38.39718091000009
                 ],
                 [
                  48.69029037000013,
                  38.4014449040003
                 ],
                 [
                  48.70460520800009,
                  38.40799318000012
                 ],
                 [
                  48.71286669700021,
                  38.41103889000021
                 ],
                 [
                  48.73133131300011,
                  38.41446531400021
                 ],
                 [
                  48.741991299000176,
                  38.41732066800023
                 ],
                 [
                  48.752460928000175,
                  38.4247445860002
                 ],
                 [
                  48.75830956100015,
                  38.430410449000135
                 ],
                 [
                  48.7646437680001,
                  38.43654671200011
                 ],
                 [
                  48.77092554500018,
                  38.441686348000246
                 ],
                 [
                  48.777207322000095,
                  38.442828490000295
                 ],
                 [
                  48.784631240000294,
                  38.446064556000124
                 ],
                 [
                  48.79357801400016,
                  38.44720669800017
                 ],
                 [
                  48.80538014000018,
                  38.44720669800017
                 ],
                 [
                  48.81699191000013,
                  38.44663562700026
                 ],
                 [
                  48.8209894040001,
                  38.446064556000124
                 ],
                 [
                  48.82670011100021,
                  38.44777776800015
                 ],
                 [
                  48.83203010400024,
                  38.44949098000012
                 ],
                 [
                  48.83545652700013,
                  38.448729553000135
                 ],
                 [
                  48.84040580600009,
                  38.44739705500018
                 ],
                 [
                  48.8484007950002,
                  38.44720669800017
                 ],
                 [
                  48.85449221500022,
                  38.445493486000146
                 ],
                 [
                  48.85868006700019,
                  38.44358991700011
                 ],
                 [
                  48.863058276000174,
                  38.44149599100024
                 ],
                 [
                  48.86819791100021,
                  38.43978277900027
                 ],
                 [
                  48.874479689000225,
                  38.439021352000225
                 ],
                 [
                  48.87638325700016,
                  38.439021352000225
                 ],
                 [
                  48.87666879200009,
                  38.43223195600012
                 ],
                 [
                  48.87619290000015,
                  38.42461768100014
                 ],
                 [
                  48.87381343800024,
                  38.417003406000106
                 ],
                 [
                  48.87333754700023,
                  38.40653377800015
                 ],
                 [
                  48.87190987000014,
                  38.39582620300018
                 ],
                 [
                  48.86881657100025,
                  38.38726014300016
                 ],
                 [
                  48.86715094800019,
                  38.37893203000027
                 ],
                 [
                  48.86810273200024,
                  38.37107980900009
                 ],
                 [
                  48.86381970300016,
                  38.3637034800002
                 ],
                 [
                  48.86376765100016,
                  38.36193371700023
                 ],
                 [
                  48.863581756000144,
                  38.35561331200017
                 ],
                 [
                  48.86524737900015,
                  38.342764223000245
                 ],
                 [
                  48.86619916500024,
                  38.32896334900022
                 ],
                 [
                  48.865009432000136,
                  38.32468031900021
                 ],
                 [
                  48.866437110000106,
                  38.314924529000166
                 ],
                 [
                  48.86667505600025,
                  38.304216954000196
                 ],
                 [
                  48.86691300200022,
                  38.29184375700021
                 ],
                 [
                  48.86881657100025,
                  38.27709109900013
                 ],
                 [
                  48.86857862500011,
                  38.26804914700017
                 ],
                 [
                  48.87190987000014,
                  38.25710362600023
                 ],
                 [
                  48.87476522400016,
                  38.24710989000022
                 ],
                 [
                  48.87738263000017,
                  38.240923292000105
                 ],
                 [
                  48.87762057600014,
                  38.23521258500023
                 ],
                 [
                  48.87405138600025,
                  38.230929555000216
                 ],
                 [
                  48.87358204100019,
                  38.22626505000022
                 ],
                 [
                  48.87997437700011,
                  38.211791836000145
                 ],
                 [
                  48.88311024000012,
                  38.205158279000216
                 ],
                 [
                  48.885514790000116,
                  38.19796480700012
                 ],
                 [
                  48.88741835900015,
                  38.189517721000186
                 ],
                 [
                  48.88991679300011,
                  38.18166549900013
                 ],
                 [
                  48.890929081000195,
                  38.180326668000305
                 ],
                 [
                  48.893604958000196,
                  38.1767876040002
                 ],
                 [
                  48.89729312200018,
                  38.167150787000196
                 ],
                 [
                  48.90133820600022,
                  38.1600124040001
                 ],
                 [
                  48.901933071000144,
                  38.155848347000244
                 ],
                 [
                  48.89895874400014,
                  38.147758180000096
                 ],
                 [
                  48.89634133800013,
                  38.14276131200023
                 ],
                 [
                  48.8965792840001,
                  38.13716957800011
                 ],
                 [
                  48.89705517600021,
                  38.13276757600022
                 ],
                 [
                  48.900148475000094,
                  38.12610508500023
                 ],
                 [
                  48.90407458600015,
                  38.119204648000164
                 ],
                 [
                  48.90443150400017,
                  38.11646826800023
                 ],
                 [
                  48.90371766600009,
                  38.1131370220001
                 ],
                 [
                  48.90074334100029,
                  38.10123971700028
                 ],
                 [
                  48.899672583000154,
                  38.09648079500016
                 ],
                 [
                  48.90026744900018,
                  38.09350646900009
                 ],
                 [
                  48.901457179000204,
                  38.08898549300011
                 ],
                 [
                  48.9020520430002,
                  38.0855352750001
                 ],
                 [
                  48.90086231400028,
                  38.08220402900014
                 ],
                 [
                  48.901933071000144,
                  38.077683053000214
                 ],
                 [
                  48.90359869400021,
                  38.07221029300018
                 ],
                 [
                  48.90474591000009,
                  38.068938601000184
                 ],
                 [
                  48.90681096600025,
                  38.063049368000236
                 ],
                 [
                  48.908595562000244,
                  38.058290446000115
                 ],
                 [
                  48.90942837400024,
                  38.05257974000011
                 ],
                 [
                  48.908833508000214,
                  38.04770184500023
                 ],
                 [
                  48.90871453500023,
                  38.03544762000013
                 ],
                 [
                  48.91002323900017,
                  38.02592977600011
                 ],
                 [
                  48.912878592000084,
                  38.01058225300022
                 ],
                 [
                  48.91704264900011,
                  38.00023159800014
                 ],
                 [
                  48.9204981260001,
                  37.99506985800025
                 ],
                 [
                  48.92632780400015,
                  37.9924524500002
                 ],
                 [
                  48.93453694500022,
                  37.991143747000194
                 ],
                 [
                  48.93870100100014,
                  37.98828839400011
                 ],
                 [
                  48.943340949000174,
                  37.98257768700023
                 ],
                 [
                  48.9451255460001,
                  37.97746184600015
                 ],
                 [
                  48.94846420000016,
                  37.97463235600014
                 ],
                 [
                  48.952461694000135,
                  37.96720843800017
                 ],
                 [
                  48.95446044100021,
                  37.96092666100009
                 ],
                 [
                  48.95474597700024,
                  37.95645327400024
                 ],
                 [
                  48.952937586000246,
                  37.95321720700025
                 ],
                 [
                  48.95141473100011,
                  37.95007631900029
                 ],
                 [
                  48.94960634100022,
                  37.94703060900014
                 ],
                 [
                  48.949225627000146,
                  37.944175255000175
                 ],
                 [
                  48.9485593780002,
                  37.941224724000165
                 ],
                 [
                  48.94789312900025,
                  37.936275445000206
                 ],
                 [
                  48.94675098800013,
                  37.92371189100021
                 ],
                 [
                  48.94617991700022,
                  37.91657350800017
                 ],
                 [
                  48.946465452000155,
                  37.90677012800012
                 ],
                 [
                  48.94941598400021,
                  37.896490857000174
                 ],
                 [
                  48.95198580300013,
                  37.88725854800026
                 ],
                 [
                  48.9576965080002,
                  37.876979277000146
                 ],
                 [
                  48.96350239300017,
                  37.870507143000225
                 ],
                 [
                  48.967595066000115,
                  37.86631929100008
                 ],
                 [
                  48.97073595500024,
                  37.860798942000145
                 ],
                 [
                  48.975685234000196,
                  37.84947270700013
                 ],
                 [
                  48.97882612200016,
                  37.84395235800014
                 ],
                 [
                  48.97911165700009,
                  37.841287362000116
                 ],
                 [
                  48.98149111700013,
                  37.836528440000166
                 ],
                 [
                  48.98396575800018,
                  37.831769518000215
                 ],
                 [
                  48.98471367700017,
                  37.830037494000294
                 ],
                 [
                  48.98577414900012,
                  37.82758166600013
                 ],
                 [
                  48.9884391450002,
                  37.81892042800024
                 ],
                 [
                  48.989962001000094,
                  37.81197240200021
                 ],
                 [
                  48.99034271300013,
                  37.80749901500013
                 ],
                 [
                  48.98824878800019,
                  37.801978666000196
                 ],
                 [
                  48.98691629000024,
                  37.79560171000014
                 ],
                 [
                  48.98729700300021,
                  37.78998618200018
                 ],
                 [
                  48.990723427000205,
                  37.78294297800011
                 ],
                 [
                  48.99357878000012,
                  37.777041914000165
                 ],
                 [
                  48.99633895500011,
                  37.771616743000266
                 ],
                 [
                  48.999384665000264,
                  37.769142104000196
                 ],
                 [
                  49.00208532700026,
                  37.76663357600012
                 ],
                 [
                  49.00553554500027,
                  37.763302330000215
                 ],
                 [
                  49.00815295200016,
                  37.75949519300025
                 ],
                 [
                  49.01005652000015,
                  37.75354654000017
                 ],
                 [
                  49.010889331000214,
                  37.749739403000206
                 ],
                 [
                  49.01314982000025,
                  37.7475978880002
                 ],
                 [
                  49.01445852400019,
                  37.745218427000225
                 ],
                 [
                  49.01541030800024,
                  37.74176820800017
                 ],
                 [
                  49.01719490400012,
                  37.73843696300014
                 ],
                 [
                  49.02064512200013,
                  37.732250364000095
                 ],
                 [
                  49.03075783200018,
                  37.720353059000274
                 ],
                 [
                  49.03766298700015,
                  37.71180707600024
                 ],
                 [
                  49.04277411000021,
                  37.705481428000155
                 ],
                 [
                  49.05122119600014,
                  37.69691536800019
                 ],
                 [
                  49.06192877100011,
                  37.68823033600012
                 ],
                 [
                  49.071684561000154,
                  37.677879680000274
                 ],
                 [
                  49.07564057700023,
                  37.67338906800012
                 ],
                 [
                  49.07608656400009,
                  37.67288281200018
                 ],
                 [
                  49.090601276000086,
                  37.65705939700018
                 ],
                 [
                  49.10547290700015,
                  37.64635182200021
                 ],
                 [
                  49.12712600200018,
                  37.62838689100016
                 ],
                 [
                  49.145503888000235,
                  37.61471553800027
                 ],
                 [
                  49.14663758300014,
                  37.61387217900017
                 ],
                 [
                  49.16686300100031,
                  37.59995233200016
                 ],
                 [
                  49.19343244200013,
                  37.58432910400012
                 ],
                 [
                  49.198628806000215,
                  37.5812735640003
                 ],
                 [
                  49.20936198700019,
                  37.57469646400017
                 ],
                 [
                  49.23027563700026,
                  37.56188095600015
                 ],
                 [
                  49.25204770500011,
                  37.5508164630001
                 ],
                 [
                  49.26775214800017,
                  37.54201245700011
                 ],
                 [
                  49.29880411400029,
                  37.52833055600024
                 ],
                 [
                  49.32414537400018,
                  37.5179799010001
                 ],
                 [
                  49.36709464500018,
                  37.50382210800012
                 ],
                 [
                  49.37577967800013,
                  37.500966755000206
                 ],
                 [
                  49.37946784200011,
                  37.49930113200014
                 ],
                 [
                  49.401596829000084,
                  37.49454221000019
                 ],
                 [
                  49.43324366100023,
                  37.489069450000216
                 ],
                 [
                  49.475717040000234,
                  37.482287986000244
                 ],
                 [
                  49.49330025700016,
                  37.48095592400017
                 ],
                 [
                  49.49927370400013,
                  37.480503390000194
                 ],
                 [
                  49.50731696600019,
                  37.47600295600017
                 ],
                 [
                  49.51816730800016,
                  37.473147602000154
                 ],
                 [
                  49.54481727100011,
                  37.469911535000165
                 ],
                 [
                  49.58536389600022,
                  37.46479443800018
                 ],
                 [
                  49.627698048000184,
                  37.460693694000156
                 ],
                 [
                  49.655800206000094,
                  37.45840210200009
                 ],
                 [
                  49.67485660500023,
                  37.456713560000196
                 ],
                 [
                  49.679550535000146,
                  37.45630223600011
                 ],
                 [
                  49.698254969000175,
                  37.45466318800021
                 ],
                 [
                  49.70827592400019,
                  37.45399512400019
                 ],
                 [
                  49.72177394100015,
                  37.453095256000154
                 ],
                 [
                  49.74758450700017,
                  37.45200976500013
                 ],
                 [
                  49.76350504300012,
                  37.449235732000204
                 ],
                 [
                  49.783646933000284,
                  37.44802963100011
                 ],
                 [
                  49.810542989000226,
                  37.446099869000136
                 ],
                 [
                  49.82741003500013,
                  37.444273501000225
                 ],
                 [
                  49.82947877800012,
                  37.44404949700015
                 ],
                 [
                  49.84515809300029,
                  37.44417010700016
                 ],
                 [
                  49.85782215600017,
                  37.44537620900013
                 ],
                 [
                  49.872415980000085,
                  37.44802963100011
                 ],
                 [
                  49.88918078700016,
                  37.45442196800013
                 ],
                 [
                  49.89429701200021,
                  37.45783278400023
                 ],
                 [
                  49.89569373400013,
                  37.45876393200018
                 ],
                 [
                  49.90232729100023,
                  37.463226506000126
                 ],
                 [
                  49.91052877800013,
                  37.46636236900014
                 ],
                 [
                  49.918368436000094,
                  37.467689081000174
                 ],
                 [
                  49.928379076000226,
                  37.467809691000184
                 ],
                 [
                  49.93115310900015,
                  37.467930301000195
                 ],
                 [
                  49.934771412000146,
                  37.46744786000016
                 ],
                 [
                  49.94019886800015,
                  37.46853335200012
                 ],
                 [
                  49.94357595100024,
                  37.46889518200021
                 ],
                 [
                  49.94852096600022,
                  37.46612114900012
                 ],
                 [
                  49.95153621900022,
                  37.46202040500009
                 ],
                 [
                  49.95431025200014,
                  37.45960820300019
                 ],
                 [
                  49.9552751340002,
                  37.45647234000012
                 ],
                 [
                  49.95841099600011,
                  37.45297464600009
                 ],
                 [
                  49.95877282500015,
                  37.449718173000235
                 ],
                 [
                  49.95901404600011,
                  37.446099869000136
                 ],
                 [
                  49.9582903860001,
                  37.44392888700014
                 ],
                 [
                  49.9572048940002,
                  37.44175790500009
                 ],
                 [
                  49.955757573000255,
                  37.44006936300019
                 ],
                 [
                  49.95370720100021,
                  37.43753655100022
                 ],
                 [
                  49.95165682900023,
                  37.43741594100021
                 ],
                 [
                  49.952380490000166,
                  37.439345703000185
                 ],
                 [
                  49.95455147200016,
                  37.4418785150001
                 ],
                 [
                  49.95455147200016,
                  37.44260217600021
                 ],
                 [
                  49.95455147200016,
                  37.44417010700016
                 ],
                 [
                  49.9522598800001,
                  37.44513498800018
                 ],
                 [
                  49.94960645700024,
                  37.44573803900022
                 ],
                 [
                  49.945626323000226,
                  37.445858649000115
                 ],
                 [
                  49.94224924000014,
                  37.44537620900013
                 ],
                 [
                  49.94128435900018,
                  37.445979259000126
                 ],
                 [
                  49.9413975490001,
                  37.44668519400017
                 ],
                 [
                  49.93957012300024,
                  37.44748469300015
                 ],
                 [
                  49.9342020590002,
                  37.4464567660001
                 ],
                 [
                  49.93271727500024,
                  37.44474355400013
                 ],
                 [
                  49.93248884700017,
                  37.4428019140002
                 ],
                 [
                  49.93465891600022,
                  37.440631845000155
                 ],
                 [
                  49.937171627000225,
                  37.43994656000024
                 ],
                 [
                  49.938542196000185,
                  37.440060774000244
                 ],
                 [
                  49.9413975490001,
                  37.438461777000214
                 ],
                 [
                  49.94608033000026,
                  37.435377995000124
                 ],
                 [
                  49.95921495300013,
                  37.42966728900012
                 ],
                 [
                  49.96835208400023,
                  37.42589822300022
                 ],
                 [
                  49.98388520500015,
                  37.419844874000205
                 ],
                 [
                  50.00341582100015,
                  37.41470523800024
                 ],
                 [
                  50.02191851000015,
                  37.41116460000018
                 ],
                 [
                  50.0364344410001,
                  37.40826141400015
                 ],
                 [
                  50.0390506290002,
                  37.40773817600018
                 ],
                 [
                  50.060522885000125,
                  37.404540181000186
                 ],
                 [
                  50.07331486800024,
                  37.403740682000205
                 ],
                 [
                  50.08096721400017,
                  37.40202747000018
                 ],
                 [
                  50.08724899100025,
                  37.400428472000215
                 ],
                 [
                  50.10746489200022,
                  37.39905790200015
                 ],
                 [
                  50.1314498590001,
                  37.39768733300019
                 ],
                 [
                  50.149952548000215,
                  37.395974121000165
                 ],
                 [
                  50.162858744000175,
                  37.39494619400011
                 ],
                 [
                  50.17359487200031,
                  37.393461410000214
                 ],
                 [
                  50.18255579700019,
                  37.39010106300009
                 ],
                 [
                  50.19004170700015,
                  37.38729384700014
                 ],
                 [
                  50.19598084100022,
                  37.38386742300014
                 ],
                 [
                  50.202491046000205,
                  37.37918464400019
                 ],
                 [
                  50.20614589900015,
                  37.37495872100021
                 ],
                 [
                  50.209686536000106,
                  37.37084701300017
                 ],
                 [
                  50.21608252800013,
                  37.364907878000224
                 ],
                 [
                  50.21882366700021,
                  37.359082958000215
                 ],
                 [
                  50.217567312000085,
                  37.35120218300017
                 ],
                 [
                  50.21596831400012,
                  37.34320719400023
                 ],
                 [
                  50.216282403000264,
                  37.33223787800017
                 ],
                 [
                  50.21806699800021,
                  37.32771690300012
                 ],
                 [
                  50.21866186400024,
                  37.324385657000164
                 ],
                 [
                  50.22080337900019,
                  37.322839007000084
                 ],
                 [
                  50.22187413600028,
                  37.320459546000166
                 ],
                 [
                  50.223658732000104,
                  37.30987094500023
                 ],
                 [
                  50.22449154300017,
                  37.300353101000155
                 ],
                 [
                  50.22600774000017,
                  37.297409895000214
                 ],
                 [
                  50.22651408500019,
                  37.29642699000016
                 ],
                 [
                  50.232462738000095,
                  37.284172766000154
                 ],
                 [
                  50.23757857900017,
                  37.275011841000264
                 ],
                 [
                  50.244360043000086,
                  37.260854048000226
                 ],
                 [
                  50.24935691100018,
                  37.25205004300017
                 ],
                 [
                  50.253639940000085,
                  37.24062863000012
                 ],
                 [
                  50.261968054000135,
                  37.226113918000124
                 ],
                 [
                  50.26684594900024,
                  37.219451427000195
                 ],
                 [
                  50.27231871000015,
                  37.213145855000164
                 ],
                 [
                  50.275649955000176,
                  37.20814898700024
                 ],
                 [
                  50.276072427000145,
                  37.20387732200021
                 ],
                 [
                  50.27672071200021,
                  37.19732243900012
                 ],
                 [
                  50.27755352400021,
                  37.1917307060001
                 ],
                 [
                  50.28017093100016,
                  37.186614865000195
                 ],
                 [
                  50.283383202000095,
                  37.179952374000266
                 ],
                 [
                  50.287309314000254,
                  37.17281399100017
                 ],
                 [
                  50.288261098000305,
                  37.16936377300016
                 ],
                 [
                  50.28992672100014,
                  37.16793609600023
                 ],
                 [
                  50.29171131700019,
                  37.16579458100023
                 ],
                 [
                  50.29218720900013,
                  37.1624633360002
                 ],
                 [
                  50.29504256200022,
                  37.15841825200022
                 ],
                 [
                  50.301229161000094,
                  37.150685004000195
                 ],
                 [
                  50.30365391200024,
                  37.1482153500001
                 ],
                 [
                  50.30765370500018,
                  37.144141486000194
                 ],
                 [
                  50.315386954000246,
                  37.13628926500019
                 ],
                 [
                  50.31812333400018,
                  37.134504669000194
                 ],
                 [
                  50.32490479800015,
                  37.12831807000015
                 ],
                 [
                  50.33501750700009,
                  37.12177455200015
                 ],
                 [
                  50.344654324000146,
                  37.115825900000175
                 ],
                 [
                  50.358693143000096,
                  37.108449571000165
                 ],
                 [
                  50.37011455700025,
                  37.10309578400012
                 ],
                 [
                  50.375230398000156,
                  37.10154913400021
                 ],
                 [
                  50.37998932000028,
                  37.09964556500017
                 ],
                 [
                  50.382844673000136,
                  37.0966712390001
                 ],
                 [
                  50.384986189000244,
                  37.09226923600011
                 ],
                 [
                  50.3902210020002,
                  37.086439557000176
                 ],
                 [
                  50.3981921970003,
                  37.0810857690002
                 ],
                 [
                  50.412468963000094,
                  37.071567925000124
                 ],
                 [
                  50.42983902800012,
                  37.062407000000235
                 ],
                 [
                  50.441504516000236,
                  37.055636122000294
                 ],
                 [
                  50.44685217400024,
                  37.05253223700021
                 ],
                 [
                  50.45946331700014,
                  37.044085151000104
                 ],
                 [
                  50.46779143200024,
                  37.038374444000226
                 ],
                 [
                  50.47064678400028,
                  37.034686280000244
                 ],
                 [
                  50.473502137000196,
                  37.02968941200015
                 ],
                 [
                  50.4775641920001,
                  37.02572890800019
                 ],
                 [
                  50.47826105900009,
                  37.02504946300019
                 ],
                 [
                  50.484447658000136,
                  37.02005259400022
                 ],
                 [
                  50.502531563000105,
                  37.01053475000015
                 ],
                 [
                  50.528705633000186,
                  36.99887539200017
                 ],
                 [
                  50.543934183000204,
                  36.99304571200014
                 ],
                 [
                  50.5620180870003,
                  36.98638322100015
                 ],
                 [
                  50.57213079600024,
                  36.98174327200019
                 ],
                 [
                  50.579269179000164,
                  36.978293054000176
                 ],
                 [
                  50.58319529000022,
                  36.97377207800025
                 ],
                 [
                  50.5868834540002,
                  36.96948904800024
                 ],
                 [
                  50.5965202710002,
                  36.9654439640002
                 ],
                 [
                  50.60154618600012,
                  36.963182303000224
                 ],
                 [
                  50.60025378700021,
                  36.96132554200017
                 ],
                 [
                  50.59739843400013,
                  36.95889849200023
                 ],
                 [
                  50.59411477700013,
                  36.9558527810002
                 ],
                 [
                  50.58669085900016,
                  36.950094486000125
                 ],
                 [
                  50.5781723880001,
                  36.94143324800024
                 ],
                 [
                  50.57184302200022,
                  36.93386656200016
                 ],
                 [
                  50.56951115000021,
                  36.931629868000186
                 ],
                 [
                  50.5634673190001,
                  36.926252287000125
                 ],
                 [
                  50.556757239000206,
                  36.92068434800012
                 ],
                 [
                  50.54980921200024,
                  36.914592928000275
                 ],
                 [
                  50.54219493800014,
                  36.9068834740001
                 ],
                 [
                  50.53577039300012,
                  36.90112517800026
                 ],
                 [
                  50.5258718350002,
                  36.89489099000025
                 ],
                 [
                  50.523920677000206,
                  36.892749476000176
                 ],
                 [
                  50.52439657000025,
                  36.891226621000214
                 ],
                 [
                  50.52568147900024,
                  36.888942338000106
                 ],
                 [
                  50.52553871000009,
                  36.88456413000023
                 ],
                 [
                  50.52501523000012,
                  36.882232258000215
                 ],
                 [
                  50.52187434100017,
                  36.87652155200021
                 ],
                 [
                  50.51687747300031,
                  36.87190539700009
                 ],
                 [
                  50.51097641000024,
                  36.86909763300014
                 ],
                 [
                  50.50498016900019,
                  36.86843138400019
                 ],
                 [
                  50.50131579800012,
                  36.86966870400022
                 ],
                 [
                  50.49822249800013,
                  36.871857808000186
                 ],
                 [
                  50.496271341000295,
                  36.87514146400025
                 ],
                 [
                  50.49446295000013,
                  36.877520925000226
                 ],
                 [
                  50.49251179200019,
                  36.878425120000145
                 ],
                 [
                  50.467547281000236,
                  36.87036172200021
                 ],
                 [
                  50.46494871000027,
                  36.86940016400024
                 ],
                 [
                  50.46114157400018,
                  36.86764888100021
                 ],
                 [
                  50.45520244000011,
                  36.86589759700024
                 ],
                 [
                  50.44933944700023,
                  36.864603171000226
                 ],
                 [
                  50.446446023000306,
                  36.862547316000246
                 ],
                 [
                  50.4408114590002,
                  36.85866403600011
                 ],
                 [
                  50.43578603700024,
                  36.85386704200022
                 ],
                 [
                  50.43350175600017,
                  36.848004051000146
                 ],
                 [
                  50.43328918800012,
                  36.84430160900018
                 ],
                 [
                  50.43224222700013,
                  36.837972243000195
                 ],
                 [
                  50.43095731800014,
                  36.830215200000225
                 ],
                 [
                  50.42995794400019,
                  36.81893655500028
                 ],
                 [
                  50.42994137600027,
                  36.81830698600015
                 ],
                 [
                  50.429624820000186,
                  36.80627782200014
                 ],
                 [
                  50.42933928400015,
                  36.79909185000008
                 ],
                 [
                  50.43057660400024,
                  36.788289097000245
                 ],
                 [
                  50.43309883300009,
                  36.78148383900009
                 ],
                 [
                  50.435478294000234,
                  36.77596348900022
                 ],
                 [
                  50.435954186000174,
                  36.768872695000084
                 ],
                 [
                  50.43676320300028,
                  36.75730851500015
                 ],
                 [
                  50.43747704100019,
                  36.748837634000154
                 ],
                 [
                  50.43676320300028,
                  36.7404619310002
                 ],
                 [
                  50.43514516900012,
                  36.73227658500025
                 ],
                 [
                  50.43314642200022,
                  36.72509061300025
                 ],
                 [
                  50.429719999000156,
                  36.71842812200009
                 ],
                 [
                  50.425008665000234,
                  36.7096241160001
                 ],
                 [
                  50.42350255300016,
                  36.70696517800019
                 ],
                 [
                  50.42115393800026,
                  36.70281885800017
                 ],
                 [
                  50.41558600000013,
                  36.695014226000296
                 ],
                 [
                  50.40806690300019,
                  36.68778066400023
                 ],
                 [
                  50.39916771900016,
                  36.6771206790001
                 ],
                 [
                  50.39183897800012,
                  36.66855461900025
                 ],
                 [
                  50.385033720000195,
                  36.66141623600021
                 ],
                 [
                  50.37875194300011,
                  36.65399231800018
                 ],
                 [
                  50.37289846900018,
                  36.64809125500017
                 ],
                 [
                  50.36794919000022,
                  36.64318956500017
                 ],
                 [
                  50.36499865900009,
                  36.64052456900009
                 ],
                 [
                  50.36271437500028,
                  36.63814510800012
                 ],
                 [
                  50.36244486700019,
                  36.63603855200029
                 ],
                 [
                  50.35991643700021,
                  36.6358058740002
                 ],
                 [
                  50.350033598000095,
                  36.63489641000024
                 ],
                 [
                  50.33800304300024,
                  36.63504869600024
                 ],
                 [
                  50.32886591300024,
                  36.63756140700025
                 ],
                 [
                  50.317292215000236,
                  36.64083554500024
                 ],
                 [
                  50.30579465800025,
                  36.646317823000174
                 ],
                 [
                  50.29254582000027,
                  36.65309452800017
                 ],
                 [
                  50.27815484000024,
                  36.66086108900015
                 ],
                 [
                  50.27407857700018,
                  36.66340213600017
                 ],
                 [
                  50.266428857000164,
                  36.668170793000115
                 ],
                 [
                  50.247012455000174,
                  36.676013497000156
                 ],
                 [
                  50.23597175400016,
                  36.67883077800025
                 ],
                 [
                  50.22485491300023,
                  36.67974449100012
                 ],
                 [
                  50.21175836000009,
                  36.67822163600016
                 ],
                 [
                  50.19652981000024,
                  36.67540435500018
                 ],
                 [
                  50.1836616840003,
                  36.671901788000184
                 ],
                 [
                  50.17208798600012,
                  36.666876366000224
                 ],
                 [
                  50.16927882300013,
                  36.66574254700015
                 ],
                 [
                  50.159448289000125,
                  36.661774802000195
                 ],
                 [
                  50.14475273800025,
                  36.65431281200023
                 ],
                 [
                  50.13127547100021,
                  36.64685082300019
                 ],
                 [
                  50.11993020100016,
                  36.638322834000235
                 ],
                 [
                  50.111782926000274,
                  36.63261212800029
                 ],
                 [
                  50.10870275100024,
                  36.63124028500016
                 ],
                 [
                  50.102721939000276,
                  36.62857656200015
                 ],
                 [
                  50.096097519000125,
                  36.62636842200021
                 ],
                 [
                  50.083077109000214,
                  36.62088614400011
                 ],
                 [
                  50.072645552000154,
                  36.61791657700019
                 ],
                 [
                  50.06320385000015,
                  36.61502315200016
                 ],
                 [
                  50.05360986400018,
                  36.6098454450003
                 ],
                 [
                  50.049345870000195,
                  36.607332734000124
                 ],
                 [
                  50.04515801800022,
                  36.60679973500015
                 ],
                 [
                  50.040361025000095,
                  36.60702816300022
                 ],
                 [
                  50.031452322000234,
                  36.606190593000235
                 ],
                 [
                  50.00853335400018,
                  36.607561162000195
                 ],
                 [
                  49.98706109800008,
                  36.60916016000016
                 ],
                 [
                  49.97586811400021,
                  36.61083530100012
                 ],
                 [
                  49.962771560000135,
                  36.61464243800009
                 ],
                 [
                  49.947390724000115,
                  36.61966786000022
                 ],
                 [
                  49.93520788400019,
                  36.62210442800023
                 ],
                 [
                  49.92043619000009,
                  36.61943943200015
                 ],
                 [
                  49.901857359000246,
                  36.61022615900015
                 ],
                 [
                  49.88733566800016,
                  36.60123773700019
                 ],
                 [
                  49.87916681800016,
                  36.59652046300016
                 ],
                 [
                  49.87048654500023,
                  36.59240875500012
                 ],
                 [
                  49.86546112300027,
                  36.591723470000204
                 ],
                 [
                  49.86233927000012,
                  36.59088590000016
                 ],
                 [
                  49.851526999000214,
                  36.58639347700017
                 ],
                 [
                  49.843684296000106,
                  36.584033052000166
                 ],
                 [
                  49.837212162000185,
                  36.58113962700014
                 ],
                 [
                  49.833481167000116,
                  36.58144419800021
                 ],
                 [
                  49.8286841740001,
                  36.58068277100017
                 ],
                 [
                  49.82190746900011,
                  36.577408633000175
                 ],
                 [
                  49.81596833400016,
                  36.57497206400029
                 ],
                 [
                  49.799521500000196,
                  36.5711649270001
                 ],
                 [
                  49.78185638100024,
                  36.568652216000146
                 ],
                 [
                  49.760460268000145,
                  36.56926135800029
                 ],
                 [
                  49.726957457000196,
                  36.57185021200024
                 ],
                 [
                  49.71051062100008,
                  36.574819779000165
                 ],
                 [
                  49.698815460000105,
                  36.57864663900011
                 ],
                 [
                  49.68771384600012,
                  36.58239286200018
                 ],
                 [
                  49.67592694800027,
                  36.58677868500024
                 ],
                 [
                  49.672180725000146,
                  36.588286311000104
                 ],
                 [
                  49.665739048000205,
                  36.5918954780002
                 ],
                 [
                  49.65893188600023,
                  36.59550464400024
                 ],
                 [
                  49.6536780360002,
                  36.5978346120001
                 ],
                 [
                  49.64892672800016,
                  36.59957066700014
                 ],
                 [
                  49.644449535000206,
                  36.600438694000104
                 ],
                 [
                  49.63992665500024,
                  36.601306722000174
                 ],
                 [
                  49.631383438000114,
                  36.60208337800009
                 ],
                 [
                  49.62361687800018,
                  36.60258592000014
                 ],
                 [
                  49.6211954380002,
                  36.60258592000014
                 ],
                 [
                  49.61959654000009,
                  36.60258592000014
                 ],
                 [
                  49.59296180600023,
                  36.60226612100024
                 ],
                 [
                  49.58638307200016,
                  36.60258592000014
                 ],
                 [
                  49.57002760900025,
                  36.60222043500016
                 ],
                 [
                  49.570028751000166,
                  36.60217246500008
                 ],
                 [
                  49.567430379000086,
                  36.60271498200012
                 ],
                 [
                  49.56003501500015,
                  36.60265787500015
                 ],
                 [
                  49.55266820300011,
                  36.602515107000215
                 ],
                 [
                  49.54744290700012,
                  36.60257221400025
                 ],
                 [
                  49.54315987600023,
                  36.60200114400021
                 ],
                 [
                  49.54110402300023,
                  36.6013729660001
                 ],
                 [
                  49.5392480430001,
                  36.60103032400019
                 ],
                 [
                  49.535250549000125,
                  36.60071623500022
                 ],
                 [
                  49.531195947000185,
                  36.60017371800018
                 ],
                 [
                  49.529482735000215,
                  36.5995169860002
                 ],
                 [
                  49.52208737000018,
                  36.5995169860002
                 ],
                 [
                  49.510665958000175,
                  36.60008805700011
                 ],
                 [
                  49.50341336000014,
                  36.60068768100018
                 ],
                 [
                  49.49910177600009,
                  36.602372340000215
                 ],
                 [
                  49.496246424000105,
                  36.6036858020002
                 ],
                 [
                  49.494961515000114,
                  36.60434253300025
                 ],
                 [
                  49.48970766500008,
                  36.606798137000226
                 ],
                 [
                  49.482340854000086,
                  36.61116682800025
                 ],
                 [
                  49.47742964600019,
                  36.61413639500023
                 ],
                 [
                  49.47074812000017,
                  36.61924747700016
                 ],
                 [
                  49.464780432000225,
                  36.627356680000105
                 ],
                 [
                  49.46355263100014,
                  36.63089731800011
                 ],
                 [
                  49.46146822300017,
                  36.635865633000094
                 ],
                 [
                  49.45932670700023,
                  36.64031998400014
                 ],
                 [
                  49.45704242400018,
                  36.64468867400012
                 ],
                 [
                  49.45367310800009,
                  36.650485041000195
                 ],
                 [
                  49.451331718000176,
                  36.65354026900019
                 ],
                 [
                  49.44719145600027,
                  36.65808028100014
                 ],
                 [
                  49.44250867700015,
                  36.661592365000104
                 ],
                 [
                  49.442565784000124,
                  36.661592365000104
                 ],
                 [
                  49.436626649000175,
                  36.66470470000013
                 ],
                 [
                  49.43162978100008,
                  36.666874769000174
                 ],
                 [
                  49.427146876000165,
                  36.6682167850002
                 ],
                 [
                  49.42412020200021,
                  36.670329746000164
                 ],
                 [
                  49.41738156800022,
                  36.67546938200013
                 ],
                 [
                  49.407749510000144,
                  36.68078985700009
                 ],
                 [
                  49.39887888000021,
                  36.68703356200024
                 ],
                 [
                  49.391873746000215,
                  36.69304884000019
                 ],
                 [
                  49.37953862000012,
                  36.70702103500014
                 ],
                 [
                  49.37489391300011,
                  36.71242717000024
                 ],
                 [
                  49.36339635700023,
                  36.72209730000009
                 ],
                 [
                  49.34911959000016,
                  36.73515578200016
                 ],
                 [
                  49.34462716900015,
                  36.739153276000195
                 ],
                 [
                  49.3385357480002,
                  36.74577769600029
                 ],
                 [
                  49.328218406000246,
                  36.76306210000024
                 ],
                 [
                  49.325210766000225,
                  36.76705959500015
                 ],
                 [
                  49.31573099400015,
                  36.78236428800017
                 ],
                 [
                  49.309715717000245,
                  36.79089227600025
                 ],
                 [
                  49.30054051500014,
                  36.799915192000185
                 ],
                 [
                  49.29178409900021,
                  36.80749139600016
                 ],
                 [
                  49.283321366000166,
                  36.81532941000012
                 ],
                 [
                  49.28278222500023,
                  36.8154866590001
                 ],
                 [
                  49.278784730000154,
                  36.819027297000105
                 ],
                 [
                  49.2718176680001,
                  36.82490932500025
                 ],
                 [
                  49.264964821000206,
                  36.83073424600019
                 ],
                 [
                  49.25685561800009,
                  36.83718734400014
                 ],
                 [
                  49.25371472800009,
                  36.83924319800025
                 ],
                 [
                  49.245776847000116,
                  36.846210260000134
                 ],
                 [
                  49.23909532100009,
                  36.85192096600014
                 ],
                 [
                  49.233670150000194,
                  36.85843117200017
                 ],
                 [
                  49.23024372500009,
                  36.86362791500022
                 ],
                 [
                  49.22738837200018,
                  36.87059497600012
                 ],
                 [
                  49.22658887400013,
                  36.88013185600016
                 ],
                 [
                  49.22476144700016,
                  36.888355273000116
                 ],
                 [
                  49.22024998900025,
                  36.89749240400022
                 ],
                 [
                  49.21688067300022,
                  36.90200386200013
                 ],
                 [
                  49.21191235800029,
                  36.90611557000017
                 ],
                 [
                  49.20700115100027,
                  36.90822853200018
                 ],
                 [
                  49.2013475510002,
                  36.91039860000012
                 ],
                 [
                  49.19300991900025,
                  36.91239734700025
                 ],
                 [
                  49.18427253900012,
                  36.91291131100013
                 ],
                 [
                  49.17502119500011,
                  36.915766664000216
                 ],
                 [
                  49.16931048900011,
                  36.9202781220003
                 ],
                 [
                  49.166854885000134,
                  36.924275617000205
                 ],
                 [
                  49.160915750000186,
                  36.931813749000185
                 ],
                 [
                  49.1549195070001,
                  36.93758156300015
                 ],
                 [
                  49.14949433700025,
                  36.94260698400018
                 ],
                 [
                  49.142013312000245,
                  36.94837479800009
                 ],
                 [
                  49.13624549700023,
                  36.9565982150001
                 ],
                 [
                  49.12684952400025,
                  36.96906397100014
                 ],
                 [
                  49.12113881900018,
                  36.976868603000185
                 ],
                 [
                  49.119942270000195,
                  36.97989736800008
                 ],
                 [
                  49.11809311000013,
                  36.98457805700019
                 ],
                 [
                  49.11119471500018,
                  36.999666681000235
                 ],
                 [
                  49.110777608000205,
                  37.000579007000226
                 ],
                 [
                  49.10494792900022,
                  37.005456902000105
                 ],
                 [
                  49.10030798000031,
                  37.01033479700021
                 ],
                 [
                  49.09305062400023,
                  37.020090587000084
                 ],
                 [
                  49.08829170100017,
                  37.024849509000205
                 ],
                 [
                  49.08841067500009,
                  37.02758588900031
                 ],
                 [
                  49.086031214000116,
                  37.03436735300022
                 ],
                 [
                  49.08258099500023,
                  37.04114881700019
                 ],
                 [
                  49.07936872300019,
                  37.04733541600018
                 ],
                 [
                  49.077108235000196,
                  37.051975365000146
                 ],
                 [
                  49.072825205000186,
                  37.05566352900013
                 ],
                 [
                  49.04914956800013,
                  37.06791775300013
                 ],
                 [
                  49.03796610100022,
                  37.07339051400021
                 ],
                 [
                  49.03154155600021,
                  37.078744301000086
                 ],
                 [
                  49.02476009300017,
                  37.08671549500025
                 ],
                 [
                  49.00976948800019,
                  37.1019440460002
                 ],
                 [
                  48.989425097000264,
                  37.118243354000185
                 ],
                 [
                  48.9671771360002,
                  37.134661635000214
                 ],
                 [
                  48.949569126000085,
                  37.14584510100019
                 ],
                 [
                  48.93909949700026,
                  37.15464910700018
                 ],
                 [
                  48.93410262800023,
                  37.15917008300016
                 ],
                 [
                  48.932555979000085,
                  37.1671412770001
                 ],
                 [
                  48.93433511800009,
                  37.176292530000126
                 ],
                 [
                  48.93456354600016,
                  37.1800615960002
                 ],
                 [
                  48.93182240700014,
                  37.185658088000196
                 ],
                 [
                  48.92793912600024,
                  37.19114036700017
                 ],
                 [
                  48.92211420600023,
                  37.1987927130001
                 ],
                 [
                  48.91183493400024,
                  37.210442554000224
                 ],
                 [
                  48.90692372700022,
                  37.21672433100014
                 ],
                 [
                  48.90258359000023,
                  37.225633033000236
                 ],
                 [
                  48.90052773600013,
                  37.233171166000204
                 ],
                 [
                  48.900299307000125,
                  37.24402150800017
                 ],
                 [
                  48.902812018000304,
                  37.25487185000014
                 ],
                 [
                  48.909436437000124,
                  37.27268925400017
                 ],
                 [
                  48.91548978600014,
                  37.28662337800023
                 ],
                 [
                  48.91743142700011,
                  37.29359044000029
                 ],
                 [
                  48.91594664300021,
                  37.30101435800009
                 ],
                 [
                  48.915032930000166,
                  37.30763877700025
                 ],
                 [
                  48.912748647000285,
                  37.31369212600009
                 ],
                 [
                  48.9079516540001,
                  37.31928861800009
                 ],
                 [
                  48.90178409100025,
                  37.325456181000106
                 ],
                 [
                  48.88430932900013,
                  37.338933449000194
                 ],
                 [
                  48.87220263200021,
                  37.34647158100023
                 ],
                 [
                  48.87070261200029,
                  37.34744456700008
                 ],
                 [
                  48.86797670900023,
                  37.34921272000014
                 ],
                 [
                  48.85335730100013,
                  37.35538028300016
                 ],
                 [
                  48.844220170000256,
                  37.35983463400021
                 ],
                 [
                  48.83245611500024,
                  37.36623062500013
                 ],
                 [
                  48.827088051000146,
                  37.36977126300019
                 ],
                 [
                  48.822062629000186,
                  37.3758246120002
                 ],
                 [
                  48.81943570400017,
                  37.38176374700015
                 ],
                 [
                  48.81429606900025,
                  37.38747445300015
                 ],
                 [
                  48.80869945400019,
                  37.3916340990001
                 ],
                 [
                  48.80681044000022,
                  37.39303809600017
                 ],
                 [
                  48.80584422300012,
                  37.393756230000236
                 ],
                 [
                  48.80059037300009,
                  37.39855322300025
                 ],
                 [
                  48.795564952000234,
                  37.403464431000145
                 ],
                 [
                  48.7905395300001,
                  37.407005069000206
                 ],
                 [
                  48.78505725200017,
                  37.410659921000274
                 ],
                 [
                  48.781402400000104,
                  37.41602798500014
                 ],
                 [
                  48.771694199000194,
                  37.4244798310001
                 ],
                 [
                  48.762214426000185,
                  37.43041896500017
                 ],
                 [
                  48.75547579300013,
                  37.43475910200016
                 ],
                 [
                  48.75341993800015,
                  37.43692917100026
                 ],
                 [
                  48.7465670910002,
                  37.4462947290001
                 ],
                 [
                  48.73685889000012,
                  37.45794457000011
                 ],
                 [
                  48.72566590500014,
                  37.472449764000146
                 ],
                 [
                  48.722353696000084,
                  37.477475186000106
                 ],
                 [
                  48.71527241900009,
                  37.484442248000164
                 ],
                 [
                  48.70944749900025,
                  37.489467670000295
                 ],
                 [
                  48.70545000400017,
                  37.496092089000115
                 ],
                 [
                  48.69985351200023,
                  37.504658149000306
                 ],
                 [
                  48.69768344400023,
                  37.50762771600023
                 ],
                 [
                  48.69574180400019,
                  37.51128256800013
                 ],
                 [
                  48.69539916100018,
                  37.51836384400019
                 ],
                 [
                  48.695513374000086,
                  37.52475983500011
                 ],
                 [
                  48.69437123400013,
                  37.53218375400019
                 ],
                 [
                  48.69140166700015,
                  37.541092456000115
                 ],
                 [
                  48.682036108000204,
                  37.55868143100014
                 ],
                 [
                  48.6797518260002,
                  37.56187942700029
                 ],
                 [
                  48.67963761000016,
                  37.56667642000025
                 ],
                 [
                  48.68032289600018,
                  37.5691891310002
                 ],
                 [
                  48.68249296500022,
                  37.57090234300023
                 ],
                 [
                  48.6856909600001,
                  37.57193027000011
                 ],
                 [
                  48.68831788500012,
                  37.57341505400018
                 ],
                 [
                  48.69003109800019,
                  37.57524248000021
                 ],
                 [
                  48.68980266900019,
                  37.57866890400021
                 ],
                 [
                  48.68831788500012,
                  37.581524257000126
                 ],
                 [
                  48.682036108000204,
                  37.590661387000125
                 ],
                 [
                  48.66558927400024,
                  37.603453370000125
                 ],
                 [
                  48.648799797000095,
                  37.61156257300024
                 ],
                 [
                  48.639320024000085,
                  37.618072778000226
                 ],
                 [
                  48.63098239300024,
                  37.62720990800017
                 ],
                 [
                  48.62424375900014,
                  37.63451961200013
                 ],
                 [
                  48.618304625000235,
                  37.64399938500014
                 ],
                 [
                  48.614763987000174,
                  37.648339522000185
                 ],
                 [
                  48.61259391800013,
                  37.6509664470002
                 ],
                 [
                  48.61213706200016,
                  37.654963941000176
                 ],
                 [
                  48.613050775000204,
                  37.658618794000176
                 ],
                 [
                  48.613507631000175,
                  37.66181678900017
                 ],
                 [
                  48.61419291600009,
                  37.665014785000096
                 ],
                 [
                  48.61225127600022,
                  37.67255291700013
                 ],
                 [
                  48.609966993000114,
                  37.6762077690002
                 ],
                 [
                  48.6071116400002,
                  37.67894890800028
                 ],
                 [
                  48.60322836000029,
                  37.68089054900025
                 ],
                 [
                  48.60105829000014,
                  37.68317483100026
                 ],
                 [
                  48.598888223000245,
                  37.686372827000184
                 ],
                 [
                  48.598545580000234,
                  37.69002767900025
                 ],
                 [
                  48.599916150000126,
                  37.69368253100009
                 ],
                 [
                  48.60254307500014,
                  37.6957383850002
                 ],
                 [
                  48.60334257300019,
                  37.697794240000235
                 ],
                 [
                  48.60299993000018,
                  37.7016775200002
                 ],
                 [
                  48.60345678800013,
                  37.70487551600013
                 ],
                 [
                  48.60631214100022,
                  37.70544658600011
                 ],
                 [
                  48.610195421000185,
                  37.70590344300018
                 ],
                 [
                  48.61567770000022,
                  37.70590344300018
                 ],
                 [
                  48.62070312100025,
                  37.70670294200016
                 ],
                 [
                  48.62504325800012,
                  37.709101438000175
                 ],
                 [
                  48.62812704000015,
                  37.712413648000165
                 ],
                 [
                  48.63109660700013,
                  37.71469793100022
                 ],
                 [
                  48.63589360100019,
                  37.71584007200016
                 ],
                 [
                  48.639548452000156,
                  37.717667498000196
                 ],
                 [
                  48.64217537700017,
                  37.72029442300021
                 ],
                 [
                  48.643203305000156,
                  37.724063489000116
                 ],
                 [
                  48.643545947000234,
                  37.72908891100025
                 ],
                 [
                  48.643888590000245,
                  37.7337716900002
                 ],
                 [
                  48.64308909000022,
                  37.74393674700025
                 ],
                 [
                  48.643545947000234,
                  37.75341652000009
                 ],
                 [
                  48.64948508200024,
                  37.7649521470002
                 ],
                 [
                  48.65416786100019,
                  37.7706628530002
                 ],
                 [
                  48.65633792900013,
                  37.77443192000021
                 ],
                 [
                  48.656909001000145,
                  37.77865784200009
                 ],
                 [
                  48.65553843000015,
                  37.7810563390002
                 ],
                 [
                  48.65268307700023,
                  37.782426909000094
                 ],
                 [
                  48.64777187000021,
                  37.78276955100023
                 ],
                 [
                  48.6432033060002,
                  37.783112193000136
                 ],
                 [
                  48.63943423800015,
                  37.7847111910001
                 ],
                 [
                  48.637378384000215,
                  37.78608176100016
                 ],
                 [
                  48.63577938600025,
                  37.78927975600021
                 ],
                 [
                  48.63349510300014,
                  37.790650326000105
                 ],
                 [
                  48.630182894000086,
                  37.79190668100023
                 ],
                 [
                  48.623786903000166,
                  37.79122139600008
                 ],
                 [
                  48.615449271000216,
                  37.78848025700023
                 ],
                 [
                  48.609738565000214,
                  37.78848025700023
                 ],
                 [
                  48.60311414600022,
                  37.79122139600008
                 ],
                 [
                  48.59808872400009,
                  37.79601839000014
                 ],
                 [
                  48.592492232000154,
                  37.802071739000155
                 ],
                 [
                  48.59043637700012,
                  37.80858194400014
                 ],
                 [
                  48.58792366600011,
                  37.81703378900016
                 ],
                 [
                  48.5860962400003,
                  37.82788413200029
                 ],
                 [
                  48.5857535990001,
                  37.83896290200016
                 ],
                 [
                  48.58426881400027,
                  37.84889953100014
                 ],
                 [
                  48.58363381700019,
                  37.85137267700014
                 ],
                 [
                  48.579928677000225,
                  37.865803222000125
                 ],
                 [
                  48.5727331880002,
                  37.88898869000019
                 ],
                 [
                  48.57181947400011,
                  37.896869465000236
                 ],
                 [
                  48.57212274500023,
                  37.89976738400014
                 ],
                 [
                  48.57284740200009,
                  37.90669188000021
                 ],
                 [
                  48.574446399000124,
                  37.91274522900022
                 ],
                 [
                  48.577987037000185,
                  37.920169147000195
                 ],
                 [
                  48.581527674000085,
                  37.92770728000016
                 ],
                 [
                  48.58326913400015,
                  37.93112278000012
                 ],
                 [
                  48.59073112300018,
                  37.93401620500015
                 ],
                 [
                  48.59743168600028,
                  37.9370619150003
                 ],
                 [
                  48.60154339400009,
                  37.94223962200016
                 ],
                 [
                  48.602304822000235,
                  37.94741732900019
                 ],
                 [
                  48.601238823000244,
                  37.9550316050001
                 ],
                 [
                  48.59910682600014,
                  37.9603615970002
                 ],
                 [
                  48.59788854200025,
                  37.96432102000017
                 ],
                 [
                  48.59773625700012,
                  37.96934644200013
                 ],
                 [
                  48.598497684000165,
                  37.9731535800002
                 ],
                 [
                  48.60184796500016,
                  37.977874430000156
                 ],
                 [
                  48.60620619100018,
                  37.98179683400019
                 ],
                 [
                  48.6094622400002,
                  37.98472727800015
                 ],
                 [
                  48.61144195300011,
                  37.989143558000194
                 ],
                 [
                  48.61235566500022,
                  37.994778121000195
                 ],
                 [
                  48.61421029200011,
                  38.000629065000226
                 ],
                 [
                  48.615054255000246,
                  38.001197274000106
                 ],
                 [
                  48.615054255000246,
                  38.00129197600012
                 ],
                 [
                  48.6153662440002,
                  38.00278279100024
                 ],
                 [
                  48.616156257000114,
                  38.0050749880001
                 ],
                 [
                  48.616850607000174,
                  38.006412941000235
                 ],
                 [
                  48.61830954100009,
                  38.00877339500016
                 ],
                 [
                  48.618791806000104,
                  38.01000451500022
                 ],
                 [
                  48.62023860000011,
                  38.01114093300009
                 ],
                 [
                  48.62035916500025,
                  38.01142503700015
                 ],
                 [
                  48.62114402900016,
                  38.01339041500023
                 ],
                 [
                  48.621574939000084,
                  38.015081057000145
                 ],
                 [
                  48.6218135310001,
                  38.016899264000244
                 ],
                 [
                  48.6217210530001,
                  38.01823975400009
                 ],
                 [
                  48.62151106100015,
                  38.019175751000205
                 ],
                 [
                  48.62108327200019,
                  38.02029176100018
                 ],
                 [
                  48.61876474900009,
                  38.024238296000135
                 ],
                 [
                  48.61747443100012,
                  38.0270936350002
                 ],
                 [
                  48.61705227100015,
                  38.0290077100002
                 ],
                 [
                  48.616742182000166,
                  38.033490489000144
                 ],
                 [
                  48.617103880000286,
                  38.03481631000017
                 ],
                 [
                  48.61759002100024,
                  38.03648034100024
                 ],
                 [
                  48.61843003700011,
                  38.038699438000094
                 ],
                 [
                  48.62217495500016,
                  38.04725795100023
                 ],
                 [
                  48.62277048900023,
                  38.04949504300009
                 ],
                 [
                  48.62264992300021,
                  38.050252655000236
                 ],
                 [
                  48.6236144530003,
                  38.05318840200022
                 ],
                 [
                  48.62373501800022,
                  38.05470362600016
                 ],
                 [
                  48.62385558400024,
                  38.056597656000235
                 ],
                 [
                  48.62397615100019,
                  38.05744997000022
                 ],
                 [
                  48.6240503950001,
                  38.05839698500017
                 ],
                 [
                  48.62397615000009,
                  38.05934400000024
                 ],
                 [
                  48.62423385200009,
                  38.064700589000154
                 ],
                 [
                  48.624529501000154,
                  38.06600693700028
                 ],
                 [
                  48.62506124600014,
                  38.06729892700025
                 ],
                 [
                  48.62521130600015,
                  38.069779867000136
                 ],
                 [
                  48.62818087300025,
                  38.07629007200012
                 ],
                 [
                  48.632178368000154,
                  38.083447491000186
                 ],
                 [
                  48.63389158000018,
                  38.0881683410002
                 ],
                 [
                  48.63423422200009,
                  38.09247040700012
                 ],
                 [
                  48.6328636520002,
                  38.09772425700015
                 ],
                 [
                  48.632178368000154,
                  38.102216679000094
                 ],
                 [
                  48.63252101000012,
                  38.107470529000125
                 ],
                 [
                  48.63412000800025,
                  38.112914736000164
                 ],
                 [
                  48.63743221700014,
                  38.12014829700013
                 ],
                 [
                  48.64329520800021,
                  38.12601128900013
                 ],
                 [
                  48.650681056000224,
                  38.130846354000255
                 ],
                 [
                  48.659589759000085,
                  38.13503420500024
                 ],
                 [
                  48.66530046500026,
                  38.137090060000105
                 ],
                 [
                  48.67101117100026,
                  38.138460629000235
                 ],
                 [
                  48.67805437600009,
                  38.14295305200028
                 ],
                 [
                  48.68212801300024,
                  38.14782618800024
                 ],
                 [
                  48.683117869000284,
                  38.15094804000023
                 ],
                 [
                  48.683993510000164,
                  38.15410796500015
                 ],
                 [
                  48.68388638100009,
                  38.1561352450002
                 ],
                 [
                  48.68387023000025,
                  38.15752813800026
                 ],
                 [
                  48.681493584000236,
                  38.160714684000084
                 ],
                 [
                  48.68003941300009,
                  38.16285274800009
                 ],
                 [
                  48.679207819000226,
                  38.163238727000135
                 ],
                 [
                  48.67738695700018,
                  38.16408386800015
                 ],
                 [
                  48.676496121000184,
                  38.1652285130001
                 ],
                 [
                  48.67497563400025,
                  38.1664514050002
                 ],
                 [
                  48.67015298900009,
                  38.169955361000234
                 ],
                 [
                  48.669429591000096,
                  38.17071297300021
                 ],
                 [
                  48.66858562800019,
                  38.17203879400023
                 ],
                 [
                  48.66834449700019,
                  38.172322899000164
                 ],
                 [
                  48.66774166500028,
                  38.17355401900011
                 ],
                 [
                  48.667259400000205,
                  38.17469043700015
                 ],
                 [
                  48.66689770200014,
                  38.176016258000175
                 ],
                 [
                  48.66646645200018,
                  38.18101427400018
                 ],
                 [
                  48.666452262000234,
                  38.18232838000017
                 ],
                 [
                  48.66665656900017,
                  38.18359237800013
                 ],
                 [
                  48.66653600300015,
                  38.1843499900001
                 ],
                 [
                  48.66653600300015,
                  38.18586521500015
                 ],
                 [
                  48.66653600300015,
                  38.1864334240002
                 ],
                 [
                  48.66689770200014,
                  38.18785394600013
                 ],
                 [
                  48.667259400000205,
                  38.19003208100014
                 ],
                 [
                  48.66798279700015,
                  38.191452604000176
                 ],
                 [
                  48.66798279700015,
                  38.191736708000235
                 ],
                 [
                  48.668344496000145,
                  38.19287312600011
                 ],
                 [
                  48.66822392900019,
                  38.19382014100023
                 ],
                 [
                  48.66822392900019,
                  38.19391484300024
                 ],
                 [
                  48.66894732600025,
                  38.19448305200024
                 ],
                 [
                  48.669309025000246,
                  38.195240664000266
                 ],
                 [
                  48.669309025000246,
                  38.1955247680001
                 ],
                 [
                  48.669429591000096,
                  38.19561947000017
                 ],
                 [
                  48.66955015600024,
                  38.197513500000184
                 ],
                 [
                  48.669791289000216,
                  38.198081709000235
                 ],
                 [
                  48.67039412000008,
                  38.19959693300018
                 ],
                 [
                  48.67111751700014,
                  38.201112157000125
                 ],
                 [
                  48.67232317900027,
                  38.20319559000012
                 ],
                 [
                  48.6732877080002,
                  38.20461611300016
                 ],
                 [
                  48.67389053900024,
                  38.20556312800028
                 ],
                 [
                  48.674734502000206,
                  38.206604845000186
                 ],
                 [
                  48.674734502000206,
                  38.20669954600015
                 ],
                 [
                  48.67497563400025,
                  38.20736245700016
                 ],
                 [
                  48.675699031000136,
                  38.20840417300025
                 ],
                 [
                  48.67618129600015,
                  38.20887768100016
                 ],
                 [
                  48.67630186200023,
                  38.20906708400008
                 ],
                 [
                  48.67702526000022,
                  38.20963529300013
                 ],
                 [
                  48.67726639100016,
                  38.210014099000205
                 ],
                 [
                  48.67813231800011,
                  38.210861441000134
                 ],
                 [
                  48.678833751000184,
                  38.21181342800014
                 ],
                 [
                  48.68209113600011,
                  38.213833346000115
                 ],
                 [
                  48.68341526500018,
                  38.21474917400019
                 ],
                 [
                  48.684018096000216,
                  38.2152226820001
                 ],
                 [
                  48.685324097000205,
                  38.21614669600018
                 ],
                 [
                  48.68654998500017,
                  38.2173061150001
                 ],
                 [
                  48.68654998500017,
                  38.21768492100017
                 ],
                 [
                  48.687273382000114,
                  38.219578951000244
                 ],
                 [
                  48.68642941900015,
                  38.22099947400028
                 ],
                 [
                  48.68606772000015,
                  38.2211888770002
                 ],
                 [
                  48.68570602200009,
                  38.222230594000166
                 ],
                 [
                  48.6849826250002,
                  38.22355641500019
                 ],
                 [
                  48.68199676100022,
                  38.22757905200018
                 ],
                 [
                  48.679358168000135,
                  38.230587504000084
                 ],
                 [
                  48.67401110500009,
                  38.23728813300016
                 ],
                 [
                  48.672684877000165,
                  38.23937156600016
                 ],
                 [
                  48.67232318000015,
                  38.24088679100021
                 ],
                 [
                  48.67232317900027,
                  38.24126559700011
                 ],
                 [
                  48.67158088000019,
                  38.244014288000244
                 ],
                 [
                  48.67147921600014,
                  38.24742119500013
                 ],
                 [
                  48.672082045000195,
                  38.24798940400018
                 ],
                 [
                  48.67232317900027,
                  38.24884171700029
                 ],
                 [
                  48.673408274000224,
                  38.249883434000196
                 ],
                 [
                  48.67401110500009,
                  38.250735747000135
                 ],
                 [
                  48.67437280300021,
                  38.25120925500022
                 ],
                 [
                  48.674493370000164,
                  38.25234567300009
                 ],
                 [
                  48.674493370000164,
                  38.25357679300021
                 ],
                 [
                  48.67497563400025,
                  38.25499731500014
                 ],
                 [
                  48.67454150900011,
                  38.25719904300024
                 ],
                 [
                  48.6739970160001,
                  38.258504452000125
                 ],
                 [
                  48.67296357700013,
                  38.26018587300024
                 ],
                 [
                  48.67012316300014,
                  38.264120002000084
                 ],
                 [
                  48.669067893000204,
                  38.265982690000214
                 ],
                 [
                  48.66894732600025,
                  38.26617209300014
                 ],
                 [
                  48.6682637200002,
                  38.267454108000095
                 ],
                 [
                  48.66769888100009,
                  38.268944333000206
                 ],
                 [
                  48.66730159200017,
                  38.27062311100019
                 ],
                 [
                  48.66701826800016,
                  38.27261179600015
                 ],
                 [
                  48.66701826700029,
                  38.2731800050002
                 ],
                 [
                  48.66701826800016,
                  38.27621045300009
                 ],
                 [
                  48.66689770200014,
                  38.27753627400011
                 ],
                 [
                  48.66689770100021,
                  38.27810448300011
                 ],
                 [
                  48.667259400000205,
                  38.27943030400013
                 ],
                 [
                  48.667259400000205,
                  38.281419036000216
                 ],
                 [
                  48.66774166500028,
                  38.28217664800019
                 ],
                 [
                  48.66910631400009,
                  38.28609480900025
                 ],
                 [
                  48.6698299750002,
                  38.28838640100014
                 ],
                 [
                  48.66838265500019,
                  38.29224592500009
                 ],
                 [
                  48.66488496000022,
                  38.29441690700014
                 ],
                 [
                  48.657889574000194,
                  38.292366535000156
                 ],
                 [
                  48.65465393400012,
                  38.29122806900011
                 ],
                 [
                  48.65137662600023,
                  38.29007494300009
                 ],
                 [
                  48.64498429000014,
                  38.289230672000144
                 ],
                 [
                  48.63931561500016,
                  38.292487145000166
                 ],
                 [
                  48.63099351700009,
                  38.29839704100016
                 ],
                 [
                  48.62423935000021,
                  38.30478937800012
                 ],
                 [
                  48.62074165600018,
                  38.30852829100013
                 ],
                 [
                  48.6188118940002,
                  38.31299086600018
                 ],
                 [
                  48.61314321900022,
                  38.320348083000226
                 ],
                 [
                  48.610972077000156,
                  38.32229767900026
                 ],
                 [
                  48.60723332300023,
                  38.32565492800012
                 ],
                 [
                  48.597584513000186,
                  38.33554495800024
                 ],
                 [
                  48.590468516000215,
                  38.343143396000244
                 ],
                 [
                  48.58142275700021,
                  38.352430375000154
                 ],
                 [
                  48.57406554000016,
                  38.363405896000245
                 ],
                 [
                  48.5716533380002,
                  38.36714480900008
                 ],
                 [
                  48.57129150700024,
                  38.37196921400022
                 ],
                 [
                  48.571653339000136,
                  38.375346297000135
                 ],
                 [
                  48.57056784700018,
                  38.38125619300024
                 ],
                 [
                  48.57080906800019,
                  38.38559815800022
                 ],
                 [
                  48.57261821900022,
                  38.389940122000155
                 ],
                 [
                  48.57273882900023,
                  38.39404086600018
                 ],
                 [
                  48.5716533380002,
                  38.39862405000014
                 ],
                 [
                  48.56827625400024,
                  38.40622248800014
                 ],
                 [
                  48.56694954400024,
                  38.414423976000194
                 ],
                 [
                  48.56839686500018,
                  38.424796446000244
                 ],
                 [
                  48.57056784700018,
                  38.430706342000235
                 ],
                 [
                  48.570688457000244,
                  38.43444525600012
                 ],
                 [
                  48.569964796000136,
                  38.43697806800009
                 ],
                 [
                  48.57141211800018,
                  38.44035515200028
                 ],
                 [
                  48.573824320000085,
                  38.441440643000305
                 ],
                 [
                  48.57490981100011,
                  38.442405524000094
                 ],
                 [
                  48.578045675000226,
                  38.445058946000245
                 ],
                 [
                  48.57961360600018,
                  38.448074199000246
                 ],
                 [
                  48.581181537000134,
                  38.45169250300012
                 ],
                 [
                  48.581181537000134,
                  38.454948976000196
                 ],
                 [
                  48.582319948000304,
                  38.45550625800013
                 ],
                 [
                  48.58962965200027,
                  38.44438941600009
                 ],
                 [
                  48.59069565000016,
                  38.43921170900023
                 ],
                 [
                  48.598005355000225,
                  38.4247445860002
                 ],
                 [
                  48.60089877900015,
                  38.418957737000255
                 ],
                 [
                  48.60470591700022,
                  38.41423688600014
                 ],
                 [
                  48.61110190800014,
                  38.41301860200025
                 ],
                 [
                  48.61521361700011,
                  38.41225717500021
                 ],
                 [
                  48.6184116120001,
                  38.40845003700019
                 ],
                 [
                  48.62130503700013,
                  38.40464289900012
                 ],
                 [
                  48.625569030000236,
                  38.40281547300009
                 ],
                 [
                  48.63166045100024,
                  38.40266318800019
                 ],
                 [
                  48.63973158300013,
                  38.401749475000145
                 ],
                 [
                  48.64719357200016,
                  38.40037890500008
                 ],
                 [
                  48.65572156100012,
                  38.39916062100019
                 ]
                ]
               ],
               "type": "Polygon"
              },
              "id": "4",
              "properties": {
               "Markaz": "رشت",
               "Ostan": "گیلان"
              },
              "type": "Feature"
             }
            ],
            "type": "FeatureCollection"
           },
           "type": "line"
          }
         ],
         "style": "open-street-map",
         "zoom": 6
        },
        "margin": {
         "b": 0,
         "l": 0,
         "r": 0,
         "t": 0
        },
        "template": {
         "data": {
          "bar": [
           {
            "error_x": {
             "color": "#2a3f5f"
            },
            "error_y": {
             "color": "#2a3f5f"
            },
            "marker": {
             "line": {
              "color": "#E5ECF6",
              "width": 0.5
             },
             "pattern": {
              "fillmode": "overlay",
              "size": 10,
              "solidity": 0.2
             }
            },
            "type": "bar"
           }
          ],
          "barpolar": [
           {
            "marker": {
             "line": {
              "color": "#E5ECF6",
              "width": 0.5
             },
             "pattern": {
              "fillmode": "overlay",
              "size": 10,
              "solidity": 0.2
             }
            },
            "type": "barpolar"
           }
          ],
          "carpet": [
           {
            "aaxis": {
             "endlinecolor": "#2a3f5f",
             "gridcolor": "white",
             "linecolor": "white",
             "minorgridcolor": "white",
             "startlinecolor": "#2a3f5f"
            },
            "baxis": {
             "endlinecolor": "#2a3f5f",
             "gridcolor": "white",
             "linecolor": "white",
             "minorgridcolor": "white",
             "startlinecolor": "#2a3f5f"
            },
            "type": "carpet"
           }
          ],
          "choropleth": [
           {
            "colorbar": {
             "outlinewidth": 0,
             "ticks": ""
            },
            "type": "choropleth"
           }
          ],
          "contour": [
           {
            "colorbar": {
             "outlinewidth": 0,
             "ticks": ""
            },
            "colorscale": [
             [
              0,
              "#0d0887"
             ],
             [
              0.1111111111111111,
              "#46039f"
             ],
             [
              0.2222222222222222,
              "#7201a8"
             ],
             [
              0.3333333333333333,
              "#9c179e"
             ],
             [
              0.4444444444444444,
              "#bd3786"
             ],
             [
              0.5555555555555556,
              "#d8576b"
             ],
             [
              0.6666666666666666,
              "#ed7953"
             ],
             [
              0.7777777777777778,
              "#fb9f3a"
             ],
             [
              0.8888888888888888,
              "#fdca26"
             ],
             [
              1,
              "#f0f921"
             ]
            ],
            "type": "contour"
           }
          ],
          "contourcarpet": [
           {
            "colorbar": {
             "outlinewidth": 0,
             "ticks": ""
            },
            "type": "contourcarpet"
           }
          ],
          "heatmap": [
           {
            "colorbar": {
             "outlinewidth": 0,
             "ticks": ""
            },
            "colorscale": [
             [
              0,
              "#0d0887"
             ],
             [
              0.1111111111111111,
              "#46039f"
             ],
             [
              0.2222222222222222,
              "#7201a8"
             ],
             [
              0.3333333333333333,
              "#9c179e"
             ],
             [
              0.4444444444444444,
              "#bd3786"
             ],
             [
              0.5555555555555556,
              "#d8576b"
             ],
             [
              0.6666666666666666,
              "#ed7953"
             ],
             [
              0.7777777777777778,
              "#fb9f3a"
             ],
             [
              0.8888888888888888,
              "#fdca26"
             ],
             [
              1,
              "#f0f921"
             ]
            ],
            "type": "heatmap"
           }
          ],
          "heatmapgl": [
           {
            "colorbar": {
             "outlinewidth": 0,
             "ticks": ""
            },
            "colorscale": [
             [
              0,
              "#0d0887"
             ],
             [
              0.1111111111111111,
              "#46039f"
             ],
             [
              0.2222222222222222,
              "#7201a8"
             ],
             [
              0.3333333333333333,
              "#9c179e"
             ],
             [
              0.4444444444444444,
              "#bd3786"
             ],
             [
              0.5555555555555556,
              "#d8576b"
             ],
             [
              0.6666666666666666,
              "#ed7953"
             ],
             [
              0.7777777777777778,
              "#fb9f3a"
             ],
             [
              0.8888888888888888,
              "#fdca26"
             ],
             [
              1,
              "#f0f921"
             ]
            ],
            "type": "heatmapgl"
           }
          ],
          "histogram": [
           {
            "marker": {
             "pattern": {
              "fillmode": "overlay",
              "size": 10,
              "solidity": 0.2
             }
            },
            "type": "histogram"
           }
          ],
          "histogram2d": [
           {
            "colorbar": {
             "outlinewidth": 0,
             "ticks": ""
            },
            "colorscale": [
             [
              0,
              "#0d0887"
             ],
             [
              0.1111111111111111,
              "#46039f"
             ],
             [
              0.2222222222222222,
              "#7201a8"
             ],
             [
              0.3333333333333333,
              "#9c179e"
             ],
             [
              0.4444444444444444,
              "#bd3786"
             ],
             [
              0.5555555555555556,
              "#d8576b"
             ],
             [
              0.6666666666666666,
              "#ed7953"
             ],
             [
              0.7777777777777778,
              "#fb9f3a"
             ],
             [
              0.8888888888888888,
              "#fdca26"
             ],
             [
              1,
              "#f0f921"
             ]
            ],
            "type": "histogram2d"
           }
          ],
          "histogram2dcontour": [
           {
            "colorbar": {
             "outlinewidth": 0,
             "ticks": ""
            },
            "colorscale": [
             [
              0,
              "#0d0887"
             ],
             [
              0.1111111111111111,
              "#46039f"
             ],
             [
              0.2222222222222222,
              "#7201a8"
             ],
             [
              0.3333333333333333,
              "#9c179e"
             ],
             [
              0.4444444444444444,
              "#bd3786"
             ],
             [
              0.5555555555555556,
              "#d8576b"
             ],
             [
              0.6666666666666666,
              "#ed7953"
             ],
             [
              0.7777777777777778,
              "#fb9f3a"
             ],
             [
              0.8888888888888888,
              "#fdca26"
             ],
             [
              1,
              "#f0f921"
             ]
            ],
            "type": "histogram2dcontour"
           }
          ],
          "mesh3d": [
           {
            "colorbar": {
             "outlinewidth": 0,
             "ticks": ""
            },
            "type": "mesh3d"
           }
          ],
          "parcoords": [
           {
            "line": {
             "colorbar": {
              "outlinewidth": 0,
              "ticks": ""
             }
            },
            "type": "parcoords"
           }
          ],
          "pie": [
           {
            "automargin": true,
            "type": "pie"
           }
          ],
          "scatter": [
           {
            "fillpattern": {
             "fillmode": "overlay",
             "size": 10,
             "solidity": 0.2
            },
            "type": "scatter"
           }
          ],
          "scatter3d": [
           {
            "line": {
             "colorbar": {
              "outlinewidth": 0,
              "ticks": ""
             }
            },
            "marker": {
             "colorbar": {
              "outlinewidth": 0,
              "ticks": ""
             }
            },
            "type": "scatter3d"
           }
          ],
          "scattercarpet": [
           {
            "marker": {
             "colorbar": {
              "outlinewidth": 0,
              "ticks": ""
             }
            },
            "type": "scattercarpet"
           }
          ],
          "scattergeo": [
           {
            "marker": {
             "colorbar": {
              "outlinewidth": 0,
              "ticks": ""
             }
            },
            "type": "scattergeo"
           }
          ],
          "scattergl": [
           {
            "marker": {
             "colorbar": {
              "outlinewidth": 0,
              "ticks": ""
             }
            },
            "type": "scattergl"
           }
          ],
          "scattermapbox": [
           {
            "marker": {
             "colorbar": {
              "outlinewidth": 0,
              "ticks": ""
             }
            },
            "type": "scattermapbox"
           }
          ],
          "scatterpolar": [
           {
            "marker": {
             "colorbar": {
              "outlinewidth": 0,
              "ticks": ""
             }
            },
            "type": "scatterpolar"
           }
          ],
          "scatterpolargl": [
           {
            "marker": {
             "colorbar": {
              "outlinewidth": 0,
              "ticks": ""
             }
            },
            "type": "scatterpolargl"
           }
          ],
          "scatterternary": [
           {
            "marker": {
             "colorbar": {
              "outlinewidth": 0,
              "ticks": ""
             }
            },
            "type": "scatterternary"
           }
          ],
          "surface": [
           {
            "colorbar": {
             "outlinewidth": 0,
             "ticks": ""
            },
            "colorscale": [
             [
              0,
              "#0d0887"
             ],
             [
              0.1111111111111111,
              "#46039f"
             ],
             [
              0.2222222222222222,
              "#7201a8"
             ],
             [
              0.3333333333333333,
              "#9c179e"
             ],
             [
              0.4444444444444444,
              "#bd3786"
             ],
             [
              0.5555555555555556,
              "#d8576b"
             ],
             [
              0.6666666666666666,
              "#ed7953"
             ],
             [
              0.7777777777777778,
              "#fb9f3a"
             ],
             [
              0.8888888888888888,
              "#fdca26"
             ],
             [
              1,
              "#f0f921"
             ]
            ],
            "type": "surface"
           }
          ],
          "table": [
           {
            "cells": {
             "fill": {
              "color": "#EBF0F8"
             },
             "line": {
              "color": "white"
             }
            },
            "header": {
             "fill": {
              "color": "#C8D4E3"
             },
             "line": {
              "color": "white"
             }
            },
            "type": "table"
           }
          ]
         },
         "layout": {
          "annotationdefaults": {
           "arrowcolor": "#2a3f5f",
           "arrowhead": 0,
           "arrowwidth": 1
          },
          "autotypenumbers": "strict",
          "coloraxis": {
           "colorbar": {
            "outlinewidth": 0,
            "ticks": ""
           }
          },
          "colorscale": {
           "diverging": [
            [
             0,
             "#8e0152"
            ],
            [
             0.1,
             "#c51b7d"
            ],
            [
             0.2,
             "#de77ae"
            ],
            [
             0.3,
             "#f1b6da"
            ],
            [
             0.4,
             "#fde0ef"
            ],
            [
             0.5,
             "#f7f7f7"
            ],
            [
             0.6,
             "#e6f5d0"
            ],
            [
             0.7,
             "#b8e186"
            ],
            [
             0.8,
             "#7fbc41"
            ],
            [
             0.9,
             "#4d9221"
            ],
            [
             1,
             "#276419"
            ]
           ],
           "sequential": [
            [
             0,
             "#0d0887"
            ],
            [
             0.1111111111111111,
             "#46039f"
            ],
            [
             0.2222222222222222,
             "#7201a8"
            ],
            [
             0.3333333333333333,
             "#9c179e"
            ],
            [
             0.4444444444444444,
             "#bd3786"
            ],
            [
             0.5555555555555556,
             "#d8576b"
            ],
            [
             0.6666666666666666,
             "#ed7953"
            ],
            [
             0.7777777777777778,
             "#fb9f3a"
            ],
            [
             0.8888888888888888,
             "#fdca26"
            ],
            [
             1,
             "#f0f921"
            ]
           ],
           "sequentialminus": [
            [
             0,
             "#0d0887"
            ],
            [
             0.1111111111111111,
             "#46039f"
            ],
            [
             0.2222222222222222,
             "#7201a8"
            ],
            [
             0.3333333333333333,
             "#9c179e"
            ],
            [
             0.4444444444444444,
             "#bd3786"
            ],
            [
             0.5555555555555556,
             "#d8576b"
            ],
            [
             0.6666666666666666,
             "#ed7953"
            ],
            [
             0.7777777777777778,
             "#fb9f3a"
            ],
            [
             0.8888888888888888,
             "#fdca26"
            ],
            [
             1,
             "#f0f921"
            ]
           ]
          },
          "colorway": [
           "#636efa",
           "#EF553B",
           "#00cc96",
           "#ab63fa",
           "#FFA15A",
           "#19d3f3",
           "#FF6692",
           "#B6E880",
           "#FF97FF",
           "#FECB52"
          ],
          "font": {
           "color": "#2a3f5f"
          },
          "geo": {
           "bgcolor": "white",
           "lakecolor": "white",
           "landcolor": "#E5ECF6",
           "showlakes": true,
           "showland": true,
           "subunitcolor": "white"
          },
          "hoverlabel": {
           "align": "left"
          },
          "hovermode": "closest",
          "mapbox": {
           "style": "light"
          },
          "paper_bgcolor": "white",
          "plot_bgcolor": "#E5ECF6",
          "polar": {
           "angularaxis": {
            "gridcolor": "white",
            "linecolor": "white",
            "ticks": ""
           },
           "bgcolor": "#E5ECF6",
           "radialaxis": {
            "gridcolor": "white",
            "linecolor": "white",
            "ticks": ""
           }
          },
          "scene": {
           "xaxis": {
            "backgroundcolor": "#E5ECF6",
            "gridcolor": "white",
            "gridwidth": 2,
            "linecolor": "white",
            "showbackground": true,
            "ticks": "",
            "zerolinecolor": "white"
           },
           "yaxis": {
            "backgroundcolor": "#E5ECF6",
            "gridcolor": "white",
            "gridwidth": 2,
            "linecolor": "white",
            "showbackground": true,
            "ticks": "",
            "zerolinecolor": "white"
           },
           "zaxis": {
            "backgroundcolor": "#E5ECF6",
            "gridcolor": "white",
            "gridwidth": 2,
            "linecolor": "white",
            "showbackground": true,
            "ticks": "",
            "zerolinecolor": "white"
           }
          },
          "shapedefaults": {
           "line": {
            "color": "#2a3f5f"
           }
          },
          "ternary": {
           "aaxis": {
            "gridcolor": "white",
            "linecolor": "white",
            "ticks": ""
           },
           "baxis": {
            "gridcolor": "white",
            "linecolor": "white",
            "ticks": ""
           },
           "bgcolor": "#E5ECF6",
           "caxis": {
            "gridcolor": "white",
            "linecolor": "white",
            "ticks": ""
           }
          },
          "title": {
           "x": 0.05
          },
          "xaxis": {
           "automargin": true,
           "gridcolor": "white",
           "linecolor": "white",
           "ticks": "",
           "title": {
            "standoff": 15
           },
           "zerolinecolor": "white",
           "zerolinewidth": 2
          },
          "yaxis": {
           "automargin": true,
           "gridcolor": "white",
           "linecolor": "white",
           "ticks": "",
           "title": {
            "standoff": 15
           },
           "zerolinecolor": "white",
           "zerolinewidth": 2
          }
         }
        },
        "width": 1200
       }
      },
      "text/html": [
       "<div>                            <div id=\"21fe8f73-bbca-4d27-89bb-1fbf479240e2\" class=\"plotly-graph-div\" style=\"height:600px; width:1200px;\"></div>            <script type=\"text/javascript\">                require([\"plotly\"], function(Plotly) {                    window.PLOTLYENV=window.PLOTLYENV || {};                                    if (document.getElementById(\"21fe8f73-bbca-4d27-89bb-1fbf479240e2\")) {                    Plotly.newPlot(                        \"21fe8f73-bbca-4d27-89bb-1fbf479240e2\",                        [{\"customdata\":[[\"\\n    Station Name: \\u003cb\\u003eAstara\\u003c\\u002fb\\u003e\\u003cbr\\u003e\\n    Station ID: \\u003cb\\u003e40709\\u003c\\u002fb\\u003e\\u003cbr\\u003e\\n    Province: \\u003cb\\u003eGilan\\u003c\\u002fb\\u003e\\u003cbr\\u003e\\n    Latitude: \\u003cb\\u003e38.365\\u003c\\u002fb\\u003e\\u003cbr\\u003e\\n    Longitude: \\u003cb\\u003e48.855\\u003c\\u002fb\\u003e\\u003cbr\\u003e\\n    Elevation: \\u003cb\\u003e-21.1 m\\u003c\\u002fb\\u003e\\u003cbr\\u003e\\n    Temperature: \\u003cb\\u003e16.0\\u003c\\u002fb\\u003e\\u003cbr\\u003e\\n    Precipitation: \\u003cb\\u003e1292.8\\u003c\\u002fb\\u003e\\u003cbr\\u003e\\n    DT: \\u003cb\\u003e7.4\\u003c\\u002fb\\u003e\\u003cbr\\u003e\\n    \",\"40709\",\"Astara\"],[\"\\n    Station Name: \\u003cb\\u003eBandar-e-anzali\\u003c\\u002fb\\u003e\\u003cbr\\u003e\\n    Station ID: \\u003cb\\u003e40718\\u003c\\u002fb\\u003e\\u003cbr\\u003e\\n    Province: \\u003cb\\u003eGilan\\u003c\\u002fb\\u003e\\u003cbr\\u003e\\n    Latitude: \\u003cb\\u003e37.48\\u003c\\u002fb\\u003e\\u003cbr\\u003e\\n    Longitude: \\u003cb\\u003e49.458\\u003c\\u002fb\\u003e\\u003cbr\\u003e\\n    Elevation: \\u003cb\\u003e-23.6 m\\u003c\\u002fb\\u003e\\u003cbr\\u003e\\n    Temperature: \\u003cb\\u003e17.3\\u003c\\u002fb\\u003e\\u003cbr\\u003e\\n    Precipitation: \\u003cb\\u003e1688.6\\u003c\\u002fb\\u003e\\u003cbr\\u003e\\n    DT: \\u003cb\\u003e5.8\\u003c\\u002fb\\u003e\\u003cbr\\u003e\\n    \",\"40718\",\"Bandar-e-anzali\"],[\"\\n    Station Name: \\u003cb\\u003eRasht\\u003c\\u002fb\\u003e\\u003cbr\\u003e\\n    Station ID: \\u003cb\\u003e40719\\u003c\\u002fb\\u003e\\u003cbr\\u003e\\n    Province: \\u003cb\\u003eGilan\\u003c\\u002fb\\u003e\\u003cbr\\u003e\\n    Latitude: \\u003cb\\u003e37.323\\u003c\\u002fb\\u003e\\u003cbr\\u003e\\n    Longitude: \\u003cb\\u003e49.624\\u003c\\u002fb\\u003e\\u003cbr\\u003e\\n    Elevation: \\u003cb\\u003e-8.6 m\\u003c\\u002fb\\u003e\\u003cbr\\u003e\\n    Temperature: \\u003cb\\u003e17.0\\u003c\\u002fb\\u003e\\u003cbr\\u003e\\n    Precipitation: \\u003cb\\u003e1193.4\\u003c\\u002fb\\u003e\\u003cbr\\u003e\\n    DT: \\u003cb\\u003e8.4\\u003c\\u002fb\\u003e\\u003cbr\\u003e\\n    \",\"40719\",\"Rasht\"],[\"\\n    Station Name: \\u003cb\\u003eRamsar\\u003c\\u002fb\\u003e\\u003cbr\\u003e\\n    Station ID: \\u003cb\\u003e40732\\u003c\\u002fb\\u003e\\u003cbr\\u003e\\n    Province: \\u003cb\\u003eMazandaran\\u003c\\u002fb\\u003e\\u003cbr\\u003e\\n    Latitude: \\u003cb\\u003e36.905\\u003c\\u002fb\\u003e\\u003cbr\\u003e\\n    Longitude: \\u003cb\\u003e50.684\\u003c\\u002fb\\u003e\\u003cbr\\u003e\\n    Elevation: \\u003cb\\u003e-20.0 m\\u003c\\u002fb\\u003e\\u003cbr\\u003e\\n    Temperature: \\u003cb\\u003e17.3\\u003c\\u002fb\\u003e\\u003cbr\\u003e\\n    Precipitation: \\u003cb\\u003e1222.5\\u003c\\u002fb\\u003e\\u003cbr\\u003e\\n    DT: \\u003cb\\u003e6.3\\u003c\\u002fb\\u003e\\u003cbr\\u003e\\n    \",\"40732\",\"Ramsar\"],[\"\\n    Station Name: \\u003cb\\u003eNowshahr\\u003c\\u002fb\\u003e\\u003cbr\\u003e\\n    Station ID: \\u003cb\\u003e40734\\u003c\\u002fb\\u003e\\u003cbr\\u003e\\n    Province: \\u003cb\\u003eMazandaran\\u003c\\u002fb\\u003e\\u003cbr\\u003e\\n    Latitude: \\u003cb\\u003e36.661\\u003c\\u002fb\\u003e\\u003cbr\\u003e\\n    Longitude: \\u003cb\\u003e51.466\\u003c\\u002fb\\u003e\\u003cbr\\u003e\\n    Elevation: \\u003cb\\u003e-20.9 m\\u003c\\u002fb\\u003e\\u003cbr\\u003e\\n    Temperature: \\u003cb\\u003e17.1\\u003c\\u002fb\\u003e\\u003cbr\\u003e\\n    Precipitation: \\u003cb\\u003e1263.9\\u003c\\u002fb\\u003e\\u003cbr\\u003e\\n    DT: \\u003cb\\u003e6.8\\u003c\\u002fb\\u003e\\u003cbr\\u003e\\n    \",\"40734\",\"Nowshahr\"],[\"\\n    Station Name: \\u003cb\\u003eBabolsar\\u003c\\u002fb\\u003e\\u003cbr\\u003e\\n    Station ID: \\u003cb\\u003e40736\\u003c\\u002fb\\u003e\\u003cbr\\u003e\\n    Province: \\u003cb\\u003eMazandaran\\u003c\\u002fb\\u003e\\u003cbr\\u003e\\n    Latitude: \\u003cb\\u003e36.699\\u003c\\u002fb\\u003e\\u003cbr\\u003e\\n    Longitude: \\u003cb\\u003e52.643\\u003c\\u002fb\\u003e\\u003cbr\\u003e\\n    Elevation: \\u003cb\\u003e-21.0 m\\u003c\\u002fb\\u003e\\u003cbr\\u003e\\n    Temperature: \\u003cb\\u003e18.2\\u003c\\u002fb\\u003e\\u003cbr\\u003e\\n    Precipitation: \\u003cb\\u003e824.8\\u003c\\u002fb\\u003e\\u003cbr\\u003e\\n    DT: \\u003cb\\u003e7.1\\u003c\\u002fb\\u003e\\u003cbr\\u003e\\n    \",\"40736\",\"Babolsar\"],[\"\\n    Station Name: \\u003cb\\u003eTalesh\\u003c\\u002fb\\u003e\\u003cbr\\u003e\\n    Station ID: \\u003cb\\u003e99249\\u003c\\u002fb\\u003e\\u003cbr\\u003e\\n    Province: \\u003cb\\u003eGilan\\u003c\\u002fb\\u003e\\u003cbr\\u003e\\n    Latitude: \\u003cb\\u003e37.839\\u003c\\u002fb\\u003e\\u003cbr\\u003e\\n    Longitude: \\u003cb\\u003e48.897\\u003c\\u002fb\\u003e\\u003cbr\\u003e\\n    Elevation: \\u003cb\\u003e7.0 m\\u003c\\u002fb\\u003e\\u003cbr\\u003e\\n    Temperature: \\u003cb\\u003e16.4\\u003c\\u002fb\\u003e\\u003cbr\\u003e\\n    Precipitation: \\u003cb\\u003e945.7\\u003c\\u002fb\\u003e\\u003cbr\\u003e\\n    DT: \\u003cb\\u003e7.2\\u003c\\u002fb\\u003e\\u003cbr\\u003e\\n    \",\"99249\",\"Talesh\"],[\"\\n    Station Name: \\u003cb\\u003eKiyashahr\\u003c\\u002fb\\u003e\\u003cbr\\u003e\\n    Station ID: \\u003cb\\u003e99268\\u003c\\u002fb\\u003e\\u003cbr\\u003e\\n    Province: \\u003cb\\u003eGilan\\u003c\\u002fb\\u003e\\u003cbr\\u003e\\n    Latitude: \\u003cb\\u003e37.417\\u003c\\u002fb\\u003e\\u003cbr\\u003e\\n    Longitude: \\u003cb\\u003e49.883\\u003c\\u002fb\\u003e\\u003cbr\\u003e\\n    Elevation: \\u003cb\\u003e-22.0 m\\u003c\\u002fb\\u003e\\u003cbr\\u003e\\n    Temperature: \\u003cb\\u003e17.1\\u003c\\u002fb\\u003e\\u003cbr\\u003e\\n    Precipitation: \\u003cb\\u003e1153.5\\u003c\\u002fb\\u003e\\u003cbr\\u003e\\n    DT: \\u003cb\\u003e7.4\\u003c\\u002fb\\u003e\\u003cbr\\u003e\\n    \",\"99268\",\"Kiyashahr\"],[\"\\n    Station Name: \\u003cb\\u003eLahijan\\u003c\\u002fb\\u003e\\u003cbr\\u003e\\n    Station ID: \\u003cb\\u003e99276\\u003c\\u002fb\\u003e\\u003cbr\\u003e\\n    Province: \\u003cb\\u003eGilan\\u003c\\u002fb\\u003e\\u003cbr\\u003e\\n    Latitude: \\u003cb\\u003e37.194\\u003c\\u002fb\\u003e\\u003cbr\\u003e\\n    Longitude: \\u003cb\\u003e50.016\\u003c\\u002fb\\u003e\\u003cbr\\u003e\\n    Elevation: \\u003cb\\u003e34.2 m\\u003c\\u002fb\\u003e\\u003cbr\\u003e\\n    Temperature: \\u003cb\\u003e16.7\\u003c\\u002fb\\u003e\\u003cbr\\u003e\\n    Precipitation: \\u003cb\\u003e1291.4\\u003c\\u002fb\\u003e\\u003cbr\\u003e\\n    DT: \\u003cb\\u003e9.6\\u003c\\u002fb\\u003e\\u003cbr\\u003e\\n    \",\"99276\",\"Lahijan\"]],\"hovertemplate\":\"%{customdata[0]}\",\"hovertext\":[\"Astara\",\"Bandar-e-anzali\",\"Rasht\",\"Ramsar\",\"Nowshahr\",\"Babolsar\",\"Talesh\",\"Kiyashahr\",\"Lahijan\"],\"lat\":[38.365,37.48,37.323,36.905,36.661,36.699,37.839,37.417,37.194],\"legendgroup\":\"3\",\"lon\":[48.855,49.458,49.624,50.684,51.466,52.643,48.897,49.883,50.016],\"marker\":{\"color\":\"darkgreen\",\"size\":20},\"mode\":\"markers+text\",\"name\":\"3\",\"showlegend\":true,\"subplot\":\"mapbox\",\"text\":[\"Astara\",\"Bandar-e-anzali\",\"Rasht\",\"Ramsar\",\"Nowshahr\",\"Babolsar\",\"Talesh\",\"Kiyashahr\",\"Lahijan\"],\"type\":\"scattermapbox\",\"textfont\":{\"color\":\"black\",\"size\":14},\"textposition\":\"top right\"},{\"customdata\":[[\"\\n    Station Name: \\u003cb\\u003eManjil\\u003c\\u002fb\\u003e\\u003cbr\\u003e\\n    Station ID: \\u003cb\\u003e40720\\u003c\\u002fb\\u003e\\u003cbr\\u003e\\n    Province: \\u003cb\\u003eGilan\\u003c\\u002fb\\u003e\\u003cbr\\u003e\\n    Latitude: \\u003cb\\u003e36.729\\u003c\\u002fb\\u003e\\u003cbr\\u003e\\n    Longitude: \\u003cb\\u003e49.41\\u003c\\u002fb\\u003e\\u003cbr\\u003e\\n    Elevation: \\u003cb\\u003e338.3 m\\u003c\\u002fb\\u003e\\u003cbr\\u003e\\n    Temperature: \\u003cb\\u003e18.1\\u003c\\u002fb\\u003e\\u003cbr\\u003e\\n    Precipitation: \\u003cb\\u003e202.6\\u003c\\u002fb\\u003e\\u003cbr\\u003e\\n    DT: \\u003cb\\u003e10.4\\u003c\\u002fb\\u003e\\u003cbr\\u003e\\n    \",\"40720\",\"Manjil\"],[\"\\n    Station Name: \\u003cb\\u003eGharakhil\\u003c\\u002fb\\u003e\\u003cbr\\u003e\\n    Station ID: \\u003cb\\u003e40737\\u003c\\u002fb\\u003e\\u003cbr\\u003e\\n    Province: \\u003cb\\u003eMazandaran\\u003c\\u002fb\\u003e\\u003cbr\\u003e\\n    Latitude: \\u003cb\\u003e36.487\\u003c\\u002fb\\u003e\\u003cbr\\u003e\\n    Longitude: \\u003cb\\u003e52.108\\u003c\\u002fb\\u003e\\u003cbr\\u003e\\n    Elevation: \\u003cb\\u003e14.7 m\\u003c\\u002fb\\u003e\\u003cbr\\u003e\\n    Temperature: \\u003cb\\u003e17.6\\u003c\\u002fb\\u003e\\u003cbr\\u003e\\n    Precipitation: \\u003cb\\u003e655.0\\u003c\\u002fb\\u003e\\u003cbr\\u003e\\n    DT: \\u003cb\\u003e9.8\\u003c\\u002fb\\u003e\\u003cbr\\u003e\\n    \",\"40737\",\"Gharakhil\"],[\"\\n    Station Name: \\u003cb\\u003eSari\\u003c\\u002fb\\u003e\\u003cbr\\u003e\\n    Station ID: \\u003cb\\u003e40759\\u003c\\u002fb\\u003e\\u003cbr\\u003e\\n    Province: \\u003cb\\u003eMazandaran\\u003c\\u002fb\\u003e\\u003cbr\\u003e\\n    Latitude: \\u003cb\\u003e36.536\\u003c\\u002fb\\u003e\\u003cbr\\u003e\\n    Longitude: \\u003cb\\u003e52.998\\u003c\\u002fb\\u003e\\u003cbr\\u003e\\n    Elevation: \\u003cb\\u003e23.0 m\\u003c\\u002fb\\u003e\\u003cbr\\u003e\\n    Temperature: \\u003cb\\u003e18.4\\u003c\\u002fb\\u003e\\u003cbr\\u003e\\n    Precipitation: \\u003cb\\u003e705.7\\u003c\\u002fb\\u003e\\u003cbr\\u003e\\n    DT: \\u003cb\\u003e9.6\\u003c\\u002fb\\u003e\\u003cbr\\u003e\\n    \",\"40759\",\"Sari\"],[\"\\n    Station Name: \\u003cb\\u003eSari (dasht-e-naz airport)\\u003c\\u002fb\\u003e\\u003cbr\\u003e\\n    Station ID: \\u003cb\\u003e40788\\u003c\\u002fb\\u003e\\u003cbr\\u003e\\n    Province: \\u003cb\\u003eMazandaran\\u003c\\u002fb\\u003e\\u003cbr\\u003e\\n    Latitude: \\u003cb\\u003e36.64\\u003c\\u002fb\\u003e\\u003cbr\\u003e\\n    Longitude: \\u003cb\\u003e53.195\\u003c\\u002fb\\u003e\\u003cbr\\u003e\\n    Elevation: \\u003cb\\u003e16.7 m\\u003c\\u002fb\\u003e\\u003cbr\\u003e\\n    Temperature: \\u003cb\\u003e17.8\\u003c\\u002fb\\u003e\\u003cbr\\u003e\\n    Precipitation: \\u003cb\\u003e602.6\\u003c\\u002fb\\u003e\\u003cbr\\u003e\\n    DT: \\u003cb\\u003e9.9\\u003c\\u002fb\\u003e\\u003cbr\\u003e\\n    \",\"40788\",\"Sari (dasht-e-naz airport)\"],[\"\\n    Station Name: \\u003cb\\u003eGalugah\\u003c\\u002fb\\u003e\\u003cbr\\u003e\\n    Station ID: \\u003cb\\u003e99299\\u003c\\u002fb\\u003e\\u003cbr\\u003e\\n    Province: \\u003cb\\u003eMazandaran\\u003c\\u002fb\\u003e\\u003cbr\\u003e\\n    Latitude: \\u003cb\\u003e36.738\\u003c\\u002fb\\u003e\\u003cbr\\u003e\\n    Longitude: \\u003cb\\u003e53.837\\u003c\\u002fb\\u003e\\u003cbr\\u003e\\n    Elevation: \\u003cb\\u003e-10.0 m\\u003c\\u002fb\\u003e\\u003cbr\\u003e\\n    Temperature: \\u003cb\\u003e17.7\\u003c\\u002fb\\u003e\\u003cbr\\u003e\\n    Precipitation: \\u003cb\\u003e536.9\\u003c\\u002fb\\u003e\\u003cbr\\u003e\\n    DT: \\u003cb\\u003e10.1\\u003c\\u002fb\\u003e\\u003cbr\\u003e\\n    \",\"99299\",\"Galugah\"],[\"\\n    Station Name: \\u003cb\\u003eBandar-e-amirabad\\u003c\\u002fb\\u003e\\u003cbr\\u003e\\n    Station ID: \\u003cb\\u003e99306\\u003c\\u002fb\\u003e\\u003cbr\\u003e\\n    Province: \\u003cb\\u003eMazandaran\\u003c\\u002fb\\u003e\\u003cbr\\u003e\\n    Latitude: \\u003cb\\u003e36.856\\u003c\\u002fb\\u003e\\u003cbr\\u003e\\n    Longitude: \\u003cb\\u003e53.386\\u003c\\u002fb\\u003e\\u003cbr\\u003e\\n    Elevation: \\u003cb\\u003e-20.0 m\\u003c\\u002fb\\u003e\\u003cbr\\u003e\\n    Temperature: \\u003cb\\u003e17.8\\u003c\\u002fb\\u003e\\u003cbr\\u003e\\n    Precipitation: \\u003cb\\u003e588.9\\u003c\\u002fb\\u003e\\u003cbr\\u003e\\n    DT: \\u003cb\\u003e7.6\\u003c\\u002fb\\u003e\\u003cbr\\u003e\\n    \",\"99306\",\"Bandar-e-amirabad\"],[\"\\n    Station Name: \\u003cb\\u003eAmol\\u003c\\u002fb\\u003e\\u003cbr\\u003e\\n    Station ID: \\u003cb\\u003e99309\\u003c\\u002fb\\u003e\\u003cbr\\u003e\\n    Province: \\u003cb\\u003eMazandaran\\u003c\\u002fb\\u003e\\u003cbr\\u003e\\n    Latitude: \\u003cb\\u003e36.479\\u003c\\u002fb\\u003e\\u003cbr\\u003e\\n    Longitude: \\u003cb\\u003e52.468\\u003c\\u002fb\\u003e\\u003cbr\\u003e\\n    Elevation: \\u003cb\\u003e23.7 m\\u003c\\u002fb\\u003e\\u003cbr\\u003e\\n    Temperature: \\u003cb\\u003e17.8\\u003c\\u002fb\\u003e\\u003cbr\\u003e\\n    Precipitation: \\u003cb\\u003e643.8\\u003c\\u002fb\\u003e\\u003cbr\\u003e\\n    DT: \\u003cb\\u003e9.3\\u003c\\u002fb\\u003e\\u003cbr\\u003e\\n    \",\"99309\",\"Amol\"],[\"\\n    Station Name: \\u003cb\\u003ePolsefid\\u003c\\u002fb\\u003e\\u003cbr\\u003e\\n    Station ID: \\u003cb\\u003e99360\\u003c\\u002fb\\u003e\\u003cbr\\u003e\\n    Province: \\u003cb\\u003eMazandaran\\u003c\\u002fb\\u003e\\u003cbr\\u003e\\n    Latitude: \\u003cb\\u003e36.104\\u003c\\u002fb\\u003e\\u003cbr\\u003e\\n    Longitude: \\u003cb\\u003e53.062\\u003c\\u002fb\\u003e\\u003cbr\\u003e\\n    Elevation: \\u003cb\\u003e610.0 m\\u003c\\u002fb\\u003e\\u003cbr\\u003e\\n    Temperature: \\u003cb\\u003e15.5\\u003c\\u002fb\\u003e\\u003cbr\\u003e\\n    Precipitation: \\u003cb\\u003e537.6\\u003c\\u002fb\\u003e\\u003cbr\\u003e\\n    DT: \\u003cb\\u003e9.9\\u003c\\u002fb\\u003e\\u003cbr\\u003e\\n    \",\"99360\",\"Polsefid\"]],\"hovertemplate\":\"%{customdata[0]}\",\"hovertext\":[\"Manjil\",\"Gharakhil\",\"Sari\",\"Sari (dasht-e-naz airport)\",\"Galugah\",\"Bandar-e-amirabad\",\"Amol\",\"Polsefid\"],\"lat\":[36.729,36.487,36.536,36.64,36.738,36.856,36.479,36.104],\"legendgroup\":\"1\",\"lon\":[49.41,52.108,52.998,53.195,53.837,53.386,52.468,53.062],\"marker\":{\"color\":\"darkred\",\"size\":20},\"mode\":\"markers+text\",\"name\":\"1\",\"showlegend\":true,\"subplot\":\"mapbox\",\"text\":[\"Manjil\",\"Gharakhil\",\"Sari\",\"Sari (dasht-e-naz airport)\",\"Galugah\",\"Bandar-e-amirabad\",\"Amol\",\"Polsefid\"],\"type\":\"scattermapbox\",\"textfont\":{\"color\":\"black\",\"size\":14},\"textposition\":\"top right\"},{\"customdata\":[[\"\\n    Station Name: \\u003cb\\u003eSiahbisheh\\u003c\\u002fb\\u003e\\u003cbr\\u003e\\n    Station ID: \\u003cb\\u003e40735\\u003c\\u002fb\\u003e\\u003cbr\\u003e\\n    Province: \\u003cb\\u003eMazandaran\\u003c\\u002fb\\u003e\\u003cbr\\u003e\\n    Latitude: \\u003cb\\u003e36.231\\u003c\\u002fb\\u003e\\u003cbr\\u003e\\n    Longitude: \\u003cb\\u003e51.303\\u003c\\u002fb\\u003e\\u003cbr\\u003e\\n    Elevation: \\u003cb\\u003e1855.4 m\\u003c\\u002fb\\u003e\\u003cbr\\u003e\\n    Temperature: \\u003cb\\u003e11.2\\u003c\\u002fb\\u003e\\u003cbr\\u003e\\n    Precipitation: \\u003cb\\u003e500.2\\u003c\\u002fb\\u003e\\u003cbr\\u003e\\n    DT: \\u003cb\\u003e9.3\\u003c\\u002fb\\u003e\\u003cbr\\u003e\\n    \",\"40735\",\"Siahbisheh\"],[\"\\n    Station Name: \\u003cb\\u003eKiyasar\\u003c\\u002fb\\u003e\\u003cbr\\u003e\\n    Station ID: \\u003cb\\u003e40760\\u003c\\u002fb\\u003e\\u003cbr\\u003e\\n    Province: \\u003cb\\u003eMazandaran\\u003c\\u002fb\\u003e\\u003cbr\\u003e\\n    Latitude: \\u003cb\\u003e36.248\\u003c\\u002fb\\u003e\\u003cbr\\u003e\\n    Longitude: \\u003cb\\u003e53.546\\u003c\\u002fb\\u003e\\u003cbr\\u003e\\n    Elevation: \\u003cb\\u003e1294.3 m\\u003c\\u002fb\\u003e\\u003cbr\\u003e\\n    Temperature: \\u003cb\\u003e13.5\\u003c\\u002fb\\u003e\\u003cbr\\u003e\\n    Precipitation: \\u003cb\\u003e501.9\\u003c\\u002fb\\u003e\\u003cbr\\u003e\\n    DT: \\u003cb\\u003e10.2\\u003c\\u002fb\\u003e\\u003cbr\\u003e\\n    \",\"40760\",\"Kiyasar\"],[\"\\n    Station Name: \\u003cb\\u003eJirandeh\\u003c\\u002fb\\u003e\\u003cbr\\u003e\\n    Station ID: \\u003cb\\u003e40805\\u003c\\u002fb\\u003e\\u003cbr\\u003e\\n    Province: \\u003cb\\u003eGilan\\u003c\\u002fb\\u003e\\u003cbr\\u003e\\n    Latitude: \\u003cb\\u003e36.708\\u003c\\u002fb\\u003e\\u003cbr\\u003e\\n    Longitude: \\u003cb\\u003e49.802\\u003c\\u002fb\\u003e\\u003cbr\\u003e\\n    Elevation: \\u003cb\\u003e1581.4 m\\u003c\\u002fb\\u003e\\u003cbr\\u003e\\n    Temperature: \\u003cb\\u003e12.2\\u003c\\u002fb\\u003e\\u003cbr\\u003e\\n    Precipitation: \\u003cb\\u003e280.0\\u003c\\u002fb\\u003e\\u003cbr\\u003e\\n    DT: \\u003cb\\u003e8.6\\u003c\\u002fb\\u003e\\u003cbr\\u003e\\n    \",\"40805\",\"Jirandeh\"],[\"\\n    Station Name: \\u003cb\\u003eMasuleh\\u003c\\u002fb\\u003e\\u003cbr\\u003e\\n    Station ID: \\u003cb\\u003e99281\\u003c\\u002fb\\u003e\\u003cbr\\u003e\\n    Province: \\u003cb\\u003eGilan\\u003c\\u002fb\\u003e\\u003cbr\\u003e\\n    Latitude: \\u003cb\\u003e37.15\\u003c\\u002fb\\u003e\\u003cbr\\u003e\\n    Longitude: \\u003cb\\u003e48.983\\u003c\\u002fb\\u003e\\u003cbr\\u003e\\n    Elevation: \\u003cb\\u003e1081.0 m\\u003c\\u002fb\\u003e\\u003cbr\\u003e\\n    Temperature: \\u003cb\\u003e12.2\\u003c\\u002fb\\u003e\\u003cbr\\u003e\\n    Precipitation: \\u003cb\\u003e882.8\\u003c\\u002fb\\u003e\\u003cbr\\u003e\\n    DT: \\u003cb\\u003e7.9\\u003c\\u002fb\\u003e\\u003cbr\\u003e\\n    \",\"99281\",\"Masuleh\"],[\"\\n    Station Name: \\u003cb\\u003eKojur\\u003c\\u002fb\\u003e\\u003cbr\\u003e\\n    Station ID: \\u003cb\\u003e99348\\u003c\\u002fb\\u003e\\u003cbr\\u003e\\n    Province: \\u003cb\\u003eMazandaran\\u003c\\u002fb\\u003e\\u003cbr\\u003e\\n    Latitude: \\u003cb\\u003e36.39\\u003c\\u002fb\\u003e\\u003cbr\\u003e\\n    Longitude: \\u003cb\\u003e51.729\\u003c\\u002fb\\u003e\\u003cbr\\u003e\\n    Elevation: \\u003cb\\u003e1550.0 m\\u003c\\u002fb\\u003e\\u003cbr\\u003e\\n    Temperature: \\u003cb\\u003e11.8\\u003c\\u002fb\\u003e\\u003cbr\\u003e\\n    Precipitation: \\u003cb\\u003e305.9\\u003c\\u002fb\\u003e\\u003cbr\\u003e\\n    DT: \\u003cb\\u003e12.1\\u003c\\u002fb\\u003e\\u003cbr\\u003e\\n    \",\"99348\",\"Kojur\"],[\"\\n    Station Name: \\u003cb\\u003eBaladeh\\u003c\\u002fb\\u003e\\u003cbr\\u003e\\n    Station ID: \\u003cb\\u003e99357\\u003c\\u002fb\\u003e\\u003cbr\\u003e\\n    Province: \\u003cb\\u003eMazandaran\\u003c\\u002fb\\u003e\\u003cbr\\u003e\\n    Latitude: \\u003cb\\u003e36.198\\u003c\\u002fb\\u003e\\u003cbr\\u003e\\n    Longitude: \\u003cb\\u003e51.801\\u003c\\u002fb\\u003e\\u003cbr\\u003e\\n    Elevation: \\u003cb\\u003e2120.0 m\\u003c\\u002fb\\u003e\\u003cbr\\u003e\\n    Temperature: \\u003cb\\u003e9.4\\u003c\\u002fb\\u003e\\u003cbr\\u003e\\n    Precipitation: \\u003cb\\u003e292.5\\u003c\\u002fb\\u003e\\u003cbr\\u003e\\n    DT: \\u003cb\\u003e13.6\\u003c\\u002fb\\u003e\\u003cbr\\u003e\\n    \",\"99357\",\"Baladeh\"],[\"\\n    Station Name: \\u003cb\\u003eAlasht\\u003c\\u002fb\\u003e\\u003cbr\\u003e\\n    Station ID: \\u003cb\\u003e99361\\u003c\\u002fb\\u003e\\u003cbr\\u003e\\n    Province: \\u003cb\\u003eMazandaran\\u003c\\u002fb\\u003e\\u003cbr\\u003e\\n    Latitude: \\u003cb\\u003e36.071\\u003c\\u002fb\\u003e\\u003cbr\\u003e\\n    Longitude: \\u003cb\\u003e52.843\\u003c\\u002fb\\u003e\\u003cbr\\u003e\\n    Elevation: \\u003cb\\u003e1805.0 m\\u003c\\u002fb\\u003e\\u003cbr\\u003e\\n    Temperature: \\u003cb\\u003e11.3\\u003c\\u002fb\\u003e\\u003cbr\\u003e\\n    Precipitation: \\u003cb\\u003e500.9\\u003c\\u002fb\\u003e\\u003cbr\\u003e\\n    DT: \\u003cb\\u003e8.7\\u003c\\u002fb\\u003e\\u003cbr\\u003e\\n    \",\"99361\",\"Alasht\"]],\"hovertemplate\":\"%{customdata[0]}\",\"hovertext\":[\"Siahbisheh\",\"Kiyasar\",\"Jirandeh\",\"Masuleh\",\"Kojur\",\"Baladeh\",\"Alasht\"],\"lat\":[36.231,36.248,36.708,37.15,36.39,36.198,36.071],\"legendgroup\":\"2\",\"lon\":[51.303,53.546,49.802,48.983,51.729,51.801,52.843],\"marker\":{\"color\":\"darkblue\",\"size\":20},\"mode\":\"markers+text\",\"name\":\"2\",\"showlegend\":true,\"subplot\":\"mapbox\",\"text\":[\"Siahbisheh\",\"Kiyasar\",\"Jirandeh\",\"Masuleh\",\"Kojur\",\"Baladeh\",\"Alasht\"],\"type\":\"scattermapbox\",\"textfont\":{\"color\":\"black\",\"size\":14},\"textposition\":\"top right\"}],                        {\"template\":{\"data\":{\"histogram2dcontour\":[{\"type\":\"histogram2dcontour\",\"colorbar\":{\"outlinewidth\":0,\"ticks\":\"\"},\"colorscale\":[[0.0,\"#0d0887\"],[0.1111111111111111,\"#46039f\"],[0.2222222222222222,\"#7201a8\"],[0.3333333333333333,\"#9c179e\"],[0.4444444444444444,\"#bd3786\"],[0.5555555555555556,\"#d8576b\"],[0.6666666666666666,\"#ed7953\"],[0.7777777777777778,\"#fb9f3a\"],[0.8888888888888888,\"#fdca26\"],[1.0,\"#f0f921\"]]}],\"choropleth\":[{\"type\":\"choropleth\",\"colorbar\":{\"outlinewidth\":0,\"ticks\":\"\"}}],\"histogram2d\":[{\"type\":\"histogram2d\",\"colorbar\":{\"outlinewidth\":0,\"ticks\":\"\"},\"colorscale\":[[0.0,\"#0d0887\"],[0.1111111111111111,\"#46039f\"],[0.2222222222222222,\"#7201a8\"],[0.3333333333333333,\"#9c179e\"],[0.4444444444444444,\"#bd3786\"],[0.5555555555555556,\"#d8576b\"],[0.6666666666666666,\"#ed7953\"],[0.7777777777777778,\"#fb9f3a\"],[0.8888888888888888,\"#fdca26\"],[1.0,\"#f0f921\"]]}],\"heatmap\":[{\"type\":\"heatmap\",\"colorbar\":{\"outlinewidth\":0,\"ticks\":\"\"},\"colorscale\":[[0.0,\"#0d0887\"],[0.1111111111111111,\"#46039f\"],[0.2222222222222222,\"#7201a8\"],[0.3333333333333333,\"#9c179e\"],[0.4444444444444444,\"#bd3786\"],[0.5555555555555556,\"#d8576b\"],[0.6666666666666666,\"#ed7953\"],[0.7777777777777778,\"#fb9f3a\"],[0.8888888888888888,\"#fdca26\"],[1.0,\"#f0f921\"]]}],\"heatmapgl\":[{\"type\":\"heatmapgl\",\"colorbar\":{\"outlinewidth\":0,\"ticks\":\"\"},\"colorscale\":[[0.0,\"#0d0887\"],[0.1111111111111111,\"#46039f\"],[0.2222222222222222,\"#7201a8\"],[0.3333333333333333,\"#9c179e\"],[0.4444444444444444,\"#bd3786\"],[0.5555555555555556,\"#d8576b\"],[0.6666666666666666,\"#ed7953\"],[0.7777777777777778,\"#fb9f3a\"],[0.8888888888888888,\"#fdca26\"],[1.0,\"#f0f921\"]]}],\"contourcarpet\":[{\"type\":\"contourcarpet\",\"colorbar\":{\"outlinewidth\":0,\"ticks\":\"\"}}],\"contour\":[{\"type\":\"contour\",\"colorbar\":{\"outlinewidth\":0,\"ticks\":\"\"},\"colorscale\":[[0.0,\"#0d0887\"],[0.1111111111111111,\"#46039f\"],[0.2222222222222222,\"#7201a8\"],[0.3333333333333333,\"#9c179e\"],[0.4444444444444444,\"#bd3786\"],[0.5555555555555556,\"#d8576b\"],[0.6666666666666666,\"#ed7953\"],[0.7777777777777778,\"#fb9f3a\"],[0.8888888888888888,\"#fdca26\"],[1.0,\"#f0f921\"]]}],\"surface\":[{\"type\":\"surface\",\"colorbar\":{\"outlinewidth\":0,\"ticks\":\"\"},\"colorscale\":[[0.0,\"#0d0887\"],[0.1111111111111111,\"#46039f\"],[0.2222222222222222,\"#7201a8\"],[0.3333333333333333,\"#9c179e\"],[0.4444444444444444,\"#bd3786\"],[0.5555555555555556,\"#d8576b\"],[0.6666666666666666,\"#ed7953\"],[0.7777777777777778,\"#fb9f3a\"],[0.8888888888888888,\"#fdca26\"],[1.0,\"#f0f921\"]]}],\"mesh3d\":[{\"type\":\"mesh3d\",\"colorbar\":{\"outlinewidth\":0,\"ticks\":\"\"}}],\"scatter\":[{\"fillpattern\":{\"fillmode\":\"overlay\",\"size\":10,\"solidity\":0.2},\"type\":\"scatter\"}],\"parcoords\":[{\"type\":\"parcoords\",\"line\":{\"colorbar\":{\"outlinewidth\":0,\"ticks\":\"\"}}}],\"scatterpolargl\":[{\"type\":\"scatterpolargl\",\"marker\":{\"colorbar\":{\"outlinewidth\":0,\"ticks\":\"\"}}}],\"bar\":[{\"error_x\":{\"color\":\"#2a3f5f\"},\"error_y\":{\"color\":\"#2a3f5f\"},\"marker\":{\"line\":{\"color\":\"#E5ECF6\",\"width\":0.5},\"pattern\":{\"fillmode\":\"overlay\",\"size\":10,\"solidity\":0.2}},\"type\":\"bar\"}],\"scattergeo\":[{\"type\":\"scattergeo\",\"marker\":{\"colorbar\":{\"outlinewidth\":0,\"ticks\":\"\"}}}],\"scatterpolar\":[{\"type\":\"scatterpolar\",\"marker\":{\"colorbar\":{\"outlinewidth\":0,\"ticks\":\"\"}}}],\"histogram\":[{\"marker\":{\"pattern\":{\"fillmode\":\"overlay\",\"size\":10,\"solidity\":0.2}},\"type\":\"histogram\"}],\"scattergl\":[{\"type\":\"scattergl\",\"marker\":{\"colorbar\":{\"outlinewidth\":0,\"ticks\":\"\"}}}],\"scatter3d\":[{\"type\":\"scatter3d\",\"line\":{\"colorbar\":{\"outlinewidth\":0,\"ticks\":\"\"}},\"marker\":{\"colorbar\":{\"outlinewidth\":0,\"ticks\":\"\"}}}],\"scattermapbox\":[{\"type\":\"scattermapbox\",\"marker\":{\"colorbar\":{\"outlinewidth\":0,\"ticks\":\"\"}}}],\"scatterternary\":[{\"type\":\"scatterternary\",\"marker\":{\"colorbar\":{\"outlinewidth\":0,\"ticks\":\"\"}}}],\"scattercarpet\":[{\"type\":\"scattercarpet\",\"marker\":{\"colorbar\":{\"outlinewidth\":0,\"ticks\":\"\"}}}],\"carpet\":[{\"aaxis\":{\"endlinecolor\":\"#2a3f5f\",\"gridcolor\":\"white\",\"linecolor\":\"white\",\"minorgridcolor\":\"white\",\"startlinecolor\":\"#2a3f5f\"},\"baxis\":{\"endlinecolor\":\"#2a3f5f\",\"gridcolor\":\"white\",\"linecolor\":\"white\",\"minorgridcolor\":\"white\",\"startlinecolor\":\"#2a3f5f\"},\"type\":\"carpet\"}],\"table\":[{\"cells\":{\"fill\":{\"color\":\"#EBF0F8\"},\"line\":{\"color\":\"white\"}},\"header\":{\"fill\":{\"color\":\"#C8D4E3\"},\"line\":{\"color\":\"white\"}},\"type\":\"table\"}],\"barpolar\":[{\"marker\":{\"line\":{\"color\":\"#E5ECF6\",\"width\":0.5},\"pattern\":{\"fillmode\":\"overlay\",\"size\":10,\"solidity\":0.2}},\"type\":\"barpolar\"}],\"pie\":[{\"automargin\":true,\"type\":\"pie\"}]},\"layout\":{\"autotypenumbers\":\"strict\",\"colorway\":[\"#636efa\",\"#EF553B\",\"#00cc96\",\"#ab63fa\",\"#FFA15A\",\"#19d3f3\",\"#FF6692\",\"#B6E880\",\"#FF97FF\",\"#FECB52\"],\"font\":{\"color\":\"#2a3f5f\"},\"hovermode\":\"closest\",\"hoverlabel\":{\"align\":\"left\"},\"paper_bgcolor\":\"white\",\"plot_bgcolor\":\"#E5ECF6\",\"polar\":{\"bgcolor\":\"#E5ECF6\",\"angularaxis\":{\"gridcolor\":\"white\",\"linecolor\":\"white\",\"ticks\":\"\"},\"radialaxis\":{\"gridcolor\":\"white\",\"linecolor\":\"white\",\"ticks\":\"\"}},\"ternary\":{\"bgcolor\":\"#E5ECF6\",\"aaxis\":{\"gridcolor\":\"white\",\"linecolor\":\"white\",\"ticks\":\"\"},\"baxis\":{\"gridcolor\":\"white\",\"linecolor\":\"white\",\"ticks\":\"\"},\"caxis\":{\"gridcolor\":\"white\",\"linecolor\":\"white\",\"ticks\":\"\"}},\"coloraxis\":{\"colorbar\":{\"outlinewidth\":0,\"ticks\":\"\"}},\"colorscale\":{\"sequential\":[[0.0,\"#0d0887\"],[0.1111111111111111,\"#46039f\"],[0.2222222222222222,\"#7201a8\"],[0.3333333333333333,\"#9c179e\"],[0.4444444444444444,\"#bd3786\"],[0.5555555555555556,\"#d8576b\"],[0.6666666666666666,\"#ed7953\"],[0.7777777777777778,\"#fb9f3a\"],[0.8888888888888888,\"#fdca26\"],[1.0,\"#f0f921\"]],\"sequentialminus\":[[0.0,\"#0d0887\"],[0.1111111111111111,\"#46039f\"],[0.2222222222222222,\"#7201a8\"],[0.3333333333333333,\"#9c179e\"],[0.4444444444444444,\"#bd3786\"],[0.5555555555555556,\"#d8576b\"],[0.6666666666666666,\"#ed7953\"],[0.7777777777777778,\"#fb9f3a\"],[0.8888888888888888,\"#fdca26\"],[1.0,\"#f0f921\"]],\"diverging\":[[0,\"#8e0152\"],[0.1,\"#c51b7d\"],[0.2,\"#de77ae\"],[0.3,\"#f1b6da\"],[0.4,\"#fde0ef\"],[0.5,\"#f7f7f7\"],[0.6,\"#e6f5d0\"],[0.7,\"#b8e186\"],[0.8,\"#7fbc41\"],[0.9,\"#4d9221\"],[1,\"#276419\"]]},\"xaxis\":{\"gridcolor\":\"white\",\"linecolor\":\"white\",\"ticks\":\"\",\"title\":{\"standoff\":15},\"zerolinecolor\":\"white\",\"automargin\":true,\"zerolinewidth\":2},\"yaxis\":{\"gridcolor\":\"white\",\"linecolor\":\"white\",\"ticks\":\"\",\"title\":{\"standoff\":15},\"zerolinecolor\":\"white\",\"automargin\":true,\"zerolinewidth\":2},\"scene\":{\"xaxis\":{\"backgroundcolor\":\"#E5ECF6\",\"gridcolor\":\"white\",\"linecolor\":\"white\",\"showbackground\":true,\"ticks\":\"\",\"zerolinecolor\":\"white\",\"gridwidth\":2},\"yaxis\":{\"backgroundcolor\":\"#E5ECF6\",\"gridcolor\":\"white\",\"linecolor\":\"white\",\"showbackground\":true,\"ticks\":\"\",\"zerolinecolor\":\"white\",\"gridwidth\":2},\"zaxis\":{\"backgroundcolor\":\"#E5ECF6\",\"gridcolor\":\"white\",\"linecolor\":\"white\",\"showbackground\":true,\"ticks\":\"\",\"zerolinecolor\":\"white\",\"gridwidth\":2}},\"shapedefaults\":{\"line\":{\"color\":\"#2a3f5f\"}},\"annotationdefaults\":{\"arrowcolor\":\"#2a3f5f\",\"arrowhead\":0,\"arrowwidth\":1},\"geo\":{\"bgcolor\":\"white\",\"landcolor\":\"#E5ECF6\",\"subunitcolor\":\"white\",\"showland\":true,\"showlakes\":true,\"lakecolor\":\"white\"},\"title\":{\"x\":0.05},\"mapbox\":{\"style\":\"light\"}}},\"mapbox\":{\"domain\":{\"x\":[0.0,1.0],\"y\":[0.0,1.0]},\"center\":{\"lat\":36.81033333333333,\"lon\":51.333208333333324},\"zoom\":6,\"layers\":[{\"below\":\"traces\",\"color\":\"black\",\"line\":{\"width\":2},\"source\":{\"type\":\"FeatureCollection\",\"features\":[{\"id\":\"0\",\"type\":\"Feature\",\"properties\":{\"Ostan\":\"\\u0645\\u0627\\u0632\\u0646\\u062f\\u0631\\u0627\\u0646\",\"Markaz\":\"\\u0633\\u0627\\u0631\\u06cc\"},\"geometry\":{\"type\":\"Polygon\",\"coordinates\":[[[53.63523633800014,36.80748057500023],[53.63319350900014,36.807089924000195],[53.63145938700018,36.807438096000226],[53.63033815600022,36.80794653000015],[53.62976708600024,36.808660369000165],[53.62967190700027,36.809374207000246],[53.63048092400015,36.80965974200018],[53.63228931400022,36.81061152700016],[53.63438324000009,36.81127777600011],[53.635239846000275,36.81137295400015],[53.63590609500022,36.811658490000184],[53.63681029000014,36.812039203000154],[53.63747653900015,36.81113500800018],[53.63761930700019,36.8105639380002],[53.63847591300021,36.81008804500016],[53.63961805400015,36.80980251000028],[53.640427071000204,36.80951697500018],[53.640665017000174,36.809088672000144],[53.64061742800021,36.808660369000165],[53.64004635700013,36.808327244000225],[53.63890421600024,36.808184477000225],[53.63804761000023,36.80804170900012],[53.63714341500025,36.80780376300015],[53.6363007770002,36.8077791460002],[53.63523633800014,36.80748057500023]]]},\"bbox\":[53.62967190700027,36.807089924000195,53.640665017000174,36.812039203000154]},{\"id\":\"1\",\"type\":\"Feature\",\"properties\":{\"Ostan\":\"\\u0645\\u0627\\u0632\\u0646\\u062f\\u0631\\u0627\\u0646\",\"Markaz\":\"\\u0633\\u0627\\u0631\\u06cc\"},\"geometry\":{\"type\":\"Polygon\",\"coordinates\":[[[53.626483429000245,36.809088672000144],[53.62510411000022,36.808054030000164],[53.62410386100015,36.8081572280002],[53.621534150000286,36.80813688700022],[53.6186787970002,36.808422423000195],[53.61563308700022,36.809088672000144],[53.612587377000125,36.80985009900019],[53.61030309500012,36.81023081300009],[53.608113990000106,36.81080188400017],[53.60697184900016,36.81222956000016],[53.606210422000174,36.813181345000146],[53.60459238800024,36.813562058000116],[53.60278399800018,36.81394277200019],[53.60145150000022,36.814323486000205],[53.6009637100002,36.814954043000284],[53.60423546900029,36.81644120600009],[53.605722632000095,36.818671951000226],[53.60825080900014,36.821200128000214],[53.611522568000225,36.82179499400024],[53.614050746000146,36.82149756100023],[53.61538919200024,36.820456547000276],[53.61671250500018,36.81918196300012],[53.618012548000195,36.81841615900021],[53.61972576000022,36.81832098000024],[53.621534150000286,36.81708366100008],[53.622866649000116,36.816417412000305],[53.623437719000094,36.81518009200022],[53.62438950400025,36.8144186640003],[53.626102716000275,36.813181345000146],[53.62667378600008,36.81222956000016],[53.626768965000224,36.81080188400017],[53.626768965000224,36.80985009900019],[53.626483429000245,36.809088672000144]]]},\"bbox\":[53.6009637100002,36.808054030000164,53.626768965000224,36.82179499400024]},{\"id\":\"2\",\"type\":\"Feature\",\"properties\":{\"Ostan\":\"\\u0645\\u0627\\u0632\\u0646\\u062f\\u0631\\u0627\\u0646\",\"Markaz\":\"\\u0633\\u0627\\u0631\\u06cc\"},\"geometry\":{\"type\":\"Polygon\",\"coordinates\":[[[53.61992008300018,36.8537888300001],[53.62263266800022,36.85336052700012],[53.625488022000184,36.85364606200022],[53.62777230400019,36.854217133000134],[53.631698415000244,36.85478820300011],[53.634233356000095,36.85361713800012],[53.635910061000175,36.85171869900017],[53.637337737000166,36.84864919400013],[53.63819434300018,36.84672183000015],[53.63801158400008,36.84541577400012],[53.63769465600012,36.84379509300021],[53.63526760600024,36.843295407000085],[53.63255502100026,36.8442947800001],[53.63055627300025,36.84486585100018],[53.626987082000085,36.845793841000216],[53.62391757700021,36.846222144000194],[53.62220436500019,36.846222144000194],[53.620919456000195,36.8464362950001],[53.61992008300018,36.847007366000184],[53.61813548700019,36.847721204000095],[53.61681488600021,36.848458837000294],[53.61569653900017,36.848720578000155],[53.61429265700019,36.84898231800014],[53.612983954000185,36.84983892400015],[53.61153724200017,36.85076215500027],[53.60936717300012,36.85076215500027],[53.608796103000145,36.84979133500019],[53.608282139000266,36.84796390900016],[53.60731131900019,36.8471073030002],[53.60576942800009,36.84744994500011],[53.603770681000185,36.84939158600008],[53.601594664000174,36.84955219900013],[53.59906648700013,36.84940348300012],[53.59519986200024,36.848957334000204],[53.59505114600017,36.851039362000165],[53.59490243000016,36.85505470300012],[53.595173688000216,36.85545445200029],[53.59717243600022,36.855930345000104],[53.60007537800021,36.856549004000215],[53.60354939100017,36.85754837800016],[53.60569090600018,36.85773873500017],[53.60773724200021,36.85797668100014],[53.60954563300015,36.8578815030001],[53.610973309000144,36.85754837800016],[53.61278170000014,36.85683454000025],[53.61513736600017,36.855930345000104],[53.617992719000085,36.85414574900028],[53.61992008300018,36.8537888300001]]]},\"bbox\":[53.59490243000016,36.843295407000085,53.63819434300018,36.85797668100014]},{\"id\":\"3\",\"type\":\"Feature\",\"properties\":{\"Ostan\":\"\\u0645\\u0627\\u0632\\u0646\\u062f\\u0631\\u0627\\u0646\",\"Markaz\":\"\\u0633\\u0627\\u0631\\u06cc\"},\"geometry\":{\"type\":\"Polygon\",\"coordinates\":[[[50.78149817100024,36.86863971400021],[50.7839028260002,36.86610146700025],[50.79722780700018,36.86027178800026],[50.803295433000244,36.85848719200021],[50.809244085000216,36.854918001000215],[50.82054652500011,36.848612429000184],[50.83244383000016,36.84361556100009],[50.845292920000134,36.839213558000154],[50.857190225000124,36.83564436700016],[50.86432860800022,36.83314593200009],[50.87063417900015,36.83005263300021],[50.87872434700023,36.825293711000086],[50.887647325000216,36.820772735000105],[50.891216517000146,36.81720354400011],[50.89621338500024,36.81375332500022],[50.90239998400028,36.80875645700013],[50.910728097000174,36.80518726600013],[50.920840807000275,36.79923861300023],[50.92807588600016,36.7953799040003],[50.93154838100014,36.79352790700028],[50.943564659000174,36.78769822700019],[50.95415326100016,36.78317725100021],[50.966080281000245,36.77819983400025],[50.96926283800025,36.77687168000011],[50.98687084900024,36.77127994600022],[50.99638869300014,36.766877943000225],[50.9998389120002,36.76497437500012],[51.002533802000244,36.763628820000235],[51.011087842000165,36.75935780100025],[51.03773780400019,36.750315849000174],[51.056059654000194,36.74448616900008],[51.07402458400014,36.74091697800009],[51.07747480300009,36.73937032800018],[51.08011124600017,36.73812824900017],[51.091342302000214,36.735368075000224],[51.10057461000031,36.73260790000023],[51.1087599560002,36.7309898660003],[51.12075244000022,36.72775379900014],[51.12770046600025,36.726135766000084],[51.13455331400024,36.72375630500011],[51.14435669300019,36.72223345000015],[51.14787829500011,36.7215672010002],[51.1506384700001,36.720615416000214],[51.15686996000022,36.71977205600024],[51.163297202000194,36.718902204000244],[51.180143786000144,36.715190245000144],[51.20517571600027,36.7110975720002],[51.218976590000125,36.70909882500024],[51.22000454300019,36.70895666100023],[51.227923363000286,36.70786150500021],[51.242676022000296,36.70586275800014],[51.246547029000226,36.70542215600028],[51.25438297000011,36.70453026000018],[51.258285286000216,36.70319776200023],[51.26409117100019,36.70148455000026],[51.268183844000134,36.701103836000186],[51.2717054470001,36.70138937100029],[51.27427526400021,36.701294193000194],[51.27627401100011,36.70034240900014],[51.27865347200009,36.69891473200022],[51.281508825000174,36.69748705500018],[51.284744892000106,36.69720152000025],[51.28557497400021,36.69730528000014],[51.288552030000176,36.69767741200019],[51.29635666200022,36.6965352710003],[51.31958020100018,36.69453652400017],[51.322625912000206,36.69377509600008],[51.326718584000105,36.6931088470003],[51.336902677000126,36.69244259800013],[51.35260712100029,36.690919743000165],[51.36269603500017,36.69015831600012],[51.36659835100028,36.69015831600012],[51.36916816900009,36.68930171000011],[51.386681002000216,36.68901617400013],[51.38971658500009,36.68875530400021],[51.39886384200014,36.68796921100011],[51.41133221800027,36.686731892000125],[51.42085006100024,36.68654153500012],[51.426084876000175,36.68558975000013],[51.430272727000215,36.68416207400014],[51.434650936000196,36.68083082800018],[51.440551999000206,36.67730922600015],[51.44388324400023,36.67492976500017],[51.44645306200022,36.67369244500014],[51.45133447300009,36.67352116700016],[51.451878233000116,36.67350208800025],[51.454733587000135,36.67131298400017],[51.460539471000175,36.66645888400018],[51.46368036000024,36.66446013700022],[51.46881999600009,36.66322281700019],[51.47862337500021,36.661795140000095],[51.4834774750002,36.66103371300022],[51.48604729300024,36.65932050100008],[51.49118692900021,36.6583687170002],[51.49689763500021,36.65903496600015],[51.49908674000022,36.65979639300019],[51.50070477300028,36.6583687170002],[51.500895129000185,36.65627479100016],[51.500609595000185,36.65522782800031],[51.50184691400017,36.65332425900027],[51.50498780300023,36.652658010000096],[51.50993708200025,36.651420690000236],[51.51640921600017,36.64970747800021],[51.52288135000009,36.64685212500012],[51.528401699000256,36.64523409200012],[51.53230401500019,36.64494855600009],[51.53573043800009,36.64314016600025],[51.538871328000084,36.641807668000126],[51.545248283000205,36.63904749300025],[51.550007205000156,36.63790535200019],[51.555432376000226,36.636572854000235],[51.56152379600013,36.635335534000205],[51.56609236200012,36.6346692850002],[51.56999467800023,36.63314643000024],[51.572659674000306,36.63190911000021],[51.57551502600012,36.62981518400011],[51.577513774000124,36.62914893500016],[51.5795125220003,36.62886340000023],[51.5815112690002,36.62715018800009],[51.58550876300018,36.62286715800025],[51.59083875600021,36.617727523000156],[51.60073731400013,36.61515770500017],[51.612634619000175,36.61077949600019],[51.62353083900024,36.60764594300019],[51.627196920000245,36.60659164500015],[51.64366279000018,36.6022134370001],[51.64804099900016,36.60011951100023],[51.650801173000275,36.59954844000015],[51.65451313300025,36.59964361900012],[51.656892594000226,36.59897737000017],[51.658986519000166,36.597835229000225],[51.66412615400009,36.59716897900017],[51.66736222200012,36.597264158000144],[51.66926579100016,36.59716897900017],[51.67269221400028,36.59640755200013],[51.674215070000116,36.59574130300018],[51.677736671000105,36.59497987500026],[51.682305237000094,36.59450398300015],[51.685541305000186,36.59421844800022],[51.687540051000155,36.59374255600011],[51.690871297000115,36.59260041400012],[51.69867592900016,36.59260041400012],[51.712381624000216,36.59079202400022],[51.71894893700011,36.590030596000304],[51.727610175000166,36.58936434700013],[51.73170284800017,36.58888845500019],[51.742648368000175,36.58822220600024],[51.76377798200019,36.586413816000174],[51.77795957000012,36.586318637000204],[51.787858127000106,36.586318637000204],[51.7984229340002,36.5856523880002],[51.80270596400021,36.58489096100021],[51.806227566000246,36.58441506800017],[51.81060577400012,36.58374881900022],[51.81403219800012,36.58336810600025],[51.8166971950003,36.58127418000015],[51.81955254800022,36.57956096800018],[51.8241211130001,36.577752578000116],[51.83068842500029,36.57575383000011],[51.841253232000156,36.57385026200018],[51.853423910000174,36.57302791800015],[51.855339641000114,36.572898477000194],[51.87389943700009,36.57213705000015],[51.9069263570002,36.57051901600022],[51.9331804680001,36.57134498800019],[51.949280762000114,36.57185151400017],[51.97726322300019,36.57432615400012],[51.991826631000094,36.57622809100019],[52.00277104500026,36.577657399000145],[52.03113422200016,36.58289221300021],[52.036940105000156,36.583653641000126],[52.040937600000234,36.58460542500018],[52.047314555000185,36.58498613900025],[52.064781936000145,36.58835224800015],[52.065588816000115,36.588507741000114],[52.09947234100025,36.59583648100022],[52.14135085400011,36.60583021700023],[52.15534208500014,36.61077949600019],[52.17484196100014,36.61594502700012],[52.1840859740002,36.61839377200016],[52.217683963000184,36.62800679400027],[52.24557124600017,36.635335534000205],[52.26993692700012,36.64085588300014],[52.2813583410001,36.64447266400015],[52.291365561000134,36.647197845000164],[52.30267831000015,36.65027854900012],[52.31514668600022,36.65284836700016],[52.32533231400009,36.654945408000174],[52.34427128900012,36.65884460900014],[52.37177785800009,36.665602278000165],[52.405484395000144,36.67382113200017],[52.406517989000236,36.67407315900016],[52.42079475500026,36.67835618900017],[52.435832947000165,36.681972970000174],[52.46286362500024,36.68520903700016],[52.469887227000186,36.68614048200021],[52.48941841100026,36.6887306390002],[52.49998321700025,36.690443851000225],[52.53452671000014,36.694401959000174],[52.53653173800012,36.694631702000265],[52.5674647310002,36.6962497360002],[52.58017656200013,36.69869257900024],[52.594209873000125,36.70138937100029],[52.641418379000186,36.71014578800009],[52.65264943500023,36.71252524900024],[52.664832276000254,36.714619175000166],[52.66753116700016,36.714776698000094],[52.68929313500024,36.71604685100016],[52.7149814230001,36.721330258000194],[52.7161334540001,36.7215672010002],[52.75391929600016,36.72851522700023],[52.78437639700013,36.73175129400022],[52.811502252000196,36.73546325300015],[52.83405954300031,36.74069806700015],[52.845500962000244,36.74323090100012],[52.87146466900009,36.74897859200024],[52.90820354700014,36.75744947300012],[52.91933808500022,36.760479974000134],[52.939326897000115,36.765920354000116],[52.97663684600013,36.77572373300029],[52.995196641000234,36.78076819100022],[53.0061759940001,36.78357093700009],[53.04031122200024,36.79228478200014],[53.07248153400019,36.80170744700024],[53.1125516580002,36.8141758230002],[53.12549592600027,36.81674564100018],[53.1467207180001,36.82140938500021],[53.15704289300021,36.82328614400018],[53.161378198000136,36.824074381000116],[53.198117076000244,36.8306416930003],[53.20544581600018,36.83140312100022],[53.20820599100023,36.83130794200025],[53.20925295400025,36.83092722900011],[53.21144205800016,36.83073687200027],[53.21458294600018,36.832259727000235],[53.224195969000164,36.83416329600027],[53.24105190900025,36.83710996400015],[53.254731244000084,36.839501315000234],[53.26374858700018,36.84124235200011],[53.273290225000096,36.84288418000028],[53.28114244700015,36.84413339700012],[53.29071977700016,36.8456800470002],[53.29922635000014,36.846929264000096],[53.30571038200014,36.84788104800015],[53.3149307930002,36.84895180500018],[53.32980242400009,36.85085537400022],[53.341521270000214,36.8518071590002],[53.35093203800011,36.85341329500022],[53.36276985700016,36.8547814850001],[53.37460767500016,36.85656608100015],[53.39589433300017,36.85957609900015],[53.41074217000022,36.86128931100012],[53.42787428900016,36.86300252300015],[53.445720247000224,36.86514403800015],[53.455595010000195,36.86601492000028],[53.470062133000226,36.86829920300016],[53.4795799770003,36.869060630000206],[53.4866231810002,36.87001241500019],[53.49633138200011,36.87115455600025],[53.507752795000215,36.87210634000013],[53.51784171000014,36.872867768000276],[53.53078597800021,36.874009909000165],[53.54696631200011,36.875723121000135],[53.56181414900021,36.87667490600012],[53.576281272000244,36.878768831000116],[53.58903518300025,36.879530259000205],[53.59812402000023,36.88068128300023],[53.60469133300012,36.88142367500018],[53.610287825000114,36.88188053200008],[53.615541675000145,36.882680031000234],[53.6201102400002,36.883365315000106],[53.62587805400017,36.88376506500015],[53.631817188000184,36.88456456400013],[53.63659133900023,36.885105177000185],[53.64258758100027,36.8858666050001],[53.64839346500014,36.886152140000206],[53.65467524200022,36.886342497000214],[53.65829202300023,36.886818389000155],[53.66352683700012,36.887294281000095],[53.67057004200012,36.88815088700011],[53.68036152400009,36.8889301610003],[53.690028084000176,36.88952502600023],[53.699099779000164,36.8902686080001],[53.70642257100013,36.89068178400015],[53.715100300000245,36.89178957900009],[53.71760603700017,36.89210946000014],[53.72807566600022,36.8932991910001],[53.73783145600021,36.89401302900018],[53.74853903000013,36.8954407060001],[53.761150174000136,36.897106328000234],[53.77233364100027,36.89805811300022],[53.784944784000174,36.89972373500018],[53.79122758700015,36.900477672000136],[53.79707333400023,36.89240430900014],[53.80378341400012,36.883409947000246],[53.808351979000236,36.87669986600008],[53.80423876700024,36.87675320000022],[53.79654987200024,36.87584862400013],[53.78871021400016,36.87630091200009],[53.78147360700012,36.87675320000022],[53.77288013600008,36.878110064000225],[53.766554699000096,36.87716151100017],[53.76323132600021,36.87584862400013],[53.75825615900021,36.87283337100018],[53.75388404200021,36.87011964300018],[53.74800429900017,36.86981811800018],[53.74109936900015,36.87027040600009],[53.737782591000155,36.86996888100009],[53.736124202000155,36.867104391000225],[53.73416428700011,36.86439066300022],[53.72662615500025,36.86439066300022],[53.72119870000017,36.863938375000146],[53.713509804000296,36.86363685000015],[53.71245953200025,36.86328111200021],[53.704162520000125,36.86047083400018],[53.69421218500008,36.85956625800014],[53.68652329000025,36.858963207000215],[53.67823134500014,36.858963207000215],[53.666427124000165,36.86061522000023],[53.66047847200019,36.85883062400018],[53.652745223000124,36.86269724800019],[53.64471454200009,36.86210238300009],[53.639063322000254,36.86388697900014],[53.63063838000022,36.86232833900016],[53.62567885400017,36.86358954600013],[53.61764817300019,36.86626644000012],[53.60932006000024,36.86775360300015],[53.60366884000018,36.868943333000175],[53.59861248500022,36.868051035000235],[53.594448429000124,36.866861305000214],[53.59087923700025,36.864184411000224],[53.5890946410002,36.86180495000025],[53.58471643300015,36.862304637000136],[53.57957679700013,36.86154320900022],[53.572343236000165,36.8604010680001],[53.56301574900016,36.85982999700019],[53.556010616000094,36.85944928400022],[53.55772382700019,36.85621321700023],[53.56038882400014,36.856974644000104],[53.563601096000184,36.85602286000022],[53.56831242900017,36.85430964800025],[53.57195300400019,36.85352442600009],[53.573880368000175,36.85295335500018],[53.57516527700017,36.85159706200017],[53.57766371100013,36.85102599200013],[53.580019377000156,36.84931278000016],[53.581803973000206,36.84874170900025],[53.58423102300014,36.8488130930001],[53.586729457000274,36.84902724500023],[53.58808575000012,36.84809925500019],[53.59008449700019,36.846457427000246],[53.592011861000174,36.84453006300009],[53.59351092100019,36.84224578100009],[53.593439537000165,36.84081810400022],[53.59293985000011,36.839818730000104],[53.59186909300024,36.83974734700013],[53.59086971900018,36.840960872000096],[53.589156507000155,36.842174397000235],[53.58751467900021,36.84281685100012],[53.58637253800009,36.84188886200013],[53.58615362800015,36.840885324000226],[53.585766965000175,36.84020122900023],[53.58517210000025,36.839249444000245],[53.58386339600014,36.838059714000224],[53.58332801800009,36.83722690300016],[53.58332801800009,36.83615614500019],[53.58362545000017,36.83508538800015],[53.583419627000126,36.83375836200014],[53.58393359000013,36.832844649000094],[53.585589695000294,36.83153118700017],[53.58621787300018,36.82970376100013],[53.58604655200014,36.828218977000176],[53.58524705300016,36.827248157000156],[53.58393359000013,36.82639155100014],[53.582391700000244,36.826277337000136],[53.58124955800025,36.825934694000125],[53.57987898900029,36.826220230000104],[53.578394205000166,36.82576337300026],[53.57656677900013,36.82519230300022],[53.57513910300014,36.825706266000225],[53.57354010500018,36.8242214830002],[53.57182689300015,36.82325066200025],[53.5707989660001,36.821822986000086],[53.5693141820002,36.82130902200021],[53.56760097000017,36.821480343000246],[53.56565933000013,36.82227984200023],[53.5639461180001,36.82205141400016],[53.56286970600024,36.822180451000236],[53.56160472800019,36.82262248500024],[53.55983440900019,36.82427859000023],[53.55772144800022,36.82559205200016],[53.55509452300021,36.826220230000104],[53.551610992000235,36.827419478000195],[53.54847010400022,36.82844740500025],[53.54681399900022,36.82884715500012],[53.54424418100024,36.82907558300019],[53.54133172100012,36.82890426200015],[53.53847636700016,36.82970376100013],[53.53653472700023,36.830160617000104],[53.533450946000244,36.8294182250001],[53.5312808770002,36.82930401100009],[53.52863967600024,36.8285987390002],[53.52471356500024,36.828384587000244],[53.52242928200013,36.828384587000244],[53.52207236300018,36.82931257700028],[53.52307173700024,36.83038333500019],[53.52378557500015,36.831239941000206],[53.52264343400009,36.83166824400024],[53.51994517900022,36.83174160200025],[53.5168042370002,36.83081163800023],[53.51273535800027,36.83002641600024],[53.51002277300023,36.82959811300009],[53.507310187000144,36.8290984260002],[53.50217055100018,36.830240567000146],[53.497173683000085,36.830240567000146],[53.49389002700019,36.830240567000146],[53.49017806800009,36.83031195100017],[53.485752270000205,36.83052610200019],[53.472307952000165,36.8330367260001],[53.47351775700014,36.829327439000224],[53.470805172000155,36.82818529700023],[53.47180454500017,36.82604378300016],[53.4737081140002,36.82423539200022],[53.47580204000025,36.82190352000015],[53.4783242690001,36.819857184000114],[53.48179828200023,36.81866745300022],[53.4843205100002,36.81814397200014],[53.486652382000216,36.817715669000165],[53.48850836200012,36.8175253120001],[53.48984086000024,36.818048794000276],[53.49103059000009,36.81833432900015],[53.4930293380001,36.81823915000018],[53.49421906800012,36.81757290100023],[53.495551566000245,36.81614522500024],[53.49726477800027,36.81357540700026],[53.498635348000164,36.8118146060001],[53.50020579200026,36.809244788000115],[53.501871415000096,36.80933996600015],[53.50367980500016,36.80962550200019],[53.50529783900009,36.80986344800016],[53.506582748000085,36.810291751000136],[53.5061068550001,36.81119594600028],[53.506297212000106,36.81214773000016],[53.50824844200025,36.81271947700009],[53.510056761000214,36.81252844400018],[53.51162720500014,36.81157666000013],[53.51305488100013,36.810672464000106],[53.51457773600009,36.81095800000014],[53.515470293000135,36.810882432000085],[53.51667366500021,36.811024014000225],[53.517718625000214,36.81091041100018],[53.51928906900025,36.81038692900023],[53.519717372000116,36.80929237700025],[53.52109746000025,36.80805505700016],[53.52214442200017,36.80748398700018],[53.52401762100021,36.80657430400015],[53.52722982900025,36.8065886440001],[53.53301769700022,36.80653532700018],[53.53509541200009,36.80651940200022],[53.538069929000244,36.8064966030002],[53.543693549000125,36.80645350000009],[53.54778685200017,36.80642198900023],[53.55018248300024,36.806402558000116],[53.55248285400023,36.80622898400014],[53.55543290100013,36.8058887360001],[53.560662980000245,36.805258966000224],[53.566343503000155,36.80457442500011],[53.57045851900011,36.80408003200017],[53.57276947000008,36.80380238600014],[53.57571653000019,36.80422971300021],[53.57812142100016,36.80394550500017],[53.58085548100024,36.80374554500014],[53.583273194000185,36.80349328700021],[53.58550689500015,36.80315395900021],[53.58657883700022,36.80299113600012],[53.597546011000304,36.79874912100024],[53.61087099300022,36.793990198000245],[53.62062678300026,36.79042100700025],[53.6280031120001,36.78732770800019],[53.63680711800009,36.78280673200021],[53.651912056000185,36.77632945600021],[53.65338102800024,36.77784163300015],[53.6535713840002,36.782219841000256],[53.65309549100016,36.78450412400014],[53.65223888600025,36.788882332000185],[53.65338102800024,36.79097625800023],[53.656046025000194,36.793165362000195],[53.657957076000116,36.79488914200016],[53.66090012400031,36.797543570000244],[53.664326548000304,36.7991616030003],[53.67146493100017,36.79697249900016],[53.68459955600025,36.79440268100018],[53.7022075670003,36.79164250700023],[53.71324826700021,36.789834116000236],[53.71571463200024,36.78991059200018],[53.72552628500023,36.79021483000014],[53.73371163100012,36.79107143600015],[53.7491305380002,36.7934508970003],[53.75988570200013,36.79440268100018],[53.765881944000114,36.79373643200017],[53.77225889900012,36.792689470000084],[53.78767909300018,36.79356811300022],[53.79720729300021,36.79380933400017],[53.80806220400012,36.7918795720002],[53.82132931700016,36.78802004800025],[53.83254605800016,36.78802004800025],[53.83893839400025,36.786210896000114],[53.84906964400011,36.785246015000155],[53.84967269500015,36.78355747300026],[53.8505169660001,36.778250628000194],[53.8481351760002,36.76537142400019],[53.84870624700011,36.75918482600025],[53.851942313000166,36.752522335000094],[53.8556542730002,36.74862001900016],[53.85546391600013,36.74576466600024],[53.85137124300019,36.74186235000013],[53.849658030000114,36.73910217500014],[53.85013392300016,36.73434325300019],[53.850514637000174,36.73053611500012],[53.850324280000166,36.72587237200014],[53.85175195700009,36.72044720000014],[53.8538458820002,36.71664006300017],[53.85336999000009,36.71045346400018],[53.851466421000225,36.703410260000226],[53.84842071100013,36.6930358100002],[53.84784964100015,36.68675403300011],[53.850038745000234,36.68161439700009],[53.85298927700012,36.67761690200018],[53.85812891100011,36.673143516000096],[53.86269876700021,36.67136635000014],[53.864981760000205,36.67047851900014],[53.87002621700026,36.66990744900011],[53.87821156300015,36.6697932350001],[53.88277815500015,36.67061207200027],[53.894772612000224,36.67276280200019],[53.93075006100014,36.67813086600029],[53.941391551000265,36.678811921000204],[53.94502682800021,36.679044579000106],[53.95621981300019,36.67607501200018],[53.96467165800027,36.67059273300015],[53.97472250200019,36.6604276760001],[53.9824890620003,36.65368904300021],[53.98865662500015,36.65209004500025],[53.99635850600015,36.65010952800009],[54.0020295180002,36.65004477200023],[54.0043534950002,36.65001815600016],[54.01112513700025,36.64930896400011],[54.01787644700016,36.64860190100012],[54.03797813400013,36.644855678000226],[54.047252321000144,36.64216022400018],[54.06356209900014,36.63603834700018],[54.0801003040001,36.62859158600014],[54.095770483000194,36.61950014100012],[54.10856246500026,36.61091123900019],[54.11829350900018,36.60227665100018],[54.1247808710001,36.59336794900008],[54.12825298100017,36.58377396200024],[54.132273318000216,36.570844923000095],[54.133187031000205,36.55800725500018],[54.13213626100014,36.546905641000194],[54.130720006000104,36.53297151800024],[54.12994335000013,36.52100187700023],[54.12839003800025,36.509214979000205],[54.1281159240001,36.50190527500024],[54.12827609200019,36.49569137600008],[54.11413699900015,36.491445131000205],[54.0984801460001,36.4879711180003],[54.08477445000011,36.482926660000146],[54.070973576000085,36.47569309900018],[54.06050394800013,36.46950650000019],[54.04951083800023,36.46341508000012],[54.03461541200022,36.456609821000086],[54.02963678600025,36.45477860300025],[54.02219462600016,36.45204125600014],[54.010011786000234,36.4500900980002],[54.001255369000205,36.451470186000165],[53.99435896700015,36.451827534000245],[53.983013697000274,36.44931482400017],[53.96116072800021,36.44725896900019],[53.93854633100017,36.4420812620001],[53.927581773000156,36.43469541500019],[53.91745478800027,36.425634428000194],[53.90496737600017,36.41131959000023],[53.89110939600022,36.397233181000104],[53.87907884100014,36.377969065000116],[53.87615786800018,36.36866046900013],[53.876767010000094,36.364701046000164],[53.877490366000245,36.36230254900022],[53.87924164900011,36.36017055200011],[53.88537114100012,36.35640148600021],[53.88910213600019,36.35404106000016],[53.89085341900022,36.353736489000084],[53.89629762600015,36.35114763600018],[53.90257940300023,36.34772121200018],[53.90722411100012,36.34600800000021],[53.9203968070002,36.33831758200017],[53.930409579000184,36.33150280600012],[53.936310642000194,36.32636317000015],[53.93836649700023,36.3251448860002],[53.94198327700019,36.32095703500022],[53.94628534300017,36.31684532600025],[53.94853155400011,36.31189604700012],[53.94971176700017,36.30786048100015],[53.948988410000084,36.30401527200024],[53.9479604830002,36.29811420900023],[53.94544777200019,36.29327914400011],[53.94270663300017,36.285474512000235],[53.94118377800021,36.28170544600016],[53.93867106800013,36.27805059400026],[53.93528271500014,36.27313938600014],[53.93277000400019,36.26948453400024],[53.929572009000196,36.26487789800012],[53.92648822700011,36.26255554400018],[53.92386130200009,36.2586341920001],[53.92211001900023,36.256273767000096],[53.92081559200017,36.25429405500023],[53.908061681000106,36.242606143000216],[53.901817975000085,36.23720000700024],[53.89420370000022,36.230118731000175],[53.89047270500021,36.226578093000114],[53.886056426000096,36.22383695400026],[53.880726433000234,36.220905458000175],[53.869647663000194,36.215575466000246],[53.859596819000274,36.21058811500012],[53.85221097200014,36.207961190000105],[53.8478708360002,36.206286050000244],[53.841817487000185,36.2041921240002],[53.8296727180001,36.19947127300014],[53.822401085000195,36.19619713500009],[53.81950766000017,36.19494078000014],[53.81436802500025,36.192922997000096],[53.80835274700013,36.189839215000234],[53.80416489600009,36.188620931000116],[53.7995963310002,36.187326504000225],[53.78330178200014,36.17780866000015],[53.776364763000174,36.17365969100018],[53.767608346000145,36.16733984200016],[53.75953721600024,36.15904028200015],[53.751999082000225,36.15279657700023],[53.74674523100009,36.145563015000164],[53.73745581600025,36.135436029000175],[53.716744988000244,36.12325318900025],[53.70950408500022,36.11877263000014],[53.70296315000019,36.11472520100017],[53.6895620250001,36.10497892800015],[53.68111018000019,36.10071493400011],[53.65209979000025,36.09310065900013],[53.62217569000023,36.09051180500012],[53.60519585600025,36.08898895000016],[53.59643943900022,36.08936966400023],[53.58943430600016,36.09005494900015],[53.58357131400015,36.09043566300022],[53.573520471000165,36.09005494900015],[53.554941640000095,36.0878468090001],[53.52775867700012,36.08297367300008],[53.50666713500027,36.0806893900002],[53.493037582000284,36.07909039300017],[53.484052737000184,36.07695839500013],[53.460676912000224,36.07429339900028],[53.45245349500027,36.0753593980001],[53.441108225000164,36.07695839500013],[53.42961066900011,36.075892397000246],[53.41095569500021,36.071704546000205],[53.38483873100023,36.06492784100021],[53.361919763000174,36.05464856900022],[53.34722223000011,36.04718380300022],[53.3275793800002,36.03584130900015],[53.30359441400026,36.0210696150001],[53.29072628900019,36.01056191600014],[53.283340442000224,36.0026430690001],[53.275497739000116,35.99754150500024],[53.268264177000276,35.992972940000186],[53.259466704000204,35.987540653000224],[53.25261385600021,35.98274366000021],[53.244314296000084,35.979697950000116],[53.23251217000018,35.97231210300015],[53.228400462000195,35.967971966000164],[53.22577984900016,35.962029503000224],[53.22669356200015,35.9587744010002],[53.2279499170001,35.95129337500009],[53.23143344800013,35.94512581200024],[53.23463144400023,35.93815875000024],[53.23348930300011,35.93221961600017],[53.23109080600017,35.92839344200013],[53.22657934800014,35.92462437600017],[53.21778486000022,35.922397201000194],[53.217737271000146,35.92234961200029],[53.207886302000134,35.9209695240001],[53.20403157500016,35.9211122920002],[53.158203156000184,35.91868524200015],[53.1444974610003,35.91868524200015],[53.10771099400023,35.91849488500009],[53.09814556100025,35.917447922000235],[53.090911999000184,35.91587747800014],[53.079585765000104,35.914687747000244],[53.06093079000016,35.91126132300025],[53.05712365300019,35.90959570100023],[53.05369722900019,35.90664516900017],[53.04751063000015,35.901077230000226],[53.04365590400022,35.896651433000216],[53.041324032000205,35.8936533120002],[53.0377072510002,35.89170215400026],[53.03375734600013,35.8900841200001],[53.02818940700013,35.88884680100017],[53.024382269000284,35.888323319000165],[53.021669684000244,35.887419124000246],[53.0215269160002,35.88546796600025],[53.0214317380001,35.883469219000176],[53.02252629000009,35.87923377800013],[53.024477448000255,35.87609289000011],[53.024715394000225,35.87485557000025],[53.02490575100023,35.87166709200022],[53.02504851800023,35.87023941500013],[53.02538164300017,35.86790754400022],[53.02371602000011,35.86471906600019],[53.01971852600013,35.85848487800018],[53.01986129400018,35.85267899300027],[53.020879104000244,35.851346148000175],[53.0183346930001,35.8492058650001],[53.01302373600021,35.84475151400022],[53.00725592200013,35.84029716300017],[52.997490614000185,35.83595702600019],[52.987211343000126,35.8328732450002],[52.9766465360002,35.83030342700022],[52.96099920100028,35.830874497000195],[52.939526943000146,35.8331016730001],[52.92130979100011,35.83669941800014],[52.90526270600009,35.84218169600024],[52.89235650900031,35.84800661700018],[52.87448199800025,35.8563442480002],[52.861575802000175,35.86182652600013],[52.843701291000116,35.869421766000244],[52.83130409600011,35.87421909700009],[52.816836973000306,35.879396805000226],[52.79917185400018,35.88777250700025],[52.78500930200022,35.89675735200018],[52.76932389500013,35.90399091400025],[52.75196334800012,35.91000619100009],[52.72668395400018,35.91845803700022],[52.710237120000215,35.92432102800012],[52.695008569000095,35.929651021000154],[52.68267344300017,35.93315358800015],[52.66576975200019,35.93589472700023],[52.6629213020002,35.93643530900016],[52.6553381950003,35.937874438000165],[52.6280790900002,35.940006435000214],[52.610566257000244,35.94092014800009],[52.602392407000195,35.94018239800016],[52.5899716200002,35.93984927300022],[52.5756472650001,35.93946855900015],[52.52025341300015,35.93842159700023],[52.51568484700016,35.93718427700014],[52.50669048500009,35.93727945500018],[52.50093218900025,35.93727945500018],[52.49879778100018,35.93676499400016],[52.491944933000184,35.935714224000094],[52.48646265500025,35.93429796800018],[52.481894090000196,35.93288171300014],[52.47745879700011,35.9313097110001],[52.47467575700023,35.930323317000216],[52.46325434400018,35.92516083800018],[52.45489387000015,35.92040953000014],[52.4424673740001,35.91241454100009],[52.43058910300027,35.90227232700022],[52.42350782700021,35.894277338000165],[52.42116838700025,35.890967886000226],[52.41976160400009,35.88897780200023],[52.41108133000023,35.877327961000105],[52.39920306100021,35.86343952300024],[52.39043141600018,35.855261792000135],[52.38079174300009,35.849048543000265],[52.37567070800009,35.846727008000244],[52.3705124720002,35.844388607000155],[52.354887979000125,35.83835810100015],[52.336750777000134,35.832144852000226],[52.32391310800011,35.82862705700023],[52.30760333000012,35.82469809100024],[52.2923900080001,35.81866758500024],[52.286862044000145,35.81610918900009],[52.283572677000166,35.81341373500021],[52.27178577900014,35.80249486400015],[52.26589233000021,35.79632730200018],[52.25780597000016,35.784997260000125],[52.25273486300023,35.77791598400023],[52.24802924100027,35.77467230300016],[52.236425085000235,35.77042353700017],[52.223356888000126,35.76754029600022],[52.22048079300015,35.76690574200012],[52.215590967000196,35.76665099700011],[52.20783392500016,35.76617510500017],[52.198316081000144,35.76531849900016],[52.184657975000164,35.7644618930002],[52.17390281100023,35.76508055300019],[52.165717465000114,35.76522332100012],[52.15334426800018,35.76484260700022],[52.14001928600021,35.76374805500029],[52.12222091800021,35.76312939500025],[52.102233446000184,35.763081806000116],[52.0906692650002,35.76384323300016],[52.08143695600023,35.76531849900016],[52.066113227000244,35.76893528000022],[52.05678574000024,35.771980990000145],[52.04355593800017,35.776406787000155],[52.0346091630002,35.7787862480003],[52.025482904000114,35.78102309200028],[52.016488541000115,35.784021213000244],[52.00597132300015,35.78806629600018],[51.99578723000013,35.79544262600018],[51.982033946000115,35.80634055700011],[51.97689431000015,35.8106711760002],[51.97237333400017,35.81314581500021],[51.961475403000236,35.81633429300024],[51.945770960000175,35.82114080400015],[51.932017675000225,35.82623285100021],[51.9196920670002,35.8325622170002],[51.90541530100023,35.84198488300024],[51.890757822000296,35.85369183100022],[51.87959055300024,35.865765534000275],[51.87610034200026,35.86953904100011],[51.867962585000214,35.88105563300013],[51.861538040000084,35.89309570500018],[51.85492313900011,35.90304185200023],[51.84097949700015,35.922363076000124],[51.83279415100026,35.932547169000145],[51.83139621800012,35.93437826600024],[51.8294153170001,35.936972966000155],[51.81923122400025,35.945063134000236],[51.80414544100023,35.957864634000146],[51.79615045200012,35.96543132000028],[51.7855856450002,35.97342630900016],[51.7735455720001,35.98499048900021],[51.765455405000125,35.99455592300012],[51.764646388000244,35.9973636870003],[51.7638553030003,36.00026558700023],[51.76195173400026,36.002473727000165],[51.75791616800012,36.00628086500018],[51.738728195000135,36.017854563000185],[51.7318119210002,36.02211610500018],[51.71611379700022,36.031788687000244],[51.7153161010001,36.032154298000194],[51.683220128000244,36.04686495200019],[51.66654486600021,36.05219494400012],[51.65031051500017,36.05844321600023],[51.64438732500014,36.0607229320002],[51.62999634600021,36.06612906800018],[51.61042765700017,36.07633219700017],[51.58141726900021,36.092550603000234],[51.567635431000156,36.09848973800024],[51.55278759400028,36.10130701900016],[51.53687375900029,36.103439016000095],[51.52042692400022,36.107246154000165],[51.4959851010002,36.11630714200027],[51.483573832000104,36.12331227500016],[51.46689856900019,36.13267783300023],[51.45981729300013,36.137246398000116],[51.44961416400031,36.1450891020001],[51.43872575100028,36.1504952370002],[51.429284050000206,36.15201809200022],[51.40712650900019,36.152322663000234],[51.38595882400017,36.15285566300014],[51.3638012830001,36.15293180500021],[51.34453716700011,36.153693233000126],[51.339011505000144,36.153817525000136],[51.314874252000095,36.154731238000124],[51.31198082800017,36.1554926660001],[51.30733612000023,36.157776948000105],[51.288833431000114,36.16965521800023],[51.27657444800019,36.17757406400011],[51.271777455000176,36.18031520300019],[51.268046460000164,36.18138120100025],[51.26210732500016,36.18275177100014],[51.256472761000225,36.18320862700011],[51.24923920000009,36.18183805800015],[51.24048278300029,36.17894463300013],[51.22761465800022,36.172853213000224],[51.22099023800013,36.16980750300013],[51.20621854500013,36.165010510000116],[51.20324897800015,36.163868368000124],[51.1941118470001,36.16706636400022],[51.176294443000245,36.174223783000116],[51.16395931800025,36.18061977400026],[51.151471906000154,36.18640662300021],[51.131217934000176,36.19561989600021],[51.11043096300017,36.20361488500015],[51.09367955700009,36.21008701900024],[51.07685200900028,36.21678758100023],[51.05675032200014,36.22287900100014],[51.05142033000021,36.22493485600012],[51.033755211000084,36.23041713400022],[51.00018463700013,36.24872156100014],[50.98842058200012,36.25443226700014],[50.97939766600018,36.2555744080002],[50.96454982900025,36.25808711900021],[50.9442197150002,36.26448311000013],[50.92720180900022,36.26950853200009],[50.925660764000156,36.26998444300011],[50.911668688000134,36.2743055250001],[50.89887670700017,36.27853144800008],[50.8968208510002,36.27853144800008],[50.891909644000236,36.280358874000115],[50.868952604000185,36.29052393200021],[50.86095761500013,36.29520671100016],[50.85483466400018,36.29779341100016],[50.8582134990001,36.304931794000254],[50.86016465700021,36.311403928000175],[50.86273447500025,36.31911338100025],[50.86278206400016,36.32867881500016],[50.86273447500025,36.342622456000186],[50.86263929600028,36.36399001600017],[50.85868939100021,36.374174109000194],[50.85416841500023,36.385405165000236],[50.84931431500024,36.39525613400019],[50.84017718400014,36.4051071020001],[50.82675702400019,36.417147175000196],[50.82133185300029,36.42366689800025],[50.806626784000116,36.43456482900018],[50.7967631250001,36.43692525500012],[50.783514286000184,36.44134153400023],[50.77544315400013,36.446519242000136],[50.765468454000086,36.45131623500015],[50.74696576500014,36.45999650900018],[50.73089964400015,36.46730621300014],[50.71795537700018,36.475453487000095],[50.704782680000164,36.485504331000186],[50.68605156300015,36.497382600000265],[50.677295147000166,36.50339787700011],[50.67343601600021,36.50553138100008],[50.66792958800022,36.508575585000244],[50.66001074200011,36.51162129500017],[50.651635039000155,36.5135248630001],[50.6341983490002,36.51664671600025],[50.60716767200017,36.521976709000285],[50.599956958000234,36.52400926000013],[50.595822402000124,36.52517470500021],[50.58059385200022,36.530656983000085],[50.57534000200019,36.534844834000126],[50.57077143700013,36.538880400000096],[50.5652891580001,36.54413425000013],[50.55485760200014,36.55205309600018],[50.54830932500022,36.5556318050003],[50.542979332000186,36.56119022600018],[50.53978133600009,36.56408365100026],[50.53140563400018,36.57032735700011],[50.52409592900017,36.574591351000095],[50.51762379600012,36.57558120600021],[50.51069480500013,36.578322346000164],[50.498283537000134,36.58327162400025],[50.48868955000012,36.588068618000136],[50.47429857000009,36.59644432100009],[50.467978721000236,36.600708315000304],[50.46165887300009,36.60512459400019],[50.45533902400024,36.607180449000225],[50.447039464000284,36.61060687200012],[50.43995818800022,36.612586584000155],[50.420008787000086,36.62042928800014],[50.41521384400011,36.621640913000135],[50.405846235000126,36.624007997000206],[50.39038925700021,36.628119705000245],[50.38026227100016,36.63230755700022],[50.36967842800016,36.636114694000184],[50.36244486700019,36.63603855200029],[50.36271437500028,36.63814510800012],[50.36499865900009,36.64052456900009],[50.36794919000022,36.64318956500017],[50.37289846900018,36.64809125500017],[50.37875194300011,36.65399231800018],[50.385033720000195,36.66141623600021],[50.39183897800012,36.66855461900025],[50.39916771900016,36.6771206790001],[50.40806690300019,36.68778066400023],[50.41558600000013,36.695014226000296],[50.42115393800026,36.70281885800017],[50.42350255300016,36.70696517800019],[50.425008665000234,36.7096241160001],[50.429719999000156,36.71842812200009],[50.43314642200022,36.72509061300025],[50.43514516900012,36.73227658500025],[50.43676320300028,36.7404619310002],[50.43747704100019,36.748837634000154],[50.43676320300028,36.75730851500015],[50.435954186000174,36.768872695000084],[50.435478294000234,36.77596348900022],[50.43309883300009,36.78148383900009],[50.43057660400024,36.788289097000245],[50.42933928400015,36.79909185000008],[50.429624820000186,36.80627782200014],[50.42994137600027,36.81830698600015],[50.42995794400019,36.81893655500028],[50.43095731800014,36.830215200000225],[50.43224222700013,36.837972243000195],[50.43328918800012,36.84430160900018],[50.43350175600017,36.848004051000146],[50.43578603700024,36.85386704200022],[50.4408114590002,36.85866403600011],[50.446446023000306,36.862547316000246],[50.44933944700023,36.864603171000226],[50.45520244000011,36.86589759700024],[50.46114157400018,36.86764888100021],[50.46494871000027,36.86940016400024],[50.467547281000236,36.87036172200021],[50.49251179200019,36.878425120000145],[50.49446295000013,36.877520925000226],[50.496271341000295,36.87514146400025],[50.49822249800013,36.871857808000186],[50.50131579800012,36.86966870400022],[50.50498016900019,36.86843138400019],[50.51097641000024,36.86909763300014],[50.51687747300031,36.87190539700009],[50.52187434100017,36.87652155200021],[50.52501523000012,36.882232258000215],[50.52553871000009,36.88456413000023],[50.52568147900024,36.888942338000106],[50.52439657000025,36.891226621000214],[50.523920677000206,36.892749476000176],[50.5258718350002,36.89489099000025],[50.53577039300012,36.90112517800026],[50.54219493800014,36.9068834740001],[50.54980921200024,36.914592928000275],[50.556757239000206,36.92068434800012],[50.5634673190001,36.926252287000125],[50.56951115000021,36.931629868000186],[50.57184302200022,36.93386656200016],[50.5781723880001,36.94143324800024],[50.58669085900016,36.950094486000125],[50.59411477700013,36.9558527810002],[50.59739843400013,36.95889849200023],[50.60025378700021,36.96132554200017],[50.60154618600012,36.963182303000224],[50.6060381150001,36.96116093500012],[50.63090348300028,36.951167198000235],[50.64054030000011,36.94843081800013],[50.65136684800029,36.94462368100017],[50.66064674600017,36.93950783900016],[50.66945075100023,36.9307038340001],[50.674209672000245,36.921661882000194],[50.68051524500015,36.91416658000014],[50.693483307000236,36.90607641200012],[50.707998020000105,36.89929494800015],[50.73226852200008,36.88918223900015],[50.746426315000235,36.882876667000176],[50.75016971900021,36.8826796460001],[50.753207779000206,36.88251974800022],[50.75903745800019,36.88156796400017],[50.763082542000234,36.87847466500011],[50.76938811300016,36.87728493400016],[50.77283833200022,36.87669006900023],[50.777478281000185,36.87288293100016],[50.78149817100024,36.86863971400021]]]},\"bbox\":[50.36244486700019,35.763081806000116,54.133187031000205,36.963182303000224]},{\"id\":\"4\",\"type\":\"Feature\",\"properties\":{\"Ostan\":\"\\u06af\\u06cc\\u0644\\u0627\\u0646\",\"Markaz\":\"\\u0631\\u0634\\u062a\"},\"geometry\":{\"type\":\"Polygon\",\"coordinates\":[[[48.65572156100012,38.39916062100019],[48.66424954900015,38.396724053000185],[48.67490953400011,38.39718091000009],[48.69029037000013,38.4014449040003],[48.70460520800009,38.40799318000012],[48.71286669700021,38.41103889000021],[48.73133131300011,38.41446531400021],[48.741991299000176,38.41732066800023],[48.752460928000175,38.4247445860002],[48.75830956100015,38.430410449000135],[48.7646437680001,38.43654671200011],[48.77092554500018,38.441686348000246],[48.777207322000095,38.442828490000295],[48.784631240000294,38.446064556000124],[48.79357801400016,38.44720669800017],[48.80538014000018,38.44720669800017],[48.81699191000013,38.44663562700026],[48.8209894040001,38.446064556000124],[48.82670011100021,38.44777776800015],[48.83203010400024,38.44949098000012],[48.83545652700013,38.448729553000135],[48.84040580600009,38.44739705500018],[48.8484007950002,38.44720669800017],[48.85449221500022,38.445493486000146],[48.85868006700019,38.44358991700011],[48.863058276000174,38.44149599100024],[48.86819791100021,38.43978277900027],[48.874479689000225,38.439021352000225],[48.87638325700016,38.439021352000225],[48.87666879200009,38.43223195600012],[48.87619290000015,38.42461768100014],[48.87381343800024,38.417003406000106],[48.87333754700023,38.40653377800015],[48.87190987000014,38.39582620300018],[48.86881657100025,38.38726014300016],[48.86715094800019,38.37893203000027],[48.86810273200024,38.37107980900009],[48.86381970300016,38.3637034800002],[48.86376765100016,38.36193371700023],[48.863581756000144,38.35561331200017],[48.86524737900015,38.342764223000245],[48.86619916500024,38.32896334900022],[48.865009432000136,38.32468031900021],[48.866437110000106,38.314924529000166],[48.86667505600025,38.304216954000196],[48.86691300200022,38.29184375700021],[48.86881657100025,38.27709109900013],[48.86857862500011,38.26804914700017],[48.87190987000014,38.25710362600023],[48.87476522400016,38.24710989000022],[48.87738263000017,38.240923292000105],[48.87762057600014,38.23521258500023],[48.87405138600025,38.230929555000216],[48.87358204100019,38.22626505000022],[48.87997437700011,38.211791836000145],[48.88311024000012,38.205158279000216],[48.885514790000116,38.19796480700012],[48.88741835900015,38.189517721000186],[48.88991679300011,38.18166549900013],[48.890929081000195,38.180326668000305],[48.893604958000196,38.1767876040002],[48.89729312200018,38.167150787000196],[48.90133820600022,38.1600124040001],[48.901933071000144,38.155848347000244],[48.89895874400014,38.147758180000096],[48.89634133800013,38.14276131200023],[48.8965792840001,38.13716957800011],[48.89705517600021,38.13276757600022],[48.900148475000094,38.12610508500023],[48.90407458600015,38.119204648000164],[48.90443150400017,38.11646826800023],[48.90371766600009,38.1131370220001],[48.90074334100029,38.10123971700028],[48.899672583000154,38.09648079500016],[48.90026744900018,38.09350646900009],[48.901457179000204,38.08898549300011],[48.9020520430002,38.0855352750001],[48.90086231400028,38.08220402900014],[48.901933071000144,38.077683053000214],[48.90359869400021,38.07221029300018],[48.90474591000009,38.068938601000184],[48.90681096600025,38.063049368000236],[48.908595562000244,38.058290446000115],[48.90942837400024,38.05257974000011],[48.908833508000214,38.04770184500023],[48.90871453500023,38.03544762000013],[48.91002323900017,38.02592977600011],[48.912878592000084,38.01058225300022],[48.91704264900011,38.00023159800014],[48.9204981260001,37.99506985800025],[48.92632780400015,37.9924524500002],[48.93453694500022,37.991143747000194],[48.93870100100014,37.98828839400011],[48.943340949000174,37.98257768700023],[48.9451255460001,37.97746184600015],[48.94846420000016,37.97463235600014],[48.952461694000135,37.96720843800017],[48.95446044100021,37.96092666100009],[48.95474597700024,37.95645327400024],[48.952937586000246,37.95321720700025],[48.95141473100011,37.95007631900029],[48.94960634100022,37.94703060900014],[48.949225627000146,37.944175255000175],[48.9485593780002,37.941224724000165],[48.94789312900025,37.936275445000206],[48.94675098800013,37.92371189100021],[48.94617991700022,37.91657350800017],[48.946465452000155,37.90677012800012],[48.94941598400021,37.896490857000174],[48.95198580300013,37.88725854800026],[48.9576965080002,37.876979277000146],[48.96350239300017,37.870507143000225],[48.967595066000115,37.86631929100008],[48.97073595500024,37.860798942000145],[48.975685234000196,37.84947270700013],[48.97882612200016,37.84395235800014],[48.97911165700009,37.841287362000116],[48.98149111700013,37.836528440000166],[48.98396575800018,37.831769518000215],[48.98471367700017,37.830037494000294],[48.98577414900012,37.82758166600013],[48.9884391450002,37.81892042800024],[48.989962001000094,37.81197240200021],[48.99034271300013,37.80749901500013],[48.98824878800019,37.801978666000196],[48.98691629000024,37.79560171000014],[48.98729700300021,37.78998618200018],[48.990723427000205,37.78294297800011],[48.99357878000012,37.777041914000165],[48.99633895500011,37.771616743000266],[48.999384665000264,37.769142104000196],[49.00208532700026,37.76663357600012],[49.00553554500027,37.763302330000215],[49.00815295200016,37.75949519300025],[49.01005652000015,37.75354654000017],[49.010889331000214,37.749739403000206],[49.01314982000025,37.7475978880002],[49.01445852400019,37.745218427000225],[49.01541030800024,37.74176820800017],[49.01719490400012,37.73843696300014],[49.02064512200013,37.732250364000095],[49.03075783200018,37.720353059000274],[49.03766298700015,37.71180707600024],[49.04277411000021,37.705481428000155],[49.05122119600014,37.69691536800019],[49.06192877100011,37.68823033600012],[49.071684561000154,37.677879680000274],[49.07564057700023,37.67338906800012],[49.07608656400009,37.67288281200018],[49.090601276000086,37.65705939700018],[49.10547290700015,37.64635182200021],[49.12712600200018,37.62838689100016],[49.145503888000235,37.61471553800027],[49.14663758300014,37.61387217900017],[49.16686300100031,37.59995233200016],[49.19343244200013,37.58432910400012],[49.198628806000215,37.5812735640003],[49.20936198700019,37.57469646400017],[49.23027563700026,37.56188095600015],[49.25204770500011,37.5508164630001],[49.26775214800017,37.54201245700011],[49.29880411400029,37.52833055600024],[49.32414537400018,37.5179799010001],[49.36709464500018,37.50382210800012],[49.37577967800013,37.500966755000206],[49.37946784200011,37.49930113200014],[49.401596829000084,37.49454221000019],[49.43324366100023,37.489069450000216],[49.475717040000234,37.482287986000244],[49.49330025700016,37.48095592400017],[49.49927370400013,37.480503390000194],[49.50731696600019,37.47600295600017],[49.51816730800016,37.473147602000154],[49.54481727100011,37.469911535000165],[49.58536389600022,37.46479443800018],[49.627698048000184,37.460693694000156],[49.655800206000094,37.45840210200009],[49.67485660500023,37.456713560000196],[49.679550535000146,37.45630223600011],[49.698254969000175,37.45466318800021],[49.70827592400019,37.45399512400019],[49.72177394100015,37.453095256000154],[49.74758450700017,37.45200976500013],[49.76350504300012,37.449235732000204],[49.783646933000284,37.44802963100011],[49.810542989000226,37.446099869000136],[49.82741003500013,37.444273501000225],[49.82947877800012,37.44404949700015],[49.84515809300029,37.44417010700016],[49.85782215600017,37.44537620900013],[49.872415980000085,37.44802963100011],[49.88918078700016,37.45442196800013],[49.89429701200021,37.45783278400023],[49.89569373400013,37.45876393200018],[49.90232729100023,37.463226506000126],[49.91052877800013,37.46636236900014],[49.918368436000094,37.467689081000174],[49.928379076000226,37.467809691000184],[49.93115310900015,37.467930301000195],[49.934771412000146,37.46744786000016],[49.94019886800015,37.46853335200012],[49.94357595100024,37.46889518200021],[49.94852096600022,37.46612114900012],[49.95153621900022,37.46202040500009],[49.95431025200014,37.45960820300019],[49.9552751340002,37.45647234000012],[49.95841099600011,37.45297464600009],[49.95877282500015,37.449718173000235],[49.95901404600011,37.446099869000136],[49.9582903860001,37.44392888700014],[49.9572048940002,37.44175790500009],[49.955757573000255,37.44006936300019],[49.95370720100021,37.43753655100022],[49.95165682900023,37.43741594100021],[49.952380490000166,37.439345703000185],[49.95455147200016,37.4418785150001],[49.95455147200016,37.44260217600021],[49.95455147200016,37.44417010700016],[49.9522598800001,37.44513498800018],[49.94960645700024,37.44573803900022],[49.945626323000226,37.445858649000115],[49.94224924000014,37.44537620900013],[49.94128435900018,37.445979259000126],[49.9413975490001,37.44668519400017],[49.93957012300024,37.44748469300015],[49.9342020590002,37.4464567660001],[49.93271727500024,37.44474355400013],[49.93248884700017,37.4428019140002],[49.93465891600022,37.440631845000155],[49.937171627000225,37.43994656000024],[49.938542196000185,37.440060774000244],[49.9413975490001,37.438461777000214],[49.94608033000026,37.435377995000124],[49.95921495300013,37.42966728900012],[49.96835208400023,37.42589822300022],[49.98388520500015,37.419844874000205],[50.00341582100015,37.41470523800024],[50.02191851000015,37.41116460000018],[50.0364344410001,37.40826141400015],[50.0390506290002,37.40773817600018],[50.060522885000125,37.404540181000186],[50.07331486800024,37.403740682000205],[50.08096721400017,37.40202747000018],[50.08724899100025,37.400428472000215],[50.10746489200022,37.39905790200015],[50.1314498590001,37.39768733300019],[50.149952548000215,37.395974121000165],[50.162858744000175,37.39494619400011],[50.17359487200031,37.393461410000214],[50.18255579700019,37.39010106300009],[50.19004170700015,37.38729384700014],[50.19598084100022,37.38386742300014],[50.202491046000205,37.37918464400019],[50.20614589900015,37.37495872100021],[50.209686536000106,37.37084701300017],[50.21608252800013,37.364907878000224],[50.21882366700021,37.359082958000215],[50.217567312000085,37.35120218300017],[50.21596831400012,37.34320719400023],[50.216282403000264,37.33223787800017],[50.21806699800021,37.32771690300012],[50.21866186400024,37.324385657000164],[50.22080337900019,37.322839007000084],[50.22187413600028,37.320459546000166],[50.223658732000104,37.30987094500023],[50.22449154300017,37.300353101000155],[50.22600774000017,37.297409895000214],[50.22651408500019,37.29642699000016],[50.232462738000095,37.284172766000154],[50.23757857900017,37.275011841000264],[50.244360043000086,37.260854048000226],[50.24935691100018,37.25205004300017],[50.253639940000085,37.24062863000012],[50.261968054000135,37.226113918000124],[50.26684594900024,37.219451427000195],[50.27231871000015,37.213145855000164],[50.275649955000176,37.20814898700024],[50.276072427000145,37.20387732200021],[50.27672071200021,37.19732243900012],[50.27755352400021,37.1917307060001],[50.28017093100016,37.186614865000195],[50.283383202000095,37.179952374000266],[50.287309314000254,37.17281399100017],[50.288261098000305,37.16936377300016],[50.28992672100014,37.16793609600023],[50.29171131700019,37.16579458100023],[50.29218720900013,37.1624633360002],[50.29504256200022,37.15841825200022],[50.301229161000094,37.150685004000195],[50.30365391200024,37.1482153500001],[50.30765370500018,37.144141486000194],[50.315386954000246,37.13628926500019],[50.31812333400018,37.134504669000194],[50.32490479800015,37.12831807000015],[50.33501750700009,37.12177455200015],[50.344654324000146,37.115825900000175],[50.358693143000096,37.108449571000165],[50.37011455700025,37.10309578400012],[50.375230398000156,37.10154913400021],[50.37998932000028,37.09964556500017],[50.382844673000136,37.0966712390001],[50.384986189000244,37.09226923600011],[50.3902210020002,37.086439557000176],[50.3981921970003,37.0810857690002],[50.412468963000094,37.071567925000124],[50.42983902800012,37.062407000000235],[50.441504516000236,37.055636122000294],[50.44685217400024,37.05253223700021],[50.45946331700014,37.044085151000104],[50.46779143200024,37.038374444000226],[50.47064678400028,37.034686280000244],[50.473502137000196,37.02968941200015],[50.4775641920001,37.02572890800019],[50.47826105900009,37.02504946300019],[50.484447658000136,37.02005259400022],[50.502531563000105,37.01053475000015],[50.528705633000186,36.99887539200017],[50.543934183000204,36.99304571200014],[50.5620180870003,36.98638322100015],[50.57213079600024,36.98174327200019],[50.579269179000164,36.978293054000176],[50.58319529000022,36.97377207800025],[50.5868834540002,36.96948904800024],[50.5965202710002,36.9654439640002],[50.60154618600012,36.963182303000224],[50.60025378700021,36.96132554200017],[50.59739843400013,36.95889849200023],[50.59411477700013,36.9558527810002],[50.58669085900016,36.950094486000125],[50.5781723880001,36.94143324800024],[50.57184302200022,36.93386656200016],[50.56951115000021,36.931629868000186],[50.5634673190001,36.926252287000125],[50.556757239000206,36.92068434800012],[50.54980921200024,36.914592928000275],[50.54219493800014,36.9068834740001],[50.53577039300012,36.90112517800026],[50.5258718350002,36.89489099000025],[50.523920677000206,36.892749476000176],[50.52439657000025,36.891226621000214],[50.52568147900024,36.888942338000106],[50.52553871000009,36.88456413000023],[50.52501523000012,36.882232258000215],[50.52187434100017,36.87652155200021],[50.51687747300031,36.87190539700009],[50.51097641000024,36.86909763300014],[50.50498016900019,36.86843138400019],[50.50131579800012,36.86966870400022],[50.49822249800013,36.871857808000186],[50.496271341000295,36.87514146400025],[50.49446295000013,36.877520925000226],[50.49251179200019,36.878425120000145],[50.467547281000236,36.87036172200021],[50.46494871000027,36.86940016400024],[50.46114157400018,36.86764888100021],[50.45520244000011,36.86589759700024],[50.44933944700023,36.864603171000226],[50.446446023000306,36.862547316000246],[50.4408114590002,36.85866403600011],[50.43578603700024,36.85386704200022],[50.43350175600017,36.848004051000146],[50.43328918800012,36.84430160900018],[50.43224222700013,36.837972243000195],[50.43095731800014,36.830215200000225],[50.42995794400019,36.81893655500028],[50.42994137600027,36.81830698600015],[50.429624820000186,36.80627782200014],[50.42933928400015,36.79909185000008],[50.43057660400024,36.788289097000245],[50.43309883300009,36.78148383900009],[50.435478294000234,36.77596348900022],[50.435954186000174,36.768872695000084],[50.43676320300028,36.75730851500015],[50.43747704100019,36.748837634000154],[50.43676320300028,36.7404619310002],[50.43514516900012,36.73227658500025],[50.43314642200022,36.72509061300025],[50.429719999000156,36.71842812200009],[50.425008665000234,36.7096241160001],[50.42350255300016,36.70696517800019],[50.42115393800026,36.70281885800017],[50.41558600000013,36.695014226000296],[50.40806690300019,36.68778066400023],[50.39916771900016,36.6771206790001],[50.39183897800012,36.66855461900025],[50.385033720000195,36.66141623600021],[50.37875194300011,36.65399231800018],[50.37289846900018,36.64809125500017],[50.36794919000022,36.64318956500017],[50.36499865900009,36.64052456900009],[50.36271437500028,36.63814510800012],[50.36244486700019,36.63603855200029],[50.35991643700021,36.6358058740002],[50.350033598000095,36.63489641000024],[50.33800304300024,36.63504869600024],[50.32886591300024,36.63756140700025],[50.317292215000236,36.64083554500024],[50.30579465800025,36.646317823000174],[50.29254582000027,36.65309452800017],[50.27815484000024,36.66086108900015],[50.27407857700018,36.66340213600017],[50.266428857000164,36.668170793000115],[50.247012455000174,36.676013497000156],[50.23597175400016,36.67883077800025],[50.22485491300023,36.67974449100012],[50.21175836000009,36.67822163600016],[50.19652981000024,36.67540435500018],[50.1836616840003,36.671901788000184],[50.17208798600012,36.666876366000224],[50.16927882300013,36.66574254700015],[50.159448289000125,36.661774802000195],[50.14475273800025,36.65431281200023],[50.13127547100021,36.64685082300019],[50.11993020100016,36.638322834000235],[50.111782926000274,36.63261212800029],[50.10870275100024,36.63124028500016],[50.102721939000276,36.62857656200015],[50.096097519000125,36.62636842200021],[50.083077109000214,36.62088614400011],[50.072645552000154,36.61791657700019],[50.06320385000015,36.61502315200016],[50.05360986400018,36.6098454450003],[50.049345870000195,36.607332734000124],[50.04515801800022,36.60679973500015],[50.040361025000095,36.60702816300022],[50.031452322000234,36.606190593000235],[50.00853335400018,36.607561162000195],[49.98706109800008,36.60916016000016],[49.97586811400021,36.61083530100012],[49.962771560000135,36.61464243800009],[49.947390724000115,36.61966786000022],[49.93520788400019,36.62210442800023],[49.92043619000009,36.61943943200015],[49.901857359000246,36.61022615900015],[49.88733566800016,36.60123773700019],[49.87916681800016,36.59652046300016],[49.87048654500023,36.59240875500012],[49.86546112300027,36.591723470000204],[49.86233927000012,36.59088590000016],[49.851526999000214,36.58639347700017],[49.843684296000106,36.584033052000166],[49.837212162000185,36.58113962700014],[49.833481167000116,36.58144419800021],[49.8286841740001,36.58068277100017],[49.82190746900011,36.577408633000175],[49.81596833400016,36.57497206400029],[49.799521500000196,36.5711649270001],[49.78185638100024,36.568652216000146],[49.760460268000145,36.56926135800029],[49.726957457000196,36.57185021200024],[49.71051062100008,36.574819779000165],[49.698815460000105,36.57864663900011],[49.68771384600012,36.58239286200018],[49.67592694800027,36.58677868500024],[49.672180725000146,36.588286311000104],[49.665739048000205,36.5918954780002],[49.65893188600023,36.59550464400024],[49.6536780360002,36.5978346120001],[49.64892672800016,36.59957066700014],[49.644449535000206,36.600438694000104],[49.63992665500024,36.601306722000174],[49.631383438000114,36.60208337800009],[49.62361687800018,36.60258592000014],[49.6211954380002,36.60258592000014],[49.61959654000009,36.60258592000014],[49.59296180600023,36.60226612100024],[49.58638307200016,36.60258592000014],[49.57002760900025,36.60222043500016],[49.570028751000166,36.60217246500008],[49.567430379000086,36.60271498200012],[49.56003501500015,36.60265787500015],[49.55266820300011,36.602515107000215],[49.54744290700012,36.60257221400025],[49.54315987600023,36.60200114400021],[49.54110402300023,36.6013729660001],[49.5392480430001,36.60103032400019],[49.535250549000125,36.60071623500022],[49.531195947000185,36.60017371800018],[49.529482735000215,36.5995169860002],[49.52208737000018,36.5995169860002],[49.510665958000175,36.60008805700011],[49.50341336000014,36.60068768100018],[49.49910177600009,36.602372340000215],[49.496246424000105,36.6036858020002],[49.494961515000114,36.60434253300025],[49.48970766500008,36.606798137000226],[49.482340854000086,36.61116682800025],[49.47742964600019,36.61413639500023],[49.47074812000017,36.61924747700016],[49.464780432000225,36.627356680000105],[49.46355263100014,36.63089731800011],[49.46146822300017,36.635865633000094],[49.45932670700023,36.64031998400014],[49.45704242400018,36.64468867400012],[49.45367310800009,36.650485041000195],[49.451331718000176,36.65354026900019],[49.44719145600027,36.65808028100014],[49.44250867700015,36.661592365000104],[49.442565784000124,36.661592365000104],[49.436626649000175,36.66470470000013],[49.43162978100008,36.666874769000174],[49.427146876000165,36.6682167850002],[49.42412020200021,36.670329746000164],[49.41738156800022,36.67546938200013],[49.407749510000144,36.68078985700009],[49.39887888000021,36.68703356200024],[49.391873746000215,36.69304884000019],[49.37953862000012,36.70702103500014],[49.37489391300011,36.71242717000024],[49.36339635700023,36.72209730000009],[49.34911959000016,36.73515578200016],[49.34462716900015,36.739153276000195],[49.3385357480002,36.74577769600029],[49.328218406000246,36.76306210000024],[49.325210766000225,36.76705959500015],[49.31573099400015,36.78236428800017],[49.309715717000245,36.79089227600025],[49.30054051500014,36.799915192000185],[49.29178409900021,36.80749139600016],[49.283321366000166,36.81532941000012],[49.28278222500023,36.8154866590001],[49.278784730000154,36.819027297000105],[49.2718176680001,36.82490932500025],[49.264964821000206,36.83073424600019],[49.25685561800009,36.83718734400014],[49.25371472800009,36.83924319800025],[49.245776847000116,36.846210260000134],[49.23909532100009,36.85192096600014],[49.233670150000194,36.85843117200017],[49.23024372500009,36.86362791500022],[49.22738837200018,36.87059497600012],[49.22658887400013,36.88013185600016],[49.22476144700016,36.888355273000116],[49.22024998900025,36.89749240400022],[49.21688067300022,36.90200386200013],[49.21191235800029,36.90611557000017],[49.20700115100027,36.90822853200018],[49.2013475510002,36.91039860000012],[49.19300991900025,36.91239734700025],[49.18427253900012,36.91291131100013],[49.17502119500011,36.915766664000216],[49.16931048900011,36.9202781220003],[49.166854885000134,36.924275617000205],[49.160915750000186,36.931813749000185],[49.1549195070001,36.93758156300015],[49.14949433700025,36.94260698400018],[49.142013312000245,36.94837479800009],[49.13624549700023,36.9565982150001],[49.12684952400025,36.96906397100014],[49.12113881900018,36.976868603000185],[49.119942270000195,36.97989736800008],[49.11809311000013,36.98457805700019],[49.11119471500018,36.999666681000235],[49.110777608000205,37.000579007000226],[49.10494792900022,37.005456902000105],[49.10030798000031,37.01033479700021],[49.09305062400023,37.020090587000084],[49.08829170100017,37.024849509000205],[49.08841067500009,37.02758588900031],[49.086031214000116,37.03436735300022],[49.08258099500023,37.04114881700019],[49.07936872300019,37.04733541600018],[49.077108235000196,37.051975365000146],[49.072825205000186,37.05566352900013],[49.04914956800013,37.06791775300013],[49.03796610100022,37.07339051400021],[49.03154155600021,37.078744301000086],[49.02476009300017,37.08671549500025],[49.00976948800019,37.1019440460002],[48.989425097000264,37.118243354000185],[48.9671771360002,37.134661635000214],[48.949569126000085,37.14584510100019],[48.93909949700026,37.15464910700018],[48.93410262800023,37.15917008300016],[48.932555979000085,37.1671412770001],[48.93433511800009,37.176292530000126],[48.93456354600016,37.1800615960002],[48.93182240700014,37.185658088000196],[48.92793912600024,37.19114036700017],[48.92211420600023,37.1987927130001],[48.91183493400024,37.210442554000224],[48.90692372700022,37.21672433100014],[48.90258359000023,37.225633033000236],[48.90052773600013,37.233171166000204],[48.900299307000125,37.24402150800017],[48.902812018000304,37.25487185000014],[48.909436437000124,37.27268925400017],[48.91548978600014,37.28662337800023],[48.91743142700011,37.29359044000029],[48.91594664300021,37.30101435800009],[48.915032930000166,37.30763877700025],[48.912748647000285,37.31369212600009],[48.9079516540001,37.31928861800009],[48.90178409100025,37.325456181000106],[48.88430932900013,37.338933449000194],[48.87220263200021,37.34647158100023],[48.87070261200029,37.34744456700008],[48.86797670900023,37.34921272000014],[48.85335730100013,37.35538028300016],[48.844220170000256,37.35983463400021],[48.83245611500024,37.36623062500013],[48.827088051000146,37.36977126300019],[48.822062629000186,37.3758246120002],[48.81943570400017,37.38176374700015],[48.81429606900025,37.38747445300015],[48.80869945400019,37.3916340990001],[48.80681044000022,37.39303809600017],[48.80584422300012,37.393756230000236],[48.80059037300009,37.39855322300025],[48.795564952000234,37.403464431000145],[48.7905395300001,37.407005069000206],[48.78505725200017,37.410659921000274],[48.781402400000104,37.41602798500014],[48.771694199000194,37.4244798310001],[48.762214426000185,37.43041896500017],[48.75547579300013,37.43475910200016],[48.75341993800015,37.43692917100026],[48.7465670910002,37.4462947290001],[48.73685889000012,37.45794457000011],[48.72566590500014,37.472449764000146],[48.722353696000084,37.477475186000106],[48.71527241900009,37.484442248000164],[48.70944749900025,37.489467670000295],[48.70545000400017,37.496092089000115],[48.69985351200023,37.504658149000306],[48.69768344400023,37.50762771600023],[48.69574180400019,37.51128256800013],[48.69539916100018,37.51836384400019],[48.695513374000086,37.52475983500011],[48.69437123400013,37.53218375400019],[48.69140166700015,37.541092456000115],[48.682036108000204,37.55868143100014],[48.6797518260002,37.56187942700029],[48.67963761000016,37.56667642000025],[48.68032289600018,37.5691891310002],[48.68249296500022,37.57090234300023],[48.6856909600001,37.57193027000011],[48.68831788500012,37.57341505400018],[48.69003109800019,37.57524248000021],[48.68980266900019,37.57866890400021],[48.68831788500012,37.581524257000126],[48.682036108000204,37.590661387000125],[48.66558927400024,37.603453370000125],[48.648799797000095,37.61156257300024],[48.639320024000085,37.618072778000226],[48.63098239300024,37.62720990800017],[48.62424375900014,37.63451961200013],[48.618304625000235,37.64399938500014],[48.614763987000174,37.648339522000185],[48.61259391800013,37.6509664470002],[48.61213706200016,37.654963941000176],[48.613050775000204,37.658618794000176],[48.613507631000175,37.66181678900017],[48.61419291600009,37.665014785000096],[48.61225127600022,37.67255291700013],[48.609966993000114,37.6762077690002],[48.6071116400002,37.67894890800028],[48.60322836000029,37.68089054900025],[48.60105829000014,37.68317483100026],[48.598888223000245,37.686372827000184],[48.598545580000234,37.69002767900025],[48.599916150000126,37.69368253100009],[48.60254307500014,37.6957383850002],[48.60334257300019,37.697794240000235],[48.60299993000018,37.7016775200002],[48.60345678800013,37.70487551600013],[48.60631214100022,37.70544658600011],[48.610195421000185,37.70590344300018],[48.61567770000022,37.70590344300018],[48.62070312100025,37.70670294200016],[48.62504325800012,37.709101438000175],[48.62812704000015,37.712413648000165],[48.63109660700013,37.71469793100022],[48.63589360100019,37.71584007200016],[48.639548452000156,37.717667498000196],[48.64217537700017,37.72029442300021],[48.643203305000156,37.724063489000116],[48.643545947000234,37.72908891100025],[48.643888590000245,37.7337716900002],[48.64308909000022,37.74393674700025],[48.643545947000234,37.75341652000009],[48.64948508200024,37.7649521470002],[48.65416786100019,37.7706628530002],[48.65633792900013,37.77443192000021],[48.656909001000145,37.77865784200009],[48.65553843000015,37.7810563390002],[48.65268307700023,37.782426909000094],[48.64777187000021,37.78276955100023],[48.6432033060002,37.783112193000136],[48.63943423800015,37.7847111910001],[48.637378384000215,37.78608176100016],[48.63577938600025,37.78927975600021],[48.63349510300014,37.790650326000105],[48.630182894000086,37.79190668100023],[48.623786903000166,37.79122139600008],[48.615449271000216,37.78848025700023],[48.609738565000214,37.78848025700023],[48.60311414600022,37.79122139600008],[48.59808872400009,37.79601839000014],[48.592492232000154,37.802071739000155],[48.59043637700012,37.80858194400014],[48.58792366600011,37.81703378900016],[48.5860962400003,37.82788413200029],[48.5857535990001,37.83896290200016],[48.58426881400027,37.84889953100014],[48.58363381700019,37.85137267700014],[48.579928677000225,37.865803222000125],[48.5727331880002,37.88898869000019],[48.57181947400011,37.896869465000236],[48.57212274500023,37.89976738400014],[48.57284740200009,37.90669188000021],[48.574446399000124,37.91274522900022],[48.577987037000185,37.920169147000195],[48.581527674000085,37.92770728000016],[48.58326913400015,37.93112278000012],[48.59073112300018,37.93401620500015],[48.59743168600028,37.9370619150003],[48.60154339400009,37.94223962200016],[48.602304822000235,37.94741732900019],[48.601238823000244,37.9550316050001],[48.59910682600014,37.9603615970002],[48.59788854200025,37.96432102000017],[48.59773625700012,37.96934644200013],[48.598497684000165,37.9731535800002],[48.60184796500016,37.977874430000156],[48.60620619100018,37.98179683400019],[48.6094622400002,37.98472727800015],[48.61144195300011,37.989143558000194],[48.61235566500022,37.994778121000195],[48.61421029200011,38.000629065000226],[48.615054255000246,38.001197274000106],[48.615054255000246,38.00129197600012],[48.6153662440002,38.00278279100024],[48.616156257000114,38.0050749880001],[48.616850607000174,38.006412941000235],[48.61830954100009,38.00877339500016],[48.618791806000104,38.01000451500022],[48.62023860000011,38.01114093300009],[48.62035916500025,38.01142503700015],[48.62114402900016,38.01339041500023],[48.621574939000084,38.015081057000145],[48.6218135310001,38.016899264000244],[48.6217210530001,38.01823975400009],[48.62151106100015,38.019175751000205],[48.62108327200019,38.02029176100018],[48.61876474900009,38.024238296000135],[48.61747443100012,38.0270936350002],[48.61705227100015,38.0290077100002],[48.616742182000166,38.033490489000144],[48.617103880000286,38.03481631000017],[48.61759002100024,38.03648034100024],[48.61843003700011,38.038699438000094],[48.62217495500016,38.04725795100023],[48.62277048900023,38.04949504300009],[48.62264992300021,38.050252655000236],[48.6236144530003,38.05318840200022],[48.62373501800022,38.05470362600016],[48.62385558400024,38.056597656000235],[48.62397615100019,38.05744997000022],[48.6240503950001,38.05839698500017],[48.62397615000009,38.05934400000024],[48.62423385200009,38.064700589000154],[48.624529501000154,38.06600693700028],[48.62506124600014,38.06729892700025],[48.62521130600015,38.069779867000136],[48.62818087300025,38.07629007200012],[48.632178368000154,38.083447491000186],[48.63389158000018,38.0881683410002],[48.63423422200009,38.09247040700012],[48.6328636520002,38.09772425700015],[48.632178368000154,38.102216679000094],[48.63252101000012,38.107470529000125],[48.63412000800025,38.112914736000164],[48.63743221700014,38.12014829700013],[48.64329520800021,38.12601128900013],[48.650681056000224,38.130846354000255],[48.659589759000085,38.13503420500024],[48.66530046500026,38.137090060000105],[48.67101117100026,38.138460629000235],[48.67805437600009,38.14295305200028],[48.68212801300024,38.14782618800024],[48.683117869000284,38.15094804000023],[48.683993510000164,38.15410796500015],[48.68388638100009,38.1561352450002],[48.68387023000025,38.15752813800026],[48.681493584000236,38.160714684000084],[48.68003941300009,38.16285274800009],[48.679207819000226,38.163238727000135],[48.67738695700018,38.16408386800015],[48.676496121000184,38.1652285130001],[48.67497563400025,38.1664514050002],[48.67015298900009,38.169955361000234],[48.669429591000096,38.17071297300021],[48.66858562800019,38.17203879400023],[48.66834449700019,38.172322899000164],[48.66774166500028,38.17355401900011],[48.667259400000205,38.17469043700015],[48.66689770200014,38.176016258000175],[48.66646645200018,38.18101427400018],[48.666452262000234,38.18232838000017],[48.66665656900017,38.18359237800013],[48.66653600300015,38.1843499900001],[48.66653600300015,38.18586521500015],[48.66653600300015,38.1864334240002],[48.66689770200014,38.18785394600013],[48.667259400000205,38.19003208100014],[48.66798279700015,38.191452604000176],[48.66798279700015,38.191736708000235],[48.668344496000145,38.19287312600011],[48.66822392900019,38.19382014100023],[48.66822392900019,38.19391484300024],[48.66894732600025,38.19448305200024],[48.669309025000246,38.195240664000266],[48.669309025000246,38.1955247680001],[48.669429591000096,38.19561947000017],[48.66955015600024,38.197513500000184],[48.669791289000216,38.198081709000235],[48.67039412000008,38.19959693300018],[48.67111751700014,38.201112157000125],[48.67232317900027,38.20319559000012],[48.6732877080002,38.20461611300016],[48.67389053900024,38.20556312800028],[48.674734502000206,38.206604845000186],[48.674734502000206,38.20669954600015],[48.67497563400025,38.20736245700016],[48.675699031000136,38.20840417300025],[48.67618129600015,38.20887768100016],[48.67630186200023,38.20906708400008],[48.67702526000022,38.20963529300013],[48.67726639100016,38.210014099000205],[48.67813231800011,38.210861441000134],[48.678833751000184,38.21181342800014],[48.68209113600011,38.213833346000115],[48.68341526500018,38.21474917400019],[48.684018096000216,38.2152226820001],[48.685324097000205,38.21614669600018],[48.68654998500017,38.2173061150001],[48.68654998500017,38.21768492100017],[48.687273382000114,38.219578951000244],[48.68642941900015,38.22099947400028],[48.68606772000015,38.2211888770002],[48.68570602200009,38.222230594000166],[48.6849826250002,38.22355641500019],[48.68199676100022,38.22757905200018],[48.679358168000135,38.230587504000084],[48.67401110500009,38.23728813300016],[48.672684877000165,38.23937156600016],[48.67232318000015,38.24088679100021],[48.67232317900027,38.24126559700011],[48.67158088000019,38.244014288000244],[48.67147921600014,38.24742119500013],[48.672082045000195,38.24798940400018],[48.67232317900027,38.24884171700029],[48.673408274000224,38.249883434000196],[48.67401110500009,38.250735747000135],[48.67437280300021,38.25120925500022],[48.674493370000164,38.25234567300009],[48.674493370000164,38.25357679300021],[48.67497563400025,38.25499731500014],[48.67454150900011,38.25719904300024],[48.6739970160001,38.258504452000125],[48.67296357700013,38.26018587300024],[48.67012316300014,38.264120002000084],[48.669067893000204,38.265982690000214],[48.66894732600025,38.26617209300014],[48.6682637200002,38.267454108000095],[48.66769888100009,38.268944333000206],[48.66730159200017,38.27062311100019],[48.66701826800016,38.27261179600015],[48.66701826700029,38.2731800050002],[48.66701826800016,38.27621045300009],[48.66689770200014,38.27753627400011],[48.66689770100021,38.27810448300011],[48.667259400000205,38.27943030400013],[48.667259400000205,38.281419036000216],[48.66774166500028,38.28217664800019],[48.66910631400009,38.28609480900025],[48.6698299750002,38.28838640100014],[48.66838265500019,38.29224592500009],[48.66488496000022,38.29441690700014],[48.657889574000194,38.292366535000156],[48.65465393400012,38.29122806900011],[48.65137662600023,38.29007494300009],[48.64498429000014,38.289230672000144],[48.63931561500016,38.292487145000166],[48.63099351700009,38.29839704100016],[48.62423935000021,38.30478937800012],[48.62074165600018,38.30852829100013],[48.6188118940002,38.31299086600018],[48.61314321900022,38.320348083000226],[48.610972077000156,38.32229767900026],[48.60723332300023,38.32565492800012],[48.597584513000186,38.33554495800024],[48.590468516000215,38.343143396000244],[48.58142275700021,38.352430375000154],[48.57406554000016,38.363405896000245],[48.5716533380002,38.36714480900008],[48.57129150700024,38.37196921400022],[48.571653339000136,38.375346297000135],[48.57056784700018,38.38125619300024],[48.57080906800019,38.38559815800022],[48.57261821900022,38.389940122000155],[48.57273882900023,38.39404086600018],[48.5716533380002,38.39862405000014],[48.56827625400024,38.40622248800014],[48.56694954400024,38.414423976000194],[48.56839686500018,38.424796446000244],[48.57056784700018,38.430706342000235],[48.570688457000244,38.43444525600012],[48.569964796000136,38.43697806800009],[48.57141211800018,38.44035515200028],[48.573824320000085,38.441440643000305],[48.57490981100011,38.442405524000094],[48.578045675000226,38.445058946000245],[48.57961360600018,38.448074199000246],[48.581181537000134,38.45169250300012],[48.581181537000134,38.454948976000196],[48.582319948000304,38.45550625800013],[48.58962965200027,38.44438941600009],[48.59069565000016,38.43921170900023],[48.598005355000225,38.4247445860002],[48.60089877900015,38.418957737000255],[48.60470591700022,38.41423688600014],[48.61110190800014,38.41301860200025],[48.61521361700011,38.41225717500021],[48.6184116120001,38.40845003700019],[48.62130503700013,38.40464289900012],[48.625569030000236,38.40281547300009],[48.63166045100024,38.40266318800019],[48.63973158300013,38.401749475000145],[48.64719357200016,38.40037890500008],[48.65572156100012,38.39916062100019]]]},\"bbox\":[48.56694954400024,36.568652216000146,50.60154618600012,38.45550625800013]}],\"bbox\":[48.56694954400024,35.763081806000116,54.133187031000205,38.45550625800013]},\"type\":\"line\"}],\"style\":\"open-street-map\"},\"legend\":{\"title\":{\"text\":\"\",\"font\":{\"family\":\"Times New Roman\"}},\"tracegroupgap\":0,\"font\":{\"family\":\"Times New Roman\",\"size\":14,\"color\":\"black\"},\"yanchor\":\"top\",\"y\":0.98,\"xanchor\":\"left\",\"x\":0.01,\"traceorder\":\"normal\",\"bgcolor\":\"snow\",\"bordercolor\":\"Black\",\"borderwidth\":0.5},\"margin\":{\"t\":0,\"r\":0,\"l\":0,\"b\":0},\"height\":600,\"width\":1200,\"hoverlabel\":{\"font\":{\"size\":16,\"family\":\"Arial\"},\"bgcolor\":\"white\",\"align\":\"left\"}},                        {\"responsive\": true}                    ).then(function(){\n",
       "                            \n",
       "var gd = document.getElementById('21fe8f73-bbca-4d27-89bb-1fbf479240e2');\n",
       "var x = new MutationObserver(function (mutations, observer) {{\n",
       "        var display = window.getComputedStyle(gd).display;\n",
       "        if (!display || display === 'none') {{\n",
       "            console.log([gd, 'removed!']);\n",
       "            Plotly.purge(gd);\n",
       "            observer.disconnect();\n",
       "        }}\n",
       "}});\n",
       "\n",
       "// Listen for the removal of the full notebook cells\n",
       "var notebookContainer = gd.closest('#notebook-container');\n",
       "if (notebookContainer) {{\n",
       "    x.observe(notebookContainer, {childList: true});\n",
       "}}\n",
       "\n",
       "// Listen for the clearing of the current output cell\n",
       "var outputEl = gd.closest('.output');\n",
       "if (outputEl) {{\n",
       "    x.observe(outputEl, {childList: true});\n",
       "}}\n",
       "\n",
       "                        })                };                });            </script>        </div>"
      ]
     },
     "metadata": {},
     "output_type": "display_data"
    }
   ],
   "source": [
    "geo_info_map = station_data.merge(data[['Station_ID', 'Province', 'Station_Latitude', 'Station_Longitude']], on='Station_ID', how='left').drop_duplicates(subset=['Station_ID']).reset_index(drop=True)\n",
    "\n",
    "geo_info_map['Cluster'] = geo_info_map['Cluster'].astype(str)\n",
    "\n",
    "geo_info_map['Hover_Info'] = geo_info_map.apply(\n",
    "    lambda row: f\"\"\"\n",
    "    Station Name: <b>{row['Station_Name']}</b><br>\n",
    "    Station ID: <b>{row['Station_ID']}</b><br>\n",
    "    Province: <b>{row['Province']}</b><br>\n",
    "    Latitude: <b>{row['Station_Latitude']}</b><br>\n",
    "    Longitude: <b>{row['Station_Longitude']}</b><br>\n",
    "    Elevation: <b>{row['Station_Elevation']} m</b><br>\n",
    "    Temperature: <b>{round(row['Temperature'], 1)}</b><br>\n",
    "    Precipitation: <b>{round(row['Precipitation'], 1)}</b><br>\n",
    "    DT: <b>{round(row['DT'], 1)}</b><br>\n",
    "    \"\"\",\n",
    "    axis=1\n",
    ")\n",
    "\n",
    "shapefile_path = \"./assets/geo_data/Iran_1400/Ostan.shp\"\n",
    "gdf = gpd.read_file(shapefile_path)\n",
    "geojson = gdf.to_crs(epsg=4326).__geo_interface__\n",
    "\n",
    "cluster_colors = {\n",
    "    \"1\": \"darkred\",\n",
    "    \"2\": \"darkblue\",\n",
    "    \"3\": \"darkgreen\",\n",
    "}\n",
    "\n",
    "fig = px.scatter_mapbox(\n",
    "    geo_info_map,\n",
    "    lat=geo_info_map.Station_Latitude,\n",
    "    lon=geo_info_map.Station_Longitude,\n",
    "    # size=\"Cluster\",\n",
    "    color=\"Cluster\",\n",
    "    color_discrete_map=cluster_colors,\n",
    "    hover_name=geo_info_map['Station_Name'],\n",
    "    hover_data={'Station_ID': True, 'Station_Name': False, 'Hover_Info': False},\n",
    "    custom_data=['Hover_Info'],\n",
    "    text=\"Station_Name\",\n",
    "    zoom=6,\n",
    "    height=600,\n",
    "    width=1200\n",
    ")\n",
    "\n",
    "\n",
    "fig.update_layout(\n",
    "    mapbox=dict(\n",
    "        layers=[\n",
    "            {\n",
    "                \"source\": geojson,\n",
    "                \"type\": \"line\",  # \"fill\" for filled polygons\n",
    "                \"color\": \"black\",\n",
    "                \"line\": {\"width\": 2},\n",
    "                \"below\": \"traces\"\n",
    "            }\n",
    "        ],\n",
    "    )\n",
    ")\n",
    "\n",
    "# Add map style\n",
    "fig.update_layout(\n",
    "    mapbox_style=\"open-street-map\",\n",
    "    margin={\"r\":0,\"t\":0,\"l\":0,\"b\":0},\n",
    "    hoverlabel=dict(        \n",
    "        bgcolor=\"white\",\n",
    "        font_size=16,\n",
    "        font_family=\"Arial\",\n",
    "        align=\"left\"\n",
    "    ),\n",
    "    legend=dict(\n",
    "        yanchor=\"top\",\n",
    "        y=0.98,\n",
    "        xanchor=\"left\",\n",
    "        x=0.01,\n",
    "        title=\"\",\n",
    "        traceorder=\"normal\",\n",
    "        title_font_family=\"Times New Roman\",\n",
    "        font=dict(\n",
    "            family=\"Times New Roman\",\n",
    "            size=14,\n",
    "            color=\"black\"\n",
    "        ),\n",
    "        bgcolor=\"snow\",\n",
    "        bordercolor=\"Black\",\n",
    "        borderwidth=0.5\n",
    "    )\n",
    ")\n",
    "\n",
    "fig.update_traces(textfont_size=14, textposition=\"top right\", textfont_color=\"black\") \n",
    "\n",
    "fig.update_traces(\n",
    "    hovertemplate=\"%{customdata[0]}\",\n",
    "    marker=dict(size=20)\n",
    ")\n",
    "\n",
    "# Show the plot\n",
    "fig.show()"
   ]
  },
  {
   "cell_type": "markdown",
   "metadata": {},
   "source": [
    "Cluster 3: Bandar-e-anzali  \n",
    "Cluster 2: Baladeh  \n",
    "Cluster 1: Sari "
   ]
  },
  {
   "cell_type": "markdown",
   "metadata": {},
   "source": [
    "##### Hierarchical Clustering"
   ]
  },
  {
   "cell_type": "code",
   "execution_count": 36,
   "metadata": {},
   "outputs": [
    {
     "data": {
      "image/png": "[encoded data removed]",
      "text/plain": [
       "<Figure size 1200x600 with 1 Axes>"
      ]
     },
     "metadata": {},
     "output_type": "display_data"
    }
   ],
   "source": [
    "# Perform hierarchical clustering\n",
    "Z = linkage(station_data_scaled, method='ward')\n",
    "\n",
    "# Visualize dendrogram\n",
    "plt.figure(figsize=(12, 6))\n",
    "dendrogram(Z, labels=station_data['Station_Name'].values)\n",
    "plt.xticks(rotation=90)\n",
    "plt.show()"
   ]
  },
  {
   "cell_type": "code",
   "execution_count": 88,
   "metadata": {},
   "outputs": [],
   "source": [
    "station_data['Cluster'] = station_data['Cluster'].astype(str)\n",
    "station_data = station_data.sort_values('Cluster').reset_index(drop=True)\n",
    "station_data = station_data.round(2)\n",
    "station_data.to_csv('./assets/data/clustering_stations.csv', index=False)"
   ]
  }
 ],
 "metadata": {
  "kernelspec": {
   "display_name": ".venv",
   "language": "python",
   "name": "python3"
  },
  "language_info": {
   "codemirror_mode": {
    "name": "ipython",
    "version": 3
   },
   "file_extension": ".py",
   "mimetype": "text/x-python",
   "name": "python",
   "nbconvert_exporter": "python",
   "pygments_lexer": "ipython3",
   "version": "3.12.2"
  }
 },
 "nbformat": 4,
 "nbformat_minor": 2
}
