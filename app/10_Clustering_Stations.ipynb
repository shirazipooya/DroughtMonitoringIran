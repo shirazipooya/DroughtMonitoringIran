{
 "cells": [
  {
   "cell_type": "code",
   "execution_count": 36,
   "metadata": {},
   "outputs": [],
   "source": [
    "import os\n",
    "import sys\n",
    "import sqlite3\n",
    "import numpy as np\n",
    "import pandas as pd\n",
    "import geopandas as gpd\n",
    "import plotly.express as px\n",
    "import plotly.graph_objects as go\n",
    "import matplotlib.pyplot as plt\n",
    "import seaborn as sns\n",
    "import scipy.stats as scs\n",
    "from sklearn.preprocessing import StandardScaler\n",
    "from sklearn.cluster import KMeans\n",
    "from scipy.cluster.hierarchy import dendrogram, linkage\n",
    "from scipy.cluster.hierarchy import fcluster\n",
    "from sklearn.cluster import DBSCAN\n"
   ]
  },
  {
   "cell_type": "code",
   "execution_count": 37,
   "metadata": {},
   "outputs": [],
   "source": [
    "sys.path.append('/home/pooya/w/DroughtMonitoringIran/')\n",
    "\n",
    "DATABASE_PATH = \"./database/database.db\""
   ]
  },
  {
   "cell_type": "markdown",
   "metadata": {},
   "source": [
    "### Monthly Data"
   ]
  },
  {
   "cell_type": "code",
   "execution_count": 38,
   "metadata": {},
   "outputs": [],
   "source": [
    "conn = sqlite3.connect(DATABASE_PATH)\n",
    "\n",
    "data = pd.read_sql(sql='SELECT * FROM data', con=conn)\n",
    "data['Date'] = pd.to_datetime(data['Date'])\n",
    "# data['Date'] = data[\"Date\"].dt.to_period(\"M\").astype(str)\n",
    "data['Station_ID'] = data['Station_ID'].astype(str)\n",
    "\n",
    "conn.close()"
   ]
  },
  {
   "cell_type": "code",
   "execution_count": 39,
   "metadata": {},
   "outputs": [
    {
     "data": {
      "application/vnd.microsoft.datawrangler.viewer.v0+json": {
       "columns": [
        {
         "name": "index",
         "rawType": "int64",
         "type": "integer"
        },
        {
         "name": "Station_ID",
         "rawType": "object",
         "type": "string"
        },
        {
         "name": "Station_Name",
         "rawType": "object",
         "type": "string"
        },
        {
         "name": "Province",
         "rawType": "object",
         "type": "string"
        },
        {
         "name": "Station_Latitude",
         "rawType": "float64",
         "type": "float"
        },
        {
         "name": "Station_Longitude",
         "rawType": "float64",
         "type": "float"
        },
        {
         "name": "Station_Elevation",
         "rawType": "float64",
         "type": "float"
        },
        {
         "name": "Date",
         "rawType": "datetime64[ns]",
         "type": "datetime"
        },
        {
         "name": "Temperature_Maximum",
         "rawType": "float64",
         "type": "float"
        },
        {
         "name": "Temperature_Minimum",
         "rawType": "float64",
         "type": "float"
        },
        {
         "name": "Temperature",
         "rawType": "float64",
         "type": "float"
        },
        {
         "name": "Precipitation",
         "rawType": "float64",
         "type": "float"
        },
        {
         "name": "PET_Hargreaves",
         "rawType": "float64",
         "type": "float"
        },
        {
         "name": "SPI_1",
         "rawType": "float64",
         "type": "float"
        },
        {
         "name": "SPEI_1",
         "rawType": "float64",
         "type": "float"
        },
        {
         "name": "SPI_3",
         "rawType": "float64",
         "type": "float"
        },
        {
         "name": "SPEI_3",
         "rawType": "float64",
         "type": "float"
        },
        {
         "name": "SPI_6",
         "rawType": "float64",
         "type": "float"
        },
        {
         "name": "SPEI_6",
         "rawType": "float64",
         "type": "float"
        },
        {
         "name": "SPI_9",
         "rawType": "float64",
         "type": "float"
        },
        {
         "name": "SPEI_9",
         "rawType": "float64",
         "type": "float"
        },
        {
         "name": "SPI_12",
         "rawType": "float64",
         "type": "float"
        },
        {
         "name": "SPEI_12",
         "rawType": "float64",
         "type": "float"
        },
        {
         "name": "SPI_15",
         "rawType": "float64",
         "type": "float"
        },
        {
         "name": "SPEI_15",
         "rawType": "float64",
         "type": "float"
        },
        {
         "name": "SPI_18",
         "rawType": "float64",
         "type": "float"
        },
        {
         "name": "SPEI_18",
         "rawType": "float64",
         "type": "float"
        },
        {
         "name": "SPI_21",
         "rawType": "float64",
         "type": "float"
        },
        {
         "name": "SPEI_21",
         "rawType": "float64",
         "type": "float"
        },
        {
         "name": "SPI_24",
         "rawType": "float64",
         "type": "float"
        },
        {
         "name": "SPEI_24",
         "rawType": "float64",
         "type": "float"
        },
        {
         "name": "ERA5_Precipitation",
         "rawType": "float64",
         "type": "float"
        },
        {
         "name": "GPM_Precipitation",
         "rawType": "float64",
         "type": "float"
        },
        {
         "name": "TRMM_Precipitation",
         "rawType": "float64",
         "type": "float"
        },
        {
         "name": "TERRACLIMATE_Precipitation",
         "rawType": "float64",
         "type": "float"
        },
        {
         "name": "PERSIANNCDR_Precipitation",
         "rawType": "float64",
         "type": "float"
        },
        {
         "name": "PET_MOD16A2GF",
         "rawType": "float64",
         "type": "float"
        },
        {
         "name": "NDVI_MOD13A3",
         "rawType": "float64",
         "type": "float"
        },
        {
         "name": "LSTDay_MOD21C3",
         "rawType": "float64",
         "type": "float"
        },
        {
         "name": "LSTNight_MYD21C3",
         "rawType": "float64",
         "type": "float"
        },
        {
         "name": "EVI_MYD13A3",
         "rawType": "float64",
         "type": "float"
        },
        {
         "name": "LSTNight_MOD21C3",
         "rawType": "float64",
         "type": "float"
        },
        {
         "name": "NDVI_MYD13A3",
         "rawType": "float64",
         "type": "float"
        },
        {
         "name": "LSTDay_MYD21C3",
         "rawType": "float64",
         "type": "float"
        },
        {
         "name": "EVI_MOD13A3",
         "rawType": "float64",
         "type": "float"
        },
        {
         "name": "NDVI",
         "rawType": "float64",
         "type": "float"
        },
        {
         "name": "EVI",
         "rawType": "float64",
         "type": "float"
        },
        {
         "name": "LSTDay",
         "rawType": "float64",
         "type": "float"
        },
        {
         "name": "LSTNight",
         "rawType": "float64",
         "type": "float"
        },
        {
         "name": "LST",
         "rawType": "float64",
         "type": "float"
        },
        {
         "name": "PCI_ERA5",
         "rawType": "float64",
         "type": "float"
        },
        {
         "name": "PCI_GPM",
         "rawType": "float64",
         "type": "float"
        },
        {
         "name": "PCI_TRMM",
         "rawType": "float64",
         "type": "float"
        },
        {
         "name": "PCI_TerraClimate",
         "rawType": "float64",
         "type": "float"
        },
        {
         "name": "PCI_PERSIANNCDR",
         "rawType": "float64",
         "type": "float"
        },
        {
         "name": "VCI",
         "rawType": "float64",
         "type": "float"
        },
        {
         "name": "TCI",
         "rawType": "float64",
         "type": "float"
        },
        {
         "name": "VHI",
         "rawType": "float64",
         "type": "float"
        },
        {
         "name": "CI_GPM",
         "rawType": "float64",
         "type": "float"
        },
        {
         "name": "CI_ERA5",
         "rawType": "float64",
         "type": "float"
        },
        {
         "name": "CI_TRMM",
         "rawType": "float64",
         "type": "float"
        },
        {
         "name": "CI_TerraClimate",
         "rawType": "float64",
         "type": "float"
        },
        {
         "name": "CI_PERSIANNCDR",
         "rawType": "float64",
         "type": "float"
        },
        {
         "name": "ERA5_SPI_1",
         "rawType": "float64",
         "type": "float"
        },
        {
         "name": "ERA5_SPEI_1",
         "rawType": "float64",
         "type": "float"
        },
        {
         "name": "GPM_SPI_1",
         "rawType": "float64",
         "type": "float"
        },
        {
         "name": "GPM_SPEI_1",
         "rawType": "float64",
         "type": "float"
        },
        {
         "name": "TRMM_SPI_1",
         "rawType": "float64",
         "type": "float"
        },
        {
         "name": "TRMM_SPEI_1",
         "rawType": "float64",
         "type": "float"
        },
        {
         "name": "TERRACLIMATE_SPI_1",
         "rawType": "float64",
         "type": "float"
        },
        {
         "name": "TERRACLIMATE_SPEI_1",
         "rawType": "float64",
         "type": "float"
        },
        {
         "name": "PERSIANNCDR_SPI_1",
         "rawType": "float64",
         "type": "float"
        },
        {
         "name": "PERSIANNCDR_SPEI_1",
         "rawType": "float64",
         "type": "float"
        },
        {
         "name": "ERA5_SPI_3",
         "rawType": "float64",
         "type": "float"
        },
        {
         "name": "ERA5_SPEI_3",
         "rawType": "float64",
         "type": "float"
        },
        {
         "name": "GPM_SPI_3",
         "rawType": "float64",
         "type": "float"
        },
        {
         "name": "GPM_SPEI_3",
         "rawType": "float64",
         "type": "float"
        },
        {
         "name": "TRMM_SPI_3",
         "rawType": "float64",
         "type": "float"
        },
        {
         "name": "TRMM_SPEI_3",
         "rawType": "float64",
         "type": "float"
        },
        {
         "name": "TERRACLIMATE_SPI_3",
         "rawType": "float64",
         "type": "float"
        },
        {
         "name": "TERRACLIMATE_SPEI_3",
         "rawType": "float64",
         "type": "float"
        },
        {
         "name": "PERSIANNCDR_SPI_3",
         "rawType": "float64",
         "type": "float"
        },
        {
         "name": "PERSIANNCDR_SPEI_3",
         "rawType": "float64",
         "type": "float"
        },
        {
         "name": "ERA5_SPI_6",
         "rawType": "float64",
         "type": "float"
        },
        {
         "name": "ERA5_SPEI_6",
         "rawType": "float64",
         "type": "float"
        },
        {
         "name": "GPM_SPI_6",
         "rawType": "float64",
         "type": "float"
        },
        {
         "name": "GPM_SPEI_6",
         "rawType": "float64",
         "type": "float"
        },
        {
         "name": "TRMM_SPI_6",
         "rawType": "float64",
         "type": "float"
        },
        {
         "name": "TRMM_SPEI_6",
         "rawType": "float64",
         "type": "float"
        },
        {
         "name": "TERRACLIMATE_SPI_6",
         "rawType": "float64",
         "type": "float"
        },
        {
         "name": "TERRACLIMATE_SPEI_6",
         "rawType": "float64",
         "type": "float"
        },
        {
         "name": "PERSIANNCDR_SPI_6",
         "rawType": "float64",
         "type": "float"
        },
        {
         "name": "PERSIANNCDR_SPEI_6",
         "rawType": "float64",
         "type": "float"
        },
        {
         "name": "ERA5_SPI_9",
         "rawType": "float64",
         "type": "float"
        },
        {
         "name": "ERA5_SPEI_9",
         "rawType": "float64",
         "type": "float"
        },
        {
         "name": "GPM_SPI_9",
         "rawType": "float64",
         "type": "float"
        },
        {
         "name": "GPM_SPEI_9",
         "rawType": "float64",
         "type": "float"
        },
        {
         "name": "TRMM_SPI_9",
         "rawType": "float64",
         "type": "float"
        },
        {
         "name": "TRMM_SPEI_9",
         "rawType": "float64",
         "type": "float"
        },
        {
         "name": "TERRACLIMATE_SPI_9",
         "rawType": "float64",
         "type": "float"
        },
        {
         "name": "TERRACLIMATE_SPEI_9",
         "rawType": "float64",
         "type": "float"
        },
        {
         "name": "PERSIANNCDR_SPI_9",
         "rawType": "float64",
         "type": "float"
        },
        {
         "name": "PERSIANNCDR_SPEI_9",
         "rawType": "float64",
         "type": "float"
        },
        {
         "name": "ERA5_SPI_12",
         "rawType": "float64",
         "type": "float"
        },
        {
         "name": "ERA5_SPEI_12",
         "rawType": "float64",
         "type": "float"
        },
        {
         "name": "GPM_SPI_12",
         "rawType": "float64",
         "type": "float"
        },
        {
         "name": "GPM_SPEI_12",
         "rawType": "float64",
         "type": "float"
        },
        {
         "name": "TRMM_SPI_12",
         "rawType": "float64",
         "type": "float"
        },
        {
         "name": "TRMM_SPEI_12",
         "rawType": "float64",
         "type": "float"
        },
        {
         "name": "TERRACLIMATE_SPI_12",
         "rawType": "float64",
         "type": "float"
        },
        {
         "name": "TERRACLIMATE_SPEI_12",
         "rawType": "float64",
         "type": "float"
        },
        {
         "name": "PERSIANNCDR_SPI_12",
         "rawType": "float64",
         "type": "float"
        },
        {
         "name": "PERSIANNCDR_SPEI_12",
         "rawType": "float64",
         "type": "float"
        },
        {
         "name": "ERA5_SPI_15",
         "rawType": "float64",
         "type": "float"
        },
        {
         "name": "ERA5_SPEI_15",
         "rawType": "float64",
         "type": "float"
        },
        {
         "name": "GPM_SPI_15",
         "rawType": "float64",
         "type": "float"
        },
        {
         "name": "GPM_SPEI_15",
         "rawType": "float64",
         "type": "float"
        },
        {
         "name": "TRMM_SPI_15",
         "rawType": "float64",
         "type": "float"
        },
        {
         "name": "TRMM_SPEI_15",
         "rawType": "float64",
         "type": "float"
        },
        {
         "name": "TERRACLIMATE_SPI_15",
         "rawType": "float64",
         "type": "float"
        },
        {
         "name": "TERRACLIMATE_SPEI_15",
         "rawType": "float64",
         "type": "float"
        },
        {
         "name": "PERSIANNCDR_SPI_15",
         "rawType": "float64",
         "type": "float"
        },
        {
         "name": "PERSIANNCDR_SPEI_15",
         "rawType": "float64",
         "type": "float"
        },
        {
         "name": "ERA5_SPI_18",
         "rawType": "float64",
         "type": "float"
        },
        {
         "name": "ERA5_SPEI_18",
         "rawType": "float64",
         "type": "float"
        },
        {
         "name": "GPM_SPI_18",
         "rawType": "float64",
         "type": "float"
        },
        {
         "name": "GPM_SPEI_18",
         "rawType": "float64",
         "type": "float"
        },
        {
         "name": "TRMM_SPI_18",
         "rawType": "float64",
         "type": "float"
        },
        {
         "name": "TRMM_SPEI_18",
         "rawType": "float64",
         "type": "float"
        },
        {
         "name": "TERRACLIMATE_SPI_18",
         "rawType": "float64",
         "type": "float"
        },
        {
         "name": "TERRACLIMATE_SPEI_18",
         "rawType": "float64",
         "type": "float"
        },
        {
         "name": "PERSIANNCDR_SPI_18",
         "rawType": "float64",
         "type": "float"
        },
        {
         "name": "PERSIANNCDR_SPEI_18",
         "rawType": "float64",
         "type": "float"
        },
        {
         "name": "ERA5_SPI_21",
         "rawType": "float64",
         "type": "float"
        },
        {
         "name": "ERA5_SPEI_21",
         "rawType": "float64",
         "type": "float"
        },
        {
         "name": "GPM_SPI_21",
         "rawType": "float64",
         "type": "float"
        },
        {
         "name": "GPM_SPEI_21",
         "rawType": "float64",
         "type": "float"
        },
        {
         "name": "TRMM_SPI_21",
         "rawType": "float64",
         "type": "float"
        },
        {
         "name": "TRMM_SPEI_21",
         "rawType": "float64",
         "type": "float"
        },
        {
         "name": "TERRACLIMATE_SPI_21",
         "rawType": "float64",
         "type": "float"
        },
        {
         "name": "TERRACLIMATE_SPEI_21",
         "rawType": "float64",
         "type": "float"
        },
        {
         "name": "PERSIANNCDR_SPI_21",
         "rawType": "float64",
         "type": "float"
        },
        {
         "name": "PERSIANNCDR_SPEI_21",
         "rawType": "float64",
         "type": "float"
        },
        {
         "name": "ERA5_SPI_24",
         "rawType": "float64",
         "type": "float"
        },
        {
         "name": "ERA5_SPEI_24",
         "rawType": "float64",
         "type": "float"
        },
        {
         "name": "GPM_SPI_24",
         "rawType": "float64",
         "type": "float"
        },
        {
         "name": "GPM_SPEI_24",
         "rawType": "float64",
         "type": "float"
        },
        {
         "name": "TRMM_SPI_24",
         "rawType": "float64",
         "type": "float"
        },
        {
         "name": "TRMM_SPEI_24",
         "rawType": "float64",
         "type": "float"
        },
        {
         "name": "TERRACLIMATE_SPI_24",
         "rawType": "float64",
         "type": "float"
        },
        {
         "name": "TERRACLIMATE_SPEI_24",
         "rawType": "float64",
         "type": "float"
        },
        {
         "name": "PERSIANNCDR_SPI_24",
         "rawType": "float64",
         "type": "float"
        },
        {
         "name": "PERSIANNCDR_SPEI_24",
         "rawType": "float64",
         "type": "float"
        }
       ],
       "ref": "cdbbc775-25f8-4f01-bb91-5927c8e3e81a",
       "rows": [
        [
         "0",
         "40709",
         "Astara",
         "Gilan",
         "38.365",
         "48.855",
         "-21.1",
         "2006-09-01 00:00:00",
         "25.6",
         "18.4",
         "22.0",
         "286.95",
         "90.0",
         "0.577",
         "0.585",
         null,
         null,
         null,
         null,
         null,
         null,
         null,
         null,
         null,
         null,
         null,
         null,
         null,
         null,
         null,
         null,
         "130.801",
         "115.92",
         "54.358",
         "117.0",
         "39.081",
         "125.725",
         "0.545",
         "29.37",
         "18.67",
         "0.287",
         "24.09",
         "0.474",
         "25.87",
         "0.329",
         "0.51",
         "0.308",
         "27.62",
         "21.38",
         "24.5",
         "0.35",
         "0.456",
         "0.235",
         "0.412",
         "0.197",
         "0.271",
         "0.562",
         "0.416",
         "0.43",
         "0.394",
         "0.356",
         "0.415",
         "0.343",
         "-0.002",
         "0.016",
         "0.308",
         "0.233",
         "-0.386",
         "-0.538",
         "0.31",
         "0.307",
         "0.517",
         "0.376",
         null,
         null,
         null,
         null,
         null,
         null,
         null,
         null,
         null,
         null,
         null,
         null,
         null,
         null,
         null,
         null,
         null,
         null,
         null,
         null,
         null,
         null,
         null,
         null,
         null,
         null,
         null,
         null,
         null,
         null,
         null,
         null,
         null,
         null,
         null,
         null,
         null,
         null,
         null,
         null,
         null,
         null,
         null,
         null,
         null,
         null,
         null,
         null,
         null,
         null,
         null,
         null,
         null,
         null,
         null,
         null,
         null,
         null,
         null,
         null,
         null,
         null,
         null,
         null,
         null,
         null,
         null,
         null,
         null,
         null,
         null,
         null,
         null,
         null,
         null,
         null,
         null,
         null,
         null,
         null
        ],
        [
         "1",
         "40709",
         "Astara",
         "Gilan",
         "38.365",
         "48.855",
         "-21.1",
         "2006-10-01 00:00:00",
         "22.2",
         "16.7",
         "19.4",
         "263.65",
         "57.5",
         "0.182",
         "0.223",
         null,
         null,
         null,
         null,
         null,
         null,
         null,
         null,
         null,
         null,
         null,
         null,
         null,
         null,
         null,
         null,
         "280.789",
         "164.424",
         "120.468",
         "212.0",
         "84.028",
         "80.775",
         "0.602",
         "25.09",
         "16.37",
         "0.306",
         "16.09",
         "0.596",
         "22.93",
         "0.329",
         "0.599",
         "0.318",
         "24.01",
         "16.23",
         "20.12",
         "0.626",
         "0.492",
         "0.339",
         "0.483",
         "0.438",
         "0.832",
         "0.393",
         "0.613",
         "0.573",
         "0.617",
         "0.522",
         "0.57",
         "0.554",
         "0.495",
         "0.453",
         "0.658",
         "0.311",
         "0.414",
         "0.04",
         "1.474",
         "0.761",
         "0.759",
         "0.449",
         null,
         null,
         null,
         null,
         null,
         null,
         null,
         null,
         null,
         null,
         null,
         null,
         null,
         null,
         null,
         null,
         null,
         null,
         null,
         null,
         null,
         null,
         null,
         null,
         null,
         null,
         null,
         null,
         null,
         null,
         null,
         null,
         null,
         null,
         null,
         null,
         null,
         null,
         null,
         null,
         null,
         null,
         null,
         null,
         null,
         null,
         null,
         null,
         null,
         null,
         null,
         null,
         null,
         null,
         null,
         null,
         null,
         null,
         null,
         null,
         null,
         null,
         null,
         null,
         null,
         null,
         null,
         null,
         null,
         null,
         null,
         null,
         null,
         null,
         null,
         null,
         null,
         null,
         null,
         null
        ],
        [
         "2",
         "40709",
         "Astara",
         "Gilan",
         "38.365",
         "48.855",
         "-21.1",
         "2006-11-01 00:00:00",
         "16.6",
         "8.2",
         "12.4",
         "144.02",
         "42.8",
         "-0.405",
         "-0.519",
         "0.022",
         "0.052",
         null,
         null,
         null,
         null,
         null,
         null,
         null,
         null,
         null,
         null,
         null,
         null,
         null,
         null,
         "245.921",
         "101.52",
         "67.297",
         "122.0",
         "78.084",
         "44.0",
         "0.556",
         "18.23",
         "9.15",
         "0.28",
         "15.95",
         "0.552",
         "16.37",
         "0.292",
         "0.554",
         "0.286",
         "17.3",
         "12.55",
         "14.925",
         "0.485",
         "0.411",
         "0.324",
         "0.454",
         "0.611",
         "0.651",
         "0.377",
         "0.514",
         "0.48",
         "0.504",
         "0.451",
         "0.494",
         "0.546",
         "0.392",
         "0.433",
         "-0.171",
         "-0.113",
         "-0.52",
         "-0.489",
         "0.246",
         "0.252",
         "0.596",
         "0.629",
         "0.52",
         "0.466",
         "0.531",
         "0.304",
         "-0.298",
         "-0.415",
         "0.584",
         "0.547",
         "0.783",
         "0.575",
         null,
         null,
         null,
         null,
         null,
         null,
         null,
         null,
         null,
         null,
         null,
         null,
         null,
         null,
         null,
         null,
         null,
         null,
         null,
         null,
         null,
         null,
         null,
         null,
         null,
         null,
         null,
         null,
         null,
         null,
         null,
         null,
         null,
         null,
         null,
         null,
         null,
         null,
         null,
         null,
         null,
         null,
         null,
         null,
         null,
         null,
         null,
         null,
         null,
         null,
         null,
         null,
         null,
         null,
         null,
         null,
         null,
         null,
         null,
         null,
         null,
         null,
         null,
         null,
         null,
         null,
         null,
         null,
         null,
         null
        ],
        [
         "3",
         "40709",
         "Astara",
         "Gilan",
         "38.365",
         "48.855",
         "-21.1",
         "2006-12-01 00:00:00",
         "10.3",
         "2.5",
         "6.4",
         "80.62",
         "27.94",
         "-0.303",
         "-0.377",
         "0.104",
         "-0.005",
         null,
         null,
         null,
         null,
         null,
         null,
         null,
         null,
         null,
         null,
         null,
         null,
         null,
         null,
         "183.81",
         "77.376",
         "74.465",
         "110.0",
         "76.726",
         "35.025",
         "0.49",
         "10.49",
         "2.97",
         "0.21",
         "9.99",
         "0.433",
         "9.81",
         "0.261",
         "0.462",
         "0.236",
         "10.15",
         "6.48",
         "8.315",
         "0.689",
         "0.522",
         "0.562",
         "0.761",
         "0.841",
         "0.46",
         "0.916",
         "0.688",
         "0.633",
         "0.688",
         "0.646",
         "0.712",
         "0.739",
         "0.447",
         "0.477",
         "-0.206",
         "-0.095",
         "0.25",
         "0.402",
         "0.567",
         "0.646",
         "0.96",
         "1.028",
         "0.776",
         "0.668",
         "0.204",
         "0.166",
         "0.309",
         "-0.002",
         "0.853",
         "0.84",
         "0.947",
         "0.898",
         null,
         null,
         null,
         null,
         null,
         null,
         null,
         null,
         null,
         null,
         null,
         null,
         null,
         null,
         null,
         null,
         null,
         null,
         null,
         null,
         null,
         null,
         null,
         null,
         null,
         null,
         null,
         null,
         null,
         null,
         null,
         null,
         null,
         null,
         null,
         null,
         null,
         null,
         null,
         null,
         null,
         null,
         null,
         null,
         null,
         null,
         null,
         null,
         null,
         null,
         null,
         null,
         null,
         null,
         null,
         null,
         null,
         null,
         null,
         null,
         null,
         null,
         null,
         null,
         null,
         null,
         null,
         null,
         null,
         null
        ],
        [
         "4",
         "40709",
         "Astara",
         "Gilan",
         "38.365",
         "48.855",
         "-21.1",
         "2007-01-01 00:00:00",
         "12.8",
         "2.4",
         "7.6",
         "34.72",
         "39.0",
         "-1.251",
         "-1.598",
         "-1.009",
         "-1.316",
         null,
         null,
         null,
         null,
         null,
         null,
         null,
         null,
         null,
         null,
         null,
         null,
         null,
         null,
         "64.47",
         "26.04",
         "5.355",
         "26.0",
         "21.264",
         "60.4",
         "0.419",
         "11.37",
         "2.73",
         "0.202",
         "8.27",
         "0.417",
         "8.31",
         "0.188",
         "0.418",
         "0.195",
         "9.84",
         "5.5",
         "7.67",
         "0.104",
         "0.0",
         "0.0",
         "0.034",
         "0.0",
         "0.486",
         "0.213",
         "0.35",
         "0.233",
         "0.268",
         "0.233",
         "0.245",
         "0.233",
         "-1.202",
         "-1.213",
         "-1.997",
         "-1.773",
         "-1.835",
         "-1.772",
         "-1.747",
         "-1.609",
         "-2.211",
         "-1.72",
         "-0.103",
         "-0.177",
         "-0.689",
         "-1.148",
         "-1.08",
         "-1.046",
         "-0.122",
         "-0.277",
         "0.033",
         "0.422",
         null,
         null,
         null,
         null,
         null,
         null,
         null,
         null,
         null,
         null,
         null,
         null,
         null,
         null,
         null,
         null,
         null,
         null,
         null,
         null,
         null,
         null,
         null,
         null,
         null,
         null,
         null,
         null,
         null,
         null,
         null,
         null,
         null,
         null,
         null,
         null,
         null,
         null,
         null,
         null,
         null,
         null,
         null,
         null,
         null,
         null,
         null,
         null,
         null,
         null,
         null,
         null,
         null,
         null,
         null,
         null,
         null,
         null,
         null,
         null,
         null,
         null,
         null,
         null,
         null,
         null,
         null,
         null,
         null,
         null
        ],
        [
         "5",
         "40709",
         "Astara",
         "Gilan",
         "38.365",
         "48.855",
         "-21.1",
         "2007-02-01 00:00:00",
         "10.5",
         "3.5",
         "7.0",
         "168.45",
         "34.57",
         "1.522",
         "1.325",
         "0.205",
         "0.044",
         "0.095",
         "0.056",
         null,
         null,
         null,
         null,
         null,
         null,
         null,
         null,
         null,
         null,
         null,
         null,
         "149.894",
         "129.024",
         "128.861",
         "71.0",
         "85.086",
         "58.1",
         "0.489",
         "11.61",
         "2.99",
         "0.204",
         "8.65",
         "0.429",
         "8.95",
         "0.232",
         "0.459",
         "0.218",
         "10.28",
         "5.82",
         "8.05",
         "0.719",
         "0.797",
         "0.782",
         "0.329",
         "0.512",
         "0.897",
         "0.39",
         "0.643",
         "0.694",
         "0.668",
         "0.689",
         "0.538",
         "0.599",
         "0.839",
         "0.8",
         "1.331",
         "1.097",
         "0.987",
         "1.089",
         "0.623",
         "0.384",
         "0.862",
         "0.923",
         "-0.091",
         "-0.218",
         "-0.438",
         "-0.502",
         "0.696",
         "0.191",
         "-0.342",
         "-0.351",
         "0.291",
         "0.444",
         "0.439",
         "0.347",
         "0.218",
         "0.189",
         "-0.345",
         "-0.356",
         "0.472",
         "0.376",
         "0.58",
         "0.586",
         null,
         null,
         null,
         null,
         null,
         null,
         null,
         null,
         null,
         null,
         null,
         null,
         null,
         null,
         null,
         null,
         null,
         null,
         null,
         null,
         null,
         null,
         null,
         null,
         null,
         null,
         null,
         null,
         null,
         null,
         null,
         null,
         null,
         null,
         null,
         null,
         null,
         null,
         null,
         null,
         null,
         null,
         null,
         null,
         null,
         null,
         null,
         null,
         null,
         null,
         null,
         null,
         null,
         null,
         null,
         null,
         null,
         null,
         null,
         null
        ],
        [
         "6",
         "40709",
         "Astara",
         "Gilan",
         "38.365",
         "48.855",
         "-21.1",
         "2007-03-01 00:00:00",
         "10.9",
         "5.4",
         "8.2",
         "138.34",
         "48.17",
         "0.594",
         "0.714",
         "0.521",
         "0.491",
         "0.097",
         "0.15",
         null,
         null,
         null,
         null,
         null,
         null,
         null,
         null,
         null,
         null,
         null,
         null,
         "151.655",
         "100.44",
         "65.706",
         "90.0",
         "58.136",
         "76.4",
         "0.483",
         "13.47",
         "4.05",
         "0.209",
         "7.07",
         "0.486",
         "9.09",
         "0.259",
         "0.485",
         "0.234",
         "11.28",
         "5.56",
         "8.42",
         "0.568",
         "0.5",
         "0.431",
         "0.582",
         "0.445",
         "0.954",
         "1.0",
         "0.977",
         "0.818",
         "0.841",
         "0.795",
         "0.845",
         "0.8",
         "0.756",
         "1.017",
         "0.584",
         "1.025",
         "0.66",
         "0.918",
         "0.808",
         "1.222",
         "-0.058",
         "0.746",
         "0.124",
         "0.121",
         "0.113",
         "0.452",
         "0.144",
         "0.344",
         "-0.25",
         "0.18",
         "-0.202",
         "0.128",
         "0.801",
         "0.859",
         "0.178",
         "0.413",
         "-0.03",
         "0.111",
         "0.784",
         "0.968",
         "0.542",
         "0.789",
         null,
         null,
         null,
         null,
         null,
         null,
         null,
         null,
         null,
         null,
         null,
         null,
         null,
         null,
         null,
         null,
         null,
         null,
         null,
         null,
         null,
         null,
         null,
         null,
         null,
         null,
         null,
         null,
         null,
         null,
         null,
         null,
         null,
         null,
         null,
         null,
         null,
         null,
         null,
         null,
         null,
         null,
         null,
         null,
         null,
         null,
         null,
         null,
         null,
         null,
         null,
         null,
         null,
         null,
         null,
         null,
         null,
         null,
         null,
         null
        ],
        [
         "7",
         "40709",
         "Astara",
         "Gilan",
         "38.365",
         "48.855",
         "-21.1",
         "2007-04-01 00:00:00",
         "14.1",
         "8.9",
         "11.5",
         "174.22",
         "63.36",
         "1.32",
         "1.125",
         "1.328",
         "1.361",
         "0.564",
         "0.612",
         null,
         null,
         null,
         null,
         null,
         null,
         null,
         null,
         null,
         null,
         null,
         null,
         "98.136",
         "138.24",
         "91.811",
         "103.0",
         "92.77",
         "117.462",
         "0.43",
         "20.33",
         "8.07",
         "0.192",
         "9.95",
         "0.49",
         "11.67",
         "0.196",
         "0.46",
         "0.194",
         "16.0",
         "9.01",
         "12.505",
         "0.446",
         "0.909",
         "0.809",
         "0.795",
         "0.787",
         "0.393",
         "1.0",
         "0.696",
         "0.767",
         "0.613",
         "0.734",
         "0.729",
         "0.727",
         "0.506",
         "0.819",
         "1.502",
         "1.289",
         "1.032",
         "1.111",
         "1.318",
         "1.239",
         "1.124",
         "1.155",
         "0.978",
         "1.161",
         "1.608",
         "1.583",
         "1.195",
         "1.343",
         "1.287",
         "1.293",
         "0.911",
         "1.22",
         "0.489",
         "0.806",
         "0.696",
         "1.039",
         "0.325",
         "0.611",
         "0.885",
         "1.159",
         "0.754",
         "1.077",
         null,
         null,
         null,
         null,
         null,
         null,
         null,
         null,
         null,
         null,
         null,
         null,
         null,
         null,
         null,
         null,
         null,
         null,
         null,
         null,
         null,
         null,
         null,
         null,
         null,
         null,
         null,
         null,
         null,
         null,
         null,
         null,
         null,
         null,
         null,
         null,
         null,
         null,
         null,
         null,
         null,
         null,
         null,
         null,
         null,
         null,
         null,
         null,
         null,
         null,
         null,
         null,
         null,
         null,
         null,
         null,
         null,
         null,
         null,
         null
        ],
        [
         "8",
         "40709",
         "Astara",
         "Gilan",
         "38.365",
         "48.855",
         "-21.1",
         "2007-05-01 00:00:00",
         "23.0",
         "14.8",
         "18.9",
         "6.5",
         "121.74",
         "-6.892",
         "-2.011",
         "0.735",
         "0.825",
         "0.538",
         "0.606",
         "0.318",
         "0.317",
         null,
         null,
         null,
         null,
         null,
         null,
         null,
         null,
         null,
         null,
         "40.222",
         "26.784",
         "23.259",
         "24.0",
         "31.466",
         "185.038",
         "0.396",
         "27.91",
         "15.75",
         "0.227",
         "16.71",
         "0.447",
         "19.53",
         "0.213",
         "0.422",
         "0.22",
         "23.72",
         "16.23",
         "19.975",
         "0.0",
         "0.0",
         "0.0",
         "0.114",
         "0.0",
         "0.0",
         "0.695",
         "0.347",
         "0.232",
         "0.232",
         "0.232",
         "0.269",
         "0.232",
         "-2.472",
         "-0.774",
         "-7.604",
         "-0.506",
         "-1.658",
         "-0.371",
         "-0.321",
         "0.405",
         "-5.175",
         "-0.28",
         "0.13",
         "0.81",
         "0.766",
         "1.348",
         "0.716",
         "1.191",
         "0.438",
         "1.561",
         "0.253",
         "1.0",
         "0.026",
         "0.511",
         "0.478",
         "1.066",
         "0.534",
         "0.953",
         "0.902",
         "1.357",
         "0.348",
         "0.843",
         "0.371",
         "0.587",
         "0.368",
         "0.66",
         "-0.296",
         "-0.038",
         "0.863",
         "1.002",
         "0.479",
         "0.833",
         null,
         null,
         null,
         null,
         null,
         null,
         null,
         null,
         null,
         null,
         null,
         null,
         null,
         null,
         null,
         null,
         null,
         null,
         null,
         null,
         null,
         null,
         null,
         null,
         null,
         null,
         null,
         null,
         null,
         null,
         null,
         null,
         null,
         null,
         null,
         null,
         null,
         null,
         null,
         null,
         null,
         null,
         null,
         null,
         null,
         null,
         null,
         null,
         null,
         null
        ],
        [
         "9",
         "40709",
         "Astara",
         "Gilan",
         "38.365",
         "48.855",
         "-21.1",
         "2007-06-01 00:00:00",
         "28.0",
         "19.7",
         "23.8",
         "26.83",
         "139.43",
         "0.541",
         "0.351",
         "0.865",
         "0.797",
         "0.781",
         "0.865",
         "0.29",
         "0.368",
         null,
         null,
         null,
         null,
         null,
         null,
         null,
         null,
         null,
         null,
         "50.539",
         "30.24",
         "23.223",
         "31.0",
         "35.224",
         "213.95",
         "0.615",
         "31.63",
         "19.39",
         "0.362",
         "22.03",
         "0.591",
         "25.97",
         "0.383",
         "0.603",
         "0.372",
         "28.8",
         "20.71",
         "24.755",
         "0.846",
         "0.359",
         "0.418",
         "0.531",
         "0.241",
         "0.463",
         "0.648",
         "0.555",
         "0.49",
         "0.652",
         "0.51",
         "0.547",
         "0.451",
         "0.835",
         "0.936",
         "0.089",
         "0.467",
         "-0.16",
         "0.174",
         "1.069",
         "0.798",
         "0.493",
         "0.643",
         "-0.32",
         "0.546",
         "0.663",
         "1.3",
         "0.565",
         "1.111",
         "1.473",
         "1.686",
         "0.338",
         "0.96",
         "-0.211",
         "0.346",
         "0.466",
         "1.121",
         "0.358",
         "0.928",
         "0.663",
         "1.199",
         "0.015",
         "0.633",
         "0.763",
         "1.089",
         "0.3",
         "0.839",
         "-0.009",
         "0.346",
         "1.113",
         "1.386",
         "0.55",
         "1.006",
         null,
         null,
         null,
         null,
         null,
         null,
         null,
         null,
         null,
         null,
         null,
         null,
         null,
         null,
         null,
         null,
         null,
         null,
         null,
         null,
         null,
         null,
         null,
         null,
         null,
         null,
         null,
         null,
         null,
         null,
         null,
         null,
         null,
         null,
         null,
         null,
         null,
         null,
         null,
         null,
         null,
         null,
         null,
         null,
         null,
         null,
         null,
         null,
         null,
         null
        ],
        [
         "10",
         "40709",
         "Astara",
         "Gilan",
         "38.365",
         "48.855",
         "-21.1",
         "2007-07-01 00:00:00",
         "28.7",
         "20.8",
         "24.7",
         "28.47",
         "140.37",
         "0.758",
         "0.501",
         "-0.611",
         "-0.286",
         "0.975",
         "1.231",
         "0.332",
         "0.388",
         null,
         null,
         null,
         null,
         null,
         null,
         null,
         null,
         null,
         null,
         "66.709",
         "30.504",
         "13.307",
         "21.0",
         "11.323",
         "215.275",
         "0.724",
         "33.57",
         "22.99",
         "0.427",
         "27.09",
         "0.687",
         "27.75",
         "0.413",
         "0.706",
         "0.42",
         "30.66",
         "25.04",
         "27.85",
         "0.594",
         "0.327",
         "0.216",
         "0.513",
         "0.139",
         "0.878",
         "0.779",
         "0.829",
         "0.661",
         "0.75",
         "0.625",
         "0.723",
         "0.599",
         "0.876",
         "1.049",
         "0.231",
         "0.64",
         "0.343",
         "0.564",
         "0.856",
         "1.243",
         "0.193",
         "0.455",
         "0.204",
         "0.705",
         "-0.411",
         "0.251",
         "-1.068",
         "0.276",
         "0.83",
         "0.857",
         "-0.215",
         "0.272",
         "0.943",
         "1.577",
         "1.313",
         "1.802",
         "1.097",
         "1.417",
         "1.392",
         "1.977",
         "0.383",
         "1.264",
         "0.42",
         "1.014",
         "0.299",
         "1.012",
         "0.775",
         "0.681",
         "0.272",
         "1.418",
         "0.322",
         "1.202",
         null,
         null,
         null,
         null,
         null,
         null,
         null,
         null,
         null,
         null,
         null,
         null,
         null,
         null,
         null,
         null,
         null,
         null,
         null,
         null,
         null,
         null,
         null,
         null,
         null,
         null,
         null,
         null,
         null,
         null,
         null,
         null,
         null,
         null,
         null,
         null,
         null,
         null,
         null,
         null,
         null,
         null,
         null,
         null,
         null,
         null,
         null,
         null,
         null,
         null
        ],
        [
         "11",
         "40709",
         "Astara",
         "Gilan",
         "38.365",
         "48.855",
         "-21.1",
         "2007-08-01 00:00:00",
         "31.6",
         "22.1",
         "26.8",
         "4.74",
         "146.95",
         "-0.674",
         "-0.902",
         "-1.063",
         "-0.78",
         "0.563",
         "0.371",
         "0.238",
         "0.342",
         "0.044",
         "0.148",
         null,
         null,
         null,
         null,
         null,
         null,
         null,
         null,
         "15.814",
         "13.392",
         "4.436",
         "53.0",
         "11.978",
         "193.05",
         "0.601",
         "34.31",
         "23.43",
         "0.364",
         "27.27",
         "0.592",
         "29.31",
         "0.387",
         "0.597",
         "0.376",
         "31.81",
         "25.35",
         "28.58",
         "0.07",
         "0.062",
         "0.054",
         "0.461",
         "0.337",
         "0.559",
         "0.226",
         "0.392",
         "0.282",
         "0.285",
         "0.28",
         "0.415",
         "0.374",
         "-0.473",
         "-0.467",
         "-0.537",
         "-0.518",
         "-0.337",
         "-0.675",
         "0.656",
         "0.341",
         "0.854",
         "0.019",
         "-0.023",
         "0.256",
         "-0.757",
         "-0.101",
         "-0.014",
         "-0.38",
         "0.743",
         "0.963",
         "0.106",
         "0.51",
         "-0.014",
         "0.667",
         "0.306",
         "0.222",
         "0.528",
         "0.443",
         "1.321",
         "1.756",
         "0.112",
         "1.105",
         "-0.149",
         "0.421",
         "0.116",
         "0.714",
         "0.156",
         "0.664",
         "0.285",
         "1.682",
         "0.176",
         "0.981",
         "0.224",
         "0.648",
         "0.169",
         "0.566",
         "-0.446",
         "-0.086",
         "0.984",
         "1.231",
         "0.399",
         "0.843",
         null,
         null,
         null,
         null,
         null,
         null,
         null,
         null,
         null,
         null,
         null,
         null,
         null,
         null,
         null,
         null,
         null,
         null,
         null,
         null,
         null,
         null,
         null,
         null,
         null,
         null,
         null,
         null,
         null,
         null,
         null,
         null,
         null,
         null,
         null,
         null,
         null,
         null,
         null,
         null
        ],
        [
         "12",
         "40709",
         "Astara",
         "Gilan",
         "38.365",
         "48.855",
         "-21.1",
         "2007-09-01 00:00:00",
         "27.7",
         "20.3",
         "24.0",
         "98.17",
         "97.14",
         "-1.68",
         "-1.606",
         "-1.935",
         "-1.665",
         "-1.096",
         "-0.903",
         "-0.544",
         "-0.451",
         "-0.616",
         "-0.548",
         null,
         null,
         null,
         null,
         null,
         null,
         null,
         null,
         "55.605",
         "51.12",
         "1.024",
         "37.0",
         "2.046",
         "123.825",
         "0.594",
         "32.25",
         "20.47",
         "0.296",
         "22.19",
         "0.494",
         "27.15",
         "0.374",
         "0.544",
         "0.335",
         "29.7",
         "21.33",
         "25.515",
         "0.101",
         "0.058",
         "0.004",
         "0.058",
         "0.01",
         "0.494",
         "0.382",
         "0.438",
         "0.311",
         "0.326",
         "0.293",
         "0.311",
         "0.295",
         "-1.395",
         "-1.432",
         "-1.278",
         "-1.23",
         "-1.578",
         "-1.439",
         "-1.497",
         "-1.477",
         "-0.895",
         "-1.21",
         "-0.841",
         "-0.816",
         "-2.08",
         "-1.172",
         "-1.709",
         "-1.435",
         "-0.789",
         "-0.46",
         "-7.291",
         "-0.709",
         "-6.402",
         "-0.171",
         "-0.618",
         "0.118",
         "-1.08",
         "-0.488",
         "0.045",
         "0.665",
         "-0.011",
         "0.319",
         "-0.969",
         "-0.385",
         "-0.199",
         "0.257",
         "-0.552",
         "-0.042",
         "-0.186",
         "0.632",
         "-0.249",
         "0.329",
         "0.026",
         "0.166",
         "-0.289",
         "0.222",
         "-0.521",
         "-0.206",
         "0.662",
         "0.996",
         "0.227",
         "0.722",
         null,
         null,
         null,
         null,
         null,
         null,
         null,
         null,
         null,
         null,
         null,
         null,
         null,
         null,
         null,
         null,
         null,
         null,
         null,
         null,
         null,
         null,
         null,
         null,
         null,
         null,
         null,
         null,
         null,
         null,
         null,
         null,
         null,
         null,
         null,
         null,
         null,
         null,
         null,
         null
        ],
        [
         "13",
         "40709",
         "Astara",
         "Gilan",
         "38.365",
         "48.855",
         "-21.1",
         "2007-10-01 00:00:00",
         "22.5",
         "15.4",
         "19.0",
         "103.88",
         "65.69",
         "-1.315",
         "-1.404",
         "-2.574",
         "-2.392",
         "-2.405",
         "-2.211",
         "-1.366",
         "-1.22",
         "-4.795",
         "-1.911",
         null,
         null,
         null,
         null,
         null,
         null,
         null,
         null,
         "124.031",
         "61.752",
         "24.203",
         "52.0",
         "16.229",
         "84.525",
         "0.6",
         "24.89",
         "15.69",
         "0.318",
         "14.71",
         "0.566",
         "22.51",
         "0.345",
         "0.583",
         "0.332",
         "23.7",
         "15.2",
         "19.45",
         "0.153",
         "0.076",
         "0.062",
         "0.003",
         "0.062",
         "0.742",
         "0.557",
         "0.649",
         "0.458",
         "0.484",
         "0.454",
         "0.434",
         "0.454",
         "-1.418",
         "-1.395",
         "-0.735",
         "-1.218",
         "-0.781",
         "-1.358",
         "-1.022",
         "-1.541",
         "-0.669",
         "-1.136",
         "-1.763",
         "-1.622",
         "-2.025",
         "-1.867",
         "-2.051",
         "-1.95",
         "-1.554",
         "-1.521",
         "-1.675",
         "-1.639",
         "-1.658",
         "-1.336",
         "-0.752",
         "-1.36",
         "-2.096",
         "-1.885",
         "-1.393",
         "-0.941",
         "-2.441",
         "-0.988",
         "-1.198",
         "-0.548",
         "-0.608",
         "0.149",
         "-0.6",
         "-0.255",
         "-0.449",
         "0.33",
         "-0.113",
         "0.436",
         "-1.275",
         "-0.913",
         "-1.179",
         "-0.543",
         "-5.436",
         "-1.132",
         "-0.753",
         "-0.001",
         "0.326",
         "0.419",
         null,
         null,
         null,
         null,
         null,
         null,
         null,
         null,
         null,
         null,
         null,
         null,
         null,
         null,
         null,
         null,
         null,
         null,
         null,
         null,
         null,
         null,
         null,
         null,
         null,
         null,
         null,
         null,
         null,
         null,
         null,
         null,
         null,
         null,
         null,
         null,
         null,
         null,
         null,
         null
        ],
        [
         "14",
         "40709",
         "Astara",
         "Gilan",
         "38.365",
         "48.855",
         "-21.1",
         "2007-11-01 00:00:00",
         "15.1",
         "8.0",
         "11.6",
         "131.36",
         "36.86",
         "-0.554",
         "-0.602",
         "-1.954",
         "-1.938",
         "-2.26",
         "-1.971",
         "-2.102",
         "-1.792",
         "-1.78",
         "-1.572",
         "-1.176",
         "-1.174",
         null,
         null,
         null,
         null,
         null,
         null,
         "228.955",
         "102.24",
         "82.455",
         "91.0",
         "61.588",
         "48.1",
         "0.575",
         "15.51",
         "7.69",
         "0.259",
         "11.93",
         "0.507",
         "15.15",
         "0.305",
         "0.541",
         "0.282",
         "15.33",
         "9.81",
         "12.57",
         "0.442",
         "0.415",
         "0.397",
         "0.312",
         "0.479",
         "0.591",
         "0.711",
         "0.651",
         "0.572",
         "0.581",
         "0.566",
         "0.538",
         "0.594",
         "0.221",
         "0.211",
         "-0.156",
         "-0.183",
         "-0.224",
         "-0.28",
         "-0.41",
         "-0.459",
         "0.052",
         "0.0",
         "-1.638",
         "-1.571",
         "-3.466",
         "-1.55",
         "-2.121",
         "-1.645",
         "-1.606",
         "-1.542",
         "-6.879",
         "-1.35",
         "-2.089",
         "-1.321",
         "-2.113",
         "-1.235",
         "-1.651",
         "-1.435",
         "-1.717",
         "-1.144",
         "-0.876",
         "-0.73",
         "-2.021",
         "-0.748",
         "-1.156",
         "-0.358",
         "-1.785",
         "-0.937",
         "-0.528",
         "0.028",
         "-0.748",
         "0.076",
         "-5.544",
         "-0.803",
         "-1.071",
         "-0.476",
         "-1.273",
         "-0.753",
         "-1.128",
         "-0.067",
         "-0.113",
         "0.228",
         "-0.129",
         "-0.596",
         "-0.689",
         "-0.294",
         "-0.769",
         "-0.95",
         "0.388",
         "0.282",
         "-0.041",
         "0.414",
         null,
         null,
         null,
         null,
         null,
         null,
         null,
         null,
         null,
         null,
         null,
         null,
         null,
         null,
         null,
         null,
         null,
         null,
         null,
         null,
         null,
         null,
         null,
         null,
         null,
         null,
         null,
         null,
         null,
         null
        ],
        [
         "15",
         "40709",
         "Astara",
         "Gilan",
         "38.365",
         "48.855",
         "-21.1",
         "2007-12-01 00:00:00",
         "10.6",
         "4.0",
         "7.3",
         "100.53",
         "26.7",
         "0.178",
         "0.178",
         "-8.006",
         "-2.09",
         "-2.247",
         "-1.929",
         "-2.087",
         "-1.789",
         "-1.691",
         "-1.484",
         "-6.547",
         "-1.948",
         null,
         null,
         null,
         null,
         null,
         null,
         "205.146",
         "72.168",
         "37.982",
         "134.0",
         "49.304",
         "29.675",
         "0.476",
         "11.53",
         "4.33",
         "0.262",
         "10.45",
         "0.516",
         "10.79",
         "0.235",
         "0.496",
         "0.249",
         "11.16",
         "7.39",
         "9.275",
         "0.789",
         "0.478",
         "0.285",
         "0.94",
         "0.498",
         "0.624",
         "0.706",
         "0.665",
         "0.603",
         "0.706",
         "0.538",
         "0.757",
         "0.609",
         "0.772",
         "0.869",
         "-0.364",
         "-0.091",
         "-0.802",
         "-0.501",
         "1.196",
         "1.329",
         "-0.234",
         "0.174",
         "-0.43",
         "-0.54",
         "-1.089",
         "-0.936",
         "-1.339",
         "-1.063",
         "-0.808",
         "-0.8",
         "-0.963",
         "-0.79",
         "-1.114",
         "-0.928",
         "-1.561",
         "-1.197",
         "-1.608",
         "-1.371",
         "-0.443",
         "-0.868",
         "-1.316",
         "-0.893",
         "-0.908",
         "-0.687",
         "-0.058",
         "-0.678",
         "-1.853",
         "-1.266",
         "-0.746",
         "-0.166",
         "-0.785",
         "-0.136",
         "-0.973",
         "-0.512",
         "-1.039",
         "-0.427",
         "-1.128",
         "-0.857",
         "-0.737",
         "-0.087",
         "-0.516",
         "0.076",
         "-0.586",
         "-0.134",
         "-0.754",
         "-0.267",
         "-1.116",
         "-0.818",
         "-0.032",
         "0.484",
         "-0.094",
         "0.535",
         null,
         null,
         null,
         null,
         null,
         null,
         null,
         null,
         null,
         null,
         null,
         null,
         null,
         null,
         null,
         null,
         null,
         null,
         null,
         null,
         null,
         null,
         null,
         null,
         null,
         null,
         null,
         null,
         null,
         null
        ],
        [
         "16",
         "40709",
         "Astara",
         "Gilan",
         "38.365",
         "48.855",
         "-21.1",
         "2008-01-01 00:00:00",
         "4.4",
         "-2.1",
         "1.2",
         "89.51",
         "22.01",
         "0.299",
         "0.439",
         "-0.429",
         "-0.506",
         "-2.344",
         "-2.085",
         "-2.194",
         "-1.964",
         "-1.558",
         "-1.464",
         "-2.041",
         "-1.985",
         null,
         null,
         null,
         null,
         null,
         null,
         "228.891",
         "90.768",
         "77.385",
         "68.0",
         "44.699",
         "31.55",
         "0.464",
         "2.81",
         "1.25",
         "0.188",
         "3.63",
         "0.424",
         "4.23",
         "0.176",
         "0.444",
         "0.182",
         "3.52",
         "2.44",
         "2.98",
         "0.919",
         "0.388",
         "0.615",
         "0.517",
         "0.221",
         "0.645",
         "1.0",
         "0.823",
         "0.678",
         "0.855",
         "0.753",
         "0.721",
         "0.622",
         "1.399",
         "1.359",
         "0.33",
         "0.871",
         "0.28",
         "0.665",
         "0.465",
         "0.963",
         "-0.315",
         "0.235",
         "1.322",
         "1.345",
         "-0.084",
         "0.217",
         "-0.331",
         "-0.03",
         "0.408",
         "0.707",
         "-0.434",
         "0.463",
         "-0.713",
         "-0.593",
         "-1.544",
         "-1.211",
         "-1.576",
         "-1.413",
         "-0.623",
         "-0.901",
         "-6.879",
         "-0.916",
         "-0.67",
         "-0.265",
         "-0.926",
         "-0.962",
         "-1.6",
         "-1.268",
         "-1.121",
         "-0.575",
         "-2.237",
         "-0.701",
         "-0.128",
         "0.468",
         "-0.625",
         "0.258",
         "-0.491",
         "-0.131",
         "-0.459",
         "0.371",
         "-0.445",
         "0.482",
         "-0.336",
         "0.268",
         "-1.175",
         "-0.243",
         "-6.838",
         "-0.692",
         "-0.656",
         "0.266",
         "-0.494",
         "0.446",
         null,
         null,
         null,
         null,
         null,
         null,
         null,
         null,
         null,
         null,
         null,
         null,
         null,
         null,
         null,
         null,
         null,
         null,
         null,
         null,
         null,
         null,
         null,
         null,
         null,
         null,
         null,
         null,
         null,
         null
        ],
        [
         "17",
         "40709",
         "Astara",
         "Gilan",
         "38.365",
         "48.855",
         "-21.1",
         "2008-02-01 00:00:00",
         "8.4",
         "0.9",
         "4.7",
         "49.26",
         "35.13",
         "-1.078",
         "-1.114",
         "-0.536",
         "-0.487",
         "-2.199",
         "-2.122",
         "-2.305",
         "-1.941",
         "-1.966",
         "-1.736",
         "-0.417",
         "-1.557",
         "-1.186",
         "-1.171",
         null,
         null,
         null,
         null,
         "108.359",
         "65.424",
         "36.403",
         "94.0",
         "43.623",
         "68.812",
         "0.407",
         "11.21",
         "1.89",
         "0.163",
         "5.31",
         "0.376",
         "5.53",
         "0.187",
         "0.391",
         "0.175",
         "8.37",
         "3.6",
         "5.985",
         "0.398",
         "0.197",
         "0.188",
         "0.632",
         "0.157",
         "0.288",
         "0.781",
         "0.534",
         "0.422",
         "0.489",
         "0.419",
         "0.567",
         "0.409",
         "-0.27",
         "-0.429",
         "0.15",
         "-0.605",
         "-0.641",
         "-0.936",
         "1.377",
         "0.652",
         "-0.559",
         "-1.034",
         "0.499",
         "1.878",
         "-0.546",
         "0.15",
         "-1.768",
         "-0.891",
         "1.729",
         "1.995",
         "-0.773",
         "-0.199",
         "-0.489",
         "-0.499",
         "-2.142",
         "-1.505",
         "-2.05",
         "-1.902",
         "-1.23",
         "-1.014",
         "-2.285",
         "-1.457",
         "-0.383",
         "-0.154",
         "-1.584",
         "-0.986",
         "-1.735",
         "-1.598",
         "-0.107",
         "-0.513",
         "-6.066",
         "-0.792",
         "-0.385",
         "0.17",
         "-0.724",
         "-0.3",
         "-2.12",
         "-1.204",
         "-0.299",
         "0.455",
         "-0.211",
         "-0.033",
         "-0.478",
         "0.088",
         "-1.146",
         "-0.382",
         "-7.027",
         "-0.853",
         "-0.488",
         "0.305",
         "-0.787",
         "0.113",
         "-0.145",
         "0.223",
         "-0.759",
         "-0.299",
         "-0.934",
         "-1.008",
         "0.194",
         "0.672",
         "-0.292",
         "0.249",
         null,
         null,
         null,
         null,
         null,
         null,
         null,
         null,
         null,
         null,
         null,
         null,
         null,
         null,
         null,
         null,
         null,
         null,
         null,
         null
        ],
        [
         "18",
         "40709",
         "Astara",
         "Gilan",
         "38.365",
         "48.855",
         "-21.1",
         "2008-03-01 00:00:00",
         "17.0",
         "7.8",
         "12.4",
         "17.03",
         "73.76",
         "-2.263",
         "-2.203",
         "-1.519",
         "-1.577",
         "-2.335",
         "-2.419",
         "-2.231",
         "-1.962",
         "-2.162",
         "-1.874",
         "-0.796",
         "-1.648",
         "-1.73",
         "-1.724",
         null,
         null,
         null,
         null,
         "18.644",
         "20.832",
         "4.063",
         "19.0",
         "12.071",
         "149.162",
         "0.371",
         "20.05",
         "7.73",
         "0.175",
         "9.03",
         "0.405",
         "10.35",
         "0.172",
         "0.388",
         "0.174",
         "15.2",
         "8.38",
         "11.79",
         "0.0",
         "0.0",
         "0.004",
         "0.0",
         "0.0",
         "0.288",
         "0.318",
         "0.303",
         "0.202",
         "0.202",
         "0.203",
         "0.202",
         "0.202",
         "-2.35",
         "-2.173",
         "-2.079",
         "-2.151",
         "-2.192",
         "-1.906",
         "-2.087",
         "-2.16",
         "-2.231",
         "-2.442",
         "0.116",
         "-0.561",
         "-1.264",
         "-1.436",
         "-0.139",
         "-1.248",
         "-0.406",
         "-0.988",
         "-1.646",
         "-1.782",
         "-0.675",
         "-1.061",
         "-2.222",
         "-2.135",
         "-2.106",
         "-2.017",
         "-1.265",
         "-1.487",
         "-2.319",
         "-2.25",
         "-1.407",
         "-1.307",
         "-0.425",
         "-1.785",
         "-1.808",
         "-1.819",
         "-1.491",
         "-1.353",
         "-2.254",
         "-2.001",
         "-1.679",
         "-1.084",
         "-1.797",
         "-1.281",
         "-1.882",
         "-1.912",
         "-1.177",
         "-0.608",
         "-2.029",
         "-1.539",
         "-1.24",
         "-0.905",
         "-0.62",
         "-0.999",
         "-5.099",
         "-2.087",
         "-1.16",
         "-0.527",
         "-1.449",
         "-0.928",
         "-0.091",
         "-0.173",
         "-0.882",
         "-0.786",
         "-6.564",
         "-0.808",
         "-0.171",
         "0.227",
         "-0.703",
         "-0.336",
         null,
         null,
         null,
         null,
         null,
         null,
         null,
         null,
         null,
         null,
         null,
         null,
         null,
         null,
         null,
         null,
         null,
         null,
         null,
         null
        ],
        [
         "19",
         "40709",
         "Astara",
         "Gilan",
         "38.365",
         "48.855",
         "-21.1",
         "2008-04-01 00:00:00",
         "19.3",
         "11.4",
         "15.3",
         "2.3",
         "90.86",
         "-6.828",
         "-1.543",
         "-2.101",
         "-1.909",
         "-1.767",
         "-1.774",
         "-2.345",
         "-2.111",
         "-2.392",
         "-2.136",
         "-1.882",
         "-1.91",
         "-1.828",
         "-1.831",
         null,
         null,
         null,
         null,
         "73.806",
         "15.84",
         "7.532",
         "10.0",
         "12.515",
         "155.775",
         "0.473",
         "25.81",
         "11.91",
         "0.209",
         "14.19",
         "0.459",
         "15.39",
         "0.256",
         "0.466",
         "0.233",
         "20.6",
         "13.05",
         "16.825",
         "0.301",
         "0.0",
         "0.0",
         "0.0",
         "0.0",
         "0.442",
         "0.083",
         "0.263",
         "0.175",
         "0.275",
         "0.175",
         "0.175",
         "0.175",
         "-0.004",
         "-0.387",
         "-2.259",
         "-1.989",
         "-2.058",
         "-1.723",
         "-2.145",
         "-1.787",
         "-2.072",
         "-1.883",
         "-1.452",
         "-1.724",
         "-2.261",
         "-2.134",
         "-2.047",
         "-1.921",
         "-1.382",
         "-1.791",
         "-1.887",
         "-1.879",
         "0.25",
         "-0.119",
         "-1.78",
         "-1.674",
         "-1.84",
         "-1.666",
         "-0.664",
         "-1.108",
         "-2.134",
         "-2.124",
         "-1.396",
         "-1.514",
         "-2.234",
         "-1.858",
         "-2.034",
         "-1.9",
         "-1.681",
         "-1.745",
         "-2.251",
         "-2.074",
         "-1.447",
         "-1.169",
         "-2.309",
         "-1.719",
         "-2.114",
         "-1.907",
         "-0.074",
         "-1.432",
         "-2.257",
         "-1.996",
         "-0.679",
         "-0.559",
         "-1.497",
         "-1.004",
         "-2.1",
         "-2.028",
         "-1.306",
         "-0.238",
         "-1.691",
         "-0.09",
         "-1.029",
         "-0.764",
         "-1.829",
         "-1.345",
         "-2.057",
         "-1.984",
         "-7.637",
         "-0.68",
         "-1.567",
         "-1.265",
         null,
         null,
         null,
         null,
         null,
         null,
         null,
         null,
         null,
         null,
         null,
         null,
         null,
         null,
         null,
         null,
         null,
         null,
         null,
         null
        ],
        [
         "20",
         "40709",
         "Astara",
         "Gilan",
         "38.365",
         "48.855",
         "-21.1",
         "2008-05-01 00:00:00",
         "21.9",
         "15.2",
         "18.6",
         "120.22",
         "108.05",
         "1.258",
         "0.368",
         "-0.993",
         "-1.193",
         "-0.998",
         "-1.089",
         "-2.07",
         "-1.899",
         "-2.154",
         "-1.887",
         "-1.136",
         "-1.789",
         "-1.37",
         "-1.627",
         "-1.409",
         "-1.43",
         null,
         null,
         "88.287",
         "66.216",
         "54.987",
         "23.0",
         "51.886",
         "189.938",
         "0.512",
         "27.47",
         "15.25",
         "0.273",
         "15.23",
         "0.529",
         "20.05",
         "0.258",
         "0.521",
         "0.265",
         "23.76",
         "15.24",
         "19.5",
         "0.281",
         "0.216",
         "0.918",
         "0.091",
         "0.25",
         "0.414",
         "0.799",
         "0.607",
         "0.477",
         "0.498",
         "0.711",
         "0.435",
         "0.488",
         "0.319",
         "0.657",
         "0.35",
         "0.052",
         "1.391",
         "1.294",
         "-0.469",
         "0.106",
         "0.486",
         "0.371",
         "-1.843",
         "-1.879",
         "-2.07",
         "-1.835",
         "-1.706",
         "-1.846",
         "-0.506",
         "-1.933",
         "-2.015",
         "-1.943",
         "0.204",
         "-0.159",
         "-2.208",
         "-1.625",
         "-2.001",
         "-1.651",
         "-0.371",
         "-0.87",
         "-2.053",
         "-1.785",
         "-1.357",
         "-1.531",
         "-2.267",
         "-1.972",
         "-1.959",
         "-1.883",
         "-1.85",
         "-1.684",
         "-2.242",
         "-2.04",
         "-1.188",
         "-1.108",
         "-2.282",
         "-1.757",
         "-1.971",
         "-1.84",
         "-1.329",
         "-1.446",
         "-2.161",
         "-2.004",
         "-1.083",
         "-0.67",
         "-1.883",
         "-1.345",
         "-2.027",
         "-1.938",
         "-1.137",
         "-0.49",
         "-1.728",
         "-1.602",
         "-1.297",
         "-0.775",
         "-0.307",
         "-1.314",
         "-2.071",
         "-2.033",
         "-1.542",
         "-0.55",
         "-1.676",
         "-2.076",
         "-0.873",
         "-0.499",
         "-0.617",
         "-1.022",
         "-3.704",
         "-1.611",
         "-0.49",
         "-0.176",
         "-0.893",
         "-0.646",
         null,
         null,
         null,
         null,
         null,
         null,
         null,
         null,
         null,
         null
        ],
        [
         "21",
         "40709",
         "Astara",
         "Gilan",
         "38.365",
         "48.855",
         "-21.1",
         "2008-06-01 00:00:00",
         "26.4",
         "18.1",
         "22.2",
         "53.24",
         "134.49",
         "1.281",
         "1.173",
         "0.582",
         "0.258",
         "-0.992",
         "-1.079",
         "-2.157",
         "-1.981",
         "-2.099",
         "-1.842",
         "-1.968",
         "-1.9",
         "-1.718",
         "-1.881",
         "-1.995",
         "-1.869",
         null,
         null,
         "59.147",
         "34.56",
         "28.764",
         "22.0",
         "24.8",
         "203.512",
         "0.578",
         "29.79",
         "17.43",
         "0.354",
         "20.65",
         "0.634",
         "23.39",
         "0.351",
         "0.606",
         "0.353",
         "26.59",
         "19.04",
         "22.815",
         "1.0",
         "0.424",
         "0.536",
         "0.347",
         "0.145",
         "0.483",
         "1.0",
         "0.741",
         "0.636",
         "0.828",
         "0.673",
         "0.61",
         "0.542",
         "1.249",
         "1.524",
         "0.314",
         "0.948",
         "0.288",
         "0.888",
         "0.634",
         "0.839",
         "0.108",
         "0.644",
         "0.307",
         "0.545",
         "-0.889",
         "-0.523",
         "-0.982",
         "-0.465",
         "-1.73",
         "-0.918",
         "-1.318",
         "-0.853",
         "0.005",
         "-0.25",
         "-1.442",
         "-1.419",
         "-1.336",
         "-1.514",
         "-1.273",
         "-1.28",
         "-0.955",
         "-1.67",
         "-0.531",
         "-0.83",
         "-2.025",
         "-1.753",
         "-2.122",
         "-2.004",
         "-1.769",
         "-1.602",
         "-2.257",
         "-1.959",
         "-1.082",
         "-0.994",
         "-2.243",
         "-1.744",
         "-1.908",
         "-1.799",
         "-0.226",
         "-1.556",
         "-2.244",
         "-2.149",
         "-1.267",
         "-0.766",
         "-1.903",
         "-1.383",
         "-1.952",
         "-1.818",
         "-6.337",
         "-0.791",
         "-2.02",
         "-1.98",
         "-1.032",
         "-0.643",
         "-1.611",
         "-1.16",
         "-2.066",
         "-2.055",
         "-7.396",
         "-0.707",
         "-2.067",
         "-1.342",
         "-0.328",
         "0.032",
         "-1.612",
         "-0.958",
         "-6.765",
         "-1.889",
         "-0.534",
         "0.001",
         "-1.005",
         "-0.497",
         null,
         null,
         null,
         null,
         null,
         null,
         null,
         null,
         null,
         null
        ],
        [
         "22",
         "40709",
         "Astara",
         "Gilan",
         "38.365",
         "48.855",
         "-21.1",
         "2008-07-01 00:00:00",
         "30.2",
         "21.3",
         "25.7",
         "15.87",
         "152.58",
         "0.237",
         "0.005",
         "0.946",
         "1.153",
         "-1.185",
         "-1.186",
         "-0.989",
         "-1.125",
         "-0.994",
         "-2.105",
         "-2.27",
         "-2.02",
         "-1.611",
         "-1.728",
         "-1.577",
         "-1.589",
         null,
         null,
         "41.008",
         "30.504",
         "15.414",
         "14.0",
         "11.549",
         "216.25",
         "0.729",
         "33.83",
         "22.11",
         "0.439",
         "25.81",
         "0.685",
         "27.49",
         "0.513",
         "0.707",
         "0.476",
         "30.66",
         "23.96",
         "27.31",
         "0.358",
         "0.327",
         "0.251",
         "0.333",
         "0.142",
         "0.895",
         "0.951",
         "0.923",
         "0.724",
         "0.734",
         "0.699",
         "0.726",
         "0.662",
         "0.359",
         "0.454",
         "0.231",
         "0.616",
         "0.47",
         "0.604",
         "0.431",
         "0.788",
         "0.207",
         "0.423",
         "0.781",
         "0.957",
         "0.554",
         "0.983",
         "0.669",
         "1.155",
         "0.278",
         "0.73",
         "0.223",
         "0.555",
         "-1.165",
         "-1.355",
         "-1.662",
         "-1.656",
         "-5.879",
         "-1.62",
         "-1.527",
         "-1.482",
         "-1.98",
         "-1.914",
         "0.426",
         "0.362",
         "-1.426",
         "-1.331",
         "-4.785",
         "-1.395",
         "-0.278",
         "-0.728",
         "-1.785",
         "-1.635",
         "-1.229",
         "-1.163",
         "-2.105",
         "-1.747",
         "-1.521",
         "-1.813",
         "-1.68",
         "-1.807",
         "-2.21",
         "-2.112",
         "-1.094",
         "-0.86",
         "-2.196",
         "-1.584",
         "-0.234",
         "-1.675",
         "-1.644",
         "-1.218",
         "-2.227",
         "-2.123",
         "-0.448",
         "-0.1",
         "-1.403",
         "-0.792",
         "-7.805",
         "-2.277",
         "-0.966",
         "-0.059",
         "-0.697",
         "-0.728",
         "-0.806",
         "-0.393",
         "-1.887",
         "-1.232",
         "-2.073",
         "-2.011",
         "-5.271",
         "-0.35",
         "-1.556",
         "-0.853",
         null,
         null,
         null,
         null,
         null,
         null,
         null,
         null,
         null,
         null
        ],
        [
         "23",
         "40709",
         "Astara",
         "Gilan",
         "38.365",
         "48.855",
         "-21.1",
         "2008-08-01 00:00:00",
         "31.4",
         "21.5",
         "26.4",
         "2.01",
         "147.41",
         "-1.084",
         "-1.023",
         "-0.872",
         "-0.74",
         "-6.609",
         "-1.633",
         "-1.588",
         "-1.458",
         "-2.286",
         "-2.162",
         "-2.297",
         "-2.185",
         "-2.223",
         "-2.223",
         "-2.117",
         "-2.108",
         "-4.976",
         "-1.971",
         "34.537",
         "16.368",
         "6.795",
         "18.0",
         "2.397",
         "185.262",
         "0.56",
         "34.67",
         "22.99",
         "0.374",
         "27.67",
         "0.574",
         "28.69",
         "0.4",
         "0.567",
         "0.387",
         "31.68",
         "25.33",
         "28.505",
         "0.166",
         "0.088",
         "0.083",
         "0.118",
         "0.068",
         "0.422",
         "0.239",
         "0.33",
         "0.249",
         "0.275",
         "0.248",
         "0.259",
         "0.243",
         "0.035",
         "-0.107",
         "-0.334",
         "-0.194",
         "-0.141",
         "-0.328",
         "-0.448",
         "-0.451",
         "-0.352",
         "-0.078",
         "0.007",
         "0.525",
         "-0.54",
         "0.363",
         "-0.004",
         "0.247",
         "-0.737",
         "0.329",
         "-0.548",
         "0.453",
         "-1.352",
         "-1.268",
         "-1.67",
         "-4.773",
         "-4.791",
         "-1.422",
         "-2.013",
         "-1.628",
         "-1.984",
         "-1.793",
         "0.175",
         "0.109",
         "-1.57",
         "-1.265",
         "-1.828",
         "-1.423",
         "-0.262",
         "-0.584",
         "-1.935",
         "-1.608",
         "-1.402",
         "-1.301",
         "-2.156",
         "-1.782",
         "-1.953",
         "-1.851",
         "-1.911",
         "-1.514",
         "-2.18",
         "-1.832",
         "-1.135",
         "-0.905",
         "-2.168",
         "-1.581",
         "-2.003",
         "-1.745",
         "-0.686",
         "-1.397",
         "-2.111",
         "-1.838",
         "-1.016",
         "-0.505",
         "-1.863",
         "-1.172",
         "-1.922",
         "-1.877",
         "-1.292",
         "-0.434",
         "-1.69",
         "-1.069",
         "-1.17",
         "-0.545",
         "-1.834",
         "-1.157",
         "-2.068",
         "-2.02",
         "-2.0",
         "-0.464",
         "-1.703",
         "-0.875",
         "-0.92",
         "-0.427",
         "-1.362",
         "-0.96",
         "-1.975",
         "-1.681",
         "-0.68",
         "-0.174",
         "-0.934",
         "-0.51"
        ],
        [
         "24",
         "40709",
         "Astara",
         "Gilan",
         "38.365",
         "48.855",
         "-21.1",
         "2008-09-01 00:00:00",
         "25.9",
         "19.9",
         "22.9",
         "161.37",
         "84.0",
         "-0.758",
         "-0.714",
         "-1.381",
         "-1.247",
         "-0.931",
         "-0.845",
         "-2.18",
         "-1.909",
         "-2.32",
         "-2.377",
         "-0.15",
         "-2.369",
         "-0.366",
         "-2.36",
         "-2.182",
         "-2.229",
         "-2.158",
         "-2.154",
         "109.609",
         "131.76",
         "94.621",
         "208.0",
         "50.511",
         "113.375",
         "0.415",
         "29.65",
         "16.27",
         "0.317",
         "16.85",
         "0.539",
         "25.35",
         "0.274",
         "0.477",
         "0.295",
         "27.5",
         "16.56",
         "22.03",
         "0.279",
         "0.553",
         "0.41",
         "0.814",
         "0.255",
         "0.057",
         "1.0",
         "0.528",
         "0.537",
         "0.445",
         "0.489",
         "0.624",
         "0.437",
         "-0.336",
         "-0.134",
         "0.638",
         "0.79",
         "0.254",
         "0.341",
         "1.424",
         "1.394",
         "0.717",
         "0.808",
         "-0.017",
         "-0.011",
         "0.127",
         "0.49",
         "-0.289",
         "0.087",
         "1.087",
         "1.221",
         "0.477",
         "0.635",
         "0.12",
         "0.341",
         "-0.552",
         "0.01",
         "0.124",
         "-0.058",
         "0.407",
         "0.76",
         "-0.58",
         "-0.292",
         "-0.405",
         "-0.392",
         "-0.659",
         "-0.968",
         "-1.016",
         "-1.112",
         "0.076",
         "0.118",
         "-1.874",
         "-1.312",
         "-0.014",
         "-0.811",
         "-1.708",
         "-1.394",
         "-2.087",
         "-1.796",
         "-0.751",
         "-0.534",
         "-2.217",
         "-1.725",
         "-1.346",
         "-1.127",
         "-1.97",
         "-1.534",
         "-1.997",
         "-1.878",
         "-1.123",
         "-0.556",
         "-2.209",
         "-2.014",
         "-1.383",
         "-0.939",
         "-1.693",
         "-1.137",
         "-2.027",
         "-1.85",
         "-0.653",
         "0.044",
         "-2.08",
         "-1.092",
         "-1.154",
         "-0.741",
         "-1.44",
         "-0.929",
         "-2.038",
         "-1.992",
         "-0.739",
         "-0.08",
         "-6.288",
         "-0.809",
         "-0.922",
         "-0.419",
         "-1.32",
         "-0.799",
         "-5.049",
         "-1.916",
         "-0.09",
         "0.421",
         "-0.664",
         "-0.303"
        ],
        [
         "25",
         "40709",
         "Astara",
         "Gilan",
         "38.365",
         "48.855",
         "-21.1",
         "2008-10-01 00:00:00",
         "19.9",
         "15.5",
         "17.7",
         "318.71",
         "49.53",
         "0.553",
         "0.666",
         "-0.613",
         "-0.727",
         "-0.129",
         "-0.022",
         "-1.421",
         "-1.365",
         "-0.926",
         "-1.28",
         "-1.944",
         "-2.163",
         "-2.307",
         "-2.108",
         "-1.859",
         "-1.963",
         "-0.741",
         "-1.666",
         "322.468",
         "239.568",
         "180.437",
         "260.0",
         "81.589",
         "63.762",
         "0.578",
         "23.51",
         "12.85",
         "0.319",
         "12.37",
         "0.675",
         "21.83",
         "0.307",
         "0.626",
         "0.313",
         "22.67",
         "12.61",
         "17.64",
         "0.752",
         "0.798",
         "0.512",
         "0.628",
         "0.425",
         "0.993",
         "1.0",
         "0.997",
         "0.93",
         "0.915",
         "0.835",
         "0.874",
         "0.806",
         "0.995",
         "1.117",
         "1.173",
         "1.135",
         "0.809",
         "0.608",
         "1.741",
         "1.134",
         "0.728",
         "0.649",
         "0.184",
         "0.381",
         "0.905",
         "1.017",
         "0.212",
         "0.423",
         "1.3",
         "1.277",
         "0.611",
         "0.785",
         "0.4",
         "0.789",
         "0.499",
         "1.157",
         "0.303",
         "0.731",
         "1.341",
         "1.438",
         "0.285",
         "0.764",
         "-0.47",
         "-0.363",
         "-0.198",
         "-0.205",
         "0.071",
         "-0.499",
         "0.957",
         "0.857",
         "-1.32",
         "-1.153",
         "0.493",
         "0.547",
         "-0.253",
         "-0.108",
         "0.232",
         "-0.562",
         "1.202",
         "1.242",
         "-0.849",
         "-1.0",
         "-0.983",
         "-0.844",
         "-0.344",
         "-1.03",
         "-2.088",
         "-2.015",
         "-0.076",
         "0.199",
         "-2.314",
         "-2.126",
         "-0.883",
         "-0.644",
         "-1.305",
         "-0.922",
         "-2.07",
         "-1.938",
         "0.586",
         "0.362",
         "-2.248",
         "-1.498",
         "-0.198",
         "-0.039",
         "-0.62",
         "-0.087",
         "-1.034",
         "-0.565",
         "0.43",
         "0.804",
         "-1.04",
         "-0.217",
         "-0.687",
         "0.405",
         "-0.912",
         "-0.389",
         "-6.82",
         "-0.546",
         "0.407",
         "0.82",
         "-1.094",
         "-0.037"
        ],
        [
         "26",
         "40709",
         "Astara",
         "Gilan",
         "38.365",
         "48.855",
         "-21.1",
         "2008-11-01 00:00:00",
         "16.0",
         "9.3",
         "12.7",
         "167.98",
         "37.03",
         "-0.136",
         "-0.159",
         "-0.227",
         "-0.095",
         "-0.563",
         "-0.542",
         "-1.234",
         "-1.233",
         "-1.242",
         "-1.176",
         "-2.265",
         "-2.212",
         "-0.549",
         "-2.199",
         "-2.271",
         "-2.084",
         "-0.024",
         "-2.038",
         "161.832",
         "101.52",
         "86.932",
         "76.0",
         "44.168",
         "46.6",
         "0.476",
         "18.55",
         "10.01",
         "0.225",
         "15.67",
         "0.494",
         "15.89",
         "0.226",
         "0.485",
         "0.225",
         "17.22",
         "12.84",
         "15.03",
         "0.271",
         "0.411",
         "0.418",
         "0.243",
         "0.34",
         "0.338",
         "0.362",
         "0.35",
         "0.37",
         "0.324",
         "0.373",
         "0.314",
         "0.347",
         "-0.532",
         "-0.55",
         "-0.171",
         "-0.167",
         "-0.139",
         "-0.167",
         "-0.755",
         "-0.732",
         "-0.556",
         "-0.507",
         "-0.02",
         "0.155",
         "0.992",
         "0.985",
         "0.427",
         "0.485",
         "1.305",
         "1.263",
         "0.571",
         "0.592",
         "0.165",
         "0.532",
         "0.75",
         "0.933",
         "0.093",
         "0.395",
         "1.113",
         "1.283",
         "0.523",
         "0.561",
         "-0.742",
         "-0.63",
         "-0.062",
         "-0.037",
         "0.404",
         "-0.23",
         "0.894",
         "0.569",
         "-1.213",
         "-1.071",
         "1.215",
         "0.48",
         "-0.285",
         "-0.05",
         "-0.076",
         "-0.357",
         "0.994",
         "0.981",
         "-1.666",
         "-1.063",
         "-0.163",
         "-1.035",
         "-1.09",
         "-0.927",
         "-6.409",
         "-1.584",
         "0.154",
         "-0.318",
         "-2.275",
         "-1.909",
         "-1.128",
         "-0.826",
         "-0.209",
         "-0.894",
         "-2.014",
         "-1.651",
         "0.551",
         "0.018",
         "-2.247",
         "-1.633",
         "-1.068",
         "-0.472",
         "-0.871",
         "-0.397",
         "-6.86",
         "-1.034",
         "0.197",
         "0.618",
         "-6.553",
         "-0.65",
         "-1.165",
         "-0.417",
         "0.031",
         "-0.41",
         "-0.751",
         "-0.625",
         "0.358",
         "0.516",
         "-7.631",
         "-0.471"
        ],
        [
         "27",
         "40709",
         "Astara",
         "Gilan",
         "38.365",
         "48.855",
         "-21.1",
         "2008-12-01 00:00:00",
         "9.2",
         "4.0",
         "6.6",
         "176.27",
         "22.89",
         "1.97",
         "1.946",
         "0.876",
         "0.853",
         "-0.311",
         "-0.289",
         "-0.232",
         "-0.177",
         "-0.903",
         "-0.819",
         "-1.707",
         "-1.851",
         "-2.247",
         "-2.21",
         "-2.245",
         "-2.219",
         "-2.148",
         "-2.132",
         "239.004",
         "131.688",
         "132.208",
         "86.0",
         "61.5",
         "28.925",
         "0.442",
         "12.05",
         "3.89",
         "0.216",
         "10.99",
         "0.51",
         "11.75",
         "0.194",
         "0.476",
         "0.205",
         "11.9",
         "7.44",
         "9.67",
         "0.948",
         "0.981",
         "1.0",
         "0.582",
         "0.651",
         "0.527",
         "0.62",
         "0.573",
         "0.709",
         "0.698",
         "0.715",
         "0.576",
         "0.599",
         "1.277",
         "1.333",
         "1.367",
         "1.551",
         "1.863",
         "1.944",
         "-0.079",
         "0.185",
         "0.306",
         "0.689",
         "0.873",
         "0.911",
         "1.16",
         "1.249",
         "1.074",
         "0.836",
         "0.637",
         "0.826",
         "0.225",
         "0.481",
         "0.371",
         "0.615",
         "0.985",
         "1.153",
         "0.406",
         "0.639",
         "0.775",
         "1.384",
         "0.188",
         "0.684",
         "0.437",
         "0.796",
         "0.235",
         "0.976",
         "0.331",
         "0.623",
         "0.797",
         "1.111",
         "-0.317",
         "0.252",
         "0.324",
         "0.447",
         "0.149",
         "0.349",
         "0.462",
         "0.201",
         "0.619",
         "0.728",
         "-1.486",
         "-0.795",
         "-0.084",
         "0.043",
         "-0.333",
         "-0.229",
         "-0.55",
         "-0.545",
         "-0.046",
         "0.157",
         "-2.313",
         "-1.515",
         "-0.672",
         "-0.39",
         "-0.996",
         "-0.656",
         "-1.327",
         "-1.175",
         "-0.297",
         "0.055",
         "-2.266",
         "-1.895",
         "-0.681",
         "-0.172",
         "-0.693",
         "-0.283",
         "-0.155",
         "-0.968",
         "0.366",
         "0.538",
         "-7.043",
         "-0.764",
         "-0.484",
         "0.048",
         "-0.512",
         "-0.136",
         "-0.9",
         "-0.609",
         "0.462",
         "0.527",
         "-1.584",
         "-0.541"
        ],
        [
         "28",
         "40709",
         "Astara",
         "Gilan",
         "38.365",
         "48.855",
         "-21.1",
         "2009-01-01 00:00:00",
         "8.6",
         "1.4",
         "5.0",
         "32.32",
         "27.74",
         "-1.374",
         "-1.295",
         "0.075",
         "0.046",
         "-0.497",
         "-0.503",
         "-0.115",
         "0.009",
         "-1.294",
         "-1.286",
         "-1.087",
         "-1.093",
         "-2.27",
         "-2.286",
         "-1.363",
         "-2.189",
         "-1.969",
         "-2.105",
         "78.07",
         "46.872",
         "20.948",
         "55.0",
         "26.137",
         "54.775",
         "0.419",
         "8.63",
         "1.87",
         "0.196",
         "6.07",
         "0.474",
         "6.11",
         "0.168",
         "0.447",
         "0.182",
         "7.37",
         "3.97",
         "5.67",
         "0.172",
         "0.125",
         "0.133",
         "0.368",
         "0.046",
         "0.665",
         "0.549",
         "0.607",
         "0.446",
         "0.462",
         "0.449",
         "0.527",
         "0.42",
         "-0.97",
         "-0.877",
         "-1.037",
         "-1.131",
         "-1.371",
         "-1.344",
         "-0.133",
         "-0.425",
         "-1.481",
         "-1.38",
         "-0.248",
         "-0.231",
         "0.065",
         "0.121",
         "0.192",
         "0.232",
         "-0.76",
         "-0.749",
         "-1.011",
         "0.237",
         "0.09",
         "0.221",
         "0.69",
         "0.851",
         "0.093",
         "0.324",
         "0.773",
         "1.176",
         "0.348",
         "0.325",
         "0.258",
         "0.626",
         "0.553",
         "1.0",
         "0.142",
         "0.472",
         "1.055",
         "1.338",
         "-0.275",
         "0.443",
         "-0.697",
         "-0.628",
         "-0.177",
         "-0.05",
         "0.121",
         "-0.153",
         "0.488",
         "0.447",
         "-2.356",
         "-1.549",
         "0.284",
         "0.385",
         "-0.145",
         "0.067",
         "0.228",
         "-0.235",
         "0.789",
         "0.918",
         "-2.227",
         "-1.424",
         "-0.364",
         "-0.977",
         "-1.209",
         "-0.939",
         "-7.43",
         "-0.981",
         "-0.553",
         "-0.316",
         "-2.207",
         "-1.967",
         "-1.09",
         "-0.801",
         "-1.261",
         "-0.85",
         "-5.909",
         "-1.595",
         "-0.531",
         "-0.108",
         "-2.228",
         "-1.628",
         "-0.598",
         "0.002",
         "-0.617",
         "-0.097",
         "-0.775",
         "-0.522",
         "0.552",
         "0.573",
         "-6.274",
         "-0.538"
        ],
        [
         "29",
         "40709",
         "Astara",
         "Gilan",
         "38.365",
         "48.855",
         "-21.1",
         "2009-02-01 00:00:00",
         "10.7",
         "6.4",
         "8.5",
         "34.82",
         "28.93",
         "-1.43",
         "-1.319",
         "-0.462",
         "-0.316",
         "-0.346",
         "-0.191",
         "-0.694",
         "-0.588",
         "-1.237",
         "-1.166",
         "-0.323",
         "-1.135",
         "-2.224",
         "-2.149",
         "-0.557",
         "-2.15",
         "-0.881",
         "-2.102",
         "65.903",
         "45.696",
         "7.187",
         "46.0",
         "41.462",
         "68.675",
         "0.335",
         "12.53",
         "5.75",
         "0.177",
         "5.97",
         "0.383",
         "8.03",
         "0.165",
         "0.359",
         "0.171",
         "10.28",
         "5.86",
         "8.07",
         "0.071",
         "0.011",
         "0.0",
         "0.0",
         "0.139",
         "0.0",
         "0.386",
         "0.193",
         "0.132",
         "0.152",
         "0.129",
         "0.129",
         "0.175",
         "-1.441",
         "-1.662",
         "-1.224",
         "-2.134",
         "-1.171",
         "-1.921",
         "-6.59",
         "-1.621",
         "-0.675",
         "-1.162",
         "-0.154",
         "-0.427",
         "-0.656",
         "-0.729",
         "-0.689",
         "-1.546",
         "-0.826",
         "-0.821",
         "-1.065",
         "-1.444",
         "-0.246",
         "-0.134",
         "0.747",
         "0.787",
         "0.064",
         "0.223",
         "1.122",
         "1.186",
         "-0.197",
         "0.13",
         "-0.158",
         "0.229",
         "0.422",
         "0.66",
         "-0.21",
         "0.129",
         "0.356",
         "1.187",
         "0.074",
         "0.146",
         "-0.936",
         "-0.853",
         "-0.255",
         "-0.224",
         "-0.369",
         "-0.266",
         "0.086",
         "0.059",
         "-5.544",
         "-1.388",
         "-0.077",
         "0.074",
         "-0.48",
         "-0.185",
         "-0.199",
         "-0.421",
         "0.713",
         "0.796",
         "-2.251",
         "-1.448",
         "-1.281",
         "-1.196",
         "-1.15",
         "-0.956",
         "-6.689",
         "-1.846",
         "-0.913",
         "-0.706",
         "-2.249",
         "-1.857",
         "-1.118",
         "-0.988",
         "0.041",
         "-0.985",
         "-1.991",
         "-1.723",
         "-0.72",
         "-0.369",
         "-2.237",
         "-1.75",
         "-0.292",
         "-0.557",
         "-0.045",
         "-0.524",
         "-7.042",
         "-1.042",
         "-0.07",
         "0.362",
         "-2.164",
         "-1.008"
        ],
        [
         "30",
         "40709",
         "Astara",
         "Gilan",
         "38.365",
         "48.855",
         "-21.1",
         "2009-03-01 00:00:00",
         "13.8",
         "6.8",
         "10.3",
         "41.97",
         "60.18",
         "-1.163",
         "-1.193",
         "-2.047",
         "-1.848",
         "-0.192",
         "-0.048",
         "-0.916",
         "-0.879",
         "-0.908",
         "-0.832",
         "-0.597",
         "-1.264",
         "-1.984",
         "-1.848",
         "-0.305",
         "-2.224",
         "-2.341",
         "-2.196",
         "93.122",
         "33.48",
         "3.481",
         "27.0",
         "23.39",
         "105.012",
         "0.429",
         "18.91",
         "6.87",
         "0.176",
         "8.47",
         "0.339",
         "9.61",
         "0.204",
         "0.384",
         "0.19",
         "14.26",
         "7.67",
         "10.965",
         "0.318",
         "0.079",
         "0.0",
         "0.066",
         "0.109",
         "0.26",
         "0.485",
         "0.372",
         "0.275",
         "0.354",
         "0.248",
         "0.27",
         "0.285",
         "-0.377",
         "-0.425",
         "-1.574",
         "-1.155",
         "-8.367",
         "-0.954",
         "-1.565",
         "-1.056",
         "-1.685",
         "-1.205",
         "0.03",
         "-1.477",
         "-2.185",
         "-1.778",
         "-0.437",
         "-1.887",
         "-1.891",
         "-1.548",
         "-1.933",
         "-1.604",
         "-0.25",
         "-0.172",
         "0.178",
         "0.311",
         "-0.226",
         "-0.16",
         "-0.11",
         "0.005",
         "-1.133",
         "-0.804",
         "-0.45",
         "-0.25",
         "0.084",
         "0.337",
         "-0.445",
         "-0.193",
         "0.6",
         "0.809",
         "-0.836",
         "-0.31",
         "-0.322",
         "0.002",
         "-0.274",
         "0.194",
         "-0.632",
         "-0.298",
         "0.245",
         "0.664",
         "-1.562",
         "-0.751",
         "-0.358",
         "-0.328",
         "-0.27",
         "-0.478",
         "0.09",
         "-0.586",
         "0.139",
         "0.222",
         "-2.116",
         "-1.789",
         "-0.556",
         "-0.653",
         "-0.814",
         "-0.934",
         "-1.008",
         "-0.963",
         "-0.656",
         "-0.41",
         "-2.3",
         "-2.119",
         "-1.697",
         "-1.278",
         "-1.009",
         "-1.26",
         "-1.918",
         "-1.822",
         "-0.564",
         "-0.808",
         "-2.265",
         "-2.034",
         "-1.858",
         "-1.066",
         "-1.406",
         "-0.977",
         "-1.75",
         "-1.751",
         "0.159",
         "-0.218",
         "-2.174",
         "-1.482"
        ],
        [
         "31",
         "40709",
         "Astara",
         "Gilan",
         "38.365",
         "48.855",
         "-21.1",
         "2009-04-01 00:00:00",
         "14.0",
         "7.3",
         "10.6",
         "171.08",
         "70.4",
         "1.299",
         "1.079",
         "-0.124",
         "-0.069",
         "-0.017",
         "0.031",
         "-0.423",
         "-0.367",
         "-0.155",
         "-0.066",
         "-0.997",
         "-0.912",
         "-0.916",
         "-0.836",
         "-2.209",
         "-2.14",
         "-2.198",
         "-2.091",
         "136.967",
         "107.28",
         "96.061",
         "72.0",
         "73.158",
         "118.688",
         "0.438",
         "21.37",
         "7.99",
         "0.255",
         "11.13",
         "0.436",
         "12.31",
         "0.219",
         "0.437",
         "0.237",
         "16.84",
         "9.56",
         "13.2",
         "0.678",
         "0.679",
         "0.849",
         "0.53",
         "0.594",
         "0.207",
         "0.852",
         "0.53",
         "0.579",
         "0.579",
         "0.636",
         "0.53",
         "0.551",
         "1.142",
         "1.243",
         "1.025",
         "1.036",
         "1.116",
         "1.145",
         "0.642",
         "0.862",
         "0.669",
         "0.903",
         "-0.271",
         "-0.199",
         "-0.568",
         "-0.31",
         "-0.784",
         "-0.521",
         "-0.95",
         "-0.394",
         "-0.694",
         "-0.358",
         "-0.464",
         "-0.355",
         "-0.562",
         "-0.285",
         "-0.521",
         "-0.429",
         "-1.534",
         "-0.989",
         "-1.043",
         "-0.588",
         "0.055",
         "0.118",
         "0.324",
         "0.505",
         "-0.236",
         "-0.054",
         "0.651",
         "0.838",
         "-0.464",
         "0.023",
         "0.162",
         "0.473",
         "0.404",
         "0.777",
         "-0.159",
         "0.144",
         "0.044",
         "1.005",
         "-0.65",
         "0.147",
         "-0.558",
         "-0.581",
         "-0.511",
         "-0.313",
         "-0.552",
         "-0.429",
         "0.43",
         "0.301",
         "-7.669",
         "-1.611",
         "0.174",
         "0.361",
         "-0.554",
         "-0.238",
         "-0.695",
         "-0.556",
         "0.554",
         "0.707",
         "-2.118",
         "-1.61",
         "-1.372",
         "-0.997",
         "-1.355",
         "-1.082",
         "-1.924",
         "-1.792",
         "-0.992",
         "-0.543",
         "-2.13",
         "-1.647",
         "-1.255",
         "-0.775",
         "-1.386",
         "-0.989",
         "-1.866",
         "-1.752",
         "-0.955",
         "-0.261",
         "-2.168",
         "-1.521"
        ],
        [
         "32",
         "40709",
         "Astara",
         "Gilan",
         "38.365",
         "48.855",
         "-21.1",
         "2009-05-01 00:00:00",
         "22.0",
         "14.7",
         "18.4",
         "17.93",
         "112.0",
         "-0.509",
         "-0.526",
         "0.059",
         "0.061",
         "-0.321",
         "-0.186",
         "-0.385",
         "-0.264",
         "-0.592",
         "-0.463",
         "-0.603",
         "-0.883",
         "-0.793",
         "-0.897",
         "-2.09",
         "-1.96",
         "-2.131",
         "-2.0",
         "54.058",
         "35.712",
         "36.372",
         "19.0",
         "42.301",
         "186.325",
         "0.492",
         "26.65",
         "15.67",
         "0.259",
         "16.83",
         "0.485",
         "18.43",
         "0.275",
         "0.488",
         "0.267",
         "22.54",
         "16.25",
         "19.395",
         "0.081",
         "0.049",
         "0.38",
         "0.0",
         "0.133",
         "0.279",
         "0.822",
         "0.551",
         "0.383",
         "0.394",
         "0.494",
         "0.367",
         "0.411",
         "-0.791",
         "-0.22",
         "-0.728",
         "-0.302",
         "-0.3",
         "0.484",
         "-7.394",
         "0.085",
         "0.127",
         "0.15",
         "0.043",
         "0.391",
         "-0.495",
         "-0.037",
         "0.012",
         "0.346",
         "-0.127",
         "-0.114",
         "-0.651",
         "-0.07",
         "-0.082",
         "-0.083",
         "-0.604",
         "-0.248",
         "-0.56",
         "-0.314",
         "-1.568",
         "-0.548",
         "-0.987",
         "-0.487",
         "-0.295",
         "-0.047",
         "0.322",
         "0.598",
         "-0.154",
         "0.086",
         "0.674",
         "0.828",
         "-0.618",
         "-0.133",
         "-0.138",
         "0.318",
         "0.145",
         "0.667",
         "-0.271",
         "0.1",
         "0.537",
         "1.022",
         "-0.769",
         "0.068",
         "-0.904",
         "-0.553",
         "-0.61",
         "-0.237",
         "-0.557",
         "-0.316",
         "0.216",
         "0.356",
         "-1.524",
         "-1.301",
         "0.153",
         "0.4",
         "-0.053",
         "-0.172",
         "-0.684",
         "-0.4",
         "0.551",
         "0.751",
         "-1.979",
         "-7.151",
         "-1.737",
         "-1.038",
         "-0.614",
         "-0.948",
         "-0.958",
         "-1.367",
         "-1.285",
         "-0.703",
         "-2.166",
         "-1.854",
         "-1.533",
         "-0.866",
         "-1.573",
         "-1.06",
         "-1.897",
         "-1.783",
         "-0.717",
         "-0.293",
         "-2.187",
         "-1.96"
        ],
        [
         "33",
         "40709",
         "Astara",
         "Gilan",
         "38.365",
         "48.855",
         "-21.1",
         "2009-06-01 00:00:00",
         "27.5",
         "19.1",
         "23.3",
         "17.21",
         "139.89",
         "0.141",
         "0.016",
         "0.854",
         "0.809",
         "-1.279",
         "-1.001",
         "0.025",
         "0.211",
         "-0.746",
         "-0.615",
         "-0.709",
         "-0.473",
         "-1.161",
         "-1.055",
         "-7.96",
         "-1.749",
         "-2.184",
         "-2.076",
         "15.183",
         "45.36",
         "21.088",
         "40.0",
         "38.641",
         "202.6",
         "0.557",
         "30.09",
         "19.13",
         "0.406",
         "22.97",
         "0.668",
         "23.41",
         "0.332",
         "0.612",
         "0.369",
         "26.75",
         "21.05",
         "23.9",
         "0.212",
         "0.587",
         "0.372",
         "0.714",
         "0.273",
         "0.532",
         "0.803",
         "0.667",
         "0.641",
         "0.516",
         "0.569",
         "0.683",
         "0.536",
         "-0.986",
         "0.078",
         "0.809",
         "1.267",
         "-0.335",
         "0.595",
         "1.417",
         "1.291",
         "0.597",
         "0.921",
         "0.018",
         "0.622",
         "0.561",
         "1.327",
         "1.039",
         "1.493",
         "0.686",
         "1.397",
         "0.213",
         "1.016",
         "-1.347",
         "-0.875",
         "-1.13",
         "-0.605",
         "-1.664",
         "-1.077",
         "-0.847",
         "-0.218",
         "-0.553",
         "-0.527",
         "-0.195",
         "0.209",
         "0.241",
         "0.756",
         "-0.105",
         "0.233",
         "0.148",
         "0.627",
         "-0.74",
         "-0.093",
         "-0.464",
         "0.078",
         "0.194",
         "0.785",
         "-0.298",
         "0.14",
         "0.235",
         "1.061",
         "-0.578",
         "0.274",
         "-0.33",
         "0.341",
         "-0.088",
         "0.68",
         "-0.459",
         "0.07",
         "0.825",
         "0.879",
         "-1.045",
         "0.059",
         "-0.335",
         "0.018",
         "-0.491",
         "0.027",
         "-0.492",
         "-0.152",
         "0.452",
         "0.719",
         "-1.634",
         "-0.843",
         "-0.784",
         "-0.193",
         "-0.918",
         "-0.415",
         "-0.532",
         "-0.905",
         "-0.357",
         "0.23",
         "-2.195",
         "-1.497",
         "-1.695",
         "-0.933",
         "-1.502",
         "-0.856",
         "-1.941",
         "-1.808",
         "-0.936",
         "-0.13",
         "-2.165",
         "-1.77"
        ],
        [
         "34",
         "40709",
         "Astara",
         "Gilan",
         "38.365",
         "48.855",
         "-21.1",
         "2009-07-01 00:00:00",
         "31.7",
         "22.4",
         "27.0",
         "0.01",
         "162.19",
         "-7.897",
         "-1.057",
         "-1.319",
         "-1.023",
         "-0.987",
         "-0.871",
         "-0.395",
         "-0.454",
         "-0.274",
         "-0.663",
         "-0.437",
         "-0.249",
         "-1.322",
         "-1.324",
         "-1.155",
         "-1.075",
         "-2.125",
         "-2.067",
         "2.871",
         "5.208",
         "0.226",
         "3.0",
         "3.956",
         "222.388",
         "0.618",
         "33.01",
         "23.05",
         "0.426",
         "25.91",
         "0.633",
         "26.65",
         "0.439",
         "0.625",
         "0.433",
         "29.83",
         "24.48",
         "27.155",
         "0.008",
         "0.0",
         "0.0",
         "0.051",
         "0.049",
         "0.036",
         "1.0",
         "0.518",
         "0.345",
         "0.348",
         "0.345",
         "0.362",
         "0.362",
         "-1.913",
         "-0.993",
         "-2.255",
         "-0.839",
         "-7.437",
         "-0.49",
         "-0.885",
         "-0.375",
         "-0.428",
         "-0.33",
         "-2.266",
         "-0.526",
         "-0.457",
         "0.283",
         "-1.168",
         "0.297",
         "0.399",
         "0.745",
         "0.103",
         "0.465",
         "-1.451",
         "-0.783",
         "-1.121",
         "-0.402",
         "-0.94",
         "-0.498",
         "-1.029",
         "-0.118",
         "-0.947",
         "-0.319",
         "-1.209",
         "-0.798",
         "-0.834",
         "-0.301",
         "0.167",
         "-0.256",
         "-0.507",
         "-0.569",
         "-1.268",
         "-0.629",
         "-0.709",
         "-0.169",
         "0.091",
         "0.595",
         "-0.26",
         "0.065",
         "0.592",
         "0.965",
         "-0.572",
         "0.19",
         "-0.401",
         "0.231",
         "0.232",
         "0.849",
         "-0.045",
         "0.223",
         "0.569",
         "1.137",
         "-0.752",
         "0.349",
         "-1.409",
         "-0.819",
         "-0.735",
         "-0.266",
         "-0.396",
         "-0.218",
         "0.35",
         "0.599",
         "-5.494",
         "-1.087",
         "-0.399",
         "0.074",
         "-0.758",
         "-0.139",
         "-0.774",
         "-0.407",
         "0.756",
         "0.88",
         "-2.123",
         "-1.229",
         "-1.759",
         "-1.224",
         "-0.543",
         "-1.074",
         "-1.923",
         "-1.787",
         "-1.06",
         "-0.354",
         "-2.135",
         "-1.574"
        ],
        [
         "35",
         "40709",
         "Astara",
         "Gilan",
         "38.365",
         "48.855",
         "-21.1",
         "2009-08-01 00:00:00",
         "27.4",
         "20.0",
         "23.7",
         "243.83",
         "119.89",
         "2.697",
         "1.252",
         "1.179",
         "1.373",
         "1.039",
         "1.027",
         "0.597",
         "0.81",
         "0.14",
         "0.396",
         "-0.142",
         "0.141",
         "-0.478",
         "-0.26",
         "-0.56",
         "-0.321",
         "-0.534",
         "-1.56",
         "198.068",
         "124.992",
         "69.863",
         "39.0",
         "0.0",
         "175.562",
         "0.684",
         "31.35",
         "19.65",
         "0.43",
         "19.29",
         "0.705",
         "26.09",
         "0.398",
         "0.694",
         "0.414",
         "28.72",
         "19.47",
         "24.095",
         "1.0",
         "1.0",
         "0.851",
         "0.324",
         "0.0",
         "1.0",
         "1.0",
         "1.0",
         "1.0",
         "1.0",
         "0.95",
         "0.775",
         "0.667",
         "1.667",
         "0.706",
         "1.993",
         "1.386",
         "1.643",
         "1.227",
         "0.324",
         "0.436",
         "-1.565",
         "0.317",
         "1.292",
         "1.54",
         "1.55",
         "1.707",
         "0.039",
         "1.202",
         "0.081",
         "0.941",
         "-0.399",
         "0.638",
         "0.896",
         "1.261",
         "0.461",
         "0.225",
         "0.576",
         "0.433",
         "-0.49",
         "0.401",
         "-0.858",
         "0.179",
         "0.397",
         "0.836",
         "0.16",
         "0.681",
         "-0.27",
         "0.193",
         "-0.327",
         "0.047",
         "-1.201",
         "-0.366",
         "0.212",
         "0.759",
         "0.797",
         "1.221",
         "-0.062",
         "0.393",
         "0.651",
         "1.07",
         "-0.642",
         "0.081",
         "0.222",
         "0.908",
         "0.597",
         "1.198",
         "-0.189",
         "0.377",
         "0.217",
         "1.115",
         "-0.794",
         "0.287",
         "-0.409",
         "0.043",
         "-0.01",
         "0.421",
         "-0.498",
         "0.008",
         "-0.192",
         "0.461",
         "-1.46",
         "-0.81",
         "0.427",
         "0.851",
         "-0.109",
         "0.437",
         "-0.584",
         "-0.052",
         "0.55",
         "0.952",
         "-2.021",
         "-0.801",
         "-0.931",
         "-0.333",
         "-0.885",
         "-0.466",
         "-1.358",
         "-1.174",
         "-1.056",
         "-0.367",
         "-2.135",
         "-1.325"
        ],
        [
         "36",
         "40709",
         "Astara",
         "Gilan",
         "38.365",
         "48.855",
         "-21.1",
         "2009-09-01 00:00:00",
         "25.0",
         "17.7",
         "21.4",
         "227.97",
         "90.09",
         "0.005",
         "-0.018",
         "0.827",
         "0.889",
         "0.954",
         "1.109",
         "0.073",
         "0.293",
         "0.406",
         "0.712",
         "-0.112",
         "-0.054",
         "0.056",
         "0.1",
         "-0.608",
         "-0.396",
         "-1.028",
         "-0.867",
         "217.207",
         "126.0",
         "105.351",
         "250.0",
         "77.635",
         "118.15",
         "0.509",
         "27.53",
         "17.01",
         "0.362",
         "20.87",
         "0.668",
         "24.53",
         "0.322",
         "0.589",
         "0.342",
         "26.03",
         "18.94",
         "22.485",
         "0.636",
         "0.518",
         "0.456",
         "1.0",
         "0.391",
         "0.79",
         "0.919",
         "0.854",
         "0.742",
         "0.781",
         "0.722",
         "0.903",
         "0.7",
         "1.107",
         "1.185",
         "0.52",
         "0.593",
         "0.404",
         "0.431",
         "1.827",
         "1.627",
         "1.098",
         "1.075",
         "1.426",
         "1.22",
         "1.187",
         "1.328",
         "0.512",
         "0.816",
         "1.538",
         "1.525",
         "0.826",
         "0.945",
         "1.261",
         "1.235",
         "1.347",
         "1.556",
         "1.14",
         "1.318",
         "1.796",
         "1.808",
         "0.544",
         "1.22",
         "0.337",
         "0.746",
         "-0.045",
         "0.397",
         "-0.509",
         "-0.089",
         "0.983",
         "1.359",
         "-0.519",
         "0.032",
         "0.112",
         "1.305",
         "0.821",
         "1.269",
         "0.204",
         "0.522",
         "1.161",
         "1.318",
         "-0.375",
         "0.333",
         "0.41",
         "0.976",
         "0.656",
         "1.22",
         "-0.087",
         "0.42",
         "1.371",
         "1.294",
         "-0.314",
         "0.566",
         "0.546",
         "1.083",
         "0.467",
         "1.065",
         "-0.226",
         "0.363",
         "1.195",
         "1.355",
         "-0.66",
         "0.273",
         "0.365",
         "0.711",
         "0.032",
         "0.515",
         "-0.221",
         "0.181",
         "1.01",
         "1.285",
         "-0.468",
         "-0.422",
         "0.082",
         "0.494",
         "-0.45",
         "-0.028",
         "0.147",
         "-0.595",
         "0.415",
         "0.907",
         "-7.844",
         "-0.768"
        ],
        [
         "37",
         "40709",
         "Astara",
         "Gilan",
         "38.365",
         "48.855",
         "-21.1",
         "2009-10-01 00:00:00",
         "22.2",
         "14.9",
         "18.6",
         "227.94",
         "65.4",
         "-0.086",
         "-0.139",
         "0.807",
         "0.873",
         "0.209",
         "0.282",
         "-0.047",
         "0.152",
         "0.41",
         "0.387",
         "-0.299",
         "-0.149",
         "-0.072",
         "0.184",
         "-0.857",
         "-0.688",
         "-0.279",
         "-0.68",
         "171.763",
         "80.352",
         "20.077",
         "84.0",
         "15.836",
         "82.6",
         "0.535",
         "23.97",
         "15.53",
         "0.319",
         "19.01",
         "0.578",
         "21.79",
         "0.303",
         "0.556",
         "0.311",
         "22.88",
         "17.27",
         "20.075",
         "0.297",
         "0.151",
         "0.05",
         "0.099",
         "0.06",
         "0.588",
         "0.404",
         "0.496",
         "0.381",
         "0.43",
         "0.347",
         "0.364",
         "0.35",
         "-0.83",
         "-0.876",
         "-0.304",
         "-0.875",
         "-0.896",
         "-1.406",
         "0.308",
         "-0.743",
         "-0.688",
         "-1.087",
         "1.003",
         "1.051",
         "0.429",
         "0.56",
         "-0.476",
         "-0.364",
         "0.66",
         "0.76",
         "0.164",
         "0.265",
         "0.427",
         "0.725",
         "0.086",
         "0.454",
         "-0.641",
         "-0.228",
         "0.605",
         "0.889",
         "-0.195",
         "0.263",
         "0.218",
         "0.683",
         "-0.369",
         "0.238",
         "-1.174",
         "-0.536",
         "0.456",
         "0.773",
         "-0.538",
         "0.094",
         "-0.043",
         "0.286",
         "-0.271",
         "0.244",
         "0.06",
         "-0.401",
         "0.08",
         "0.488",
         "-0.785",
         "-0.368",
         "-0.001",
         "0.489",
         "0.088",
         "0.682",
         "-0.514",
         "-0.072",
         "0.969",
         "1.077",
         "-0.511",
         "0.329",
         "0.243",
         "0.788",
         "0.294",
         "0.846",
         "-0.448",
         "0.108",
         "1.348",
         "1.228",
         "-0.7",
         "0.37",
         "-0.15",
         "-0.111",
         "-0.413",
         "-0.066",
         "-0.566",
         "-0.634",
         "0.555",
         "0.752",
         "-2.386",
         "-0.955",
         "0.359",
         "0.58",
         "-0.253",
         "0.056",
         "-0.602",
         "-0.204",
         "0.731",
         "1.061",
         "-2.277",
         "-1.072"
        ],
        [
         "38",
         "40709",
         "Astara",
         "Gilan",
         "38.365",
         "48.855",
         "-21.1",
         "2009-11-01 00:00:00",
         "16.8",
         "10.4",
         "13.6",
         "145.11",
         "37.78",
         "-0.392",
         "-0.443",
         "-0.479",
         "-0.484",
         "0.134",
         "0.125",
         "0.072",
         "0.133",
         "-0.052",
         "0.038",
         "-0.136",
         "0.092",
         "-0.078",
         "-0.271",
         "-0.884",
         "-0.782",
         "0.045",
         "-0.804",
         "198.924",
         "115.92",
         "80.017",
         "153.0",
         "105.733",
         "41.575",
         "0.604",
         "15.25",
         "8.17",
         "0.32",
         "13.91",
         "0.598",
         "16.01",
         "0.362",
         "0.601",
         "0.341",
         "15.63",
         "11.04",
         "13.335",
         "0.365",
         "0.49",
         "0.385",
         "0.596",
         "0.832",
         "0.862",
         "0.602",
         "0.732",
         "0.651",
         "0.61",
         "0.616",
         "0.687",
         "0.765",
         "-0.1",
         "-0.052",
         "0.129",
         "0.227",
         "-0.271",
         "-0.202",
         "0.84",
         "0.869",
         "1.45",
         "1.408",
         "-0.072",
         "-0.056",
         "0.127",
         "-0.116",
         "-0.598",
         "-0.634",
         "0.865",
         "0.833",
         "0.767",
         "0.63",
         "0.65",
         "0.856",
         "0.422",
         "0.597",
         "-0.633",
         "-0.351",
         "0.949",
         "1.098",
         "0.774",
         "0.664",
         "0.649",
         "1.003",
         "0.09",
         "0.641",
         "0.129",
         "-0.065",
         "1.094",
         "1.019",
         "-0.022",
         "0.673",
         "1.297",
         "0.819",
         "-0.184",
         "0.403",
         "-0.388",
         "-0.288",
         "0.571",
         "0.898",
         "-0.058",
         "0.327",
         "0.095",
         "0.713",
         "0.429",
         "0.876",
         "0.185",
         "0.054",
         "1.387",
         "1.486",
         "-0.166",
         "0.48",
         "0.072",
         "0.747",
         "0.024",
         "0.793",
         "-0.467",
         "-0.069",
         "1.466",
         "1.44",
         "-0.354",
         "0.55",
         "-0.513",
         "-0.052",
         "-0.28",
         "0.073",
         "-0.269",
         "-0.448",
         "0.673",
         "0.923",
         "-0.362",
         "-0.373",
         "0.384",
         "0.738",
         "0.116",
         "0.107",
         "-0.201",
         "-0.388",
         "1.037",
         "1.224",
         "-1.741",
         "-0.38"
        ],
        [
         "39",
         "40709",
         "Astara",
         "Gilan",
         "38.365",
         "48.855",
         "-21.1",
         "2009-12-01 00:00:00",
         "12.1",
         "5.8",
         "8.9",
         "110.96",
         "27.53",
         "0.428",
         "0.428",
         "0.079",
         "-0.051",
         "0.238",
         "0.226",
         "0.496",
         "0.581",
         "-0.422",
         "-0.286",
         "0.519",
         "0.504",
         "-0.495",
         "-0.291",
         "-0.463",
         "-0.188",
         "-0.914",
         "-0.745",
         "148.943",
         "83.328",
         "71.548",
         "74.0",
         "75.995",
         "42.288",
         "0.583",
         "12.71",
         "4.67",
         "0.332",
         "10.45",
         "0.565",
         "12.69",
         "0.35",
         "0.574",
         "0.341",
         "12.7",
         "7.56",
         "10.13",
         "0.526",
         "0.572",
         "0.54",
         "0.493",
         "0.832",
         "1.0",
         "0.519",
         "0.76",
         "0.697",
         "0.682",
         "0.686",
         "0.671",
         "0.784",
         "-0.098",
         "-0.176",
         "-0.027",
         "-0.135",
         "0.167",
         "0.107",
         "-0.409",
         "-0.481",
         "0.929",
         "0.732",
         "-0.75",
         "-0.857",
         "-0.458",
         "-0.521",
         "-0.636",
         "-0.822",
         "-0.466",
         "-0.519",
         "0.384",
         "0.236",
         "0.57",
         "0.62",
         "0.08",
         "0.27",
         "-0.523",
         "-0.365",
         "0.514",
         "0.812",
         "0.487",
         "0.675",
         "0.515",
         "0.946",
         "0.182",
         "0.792",
         "-0.281",
         "0.157",
         "0.94",
         "1.289",
         "0.6",
         "1.109",
         "-0.236",
         "0.095",
         "-0.532",
         "-0.05",
         "-0.658",
         "-0.729",
         "0.351",
         "0.717",
         "0.025",
         "0.374",
         "0.283",
         "0.674",
         "0.445",
         "0.787",
         "-0.29",
         "-0.026",
         "0.686",
         "1.109",
         "-0.123",
         "0.553",
         "-0.037",
         "0.565",
         "0.263",
         "0.776",
         "-0.396",
         "-0.091",
         "1.076",
         "1.278",
         "-0.144",
         "0.667",
         "0.217",
         "0.749",
         "0.082",
         "0.538",
         "0.442",
         "-0.142",
         "1.043",
         "0.963",
         "0.01",
         "0.341",
         "0.164",
         "0.516",
         "-0.24",
         "0.104",
         "-0.776",
         "-0.539",
         "1.023",
         "0.933",
         "-0.303",
         "-0.295"
        ],
        [
         "40",
         "40709",
         "Astara",
         "Gilan",
         "38.365",
         "48.855",
         "-21.1",
         "2010-01-01 00:00:00",
         "10.9",
         "5.3",
         "8.1",
         "65.65",
         "27.61",
         "-0.217",
         "-0.273",
         "-0.426",
         "-0.577",
         "0.343",
         "0.392",
         "-0.078",
         "-0.038",
         "-0.28",
         "-0.028",
         "0.032",
         "0.176",
         "-0.518",
         "-0.346",
         "-0.063",
         "-0.002",
         "-1.09",
         "-0.984",
         "97.395",
         "101.928",
         "51.819",
         "51.0",
         "60.647",
         "43.462",
         "0.487",
         "14.23",
         "5.11",
         "0.275",
         "7.49",
         "0.514",
         "8.93",
         "0.26",
         "0.5",
         "0.267",
         "11.58",
         "6.3",
         "8.94",
         "0.268",
         "0.455",
         "0.396",
         "0.322",
         "0.371",
         "1.0",
         "0.0",
         "0.5",
         "0.485",
         "0.423",
         "0.465",
         "0.441",
         "0.457",
         "-0.646",
         "-0.361",
         "0.607",
         "0.85",
         "-0.463",
         "-0.323",
         "-0.33",
         "-0.139",
         "0.258",
         "0.395",
         "-0.582",
         "-0.502",
         "0.276",
         "0.497",
         "-0.257",
         "-0.186",
         "0.182",
         "0.215",
         "1.391",
         "0.69",
         "0.687",
         "0.714",
         "0.415",
         "0.598",
         "-0.584",
         "-0.377",
         "0.505",
         "0.775",
         "0.917",
         "0.854",
         "0.045",
         "0.366",
         "0.185",
         "0.642",
         "-0.705",
         "-0.391",
         "0.64",
         "0.951",
         "0.4",
         "0.852",
         "-0.233",
         "0.2",
         "-0.145",
         "0.438",
         "-0.607",
         "-0.392",
         "0.273",
         "0.727",
         "0.105",
         "0.637",
         "-0.553",
         "-0.056",
         "-0.011",
         "0.474",
         "-0.191",
         "-0.322",
         "-0.202",
         "0.45",
         "-0.345",
         "0.398",
         "-0.157",
         "0.207",
         "0.253",
         "0.746",
         "0.019",
         "0.314",
         "0.969",
         "1.275",
         "-0.102",
         "0.555",
         "-0.083",
         "0.594",
         "0.352",
         "0.892",
         "0.041",
         "0.035",
         "0.981",
         "1.248",
         "-0.27",
         "0.621",
         "-0.699",
         "-0.225",
         "-0.325",
         "0.03",
         "-0.828",
         "-0.704",
         "0.951",
         "0.798",
         "-0.173",
         "-0.33"
        ],
        [
         "41",
         "40709",
         "Astara",
         "Gilan",
         "38.365",
         "48.855",
         "-21.1",
         "2010-02-01 00:00:00",
         "8.6",
         "3.5",
         "6.0",
         "93.76",
         "29.27",
         "-0.049",
         "0.099",
         "-0.006",
         "0.113",
         "-0.451",
         "-0.459",
         "0.079",
         "0.13",
         "0.006",
         "0.173",
         "-0.088",
         "0.093",
         "-0.12",
         "0.103",
         "-0.147",
         "-0.26",
         "-0.359",
         "-0.718",
         "154.12",
         "76.608",
         "37.659",
         "75.0",
         "60.058",
         "51.775",
         "0.416",
         "7.61",
         "7.03",
         "0.256",
         "6.29",
         "0.508",
         null,
         "0.216",
         "0.462",
         "0.236",
         "7.61",
         "6.66",
         "7.135",
         "0.751",
         "0.303",
         "0.196",
         "0.382",
         "0.298",
         "0.92",
         "0.563",
         "0.741",
         "0.595",
         "0.745",
         "0.56",
         "0.621",
         "0.594",
         "0.95",
         "0.99",
         "0.455",
         "0.353",
         "-0.619",
         "-0.425",
         "0.779",
         "0.614",
         "0.13",
         "0.445",
         "-0.082",
         "0.055",
         "0.293",
         "0.989",
         "-0.648",
         "-0.818",
         "-0.511",
         "-0.122",
         "0.529",
         "1.056",
         "-0.142",
         "-0.058",
         "-0.013",
         "0.147",
         "-0.935",
         "-0.798",
         "0.732",
         "0.819",
         "0.673",
         "0.828",
         "0.507",
         "0.784",
         "0.281",
         "0.619",
         "-0.83",
         "-0.482",
         "0.32",
         "1.092",
         "0.705",
         "0.827",
         "0.362",
         "0.81",
         "0.005",
         "0.746",
         "-0.688",
         "0.018",
         "0.544",
         "1.073",
         "0.697",
         "0.802",
         "0.156",
         "0.651",
         "-0.126",
         "0.554",
         "-0.495",
         "-0.209",
         "0.167",
         "0.827",
         "-0.163",
         "0.54",
         "0.066",
         "0.57",
         "0.442",
         "0.886",
         "0.156",
         "-0.022",
         "1.155",
         "1.533",
         "-0.055",
         "0.547",
         "0.036",
         "0.653",
         "0.121",
         "0.791",
         "-0.634",
         "-0.242",
         "1.019",
         "1.588",
         "-0.24",
         "0.589",
         "-0.129",
         "-0.021",
         "-0.017",
         "0.145",
         "-0.609",
         "-0.355",
         "0.525",
         "0.886",
         "-0.827",
         "-0.157"
        ],
        [
         "42",
         "40709",
         "Astara",
         "Gilan",
         "38.365",
         "48.855",
         "-21.1",
         "2010-03-01 00:00:00",
         "11.7",
         "6.0",
         "8.9",
         "123.76",
         "50.68",
         "0.404",
         "0.497",
         "-0.11",
         "-0.014",
         "-0.218",
         "-0.151",
         "0.169",
         "0.191",
         "0.349",
         "0.475",
         "-0.114",
         "-0.209",
         "0.202",
         "0.366",
         "0.062",
         "-0.327",
         "-0.47",
         "-0.246",
         "132.924",
         "95.232",
         "53.762",
         "72.0",
         "57.454",
         "104.35",
         "0.477",
         "17.03",
         "3.75",
         "0.248",
         "6.93",
         "0.505",
         "9.89",
         "0.249",
         "0.491",
         "0.249",
         "13.46",
         "5.34",
         "9.4",
         "0.488",
         "0.467",
         "0.348",
         "0.434",
         "0.439",
         "1.0",
         "0.802",
         "0.901",
         "0.756",
         "0.763",
         "0.717",
         "0.745",
         "0.747",
         "0.419",
         "0.276",
         "0.439",
         "0.275",
         "0.44",
         "0.175",
         "0.288",
         "0.125",
         "-0.089",
         "-0.161",
         "0.137",
         "0.266",
         "0.427",
         "0.648",
         "-0.051",
         "-0.39",
         "0.029",
         "0.299",
         "0.04",
         "0.266",
         "-0.767",
         "-0.7",
         "-0.264",
         "-0.065",
         "-1.238",
         "-1.031",
         "-0.603",
         "-0.44",
         "0.242",
         "0.422",
         "0.716",
         "0.792",
         "0.144",
         "0.526",
         "-0.731",
         "-0.472",
         "0.701",
         "0.886",
         "0.335",
         "0.678",
         "0.768",
         "1.109",
         "0.515",
         "0.994",
         "-0.607",
         "-0.041",
         "1.0",
         "1.267",
         "0.44",
         "1.028",
         "-0.09",
         "0.305",
         "-0.106",
         "0.233",
         "-0.335",
         "-0.743",
         "0.412",
         "0.861",
         "-0.246",
         "0.392",
         "0.9",
         "0.854",
         "0.737",
         "0.871",
         "0.306",
         "-0.008",
         "0.712",
         "1.134",
         "-0.195",
         "0.518",
         "0.029",
         "0.587",
         "0.211",
         "0.792",
         "-0.693",
         "-0.339",
         "1.295",
         "1.382",
         "-0.25",
         "0.501",
         "0.184",
         "0.742",
         "0.12",
         "0.652",
         "-0.907",
         "-0.496",
         "1.303",
         "1.418",
         "-0.58",
         "0.203"
        ],
        [
         "43",
         "40709",
         "Astara",
         "Gilan",
         "38.365",
         "48.855",
         "-21.1",
         "2010-04-01 00:00:00",
         "15.5",
         "10.1",
         "12.8",
         "157.62",
         "67.86",
         "1.209",
         "1.025",
         "0.741",
         "0.844",
         "0.358",
         "0.469",
         "0.603",
         "0.743",
         "0.291",
         "0.385",
         "0.158",
         "0.413",
         "0.17",
         "0.373",
         "-0.17",
         "0.081",
         "0.031",
         "0.361",
         "162.234",
         "118.08",
         "107.399",
         "95.0",
         "114.532",
         "95.762",
         "0.536",
         "19.67",
         "8.97",
         "0.301",
         "9.89",
         "0.534",
         "12.09",
         "0.307",
         "0.535",
         "0.304",
         "15.88",
         "9.43",
         "12.655",
         "0.829",
         "0.759",
         "0.958",
         "0.726",
         "1.0",
         "1.0",
         "0.968",
         "0.984",
         "0.909",
         "0.932",
         "0.975",
         "0.898",
         "0.989",
         "1.486",
         "1.624",
         "1.201",
         "1.299",
         "1.329",
         "1.47",
         "1.158",
         "1.368",
         "1.558",
         "1.543",
         "1.562",
         "1.556",
         "0.801",
         "1.062",
         "0.391",
         "0.723",
         "0.885",
         "1.117",
         "0.847",
         "1.181",
         "0.494",
         "0.892",
         "0.911",
         "1.298",
         "0.039",
         "0.446",
         "0.858",
         "1.221",
         "1.297",
         "1.499",
         "1.091",
         "1.265",
         "0.764",
         "1.026",
         "-0.391",
         "-0.061",
         "1.004",
         "1.16",
         "0.861",
         "1.214",
         "0.811",
         "1.12",
         "0.548",
         "1.026",
         "-0.508",
         "-0.069",
         "0.064",
         "1.314",
         "0.702",
         "1.404",
         "0.68",
         "1.115",
         "0.228",
         "0.933",
         "-0.641",
         "0.128",
         "0.838",
         "0.653",
         "0.508",
         "0.975",
         "0.385",
         "1.03",
         "0.217",
         "0.938",
         "-0.554",
         "0.038",
         "0.517",
         "1.035",
         "0.153",
         "0.912",
         "0.438",
         "0.959",
         "0.516",
         "1.083",
         "-0.531",
         "-0.02",
         "1.166",
         "1.479",
         "0.141",
         "0.828",
         "0.597",
         "1.293",
         "0.601",
         "1.208",
         "-0.515",
         "0.104",
         "1.194",
         "1.653",
         "0.002",
         "0.92"
        ],
        [
         "44",
         "40709",
         "Astara",
         "Gilan",
         "38.365",
         "48.855",
         "-21.1",
         "2010-05-01 00:00:00",
         "22.5",
         "15.9",
         "19.2",
         "36.78",
         "109.58",
         "0.091",
         "-0.185",
         "0.729",
         "0.852",
         "0.445",
         "0.656",
         "-0.114",
         "-0.044",
         "0.317",
         "0.452",
         "0.159",
         "0.508",
         "0.226",
         "0.415",
         "0.119",
         "0.373",
         "-0.269",
         "0.026",
         "75.174",
         "75.144",
         "47.498",
         "39.0",
         "90.108",
         "197.212",
         "0.564",
         "27.79",
         "16.85",
         "0.322",
         "17.73",
         "0.624",
         "19.45",
         "0.295",
         "0.594",
         "0.308",
         "23.62",
         "17.29",
         "20.455",
         "0.204",
         "0.265",
         "0.702",
         "0.455",
         "0.718",
         "0.721",
         "0.589",
         "0.655",
         "0.525",
         "0.505",
         "0.671",
         "0.588",
         "0.676",
         "-0.008",
         "0.134",
         "0.54",
         "0.066",
         "0.739",
         "0.5",
         "0.861",
         "0.533",
         "1.277",
         "1.142",
         "1.2",
         "1.407",
         "1.037",
         "1.393",
         "1.085",
         "1.278",
         "0.376",
         "1.231",
         "1.825",
         "1.729",
         "0.447",
         "1.349",
         "0.906",
         "1.48",
         "0.331",
         "0.741",
         "0.647",
         "1.167",
         "1.306",
         "1.533",
         "0.472",
         "0.717",
         "0.315",
         "0.651",
         "-0.598",
         "-0.306",
         "0.992",
         "1.137",
         "1.209",
         "1.431",
         "0.908",
         "1.237",
         "0.759",
         "1.234",
         "-0.481",
         "-0.044",
         "1.027",
         "1.424",
         "1.023",
         "1.551",
         "0.876",
         "1.322",
         "0.547",
         "1.383",
         "-0.412",
         "0.334",
         "0.998",
         "1.171",
         "0.758",
         "1.322",
         "0.749",
         "1.22",
         "0.192",
         "1.212",
         "-0.488",
         "0.198",
         "0.708",
         "0.996",
         "0.447",
         "0.678",
         "0.657",
         "1.231",
         "0.568",
         "1.324",
         "0.371",
         "0.214",
         "1.403",
         "1.788",
         "0.38",
         "1.018",
         "0.553",
         "1.238",
         "0.6",
         "1.318",
         "-0.519",
         "0.099",
         "1.293",
         "1.59",
         "0.16",
         "1.015"
        ],
        [
         "45",
         "40709",
         "Astara",
         "Gilan",
         "38.365",
         "48.855",
         "-21.1",
         "2010-06-01 00:00:00",
         "30.2",
         "21.0",
         "25.6",
         "5.16",
         "154.38",
         "-0.767",
         "-0.996",
         "0.798",
         "0.599",
         "0.402",
         "0.435",
         "-0.03",
         "0.044",
         "0.274",
         "0.376",
         "0.454",
         "0.696",
         "-0.176",
         "0.127",
         "0.485",
         "0.52",
         "-0.4",
         "-0.157",
         "22.698",
         "23.76",
         "11.257",
         "15.0",
         "17.948",
         "235.675",
         "0.523",
         "32.89",
         "22.71",
         "0.325",
         "25.47",
         "0.558",
         "26.25",
         "0.305",
         "0.541",
         "0.315",
         "29.57",
         "24.09",
         "26.83",
         "0.346",
         "0.261",
         "0.162",
         "0.204",
         "0.081",
         "0.0",
         "0.271",
         "0.135",
         "0.177",
         "0.206",
         "0.144",
         "0.158",
         "0.117",
         "-0.581",
         "-0.847",
         "-0.289",
         "-0.683",
         "-1.155",
         "-1.299",
         "0.172",
         "-0.788",
         "-0.263",
         "-0.872",
         "1.035",
         "0.704",
         "0.96",
         "1.432",
         "1.423",
         "1.366",
         "1.214",
         "1.346",
         "1.788",
         "1.707",
         "0.64",
         "0.975",
         "0.841",
         "1.336",
         "-0.011",
         "0.469",
         "0.697",
         "1.027",
         "0.563",
         "1.24",
         "-0.22",
         "0.011",
         "0.096",
         "0.479",
         "-0.825",
         "-0.559",
         "-0.079",
         "0.283",
         "0.856",
         "1.087",
         "0.931",
         "1.147",
         "0.596",
         "1.013",
         "-0.515",
         "-0.176",
         "0.28",
         "1.095",
         "0.838",
         "1.238",
         "0.994",
         "1.379",
         "0.793",
         "1.456",
         "-0.37",
         "0.267",
         "1.258",
         "1.119",
         "0.897",
         "1.351",
         "0.209",
         "0.7",
         "-0.002",
         "0.763",
         "-0.893",
         "-0.31",
         "0.69",
         "1.045",
         "0.357",
         "0.883",
         "0.754",
         "1.102",
         "0.694",
         "1.172",
         "0.238",
         "0.252",
         "0.914",
         "1.35",
         "0.315",
         "0.936",
         "0.329",
         "0.987",
         "0.539",
         "1.11",
         "-0.536",
         "0.003",
         "1.215",
         "1.495",
         "0.166",
         "0.884"
        ],
        [
         "46",
         "40709",
         "Astara",
         "Gilan",
         "38.365",
         "48.855",
         "-21.1",
         "2010-07-01 00:00:00",
         "33.1",
         "22.8",
         "27.9",
         "21.01",
         "173.44",
         "0.475",
         "-0.524",
         "-0.587",
         "-0.929",
         "0.203",
         "0.211",
         "0.142",
         "0.051",
         "0.365",
         "0.543",
         "0.159",
         "0.269",
         "-0.004",
         "0.243",
         "0.041",
         "0.207",
         "-0.348",
         "-0.179",
         "9.095",
         "34.968",
         "8.749",
         "3.0",
         "7.019",
         "242.6",
         "0.643",
         "35.13",
         "23.55",
         "0.428",
         "28.53",
         "0.617",
         "29.77",
         "0.433",
         "0.63",
         "0.431",
         "32.45",
         "26.04",
         "29.245",
         "0.065",
         "0.385",
         "0.141",
         "0.051",
         "0.086",
         "0.083",
         "0.335",
         "0.209",
         "0.268",
         "0.161",
         "0.186",
         "0.157",
         "0.168",
         "-0.897",
         "-1.547",
         "0.423",
         "-0.184",
         "0.009",
         "-1.723",
         "-0.885",
         "-1.701",
         "-0.117",
         "-1.974",
         "-1.001",
         "-1.99",
         "0.593",
         "-0.051",
         "-0.708",
         "-1.334",
         "0.188",
         "-0.878",
         "0.873",
         "-0.291",
         "0.932",
         "1.006",
         "0.902",
         "1.01",
         "0.531",
         "0.333",
         "0.682",
         "0.836",
         "0.845",
         "0.951",
         "0.032",
         "0.261",
         "0.961",
         "1.149",
         "0.646",
         "0.132",
         "0.179",
         "1.014",
         "1.445",
         "1.665",
         "0.886",
         "1.088",
         "0.837",
         "1.059",
         "-0.345",
         "-0.202",
         "0.891",
         "0.984",
         "0.804",
         "1.078",
         "0.508",
         "0.863",
         "0.672",
         "1.025",
         "-0.079",
         "-0.237",
         "0.906",
         "1.163",
         "0.67",
         "1.21",
         "0.398",
         "0.772",
         "0.347",
         "0.983",
         "-0.424",
         "0.061",
         "0.685",
         "0.956",
         "1.182",
         "0.94",
         "0.022",
         "0.631",
         "0.382",
         "0.958",
         "-0.573",
         "-0.062",
         "0.706",
         "0.936",
         "0.194",
         "0.881",
         "0.062",
         "0.709",
         "0.321",
         "1.1",
         "-0.569",
         "-0.12",
         "1.15",
         "1.476",
         "0.15",
         "0.767"
        ],
        [
         "47",
         "40709",
         "Astara",
         "Gilan",
         "38.365",
         "48.855",
         "-21.1",
         "2010-08-01 00:00:00",
         "31.9",
         "21.5",
         "26.7",
         "56.92",
         "152.19",
         "0.925",
         "0.07",
         "-0.683",
         "-1.13",
         "0.67",
         "0.177",
         "0.285",
         "0.208",
         "-0.276",
         "-0.338",
         "0.125",
         "0.217",
         "0.136",
         "0.308",
         "0.065",
         "0.255",
         "1.068",
         "0.26",
         "102.034",
         "54.312",
         "28.527",
         "82.0",
         "16.203",
         "199.35",
         "0.554",
         "36.45",
         "23.33",
         "0.353",
         "29.07",
         "0.545",
         "30.37",
         "0.339",
         "0.549",
         "0.346",
         "33.41",
         "26.2",
         "29.805",
         "0.51",
         "0.406",
         "0.348",
         "0.745",
         "0.456",
         "0.343",
         "0.015",
         "0.179",
         "0.254",
         "0.289",
         "0.235",
         "0.367",
         "0.271",
         "0.932",
         "0.283",
         "0.896",
         "0.343",
         "0.771",
         "-0.092",
         "1.18",
         "0.921",
         "1.171",
         "-0.093",
         "-0.009",
         "-0.567",
         "0.279",
         "-0.432",
         "-0.006",
         "-1.371",
         "0.6",
         "-0.23",
         "-0.453",
         "-1.388",
         "0.941",
         "0.735",
         "1.071",
         "0.21",
         "0.822",
         "0.335",
         "1.093",
         "0.879",
         "1.093",
         "0.962",
         "0.582",
         "0.622",
         "1.045",
         "0.986",
         "0.04",
         "0.016",
         "0.186",
         "0.871",
         "1.055",
         "1.161",
         "0.327",
         "0.405",
         "0.381",
         "0.456",
         "-0.692",
         "-0.59",
         "1.072",
         "1.037",
         "0.879",
         "0.975",
         "0.778",
         "1.068",
         "0.78",
         "1.042",
         "-0.588",
         "-0.325",
         "0.488",
         "1.197",
         "0.749",
         "1.121",
         "0.72",
         "1.121",
         "0.669",
         "1.141",
         "-0.579",
         "0.034",
         "0.989",
         "1.267",
         "0.524",
         "1.08",
         "0.64",
         "1.019",
         "0.511",
         "0.975",
         "-0.624",
         "-0.1",
         "0.81",
         "1.109",
         "0.336",
         "0.857",
         "0.509",
         "1.078",
         "0.83",
         "1.253",
         "-0.251",
         "0.013",
         "1.489",
         "1.814",
         "0.273",
         "0.801"
        ],
        [
         "48",
         "40709",
         "Astara",
         "Gilan",
         "38.365",
         "48.855",
         "-21.1",
         "2010-09-01 00:00:00",
         "27.5",
         "19.9",
         "23.7",
         "278.51",
         "98.02",
         "0.5",
         "0.427",
         "0.103",
         "-0.139",
         "0.412",
         "0.252",
         "0.327",
         "0.295",
         "-0.023",
         "-0.012",
         "-0.103",
         "0.328",
         "0.189",
         "0.65",
         "-0.116",
         "0.025",
         "0.258",
         "0.419",
         "108.021",
         "47.52",
         "0.138",
         "52.0",
         "2.519",
         "126.25",
         "0.509",
         "30.81",
         "21.49",
         "0.293",
         "25.61",
         "0.522",
         "27.37",
         "0.3",
         "0.515",
         "0.297",
         "29.09",
         "23.55",
         "26.32",
         "0.274",
         "0.035",
         "0.0",
         "0.124",
         "0.013",
         "0.307",
         "0.239",
         "0.273",
         "0.194",
         "0.273",
         "0.182",
         "0.223",
         "0.186",
         "-0.362",
         "-0.396",
         "-1.381",
         "-1.371",
         "-1.604",
         "-1.495",
         "-0.997",
         "-1.1",
         "-0.832",
         "-1.417",
         "0.313",
         "-0.211",
         "-0.69",
         "-1.067",
         "-1.43",
         "-1.639",
         "-0.217",
         "-0.649",
         "-1.961",
         "-1.608",
         "0.618",
         "0.562",
         "0.212",
         "0.27",
         "0.064",
         "-0.51",
         "0.286",
         "0.351",
         "0.652",
         "0.514",
         "0.353",
         "0.466",
         "0.308",
         "0.506",
         "-0.684",
         "-0.68",
         "0.178",
         "0.384",
         "0.478",
         "0.547",
         "0.016",
         "-0.345",
         "-0.155",
         "-0.063",
         "-1.353",
         "-1.282",
         "-0.258",
         "-0.011",
         "0.476",
         "0.584",
         "0.585",
         "0.777",
         "0.311",
         "0.539",
         "-0.914",
         "-0.743",
         "0.739",
         "0.861",
         "0.5",
         "0.829",
         "0.636",
         "1.018",
         "0.544",
         "0.975",
         "-0.808",
         "-0.388",
         "0.883",
         "1.121",
         "0.579",
         "1.063",
         "-0.085",
         "0.25",
         "-0.177",
         "0.262",
         "-1.419",
         "-1.154",
         "0.299",
         "0.741",
         "0.723",
         "0.571",
         "0.422",
         "0.836",
         "0.478",
         "0.888",
         "0.306",
         "-0.272",
         "0.689",
         "1.19",
         "0.273",
         "0.685"
        ],
        [
         "49",
         "40709",
         "Astara",
         "Gilan",
         "38.365",
         "48.855",
         "-21.1",
         "2010-10-01 00:00:00",
         "21.5",
         "16.1",
         "18.8",
         "327.2",
         "55.37",
         "0.607",
         "0.682",
         "0.572",
         "0.403",
         "0.16",
         "-0.1",
         "0.602",
         "0.573",
         "0.566",
         "0.435",
         "0.492",
         "0.621",
         "0.318",
         "0.401",
         "0.168",
         "0.354",
         "0.195",
         "0.267",
         "261.265",
         "153.264",
         "133.19",
         "95.0",
         "82.278",
         "86.638",
         "0.585",
         "24.65",
         "14.99",
         "0.236",
         "18.43",
         "0.545",
         "22.41",
         "0.266",
         "0.565",
         "0.251",
         "23.53",
         "16.71",
         "20.12",
         "0.567",
         "0.447",
         "0.376",
         "0.132",
         "0.429",
         "0.637",
         "0.393",
         "0.515",
         "0.492",
         "0.532",
         "0.469",
         "0.387",
         "0.486",
         "0.26",
         "0.145",
         "0.565",
         "0.11",
         "0.507",
         "0.102",
         "0.476",
         "-0.614",
         "0.737",
         "0.333",
         "0.216",
         "0.073",
         "-0.31",
         "-0.451",
         "-0.762",
         "-0.949",
         "-0.45",
         "-0.575",
         "0.258",
         "-0.13",
         "-0.11",
         "-0.397",
         "-0.031",
         "-0.525",
         "-0.831",
         "-1.27",
         "-0.647",
         "-0.98",
         "0.222",
         "-0.459",
         "0.712",
         "0.749",
         "0.34",
         "0.367",
         "0.064",
         "-0.443",
         "0.058",
         "0.135",
         "0.776",
         "0.654",
         "0.204",
         "0.167",
         "0.472",
         "0.551",
         "0.259",
         "-0.628",
         "0.169",
         "0.06",
         "1.326",
         "1.166",
         "0.819",
         "0.908",
         "0.154",
         "0.529",
         "-0.796",
         "-0.731",
         "0.427",
         "0.595",
         "0.658",
         "0.79",
         "0.457",
         "0.657",
         "0.266",
         "0.505",
         "-0.915",
         "-0.718",
         "0.926",
         "0.704",
         "0.539",
         "0.867",
         "0.216",
         "0.592",
         "0.013",
         "0.378",
         "-5.848",
         "-0.971",
         "0.068",
         "0.406",
         "0.386",
         "0.795",
         "0.106",
         "0.531",
         "0.218",
         "0.427",
         "-0.569",
         "-0.22",
         "-0.307",
         "0.212",
         "0.114",
         "0.725"
        ]
       ],
       "shape": {
        "columns": 152,
        "rows": 5136
       }
      },
      "text/html": [
       "<div>\n",
       "<style scoped>\n",
       "    .dataframe tbody tr th:only-of-type {\n",
       "        vertical-align: middle;\n",
       "    }\n",
       "\n",
       "    .dataframe tbody tr th {\n",
       "        vertical-align: top;\n",
       "    }\n",
       "\n",
       "    .dataframe thead th {\n",
       "        text-align: right;\n",
       "    }\n",
       "</style>\n",
       "<table border=\"1\" class=\"dataframe\">\n",
       "  <thead>\n",
       "    <tr style=\"text-align: right;\">\n",
       "      <th></th>\n",
       "      <th>Station_ID</th>\n",
       "      <th>Station_Name</th>\n",
       "      <th>Province</th>\n",
       "      <th>Station_Latitude</th>\n",
       "      <th>Station_Longitude</th>\n",
       "      <th>Station_Elevation</th>\n",
       "      <th>Date</th>\n",
       "      <th>Temperature_Maximum</th>\n",
       "      <th>Temperature_Minimum</th>\n",
       "      <th>Temperature</th>\n",
       "      <th>...</th>\n",
       "      <th>ERA5_SPI_24</th>\n",
       "      <th>ERA5_SPEI_24</th>\n",
       "      <th>GPM_SPI_24</th>\n",
       "      <th>GPM_SPEI_24</th>\n",
       "      <th>TRMM_SPI_24</th>\n",
       "      <th>TRMM_SPEI_24</th>\n",
       "      <th>TERRACLIMATE_SPI_24</th>\n",
       "      <th>TERRACLIMATE_SPEI_24</th>\n",
       "      <th>PERSIANNCDR_SPI_24</th>\n",
       "      <th>PERSIANNCDR_SPEI_24</th>\n",
       "    </tr>\n",
       "  </thead>\n",
       "  <tbody>\n",
       "    <tr>\n",
       "      <th>0</th>\n",
       "      <td>40709</td>\n",
       "      <td>Astara</td>\n",
       "      <td>Gilan</td>\n",
       "      <td>38.365</td>\n",
       "      <td>48.855</td>\n",
       "      <td>-21.1</td>\n",
       "      <td>2006-09-01</td>\n",
       "      <td>25.6</td>\n",
       "      <td>18.4</td>\n",
       "      <td>22.0</td>\n",
       "      <td>...</td>\n",
       "      <td>NaN</td>\n",
       "      <td>NaN</td>\n",
       "      <td>NaN</td>\n",
       "      <td>NaN</td>\n",
       "      <td>NaN</td>\n",
       "      <td>NaN</td>\n",
       "      <td>NaN</td>\n",
       "      <td>NaN</td>\n",
       "      <td>NaN</td>\n",
       "      <td>NaN</td>\n",
       "    </tr>\n",
       "    <tr>\n",
       "      <th>1</th>\n",
       "      <td>40709</td>\n",
       "      <td>Astara</td>\n",
       "      <td>Gilan</td>\n",
       "      <td>38.365</td>\n",
       "      <td>48.855</td>\n",
       "      <td>-21.1</td>\n",
       "      <td>2006-10-01</td>\n",
       "      <td>22.2</td>\n",
       "      <td>16.7</td>\n",
       "      <td>19.4</td>\n",
       "      <td>...</td>\n",
       "      <td>NaN</td>\n",
       "      <td>NaN</td>\n",
       "      <td>NaN</td>\n",
       "      <td>NaN</td>\n",
       "      <td>NaN</td>\n",
       "      <td>NaN</td>\n",
       "      <td>NaN</td>\n",
       "      <td>NaN</td>\n",
       "      <td>NaN</td>\n",
       "      <td>NaN</td>\n",
       "    </tr>\n",
       "    <tr>\n",
       "      <th>2</th>\n",
       "      <td>40709</td>\n",
       "      <td>Astara</td>\n",
       "      <td>Gilan</td>\n",
       "      <td>38.365</td>\n",
       "      <td>48.855</td>\n",
       "      <td>-21.1</td>\n",
       "      <td>2006-11-01</td>\n",
       "      <td>16.6</td>\n",
       "      <td>8.2</td>\n",
       "      <td>12.4</td>\n",
       "      <td>...</td>\n",
       "      <td>NaN</td>\n",
       "      <td>NaN</td>\n",
       "      <td>NaN</td>\n",
       "      <td>NaN</td>\n",
       "      <td>NaN</td>\n",
       "      <td>NaN</td>\n",
       "      <td>NaN</td>\n",
       "      <td>NaN</td>\n",
       "      <td>NaN</td>\n",
       "      <td>NaN</td>\n",
       "    </tr>\n",
       "    <tr>\n",
       "      <th>3</th>\n",
       "      <td>40709</td>\n",
       "      <td>Astara</td>\n",
       "      <td>Gilan</td>\n",
       "      <td>38.365</td>\n",
       "      <td>48.855</td>\n",
       "      <td>-21.1</td>\n",
       "      <td>2006-12-01</td>\n",
       "      <td>10.3</td>\n",
       "      <td>2.5</td>\n",
       "      <td>6.4</td>\n",
       "      <td>...</td>\n",
       "      <td>NaN</td>\n",
       "      <td>NaN</td>\n",
       "      <td>NaN</td>\n",
       "      <td>NaN</td>\n",
       "      <td>NaN</td>\n",
       "      <td>NaN</td>\n",
       "      <td>NaN</td>\n",
       "      <td>NaN</td>\n",
       "      <td>NaN</td>\n",
       "      <td>NaN</td>\n",
       "    </tr>\n",
       "    <tr>\n",
       "      <th>4</th>\n",
       "      <td>40709</td>\n",
       "      <td>Astara</td>\n",
       "      <td>Gilan</td>\n",
       "      <td>38.365</td>\n",
       "      <td>48.855</td>\n",
       "      <td>-21.1</td>\n",
       "      <td>2007-01-01</td>\n",
       "      <td>12.8</td>\n",
       "      <td>2.4</td>\n",
       "      <td>7.6</td>\n",
       "      <td>...</td>\n",
       "      <td>NaN</td>\n",
       "      <td>NaN</td>\n",
       "      <td>NaN</td>\n",
       "      <td>NaN</td>\n",
       "      <td>NaN</td>\n",
       "      <td>NaN</td>\n",
       "      <td>NaN</td>\n",
       "      <td>NaN</td>\n",
       "      <td>NaN</td>\n",
       "      <td>NaN</td>\n",
       "    </tr>\n",
       "    <tr>\n",
       "      <th>...</th>\n",
       "      <td>...</td>\n",
       "      <td>...</td>\n",
       "      <td>...</td>\n",
       "      <td>...</td>\n",
       "      <td>...</td>\n",
       "      <td>...</td>\n",
       "      <td>...</td>\n",
       "      <td>...</td>\n",
       "      <td>...</td>\n",
       "      <td>...</td>\n",
       "      <td>...</td>\n",
       "      <td>...</td>\n",
       "      <td>...</td>\n",
       "      <td>...</td>\n",
       "      <td>...</td>\n",
       "      <td>...</td>\n",
       "      <td>...</td>\n",
       "      <td>...</td>\n",
       "      <td>...</td>\n",
       "      <td>...</td>\n",
       "      <td>...</td>\n",
       "    </tr>\n",
       "    <tr>\n",
       "      <th>5131</th>\n",
       "      <td>99361</td>\n",
       "      <td>Alasht</td>\n",
       "      <td>Mazandaran</td>\n",
       "      <td>36.071</td>\n",
       "      <td>52.843</td>\n",
       "      <td>1805.0</td>\n",
       "      <td>2024-02-01</td>\n",
       "      <td>7.5</td>\n",
       "      <td>-1.3</td>\n",
       "      <td>3.1</td>\n",
       "      <td>...</td>\n",
       "      <td>-1.495</td>\n",
       "      <td>NaN</td>\n",
       "      <td>-0.884</td>\n",
       "      <td>NaN</td>\n",
       "      <td>NaN</td>\n",
       "      <td>NaN</td>\n",
       "      <td>NaN</td>\n",
       "      <td>NaN</td>\n",
       "      <td>-5.877</td>\n",
       "      <td>NaN</td>\n",
       "    </tr>\n",
       "    <tr>\n",
       "      <th>5132</th>\n",
       "      <td>99361</td>\n",
       "      <td>Alasht</td>\n",
       "      <td>Mazandaran</td>\n",
       "      <td>36.071</td>\n",
       "      <td>52.843</td>\n",
       "      <td>1805.0</td>\n",
       "      <td>2024-03-01</td>\n",
       "      <td>12.1</td>\n",
       "      <td>1.8</td>\n",
       "      <td>6.9</td>\n",
       "      <td>...</td>\n",
       "      <td>-1.630</td>\n",
       "      <td>NaN</td>\n",
       "      <td>-1.944</td>\n",
       "      <td>NaN</td>\n",
       "      <td>NaN</td>\n",
       "      <td>NaN</td>\n",
       "      <td>NaN</td>\n",
       "      <td>NaN</td>\n",
       "      <td>-6.136</td>\n",
       "      <td>NaN</td>\n",
       "    </tr>\n",
       "    <tr>\n",
       "      <th>5133</th>\n",
       "      <td>99361</td>\n",
       "      <td>Alasht</td>\n",
       "      <td>Mazandaran</td>\n",
       "      <td>36.071</td>\n",
       "      <td>52.843</td>\n",
       "      <td>1805.0</td>\n",
       "      <td>2024-04-01</td>\n",
       "      <td>15.7</td>\n",
       "      <td>6.2</td>\n",
       "      <td>10.9</td>\n",
       "      <td>...</td>\n",
       "      <td>-1.800</td>\n",
       "      <td>NaN</td>\n",
       "      <td>-1.772</td>\n",
       "      <td>NaN</td>\n",
       "      <td>NaN</td>\n",
       "      <td>NaN</td>\n",
       "      <td>NaN</td>\n",
       "      <td>NaN</td>\n",
       "      <td>NaN</td>\n",
       "      <td>NaN</td>\n",
       "    </tr>\n",
       "    <tr>\n",
       "      <th>5134</th>\n",
       "      <td>99361</td>\n",
       "      <td>Alasht</td>\n",
       "      <td>Mazandaran</td>\n",
       "      <td>36.071</td>\n",
       "      <td>52.843</td>\n",
       "      <td>1805.0</td>\n",
       "      <td>2024-05-01</td>\n",
       "      <td>18.0</td>\n",
       "      <td>9.3</td>\n",
       "      <td>13.6</td>\n",
       "      <td>...</td>\n",
       "      <td>-1.602</td>\n",
       "      <td>NaN</td>\n",
       "      <td>-0.695</td>\n",
       "      <td>NaN</td>\n",
       "      <td>NaN</td>\n",
       "      <td>NaN</td>\n",
       "      <td>NaN</td>\n",
       "      <td>NaN</td>\n",
       "      <td>NaN</td>\n",
       "      <td>NaN</td>\n",
       "    </tr>\n",
       "    <tr>\n",
       "      <th>5135</th>\n",
       "      <td>99361</td>\n",
       "      <td>Alasht</td>\n",
       "      <td>Mazandaran</td>\n",
       "      <td>36.071</td>\n",
       "      <td>52.843</td>\n",
       "      <td>1805.0</td>\n",
       "      <td>2024-06-01</td>\n",
       "      <td>23.3</td>\n",
       "      <td>13.9</td>\n",
       "      <td>18.6</td>\n",
       "      <td>...</td>\n",
       "      <td>-1.377</td>\n",
       "      <td>NaN</td>\n",
       "      <td>-1.233</td>\n",
       "      <td>NaN</td>\n",
       "      <td>NaN</td>\n",
       "      <td>NaN</td>\n",
       "      <td>NaN</td>\n",
       "      <td>NaN</td>\n",
       "      <td>NaN</td>\n",
       "      <td>NaN</td>\n",
       "    </tr>\n",
       "  </tbody>\n",
       "</table>\n",
       "<p>5136 rows × 152 columns</p>\n",
       "</div>"
      ],
      "text/plain": [
       "     Station_ID Station_Name    Province  Station_Latitude  Station_Longitude  \\\n",
       "0         40709       Astara       Gilan            38.365             48.855   \n",
       "1         40709       Astara       Gilan            38.365             48.855   \n",
       "2         40709       Astara       Gilan            38.365             48.855   \n",
       "3         40709       Astara       Gilan            38.365             48.855   \n",
       "4         40709       Astara       Gilan            38.365             48.855   \n",
       "...         ...          ...         ...               ...                ...   \n",
       "5131      99361       Alasht  Mazandaran            36.071             52.843   \n",
       "5132      99361       Alasht  Mazandaran            36.071             52.843   \n",
       "5133      99361       Alasht  Mazandaran            36.071             52.843   \n",
       "5134      99361       Alasht  Mazandaran            36.071             52.843   \n",
       "5135      99361       Alasht  Mazandaran            36.071             52.843   \n",
       "\n",
       "      Station_Elevation       Date  Temperature_Maximum  Temperature_Minimum  \\\n",
       "0                 -21.1 2006-09-01                 25.6                 18.4   \n",
       "1                 -21.1 2006-10-01                 22.2                 16.7   \n",
       "2                 -21.1 2006-11-01                 16.6                  8.2   \n",
       "3                 -21.1 2006-12-01                 10.3                  2.5   \n",
       "4                 -21.1 2007-01-01                 12.8                  2.4   \n",
       "...                 ...        ...                  ...                  ...   \n",
       "5131             1805.0 2024-02-01                  7.5                 -1.3   \n",
       "5132             1805.0 2024-03-01                 12.1                  1.8   \n",
       "5133             1805.0 2024-04-01                 15.7                  6.2   \n",
       "5134             1805.0 2024-05-01                 18.0                  9.3   \n",
       "5135             1805.0 2024-06-01                 23.3                 13.9   \n",
       "\n",
       "      Temperature  ...  ERA5_SPI_24  ERA5_SPEI_24  GPM_SPI_24  GPM_SPEI_24  \\\n",
       "0            22.0  ...          NaN           NaN         NaN          NaN   \n",
       "1            19.4  ...          NaN           NaN         NaN          NaN   \n",
       "2            12.4  ...          NaN           NaN         NaN          NaN   \n",
       "3             6.4  ...          NaN           NaN         NaN          NaN   \n",
       "4             7.6  ...          NaN           NaN         NaN          NaN   \n",
       "...           ...  ...          ...           ...         ...          ...   \n",
       "5131          3.1  ...       -1.495           NaN      -0.884          NaN   \n",
       "5132          6.9  ...       -1.630           NaN      -1.944          NaN   \n",
       "5133         10.9  ...       -1.800           NaN      -1.772          NaN   \n",
       "5134         13.6  ...       -1.602           NaN      -0.695          NaN   \n",
       "5135         18.6  ...       -1.377           NaN      -1.233          NaN   \n",
       "\n",
       "      TRMM_SPI_24  TRMM_SPEI_24  TERRACLIMATE_SPI_24  TERRACLIMATE_SPEI_24  \\\n",
       "0             NaN           NaN                  NaN                   NaN   \n",
       "1             NaN           NaN                  NaN                   NaN   \n",
       "2             NaN           NaN                  NaN                   NaN   \n",
       "3             NaN           NaN                  NaN                   NaN   \n",
       "4             NaN           NaN                  NaN                   NaN   \n",
       "...           ...           ...                  ...                   ...   \n",
       "5131          NaN           NaN                  NaN                   NaN   \n",
       "5132          NaN           NaN                  NaN                   NaN   \n",
       "5133          NaN           NaN                  NaN                   NaN   \n",
       "5134          NaN           NaN                  NaN                   NaN   \n",
       "5135          NaN           NaN                  NaN                   NaN   \n",
       "\n",
       "      PERSIANNCDR_SPI_24  PERSIANNCDR_SPEI_24  \n",
       "0                    NaN                  NaN  \n",
       "1                    NaN                  NaN  \n",
       "2                    NaN                  NaN  \n",
       "3                    NaN                  NaN  \n",
       "4                    NaN                  NaN  \n",
       "...                  ...                  ...  \n",
       "5131              -5.877                  NaN  \n",
       "5132              -6.136                  NaN  \n",
       "5133                 NaN                  NaN  \n",
       "5134                 NaN                  NaN  \n",
       "5135                 NaN                  NaN  \n",
       "\n",
       "[5136 rows x 152 columns]"
      ]
     },
     "execution_count": 39,
     "metadata": {},
     "output_type": "execute_result"
    }
   ],
   "source": [
    "data"
   ]
  },
  {
   "cell_type": "markdown",
   "metadata": {},
   "source": [
    "### Prepare the Data"
   ]
  },
  {
   "cell_type": "code",
   "execution_count": 40,
   "metadata": {},
   "outputs": [],
   "source": [
    "\n",
    "data = data.query('Province == \"Mazandaran\"')\n",
    "\n",
    "\n",
    "# Aggregate the data by station\n",
    "station_data = data.groupby([\"Station_ID\", \"Station_Name\", data[\"Date\"].dt.year]).agg({\n",
    "    'Temperature': 'mean',\n",
    "    'Temperature_Maximum': 'mean',\n",
    "    'Temperature_Minimum': 'mean',\n",
    "    'Precipitation': 'sum',\n",
    "    'Station_Elevation': 'first',\n",
    "}).groupby([\"Station_ID\", \"Station_Name\"]).agg({\n",
    "    'Temperature': 'mean',\n",
    "    'Temperature_Maximum': 'mean',\n",
    "    'Temperature_Minimum': 'mean',\n",
    "    'Precipitation': 'mean',\n",
    "    'Station_Elevation': 'first',\n",
    "}).reset_index()\n",
    "\n",
    "station_data['DT'] = station_data['Temperature_Maximum'] - station_data['Temperature_Minimum']\n",
    "\n",
    "# Normalize the data\n",
    "scaler = StandardScaler()\n",
    "features = [\"Temperature\", \"Precipitation\", \"Station_Elevation\", \"DT\"]\n",
    "station_data_scaled = scaler.fit_transform(station_data[features])"
   ]
  },
  {
   "cell_type": "markdown",
   "metadata": {},
   "source": [
    "### Apply Clustering Algorithm"
   ]
  },
  {
   "cell_type": "markdown",
   "metadata": {},
   "source": [
    "##### K-Means Clustering"
   ]
  },
  {
   "cell_type": "code",
   "execution_count": 41,
   "metadata": {},
   "outputs": [
    {
     "data": {
      "application/vnd.microsoft.datawrangler.viewer.v0+json": {
       "columns": [
        {
         "name": "Cluster",
         "rawType": "int32",
         "type": "integer"
        },
        {
         "name": "count",
         "rawType": "int64",
         "type": "integer"
        }
       ],
       "ref": "3492e364-3213-4ac6-a352-ad4bb30db99e",
       "rows": [
        [
         "1",
         "8"
        ],
        [
         "2",
         "5"
        ],
        [
         "3",
         "2"
        ]
       ],
       "shape": {
        "columns": 1,
        "rows": 3
       }
      },
      "text/plain": [
       "Cluster\n",
       "1    8\n",
       "2    5\n",
       "3    2\n",
       "Name: count, dtype: int64"
      ]
     },
     "execution_count": 41,
     "metadata": {},
     "output_type": "execute_result"
    }
   ],
   "source": [
    "k = 3\n",
    "\n",
    "kmeans = KMeans(n_clusters=k, random_state=42)\n",
    "\n",
    "station_data['Cluster'] = kmeans.fit_predict(station_data_scaled)\n",
    "station_data['Cluster'] = station_data['Cluster'] + 1\n",
    "\n",
    "\n",
    "station_data.Cluster.value_counts()"
   ]
  },
  {
   "cell_type": "code",
   "execution_count": 42,
   "metadata": {},
   "outputs": [
    {
     "data": {
      "application/vnd.plotly.v1+json": {
       "config": {
        "plotlyServerURL": "https://plot.ly"
       },
       "data": [
        {
         "hovertemplate": "<b>%{hovertext}</b><br><br>Cluster=3<br>Temperature=%{x}<br>Precipitation=%{y}<extra></extra>",
         "hovertext": [
          "Ramsar",
          "Nowshahr"
         ],
         "legendgroup": "3",
         "marker": {
          "color": "#636efa",
          "size": 8,
          "symbol": "circle"
         },
         "mode": "markers",
         "name": "3",
         "orientation": "v",
         "showlegend": true,
         "type": "scatter",
         "x": [
          17.272807017543858,
          17.106140350877194
         ],
         "xaxis": "x",
         "y": [
          1222.457894736842,
          1263.9073684210525
         ],
         "yaxis": "y"
        },
        {
         "hovertemplate": "<b>%{hovertext}</b><br><br>Cluster=2<br>Temperature=%{x}<br>Precipitation=%{y}<extra></extra>",
         "hovertext": [
          "Siahbisheh",
          "Kiyasar",
          "Kojur",
          "Baladeh",
          "Alasht"
         ],
         "legendgroup": "2",
         "marker": {
          "color": "#EF553B",
          "size": 8,
          "symbol": "circle"
         },
         "mode": "markers",
         "name": "2",
         "orientation": "v",
         "showlegend": true,
         "type": "scatter",
         "x": [
          11.159210526315789,
          13.489473684210527,
          11.779824561403508,
          9.441666666666666,
          11.30438596491228
         ],
         "xaxis": "x",
         "y": [
          500.2315789473684,
          501.89578947368426,
          305.86315789473684,
          292.49894736842106,
          500.9452631578947
         ],
         "yaxis": "y"
        },
        {
         "hovertemplate": "<b>%{hovertext}</b><br><br>Cluster=1<br>Temperature=%{x}<br>Precipitation=%{y}<extra></extra>",
         "hovertext": [
          "Babolsar",
          "Gharakhil",
          "Sari",
          "Sari (dasht-e-naz airport)",
          "Galugah",
          "Bandar-e-amirabad",
          "Amol",
          "Polsefid"
         ],
         "legendgroup": "1",
         "marker": {
          "color": "#00cc96",
          "size": 8,
          "symbol": "circle"
         },
         "mode": "markers",
         "name": "1",
         "orientation": "v",
         "showlegend": true,
         "type": "scatter",
         "x": [
          18.22280701754386,
          17.604824561403507,
          18.41622807017544,
          17.798684210526318,
          17.671491228070174,
          17.824122807017545,
          17.75438596491228,
          15.498324561403509
         ],
         "xaxis": "x",
         "y": [
          824.8273684210526,
          654.97,
          705.6752631578947,
          602.5726315789474,
          536.9226315789474,
          588.8989473684211,
          643.8142105263157,
          537.6452631578948
         ],
         "yaxis": "y"
        }
       ],
       "layout": {
        "font": {
         "family": "B Zar",
         "size": 24
        },
        "height": 600,
        "legend": {
         "font": {
          "size": 18
         },
         "title": {
          "text": "خوشه‌ها"
         },
         "tracegroupgap": 0
        },
        "margin": {
         "b": 50,
         "l": 50,
         "r": 50,
         "t": 50
        },
        "paper_bgcolor": "white",
        "plot_bgcolor": "white",
        "shapes": [
         {
          "line": {
           "color": "black",
           "width": 2
          },
          "type": "rect",
          "x0": 0,
          "x1": 1,
          "xref": "paper",
          "y0": 0,
          "y1": 1,
          "yref": "paper"
         }
        ],
        "template": {
         "data": {
          "bar": [
           {
            "error_x": {
             "color": "#2a3f5f"
            },
            "error_y": {
             "color": "#2a3f5f"
            },
            "marker": {
             "line": {
              "color": "white",
              "width": 0.5
             },
             "pattern": {
              "fillmode": "overlay",
              "size": 10,
              "solidity": 0.2
             }
            },
            "type": "bar"
           }
          ],
          "barpolar": [
           {
            "marker": {
             "line": {
              "color": "white",
              "width": 0.5
             },
             "pattern": {
              "fillmode": "overlay",
              "size": 10,
              "solidity": 0.2
             }
            },
            "type": "barpolar"
           }
          ],
          "carpet": [
           {
            "aaxis": {
             "endlinecolor": "#2a3f5f",
             "gridcolor": "#C8D4E3",
             "linecolor": "#C8D4E3",
             "minorgridcolor": "#C8D4E3",
             "startlinecolor": "#2a3f5f"
            },
            "baxis": {
             "endlinecolor": "#2a3f5f",
             "gridcolor": "#C8D4E3",
             "linecolor": "#C8D4E3",
             "minorgridcolor": "#C8D4E3",
             "startlinecolor": "#2a3f5f"
            },
            "type": "carpet"
           }
          ],
          "choropleth": [
           {
            "colorbar": {
             "outlinewidth": 0,
             "ticks": ""
            },
            "type": "choropleth"
           }
          ],
          "contour": [
           {
            "colorbar": {
             "outlinewidth": 0,
             "ticks": ""
            },
            "colorscale": [
             [
              0,
              "#0d0887"
             ],
             [
              0.1111111111111111,
              "#46039f"
             ],
             [
              0.2222222222222222,
              "#7201a8"
             ],
             [
              0.3333333333333333,
              "#9c179e"
             ],
             [
              0.4444444444444444,
              "#bd3786"
             ],
             [
              0.5555555555555556,
              "#d8576b"
             ],
             [
              0.6666666666666666,
              "#ed7953"
             ],
             [
              0.7777777777777778,
              "#fb9f3a"
             ],
             [
              0.8888888888888888,
              "#fdca26"
             ],
             [
              1,
              "#f0f921"
             ]
            ],
            "type": "contour"
           }
          ],
          "contourcarpet": [
           {
            "colorbar": {
             "outlinewidth": 0,
             "ticks": ""
            },
            "type": "contourcarpet"
           }
          ],
          "heatmap": [
           {
            "colorbar": {
             "outlinewidth": 0,
             "ticks": ""
            },
            "colorscale": [
             [
              0,
              "#0d0887"
             ],
             [
              0.1111111111111111,
              "#46039f"
             ],
             [
              0.2222222222222222,
              "#7201a8"
             ],
             [
              0.3333333333333333,
              "#9c179e"
             ],
             [
              0.4444444444444444,
              "#bd3786"
             ],
             [
              0.5555555555555556,
              "#d8576b"
             ],
             [
              0.6666666666666666,
              "#ed7953"
             ],
             [
              0.7777777777777778,
              "#fb9f3a"
             ],
             [
              0.8888888888888888,
              "#fdca26"
             ],
             [
              1,
              "#f0f921"
             ]
            ],
            "type": "heatmap"
           }
          ],
          "heatmapgl": [
           {
            "colorbar": {
             "outlinewidth": 0,
             "ticks": ""
            },
            "colorscale": [
             [
              0,
              "#0d0887"
             ],
             [
              0.1111111111111111,
              "#46039f"
             ],
             [
              0.2222222222222222,
              "#7201a8"
             ],
             [
              0.3333333333333333,
              "#9c179e"
             ],
             [
              0.4444444444444444,
              "#bd3786"
             ],
             [
              0.5555555555555556,
              "#d8576b"
             ],
             [
              0.6666666666666666,
              "#ed7953"
             ],
             [
              0.7777777777777778,
              "#fb9f3a"
             ],
             [
              0.8888888888888888,
              "#fdca26"
             ],
             [
              1,
              "#f0f921"
             ]
            ],
            "type": "heatmapgl"
           }
          ],
          "histogram": [
           {
            "marker": {
             "pattern": {
              "fillmode": "overlay",
              "size": 10,
              "solidity": 0.2
             }
            },
            "type": "histogram"
           }
          ],
          "histogram2d": [
           {
            "colorbar": {
             "outlinewidth": 0,
             "ticks": ""
            },
            "colorscale": [
             [
              0,
              "#0d0887"
             ],
             [
              0.1111111111111111,
              "#46039f"
             ],
             [
              0.2222222222222222,
              "#7201a8"
             ],
             [
              0.3333333333333333,
              "#9c179e"
             ],
             [
              0.4444444444444444,
              "#bd3786"
             ],
             [
              0.5555555555555556,
              "#d8576b"
             ],
             [
              0.6666666666666666,
              "#ed7953"
             ],
             [
              0.7777777777777778,
              "#fb9f3a"
             ],
             [
              0.8888888888888888,
              "#fdca26"
             ],
             [
              1,
              "#f0f921"
             ]
            ],
            "type": "histogram2d"
           }
          ],
          "histogram2dcontour": [
           {
            "colorbar": {
             "outlinewidth": 0,
             "ticks": ""
            },
            "colorscale": [
             [
              0,
              "#0d0887"
             ],
             [
              0.1111111111111111,
              "#46039f"
             ],
             [
              0.2222222222222222,
              "#7201a8"
             ],
             [
              0.3333333333333333,
              "#9c179e"
             ],
             [
              0.4444444444444444,
              "#bd3786"
             ],
             [
              0.5555555555555556,
              "#d8576b"
             ],
             [
              0.6666666666666666,
              "#ed7953"
             ],
             [
              0.7777777777777778,
              "#fb9f3a"
             ],
             [
              0.8888888888888888,
              "#fdca26"
             ],
             [
              1,
              "#f0f921"
             ]
            ],
            "type": "histogram2dcontour"
           }
          ],
          "mesh3d": [
           {
            "colorbar": {
             "outlinewidth": 0,
             "ticks": ""
            },
            "type": "mesh3d"
           }
          ],
          "parcoords": [
           {
            "line": {
             "colorbar": {
              "outlinewidth": 0,
              "ticks": ""
             }
            },
            "type": "parcoords"
           }
          ],
          "pie": [
           {
            "automargin": true,
            "type": "pie"
           }
          ],
          "scatter": [
           {
            "fillpattern": {
             "fillmode": "overlay",
             "size": 10,
             "solidity": 0.2
            },
            "type": "scatter"
           }
          ],
          "scatter3d": [
           {
            "line": {
             "colorbar": {
              "outlinewidth": 0,
              "ticks": ""
             }
            },
            "marker": {
             "colorbar": {
              "outlinewidth": 0,
              "ticks": ""
             }
            },
            "type": "scatter3d"
           }
          ],
          "scattercarpet": [
           {
            "marker": {
             "colorbar": {
              "outlinewidth": 0,
              "ticks": ""
             }
            },
            "type": "scattercarpet"
           }
          ],
          "scattergeo": [
           {
            "marker": {
             "colorbar": {
              "outlinewidth": 0,
              "ticks": ""
             }
            },
            "type": "scattergeo"
           }
          ],
          "scattergl": [
           {
            "marker": {
             "colorbar": {
              "outlinewidth": 0,
              "ticks": ""
             }
            },
            "type": "scattergl"
           }
          ],
          "scattermapbox": [
           {
            "marker": {
             "colorbar": {
              "outlinewidth": 0,
              "ticks": ""
             }
            },
            "type": "scattermapbox"
           }
          ],
          "scatterpolar": [
           {
            "marker": {
             "colorbar": {
              "outlinewidth": 0,
              "ticks": ""
             }
            },
            "type": "scatterpolar"
           }
          ],
          "scatterpolargl": [
           {
            "marker": {
             "colorbar": {
              "outlinewidth": 0,
              "ticks": ""
             }
            },
            "type": "scatterpolargl"
           }
          ],
          "scatterternary": [
           {
            "marker": {
             "colorbar": {
              "outlinewidth": 0,
              "ticks": ""
             }
            },
            "type": "scatterternary"
           }
          ],
          "surface": [
           {
            "colorbar": {
             "outlinewidth": 0,
             "ticks": ""
            },
            "colorscale": [
             [
              0,
              "#0d0887"
             ],
             [
              0.1111111111111111,
              "#46039f"
             ],
             [
              0.2222222222222222,
              "#7201a8"
             ],
             [
              0.3333333333333333,
              "#9c179e"
             ],
             [
              0.4444444444444444,
              "#bd3786"
             ],
             [
              0.5555555555555556,
              "#d8576b"
             ],
             [
              0.6666666666666666,
              "#ed7953"
             ],
             [
              0.7777777777777778,
              "#fb9f3a"
             ],
             [
              0.8888888888888888,
              "#fdca26"
             ],
             [
              1,
              "#f0f921"
             ]
            ],
            "type": "surface"
           }
          ],
          "table": [
           {
            "cells": {
             "fill": {
              "color": "#EBF0F8"
             },
             "line": {
              "color": "white"
             }
            },
            "header": {
             "fill": {
              "color": "#C8D4E3"
             },
             "line": {
              "color": "white"
             }
            },
            "type": "table"
           }
          ]
         },
         "layout": {
          "annotationdefaults": {
           "arrowcolor": "#2a3f5f",
           "arrowhead": 0,
           "arrowwidth": 1
          },
          "autotypenumbers": "strict",
          "coloraxis": {
           "colorbar": {
            "outlinewidth": 0,
            "ticks": ""
           }
          },
          "colorscale": {
           "diverging": [
            [
             0,
             "#8e0152"
            ],
            [
             0.1,
             "#c51b7d"
            ],
            [
             0.2,
             "#de77ae"
            ],
            [
             0.3,
             "#f1b6da"
            ],
            [
             0.4,
             "#fde0ef"
            ],
            [
             0.5,
             "#f7f7f7"
            ],
            [
             0.6,
             "#e6f5d0"
            ],
            [
             0.7,
             "#b8e186"
            ],
            [
             0.8,
             "#7fbc41"
            ],
            [
             0.9,
             "#4d9221"
            ],
            [
             1,
             "#276419"
            ]
           ],
           "sequential": [
            [
             0,
             "#0d0887"
            ],
            [
             0.1111111111111111,
             "#46039f"
            ],
            [
             0.2222222222222222,
             "#7201a8"
            ],
            [
             0.3333333333333333,
             "#9c179e"
            ],
            [
             0.4444444444444444,
             "#bd3786"
            ],
            [
             0.5555555555555556,
             "#d8576b"
            ],
            [
             0.6666666666666666,
             "#ed7953"
            ],
            [
             0.7777777777777778,
             "#fb9f3a"
            ],
            [
             0.8888888888888888,
             "#fdca26"
            ],
            [
             1,
             "#f0f921"
            ]
           ],
           "sequentialminus": [
            [
             0,
             "#0d0887"
            ],
            [
             0.1111111111111111,
             "#46039f"
            ],
            [
             0.2222222222222222,
             "#7201a8"
            ],
            [
             0.3333333333333333,
             "#9c179e"
            ],
            [
             0.4444444444444444,
             "#bd3786"
            ],
            [
             0.5555555555555556,
             "#d8576b"
            ],
            [
             0.6666666666666666,
             "#ed7953"
            ],
            [
             0.7777777777777778,
             "#fb9f3a"
            ],
            [
             0.8888888888888888,
             "#fdca26"
            ],
            [
             1,
             "#f0f921"
            ]
           ]
          },
          "colorway": [
           "#636efa",
           "#EF553B",
           "#00cc96",
           "#ab63fa",
           "#FFA15A",
           "#19d3f3",
           "#FF6692",
           "#B6E880",
           "#FF97FF",
           "#FECB52"
          ],
          "font": {
           "color": "#2a3f5f"
          },
          "geo": {
           "bgcolor": "white",
           "lakecolor": "white",
           "landcolor": "white",
           "showlakes": true,
           "showland": true,
           "subunitcolor": "#C8D4E3"
          },
          "hoverlabel": {
           "align": "left"
          },
          "hovermode": "closest",
          "mapbox": {
           "style": "light"
          },
          "paper_bgcolor": "white",
          "plot_bgcolor": "white",
          "polar": {
           "angularaxis": {
            "gridcolor": "#EBF0F8",
            "linecolor": "#EBF0F8",
            "ticks": ""
           },
           "bgcolor": "white",
           "radialaxis": {
            "gridcolor": "#EBF0F8",
            "linecolor": "#EBF0F8",
            "ticks": ""
           }
          },
          "scene": {
           "xaxis": {
            "backgroundcolor": "white",
            "gridcolor": "#DFE8F3",
            "gridwidth": 2,
            "linecolor": "#EBF0F8",
            "showbackground": true,
            "ticks": "",
            "zerolinecolor": "#EBF0F8"
           },
           "yaxis": {
            "backgroundcolor": "white",
            "gridcolor": "#DFE8F3",
            "gridwidth": 2,
            "linecolor": "#EBF0F8",
            "showbackground": true,
            "ticks": "",
            "zerolinecolor": "#EBF0F8"
           },
           "zaxis": {
            "backgroundcolor": "white",
            "gridcolor": "#DFE8F3",
            "gridwidth": 2,
            "linecolor": "#EBF0F8",
            "showbackground": true,
            "ticks": "",
            "zerolinecolor": "#EBF0F8"
           }
          },
          "shapedefaults": {
           "line": {
            "color": "#2a3f5f"
           }
          },
          "ternary": {
           "aaxis": {
            "gridcolor": "#DFE8F3",
            "linecolor": "#A2B1C6",
            "ticks": ""
           },
           "baxis": {
            "gridcolor": "#DFE8F3",
            "linecolor": "#A2B1C6",
            "ticks": ""
           },
           "bgcolor": "white",
           "caxis": {
            "gridcolor": "#DFE8F3",
            "linecolor": "#A2B1C6",
            "ticks": ""
           }
          },
          "title": {
           "x": 0.05
          },
          "xaxis": {
           "automargin": true,
           "gridcolor": "#EBF0F8",
           "linecolor": "#EBF0F8",
           "ticks": "",
           "title": {
            "standoff": 15
           },
           "zerolinecolor": "#EBF0F8",
           "zerolinewidth": 2
          },
          "yaxis": {
           "automargin": true,
           "gridcolor": "#EBF0F8",
           "linecolor": "#EBF0F8",
           "ticks": "",
           "title": {
            "standoff": 15
           },
           "zerolinecolor": "#EBF0F8",
           "zerolinewidth": 2
          }
         }
        },
        "width": 600,
        "xaxis": {
         "anchor": "y",
         "domain": [
          0,
          1
         ],
         "dtick": 1,
         "linecolor": "black",
         "linewidth": 1,
         "showgrid": true,
         "showline": true,
         "ticklen": 6,
         "ticks": "inside",
         "tickwidth": 1,
         "title": {
          "text": "(درجه سانتیگراد) دمای متوسط"
         },
         "zeroline": true
        },
        "yaxis": {
         "anchor": "x",
         "domain": [
          0,
          1
         ],
         "dtick": 150,
         "linecolor": "black",
         "linewidth": 1,
         "showgrid": true,
         "showline": true,
         "ticklen": 6,
         "ticks": "inside",
         "tickwidth": 1,
         "title": {
          "text": "بارش (میلیمتر)"
         },
         "zeroline": true
        }
       }
      },
      "text/html": [
       "<div>                            <div id=\"b88f84e5-f829-427c-8192-43bbe95bbfe9\" class=\"plotly-graph-div\" style=\"height:600px; width:600px;\"></div>            <script type=\"text/javascript\">                require([\"plotly\"], function(Plotly) {                    window.PLOTLYENV=window.PLOTLYENV || {};                                    if (document.getElementById(\"b88f84e5-f829-427c-8192-43bbe95bbfe9\")) {                    Plotly.newPlot(                        \"b88f84e5-f829-427c-8192-43bbe95bbfe9\",                        [{\"hovertemplate\":\"\\u003cb\\u003e%{hovertext}\\u003c\\u002fb\\u003e\\u003cbr\\u003e\\u003cbr\\u003eCluster=3\\u003cbr\\u003eTemperature=%{x}\\u003cbr\\u003ePrecipitation=%{y}\\u003cextra\\u003e\\u003c\\u002fextra\\u003e\",\"hovertext\":[\"Ramsar\",\"Nowshahr\"],\"legendgroup\":\"3\",\"marker\":{\"color\":\"#636efa\",\"symbol\":\"circle\",\"size\":8},\"mode\":\"markers\",\"name\":\"3\",\"orientation\":\"v\",\"showlegend\":true,\"x\":[17.272807017543858,17.106140350877194],\"xaxis\":\"x\",\"y\":[1222.457894736842,1263.9073684210525],\"yaxis\":\"y\",\"type\":\"scatter\"},{\"hovertemplate\":\"\\u003cb\\u003e%{hovertext}\\u003c\\u002fb\\u003e\\u003cbr\\u003e\\u003cbr\\u003eCluster=2\\u003cbr\\u003eTemperature=%{x}\\u003cbr\\u003ePrecipitation=%{y}\\u003cextra\\u003e\\u003c\\u002fextra\\u003e\",\"hovertext\":[\"Siahbisheh\",\"Kiyasar\",\"Kojur\",\"Baladeh\",\"Alasht\"],\"legendgroup\":\"2\",\"marker\":{\"color\":\"#EF553B\",\"symbol\":\"circle\",\"size\":8},\"mode\":\"markers\",\"name\":\"2\",\"orientation\":\"v\",\"showlegend\":true,\"x\":[11.159210526315789,13.489473684210527,11.779824561403508,9.441666666666666,11.30438596491228],\"xaxis\":\"x\",\"y\":[500.2315789473684,501.89578947368426,305.86315789473684,292.49894736842106,500.9452631578947],\"yaxis\":\"y\",\"type\":\"scatter\"},{\"hovertemplate\":\"\\u003cb\\u003e%{hovertext}\\u003c\\u002fb\\u003e\\u003cbr\\u003e\\u003cbr\\u003eCluster=1\\u003cbr\\u003eTemperature=%{x}\\u003cbr\\u003ePrecipitation=%{y}\\u003cextra\\u003e\\u003c\\u002fextra\\u003e\",\"hovertext\":[\"Babolsar\",\"Gharakhil\",\"Sari\",\"Sari (dasht-e-naz airport)\",\"Galugah\",\"Bandar-e-amirabad\",\"Amol\",\"Polsefid\"],\"legendgroup\":\"1\",\"marker\":{\"color\":\"#00cc96\",\"symbol\":\"circle\",\"size\":8},\"mode\":\"markers\",\"name\":\"1\",\"orientation\":\"v\",\"showlegend\":true,\"x\":[18.22280701754386,17.604824561403507,18.41622807017544,17.798684210526318,17.671491228070174,17.824122807017545,17.75438596491228,15.498324561403509],\"xaxis\":\"x\",\"y\":[824.8273684210526,654.97,705.6752631578947,602.5726315789474,536.9226315789474,588.8989473684211,643.8142105263157,537.6452631578948],\"yaxis\":\"y\",\"type\":\"scatter\"}],                        {\"template\":{\"data\":{\"barpolar\":[{\"marker\":{\"line\":{\"color\":\"white\",\"width\":0.5},\"pattern\":{\"fillmode\":\"overlay\",\"size\":10,\"solidity\":0.2}},\"type\":\"barpolar\"}],\"bar\":[{\"error_x\":{\"color\":\"#2a3f5f\"},\"error_y\":{\"color\":\"#2a3f5f\"},\"marker\":{\"line\":{\"color\":\"white\",\"width\":0.5},\"pattern\":{\"fillmode\":\"overlay\",\"size\":10,\"solidity\":0.2}},\"type\":\"bar\"}],\"carpet\":[{\"aaxis\":{\"endlinecolor\":\"#2a3f5f\",\"gridcolor\":\"#C8D4E3\",\"linecolor\":\"#C8D4E3\",\"minorgridcolor\":\"#C8D4E3\",\"startlinecolor\":\"#2a3f5f\"},\"baxis\":{\"endlinecolor\":\"#2a3f5f\",\"gridcolor\":\"#C8D4E3\",\"linecolor\":\"#C8D4E3\",\"minorgridcolor\":\"#C8D4E3\",\"startlinecolor\":\"#2a3f5f\"},\"type\":\"carpet\"}],\"choropleth\":[{\"colorbar\":{\"outlinewidth\":0,\"ticks\":\"\"},\"type\":\"choropleth\"}],\"contourcarpet\":[{\"colorbar\":{\"outlinewidth\":0,\"ticks\":\"\"},\"type\":\"contourcarpet\"}],\"contour\":[{\"colorbar\":{\"outlinewidth\":0,\"ticks\":\"\"},\"colorscale\":[[0.0,\"#0d0887\"],[0.1111111111111111,\"#46039f\"],[0.2222222222222222,\"#7201a8\"],[0.3333333333333333,\"#9c179e\"],[0.4444444444444444,\"#bd3786\"],[0.5555555555555556,\"#d8576b\"],[0.6666666666666666,\"#ed7953\"],[0.7777777777777778,\"#fb9f3a\"],[0.8888888888888888,\"#fdca26\"],[1.0,\"#f0f921\"]],\"type\":\"contour\"}],\"heatmapgl\":[{\"colorbar\":{\"outlinewidth\":0,\"ticks\":\"\"},\"colorscale\":[[0.0,\"#0d0887\"],[0.1111111111111111,\"#46039f\"],[0.2222222222222222,\"#7201a8\"],[0.3333333333333333,\"#9c179e\"],[0.4444444444444444,\"#bd3786\"],[0.5555555555555556,\"#d8576b\"],[0.6666666666666666,\"#ed7953\"],[0.7777777777777778,\"#fb9f3a\"],[0.8888888888888888,\"#fdca26\"],[1.0,\"#f0f921\"]],\"type\":\"heatmapgl\"}],\"heatmap\":[{\"colorbar\":{\"outlinewidth\":0,\"ticks\":\"\"},\"colorscale\":[[0.0,\"#0d0887\"],[0.1111111111111111,\"#46039f\"],[0.2222222222222222,\"#7201a8\"],[0.3333333333333333,\"#9c179e\"],[0.4444444444444444,\"#bd3786\"],[0.5555555555555556,\"#d8576b\"],[0.6666666666666666,\"#ed7953\"],[0.7777777777777778,\"#fb9f3a\"],[0.8888888888888888,\"#fdca26\"],[1.0,\"#f0f921\"]],\"type\":\"heatmap\"}],\"histogram2dcontour\":[{\"colorbar\":{\"outlinewidth\":0,\"ticks\":\"\"},\"colorscale\":[[0.0,\"#0d0887\"],[0.1111111111111111,\"#46039f\"],[0.2222222222222222,\"#7201a8\"],[0.3333333333333333,\"#9c179e\"],[0.4444444444444444,\"#bd3786\"],[0.5555555555555556,\"#d8576b\"],[0.6666666666666666,\"#ed7953\"],[0.7777777777777778,\"#fb9f3a\"],[0.8888888888888888,\"#fdca26\"],[1.0,\"#f0f921\"]],\"type\":\"histogram2dcontour\"}],\"histogram2d\":[{\"colorbar\":{\"outlinewidth\":0,\"ticks\":\"\"},\"colorscale\":[[0.0,\"#0d0887\"],[0.1111111111111111,\"#46039f\"],[0.2222222222222222,\"#7201a8\"],[0.3333333333333333,\"#9c179e\"],[0.4444444444444444,\"#bd3786\"],[0.5555555555555556,\"#d8576b\"],[0.6666666666666666,\"#ed7953\"],[0.7777777777777778,\"#fb9f3a\"],[0.8888888888888888,\"#fdca26\"],[1.0,\"#f0f921\"]],\"type\":\"histogram2d\"}],\"histogram\":[{\"marker\":{\"pattern\":{\"fillmode\":\"overlay\",\"size\":10,\"solidity\":0.2}},\"type\":\"histogram\"}],\"mesh3d\":[{\"colorbar\":{\"outlinewidth\":0,\"ticks\":\"\"},\"type\":\"mesh3d\"}],\"parcoords\":[{\"line\":{\"colorbar\":{\"outlinewidth\":0,\"ticks\":\"\"}},\"type\":\"parcoords\"}],\"pie\":[{\"automargin\":true,\"type\":\"pie\"}],\"scatter3d\":[{\"line\":{\"colorbar\":{\"outlinewidth\":0,\"ticks\":\"\"}},\"marker\":{\"colorbar\":{\"outlinewidth\":0,\"ticks\":\"\"}},\"type\":\"scatter3d\"}],\"scattercarpet\":[{\"marker\":{\"colorbar\":{\"outlinewidth\":0,\"ticks\":\"\"}},\"type\":\"scattercarpet\"}],\"scattergeo\":[{\"marker\":{\"colorbar\":{\"outlinewidth\":0,\"ticks\":\"\"}},\"type\":\"scattergeo\"}],\"scattergl\":[{\"marker\":{\"colorbar\":{\"outlinewidth\":0,\"ticks\":\"\"}},\"type\":\"scattergl\"}],\"scattermapbox\":[{\"marker\":{\"colorbar\":{\"outlinewidth\":0,\"ticks\":\"\"}},\"type\":\"scattermapbox\"}],\"scatterpolargl\":[{\"marker\":{\"colorbar\":{\"outlinewidth\":0,\"ticks\":\"\"}},\"type\":\"scatterpolargl\"}],\"scatterpolar\":[{\"marker\":{\"colorbar\":{\"outlinewidth\":0,\"ticks\":\"\"}},\"type\":\"scatterpolar\"}],\"scatter\":[{\"fillpattern\":{\"fillmode\":\"overlay\",\"size\":10,\"solidity\":0.2},\"type\":\"scatter\"}],\"scatterternary\":[{\"marker\":{\"colorbar\":{\"outlinewidth\":0,\"ticks\":\"\"}},\"type\":\"scatterternary\"}],\"surface\":[{\"colorbar\":{\"outlinewidth\":0,\"ticks\":\"\"},\"colorscale\":[[0.0,\"#0d0887\"],[0.1111111111111111,\"#46039f\"],[0.2222222222222222,\"#7201a8\"],[0.3333333333333333,\"#9c179e\"],[0.4444444444444444,\"#bd3786\"],[0.5555555555555556,\"#d8576b\"],[0.6666666666666666,\"#ed7953\"],[0.7777777777777778,\"#fb9f3a\"],[0.8888888888888888,\"#fdca26\"],[1.0,\"#f0f921\"]],\"type\":\"surface\"}],\"table\":[{\"cells\":{\"fill\":{\"color\":\"#EBF0F8\"},\"line\":{\"color\":\"white\"}},\"header\":{\"fill\":{\"color\":\"#C8D4E3\"},\"line\":{\"color\":\"white\"}},\"type\":\"table\"}]},\"layout\":{\"annotationdefaults\":{\"arrowcolor\":\"#2a3f5f\",\"arrowhead\":0,\"arrowwidth\":1},\"autotypenumbers\":\"strict\",\"coloraxis\":{\"colorbar\":{\"outlinewidth\":0,\"ticks\":\"\"}},\"colorscale\":{\"diverging\":[[0,\"#8e0152\"],[0.1,\"#c51b7d\"],[0.2,\"#de77ae\"],[0.3,\"#f1b6da\"],[0.4,\"#fde0ef\"],[0.5,\"#f7f7f7\"],[0.6,\"#e6f5d0\"],[0.7,\"#b8e186\"],[0.8,\"#7fbc41\"],[0.9,\"#4d9221\"],[1,\"#276419\"]],\"sequential\":[[0.0,\"#0d0887\"],[0.1111111111111111,\"#46039f\"],[0.2222222222222222,\"#7201a8\"],[0.3333333333333333,\"#9c179e\"],[0.4444444444444444,\"#bd3786\"],[0.5555555555555556,\"#d8576b\"],[0.6666666666666666,\"#ed7953\"],[0.7777777777777778,\"#fb9f3a\"],[0.8888888888888888,\"#fdca26\"],[1.0,\"#f0f921\"]],\"sequentialminus\":[[0.0,\"#0d0887\"],[0.1111111111111111,\"#46039f\"],[0.2222222222222222,\"#7201a8\"],[0.3333333333333333,\"#9c179e\"],[0.4444444444444444,\"#bd3786\"],[0.5555555555555556,\"#d8576b\"],[0.6666666666666666,\"#ed7953\"],[0.7777777777777778,\"#fb9f3a\"],[0.8888888888888888,\"#fdca26\"],[1.0,\"#f0f921\"]]},\"colorway\":[\"#636efa\",\"#EF553B\",\"#00cc96\",\"#ab63fa\",\"#FFA15A\",\"#19d3f3\",\"#FF6692\",\"#B6E880\",\"#FF97FF\",\"#FECB52\"],\"font\":{\"color\":\"#2a3f5f\"},\"geo\":{\"bgcolor\":\"white\",\"lakecolor\":\"white\",\"landcolor\":\"white\",\"showlakes\":true,\"showland\":true,\"subunitcolor\":\"#C8D4E3\"},\"hoverlabel\":{\"align\":\"left\"},\"hovermode\":\"closest\",\"mapbox\":{\"style\":\"light\"},\"paper_bgcolor\":\"white\",\"plot_bgcolor\":\"white\",\"polar\":{\"angularaxis\":{\"gridcolor\":\"#EBF0F8\",\"linecolor\":\"#EBF0F8\",\"ticks\":\"\"},\"bgcolor\":\"white\",\"radialaxis\":{\"gridcolor\":\"#EBF0F8\",\"linecolor\":\"#EBF0F8\",\"ticks\":\"\"}},\"scene\":{\"xaxis\":{\"backgroundcolor\":\"white\",\"gridcolor\":\"#DFE8F3\",\"gridwidth\":2,\"linecolor\":\"#EBF0F8\",\"showbackground\":true,\"ticks\":\"\",\"zerolinecolor\":\"#EBF0F8\"},\"yaxis\":{\"backgroundcolor\":\"white\",\"gridcolor\":\"#DFE8F3\",\"gridwidth\":2,\"linecolor\":\"#EBF0F8\",\"showbackground\":true,\"ticks\":\"\",\"zerolinecolor\":\"#EBF0F8\"},\"zaxis\":{\"backgroundcolor\":\"white\",\"gridcolor\":\"#DFE8F3\",\"gridwidth\":2,\"linecolor\":\"#EBF0F8\",\"showbackground\":true,\"ticks\":\"\",\"zerolinecolor\":\"#EBF0F8\"}},\"shapedefaults\":{\"line\":{\"color\":\"#2a3f5f\"}},\"ternary\":{\"aaxis\":{\"gridcolor\":\"#DFE8F3\",\"linecolor\":\"#A2B1C6\",\"ticks\":\"\"},\"baxis\":{\"gridcolor\":\"#DFE8F3\",\"linecolor\":\"#A2B1C6\",\"ticks\":\"\"},\"bgcolor\":\"white\",\"caxis\":{\"gridcolor\":\"#DFE8F3\",\"linecolor\":\"#A2B1C6\",\"ticks\":\"\"}},\"title\":{\"x\":0.05},\"xaxis\":{\"automargin\":true,\"gridcolor\":\"#EBF0F8\",\"linecolor\":\"#EBF0F8\",\"ticks\":\"\",\"title\":{\"standoff\":15},\"zerolinecolor\":\"#EBF0F8\",\"zerolinewidth\":2},\"yaxis\":{\"automargin\":true,\"gridcolor\":\"#EBF0F8\",\"linecolor\":\"#EBF0F8\",\"ticks\":\"\",\"title\":{\"standoff\":15},\"zerolinecolor\":\"#EBF0F8\",\"zerolinewidth\":2}}},\"xaxis\":{\"anchor\":\"y\",\"domain\":[0.0,1.0],\"title\":{\"text\":\"(\\u062f\\u0631\\u062c\\u0647 \\u0633\\u0627\\u0646\\u062a\\u06cc\\u06af\\u0631\\u0627\\u062f) \\u062f\\u0645\\u0627\\u06cc \\u0645\\u062a\\u0648\\u0633\\u0637\"},\"showgrid\":true,\"zeroline\":true,\"showline\":true,\"linecolor\":\"black\",\"linewidth\":1,\"ticks\":\"inside\",\"ticklen\":6,\"tickwidth\":1,\"dtick\":1},\"yaxis\":{\"anchor\":\"x\",\"domain\":[0.0,1.0],\"title\":{\"text\":\"\\u0628\\u0627\\u0631\\u0634 (\\u0645\\u06cc\\u0644\\u06cc\\u0645\\u062a\\u0631)\"},\"showgrid\":true,\"zeroline\":true,\"showline\":true,\"linecolor\":\"black\",\"linewidth\":1,\"ticks\":\"inside\",\"ticklen\":6,\"tickwidth\":1,\"dtick\":150},\"legend\":{\"title\":{\"text\":\"\\u062e\\u0648\\u0634\\u0647\\u200c\\u0647\\u0627\"},\"tracegroupgap\":0,\"font\":{\"size\":18}},\"margin\":{\"t\":50,\"l\":50,\"r\":50,\"b\":50},\"height\":600,\"width\":600,\"font\":{\"family\":\"B Zar\",\"size\":24},\"plot_bgcolor\":\"white\",\"paper_bgcolor\":\"white\",\"shapes\":[{\"line\":{\"color\":\"black\",\"width\":2},\"type\":\"rect\",\"x0\":0,\"x1\":1,\"xref\":\"paper\",\"y0\":0,\"y1\":1,\"yref\":\"paper\"}]},                        {\"responsive\": true}                    ).then(function(){\n",
       "                            \n",
       "var gd = document.getElementById('b88f84e5-f829-427c-8192-43bbe95bbfe9');\n",
       "var x = new MutationObserver(function (mutations, observer) {{\n",
       "        var display = window.getComputedStyle(gd).display;\n",
       "        if (!display || display === 'none') {{\n",
       "            console.log([gd, 'removed!']);\n",
       "            Plotly.purge(gd);\n",
       "            observer.disconnect();\n",
       "        }}\n",
       "}});\n",
       "\n",
       "// Listen for the removal of the full notebook cells\n",
       "var notebookContainer = gd.closest('#notebook-container');\n",
       "if (notebookContainer) {{\n",
       "    x.observe(notebookContainer, {childList: true});\n",
       "}}\n",
       "\n",
       "// Listen for the clearing of the current output cell\n",
       "var outputEl = gd.closest('.output');\n",
       "if (outputEl) {{\n",
       "    x.observe(outputEl, {childList: true});\n",
       "}}\n",
       "\n",
       "                        })                };                });            </script>        </div>"
      ]
     },
     "metadata": {},
     "output_type": "display_data"
    }
   ],
   "source": [
    "station_data['Cluster'] = station_data['Cluster'].astype(str)\n",
    "fig = px.scatter(\n",
    "    station_data,\n",
    "    x=\"Temperature\",\n",
    "    y=\"Precipitation\",\n",
    "    color=\"Cluster\",  # This is equivalent to `hue=\"Cluster\"` in seaborn\n",
    "    color_continuous_scale=\"Viridis\",  # Set the color palette to 'Viridis'\n",
    "    hover_name=station_data['Station_Name'],\n",
    "    height=600,\n",
    "    width=600\n",
    ")\n",
    "\n",
    "fig.update_traces(\n",
    "    marker=dict(size=8)\n",
    ")\n",
    "\n",
    "fig.update_layout(\n",
    "    template=\"plotly_white\",\n",
    "    # bordercolor='black',\n",
    "    # title={\n",
    "    #     'text': \"دمای متوسط در مقابل مجموع بارش بر اساس خوشه‌ها\",\n",
    "    #     'x': 0.5,  # Center the title\n",
    "    #     'xanchor': 'center',\n",
    "    #     'yanchor': 'top',\n",
    "    #     'font': {'size': 24, 'family': 'B Zar'}  # Change title font and size\n",
    "    # },\n",
    "    xaxis_title=\"(درجه سانتیگراد) دمای متوسط\",\n",
    "    yaxis_title=\"بارش (میلیمتر)\",\n",
    "    font={\n",
    "        'family': 'B Zar',\n",
    "        'size': 24\n",
    "    },\n",
    "    legend_title=\"خوشه‌ها\",\n",
    "    legend=dict(\n",
    "        font=dict(\n",
    "            size=18\n",
    "        )\n",
    "    ),\n",
    "    # xaxis=dict(showgrid=True, gridwidth=1, gridcolor='LightGray'),\n",
    "    # yaxis=dict(showgrid=True, gridwidth=1, gridcolor='LightGray'),\n",
    "    margin=dict(l=50, r=50, t=50, b=50)\n",
    ")\n",
    "\n",
    "fig.update_layout(\n",
    "    xaxis=dict(\n",
    "        showgrid=True,\n",
    "        zeroline=True,\n",
    "        showline=True,\n",
    "        linecolor='black',\n",
    "        linewidth=1,\n",
    "        ticks='inside',\n",
    "        ticklen=6,\n",
    "        tickwidth=1, \n",
    "        dtick=1\n",
    "    ),\n",
    "    yaxis=dict(\n",
    "        showgrid=True,\n",
    "        zeroline=True,\n",
    "        showline=True,\n",
    "        linecolor='black',\n",
    "        linewidth=1,\n",
    "        ticks='inside',\n",
    "        ticklen=6,\n",
    "        tickwidth=1,\n",
    "        dtick=150\n",
    "    ),\n",
    "    plot_bgcolor='white',\n",
    "    paper_bgcolor='white',\n",
    "    shapes=[\n",
    "        dict(\n",
    "            type=\"rect\",\n",
    "            x0=0,\n",
    "            x1=1,\n",
    "            y0=0,\n",
    "            y1=1,\n",
    "            xref=\"paper\",\n",
    "            yref=\"paper\",\n",
    "            line=dict(\n",
    "                color=\"black\",\n",
    "                width=2\n",
    "            )\n",
    "        )\n",
    "    ]\n",
    ")\n",
    "\n",
    "fig.show()"
   ]
  },
  {
   "cell_type": "code",
   "execution_count": 74,
   "metadata": {},
   "outputs": [
    {
     "data": {
      "application/vnd.plotly.v1+json": {
       "config": {
        "plotlyServerURL": "https://plot.ly"
       },
       "data": [
        {
         "hovertemplate": "Station: %{text}<br>Temperature: %{x}<br>Precipitation: %{y}<br>Elevation: %{z}<br><extra></extra>",
         "marker": {
          "color": [
           "blue",
           "blue",
           "green",
           "red",
           "red",
           "red",
           "green",
           "red",
           "red",
           "red",
           "red",
           "green",
           "green",
           "red",
           "green"
          ],
          "opacity": 0.8,
          "size": 8,
          "symbol": [
           "cross",
           "cross",
           "circle",
           "square",
           "square",
           "square",
           "circle",
           "square",
           "square",
           "square",
           "square",
           "circle",
           "circle",
           "square",
           "circle"
          ]
         },
         "mode": "markers",
         "text": [
          "Ramsar",
          "Nowshahr",
          "Siahbisheh",
          "Babolsar",
          "Gharakhil",
          "Sari",
          "Kiyasar",
          "Sari (dasht-e-naz airport)",
          "Galugah",
          "Bandar-e-amirabad",
          "Amol",
          "Kojur",
          "Baladeh",
          "Polsefid",
          "Alasht"
         ],
         "type": "scatter3d",
         "x": [
          17.3,
          17.1,
          11.2,
          18.2,
          17.6,
          18.4,
          13.5,
          17.8,
          17.7,
          17.8,
          17.8,
          11.8,
          9.4,
          15.5,
          11.3
         ],
         "y": [
          1222.5,
          1263.9,
          500.2,
          824.8,
          655,
          705.7,
          501.9,
          602.6,
          536.9,
          588.9,
          643.8,
          305.9,
          292.5,
          537.6,
          500.9
         ],
         "z": [
          -20,
          -20.9,
          1855.4,
          -21,
          14.7,
          23,
          1294.3,
          16.7,
          -10,
          -20,
          23.7,
          1550,
          2120,
          610,
          1805
         ]
        }
       ],
       "layout": {
        "font": {
         "family": "B Zar",
         "size": 18
        },
        "height": 800,
        "margin": {
         "b": 0,
         "l": 0,
         "r": 0,
         "t": 0
        },
        "scene": {
         "xaxis": {
          "title": {
           "text": "دمای متوسط (درجه سانتیگراد)"
          }
         },
         "yaxis": {
          "title": {
           "text": "بارندگی (میلیمتر)"
          }
         },
         "zaxis": {
          "title": {
           "text": "ارتفاع ایستگاه (متر)"
          }
         }
        },
        "template": {
         "data": {
          "bar": [
           {
            "error_x": {
             "color": "#2a3f5f"
            },
            "error_y": {
             "color": "#2a3f5f"
            },
            "marker": {
             "line": {
              "color": "#E5ECF6",
              "width": 0.5
             },
             "pattern": {
              "fillmode": "overlay",
              "size": 10,
              "solidity": 0.2
             }
            },
            "type": "bar"
           }
          ],
          "barpolar": [
           {
            "marker": {
             "line": {
              "color": "#E5ECF6",
              "width": 0.5
             },
             "pattern": {
              "fillmode": "overlay",
              "size": 10,
              "solidity": 0.2
             }
            },
            "type": "barpolar"
           }
          ],
          "carpet": [
           {
            "aaxis": {
             "endlinecolor": "#2a3f5f",
             "gridcolor": "white",
             "linecolor": "white",
             "minorgridcolor": "white",
             "startlinecolor": "#2a3f5f"
            },
            "baxis": {
             "endlinecolor": "#2a3f5f",
             "gridcolor": "white",
             "linecolor": "white",
             "minorgridcolor": "white",
             "startlinecolor": "#2a3f5f"
            },
            "type": "carpet"
           }
          ],
          "choropleth": [
           {
            "colorbar": {
             "outlinewidth": 0,
             "ticks": ""
            },
            "type": "choropleth"
           }
          ],
          "contour": [
           {
            "colorbar": {
             "outlinewidth": 0,
             "ticks": ""
            },
            "colorscale": [
             [
              0,
              "#0d0887"
             ],
             [
              0.1111111111111111,
              "#46039f"
             ],
             [
              0.2222222222222222,
              "#7201a8"
             ],
             [
              0.3333333333333333,
              "#9c179e"
             ],
             [
              0.4444444444444444,
              "#bd3786"
             ],
             [
              0.5555555555555556,
              "#d8576b"
             ],
             [
              0.6666666666666666,
              "#ed7953"
             ],
             [
              0.7777777777777778,
              "#fb9f3a"
             ],
             [
              0.8888888888888888,
              "#fdca26"
             ],
             [
              1,
              "#f0f921"
             ]
            ],
            "type": "contour"
           }
          ],
          "contourcarpet": [
           {
            "colorbar": {
             "outlinewidth": 0,
             "ticks": ""
            },
            "type": "contourcarpet"
           }
          ],
          "heatmap": [
           {
            "colorbar": {
             "outlinewidth": 0,
             "ticks": ""
            },
            "colorscale": [
             [
              0,
              "#0d0887"
             ],
             [
              0.1111111111111111,
              "#46039f"
             ],
             [
              0.2222222222222222,
              "#7201a8"
             ],
             [
              0.3333333333333333,
              "#9c179e"
             ],
             [
              0.4444444444444444,
              "#bd3786"
             ],
             [
              0.5555555555555556,
              "#d8576b"
             ],
             [
              0.6666666666666666,
              "#ed7953"
             ],
             [
              0.7777777777777778,
              "#fb9f3a"
             ],
             [
              0.8888888888888888,
              "#fdca26"
             ],
             [
              1,
              "#f0f921"
             ]
            ],
            "type": "heatmap"
           }
          ],
          "heatmapgl": [
           {
            "colorbar": {
             "outlinewidth": 0,
             "ticks": ""
            },
            "colorscale": [
             [
              0,
              "#0d0887"
             ],
             [
              0.1111111111111111,
              "#46039f"
             ],
             [
              0.2222222222222222,
              "#7201a8"
             ],
             [
              0.3333333333333333,
              "#9c179e"
             ],
             [
              0.4444444444444444,
              "#bd3786"
             ],
             [
              0.5555555555555556,
              "#d8576b"
             ],
             [
              0.6666666666666666,
              "#ed7953"
             ],
             [
              0.7777777777777778,
              "#fb9f3a"
             ],
             [
              0.8888888888888888,
              "#fdca26"
             ],
             [
              1,
              "#f0f921"
             ]
            ],
            "type": "heatmapgl"
           }
          ],
          "histogram": [
           {
            "marker": {
             "pattern": {
              "fillmode": "overlay",
              "size": 10,
              "solidity": 0.2
             }
            },
            "type": "histogram"
           }
          ],
          "histogram2d": [
           {
            "colorbar": {
             "outlinewidth": 0,
             "ticks": ""
            },
            "colorscale": [
             [
              0,
              "#0d0887"
             ],
             [
              0.1111111111111111,
              "#46039f"
             ],
             [
              0.2222222222222222,
              "#7201a8"
             ],
             [
              0.3333333333333333,
              "#9c179e"
             ],
             [
              0.4444444444444444,
              "#bd3786"
             ],
             [
              0.5555555555555556,
              "#d8576b"
             ],
             [
              0.6666666666666666,
              "#ed7953"
             ],
             [
              0.7777777777777778,
              "#fb9f3a"
             ],
             [
              0.8888888888888888,
              "#fdca26"
             ],
             [
              1,
              "#f0f921"
             ]
            ],
            "type": "histogram2d"
           }
          ],
          "histogram2dcontour": [
           {
            "colorbar": {
             "outlinewidth": 0,
             "ticks": ""
            },
            "colorscale": [
             [
              0,
              "#0d0887"
             ],
             [
              0.1111111111111111,
              "#46039f"
             ],
             [
              0.2222222222222222,
              "#7201a8"
             ],
             [
              0.3333333333333333,
              "#9c179e"
             ],
             [
              0.4444444444444444,
              "#bd3786"
             ],
             [
              0.5555555555555556,
              "#d8576b"
             ],
             [
              0.6666666666666666,
              "#ed7953"
             ],
             [
              0.7777777777777778,
              "#fb9f3a"
             ],
             [
              0.8888888888888888,
              "#fdca26"
             ],
             [
              1,
              "#f0f921"
             ]
            ],
            "type": "histogram2dcontour"
           }
          ],
          "mesh3d": [
           {
            "colorbar": {
             "outlinewidth": 0,
             "ticks": ""
            },
            "type": "mesh3d"
           }
          ],
          "parcoords": [
           {
            "line": {
             "colorbar": {
              "outlinewidth": 0,
              "ticks": ""
             }
            },
            "type": "parcoords"
           }
          ],
          "pie": [
           {
            "automargin": true,
            "type": "pie"
           }
          ],
          "scatter": [
           {
            "fillpattern": {
             "fillmode": "overlay",
             "size": 10,
             "solidity": 0.2
            },
            "type": "scatter"
           }
          ],
          "scatter3d": [
           {
            "line": {
             "colorbar": {
              "outlinewidth": 0,
              "ticks": ""
             }
            },
            "marker": {
             "colorbar": {
              "outlinewidth": 0,
              "ticks": ""
             }
            },
            "type": "scatter3d"
           }
          ],
          "scattercarpet": [
           {
            "marker": {
             "colorbar": {
              "outlinewidth": 0,
              "ticks": ""
             }
            },
            "type": "scattercarpet"
           }
          ],
          "scattergeo": [
           {
            "marker": {
             "colorbar": {
              "outlinewidth": 0,
              "ticks": ""
             }
            },
            "type": "scattergeo"
           }
          ],
          "scattergl": [
           {
            "marker": {
             "colorbar": {
              "outlinewidth": 0,
              "ticks": ""
             }
            },
            "type": "scattergl"
           }
          ],
          "scattermapbox": [
           {
            "marker": {
             "colorbar": {
              "outlinewidth": 0,
              "ticks": ""
             }
            },
            "type": "scattermapbox"
           }
          ],
          "scatterpolar": [
           {
            "marker": {
             "colorbar": {
              "outlinewidth": 0,
              "ticks": ""
             }
            },
            "type": "scatterpolar"
           }
          ],
          "scatterpolargl": [
           {
            "marker": {
             "colorbar": {
              "outlinewidth": 0,
              "ticks": ""
             }
            },
            "type": "scatterpolargl"
           }
          ],
          "scatterternary": [
           {
            "marker": {
             "colorbar": {
              "outlinewidth": 0,
              "ticks": ""
             }
            },
            "type": "scatterternary"
           }
          ],
          "surface": [
           {
            "colorbar": {
             "outlinewidth": 0,
             "ticks": ""
            },
            "colorscale": [
             [
              0,
              "#0d0887"
             ],
             [
              0.1111111111111111,
              "#46039f"
             ],
             [
              0.2222222222222222,
              "#7201a8"
             ],
             [
              0.3333333333333333,
              "#9c179e"
             ],
             [
              0.4444444444444444,
              "#bd3786"
             ],
             [
              0.5555555555555556,
              "#d8576b"
             ],
             [
              0.6666666666666666,
              "#ed7953"
             ],
             [
              0.7777777777777778,
              "#fb9f3a"
             ],
             [
              0.8888888888888888,
              "#fdca26"
             ],
             [
              1,
              "#f0f921"
             ]
            ],
            "type": "surface"
           }
          ],
          "table": [
           {
            "cells": {
             "fill": {
              "color": "#EBF0F8"
             },
             "line": {
              "color": "white"
             }
            },
            "header": {
             "fill": {
              "color": "#C8D4E3"
             },
             "line": {
              "color": "white"
             }
            },
            "type": "table"
           }
          ]
         },
         "layout": {
          "annotationdefaults": {
           "arrowcolor": "#2a3f5f",
           "arrowhead": 0,
           "arrowwidth": 1
          },
          "autotypenumbers": "strict",
          "coloraxis": {
           "colorbar": {
            "outlinewidth": 0,
            "ticks": ""
           }
          },
          "colorscale": {
           "diverging": [
            [
             0,
             "#8e0152"
            ],
            [
             0.1,
             "#c51b7d"
            ],
            [
             0.2,
             "#de77ae"
            ],
            [
             0.3,
             "#f1b6da"
            ],
            [
             0.4,
             "#fde0ef"
            ],
            [
             0.5,
             "#f7f7f7"
            ],
            [
             0.6,
             "#e6f5d0"
            ],
            [
             0.7,
             "#b8e186"
            ],
            [
             0.8,
             "#7fbc41"
            ],
            [
             0.9,
             "#4d9221"
            ],
            [
             1,
             "#276419"
            ]
           ],
           "sequential": [
            [
             0,
             "#0d0887"
            ],
            [
             0.1111111111111111,
             "#46039f"
            ],
            [
             0.2222222222222222,
             "#7201a8"
            ],
            [
             0.3333333333333333,
             "#9c179e"
            ],
            [
             0.4444444444444444,
             "#bd3786"
            ],
            [
             0.5555555555555556,
             "#d8576b"
            ],
            [
             0.6666666666666666,
             "#ed7953"
            ],
            [
             0.7777777777777778,
             "#fb9f3a"
            ],
            [
             0.8888888888888888,
             "#fdca26"
            ],
            [
             1,
             "#f0f921"
            ]
           ],
           "sequentialminus": [
            [
             0,
             "#0d0887"
            ],
            [
             0.1111111111111111,
             "#46039f"
            ],
            [
             0.2222222222222222,
             "#7201a8"
            ],
            [
             0.3333333333333333,
             "#9c179e"
            ],
            [
             0.4444444444444444,
             "#bd3786"
            ],
            [
             0.5555555555555556,
             "#d8576b"
            ],
            [
             0.6666666666666666,
             "#ed7953"
            ],
            [
             0.7777777777777778,
             "#fb9f3a"
            ],
            [
             0.8888888888888888,
             "#fdca26"
            ],
            [
             1,
             "#f0f921"
            ]
           ]
          },
          "colorway": [
           "#636efa",
           "#EF553B",
           "#00cc96",
           "#ab63fa",
           "#FFA15A",
           "#19d3f3",
           "#FF6692",
           "#B6E880",
           "#FF97FF",
           "#FECB52"
          ],
          "font": {
           "color": "#2a3f5f"
          },
          "geo": {
           "bgcolor": "white",
           "lakecolor": "white",
           "landcolor": "#E5ECF6",
           "showlakes": true,
           "showland": true,
           "subunitcolor": "white"
          },
          "hoverlabel": {
           "align": "left"
          },
          "hovermode": "closest",
          "mapbox": {
           "style": "light"
          },
          "paper_bgcolor": "white",
          "plot_bgcolor": "#E5ECF6",
          "polar": {
           "angularaxis": {
            "gridcolor": "white",
            "linecolor": "white",
            "ticks": ""
           },
           "bgcolor": "#E5ECF6",
           "radialaxis": {
            "gridcolor": "white",
            "linecolor": "white",
            "ticks": ""
           }
          },
          "scene": {
           "xaxis": {
            "backgroundcolor": "#E5ECF6",
            "gridcolor": "white",
            "gridwidth": 2,
            "linecolor": "white",
            "showbackground": true,
            "ticks": "",
            "zerolinecolor": "white"
           },
           "yaxis": {
            "backgroundcolor": "#E5ECF6",
            "gridcolor": "white",
            "gridwidth": 2,
            "linecolor": "white",
            "showbackground": true,
            "ticks": "",
            "zerolinecolor": "white"
           },
           "zaxis": {
            "backgroundcolor": "#E5ECF6",
            "gridcolor": "white",
            "gridwidth": 2,
            "linecolor": "white",
            "showbackground": true,
            "ticks": "",
            "zerolinecolor": "white"
           }
          },
          "shapedefaults": {
           "line": {
            "color": "#2a3f5f"
           }
          },
          "ternary": {
           "aaxis": {
            "gridcolor": "white",
            "linecolor": "white",
            "ticks": ""
           },
           "baxis": {
            "gridcolor": "white",
            "linecolor": "white",
            "ticks": ""
           },
           "bgcolor": "#E5ECF6",
           "caxis": {
            "gridcolor": "white",
            "linecolor": "white",
            "ticks": ""
           }
          },
          "title": {
           "x": 0.05
          },
          "xaxis": {
           "automargin": true,
           "gridcolor": "white",
           "linecolor": "white",
           "ticks": "",
           "title": {
            "standoff": 15
           },
           "zerolinecolor": "white",
           "zerolinewidth": 2
          },
          "yaxis": {
           "automargin": true,
           "gridcolor": "white",
           "linecolor": "white",
           "ticks": "",
           "title": {
            "standoff": 15
           },
           "zerolinecolor": "white",
           "zerolinewidth": 2
          }
         }
        },
        "width": 800
       }
      },
      "text/html": [
       "<div>                            <div id=\"f11d1539-b18d-4675-b9b9-7873cb5d4319\" class=\"plotly-graph-div\" style=\"height:800px; width:800px;\"></div>            <script type=\"text/javascript\">                require([\"plotly\"], function(Plotly) {                    window.PLOTLYENV=window.PLOTLYENV || {};                                    if (document.getElementById(\"f11d1539-b18d-4675-b9b9-7873cb5d4319\")) {                    Plotly.newPlot(                        \"f11d1539-b18d-4675-b9b9-7873cb5d4319\",                        [{\"hovertemplate\":\"Station: %{text}\\u003cbr\\u003eTemperature: %{x}\\u003cbr\\u003ePrecipitation: %{y}\\u003cbr\\u003eElevation: %{z}\\u003cbr\\u003e\\u003cextra\\u003e\\u003c\\u002fextra\\u003e\",\"marker\":{\"color\":[\"blue\",\"blue\",\"green\",\"red\",\"red\",\"red\",\"green\",\"red\",\"red\",\"red\",\"red\",\"green\",\"green\",\"red\",\"green\"],\"opacity\":0.8,\"size\":8,\"symbol\":[\"cross\",\"cross\",\"circle\",\"square\",\"square\",\"square\",\"circle\",\"square\",\"square\",\"square\",\"square\",\"circle\",\"circle\",\"square\",\"circle\"]},\"mode\":\"markers\",\"text\":[\"Ramsar\",\"Nowshahr\",\"Siahbisheh\",\"Babolsar\",\"Gharakhil\",\"Sari\",\"Kiyasar\",\"Sari (dasht-e-naz airport)\",\"Galugah\",\"Bandar-e-amirabad\",\"Amol\",\"Kojur\",\"Baladeh\",\"Polsefid\",\"Alasht\"],\"x\":[17.3,17.1,11.2,18.2,17.6,18.4,13.5,17.8,17.7,17.8,17.8,11.8,9.4,15.5,11.3],\"y\":[1222.5,1263.9,500.2,824.8,655.0,705.7,501.9,602.6,536.9,588.9,643.8,305.9,292.5,537.6,500.9],\"z\":[-20.0,-20.9,1855.4,-21.0,14.7,23.0,1294.3,16.7,-10.0,-20.0,23.7,1550.0,2120.0,610.0,1805.0],\"type\":\"scatter3d\"}],                        {\"template\":{\"data\":{\"histogram2dcontour\":[{\"type\":\"histogram2dcontour\",\"colorbar\":{\"outlinewidth\":0,\"ticks\":\"\"},\"colorscale\":[[0.0,\"#0d0887\"],[0.1111111111111111,\"#46039f\"],[0.2222222222222222,\"#7201a8\"],[0.3333333333333333,\"#9c179e\"],[0.4444444444444444,\"#bd3786\"],[0.5555555555555556,\"#d8576b\"],[0.6666666666666666,\"#ed7953\"],[0.7777777777777778,\"#fb9f3a\"],[0.8888888888888888,\"#fdca26\"],[1.0,\"#f0f921\"]]}],\"choropleth\":[{\"type\":\"choropleth\",\"colorbar\":{\"outlinewidth\":0,\"ticks\":\"\"}}],\"histogram2d\":[{\"type\":\"histogram2d\",\"colorbar\":{\"outlinewidth\":0,\"ticks\":\"\"},\"colorscale\":[[0.0,\"#0d0887\"],[0.1111111111111111,\"#46039f\"],[0.2222222222222222,\"#7201a8\"],[0.3333333333333333,\"#9c179e\"],[0.4444444444444444,\"#bd3786\"],[0.5555555555555556,\"#d8576b\"],[0.6666666666666666,\"#ed7953\"],[0.7777777777777778,\"#fb9f3a\"],[0.8888888888888888,\"#fdca26\"],[1.0,\"#f0f921\"]]}],\"heatmap\":[{\"type\":\"heatmap\",\"colorbar\":{\"outlinewidth\":0,\"ticks\":\"\"},\"colorscale\":[[0.0,\"#0d0887\"],[0.1111111111111111,\"#46039f\"],[0.2222222222222222,\"#7201a8\"],[0.3333333333333333,\"#9c179e\"],[0.4444444444444444,\"#bd3786\"],[0.5555555555555556,\"#d8576b\"],[0.6666666666666666,\"#ed7953\"],[0.7777777777777778,\"#fb9f3a\"],[0.8888888888888888,\"#fdca26\"],[1.0,\"#f0f921\"]]}],\"heatmapgl\":[{\"type\":\"heatmapgl\",\"colorbar\":{\"outlinewidth\":0,\"ticks\":\"\"},\"colorscale\":[[0.0,\"#0d0887\"],[0.1111111111111111,\"#46039f\"],[0.2222222222222222,\"#7201a8\"],[0.3333333333333333,\"#9c179e\"],[0.4444444444444444,\"#bd3786\"],[0.5555555555555556,\"#d8576b\"],[0.6666666666666666,\"#ed7953\"],[0.7777777777777778,\"#fb9f3a\"],[0.8888888888888888,\"#fdca26\"],[1.0,\"#f0f921\"]]}],\"contourcarpet\":[{\"type\":\"contourcarpet\",\"colorbar\":{\"outlinewidth\":0,\"ticks\":\"\"}}],\"contour\":[{\"type\":\"contour\",\"colorbar\":{\"outlinewidth\":0,\"ticks\":\"\"},\"colorscale\":[[0.0,\"#0d0887\"],[0.1111111111111111,\"#46039f\"],[0.2222222222222222,\"#7201a8\"],[0.3333333333333333,\"#9c179e\"],[0.4444444444444444,\"#bd3786\"],[0.5555555555555556,\"#d8576b\"],[0.6666666666666666,\"#ed7953\"],[0.7777777777777778,\"#fb9f3a\"],[0.8888888888888888,\"#fdca26\"],[1.0,\"#f0f921\"]]}],\"surface\":[{\"type\":\"surface\",\"colorbar\":{\"outlinewidth\":0,\"ticks\":\"\"},\"colorscale\":[[0.0,\"#0d0887\"],[0.1111111111111111,\"#46039f\"],[0.2222222222222222,\"#7201a8\"],[0.3333333333333333,\"#9c179e\"],[0.4444444444444444,\"#bd3786\"],[0.5555555555555556,\"#d8576b\"],[0.6666666666666666,\"#ed7953\"],[0.7777777777777778,\"#fb9f3a\"],[0.8888888888888888,\"#fdca26\"],[1.0,\"#f0f921\"]]}],\"mesh3d\":[{\"type\":\"mesh3d\",\"colorbar\":{\"outlinewidth\":0,\"ticks\":\"\"}}],\"scatter\":[{\"fillpattern\":{\"fillmode\":\"overlay\",\"size\":10,\"solidity\":0.2},\"type\":\"scatter\"}],\"parcoords\":[{\"type\":\"parcoords\",\"line\":{\"colorbar\":{\"outlinewidth\":0,\"ticks\":\"\"}}}],\"scatterpolargl\":[{\"type\":\"scatterpolargl\",\"marker\":{\"colorbar\":{\"outlinewidth\":0,\"ticks\":\"\"}}}],\"bar\":[{\"error_x\":{\"color\":\"#2a3f5f\"},\"error_y\":{\"color\":\"#2a3f5f\"},\"marker\":{\"line\":{\"color\":\"#E5ECF6\",\"width\":0.5},\"pattern\":{\"fillmode\":\"overlay\",\"size\":10,\"solidity\":0.2}},\"type\":\"bar\"}],\"scattergeo\":[{\"type\":\"scattergeo\",\"marker\":{\"colorbar\":{\"outlinewidth\":0,\"ticks\":\"\"}}}],\"scatterpolar\":[{\"type\":\"scatterpolar\",\"marker\":{\"colorbar\":{\"outlinewidth\":0,\"ticks\":\"\"}}}],\"histogram\":[{\"marker\":{\"pattern\":{\"fillmode\":\"overlay\",\"size\":10,\"solidity\":0.2}},\"type\":\"histogram\"}],\"scattergl\":[{\"type\":\"scattergl\",\"marker\":{\"colorbar\":{\"outlinewidth\":0,\"ticks\":\"\"}}}],\"scatter3d\":[{\"type\":\"scatter3d\",\"line\":{\"colorbar\":{\"outlinewidth\":0,\"ticks\":\"\"}},\"marker\":{\"colorbar\":{\"outlinewidth\":0,\"ticks\":\"\"}}}],\"scattermapbox\":[{\"type\":\"scattermapbox\",\"marker\":{\"colorbar\":{\"outlinewidth\":0,\"ticks\":\"\"}}}],\"scatterternary\":[{\"type\":\"scatterternary\",\"marker\":{\"colorbar\":{\"outlinewidth\":0,\"ticks\":\"\"}}}],\"scattercarpet\":[{\"type\":\"scattercarpet\",\"marker\":{\"colorbar\":{\"outlinewidth\":0,\"ticks\":\"\"}}}],\"carpet\":[{\"aaxis\":{\"endlinecolor\":\"#2a3f5f\",\"gridcolor\":\"white\",\"linecolor\":\"white\",\"minorgridcolor\":\"white\",\"startlinecolor\":\"#2a3f5f\"},\"baxis\":{\"endlinecolor\":\"#2a3f5f\",\"gridcolor\":\"white\",\"linecolor\":\"white\",\"minorgridcolor\":\"white\",\"startlinecolor\":\"#2a3f5f\"},\"type\":\"carpet\"}],\"table\":[{\"cells\":{\"fill\":{\"color\":\"#EBF0F8\"},\"line\":{\"color\":\"white\"}},\"header\":{\"fill\":{\"color\":\"#C8D4E3\"},\"line\":{\"color\":\"white\"}},\"type\":\"table\"}],\"barpolar\":[{\"marker\":{\"line\":{\"color\":\"#E5ECF6\",\"width\":0.5},\"pattern\":{\"fillmode\":\"overlay\",\"size\":10,\"solidity\":0.2}},\"type\":\"barpolar\"}],\"pie\":[{\"automargin\":true,\"type\":\"pie\"}]},\"layout\":{\"autotypenumbers\":\"strict\",\"colorway\":[\"#636efa\",\"#EF553B\",\"#00cc96\",\"#ab63fa\",\"#FFA15A\",\"#19d3f3\",\"#FF6692\",\"#B6E880\",\"#FF97FF\",\"#FECB52\"],\"font\":{\"color\":\"#2a3f5f\"},\"hovermode\":\"closest\",\"hoverlabel\":{\"align\":\"left\"},\"paper_bgcolor\":\"white\",\"plot_bgcolor\":\"#E5ECF6\",\"polar\":{\"bgcolor\":\"#E5ECF6\",\"angularaxis\":{\"gridcolor\":\"white\",\"linecolor\":\"white\",\"ticks\":\"\"},\"radialaxis\":{\"gridcolor\":\"white\",\"linecolor\":\"white\",\"ticks\":\"\"}},\"ternary\":{\"bgcolor\":\"#E5ECF6\",\"aaxis\":{\"gridcolor\":\"white\",\"linecolor\":\"white\",\"ticks\":\"\"},\"baxis\":{\"gridcolor\":\"white\",\"linecolor\":\"white\",\"ticks\":\"\"},\"caxis\":{\"gridcolor\":\"white\",\"linecolor\":\"white\",\"ticks\":\"\"}},\"coloraxis\":{\"colorbar\":{\"outlinewidth\":0,\"ticks\":\"\"}},\"colorscale\":{\"sequential\":[[0.0,\"#0d0887\"],[0.1111111111111111,\"#46039f\"],[0.2222222222222222,\"#7201a8\"],[0.3333333333333333,\"#9c179e\"],[0.4444444444444444,\"#bd3786\"],[0.5555555555555556,\"#d8576b\"],[0.6666666666666666,\"#ed7953\"],[0.7777777777777778,\"#fb9f3a\"],[0.8888888888888888,\"#fdca26\"],[1.0,\"#f0f921\"]],\"sequentialminus\":[[0.0,\"#0d0887\"],[0.1111111111111111,\"#46039f\"],[0.2222222222222222,\"#7201a8\"],[0.3333333333333333,\"#9c179e\"],[0.4444444444444444,\"#bd3786\"],[0.5555555555555556,\"#d8576b\"],[0.6666666666666666,\"#ed7953\"],[0.7777777777777778,\"#fb9f3a\"],[0.8888888888888888,\"#fdca26\"],[1.0,\"#f0f921\"]],\"diverging\":[[0,\"#8e0152\"],[0.1,\"#c51b7d\"],[0.2,\"#de77ae\"],[0.3,\"#f1b6da\"],[0.4,\"#fde0ef\"],[0.5,\"#f7f7f7\"],[0.6,\"#e6f5d0\"],[0.7,\"#b8e186\"],[0.8,\"#7fbc41\"],[0.9,\"#4d9221\"],[1,\"#276419\"]]},\"xaxis\":{\"gridcolor\":\"white\",\"linecolor\":\"white\",\"ticks\":\"\",\"title\":{\"standoff\":15},\"zerolinecolor\":\"white\",\"automargin\":true,\"zerolinewidth\":2},\"yaxis\":{\"gridcolor\":\"white\",\"linecolor\":\"white\",\"ticks\":\"\",\"title\":{\"standoff\":15},\"zerolinecolor\":\"white\",\"automargin\":true,\"zerolinewidth\":2},\"scene\":{\"xaxis\":{\"backgroundcolor\":\"#E5ECF6\",\"gridcolor\":\"white\",\"linecolor\":\"white\",\"showbackground\":true,\"ticks\":\"\",\"zerolinecolor\":\"white\",\"gridwidth\":2},\"yaxis\":{\"backgroundcolor\":\"#E5ECF6\",\"gridcolor\":\"white\",\"linecolor\":\"white\",\"showbackground\":true,\"ticks\":\"\",\"zerolinecolor\":\"white\",\"gridwidth\":2},\"zaxis\":{\"backgroundcolor\":\"#E5ECF6\",\"gridcolor\":\"white\",\"linecolor\":\"white\",\"showbackground\":true,\"ticks\":\"\",\"zerolinecolor\":\"white\",\"gridwidth\":2}},\"shapedefaults\":{\"line\":{\"color\":\"#2a3f5f\"}},\"annotationdefaults\":{\"arrowcolor\":\"#2a3f5f\",\"arrowhead\":0,\"arrowwidth\":1},\"geo\":{\"bgcolor\":\"white\",\"landcolor\":\"#E5ECF6\",\"subunitcolor\":\"white\",\"showland\":true,\"showlakes\":true,\"lakecolor\":\"white\"},\"title\":{\"x\":0.05},\"mapbox\":{\"style\":\"light\"}}},\"margin\":{\"l\":0,\"r\":0,\"t\":0,\"b\":0},\"font\":{\"family\":\"B Zar\",\"size\":18},\"scene\":{\"xaxis\":{\"title\":{\"text\":\"\\u062f\\u0645\\u0627\\u06cc \\u0645\\u062a\\u0648\\u0633\\u0637 (\\u062f\\u0631\\u062c\\u0647 \\u0633\\u0627\\u0646\\u062a\\u06cc\\u06af\\u0631\\u0627\\u062f)\"}},\"yaxis\":{\"title\":{\"text\":\"\\u0628\\u0627\\u0631\\u0646\\u062f\\u06af\\u06cc (\\u0645\\u06cc\\u0644\\u06cc\\u0645\\u062a\\u0631)\"}},\"zaxis\":{\"title\":{\"text\":\"\\u0627\\u0631\\u062a\\u0641\\u0627\\u0639 \\u0627\\u06cc\\u0633\\u062a\\u06af\\u0627\\u0647 (\\u0645\\u062a\\u0631)\"}}},\"width\":800,\"height\":800},                        {\"responsive\": true}                    ).then(function(){\n",
       "                            \n",
       "var gd = document.getElementById('f11d1539-b18d-4675-b9b9-7873cb5d4319');\n",
       "var x = new MutationObserver(function (mutations, observer) {{\n",
       "        var display = window.getComputedStyle(gd).display;\n",
       "        if (!display || display === 'none') {{\n",
       "            console.log([gd, 'removed!']);\n",
       "            Plotly.purge(gd);\n",
       "            observer.disconnect();\n",
       "        }}\n",
       "}});\n",
       "\n",
       "// Listen for the removal of the full notebook cells\n",
       "var notebookContainer = gd.closest('#notebook-container');\n",
       "if (notebookContainer) {{\n",
       "    x.observe(notebookContainer, {childList: true});\n",
       "}}\n",
       "\n",
       "// Listen for the clearing of the current output cell\n",
       "var outputEl = gd.closest('.output');\n",
       "if (outputEl) {{\n",
       "    x.observe(outputEl, {childList: true});\n",
       "}}\n",
       "\n",
       "                        })                };                });            </script>        </div>"
      ]
     },
     "metadata": {},
     "output_type": "display_data"
    }
   ],
   "source": [
    "import plotly.graph_objects as go\n",
    "\n",
    "# Assuming 'station_data' DataFrame is already loaded and processed\n",
    "station_data['Cluster'] = station_data['Cluster'].astype(int)\n",
    "\n",
    "# Define custom colors for each cluster (you can choose your own colors)\n",
    "custom_colors = {\n",
    "    1: 'red',     # Cluster 1 gets blue\n",
    "    2: 'green',    # Cluster 2 gets green\n",
    "    3: 'blue'    # Cluster 3 gets orange\n",
    "}\n",
    "\n",
    "# Assign custom colors based on the 'Cluster' column\n",
    "colors = [custom_colors.get(cluster, 'gray') for cluster in station_data['Cluster']]\n",
    "\n",
    "# Define marker shapes for each cluster (you can define more shapes or customize)\n",
    "cluster_shapes = {\n",
    "    1: 'square',  # Cluster 1 gets square markers\n",
    "    2: 'circle',  # Cluster 2 gets diamond markers\n",
    "    3: 'cross'  # Cluster 3 gets cross markers\n",
    "}\n",
    "\n",
    "# Define the shape list based on the Cluster\n",
    "shapes = [cluster_shapes.get(cluster, 'circle') for cluster in station_data['Cluster']]\n",
    "\n",
    "# Create the 3D scatter plot\n",
    "fig = go.Figure(\n",
    "    data=[\n",
    "        go.Scatter3d(\n",
    "            x=round(station_data[\"Temperature\"], 1),\n",
    "            y=round(station_data[\"Precipitation\"], 1),\n",
    "            z=round(station_data[\"Station_Elevation\"], 1),\n",
    "            mode=\"markers\",\n",
    "            marker=dict(\n",
    "                size=8,\n",
    "                color=colors,  # Custom colors for clusters\n",
    "                symbol=shapes,  # Custom shapes for each cluster\n",
    "                opacity=0.8,  # Marker transparency (optional)\n",
    "            ),\n",
    "            text=station_data[\"Station_Name\"],\n",
    "            hovertemplate=(\n",
    "                'Station: %{text}<br>'\n",
    "                'Temperature: %{x}<br>'\n",
    "                'Precipitation: %{y}<br>'\n",
    "                'Elevation: %{z}<br>'\n",
    "                '<extra></extra>'\n",
    "            )\n",
    "        )\n",
    "    ]\n",
    ")\n",
    "\n",
    "# Set the title and labels for axes\n",
    "fig.update_layout(\n",
    "\n",
    "    scene=dict(\n",
    "        xaxis_title=\"دمای متوسط (درجه سانتیگراد)\",\n",
    "        yaxis_title=\"بارندگی (میلیمتر)\",\n",
    "        zaxis_title=\"ارتفاع ایستگاه (متر)\",\n",
    "        # xaxis=dict(\n",
    "        #     autorange='reversed'  # Reverse the x-axis direction (greater to lower)\n",
    "        # ),\n",
    "        # yaxis=dict(\n",
    "        #     autorange='reversed'  # Reverse the y-axis direction (greater to lower)\n",
    "        # ),\n",
    "    ),\n",
    "    width=800,  # Optional: Adjust the width of the plot\n",
    "    height=800,\n",
    "    margin=dict(l=0, r=0, t=0, b=0),\n",
    "    font={\n",
    "        'family': 'B Zar',\n",
    "        'size': 18\n",
    "    },\n",
    ")\n",
    "\n",
    "# Show the plot\n",
    "fig.show()\n"
   ]
  },
  {
   "cell_type": "code",
   "execution_count": 75,
   "metadata": {},
   "outputs": [
    {
     "data": {
      "application/vnd.plotly.v1+json": {
       "config": {
        "plotlyServerURL": "https://plot.ly"
       },
       "data": [
        {
         "customdata": [
          [
           "\n    Station Name: <b>Ramsar</b><br>\n    Station ID: <b>40732</b><br>\n    Province: <b>Mazandaran</b><br>\n    Latitude: <b>36.905</b><br>\n    Longitude: <b>50.684</b><br>\n    Elevation: <b>-20.0 m</b><br>\n    Temperature: <b>17.3</b><br>\n    Precipitation: <b>1222.5</b><br>\n    DT: <b>6.3</b><br>\n    ",
           "40732",
           "Ramsar"
          ],
          [
           "\n    Station Name: <b>Nowshahr</b><br>\n    Station ID: <b>40734</b><br>\n    Province: <b>Mazandaran</b><br>\n    Latitude: <b>36.661</b><br>\n    Longitude: <b>51.466</b><br>\n    Elevation: <b>-20.9 m</b><br>\n    Temperature: <b>17.1</b><br>\n    Precipitation: <b>1263.9</b><br>\n    DT: <b>6.8</b><br>\n    ",
           "40734",
           "Nowshahr"
          ]
         ],
         "hovertemplate": "%{customdata[0]}",
         "hovertext": [
          "Ramsar",
          "Nowshahr"
         ],
         "lat": [
          36.905,
          36.661
         ],
         "legendgroup": "3",
         "lon": [
          50.684,
          51.466
         ],
         "marker": {
          "color": "darkgreen",
          "size": 20
         },
         "mode": "markers+text",
         "name": "3",
         "showlegend": true,
         "subplot": "mapbox",
         "text": [
          "Ramsar",
          "Nowshahr"
         ],
         "textfont": {
          "color": "black",
          "size": 14
         },
         "textposition": "top right",
         "type": "scattermapbox"
        },
        {
         "customdata": [
          [
           "\n    Station Name: <b>Siahbisheh</b><br>\n    Station ID: <b>40735</b><br>\n    Province: <b>Mazandaran</b><br>\n    Latitude: <b>36.231</b><br>\n    Longitude: <b>51.303</b><br>\n    Elevation: <b>1855.4 m</b><br>\n    Temperature: <b>11.2</b><br>\n    Precipitation: <b>500.2</b><br>\n    DT: <b>9.3</b><br>\n    ",
           "40735",
           "Siahbisheh"
          ],
          [
           "\n    Station Name: <b>Kiyasar</b><br>\n    Station ID: <b>40760</b><br>\n    Province: <b>Mazandaran</b><br>\n    Latitude: <b>36.248</b><br>\n    Longitude: <b>53.546</b><br>\n    Elevation: <b>1294.3 m</b><br>\n    Temperature: <b>13.5</b><br>\n    Precipitation: <b>501.9</b><br>\n    DT: <b>10.2</b><br>\n    ",
           "40760",
           "Kiyasar"
          ],
          [
           "\n    Station Name: <b>Kojur</b><br>\n    Station ID: <b>99348</b><br>\n    Province: <b>Mazandaran</b><br>\n    Latitude: <b>36.39</b><br>\n    Longitude: <b>51.729</b><br>\n    Elevation: <b>1550.0 m</b><br>\n    Temperature: <b>11.8</b><br>\n    Precipitation: <b>305.9</b><br>\n    DT: <b>12.1</b><br>\n    ",
           "99348",
           "Kojur"
          ],
          [
           "\n    Station Name: <b>Baladeh</b><br>\n    Station ID: <b>99357</b><br>\n    Province: <b>Mazandaran</b><br>\n    Latitude: <b>36.198</b><br>\n    Longitude: <b>51.801</b><br>\n    Elevation: <b>2120.0 m</b><br>\n    Temperature: <b>9.4</b><br>\n    Precipitation: <b>292.5</b><br>\n    DT: <b>13.6</b><br>\n    ",
           "99357",
           "Baladeh"
          ],
          [
           "\n    Station Name: <b>Alasht</b><br>\n    Station ID: <b>99361</b><br>\n    Province: <b>Mazandaran</b><br>\n    Latitude: <b>36.071</b><br>\n    Longitude: <b>52.843</b><br>\n    Elevation: <b>1805.0 m</b><br>\n    Temperature: <b>11.3</b><br>\n    Precipitation: <b>500.9</b><br>\n    DT: <b>8.7</b><br>\n    ",
           "99361",
           "Alasht"
          ]
         ],
         "hovertemplate": "%{customdata[0]}",
         "hovertext": [
          "Siahbisheh",
          "Kiyasar",
          "Kojur",
          "Baladeh",
          "Alasht"
         ],
         "lat": [
          36.231,
          36.248,
          36.39,
          36.198,
          36.071
         ],
         "legendgroup": "2",
         "lon": [
          51.303,
          53.546,
          51.729,
          51.801,
          52.843
         ],
         "marker": {
          "color": "darkblue",
          "size": 20
         },
         "mode": "markers+text",
         "name": "2",
         "showlegend": true,
         "subplot": "mapbox",
         "text": [
          "Siahbisheh",
          "Kiyasar",
          "Kojur",
          "Baladeh",
          "Alasht"
         ],
         "textfont": {
          "color": "black",
          "size": 14
         },
         "textposition": "top right",
         "type": "scattermapbox"
        },
        {
         "customdata": [
          [
           "\n    Station Name: <b>Babolsar</b><br>\n    Station ID: <b>40736</b><br>\n    Province: <b>Mazandaran</b><br>\n    Latitude: <b>36.699</b><br>\n    Longitude: <b>52.643</b><br>\n    Elevation: <b>-21.0 m</b><br>\n    Temperature: <b>18.2</b><br>\n    Precipitation: <b>824.8</b><br>\n    DT: <b>7.1</b><br>\n    ",
           "40736",
           "Babolsar"
          ],
          [
           "\n    Station Name: <b>Gharakhil</b><br>\n    Station ID: <b>40737</b><br>\n    Province: <b>Mazandaran</b><br>\n    Latitude: <b>36.487</b><br>\n    Longitude: <b>52.108</b><br>\n    Elevation: <b>14.7 m</b><br>\n    Temperature: <b>17.6</b><br>\n    Precipitation: <b>655.0</b><br>\n    DT: <b>9.8</b><br>\n    ",
           "40737",
           "Gharakhil"
          ],
          [
           "\n    Station Name: <b>Sari</b><br>\n    Station ID: <b>40759</b><br>\n    Province: <b>Mazandaran</b><br>\n    Latitude: <b>36.536</b><br>\n    Longitude: <b>52.998</b><br>\n    Elevation: <b>23.0 m</b><br>\n    Temperature: <b>18.4</b><br>\n    Precipitation: <b>705.7</b><br>\n    DT: <b>9.6</b><br>\n    ",
           "40759",
           "Sari"
          ],
          [
           "\n    Station Name: <b>Sari (dasht-e-naz airport)</b><br>\n    Station ID: <b>40788</b><br>\n    Province: <b>Mazandaran</b><br>\n    Latitude: <b>36.64</b><br>\n    Longitude: <b>53.195</b><br>\n    Elevation: <b>16.7 m</b><br>\n    Temperature: <b>17.8</b><br>\n    Precipitation: <b>602.6</b><br>\n    DT: <b>9.9</b><br>\n    ",
           "40788",
           "Sari (dasht-e-naz airport)"
          ],
          [
           "\n    Station Name: <b>Galugah</b><br>\n    Station ID: <b>99299</b><br>\n    Province: <b>Mazandaran</b><br>\n    Latitude: <b>36.738</b><br>\n    Longitude: <b>53.837</b><br>\n    Elevation: <b>-10.0 m</b><br>\n    Temperature: <b>17.7</b><br>\n    Precipitation: <b>536.9</b><br>\n    DT: <b>10.1</b><br>\n    ",
           "99299",
           "Galugah"
          ],
          [
           "\n    Station Name: <b>Bandar-e-amirabad</b><br>\n    Station ID: <b>99306</b><br>\n    Province: <b>Mazandaran</b><br>\n    Latitude: <b>36.856</b><br>\n    Longitude: <b>53.386</b><br>\n    Elevation: <b>-20.0 m</b><br>\n    Temperature: <b>17.8</b><br>\n    Precipitation: <b>588.9</b><br>\n    DT: <b>7.6</b><br>\n    ",
           "99306",
           "Bandar-e-amirabad"
          ],
          [
           "\n    Station Name: <b>Amol</b><br>\n    Station ID: <b>99309</b><br>\n    Province: <b>Mazandaran</b><br>\n    Latitude: <b>36.479</b><br>\n    Longitude: <b>52.468</b><br>\n    Elevation: <b>23.7 m</b><br>\n    Temperature: <b>17.8</b><br>\n    Precipitation: <b>643.8</b><br>\n    DT: <b>9.3</b><br>\n    ",
           "99309",
           "Amol"
          ],
          [
           "\n    Station Name: <b>Polsefid</b><br>\n    Station ID: <b>99360</b><br>\n    Province: <b>Mazandaran</b><br>\n    Latitude: <b>36.104</b><br>\n    Longitude: <b>53.062</b><br>\n    Elevation: <b>610.0 m</b><br>\n    Temperature: <b>15.5</b><br>\n    Precipitation: <b>537.6</b><br>\n    DT: <b>9.9</b><br>\n    ",
           "99360",
           "Polsefid"
          ]
         ],
         "hovertemplate": "%{customdata[0]}",
         "hovertext": [
          "Babolsar",
          "Gharakhil",
          "Sari",
          "Sari (dasht-e-naz airport)",
          "Galugah",
          "Bandar-e-amirabad",
          "Amol",
          "Polsefid"
         ],
         "lat": [
          36.699,
          36.487,
          36.536,
          36.64,
          36.738,
          36.856,
          36.479,
          36.104
         ],
         "legendgroup": "1",
         "lon": [
          52.643,
          52.108,
          52.998,
          53.195,
          53.837,
          53.386,
          52.468,
          53.062
         ],
         "marker": {
          "color": "darkred",
          "size": 20
         },
         "mode": "markers+text",
         "name": "1",
         "showlegend": true,
         "subplot": "mapbox",
         "text": [
          "Babolsar",
          "Gharakhil",
          "Sari",
          "Sari (dasht-e-naz airport)",
          "Galugah",
          "Bandar-e-amirabad",
          "Amol",
          "Polsefid"
         ],
         "textfont": {
          "color": "black",
          "size": 14
         },
         "textposition": "top right",
         "type": "scattermapbox"
        }
       ],
       "layout": {
        "height": 600,
        "hoverlabel": {
         "align": "left",
         "bgcolor": "white",
         "font": {
          "family": "Arial",
          "size": 16
         }
        },
        "legend": {
         "bgcolor": "snow",
         "bordercolor": "Black",
         "borderwidth": 0.5,
         "font": {
          "color": "black",
          "family": "Times New Roman",
          "size": 14
         },
         "title": {
          "font": {
           "family": "Times New Roman"
          },
          "text": ""
         },
         "tracegroupgap": 0,
         "traceorder": "normal",
         "x": 0.01,
         "xanchor": "left",
         "y": 0.98,
         "yanchor": "top"
        },
        "mapbox": {
         "center": {
          "lat": 36.48286666666666,
          "lon": 52.471266666666665
         },
         "domain": {
          "x": [
           0,
           1
          ],
          "y": [
           0,
           1
          ]
         },
         "layers": [
          {
           "below": "traces",
           "source": [
            "https://basemap.nationalmap.gov/arcgis/rest/services/USGSImageryOnly/MapServer/tile/{z}/{y}/{x}"
           ],
           "sourceattribution": "United States Geological Survey",
           "sourcetype": "raster"
          },
          {
           "below": "traces",
           "color": "white",
           "line": {
            "width": 4
           },
           "source": {
            "bbox": [
             50.36244486700019,
             35.763081806000116,
             54.133187031000205,
             36.963182303000224
            ],
            "features": [
             {
              "bbox": [
               53.62967190700027,
               36.807089924000195,
               53.640665017000174,
               36.812039203000154
              ],
              "geometry": {
               "coordinates": [
                [
                 [
                  53.63523633800014,
                  36.80748057500023
                 ],
                 [
                  53.63319350900014,
                  36.807089924000195
                 ],
                 [
                  53.63145938700018,
                  36.807438096000226
                 ],
                 [
                  53.63033815600022,
                  36.80794653000015
                 ],
                 [
                  53.62976708600024,
                  36.808660369000165
                 ],
                 [
                  53.62967190700027,
                  36.809374207000246
                 ],
                 [
                  53.63048092400015,
                  36.80965974200018
                 ],
                 [
                  53.63228931400022,
                  36.81061152700016
                 ],
                 [
                  53.63438324000009,
                  36.81127777600011
                 ],
                 [
                  53.635239846000275,
                  36.81137295400015
                 ],
                 [
                  53.63590609500022,
                  36.811658490000184
                 ],
                 [
                  53.63681029000014,
                  36.812039203000154
                 ],
                 [
                  53.63747653900015,
                  36.81113500800018
                 ],
                 [
                  53.63761930700019,
                  36.8105639380002
                 ],
                 [
                  53.63847591300021,
                  36.81008804500016
                 ],
                 [
                  53.63961805400015,
                  36.80980251000028
                 ],
                 [
                  53.640427071000204,
                  36.80951697500018
                 ],
                 [
                  53.640665017000174,
                  36.809088672000144
                 ],
                 [
                  53.64061742800021,
                  36.808660369000165
                 ],
                 [
                  53.64004635700013,
                  36.808327244000225
                 ],
                 [
                  53.63890421600024,
                  36.808184477000225
                 ],
                 [
                  53.63804761000023,
                  36.80804170900012
                 ],
                 [
                  53.63714341500025,
                  36.80780376300015
                 ],
                 [
                  53.6363007770002,
                  36.8077791460002
                 ],
                 [
                  53.63523633800014,
                  36.80748057500023
                 ]
                ]
               ],
               "type": "Polygon"
              },
              "id": "0",
              "properties": {
               "Markaz": "ساری",
               "Ostan": "مازندران"
              },
              "type": "Feature"
             },
             {
              "bbox": [
               53.6009637100002,
               36.808054030000164,
               53.626768965000224,
               36.82179499400024
              ],
              "geometry": {
               "coordinates": [
                [
                 [
                  53.626483429000245,
                  36.809088672000144
                 ],
                 [
                  53.62510411000022,
                  36.808054030000164
                 ],
                 [
                  53.62410386100015,
                  36.8081572280002
                 ],
                 [
                  53.621534150000286,
                  36.80813688700022
                 ],
                 [
                  53.6186787970002,
                  36.808422423000195
                 ],
                 [
                  53.61563308700022,
                  36.809088672000144
                 ],
                 [
                  53.612587377000125,
                  36.80985009900019
                 ],
                 [
                  53.61030309500012,
                  36.81023081300009
                 ],
                 [
                  53.608113990000106,
                  36.81080188400017
                 ],
                 [
                  53.60697184900016,
                  36.81222956000016
                 ],
                 [
                  53.606210422000174,
                  36.813181345000146
                 ],
                 [
                  53.60459238800024,
                  36.813562058000116
                 ],
                 [
                  53.60278399800018,
                  36.81394277200019
                 ],
                 [
                  53.60145150000022,
                  36.814323486000205
                 ],
                 [
                  53.6009637100002,
                  36.814954043000284
                 ],
                 [
                  53.60423546900029,
                  36.81644120600009
                 ],
                 [
                  53.605722632000095,
                  36.818671951000226
                 ],
                 [
                  53.60825080900014,
                  36.821200128000214
                 ],
                 [
                  53.611522568000225,
                  36.82179499400024
                 ],
                 [
                  53.614050746000146,
                  36.82149756100023
                 ],
                 [
                  53.61538919200024,
                  36.820456547000276
                 ],
                 [
                  53.61671250500018,
                  36.81918196300012
                 ],
                 [
                  53.618012548000195,
                  36.81841615900021
                 ],
                 [
                  53.61972576000022,
                  36.81832098000024
                 ],
                 [
                  53.621534150000286,
                  36.81708366100008
                 ],
                 [
                  53.622866649000116,
                  36.816417412000305
                 ],
                 [
                  53.623437719000094,
                  36.81518009200022
                 ],
                 [
                  53.62438950400025,
                  36.8144186640003
                 ],
                 [
                  53.626102716000275,
                  36.813181345000146
                 ],
                 [
                  53.62667378600008,
                  36.81222956000016
                 ],
                 [
                  53.626768965000224,
                  36.81080188400017
                 ],
                 [
                  53.626768965000224,
                  36.80985009900019
                 ],
                 [
                  53.626483429000245,
                  36.809088672000144
                 ]
                ]
               ],
               "type": "Polygon"
              },
              "id": "1",
              "properties": {
               "Markaz": "ساری",
               "Ostan": "مازندران"
              },
              "type": "Feature"
             },
             {
              "bbox": [
               53.59490243000016,
               36.843295407000085,
               53.63819434300018,
               36.85797668100014
              ],
              "geometry": {
               "coordinates": [
                [
                 [
                  53.61992008300018,
                  36.8537888300001
                 ],
                 [
                  53.62263266800022,
                  36.85336052700012
                 ],
                 [
                  53.625488022000184,
                  36.85364606200022
                 ],
                 [
                  53.62777230400019,
                  36.854217133000134
                 ],
                 [
                  53.631698415000244,
                  36.85478820300011
                 ],
                 [
                  53.634233356000095,
                  36.85361713800012
                 ],
                 [
                  53.635910061000175,
                  36.85171869900017
                 ],
                 [
                  53.637337737000166,
                  36.84864919400013
                 ],
                 [
                  53.63819434300018,
                  36.84672183000015
                 ],
                 [
                  53.63801158400008,
                  36.84541577400012
                 ],
                 [
                  53.63769465600012,
                  36.84379509300021
                 ],
                 [
                  53.63526760600024,
                  36.843295407000085
                 ],
                 [
                  53.63255502100026,
                  36.8442947800001
                 ],
                 [
                  53.63055627300025,
                  36.84486585100018
                 ],
                 [
                  53.626987082000085,
                  36.845793841000216
                 ],
                 [
                  53.62391757700021,
                  36.846222144000194
                 ],
                 [
                  53.62220436500019,
                  36.846222144000194
                 ],
                 [
                  53.620919456000195,
                  36.8464362950001
                 ],
                 [
                  53.61992008300018,
                  36.847007366000184
                 ],
                 [
                  53.61813548700019,
                  36.847721204000095
                 ],
                 [
                  53.61681488600021,
                  36.848458837000294
                 ],
                 [
                  53.61569653900017,
                  36.848720578000155
                 ],
                 [
                  53.61429265700019,
                  36.84898231800014
                 ],
                 [
                  53.612983954000185,
                  36.84983892400015
                 ],
                 [
                  53.61153724200017,
                  36.85076215500027
                 ],
                 [
                  53.60936717300012,
                  36.85076215500027
                 ],
                 [
                  53.608796103000145,
                  36.84979133500019
                 ],
                 [
                  53.608282139000266,
                  36.84796390900016
                 ],
                 [
                  53.60731131900019,
                  36.8471073030002
                 ],
                 [
                  53.60576942800009,
                  36.84744994500011
                 ],
                 [
                  53.603770681000185,
                  36.84939158600008
                 ],
                 [
                  53.601594664000174,
                  36.84955219900013
                 ],
                 [
                  53.59906648700013,
                  36.84940348300012
                 ],
                 [
                  53.59519986200024,
                  36.848957334000204
                 ],
                 [
                  53.59505114600017,
                  36.851039362000165
                 ],
                 [
                  53.59490243000016,
                  36.85505470300012
                 ],
                 [
                  53.595173688000216,
                  36.85545445200029
                 ],
                 [
                  53.59717243600022,
                  36.855930345000104
                 ],
                 [
                  53.60007537800021,
                  36.856549004000215
                 ],
                 [
                  53.60354939100017,
                  36.85754837800016
                 ],
                 [
                  53.60569090600018,
                  36.85773873500017
                 ],
                 [
                  53.60773724200021,
                  36.85797668100014
                 ],
                 [
                  53.60954563300015,
                  36.8578815030001
                 ],
                 [
                  53.610973309000144,
                  36.85754837800016
                 ],
                 [
                  53.61278170000014,
                  36.85683454000025
                 ],
                 [
                  53.61513736600017,
                  36.855930345000104
                 ],
                 [
                  53.617992719000085,
                  36.85414574900028
                 ],
                 [
                  53.61992008300018,
                  36.8537888300001
                 ]
                ]
               ],
               "type": "Polygon"
              },
              "id": "2",
              "properties": {
               "Markaz": "ساری",
               "Ostan": "مازندران"
              },
              "type": "Feature"
             },
             {
              "bbox": [
               50.36244486700019,
               35.763081806000116,
               54.133187031000205,
               36.963182303000224
              ],
              "geometry": {
               "coordinates": [
                [
                 [
                  50.78149817100024,
                  36.86863971400021
                 ],
                 [
                  50.7839028260002,
                  36.86610146700025
                 ],
                 [
                  50.79722780700018,
                  36.86027178800026
                 ],
                 [
                  50.803295433000244,
                  36.85848719200021
                 ],
                 [
                  50.809244085000216,
                  36.854918001000215
                 ],
                 [
                  50.82054652500011,
                  36.848612429000184
                 ],
                 [
                  50.83244383000016,
                  36.84361556100009
                 ],
                 [
                  50.845292920000134,
                  36.839213558000154
                 ],
                 [
                  50.857190225000124,
                  36.83564436700016
                 ],
                 [
                  50.86432860800022,
                  36.83314593200009
                 ],
                 [
                  50.87063417900015,
                  36.83005263300021
                 ],
                 [
                  50.87872434700023,
                  36.825293711000086
                 ],
                 [
                  50.887647325000216,
                  36.820772735000105
                 ],
                 [
                  50.891216517000146,
                  36.81720354400011
                 ],
                 [
                  50.89621338500024,
                  36.81375332500022
                 ],
                 [
                  50.90239998400028,
                  36.80875645700013
                 ],
                 [
                  50.910728097000174,
                  36.80518726600013
                 ],
                 [
                  50.920840807000275,
                  36.79923861300023
                 ],
                 [
                  50.92807588600016,
                  36.7953799040003
                 ],
                 [
                  50.93154838100014,
                  36.79352790700028
                 ],
                 [
                  50.943564659000174,
                  36.78769822700019
                 ],
                 [
                  50.95415326100016,
                  36.78317725100021
                 ],
                 [
                  50.966080281000245,
                  36.77819983400025
                 ],
                 [
                  50.96926283800025,
                  36.77687168000011
                 ],
                 [
                  50.98687084900024,
                  36.77127994600022
                 ],
                 [
                  50.99638869300014,
                  36.766877943000225
                 ],
                 [
                  50.9998389120002,
                  36.76497437500012
                 ],
                 [
                  51.002533802000244,
                  36.763628820000235
                 ],
                 [
                  51.011087842000165,
                  36.75935780100025
                 ],
                 [
                  51.03773780400019,
                  36.750315849000174
                 ],
                 [
                  51.056059654000194,
                  36.74448616900008
                 ],
                 [
                  51.07402458400014,
                  36.74091697800009
                 ],
                 [
                  51.07747480300009,
                  36.73937032800018
                 ],
                 [
                  51.08011124600017,
                  36.73812824900017
                 ],
                 [
                  51.091342302000214,
                  36.735368075000224
                 ],
                 [
                  51.10057461000031,
                  36.73260790000023
                 ],
                 [
                  51.1087599560002,
                  36.7309898660003
                 ],
                 [
                  51.12075244000022,
                  36.72775379900014
                 ],
                 [
                  51.12770046600025,
                  36.726135766000084
                 ],
                 [
                  51.13455331400024,
                  36.72375630500011
                 ],
                 [
                  51.14435669300019,
                  36.72223345000015
                 ],
                 [
                  51.14787829500011,
                  36.7215672010002
                 ],
                 [
                  51.1506384700001,
                  36.720615416000214
                 ],
                 [
                  51.15686996000022,
                  36.71977205600024
                 ],
                 [
                  51.163297202000194,
                  36.718902204000244
                 ],
                 [
                  51.180143786000144,
                  36.715190245000144
                 ],
                 [
                  51.20517571600027,
                  36.7110975720002
                 ],
                 [
                  51.218976590000125,
                  36.70909882500024
                 ],
                 [
                  51.22000454300019,
                  36.70895666100023
                 ],
                 [
                  51.227923363000286,
                  36.70786150500021
                 ],
                 [
                  51.242676022000296,
                  36.70586275800014
                 ],
                 [
                  51.246547029000226,
                  36.70542215600028
                 ],
                 [
                  51.25438297000011,
                  36.70453026000018
                 ],
                 [
                  51.258285286000216,
                  36.70319776200023
                 ],
                 [
                  51.26409117100019,
                  36.70148455000026
                 ],
                 [
                  51.268183844000134,
                  36.701103836000186
                 ],
                 [
                  51.2717054470001,
                  36.70138937100029
                 ],
                 [
                  51.27427526400021,
                  36.701294193000194
                 ],
                 [
                  51.27627401100011,
                  36.70034240900014
                 ],
                 [
                  51.27865347200009,
                  36.69891473200022
                 ],
                 [
                  51.281508825000174,
                  36.69748705500018
                 ],
                 [
                  51.284744892000106,
                  36.69720152000025
                 ],
                 [
                  51.28557497400021,
                  36.69730528000014
                 ],
                 [
                  51.288552030000176,
                  36.69767741200019
                 ],
                 [
                  51.29635666200022,
                  36.6965352710003
                 ],
                 [
                  51.31958020100018,
                  36.69453652400017
                 ],
                 [
                  51.322625912000206,
                  36.69377509600008
                 ],
                 [
                  51.326718584000105,
                  36.6931088470003
                 ],
                 [
                  51.336902677000126,
                  36.69244259800013
                 ],
                 [
                  51.35260712100029,
                  36.690919743000165
                 ],
                 [
                  51.36269603500017,
                  36.69015831600012
                 ],
                 [
                  51.36659835100028,
                  36.69015831600012
                 ],
                 [
                  51.36916816900009,
                  36.68930171000011
                 ],
                 [
                  51.386681002000216,
                  36.68901617400013
                 ],
                 [
                  51.38971658500009,
                  36.68875530400021
                 ],
                 [
                  51.39886384200014,
                  36.68796921100011
                 ],
                 [
                  51.41133221800027,
                  36.686731892000125
                 ],
                 [
                  51.42085006100024,
                  36.68654153500012
                 ],
                 [
                  51.426084876000175,
                  36.68558975000013
                 ],
                 [
                  51.430272727000215,
                  36.68416207400014
                 ],
                 [
                  51.434650936000196,
                  36.68083082800018
                 ],
                 [
                  51.440551999000206,
                  36.67730922600015
                 ],
                 [
                  51.44388324400023,
                  36.67492976500017
                 ],
                 [
                  51.44645306200022,
                  36.67369244500014
                 ],
                 [
                  51.45133447300009,
                  36.67352116700016
                 ],
                 [
                  51.451878233000116,
                  36.67350208800025
                 ],
                 [
                  51.454733587000135,
                  36.67131298400017
                 ],
                 [
                  51.460539471000175,
                  36.66645888400018
                 ],
                 [
                  51.46368036000024,
                  36.66446013700022
                 ],
                 [
                  51.46881999600009,
                  36.66322281700019
                 ],
                 [
                  51.47862337500021,
                  36.661795140000095
                 ],
                 [
                  51.4834774750002,
                  36.66103371300022
                 ],
                 [
                  51.48604729300024,
                  36.65932050100008
                 ],
                 [
                  51.49118692900021,
                  36.6583687170002
                 ],
                 [
                  51.49689763500021,
                  36.65903496600015
                 ],
                 [
                  51.49908674000022,
                  36.65979639300019
                 ],
                 [
                  51.50070477300028,
                  36.6583687170002
                 ],
                 [
                  51.500895129000185,
                  36.65627479100016
                 ],
                 [
                  51.500609595000185,
                  36.65522782800031
                 ],
                 [
                  51.50184691400017,
                  36.65332425900027
                 ],
                 [
                  51.50498780300023,
                  36.652658010000096
                 ],
                 [
                  51.50993708200025,
                  36.651420690000236
                 ],
                 [
                  51.51640921600017,
                  36.64970747800021
                 ],
                 [
                  51.52288135000009,
                  36.64685212500012
                 ],
                 [
                  51.528401699000256,
                  36.64523409200012
                 ],
                 [
                  51.53230401500019,
                  36.64494855600009
                 ],
                 [
                  51.53573043800009,
                  36.64314016600025
                 ],
                 [
                  51.538871328000084,
                  36.641807668000126
                 ],
                 [
                  51.545248283000205,
                  36.63904749300025
                 ],
                 [
                  51.550007205000156,
                  36.63790535200019
                 ],
                 [
                  51.555432376000226,
                  36.636572854000235
                 ],
                 [
                  51.56152379600013,
                  36.635335534000205
                 ],
                 [
                  51.56609236200012,
                  36.6346692850002
                 ],
                 [
                  51.56999467800023,
                  36.63314643000024
                 ],
                 [
                  51.572659674000306,
                  36.63190911000021
                 ],
                 [
                  51.57551502600012,
                  36.62981518400011
                 ],
                 [
                  51.577513774000124,
                  36.62914893500016
                 ],
                 [
                  51.5795125220003,
                  36.62886340000023
                 ],
                 [
                  51.5815112690002,
                  36.62715018800009
                 ],
                 [
                  51.58550876300018,
                  36.62286715800025
                 ],
                 [
                  51.59083875600021,
                  36.617727523000156
                 ],
                 [
                  51.60073731400013,
                  36.61515770500017
                 ],
                 [
                  51.612634619000175,
                  36.61077949600019
                 ],
                 [
                  51.62353083900024,
                  36.60764594300019
                 ],
                 [
                  51.627196920000245,
                  36.60659164500015
                 ],
                 [
                  51.64366279000018,
                  36.6022134370001
                 ],
                 [
                  51.64804099900016,
                  36.60011951100023
                 ],
                 [
                  51.650801173000275,
                  36.59954844000015
                 ],
                 [
                  51.65451313300025,
                  36.59964361900012
                 ],
                 [
                  51.656892594000226,
                  36.59897737000017
                 ],
                 [
                  51.658986519000166,
                  36.597835229000225
                 ],
                 [
                  51.66412615400009,
                  36.59716897900017
                 ],
                 [
                  51.66736222200012,
                  36.597264158000144
                 ],
                 [
                  51.66926579100016,
                  36.59716897900017
                 ],
                 [
                  51.67269221400028,
                  36.59640755200013
                 ],
                 [
                  51.674215070000116,
                  36.59574130300018
                 ],
                 [
                  51.677736671000105,
                  36.59497987500026
                 ],
                 [
                  51.682305237000094,
                  36.59450398300015
                 ],
                 [
                  51.685541305000186,
                  36.59421844800022
                 ],
                 [
                  51.687540051000155,
                  36.59374255600011
                 ],
                 [
                  51.690871297000115,
                  36.59260041400012
                 ],
                 [
                  51.69867592900016,
                  36.59260041400012
                 ],
                 [
                  51.712381624000216,
                  36.59079202400022
                 ],
                 [
                  51.71894893700011,
                  36.590030596000304
                 ],
                 [
                  51.727610175000166,
                  36.58936434700013
                 ],
                 [
                  51.73170284800017,
                  36.58888845500019
                 ],
                 [
                  51.742648368000175,
                  36.58822220600024
                 ],
                 [
                  51.76377798200019,
                  36.586413816000174
                 ],
                 [
                  51.77795957000012,
                  36.586318637000204
                 ],
                 [
                  51.787858127000106,
                  36.586318637000204
                 ],
                 [
                  51.7984229340002,
                  36.5856523880002
                 ],
                 [
                  51.80270596400021,
                  36.58489096100021
                 ],
                 [
                  51.806227566000246,
                  36.58441506800017
                 ],
                 [
                  51.81060577400012,
                  36.58374881900022
                 ],
                 [
                  51.81403219800012,
                  36.58336810600025
                 ],
                 [
                  51.8166971950003,
                  36.58127418000015
                 ],
                 [
                  51.81955254800022,
                  36.57956096800018
                 ],
                 [
                  51.8241211130001,
                  36.577752578000116
                 ],
                 [
                  51.83068842500029,
                  36.57575383000011
                 ],
                 [
                  51.841253232000156,
                  36.57385026200018
                 ],
                 [
                  51.853423910000174,
                  36.57302791800015
                 ],
                 [
                  51.855339641000114,
                  36.572898477000194
                 ],
                 [
                  51.87389943700009,
                  36.57213705000015
                 ],
                 [
                  51.9069263570002,
                  36.57051901600022
                 ],
                 [
                  51.9331804680001,
                  36.57134498800019
                 ],
                 [
                  51.949280762000114,
                  36.57185151400017
                 ],
                 [
                  51.97726322300019,
                  36.57432615400012
                 ],
                 [
                  51.991826631000094,
                  36.57622809100019
                 ],
                 [
                  52.00277104500026,
                  36.577657399000145
                 ],
                 [
                  52.03113422200016,
                  36.58289221300021
                 ],
                 [
                  52.036940105000156,
                  36.583653641000126
                 ],
                 [
                  52.040937600000234,
                  36.58460542500018
                 ],
                 [
                  52.047314555000185,
                  36.58498613900025
                 ],
                 [
                  52.064781936000145,
                  36.58835224800015
                 ],
                 [
                  52.065588816000115,
                  36.588507741000114
                 ],
                 [
                  52.09947234100025,
                  36.59583648100022
                 ],
                 [
                  52.14135085400011,
                  36.60583021700023
                 ],
                 [
                  52.15534208500014,
                  36.61077949600019
                 ],
                 [
                  52.17484196100014,
                  36.61594502700012
                 ],
                 [
                  52.1840859740002,
                  36.61839377200016
                 ],
                 [
                  52.217683963000184,
                  36.62800679400027
                 ],
                 [
                  52.24557124600017,
                  36.635335534000205
                 ],
                 [
                  52.26993692700012,
                  36.64085588300014
                 ],
                 [
                  52.2813583410001,
                  36.64447266400015
                 ],
                 [
                  52.291365561000134,
                  36.647197845000164
                 ],
                 [
                  52.30267831000015,
                  36.65027854900012
                 ],
                 [
                  52.31514668600022,
                  36.65284836700016
                 ],
                 [
                  52.32533231400009,
                  36.654945408000174
                 ],
                 [
                  52.34427128900012,
                  36.65884460900014
                 ],
                 [
                  52.37177785800009,
                  36.665602278000165
                 ],
                 [
                  52.405484395000144,
                  36.67382113200017
                 ],
                 [
                  52.406517989000236,
                  36.67407315900016
                 ],
                 [
                  52.42079475500026,
                  36.67835618900017
                 ],
                 [
                  52.435832947000165,
                  36.681972970000174
                 ],
                 [
                  52.46286362500024,
                  36.68520903700016
                 ],
                 [
                  52.469887227000186,
                  36.68614048200021
                 ],
                 [
                  52.48941841100026,
                  36.6887306390002
                 ],
                 [
                  52.49998321700025,
                  36.690443851000225
                 ],
                 [
                  52.53452671000014,
                  36.694401959000174
                 ],
                 [
                  52.53653173800012,
                  36.694631702000265
                 ],
                 [
                  52.5674647310002,
                  36.6962497360002
                 ],
                 [
                  52.58017656200013,
                  36.69869257900024
                 ],
                 [
                  52.594209873000125,
                  36.70138937100029
                 ],
                 [
                  52.641418379000186,
                  36.71014578800009
                 ],
                 [
                  52.65264943500023,
                  36.71252524900024
                 ],
                 [
                  52.664832276000254,
                  36.714619175000166
                 ],
                 [
                  52.66753116700016,
                  36.714776698000094
                 ],
                 [
                  52.68929313500024,
                  36.71604685100016
                 ],
                 [
                  52.7149814230001,
                  36.721330258000194
                 ],
                 [
                  52.7161334540001,
                  36.7215672010002
                 ],
                 [
                  52.75391929600016,
                  36.72851522700023
                 ],
                 [
                  52.78437639700013,
                  36.73175129400022
                 ],
                 [
                  52.811502252000196,
                  36.73546325300015
                 ],
                 [
                  52.83405954300031,
                  36.74069806700015
                 ],
                 [
                  52.845500962000244,
                  36.74323090100012
                 ],
                 [
                  52.87146466900009,
                  36.74897859200024
                 ],
                 [
                  52.90820354700014,
                  36.75744947300012
                 ],
                 [
                  52.91933808500022,
                  36.760479974000134
                 ],
                 [
                  52.939326897000115,
                  36.765920354000116
                 ],
                 [
                  52.97663684600013,
                  36.77572373300029
                 ],
                 [
                  52.995196641000234,
                  36.78076819100022
                 ],
                 [
                  53.0061759940001,
                  36.78357093700009
                 ],
                 [
                  53.04031122200024,
                  36.79228478200014
                 ],
                 [
                  53.07248153400019,
                  36.80170744700024
                 ],
                 [
                  53.1125516580002,
                  36.8141758230002
                 ],
                 [
                  53.12549592600027,
                  36.81674564100018
                 ],
                 [
                  53.1467207180001,
                  36.82140938500021
                 ],
                 [
                  53.15704289300021,
                  36.82328614400018
                 ],
                 [
                  53.161378198000136,
                  36.824074381000116
                 ],
                 [
                  53.198117076000244,
                  36.8306416930003
                 ],
                 [
                  53.20544581600018,
                  36.83140312100022
                 ],
                 [
                  53.20820599100023,
                  36.83130794200025
                 ],
                 [
                  53.20925295400025,
                  36.83092722900011
                 ],
                 [
                  53.21144205800016,
                  36.83073687200027
                 ],
                 [
                  53.21458294600018,
                  36.832259727000235
                 ],
                 [
                  53.224195969000164,
                  36.83416329600027
                 ],
                 [
                  53.24105190900025,
                  36.83710996400015
                 ],
                 [
                  53.254731244000084,
                  36.839501315000234
                 ],
                 [
                  53.26374858700018,
                  36.84124235200011
                 ],
                 [
                  53.273290225000096,
                  36.84288418000028
                 ],
                 [
                  53.28114244700015,
                  36.84413339700012
                 ],
                 [
                  53.29071977700016,
                  36.8456800470002
                 ],
                 [
                  53.29922635000014,
                  36.846929264000096
                 ],
                 [
                  53.30571038200014,
                  36.84788104800015
                 ],
                 [
                  53.3149307930002,
                  36.84895180500018
                 ],
                 [
                  53.32980242400009,
                  36.85085537400022
                 ],
                 [
                  53.341521270000214,
                  36.8518071590002
                 ],
                 [
                  53.35093203800011,
                  36.85341329500022
                 ],
                 [
                  53.36276985700016,
                  36.8547814850001
                 ],
                 [
                  53.37460767500016,
                  36.85656608100015
                 ],
                 [
                  53.39589433300017,
                  36.85957609900015
                 ],
                 [
                  53.41074217000022,
                  36.86128931100012
                 ],
                 [
                  53.42787428900016,
                  36.86300252300015
                 ],
                 [
                  53.445720247000224,
                  36.86514403800015
                 ],
                 [
                  53.455595010000195,
                  36.86601492000028
                 ],
                 [
                  53.470062133000226,
                  36.86829920300016
                 ],
                 [
                  53.4795799770003,
                  36.869060630000206
                 ],
                 [
                  53.4866231810002,
                  36.87001241500019
                 ],
                 [
                  53.49633138200011,
                  36.87115455600025
                 ],
                 [
                  53.507752795000215,
                  36.87210634000013
                 ],
                 [
                  53.51784171000014,
                  36.872867768000276
                 ],
                 [
                  53.53078597800021,
                  36.874009909000165
                 ],
                 [
                  53.54696631200011,
                  36.875723121000135
                 ],
                 [
                  53.56181414900021,
                  36.87667490600012
                 ],
                 [
                  53.576281272000244,
                  36.878768831000116
                 ],
                 [
                  53.58903518300025,
                  36.879530259000205
                 ],
                 [
                  53.59812402000023,
                  36.88068128300023
                 ],
                 [
                  53.60469133300012,
                  36.88142367500018
                 ],
                 [
                  53.610287825000114,
                  36.88188053200008
                 ],
                 [
                  53.615541675000145,
                  36.882680031000234
                 ],
                 [
                  53.6201102400002,
                  36.883365315000106
                 ],
                 [
                  53.62587805400017,
                  36.88376506500015
                 ],
                 [
                  53.631817188000184,
                  36.88456456400013
                 ],
                 [
                  53.63659133900023,
                  36.885105177000185
                 ],
                 [
                  53.64258758100027,
                  36.8858666050001
                 ],
                 [
                  53.64839346500014,
                  36.886152140000206
                 ],
                 [
                  53.65467524200022,
                  36.886342497000214
                 ],
                 [
                  53.65829202300023,
                  36.886818389000155
                 ],
                 [
                  53.66352683700012,
                  36.887294281000095
                 ],
                 [
                  53.67057004200012,
                  36.88815088700011
                 ],
                 [
                  53.68036152400009,
                  36.8889301610003
                 ],
                 [
                  53.690028084000176,
                  36.88952502600023
                 ],
                 [
                  53.699099779000164,
                  36.8902686080001
                 ],
                 [
                  53.70642257100013,
                  36.89068178400015
                 ],
                 [
                  53.715100300000245,
                  36.89178957900009
                 ],
                 [
                  53.71760603700017,
                  36.89210946000014
                 ],
                 [
                  53.72807566600022,
                  36.8932991910001
                 ],
                 [
                  53.73783145600021,
                  36.89401302900018
                 ],
                 [
                  53.74853903000013,
                  36.8954407060001
                 ],
                 [
                  53.761150174000136,
                  36.897106328000234
                 ],
                 [
                  53.77233364100027,
                  36.89805811300022
                 ],
                 [
                  53.784944784000174,
                  36.89972373500018
                 ],
                 [
                  53.79122758700015,
                  36.900477672000136
                 ],
                 [
                  53.79707333400023,
                  36.89240430900014
                 ],
                 [
                  53.80378341400012,
                  36.883409947000246
                 ],
                 [
                  53.808351979000236,
                  36.87669986600008
                 ],
                 [
                  53.80423876700024,
                  36.87675320000022
                 ],
                 [
                  53.79654987200024,
                  36.87584862400013
                 ],
                 [
                  53.78871021400016,
                  36.87630091200009
                 ],
                 [
                  53.78147360700012,
                  36.87675320000022
                 ],
                 [
                  53.77288013600008,
                  36.878110064000225
                 ],
                 [
                  53.766554699000096,
                  36.87716151100017
                 ],
                 [
                  53.76323132600021,
                  36.87584862400013
                 ],
                 [
                  53.75825615900021,
                  36.87283337100018
                 ],
                 [
                  53.75388404200021,
                  36.87011964300018
                 ],
                 [
                  53.74800429900017,
                  36.86981811800018
                 ],
                 [
                  53.74109936900015,
                  36.87027040600009
                 ],
                 [
                  53.737782591000155,
                  36.86996888100009
                 ],
                 [
                  53.736124202000155,
                  36.867104391000225
                 ],
                 [
                  53.73416428700011,
                  36.86439066300022
                 ],
                 [
                  53.72662615500025,
                  36.86439066300022
                 ],
                 [
                  53.72119870000017,
                  36.863938375000146
                 ],
                 [
                  53.713509804000296,
                  36.86363685000015
                 ],
                 [
                  53.71245953200025,
                  36.86328111200021
                 ],
                 [
                  53.704162520000125,
                  36.86047083400018
                 ],
                 [
                  53.69421218500008,
                  36.85956625800014
                 ],
                 [
                  53.68652329000025,
                  36.858963207000215
                 ],
                 [
                  53.67823134500014,
                  36.858963207000215
                 ],
                 [
                  53.666427124000165,
                  36.86061522000023
                 ],
                 [
                  53.66047847200019,
                  36.85883062400018
                 ],
                 [
                  53.652745223000124,
                  36.86269724800019
                 ],
                 [
                  53.64471454200009,
                  36.86210238300009
                 ],
                 [
                  53.639063322000254,
                  36.86388697900014
                 ],
                 [
                  53.63063838000022,
                  36.86232833900016
                 ],
                 [
                  53.62567885400017,
                  36.86358954600013
                 ],
                 [
                  53.61764817300019,
                  36.86626644000012
                 ],
                 [
                  53.60932006000024,
                  36.86775360300015
                 ],
                 [
                  53.60366884000018,
                  36.868943333000175
                 ],
                 [
                  53.59861248500022,
                  36.868051035000235
                 ],
                 [
                  53.594448429000124,
                  36.866861305000214
                 ],
                 [
                  53.59087923700025,
                  36.864184411000224
                 ],
                 [
                  53.5890946410002,
                  36.86180495000025
                 ],
                 [
                  53.58471643300015,
                  36.862304637000136
                 ],
                 [
                  53.57957679700013,
                  36.86154320900022
                 ],
                 [
                  53.572343236000165,
                  36.8604010680001
                 ],
                 [
                  53.56301574900016,
                  36.85982999700019
                 ],
                 [
                  53.556010616000094,
                  36.85944928400022
                 ],
                 [
                  53.55772382700019,
                  36.85621321700023
                 ],
                 [
                  53.56038882400014,
                  36.856974644000104
                 ],
                 [
                  53.563601096000184,
                  36.85602286000022
                 ],
                 [
                  53.56831242900017,
                  36.85430964800025
                 ],
                 [
                  53.57195300400019,
                  36.85352442600009
                 ],
                 [
                  53.573880368000175,
                  36.85295335500018
                 ],
                 [
                  53.57516527700017,
                  36.85159706200017
                 ],
                 [
                  53.57766371100013,
                  36.85102599200013
                 ],
                 [
                  53.580019377000156,
                  36.84931278000016
                 ],
                 [
                  53.581803973000206,
                  36.84874170900025
                 ],
                 [
                  53.58423102300014,
                  36.8488130930001
                 ],
                 [
                  53.586729457000274,
                  36.84902724500023
                 ],
                 [
                  53.58808575000012,
                  36.84809925500019
                 ],
                 [
                  53.59008449700019,
                  36.846457427000246
                 ],
                 [
                  53.592011861000174,
                  36.84453006300009
                 ],
                 [
                  53.59351092100019,
                  36.84224578100009
                 ],
                 [
                  53.593439537000165,
                  36.84081810400022
                 ],
                 [
                  53.59293985000011,
                  36.839818730000104
                 ],
                 [
                  53.59186909300024,
                  36.83974734700013
                 ],
                 [
                  53.59086971900018,
                  36.840960872000096
                 ],
                 [
                  53.589156507000155,
                  36.842174397000235
                 ],
                 [
                  53.58751467900021,
                  36.84281685100012
                 ],
                 [
                  53.58637253800009,
                  36.84188886200013
                 ],
                 [
                  53.58615362800015,
                  36.840885324000226
                 ],
                 [
                  53.585766965000175,
                  36.84020122900023
                 ],
                 [
                  53.58517210000025,
                  36.839249444000245
                 ],
                 [
                  53.58386339600014,
                  36.838059714000224
                 ],
                 [
                  53.58332801800009,
                  36.83722690300016
                 ],
                 [
                  53.58332801800009,
                  36.83615614500019
                 ],
                 [
                  53.58362545000017,
                  36.83508538800015
                 ],
                 [
                  53.583419627000126,
                  36.83375836200014
                 ],
                 [
                  53.58393359000013,
                  36.832844649000094
                 ],
                 [
                  53.585589695000294,
                  36.83153118700017
                 ],
                 [
                  53.58621787300018,
                  36.82970376100013
                 ],
                 [
                  53.58604655200014,
                  36.828218977000176
                 ],
                 [
                  53.58524705300016,
                  36.827248157000156
                 ],
                 [
                  53.58393359000013,
                  36.82639155100014
                 ],
                 [
                  53.582391700000244,
                  36.826277337000136
                 ],
                 [
                  53.58124955800025,
                  36.825934694000125
                 ],
                 [
                  53.57987898900029,
                  36.826220230000104
                 ],
                 [
                  53.578394205000166,
                  36.82576337300026
                 ],
                 [
                  53.57656677900013,
                  36.82519230300022
                 ],
                 [
                  53.57513910300014,
                  36.825706266000225
                 ],
                 [
                  53.57354010500018,
                  36.8242214830002
                 ],
                 [
                  53.57182689300015,
                  36.82325066200025
                 ],
                 [
                  53.5707989660001,
                  36.821822986000086
                 ],
                 [
                  53.5693141820002,
                  36.82130902200021
                 ],
                 [
                  53.56760097000017,
                  36.821480343000246
                 ],
                 [
                  53.56565933000013,
                  36.82227984200023
                 ],
                 [
                  53.5639461180001,
                  36.82205141400016
                 ],
                 [
                  53.56286970600024,
                  36.822180451000236
                 ],
                 [
                  53.56160472800019,
                  36.82262248500024
                 ],
                 [
                  53.55983440900019,
                  36.82427859000023
                 ],
                 [
                  53.55772144800022,
                  36.82559205200016
                 ],
                 [
                  53.55509452300021,
                  36.826220230000104
                 ],
                 [
                  53.551610992000235,
                  36.827419478000195
                 ],
                 [
                  53.54847010400022,
                  36.82844740500025
                 ],
                 [
                  53.54681399900022,
                  36.82884715500012
                 ],
                 [
                  53.54424418100024,
                  36.82907558300019
                 ],
                 [
                  53.54133172100012,
                  36.82890426200015
                 ],
                 [
                  53.53847636700016,
                  36.82970376100013
                 ],
                 [
                  53.53653472700023,
                  36.830160617000104
                 ],
                 [
                  53.533450946000244,
                  36.8294182250001
                 ],
                 [
                  53.5312808770002,
                  36.82930401100009
                 ],
                 [
                  53.52863967600024,
                  36.8285987390002
                 ],
                 [
                  53.52471356500024,
                  36.828384587000244
                 ],
                 [
                  53.52242928200013,
                  36.828384587000244
                 ],
                 [
                  53.52207236300018,
                  36.82931257700028
                 ],
                 [
                  53.52307173700024,
                  36.83038333500019
                 ],
                 [
                  53.52378557500015,
                  36.831239941000206
                 ],
                 [
                  53.52264343400009,
                  36.83166824400024
                 ],
                 [
                  53.51994517900022,
                  36.83174160200025
                 ],
                 [
                  53.5168042370002,
                  36.83081163800023
                 ],
                 [
                  53.51273535800027,
                  36.83002641600024
                 ],
                 [
                  53.51002277300023,
                  36.82959811300009
                 ],
                 [
                  53.507310187000144,
                  36.8290984260002
                 ],
                 [
                  53.50217055100018,
                  36.830240567000146
                 ],
                 [
                  53.497173683000085,
                  36.830240567000146
                 ],
                 [
                  53.49389002700019,
                  36.830240567000146
                 ],
                 [
                  53.49017806800009,
                  36.83031195100017
                 ],
                 [
                  53.485752270000205,
                  36.83052610200019
                 ],
                 [
                  53.472307952000165,
                  36.8330367260001
                 ],
                 [
                  53.47351775700014,
                  36.829327439000224
                 ],
                 [
                  53.470805172000155,
                  36.82818529700023
                 ],
                 [
                  53.47180454500017,
                  36.82604378300016
                 ],
                 [
                  53.4737081140002,
                  36.82423539200022
                 ],
                 [
                  53.47580204000025,
                  36.82190352000015
                 ],
                 [
                  53.4783242690001,
                  36.819857184000114
                 ],
                 [
                  53.48179828200023,
                  36.81866745300022
                 ],
                 [
                  53.4843205100002,
                  36.81814397200014
                 ],
                 [
                  53.486652382000216,
                  36.817715669000165
                 ],
                 [
                  53.48850836200012,
                  36.8175253120001
                 ],
                 [
                  53.48984086000024,
                  36.818048794000276
                 ],
                 [
                  53.49103059000009,
                  36.81833432900015
                 ],
                 [
                  53.4930293380001,
                  36.81823915000018
                 ],
                 [
                  53.49421906800012,
                  36.81757290100023
                 ],
                 [
                  53.495551566000245,
                  36.81614522500024
                 ],
                 [
                  53.49726477800027,
                  36.81357540700026
                 ],
                 [
                  53.498635348000164,
                  36.8118146060001
                 ],
                 [
                  53.50020579200026,
                  36.809244788000115
                 ],
                 [
                  53.501871415000096,
                  36.80933996600015
                 ],
                 [
                  53.50367980500016,
                  36.80962550200019
                 ],
                 [
                  53.50529783900009,
                  36.80986344800016
                 ],
                 [
                  53.506582748000085,
                  36.810291751000136
                 ],
                 [
                  53.5061068550001,
                  36.81119594600028
                 ],
                 [
                  53.506297212000106,
                  36.81214773000016
                 ],
                 [
                  53.50824844200025,
                  36.81271947700009
                 ],
                 [
                  53.510056761000214,
                  36.81252844400018
                 ],
                 [
                  53.51162720500014,
                  36.81157666000013
                 ],
                 [
                  53.51305488100013,
                  36.810672464000106
                 ],
                 [
                  53.51457773600009,
                  36.81095800000014
                 ],
                 [
                  53.515470293000135,
                  36.810882432000085
                 ],
                 [
                  53.51667366500021,
                  36.811024014000225
                 ],
                 [
                  53.517718625000214,
                  36.81091041100018
                 ],
                 [
                  53.51928906900025,
                  36.81038692900023
                 ],
                 [
                  53.519717372000116,
                  36.80929237700025
                 ],
                 [
                  53.52109746000025,
                  36.80805505700016
                 ],
                 [
                  53.52214442200017,
                  36.80748398700018
                 ],
                 [
                  53.52401762100021,
                  36.80657430400015
                 ],
                 [
                  53.52722982900025,
                  36.8065886440001
                 ],
                 [
                  53.53301769700022,
                  36.80653532700018
                 ],
                 [
                  53.53509541200009,
                  36.80651940200022
                 ],
                 [
                  53.538069929000244,
                  36.8064966030002
                 ],
                 [
                  53.543693549000125,
                  36.80645350000009
                 ],
                 [
                  53.54778685200017,
                  36.80642198900023
                 ],
                 [
                  53.55018248300024,
                  36.806402558000116
                 ],
                 [
                  53.55248285400023,
                  36.80622898400014
                 ],
                 [
                  53.55543290100013,
                  36.8058887360001
                 ],
                 [
                  53.560662980000245,
                  36.805258966000224
                 ],
                 [
                  53.566343503000155,
                  36.80457442500011
                 ],
                 [
                  53.57045851900011,
                  36.80408003200017
                 ],
                 [
                  53.57276947000008,
                  36.80380238600014
                 ],
                 [
                  53.57571653000019,
                  36.80422971300021
                 ],
                 [
                  53.57812142100016,
                  36.80394550500017
                 ],
                 [
                  53.58085548100024,
                  36.80374554500014
                 ],
                 [
                  53.583273194000185,
                  36.80349328700021
                 ],
                 [
                  53.58550689500015,
                  36.80315395900021
                 ],
                 [
                  53.58657883700022,
                  36.80299113600012
                 ],
                 [
                  53.597546011000304,
                  36.79874912100024
                 ],
                 [
                  53.61087099300022,
                  36.793990198000245
                 ],
                 [
                  53.62062678300026,
                  36.79042100700025
                 ],
                 [
                  53.6280031120001,
                  36.78732770800019
                 ],
                 [
                  53.63680711800009,
                  36.78280673200021
                 ],
                 [
                  53.651912056000185,
                  36.77632945600021
                 ],
                 [
                  53.65338102800024,
                  36.77784163300015
                 ],
                 [
                  53.6535713840002,
                  36.782219841000256
                 ],
                 [
                  53.65309549100016,
                  36.78450412400014
                 ],
                 [
                  53.65223888600025,
                  36.788882332000185
                 ],
                 [
                  53.65338102800024,
                  36.79097625800023
                 ],
                 [
                  53.656046025000194,
                  36.793165362000195
                 ],
                 [
                  53.657957076000116,
                  36.79488914200016
                 ],
                 [
                  53.66090012400031,
                  36.797543570000244
                 ],
                 [
                  53.664326548000304,
                  36.7991616030003
                 ],
                 [
                  53.67146493100017,
                  36.79697249900016
                 ],
                 [
                  53.68459955600025,
                  36.79440268100018
                 ],
                 [
                  53.7022075670003,
                  36.79164250700023
                 ],
                 [
                  53.71324826700021,
                  36.789834116000236
                 ],
                 [
                  53.71571463200024,
                  36.78991059200018
                 ],
                 [
                  53.72552628500023,
                  36.79021483000014
                 ],
                 [
                  53.73371163100012,
                  36.79107143600015
                 ],
                 [
                  53.7491305380002,
                  36.7934508970003
                 ],
                 [
                  53.75988570200013,
                  36.79440268100018
                 ],
                 [
                  53.765881944000114,
                  36.79373643200017
                 ],
                 [
                  53.77225889900012,
                  36.792689470000084
                 ],
                 [
                  53.78767909300018,
                  36.79356811300022
                 ],
                 [
                  53.79720729300021,
                  36.79380933400017
                 ],
                 [
                  53.80806220400012,
                  36.7918795720002
                 ],
                 [
                  53.82132931700016,
                  36.78802004800025
                 ],
                 [
                  53.83254605800016,
                  36.78802004800025
                 ],
                 [
                  53.83893839400025,
                  36.786210896000114
                 ],
                 [
                  53.84906964400011,
                  36.785246015000155
                 ],
                 [
                  53.84967269500015,
                  36.78355747300026
                 ],
                 [
                  53.8505169660001,
                  36.778250628000194
                 ],
                 [
                  53.8481351760002,
                  36.76537142400019
                 ],
                 [
                  53.84870624700011,
                  36.75918482600025
                 ],
                 [
                  53.851942313000166,
                  36.752522335000094
                 ],
                 [
                  53.8556542730002,
                  36.74862001900016
                 ],
                 [
                  53.85546391600013,
                  36.74576466600024
                 ],
                 [
                  53.85137124300019,
                  36.74186235000013
                 ],
                 [
                  53.849658030000114,
                  36.73910217500014
                 ],
                 [
                  53.85013392300016,
                  36.73434325300019
                 ],
                 [
                  53.850514637000174,
                  36.73053611500012
                 ],
                 [
                  53.850324280000166,
                  36.72587237200014
                 ],
                 [
                  53.85175195700009,
                  36.72044720000014
                 ],
                 [
                  53.8538458820002,
                  36.71664006300017
                 ],
                 [
                  53.85336999000009,
                  36.71045346400018
                 ],
                 [
                  53.851466421000225,
                  36.703410260000226
                 ],
                 [
                  53.84842071100013,
                  36.6930358100002
                 ],
                 [
                  53.84784964100015,
                  36.68675403300011
                 ],
                 [
                  53.850038745000234,
                  36.68161439700009
                 ],
                 [
                  53.85298927700012,
                  36.67761690200018
                 ],
                 [
                  53.85812891100011,
                  36.673143516000096
                 ],
                 [
                  53.86269876700021,
                  36.67136635000014
                 ],
                 [
                  53.864981760000205,
                  36.67047851900014
                 ],
                 [
                  53.87002621700026,
                  36.66990744900011
                 ],
                 [
                  53.87821156300015,
                  36.6697932350001
                 ],
                 [
                  53.88277815500015,
                  36.67061207200027
                 ],
                 [
                  53.894772612000224,
                  36.67276280200019
                 ],
                 [
                  53.93075006100014,
                  36.67813086600029
                 ],
                 [
                  53.941391551000265,
                  36.678811921000204
                 ],
                 [
                  53.94502682800021,
                  36.679044579000106
                 ],
                 [
                  53.95621981300019,
                  36.67607501200018
                 ],
                 [
                  53.96467165800027,
                  36.67059273300015
                 ],
                 [
                  53.97472250200019,
                  36.6604276760001
                 ],
                 [
                  53.9824890620003,
                  36.65368904300021
                 ],
                 [
                  53.98865662500015,
                  36.65209004500025
                 ],
                 [
                  53.99635850600015,
                  36.65010952800009
                 ],
                 [
                  54.0020295180002,
                  36.65004477200023
                 ],
                 [
                  54.0043534950002,
                  36.65001815600016
                 ],
                 [
                  54.01112513700025,
                  36.64930896400011
                 ],
                 [
                  54.01787644700016,
                  36.64860190100012
                 ],
                 [
                  54.03797813400013,
                  36.644855678000226
                 ],
                 [
                  54.047252321000144,
                  36.64216022400018
                 ],
                 [
                  54.06356209900014,
                  36.63603834700018
                 ],
                 [
                  54.0801003040001,
                  36.62859158600014
                 ],
                 [
                  54.095770483000194,
                  36.61950014100012
                 ],
                 [
                  54.10856246500026,
                  36.61091123900019
                 ],
                 [
                  54.11829350900018,
                  36.60227665100018
                 ],
                 [
                  54.1247808710001,
                  36.59336794900008
                 ],
                 [
                  54.12825298100017,
                  36.58377396200024
                 ],
                 [
                  54.132273318000216,
                  36.570844923000095
                 ],
                 [
                  54.133187031000205,
                  36.55800725500018
                 ],
                 [
                  54.13213626100014,
                  36.546905641000194
                 ],
                 [
                  54.130720006000104,
                  36.53297151800024
                 ],
                 [
                  54.12994335000013,
                  36.52100187700023
                 ],
                 [
                  54.12839003800025,
                  36.509214979000205
                 ],
                 [
                  54.1281159240001,
                  36.50190527500024
                 ],
                 [
                  54.12827609200019,
                  36.49569137600008
                 ],
                 [
                  54.11413699900015,
                  36.491445131000205
                 ],
                 [
                  54.0984801460001,
                  36.4879711180003
                 ],
                 [
                  54.08477445000011,
                  36.482926660000146
                 ],
                 [
                  54.070973576000085,
                  36.47569309900018
                 ],
                 [
                  54.06050394800013,
                  36.46950650000019
                 ],
                 [
                  54.04951083800023,
                  36.46341508000012
                 ],
                 [
                  54.03461541200022,
                  36.456609821000086
                 ],
                 [
                  54.02963678600025,
                  36.45477860300025
                 ],
                 [
                  54.02219462600016,
                  36.45204125600014
                 ],
                 [
                  54.010011786000234,
                  36.4500900980002
                 ],
                 [
                  54.001255369000205,
                  36.451470186000165
                 ],
                 [
                  53.99435896700015,
                  36.451827534000245
                 ],
                 [
                  53.983013697000274,
                  36.44931482400017
                 ],
                 [
                  53.96116072800021,
                  36.44725896900019
                 ],
                 [
                  53.93854633100017,
                  36.4420812620001
                 ],
                 [
                  53.927581773000156,
                  36.43469541500019
                 ],
                 [
                  53.91745478800027,
                  36.425634428000194
                 ],
                 [
                  53.90496737600017,
                  36.41131959000023
                 ],
                 [
                  53.89110939600022,
                  36.397233181000104
                 ],
                 [
                  53.87907884100014,
                  36.377969065000116
                 ],
                 [
                  53.87615786800018,
                  36.36866046900013
                 ],
                 [
                  53.876767010000094,
                  36.364701046000164
                 ],
                 [
                  53.877490366000245,
                  36.36230254900022
                 ],
                 [
                  53.87924164900011,
                  36.36017055200011
                 ],
                 [
                  53.88537114100012,
                  36.35640148600021
                 ],
                 [
                  53.88910213600019,
                  36.35404106000016
                 ],
                 [
                  53.89085341900022,
                  36.353736489000084
                 ],
                 [
                  53.89629762600015,
                  36.35114763600018
                 ],
                 [
                  53.90257940300023,
                  36.34772121200018
                 ],
                 [
                  53.90722411100012,
                  36.34600800000021
                 ],
                 [
                  53.9203968070002,
                  36.33831758200017
                 ],
                 [
                  53.930409579000184,
                  36.33150280600012
                 ],
                 [
                  53.936310642000194,
                  36.32636317000015
                 ],
                 [
                  53.93836649700023,
                  36.3251448860002
                 ],
                 [
                  53.94198327700019,
                  36.32095703500022
                 ],
                 [
                  53.94628534300017,
                  36.31684532600025
                 ],
                 [
                  53.94853155400011,
                  36.31189604700012
                 ],
                 [
                  53.94971176700017,
                  36.30786048100015
                 ],
                 [
                  53.948988410000084,
                  36.30401527200024
                 ],
                 [
                  53.9479604830002,
                  36.29811420900023
                 ],
                 [
                  53.94544777200019,
                  36.29327914400011
                 ],
                 [
                  53.94270663300017,
                  36.285474512000235
                 ],
                 [
                  53.94118377800021,
                  36.28170544600016
                 ],
                 [
                  53.93867106800013,
                  36.27805059400026
                 ],
                 [
                  53.93528271500014,
                  36.27313938600014
                 ],
                 [
                  53.93277000400019,
                  36.26948453400024
                 ],
                 [
                  53.929572009000196,
                  36.26487789800012
                 ],
                 [
                  53.92648822700011,
                  36.26255554400018
                 ],
                 [
                  53.92386130200009,
                  36.2586341920001
                 ],
                 [
                  53.92211001900023,
                  36.256273767000096
                 ],
                 [
                  53.92081559200017,
                  36.25429405500023
                 ],
                 [
                  53.908061681000106,
                  36.242606143000216
                 ],
                 [
                  53.901817975000085,
                  36.23720000700024
                 ],
                 [
                  53.89420370000022,
                  36.230118731000175
                 ],
                 [
                  53.89047270500021,
                  36.226578093000114
                 ],
                 [
                  53.886056426000096,
                  36.22383695400026
                 ],
                 [
                  53.880726433000234,
                  36.220905458000175
                 ],
                 [
                  53.869647663000194,
                  36.215575466000246
                 ],
                 [
                  53.859596819000274,
                  36.21058811500012
                 ],
                 [
                  53.85221097200014,
                  36.207961190000105
                 ],
                 [
                  53.8478708360002,
                  36.206286050000244
                 ],
                 [
                  53.841817487000185,
                  36.2041921240002
                 ],
                 [
                  53.8296727180001,
                  36.19947127300014
                 ],
                 [
                  53.822401085000195,
                  36.19619713500009
                 ],
                 [
                  53.81950766000017,
                  36.19494078000014
                 ],
                 [
                  53.81436802500025,
                  36.192922997000096
                 ],
                 [
                  53.80835274700013,
                  36.189839215000234
                 ],
                 [
                  53.80416489600009,
                  36.188620931000116
                 ],
                 [
                  53.7995963310002,
                  36.187326504000225
                 ],
                 [
                  53.78330178200014,
                  36.17780866000015
                 ],
                 [
                  53.776364763000174,
                  36.17365969100018
                 ],
                 [
                  53.767608346000145,
                  36.16733984200016
                 ],
                 [
                  53.75953721600024,
                  36.15904028200015
                 ],
                 [
                  53.751999082000225,
                  36.15279657700023
                 ],
                 [
                  53.74674523100009,
                  36.145563015000164
                 ],
                 [
                  53.73745581600025,
                  36.135436029000175
                 ],
                 [
                  53.716744988000244,
                  36.12325318900025
                 ],
                 [
                  53.70950408500022,
                  36.11877263000014
                 ],
                 [
                  53.70296315000019,
                  36.11472520100017
                 ],
                 [
                  53.6895620250001,
                  36.10497892800015
                 ],
                 [
                  53.68111018000019,
                  36.10071493400011
                 ],
                 [
                  53.65209979000025,
                  36.09310065900013
                 ],
                 [
                  53.62217569000023,
                  36.09051180500012
                 ],
                 [
                  53.60519585600025,
                  36.08898895000016
                 ],
                 [
                  53.59643943900022,
                  36.08936966400023
                 ],
                 [
                  53.58943430600016,
                  36.09005494900015
                 ],
                 [
                  53.58357131400015,
                  36.09043566300022
                 ],
                 [
                  53.573520471000165,
                  36.09005494900015
                 ],
                 [
                  53.554941640000095,
                  36.0878468090001
                 ],
                 [
                  53.52775867700012,
                  36.08297367300008
                 ],
                 [
                  53.50666713500027,
                  36.0806893900002
                 ],
                 [
                  53.493037582000284,
                  36.07909039300017
                 ],
                 [
                  53.484052737000184,
                  36.07695839500013
                 ],
                 [
                  53.460676912000224,
                  36.07429339900028
                 ],
                 [
                  53.45245349500027,
                  36.0753593980001
                 ],
                 [
                  53.441108225000164,
                  36.07695839500013
                 ],
                 [
                  53.42961066900011,
                  36.075892397000246
                 ],
                 [
                  53.41095569500021,
                  36.071704546000205
                 ],
                 [
                  53.38483873100023,
                  36.06492784100021
                 ],
                 [
                  53.361919763000174,
                  36.05464856900022
                 ],
                 [
                  53.34722223000011,
                  36.04718380300022
                 ],
                 [
                  53.3275793800002,
                  36.03584130900015
                 ],
                 [
                  53.30359441400026,
                  36.0210696150001
                 ],
                 [
                  53.29072628900019,
                  36.01056191600014
                 ],
                 [
                  53.283340442000224,
                  36.0026430690001
                 ],
                 [
                  53.275497739000116,
                  35.99754150500024
                 ],
                 [
                  53.268264177000276,
                  35.992972940000186
                 ],
                 [
                  53.259466704000204,
                  35.987540653000224
                 ],
                 [
                  53.25261385600021,
                  35.98274366000021
                 ],
                 [
                  53.244314296000084,
                  35.979697950000116
                 ],
                 [
                  53.23251217000018,
                  35.97231210300015
                 ],
                 [
                  53.228400462000195,
                  35.967971966000164
                 ],
                 [
                  53.22577984900016,
                  35.962029503000224
                 ],
                 [
                  53.22669356200015,
                  35.9587744010002
                 ],
                 [
                  53.2279499170001,
                  35.95129337500009
                 ],
                 [
                  53.23143344800013,
                  35.94512581200024
                 ],
                 [
                  53.23463144400023,
                  35.93815875000024
                 ],
                 [
                  53.23348930300011,
                  35.93221961600017
                 ],
                 [
                  53.23109080600017,
                  35.92839344200013
                 ],
                 [
                  53.22657934800014,
                  35.92462437600017
                 ],
                 [
                  53.21778486000022,
                  35.922397201000194
                 ],
                 [
                  53.217737271000146,
                  35.92234961200029
                 ],
                 [
                  53.207886302000134,
                  35.9209695240001
                 ],
                 [
                  53.20403157500016,
                  35.9211122920002
                 ],
                 [
                  53.158203156000184,
                  35.91868524200015
                 ],
                 [
                  53.1444974610003,
                  35.91868524200015
                 ],
                 [
                  53.10771099400023,
                  35.91849488500009
                 ],
                 [
                  53.09814556100025,
                  35.917447922000235
                 ],
                 [
                  53.090911999000184,
                  35.91587747800014
                 ],
                 [
                  53.079585765000104,
                  35.914687747000244
                 ],
                 [
                  53.06093079000016,
                  35.91126132300025
                 ],
                 [
                  53.05712365300019,
                  35.90959570100023
                 ],
                 [
                  53.05369722900019,
                  35.90664516900017
                 ],
                 [
                  53.04751063000015,
                  35.901077230000226
                 ],
                 [
                  53.04365590400022,
                  35.896651433000216
                 ],
                 [
                  53.041324032000205,
                  35.8936533120002
                 ],
                 [
                  53.0377072510002,
                  35.89170215400026
                 ],
                 [
                  53.03375734600013,
                  35.8900841200001
                 ],
                 [
                  53.02818940700013,
                  35.88884680100017
                 ],
                 [
                  53.024382269000284,
                  35.888323319000165
                 ],
                 [
                  53.021669684000244,
                  35.887419124000246
                 ],
                 [
                  53.0215269160002,
                  35.88546796600025
                 ],
                 [
                  53.0214317380001,
                  35.883469219000176
                 ],
                 [
                  53.02252629000009,
                  35.87923377800013
                 ],
                 [
                  53.024477448000255,
                  35.87609289000011
                 ],
                 [
                  53.024715394000225,
                  35.87485557000025
                 ],
                 [
                  53.02490575100023,
                  35.87166709200022
                 ],
                 [
                  53.02504851800023,
                  35.87023941500013
                 ],
                 [
                  53.02538164300017,
                  35.86790754400022
                 ],
                 [
                  53.02371602000011,
                  35.86471906600019
                 ],
                 [
                  53.01971852600013,
                  35.85848487800018
                 ],
                 [
                  53.01986129400018,
                  35.85267899300027
                 ],
                 [
                  53.020879104000244,
                  35.851346148000175
                 ],
                 [
                  53.0183346930001,
                  35.8492058650001
                 ],
                 [
                  53.01302373600021,
                  35.84475151400022
                 ],
                 [
                  53.00725592200013,
                  35.84029716300017
                 ],
                 [
                  52.997490614000185,
                  35.83595702600019
                 ],
                 [
                  52.987211343000126,
                  35.8328732450002
                 ],
                 [
                  52.9766465360002,
                  35.83030342700022
                 ],
                 [
                  52.96099920100028,
                  35.830874497000195
                 ],
                 [
                  52.939526943000146,
                  35.8331016730001
                 ],
                 [
                  52.92130979100011,
                  35.83669941800014
                 ],
                 [
                  52.90526270600009,
                  35.84218169600024
                 ],
                 [
                  52.89235650900031,
                  35.84800661700018
                 ],
                 [
                  52.87448199800025,
                  35.8563442480002
                 ],
                 [
                  52.861575802000175,
                  35.86182652600013
                 ],
                 [
                  52.843701291000116,
                  35.869421766000244
                 ],
                 [
                  52.83130409600011,
                  35.87421909700009
                 ],
                 [
                  52.816836973000306,
                  35.879396805000226
                 ],
                 [
                  52.79917185400018,
                  35.88777250700025
                 ],
                 [
                  52.78500930200022,
                  35.89675735200018
                 ],
                 [
                  52.76932389500013,
                  35.90399091400025
                 ],
                 [
                  52.75196334800012,
                  35.91000619100009
                 ],
                 [
                  52.72668395400018,
                  35.91845803700022
                 ],
                 [
                  52.710237120000215,
                  35.92432102800012
                 ],
                 [
                  52.695008569000095,
                  35.929651021000154
                 ],
                 [
                  52.68267344300017,
                  35.93315358800015
                 ],
                 [
                  52.66576975200019,
                  35.93589472700023
                 ],
                 [
                  52.6629213020002,
                  35.93643530900016
                 ],
                 [
                  52.6553381950003,
                  35.937874438000165
                 ],
                 [
                  52.6280790900002,
                  35.940006435000214
                 ],
                 [
                  52.610566257000244,
                  35.94092014800009
                 ],
                 [
                  52.602392407000195,
                  35.94018239800016
                 ],
                 [
                  52.5899716200002,
                  35.93984927300022
                 ],
                 [
                  52.5756472650001,
                  35.93946855900015
                 ],
                 [
                  52.52025341300015,
                  35.93842159700023
                 ],
                 [
                  52.51568484700016,
                  35.93718427700014
                 ],
                 [
                  52.50669048500009,
                  35.93727945500018
                 ],
                 [
                  52.50093218900025,
                  35.93727945500018
                 ],
                 [
                  52.49879778100018,
                  35.93676499400016
                 ],
                 [
                  52.491944933000184,
                  35.935714224000094
                 ],
                 [
                  52.48646265500025,
                  35.93429796800018
                 ],
                 [
                  52.481894090000196,
                  35.93288171300014
                 ],
                 [
                  52.47745879700011,
                  35.9313097110001
                 ],
                 [
                  52.47467575700023,
                  35.930323317000216
                 ],
                 [
                  52.46325434400018,
                  35.92516083800018
                 ],
                 [
                  52.45489387000015,
                  35.92040953000014
                 ],
                 [
                  52.4424673740001,
                  35.91241454100009
                 ],
                 [
                  52.43058910300027,
                  35.90227232700022
                 ],
                 [
                  52.42350782700021,
                  35.894277338000165
                 ],
                 [
                  52.42116838700025,
                  35.890967886000226
                 ],
                 [
                  52.41976160400009,
                  35.88897780200023
                 ],
                 [
                  52.41108133000023,
                  35.877327961000105
                 ],
                 [
                  52.39920306100021,
                  35.86343952300024
                 ],
                 [
                  52.39043141600018,
                  35.855261792000135
                 ],
                 [
                  52.38079174300009,
                  35.849048543000265
                 ],
                 [
                  52.37567070800009,
                  35.846727008000244
                 ],
                 [
                  52.3705124720002,
                  35.844388607000155
                 ],
                 [
                  52.354887979000125,
                  35.83835810100015
                 ],
                 [
                  52.336750777000134,
                  35.832144852000226
                 ],
                 [
                  52.32391310800011,
                  35.82862705700023
                 ],
                 [
                  52.30760333000012,
                  35.82469809100024
                 ],
                 [
                  52.2923900080001,
                  35.81866758500024
                 ],
                 [
                  52.286862044000145,
                  35.81610918900009
                 ],
                 [
                  52.283572677000166,
                  35.81341373500021
                 ],
                 [
                  52.27178577900014,
                  35.80249486400015
                 ],
                 [
                  52.26589233000021,
                  35.79632730200018
                 ],
                 [
                  52.25780597000016,
                  35.784997260000125
                 ],
                 [
                  52.25273486300023,
                  35.77791598400023
                 ],
                 [
                  52.24802924100027,
                  35.77467230300016
                 ],
                 [
                  52.236425085000235,
                  35.77042353700017
                 ],
                 [
                  52.223356888000126,
                  35.76754029600022
                 ],
                 [
                  52.22048079300015,
                  35.76690574200012
                 ],
                 [
                  52.215590967000196,
                  35.76665099700011
                 ],
                 [
                  52.20783392500016,
                  35.76617510500017
                 ],
                 [
                  52.198316081000144,
                  35.76531849900016
                 ],
                 [
                  52.184657975000164,
                  35.7644618930002
                 ],
                 [
                  52.17390281100023,
                  35.76508055300019
                 ],
                 [
                  52.165717465000114,
                  35.76522332100012
                 ],
                 [
                  52.15334426800018,
                  35.76484260700022
                 ],
                 [
                  52.14001928600021,
                  35.76374805500029
                 ],
                 [
                  52.12222091800021,
                  35.76312939500025
                 ],
                 [
                  52.102233446000184,
                  35.763081806000116
                 ],
                 [
                  52.0906692650002,
                  35.76384323300016
                 ],
                 [
                  52.08143695600023,
                  35.76531849900016
                 ],
                 [
                  52.066113227000244,
                  35.76893528000022
                 ],
                 [
                  52.05678574000024,
                  35.771980990000145
                 ],
                 [
                  52.04355593800017,
                  35.776406787000155
                 ],
                 [
                  52.0346091630002,
                  35.7787862480003
                 ],
                 [
                  52.025482904000114,
                  35.78102309200028
                 ],
                 [
                  52.016488541000115,
                  35.784021213000244
                 ],
                 [
                  52.00597132300015,
                  35.78806629600018
                 ],
                 [
                  51.99578723000013,
                  35.79544262600018
                 ],
                 [
                  51.982033946000115,
                  35.80634055700011
                 ],
                 [
                  51.97689431000015,
                  35.8106711760002
                 ],
                 [
                  51.97237333400017,
                  35.81314581500021
                 ],
                 [
                  51.961475403000236,
                  35.81633429300024
                 ],
                 [
                  51.945770960000175,
                  35.82114080400015
                 ],
                 [
                  51.932017675000225,
                  35.82623285100021
                 ],
                 [
                  51.9196920670002,
                  35.8325622170002
                 ],
                 [
                  51.90541530100023,
                  35.84198488300024
                 ],
                 [
                  51.890757822000296,
                  35.85369183100022
                 ],
                 [
                  51.87959055300024,
                  35.865765534000275
                 ],
                 [
                  51.87610034200026,
                  35.86953904100011
                 ],
                 [
                  51.867962585000214,
                  35.88105563300013
                 ],
                 [
                  51.861538040000084,
                  35.89309570500018
                 ],
                 [
                  51.85492313900011,
                  35.90304185200023
                 ],
                 [
                  51.84097949700015,
                  35.922363076000124
                 ],
                 [
                  51.83279415100026,
                  35.932547169000145
                 ],
                 [
                  51.83139621800012,
                  35.93437826600024
                 ],
                 [
                  51.8294153170001,
                  35.936972966000155
                 ],
                 [
                  51.81923122400025,
                  35.945063134000236
                 ],
                 [
                  51.80414544100023,
                  35.957864634000146
                 ],
                 [
                  51.79615045200012,
                  35.96543132000028
                 ],
                 [
                  51.7855856450002,
                  35.97342630900016
                 ],
                 [
                  51.7735455720001,
                  35.98499048900021
                 ],
                 [
                  51.765455405000125,
                  35.99455592300012
                 ],
                 [
                  51.764646388000244,
                  35.9973636870003
                 ],
                 [
                  51.7638553030003,
                  36.00026558700023
                 ],
                 [
                  51.76195173400026,
                  36.002473727000165
                 ],
                 [
                  51.75791616800012,
                  36.00628086500018
                 ],
                 [
                  51.738728195000135,
                  36.017854563000185
                 ],
                 [
                  51.7318119210002,
                  36.02211610500018
                 ],
                 [
                  51.71611379700022,
                  36.031788687000244
                 ],
                 [
                  51.7153161010001,
                  36.032154298000194
                 ],
                 [
                  51.683220128000244,
                  36.04686495200019
                 ],
                 [
                  51.66654486600021,
                  36.05219494400012
                 ],
                 [
                  51.65031051500017,
                  36.05844321600023
                 ],
                 [
                  51.64438732500014,
                  36.0607229320002
                 ],
                 [
                  51.62999634600021,
                  36.06612906800018
                 ],
                 [
                  51.61042765700017,
                  36.07633219700017
                 ],
                 [
                  51.58141726900021,
                  36.092550603000234
                 ],
                 [
                  51.567635431000156,
                  36.09848973800024
                 ],
                 [
                  51.55278759400028,
                  36.10130701900016
                 ],
                 [
                  51.53687375900029,
                  36.103439016000095
                 ],
                 [
                  51.52042692400022,
                  36.107246154000165
                 ],
                 [
                  51.4959851010002,
                  36.11630714200027
                 ],
                 [
                  51.483573832000104,
                  36.12331227500016
                 ],
                 [
                  51.46689856900019,
                  36.13267783300023
                 ],
                 [
                  51.45981729300013,
                  36.137246398000116
                 ],
                 [
                  51.44961416400031,
                  36.1450891020001
                 ],
                 [
                  51.43872575100028,
                  36.1504952370002
                 ],
                 [
                  51.429284050000206,
                  36.15201809200022
                 ],
                 [
                  51.40712650900019,
                  36.152322663000234
                 ],
                 [
                  51.38595882400017,
                  36.15285566300014
                 ],
                 [
                  51.3638012830001,
                  36.15293180500021
                 ],
                 [
                  51.34453716700011,
                  36.153693233000126
                 ],
                 [
                  51.339011505000144,
                  36.153817525000136
                 ],
                 [
                  51.314874252000095,
                  36.154731238000124
                 ],
                 [
                  51.31198082800017,
                  36.1554926660001
                 ],
                 [
                  51.30733612000023,
                  36.157776948000105
                 ],
                 [
                  51.288833431000114,
                  36.16965521800023
                 ],
                 [
                  51.27657444800019,
                  36.17757406400011
                 ],
                 [
                  51.271777455000176,
                  36.18031520300019
                 ],
                 [
                  51.268046460000164,
                  36.18138120100025
                 ],
                 [
                  51.26210732500016,
                  36.18275177100014
                 ],
                 [
                  51.256472761000225,
                  36.18320862700011
                 ],
                 [
                  51.24923920000009,
                  36.18183805800015
                 ],
                 [
                  51.24048278300029,
                  36.17894463300013
                 ],
                 [
                  51.22761465800022,
                  36.172853213000224
                 ],
                 [
                  51.22099023800013,
                  36.16980750300013
                 ],
                 [
                  51.20621854500013,
                  36.165010510000116
                 ],
                 [
                  51.20324897800015,
                  36.163868368000124
                 ],
                 [
                  51.1941118470001,
                  36.16706636400022
                 ],
                 [
                  51.176294443000245,
                  36.174223783000116
                 ],
                 [
                  51.16395931800025,
                  36.18061977400026
                 ],
                 [
                  51.151471906000154,
                  36.18640662300021
                 ],
                 [
                  51.131217934000176,
                  36.19561989600021
                 ],
                 [
                  51.11043096300017,
                  36.20361488500015
                 ],
                 [
                  51.09367955700009,
                  36.21008701900024
                 ],
                 [
                  51.07685200900028,
                  36.21678758100023
                 ],
                 [
                  51.05675032200014,
                  36.22287900100014
                 ],
                 [
                  51.05142033000021,
                  36.22493485600012
                 ],
                 [
                  51.033755211000084,
                  36.23041713400022
                 ],
                 [
                  51.00018463700013,
                  36.24872156100014
                 ],
                 [
                  50.98842058200012,
                  36.25443226700014
                 ],
                 [
                  50.97939766600018,
                  36.2555744080002
                 ],
                 [
                  50.96454982900025,
                  36.25808711900021
                 ],
                 [
                  50.9442197150002,
                  36.26448311000013
                 ],
                 [
                  50.92720180900022,
                  36.26950853200009
                 ],
                 [
                  50.925660764000156,
                  36.26998444300011
                 ],
                 [
                  50.911668688000134,
                  36.2743055250001
                 ],
                 [
                  50.89887670700017,
                  36.27853144800008
                 ],
                 [
                  50.8968208510002,
                  36.27853144800008
                 ],
                 [
                  50.891909644000236,
                  36.280358874000115
                 ],
                 [
                  50.868952604000185,
                  36.29052393200021
                 ],
                 [
                  50.86095761500013,
                  36.29520671100016
                 ],
                 [
                  50.85483466400018,
                  36.29779341100016
                 ],
                 [
                  50.8582134990001,
                  36.304931794000254
                 ],
                 [
                  50.86016465700021,
                  36.311403928000175
                 ],
                 [
                  50.86273447500025,
                  36.31911338100025
                 ],
                 [
                  50.86278206400016,
                  36.32867881500016
                 ],
                 [
                  50.86273447500025,
                  36.342622456000186
                 ],
                 [
                  50.86263929600028,
                  36.36399001600017
                 ],
                 [
                  50.85868939100021,
                  36.374174109000194
                 ],
                 [
                  50.85416841500023,
                  36.385405165000236
                 ],
                 [
                  50.84931431500024,
                  36.39525613400019
                 ],
                 [
                  50.84017718400014,
                  36.4051071020001
                 ],
                 [
                  50.82675702400019,
                  36.417147175000196
                 ],
                 [
                  50.82133185300029,
                  36.42366689800025
                 ],
                 [
                  50.806626784000116,
                  36.43456482900018
                 ],
                 [
                  50.7967631250001,
                  36.43692525500012
                 ],
                 [
                  50.783514286000184,
                  36.44134153400023
                 ],
                 [
                  50.77544315400013,
                  36.446519242000136
                 ],
                 [
                  50.765468454000086,
                  36.45131623500015
                 ],
                 [
                  50.74696576500014,
                  36.45999650900018
                 ],
                 [
                  50.73089964400015,
                  36.46730621300014
                 ],
                 [
                  50.71795537700018,
                  36.475453487000095
                 ],
                 [
                  50.704782680000164,
                  36.485504331000186
                 ],
                 [
                  50.68605156300015,
                  36.497382600000265
                 ],
                 [
                  50.677295147000166,
                  36.50339787700011
                 ],
                 [
                  50.67343601600021,
                  36.50553138100008
                 ],
                 [
                  50.66792958800022,
                  36.508575585000244
                 ],
                 [
                  50.66001074200011,
                  36.51162129500017
                 ],
                 [
                  50.651635039000155,
                  36.5135248630001
                 ],
                 [
                  50.6341983490002,
                  36.51664671600025
                 ],
                 [
                  50.60716767200017,
                  36.521976709000285
                 ],
                 [
                  50.599956958000234,
                  36.52400926000013
                 ],
                 [
                  50.595822402000124,
                  36.52517470500021
                 ],
                 [
                  50.58059385200022,
                  36.530656983000085
                 ],
                 [
                  50.57534000200019,
                  36.534844834000126
                 ],
                 [
                  50.57077143700013,
                  36.538880400000096
                 ],
                 [
                  50.5652891580001,
                  36.54413425000013
                 ],
                 [
                  50.55485760200014,
                  36.55205309600018
                 ],
                 [
                  50.54830932500022,
                  36.5556318050003
                 ],
                 [
                  50.542979332000186,
                  36.56119022600018
                 ],
                 [
                  50.53978133600009,
                  36.56408365100026
                 ],
                 [
                  50.53140563400018,
                  36.57032735700011
                 ],
                 [
                  50.52409592900017,
                  36.574591351000095
                 ],
                 [
                  50.51762379600012,
                  36.57558120600021
                 ],
                 [
                  50.51069480500013,
                  36.578322346000164
                 ],
                 [
                  50.498283537000134,
                  36.58327162400025
                 ],
                 [
                  50.48868955000012,
                  36.588068618000136
                 ],
                 [
                  50.47429857000009,
                  36.59644432100009
                 ],
                 [
                  50.467978721000236,
                  36.600708315000304
                 ],
                 [
                  50.46165887300009,
                  36.60512459400019
                 ],
                 [
                  50.45533902400024,
                  36.607180449000225
                 ],
                 [
                  50.447039464000284,
                  36.61060687200012
                 ],
                 [
                  50.43995818800022,
                  36.612586584000155
                 ],
                 [
                  50.420008787000086,
                  36.62042928800014
                 ],
                 [
                  50.41521384400011,
                  36.621640913000135
                 ],
                 [
                  50.405846235000126,
                  36.624007997000206
                 ],
                 [
                  50.39038925700021,
                  36.628119705000245
                 ],
                 [
                  50.38026227100016,
                  36.63230755700022
                 ],
                 [
                  50.36967842800016,
                  36.636114694000184
                 ],
                 [
                  50.36244486700019,
                  36.63603855200029
                 ],
                 [
                  50.36271437500028,
                  36.63814510800012
                 ],
                 [
                  50.36499865900009,
                  36.64052456900009
                 ],
                 [
                  50.36794919000022,
                  36.64318956500017
                 ],
                 [
                  50.37289846900018,
                  36.64809125500017
                 ],
                 [
                  50.37875194300011,
                  36.65399231800018
                 ],
                 [
                  50.385033720000195,
                  36.66141623600021
                 ],
                 [
                  50.39183897800012,
                  36.66855461900025
                 ],
                 [
                  50.39916771900016,
                  36.6771206790001
                 ],
                 [
                  50.40806690300019,
                  36.68778066400023
                 ],
                 [
                  50.41558600000013,
                  36.695014226000296
                 ],
                 [
                  50.42115393800026,
                  36.70281885800017
                 ],
                 [
                  50.42350255300016,
                  36.70696517800019
                 ],
                 [
                  50.425008665000234,
                  36.7096241160001
                 ],
                 [
                  50.429719999000156,
                  36.71842812200009
                 ],
                 [
                  50.43314642200022,
                  36.72509061300025
                 ],
                 [
                  50.43514516900012,
                  36.73227658500025
                 ],
                 [
                  50.43676320300028,
                  36.7404619310002
                 ],
                 [
                  50.43747704100019,
                  36.748837634000154
                 ],
                 [
                  50.43676320300028,
                  36.75730851500015
                 ],
                 [
                  50.435954186000174,
                  36.768872695000084
                 ],
                 [
                  50.435478294000234,
                  36.77596348900022
                 ],
                 [
                  50.43309883300009,
                  36.78148383900009
                 ],
                 [
                  50.43057660400024,
                  36.788289097000245
                 ],
                 [
                  50.42933928400015,
                  36.79909185000008
                 ],
                 [
                  50.429624820000186,
                  36.80627782200014
                 ],
                 [
                  50.42994137600027,
                  36.81830698600015
                 ],
                 [
                  50.42995794400019,
                  36.81893655500028
                 ],
                 [
                  50.43095731800014,
                  36.830215200000225
                 ],
                 [
                  50.43224222700013,
                  36.837972243000195
                 ],
                 [
                  50.43328918800012,
                  36.84430160900018
                 ],
                 [
                  50.43350175600017,
                  36.848004051000146
                 ],
                 [
                  50.43578603700024,
                  36.85386704200022
                 ],
                 [
                  50.4408114590002,
                  36.85866403600011
                 ],
                 [
                  50.446446023000306,
                  36.862547316000246
                 ],
                 [
                  50.44933944700023,
                  36.864603171000226
                 ],
                 [
                  50.45520244000011,
                  36.86589759700024
                 ],
                 [
                  50.46114157400018,
                  36.86764888100021
                 ],
                 [
                  50.46494871000027,
                  36.86940016400024
                 ],
                 [
                  50.467547281000236,
                  36.87036172200021
                 ],
                 [
                  50.49251179200019,
                  36.878425120000145
                 ],
                 [
                  50.49446295000013,
                  36.877520925000226
                 ],
                 [
                  50.496271341000295,
                  36.87514146400025
                 ],
                 [
                  50.49822249800013,
                  36.871857808000186
                 ],
                 [
                  50.50131579800012,
                  36.86966870400022
                 ],
                 [
                  50.50498016900019,
                  36.86843138400019
                 ],
                 [
                  50.51097641000024,
                  36.86909763300014
                 ],
                 [
                  50.51687747300031,
                  36.87190539700009
                 ],
                 [
                  50.52187434100017,
                  36.87652155200021
                 ],
                 [
                  50.52501523000012,
                  36.882232258000215
                 ],
                 [
                  50.52553871000009,
                  36.88456413000023
                 ],
                 [
                  50.52568147900024,
                  36.888942338000106
                 ],
                 [
                  50.52439657000025,
                  36.891226621000214
                 ],
                 [
                  50.523920677000206,
                  36.892749476000176
                 ],
                 [
                  50.5258718350002,
                  36.89489099000025
                 ],
                 [
                  50.53577039300012,
                  36.90112517800026
                 ],
                 [
                  50.54219493800014,
                  36.9068834740001
                 ],
                 [
                  50.54980921200024,
                  36.914592928000275
                 ],
                 [
                  50.556757239000206,
                  36.92068434800012
                 ],
                 [
                  50.5634673190001,
                  36.926252287000125
                 ],
                 [
                  50.56951115000021,
                  36.931629868000186
                 ],
                 [
                  50.57184302200022,
                  36.93386656200016
                 ],
                 [
                  50.5781723880001,
                  36.94143324800024
                 ],
                 [
                  50.58669085900016,
                  36.950094486000125
                 ],
                 [
                  50.59411477700013,
                  36.9558527810002
                 ],
                 [
                  50.59739843400013,
                  36.95889849200023
                 ],
                 [
                  50.60025378700021,
                  36.96132554200017
                 ],
                 [
                  50.60154618600012,
                  36.963182303000224
                 ],
                 [
                  50.6060381150001,
                  36.96116093500012
                 ],
                 [
                  50.63090348300028,
                  36.951167198000235
                 ],
                 [
                  50.64054030000011,
                  36.94843081800013
                 ],
                 [
                  50.65136684800029,
                  36.94462368100017
                 ],
                 [
                  50.66064674600017,
                  36.93950783900016
                 ],
                 [
                  50.66945075100023,
                  36.9307038340001
                 ],
                 [
                  50.674209672000245,
                  36.921661882000194
                 ],
                 [
                  50.68051524500015,
                  36.91416658000014
                 ],
                 [
                  50.693483307000236,
                  36.90607641200012
                 ],
                 [
                  50.707998020000105,
                  36.89929494800015
                 ],
                 [
                  50.73226852200008,
                  36.88918223900015
                 ],
                 [
                  50.746426315000235,
                  36.882876667000176
                 ],
                 [
                  50.75016971900021,
                  36.8826796460001
                 ],
                 [
                  50.753207779000206,
                  36.88251974800022
                 ],
                 [
                  50.75903745800019,
                  36.88156796400017
                 ],
                 [
                  50.763082542000234,
                  36.87847466500011
                 ],
                 [
                  50.76938811300016,
                  36.87728493400016
                 ],
                 [
                  50.77283833200022,
                  36.87669006900023
                 ],
                 [
                  50.777478281000185,
                  36.87288293100016
                 ],
                 [
                  50.78149817100024,
                  36.86863971400021
                 ]
                ]
               ],
               "type": "Polygon"
              },
              "id": "3",
              "properties": {
               "Markaz": "ساری",
               "Ostan": "مازندران"
              },
              "type": "Feature"
             }
            ],
            "type": "FeatureCollection"
           },
           "type": "line"
          }
         ],
         "style": "white-bg",
         "zoom": 7.5
        },
        "margin": {
         "b": 0,
         "l": 0,
         "r": 0,
         "t": 0
        },
        "template": {
         "data": {
          "bar": [
           {
            "error_x": {
             "color": "#2a3f5f"
            },
            "error_y": {
             "color": "#2a3f5f"
            },
            "marker": {
             "line": {
              "color": "#E5ECF6",
              "width": 0.5
             },
             "pattern": {
              "fillmode": "overlay",
              "size": 10,
              "solidity": 0.2
             }
            },
            "type": "bar"
           }
          ],
          "barpolar": [
           {
            "marker": {
             "line": {
              "color": "#E5ECF6",
              "width": 0.5
             },
             "pattern": {
              "fillmode": "overlay",
              "size": 10,
              "solidity": 0.2
             }
            },
            "type": "barpolar"
           }
          ],
          "carpet": [
           {
            "aaxis": {
             "endlinecolor": "#2a3f5f",
             "gridcolor": "white",
             "linecolor": "white",
             "minorgridcolor": "white",
             "startlinecolor": "#2a3f5f"
            },
            "baxis": {
             "endlinecolor": "#2a3f5f",
             "gridcolor": "white",
             "linecolor": "white",
             "minorgridcolor": "white",
             "startlinecolor": "#2a3f5f"
            },
            "type": "carpet"
           }
          ],
          "choropleth": [
           {
            "colorbar": {
             "outlinewidth": 0,
             "ticks": ""
            },
            "type": "choropleth"
           }
          ],
          "contour": [
           {
            "colorbar": {
             "outlinewidth": 0,
             "ticks": ""
            },
            "colorscale": [
             [
              0,
              "#0d0887"
             ],
             [
              0.1111111111111111,
              "#46039f"
             ],
             [
              0.2222222222222222,
              "#7201a8"
             ],
             [
              0.3333333333333333,
              "#9c179e"
             ],
             [
              0.4444444444444444,
              "#bd3786"
             ],
             [
              0.5555555555555556,
              "#d8576b"
             ],
             [
              0.6666666666666666,
              "#ed7953"
             ],
             [
              0.7777777777777778,
              "#fb9f3a"
             ],
             [
              0.8888888888888888,
              "#fdca26"
             ],
             [
              1,
              "#f0f921"
             ]
            ],
            "type": "contour"
           }
          ],
          "contourcarpet": [
           {
            "colorbar": {
             "outlinewidth": 0,
             "ticks": ""
            },
            "type": "contourcarpet"
           }
          ],
          "heatmap": [
           {
            "colorbar": {
             "outlinewidth": 0,
             "ticks": ""
            },
            "colorscale": [
             [
              0,
              "#0d0887"
             ],
             [
              0.1111111111111111,
              "#46039f"
             ],
             [
              0.2222222222222222,
              "#7201a8"
             ],
             [
              0.3333333333333333,
              "#9c179e"
             ],
             [
              0.4444444444444444,
              "#bd3786"
             ],
             [
              0.5555555555555556,
              "#d8576b"
             ],
             [
              0.6666666666666666,
              "#ed7953"
             ],
             [
              0.7777777777777778,
              "#fb9f3a"
             ],
             [
              0.8888888888888888,
              "#fdca26"
             ],
             [
              1,
              "#f0f921"
             ]
            ],
            "type": "heatmap"
           }
          ],
          "heatmapgl": [
           {
            "colorbar": {
             "outlinewidth": 0,
             "ticks": ""
            },
            "colorscale": [
             [
              0,
              "#0d0887"
             ],
             [
              0.1111111111111111,
              "#46039f"
             ],
             [
              0.2222222222222222,
              "#7201a8"
             ],
             [
              0.3333333333333333,
              "#9c179e"
             ],
             [
              0.4444444444444444,
              "#bd3786"
             ],
             [
              0.5555555555555556,
              "#d8576b"
             ],
             [
              0.6666666666666666,
              "#ed7953"
             ],
             [
              0.7777777777777778,
              "#fb9f3a"
             ],
             [
              0.8888888888888888,
              "#fdca26"
             ],
             [
              1,
              "#f0f921"
             ]
            ],
            "type": "heatmapgl"
           }
          ],
          "histogram": [
           {
            "marker": {
             "pattern": {
              "fillmode": "overlay",
              "size": 10,
              "solidity": 0.2
             }
            },
            "type": "histogram"
           }
          ],
          "histogram2d": [
           {
            "colorbar": {
             "outlinewidth": 0,
             "ticks": ""
            },
            "colorscale": [
             [
              0,
              "#0d0887"
             ],
             [
              0.1111111111111111,
              "#46039f"
             ],
             [
              0.2222222222222222,
              "#7201a8"
             ],
             [
              0.3333333333333333,
              "#9c179e"
             ],
             [
              0.4444444444444444,
              "#bd3786"
             ],
             [
              0.5555555555555556,
              "#d8576b"
             ],
             [
              0.6666666666666666,
              "#ed7953"
             ],
             [
              0.7777777777777778,
              "#fb9f3a"
             ],
             [
              0.8888888888888888,
              "#fdca26"
             ],
             [
              1,
              "#f0f921"
             ]
            ],
            "type": "histogram2d"
           }
          ],
          "histogram2dcontour": [
           {
            "colorbar": {
             "outlinewidth": 0,
             "ticks": ""
            },
            "colorscale": [
             [
              0,
              "#0d0887"
             ],
             [
              0.1111111111111111,
              "#46039f"
             ],
             [
              0.2222222222222222,
              "#7201a8"
             ],
             [
              0.3333333333333333,
              "#9c179e"
             ],
             [
              0.4444444444444444,
              "#bd3786"
             ],
             [
              0.5555555555555556,
              "#d8576b"
             ],
             [
              0.6666666666666666,
              "#ed7953"
             ],
             [
              0.7777777777777778,
              "#fb9f3a"
             ],
             [
              0.8888888888888888,
              "#fdca26"
             ],
             [
              1,
              "#f0f921"
             ]
            ],
            "type": "histogram2dcontour"
           }
          ],
          "mesh3d": [
           {
            "colorbar": {
             "outlinewidth": 0,
             "ticks": ""
            },
            "type": "mesh3d"
           }
          ],
          "parcoords": [
           {
            "line": {
             "colorbar": {
              "outlinewidth": 0,
              "ticks": ""
             }
            },
            "type": "parcoords"
           }
          ],
          "pie": [
           {
            "automargin": true,
            "type": "pie"
           }
          ],
          "scatter": [
           {
            "fillpattern": {
             "fillmode": "overlay",
             "size": 10,
             "solidity": 0.2
            },
            "type": "scatter"
           }
          ],
          "scatter3d": [
           {
            "line": {
             "colorbar": {
              "outlinewidth": 0,
              "ticks": ""
             }
            },
            "marker": {
             "colorbar": {
              "outlinewidth": 0,
              "ticks": ""
             }
            },
            "type": "scatter3d"
           }
          ],
          "scattercarpet": [
           {
            "marker": {
             "colorbar": {
              "outlinewidth": 0,
              "ticks": ""
             }
            },
            "type": "scattercarpet"
           }
          ],
          "scattergeo": [
           {
            "marker": {
             "colorbar": {
              "outlinewidth": 0,
              "ticks": ""
             }
            },
            "type": "scattergeo"
           }
          ],
          "scattergl": [
           {
            "marker": {
             "colorbar": {
              "outlinewidth": 0,
              "ticks": ""
             }
            },
            "type": "scattergl"
           }
          ],
          "scattermapbox": [
           {
            "marker": {
             "colorbar": {
              "outlinewidth": 0,
              "ticks": ""
             }
            },
            "type": "scattermapbox"
           }
          ],
          "scatterpolar": [
           {
            "marker": {
             "colorbar": {
              "outlinewidth": 0,
              "ticks": ""
             }
            },
            "type": "scatterpolar"
           }
          ],
          "scatterpolargl": [
           {
            "marker": {
             "colorbar": {
              "outlinewidth": 0,
              "ticks": ""
             }
            },
            "type": "scatterpolargl"
           }
          ],
          "scatterternary": [
           {
            "marker": {
             "colorbar": {
              "outlinewidth": 0,
              "ticks": ""
             }
            },
            "type": "scatterternary"
           }
          ],
          "surface": [
           {
            "colorbar": {
             "outlinewidth": 0,
             "ticks": ""
            },
            "colorscale": [
             [
              0,
              "#0d0887"
             ],
             [
              0.1111111111111111,
              "#46039f"
             ],
             [
              0.2222222222222222,
              "#7201a8"
             ],
             [
              0.3333333333333333,
              "#9c179e"
             ],
             [
              0.4444444444444444,
              "#bd3786"
             ],
             [
              0.5555555555555556,
              "#d8576b"
             ],
             [
              0.6666666666666666,
              "#ed7953"
             ],
             [
              0.7777777777777778,
              "#fb9f3a"
             ],
             [
              0.8888888888888888,
              "#fdca26"
             ],
             [
              1,
              "#f0f921"
             ]
            ],
            "type": "surface"
           }
          ],
          "table": [
           {
            "cells": {
             "fill": {
              "color": "#EBF0F8"
             },
             "line": {
              "color": "white"
             }
            },
            "header": {
             "fill": {
              "color": "#C8D4E3"
             },
             "line": {
              "color": "white"
             }
            },
            "type": "table"
           }
          ]
         },
         "layout": {
          "annotationdefaults": {
           "arrowcolor": "#2a3f5f",
           "arrowhead": 0,
           "arrowwidth": 1
          },
          "autotypenumbers": "strict",
          "coloraxis": {
           "colorbar": {
            "outlinewidth": 0,
            "ticks": ""
           }
          },
          "colorscale": {
           "diverging": [
            [
             0,
             "#8e0152"
            ],
            [
             0.1,
             "#c51b7d"
            ],
            [
             0.2,
             "#de77ae"
            ],
            [
             0.3,
             "#f1b6da"
            ],
            [
             0.4,
             "#fde0ef"
            ],
            [
             0.5,
             "#f7f7f7"
            ],
            [
             0.6,
             "#e6f5d0"
            ],
            [
             0.7,
             "#b8e186"
            ],
            [
             0.8,
             "#7fbc41"
            ],
            [
             0.9,
             "#4d9221"
            ],
            [
             1,
             "#276419"
            ]
           ],
           "sequential": [
            [
             0,
             "#0d0887"
            ],
            [
             0.1111111111111111,
             "#46039f"
            ],
            [
             0.2222222222222222,
             "#7201a8"
            ],
            [
             0.3333333333333333,
             "#9c179e"
            ],
            [
             0.4444444444444444,
             "#bd3786"
            ],
            [
             0.5555555555555556,
             "#d8576b"
            ],
            [
             0.6666666666666666,
             "#ed7953"
            ],
            [
             0.7777777777777778,
             "#fb9f3a"
            ],
            [
             0.8888888888888888,
             "#fdca26"
            ],
            [
             1,
             "#f0f921"
            ]
           ],
           "sequentialminus": [
            [
             0,
             "#0d0887"
            ],
            [
             0.1111111111111111,
             "#46039f"
            ],
            [
             0.2222222222222222,
             "#7201a8"
            ],
            [
             0.3333333333333333,
             "#9c179e"
            ],
            [
             0.4444444444444444,
             "#bd3786"
            ],
            [
             0.5555555555555556,
             "#d8576b"
            ],
            [
             0.6666666666666666,
             "#ed7953"
            ],
            [
             0.7777777777777778,
             "#fb9f3a"
            ],
            [
             0.8888888888888888,
             "#fdca26"
            ],
            [
             1,
             "#f0f921"
            ]
           ]
          },
          "colorway": [
           "#636efa",
           "#EF553B",
           "#00cc96",
           "#ab63fa",
           "#FFA15A",
           "#19d3f3",
           "#FF6692",
           "#B6E880",
           "#FF97FF",
           "#FECB52"
          ],
          "font": {
           "color": "#2a3f5f"
          },
          "geo": {
           "bgcolor": "white",
           "lakecolor": "white",
           "landcolor": "#E5ECF6",
           "showlakes": true,
           "showland": true,
           "subunitcolor": "white"
          },
          "hoverlabel": {
           "align": "left"
          },
          "hovermode": "closest",
          "mapbox": {
           "style": "light"
          },
          "paper_bgcolor": "white",
          "plot_bgcolor": "#E5ECF6",
          "polar": {
           "angularaxis": {
            "gridcolor": "white",
            "linecolor": "white",
            "ticks": ""
           },
           "bgcolor": "#E5ECF6",
           "radialaxis": {
            "gridcolor": "white",
            "linecolor": "white",
            "ticks": ""
           }
          },
          "scene": {
           "xaxis": {
            "backgroundcolor": "#E5ECF6",
            "gridcolor": "white",
            "gridwidth": 2,
            "linecolor": "white",
            "showbackground": true,
            "ticks": "",
            "zerolinecolor": "white"
           },
           "yaxis": {
            "backgroundcolor": "#E5ECF6",
            "gridcolor": "white",
            "gridwidth": 2,
            "linecolor": "white",
            "showbackground": true,
            "ticks": "",
            "zerolinecolor": "white"
           },
           "zaxis": {
            "backgroundcolor": "#E5ECF6",
            "gridcolor": "white",
            "gridwidth": 2,
            "linecolor": "white",
            "showbackground": true,
            "ticks": "",
            "zerolinecolor": "white"
           }
          },
          "shapedefaults": {
           "line": {
            "color": "#2a3f5f"
           }
          },
          "ternary": {
           "aaxis": {
            "gridcolor": "white",
            "linecolor": "white",
            "ticks": ""
           },
           "baxis": {
            "gridcolor": "white",
            "linecolor": "white",
            "ticks": ""
           },
           "bgcolor": "#E5ECF6",
           "caxis": {
            "gridcolor": "white",
            "linecolor": "white",
            "ticks": ""
           }
          },
          "title": {
           "x": 0.05
          },
          "xaxis": {
           "automargin": true,
           "gridcolor": "white",
           "linecolor": "white",
           "ticks": "",
           "title": {
            "standoff": 15
           },
           "zerolinecolor": "white",
           "zerolinewidth": 2
          },
          "yaxis": {
           "automargin": true,
           "gridcolor": "white",
           "linecolor": "white",
           "ticks": "",
           "title": {
            "standoff": 15
           },
           "zerolinecolor": "white",
           "zerolinewidth": 2
          }
         }
        },
        "width": 1200
       }
      },
      "text/html": [
       "<div>                            <div id=\"02294753-5e05-4fbb-bf83-f03791dd1313\" class=\"plotly-graph-div\" style=\"height:600px; width:1200px;\"></div>            <script type=\"text/javascript\">                require([\"plotly\"], function(Plotly) {                    window.PLOTLYENV=window.PLOTLYENV || {};                                    if (document.getElementById(\"02294753-5e05-4fbb-bf83-f03791dd1313\")) {                    Plotly.newPlot(                        \"02294753-5e05-4fbb-bf83-f03791dd1313\",                        [{\"customdata\":[[\"\\n    Station Name: \\u003cb\\u003eRamsar\\u003c\\u002fb\\u003e\\u003cbr\\u003e\\n    Station ID: \\u003cb\\u003e40732\\u003c\\u002fb\\u003e\\u003cbr\\u003e\\n    Province: \\u003cb\\u003eMazandaran\\u003c\\u002fb\\u003e\\u003cbr\\u003e\\n    Latitude: \\u003cb\\u003e36.905\\u003c\\u002fb\\u003e\\u003cbr\\u003e\\n    Longitude: \\u003cb\\u003e50.684\\u003c\\u002fb\\u003e\\u003cbr\\u003e\\n    Elevation: \\u003cb\\u003e-20.0 m\\u003c\\u002fb\\u003e\\u003cbr\\u003e\\n    Temperature: \\u003cb\\u003e17.3\\u003c\\u002fb\\u003e\\u003cbr\\u003e\\n    Precipitation: \\u003cb\\u003e1222.5\\u003c\\u002fb\\u003e\\u003cbr\\u003e\\n    DT: \\u003cb\\u003e6.3\\u003c\\u002fb\\u003e\\u003cbr\\u003e\\n    \",\"40732\",\"Ramsar\"],[\"\\n    Station Name: \\u003cb\\u003eNowshahr\\u003c\\u002fb\\u003e\\u003cbr\\u003e\\n    Station ID: \\u003cb\\u003e40734\\u003c\\u002fb\\u003e\\u003cbr\\u003e\\n    Province: \\u003cb\\u003eMazandaran\\u003c\\u002fb\\u003e\\u003cbr\\u003e\\n    Latitude: \\u003cb\\u003e36.661\\u003c\\u002fb\\u003e\\u003cbr\\u003e\\n    Longitude: \\u003cb\\u003e51.466\\u003c\\u002fb\\u003e\\u003cbr\\u003e\\n    Elevation: \\u003cb\\u003e-20.9 m\\u003c\\u002fb\\u003e\\u003cbr\\u003e\\n    Temperature: \\u003cb\\u003e17.1\\u003c\\u002fb\\u003e\\u003cbr\\u003e\\n    Precipitation: \\u003cb\\u003e1263.9\\u003c\\u002fb\\u003e\\u003cbr\\u003e\\n    DT: \\u003cb\\u003e6.8\\u003c\\u002fb\\u003e\\u003cbr\\u003e\\n    \",\"40734\",\"Nowshahr\"]],\"hovertemplate\":\"%{customdata[0]}\",\"hovertext\":[\"Ramsar\",\"Nowshahr\"],\"lat\":[36.905,36.661],\"legendgroup\":\"3\",\"lon\":[50.684,51.466],\"marker\":{\"color\":\"darkgreen\",\"size\":20},\"mode\":\"markers+text\",\"name\":\"3\",\"showlegend\":true,\"subplot\":\"mapbox\",\"text\":[\"Ramsar\",\"Nowshahr\"],\"type\":\"scattermapbox\",\"textfont\":{\"color\":\"black\",\"size\":14},\"textposition\":\"top right\"},{\"customdata\":[[\"\\n    Station Name: \\u003cb\\u003eSiahbisheh\\u003c\\u002fb\\u003e\\u003cbr\\u003e\\n    Station ID: \\u003cb\\u003e40735\\u003c\\u002fb\\u003e\\u003cbr\\u003e\\n    Province: \\u003cb\\u003eMazandaran\\u003c\\u002fb\\u003e\\u003cbr\\u003e\\n    Latitude: \\u003cb\\u003e36.231\\u003c\\u002fb\\u003e\\u003cbr\\u003e\\n    Longitude: \\u003cb\\u003e51.303\\u003c\\u002fb\\u003e\\u003cbr\\u003e\\n    Elevation: \\u003cb\\u003e1855.4 m\\u003c\\u002fb\\u003e\\u003cbr\\u003e\\n    Temperature: \\u003cb\\u003e11.2\\u003c\\u002fb\\u003e\\u003cbr\\u003e\\n    Precipitation: \\u003cb\\u003e500.2\\u003c\\u002fb\\u003e\\u003cbr\\u003e\\n    DT: \\u003cb\\u003e9.3\\u003c\\u002fb\\u003e\\u003cbr\\u003e\\n    \",\"40735\",\"Siahbisheh\"],[\"\\n    Station Name: \\u003cb\\u003eKiyasar\\u003c\\u002fb\\u003e\\u003cbr\\u003e\\n    Station ID: \\u003cb\\u003e40760\\u003c\\u002fb\\u003e\\u003cbr\\u003e\\n    Province: \\u003cb\\u003eMazandaran\\u003c\\u002fb\\u003e\\u003cbr\\u003e\\n    Latitude: \\u003cb\\u003e36.248\\u003c\\u002fb\\u003e\\u003cbr\\u003e\\n    Longitude: \\u003cb\\u003e53.546\\u003c\\u002fb\\u003e\\u003cbr\\u003e\\n    Elevation: \\u003cb\\u003e1294.3 m\\u003c\\u002fb\\u003e\\u003cbr\\u003e\\n    Temperature: \\u003cb\\u003e13.5\\u003c\\u002fb\\u003e\\u003cbr\\u003e\\n    Precipitation: \\u003cb\\u003e501.9\\u003c\\u002fb\\u003e\\u003cbr\\u003e\\n    DT: \\u003cb\\u003e10.2\\u003c\\u002fb\\u003e\\u003cbr\\u003e\\n    \",\"40760\",\"Kiyasar\"],[\"\\n    Station Name: \\u003cb\\u003eKojur\\u003c\\u002fb\\u003e\\u003cbr\\u003e\\n    Station ID: \\u003cb\\u003e99348\\u003c\\u002fb\\u003e\\u003cbr\\u003e\\n    Province: \\u003cb\\u003eMazandaran\\u003c\\u002fb\\u003e\\u003cbr\\u003e\\n    Latitude: \\u003cb\\u003e36.39\\u003c\\u002fb\\u003e\\u003cbr\\u003e\\n    Longitude: \\u003cb\\u003e51.729\\u003c\\u002fb\\u003e\\u003cbr\\u003e\\n    Elevation: \\u003cb\\u003e1550.0 m\\u003c\\u002fb\\u003e\\u003cbr\\u003e\\n    Temperature: \\u003cb\\u003e11.8\\u003c\\u002fb\\u003e\\u003cbr\\u003e\\n    Precipitation: \\u003cb\\u003e305.9\\u003c\\u002fb\\u003e\\u003cbr\\u003e\\n    DT: \\u003cb\\u003e12.1\\u003c\\u002fb\\u003e\\u003cbr\\u003e\\n    \",\"99348\",\"Kojur\"],[\"\\n    Station Name: \\u003cb\\u003eBaladeh\\u003c\\u002fb\\u003e\\u003cbr\\u003e\\n    Station ID: \\u003cb\\u003e99357\\u003c\\u002fb\\u003e\\u003cbr\\u003e\\n    Province: \\u003cb\\u003eMazandaran\\u003c\\u002fb\\u003e\\u003cbr\\u003e\\n    Latitude: \\u003cb\\u003e36.198\\u003c\\u002fb\\u003e\\u003cbr\\u003e\\n    Longitude: \\u003cb\\u003e51.801\\u003c\\u002fb\\u003e\\u003cbr\\u003e\\n    Elevation: \\u003cb\\u003e2120.0 m\\u003c\\u002fb\\u003e\\u003cbr\\u003e\\n    Temperature: \\u003cb\\u003e9.4\\u003c\\u002fb\\u003e\\u003cbr\\u003e\\n    Precipitation: \\u003cb\\u003e292.5\\u003c\\u002fb\\u003e\\u003cbr\\u003e\\n    DT: \\u003cb\\u003e13.6\\u003c\\u002fb\\u003e\\u003cbr\\u003e\\n    \",\"99357\",\"Baladeh\"],[\"\\n    Station Name: \\u003cb\\u003eAlasht\\u003c\\u002fb\\u003e\\u003cbr\\u003e\\n    Station ID: \\u003cb\\u003e99361\\u003c\\u002fb\\u003e\\u003cbr\\u003e\\n    Province: \\u003cb\\u003eMazandaran\\u003c\\u002fb\\u003e\\u003cbr\\u003e\\n    Latitude: \\u003cb\\u003e36.071\\u003c\\u002fb\\u003e\\u003cbr\\u003e\\n    Longitude: \\u003cb\\u003e52.843\\u003c\\u002fb\\u003e\\u003cbr\\u003e\\n    Elevation: \\u003cb\\u003e1805.0 m\\u003c\\u002fb\\u003e\\u003cbr\\u003e\\n    Temperature: \\u003cb\\u003e11.3\\u003c\\u002fb\\u003e\\u003cbr\\u003e\\n    Precipitation: \\u003cb\\u003e500.9\\u003c\\u002fb\\u003e\\u003cbr\\u003e\\n    DT: \\u003cb\\u003e8.7\\u003c\\u002fb\\u003e\\u003cbr\\u003e\\n    \",\"99361\",\"Alasht\"]],\"hovertemplate\":\"%{customdata[0]}\",\"hovertext\":[\"Siahbisheh\",\"Kiyasar\",\"Kojur\",\"Baladeh\",\"Alasht\"],\"lat\":[36.231,36.248,36.39,36.198,36.071],\"legendgroup\":\"2\",\"lon\":[51.303,53.546,51.729,51.801,52.843],\"marker\":{\"color\":\"darkblue\",\"size\":20},\"mode\":\"markers+text\",\"name\":\"2\",\"showlegend\":true,\"subplot\":\"mapbox\",\"text\":[\"Siahbisheh\",\"Kiyasar\",\"Kojur\",\"Baladeh\",\"Alasht\"],\"type\":\"scattermapbox\",\"textfont\":{\"color\":\"black\",\"size\":14},\"textposition\":\"top right\"},{\"customdata\":[[\"\\n    Station Name: \\u003cb\\u003eBabolsar\\u003c\\u002fb\\u003e\\u003cbr\\u003e\\n    Station ID: \\u003cb\\u003e40736\\u003c\\u002fb\\u003e\\u003cbr\\u003e\\n    Province: \\u003cb\\u003eMazandaran\\u003c\\u002fb\\u003e\\u003cbr\\u003e\\n    Latitude: \\u003cb\\u003e36.699\\u003c\\u002fb\\u003e\\u003cbr\\u003e\\n    Longitude: \\u003cb\\u003e52.643\\u003c\\u002fb\\u003e\\u003cbr\\u003e\\n    Elevation: \\u003cb\\u003e-21.0 m\\u003c\\u002fb\\u003e\\u003cbr\\u003e\\n    Temperature: \\u003cb\\u003e18.2\\u003c\\u002fb\\u003e\\u003cbr\\u003e\\n    Precipitation: \\u003cb\\u003e824.8\\u003c\\u002fb\\u003e\\u003cbr\\u003e\\n    DT: \\u003cb\\u003e7.1\\u003c\\u002fb\\u003e\\u003cbr\\u003e\\n    \",\"40736\",\"Babolsar\"],[\"\\n    Station Name: \\u003cb\\u003eGharakhil\\u003c\\u002fb\\u003e\\u003cbr\\u003e\\n    Station ID: \\u003cb\\u003e40737\\u003c\\u002fb\\u003e\\u003cbr\\u003e\\n    Province: \\u003cb\\u003eMazandaran\\u003c\\u002fb\\u003e\\u003cbr\\u003e\\n    Latitude: \\u003cb\\u003e36.487\\u003c\\u002fb\\u003e\\u003cbr\\u003e\\n    Longitude: \\u003cb\\u003e52.108\\u003c\\u002fb\\u003e\\u003cbr\\u003e\\n    Elevation: \\u003cb\\u003e14.7 m\\u003c\\u002fb\\u003e\\u003cbr\\u003e\\n    Temperature: \\u003cb\\u003e17.6\\u003c\\u002fb\\u003e\\u003cbr\\u003e\\n    Precipitation: \\u003cb\\u003e655.0\\u003c\\u002fb\\u003e\\u003cbr\\u003e\\n    DT: \\u003cb\\u003e9.8\\u003c\\u002fb\\u003e\\u003cbr\\u003e\\n    \",\"40737\",\"Gharakhil\"],[\"\\n    Station Name: \\u003cb\\u003eSari\\u003c\\u002fb\\u003e\\u003cbr\\u003e\\n    Station ID: \\u003cb\\u003e40759\\u003c\\u002fb\\u003e\\u003cbr\\u003e\\n    Province: \\u003cb\\u003eMazandaran\\u003c\\u002fb\\u003e\\u003cbr\\u003e\\n    Latitude: \\u003cb\\u003e36.536\\u003c\\u002fb\\u003e\\u003cbr\\u003e\\n    Longitude: \\u003cb\\u003e52.998\\u003c\\u002fb\\u003e\\u003cbr\\u003e\\n    Elevation: \\u003cb\\u003e23.0 m\\u003c\\u002fb\\u003e\\u003cbr\\u003e\\n    Temperature: \\u003cb\\u003e18.4\\u003c\\u002fb\\u003e\\u003cbr\\u003e\\n    Precipitation: \\u003cb\\u003e705.7\\u003c\\u002fb\\u003e\\u003cbr\\u003e\\n    DT: \\u003cb\\u003e9.6\\u003c\\u002fb\\u003e\\u003cbr\\u003e\\n    \",\"40759\",\"Sari\"],[\"\\n    Station Name: \\u003cb\\u003eSari (dasht-e-naz airport)\\u003c\\u002fb\\u003e\\u003cbr\\u003e\\n    Station ID: \\u003cb\\u003e40788\\u003c\\u002fb\\u003e\\u003cbr\\u003e\\n    Province: \\u003cb\\u003eMazandaran\\u003c\\u002fb\\u003e\\u003cbr\\u003e\\n    Latitude: \\u003cb\\u003e36.64\\u003c\\u002fb\\u003e\\u003cbr\\u003e\\n    Longitude: \\u003cb\\u003e53.195\\u003c\\u002fb\\u003e\\u003cbr\\u003e\\n    Elevation: \\u003cb\\u003e16.7 m\\u003c\\u002fb\\u003e\\u003cbr\\u003e\\n    Temperature: \\u003cb\\u003e17.8\\u003c\\u002fb\\u003e\\u003cbr\\u003e\\n    Precipitation: \\u003cb\\u003e602.6\\u003c\\u002fb\\u003e\\u003cbr\\u003e\\n    DT: \\u003cb\\u003e9.9\\u003c\\u002fb\\u003e\\u003cbr\\u003e\\n    \",\"40788\",\"Sari (dasht-e-naz airport)\"],[\"\\n    Station Name: \\u003cb\\u003eGalugah\\u003c\\u002fb\\u003e\\u003cbr\\u003e\\n    Station ID: \\u003cb\\u003e99299\\u003c\\u002fb\\u003e\\u003cbr\\u003e\\n    Province: \\u003cb\\u003eMazandaran\\u003c\\u002fb\\u003e\\u003cbr\\u003e\\n    Latitude: \\u003cb\\u003e36.738\\u003c\\u002fb\\u003e\\u003cbr\\u003e\\n    Longitude: \\u003cb\\u003e53.837\\u003c\\u002fb\\u003e\\u003cbr\\u003e\\n    Elevation: \\u003cb\\u003e-10.0 m\\u003c\\u002fb\\u003e\\u003cbr\\u003e\\n    Temperature: \\u003cb\\u003e17.7\\u003c\\u002fb\\u003e\\u003cbr\\u003e\\n    Precipitation: \\u003cb\\u003e536.9\\u003c\\u002fb\\u003e\\u003cbr\\u003e\\n    DT: \\u003cb\\u003e10.1\\u003c\\u002fb\\u003e\\u003cbr\\u003e\\n    \",\"99299\",\"Galugah\"],[\"\\n    Station Name: \\u003cb\\u003eBandar-e-amirabad\\u003c\\u002fb\\u003e\\u003cbr\\u003e\\n    Station ID: \\u003cb\\u003e99306\\u003c\\u002fb\\u003e\\u003cbr\\u003e\\n    Province: \\u003cb\\u003eMazandaran\\u003c\\u002fb\\u003e\\u003cbr\\u003e\\n    Latitude: \\u003cb\\u003e36.856\\u003c\\u002fb\\u003e\\u003cbr\\u003e\\n    Longitude: \\u003cb\\u003e53.386\\u003c\\u002fb\\u003e\\u003cbr\\u003e\\n    Elevation: \\u003cb\\u003e-20.0 m\\u003c\\u002fb\\u003e\\u003cbr\\u003e\\n    Temperature: \\u003cb\\u003e17.8\\u003c\\u002fb\\u003e\\u003cbr\\u003e\\n    Precipitation: \\u003cb\\u003e588.9\\u003c\\u002fb\\u003e\\u003cbr\\u003e\\n    DT: \\u003cb\\u003e7.6\\u003c\\u002fb\\u003e\\u003cbr\\u003e\\n    \",\"99306\",\"Bandar-e-amirabad\"],[\"\\n    Station Name: \\u003cb\\u003eAmol\\u003c\\u002fb\\u003e\\u003cbr\\u003e\\n    Station ID: \\u003cb\\u003e99309\\u003c\\u002fb\\u003e\\u003cbr\\u003e\\n    Province: \\u003cb\\u003eMazandaran\\u003c\\u002fb\\u003e\\u003cbr\\u003e\\n    Latitude: \\u003cb\\u003e36.479\\u003c\\u002fb\\u003e\\u003cbr\\u003e\\n    Longitude: \\u003cb\\u003e52.468\\u003c\\u002fb\\u003e\\u003cbr\\u003e\\n    Elevation: \\u003cb\\u003e23.7 m\\u003c\\u002fb\\u003e\\u003cbr\\u003e\\n    Temperature: \\u003cb\\u003e17.8\\u003c\\u002fb\\u003e\\u003cbr\\u003e\\n    Precipitation: \\u003cb\\u003e643.8\\u003c\\u002fb\\u003e\\u003cbr\\u003e\\n    DT: \\u003cb\\u003e9.3\\u003c\\u002fb\\u003e\\u003cbr\\u003e\\n    \",\"99309\",\"Amol\"],[\"\\n    Station Name: \\u003cb\\u003ePolsefid\\u003c\\u002fb\\u003e\\u003cbr\\u003e\\n    Station ID: \\u003cb\\u003e99360\\u003c\\u002fb\\u003e\\u003cbr\\u003e\\n    Province: \\u003cb\\u003eMazandaran\\u003c\\u002fb\\u003e\\u003cbr\\u003e\\n    Latitude: \\u003cb\\u003e36.104\\u003c\\u002fb\\u003e\\u003cbr\\u003e\\n    Longitude: \\u003cb\\u003e53.062\\u003c\\u002fb\\u003e\\u003cbr\\u003e\\n    Elevation: \\u003cb\\u003e610.0 m\\u003c\\u002fb\\u003e\\u003cbr\\u003e\\n    Temperature: \\u003cb\\u003e15.5\\u003c\\u002fb\\u003e\\u003cbr\\u003e\\n    Precipitation: \\u003cb\\u003e537.6\\u003c\\u002fb\\u003e\\u003cbr\\u003e\\n    DT: \\u003cb\\u003e9.9\\u003c\\u002fb\\u003e\\u003cbr\\u003e\\n    \",\"99360\",\"Polsefid\"]],\"hovertemplate\":\"%{customdata[0]}\",\"hovertext\":[\"Babolsar\",\"Gharakhil\",\"Sari\",\"Sari (dasht-e-naz airport)\",\"Galugah\",\"Bandar-e-amirabad\",\"Amol\",\"Polsefid\"],\"lat\":[36.699,36.487,36.536,36.64,36.738,36.856,36.479,36.104],\"legendgroup\":\"1\",\"lon\":[52.643,52.108,52.998,53.195,53.837,53.386,52.468,53.062],\"marker\":{\"color\":\"darkred\",\"size\":20},\"mode\":\"markers+text\",\"name\":\"1\",\"showlegend\":true,\"subplot\":\"mapbox\",\"text\":[\"Babolsar\",\"Gharakhil\",\"Sari\",\"Sari (dasht-e-naz airport)\",\"Galugah\",\"Bandar-e-amirabad\",\"Amol\",\"Polsefid\"],\"type\":\"scattermapbox\",\"textfont\":{\"color\":\"black\",\"size\":14},\"textposition\":\"top right\"}],                        {\"template\":{\"data\":{\"histogram2dcontour\":[{\"type\":\"histogram2dcontour\",\"colorbar\":{\"outlinewidth\":0,\"ticks\":\"\"},\"colorscale\":[[0.0,\"#0d0887\"],[0.1111111111111111,\"#46039f\"],[0.2222222222222222,\"#7201a8\"],[0.3333333333333333,\"#9c179e\"],[0.4444444444444444,\"#bd3786\"],[0.5555555555555556,\"#d8576b\"],[0.6666666666666666,\"#ed7953\"],[0.7777777777777778,\"#fb9f3a\"],[0.8888888888888888,\"#fdca26\"],[1.0,\"#f0f921\"]]}],\"choropleth\":[{\"type\":\"choropleth\",\"colorbar\":{\"outlinewidth\":0,\"ticks\":\"\"}}],\"histogram2d\":[{\"type\":\"histogram2d\",\"colorbar\":{\"outlinewidth\":0,\"ticks\":\"\"},\"colorscale\":[[0.0,\"#0d0887\"],[0.1111111111111111,\"#46039f\"],[0.2222222222222222,\"#7201a8\"],[0.3333333333333333,\"#9c179e\"],[0.4444444444444444,\"#bd3786\"],[0.5555555555555556,\"#d8576b\"],[0.6666666666666666,\"#ed7953\"],[0.7777777777777778,\"#fb9f3a\"],[0.8888888888888888,\"#fdca26\"],[1.0,\"#f0f921\"]]}],\"heatmap\":[{\"type\":\"heatmap\",\"colorbar\":{\"outlinewidth\":0,\"ticks\":\"\"},\"colorscale\":[[0.0,\"#0d0887\"],[0.1111111111111111,\"#46039f\"],[0.2222222222222222,\"#7201a8\"],[0.3333333333333333,\"#9c179e\"],[0.4444444444444444,\"#bd3786\"],[0.5555555555555556,\"#d8576b\"],[0.6666666666666666,\"#ed7953\"],[0.7777777777777778,\"#fb9f3a\"],[0.8888888888888888,\"#fdca26\"],[1.0,\"#f0f921\"]]}],\"heatmapgl\":[{\"type\":\"heatmapgl\",\"colorbar\":{\"outlinewidth\":0,\"ticks\":\"\"},\"colorscale\":[[0.0,\"#0d0887\"],[0.1111111111111111,\"#46039f\"],[0.2222222222222222,\"#7201a8\"],[0.3333333333333333,\"#9c179e\"],[0.4444444444444444,\"#bd3786\"],[0.5555555555555556,\"#d8576b\"],[0.6666666666666666,\"#ed7953\"],[0.7777777777777778,\"#fb9f3a\"],[0.8888888888888888,\"#fdca26\"],[1.0,\"#f0f921\"]]}],\"contourcarpet\":[{\"type\":\"contourcarpet\",\"colorbar\":{\"outlinewidth\":0,\"ticks\":\"\"}}],\"contour\":[{\"type\":\"contour\",\"colorbar\":{\"outlinewidth\":0,\"ticks\":\"\"},\"colorscale\":[[0.0,\"#0d0887\"],[0.1111111111111111,\"#46039f\"],[0.2222222222222222,\"#7201a8\"],[0.3333333333333333,\"#9c179e\"],[0.4444444444444444,\"#bd3786\"],[0.5555555555555556,\"#d8576b\"],[0.6666666666666666,\"#ed7953\"],[0.7777777777777778,\"#fb9f3a\"],[0.8888888888888888,\"#fdca26\"],[1.0,\"#f0f921\"]]}],\"surface\":[{\"type\":\"surface\",\"colorbar\":{\"outlinewidth\":0,\"ticks\":\"\"},\"colorscale\":[[0.0,\"#0d0887\"],[0.1111111111111111,\"#46039f\"],[0.2222222222222222,\"#7201a8\"],[0.3333333333333333,\"#9c179e\"],[0.4444444444444444,\"#bd3786\"],[0.5555555555555556,\"#d8576b\"],[0.6666666666666666,\"#ed7953\"],[0.7777777777777778,\"#fb9f3a\"],[0.8888888888888888,\"#fdca26\"],[1.0,\"#f0f921\"]]}],\"mesh3d\":[{\"type\":\"mesh3d\",\"colorbar\":{\"outlinewidth\":0,\"ticks\":\"\"}}],\"scatter\":[{\"fillpattern\":{\"fillmode\":\"overlay\",\"size\":10,\"solidity\":0.2},\"type\":\"scatter\"}],\"parcoords\":[{\"type\":\"parcoords\",\"line\":{\"colorbar\":{\"outlinewidth\":0,\"ticks\":\"\"}}}],\"scatterpolargl\":[{\"type\":\"scatterpolargl\",\"marker\":{\"colorbar\":{\"outlinewidth\":0,\"ticks\":\"\"}}}],\"bar\":[{\"error_x\":{\"color\":\"#2a3f5f\"},\"error_y\":{\"color\":\"#2a3f5f\"},\"marker\":{\"line\":{\"color\":\"#E5ECF6\",\"width\":0.5},\"pattern\":{\"fillmode\":\"overlay\",\"size\":10,\"solidity\":0.2}},\"type\":\"bar\"}],\"scattergeo\":[{\"type\":\"scattergeo\",\"marker\":{\"colorbar\":{\"outlinewidth\":0,\"ticks\":\"\"}}}],\"scatterpolar\":[{\"type\":\"scatterpolar\",\"marker\":{\"colorbar\":{\"outlinewidth\":0,\"ticks\":\"\"}}}],\"histogram\":[{\"marker\":{\"pattern\":{\"fillmode\":\"overlay\",\"size\":10,\"solidity\":0.2}},\"type\":\"histogram\"}],\"scattergl\":[{\"type\":\"scattergl\",\"marker\":{\"colorbar\":{\"outlinewidth\":0,\"ticks\":\"\"}}}],\"scatter3d\":[{\"type\":\"scatter3d\",\"line\":{\"colorbar\":{\"outlinewidth\":0,\"ticks\":\"\"}},\"marker\":{\"colorbar\":{\"outlinewidth\":0,\"ticks\":\"\"}}}],\"scattermapbox\":[{\"type\":\"scattermapbox\",\"marker\":{\"colorbar\":{\"outlinewidth\":0,\"ticks\":\"\"}}}],\"scatterternary\":[{\"type\":\"scatterternary\",\"marker\":{\"colorbar\":{\"outlinewidth\":0,\"ticks\":\"\"}}}],\"scattercarpet\":[{\"type\":\"scattercarpet\",\"marker\":{\"colorbar\":{\"outlinewidth\":0,\"ticks\":\"\"}}}],\"carpet\":[{\"aaxis\":{\"endlinecolor\":\"#2a3f5f\",\"gridcolor\":\"white\",\"linecolor\":\"white\",\"minorgridcolor\":\"white\",\"startlinecolor\":\"#2a3f5f\"},\"baxis\":{\"endlinecolor\":\"#2a3f5f\",\"gridcolor\":\"white\",\"linecolor\":\"white\",\"minorgridcolor\":\"white\",\"startlinecolor\":\"#2a3f5f\"},\"type\":\"carpet\"}],\"table\":[{\"cells\":{\"fill\":{\"color\":\"#EBF0F8\"},\"line\":{\"color\":\"white\"}},\"header\":{\"fill\":{\"color\":\"#C8D4E3\"},\"line\":{\"color\":\"white\"}},\"type\":\"table\"}],\"barpolar\":[{\"marker\":{\"line\":{\"color\":\"#E5ECF6\",\"width\":0.5},\"pattern\":{\"fillmode\":\"overlay\",\"size\":10,\"solidity\":0.2}},\"type\":\"barpolar\"}],\"pie\":[{\"automargin\":true,\"type\":\"pie\"}]},\"layout\":{\"autotypenumbers\":\"strict\",\"colorway\":[\"#636efa\",\"#EF553B\",\"#00cc96\",\"#ab63fa\",\"#FFA15A\",\"#19d3f3\",\"#FF6692\",\"#B6E880\",\"#FF97FF\",\"#FECB52\"],\"font\":{\"color\":\"#2a3f5f\"},\"hovermode\":\"closest\",\"hoverlabel\":{\"align\":\"left\"},\"paper_bgcolor\":\"white\",\"plot_bgcolor\":\"#E5ECF6\",\"polar\":{\"bgcolor\":\"#E5ECF6\",\"angularaxis\":{\"gridcolor\":\"white\",\"linecolor\":\"white\",\"ticks\":\"\"},\"radialaxis\":{\"gridcolor\":\"white\",\"linecolor\":\"white\",\"ticks\":\"\"}},\"ternary\":{\"bgcolor\":\"#E5ECF6\",\"aaxis\":{\"gridcolor\":\"white\",\"linecolor\":\"white\",\"ticks\":\"\"},\"baxis\":{\"gridcolor\":\"white\",\"linecolor\":\"white\",\"ticks\":\"\"},\"caxis\":{\"gridcolor\":\"white\",\"linecolor\":\"white\",\"ticks\":\"\"}},\"coloraxis\":{\"colorbar\":{\"outlinewidth\":0,\"ticks\":\"\"}},\"colorscale\":{\"sequential\":[[0.0,\"#0d0887\"],[0.1111111111111111,\"#46039f\"],[0.2222222222222222,\"#7201a8\"],[0.3333333333333333,\"#9c179e\"],[0.4444444444444444,\"#bd3786\"],[0.5555555555555556,\"#d8576b\"],[0.6666666666666666,\"#ed7953\"],[0.7777777777777778,\"#fb9f3a\"],[0.8888888888888888,\"#fdca26\"],[1.0,\"#f0f921\"]],\"sequentialminus\":[[0.0,\"#0d0887\"],[0.1111111111111111,\"#46039f\"],[0.2222222222222222,\"#7201a8\"],[0.3333333333333333,\"#9c179e\"],[0.4444444444444444,\"#bd3786\"],[0.5555555555555556,\"#d8576b\"],[0.6666666666666666,\"#ed7953\"],[0.7777777777777778,\"#fb9f3a\"],[0.8888888888888888,\"#fdca26\"],[1.0,\"#f0f921\"]],\"diverging\":[[0,\"#8e0152\"],[0.1,\"#c51b7d\"],[0.2,\"#de77ae\"],[0.3,\"#f1b6da\"],[0.4,\"#fde0ef\"],[0.5,\"#f7f7f7\"],[0.6,\"#e6f5d0\"],[0.7,\"#b8e186\"],[0.8,\"#7fbc41\"],[0.9,\"#4d9221\"],[1,\"#276419\"]]},\"xaxis\":{\"gridcolor\":\"white\",\"linecolor\":\"white\",\"ticks\":\"\",\"title\":{\"standoff\":15},\"zerolinecolor\":\"white\",\"automargin\":true,\"zerolinewidth\":2},\"yaxis\":{\"gridcolor\":\"white\",\"linecolor\":\"white\",\"ticks\":\"\",\"title\":{\"standoff\":15},\"zerolinecolor\":\"white\",\"automargin\":true,\"zerolinewidth\":2},\"scene\":{\"xaxis\":{\"backgroundcolor\":\"#E5ECF6\",\"gridcolor\":\"white\",\"linecolor\":\"white\",\"showbackground\":true,\"ticks\":\"\",\"zerolinecolor\":\"white\",\"gridwidth\":2},\"yaxis\":{\"backgroundcolor\":\"#E5ECF6\",\"gridcolor\":\"white\",\"linecolor\":\"white\",\"showbackground\":true,\"ticks\":\"\",\"zerolinecolor\":\"white\",\"gridwidth\":2},\"zaxis\":{\"backgroundcolor\":\"#E5ECF6\",\"gridcolor\":\"white\",\"linecolor\":\"white\",\"showbackground\":true,\"ticks\":\"\",\"zerolinecolor\":\"white\",\"gridwidth\":2}},\"shapedefaults\":{\"line\":{\"color\":\"#2a3f5f\"}},\"annotationdefaults\":{\"arrowcolor\":\"#2a3f5f\",\"arrowhead\":0,\"arrowwidth\":1},\"geo\":{\"bgcolor\":\"white\",\"landcolor\":\"#E5ECF6\",\"subunitcolor\":\"white\",\"showland\":true,\"showlakes\":true,\"lakecolor\":\"white\"},\"title\":{\"x\":0.05},\"mapbox\":{\"style\":\"light\"}}},\"mapbox\":{\"domain\":{\"x\":[0.0,1.0],\"y\":[0.0,1.0]},\"center\":{\"lat\":36.48286666666666,\"lon\":52.471266666666665},\"zoom\":7.5,\"style\":\"white-bg\",\"layers\":[{\"below\":\"traces\",\"source\":[\"https:\\u002f\\u002fbasemap.nationalmap.gov\\u002farcgis\\u002frest\\u002fservices\\u002fUSGSImageryOnly\\u002fMapServer\\u002ftile\\u002f{z}\\u002f{y}\\u002f{x}\"],\"sourceattribution\":\"United States Geological Survey\",\"sourcetype\":\"raster\"},{\"below\":\"traces\",\"color\":\"white\",\"line\":{\"width\":4},\"source\":{\"type\":\"FeatureCollection\",\"features\":[{\"id\":\"0\",\"type\":\"Feature\",\"properties\":{\"Ostan\":\"\\u0645\\u0627\\u0632\\u0646\\u062f\\u0631\\u0627\\u0646\",\"Markaz\":\"\\u0633\\u0627\\u0631\\u06cc\"},\"geometry\":{\"type\":\"Polygon\",\"coordinates\":[[[53.63523633800014,36.80748057500023],[53.63319350900014,36.807089924000195],[53.63145938700018,36.807438096000226],[53.63033815600022,36.80794653000015],[53.62976708600024,36.808660369000165],[53.62967190700027,36.809374207000246],[53.63048092400015,36.80965974200018],[53.63228931400022,36.81061152700016],[53.63438324000009,36.81127777600011],[53.635239846000275,36.81137295400015],[53.63590609500022,36.811658490000184],[53.63681029000014,36.812039203000154],[53.63747653900015,36.81113500800018],[53.63761930700019,36.8105639380002],[53.63847591300021,36.81008804500016],[53.63961805400015,36.80980251000028],[53.640427071000204,36.80951697500018],[53.640665017000174,36.809088672000144],[53.64061742800021,36.808660369000165],[53.64004635700013,36.808327244000225],[53.63890421600024,36.808184477000225],[53.63804761000023,36.80804170900012],[53.63714341500025,36.80780376300015],[53.6363007770002,36.8077791460002],[53.63523633800014,36.80748057500023]]]},\"bbox\":[53.62967190700027,36.807089924000195,53.640665017000174,36.812039203000154]},{\"id\":\"1\",\"type\":\"Feature\",\"properties\":{\"Ostan\":\"\\u0645\\u0627\\u0632\\u0646\\u062f\\u0631\\u0627\\u0646\",\"Markaz\":\"\\u0633\\u0627\\u0631\\u06cc\"},\"geometry\":{\"type\":\"Polygon\",\"coordinates\":[[[53.626483429000245,36.809088672000144],[53.62510411000022,36.808054030000164],[53.62410386100015,36.8081572280002],[53.621534150000286,36.80813688700022],[53.6186787970002,36.808422423000195],[53.61563308700022,36.809088672000144],[53.612587377000125,36.80985009900019],[53.61030309500012,36.81023081300009],[53.608113990000106,36.81080188400017],[53.60697184900016,36.81222956000016],[53.606210422000174,36.813181345000146],[53.60459238800024,36.813562058000116],[53.60278399800018,36.81394277200019],[53.60145150000022,36.814323486000205],[53.6009637100002,36.814954043000284],[53.60423546900029,36.81644120600009],[53.605722632000095,36.818671951000226],[53.60825080900014,36.821200128000214],[53.611522568000225,36.82179499400024],[53.614050746000146,36.82149756100023],[53.61538919200024,36.820456547000276],[53.61671250500018,36.81918196300012],[53.618012548000195,36.81841615900021],[53.61972576000022,36.81832098000024],[53.621534150000286,36.81708366100008],[53.622866649000116,36.816417412000305],[53.623437719000094,36.81518009200022],[53.62438950400025,36.8144186640003],[53.626102716000275,36.813181345000146],[53.62667378600008,36.81222956000016],[53.626768965000224,36.81080188400017],[53.626768965000224,36.80985009900019],[53.626483429000245,36.809088672000144]]]},\"bbox\":[53.6009637100002,36.808054030000164,53.626768965000224,36.82179499400024]},{\"id\":\"2\",\"type\":\"Feature\",\"properties\":{\"Ostan\":\"\\u0645\\u0627\\u0632\\u0646\\u062f\\u0631\\u0627\\u0646\",\"Markaz\":\"\\u0633\\u0627\\u0631\\u06cc\"},\"geometry\":{\"type\":\"Polygon\",\"coordinates\":[[[53.61992008300018,36.8537888300001],[53.62263266800022,36.85336052700012],[53.625488022000184,36.85364606200022],[53.62777230400019,36.854217133000134],[53.631698415000244,36.85478820300011],[53.634233356000095,36.85361713800012],[53.635910061000175,36.85171869900017],[53.637337737000166,36.84864919400013],[53.63819434300018,36.84672183000015],[53.63801158400008,36.84541577400012],[53.63769465600012,36.84379509300021],[53.63526760600024,36.843295407000085],[53.63255502100026,36.8442947800001],[53.63055627300025,36.84486585100018],[53.626987082000085,36.845793841000216],[53.62391757700021,36.846222144000194],[53.62220436500019,36.846222144000194],[53.620919456000195,36.8464362950001],[53.61992008300018,36.847007366000184],[53.61813548700019,36.847721204000095],[53.61681488600021,36.848458837000294],[53.61569653900017,36.848720578000155],[53.61429265700019,36.84898231800014],[53.612983954000185,36.84983892400015],[53.61153724200017,36.85076215500027],[53.60936717300012,36.85076215500027],[53.608796103000145,36.84979133500019],[53.608282139000266,36.84796390900016],[53.60731131900019,36.8471073030002],[53.60576942800009,36.84744994500011],[53.603770681000185,36.84939158600008],[53.601594664000174,36.84955219900013],[53.59906648700013,36.84940348300012],[53.59519986200024,36.848957334000204],[53.59505114600017,36.851039362000165],[53.59490243000016,36.85505470300012],[53.595173688000216,36.85545445200029],[53.59717243600022,36.855930345000104],[53.60007537800021,36.856549004000215],[53.60354939100017,36.85754837800016],[53.60569090600018,36.85773873500017],[53.60773724200021,36.85797668100014],[53.60954563300015,36.8578815030001],[53.610973309000144,36.85754837800016],[53.61278170000014,36.85683454000025],[53.61513736600017,36.855930345000104],[53.617992719000085,36.85414574900028],[53.61992008300018,36.8537888300001]]]},\"bbox\":[53.59490243000016,36.843295407000085,53.63819434300018,36.85797668100014]},{\"id\":\"3\",\"type\":\"Feature\",\"properties\":{\"Ostan\":\"\\u0645\\u0627\\u0632\\u0646\\u062f\\u0631\\u0627\\u0646\",\"Markaz\":\"\\u0633\\u0627\\u0631\\u06cc\"},\"geometry\":{\"type\":\"Polygon\",\"coordinates\":[[[50.78149817100024,36.86863971400021],[50.7839028260002,36.86610146700025],[50.79722780700018,36.86027178800026],[50.803295433000244,36.85848719200021],[50.809244085000216,36.854918001000215],[50.82054652500011,36.848612429000184],[50.83244383000016,36.84361556100009],[50.845292920000134,36.839213558000154],[50.857190225000124,36.83564436700016],[50.86432860800022,36.83314593200009],[50.87063417900015,36.83005263300021],[50.87872434700023,36.825293711000086],[50.887647325000216,36.820772735000105],[50.891216517000146,36.81720354400011],[50.89621338500024,36.81375332500022],[50.90239998400028,36.80875645700013],[50.910728097000174,36.80518726600013],[50.920840807000275,36.79923861300023],[50.92807588600016,36.7953799040003],[50.93154838100014,36.79352790700028],[50.943564659000174,36.78769822700019],[50.95415326100016,36.78317725100021],[50.966080281000245,36.77819983400025],[50.96926283800025,36.77687168000011],[50.98687084900024,36.77127994600022],[50.99638869300014,36.766877943000225],[50.9998389120002,36.76497437500012],[51.002533802000244,36.763628820000235],[51.011087842000165,36.75935780100025],[51.03773780400019,36.750315849000174],[51.056059654000194,36.74448616900008],[51.07402458400014,36.74091697800009],[51.07747480300009,36.73937032800018],[51.08011124600017,36.73812824900017],[51.091342302000214,36.735368075000224],[51.10057461000031,36.73260790000023],[51.1087599560002,36.7309898660003],[51.12075244000022,36.72775379900014],[51.12770046600025,36.726135766000084],[51.13455331400024,36.72375630500011],[51.14435669300019,36.72223345000015],[51.14787829500011,36.7215672010002],[51.1506384700001,36.720615416000214],[51.15686996000022,36.71977205600024],[51.163297202000194,36.718902204000244],[51.180143786000144,36.715190245000144],[51.20517571600027,36.7110975720002],[51.218976590000125,36.70909882500024],[51.22000454300019,36.70895666100023],[51.227923363000286,36.70786150500021],[51.242676022000296,36.70586275800014],[51.246547029000226,36.70542215600028],[51.25438297000011,36.70453026000018],[51.258285286000216,36.70319776200023],[51.26409117100019,36.70148455000026],[51.268183844000134,36.701103836000186],[51.2717054470001,36.70138937100029],[51.27427526400021,36.701294193000194],[51.27627401100011,36.70034240900014],[51.27865347200009,36.69891473200022],[51.281508825000174,36.69748705500018],[51.284744892000106,36.69720152000025],[51.28557497400021,36.69730528000014],[51.288552030000176,36.69767741200019],[51.29635666200022,36.6965352710003],[51.31958020100018,36.69453652400017],[51.322625912000206,36.69377509600008],[51.326718584000105,36.6931088470003],[51.336902677000126,36.69244259800013],[51.35260712100029,36.690919743000165],[51.36269603500017,36.69015831600012],[51.36659835100028,36.69015831600012],[51.36916816900009,36.68930171000011],[51.386681002000216,36.68901617400013],[51.38971658500009,36.68875530400021],[51.39886384200014,36.68796921100011],[51.41133221800027,36.686731892000125],[51.42085006100024,36.68654153500012],[51.426084876000175,36.68558975000013],[51.430272727000215,36.68416207400014],[51.434650936000196,36.68083082800018],[51.440551999000206,36.67730922600015],[51.44388324400023,36.67492976500017],[51.44645306200022,36.67369244500014],[51.45133447300009,36.67352116700016],[51.451878233000116,36.67350208800025],[51.454733587000135,36.67131298400017],[51.460539471000175,36.66645888400018],[51.46368036000024,36.66446013700022],[51.46881999600009,36.66322281700019],[51.47862337500021,36.661795140000095],[51.4834774750002,36.66103371300022],[51.48604729300024,36.65932050100008],[51.49118692900021,36.6583687170002],[51.49689763500021,36.65903496600015],[51.49908674000022,36.65979639300019],[51.50070477300028,36.6583687170002],[51.500895129000185,36.65627479100016],[51.500609595000185,36.65522782800031],[51.50184691400017,36.65332425900027],[51.50498780300023,36.652658010000096],[51.50993708200025,36.651420690000236],[51.51640921600017,36.64970747800021],[51.52288135000009,36.64685212500012],[51.528401699000256,36.64523409200012],[51.53230401500019,36.64494855600009],[51.53573043800009,36.64314016600025],[51.538871328000084,36.641807668000126],[51.545248283000205,36.63904749300025],[51.550007205000156,36.63790535200019],[51.555432376000226,36.636572854000235],[51.56152379600013,36.635335534000205],[51.56609236200012,36.6346692850002],[51.56999467800023,36.63314643000024],[51.572659674000306,36.63190911000021],[51.57551502600012,36.62981518400011],[51.577513774000124,36.62914893500016],[51.5795125220003,36.62886340000023],[51.5815112690002,36.62715018800009],[51.58550876300018,36.62286715800025],[51.59083875600021,36.617727523000156],[51.60073731400013,36.61515770500017],[51.612634619000175,36.61077949600019],[51.62353083900024,36.60764594300019],[51.627196920000245,36.60659164500015],[51.64366279000018,36.6022134370001],[51.64804099900016,36.60011951100023],[51.650801173000275,36.59954844000015],[51.65451313300025,36.59964361900012],[51.656892594000226,36.59897737000017],[51.658986519000166,36.597835229000225],[51.66412615400009,36.59716897900017],[51.66736222200012,36.597264158000144],[51.66926579100016,36.59716897900017],[51.67269221400028,36.59640755200013],[51.674215070000116,36.59574130300018],[51.677736671000105,36.59497987500026],[51.682305237000094,36.59450398300015],[51.685541305000186,36.59421844800022],[51.687540051000155,36.59374255600011],[51.690871297000115,36.59260041400012],[51.69867592900016,36.59260041400012],[51.712381624000216,36.59079202400022],[51.71894893700011,36.590030596000304],[51.727610175000166,36.58936434700013],[51.73170284800017,36.58888845500019],[51.742648368000175,36.58822220600024],[51.76377798200019,36.586413816000174],[51.77795957000012,36.586318637000204],[51.787858127000106,36.586318637000204],[51.7984229340002,36.5856523880002],[51.80270596400021,36.58489096100021],[51.806227566000246,36.58441506800017],[51.81060577400012,36.58374881900022],[51.81403219800012,36.58336810600025],[51.8166971950003,36.58127418000015],[51.81955254800022,36.57956096800018],[51.8241211130001,36.577752578000116],[51.83068842500029,36.57575383000011],[51.841253232000156,36.57385026200018],[51.853423910000174,36.57302791800015],[51.855339641000114,36.572898477000194],[51.87389943700009,36.57213705000015],[51.9069263570002,36.57051901600022],[51.9331804680001,36.57134498800019],[51.949280762000114,36.57185151400017],[51.97726322300019,36.57432615400012],[51.991826631000094,36.57622809100019],[52.00277104500026,36.577657399000145],[52.03113422200016,36.58289221300021],[52.036940105000156,36.583653641000126],[52.040937600000234,36.58460542500018],[52.047314555000185,36.58498613900025],[52.064781936000145,36.58835224800015],[52.065588816000115,36.588507741000114],[52.09947234100025,36.59583648100022],[52.14135085400011,36.60583021700023],[52.15534208500014,36.61077949600019],[52.17484196100014,36.61594502700012],[52.1840859740002,36.61839377200016],[52.217683963000184,36.62800679400027],[52.24557124600017,36.635335534000205],[52.26993692700012,36.64085588300014],[52.2813583410001,36.64447266400015],[52.291365561000134,36.647197845000164],[52.30267831000015,36.65027854900012],[52.31514668600022,36.65284836700016],[52.32533231400009,36.654945408000174],[52.34427128900012,36.65884460900014],[52.37177785800009,36.665602278000165],[52.405484395000144,36.67382113200017],[52.406517989000236,36.67407315900016],[52.42079475500026,36.67835618900017],[52.435832947000165,36.681972970000174],[52.46286362500024,36.68520903700016],[52.469887227000186,36.68614048200021],[52.48941841100026,36.6887306390002],[52.49998321700025,36.690443851000225],[52.53452671000014,36.694401959000174],[52.53653173800012,36.694631702000265],[52.5674647310002,36.6962497360002],[52.58017656200013,36.69869257900024],[52.594209873000125,36.70138937100029],[52.641418379000186,36.71014578800009],[52.65264943500023,36.71252524900024],[52.664832276000254,36.714619175000166],[52.66753116700016,36.714776698000094],[52.68929313500024,36.71604685100016],[52.7149814230001,36.721330258000194],[52.7161334540001,36.7215672010002],[52.75391929600016,36.72851522700023],[52.78437639700013,36.73175129400022],[52.811502252000196,36.73546325300015],[52.83405954300031,36.74069806700015],[52.845500962000244,36.74323090100012],[52.87146466900009,36.74897859200024],[52.90820354700014,36.75744947300012],[52.91933808500022,36.760479974000134],[52.939326897000115,36.765920354000116],[52.97663684600013,36.77572373300029],[52.995196641000234,36.78076819100022],[53.0061759940001,36.78357093700009],[53.04031122200024,36.79228478200014],[53.07248153400019,36.80170744700024],[53.1125516580002,36.8141758230002],[53.12549592600027,36.81674564100018],[53.1467207180001,36.82140938500021],[53.15704289300021,36.82328614400018],[53.161378198000136,36.824074381000116],[53.198117076000244,36.8306416930003],[53.20544581600018,36.83140312100022],[53.20820599100023,36.83130794200025],[53.20925295400025,36.83092722900011],[53.21144205800016,36.83073687200027],[53.21458294600018,36.832259727000235],[53.224195969000164,36.83416329600027],[53.24105190900025,36.83710996400015],[53.254731244000084,36.839501315000234],[53.26374858700018,36.84124235200011],[53.273290225000096,36.84288418000028],[53.28114244700015,36.84413339700012],[53.29071977700016,36.8456800470002],[53.29922635000014,36.846929264000096],[53.30571038200014,36.84788104800015],[53.3149307930002,36.84895180500018],[53.32980242400009,36.85085537400022],[53.341521270000214,36.8518071590002],[53.35093203800011,36.85341329500022],[53.36276985700016,36.8547814850001],[53.37460767500016,36.85656608100015],[53.39589433300017,36.85957609900015],[53.41074217000022,36.86128931100012],[53.42787428900016,36.86300252300015],[53.445720247000224,36.86514403800015],[53.455595010000195,36.86601492000028],[53.470062133000226,36.86829920300016],[53.4795799770003,36.869060630000206],[53.4866231810002,36.87001241500019],[53.49633138200011,36.87115455600025],[53.507752795000215,36.87210634000013],[53.51784171000014,36.872867768000276],[53.53078597800021,36.874009909000165],[53.54696631200011,36.875723121000135],[53.56181414900021,36.87667490600012],[53.576281272000244,36.878768831000116],[53.58903518300025,36.879530259000205],[53.59812402000023,36.88068128300023],[53.60469133300012,36.88142367500018],[53.610287825000114,36.88188053200008],[53.615541675000145,36.882680031000234],[53.6201102400002,36.883365315000106],[53.62587805400017,36.88376506500015],[53.631817188000184,36.88456456400013],[53.63659133900023,36.885105177000185],[53.64258758100027,36.8858666050001],[53.64839346500014,36.886152140000206],[53.65467524200022,36.886342497000214],[53.65829202300023,36.886818389000155],[53.66352683700012,36.887294281000095],[53.67057004200012,36.88815088700011],[53.68036152400009,36.8889301610003],[53.690028084000176,36.88952502600023],[53.699099779000164,36.8902686080001],[53.70642257100013,36.89068178400015],[53.715100300000245,36.89178957900009],[53.71760603700017,36.89210946000014],[53.72807566600022,36.8932991910001],[53.73783145600021,36.89401302900018],[53.74853903000013,36.8954407060001],[53.761150174000136,36.897106328000234],[53.77233364100027,36.89805811300022],[53.784944784000174,36.89972373500018],[53.79122758700015,36.900477672000136],[53.79707333400023,36.89240430900014],[53.80378341400012,36.883409947000246],[53.808351979000236,36.87669986600008],[53.80423876700024,36.87675320000022],[53.79654987200024,36.87584862400013],[53.78871021400016,36.87630091200009],[53.78147360700012,36.87675320000022],[53.77288013600008,36.878110064000225],[53.766554699000096,36.87716151100017],[53.76323132600021,36.87584862400013],[53.75825615900021,36.87283337100018],[53.75388404200021,36.87011964300018],[53.74800429900017,36.86981811800018],[53.74109936900015,36.87027040600009],[53.737782591000155,36.86996888100009],[53.736124202000155,36.867104391000225],[53.73416428700011,36.86439066300022],[53.72662615500025,36.86439066300022],[53.72119870000017,36.863938375000146],[53.713509804000296,36.86363685000015],[53.71245953200025,36.86328111200021],[53.704162520000125,36.86047083400018],[53.69421218500008,36.85956625800014],[53.68652329000025,36.858963207000215],[53.67823134500014,36.858963207000215],[53.666427124000165,36.86061522000023],[53.66047847200019,36.85883062400018],[53.652745223000124,36.86269724800019],[53.64471454200009,36.86210238300009],[53.639063322000254,36.86388697900014],[53.63063838000022,36.86232833900016],[53.62567885400017,36.86358954600013],[53.61764817300019,36.86626644000012],[53.60932006000024,36.86775360300015],[53.60366884000018,36.868943333000175],[53.59861248500022,36.868051035000235],[53.594448429000124,36.866861305000214],[53.59087923700025,36.864184411000224],[53.5890946410002,36.86180495000025],[53.58471643300015,36.862304637000136],[53.57957679700013,36.86154320900022],[53.572343236000165,36.8604010680001],[53.56301574900016,36.85982999700019],[53.556010616000094,36.85944928400022],[53.55772382700019,36.85621321700023],[53.56038882400014,36.856974644000104],[53.563601096000184,36.85602286000022],[53.56831242900017,36.85430964800025],[53.57195300400019,36.85352442600009],[53.573880368000175,36.85295335500018],[53.57516527700017,36.85159706200017],[53.57766371100013,36.85102599200013],[53.580019377000156,36.84931278000016],[53.581803973000206,36.84874170900025],[53.58423102300014,36.8488130930001],[53.586729457000274,36.84902724500023],[53.58808575000012,36.84809925500019],[53.59008449700019,36.846457427000246],[53.592011861000174,36.84453006300009],[53.59351092100019,36.84224578100009],[53.593439537000165,36.84081810400022],[53.59293985000011,36.839818730000104],[53.59186909300024,36.83974734700013],[53.59086971900018,36.840960872000096],[53.589156507000155,36.842174397000235],[53.58751467900021,36.84281685100012],[53.58637253800009,36.84188886200013],[53.58615362800015,36.840885324000226],[53.585766965000175,36.84020122900023],[53.58517210000025,36.839249444000245],[53.58386339600014,36.838059714000224],[53.58332801800009,36.83722690300016],[53.58332801800009,36.83615614500019],[53.58362545000017,36.83508538800015],[53.583419627000126,36.83375836200014],[53.58393359000013,36.832844649000094],[53.585589695000294,36.83153118700017],[53.58621787300018,36.82970376100013],[53.58604655200014,36.828218977000176],[53.58524705300016,36.827248157000156],[53.58393359000013,36.82639155100014],[53.582391700000244,36.826277337000136],[53.58124955800025,36.825934694000125],[53.57987898900029,36.826220230000104],[53.578394205000166,36.82576337300026],[53.57656677900013,36.82519230300022],[53.57513910300014,36.825706266000225],[53.57354010500018,36.8242214830002],[53.57182689300015,36.82325066200025],[53.5707989660001,36.821822986000086],[53.5693141820002,36.82130902200021],[53.56760097000017,36.821480343000246],[53.56565933000013,36.82227984200023],[53.5639461180001,36.82205141400016],[53.56286970600024,36.822180451000236],[53.56160472800019,36.82262248500024],[53.55983440900019,36.82427859000023],[53.55772144800022,36.82559205200016],[53.55509452300021,36.826220230000104],[53.551610992000235,36.827419478000195],[53.54847010400022,36.82844740500025],[53.54681399900022,36.82884715500012],[53.54424418100024,36.82907558300019],[53.54133172100012,36.82890426200015],[53.53847636700016,36.82970376100013],[53.53653472700023,36.830160617000104],[53.533450946000244,36.8294182250001],[53.5312808770002,36.82930401100009],[53.52863967600024,36.8285987390002],[53.52471356500024,36.828384587000244],[53.52242928200013,36.828384587000244],[53.52207236300018,36.82931257700028],[53.52307173700024,36.83038333500019],[53.52378557500015,36.831239941000206],[53.52264343400009,36.83166824400024],[53.51994517900022,36.83174160200025],[53.5168042370002,36.83081163800023],[53.51273535800027,36.83002641600024],[53.51002277300023,36.82959811300009],[53.507310187000144,36.8290984260002],[53.50217055100018,36.830240567000146],[53.497173683000085,36.830240567000146],[53.49389002700019,36.830240567000146],[53.49017806800009,36.83031195100017],[53.485752270000205,36.83052610200019],[53.472307952000165,36.8330367260001],[53.47351775700014,36.829327439000224],[53.470805172000155,36.82818529700023],[53.47180454500017,36.82604378300016],[53.4737081140002,36.82423539200022],[53.47580204000025,36.82190352000015],[53.4783242690001,36.819857184000114],[53.48179828200023,36.81866745300022],[53.4843205100002,36.81814397200014],[53.486652382000216,36.817715669000165],[53.48850836200012,36.8175253120001],[53.48984086000024,36.818048794000276],[53.49103059000009,36.81833432900015],[53.4930293380001,36.81823915000018],[53.49421906800012,36.81757290100023],[53.495551566000245,36.81614522500024],[53.49726477800027,36.81357540700026],[53.498635348000164,36.8118146060001],[53.50020579200026,36.809244788000115],[53.501871415000096,36.80933996600015],[53.50367980500016,36.80962550200019],[53.50529783900009,36.80986344800016],[53.506582748000085,36.810291751000136],[53.5061068550001,36.81119594600028],[53.506297212000106,36.81214773000016],[53.50824844200025,36.81271947700009],[53.510056761000214,36.81252844400018],[53.51162720500014,36.81157666000013],[53.51305488100013,36.810672464000106],[53.51457773600009,36.81095800000014],[53.515470293000135,36.810882432000085],[53.51667366500021,36.811024014000225],[53.517718625000214,36.81091041100018],[53.51928906900025,36.81038692900023],[53.519717372000116,36.80929237700025],[53.52109746000025,36.80805505700016],[53.52214442200017,36.80748398700018],[53.52401762100021,36.80657430400015],[53.52722982900025,36.8065886440001],[53.53301769700022,36.80653532700018],[53.53509541200009,36.80651940200022],[53.538069929000244,36.8064966030002],[53.543693549000125,36.80645350000009],[53.54778685200017,36.80642198900023],[53.55018248300024,36.806402558000116],[53.55248285400023,36.80622898400014],[53.55543290100013,36.8058887360001],[53.560662980000245,36.805258966000224],[53.566343503000155,36.80457442500011],[53.57045851900011,36.80408003200017],[53.57276947000008,36.80380238600014],[53.57571653000019,36.80422971300021],[53.57812142100016,36.80394550500017],[53.58085548100024,36.80374554500014],[53.583273194000185,36.80349328700021],[53.58550689500015,36.80315395900021],[53.58657883700022,36.80299113600012],[53.597546011000304,36.79874912100024],[53.61087099300022,36.793990198000245],[53.62062678300026,36.79042100700025],[53.6280031120001,36.78732770800019],[53.63680711800009,36.78280673200021],[53.651912056000185,36.77632945600021],[53.65338102800024,36.77784163300015],[53.6535713840002,36.782219841000256],[53.65309549100016,36.78450412400014],[53.65223888600025,36.788882332000185],[53.65338102800024,36.79097625800023],[53.656046025000194,36.793165362000195],[53.657957076000116,36.79488914200016],[53.66090012400031,36.797543570000244],[53.664326548000304,36.7991616030003],[53.67146493100017,36.79697249900016],[53.68459955600025,36.79440268100018],[53.7022075670003,36.79164250700023],[53.71324826700021,36.789834116000236],[53.71571463200024,36.78991059200018],[53.72552628500023,36.79021483000014],[53.73371163100012,36.79107143600015],[53.7491305380002,36.7934508970003],[53.75988570200013,36.79440268100018],[53.765881944000114,36.79373643200017],[53.77225889900012,36.792689470000084],[53.78767909300018,36.79356811300022],[53.79720729300021,36.79380933400017],[53.80806220400012,36.7918795720002],[53.82132931700016,36.78802004800025],[53.83254605800016,36.78802004800025],[53.83893839400025,36.786210896000114],[53.84906964400011,36.785246015000155],[53.84967269500015,36.78355747300026],[53.8505169660001,36.778250628000194],[53.8481351760002,36.76537142400019],[53.84870624700011,36.75918482600025],[53.851942313000166,36.752522335000094],[53.8556542730002,36.74862001900016],[53.85546391600013,36.74576466600024],[53.85137124300019,36.74186235000013],[53.849658030000114,36.73910217500014],[53.85013392300016,36.73434325300019],[53.850514637000174,36.73053611500012],[53.850324280000166,36.72587237200014],[53.85175195700009,36.72044720000014],[53.8538458820002,36.71664006300017],[53.85336999000009,36.71045346400018],[53.851466421000225,36.703410260000226],[53.84842071100013,36.6930358100002],[53.84784964100015,36.68675403300011],[53.850038745000234,36.68161439700009],[53.85298927700012,36.67761690200018],[53.85812891100011,36.673143516000096],[53.86269876700021,36.67136635000014],[53.864981760000205,36.67047851900014],[53.87002621700026,36.66990744900011],[53.87821156300015,36.6697932350001],[53.88277815500015,36.67061207200027],[53.894772612000224,36.67276280200019],[53.93075006100014,36.67813086600029],[53.941391551000265,36.678811921000204],[53.94502682800021,36.679044579000106],[53.95621981300019,36.67607501200018],[53.96467165800027,36.67059273300015],[53.97472250200019,36.6604276760001],[53.9824890620003,36.65368904300021],[53.98865662500015,36.65209004500025],[53.99635850600015,36.65010952800009],[54.0020295180002,36.65004477200023],[54.0043534950002,36.65001815600016],[54.01112513700025,36.64930896400011],[54.01787644700016,36.64860190100012],[54.03797813400013,36.644855678000226],[54.047252321000144,36.64216022400018],[54.06356209900014,36.63603834700018],[54.0801003040001,36.62859158600014],[54.095770483000194,36.61950014100012],[54.10856246500026,36.61091123900019],[54.11829350900018,36.60227665100018],[54.1247808710001,36.59336794900008],[54.12825298100017,36.58377396200024],[54.132273318000216,36.570844923000095],[54.133187031000205,36.55800725500018],[54.13213626100014,36.546905641000194],[54.130720006000104,36.53297151800024],[54.12994335000013,36.52100187700023],[54.12839003800025,36.509214979000205],[54.1281159240001,36.50190527500024],[54.12827609200019,36.49569137600008],[54.11413699900015,36.491445131000205],[54.0984801460001,36.4879711180003],[54.08477445000011,36.482926660000146],[54.070973576000085,36.47569309900018],[54.06050394800013,36.46950650000019],[54.04951083800023,36.46341508000012],[54.03461541200022,36.456609821000086],[54.02963678600025,36.45477860300025],[54.02219462600016,36.45204125600014],[54.010011786000234,36.4500900980002],[54.001255369000205,36.451470186000165],[53.99435896700015,36.451827534000245],[53.983013697000274,36.44931482400017],[53.96116072800021,36.44725896900019],[53.93854633100017,36.4420812620001],[53.927581773000156,36.43469541500019],[53.91745478800027,36.425634428000194],[53.90496737600017,36.41131959000023],[53.89110939600022,36.397233181000104],[53.87907884100014,36.377969065000116],[53.87615786800018,36.36866046900013],[53.876767010000094,36.364701046000164],[53.877490366000245,36.36230254900022],[53.87924164900011,36.36017055200011],[53.88537114100012,36.35640148600021],[53.88910213600019,36.35404106000016],[53.89085341900022,36.353736489000084],[53.89629762600015,36.35114763600018],[53.90257940300023,36.34772121200018],[53.90722411100012,36.34600800000021],[53.9203968070002,36.33831758200017],[53.930409579000184,36.33150280600012],[53.936310642000194,36.32636317000015],[53.93836649700023,36.3251448860002],[53.94198327700019,36.32095703500022],[53.94628534300017,36.31684532600025],[53.94853155400011,36.31189604700012],[53.94971176700017,36.30786048100015],[53.948988410000084,36.30401527200024],[53.9479604830002,36.29811420900023],[53.94544777200019,36.29327914400011],[53.94270663300017,36.285474512000235],[53.94118377800021,36.28170544600016],[53.93867106800013,36.27805059400026],[53.93528271500014,36.27313938600014],[53.93277000400019,36.26948453400024],[53.929572009000196,36.26487789800012],[53.92648822700011,36.26255554400018],[53.92386130200009,36.2586341920001],[53.92211001900023,36.256273767000096],[53.92081559200017,36.25429405500023],[53.908061681000106,36.242606143000216],[53.901817975000085,36.23720000700024],[53.89420370000022,36.230118731000175],[53.89047270500021,36.226578093000114],[53.886056426000096,36.22383695400026],[53.880726433000234,36.220905458000175],[53.869647663000194,36.215575466000246],[53.859596819000274,36.21058811500012],[53.85221097200014,36.207961190000105],[53.8478708360002,36.206286050000244],[53.841817487000185,36.2041921240002],[53.8296727180001,36.19947127300014],[53.822401085000195,36.19619713500009],[53.81950766000017,36.19494078000014],[53.81436802500025,36.192922997000096],[53.80835274700013,36.189839215000234],[53.80416489600009,36.188620931000116],[53.7995963310002,36.187326504000225],[53.78330178200014,36.17780866000015],[53.776364763000174,36.17365969100018],[53.767608346000145,36.16733984200016],[53.75953721600024,36.15904028200015],[53.751999082000225,36.15279657700023],[53.74674523100009,36.145563015000164],[53.73745581600025,36.135436029000175],[53.716744988000244,36.12325318900025],[53.70950408500022,36.11877263000014],[53.70296315000019,36.11472520100017],[53.6895620250001,36.10497892800015],[53.68111018000019,36.10071493400011],[53.65209979000025,36.09310065900013],[53.62217569000023,36.09051180500012],[53.60519585600025,36.08898895000016],[53.59643943900022,36.08936966400023],[53.58943430600016,36.09005494900015],[53.58357131400015,36.09043566300022],[53.573520471000165,36.09005494900015],[53.554941640000095,36.0878468090001],[53.52775867700012,36.08297367300008],[53.50666713500027,36.0806893900002],[53.493037582000284,36.07909039300017],[53.484052737000184,36.07695839500013],[53.460676912000224,36.07429339900028],[53.45245349500027,36.0753593980001],[53.441108225000164,36.07695839500013],[53.42961066900011,36.075892397000246],[53.41095569500021,36.071704546000205],[53.38483873100023,36.06492784100021],[53.361919763000174,36.05464856900022],[53.34722223000011,36.04718380300022],[53.3275793800002,36.03584130900015],[53.30359441400026,36.0210696150001],[53.29072628900019,36.01056191600014],[53.283340442000224,36.0026430690001],[53.275497739000116,35.99754150500024],[53.268264177000276,35.992972940000186],[53.259466704000204,35.987540653000224],[53.25261385600021,35.98274366000021],[53.244314296000084,35.979697950000116],[53.23251217000018,35.97231210300015],[53.228400462000195,35.967971966000164],[53.22577984900016,35.962029503000224],[53.22669356200015,35.9587744010002],[53.2279499170001,35.95129337500009],[53.23143344800013,35.94512581200024],[53.23463144400023,35.93815875000024],[53.23348930300011,35.93221961600017],[53.23109080600017,35.92839344200013],[53.22657934800014,35.92462437600017],[53.21778486000022,35.922397201000194],[53.217737271000146,35.92234961200029],[53.207886302000134,35.9209695240001],[53.20403157500016,35.9211122920002],[53.158203156000184,35.91868524200015],[53.1444974610003,35.91868524200015],[53.10771099400023,35.91849488500009],[53.09814556100025,35.917447922000235],[53.090911999000184,35.91587747800014],[53.079585765000104,35.914687747000244],[53.06093079000016,35.91126132300025],[53.05712365300019,35.90959570100023],[53.05369722900019,35.90664516900017],[53.04751063000015,35.901077230000226],[53.04365590400022,35.896651433000216],[53.041324032000205,35.8936533120002],[53.0377072510002,35.89170215400026],[53.03375734600013,35.8900841200001],[53.02818940700013,35.88884680100017],[53.024382269000284,35.888323319000165],[53.021669684000244,35.887419124000246],[53.0215269160002,35.88546796600025],[53.0214317380001,35.883469219000176],[53.02252629000009,35.87923377800013],[53.024477448000255,35.87609289000011],[53.024715394000225,35.87485557000025],[53.02490575100023,35.87166709200022],[53.02504851800023,35.87023941500013],[53.02538164300017,35.86790754400022],[53.02371602000011,35.86471906600019],[53.01971852600013,35.85848487800018],[53.01986129400018,35.85267899300027],[53.020879104000244,35.851346148000175],[53.0183346930001,35.8492058650001],[53.01302373600021,35.84475151400022],[53.00725592200013,35.84029716300017],[52.997490614000185,35.83595702600019],[52.987211343000126,35.8328732450002],[52.9766465360002,35.83030342700022],[52.96099920100028,35.830874497000195],[52.939526943000146,35.8331016730001],[52.92130979100011,35.83669941800014],[52.90526270600009,35.84218169600024],[52.89235650900031,35.84800661700018],[52.87448199800025,35.8563442480002],[52.861575802000175,35.86182652600013],[52.843701291000116,35.869421766000244],[52.83130409600011,35.87421909700009],[52.816836973000306,35.879396805000226],[52.79917185400018,35.88777250700025],[52.78500930200022,35.89675735200018],[52.76932389500013,35.90399091400025],[52.75196334800012,35.91000619100009],[52.72668395400018,35.91845803700022],[52.710237120000215,35.92432102800012],[52.695008569000095,35.929651021000154],[52.68267344300017,35.93315358800015],[52.66576975200019,35.93589472700023],[52.6629213020002,35.93643530900016],[52.6553381950003,35.937874438000165],[52.6280790900002,35.940006435000214],[52.610566257000244,35.94092014800009],[52.602392407000195,35.94018239800016],[52.5899716200002,35.93984927300022],[52.5756472650001,35.93946855900015],[52.52025341300015,35.93842159700023],[52.51568484700016,35.93718427700014],[52.50669048500009,35.93727945500018],[52.50093218900025,35.93727945500018],[52.49879778100018,35.93676499400016],[52.491944933000184,35.935714224000094],[52.48646265500025,35.93429796800018],[52.481894090000196,35.93288171300014],[52.47745879700011,35.9313097110001],[52.47467575700023,35.930323317000216],[52.46325434400018,35.92516083800018],[52.45489387000015,35.92040953000014],[52.4424673740001,35.91241454100009],[52.43058910300027,35.90227232700022],[52.42350782700021,35.894277338000165],[52.42116838700025,35.890967886000226],[52.41976160400009,35.88897780200023],[52.41108133000023,35.877327961000105],[52.39920306100021,35.86343952300024],[52.39043141600018,35.855261792000135],[52.38079174300009,35.849048543000265],[52.37567070800009,35.846727008000244],[52.3705124720002,35.844388607000155],[52.354887979000125,35.83835810100015],[52.336750777000134,35.832144852000226],[52.32391310800011,35.82862705700023],[52.30760333000012,35.82469809100024],[52.2923900080001,35.81866758500024],[52.286862044000145,35.81610918900009],[52.283572677000166,35.81341373500021],[52.27178577900014,35.80249486400015],[52.26589233000021,35.79632730200018],[52.25780597000016,35.784997260000125],[52.25273486300023,35.77791598400023],[52.24802924100027,35.77467230300016],[52.236425085000235,35.77042353700017],[52.223356888000126,35.76754029600022],[52.22048079300015,35.76690574200012],[52.215590967000196,35.76665099700011],[52.20783392500016,35.76617510500017],[52.198316081000144,35.76531849900016],[52.184657975000164,35.7644618930002],[52.17390281100023,35.76508055300019],[52.165717465000114,35.76522332100012],[52.15334426800018,35.76484260700022],[52.14001928600021,35.76374805500029],[52.12222091800021,35.76312939500025],[52.102233446000184,35.763081806000116],[52.0906692650002,35.76384323300016],[52.08143695600023,35.76531849900016],[52.066113227000244,35.76893528000022],[52.05678574000024,35.771980990000145],[52.04355593800017,35.776406787000155],[52.0346091630002,35.7787862480003],[52.025482904000114,35.78102309200028],[52.016488541000115,35.784021213000244],[52.00597132300015,35.78806629600018],[51.99578723000013,35.79544262600018],[51.982033946000115,35.80634055700011],[51.97689431000015,35.8106711760002],[51.97237333400017,35.81314581500021],[51.961475403000236,35.81633429300024],[51.945770960000175,35.82114080400015],[51.932017675000225,35.82623285100021],[51.9196920670002,35.8325622170002],[51.90541530100023,35.84198488300024],[51.890757822000296,35.85369183100022],[51.87959055300024,35.865765534000275],[51.87610034200026,35.86953904100011],[51.867962585000214,35.88105563300013],[51.861538040000084,35.89309570500018],[51.85492313900011,35.90304185200023],[51.84097949700015,35.922363076000124],[51.83279415100026,35.932547169000145],[51.83139621800012,35.93437826600024],[51.8294153170001,35.936972966000155],[51.81923122400025,35.945063134000236],[51.80414544100023,35.957864634000146],[51.79615045200012,35.96543132000028],[51.7855856450002,35.97342630900016],[51.7735455720001,35.98499048900021],[51.765455405000125,35.99455592300012],[51.764646388000244,35.9973636870003],[51.7638553030003,36.00026558700023],[51.76195173400026,36.002473727000165],[51.75791616800012,36.00628086500018],[51.738728195000135,36.017854563000185],[51.7318119210002,36.02211610500018],[51.71611379700022,36.031788687000244],[51.7153161010001,36.032154298000194],[51.683220128000244,36.04686495200019],[51.66654486600021,36.05219494400012],[51.65031051500017,36.05844321600023],[51.64438732500014,36.0607229320002],[51.62999634600021,36.06612906800018],[51.61042765700017,36.07633219700017],[51.58141726900021,36.092550603000234],[51.567635431000156,36.09848973800024],[51.55278759400028,36.10130701900016],[51.53687375900029,36.103439016000095],[51.52042692400022,36.107246154000165],[51.4959851010002,36.11630714200027],[51.483573832000104,36.12331227500016],[51.46689856900019,36.13267783300023],[51.45981729300013,36.137246398000116],[51.44961416400031,36.1450891020001],[51.43872575100028,36.1504952370002],[51.429284050000206,36.15201809200022],[51.40712650900019,36.152322663000234],[51.38595882400017,36.15285566300014],[51.3638012830001,36.15293180500021],[51.34453716700011,36.153693233000126],[51.339011505000144,36.153817525000136],[51.314874252000095,36.154731238000124],[51.31198082800017,36.1554926660001],[51.30733612000023,36.157776948000105],[51.288833431000114,36.16965521800023],[51.27657444800019,36.17757406400011],[51.271777455000176,36.18031520300019],[51.268046460000164,36.18138120100025],[51.26210732500016,36.18275177100014],[51.256472761000225,36.18320862700011],[51.24923920000009,36.18183805800015],[51.24048278300029,36.17894463300013],[51.22761465800022,36.172853213000224],[51.22099023800013,36.16980750300013],[51.20621854500013,36.165010510000116],[51.20324897800015,36.163868368000124],[51.1941118470001,36.16706636400022],[51.176294443000245,36.174223783000116],[51.16395931800025,36.18061977400026],[51.151471906000154,36.18640662300021],[51.131217934000176,36.19561989600021],[51.11043096300017,36.20361488500015],[51.09367955700009,36.21008701900024],[51.07685200900028,36.21678758100023],[51.05675032200014,36.22287900100014],[51.05142033000021,36.22493485600012],[51.033755211000084,36.23041713400022],[51.00018463700013,36.24872156100014],[50.98842058200012,36.25443226700014],[50.97939766600018,36.2555744080002],[50.96454982900025,36.25808711900021],[50.9442197150002,36.26448311000013],[50.92720180900022,36.26950853200009],[50.925660764000156,36.26998444300011],[50.911668688000134,36.2743055250001],[50.89887670700017,36.27853144800008],[50.8968208510002,36.27853144800008],[50.891909644000236,36.280358874000115],[50.868952604000185,36.29052393200021],[50.86095761500013,36.29520671100016],[50.85483466400018,36.29779341100016],[50.8582134990001,36.304931794000254],[50.86016465700021,36.311403928000175],[50.86273447500025,36.31911338100025],[50.86278206400016,36.32867881500016],[50.86273447500025,36.342622456000186],[50.86263929600028,36.36399001600017],[50.85868939100021,36.374174109000194],[50.85416841500023,36.385405165000236],[50.84931431500024,36.39525613400019],[50.84017718400014,36.4051071020001],[50.82675702400019,36.417147175000196],[50.82133185300029,36.42366689800025],[50.806626784000116,36.43456482900018],[50.7967631250001,36.43692525500012],[50.783514286000184,36.44134153400023],[50.77544315400013,36.446519242000136],[50.765468454000086,36.45131623500015],[50.74696576500014,36.45999650900018],[50.73089964400015,36.46730621300014],[50.71795537700018,36.475453487000095],[50.704782680000164,36.485504331000186],[50.68605156300015,36.497382600000265],[50.677295147000166,36.50339787700011],[50.67343601600021,36.50553138100008],[50.66792958800022,36.508575585000244],[50.66001074200011,36.51162129500017],[50.651635039000155,36.5135248630001],[50.6341983490002,36.51664671600025],[50.60716767200017,36.521976709000285],[50.599956958000234,36.52400926000013],[50.595822402000124,36.52517470500021],[50.58059385200022,36.530656983000085],[50.57534000200019,36.534844834000126],[50.57077143700013,36.538880400000096],[50.5652891580001,36.54413425000013],[50.55485760200014,36.55205309600018],[50.54830932500022,36.5556318050003],[50.542979332000186,36.56119022600018],[50.53978133600009,36.56408365100026],[50.53140563400018,36.57032735700011],[50.52409592900017,36.574591351000095],[50.51762379600012,36.57558120600021],[50.51069480500013,36.578322346000164],[50.498283537000134,36.58327162400025],[50.48868955000012,36.588068618000136],[50.47429857000009,36.59644432100009],[50.467978721000236,36.600708315000304],[50.46165887300009,36.60512459400019],[50.45533902400024,36.607180449000225],[50.447039464000284,36.61060687200012],[50.43995818800022,36.612586584000155],[50.420008787000086,36.62042928800014],[50.41521384400011,36.621640913000135],[50.405846235000126,36.624007997000206],[50.39038925700021,36.628119705000245],[50.38026227100016,36.63230755700022],[50.36967842800016,36.636114694000184],[50.36244486700019,36.63603855200029],[50.36271437500028,36.63814510800012],[50.36499865900009,36.64052456900009],[50.36794919000022,36.64318956500017],[50.37289846900018,36.64809125500017],[50.37875194300011,36.65399231800018],[50.385033720000195,36.66141623600021],[50.39183897800012,36.66855461900025],[50.39916771900016,36.6771206790001],[50.40806690300019,36.68778066400023],[50.41558600000013,36.695014226000296],[50.42115393800026,36.70281885800017],[50.42350255300016,36.70696517800019],[50.425008665000234,36.7096241160001],[50.429719999000156,36.71842812200009],[50.43314642200022,36.72509061300025],[50.43514516900012,36.73227658500025],[50.43676320300028,36.7404619310002],[50.43747704100019,36.748837634000154],[50.43676320300028,36.75730851500015],[50.435954186000174,36.768872695000084],[50.435478294000234,36.77596348900022],[50.43309883300009,36.78148383900009],[50.43057660400024,36.788289097000245],[50.42933928400015,36.79909185000008],[50.429624820000186,36.80627782200014],[50.42994137600027,36.81830698600015],[50.42995794400019,36.81893655500028],[50.43095731800014,36.830215200000225],[50.43224222700013,36.837972243000195],[50.43328918800012,36.84430160900018],[50.43350175600017,36.848004051000146],[50.43578603700024,36.85386704200022],[50.4408114590002,36.85866403600011],[50.446446023000306,36.862547316000246],[50.44933944700023,36.864603171000226],[50.45520244000011,36.86589759700024],[50.46114157400018,36.86764888100021],[50.46494871000027,36.86940016400024],[50.467547281000236,36.87036172200021],[50.49251179200019,36.878425120000145],[50.49446295000013,36.877520925000226],[50.496271341000295,36.87514146400025],[50.49822249800013,36.871857808000186],[50.50131579800012,36.86966870400022],[50.50498016900019,36.86843138400019],[50.51097641000024,36.86909763300014],[50.51687747300031,36.87190539700009],[50.52187434100017,36.87652155200021],[50.52501523000012,36.882232258000215],[50.52553871000009,36.88456413000023],[50.52568147900024,36.888942338000106],[50.52439657000025,36.891226621000214],[50.523920677000206,36.892749476000176],[50.5258718350002,36.89489099000025],[50.53577039300012,36.90112517800026],[50.54219493800014,36.9068834740001],[50.54980921200024,36.914592928000275],[50.556757239000206,36.92068434800012],[50.5634673190001,36.926252287000125],[50.56951115000021,36.931629868000186],[50.57184302200022,36.93386656200016],[50.5781723880001,36.94143324800024],[50.58669085900016,36.950094486000125],[50.59411477700013,36.9558527810002],[50.59739843400013,36.95889849200023],[50.60025378700021,36.96132554200017],[50.60154618600012,36.963182303000224],[50.6060381150001,36.96116093500012],[50.63090348300028,36.951167198000235],[50.64054030000011,36.94843081800013],[50.65136684800029,36.94462368100017],[50.66064674600017,36.93950783900016],[50.66945075100023,36.9307038340001],[50.674209672000245,36.921661882000194],[50.68051524500015,36.91416658000014],[50.693483307000236,36.90607641200012],[50.707998020000105,36.89929494800015],[50.73226852200008,36.88918223900015],[50.746426315000235,36.882876667000176],[50.75016971900021,36.8826796460001],[50.753207779000206,36.88251974800022],[50.75903745800019,36.88156796400017],[50.763082542000234,36.87847466500011],[50.76938811300016,36.87728493400016],[50.77283833200022,36.87669006900023],[50.777478281000185,36.87288293100016],[50.78149817100024,36.86863971400021]]]},\"bbox\":[50.36244486700019,35.763081806000116,54.133187031000205,36.963182303000224]}],\"bbox\":[50.36244486700019,35.763081806000116,54.133187031000205,36.963182303000224]},\"type\":\"line\"}]},\"legend\":{\"title\":{\"text\":\"\",\"font\":{\"family\":\"Times New Roman\"}},\"tracegroupgap\":0,\"font\":{\"family\":\"Times New Roman\",\"size\":14,\"color\":\"black\"},\"yanchor\":\"top\",\"y\":0.98,\"xanchor\":\"left\",\"x\":0.01,\"traceorder\":\"normal\",\"bgcolor\":\"snow\",\"bordercolor\":\"Black\",\"borderwidth\":0.5},\"margin\":{\"t\":0,\"r\":0,\"l\":0,\"b\":0},\"height\":600,\"width\":1200,\"hoverlabel\":{\"font\":{\"size\":16,\"family\":\"Arial\"},\"bgcolor\":\"white\",\"align\":\"left\"}},                        {\"responsive\": true}                    ).then(function(){\n",
       "                            \n",
       "var gd = document.getElementById('02294753-5e05-4fbb-bf83-f03791dd1313');\n",
       "var x = new MutationObserver(function (mutations, observer) {{\n",
       "        var display = window.getComputedStyle(gd).display;\n",
       "        if (!display || display === 'none') {{\n",
       "            console.log([gd, 'removed!']);\n",
       "            Plotly.purge(gd);\n",
       "            observer.disconnect();\n",
       "        }}\n",
       "}});\n",
       "\n",
       "// Listen for the removal of the full notebook cells\n",
       "var notebookContainer = gd.closest('#notebook-container');\n",
       "if (notebookContainer) {{\n",
       "    x.observe(notebookContainer, {childList: true});\n",
       "}}\n",
       "\n",
       "// Listen for the clearing of the current output cell\n",
       "var outputEl = gd.closest('.output');\n",
       "if (outputEl) {{\n",
       "    x.observe(outputEl, {childList: true});\n",
       "}}\n",
       "\n",
       "                        })                };                });            </script>        </div>"
      ]
     },
     "metadata": {},
     "output_type": "display_data"
    }
   ],
   "source": [
    "geo_info_map = station_data.merge(data[['Station_ID', 'Province', 'Station_Latitude', 'Station_Longitude']], on='Station_ID', how='left').drop_duplicates(subset=['Station_ID']).reset_index(drop=True)\n",
    "\n",
    "geo_info_map['Cluster'] = geo_info_map['Cluster'].astype(str)\n",
    "\n",
    "geo_info_map['Hover_Info'] = geo_info_map.apply(\n",
    "    lambda row: f\"\"\"\n",
    "    Station Name: <b>{row['Station_Name']}</b><br>\n",
    "    Station ID: <b>{row['Station_ID']}</b><br>\n",
    "    Province: <b>{row['Province']}</b><br>\n",
    "    Latitude: <b>{row['Station_Latitude']}</b><br>\n",
    "    Longitude: <b>{row['Station_Longitude']}</b><br>\n",
    "    Elevation: <b>{row['Station_Elevation']} m</b><br>\n",
    "    Temperature: <b>{round(row['Temperature'], 1)}</b><br>\n",
    "    Precipitation: <b>{round(row['Precipitation'], 1)}</b><br>\n",
    "    DT: <b>{round(row['DT'], 1)}</b><br>\n",
    "    \"\"\",\n",
    "    axis=1\n",
    ")\n",
    "\n",
    "shapefile_path = \"./assets/geo_data/Iran_1400/Ostan.shp\"\n",
    "gdf = gpd.read_file(shapefile_path)\n",
    "geojson = gdf.to_crs(epsg=4326).__geo_interface__\n",
    "\n",
    "cluster_colors = {\n",
    "    \"1\": \"darkred\",\n",
    "    \"2\": \"darkblue\",\n",
    "    \"3\": \"darkgreen\",\n",
    "}\n",
    "\n",
    "fig = px.scatter_mapbox(\n",
    "    geo_info_map,\n",
    "    lat=geo_info_map.Station_Latitude,\n",
    "    lon=geo_info_map.Station_Longitude,\n",
    "    # size=\"Cluster\",\n",
    "    color=\"Cluster\",\n",
    "    color_discrete_map=cluster_colors,\n",
    "    hover_name=geo_info_map['Station_Name'],\n",
    "    hover_data={'Station_ID': True, 'Station_Name': False, 'Hover_Info': False},\n",
    "    custom_data=['Hover_Info'],\n",
    "    text=\"Station_Name\",\n",
    "    zoom=7.5,\n",
    "    height=600,\n",
    "    width=1200\n",
    ")\n",
    "\n",
    "\n",
    "# fig.update_layout(\n",
    "#     mapbox=dict(\n",
    "#         layers=[\n",
    "#             {\n",
    "#                 \"source\": geojson,\n",
    "#                 \"type\": \"line\",  # \"fill\" for filled polygons\n",
    "#                 \"color\": \"black\",\n",
    "#                 \"line\": {\"width\": 2},\n",
    "#                 \"below\": \"traces\"\n",
    "#             }\n",
    "#         ],\n",
    "#     )\n",
    "# )\n",
    "\n",
    "# Add map style\n",
    "fig.update_layout(\n",
    "    # mapbox_style=\"open-street-map\",\n",
    "    mapbox_style=\"white-bg\",\n",
    "    mapbox_layers=[\n",
    "        {\n",
    "            \"below\": 'traces',\n",
    "            \"sourcetype\": \"raster\",\n",
    "            \"sourceattribution\": \"United States Geological Survey\",\n",
    "            \"source\": [\n",
    "                \"https://basemap.nationalmap.gov/arcgis/rest/services/USGSImageryOnly/MapServer/tile/{z}/{y}/{x}\"\n",
    "            ]\n",
    "        },\n",
    "        {\n",
    "            \"source\": geojson,\n",
    "            \"type\": \"line\",\n",
    "            \"color\": \"white\",\n",
    "            \"line\": {\"width\": 4},\n",
    "            \"below\": \"traces\"\n",
    "        }\n",
    "    ],\n",
    "    margin={\"r\":0,\"t\":0,\"l\":0,\"b\":0},\n",
    "    hoverlabel=dict(        \n",
    "        bgcolor=\"white\",\n",
    "        font_size=16,\n",
    "        font_family=\"Arial\",\n",
    "        align=\"left\"\n",
    "    ),\n",
    "    legend=dict(\n",
    "        yanchor=\"top\",\n",
    "        y=0.98,\n",
    "        xanchor=\"left\",\n",
    "        x=0.01,\n",
    "        title=\"\",\n",
    "        traceorder=\"normal\",\n",
    "        title_font_family=\"Times New Roman\",\n",
    "        font=dict(\n",
    "            family=\"Times New Roman\",\n",
    "            size=14,\n",
    "            color=\"black\"\n",
    "        ),\n",
    "        bgcolor=\"snow\",\n",
    "        bordercolor=\"Black\",\n",
    "        borderwidth=0.5\n",
    "    )\n",
    ")\n",
    "\n",
    "fig.update_traces(textfont_size=14, textposition=\"top right\", textfont_color=\"black\") \n",
    "\n",
    "fig.update_traces(\n",
    "    hovertemplate=\"%{customdata[0]}\",\n",
    "    marker=dict(size=20)\n",
    ")\n",
    "\n",
    "# Show the plot\n",
    "fig.show()"
   ]
  },
  {
   "cell_type": "markdown",
   "metadata": {},
   "source": [
    "Cluster 3: Ramsar\n",
    "Cluster 2: Baladeh  \n",
    "Cluster 1: Sari "
   ]
  },
  {
   "cell_type": "code",
   "execution_count": 76,
   "metadata": {},
   "outputs": [
    {
     "data": {
      "application/vnd.microsoft.datawrangler.viewer.v0+json": {
       "columns": [
        {
         "name": "index",
         "rawType": "int64",
         "type": "integer"
        },
        {
         "name": "Station_ID",
         "rawType": "object",
         "type": "string"
        },
        {
         "name": "Station_Name",
         "rawType": "object",
         "type": "string"
        },
        {
         "name": "Temperature",
         "rawType": "float64",
         "type": "float"
        },
        {
         "name": "Temperature_Maximum",
         "rawType": "float64",
         "type": "float"
        },
        {
         "name": "Temperature_Minimum",
         "rawType": "float64",
         "type": "float"
        },
        {
         "name": "Precipitation",
         "rawType": "float64",
         "type": "float"
        },
        {
         "name": "Station_Elevation",
         "rawType": "float64",
         "type": "float"
        },
        {
         "name": "DT",
         "rawType": "float64",
         "type": "float"
        },
        {
         "name": "Cluster",
         "rawType": "object",
         "type": "string"
        },
        {
         "name": "Province",
         "rawType": "object",
         "type": "string"
        },
        {
         "name": "Station_Latitude",
         "rawType": "float64",
         "type": "float"
        },
        {
         "name": "Station_Longitude",
         "rawType": "float64",
         "type": "float"
        },
        {
         "name": "Hover_Info",
         "rawType": "object",
         "type": "string"
        }
       ],
       "ref": "cbc8c1fd-6170-4865-a5b8-336d394dbdb4",
       "rows": [
        [
         "0",
         "40732",
         "Ramsar",
         "17.272807017543858",
         "20.396929824561404",
         "14.143421052631581",
         "1222.457894736842",
         "-20.0",
         "6.253508771929823",
         "3",
         "Mazandaran",
         "36.905",
         "50.684",
         "\n    Station Name: <b>Ramsar</b><br>\n    Station ID: <b>40732</b><br>\n    Province: <b>Mazandaran</b><br>\n    Latitude: <b>36.905</b><br>\n    Longitude: <b>50.684</b><br>\n    Elevation: <b>-20.0 m</b><br>\n    Temperature: <b>17.3</b><br>\n    Precipitation: <b>1222.5</b><br>\n    DT: <b>6.3</b><br>\n    "
        ],
        [
         "1",
         "40734",
         "Nowshahr",
         "17.106140350877194",
         "20.520614035087718",
         "13.699122807017545",
         "1263.9073684210525",
         "-20.9",
         "6.8214912280701725",
         "3",
         "Mazandaran",
         "36.661",
         "51.466",
         "\n    Station Name: <b>Nowshahr</b><br>\n    Station ID: <b>40734</b><br>\n    Province: <b>Mazandaran</b><br>\n    Latitude: <b>36.661</b><br>\n    Longitude: <b>51.466</b><br>\n    Elevation: <b>-20.9 m</b><br>\n    Temperature: <b>17.1</b><br>\n    Precipitation: <b>1263.9</b><br>\n    DT: <b>6.8</b><br>\n    "
        ],
        [
         "2",
         "40735",
         "Siahbisheh",
         "11.159210526315789",
         "15.782894736842104",
         "6.531578947368421",
         "500.2315789473684",
         "1855.4",
         "9.251315789473683",
         "2",
         "Mazandaran",
         "36.231",
         "51.303",
         "\n    Station Name: <b>Siahbisheh</b><br>\n    Station ID: <b>40735</b><br>\n    Province: <b>Mazandaran</b><br>\n    Latitude: <b>36.231</b><br>\n    Longitude: <b>51.303</b><br>\n    Elevation: <b>1855.4 m</b><br>\n    Temperature: <b>11.2</b><br>\n    Precipitation: <b>500.2</b><br>\n    DT: <b>9.3</b><br>\n    "
        ],
        [
         "3",
         "40736",
         "Babolsar",
         "18.22280701754386",
         "21.77675438596491",
         "14.675877192982458",
         "824.8273684210526",
         "-21.0",
         "7.100877192982452",
         "1",
         "Mazandaran",
         "36.699",
         "52.643",
         "\n    Station Name: <b>Babolsar</b><br>\n    Station ID: <b>40736</b><br>\n    Province: <b>Mazandaran</b><br>\n    Latitude: <b>36.699</b><br>\n    Longitude: <b>52.643</b><br>\n    Elevation: <b>-21.0 m</b><br>\n    Temperature: <b>18.2</b><br>\n    Precipitation: <b>824.8</b><br>\n    DT: <b>7.1</b><br>\n    "
        ],
        [
         "4",
         "40737",
         "Gharakhil",
         "17.604824561403507",
         "22.49561403508772",
         "12.70701754385965",
         "654.97",
         "14.7",
         "9.78859649122807",
         "1",
         "Mazandaran",
         "36.487",
         "52.108",
         "\n    Station Name: <b>Gharakhil</b><br>\n    Station ID: <b>40737</b><br>\n    Province: <b>Mazandaran</b><br>\n    Latitude: <b>36.487</b><br>\n    Longitude: <b>52.108</b><br>\n    Elevation: <b>14.7 m</b><br>\n    Temperature: <b>17.6</b><br>\n    Precipitation: <b>655.0</b><br>\n    DT: <b>9.8</b><br>\n    "
        ],
        [
         "5",
         "40759",
         "Sari",
         "18.41622807017544",
         "23.22280701754386",
         "13.617543859649123",
         "705.6752631578947",
         "23.0",
         "9.605263157894738",
         "1",
         "Mazandaran",
         "36.536",
         "52.998",
         "\n    Station Name: <b>Sari</b><br>\n    Station ID: <b>40759</b><br>\n    Province: <b>Mazandaran</b><br>\n    Latitude: <b>36.536</b><br>\n    Longitude: <b>52.998</b><br>\n    Elevation: <b>23.0 m</b><br>\n    Temperature: <b>18.4</b><br>\n    Precipitation: <b>705.7</b><br>\n    DT: <b>9.6</b><br>\n    "
        ],
        [
         "6",
         "40760",
         "Kiyasar",
         "13.489473684210527",
         "18.585087719298247",
         "8.396052631578948",
         "501.89578947368426",
         "1294.3",
         "10.189035087719299",
         "2",
         "Mazandaran",
         "36.248",
         "53.546",
         "\n    Station Name: <b>Kiyasar</b><br>\n    Station ID: <b>40760</b><br>\n    Province: <b>Mazandaran</b><br>\n    Latitude: <b>36.248</b><br>\n    Longitude: <b>53.546</b><br>\n    Elevation: <b>1294.3 m</b><br>\n    Temperature: <b>13.5</b><br>\n    Precipitation: <b>501.9</b><br>\n    DT: <b>10.2</b><br>\n    "
        ],
        [
         "7",
         "40788",
         "Sari (dasht-e-naz airport)",
         "17.798684210526318",
         "22.761403508771927",
         "12.835526315789474",
         "602.5726315789474",
         "16.7",
         "9.925877192982453",
         "1",
         "Mazandaran",
         "36.64",
         "53.195",
         "\n    Station Name: <b>Sari (dasht-e-naz airport)</b><br>\n    Station ID: <b>40788</b><br>\n    Province: <b>Mazandaran</b><br>\n    Latitude: <b>36.64</b><br>\n    Longitude: <b>53.195</b><br>\n    Elevation: <b>16.7 m</b><br>\n    Temperature: <b>17.8</b><br>\n    Precipitation: <b>602.6</b><br>\n    DT: <b>9.9</b><br>\n    "
        ],
        [
         "8",
         "99299",
         "Galugah",
         "17.671491228070174",
         "22.702192982456143",
         "12.636842105263158",
         "536.9226315789474",
         "-10.0",
         "10.065350877192985",
         "1",
         "Mazandaran",
         "36.738",
         "53.837",
         "\n    Station Name: <b>Galugah</b><br>\n    Station ID: <b>99299</b><br>\n    Province: <b>Mazandaran</b><br>\n    Latitude: <b>36.738</b><br>\n    Longitude: <b>53.837</b><br>\n    Elevation: <b>-10.0 m</b><br>\n    Temperature: <b>17.7</b><br>\n    Precipitation: <b>536.9</b><br>\n    DT: <b>10.1</b><br>\n    "
        ],
        [
         "9",
         "99306",
         "Bandar-e-amirabad",
         "17.824122807017545",
         "21.648245614035087",
         "14.00263157894737",
         "588.8989473684211",
         "-20.0",
         "7.645614035087718",
         "1",
         "Mazandaran",
         "36.856",
         "53.386",
         "\n    Station Name: <b>Bandar-e-amirabad</b><br>\n    Station ID: <b>99306</b><br>\n    Province: <b>Mazandaran</b><br>\n    Latitude: <b>36.856</b><br>\n    Longitude: <b>53.386</b><br>\n    Elevation: <b>-20.0 m</b><br>\n    Temperature: <b>17.8</b><br>\n    Precipitation: <b>588.9</b><br>\n    DT: <b>7.6</b><br>\n    "
        ],
        [
         "10",
         "99309",
         "Amol",
         "17.75438596491228",
         "22.40219298245614",
         "13.112719298245613",
         "643.8142105263157",
         "23.7",
         "9.289473684210526",
         "1",
         "Mazandaran",
         "36.479",
         "52.468",
         "\n    Station Name: <b>Amol</b><br>\n    Station ID: <b>99309</b><br>\n    Province: <b>Mazandaran</b><br>\n    Latitude: <b>36.479</b><br>\n    Longitude: <b>52.468</b><br>\n    Elevation: <b>23.7 m</b><br>\n    Temperature: <b>17.8</b><br>\n    Precipitation: <b>643.8</b><br>\n    DT: <b>9.3</b><br>\n    "
        ],
        [
         "11",
         "99348",
         "Kojur",
         "11.779824561403508",
         "17.83377192982456",
         "5.731140350877193",
         "305.86315789473684",
         "1550.0",
         "12.102631578947367",
         "2",
         "Mazandaran",
         "36.39",
         "51.729",
         "\n    Station Name: <b>Kojur</b><br>\n    Station ID: <b>99348</b><br>\n    Province: <b>Mazandaran</b><br>\n    Latitude: <b>36.39</b><br>\n    Longitude: <b>51.729</b><br>\n    Elevation: <b>1550.0 m</b><br>\n    Temperature: <b>11.8</b><br>\n    Precipitation: <b>305.9</b><br>\n    DT: <b>12.1</b><br>\n    "
        ],
        [
         "12",
         "99357",
         "Baladeh",
         "9.441666666666666",
         "16.22236842105263",
         "2.657017543859649",
         "292.49894736842106",
         "2120.0",
         "13.56535087719298",
         "2",
         "Mazandaran",
         "36.198",
         "51.801",
         "\n    Station Name: <b>Baladeh</b><br>\n    Station ID: <b>99357</b><br>\n    Province: <b>Mazandaran</b><br>\n    Latitude: <b>36.198</b><br>\n    Longitude: <b>51.801</b><br>\n    Elevation: <b>2120.0 m</b><br>\n    Temperature: <b>9.4</b><br>\n    Precipitation: <b>292.5</b><br>\n    DT: <b>13.6</b><br>\n    "
        ],
        [
         "13",
         "99360",
         "Polsefid",
         "15.498324561403509",
         "20.433771929824562",
         "10.562745614035089",
         "537.6452631578948",
         "610.0",
         "9.871026315789473",
         "1",
         "Mazandaran",
         "36.104",
         "53.062",
         "\n    Station Name: <b>Polsefid</b><br>\n    Station ID: <b>99360</b><br>\n    Province: <b>Mazandaran</b><br>\n    Latitude: <b>36.104</b><br>\n    Longitude: <b>53.062</b><br>\n    Elevation: <b>610.0 m</b><br>\n    Temperature: <b>15.5</b><br>\n    Precipitation: <b>537.6</b><br>\n    DT: <b>9.9</b><br>\n    "
        ],
        [
         "14",
         "99361",
         "Alasht",
         "11.30438596491228",
         "15.646052631578947",
         "6.982456140350877",
         "500.9452631578947",
         "1805.0",
         "8.66359649122807",
         "2",
         "Mazandaran",
         "36.071",
         "52.843",
         "\n    Station Name: <b>Alasht</b><br>\n    Station ID: <b>99361</b><br>\n    Province: <b>Mazandaran</b><br>\n    Latitude: <b>36.071</b><br>\n    Longitude: <b>52.843</b><br>\n    Elevation: <b>1805.0 m</b><br>\n    Temperature: <b>11.3</b><br>\n    Precipitation: <b>500.9</b><br>\n    DT: <b>8.7</b><br>\n    "
        ]
       ],
       "shape": {
        "columns": 13,
        "rows": 15
       }
      },
      "text/html": [
       "<div>\n",
       "<style scoped>\n",
       "    .dataframe tbody tr th:only-of-type {\n",
       "        vertical-align: middle;\n",
       "    }\n",
       "\n",
       "    .dataframe tbody tr th {\n",
       "        vertical-align: top;\n",
       "    }\n",
       "\n",
       "    .dataframe thead th {\n",
       "        text-align: right;\n",
       "    }\n",
       "</style>\n",
       "<table border=\"1\" class=\"dataframe\">\n",
       "  <thead>\n",
       "    <tr style=\"text-align: right;\">\n",
       "      <th></th>\n",
       "      <th>Station_ID</th>\n",
       "      <th>Station_Name</th>\n",
       "      <th>Temperature</th>\n",
       "      <th>Temperature_Maximum</th>\n",
       "      <th>Temperature_Minimum</th>\n",
       "      <th>Precipitation</th>\n",
       "      <th>Station_Elevation</th>\n",
       "      <th>DT</th>\n",
       "      <th>Cluster</th>\n",
       "      <th>Province</th>\n",
       "      <th>Station_Latitude</th>\n",
       "      <th>Station_Longitude</th>\n",
       "      <th>Hover_Info</th>\n",
       "    </tr>\n",
       "  </thead>\n",
       "  <tbody>\n",
       "    <tr>\n",
       "      <th>0</th>\n",
       "      <td>40732</td>\n",
       "      <td>Ramsar</td>\n",
       "      <td>17.272807</td>\n",
       "      <td>20.396930</td>\n",
       "      <td>14.143421</td>\n",
       "      <td>1222.457895</td>\n",
       "      <td>-20.0</td>\n",
       "      <td>6.253509</td>\n",
       "      <td>3</td>\n",
       "      <td>Mazandaran</td>\n",
       "      <td>36.905</td>\n",
       "      <td>50.684</td>\n",
       "      <td>\\n    Station Name: &lt;b&gt;Ramsar&lt;/b&gt;&lt;br&gt;\\n    Sta...</td>\n",
       "    </tr>\n",
       "    <tr>\n",
       "      <th>1</th>\n",
       "      <td>40734</td>\n",
       "      <td>Nowshahr</td>\n",
       "      <td>17.106140</td>\n",
       "      <td>20.520614</td>\n",
       "      <td>13.699123</td>\n",
       "      <td>1263.907368</td>\n",
       "      <td>-20.9</td>\n",
       "      <td>6.821491</td>\n",
       "      <td>3</td>\n",
       "      <td>Mazandaran</td>\n",
       "      <td>36.661</td>\n",
       "      <td>51.466</td>\n",
       "      <td>\\n    Station Name: &lt;b&gt;Nowshahr&lt;/b&gt;&lt;br&gt;\\n    S...</td>\n",
       "    </tr>\n",
       "    <tr>\n",
       "      <th>2</th>\n",
       "      <td>40735</td>\n",
       "      <td>Siahbisheh</td>\n",
       "      <td>11.159211</td>\n",
       "      <td>15.782895</td>\n",
       "      <td>6.531579</td>\n",
       "      <td>500.231579</td>\n",
       "      <td>1855.4</td>\n",
       "      <td>9.251316</td>\n",
       "      <td>2</td>\n",
       "      <td>Mazandaran</td>\n",
       "      <td>36.231</td>\n",
       "      <td>51.303</td>\n",
       "      <td>\\n    Station Name: &lt;b&gt;Siahbisheh&lt;/b&gt;&lt;br&gt;\\n   ...</td>\n",
       "    </tr>\n",
       "    <tr>\n",
       "      <th>3</th>\n",
       "      <td>40736</td>\n",
       "      <td>Babolsar</td>\n",
       "      <td>18.222807</td>\n",
       "      <td>21.776754</td>\n",
       "      <td>14.675877</td>\n",
       "      <td>824.827368</td>\n",
       "      <td>-21.0</td>\n",
       "      <td>7.100877</td>\n",
       "      <td>1</td>\n",
       "      <td>Mazandaran</td>\n",
       "      <td>36.699</td>\n",
       "      <td>52.643</td>\n",
       "      <td>\\n    Station Name: &lt;b&gt;Babolsar&lt;/b&gt;&lt;br&gt;\\n    S...</td>\n",
       "    </tr>\n",
       "    <tr>\n",
       "      <th>4</th>\n",
       "      <td>40737</td>\n",
       "      <td>Gharakhil</td>\n",
       "      <td>17.604825</td>\n",
       "      <td>22.495614</td>\n",
       "      <td>12.707018</td>\n",
       "      <td>654.970000</td>\n",
       "      <td>14.7</td>\n",
       "      <td>9.788596</td>\n",
       "      <td>1</td>\n",
       "      <td>Mazandaran</td>\n",
       "      <td>36.487</td>\n",
       "      <td>52.108</td>\n",
       "      <td>\\n    Station Name: &lt;b&gt;Gharakhil&lt;/b&gt;&lt;br&gt;\\n    ...</td>\n",
       "    </tr>\n",
       "    <tr>\n",
       "      <th>5</th>\n",
       "      <td>40759</td>\n",
       "      <td>Sari</td>\n",
       "      <td>18.416228</td>\n",
       "      <td>23.222807</td>\n",
       "      <td>13.617544</td>\n",
       "      <td>705.675263</td>\n",
       "      <td>23.0</td>\n",
       "      <td>9.605263</td>\n",
       "      <td>1</td>\n",
       "      <td>Mazandaran</td>\n",
       "      <td>36.536</td>\n",
       "      <td>52.998</td>\n",
       "      <td>\\n    Station Name: &lt;b&gt;Sari&lt;/b&gt;&lt;br&gt;\\n    Stati...</td>\n",
       "    </tr>\n",
       "    <tr>\n",
       "      <th>6</th>\n",
       "      <td>40760</td>\n",
       "      <td>Kiyasar</td>\n",
       "      <td>13.489474</td>\n",
       "      <td>18.585088</td>\n",
       "      <td>8.396053</td>\n",
       "      <td>501.895789</td>\n",
       "      <td>1294.3</td>\n",
       "      <td>10.189035</td>\n",
       "      <td>2</td>\n",
       "      <td>Mazandaran</td>\n",
       "      <td>36.248</td>\n",
       "      <td>53.546</td>\n",
       "      <td>\\n    Station Name: &lt;b&gt;Kiyasar&lt;/b&gt;&lt;br&gt;\\n    St...</td>\n",
       "    </tr>\n",
       "    <tr>\n",
       "      <th>7</th>\n",
       "      <td>40788</td>\n",
       "      <td>Sari (dasht-e-naz airport)</td>\n",
       "      <td>17.798684</td>\n",
       "      <td>22.761404</td>\n",
       "      <td>12.835526</td>\n",
       "      <td>602.572632</td>\n",
       "      <td>16.7</td>\n",
       "      <td>9.925877</td>\n",
       "      <td>1</td>\n",
       "      <td>Mazandaran</td>\n",
       "      <td>36.640</td>\n",
       "      <td>53.195</td>\n",
       "      <td>\\n    Station Name: &lt;b&gt;Sari (dasht-e-naz airpo...</td>\n",
       "    </tr>\n",
       "    <tr>\n",
       "      <th>8</th>\n",
       "      <td>99299</td>\n",
       "      <td>Galugah</td>\n",
       "      <td>17.671491</td>\n",
       "      <td>22.702193</td>\n",
       "      <td>12.636842</td>\n",
       "      <td>536.922632</td>\n",
       "      <td>-10.0</td>\n",
       "      <td>10.065351</td>\n",
       "      <td>1</td>\n",
       "      <td>Mazandaran</td>\n",
       "      <td>36.738</td>\n",
       "      <td>53.837</td>\n",
       "      <td>\\n    Station Name: &lt;b&gt;Galugah&lt;/b&gt;&lt;br&gt;\\n    St...</td>\n",
       "    </tr>\n",
       "    <tr>\n",
       "      <th>9</th>\n",
       "      <td>99306</td>\n",
       "      <td>Bandar-e-amirabad</td>\n",
       "      <td>17.824123</td>\n",
       "      <td>21.648246</td>\n",
       "      <td>14.002632</td>\n",
       "      <td>588.898947</td>\n",
       "      <td>-20.0</td>\n",
       "      <td>7.645614</td>\n",
       "      <td>1</td>\n",
       "      <td>Mazandaran</td>\n",
       "      <td>36.856</td>\n",
       "      <td>53.386</td>\n",
       "      <td>\\n    Station Name: &lt;b&gt;Bandar-e-amirabad&lt;/b&gt;&lt;b...</td>\n",
       "    </tr>\n",
       "    <tr>\n",
       "      <th>10</th>\n",
       "      <td>99309</td>\n",
       "      <td>Amol</td>\n",
       "      <td>17.754386</td>\n",
       "      <td>22.402193</td>\n",
       "      <td>13.112719</td>\n",
       "      <td>643.814211</td>\n",
       "      <td>23.7</td>\n",
       "      <td>9.289474</td>\n",
       "      <td>1</td>\n",
       "      <td>Mazandaran</td>\n",
       "      <td>36.479</td>\n",
       "      <td>52.468</td>\n",
       "      <td>\\n    Station Name: &lt;b&gt;Amol&lt;/b&gt;&lt;br&gt;\\n    Stati...</td>\n",
       "    </tr>\n",
       "    <tr>\n",
       "      <th>11</th>\n",
       "      <td>99348</td>\n",
       "      <td>Kojur</td>\n",
       "      <td>11.779825</td>\n",
       "      <td>17.833772</td>\n",
       "      <td>5.731140</td>\n",
       "      <td>305.863158</td>\n",
       "      <td>1550.0</td>\n",
       "      <td>12.102632</td>\n",
       "      <td>2</td>\n",
       "      <td>Mazandaran</td>\n",
       "      <td>36.390</td>\n",
       "      <td>51.729</td>\n",
       "      <td>\\n    Station Name: &lt;b&gt;Kojur&lt;/b&gt;&lt;br&gt;\\n    Stat...</td>\n",
       "    </tr>\n",
       "    <tr>\n",
       "      <th>12</th>\n",
       "      <td>99357</td>\n",
       "      <td>Baladeh</td>\n",
       "      <td>9.441667</td>\n",
       "      <td>16.222368</td>\n",
       "      <td>2.657018</td>\n",
       "      <td>292.498947</td>\n",
       "      <td>2120.0</td>\n",
       "      <td>13.565351</td>\n",
       "      <td>2</td>\n",
       "      <td>Mazandaran</td>\n",
       "      <td>36.198</td>\n",
       "      <td>51.801</td>\n",
       "      <td>\\n    Station Name: &lt;b&gt;Baladeh&lt;/b&gt;&lt;br&gt;\\n    St...</td>\n",
       "    </tr>\n",
       "    <tr>\n",
       "      <th>13</th>\n",
       "      <td>99360</td>\n",
       "      <td>Polsefid</td>\n",
       "      <td>15.498325</td>\n",
       "      <td>20.433772</td>\n",
       "      <td>10.562746</td>\n",
       "      <td>537.645263</td>\n",
       "      <td>610.0</td>\n",
       "      <td>9.871026</td>\n",
       "      <td>1</td>\n",
       "      <td>Mazandaran</td>\n",
       "      <td>36.104</td>\n",
       "      <td>53.062</td>\n",
       "      <td>\\n    Station Name: &lt;b&gt;Polsefid&lt;/b&gt;&lt;br&gt;\\n    S...</td>\n",
       "    </tr>\n",
       "    <tr>\n",
       "      <th>14</th>\n",
       "      <td>99361</td>\n",
       "      <td>Alasht</td>\n",
       "      <td>11.304386</td>\n",
       "      <td>15.646053</td>\n",
       "      <td>6.982456</td>\n",
       "      <td>500.945263</td>\n",
       "      <td>1805.0</td>\n",
       "      <td>8.663596</td>\n",
       "      <td>2</td>\n",
       "      <td>Mazandaran</td>\n",
       "      <td>36.071</td>\n",
       "      <td>52.843</td>\n",
       "      <td>\\n    Station Name: &lt;b&gt;Alasht&lt;/b&gt;&lt;br&gt;\\n    Sta...</td>\n",
       "    </tr>\n",
       "  </tbody>\n",
       "</table>\n",
       "</div>"
      ],
      "text/plain": [
       "   Station_ID                Station_Name  Temperature  Temperature_Maximum  \\\n",
       "0       40732                      Ramsar    17.272807            20.396930   \n",
       "1       40734                    Nowshahr    17.106140            20.520614   \n",
       "2       40735                  Siahbisheh    11.159211            15.782895   \n",
       "3       40736                    Babolsar    18.222807            21.776754   \n",
       "4       40737                   Gharakhil    17.604825            22.495614   \n",
       "5       40759                        Sari    18.416228            23.222807   \n",
       "6       40760                     Kiyasar    13.489474            18.585088   \n",
       "7       40788  Sari (dasht-e-naz airport)    17.798684            22.761404   \n",
       "8       99299                     Galugah    17.671491            22.702193   \n",
       "9       99306           Bandar-e-amirabad    17.824123            21.648246   \n",
       "10      99309                        Amol    17.754386            22.402193   \n",
       "11      99348                       Kojur    11.779825            17.833772   \n",
       "12      99357                     Baladeh     9.441667            16.222368   \n",
       "13      99360                    Polsefid    15.498325            20.433772   \n",
       "14      99361                      Alasht    11.304386            15.646053   \n",
       "\n",
       "    Temperature_Minimum  Precipitation  Station_Elevation         DT Cluster  \\\n",
       "0             14.143421    1222.457895              -20.0   6.253509       3   \n",
       "1             13.699123    1263.907368              -20.9   6.821491       3   \n",
       "2              6.531579     500.231579             1855.4   9.251316       2   \n",
       "3             14.675877     824.827368              -21.0   7.100877       1   \n",
       "4             12.707018     654.970000               14.7   9.788596       1   \n",
       "5             13.617544     705.675263               23.0   9.605263       1   \n",
       "6              8.396053     501.895789             1294.3  10.189035       2   \n",
       "7             12.835526     602.572632               16.7   9.925877       1   \n",
       "8             12.636842     536.922632              -10.0  10.065351       1   \n",
       "9             14.002632     588.898947              -20.0   7.645614       1   \n",
       "10            13.112719     643.814211               23.7   9.289474       1   \n",
       "11             5.731140     305.863158             1550.0  12.102632       2   \n",
       "12             2.657018     292.498947             2120.0  13.565351       2   \n",
       "13            10.562746     537.645263              610.0   9.871026       1   \n",
       "14             6.982456     500.945263             1805.0   8.663596       2   \n",
       "\n",
       "      Province  Station_Latitude  Station_Longitude  \\\n",
       "0   Mazandaran            36.905             50.684   \n",
       "1   Mazandaran            36.661             51.466   \n",
       "2   Mazandaran            36.231             51.303   \n",
       "3   Mazandaran            36.699             52.643   \n",
       "4   Mazandaran            36.487             52.108   \n",
       "5   Mazandaran            36.536             52.998   \n",
       "6   Mazandaran            36.248             53.546   \n",
       "7   Mazandaran            36.640             53.195   \n",
       "8   Mazandaran            36.738             53.837   \n",
       "9   Mazandaran            36.856             53.386   \n",
       "10  Mazandaran            36.479             52.468   \n",
       "11  Mazandaran            36.390             51.729   \n",
       "12  Mazandaran            36.198             51.801   \n",
       "13  Mazandaran            36.104             53.062   \n",
       "14  Mazandaran            36.071             52.843   \n",
       "\n",
       "                                           Hover_Info  \n",
       "0   \\n    Station Name: <b>Ramsar</b><br>\\n    Sta...  \n",
       "1   \\n    Station Name: <b>Nowshahr</b><br>\\n    S...  \n",
       "2   \\n    Station Name: <b>Siahbisheh</b><br>\\n   ...  \n",
       "3   \\n    Station Name: <b>Babolsar</b><br>\\n    S...  \n",
       "4   \\n    Station Name: <b>Gharakhil</b><br>\\n    ...  \n",
       "5   \\n    Station Name: <b>Sari</b><br>\\n    Stati...  \n",
       "6   \\n    Station Name: <b>Kiyasar</b><br>\\n    St...  \n",
       "7   \\n    Station Name: <b>Sari (dasht-e-naz airpo...  \n",
       "8   \\n    Station Name: <b>Galugah</b><br>\\n    St...  \n",
       "9   \\n    Station Name: <b>Bandar-e-amirabad</b><b...  \n",
       "10  \\n    Station Name: <b>Amol</b><br>\\n    Stati...  \n",
       "11  \\n    Station Name: <b>Kojur</b><br>\\n    Stat...  \n",
       "12  \\n    Station Name: <b>Baladeh</b><br>\\n    St...  \n",
       "13  \\n    Station Name: <b>Polsefid</b><br>\\n    S...  \n",
       "14  \\n    Station Name: <b>Alasht</b><br>\\n    Sta...  "
      ]
     },
     "execution_count": 76,
     "metadata": {},
     "output_type": "execute_result"
    }
   ],
   "source": [
    "geo_info_map"
   ]
  },
  {
   "cell_type": "markdown",
   "metadata": {},
   "source": [
    "##### Hierarchical Clustering"
   ]
  },
  {
   "cell_type": "code",
   "execution_count": 77,
   "metadata": {},
   "outputs": [
    {
     "data": {
      "image/png": "[encoded data removed]",
      "text/plain": [
       "<Figure size 1200x600 with 1 Axes>"
      ]
     },
     "metadata": {},
     "output_type": "display_data"
    }
   ],
   "source": [
    "# Perform hierarchical clustering\n",
    "Z = linkage(station_data_scaled, method='ward')\n",
    "\n",
    "# Visualize dendrogram\n",
    "plt.figure(figsize=(12, 6))\n",
    "dendrogram(Z, labels=station_data['Station_Name'].values)\n",
    "plt.xticks(rotation=90)\n",
    "plt.show()"
   ]
  },
  {
   "cell_type": "code",
   "execution_count": 80,
   "metadata": {},
   "outputs": [],
   "source": [
    "geo_info_map['Cluster'] = geo_info_map['Cluster'].astype(str)\n",
    "geo_info_map = geo_info_map.sort_values('Cluster').reset_index(drop=True)\n",
    "geo_info_map = geo_info_map.round(2)\n",
    "geo_info_map.drop(columns=['Hover_Info'], inplace=True)\n",
    "geo_info_map.to_csv('./assets/data/clustering_stations.csv', index=False)"
   ]
  }
 ],
 "metadata": {
  "kernelspec": {
   "display_name": ".venv",
   "language": "python",
   "name": "python3"
  },
  "language_info": {
   "codemirror_mode": {
    "name": "ipython",
    "version": 3
   },
   "file_extension": ".py",
   "mimetype": "text/x-python",
   "name": "python",
   "nbconvert_exporter": "python",
   "pygments_lexer": "ipython3",
   "version": "3.12.8"
  }
 },
 "nbformat": 4,
 "nbformat_minor": 2
}
