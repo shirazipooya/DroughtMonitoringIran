{
 "cells": [
  {
   "cell_type": "markdown",
   "id": "466fb799",
   "metadata": {
    "notebookRunGroups": {
     "groupValue": "1"
    }
   },
   "source": [
    "# Import Libraries"
   ]
  },
  {
   "cell_type": "code",
   "execution_count": 11,
   "id": "c141a822",
   "metadata": {
    "notebookRunGroups": {
     "groupValue": "1"
    }
   },
   "outputs": [],
   "source": [
    "import sys\n",
    "import sqlite3\n",
    "import warnings\n",
    "\n",
    "import pandas as pd\n",
    "import numpy as np\n",
    "\n",
    "import optuna\n",
    "import shap\n",
    "import matplotlib.pyplot as plt\n",
    "import seaborn as sns\n",
    "\n",
    "from sklearn.model_selection import train_test_split, StratifiedKFold\n",
    "from sklearn.preprocessing import StandardScaler, LabelEncoder\n",
    "from sklearn.ensemble import GradientBoostingClassifier # Changed from RandomForestClassifier\n",
    "from sklearn.metrics import accuracy_score, f1_score, cohen_kappa_score, classification_report, confusion_matrix\n",
    "from sklearn.feature_selection import RFECV\n",
    "\n",
    "\n",
    "warnings.filterwarnings('ignore')\n",
    "np.random.seed(42)"
   ]
  },
  {
   "cell_type": "markdown",
   "id": "27845aff",
   "metadata": {},
   "source": [
    "# Load Database"
   ]
  },
  {
   "cell_type": "code",
   "execution_count": 12,
   "id": "1361a6af",
   "metadata": {
    "notebookRunGroups": {
     "groupValue": "1"
    }
   },
   "outputs": [],
   "source": [
    "sys.path.append('/home/pooya/w/DroughtMonitoringIran/')\n",
    "\n",
    "DATABASE_PATH = \"./database/database.db\"\n",
    "\n",
    "conn = sqlite3.connect(DATABASE_PATH)\n",
    "\n",
    "data = pd.read_sql(sql='SELECT * FROM data', con=conn)\n",
    "\n",
    "conn.close()"
   ]
  },
  {
   "cell_type": "markdown",
   "id": "94899866",
   "metadata": {},
   "source": [
    "# Select Columns and Rows"
   ]
  },
  {
   "cell_type": "code",
   "execution_count": 13,
   "id": "c0de84b7",
   "metadata": {},
   "outputs": [],
   "source": [
    "# Select Drought Index and Period\n",
    "di = 'SPEI'\n",
    "di_scale = 6\n",
    "\n",
    "# Select Stations\n",
    "# selected_stations = ['Ramsar', 'Nowshahr', 'Siahbisheh', 'Kiyasar', 'Kojur', 'Baladeh', 'Alasht', 'Babolsar', 'Gharakhil', 'Sari', 'Sari (dasht-e-naz airport)', 'Galugah', 'Bandar-e-amirabad', 'Amol', 'Polsefid']\n",
    "selected_stations = ['Ramsar', 'Nowshahr']\n",
    "# selected_stations = ['Siahbisheh', 'Kiyasar', 'Kojur', 'Baladeh', 'Alasht']\n",
    "# selected_stations = ['Babolsar', 'Gharakhil', 'Sari', 'Sari (dasht-e-naz airport)', 'Galugah', 'Bandar-e-amirabad', 'Amol', 'Polsefid']\n",
    "\n",
    "# Select Columns\n",
    "selected_columns = [\n",
    "    'Station_Name', 'Station_ID',\n",
    "    'Station_Latitude', 'Station_Longitude', 'Station_Elevation',\n",
    "    'Date',\n",
    "    f'{di}_{di_scale}',\n",
    "    f'GPM_{di}_{di_scale}',\n",
    "    f'ERA5_{di}_{di_scale}',\n",
    "    'ERA5_Precipitation',\n",
    "    'GPM_Precipitation',\n",
    "    'TRMM_Precipitation',\n",
    "    'TERRACLIMATE_Precipitation',\n",
    "    'PERSIANNCDR_Precipitation',\n",
    "    'PET_MOD16A2GF',\n",
    "    'NDVI', 'EVI',\n",
    "    'LSTDay', 'LSTNight', 'LST',\n",
    "    'PCI_GPM', 'PCI_ERA5',\n",
    "    'VCI', 'TCI', 'VHI',\n",
    "    'CI_GPM', 'CI_ERA5',\n",
    "]\n",
    "\n",
    "# Select Start and End Date\n",
    "start_date = '2006-09'\n",
    "end_date = '2023-10'"
   ]
  },
  {
   "cell_type": "markdown",
   "id": "c773c79b",
   "metadata": {},
   "source": [
    "# Filter Data"
   ]
  },
  {
   "cell_type": "code",
   "execution_count": 14,
   "id": "ecf78173",
   "metadata": {},
   "outputs": [],
   "source": [
    "df = data\\\n",
    "    .filter(items=selected_columns)\\\n",
    "        .query(\"Station_Name in @selected_stations and Date >= @start_date and Date < @end_date\")"
   ]
  },
  {
   "cell_type": "markdown",
   "id": "ba7b1f34",
   "metadata": {},
   "source": [
    "# Add Some Columns"
   ]
  },
  {
   "cell_type": "code",
   "execution_count": 15,
   "id": "3303aafd",
   "metadata": {},
   "outputs": [],
   "source": [
    "# Date, Year, Month\n",
    "df['Date'] = pd.to_datetime(df['Date'], format='%Y-%m')\n",
    "df['Year'] = df['Date'].dt.year\n",
    "df['Month'] = df['Date'].dt.month\n",
    "\n",
    "# SPI and SPEI Class\n",
    "df[f'{di}_{di_scale}_Class'] = pd.cut(df[f'{di}_{di_scale}'], bins=[-10, -2, -1.5, -1, 1, 1.5, 2, 10], labels=['ED', 'SD', 'MD', 'NN', 'MW', 'VW', 'EW'])\n",
    "\n",
    "# Month Sin & Cos\n",
    "df['Month_sin'] = np.sin(2 * np.pi * df['Month'] / 12)\n",
    "df['Month_cos'] = np.cos(2 * np.pi * df['Month'] / 12)\n",
    "        \n",
    "# LST Diff\n",
    "df['LST_Diff'] = df['LSTDay'] - df['LSTNight']\n",
    "\n",
    "# Convert to Category\n",
    "df['Station_ID'] = df['Station_ID'].astype('category')\n",
    "df['Year'] = df['Year'].astype('category')\n",
    "df['Month'] = df['Month'].astype('category')\n",
    "df[f'{di}_{di_scale}_Class'] = df[f'{di}_{di_scale}_Class'].astype('category')"
   ]
  },
  {
   "cell_type": "code",
   "execution_count": 16,
   "id": "d4284e6f",
   "metadata": {},
   "outputs": [],
   "source": [
    "df.dropna(inplace=True)\n",
    "df.sort_values(by=['Station_ID', 'Year', 'Month'], inplace=True)\n",
    "df.reset_index(drop=True, inplace=True)"
   ]
  },
  {
   "cell_type": "code",
   "execution_count": 17,
   "id": "1e02915e",
   "metadata": {},
   "outputs": [],
   "source": [
    "selected_columns_lag_roll = [\n",
    "    'ERA5_Precipitation',\n",
    "    'GPM_Precipitation',\n",
    "    'TRMM_Precipitation',\n",
    "    'TERRACLIMATE_Precipitation',\n",
    "    'PERSIANNCDR_Precipitation',\n",
    "    f'GPM_{di}_{di_scale}',\n",
    "    f'ERA5_{di}_{di_scale}',\n",
    "    'PET_MOD16A2GF',\n",
    "    'NDVI', 'EVI',\n",
    "    'LSTDay', 'LSTNight', 'LST',\n",
    "    'PCI_GPM', 'PCI_ERA5',\n",
    "    'VCI', 'TCI', 'VHI',\n",
    "    'CI_GPM', 'CI_ERA5',\n",
    "]\n",
    "\n",
    "# Add Lag\n",
    "for lag in range(1, 4):\n",
    "    for col in selected_columns_lag_roll:\n",
    "        df[f'{col}_lag_{lag}'] = df.groupby('Station_ID', observed=False)[col].shift(lag)\n",
    "\n",
    "\n",
    "# Add Mean and Std Roll\n",
    "for r in [3]:\n",
    "    for col in selected_columns_lag_roll:\n",
    "        df[f'{col}_roll_mean_{r}'] = df.groupby('Station_ID', observed=False)[col].transform(lambda x: x.rolling(window=r, min_periods=1).mean())\n",
    "        df[f'{col}_roll_std_{r}'] = df.groupby('Station_ID', observed=False)[col].transform(lambda x: x.rolling(window=r, min_periods=1).std())"
   ]
  },
  {
   "cell_type": "markdown",
   "id": "6a11e19b",
   "metadata": {},
   "source": [
    "# Remove all NA"
   ]
  },
  {
   "cell_type": "code",
   "execution_count": 18,
   "id": "689557a4",
   "metadata": {},
   "outputs": [],
   "source": [
    "df.dropna(inplace=True)\n",
    "df.reset_index(drop=True, inplace=True)"
   ]
  },
  {
   "cell_type": "markdown",
   "id": "059b02cb",
   "metadata": {},
   "source": [
    "# Station-wise Standardization"
   ]
  },
  {
   "cell_type": "code",
   "execution_count": 19,
   "id": "00653016",
   "metadata": {},
   "outputs": [
    {
     "name": "stdout",
     "output_type": "stream",
     "text": [
      "Removing classes with fewer than 2 samples: ['EW']\n",
      "Data shape after removing rare classes: (303, 126)\n",
      "\n",
      "--- Final Class Distribution ---\n",
      "SPEI_6_Class\n",
      "NN    199\n",
      "MD     37\n",
      "MW     31\n",
      "SD     20\n",
      "VW     13\n",
      "ED      3\n",
      "EW      0\n",
      "Name: count, dtype: int64\n",
      "Target Classes: ['ED' 'MD' 'MW' 'NN' 'SD' 'VW']\n",
      "Training set shape: (212, 126)\n",
      "Testing set shape: (91, 126)\n"
     ]
    }
   ],
   "source": [
    "# Define columns to exclude from features\n",
    "EXCLUDE_COLS = ['Station_Name', 'Station_ID', 'Date', f'{di}_{di_scale}_Class', f'{di}_{di_scale}', 'Year', 'Month']\n",
    "FEATURES = [col for col in df.columns if col not in EXCLUDE_COLS]\n",
    "\n",
    "# Station-wise standardization\n",
    "df_scaled = df.copy()\n",
    "for station in df_scaled['Station_Name'].unique():\n",
    "    station_mask = df_scaled['Station_Name'] == station\n",
    "    scaler = StandardScaler()\n",
    "    df_scaled.loc[station_mask, FEATURES] = scaler.fit_transform(df_scaled.loc[station_mask, FEATURES])\n",
    "\n",
    "\n",
    "class_counts = df_scaled[f'{di}_{di_scale}_Class'].value_counts()\n",
    "classes_to_remove = class_counts[class_counts < 2].index\n",
    "\n",
    "if not classes_to_remove.empty:\n",
    "    print(f\"Removing classes with fewer than 2 samples: {classes_to_remove.tolist()}\")\n",
    "    \n",
    "    # Filter the dataframe to exclude these rare classes\n",
    "    df_filtered = df_scaled[~df_scaled[f'{di}_{di_scale}_Class'].isin(classes_to_remove)].copy()\n",
    "    \n",
    "    # Redefine X and y from the filtered dataframe\n",
    "    X = df_filtered[FEATURES]\n",
    "    y = df_filtered[f'{di}_{di_scale}_Class']\n",
    "    \n",
    "    print(f\"Data shape after removing rare classes: {X.shape}\")\n",
    "    print(\"\\n--- Final Class Distribution ---\")\n",
    "    print(y.value_counts())\n",
    "else:\n",
    "    print(\"No classes with fewer than 2 samples found.\")\n",
    "    X = df_scaled[FEATURES]\n",
    "    y = df_scaled[f'{di}_{di_scale}_Class']\n",
    "\n",
    "# Encode the target variable\n",
    "le = LabelEncoder()\n",
    "y_encoded = le.fit_transform(y)\n",
    "\n",
    "# Split data into training and testing sets\n",
    "X_train, X_test, y_train, y_test = train_test_split(\n",
    "    X,\n",
    "    y_encoded,\n",
    "    test_size=0.30,\n",
    "    random_state=42,\n",
    "    stratify=y_encoded\n",
    ")\n",
    "\n",
    "print(f\"Target Classes: {le.classes_}\")\n",
    "print(f\"Training set shape: {X_train.shape}\")\n",
    "print(f\"Testing set shape: {X_test.shape}\")"
   ]
  },
  {
   "cell_type": "markdown",
   "id": "b2c0534b",
   "metadata": {},
   "source": [
    "# Feature Selection with RFECV"
   ]
  },
  {
   "cell_type": "code",
   "execution_count": 20,
   "id": "395cf562",
   "metadata": {},
   "outputs": [
    {
     "name": "stdout",
     "output_type": "stream",
     "text": [
      "Optimal number of features found: 11\n",
      "Selected features: ['GPM_SPEI_6', 'ERA5_SPEI_6', 'TRMM_Precipitation', 'PET_MOD16A2GF', 'GPM_SPEI_6_lag_1', 'LSTDay_lag_3', 'ERA5_SPEI_6_roll_mean_3', 'LSTDay_roll_std_3', 'VCI_roll_mean_3', 'VHI_roll_std_3', 'CI_ERA5_roll_mean_3']\n"
     ]
    },
    {
     "data": {
      "image/png": "[encoded data removed]",
      "text/plain": [
       "<Figure size 1200x800 with 1 Axes>"
      ]
     },
     "metadata": {},
     "output_type": "display_data"
    }
   ],
   "source": [
    "# The estimator that will be used by RFECV\n",
    "estimator = GradientBoostingClassifier(\n",
    "    random_state=42,\n",
    ")\n",
    "\n",
    "# The RFECV object\n",
    "rfecv = RFECV(\n",
    "    estimator=estimator,\n",
    "    step=1,\n",
    "    cv=StratifiedKFold(5),\n",
    "    scoring='f1_macro',\n",
    "    n_jobs=-1\n",
    ")\n",
    "\n",
    "# Fit RFECV on the training data\n",
    "rfecv.fit(X_train, y_train)\n",
    "\n",
    "print(f\"Optimal number of features found: {rfecv.n_features_}\")\n",
    "\n",
    "# Get the final selected features\n",
    "final_features = X_train.columns[rfecv.support_]\n",
    "print(f\"Selected features: {final_features.tolist()}\")\n",
    "\n",
    "# --- Plot Feature Importances ---\n",
    "# The `rfecv.estimator_` attribute is the model trained on the full set of features\n",
    "# during the last step of the cross-validation process. We can use its feature importances.\n",
    "importances = rfecv.estimator_.feature_importances_\n",
    "feature_importance_df = pd.DataFrame({\n",
    "    'Feature': final_features,\n",
    "    'Importance': importances\n",
    "}).sort_values(by='Importance', ascending=False)\n",
    "\n",
    "# Plot only the selected features\n",
    "selected_feature_importances = feature_importance_df[feature_importance_df['Feature'].isin(final_features)]\n",
    "\n",
    "plt.figure(figsize=(12, 8))\n",
    "sns.barplot(x='Importance', y='Feature', data=selected_feature_importances)\n",
    "plt.title('Feature Importances for Selected Features (from RFECV)')\n",
    "plt.xlabel('Importance')\n",
    "plt.ylabel('Feature')\n",
    "plt.tight_layout()\n",
    "plt.show()\n",
    "\n",
    "\n",
    "# Update training and testing sets with selected features\n",
    "X_train_final = X_train[final_features]\n",
    "X_test_final = X_test[final_features]"
   ]
  },
  {
   "cell_type": "markdown",
   "id": "948efbdd",
   "metadata": {},
   "source": [
    "# Hyperparameter Tuning with Optuna"
   ]
  },
  {
   "cell_type": "code",
   "execution_count": 21,
   "id": "95b28a9a",
   "metadata": {},
   "outputs": [
    {
     "name": "stderr",
     "output_type": "stream",
     "text": [
      "[I 2025-08-22 15:39:06,176] A new study created in memory with name: no-name-574bb5bb-68b1-47cd-90f7-a54b96533974\n",
      "[I 2025-08-22 15:39:09,385] Trial 0 finished with value: 0.3057288473308824 and parameters: {'n_estimators': 88, 'learning_rate': 0.2209159764037521, 'max_depth': 9, 'min_samples_split': 11, 'min_samples_leaf': 11, 'subsample': 0.769765490421226}. Best is trial 0 with value: 0.3057288473308824.\n",
      "[I 2025-08-22 15:39:22,228] Trial 1 finished with value: 0.30281081162299267 and parameters: {'n_estimators': 411, 'learning_rate': 0.09675365252621347, 'max_depth': 12, 'min_samples_split': 11, 'min_samples_leaf': 11, 'subsample': 0.7279808415326956}. Best is trial 0 with value: 0.3057288473308824.\n",
      "[I 2025-08-22 15:39:28,791] Trial 2 finished with value: 0.36326438278164597 and parameters: {'n_estimators': 215, 'learning_rate': 0.23041419543645458, 'max_depth': 19, 'min_samples_split': 15, 'min_samples_leaf': 10, 'subsample': 0.8375109094854183}. Best is trial 2 with value: 0.36326438278164597.\n",
      "[I 2025-08-22 15:39:34,693] Trial 3 finished with value: 0.2851843458018535 and parameters: {'n_estimators': 221, 'learning_rate': 0.2185839935592442, 'max_depth': 33, 'min_samples_split': 4, 'min_samples_leaf': 16, 'subsample': 0.7199787971844213}. Best is trial 2 with value: 0.36326438278164597.\n",
      "[I 2025-08-22 15:39:51,422] Trial 4 finished with value: 0.29504264903634303 and parameters: {'n_estimators': 497, 'learning_rate': 0.11476395424991602, 'max_depth': 39, 'min_samples_split': 15, 'min_samples_leaf': 18, 'subsample': 0.9603306166197219}. Best is trial 2 with value: 0.36326438278164597.\n",
      "[I 2025-08-22 15:39:55,854] Trial 5 finished with value: 0.2613310718059698 and parameters: {'n_estimators': 188, 'learning_rate': 0.20533669597978568, 'max_depth': 22, 'min_samples_split': 20, 'min_samples_leaf': 20, 'subsample': 0.7423684561721914}. Best is trial 2 with value: 0.36326438278164597.\n",
      "[I 2025-08-22 15:40:02,360] Trial 6 finished with value: 0.2856842594776171 and parameters: {'n_estimators': 143, 'learning_rate': 0.19653469818551852, 'max_depth': 41, 'min_samples_split': 7, 'min_samples_leaf': 7, 'subsample': 0.8012339747516983}. Best is trial 2 with value: 0.36326438278164597.\n",
      "[I 2025-08-22 15:40:04,766] Trial 7 finished with value: 0.304845334281739 and parameters: {'n_estimators': 78, 'learning_rate': 0.24374473763110546, 'max_depth': 21, 'min_samples_split': 18, 'min_samples_leaf': 18, 'subsample': 0.8886695860343958}. Best is trial 2 with value: 0.36326438278164597.\n",
      "[I 2025-08-22 15:40:24,674] Trial 8 finished with value: 0.30897918306365096 and parameters: {'n_estimators': 221, 'learning_rate': 0.05046781040483414, 'max_depth': 8, 'min_samples_split': 3, 'min_samples_leaf': 1, 'subsample': 0.9393580236685034}. Best is trial 2 with value: 0.36326438278164597.\n",
      "[I 2025-08-22 15:40:31,276] Trial 9 finished with value: 0.25201633615426716 and parameters: {'n_estimators': 195, 'learning_rate': 0.10203230556608499, 'max_depth': 49, 'min_samples_split': 5, 'min_samples_leaf': 11, 'subsample': 0.6987791040398289}. Best is trial 2 with value: 0.36326438278164597.\n",
      "[I 2025-08-22 15:40:39,153] Trial 10 finished with value: 0.26836903144628 and parameters: {'n_estimators': 317, 'learning_rate': 0.2991628817535366, 'max_depth': 20, 'min_samples_split': 15, 'min_samples_leaf': 6, 'subsample': 0.6120552953781839}. Best is trial 2 with value: 0.36326438278164597.\n",
      "[I 2025-08-22 15:40:56,941] Trial 11 finished with value: 0.3114597219174233 and parameters: {'n_estimators': 296, 'learning_rate': 0.013674567345985135, 'max_depth': 5, 'min_samples_split': 2, 'min_samples_leaf': 1, 'subsample': 0.8849858916443968}. Best is trial 2 with value: 0.36326438278164597.\n",
      "[I 2025-08-22 15:41:30,371] Trial 12 finished with value: 0.2911432216407613 and parameters: {'n_estimators': 325, 'learning_rate': 0.02809473214155747, 'max_depth': 16, 'min_samples_split': 8, 'min_samples_leaf': 1, 'subsample': 0.849706547358698}. Best is trial 2 with value: 0.36326438278164597.\n",
      "[I 2025-08-22 15:41:38,250] Trial 13 finished with value: 0.2954931790554248 and parameters: {'n_estimators': 292, 'learning_rate': 0.16882931387811506, 'max_depth': 5, 'min_samples_split': 14, 'min_samples_leaf': 5, 'subsample': 0.8685814452410906}. Best is trial 2 with value: 0.36326438278164597.\n",
      "[I 2025-08-22 15:41:46,069] Trial 14 finished with value: 0.28920124105128703 and parameters: {'n_estimators': 380, 'learning_rate': 0.271290451514151, 'max_depth': 27, 'min_samples_split': 2, 'min_samples_leaf': 15, 'subsample': 0.9087537709306065}. Best is trial 2 with value: 0.36326438278164597.\n",
      "[I 2025-08-22 15:41:57,879] Trial 15 finished with value: 0.3200441192365741 and parameters: {'n_estimators': 374, 'learning_rate': 0.14423218063045162, 'max_depth': 15, 'min_samples_split': 8, 'min_samples_leaf': 4, 'subsample': 0.9949818970992453}. Best is trial 2 with value: 0.36326438278164597.\n",
      "[I 2025-08-22 15:42:13,009] Trial 16 finished with value: 0.3226056729789188 and parameters: {'n_estimators': 391, 'learning_rate': 0.1477204426647086, 'max_depth': 15, 'min_samples_split': 11, 'min_samples_leaf': 8, 'subsample': 0.9889836856324687}. Best is trial 2 with value: 0.36326438278164597.\n",
      "[I 2025-08-22 15:42:23,991] Trial 17 finished with value: 0.32723571607099344 and parameters: {'n_estimators': 474, 'learning_rate': 0.1736934044042326, 'max_depth': 29, 'min_samples_split': 12, 'min_samples_leaf': 8, 'subsample': 0.8147985093300182}. Best is trial 2 with value: 0.36326438278164597.\n",
      "[I 2025-08-22 15:42:34,733] Trial 18 finished with value: 0.31162141932831044 and parameters: {'n_estimators': 494, 'learning_rate': 0.17331683879661558, 'max_depth': 28, 'min_samples_split': 13, 'min_samples_leaf': 13, 'subsample': 0.8152929696916638}. Best is trial 2 with value: 0.36326438278164597.\n",
      "[I 2025-08-22 15:42:46,579] Trial 19 finished with value: 0.30592531858425975 and parameters: {'n_estimators': 445, 'learning_rate': 0.2506358429623062, 'max_depth': 30, 'min_samples_split': 18, 'min_samples_leaf': 9, 'subsample': 0.6592271656173473}. Best is trial 2 with value: 0.36326438278164597.\n",
      "[I 2025-08-22 15:42:52,852] Trial 20 finished with value: 0.2846174263775911 and parameters: {'n_estimators': 259, 'learning_rate': 0.2891121014616958, 'max_depth': 36, 'min_samples_split': 17, 'min_samples_leaf': 13, 'subsample': 0.8271456196357461}. Best is trial 2 with value: 0.36326438278164597.\n",
      "[I 2025-08-22 15:43:04,888] Trial 21 finished with value: 0.3121611818474483 and parameters: {'n_estimators': 465, 'learning_rate': 0.1388121072084912, 'max_depth': 24, 'min_samples_split': 12, 'min_samples_leaf': 8, 'subsample': 0.7753283262670871}. Best is trial 2 with value: 0.36326438278164597.\n",
      "[I 2025-08-22 15:43:14,974] Trial 22 finished with value: 0.363001710633021 and parameters: {'n_estimators': 426, 'learning_rate': 0.18275505065512263, 'max_depth': 17, 'min_samples_split': 10, 'min_samples_leaf': 9, 'subsample': 0.9261613528542212}. Best is trial 2 with value: 0.36326438278164597.\n",
      "[I 2025-08-22 15:43:28,031] Trial 23 finished with value: 0.3550079352616992 and parameters: {'n_estimators': 458, 'learning_rate': 0.18762213567048178, 'max_depth': 19, 'min_samples_split': 9, 'min_samples_leaf': 9, 'subsample': 0.9204276556260943}. Best is trial 2 with value: 0.36326438278164597.\n",
      "[I 2025-08-22 15:43:36,552] Trial 24 finished with value: 0.3045772637358466 and parameters: {'n_estimators': 419, 'learning_rate': 0.237947541204688, 'max_depth': 18, 'min_samples_split': 9, 'min_samples_leaf': 13, 'subsample': 0.9198670937284418}. Best is trial 2 with value: 0.36326438278164597.\n",
      "[I 2025-08-22 15:43:45,458] Trial 25 finished with value: 0.36228441838941067 and parameters: {'n_estimators': 349, 'learning_rate': 0.1955665751635764, 'max_depth': 12, 'min_samples_split': 9, 'min_samples_leaf': 10, 'subsample': 0.9408086648337152}. Best is trial 2 with value: 0.36326438278164597.\n",
      "[I 2025-08-22 15:43:53,709] Trial 26 finished with value: 0.3447208626104488 and parameters: {'n_estimators': 350, 'learning_rate': 0.2627626828379727, 'max_depth': 12, 'min_samples_split': 7, 'min_samples_leaf': 4, 'subsample': 0.9592731624951631}. Best is trial 2 with value: 0.36326438278164597.\n",
      "[I 2025-08-22 15:44:03,860] Trial 27 finished with value: 0.3734004687351512 and parameters: {'n_estimators': 259, 'learning_rate': 0.22331070872791137, 'max_depth': 24, 'min_samples_split': 6, 'min_samples_leaf': 10, 'subsample': 0.8577434753827854}. Best is trial 27 with value: 0.3734004687351512.\n",
      "[I 2025-08-22 15:44:10,818] Trial 28 finished with value: 0.3234634361335007 and parameters: {'n_estimators': 251, 'learning_rate': 0.22507222779903652, 'max_depth': 25, 'min_samples_split': 5, 'min_samples_leaf': 12, 'subsample': 0.8493645412556339}. Best is trial 27 with value: 0.3734004687351512.\n",
      "[I 2025-08-22 15:44:14,292] Trial 29 finished with value: 0.3008240650946207 and parameters: {'n_estimators': 116, 'learning_rate': 0.2208967288364071, 'max_depth': 24, 'min_samples_split': 16, 'min_samples_leaf': 15, 'subsample': 0.7711797298334925}. Best is trial 27 with value: 0.3734004687351512.\n",
      "[I 2025-08-22 15:44:19,809] Trial 30 finished with value: 0.3274345844723071 and parameters: {'n_estimators': 161, 'learning_rate': 0.26690546952462113, 'max_depth': 31, 'min_samples_split': 6, 'min_samples_leaf': 10, 'subsample': 0.8521097694848366}. Best is trial 27 with value: 0.3734004687351512.\n",
      "[I 2025-08-22 15:44:28,340] Trial 31 finished with value: 0.3328447209146469 and parameters: {'n_estimators': 347, 'learning_rate': 0.20171972362308016, 'max_depth': 12, 'min_samples_split': 10, 'min_samples_leaf': 10, 'subsample': 0.8910815489664368}. Best is trial 27 with value: 0.3734004687351512.\n",
      "[I 2025-08-22 15:44:39,410] Trial 32 finished with value: 0.30329151383635894 and parameters: {'n_estimators': 268, 'learning_rate': 0.18408538426634505, 'max_depth': 9, 'min_samples_split': 10, 'min_samples_leaf': 12, 'subsample': 0.9485431944193754}. Best is trial 27 with value: 0.3734004687351512.\n",
      "[I 2025-08-22 15:44:46,525] Trial 33 finished with value: 0.33673593172158744 and parameters: {'n_estimators': 233, 'learning_rate': 0.2198639096192083, 'max_depth': 17, 'min_samples_split': 13, 'min_samples_leaf': 10, 'subsample': 0.9721970558256879}. Best is trial 27 with value: 0.3734004687351512.\n",
      "[I 2025-08-22 15:44:58,635] Trial 34 finished with value: 0.3318901199240182 and parameters: {'n_estimators': 344, 'learning_rate': 0.12360434427733784, 'max_depth': 13, 'min_samples_split': 10, 'min_samples_leaf': 7, 'subsample': 0.9360292579763718}. Best is trial 27 with value: 0.3734004687351512.\n",
      "[I 2025-08-22 15:45:07,041] Trial 35 finished with value: 0.3354882146458274 and parameters: {'n_estimators': 417, 'learning_rate': 0.23213101153606192, 'max_depth': 8, 'min_samples_split': 6, 'min_samples_leaf': 11, 'subsample': 0.8690594540646441}. Best is trial 27 with value: 0.3734004687351512.\n",
      "[I 2025-08-22 15:45:17,662] Trial 36 finished with value: 0.3569675847573512 and parameters: {'n_estimators': 189, 'learning_rate': 0.21090650664546018, 'max_depth': 23, 'min_samples_split': 8, 'min_samples_leaf': 9, 'subsample': 0.9063044330764336}. Best is trial 27 with value: 0.3734004687351512.\n",
      "[I 2025-08-22 15:45:24,999] Trial 37 finished with value: 0.29113593477570204 and parameters: {'n_estimators': 229, 'learning_rate': 0.16689653619719313, 'max_depth': 21, 'min_samples_split': 20, 'min_samples_leaf': 14, 'subsample': 0.8385850671472279}. Best is trial 27 with value: 0.3734004687351512.\n",
      "[I 2025-08-22 15:45:33,707] Trial 38 finished with value: 0.3238477796629792 and parameters: {'n_estimators': 302, 'learning_rate': 0.19366205267110875, 'max_depth': 14, 'min_samples_split': 4, 'min_samples_leaf': 6, 'subsample': 0.9733900095348458}. Best is trial 27 with value: 0.3734004687351512.\n",
      "[I 2025-08-22 15:45:35,387] Trial 39 finished with value: 0.26826317514623965 and parameters: {'n_estimators': 52, 'learning_rate': 0.07325408641982717, 'max_depth': 10, 'min_samples_split': 9, 'min_samples_leaf': 12, 'subsample': 0.741998409756381}. Best is trial 27 with value: 0.3734004687351512.\n",
      "[I 2025-08-22 15:45:41,123] Trial 40 finished with value: 0.2755892280571196 and parameters: {'n_estimators': 153, 'learning_rate': 0.25158730908301014, 'max_depth': 34, 'min_samples_split': 12, 'min_samples_leaf': 7, 'subsample': 0.7919886873876945}. Best is trial 27 with value: 0.3734004687351512.\n",
      "[I 2025-08-22 15:45:50,083] Trial 41 finished with value: 0.33790995121049766 and parameters: {'n_estimators': 188, 'learning_rate': 0.2065348124394369, 'max_depth': 23, 'min_samples_split': 7, 'min_samples_leaf': 9, 'subsample': 0.9128939272741218}. Best is trial 27 with value: 0.3734004687351512.\n",
      "[I 2025-08-22 15:45:57,434] Trial 42 finished with value: 0.35512731349017085 and parameters: {'n_estimators': 279, 'learning_rate': 0.20936093749016063, 'max_depth': 26, 'min_samples_split': 8, 'min_samples_leaf': 11, 'subsample': 0.875625858986769}. Best is trial 27 with value: 0.3734004687351512.\n",
      "[I 2025-08-22 15:46:05,528] Trial 43 finished with value: 0.3503639218775186 and parameters: {'n_estimators': 209, 'learning_rate': 0.1595507353312357, 'max_depth': 21, 'min_samples_split': 6, 'min_samples_leaf': 9, 'subsample': 0.898414604314313}. Best is trial 27 with value: 0.3734004687351512.\n",
      "[I 2025-08-22 15:46:11,010] Trial 44 finished with value: 0.3647973112888367 and parameters: {'n_estimators': 120, 'learning_rate': 0.2125450382498118, 'max_depth': 19, 'min_samples_split': 11, 'min_samples_leaf': 10, 'subsample': 0.9349962053237648}. Best is trial 27 with value: 0.3734004687351512.\n",
      "[I 2025-08-22 15:46:16,187] Trial 45 finished with value: 0.27294853393418966 and parameters: {'n_estimators': 115, 'learning_rate': 0.1851542286035427, 'max_depth': 18, 'min_samples_split': 14, 'min_samples_leaf': 10, 'subsample': 0.9311681613343422}. Best is trial 27 with value: 0.3734004687351512.\n",
      "[I 2025-08-22 15:46:20,413] Trial 46 finished with value: 0.2978190763866287 and parameters: {'n_estimators': 132, 'learning_rate': 0.23741254350988356, 'max_depth': 50, 'min_samples_split': 11, 'min_samples_leaf': 17, 'subsample': 0.9563620968617186}. Best is trial 27 with value: 0.3734004687351512.\n",
      "[I 2025-08-22 15:46:27,665] Trial 47 finished with value: 0.3193597698607681 and parameters: {'n_estimators': 77, 'learning_rate': 0.282719504945788, 'max_depth': 44, 'min_samples_split': 10, 'min_samples_leaf': 7, 'subsample': 0.9808806136335297}. Best is trial 27 with value: 0.3734004687351512.\n",
      "[I 2025-08-22 15:46:32,887] Trial 48 finished with value: 0.35719929841248205 and parameters: {'n_estimators': 168, 'learning_rate': 0.25385773507707277, 'max_depth': 20, 'min_samples_split': 4, 'min_samples_leaf': 11, 'subsample': 0.8619975726241366}. Best is trial 27 with value: 0.3734004687351512.\n",
      "[I 2025-08-22 15:46:40,548] Trial 49 finished with value: 0.2794579780707537 and parameters: {'n_estimators': 309, 'learning_rate': 0.22783764526803574, 'max_depth': 16, 'min_samples_split': 13, 'min_samples_leaf': 6, 'subsample': 0.8858653165528463}. Best is trial 27 with value: 0.3734004687351512.\n",
      "[I 2025-08-22 15:46:49,135] Trial 50 finished with value: 0.33550894418302535 and parameters: {'n_estimators': 401, 'learning_rate': 0.20001315203758455, 'max_depth': 11, 'min_samples_split': 15, 'min_samples_leaf': 12, 'subsample': 0.9379978719604506}. Best is trial 27 with value: 0.3734004687351512.\n",
      "[I 2025-08-22 15:46:54,486] Trial 51 finished with value: 0.35017283054629633 and parameters: {'n_estimators': 172, 'learning_rate': 0.2544470273913482, 'max_depth': 20, 'min_samples_split': 4, 'min_samples_leaf': 11, 'subsample': 0.8613478338825786}. Best is trial 27 with value: 0.3734004687351512.\n",
      "[I 2025-08-22 15:47:04,203] Trial 52 finished with value: 0.33291292979695586 and parameters: {'n_estimators': 245, 'learning_rate': 0.24139363481130802, 'max_depth': 17, 'min_samples_split': 3, 'min_samples_leaf': 8, 'subsample': 0.8308299355148849}. Best is trial 27 with value: 0.3734004687351512.\n",
      "[I 2025-08-22 15:47:07,925] Trial 53 finished with value: 0.2999218793115005 and parameters: {'n_estimators': 99, 'learning_rate': 0.2142501266107399, 'max_depth': 20, 'min_samples_split': 5, 'min_samples_leaf': 11, 'subsample': 0.8002482977033387}. Best is trial 27 with value: 0.3734004687351512.\n",
      "[I 2025-08-22 15:47:13,374] Trial 54 finished with value: 0.33710412994245664 and parameters: {'n_estimators': 209, 'learning_rate': 0.27900242701916406, 'max_depth': 14, 'min_samples_split': 2, 'min_samples_leaf': 10, 'subsample': 0.816941886116465}. Best is trial 27 with value: 0.3734004687351512.\n",
      "[I 2025-08-22 15:47:18,129] Trial 55 finished with value: 0.27962964629648446 and parameters: {'n_estimators': 137, 'learning_rate': 0.26149533948208675, 'max_depth': 22, 'min_samples_split': 3, 'min_samples_leaf': 14, 'subsample': 0.9994384801008105}. Best is trial 27 with value: 0.3734004687351512.\n",
      "[I 2025-08-22 15:47:26,078] Trial 56 finished with value: 0.3406607183231503 and parameters: {'n_estimators': 283, 'learning_rate': 0.18126912721485752, 'max_depth': 26, 'min_samples_split': 19, 'min_samples_leaf': 8, 'subsample': 0.785428928188107}. Best is trial 27 with value: 0.3734004687351512.\n",
      "[I 2025-08-22 15:47:39,653] Trial 57 finished with value: 0.2800447590402897 and parameters: {'n_estimators': 436, 'learning_rate': 0.1576891512534199, 'max_depth': 7, 'min_samples_split': 4, 'min_samples_leaf': 13, 'subsample': 0.8747848878912925}. Best is trial 27 with value: 0.3734004687351512.\n",
      "[I 2025-08-22 15:47:48,582] Trial 58 finished with value: 0.36100752415999604 and parameters: {'n_estimators': 366, 'learning_rate': 0.19550113103177144, 'max_depth': 19, 'min_samples_split': 7, 'min_samples_leaf': 9, 'subsample': 0.8994435069766157}. Best is trial 27 with value: 0.3734004687351512.\n",
      "[I 2025-08-22 15:47:57,399] Trial 59 finished with value: 0.3612459518965202 and parameters: {'n_estimators': 371, 'learning_rate': 0.1937706358718695, 'max_depth': 18, 'min_samples_split': 9, 'min_samples_leaf': 9, 'subsample': 0.8980042419257284}. Best is trial 27 with value: 0.3734004687351512.\n",
      "[I 2025-08-22 15:48:08,598] Trial 60 finished with value: 0.297646540593909 and parameters: {'n_estimators': 331, 'learning_rate': 0.13812072245463664, 'max_depth': 16, 'min_samples_split': 9, 'min_samples_leaf': 5, 'subsample': 0.9186646236590327}. Best is trial 27 with value: 0.3734004687351512.\n",
      "[I 2025-08-22 15:48:19,600] Trial 61 finished with value: 0.34167677637076543 and parameters: {'n_estimators': 375, 'learning_rate': 0.19764331649925035, 'max_depth': 18, 'min_samples_split': 8, 'min_samples_leaf': 9, 'subsample': 0.8984842971862839}. Best is trial 27 with value: 0.3734004687351512.\n",
      "[I 2025-08-22 15:48:29,036] Trial 62 finished with value: 0.3091591378943229 and parameters: {'n_estimators': 359, 'learning_rate': 0.17418438100564557, 'max_depth': 15, 'min_samples_split': 11, 'min_samples_leaf': 8, 'subsample': 0.927378750895823}. Best is trial 27 with value: 0.3734004687351512.\n",
      "[I 2025-08-22 15:48:37,996] Trial 63 finished with value: 0.272164906223936 and parameters: {'n_estimators': 400, 'learning_rate': 0.19423303648491816, 'max_depth': 22, 'min_samples_split': 7, 'min_samples_leaf': 20, 'subsample': 0.9488264045758639}. Best is trial 27 with value: 0.3734004687351512.\n",
      "[I 2025-08-22 15:48:46,918] Trial 64 finished with value: 0.3278992225692871 and parameters: {'n_estimators': 431, 'learning_rate': 0.2170864980714684, 'max_depth': 19, 'min_samples_split': 9, 'min_samples_leaf': 10, 'subsample': 0.8992805747808211}. Best is trial 27 with value: 0.3734004687351512.\n",
      "[I 2025-08-22 15:48:57,862] Trial 65 finished with value: 0.30415924233147 and parameters: {'n_estimators': 323, 'learning_rate': 0.2299635562373328, 'max_depth': 13, 'min_samples_split': 12, 'min_samples_leaf': 9, 'subsample': 0.8445106563038726}. Best is trial 27 with value: 0.3734004687351512.\n",
      "[I 2025-08-22 15:49:06,877] Trial 66 finished with value: 0.32698321779077355 and parameters: {'n_estimators': 363, 'learning_rate': 0.17886468921664989, 'max_depth': 17, 'min_samples_split': 10, 'min_samples_leaf': 10, 'subsample': 0.88655225438955}. Best is trial 27 with value: 0.3734004687351512.\n"
     ]
    },
    {
     "name": "stdout",
     "output_type": "stream",
     "text": [
      "Best trial found: 27\n",
      "Best Macro-F1 Score: 0.3734004687351512\n",
      "Best Hyperparameters:\n",
      "{'n_estimators': 259, 'learning_rate': 0.22331070872791137, 'max_depth': 24, 'min_samples_split': 6, 'min_samples_leaf': 10, 'subsample': 0.8577434753827854}\n"
     ]
    }
   ],
   "source": [
    "def objective(trial):\n",
    "    \"\"\"Define the objective function for Optuna to optimize.\"\"\"\n",
    "    params = {\n",
    "        'n_estimators': trial.suggest_int('n_estimators', 50, 500),\n",
    "        'learning_rate': trial.suggest_float('learning_rate', 0.01, 0.3),\n",
    "        'max_depth': trial.suggest_int('max_depth', 5, 50),\n",
    "        'min_samples_split': trial.suggest_int('min_samples_split', 2, 20),\n",
    "        'min_samples_leaf': trial.suggest_int('min_samples_leaf', 1, 20),\n",
    "        'subsample': trial.suggest_float('subsample', 0.6, 1.0),\n",
    "        'random_state': 42,\n",
    "    }\n",
    "\n",
    "    model = GradientBoostingClassifier(**params)\n",
    "    \n",
    "    # Stratified K-Fold Cross-Validation\n",
    "    skf = StratifiedKFold(n_splits=5, shuffle=True, random_state=42)\n",
    "    f1_scores = []\n",
    "    \n",
    "    for train_idx, val_idx in skf.split(X_train_final, y_train):\n",
    "        X_train_fold, X_val_fold = X_train_final.iloc[train_idx], X_train_final.iloc[val_idx]\n",
    "        y_train_fold, y_val_fold = y_train[train_idx], y_train[val_idx]\n",
    "        \n",
    "        model.fit(X_train_fold, y_train_fold)\n",
    "        preds = model.predict(X_val_fold)\n",
    "        f1_scores.append(f1_score(y_val_fold, preds, average='macro'))\n",
    "        \n",
    "    return np.mean(f1_scores)\n",
    "\n",
    "# Create a study object and optimize\n",
    "study = optuna.create_study(direction='maximize')\n",
    "study.optimize(objective, n_trials=100, timeout=600) # 50 trials or 10 minutes\n",
    "\n",
    "print(f\"Best trial found: {study.best_trial.number}\")\n",
    "print(f\"Best Macro-F1 Score: {study.best_value}\")\n",
    "print(\"Best Hyperparameters:\")\n",
    "print(study.best_params)\n"
   ]
  },
  {
   "cell_type": "markdown",
   "id": "48541f6a",
   "metadata": {},
   "source": [
    "# Model Training & Evaluation"
   ]
  },
  {
   "cell_type": "code",
   "execution_count": 22,
   "id": "8e6cdd2c",
   "metadata": {},
   "outputs": [
    {
     "name": "stdout",
     "output_type": "stream",
     "text": [
      "Overall Accuracy: 0.7033\n",
      "Macro-F1 Score: 0.4144\n",
      "Cohen's Kappa: 0.3436\n",
      "\n",
      "Classification Report:\n",
      "              precision    recall  f1-score   support\n",
      "\n",
      "          ED       0.50      1.00      0.67         1\n",
      "          MD       0.67      0.55      0.60        11\n",
      "          MW       0.20      0.11      0.14         9\n",
      "          NN       0.75      0.92      0.83        60\n",
      "          SD       0.50      0.17      0.25         6\n",
      "          VW       0.00      0.00      0.00         4\n",
      "\n",
      "    accuracy                           0.70        91\n",
      "   macro avg       0.44      0.46      0.41        91\n",
      "weighted avg       0.64      0.70      0.66        91\n",
      "\n",
      "\n",
      "--- Plotting Confusion Matrix ---\n"
     ]
    },
    {
     "data": {
      "image/png": "[encoded data removed]",
      "text/plain": [
       "<Figure size 1000x800 with 2 Axes>"
      ]
     },
     "metadata": {},
     "output_type": "display_data"
    }
   ],
   "source": [
    "# Get best hyperparameters\n",
    "best_params = study.best_params\n",
    "best_params['random_state'] = 42\n",
    "\n",
    "# Train the final model\n",
    "final_model = GradientBoostingClassifier(**best_params)\n",
    "final_model.fit(X_train_final, y_train)\n",
    "\n",
    "# Make predictions on the test set\n",
    "y_pred = final_model.predict(X_test_final)\n",
    "\n",
    "# Evaluate the model\n",
    "accuracy = accuracy_score(y_test, y_pred)\n",
    "macro_f1 = f1_score(y_test, y_pred, average='macro')\n",
    "kappa = cohen_kappa_score(y_test, y_pred)\n",
    "\n",
    "print(f\"Overall Accuracy: {accuracy:.4f}\")\n",
    "print(f\"Macro-F1 Score: {macro_f1:.4f}\")\n",
    "print(f\"Cohen's Kappa: {kappa:.4f}\")\n",
    "\n",
    "print(\"\\nClassification Report:\")\n",
    "print(classification_report(y_test, y_pred, target_names=le.classes_))\n",
    "\n",
    "\n",
    "# --- Plot Confusion Matrix ---\n",
    "print(\"\\n--- Plotting Confusion Matrix ---\")\n",
    "cm = confusion_matrix(y_test, y_pred)\n",
    "plt.figure(figsize=(10, 8))\n",
    "sns.heatmap(cm, annot=True, fmt='d', cmap='Blues', xticklabels=le.classes_, yticklabels=le.classes_)\n",
    "plt.title('Confusion Matrix')\n",
    "plt.ylabel('Actual')\n",
    "plt.xlabel('Predicted')\n",
    "plt.show()"
   ]
  },
  {
   "cell_type": "markdown",
   "id": "91a48236",
   "metadata": {},
   "source": [
    "# Explainability with SHAP"
   ]
  },
  {
   "cell_type": "code",
   "execution_count": 23,
   "id": "4fcf13db",
   "metadata": {},
   "outputs": [
    {
     "ename": "InvalidModelError",
     "evalue": "GradientBoostingClassifier is only supported for binary classification right now!",
     "output_type": "error",
     "traceback": [
      "\u001b[31m---------------------------------------------------------------------------\u001b[39m",
      "\u001b[31mInvalidModelError\u001b[39m                         Traceback (most recent call last)",
      "\u001b[36mCell\u001b[39m\u001b[36m \u001b[39m\u001b[32mIn[23]\u001b[39m\u001b[32m, line 3\u001b[39m\n\u001b[32m      1\u001b[39m \u001b[38;5;66;03m# Create SHAP explainer for the final model\u001b[39;00m\n\u001b[32m      2\u001b[39m \u001b[38;5;66;03m# Using a subset of the training data for the background is a common practice for performance\u001b[39;00m\n\u001b[32m----> \u001b[39m\u001b[32m3\u001b[39m explainer = \u001b[43mshap\u001b[49m\u001b[43m.\u001b[49m\u001b[43mTreeExplainer\u001b[49m\u001b[43m(\u001b[49m\u001b[43mfinal_model\u001b[49m\u001b[43m,\u001b[49m\u001b[43m \u001b[49m\u001b[43mX_train_final\u001b[49m\u001b[43m.\u001b[49m\u001b[43msample\u001b[49m\u001b[43m(\u001b[49m\u001b[32;43m100\u001b[39;49m\u001b[43m,\u001b[49m\u001b[43m \u001b[49m\u001b[43mrandom_state\u001b[49m\u001b[43m=\u001b[49m\u001b[32;43m42\u001b[39;49m\u001b[43m)\u001b[49m\u001b[43m)\u001b[49m\n\u001b[32m      4\u001b[39m shap_values = explainer.shap_values(X_test_final)\n\u001b[32m      6\u001b[39m \u001b[38;5;66;03m# SHAP Summary Plot (Bar)\u001b[39;00m\n",
      "\u001b[36mFile \u001b[39m\u001b[32m~/w/DroughtMonitoringIran/.venv/lib/python3.12/site-packages/shap/explainers/_tree.py:278\u001b[39m, in \u001b[36mTreeExplainer.__init__\u001b[39m\u001b[34m(self, model, data, model_output, feature_perturbation, feature_names, approximate, link, linearize_link)\u001b[39m\n\u001b[32m    276\u001b[39m \u001b[38;5;28mself\u001b[39m.feature_perturbation = feature_perturbation\n\u001b[32m    277\u001b[39m \u001b[38;5;28mself\u001b[39m.expected_value = \u001b[38;5;28;01mNone\u001b[39;00m\n\u001b[32m--> \u001b[39m\u001b[32m278\u001b[39m \u001b[38;5;28mself\u001b[39m.model = \u001b[43mTreeEnsemble\u001b[49m\u001b[43m(\u001b[49m\u001b[43mmodel\u001b[49m\u001b[43m,\u001b[49m\u001b[43m \u001b[49m\u001b[38;5;28;43mself\u001b[39;49m\u001b[43m.\u001b[49m\u001b[43mdata\u001b[49m\u001b[43m,\u001b[49m\u001b[43m \u001b[49m\u001b[38;5;28;43mself\u001b[39;49m\u001b[43m.\u001b[49m\u001b[43mdata_missing\u001b[49m\u001b[43m,\u001b[49m\u001b[43m \u001b[49m\u001b[43mmodel_output\u001b[49m\u001b[43m)\u001b[49m\n\u001b[32m    279\u001b[39m \u001b[38;5;28mself\u001b[39m.model_output = model_output\n\u001b[32m    280\u001b[39m \u001b[38;5;66;03m# self.model_output = self.model.model_output # this allows the TreeEnsemble to translate model outputs types by how it loads the model\u001b[39;00m\n\u001b[32m    281\u001b[39m \n\u001b[32m    282\u001b[39m \u001b[38;5;66;03m# check for unsupported combinations of feature_perturbation and model_outputs\u001b[39;00m\n",
      "\u001b[36mFile \u001b[39m\u001b[32m~/w/DroughtMonitoringIran/.venv/lib/python3.12/site-packages/shap/explainers/_tree.py:1168\u001b[39m, in \u001b[36mTreeEnsemble.__init__\u001b[39m\u001b[34m(self, model, data, data_missing, model_output)\u001b[39m\n\u001b[32m   1166\u001b[39m \u001b[38;5;28;01mif\u001b[39;00m model.estimators_.shape[\u001b[32m1\u001b[39m] > \u001b[32m1\u001b[39m:\n\u001b[32m   1167\u001b[39m     emsg = \u001b[33m\"\u001b[39m\u001b[33mGradientBoostingClassifier is only supported for binary classification right now!\u001b[39m\u001b[33m\"\u001b[39m\n\u001b[32m-> \u001b[39m\u001b[32m1168\u001b[39m     \u001b[38;5;28;01mraise\u001b[39;00m InvalidModelError(emsg)\n\u001b[32m   1170\u001b[39m \u001b[38;5;66;03m# currently we only support the logs odds estimator\u001b[39;00m\n\u001b[32m   1171\u001b[39m \u001b[38;5;28;01mif\u001b[39;00m safe_isinstance(\n\u001b[32m   1172\u001b[39m     model.init_,\n\u001b[32m   1173\u001b[39m     [\n\u001b[32m   (...)\u001b[39m\u001b[32m   1176\u001b[39m     ],\n\u001b[32m   1177\u001b[39m ):\n",
      "\u001b[31mInvalidModelError\u001b[39m: GradientBoostingClassifier is only supported for binary classification right now!"
     ]
    }
   ],
   "source": [
    "# Create SHAP explainer for the final model\n",
    "# Using a subset of the training data for the background is a common practice for performance\n",
    "explainer = shap.TreeExplainer(final_model, X_train_final.sample(100, random_state=42))\n",
    "shap_values = explainer.shap_values(X_test_final)\n",
    "\n",
    "# SHAP Summary Plot (Bar)\n",
    "print(\"\\nGenerating SHAP Summary Bar Plot...\")\n",
    "plt.figure()\n",
    "shap.summary_plot(shap_values, X_test_final, plot_type=\"bar\", class_names=le.classes_, show=False)\n",
    "plt.title(\"SHAP Summary Plot (Global Feature Importance)\")\n",
    "plt.tight_layout()\n",
    "plt.show()\n",
    "\n",
    "# SHAP Summary Plot (Beeswarm)\n",
    "print(\"\\nGenerating SHAP Summary Beeswarm Plot...\")\n",
    "plt.figure()\n",
    "shap.summary_plot(shap_values, X_test_final, class_names=le.classes_, show=False,  plot_type=\"violin\")\n",
    "plt.title(\"SHAP Summary Plot (Beeswarm)\")\n",
    "plt.tight_layout()\n",
    "plt.show()"
   ]
  }
 ],
 "metadata": {
  "kernelspec": {
   "display_name": "droughtmonitoringiran (3.12.3)",
   "language": "python",
   "name": "python3"
  },
  "language_info": {
   "codemirror_mode": {
    "name": "ipython",
    "version": 3
   },
   "file_extension": ".py",
   "mimetype": "text/x-python",
   "name": "python",
   "nbconvert_exporter": "python",
   "pygments_lexer": "ipython3",
   "version": "3.12.3"
  }
 },
 "nbformat": 4,
 "nbformat_minor": 5
}
