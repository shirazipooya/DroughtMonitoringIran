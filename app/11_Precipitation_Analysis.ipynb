{
 "cells": [
  {
   "cell_type": "code",
   "execution_count": 1,
   "metadata": {},
   "outputs": [],
   "source": [
    "import os\n",
    "import sys\n",
    "import sqlite3\n",
    "import numpy as np\n",
    "import pandas as pd\n",
    "import geopandas as gp\n",
    "import plotly.express as px\n",
    "import skill_metrics as sm\n",
    "import skill_metrics as sm\n",
    "import matplotlib.pyplot as plt\n",
    "import scipy.stats as scs"
   ]
  },
  {
   "cell_type": "code",
   "execution_count": 2,
   "metadata": {},
   "outputs": [],
   "source": [
    "sys.path.append('/home/pooya/w/DroughtMonitoringIran/')\n",
    "\n",
    "DATABASE_PATH = \"./database/database.db\""
   ]
  },
  {
   "cell_type": "markdown",
   "metadata": {},
   "source": [
    "### Monthly Data"
   ]
  },
  {
   "cell_type": "code",
   "execution_count": 3,
   "metadata": {},
   "outputs": [],
   "source": [
    "conn = sqlite3.connect(DATABASE_PATH)\n",
    "\n",
    "data = pd.read_sql(sql='SELECT * FROM data', con=conn)\n",
    "\n",
    "conn.close()"
   ]
  },
  {
   "cell_type": "markdown",
   "metadata": {},
   "source": [
    "### Columns"
   ]
  },
  {
   "cell_type": "code",
   "execution_count": 7,
   "metadata": {},
   "outputs": [
    {
     "data": {
      "text/plain": [
       "['Station_ID',\n",
       " 'Station_Name',\n",
       " 'Province',\n",
       " 'Station_Latitude',\n",
       " 'Station_Longitude',\n",
       " 'Station_Elevation',\n",
       " 'Date',\n",
       " 'Temperature_Maximum',\n",
       " 'Temperature_Minimum',\n",
       " 'Temperature',\n",
       " 'Precipitation',\n",
       " 'PET_Hargreaves',\n",
       " 'SPI_1',\n",
       " 'SPEI_1',\n",
       " 'SPI_3',\n",
       " 'SPEI_3',\n",
       " 'SPI_6',\n",
       " 'SPEI_6',\n",
       " 'SPI_9',\n",
       " 'SPEI_9',\n",
       " 'SPI_12',\n",
       " 'SPEI_12',\n",
       " 'SPI_15',\n",
       " 'SPEI_15',\n",
       " 'SPI_18',\n",
       " 'SPEI_18',\n",
       " 'SPI_21',\n",
       " 'SPEI_21',\n",
       " 'SPI_24',\n",
       " 'SPEI_24',\n",
       " 'ERA5_Precipitation',\n",
       " 'GPM_Precipitation',\n",
       " 'TRMM_Precipitation',\n",
       " 'TERRACLIMATE_Precipitation',\n",
       " 'PERSIANNCDR_Precipitation',\n",
       " 'PET_MOD16A2GF',\n",
       " 'NDVI_MOD13A3',\n",
       " 'LSTDay_MOD21C3',\n",
       " 'LSTNight_MYD21C3',\n",
       " 'EVI_MYD13A3',\n",
       " 'LSTNight_MOD21C3',\n",
       " 'NDVI_MYD13A3',\n",
       " 'LSTDay_MYD21C3',\n",
       " 'EVI_MOD13A3',\n",
       " 'NDVI',\n",
       " 'EVI',\n",
       " 'LSTDay',\n",
       " 'LSTNight',\n",
       " 'LST',\n",
       " 'PCI_ERA5',\n",
       " 'PCI_GPM',\n",
       " 'PCI_TRMM',\n",
       " 'PCI_TerraClimate',\n",
       " 'PCI_PERSIANNCDR',\n",
       " 'VCI',\n",
       " 'TCI',\n",
       " 'VHI',\n",
       " 'CI_GPM',\n",
       " 'CI_ERA5',\n",
       " 'CI_TRMM',\n",
       " 'CI_TerraClimate',\n",
       " 'CI_PERSIANNCDR',\n",
       " 'ERA5_SPI_1',\n",
       " 'ERA5_SPEI_1',\n",
       " 'GPM_SPI_1',\n",
       " 'GPM_SPEI_1',\n",
       " 'TRMM_SPI_1',\n",
       " 'TRMM_SPEI_1',\n",
       " 'TERRACLIMATE_SPI_1',\n",
       " 'TERRACLIMATE_SPEI_1',\n",
       " 'PERSIANNCDR_SPI_1',\n",
       " 'PERSIANNCDR_SPEI_1',\n",
       " 'ERA5_SPI_3',\n",
       " 'ERA5_SPEI_3',\n",
       " 'GPM_SPI_3',\n",
       " 'GPM_SPEI_3',\n",
       " 'TRMM_SPI_3',\n",
       " 'TRMM_SPEI_3',\n",
       " 'TERRACLIMATE_SPI_3',\n",
       " 'TERRACLIMATE_SPEI_3',\n",
       " 'PERSIANNCDR_SPI_3',\n",
       " 'PERSIANNCDR_SPEI_3',\n",
       " 'ERA5_SPI_6',\n",
       " 'ERA5_SPEI_6',\n",
       " 'GPM_SPI_6',\n",
       " 'GPM_SPEI_6',\n",
       " 'TRMM_SPI_6',\n",
       " 'TRMM_SPEI_6',\n",
       " 'TERRACLIMATE_SPI_6',\n",
       " 'TERRACLIMATE_SPEI_6',\n",
       " 'PERSIANNCDR_SPI_6',\n",
       " 'PERSIANNCDR_SPEI_6',\n",
       " 'ERA5_SPI_9',\n",
       " 'ERA5_SPEI_9',\n",
       " 'GPM_SPI_9',\n",
       " 'GPM_SPEI_9',\n",
       " 'TRMM_SPI_9',\n",
       " 'TRMM_SPEI_9',\n",
       " 'TERRACLIMATE_SPI_9',\n",
       " 'TERRACLIMATE_SPEI_9',\n",
       " 'PERSIANNCDR_SPI_9',\n",
       " 'PERSIANNCDR_SPEI_9',\n",
       " 'ERA5_SPI_12',\n",
       " 'ERA5_SPEI_12',\n",
       " 'GPM_SPI_12',\n",
       " 'GPM_SPEI_12',\n",
       " 'TRMM_SPI_12',\n",
       " 'TRMM_SPEI_12',\n",
       " 'TERRACLIMATE_SPI_12',\n",
       " 'TERRACLIMATE_SPEI_12',\n",
       " 'PERSIANNCDR_SPI_12',\n",
       " 'PERSIANNCDR_SPEI_12',\n",
       " 'ERA5_SPI_15',\n",
       " 'ERA5_SPEI_15',\n",
       " 'GPM_SPI_15',\n",
       " 'GPM_SPEI_15',\n",
       " 'TRMM_SPI_15',\n",
       " 'TRMM_SPEI_15',\n",
       " 'TERRACLIMATE_SPI_15',\n",
       " 'TERRACLIMATE_SPEI_15',\n",
       " 'PERSIANNCDR_SPI_15',\n",
       " 'PERSIANNCDR_SPEI_15',\n",
       " 'ERA5_SPI_18',\n",
       " 'ERA5_SPEI_18',\n",
       " 'GPM_SPI_18',\n",
       " 'GPM_SPEI_18',\n",
       " 'TRMM_SPI_18',\n",
       " 'TRMM_SPEI_18',\n",
       " 'TERRACLIMATE_SPI_18',\n",
       " 'TERRACLIMATE_SPEI_18',\n",
       " 'PERSIANNCDR_SPI_18',\n",
       " 'PERSIANNCDR_SPEI_18',\n",
       " 'ERA5_SPI_21',\n",
       " 'ERA5_SPEI_21',\n",
       " 'GPM_SPI_21',\n",
       " 'GPM_SPEI_21',\n",
       " 'TRMM_SPI_21',\n",
       " 'TRMM_SPEI_21',\n",
       " 'TERRACLIMATE_SPI_21',\n",
       " 'TERRACLIMATE_SPEI_21',\n",
       " 'PERSIANNCDR_SPI_21',\n",
       " 'PERSIANNCDR_SPEI_21',\n",
       " 'ERA5_SPI_24',\n",
       " 'ERA5_SPEI_24',\n",
       " 'GPM_SPI_24',\n",
       " 'GPM_SPEI_24',\n",
       " 'TRMM_SPI_24',\n",
       " 'TRMM_SPEI_24',\n",
       " 'TERRACLIMATE_SPI_24',\n",
       " 'TERRACLIMATE_SPEI_24',\n",
       " 'PERSIANNCDR_SPI_24',\n",
       " 'PERSIANNCDR_SPEI_24']"
      ]
     },
     "execution_count": 7,
     "metadata": {},
     "output_type": "execute_result"
    }
   ],
   "source": [
    "data.columns.to_list()"
   ]
  },
  {
   "cell_type": "markdown",
   "metadata": {},
   "source": [
    "'Station_ID', 'Station_Name', 'Province', 'Date', 'Precipitation', 'ERA5_Precipitation', 'GPM_Precipitation', 'TRMM_Precipitation', 'TERRACLIMATE_Precipitation', 'PERSIANNCDR_Precipitation',"
   ]
  },
  {
   "cell_type": "markdown",
   "metadata": {},
   "source": [
    "### Unique Station"
   ]
  },
  {
   "cell_type": "code",
   "execution_count": 10,
   "metadata": {},
   "outputs": [
    {
     "data": {
      "text/html": [
       "<div>\n",
       "<style scoped>\n",
       "    .dataframe tbody tr th:only-of-type {\n",
       "        vertical-align: middle;\n",
       "    }\n",
       "\n",
       "    .dataframe tbody tr th {\n",
       "        vertical-align: top;\n",
       "    }\n",
       "\n",
       "    .dataframe thead th {\n",
       "        text-align: right;\n",
       "    }\n",
       "</style>\n",
       "<table border=\"1\" class=\"dataframe\">\n",
       "  <thead>\n",
       "    <tr style=\"text-align: right;\">\n",
       "      <th></th>\n",
       "      <th>Station_ID</th>\n",
       "      <th>Station_Name</th>\n",
       "    </tr>\n",
       "  </thead>\n",
       "  <tbody>\n",
       "    <tr>\n",
       "      <th>0</th>\n",
       "      <td>40709</td>\n",
       "      <td>Astara</td>\n",
       "    </tr>\n",
       "    <tr>\n",
       "      <th>1</th>\n",
       "      <td>40718</td>\n",
       "      <td>Bandar-e-anzali</td>\n",
       "    </tr>\n",
       "    <tr>\n",
       "      <th>2</th>\n",
       "      <td>40719</td>\n",
       "      <td>Rasht</td>\n",
       "    </tr>\n",
       "    <tr>\n",
       "      <th>3</th>\n",
       "      <td>40720</td>\n",
       "      <td>Manjil</td>\n",
       "    </tr>\n",
       "    <tr>\n",
       "      <th>4</th>\n",
       "      <td>40732</td>\n",
       "      <td>Ramsar</td>\n",
       "    </tr>\n",
       "    <tr>\n",
       "      <th>5</th>\n",
       "      <td>40734</td>\n",
       "      <td>Nowshahr</td>\n",
       "    </tr>\n",
       "    <tr>\n",
       "      <th>6</th>\n",
       "      <td>40735</td>\n",
       "      <td>Siahbisheh</td>\n",
       "    </tr>\n",
       "    <tr>\n",
       "      <th>7</th>\n",
       "      <td>40736</td>\n",
       "      <td>Babolsar</td>\n",
       "    </tr>\n",
       "    <tr>\n",
       "      <th>8</th>\n",
       "      <td>40737</td>\n",
       "      <td>Gharakhil</td>\n",
       "    </tr>\n",
       "    <tr>\n",
       "      <th>9</th>\n",
       "      <td>40759</td>\n",
       "      <td>Sari</td>\n",
       "    </tr>\n",
       "    <tr>\n",
       "      <th>10</th>\n",
       "      <td>40760</td>\n",
       "      <td>Kiyasar</td>\n",
       "    </tr>\n",
       "    <tr>\n",
       "      <th>11</th>\n",
       "      <td>40788</td>\n",
       "      <td>Sari (dasht-e-naz airport)</td>\n",
       "    </tr>\n",
       "    <tr>\n",
       "      <th>12</th>\n",
       "      <td>40805</td>\n",
       "      <td>Jirandeh</td>\n",
       "    </tr>\n",
       "    <tr>\n",
       "      <th>13</th>\n",
       "      <td>99249</td>\n",
       "      <td>Talesh</td>\n",
       "    </tr>\n",
       "    <tr>\n",
       "      <th>14</th>\n",
       "      <td>99268</td>\n",
       "      <td>Kiyashahr</td>\n",
       "    </tr>\n",
       "    <tr>\n",
       "      <th>15</th>\n",
       "      <td>99276</td>\n",
       "      <td>Lahijan</td>\n",
       "    </tr>\n",
       "    <tr>\n",
       "      <th>16</th>\n",
       "      <td>99281</td>\n",
       "      <td>Masuleh</td>\n",
       "    </tr>\n",
       "    <tr>\n",
       "      <th>17</th>\n",
       "      <td>99299</td>\n",
       "      <td>Galugah</td>\n",
       "    </tr>\n",
       "    <tr>\n",
       "      <th>18</th>\n",
       "      <td>99306</td>\n",
       "      <td>Bandar-e-amirabad</td>\n",
       "    </tr>\n",
       "    <tr>\n",
       "      <th>19</th>\n",
       "      <td>99309</td>\n",
       "      <td>Amol</td>\n",
       "    </tr>\n",
       "    <tr>\n",
       "      <th>20</th>\n",
       "      <td>99348</td>\n",
       "      <td>Kojur</td>\n",
       "    </tr>\n",
       "    <tr>\n",
       "      <th>21</th>\n",
       "      <td>99357</td>\n",
       "      <td>Baladeh</td>\n",
       "    </tr>\n",
       "    <tr>\n",
       "      <th>22</th>\n",
       "      <td>99360</td>\n",
       "      <td>Polsefid</td>\n",
       "    </tr>\n",
       "    <tr>\n",
       "      <th>23</th>\n",
       "      <td>99361</td>\n",
       "      <td>Alasht</td>\n",
       "    </tr>\n",
       "  </tbody>\n",
       "</table>\n",
       "</div>"
      ],
      "text/plain": [
       "   Station_ID                Station_Name\n",
       "0       40709                      Astara\n",
       "1       40718             Bandar-e-anzali\n",
       "2       40719                       Rasht\n",
       "3       40720                      Manjil\n",
       "4       40732                      Ramsar\n",
       "5       40734                    Nowshahr\n",
       "6       40735                  Siahbisheh\n",
       "7       40736                    Babolsar\n",
       "8       40737                   Gharakhil\n",
       "9       40759                        Sari\n",
       "10      40760                     Kiyasar\n",
       "11      40788  Sari (dasht-e-naz airport)\n",
       "12      40805                    Jirandeh\n",
       "13      99249                      Talesh\n",
       "14      99268                   Kiyashahr\n",
       "15      99276                     Lahijan\n",
       "16      99281                     Masuleh\n",
       "17      99299                     Galugah\n",
       "18      99306           Bandar-e-amirabad\n",
       "19      99309                        Amol\n",
       "20      99348                       Kojur\n",
       "21      99357                     Baladeh\n",
       "22      99360                    Polsefid\n",
       "23      99361                      Alasht"
      ]
     },
     "execution_count": 10,
     "metadata": {},
     "output_type": "execute_result"
    }
   ],
   "source": [
    "data[['Station_ID', 'Station_Name']].drop_duplicates().reset_index(drop=True)"
   ]
  },
  {
   "cell_type": "markdown",
   "metadata": {},
   "source": [
    "### Select Stations\n",
    "- Cluster 3 - Bandar-e-anzali:  40718  \n",
    "- Cluster 1 - Gharakhil:        40737  \n",
    "- Cluster 2 - Siahbisheh:       40735  "
   ]
  },
  {
   "cell_type": "code",
   "execution_count": 28,
   "metadata": {},
   "outputs": [],
   "source": [
    "selected_stations = [\"Bandar-e-anzali\", \"Gharakhil\", \"Siahbisheh\"]"
   ]
  },
  {
   "cell_type": "markdown",
   "metadata": {},
   "source": [
    "### TaylorDiagram Precip (for each station)"
   ]
  },
  {
   "cell_type": "code",
   "execution_count": 29,
   "metadata": {},
   "outputs": [
    {
     "name": "stderr",
     "output_type": "stream",
     "text": [
      "/home/pooya/w/DroughtMonitoringIran/.venv/lib/python3.12/site-packages/numpy/_core/fromnumeric.py:4062: FutureWarning: The behavior of DataFrame.std with axis=None is deprecated, in a future version this will reduce over both axes and return a scalar. To retain the old behavior, pass axis=0 (or do not pass axis)\n",
      "  return std(axis=axis, dtype=dtype, out=out, ddof=ddof, **kwargs)\n"
     ]
    },
    {
     "data": {
      "image/png": "[encoded data removed]",
      "text/plain": [
       "<Figure size 800x800 with 1 Axes>"
      ]
     },
     "metadata": {},
     "output_type": "display_data"
    },
    {
     "name": "stderr",
     "output_type": "stream",
     "text": [
      "/home/pooya/w/DroughtMonitoringIran/.venv/lib/python3.12/site-packages/numpy/_core/fromnumeric.py:4062: FutureWarning: The behavior of DataFrame.std with axis=None is deprecated, in a future version this will reduce over both axes and return a scalar. To retain the old behavior, pass axis=0 (or do not pass axis)\n",
      "  return std(axis=axis, dtype=dtype, out=out, ddof=ddof, **kwargs)\n"
     ]
    },
    {
     "data": {
      "image/png": "[encoded data removed]",
      "text/plain": [
       "<Figure size 800x800 with 1 Axes>"
      ]
     },
     "metadata": {},
     "output_type": "display_data"
    },
    {
     "name": "stderr",
     "output_type": "stream",
     "text": [
      "/home/pooya/w/DroughtMonitoringIran/.venv/lib/python3.12/site-packages/numpy/_core/fromnumeric.py:4062: FutureWarning: The behavior of DataFrame.std with axis=None is deprecated, in a future version this will reduce over both axes and return a scalar. To retain the old behavior, pass axis=0 (or do not pass axis)\n",
      "  return std(axis=axis, dtype=dtype, out=out, ddof=ddof, **kwargs)\n"
     ]
    },
    {
     "data": {
      "image/png": "[encoded data removed]",
      "text/plain": [
       "<Figure size 800x800 with 1 Axes>"
      ]
     },
     "metadata": {},
     "output_type": "display_data"
    }
   ],
   "source": [
    "for sti in selected_stations:\n",
    "    df = data.query(f\"Station_Name == '{sti}'\")\n",
    "    \n",
    "    model_names = ['ERA5', 'GPM', 'TRMM', 'TERRACLIMATE', 'PERSIANNCDR']\n",
    "    stddevs = []\n",
    "    correlations = []\n",
    "    rmses = []\n",
    "    std_obss = []\n",
    "\n",
    "    for model in model_names:\n",
    "        valid_data = df[['Precipitation', f\"{model}_Precipitation\"]].dropna()\n",
    "        observed = valid_data['Precipitation'].values\n",
    "        modeled = valid_data[f\"{model}_Precipitation\"].values\n",
    "\n",
    "        std_model = np.std(modeled)\n",
    "        std_obs = np.std(observed)\n",
    "        cor = np.corrcoef(observed, modeled)[0, 1]\n",
    "        # rmse = np.sqrt(std_model**2 + std_obs**2 - 2 * std_model * std_obs * cor)\n",
    "        rmse = np.sqrt(np.mean((observed - modeled) ** 2))\n",
    "        \n",
    "        stddevs.append(std_model)\n",
    "        correlations.append(cor)\n",
    "        rmses.append(rmse)\n",
    "        std_obss.append(std_obs)\n",
    "\n",
    "        \n",
    "    stddevs.insert(0, np.std(df[['Precipitation']].dropna()).values[0])\n",
    "    rmses.insert(0, 0)\n",
    "    correlations.insert(0, 1)\n",
    "\n",
    "    stddevs = np.array(stddevs)\n",
    "    correlations = np.array(correlations)\n",
    "    rmses = np.array(rmses)\n",
    "    std_obss = np.array(std_obss)\n",
    "\n",
    "    plt.rcParams.update({'font.size': 14})\n",
    "    fig, ax = plt.subplots(figsize=(8, 8))\n",
    "    sm.taylor_diagram(\n",
    "        stddevs, rmses, correlations,\n",
    "        markerdisplayed='marker',\n",
    "        markerLabel=['Observed'] + model_names,\n",
    "        markerColor='blue',\n",
    "        markerSize=14,\n",
    "        colCOR='lightblue',\n",
    "        colrms='lightgreen',\n",
    "        colstd='black',\n",
    "        styleCOR='-',\n",
    "        widthCOR=1,\n",
    "        titleOBS='Observed',\n",
    "        # styleOBS='-',\n",
    "        colOBS='red',\n",
    "        labelrms=\"RMSE\",\n",
    "        markerobs = 'o'\n",
    "    )\n",
    "    # plt.legend(loc=\"upper right\")\n",
    "    plt.title(f\"{sti}\")\n",
    "    plt.show()"
   ]
  },
  {
   "cell_type": "markdown",
   "metadata": {},
   "source": [
    "### Calculate Model Evaluator"
   ]
  },
  {
   "cell_type": "code",
   "execution_count": 34,
   "metadata": {},
   "outputs": [
    {
     "name": "stdout",
     "output_type": "stream",
     "text": [
      "\n",
      "Metrics for Station ID: Bandar-e-anzali and Precip Model: ERA5\n",
      "Model Performance Metrics:\n",
      "Mean Absolute Error (MAE): 54.2426\n",
      "Mean Squared Error (MSE): 6984.4145\n",
      "Root Mean Squared Error (RMSE): 83.5728\n",
      "R-squared (R2): 0.6049\n",
      "Explained Variance Score: 0.7115\n",
      "Willmott's Index of Agreement (WI): 0.7039\n",
      "Nash–Sutcliffe Efficiency (NS): 0.6049\n",
      "Mean Absolute Deviation (MAD): 54.2426\n",
      "\n",
      "Metrics for Station ID: Gharakhil and Precip Model: ERA5\n",
      "Model Performance Metrics:\n",
      "Mean Absolute Error (MAE): 84.2902\n",
      "Mean Squared Error (MSE): 10120.9384\n",
      "Root Mean Squared Error (RMSE): 100.6029\n",
      "R-squared (R2): -4.1612\n",
      "Explained Variance Score: -0.6594\n",
      "Willmott's Index of Agreement (WI): 0.2950\n",
      "Nash–Sutcliffe Efficiency (NS): -4.1612\n",
      "Mean Absolute Deviation (MAD): 84.2902\n",
      "\n",
      "Metrics for Station ID: Siahbisheh and Precip Model: ERA5\n",
      "Model Performance Metrics:\n",
      "Mean Absolute Error (MAE): 45.6659\n",
      "Mean Squared Error (MSE): 3067.6275\n",
      "Root Mean Squared Error (RMSE): 55.3862\n",
      "R-squared (R2): -1.8818\n",
      "Explained Variance Score: -0.0289\n",
      "Willmott's Index of Agreement (WI): 0.3764\n",
      "Nash–Sutcliffe Efficiency (NS): -1.8818\n",
      "Mean Absolute Deviation (MAD): 45.6659\n",
      "\n",
      "Metrics for Station ID: Bandar-e-anzali and Precip Model: GPM\n",
      "Model Performance Metrics:\n",
      "Mean Absolute Error (MAE): 63.2311\n",
      "Mean Squared Error (MSE): 9309.7395\n",
      "Root Mean Squared Error (RMSE): 96.4870\n",
      "R-squared (R2): 0.4734\n",
      "Explained Variance Score: 0.6209\n",
      "Willmott's Index of Agreement (WI): 0.6413\n",
      "Nash–Sutcliffe Efficiency (NS): 0.4734\n",
      "Mean Absolute Deviation (MAD): 63.2311\n",
      "\n",
      "Metrics for Station ID: Gharakhil and Precip Model: GPM\n",
      "Model Performance Metrics:\n",
      "Mean Absolute Error (MAE): 16.4362\n",
      "Mean Squared Error (MSE): 466.0867\n",
      "Root Mean Squared Error (RMSE): 21.5890\n",
      "R-squared (R2): 0.7623\n",
      "Explained Variance Score: 0.7626\n",
      "Willmott's Index of Agreement (WI): 0.7327\n",
      "Nash–Sutcliffe Efficiency (NS): 0.7623\n",
      "Mean Absolute Deviation (MAD): 16.4362\n",
      "\n",
      "Metrics for Station ID: Siahbisheh and Precip Model: GPM\n",
      "Model Performance Metrics:\n",
      "Mean Absolute Error (MAE): 17.3491\n",
      "Mean Squared Error (MSE): 575.6283\n",
      "Root Mean Squared Error (RMSE): 23.9923\n",
      "R-squared (R2): 0.4592\n",
      "Explained Variance Score: 0.5051\n",
      "Willmott's Index of Agreement (WI): 0.6611\n",
      "Nash–Sutcliffe Efficiency (NS): 0.4592\n",
      "Mean Absolute Deviation (MAD): 17.3491\n",
      "\n",
      "Metrics for Station ID: Bandar-e-anzali and Precip Model: TRMM\n",
      "Model Performance Metrics:\n",
      "Mean Absolute Error (MAE): 64.3260\n",
      "Mean Squared Error (MSE): 9721.8979\n",
      "Root Mean Squared Error (RMSE): 98.5997\n",
      "R-squared (R2): 0.4880\n",
      "Explained Variance Score: 0.6676\n",
      "Willmott's Index of Agreement (WI): 0.6644\n",
      "Nash–Sutcliffe Efficiency (NS): 0.4880\n",
      "Mean Absolute Deviation (MAD): 64.3260\n",
      "\n",
      "Metrics for Station ID: Gharakhil and Precip Model: TRMM\n",
      "Model Performance Metrics:\n",
      "Mean Absolute Error (MAE): 17.1482\n",
      "Mean Squared Error (MSE): 548.6367\n",
      "Root Mean Squared Error (RMSE): 23.4230\n",
      "R-squared (R2): 0.7438\n",
      "Explained Variance Score: 0.7453\n",
      "Willmott's Index of Agreement (WI): 0.7496\n",
      "Nash–Sutcliffe Efficiency (NS): 0.7438\n",
      "Mean Absolute Deviation (MAD): 17.1482\n",
      "\n",
      "Metrics for Station ID: Siahbisheh and Precip Model: TRMM\n",
      "Model Performance Metrics:\n",
      "Mean Absolute Error (MAE): 32.0080\n",
      "Mean Squared Error (MSE): 2083.3499\n",
      "Root Mean Squared Error (RMSE): 45.6437\n",
      "R-squared (R2): -1.0315\n",
      "Explained Variance Score: -0.4209\n",
      "Willmott's Index of Agreement (WI): 0.5384\n",
      "Nash–Sutcliffe Efficiency (NS): -1.0315\n",
      "Mean Absolute Deviation (MAD): 32.0080\n",
      "\n",
      "Metrics for Station ID: Bandar-e-anzali and Precip Model: TERRACLIMATE\n",
      "Model Performance Metrics:\n",
      "Mean Absolute Error (MAE): 79.4234\n",
      "Mean Squared Error (MSE): 14310.6790\n",
      "Root Mean Squared Error (RMSE): 119.6273\n",
      "R-squared (R2): 0.1997\n",
      "Explained Variance Score: 0.5049\n",
      "Willmott's Index of Agreement (WI): 0.5906\n",
      "Nash–Sutcliffe Efficiency (NS): 0.1997\n",
      "Mean Absolute Deviation (MAD): 79.4234\n",
      "\n",
      "Metrics for Station ID: Gharakhil and Precip Model: TERRACLIMATE\n",
      "Model Performance Metrics:\n",
      "Mean Absolute Error (MAE): 28.2838\n",
      "Mean Squared Error (MSE): 1943.9790\n",
      "Root Mean Squared Error (RMSE): 44.0906\n",
      "R-squared (R2): 0.0221\n",
      "Explained Variance Score: 0.0765\n",
      "Willmott's Index of Agreement (WI): 0.6381\n",
      "Nash–Sutcliffe Efficiency (NS): 0.0221\n",
      "Mean Absolute Deviation (MAD): 28.2838\n",
      "\n",
      "Metrics for Station ID: Siahbisheh and Precip Model: TERRACLIMATE\n",
      "Model Performance Metrics:\n",
      "Mean Absolute Error (MAE): 23.6112\n",
      "Mean Squared Error (MSE): 982.9456\n",
      "Root Mean Squared Error (RMSE): 31.3520\n",
      "R-squared (R2): 0.0907\n",
      "Explained Variance Score: 0.5894\n",
      "Willmott's Index of Agreement (WI): 0.5551\n",
      "Nash–Sutcliffe Efficiency (NS): 0.0907\n",
      "Mean Absolute Deviation (MAD): 23.6112\n",
      "\n",
      "Metrics for Station ID: Bandar-e-anzali and Precip Model: PERSIANNCDR\n",
      "Model Performance Metrics:\n",
      "Mean Absolute Error (MAE): 111.5424\n",
      "Mean Squared Error (MSE): 26354.8715\n",
      "Root Mean Squared Error (RMSE): 162.3418\n",
      "R-squared (R2): -0.4845\n",
      "Explained Variance Score: 0.1312\n",
      "Willmott's Index of Agreement (WI): 0.4683\n",
      "Nash–Sutcliffe Efficiency (NS): -0.4845\n",
      "Mean Absolute Deviation (MAD): 111.5424\n",
      "\n",
      "Metrics for Station ID: Gharakhil and Precip Model: PERSIANNCDR\n",
      "Model Performance Metrics:\n",
      "Mean Absolute Error (MAE): 29.7383\n",
      "Mean Squared Error (MSE): 1722.4169\n",
      "Root Mean Squared Error (RMSE): 41.5020\n",
      "R-squared (R2): 0.1321\n",
      "Explained Variance Score: 0.4024\n",
      "Willmott's Index of Agreement (WI): 0.5374\n",
      "Nash–Sutcliffe Efficiency (NS): 0.1321\n",
      "Mean Absolute Deviation (MAD): 29.7383\n",
      "\n",
      "Metrics for Station ID: Siahbisheh and Precip Model: PERSIANNCDR\n",
      "Model Performance Metrics:\n",
      "Mean Absolute Error (MAE): 20.7517\n",
      "Mean Squared Error (MSE): 1107.5212\n",
      "Root Mean Squared Error (RMSE): 33.2794\n",
      "R-squared (R2): -0.0357\n",
      "Explained Variance Score: -0.0342\n",
      "Willmott's Index of Agreement (WI): 0.5985\n",
      "Nash–Sutcliffe Efficiency (NS): -0.0357\n",
      "Mean Absolute Deviation (MAD): 20.7517\n"
     ]
    }
   ],
   "source": [
    "from utils.model_evaluator import ModelEvaluator\n",
    "for pr_model in ['ERA5', 'GPM', 'TRMM', 'TERRACLIMATE', 'PERSIANNCDR']:\n",
    "    for sid, df in data.query(\"Station_Name in @selected_stations\").groupby(by='Station_Name'):\n",
    "        print(f\"\\nMetrics for Station ID: {sid} and Precip Model: {pr_model}\")\n",
    "        ModelEvaluator(df, 'Precipitation', f'{pr_model}_Precipitation').display_metrics()"
   ]
  },
  {
   "cell_type": "code",
   "execution_count": 55,
   "metadata": {},
   "outputs": [
    {
     "data": {
      "application/vnd.plotly.v1+json": {
       "config": {
        "plotlyServerURL": "https://plot.ly"
       },
       "data": [
        {
         "hovertemplate": "Precipitation=%{x}<br>GPM_Precipitation=%{y}<extra></extra>",
         "legendgroup": "",
         "marker": {
          "color": "#636efa",
          "symbol": "circle"
         },
         "mode": "markers",
         "name": "",
         "orientation": "v",
         "showlegend": false,
         "type": "scatter",
         "x": [
          381.54,
          286.97,
          419.13,
          462.24,
          65.11,
          147.94,
          154.83,
          120.26,
          14.96,
          58.85,
          53.88,
          0.24,
          231.14,
          94.65,
          264.11,
          160.84,
          385.16,
          136.2,
          5.6,
          2.26,
          22.57,
          71.83,
          45.84,
          16.32,
          194.53,
          383.2,
          202.84,
          362.03,
          124.31,
          54.06,
          37.24,
          98.13,
          27.62,
          32.31,
          7.41,
          219.21,
          234,
          190.94,
          172.41,
          241.33,
          72.73,
          105.26,
          98.45,
          127.62,
          18.33,
          2.26,
          49.03,
          151,
          229.22,
          344.23,
          124.92,
          13.12,
          356.85,
          236.82,
          133.93,
          46.98,
          24.94,
          90.9,
          1.41,
          544.12,
          346.62,
          425.01,
          621.42,
          85.23,
          105.13,
          109.67,
          122.61,
          16.03,
          11.09,
          161.56,
          137.4,
          186.72,
          268.02,
          52.93,
          459.36,
          296.17,
          84.53,
          63.26,
          119.22,
          20.16,
          21.26,
          13.11,
          117.95,
          58.62,
          130.05,
          389.54,
          452.22,
          139.02,
          180.25,
          131.32,
          122.96,
          10.66,
          19.14,
          29.52,
          17.72,
          74,
          91.52,
          460.73,
          301.13,
          108.27,
          204,
          188.13,
          114.64,
          90.41,
          14.75,
          0.01,
          84.9,
          140.23,
          54.73,
          469.15,
          241.92,
          165.13,
          105.46,
          125.7,
          90.29,
          74.23,
          9.54,
          59.94,
          194.92,
          3,
          405.74,
          490.36,
          371.78,
          225.79,
          125.32,
          192.84,
          79.55,
          48.74,
          6.43,
          52.83,
          1.11,
          0.71,
          358.82,
          522.2,
          155.56,
          72.22,
          165.76,
          66.45,
          25.6,
          26.33,
          16.14,
          17.93,
          80.53,
          201.44,
          231.45,
          218.41,
          360.38,
          101.56,
          88.41,
          199.14,
          148.81,
          173.73,
          31.83,
          43.24,
          119.41,
          127.02,
          314.22,
          124.43,
          398.58,
          262.23,
          226.66,
          184.86,
          86.97,
          149.81,
          19.68,
          1.12,
          31.56,
          355.24,
          80.03,
          246.23,
          349.42,
          223.36,
          63.92,
          87.03,
          78.02,
          9.65,
          36.13,
          7.41,
          136.45,
          5,
          234.72,
          547.83,
          230.01,
          79.5,
          130.94,
          76.02,
          143.15,
          17.67,
          65.77,
          0.11,
          36.83,
          16.9,
          321.71,
          154.64,
          167.51,
          248.21,
          226.71,
          214.73,
          90.57,
          23.25,
          137.77,
          17.13,
          244.13,
          71.82,
          282.47,
          354.72,
          145.81,
          111.84,
          280.24,
          184.92,
          59.02,
          24.22,
          156.63,
          5.43
         ],
         "xaxis": "x",
         "y": [
          149.76,
          160.704,
          168.48,
          225.432,
          43.896,
          142.464,
          149.544,
          169.92,
          35.712,
          57.6,
          81.096,
          22.32,
          85.68,
          59.52,
          122.4,
          114.576,
          213.528,
          91.176,
          15.624,
          8.64,
          38.688,
          61.2,
          61.008,
          27.528,
          136.08,
          228.408,
          128.16,
          220.224,
          87.792,
          55.104,
          43.152,
          123.84,
          41.664,
          41.76,
          13.392,
          122.76,
          128.88,
          127.968,
          140.4,
          107.88,
          76.632,
          94.752,
          123.504,
          146.16,
          45.384,
          24.48,
          11.904,
          63.24,
          92.88,
          188.232,
          52.56,
          17.112,
          180.792,
          164.64,
          143.592,
          58.32,
          45.384,
          90.72,
          3.72,
          209.808,
          205.92,
          190.464,
          280.08,
          51.336,
          95.232,
          98.832,
          137.64,
          55.44,
          46.128,
          90.72,
          87.048,
          80.352,
          158.4,
          43.896,
          186.48,
          146.568,
          93,
          77.952,
          107.136,
          58.32,
          50.592,
          18,
          54.312,
          48.36,
          79.2,
          224.688,
          226.8,
          125.736,
          64.728,
          99.456,
          128.712,
          34.56,
          27.528,
          18.72,
          23.064,
          13.392,
          51.84,
          308.016,
          210.96,
          76.632,
          120.528,
          160.608,
          136.896,
          103.68,
          31.248,
          9.36,
          66.216,
          82.584,
          54.72,
          344.472,
          168.48,
          115.32,
          93,
          104.4,
          111.6,
          79.92,
          33.48,
          48.24,
          114.576,
          11.904,
          177.84,
          243.288,
          187.92,
          148.056,
          87.792,
          157.248,
          84.816,
          68.4,
          22.32,
          41.76,
          14.88,
          5.208,
          151.2,
          181.536,
          56.88,
          52.824,
          167.4,
          97.44,
          40.92,
          42.48,
          55.056,
          25.2,
          28.272,
          82.584,
          117.36,
          155.496,
          224.64,
          101.928,
          97.464,
          149.856,
          191.952,
          146.88,
          31.992,
          11.52,
          66.96,
          54.312,
          122.4,
          76.632,
          237.6,
          145.08,
          156.24,
          153.816,
          97.464,
          198.72,
          25.296,
          5.04,
          40.176,
          171.864,
          12.96,
          52.824,
          293.76,
          174.096,
          45.384,
          65.184,
          69.192,
          27.36,
          45.384,
          7.92,
          113.832,
          1.488,
          72,
          234.36,
          135.36,
          29.76,
          104.16,
          67.2,
          164.424,
          48.24,
          75.144,
          8.64,
          31.992,
          4.464,
          127.44,
          72.168,
          68.4,
          154.752,
          116.064,
          123.648,
          119.04,
          36,
          119.04,
          32.4,
          126.48,
          50.592,
          120.24,
          126.48,
          61.92,
          81.096,
          202.368,
          116.928,
          67.704,
          55.44,
          155.496,
          79.2
         ],
         "yaxis": "y"
        }
       ],
       "layout": {
        "legend": {
         "tracegroupgap": 0
        },
        "template": {
         "data": {
          "bar": [
           {
            "error_x": {
             "color": "#2a3f5f"
            },
            "error_y": {
             "color": "#2a3f5f"
            },
            "marker": {
             "line": {
              "color": "#E5ECF6",
              "width": 0.5
             },
             "pattern": {
              "fillmode": "overlay",
              "size": 10,
              "solidity": 0.2
             }
            },
            "type": "bar"
           }
          ],
          "barpolar": [
           {
            "marker": {
             "line": {
              "color": "#E5ECF6",
              "width": 0.5
             },
             "pattern": {
              "fillmode": "overlay",
              "size": 10,
              "solidity": 0.2
             }
            },
            "type": "barpolar"
           }
          ],
          "carpet": [
           {
            "aaxis": {
             "endlinecolor": "#2a3f5f",
             "gridcolor": "white",
             "linecolor": "white",
             "minorgridcolor": "white",
             "startlinecolor": "#2a3f5f"
            },
            "baxis": {
             "endlinecolor": "#2a3f5f",
             "gridcolor": "white",
             "linecolor": "white",
             "minorgridcolor": "white",
             "startlinecolor": "#2a3f5f"
            },
            "type": "carpet"
           }
          ],
          "choropleth": [
           {
            "colorbar": {
             "outlinewidth": 0,
             "ticks": ""
            },
            "type": "choropleth"
           }
          ],
          "contour": [
           {
            "colorbar": {
             "outlinewidth": 0,
             "ticks": ""
            },
            "colorscale": [
             [
              0,
              "#0d0887"
             ],
             [
              0.1111111111111111,
              "#46039f"
             ],
             [
              0.2222222222222222,
              "#7201a8"
             ],
             [
              0.3333333333333333,
              "#9c179e"
             ],
             [
              0.4444444444444444,
              "#bd3786"
             ],
             [
              0.5555555555555556,
              "#d8576b"
             ],
             [
              0.6666666666666666,
              "#ed7953"
             ],
             [
              0.7777777777777778,
              "#fb9f3a"
             ],
             [
              0.8888888888888888,
              "#fdca26"
             ],
             [
              1,
              "#f0f921"
             ]
            ],
            "type": "contour"
           }
          ],
          "contourcarpet": [
           {
            "colorbar": {
             "outlinewidth": 0,
             "ticks": ""
            },
            "type": "contourcarpet"
           }
          ],
          "heatmap": [
           {
            "colorbar": {
             "outlinewidth": 0,
             "ticks": ""
            },
            "colorscale": [
             [
              0,
              "#0d0887"
             ],
             [
              0.1111111111111111,
              "#46039f"
             ],
             [
              0.2222222222222222,
              "#7201a8"
             ],
             [
              0.3333333333333333,
              "#9c179e"
             ],
             [
              0.4444444444444444,
              "#bd3786"
             ],
             [
              0.5555555555555556,
              "#d8576b"
             ],
             [
              0.6666666666666666,
              "#ed7953"
             ],
             [
              0.7777777777777778,
              "#fb9f3a"
             ],
             [
              0.8888888888888888,
              "#fdca26"
             ],
             [
              1,
              "#f0f921"
             ]
            ],
            "type": "heatmap"
           }
          ],
          "heatmapgl": [
           {
            "colorbar": {
             "outlinewidth": 0,
             "ticks": ""
            },
            "colorscale": [
             [
              0,
              "#0d0887"
             ],
             [
              0.1111111111111111,
              "#46039f"
             ],
             [
              0.2222222222222222,
              "#7201a8"
             ],
             [
              0.3333333333333333,
              "#9c179e"
             ],
             [
              0.4444444444444444,
              "#bd3786"
             ],
             [
              0.5555555555555556,
              "#d8576b"
             ],
             [
              0.6666666666666666,
              "#ed7953"
             ],
             [
              0.7777777777777778,
              "#fb9f3a"
             ],
             [
              0.8888888888888888,
              "#fdca26"
             ],
             [
              1,
              "#f0f921"
             ]
            ],
            "type": "heatmapgl"
           }
          ],
          "histogram": [
           {
            "marker": {
             "pattern": {
              "fillmode": "overlay",
              "size": 10,
              "solidity": 0.2
             }
            },
            "type": "histogram"
           }
          ],
          "histogram2d": [
           {
            "colorbar": {
             "outlinewidth": 0,
             "ticks": ""
            },
            "colorscale": [
             [
              0,
              "#0d0887"
             ],
             [
              0.1111111111111111,
              "#46039f"
             ],
             [
              0.2222222222222222,
              "#7201a8"
             ],
             [
              0.3333333333333333,
              "#9c179e"
             ],
             [
              0.4444444444444444,
              "#bd3786"
             ],
             [
              0.5555555555555556,
              "#d8576b"
             ],
             [
              0.6666666666666666,
              "#ed7953"
             ],
             [
              0.7777777777777778,
              "#fb9f3a"
             ],
             [
              0.8888888888888888,
              "#fdca26"
             ],
             [
              1,
              "#f0f921"
             ]
            ],
            "type": "histogram2d"
           }
          ],
          "histogram2dcontour": [
           {
            "colorbar": {
             "outlinewidth": 0,
             "ticks": ""
            },
            "colorscale": [
             [
              0,
              "#0d0887"
             ],
             [
              0.1111111111111111,
              "#46039f"
             ],
             [
              0.2222222222222222,
              "#7201a8"
             ],
             [
              0.3333333333333333,
              "#9c179e"
             ],
             [
              0.4444444444444444,
              "#bd3786"
             ],
             [
              0.5555555555555556,
              "#d8576b"
             ],
             [
              0.6666666666666666,
              "#ed7953"
             ],
             [
              0.7777777777777778,
              "#fb9f3a"
             ],
             [
              0.8888888888888888,
              "#fdca26"
             ],
             [
              1,
              "#f0f921"
             ]
            ],
            "type": "histogram2dcontour"
           }
          ],
          "mesh3d": [
           {
            "colorbar": {
             "outlinewidth": 0,
             "ticks": ""
            },
            "type": "mesh3d"
           }
          ],
          "parcoords": [
           {
            "line": {
             "colorbar": {
              "outlinewidth": 0,
              "ticks": ""
             }
            },
            "type": "parcoords"
           }
          ],
          "pie": [
           {
            "automargin": true,
            "type": "pie"
           }
          ],
          "scatter": [
           {
            "fillpattern": {
             "fillmode": "overlay",
             "size": 10,
             "solidity": 0.2
            },
            "type": "scatter"
           }
          ],
          "scatter3d": [
           {
            "line": {
             "colorbar": {
              "outlinewidth": 0,
              "ticks": ""
             }
            },
            "marker": {
             "colorbar": {
              "outlinewidth": 0,
              "ticks": ""
             }
            },
            "type": "scatter3d"
           }
          ],
          "scattercarpet": [
           {
            "marker": {
             "colorbar": {
              "outlinewidth": 0,
              "ticks": ""
             }
            },
            "type": "scattercarpet"
           }
          ],
          "scattergeo": [
           {
            "marker": {
             "colorbar": {
              "outlinewidth": 0,
              "ticks": ""
             }
            },
            "type": "scattergeo"
           }
          ],
          "scattergl": [
           {
            "marker": {
             "colorbar": {
              "outlinewidth": 0,
              "ticks": ""
             }
            },
            "type": "scattergl"
           }
          ],
          "scattermapbox": [
           {
            "marker": {
             "colorbar": {
              "outlinewidth": 0,
              "ticks": ""
             }
            },
            "type": "scattermapbox"
           }
          ],
          "scatterpolar": [
           {
            "marker": {
             "colorbar": {
              "outlinewidth": 0,
              "ticks": ""
             }
            },
            "type": "scatterpolar"
           }
          ],
          "scatterpolargl": [
           {
            "marker": {
             "colorbar": {
              "outlinewidth": 0,
              "ticks": ""
             }
            },
            "type": "scatterpolargl"
           }
          ],
          "scatterternary": [
           {
            "marker": {
             "colorbar": {
              "outlinewidth": 0,
              "ticks": ""
             }
            },
            "type": "scatterternary"
           }
          ],
          "surface": [
           {
            "colorbar": {
             "outlinewidth": 0,
             "ticks": ""
            },
            "colorscale": [
             [
              0,
              "#0d0887"
             ],
             [
              0.1111111111111111,
              "#46039f"
             ],
             [
              0.2222222222222222,
              "#7201a8"
             ],
             [
              0.3333333333333333,
              "#9c179e"
             ],
             [
              0.4444444444444444,
              "#bd3786"
             ],
             [
              0.5555555555555556,
              "#d8576b"
             ],
             [
              0.6666666666666666,
              "#ed7953"
             ],
             [
              0.7777777777777778,
              "#fb9f3a"
             ],
             [
              0.8888888888888888,
              "#fdca26"
             ],
             [
              1,
              "#f0f921"
             ]
            ],
            "type": "surface"
           }
          ],
          "table": [
           {
            "cells": {
             "fill": {
              "color": "#EBF0F8"
             },
             "line": {
              "color": "white"
             }
            },
            "header": {
             "fill": {
              "color": "#C8D4E3"
             },
             "line": {
              "color": "white"
             }
            },
            "type": "table"
           }
          ]
         },
         "layout": {
          "annotationdefaults": {
           "arrowcolor": "#2a3f5f",
           "arrowhead": 0,
           "arrowwidth": 1
          },
          "autotypenumbers": "strict",
          "coloraxis": {
           "colorbar": {
            "outlinewidth": 0,
            "ticks": ""
           }
          },
          "colorscale": {
           "diverging": [
            [
             0,
             "#8e0152"
            ],
            [
             0.1,
             "#c51b7d"
            ],
            [
             0.2,
             "#de77ae"
            ],
            [
             0.3,
             "#f1b6da"
            ],
            [
             0.4,
             "#fde0ef"
            ],
            [
             0.5,
             "#f7f7f7"
            ],
            [
             0.6,
             "#e6f5d0"
            ],
            [
             0.7,
             "#b8e186"
            ],
            [
             0.8,
             "#7fbc41"
            ],
            [
             0.9,
             "#4d9221"
            ],
            [
             1,
             "#276419"
            ]
           ],
           "sequential": [
            [
             0,
             "#0d0887"
            ],
            [
             0.1111111111111111,
             "#46039f"
            ],
            [
             0.2222222222222222,
             "#7201a8"
            ],
            [
             0.3333333333333333,
             "#9c179e"
            ],
            [
             0.4444444444444444,
             "#bd3786"
            ],
            [
             0.5555555555555556,
             "#d8576b"
            ],
            [
             0.6666666666666666,
             "#ed7953"
            ],
            [
             0.7777777777777778,
             "#fb9f3a"
            ],
            [
             0.8888888888888888,
             "#fdca26"
            ],
            [
             1,
             "#f0f921"
            ]
           ],
           "sequentialminus": [
            [
             0,
             "#0d0887"
            ],
            [
             0.1111111111111111,
             "#46039f"
            ],
            [
             0.2222222222222222,
             "#7201a8"
            ],
            [
             0.3333333333333333,
             "#9c179e"
            ],
            [
             0.4444444444444444,
             "#bd3786"
            ],
            [
             0.5555555555555556,
             "#d8576b"
            ],
            [
             0.6666666666666666,
             "#ed7953"
            ],
            [
             0.7777777777777778,
             "#fb9f3a"
            ],
            [
             0.8888888888888888,
             "#fdca26"
            ],
            [
             1,
             "#f0f921"
            ]
           ]
          },
          "colorway": [
           "#636efa",
           "#EF553B",
           "#00cc96",
           "#ab63fa",
           "#FFA15A",
           "#19d3f3",
           "#FF6692",
           "#B6E880",
           "#FF97FF",
           "#FECB52"
          ],
          "font": {
           "color": "#2a3f5f"
          },
          "geo": {
           "bgcolor": "white",
           "lakecolor": "white",
           "landcolor": "#E5ECF6",
           "showlakes": true,
           "showland": true,
           "subunitcolor": "white"
          },
          "hoverlabel": {
           "align": "left"
          },
          "hovermode": "closest",
          "mapbox": {
           "style": "light"
          },
          "paper_bgcolor": "white",
          "plot_bgcolor": "#E5ECF6",
          "polar": {
           "angularaxis": {
            "gridcolor": "white",
            "linecolor": "white",
            "ticks": ""
           },
           "bgcolor": "#E5ECF6",
           "radialaxis": {
            "gridcolor": "white",
            "linecolor": "white",
            "ticks": ""
           }
          },
          "scene": {
           "xaxis": {
            "backgroundcolor": "#E5ECF6",
            "gridcolor": "white",
            "gridwidth": 2,
            "linecolor": "white",
            "showbackground": true,
            "ticks": "",
            "zerolinecolor": "white"
           },
           "yaxis": {
            "backgroundcolor": "#E5ECF6",
            "gridcolor": "white",
            "gridwidth": 2,
            "linecolor": "white",
            "showbackground": true,
            "ticks": "",
            "zerolinecolor": "white"
           },
           "zaxis": {
            "backgroundcolor": "#E5ECF6",
            "gridcolor": "white",
            "gridwidth": 2,
            "linecolor": "white",
            "showbackground": true,
            "ticks": "",
            "zerolinecolor": "white"
           }
          },
          "shapedefaults": {
           "line": {
            "color": "#2a3f5f"
           }
          },
          "ternary": {
           "aaxis": {
            "gridcolor": "white",
            "linecolor": "white",
            "ticks": ""
           },
           "baxis": {
            "gridcolor": "white",
            "linecolor": "white",
            "ticks": ""
           },
           "bgcolor": "#E5ECF6",
           "caxis": {
            "gridcolor": "white",
            "linecolor": "white",
            "ticks": ""
           }
          },
          "title": {
           "x": 0.05
          },
          "xaxis": {
           "automargin": true,
           "gridcolor": "white",
           "linecolor": "white",
           "ticks": "",
           "title": {
            "standoff": 15
           },
           "zerolinecolor": "white",
           "zerolinewidth": 2
          },
          "yaxis": {
           "automargin": true,
           "gridcolor": "white",
           "linecolor": "white",
           "ticks": "",
           "title": {
            "standoff": 15
           },
           "zerolinecolor": "white",
           "zerolinewidth": 2
          }
         }
        },
        "title": {
         "text": "Bandar-e-anzali"
        },
        "xaxis": {
         "anchor": "y",
         "constrain": "domain",
         "domain": [
          0,
          1
         ],
         "range": [
          0,
          621.42
         ],
         "title": {
          "text": "Precipitation"
         }
        },
        "yaxis": {
         "anchor": "x",
         "domain": [
          0,
          1
         ],
         "range": [
          0,
          621.42
         ],
         "scaleanchor": "x",
         "scaleratio": 1,
         "title": {
          "text": "GPM_Precipitation"
         }
        }
       }
      },
      "text/html": [
       "<div>                            <div id=\"2fa76fc6-00ae-437c-a218-29ca16a6ca81\" class=\"plotly-graph-div\" style=\"height:525px; width:100%;\"></div>            <script type=\"text/javascript\">                require([\"plotly\"], function(Plotly) {                    window.PLOTLYENV=window.PLOTLYENV || {};                                    if (document.getElementById(\"2fa76fc6-00ae-437c-a218-29ca16a6ca81\")) {                    Plotly.newPlot(                        \"2fa76fc6-00ae-437c-a218-29ca16a6ca81\",                        [{\"hovertemplate\":\"Precipitation=%{x}\\u003cbr\\u003eGPM_Precipitation=%{y}\\u003cextra\\u003e\\u003c\\u002fextra\\u003e\",\"legendgroup\":\"\",\"marker\":{\"color\":\"#636efa\",\"symbol\":\"circle\"},\"mode\":\"markers\",\"name\":\"\",\"orientation\":\"v\",\"showlegend\":false,\"x\":[381.54,286.97,419.13,462.24,65.11,147.94,154.83,120.26,14.96,58.85,53.88,0.24,231.14,94.65,264.11,160.84,385.16,136.2,5.6,2.26,22.57,71.83,45.84,16.32,194.53,383.2,202.84,362.03,124.31,54.06,37.24,98.13,27.62,32.31,7.41,219.21,234.0,190.94,172.41,241.33,72.73,105.26,98.45,127.62,18.33,2.26,49.03,151.0,229.22,344.23,124.92,13.12,356.85,236.82,133.93,46.98,24.94,90.9,1.41,544.12,346.62,425.01,621.42,85.23,105.13,109.67,122.61,16.03,11.09,161.56,137.4,186.72,268.02,52.93,459.36,296.17,84.53,63.26,119.22,20.16,21.26,13.11,117.95,58.62,130.05,389.54,452.22,139.02,180.25,131.32,122.96,10.66,19.14,29.52,17.72,74.0,91.52,460.73,301.13,108.27,204.0,188.13,114.64,90.41,14.75,0.01,84.9,140.23,54.73,469.15,241.92,165.13,105.46,125.7,90.29,74.23,9.54,59.94,194.92,3.0,405.74,490.36,371.78,225.79,125.32,192.84,79.55,48.74,6.43,52.83,1.11,0.71,358.82,522.2,155.56,72.22,165.76,66.45,25.6,26.33,16.14,17.93,80.53,201.44,231.45,218.41,360.38,101.56,88.41,199.14,148.81,173.73,31.83,43.24,119.41,127.02,314.22,124.43,398.58,262.23,226.66,184.86,86.97,149.81,19.68,1.12,31.56,355.24,80.03,246.23,349.42,223.36,63.92,87.03,78.02,9.65,36.13,7.41,136.45,5.0,234.72,547.83,230.01,79.5,130.94,76.02,143.15,17.67,65.77,0.11,36.83,16.9,321.71,154.64,167.51,248.21,226.71,214.73,90.57,23.25,137.77,17.13,244.13,71.82,282.47,354.72,145.81,111.84,280.24,184.92,59.02,24.22,156.63,5.43],\"xaxis\":\"x\",\"y\":[149.76,160.704,168.48,225.432,43.896,142.464,149.544,169.92,35.712,57.6,81.096,22.32,85.68,59.52,122.4,114.576,213.528,91.176,15.624,8.64,38.688,61.2,61.008,27.528,136.08,228.408,128.16,220.224,87.792,55.104,43.152,123.84,41.664,41.76,13.392,122.76,128.88,127.968,140.4,107.88,76.632,94.752,123.504,146.16,45.384,24.48,11.904,63.24,92.88,188.232,52.56,17.112,180.792,164.64,143.592,58.32,45.384,90.72,3.72,209.808,205.92,190.464,280.08,51.336,95.232,98.832,137.64,55.44,46.128,90.72,87.048,80.352,158.4,43.896,186.48,146.568,93.0,77.952,107.136,58.32,50.592,18.0,54.312,48.36,79.2,224.688,226.8,125.736,64.728,99.456,128.712,34.56,27.528,18.72,23.064,13.392,51.84,308.016,210.96,76.632,120.528,160.608,136.896,103.68,31.248,9.36,66.216,82.584,54.72,344.472,168.48,115.32,93.0,104.4,111.6,79.92,33.48,48.24,114.576,11.904,177.84,243.288,187.92,148.056,87.792,157.248,84.816,68.4,22.32,41.76,14.88,5.208,151.2,181.536,56.88,52.824,167.4,97.44,40.92,42.48,55.056,25.2,28.272,82.584,117.36,155.496,224.64,101.928,97.464,149.856,191.952,146.88,31.992,11.52,66.96,54.312,122.4,76.632,237.6,145.08,156.24,153.816,97.464,198.72,25.296,5.04,40.176,171.864,12.96,52.824,293.76,174.096,45.384,65.184,69.192,27.36,45.384,7.92,113.832,1.488,72.0,234.36,135.36,29.76,104.16,67.2,164.424,48.24,75.144,8.64,31.992,4.464,127.44,72.168,68.4,154.752,116.064,123.648,119.04,36.0,119.04,32.4,126.48,50.592,120.24,126.48,61.92,81.096,202.368,116.928,67.704,55.44,155.496,79.2],\"yaxis\":\"y\",\"type\":\"scatter\"}],                        {\"template\":{\"data\":{\"histogram2dcontour\":[{\"type\":\"histogram2dcontour\",\"colorbar\":{\"outlinewidth\":0,\"ticks\":\"\"},\"colorscale\":[[0.0,\"#0d0887\"],[0.1111111111111111,\"#46039f\"],[0.2222222222222222,\"#7201a8\"],[0.3333333333333333,\"#9c179e\"],[0.4444444444444444,\"#bd3786\"],[0.5555555555555556,\"#d8576b\"],[0.6666666666666666,\"#ed7953\"],[0.7777777777777778,\"#fb9f3a\"],[0.8888888888888888,\"#fdca26\"],[1.0,\"#f0f921\"]]}],\"choropleth\":[{\"type\":\"choropleth\",\"colorbar\":{\"outlinewidth\":0,\"ticks\":\"\"}}],\"histogram2d\":[{\"type\":\"histogram2d\",\"colorbar\":{\"outlinewidth\":0,\"ticks\":\"\"},\"colorscale\":[[0.0,\"#0d0887\"],[0.1111111111111111,\"#46039f\"],[0.2222222222222222,\"#7201a8\"],[0.3333333333333333,\"#9c179e\"],[0.4444444444444444,\"#bd3786\"],[0.5555555555555556,\"#d8576b\"],[0.6666666666666666,\"#ed7953\"],[0.7777777777777778,\"#fb9f3a\"],[0.8888888888888888,\"#fdca26\"],[1.0,\"#f0f921\"]]}],\"heatmap\":[{\"type\":\"heatmap\",\"colorbar\":{\"outlinewidth\":0,\"ticks\":\"\"},\"colorscale\":[[0.0,\"#0d0887\"],[0.1111111111111111,\"#46039f\"],[0.2222222222222222,\"#7201a8\"],[0.3333333333333333,\"#9c179e\"],[0.4444444444444444,\"#bd3786\"],[0.5555555555555556,\"#d8576b\"],[0.6666666666666666,\"#ed7953\"],[0.7777777777777778,\"#fb9f3a\"],[0.8888888888888888,\"#fdca26\"],[1.0,\"#f0f921\"]]}],\"heatmapgl\":[{\"type\":\"heatmapgl\",\"colorbar\":{\"outlinewidth\":0,\"ticks\":\"\"},\"colorscale\":[[0.0,\"#0d0887\"],[0.1111111111111111,\"#46039f\"],[0.2222222222222222,\"#7201a8\"],[0.3333333333333333,\"#9c179e\"],[0.4444444444444444,\"#bd3786\"],[0.5555555555555556,\"#d8576b\"],[0.6666666666666666,\"#ed7953\"],[0.7777777777777778,\"#fb9f3a\"],[0.8888888888888888,\"#fdca26\"],[1.0,\"#f0f921\"]]}],\"contourcarpet\":[{\"type\":\"contourcarpet\",\"colorbar\":{\"outlinewidth\":0,\"ticks\":\"\"}}],\"contour\":[{\"type\":\"contour\",\"colorbar\":{\"outlinewidth\":0,\"ticks\":\"\"},\"colorscale\":[[0.0,\"#0d0887\"],[0.1111111111111111,\"#46039f\"],[0.2222222222222222,\"#7201a8\"],[0.3333333333333333,\"#9c179e\"],[0.4444444444444444,\"#bd3786\"],[0.5555555555555556,\"#d8576b\"],[0.6666666666666666,\"#ed7953\"],[0.7777777777777778,\"#fb9f3a\"],[0.8888888888888888,\"#fdca26\"],[1.0,\"#f0f921\"]]}],\"surface\":[{\"type\":\"surface\",\"colorbar\":{\"outlinewidth\":0,\"ticks\":\"\"},\"colorscale\":[[0.0,\"#0d0887\"],[0.1111111111111111,\"#46039f\"],[0.2222222222222222,\"#7201a8\"],[0.3333333333333333,\"#9c179e\"],[0.4444444444444444,\"#bd3786\"],[0.5555555555555556,\"#d8576b\"],[0.6666666666666666,\"#ed7953\"],[0.7777777777777778,\"#fb9f3a\"],[0.8888888888888888,\"#fdca26\"],[1.0,\"#f0f921\"]]}],\"mesh3d\":[{\"type\":\"mesh3d\",\"colorbar\":{\"outlinewidth\":0,\"ticks\":\"\"}}],\"scatter\":[{\"fillpattern\":{\"fillmode\":\"overlay\",\"size\":10,\"solidity\":0.2},\"type\":\"scatter\"}],\"parcoords\":[{\"type\":\"parcoords\",\"line\":{\"colorbar\":{\"outlinewidth\":0,\"ticks\":\"\"}}}],\"scatterpolargl\":[{\"type\":\"scatterpolargl\",\"marker\":{\"colorbar\":{\"outlinewidth\":0,\"ticks\":\"\"}}}],\"bar\":[{\"error_x\":{\"color\":\"#2a3f5f\"},\"error_y\":{\"color\":\"#2a3f5f\"},\"marker\":{\"line\":{\"color\":\"#E5ECF6\",\"width\":0.5},\"pattern\":{\"fillmode\":\"overlay\",\"size\":10,\"solidity\":0.2}},\"type\":\"bar\"}],\"scattergeo\":[{\"type\":\"scattergeo\",\"marker\":{\"colorbar\":{\"outlinewidth\":0,\"ticks\":\"\"}}}],\"scatterpolar\":[{\"type\":\"scatterpolar\",\"marker\":{\"colorbar\":{\"outlinewidth\":0,\"ticks\":\"\"}}}],\"histogram\":[{\"marker\":{\"pattern\":{\"fillmode\":\"overlay\",\"size\":10,\"solidity\":0.2}},\"type\":\"histogram\"}],\"scattergl\":[{\"type\":\"scattergl\",\"marker\":{\"colorbar\":{\"outlinewidth\":0,\"ticks\":\"\"}}}],\"scatter3d\":[{\"type\":\"scatter3d\",\"line\":{\"colorbar\":{\"outlinewidth\":0,\"ticks\":\"\"}},\"marker\":{\"colorbar\":{\"outlinewidth\":0,\"ticks\":\"\"}}}],\"scattermapbox\":[{\"type\":\"scattermapbox\",\"marker\":{\"colorbar\":{\"outlinewidth\":0,\"ticks\":\"\"}}}],\"scatterternary\":[{\"type\":\"scatterternary\",\"marker\":{\"colorbar\":{\"outlinewidth\":0,\"ticks\":\"\"}}}],\"scattercarpet\":[{\"type\":\"scattercarpet\",\"marker\":{\"colorbar\":{\"outlinewidth\":0,\"ticks\":\"\"}}}],\"carpet\":[{\"aaxis\":{\"endlinecolor\":\"#2a3f5f\",\"gridcolor\":\"white\",\"linecolor\":\"white\",\"minorgridcolor\":\"white\",\"startlinecolor\":\"#2a3f5f\"},\"baxis\":{\"endlinecolor\":\"#2a3f5f\",\"gridcolor\":\"white\",\"linecolor\":\"white\",\"minorgridcolor\":\"white\",\"startlinecolor\":\"#2a3f5f\"},\"type\":\"carpet\"}],\"table\":[{\"cells\":{\"fill\":{\"color\":\"#EBF0F8\"},\"line\":{\"color\":\"white\"}},\"header\":{\"fill\":{\"color\":\"#C8D4E3\"},\"line\":{\"color\":\"white\"}},\"type\":\"table\"}],\"barpolar\":[{\"marker\":{\"line\":{\"color\":\"#E5ECF6\",\"width\":0.5},\"pattern\":{\"fillmode\":\"overlay\",\"size\":10,\"solidity\":0.2}},\"type\":\"barpolar\"}],\"pie\":[{\"automargin\":true,\"type\":\"pie\"}]},\"layout\":{\"autotypenumbers\":\"strict\",\"colorway\":[\"#636efa\",\"#EF553B\",\"#00cc96\",\"#ab63fa\",\"#FFA15A\",\"#19d3f3\",\"#FF6692\",\"#B6E880\",\"#FF97FF\",\"#FECB52\"],\"font\":{\"color\":\"#2a3f5f\"},\"hovermode\":\"closest\",\"hoverlabel\":{\"align\":\"left\"},\"paper_bgcolor\":\"white\",\"plot_bgcolor\":\"#E5ECF6\",\"polar\":{\"bgcolor\":\"#E5ECF6\",\"angularaxis\":{\"gridcolor\":\"white\",\"linecolor\":\"white\",\"ticks\":\"\"},\"radialaxis\":{\"gridcolor\":\"white\",\"linecolor\":\"white\",\"ticks\":\"\"}},\"ternary\":{\"bgcolor\":\"#E5ECF6\",\"aaxis\":{\"gridcolor\":\"white\",\"linecolor\":\"white\",\"ticks\":\"\"},\"baxis\":{\"gridcolor\":\"white\",\"linecolor\":\"white\",\"ticks\":\"\"},\"caxis\":{\"gridcolor\":\"white\",\"linecolor\":\"white\",\"ticks\":\"\"}},\"coloraxis\":{\"colorbar\":{\"outlinewidth\":0,\"ticks\":\"\"}},\"colorscale\":{\"sequential\":[[0.0,\"#0d0887\"],[0.1111111111111111,\"#46039f\"],[0.2222222222222222,\"#7201a8\"],[0.3333333333333333,\"#9c179e\"],[0.4444444444444444,\"#bd3786\"],[0.5555555555555556,\"#d8576b\"],[0.6666666666666666,\"#ed7953\"],[0.7777777777777778,\"#fb9f3a\"],[0.8888888888888888,\"#fdca26\"],[1.0,\"#f0f921\"]],\"sequentialminus\":[[0.0,\"#0d0887\"],[0.1111111111111111,\"#46039f\"],[0.2222222222222222,\"#7201a8\"],[0.3333333333333333,\"#9c179e\"],[0.4444444444444444,\"#bd3786\"],[0.5555555555555556,\"#d8576b\"],[0.6666666666666666,\"#ed7953\"],[0.7777777777777778,\"#fb9f3a\"],[0.8888888888888888,\"#fdca26\"],[1.0,\"#f0f921\"]],\"diverging\":[[0,\"#8e0152\"],[0.1,\"#c51b7d\"],[0.2,\"#de77ae\"],[0.3,\"#f1b6da\"],[0.4,\"#fde0ef\"],[0.5,\"#f7f7f7\"],[0.6,\"#e6f5d0\"],[0.7,\"#b8e186\"],[0.8,\"#7fbc41\"],[0.9,\"#4d9221\"],[1,\"#276419\"]]},\"xaxis\":{\"gridcolor\":\"white\",\"linecolor\":\"white\",\"ticks\":\"\",\"title\":{\"standoff\":15},\"zerolinecolor\":\"white\",\"automargin\":true,\"zerolinewidth\":2},\"yaxis\":{\"gridcolor\":\"white\",\"linecolor\":\"white\",\"ticks\":\"\",\"title\":{\"standoff\":15},\"zerolinecolor\":\"white\",\"automargin\":true,\"zerolinewidth\":2},\"scene\":{\"xaxis\":{\"backgroundcolor\":\"#E5ECF6\",\"gridcolor\":\"white\",\"linecolor\":\"white\",\"showbackground\":true,\"ticks\":\"\",\"zerolinecolor\":\"white\",\"gridwidth\":2},\"yaxis\":{\"backgroundcolor\":\"#E5ECF6\",\"gridcolor\":\"white\",\"linecolor\":\"white\",\"showbackground\":true,\"ticks\":\"\",\"zerolinecolor\":\"white\",\"gridwidth\":2},\"zaxis\":{\"backgroundcolor\":\"#E5ECF6\",\"gridcolor\":\"white\",\"linecolor\":\"white\",\"showbackground\":true,\"ticks\":\"\",\"zerolinecolor\":\"white\",\"gridwidth\":2}},\"shapedefaults\":{\"line\":{\"color\":\"#2a3f5f\"}},\"annotationdefaults\":{\"arrowcolor\":\"#2a3f5f\",\"arrowhead\":0,\"arrowwidth\":1},\"geo\":{\"bgcolor\":\"white\",\"landcolor\":\"#E5ECF6\",\"subunitcolor\":\"white\",\"showland\":true,\"showlakes\":true,\"lakecolor\":\"white\"},\"title\":{\"x\":0.05},\"mapbox\":{\"style\":\"light\"}}},\"xaxis\":{\"anchor\":\"y\",\"domain\":[0.0,1.0],\"title\":{\"text\":\"Precipitation\"},\"range\":[0,621.42],\"constrain\":\"domain\"},\"yaxis\":{\"anchor\":\"x\",\"domain\":[0.0,1.0],\"title\":{\"text\":\"GPM_Precipitation\"},\"range\":[0,621.42],\"scaleanchor\":\"x\",\"scaleratio\":1},\"legend\":{\"tracegroupgap\":0},\"title\":{\"text\":\"Bandar-e-anzali\"}},                        {\"responsive\": true}                    ).then(function(){\n",
       "                            \n",
       "var gd = document.getElementById('2fa76fc6-00ae-437c-a218-29ca16a6ca81');\n",
       "var x = new MutationObserver(function (mutations, observer) {{\n",
       "        var display = window.getComputedStyle(gd).display;\n",
       "        if (!display || display === 'none') {{\n",
       "            console.log([gd, 'removed!']);\n",
       "            Plotly.purge(gd);\n",
       "            observer.disconnect();\n",
       "        }}\n",
       "}});\n",
       "\n",
       "// Listen for the removal of the full notebook cells\n",
       "var notebookContainer = gd.closest('#notebook-container');\n",
       "if (notebookContainer) {{\n",
       "    x.observe(notebookContainer, {childList: true});\n",
       "}}\n",
       "\n",
       "// Listen for the clearing of the current output cell\n",
       "var outputEl = gd.closest('.output');\n",
       "if (outputEl) {{\n",
       "    x.observe(outputEl, {childList: true});\n",
       "}}\n",
       "\n",
       "                        })                };                });            </script>        </div>"
      ]
     },
     "metadata": {},
     "output_type": "display_data"
    },
    {
     "data": {
      "application/vnd.plotly.v1+json": {
       "config": {
        "plotlyServerURL": "https://plot.ly"
       },
       "data": [
        {
         "hovertemplate": "Precipitation=%{x}<br>GPM_Precipitation=%{y}<extra></extra>",
         "legendgroup": "",
         "marker": {
          "color": "#636efa",
          "symbol": "circle"
         },
         "mode": "markers",
         "name": "",
         "orientation": "v",
         "showlegend": false,
         "type": "scatter",
         "x": [
          78.72,
          85.23,
          117.24,
          165.42,
          58.6,
          104.75,
          166.06,
          40.62,
          6.08,
          39.24,
          63.85,
          2.18,
          58.64,
          54.01,
          141.03,
          54.57,
          52.55,
          45.73,
          26.01,
          3.87,
          19.58,
          19.42,
          19.45,
          19.01,
          93.72,
          161.66,
          43.62,
          73.64,
          74.12,
          66.45,
          100.25,
          76.35,
          24.39,
          20.24,
          4.91,
          80.06,
          186.42,
          52.01,
          206.51,
          44.17,
          85.73,
          79.37,
          37.86,
          49.39,
          17.16,
          9.05,
          8.02,
          61.8,
          7.03,
          67.34,
          12.01,
          28.41,
          141.45,
          112.96,
          80.3,
          19.92,
          13.79,
          44.58,
          5.32,
          99.96,
          68.32,
          186.62,
          82.45,
          49.91,
          77.42,
          87.84,
          78.37,
          3.03,
          1.84,
          22.54,
          16.45,
          43.72,
          84.35,
          51.31,
          145.04,
          114.94,
          64.1,
          46.62,
          75.02,
          40.68,
          19.9,
          16.44,
          20.54,
          33.44,
          40.51,
          109.82,
          101.73,
          115.82,
          32.73,
          26.85,
          70.75,
          17.69,
          9.11,
          32.01,
          23.34,
          4.1,
          77.03,
          133.94,
          41.84,
          47.92,
          68.7,
          51.67,
          72.36,
          18.25,
          7.69,
          8.51,
          50.92,
          26.54,
          64.12,
          155.63,
          69.72,
          65.51,
          64.07,
          124.24,
          77.7,
          62.15,
          41.06,
          52.56,
          68.05,
          0.01,
          113.12,
          51.23,
          82.16,
          39.36,
          68.36,
          61.15,
          33.28,
          66.85,
          8.81,
          8.71,
          3.23,
          0.1,
          38.21,
          101.93,
          62,
          39.51,
          126.13,
          27.31,
          27.44,
          39.02,
          5.25,
          6.95,
          12.42,
          52.07,
          5.27,
          175.44,
          36.42,
          53.84,
          124.72,
          97.72,
          114.37,
          106.69,
          10.51,
          0.14,
          60.46,
          18.07,
          70.35,
          70.63,
          232.23,
          45.5,
          40.16,
          144.53,
          74.07,
          62.56,
          23.98,
          2.83,
          53.47,
          68.99,
          4.41,
          54.5,
          123.63,
          131.42,
          50.11,
          13.65,
          61.31,
          6.48,
          38.71,
          10.41,
          56.46,
          1.63,
          90.11,
          109.92,
          112.25,
          47.81,
          126.31,
          40.18,
          66.26,
          12.96,
          51.84,
          0.3,
          36.95,
          12.73,
          66.33,
          60.52,
          26.72,
          66.26,
          3.64,
          114.8,
          48.09,
          26.31,
          70.31,
          16.2,
          32.9,
          32.5,
          90.7,
          107.2,
          68.4,
          48.2,
          53.12,
          116.51,
          15.01,
          57.22,
          68.03,
          30.2
         ],
         "xaxis": "x",
         "y": [
          84.24,
          69.936,
          108.72,
          109.368,
          44.64,
          96.768,
          123.504,
          72.72,
          31.248,
          51.12,
          39.432,
          14.88,
          54,
          38.688,
          105.12,
          63.24,
          75.144,
          59.856,
          22.32,
          15.12,
          31.248,
          27.36,
          30.504,
          15.624,
          79.2,
          125.736,
          59.76,
          99.696,
          65.472,
          79.296,
          68.448,
          84.24,
          39.432,
          41.76,
          14.88,
          64.728,
          87.84,
          55.8,
          120.96,
          55.056,
          65.472,
          86.016,
          43.152,
          76.32,
          30.504,
          12.96,
          10.416,
          51.336,
          32.4,
          78.864,
          33.12,
          21.576,
          93.744,
          96.096,
          98.952,
          36,
          31.992,
          51.84,
          8.928,
          122.76,
          69.12,
          145.08,
          120.24,
          31.248,
          75.144,
          81.432,
          80.352,
          24.48,
          26.04,
          51.84,
          46.128,
          49.104,
          78.48,
          43.152,
          144,
          90.024,
          62.496,
          40.992,
          66.96,
          38.88,
          57.288,
          25.2,
          28.272,
          41.664,
          61.92,
          85.56,
          83.52,
          98.952,
          43.896,
          46.368,
          75.888,
          38.16,
          33.48,
          59.76,
          33.48,
          3.72,
          36,
          119.04,
          83.52,
          43.896,
          60.264,
          61.824,
          95.976,
          30.24,
          25.296,
          12.96,
          79.608,
          37.2,
          70.56,
          134.664,
          78.48,
          54.312,
          59.52,
          87,
          90.768,
          64.8,
          52.08,
          32.4,
          63.24,
          5.208,
          92.16,
          59.52,
          108.72,
          63.984,
          55.8,
          69.216,
          40.176,
          86.4,
          14.136,
          12.24,
          23.064,
          5.208,
          59.04,
          98.952,
          59.04,
          30.504,
          105.648,
          29.568,
          30.504,
          51.84,
          42.408,
          25.92,
          18.6,
          39.432,
          34.56,
          137.64,
          86.4,
          50.592,
          89.28,
          96.768,
          136.152,
          90,
          17.112,
          10.8,
          42.408,
          34.968,
          58.32,
          75.144,
          195.84,
          52.824,
          54.312,
          134.328,
          79.608,
          94.32,
          32.736,
          7.2,
          29.016,
          61.008,
          19.44,
          43.152,
          156.24,
          69.192,
          30.504,
          32.928,
          56.544,
          18,
          63.984,
          9.36,
          63.984,
          2.976,
          33.84,
          86.304,
          136.8,
          23.064,
          102.672,
          53.088,
          63.984,
          30.96,
          50.592,
          4.32,
          26.784,
          4.464,
          47.52,
          28.272,
          15.84,
          75.888,
          21.576,
          71.232,
          66.216,
          37.44,
          64.728,
          35.28,
          34.968,
          24.552,
          59.04,
          106.392,
          86.4,
          49.104,
          72.912,
          101.616,
          21.576,
          54.72,
          84.072,
          64.8
         ],
         "yaxis": "y"
        }
       ],
       "layout": {
        "legend": {
         "tracegroupgap": 0
        },
        "template": {
         "data": {
          "bar": [
           {
            "error_x": {
             "color": "#2a3f5f"
            },
            "error_y": {
             "color": "#2a3f5f"
            },
            "marker": {
             "line": {
              "color": "#E5ECF6",
              "width": 0.5
             },
             "pattern": {
              "fillmode": "overlay",
              "size": 10,
              "solidity": 0.2
             }
            },
            "type": "bar"
           }
          ],
          "barpolar": [
           {
            "marker": {
             "line": {
              "color": "#E5ECF6",
              "width": 0.5
             },
             "pattern": {
              "fillmode": "overlay",
              "size": 10,
              "solidity": 0.2
             }
            },
            "type": "barpolar"
           }
          ],
          "carpet": [
           {
            "aaxis": {
             "endlinecolor": "#2a3f5f",
             "gridcolor": "white",
             "linecolor": "white",
             "minorgridcolor": "white",
             "startlinecolor": "#2a3f5f"
            },
            "baxis": {
             "endlinecolor": "#2a3f5f",
             "gridcolor": "white",
             "linecolor": "white",
             "minorgridcolor": "white",
             "startlinecolor": "#2a3f5f"
            },
            "type": "carpet"
           }
          ],
          "choropleth": [
           {
            "colorbar": {
             "outlinewidth": 0,
             "ticks": ""
            },
            "type": "choropleth"
           }
          ],
          "contour": [
           {
            "colorbar": {
             "outlinewidth": 0,
             "ticks": ""
            },
            "colorscale": [
             [
              0,
              "#0d0887"
             ],
             [
              0.1111111111111111,
              "#46039f"
             ],
             [
              0.2222222222222222,
              "#7201a8"
             ],
             [
              0.3333333333333333,
              "#9c179e"
             ],
             [
              0.4444444444444444,
              "#bd3786"
             ],
             [
              0.5555555555555556,
              "#d8576b"
             ],
             [
              0.6666666666666666,
              "#ed7953"
             ],
             [
              0.7777777777777778,
              "#fb9f3a"
             ],
             [
              0.8888888888888888,
              "#fdca26"
             ],
             [
              1,
              "#f0f921"
             ]
            ],
            "type": "contour"
           }
          ],
          "contourcarpet": [
           {
            "colorbar": {
             "outlinewidth": 0,
             "ticks": ""
            },
            "type": "contourcarpet"
           }
          ],
          "heatmap": [
           {
            "colorbar": {
             "outlinewidth": 0,
             "ticks": ""
            },
            "colorscale": [
             [
              0,
              "#0d0887"
             ],
             [
              0.1111111111111111,
              "#46039f"
             ],
             [
              0.2222222222222222,
              "#7201a8"
             ],
             [
              0.3333333333333333,
              "#9c179e"
             ],
             [
              0.4444444444444444,
              "#bd3786"
             ],
             [
              0.5555555555555556,
              "#d8576b"
             ],
             [
              0.6666666666666666,
              "#ed7953"
             ],
             [
              0.7777777777777778,
              "#fb9f3a"
             ],
             [
              0.8888888888888888,
              "#fdca26"
             ],
             [
              1,
              "#f0f921"
             ]
            ],
            "type": "heatmap"
           }
          ],
          "heatmapgl": [
           {
            "colorbar": {
             "outlinewidth": 0,
             "ticks": ""
            },
            "colorscale": [
             [
              0,
              "#0d0887"
             ],
             [
              0.1111111111111111,
              "#46039f"
             ],
             [
              0.2222222222222222,
              "#7201a8"
             ],
             [
              0.3333333333333333,
              "#9c179e"
             ],
             [
              0.4444444444444444,
              "#bd3786"
             ],
             [
              0.5555555555555556,
              "#d8576b"
             ],
             [
              0.6666666666666666,
              "#ed7953"
             ],
             [
              0.7777777777777778,
              "#fb9f3a"
             ],
             [
              0.8888888888888888,
              "#fdca26"
             ],
             [
              1,
              "#f0f921"
             ]
            ],
            "type": "heatmapgl"
           }
          ],
          "histogram": [
           {
            "marker": {
             "pattern": {
              "fillmode": "overlay",
              "size": 10,
              "solidity": 0.2
             }
            },
            "type": "histogram"
           }
          ],
          "histogram2d": [
           {
            "colorbar": {
             "outlinewidth": 0,
             "ticks": ""
            },
            "colorscale": [
             [
              0,
              "#0d0887"
             ],
             [
              0.1111111111111111,
              "#46039f"
             ],
             [
              0.2222222222222222,
              "#7201a8"
             ],
             [
              0.3333333333333333,
              "#9c179e"
             ],
             [
              0.4444444444444444,
              "#bd3786"
             ],
             [
              0.5555555555555556,
              "#d8576b"
             ],
             [
              0.6666666666666666,
              "#ed7953"
             ],
             [
              0.7777777777777778,
              "#fb9f3a"
             ],
             [
              0.8888888888888888,
              "#fdca26"
             ],
             [
              1,
              "#f0f921"
             ]
            ],
            "type": "histogram2d"
           }
          ],
          "histogram2dcontour": [
           {
            "colorbar": {
             "outlinewidth": 0,
             "ticks": ""
            },
            "colorscale": [
             [
              0,
              "#0d0887"
             ],
             [
              0.1111111111111111,
              "#46039f"
             ],
             [
              0.2222222222222222,
              "#7201a8"
             ],
             [
              0.3333333333333333,
              "#9c179e"
             ],
             [
              0.4444444444444444,
              "#bd3786"
             ],
             [
              0.5555555555555556,
              "#d8576b"
             ],
             [
              0.6666666666666666,
              "#ed7953"
             ],
             [
              0.7777777777777778,
              "#fb9f3a"
             ],
             [
              0.8888888888888888,
              "#fdca26"
             ],
             [
              1,
              "#f0f921"
             ]
            ],
            "type": "histogram2dcontour"
           }
          ],
          "mesh3d": [
           {
            "colorbar": {
             "outlinewidth": 0,
             "ticks": ""
            },
            "type": "mesh3d"
           }
          ],
          "parcoords": [
           {
            "line": {
             "colorbar": {
              "outlinewidth": 0,
              "ticks": ""
             }
            },
            "type": "parcoords"
           }
          ],
          "pie": [
           {
            "automargin": true,
            "type": "pie"
           }
          ],
          "scatter": [
           {
            "fillpattern": {
             "fillmode": "overlay",
             "size": 10,
             "solidity": 0.2
            },
            "type": "scatter"
           }
          ],
          "scatter3d": [
           {
            "line": {
             "colorbar": {
              "outlinewidth": 0,
              "ticks": ""
             }
            },
            "marker": {
             "colorbar": {
              "outlinewidth": 0,
              "ticks": ""
             }
            },
            "type": "scatter3d"
           }
          ],
          "scattercarpet": [
           {
            "marker": {
             "colorbar": {
              "outlinewidth": 0,
              "ticks": ""
             }
            },
            "type": "scattercarpet"
           }
          ],
          "scattergeo": [
           {
            "marker": {
             "colorbar": {
              "outlinewidth": 0,
              "ticks": ""
             }
            },
            "type": "scattergeo"
           }
          ],
          "scattergl": [
           {
            "marker": {
             "colorbar": {
              "outlinewidth": 0,
              "ticks": ""
             }
            },
            "type": "scattergl"
           }
          ],
          "scattermapbox": [
           {
            "marker": {
             "colorbar": {
              "outlinewidth": 0,
              "ticks": ""
             }
            },
            "type": "scattermapbox"
           }
          ],
          "scatterpolar": [
           {
            "marker": {
             "colorbar": {
              "outlinewidth": 0,
              "ticks": ""
             }
            },
            "type": "scatterpolar"
           }
          ],
          "scatterpolargl": [
           {
            "marker": {
             "colorbar": {
              "outlinewidth": 0,
              "ticks": ""
             }
            },
            "type": "scatterpolargl"
           }
          ],
          "scatterternary": [
           {
            "marker": {
             "colorbar": {
              "outlinewidth": 0,
              "ticks": ""
             }
            },
            "type": "scatterternary"
           }
          ],
          "surface": [
           {
            "colorbar": {
             "outlinewidth": 0,
             "ticks": ""
            },
            "colorscale": [
             [
              0,
              "#0d0887"
             ],
             [
              0.1111111111111111,
              "#46039f"
             ],
             [
              0.2222222222222222,
              "#7201a8"
             ],
             [
              0.3333333333333333,
              "#9c179e"
             ],
             [
              0.4444444444444444,
              "#bd3786"
             ],
             [
              0.5555555555555556,
              "#d8576b"
             ],
             [
              0.6666666666666666,
              "#ed7953"
             ],
             [
              0.7777777777777778,
              "#fb9f3a"
             ],
             [
              0.8888888888888888,
              "#fdca26"
             ],
             [
              1,
              "#f0f921"
             ]
            ],
            "type": "surface"
           }
          ],
          "table": [
           {
            "cells": {
             "fill": {
              "color": "#EBF0F8"
             },
             "line": {
              "color": "white"
             }
            },
            "header": {
             "fill": {
              "color": "#C8D4E3"
             },
             "line": {
              "color": "white"
             }
            },
            "type": "table"
           }
          ]
         },
         "layout": {
          "annotationdefaults": {
           "arrowcolor": "#2a3f5f",
           "arrowhead": 0,
           "arrowwidth": 1
          },
          "autotypenumbers": "strict",
          "coloraxis": {
           "colorbar": {
            "outlinewidth": 0,
            "ticks": ""
           }
          },
          "colorscale": {
           "diverging": [
            [
             0,
             "#8e0152"
            ],
            [
             0.1,
             "#c51b7d"
            ],
            [
             0.2,
             "#de77ae"
            ],
            [
             0.3,
             "#f1b6da"
            ],
            [
             0.4,
             "#fde0ef"
            ],
            [
             0.5,
             "#f7f7f7"
            ],
            [
             0.6,
             "#e6f5d0"
            ],
            [
             0.7,
             "#b8e186"
            ],
            [
             0.8,
             "#7fbc41"
            ],
            [
             0.9,
             "#4d9221"
            ],
            [
             1,
             "#276419"
            ]
           ],
           "sequential": [
            [
             0,
             "#0d0887"
            ],
            [
             0.1111111111111111,
             "#46039f"
            ],
            [
             0.2222222222222222,
             "#7201a8"
            ],
            [
             0.3333333333333333,
             "#9c179e"
            ],
            [
             0.4444444444444444,
             "#bd3786"
            ],
            [
             0.5555555555555556,
             "#d8576b"
            ],
            [
             0.6666666666666666,
             "#ed7953"
            ],
            [
             0.7777777777777778,
             "#fb9f3a"
            ],
            [
             0.8888888888888888,
             "#fdca26"
            ],
            [
             1,
             "#f0f921"
            ]
           ],
           "sequentialminus": [
            [
             0,
             "#0d0887"
            ],
            [
             0.1111111111111111,
             "#46039f"
            ],
            [
             0.2222222222222222,
             "#7201a8"
            ],
            [
             0.3333333333333333,
             "#9c179e"
            ],
            [
             0.4444444444444444,
             "#bd3786"
            ],
            [
             0.5555555555555556,
             "#d8576b"
            ],
            [
             0.6666666666666666,
             "#ed7953"
            ],
            [
             0.7777777777777778,
             "#fb9f3a"
            ],
            [
             0.8888888888888888,
             "#fdca26"
            ],
            [
             1,
             "#f0f921"
            ]
           ]
          },
          "colorway": [
           "#636efa",
           "#EF553B",
           "#00cc96",
           "#ab63fa",
           "#FFA15A",
           "#19d3f3",
           "#FF6692",
           "#B6E880",
           "#FF97FF",
           "#FECB52"
          ],
          "font": {
           "color": "#2a3f5f"
          },
          "geo": {
           "bgcolor": "white",
           "lakecolor": "white",
           "landcolor": "#E5ECF6",
           "showlakes": true,
           "showland": true,
           "subunitcolor": "white"
          },
          "hoverlabel": {
           "align": "left"
          },
          "hovermode": "closest",
          "mapbox": {
           "style": "light"
          },
          "paper_bgcolor": "white",
          "plot_bgcolor": "#E5ECF6",
          "polar": {
           "angularaxis": {
            "gridcolor": "white",
            "linecolor": "white",
            "ticks": ""
           },
           "bgcolor": "#E5ECF6",
           "radialaxis": {
            "gridcolor": "white",
            "linecolor": "white",
            "ticks": ""
           }
          },
          "scene": {
           "xaxis": {
            "backgroundcolor": "#E5ECF6",
            "gridcolor": "white",
            "gridwidth": 2,
            "linecolor": "white",
            "showbackground": true,
            "ticks": "",
            "zerolinecolor": "white"
           },
           "yaxis": {
            "backgroundcolor": "#E5ECF6",
            "gridcolor": "white",
            "gridwidth": 2,
            "linecolor": "white",
            "showbackground": true,
            "ticks": "",
            "zerolinecolor": "white"
           },
           "zaxis": {
            "backgroundcolor": "#E5ECF6",
            "gridcolor": "white",
            "gridwidth": 2,
            "linecolor": "white",
            "showbackground": true,
            "ticks": "",
            "zerolinecolor": "white"
           }
          },
          "shapedefaults": {
           "line": {
            "color": "#2a3f5f"
           }
          },
          "ternary": {
           "aaxis": {
            "gridcolor": "white",
            "linecolor": "white",
            "ticks": ""
           },
           "baxis": {
            "gridcolor": "white",
            "linecolor": "white",
            "ticks": ""
           },
           "bgcolor": "#E5ECF6",
           "caxis": {
            "gridcolor": "white",
            "linecolor": "white",
            "ticks": ""
           }
          },
          "title": {
           "x": 0.05
          },
          "xaxis": {
           "automargin": true,
           "gridcolor": "white",
           "linecolor": "white",
           "ticks": "",
           "title": {
            "standoff": 15
           },
           "zerolinecolor": "white",
           "zerolinewidth": 2
          },
          "yaxis": {
           "automargin": true,
           "gridcolor": "white",
           "linecolor": "white",
           "ticks": "",
           "title": {
            "standoff": 15
           },
           "zerolinecolor": "white",
           "zerolinewidth": 2
          }
         }
        },
        "title": {
         "text": "Gharakhil"
        },
        "xaxis": {
         "anchor": "y",
         "constrain": "domain",
         "domain": [
          0,
          1
         ],
         "range": [
          0,
          232.23
         ],
         "title": {
          "text": "Precipitation"
         }
        },
        "yaxis": {
         "anchor": "x",
         "domain": [
          0,
          1
         ],
         "range": [
          0,
          232.23
         ],
         "scaleanchor": "x",
         "scaleratio": 1,
         "title": {
          "text": "GPM_Precipitation"
         }
        }
       }
      },
      "text/html": [
       "<div>                            <div id=\"5cfd467d-94c1-40fb-8d93-f3ddd241428f\" class=\"plotly-graph-div\" style=\"height:525px; width:100%;\"></div>            <script type=\"text/javascript\">                require([\"plotly\"], function(Plotly) {                    window.PLOTLYENV=window.PLOTLYENV || {};                                    if (document.getElementById(\"5cfd467d-94c1-40fb-8d93-f3ddd241428f\")) {                    Plotly.newPlot(                        \"5cfd467d-94c1-40fb-8d93-f3ddd241428f\",                        [{\"hovertemplate\":\"Precipitation=%{x}\\u003cbr\\u003eGPM_Precipitation=%{y}\\u003cextra\\u003e\\u003c\\u002fextra\\u003e\",\"legendgroup\":\"\",\"marker\":{\"color\":\"#636efa\",\"symbol\":\"circle\"},\"mode\":\"markers\",\"name\":\"\",\"orientation\":\"v\",\"showlegend\":false,\"x\":[78.72,85.23,117.24,165.42,58.6,104.75,166.06,40.62,6.08,39.24,63.85,2.18,58.64,54.01,141.03,54.57,52.55,45.73,26.01,3.87,19.58,19.42,19.45,19.01,93.72,161.66,43.62,73.64,74.12,66.45,100.25,76.35,24.39,20.24,4.91,80.06,186.42,52.01,206.51,44.17,85.73,79.37,37.86,49.39,17.16,9.05,8.02,61.8,7.03,67.34,12.01,28.41,141.45,112.96,80.3,19.92,13.79,44.58,5.32,99.96,68.32,186.62,82.45,49.91,77.42,87.84,78.37,3.03,1.84,22.54,16.45,43.72,84.35,51.31,145.04,114.94,64.1,46.62,75.02,40.68,19.9,16.44,20.54,33.44,40.51,109.82,101.73,115.82,32.73,26.85,70.75,17.69,9.11,32.01,23.34,4.1,77.03,133.94,41.84,47.92,68.7,51.67,72.36,18.25,7.69,8.51,50.92,26.54,64.12,155.63,69.72,65.51,64.07,124.24,77.7,62.15,41.06,52.56,68.05,0.01,113.12,51.23,82.16,39.36,68.36,61.15,33.28,66.85,8.81,8.71,3.23,0.1,38.21,101.93,62.0,39.51,126.13,27.31,27.44,39.02,5.25,6.95,12.42,52.07,5.27,175.44,36.42,53.84,124.72,97.72,114.37,106.69,10.51,0.14,60.46,18.07,70.35,70.63,232.23,45.5,40.16,144.53,74.07,62.56,23.98,2.83,53.47,68.99,4.41,54.5,123.63,131.42,50.11,13.65,61.31,6.48,38.71,10.41,56.46,1.63,90.11,109.92,112.25,47.81,126.31,40.18,66.26,12.96,51.84,0.3,36.95,12.73,66.33,60.52,26.72,66.26,3.64,114.8,48.09,26.31,70.31,16.2,32.9,32.5,90.7,107.2,68.4,48.2,53.12,116.51,15.01,57.22,68.03,30.2],\"xaxis\":\"x\",\"y\":[84.24,69.936,108.72,109.368,44.64,96.768,123.504,72.72,31.248,51.12,39.432,14.88,54.0,38.688,105.12,63.24,75.144,59.856,22.32,15.12,31.248,27.36,30.504,15.624,79.2,125.736,59.76,99.696,65.472,79.296,68.448,84.24,39.432,41.76,14.88,64.728,87.84,55.8,120.96,55.056,65.472,86.016,43.152,76.32,30.504,12.96,10.416,51.336,32.4,78.864,33.12,21.576,93.744,96.096,98.952,36.0,31.992,51.84,8.928,122.76,69.12,145.08,120.24,31.248,75.144,81.432,80.352,24.48,26.04,51.84,46.128,49.104,78.48,43.152,144.0,90.024,62.496,40.992,66.96,38.88,57.288,25.2,28.272,41.664,61.92,85.56,83.52,98.952,43.896,46.368,75.888,38.16,33.48,59.76,33.48,3.72,36.0,119.04,83.52,43.896,60.264,61.824,95.976,30.24,25.296,12.96,79.608,37.2,70.56,134.664,78.48,54.312,59.52,87.0,90.768,64.8,52.08,32.4,63.24,5.208,92.16,59.52,108.72,63.984,55.8,69.216,40.176,86.4,14.136,12.24,23.064,5.208,59.04,98.952,59.04,30.504,105.648,29.568,30.504,51.84,42.408,25.92,18.6,39.432,34.56,137.64,86.4,50.592,89.28,96.768,136.152,90.0,17.112,10.8,42.408,34.968,58.32,75.144,195.84,52.824,54.312,134.328,79.608,94.32,32.736,7.2,29.016,61.008,19.44,43.152,156.24,69.192,30.504,32.928,56.544,18.0,63.984,9.36,63.984,2.976,33.84,86.304,136.8,23.064,102.672,53.088,63.984,30.96,50.592,4.32,26.784,4.464,47.52,28.272,15.84,75.888,21.576,71.232,66.216,37.44,64.728,35.28,34.968,24.552,59.04,106.392,86.4,49.104,72.912,101.616,21.576,54.72,84.072,64.8],\"yaxis\":\"y\",\"type\":\"scatter\"}],                        {\"template\":{\"data\":{\"histogram2dcontour\":[{\"type\":\"histogram2dcontour\",\"colorbar\":{\"outlinewidth\":0,\"ticks\":\"\"},\"colorscale\":[[0.0,\"#0d0887\"],[0.1111111111111111,\"#46039f\"],[0.2222222222222222,\"#7201a8\"],[0.3333333333333333,\"#9c179e\"],[0.4444444444444444,\"#bd3786\"],[0.5555555555555556,\"#d8576b\"],[0.6666666666666666,\"#ed7953\"],[0.7777777777777778,\"#fb9f3a\"],[0.8888888888888888,\"#fdca26\"],[1.0,\"#f0f921\"]]}],\"choropleth\":[{\"type\":\"choropleth\",\"colorbar\":{\"outlinewidth\":0,\"ticks\":\"\"}}],\"histogram2d\":[{\"type\":\"histogram2d\",\"colorbar\":{\"outlinewidth\":0,\"ticks\":\"\"},\"colorscale\":[[0.0,\"#0d0887\"],[0.1111111111111111,\"#46039f\"],[0.2222222222222222,\"#7201a8\"],[0.3333333333333333,\"#9c179e\"],[0.4444444444444444,\"#bd3786\"],[0.5555555555555556,\"#d8576b\"],[0.6666666666666666,\"#ed7953\"],[0.7777777777777778,\"#fb9f3a\"],[0.8888888888888888,\"#fdca26\"],[1.0,\"#f0f921\"]]}],\"heatmap\":[{\"type\":\"heatmap\",\"colorbar\":{\"outlinewidth\":0,\"ticks\":\"\"},\"colorscale\":[[0.0,\"#0d0887\"],[0.1111111111111111,\"#46039f\"],[0.2222222222222222,\"#7201a8\"],[0.3333333333333333,\"#9c179e\"],[0.4444444444444444,\"#bd3786\"],[0.5555555555555556,\"#d8576b\"],[0.6666666666666666,\"#ed7953\"],[0.7777777777777778,\"#fb9f3a\"],[0.8888888888888888,\"#fdca26\"],[1.0,\"#f0f921\"]]}],\"heatmapgl\":[{\"type\":\"heatmapgl\",\"colorbar\":{\"outlinewidth\":0,\"ticks\":\"\"},\"colorscale\":[[0.0,\"#0d0887\"],[0.1111111111111111,\"#46039f\"],[0.2222222222222222,\"#7201a8\"],[0.3333333333333333,\"#9c179e\"],[0.4444444444444444,\"#bd3786\"],[0.5555555555555556,\"#d8576b\"],[0.6666666666666666,\"#ed7953\"],[0.7777777777777778,\"#fb9f3a\"],[0.8888888888888888,\"#fdca26\"],[1.0,\"#f0f921\"]]}],\"contourcarpet\":[{\"type\":\"contourcarpet\",\"colorbar\":{\"outlinewidth\":0,\"ticks\":\"\"}}],\"contour\":[{\"type\":\"contour\",\"colorbar\":{\"outlinewidth\":0,\"ticks\":\"\"},\"colorscale\":[[0.0,\"#0d0887\"],[0.1111111111111111,\"#46039f\"],[0.2222222222222222,\"#7201a8\"],[0.3333333333333333,\"#9c179e\"],[0.4444444444444444,\"#bd3786\"],[0.5555555555555556,\"#d8576b\"],[0.6666666666666666,\"#ed7953\"],[0.7777777777777778,\"#fb9f3a\"],[0.8888888888888888,\"#fdca26\"],[1.0,\"#f0f921\"]]}],\"surface\":[{\"type\":\"surface\",\"colorbar\":{\"outlinewidth\":0,\"ticks\":\"\"},\"colorscale\":[[0.0,\"#0d0887\"],[0.1111111111111111,\"#46039f\"],[0.2222222222222222,\"#7201a8\"],[0.3333333333333333,\"#9c179e\"],[0.4444444444444444,\"#bd3786\"],[0.5555555555555556,\"#d8576b\"],[0.6666666666666666,\"#ed7953\"],[0.7777777777777778,\"#fb9f3a\"],[0.8888888888888888,\"#fdca26\"],[1.0,\"#f0f921\"]]}],\"mesh3d\":[{\"type\":\"mesh3d\",\"colorbar\":{\"outlinewidth\":0,\"ticks\":\"\"}}],\"scatter\":[{\"fillpattern\":{\"fillmode\":\"overlay\",\"size\":10,\"solidity\":0.2},\"type\":\"scatter\"}],\"parcoords\":[{\"type\":\"parcoords\",\"line\":{\"colorbar\":{\"outlinewidth\":0,\"ticks\":\"\"}}}],\"scatterpolargl\":[{\"type\":\"scatterpolargl\",\"marker\":{\"colorbar\":{\"outlinewidth\":0,\"ticks\":\"\"}}}],\"bar\":[{\"error_x\":{\"color\":\"#2a3f5f\"},\"error_y\":{\"color\":\"#2a3f5f\"},\"marker\":{\"line\":{\"color\":\"#E5ECF6\",\"width\":0.5},\"pattern\":{\"fillmode\":\"overlay\",\"size\":10,\"solidity\":0.2}},\"type\":\"bar\"}],\"scattergeo\":[{\"type\":\"scattergeo\",\"marker\":{\"colorbar\":{\"outlinewidth\":0,\"ticks\":\"\"}}}],\"scatterpolar\":[{\"type\":\"scatterpolar\",\"marker\":{\"colorbar\":{\"outlinewidth\":0,\"ticks\":\"\"}}}],\"histogram\":[{\"marker\":{\"pattern\":{\"fillmode\":\"overlay\",\"size\":10,\"solidity\":0.2}},\"type\":\"histogram\"}],\"scattergl\":[{\"type\":\"scattergl\",\"marker\":{\"colorbar\":{\"outlinewidth\":0,\"ticks\":\"\"}}}],\"scatter3d\":[{\"type\":\"scatter3d\",\"line\":{\"colorbar\":{\"outlinewidth\":0,\"ticks\":\"\"}},\"marker\":{\"colorbar\":{\"outlinewidth\":0,\"ticks\":\"\"}}}],\"scattermapbox\":[{\"type\":\"scattermapbox\",\"marker\":{\"colorbar\":{\"outlinewidth\":0,\"ticks\":\"\"}}}],\"scatterternary\":[{\"type\":\"scatterternary\",\"marker\":{\"colorbar\":{\"outlinewidth\":0,\"ticks\":\"\"}}}],\"scattercarpet\":[{\"type\":\"scattercarpet\",\"marker\":{\"colorbar\":{\"outlinewidth\":0,\"ticks\":\"\"}}}],\"carpet\":[{\"aaxis\":{\"endlinecolor\":\"#2a3f5f\",\"gridcolor\":\"white\",\"linecolor\":\"white\",\"minorgridcolor\":\"white\",\"startlinecolor\":\"#2a3f5f\"},\"baxis\":{\"endlinecolor\":\"#2a3f5f\",\"gridcolor\":\"white\",\"linecolor\":\"white\",\"minorgridcolor\":\"white\",\"startlinecolor\":\"#2a3f5f\"},\"type\":\"carpet\"}],\"table\":[{\"cells\":{\"fill\":{\"color\":\"#EBF0F8\"},\"line\":{\"color\":\"white\"}},\"header\":{\"fill\":{\"color\":\"#C8D4E3\"},\"line\":{\"color\":\"white\"}},\"type\":\"table\"}],\"barpolar\":[{\"marker\":{\"line\":{\"color\":\"#E5ECF6\",\"width\":0.5},\"pattern\":{\"fillmode\":\"overlay\",\"size\":10,\"solidity\":0.2}},\"type\":\"barpolar\"}],\"pie\":[{\"automargin\":true,\"type\":\"pie\"}]},\"layout\":{\"autotypenumbers\":\"strict\",\"colorway\":[\"#636efa\",\"#EF553B\",\"#00cc96\",\"#ab63fa\",\"#FFA15A\",\"#19d3f3\",\"#FF6692\",\"#B6E880\",\"#FF97FF\",\"#FECB52\"],\"font\":{\"color\":\"#2a3f5f\"},\"hovermode\":\"closest\",\"hoverlabel\":{\"align\":\"left\"},\"paper_bgcolor\":\"white\",\"plot_bgcolor\":\"#E5ECF6\",\"polar\":{\"bgcolor\":\"#E5ECF6\",\"angularaxis\":{\"gridcolor\":\"white\",\"linecolor\":\"white\",\"ticks\":\"\"},\"radialaxis\":{\"gridcolor\":\"white\",\"linecolor\":\"white\",\"ticks\":\"\"}},\"ternary\":{\"bgcolor\":\"#E5ECF6\",\"aaxis\":{\"gridcolor\":\"white\",\"linecolor\":\"white\",\"ticks\":\"\"},\"baxis\":{\"gridcolor\":\"white\",\"linecolor\":\"white\",\"ticks\":\"\"},\"caxis\":{\"gridcolor\":\"white\",\"linecolor\":\"white\",\"ticks\":\"\"}},\"coloraxis\":{\"colorbar\":{\"outlinewidth\":0,\"ticks\":\"\"}},\"colorscale\":{\"sequential\":[[0.0,\"#0d0887\"],[0.1111111111111111,\"#46039f\"],[0.2222222222222222,\"#7201a8\"],[0.3333333333333333,\"#9c179e\"],[0.4444444444444444,\"#bd3786\"],[0.5555555555555556,\"#d8576b\"],[0.6666666666666666,\"#ed7953\"],[0.7777777777777778,\"#fb9f3a\"],[0.8888888888888888,\"#fdca26\"],[1.0,\"#f0f921\"]],\"sequentialminus\":[[0.0,\"#0d0887\"],[0.1111111111111111,\"#46039f\"],[0.2222222222222222,\"#7201a8\"],[0.3333333333333333,\"#9c179e\"],[0.4444444444444444,\"#bd3786\"],[0.5555555555555556,\"#d8576b\"],[0.6666666666666666,\"#ed7953\"],[0.7777777777777778,\"#fb9f3a\"],[0.8888888888888888,\"#fdca26\"],[1.0,\"#f0f921\"]],\"diverging\":[[0,\"#8e0152\"],[0.1,\"#c51b7d\"],[0.2,\"#de77ae\"],[0.3,\"#f1b6da\"],[0.4,\"#fde0ef\"],[0.5,\"#f7f7f7\"],[0.6,\"#e6f5d0\"],[0.7,\"#b8e186\"],[0.8,\"#7fbc41\"],[0.9,\"#4d9221\"],[1,\"#276419\"]]},\"xaxis\":{\"gridcolor\":\"white\",\"linecolor\":\"white\",\"ticks\":\"\",\"title\":{\"standoff\":15},\"zerolinecolor\":\"white\",\"automargin\":true,\"zerolinewidth\":2},\"yaxis\":{\"gridcolor\":\"white\",\"linecolor\":\"white\",\"ticks\":\"\",\"title\":{\"standoff\":15},\"zerolinecolor\":\"white\",\"automargin\":true,\"zerolinewidth\":2},\"scene\":{\"xaxis\":{\"backgroundcolor\":\"#E5ECF6\",\"gridcolor\":\"white\",\"linecolor\":\"white\",\"showbackground\":true,\"ticks\":\"\",\"zerolinecolor\":\"white\",\"gridwidth\":2},\"yaxis\":{\"backgroundcolor\":\"#E5ECF6\",\"gridcolor\":\"white\",\"linecolor\":\"white\",\"showbackground\":true,\"ticks\":\"\",\"zerolinecolor\":\"white\",\"gridwidth\":2},\"zaxis\":{\"backgroundcolor\":\"#E5ECF6\",\"gridcolor\":\"white\",\"linecolor\":\"white\",\"showbackground\":true,\"ticks\":\"\",\"zerolinecolor\":\"white\",\"gridwidth\":2}},\"shapedefaults\":{\"line\":{\"color\":\"#2a3f5f\"}},\"annotationdefaults\":{\"arrowcolor\":\"#2a3f5f\",\"arrowhead\":0,\"arrowwidth\":1},\"geo\":{\"bgcolor\":\"white\",\"landcolor\":\"#E5ECF6\",\"subunitcolor\":\"white\",\"showland\":true,\"showlakes\":true,\"lakecolor\":\"white\"},\"title\":{\"x\":0.05},\"mapbox\":{\"style\":\"light\"}}},\"xaxis\":{\"anchor\":\"y\",\"domain\":[0.0,1.0],\"title\":{\"text\":\"Precipitation\"},\"range\":[0,232.23],\"constrain\":\"domain\"},\"yaxis\":{\"anchor\":\"x\",\"domain\":[0.0,1.0],\"title\":{\"text\":\"GPM_Precipitation\"},\"range\":[0,232.23],\"scaleanchor\":\"x\",\"scaleratio\":1},\"legend\":{\"tracegroupgap\":0},\"title\":{\"text\":\"Gharakhil\"}},                        {\"responsive\": true}                    ).then(function(){\n",
       "                            \n",
       "var gd = document.getElementById('5cfd467d-94c1-40fb-8d93-f3ddd241428f');\n",
       "var x = new MutationObserver(function (mutations, observer) {{\n",
       "        var display = window.getComputedStyle(gd).display;\n",
       "        if (!display || display === 'none') {{\n",
       "            console.log([gd, 'removed!']);\n",
       "            Plotly.purge(gd);\n",
       "            observer.disconnect();\n",
       "        }}\n",
       "}});\n",
       "\n",
       "// Listen for the removal of the full notebook cells\n",
       "var notebookContainer = gd.closest('#notebook-container');\n",
       "if (notebookContainer) {{\n",
       "    x.observe(notebookContainer, {childList: true});\n",
       "}}\n",
       "\n",
       "// Listen for the clearing of the current output cell\n",
       "var outputEl = gd.closest('.output');\n",
       "if (outputEl) {{\n",
       "    x.observe(outputEl, {childList: true});\n",
       "}}\n",
       "\n",
       "                        })                };                });            </script>        </div>"
      ]
     },
     "metadata": {},
     "output_type": "display_data"
    },
    {
     "data": {
      "application/vnd.plotly.v1+json": {
       "config": {
        "plotlyServerURL": "https://plot.ly"
       },
       "data": [
        {
         "hovertemplate": "Precipitation=%{x}<br>GPM_Precipitation=%{y}<extra></extra>",
         "legendgroup": "",
         "marker": {
          "color": "#636efa",
          "symbol": "circle"
         },
         "mode": "markers",
         "name": "",
         "orientation": "v",
         "showlegend": false,
         "type": "scatter",
         "x": [
          7.51,
          70.31,
          93.61,
          75.47,
          15.2,
          70.32,
          117,
          138.22,
          33.91,
          35,
          38.53,
          7.81,
          11,
          10.51,
          55.4,
          64.62,
          33.62,
          59.1,
          11.91,
          19.51,
          23.62,
          7.93,
          23.84,
          1.62,
          28.51,
          39.57,
          55.53,
          81.92,
          52.2,
          74.33,
          50.05,
          88.07,
          29.53,
          62.76,
          4.46,
          23.75,
          61.05,
          16.31,
          80.52,
          21.74,
          27.62,
          62.44,
          47.62,
          94.74,
          44.02,
          2.42,
          0.83,
          31.8,
          12,
          19.96,
          37,
          15.61,
          52.32,
          67.63,
          112.62,
          60.83,
          87.22,
          62.42,
          18.34,
          71.24,
          15.64,
          103.81,
          142.26,
          16.84,
          40.85,
          53.07,
          108.84,
          54.34,
          47.82,
          25.14,
          50.3,
          8.31,
          9.93,
          23.84,
          72.1,
          61.22,
          33.02,
          26.64,
          92.02,
          32.23,
          84.76,
          18.01,
          11.34,
          36.15,
          2.51,
          20.6,
          48.32,
          109.7,
          29.6,
          23.01,
          61.54,
          43.13,
          39.92,
          28.52,
          65.82,
          0.01,
          3.72,
          34.73,
          71.51,
          29.62,
          28.92,
          61.08,
          102.26,
          63.62,
          23.72,
          4.63,
          44.81,
          6.24,
          24.86,
          62.63,
          53.94,
          51.51,
          60.55,
          60.2,
          116.71,
          62.61,
          46.11,
          8.52,
          20.44,
          2.1,
          9.11,
          9,
          41.11,
          122.82,
          28.21,
          68.95,
          76.3,
          94,
          29.21,
          3.72,
          39.6,
          4.5,
          2.4,
          53.8,
          8.3,
          17.1,
          60.51,
          48.6,
          43.62,
          86.8,
          70.81,
          27.03,
          4.1,
          26.34,
          22.7,
          61.91,
          68.9,
          20.1,
          93.1,
          87.8,
          95.3,
          101.72,
          18.42,
          5.8,
          6.01,
          29.41,
          8.74,
          45.62,
          32.72,
          55.3,
          39.82,
          106.61,
          76.31,
          161.8,
          66.71,
          6.11,
          50.21,
          15.8,
          1.5,
          100.8,
          64.6,
          34.8,
          33.6,
          58,
          85.3,
          16.6,
          97.1,
          0,
          64.8,
          19.01,
          6.4,
          21,
          74.5,
          60.2,
          61.9,
          34.52,
          85.22,
          38.11,
          28.32,
          3.31,
          19.21,
          4.61,
          2.82,
          17.31,
          10.4,
          28.5,
          28.43,
          29.02,
          124.11,
          64,
          33.4,
          51.21,
          15.61,
          14.41,
          5.51,
          29.5,
          35.62,
          13.5,
          25.02,
          39.41,
          64,
          54.2,
          89,
          52.4
         ],
         "xaxis": "x",
         "y": [
          61.92,
          76.632,
          72.72,
          78.12,
          37.944,
          86.016,
          113.088,
          108.72,
          37.944,
          41.04,
          31.992,
          12.648,
          35.28,
          21.576,
          70.56,
          63.24,
          69.192,
          55.68,
          20.088,
          18,
          24.552,
          15.84,
          22.32,
          13.392,
          48.96,
          73.656,
          63.36,
          88.536,
          49.848,
          73.248,
          51.336,
          86.4,
          36.456,
          43.92,
          12.648,
          32.736,
          57.6,
          39.432,
          72,
          46.872,
          45.384,
          77.952,
          47.616,
          96.48,
          35.712,
          7.92,
          8.184,
          43.152,
          20.16,
          58.032,
          29.52,
          14.88,
          72.912,
          76.608,
          98.952,
          45.36,
          37.944,
          34.56,
          10.416,
          103.416,
          48.96,
          114.576,
          127.44,
          21.576,
          52.824,
          62.64,
          74.4,
          39.6,
          34.224,
          41.04,
          40.92,
          30.504,
          46.08,
          34.224,
          105.12,
          75.144,
          53.568,
          36.288,
          72.168,
          30.96,
          69.192,
          21.6,
          16.368,
          26.784,
          21.6,
          58.032,
          74.16,
          84.072,
          36.456,
          44.352,
          68.448,
          43.2,
          37.2,
          36,
          34.968,
          3.72,
          27.36,
          110.112,
          77.76,
          40.92,
          46.128,
          61.824,
          93.744,
          38.88,
          31.992,
          12.96,
          58.776,
          22.32,
          54,
          122.016,
          84.24,
          54.312,
          61.008,
          52.896,
          98.208,
          59.76,
          47.616,
          18.72,
          42.408,
          6.696,
          54.72,
          49.104,
          82.8,
          70.68,
          34.224,
          78.624,
          55.8,
          95.04,
          23.064,
          8.64,
          17.856,
          3.72,
          37.44,
          78.864,
          27.36,
          26.784,
          72.168,
          47.04,
          37.2,
          69.12,
          56.544,
          25.2,
          11.904,
          21.576,
          32.4,
          97.464,
          90,
          39.432,
          78.864,
          69.888,
          101.928,
          94.32,
          17.112,
          12.24,
          49.104,
          42.408,
          36.72,
          66.96,
          121.68,
          64.728,
          46.872,
          131.544,
          83.328,
          144.72,
          40.176,
          3.6,
          20.832,
          59.52,
          7.92,
          12.648,
          156.24,
          49.104,
          18.6,
          59.136,
          59.52,
          24.48,
          78.864,
          9.36,
          67.704,
          1.488,
          11.52,
          64.728,
          133.2,
          17.856,
          71.424,
          43.68,
          81.84,
          30.24,
          38.688,
          0.72,
          23.064,
          0,
          36.72,
          8.184,
          18,
          77.376,
          32.736,
          56.448,
          84.072,
          46.8,
          64.728,
          29.52,
          43.152,
          11.904,
          36.72,
          78.12,
          52.56,
          54.312,
          86.304,
          83.52,
          33.48,
          47.52,
          99.696,
          50.4
         ],
         "yaxis": "y"
        }
       ],
       "layout": {
        "legend": {
         "tracegroupgap": 0
        },
        "template": {
         "data": {
          "bar": [
           {
            "error_x": {
             "color": "#2a3f5f"
            },
            "error_y": {
             "color": "#2a3f5f"
            },
            "marker": {
             "line": {
              "color": "#E5ECF6",
              "width": 0.5
             },
             "pattern": {
              "fillmode": "overlay",
              "size": 10,
              "solidity": 0.2
             }
            },
            "type": "bar"
           }
          ],
          "barpolar": [
           {
            "marker": {
             "line": {
              "color": "#E5ECF6",
              "width": 0.5
             },
             "pattern": {
              "fillmode": "overlay",
              "size": 10,
              "solidity": 0.2
             }
            },
            "type": "barpolar"
           }
          ],
          "carpet": [
           {
            "aaxis": {
             "endlinecolor": "#2a3f5f",
             "gridcolor": "white",
             "linecolor": "white",
             "minorgridcolor": "white",
             "startlinecolor": "#2a3f5f"
            },
            "baxis": {
             "endlinecolor": "#2a3f5f",
             "gridcolor": "white",
             "linecolor": "white",
             "minorgridcolor": "white",
             "startlinecolor": "#2a3f5f"
            },
            "type": "carpet"
           }
          ],
          "choropleth": [
           {
            "colorbar": {
             "outlinewidth": 0,
             "ticks": ""
            },
            "type": "choropleth"
           }
          ],
          "contour": [
           {
            "colorbar": {
             "outlinewidth": 0,
             "ticks": ""
            },
            "colorscale": [
             [
              0,
              "#0d0887"
             ],
             [
              0.1111111111111111,
              "#46039f"
             ],
             [
              0.2222222222222222,
              "#7201a8"
             ],
             [
              0.3333333333333333,
              "#9c179e"
             ],
             [
              0.4444444444444444,
              "#bd3786"
             ],
             [
              0.5555555555555556,
              "#d8576b"
             ],
             [
              0.6666666666666666,
              "#ed7953"
             ],
             [
              0.7777777777777778,
              "#fb9f3a"
             ],
             [
              0.8888888888888888,
              "#fdca26"
             ],
             [
              1,
              "#f0f921"
             ]
            ],
            "type": "contour"
           }
          ],
          "contourcarpet": [
           {
            "colorbar": {
             "outlinewidth": 0,
             "ticks": ""
            },
            "type": "contourcarpet"
           }
          ],
          "heatmap": [
           {
            "colorbar": {
             "outlinewidth": 0,
             "ticks": ""
            },
            "colorscale": [
             [
              0,
              "#0d0887"
             ],
             [
              0.1111111111111111,
              "#46039f"
             ],
             [
              0.2222222222222222,
              "#7201a8"
             ],
             [
              0.3333333333333333,
              "#9c179e"
             ],
             [
              0.4444444444444444,
              "#bd3786"
             ],
             [
              0.5555555555555556,
              "#d8576b"
             ],
             [
              0.6666666666666666,
              "#ed7953"
             ],
             [
              0.7777777777777778,
              "#fb9f3a"
             ],
             [
              0.8888888888888888,
              "#fdca26"
             ],
             [
              1,
              "#f0f921"
             ]
            ],
            "type": "heatmap"
           }
          ],
          "heatmapgl": [
           {
            "colorbar": {
             "outlinewidth": 0,
             "ticks": ""
            },
            "colorscale": [
             [
              0,
              "#0d0887"
             ],
             [
              0.1111111111111111,
              "#46039f"
             ],
             [
              0.2222222222222222,
              "#7201a8"
             ],
             [
              0.3333333333333333,
              "#9c179e"
             ],
             [
              0.4444444444444444,
              "#bd3786"
             ],
             [
              0.5555555555555556,
              "#d8576b"
             ],
             [
              0.6666666666666666,
              "#ed7953"
             ],
             [
              0.7777777777777778,
              "#fb9f3a"
             ],
             [
              0.8888888888888888,
              "#fdca26"
             ],
             [
              1,
              "#f0f921"
             ]
            ],
            "type": "heatmapgl"
           }
          ],
          "histogram": [
           {
            "marker": {
             "pattern": {
              "fillmode": "overlay",
              "size": 10,
              "solidity": 0.2
             }
            },
            "type": "histogram"
           }
          ],
          "histogram2d": [
           {
            "colorbar": {
             "outlinewidth": 0,
             "ticks": ""
            },
            "colorscale": [
             [
              0,
              "#0d0887"
             ],
             [
              0.1111111111111111,
              "#46039f"
             ],
             [
              0.2222222222222222,
              "#7201a8"
             ],
             [
              0.3333333333333333,
              "#9c179e"
             ],
             [
              0.4444444444444444,
              "#bd3786"
             ],
             [
              0.5555555555555556,
              "#d8576b"
             ],
             [
              0.6666666666666666,
              "#ed7953"
             ],
             [
              0.7777777777777778,
              "#fb9f3a"
             ],
             [
              0.8888888888888888,
              "#fdca26"
             ],
             [
              1,
              "#f0f921"
             ]
            ],
            "type": "histogram2d"
           }
          ],
          "histogram2dcontour": [
           {
            "colorbar": {
             "outlinewidth": 0,
             "ticks": ""
            },
            "colorscale": [
             [
              0,
              "#0d0887"
             ],
             [
              0.1111111111111111,
              "#46039f"
             ],
             [
              0.2222222222222222,
              "#7201a8"
             ],
             [
              0.3333333333333333,
              "#9c179e"
             ],
             [
              0.4444444444444444,
              "#bd3786"
             ],
             [
              0.5555555555555556,
              "#d8576b"
             ],
             [
              0.6666666666666666,
              "#ed7953"
             ],
             [
              0.7777777777777778,
              "#fb9f3a"
             ],
             [
              0.8888888888888888,
              "#fdca26"
             ],
             [
              1,
              "#f0f921"
             ]
            ],
            "type": "histogram2dcontour"
           }
          ],
          "mesh3d": [
           {
            "colorbar": {
             "outlinewidth": 0,
             "ticks": ""
            },
            "type": "mesh3d"
           }
          ],
          "parcoords": [
           {
            "line": {
             "colorbar": {
              "outlinewidth": 0,
              "ticks": ""
             }
            },
            "type": "parcoords"
           }
          ],
          "pie": [
           {
            "automargin": true,
            "type": "pie"
           }
          ],
          "scatter": [
           {
            "fillpattern": {
             "fillmode": "overlay",
             "size": 10,
             "solidity": 0.2
            },
            "type": "scatter"
           }
          ],
          "scatter3d": [
           {
            "line": {
             "colorbar": {
              "outlinewidth": 0,
              "ticks": ""
             }
            },
            "marker": {
             "colorbar": {
              "outlinewidth": 0,
              "ticks": ""
             }
            },
            "type": "scatter3d"
           }
          ],
          "scattercarpet": [
           {
            "marker": {
             "colorbar": {
              "outlinewidth": 0,
              "ticks": ""
             }
            },
            "type": "scattercarpet"
           }
          ],
          "scattergeo": [
           {
            "marker": {
             "colorbar": {
              "outlinewidth": 0,
              "ticks": ""
             }
            },
            "type": "scattergeo"
           }
          ],
          "scattergl": [
           {
            "marker": {
             "colorbar": {
              "outlinewidth": 0,
              "ticks": ""
             }
            },
            "type": "scattergl"
           }
          ],
          "scattermapbox": [
           {
            "marker": {
             "colorbar": {
              "outlinewidth": 0,
              "ticks": ""
             }
            },
            "type": "scattermapbox"
           }
          ],
          "scatterpolar": [
           {
            "marker": {
             "colorbar": {
              "outlinewidth": 0,
              "ticks": ""
             }
            },
            "type": "scatterpolar"
           }
          ],
          "scatterpolargl": [
           {
            "marker": {
             "colorbar": {
              "outlinewidth": 0,
              "ticks": ""
             }
            },
            "type": "scatterpolargl"
           }
          ],
          "scatterternary": [
           {
            "marker": {
             "colorbar": {
              "outlinewidth": 0,
              "ticks": ""
             }
            },
            "type": "scatterternary"
           }
          ],
          "surface": [
           {
            "colorbar": {
             "outlinewidth": 0,
             "ticks": ""
            },
            "colorscale": [
             [
              0,
              "#0d0887"
             ],
             [
              0.1111111111111111,
              "#46039f"
             ],
             [
              0.2222222222222222,
              "#7201a8"
             ],
             [
              0.3333333333333333,
              "#9c179e"
             ],
             [
              0.4444444444444444,
              "#bd3786"
             ],
             [
              0.5555555555555556,
              "#d8576b"
             ],
             [
              0.6666666666666666,
              "#ed7953"
             ],
             [
              0.7777777777777778,
              "#fb9f3a"
             ],
             [
              0.8888888888888888,
              "#fdca26"
             ],
             [
              1,
              "#f0f921"
             ]
            ],
            "type": "surface"
           }
          ],
          "table": [
           {
            "cells": {
             "fill": {
              "color": "#EBF0F8"
             },
             "line": {
              "color": "white"
             }
            },
            "header": {
             "fill": {
              "color": "#C8D4E3"
             },
             "line": {
              "color": "white"
             }
            },
            "type": "table"
           }
          ]
         },
         "layout": {
          "annotationdefaults": {
           "arrowcolor": "#2a3f5f",
           "arrowhead": 0,
           "arrowwidth": 1
          },
          "autotypenumbers": "strict",
          "coloraxis": {
           "colorbar": {
            "outlinewidth": 0,
            "ticks": ""
           }
          },
          "colorscale": {
           "diverging": [
            [
             0,
             "#8e0152"
            ],
            [
             0.1,
             "#c51b7d"
            ],
            [
             0.2,
             "#de77ae"
            ],
            [
             0.3,
             "#f1b6da"
            ],
            [
             0.4,
             "#fde0ef"
            ],
            [
             0.5,
             "#f7f7f7"
            ],
            [
             0.6,
             "#e6f5d0"
            ],
            [
             0.7,
             "#b8e186"
            ],
            [
             0.8,
             "#7fbc41"
            ],
            [
             0.9,
             "#4d9221"
            ],
            [
             1,
             "#276419"
            ]
           ],
           "sequential": [
            [
             0,
             "#0d0887"
            ],
            [
             0.1111111111111111,
             "#46039f"
            ],
            [
             0.2222222222222222,
             "#7201a8"
            ],
            [
             0.3333333333333333,
             "#9c179e"
            ],
            [
             0.4444444444444444,
             "#bd3786"
            ],
            [
             0.5555555555555556,
             "#d8576b"
            ],
            [
             0.6666666666666666,
             "#ed7953"
            ],
            [
             0.7777777777777778,
             "#fb9f3a"
            ],
            [
             0.8888888888888888,
             "#fdca26"
            ],
            [
             1,
             "#f0f921"
            ]
           ],
           "sequentialminus": [
            [
             0,
             "#0d0887"
            ],
            [
             0.1111111111111111,
             "#46039f"
            ],
            [
             0.2222222222222222,
             "#7201a8"
            ],
            [
             0.3333333333333333,
             "#9c179e"
            ],
            [
             0.4444444444444444,
             "#bd3786"
            ],
            [
             0.5555555555555556,
             "#d8576b"
            ],
            [
             0.6666666666666666,
             "#ed7953"
            ],
            [
             0.7777777777777778,
             "#fb9f3a"
            ],
            [
             0.8888888888888888,
             "#fdca26"
            ],
            [
             1,
             "#f0f921"
            ]
           ]
          },
          "colorway": [
           "#636efa",
           "#EF553B",
           "#00cc96",
           "#ab63fa",
           "#FFA15A",
           "#19d3f3",
           "#FF6692",
           "#B6E880",
           "#FF97FF",
           "#FECB52"
          ],
          "font": {
           "color": "#2a3f5f"
          },
          "geo": {
           "bgcolor": "white",
           "lakecolor": "white",
           "landcolor": "#E5ECF6",
           "showlakes": true,
           "showland": true,
           "subunitcolor": "white"
          },
          "hoverlabel": {
           "align": "left"
          },
          "hovermode": "closest",
          "mapbox": {
           "style": "light"
          },
          "paper_bgcolor": "white",
          "plot_bgcolor": "#E5ECF6",
          "polar": {
           "angularaxis": {
            "gridcolor": "white",
            "linecolor": "white",
            "ticks": ""
           },
           "bgcolor": "#E5ECF6",
           "radialaxis": {
            "gridcolor": "white",
            "linecolor": "white",
            "ticks": ""
           }
          },
          "scene": {
           "xaxis": {
            "backgroundcolor": "#E5ECF6",
            "gridcolor": "white",
            "gridwidth": 2,
            "linecolor": "white",
            "showbackground": true,
            "ticks": "",
            "zerolinecolor": "white"
           },
           "yaxis": {
            "backgroundcolor": "#E5ECF6",
            "gridcolor": "white",
            "gridwidth": 2,
            "linecolor": "white",
            "showbackground": true,
            "ticks": "",
            "zerolinecolor": "white"
           },
           "zaxis": {
            "backgroundcolor": "#E5ECF6",
            "gridcolor": "white",
            "gridwidth": 2,
            "linecolor": "white",
            "showbackground": true,
            "ticks": "",
            "zerolinecolor": "white"
           }
          },
          "shapedefaults": {
           "line": {
            "color": "#2a3f5f"
           }
          },
          "ternary": {
           "aaxis": {
            "gridcolor": "white",
            "linecolor": "white",
            "ticks": ""
           },
           "baxis": {
            "gridcolor": "white",
            "linecolor": "white",
            "ticks": ""
           },
           "bgcolor": "#E5ECF6",
           "caxis": {
            "gridcolor": "white",
            "linecolor": "white",
            "ticks": ""
           }
          },
          "title": {
           "x": 0.05
          },
          "xaxis": {
           "automargin": true,
           "gridcolor": "white",
           "linecolor": "white",
           "ticks": "",
           "title": {
            "standoff": 15
           },
           "zerolinecolor": "white",
           "zerolinewidth": 2
          },
          "yaxis": {
           "automargin": true,
           "gridcolor": "white",
           "linecolor": "white",
           "ticks": "",
           "title": {
            "standoff": 15
           },
           "zerolinecolor": "white",
           "zerolinewidth": 2
          }
         }
        },
        "title": {
         "text": "Siahbisheh"
        },
        "xaxis": {
         "anchor": "y",
         "constrain": "domain",
         "domain": [
          0,
          1
         ],
         "range": [
          0,
          161.8
         ],
         "title": {
          "text": "Precipitation"
         }
        },
        "yaxis": {
         "anchor": "x",
         "domain": [
          0,
          1
         ],
         "range": [
          0,
          161.8
         ],
         "scaleanchor": "x",
         "scaleratio": 1,
         "title": {
          "text": "GPM_Precipitation"
         }
        }
       }
      },
      "text/html": [
       "<div>                            <div id=\"6537f02a-6e45-4d48-9a16-c8fed1e7e2ab\" class=\"plotly-graph-div\" style=\"height:525px; width:100%;\"></div>            <script type=\"text/javascript\">                require([\"plotly\"], function(Plotly) {                    window.PLOTLYENV=window.PLOTLYENV || {};                                    if (document.getElementById(\"6537f02a-6e45-4d48-9a16-c8fed1e7e2ab\")) {                    Plotly.newPlot(                        \"6537f02a-6e45-4d48-9a16-c8fed1e7e2ab\",                        [{\"hovertemplate\":\"Precipitation=%{x}\\u003cbr\\u003eGPM_Precipitation=%{y}\\u003cextra\\u003e\\u003c\\u002fextra\\u003e\",\"legendgroup\":\"\",\"marker\":{\"color\":\"#636efa\",\"symbol\":\"circle\"},\"mode\":\"markers\",\"name\":\"\",\"orientation\":\"v\",\"showlegend\":false,\"x\":[7.51,70.31,93.61,75.47,15.2,70.32,117.0,138.22,33.91,35.0,38.53,7.81,11.0,10.51,55.4,64.62,33.62,59.1,11.91,19.51,23.62,7.93,23.84,1.62,28.51,39.57,55.53,81.92,52.2,74.33,50.05,88.07,29.53,62.76,4.46,23.75,61.05,16.31,80.52,21.74,27.62,62.44,47.62,94.74,44.02,2.42,0.83,31.8,12.0,19.96,37.0,15.61,52.32,67.63,112.62,60.83,87.22,62.42,18.34,71.24,15.64,103.81,142.26,16.84,40.85,53.07,108.84,54.34,47.82,25.14,50.3,8.31,9.93,23.84,72.1,61.22,33.02,26.64,92.02,32.23,84.76,18.01,11.34,36.15,2.51,20.6,48.32,109.7,29.6,23.01,61.54,43.13,39.92,28.52,65.82,0.01,3.72,34.73,71.51,29.62,28.92,61.08,102.26,63.62,23.72,4.63,44.81,6.24,24.86,62.63,53.94,51.51,60.55,60.2,116.71,62.61,46.11,8.52,20.44,2.1,9.11,9.0,41.11,122.82,28.21,68.95,76.3,94.0,29.21,3.72,39.6,4.5,2.4,53.8,8.3,17.1,60.51,48.6,43.62,86.8,70.81,27.03,4.1,26.34,22.7,61.91,68.9,20.1,93.1,87.8,95.3,101.72,18.42,5.8,6.01,29.41,8.74,45.62,32.72,55.3,39.82,106.61,76.31,161.8,66.71,6.11,50.21,15.8,1.5,100.8,64.6,34.8,33.6,58.0,85.3,16.6,97.1,0.0,64.8,19.01,6.4,21.0,74.5,60.2,61.9,34.52,85.22,38.11,28.32,3.31,19.21,4.61,2.82,17.31,10.4,28.5,28.43,29.02,124.11,64.0,33.4,51.21,15.61,14.41,5.51,29.5,35.62,13.5,25.02,39.41,64.0,54.2,89.0,52.4],\"xaxis\":\"x\",\"y\":[61.92,76.632,72.72,78.12,37.944,86.016,113.088,108.72,37.944,41.04,31.992,12.648,35.28,21.576,70.56,63.24,69.192,55.68,20.088,18.0,24.552,15.84,22.32,13.392,48.96,73.656,63.36,88.536,49.848,73.248,51.336,86.4,36.456,43.92,12.648,32.736,57.6,39.432,72.0,46.872,45.384,77.952,47.616,96.48,35.712,7.92,8.184,43.152,20.16,58.032,29.52,14.88,72.912,76.608,98.952,45.36,37.944,34.56,10.416,103.416,48.96,114.576,127.44,21.576,52.824,62.64,74.4,39.6,34.224,41.04,40.92,30.504,46.08,34.224,105.12,75.144,53.568,36.288,72.168,30.96,69.192,21.6,16.368,26.784,21.6,58.032,74.16,84.072,36.456,44.352,68.448,43.2,37.2,36.0,34.968,3.72,27.36,110.112,77.76,40.92,46.128,61.824,93.744,38.88,31.992,12.96,58.776,22.32,54.0,122.016,84.24,54.312,61.008,52.896,98.208,59.76,47.616,18.72,42.408,6.696,54.72,49.104,82.8,70.68,34.224,78.624,55.8,95.04,23.064,8.64,17.856,3.72,37.44,78.864,27.36,26.784,72.168,47.04,37.2,69.12,56.544,25.2,11.904,21.576,32.4,97.464,90.0,39.432,78.864,69.888,101.928,94.32,17.112,12.24,49.104,42.408,36.72,66.96,121.68,64.728,46.872,131.544,83.328,144.72,40.176,3.6,20.832,59.52,7.92,12.648,156.24,49.104,18.6,59.136,59.52,24.48,78.864,9.36,67.704,1.488,11.52,64.728,133.2,17.856,71.424,43.68,81.84,30.24,38.688,0.72,23.064,0.0,36.72,8.184,18.0,77.376,32.736,56.448,84.072,46.8,64.728,29.52,43.152,11.904,36.72,78.12,52.56,54.312,86.304,83.52,33.48,47.52,99.696,50.4],\"yaxis\":\"y\",\"type\":\"scatter\"}],                        {\"template\":{\"data\":{\"histogram2dcontour\":[{\"type\":\"histogram2dcontour\",\"colorbar\":{\"outlinewidth\":0,\"ticks\":\"\"},\"colorscale\":[[0.0,\"#0d0887\"],[0.1111111111111111,\"#46039f\"],[0.2222222222222222,\"#7201a8\"],[0.3333333333333333,\"#9c179e\"],[0.4444444444444444,\"#bd3786\"],[0.5555555555555556,\"#d8576b\"],[0.6666666666666666,\"#ed7953\"],[0.7777777777777778,\"#fb9f3a\"],[0.8888888888888888,\"#fdca26\"],[1.0,\"#f0f921\"]]}],\"choropleth\":[{\"type\":\"choropleth\",\"colorbar\":{\"outlinewidth\":0,\"ticks\":\"\"}}],\"histogram2d\":[{\"type\":\"histogram2d\",\"colorbar\":{\"outlinewidth\":0,\"ticks\":\"\"},\"colorscale\":[[0.0,\"#0d0887\"],[0.1111111111111111,\"#46039f\"],[0.2222222222222222,\"#7201a8\"],[0.3333333333333333,\"#9c179e\"],[0.4444444444444444,\"#bd3786\"],[0.5555555555555556,\"#d8576b\"],[0.6666666666666666,\"#ed7953\"],[0.7777777777777778,\"#fb9f3a\"],[0.8888888888888888,\"#fdca26\"],[1.0,\"#f0f921\"]]}],\"heatmap\":[{\"type\":\"heatmap\",\"colorbar\":{\"outlinewidth\":0,\"ticks\":\"\"},\"colorscale\":[[0.0,\"#0d0887\"],[0.1111111111111111,\"#46039f\"],[0.2222222222222222,\"#7201a8\"],[0.3333333333333333,\"#9c179e\"],[0.4444444444444444,\"#bd3786\"],[0.5555555555555556,\"#d8576b\"],[0.6666666666666666,\"#ed7953\"],[0.7777777777777778,\"#fb9f3a\"],[0.8888888888888888,\"#fdca26\"],[1.0,\"#f0f921\"]]}],\"heatmapgl\":[{\"type\":\"heatmapgl\",\"colorbar\":{\"outlinewidth\":0,\"ticks\":\"\"},\"colorscale\":[[0.0,\"#0d0887\"],[0.1111111111111111,\"#46039f\"],[0.2222222222222222,\"#7201a8\"],[0.3333333333333333,\"#9c179e\"],[0.4444444444444444,\"#bd3786\"],[0.5555555555555556,\"#d8576b\"],[0.6666666666666666,\"#ed7953\"],[0.7777777777777778,\"#fb9f3a\"],[0.8888888888888888,\"#fdca26\"],[1.0,\"#f0f921\"]]}],\"contourcarpet\":[{\"type\":\"contourcarpet\",\"colorbar\":{\"outlinewidth\":0,\"ticks\":\"\"}}],\"contour\":[{\"type\":\"contour\",\"colorbar\":{\"outlinewidth\":0,\"ticks\":\"\"},\"colorscale\":[[0.0,\"#0d0887\"],[0.1111111111111111,\"#46039f\"],[0.2222222222222222,\"#7201a8\"],[0.3333333333333333,\"#9c179e\"],[0.4444444444444444,\"#bd3786\"],[0.5555555555555556,\"#d8576b\"],[0.6666666666666666,\"#ed7953\"],[0.7777777777777778,\"#fb9f3a\"],[0.8888888888888888,\"#fdca26\"],[1.0,\"#f0f921\"]]}],\"surface\":[{\"type\":\"surface\",\"colorbar\":{\"outlinewidth\":0,\"ticks\":\"\"},\"colorscale\":[[0.0,\"#0d0887\"],[0.1111111111111111,\"#46039f\"],[0.2222222222222222,\"#7201a8\"],[0.3333333333333333,\"#9c179e\"],[0.4444444444444444,\"#bd3786\"],[0.5555555555555556,\"#d8576b\"],[0.6666666666666666,\"#ed7953\"],[0.7777777777777778,\"#fb9f3a\"],[0.8888888888888888,\"#fdca26\"],[1.0,\"#f0f921\"]]}],\"mesh3d\":[{\"type\":\"mesh3d\",\"colorbar\":{\"outlinewidth\":0,\"ticks\":\"\"}}],\"scatter\":[{\"fillpattern\":{\"fillmode\":\"overlay\",\"size\":10,\"solidity\":0.2},\"type\":\"scatter\"}],\"parcoords\":[{\"type\":\"parcoords\",\"line\":{\"colorbar\":{\"outlinewidth\":0,\"ticks\":\"\"}}}],\"scatterpolargl\":[{\"type\":\"scatterpolargl\",\"marker\":{\"colorbar\":{\"outlinewidth\":0,\"ticks\":\"\"}}}],\"bar\":[{\"error_x\":{\"color\":\"#2a3f5f\"},\"error_y\":{\"color\":\"#2a3f5f\"},\"marker\":{\"line\":{\"color\":\"#E5ECF6\",\"width\":0.5},\"pattern\":{\"fillmode\":\"overlay\",\"size\":10,\"solidity\":0.2}},\"type\":\"bar\"}],\"scattergeo\":[{\"type\":\"scattergeo\",\"marker\":{\"colorbar\":{\"outlinewidth\":0,\"ticks\":\"\"}}}],\"scatterpolar\":[{\"type\":\"scatterpolar\",\"marker\":{\"colorbar\":{\"outlinewidth\":0,\"ticks\":\"\"}}}],\"histogram\":[{\"marker\":{\"pattern\":{\"fillmode\":\"overlay\",\"size\":10,\"solidity\":0.2}},\"type\":\"histogram\"}],\"scattergl\":[{\"type\":\"scattergl\",\"marker\":{\"colorbar\":{\"outlinewidth\":0,\"ticks\":\"\"}}}],\"scatter3d\":[{\"type\":\"scatter3d\",\"line\":{\"colorbar\":{\"outlinewidth\":0,\"ticks\":\"\"}},\"marker\":{\"colorbar\":{\"outlinewidth\":0,\"ticks\":\"\"}}}],\"scattermapbox\":[{\"type\":\"scattermapbox\",\"marker\":{\"colorbar\":{\"outlinewidth\":0,\"ticks\":\"\"}}}],\"scatterternary\":[{\"type\":\"scatterternary\",\"marker\":{\"colorbar\":{\"outlinewidth\":0,\"ticks\":\"\"}}}],\"scattercarpet\":[{\"type\":\"scattercarpet\",\"marker\":{\"colorbar\":{\"outlinewidth\":0,\"ticks\":\"\"}}}],\"carpet\":[{\"aaxis\":{\"endlinecolor\":\"#2a3f5f\",\"gridcolor\":\"white\",\"linecolor\":\"white\",\"minorgridcolor\":\"white\",\"startlinecolor\":\"#2a3f5f\"},\"baxis\":{\"endlinecolor\":\"#2a3f5f\",\"gridcolor\":\"white\",\"linecolor\":\"white\",\"minorgridcolor\":\"white\",\"startlinecolor\":\"#2a3f5f\"},\"type\":\"carpet\"}],\"table\":[{\"cells\":{\"fill\":{\"color\":\"#EBF0F8\"},\"line\":{\"color\":\"white\"}},\"header\":{\"fill\":{\"color\":\"#C8D4E3\"},\"line\":{\"color\":\"white\"}},\"type\":\"table\"}],\"barpolar\":[{\"marker\":{\"line\":{\"color\":\"#E5ECF6\",\"width\":0.5},\"pattern\":{\"fillmode\":\"overlay\",\"size\":10,\"solidity\":0.2}},\"type\":\"barpolar\"}],\"pie\":[{\"automargin\":true,\"type\":\"pie\"}]},\"layout\":{\"autotypenumbers\":\"strict\",\"colorway\":[\"#636efa\",\"#EF553B\",\"#00cc96\",\"#ab63fa\",\"#FFA15A\",\"#19d3f3\",\"#FF6692\",\"#B6E880\",\"#FF97FF\",\"#FECB52\"],\"font\":{\"color\":\"#2a3f5f\"},\"hovermode\":\"closest\",\"hoverlabel\":{\"align\":\"left\"},\"paper_bgcolor\":\"white\",\"plot_bgcolor\":\"#E5ECF6\",\"polar\":{\"bgcolor\":\"#E5ECF6\",\"angularaxis\":{\"gridcolor\":\"white\",\"linecolor\":\"white\",\"ticks\":\"\"},\"radialaxis\":{\"gridcolor\":\"white\",\"linecolor\":\"white\",\"ticks\":\"\"}},\"ternary\":{\"bgcolor\":\"#E5ECF6\",\"aaxis\":{\"gridcolor\":\"white\",\"linecolor\":\"white\",\"ticks\":\"\"},\"baxis\":{\"gridcolor\":\"white\",\"linecolor\":\"white\",\"ticks\":\"\"},\"caxis\":{\"gridcolor\":\"white\",\"linecolor\":\"white\",\"ticks\":\"\"}},\"coloraxis\":{\"colorbar\":{\"outlinewidth\":0,\"ticks\":\"\"}},\"colorscale\":{\"sequential\":[[0.0,\"#0d0887\"],[0.1111111111111111,\"#46039f\"],[0.2222222222222222,\"#7201a8\"],[0.3333333333333333,\"#9c179e\"],[0.4444444444444444,\"#bd3786\"],[0.5555555555555556,\"#d8576b\"],[0.6666666666666666,\"#ed7953\"],[0.7777777777777778,\"#fb9f3a\"],[0.8888888888888888,\"#fdca26\"],[1.0,\"#f0f921\"]],\"sequentialminus\":[[0.0,\"#0d0887\"],[0.1111111111111111,\"#46039f\"],[0.2222222222222222,\"#7201a8\"],[0.3333333333333333,\"#9c179e\"],[0.4444444444444444,\"#bd3786\"],[0.5555555555555556,\"#d8576b\"],[0.6666666666666666,\"#ed7953\"],[0.7777777777777778,\"#fb9f3a\"],[0.8888888888888888,\"#fdca26\"],[1.0,\"#f0f921\"]],\"diverging\":[[0,\"#8e0152\"],[0.1,\"#c51b7d\"],[0.2,\"#de77ae\"],[0.3,\"#f1b6da\"],[0.4,\"#fde0ef\"],[0.5,\"#f7f7f7\"],[0.6,\"#e6f5d0\"],[0.7,\"#b8e186\"],[0.8,\"#7fbc41\"],[0.9,\"#4d9221\"],[1,\"#276419\"]]},\"xaxis\":{\"gridcolor\":\"white\",\"linecolor\":\"white\",\"ticks\":\"\",\"title\":{\"standoff\":15},\"zerolinecolor\":\"white\",\"automargin\":true,\"zerolinewidth\":2},\"yaxis\":{\"gridcolor\":\"white\",\"linecolor\":\"white\",\"ticks\":\"\",\"title\":{\"standoff\":15},\"zerolinecolor\":\"white\",\"automargin\":true,\"zerolinewidth\":2},\"scene\":{\"xaxis\":{\"backgroundcolor\":\"#E5ECF6\",\"gridcolor\":\"white\",\"linecolor\":\"white\",\"showbackground\":true,\"ticks\":\"\",\"zerolinecolor\":\"white\",\"gridwidth\":2},\"yaxis\":{\"backgroundcolor\":\"#E5ECF6\",\"gridcolor\":\"white\",\"linecolor\":\"white\",\"showbackground\":true,\"ticks\":\"\",\"zerolinecolor\":\"white\",\"gridwidth\":2},\"zaxis\":{\"backgroundcolor\":\"#E5ECF6\",\"gridcolor\":\"white\",\"linecolor\":\"white\",\"showbackground\":true,\"ticks\":\"\",\"zerolinecolor\":\"white\",\"gridwidth\":2}},\"shapedefaults\":{\"line\":{\"color\":\"#2a3f5f\"}},\"annotationdefaults\":{\"arrowcolor\":\"#2a3f5f\",\"arrowhead\":0,\"arrowwidth\":1},\"geo\":{\"bgcolor\":\"white\",\"landcolor\":\"#E5ECF6\",\"subunitcolor\":\"white\",\"showland\":true,\"showlakes\":true,\"lakecolor\":\"white\"},\"title\":{\"x\":0.05},\"mapbox\":{\"style\":\"light\"}}},\"xaxis\":{\"anchor\":\"y\",\"domain\":[0.0,1.0],\"title\":{\"text\":\"Precipitation\"},\"range\":[0,161.8],\"constrain\":\"domain\"},\"yaxis\":{\"anchor\":\"x\",\"domain\":[0.0,1.0],\"title\":{\"text\":\"GPM_Precipitation\"},\"range\":[0,161.8],\"scaleanchor\":\"x\",\"scaleratio\":1},\"legend\":{\"tracegroupgap\":0},\"title\":{\"text\":\"Siahbisheh\"}},                        {\"responsive\": true}                    ).then(function(){\n",
       "                            \n",
       "var gd = document.getElementById('6537f02a-6e45-4d48-9a16-c8fed1e7e2ab');\n",
       "var x = new MutationObserver(function (mutations, observer) {{\n",
       "        var display = window.getComputedStyle(gd).display;\n",
       "        if (!display || display === 'none') {{\n",
       "            console.log([gd, 'removed!']);\n",
       "            Plotly.purge(gd);\n",
       "            observer.disconnect();\n",
       "        }}\n",
       "}});\n",
       "\n",
       "// Listen for the removal of the full notebook cells\n",
       "var notebookContainer = gd.closest('#notebook-container');\n",
       "if (notebookContainer) {{\n",
       "    x.observe(notebookContainer, {childList: true});\n",
       "}}\n",
       "\n",
       "// Listen for the clearing of the current output cell\n",
       "var outputEl = gd.closest('.output');\n",
       "if (outputEl) {{\n",
       "    x.observe(outputEl, {childList: true});\n",
       "}}\n",
       "\n",
       "                        })                };                });            </script>        </div>"
      ]
     },
     "metadata": {},
     "output_type": "display_data"
    }
   ],
   "source": [
    "import plotly.express as px\n",
    "\n",
    "for st in selected_stations:\n",
    "    station_data = data.query(\"Station_Name == @st\")[['Date', 'Precipitation', 'GPM_Precipitation']].dropna()\n",
    "    fig = px.scatter(station_data, x='Precipitation', y='GPM_Precipitation', title=st)\n",
    "    max_limit = max(station_data['Precipitation'].max(), station_data['GPM_Precipitation'].max())\n",
    "    fig.update_layout(xaxis=dict(range=[0, max_limit]), yaxis=dict(range=[0, max_limit]))\n",
    "    fig.update_yaxes(scaleanchor=\"x\", scaleratio=1)\n",
    "    fig.update_xaxes(constrain='domain')\n",
    "    fig.show()"
   ]
  },
  {
   "cell_type": "code",
   "execution_count": null,
   "metadata": {},
   "outputs": [],
   "source": []
  }
 ],
 "metadata": {
  "kernelspec": {
   "display_name": ".venv",
   "language": "python",
   "name": "python3"
  },
  "language_info": {
   "codemirror_mode": {
    "name": "ipython",
    "version": 3
   },
   "file_extension": ".py",
   "mimetype": "text/x-python",
   "name": "python",
   "nbconvert_exporter": "python",
   "pygments_lexer": "ipython3",
   "version": "3.12.7"
  }
 },
 "nbformat": 4,
 "nbformat_minor": 2
}
