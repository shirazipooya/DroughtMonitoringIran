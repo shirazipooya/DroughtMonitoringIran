{
 "cells": [
  {
   "cell_type": "markdown",
   "id": "466fb799",
   "metadata": {
    "notebookRunGroups": {
     "groupValue": "1"
    }
   },
   "source": [
    "# Import Libraries"
   ]
  },
  {
   "cell_type": "code",
   "execution_count": 1,
   "id": "c141a822",
   "metadata": {
    "notebookRunGroups": {
     "groupValue": "1"
    }
   },
   "outputs": [
    {
     "name": "stderr",
     "output_type": "stream",
     "text": [
      "/home/pooya/w/DroughtMonitoringIran/.venv/lib/python3.12/site-packages/tqdm/auto.py:21: TqdmWarning: IProgress not found. Please update jupyter and ipywidgets. See https://ipywidgets.readthedocs.io/en/stable/user_install.html\n",
      "  from .autonotebook import tqdm as notebook_tqdm\n"
     ]
    }
   ],
   "source": [
    "import sys\n",
    "import sqlite3\n",
    "import warnings\n",
    "\n",
    "import pandas as pd\n",
    "import numpy as np\n",
    "\n",
    "import optuna\n",
    "import matplotlib.pyplot as plt\n",
    "import seaborn as sns\n",
    "\n",
    "from sklearn.model_selection import train_test_split, StratifiedKFold\n",
    "from sklearn.preprocessing import StandardScaler, LabelEncoder\n",
    "from sklearn.ensemble import ExtraTreesClassifier\n",
    "from sklearn.metrics import accuracy_score, f1_score, cohen_kappa_score, classification_report, confusion_matrix\n",
    "from sklearn.feature_selection import RFECV\n",
    "\n",
    "\n",
    "warnings.filterwarnings('ignore')\n",
    "np.random.seed(42)"
   ]
  },
  {
   "cell_type": "markdown",
   "id": "27845aff",
   "metadata": {},
   "source": [
    "# Load Database"
   ]
  },
  {
   "cell_type": "code",
   "execution_count": 2,
   "id": "1361a6af",
   "metadata": {
    "notebookRunGroups": {
     "groupValue": "1"
    }
   },
   "outputs": [],
   "source": [
    "sys.path.append('/home/pooya/w/DroughtMonitoringIran/')\n",
    "\n",
    "DATABASE_PATH = \"./database/database.db\"\n",
    "\n",
    "conn = sqlite3.connect(DATABASE_PATH)\n",
    "\n",
    "data = pd.read_sql(sql='SELECT * FROM data', con=conn)\n",
    "\n",
    "conn.close()"
   ]
  },
  {
   "cell_type": "markdown",
   "id": "94899866",
   "metadata": {},
   "source": [
    "# Select Columns and Rows"
   ]
  },
  {
   "cell_type": "code",
   "execution_count": 3,
   "id": "c0de84b7",
   "metadata": {},
   "outputs": [],
   "source": [
    "# Select Drought Index and Period\n",
    "di = 'SPEI'\n",
    "di_scale = 6\n",
    "\n",
    "# Select Stations\n",
    "# selected_stations = ['Ramsar', 'Nowshahr', 'Siahbisheh', 'Kiyasar', 'Kojur', 'Baladeh', 'Alasht', 'Babolsar', 'Gharakhil', 'Sari', 'Sari (dasht-e-naz airport)', 'Galugah', 'Bandar-e-amirabad', 'Amol', 'Polsefid']\n",
    "selected_stations = ['Ramsar', 'Nowshahr']\n",
    "# selected_stations = ['Siahbisheh', 'Kiyasar', 'Kojur', 'Baladeh', 'Alasht']\n",
    "# selected_stations = ['Babolsar', 'Gharakhil', 'Sari', 'Sari (dasht-e-naz airport)', 'Galugah', 'Bandar-e-amirabad', 'Amol', 'Polsefid']\n",
    "\n",
    "# Select Columns\n",
    "selected_columns = [\n",
    "    'Station_Name', 'Station_ID',\n",
    "    'Station_Latitude', 'Station_Longitude', 'Station_Elevation',\n",
    "    'Date',\n",
    "    f'{di}_{di_scale}',\n",
    "    f'GPM_{di}_{di_scale}',\n",
    "    f'ERA5_{di}_{di_scale}',\n",
    "    'ERA5_Precipitation',\n",
    "    'GPM_Precipitation',\n",
    "    'TRMM_Precipitation',\n",
    "    'TERRACLIMATE_Precipitation',\n",
    "    'PERSIANNCDR_Precipitation',\n",
    "    'PET_MOD16A2GF',\n",
    "    'NDVI', 'EVI',\n",
    "    'LSTDay', 'LSTNight', 'LST',\n",
    "    'PCI_GPM', 'PCI_ERA5',\n",
    "    'VCI', 'TCI', 'VHI',\n",
    "    'CI_GPM', 'CI_ERA5',\n",
    "]\n",
    "\n",
    "# Select Start and End Date\n",
    "start_date = '2006-09'\n",
    "end_date = '2023-10'"
   ]
  },
  {
   "cell_type": "markdown",
   "id": "c773c79b",
   "metadata": {},
   "source": [
    "# Filter Data"
   ]
  },
  {
   "cell_type": "code",
   "execution_count": 4,
   "id": "ecf78173",
   "metadata": {},
   "outputs": [],
   "source": [
    "df = data\\\n",
    "    .filter(items=selected_columns)\\\n",
    "        .query(\"Station_Name in @selected_stations and Date >= @start_date and Date < @end_date\")"
   ]
  },
  {
   "cell_type": "markdown",
   "id": "ba7b1f34",
   "metadata": {},
   "source": [
    "# Add Some Columns"
   ]
  },
  {
   "cell_type": "code",
   "execution_count": 5,
   "id": "3303aafd",
   "metadata": {},
   "outputs": [],
   "source": [
    "# Date, Year, Month\n",
    "df['Date'] = pd.to_datetime(df['Date'], format='%Y-%m')\n",
    "df['Year'] = df['Date'].dt.year\n",
    "df['Month'] = df['Date'].dt.month\n",
    "\n",
    "# SPI and SPEI Class\n",
    "df[f'{di}_{di_scale}_Class'] = pd.cut(df[f'{di}_{di_scale}'], bins=[-10, -2, -1.5, -1, 1, 1.5, 2, 10], labels=['ED', 'SD', 'MD', 'NN', 'MW', 'VW', 'EW'])\n",
    "\n",
    "# Month Sin & Cos\n",
    "df['Month_sin'] = np.sin(2 * np.pi * df['Month'] / 12)\n",
    "df['Month_cos'] = np.cos(2 * np.pi * df['Month'] / 12)\n",
    "        \n",
    "# LST Diff\n",
    "df['LST_Diff'] = df['LSTDay'] - df['LSTNight']\n",
    "\n",
    "# Convert to Category\n",
    "df['Station_ID'] = df['Station_ID'].astype('category')\n",
    "df['Year'] = df['Year'].astype('category')\n",
    "df['Month'] = df['Month'].astype('category')\n",
    "df[f'{di}_{di_scale}_Class'] = df[f'{di}_{di_scale}_Class'].astype('category')"
   ]
  },
  {
   "cell_type": "code",
   "execution_count": 6,
   "id": "d4284e6f",
   "metadata": {},
   "outputs": [],
   "source": [
    "df.dropna(inplace=True)\n",
    "df.sort_values(by=['Station_ID', 'Year', 'Month'], inplace=True)\n",
    "df.reset_index(drop=True, inplace=True)"
   ]
  },
  {
   "cell_type": "code",
   "execution_count": 7,
   "id": "1e02915e",
   "metadata": {},
   "outputs": [],
   "source": [
    "selected_columns_lag_roll = [\n",
    "    'ERA5_Precipitation',\n",
    "    'GPM_Precipitation',\n",
    "    'TRMM_Precipitation',\n",
    "    'TERRACLIMATE_Precipitation',\n",
    "    'PERSIANNCDR_Precipitation',\n",
    "    f'GPM_{di}_{di_scale}',\n",
    "    f'ERA5_{di}_{di_scale}',\n",
    "    'PET_MOD16A2GF',\n",
    "    'NDVI', 'EVI',\n",
    "    'LSTDay', 'LSTNight', 'LST',\n",
    "    'PCI_GPM', 'PCI_ERA5',\n",
    "    'VCI', 'TCI', 'VHI',\n",
    "    'CI_GPM', 'CI_ERA5',\n",
    "]\n",
    "\n",
    "# Add Lag\n",
    "for lag in range(1, 4):\n",
    "    for col in selected_columns_lag_roll:\n",
    "        df[f'{col}_lag_{lag}'] = df.groupby('Station_ID', observed=False)[col].shift(lag)\n",
    "\n",
    "\n",
    "# Add Mean and Std Roll\n",
    "for r in [3]:\n",
    "    for col in selected_columns_lag_roll:\n",
    "        df[f'{col}_roll_mean_{r}'] = df.groupby('Station_ID', observed=False)[col].transform(lambda x: x.rolling(window=r, min_periods=1).mean())\n",
    "        df[f'{col}_roll_std_{r}'] = df.groupby('Station_ID', observed=False)[col].transform(lambda x: x.rolling(window=r, min_periods=1).std())"
   ]
  },
  {
   "cell_type": "markdown",
   "id": "6a11e19b",
   "metadata": {},
   "source": [
    "# Remove all NA"
   ]
  },
  {
   "cell_type": "code",
   "execution_count": 8,
   "id": "689557a4",
   "metadata": {},
   "outputs": [],
   "source": [
    "df.dropna(inplace=True)\n",
    "df.reset_index(drop=True, inplace=True)"
   ]
  },
  {
   "cell_type": "markdown",
   "id": "059b02cb",
   "metadata": {},
   "source": [
    "# Station-wise Standardization"
   ]
  },
  {
   "cell_type": "code",
   "execution_count": 9,
   "id": "00653016",
   "metadata": {},
   "outputs": [
    {
     "name": "stdout",
     "output_type": "stream",
     "text": [
      "Removing classes with fewer than 2 samples: ['EW']\n",
      "Data shape after removing rare classes: (303, 126)\n",
      "\n",
      "--- Final Class Distribution ---\n",
      "SPEI_6_Class\n",
      "NN    199\n",
      "MD     37\n",
      "MW     31\n",
      "SD     20\n",
      "VW     13\n",
      "ED      3\n",
      "EW      0\n",
      "Name: count, dtype: int64\n",
      "Target Classes: ['ED' 'MD' 'MW' 'NN' 'SD' 'VW']\n",
      "Training set shape: (212, 126)\n",
      "Testing set shape: (91, 126)\n"
     ]
    }
   ],
   "source": [
    "# Define columns to exclude from features\n",
    "EXCLUDE_COLS = ['Station_Name', 'Station_ID', 'Date', f'{di}_{di_scale}_Class', f'{di}_{di_scale}', 'Year', 'Month']\n",
    "FEATURES = [col for col in df.columns if col not in EXCLUDE_COLS]\n",
    "\n",
    "# Station-wise standardization\n",
    "df_scaled = df.copy()\n",
    "for station in df_scaled['Station_Name'].unique():\n",
    "    station_mask = df_scaled['Station_Name'] == station\n",
    "    scaler = StandardScaler()\n",
    "    df_scaled.loc[station_mask, FEATURES] = scaler.fit_transform(df_scaled.loc[station_mask, FEATURES])\n",
    "\n",
    "\n",
    "class_counts = df_scaled[f'{di}_{di_scale}_Class'].value_counts()\n",
    "classes_to_remove = class_counts[class_counts < 2].index\n",
    "\n",
    "if not classes_to_remove.empty:\n",
    "    print(f\"Removing classes with fewer than 2 samples: {classes_to_remove.tolist()}\")\n",
    "    \n",
    "    # Filter the dataframe to exclude these rare classes\n",
    "    df_filtered = df_scaled[~df_scaled[f'{di}_{di_scale}_Class'].isin(classes_to_remove)].copy()\n",
    "    \n",
    "    # Redefine X and y from the filtered dataframe\n",
    "    X = df_filtered[FEATURES]\n",
    "    y = df_filtered[f'{di}_{di_scale}_Class']\n",
    "    \n",
    "    print(f\"Data shape after removing rare classes: {X.shape}\")\n",
    "    print(\"\\n--- Final Class Distribution ---\")\n",
    "    print(y.value_counts())\n",
    "else:\n",
    "    print(\"No classes with fewer than 2 samples found.\")\n",
    "    X = df_scaled[FEATURES]\n",
    "    y = df_scaled[f'{di}_{di_scale}_Class']\n",
    "\n",
    "# Encode the target variable\n",
    "le = LabelEncoder()\n",
    "y_encoded = le.fit_transform(y)\n",
    "\n",
    "# Split data into training and testing sets\n",
    "X_train, X_test, y_train, y_test = train_test_split(\n",
    "    X,\n",
    "    y_encoded,\n",
    "    test_size=0.30,\n",
    "    random_state=42,\n",
    "    stratify=y_encoded\n",
    ")\n",
    "\n",
    "print(f\"Target Classes: {le.classes_}\")\n",
    "print(f\"Training set shape: {X_train.shape}\")\n",
    "print(f\"Testing set shape: {X_test.shape}\")"
   ]
  },
  {
   "cell_type": "markdown",
   "id": "b2c0534b",
   "metadata": {},
   "source": [
    "# Feature Selection with RFECV"
   ]
  },
  {
   "cell_type": "code",
   "execution_count": 10,
   "id": "395cf562",
   "metadata": {},
   "outputs": [
    {
     "name": "stdout",
     "output_type": "stream",
     "text": [
      "Optimal number of features found: 10\n",
      "Selected features: ['GPM_SPEI_6', 'ERA5_SPEI_6', 'GPM_Precipitation', 'TRMM_Precipitation', 'CI_ERA5_lag_1', 'GPM_SPEI_6_roll_mean_3', 'LSTDay_roll_std_3', 'PCI_ERA5_roll_mean_3', 'CI_ERA5_roll_mean_3', 'CI_ERA5_roll_std_3']\n"
     ]
    },
    {
     "data": {
      "image/png": "[encoded data removed]",
      "text/plain": [
       "<Figure size 1200x800 with 1 Axes>"
      ]
     },
     "metadata": {},
     "output_type": "display_data"
    }
   ],
   "source": [
    "# The estimator that will be used by RFECV\n",
    "estimator = ExtraTreesClassifier(\n",
    "    random_state=42,\n",
    "    n_jobs=-1\n",
    ")\n",
    "\n",
    "# The RFECV object\n",
    "rfecv = RFECV(\n",
    "    estimator=estimator,\n",
    "    step=1,\n",
    "    cv=StratifiedKFold(5),\n",
    "    scoring='f1_macro',\n",
    "    n_jobs=-1\n",
    ")\n",
    "\n",
    "# Fit RFECV on the training data\n",
    "rfecv.fit(X_train, y_train)\n",
    "\n",
    "print(f\"Optimal number of features found: {rfecv.n_features_}\")\n",
    "\n",
    "# Get the final selected features\n",
    "final_features = X_train.columns[rfecv.support_]\n",
    "print(f\"Selected features: {final_features.tolist()}\")\n",
    "\n",
    "# --- Plot Feature Importances ---\n",
    "# The `rfecv.estimator_` attribute is the model trained on the full set of features\n",
    "# during the last step of the cross-validation process. We can use its feature importances.\n",
    "importances = rfecv.estimator_.feature_importances_\n",
    "feature_importance_df = pd.DataFrame({\n",
    "    'Feature': final_features,\n",
    "    'Importance': importances\n",
    "}).sort_values(by='Importance', ascending=False)\n",
    "\n",
    "# Plot only the selected features\n",
    "selected_feature_importances = feature_importance_df[feature_importance_df['Feature'].isin(final_features)]\n",
    "\n",
    "plt.figure(figsize=(12, 8))\n",
    "sns.barplot(x='Importance', y='Feature', data=selected_feature_importances)\n",
    "plt.title('Feature Importances for Selected Features (from RFECV)')\n",
    "plt.xlabel('Importance')\n",
    "plt.ylabel('Feature')\n",
    "plt.tight_layout()\n",
    "plt.show()\n",
    "\n",
    "\n",
    "# Update training and testing sets with selected features\n",
    "X_train_final = X_train[final_features]\n",
    "X_test_final = X_test[final_features]"
   ]
  },
  {
   "cell_type": "markdown",
   "id": "948efbdd",
   "metadata": {},
   "source": [
    "# Hyperparameter Tuning with Optuna"
   ]
  },
  {
   "cell_type": "code",
   "execution_count": 11,
   "id": "95b28a9a",
   "metadata": {},
   "outputs": [
    {
     "name": "stderr",
     "output_type": "stream",
     "text": [
      "[I 2025-08-22 14:47:04,922] A new study created in memory with name: no-name-65dd2975-9f59-48c4-9986-515eae42daf5\n",
      "[I 2025-08-22 14:47:05,474] Trial 0 finished with value: 0.2621779354948235 and parameters: {'n_estimators': 72, 'max_depth': 15, 'min_samples_split': 10, 'min_samples_leaf': 2, 'max_features': 0.7612341404696945, 'criterion': 'entropy'}. Best is trial 0 with value: 0.2621779354948235.\n",
      "[I 2025-08-22 14:47:07,356] Trial 1 finished with value: 0.14788650745050008 and parameters: {'n_estimators': 340, 'max_depth': 45, 'min_samples_split': 10, 'min_samples_leaf': 20, 'max_features': 0.26455447048218883, 'criterion': 'entropy'}. Best is trial 0 with value: 0.2621779354948235.\n",
      "[I 2025-08-22 14:47:08,549] Trial 2 finished with value: 0.14788650745050008 and parameters: {'n_estimators': 203, 'max_depth': 45, 'min_samples_split': 13, 'min_samples_leaf': 14, 'max_features': 0.35709586897493517, 'criterion': 'gini'}. Best is trial 0 with value: 0.2621779354948235.\n",
      "[I 2025-08-22 14:47:11,071] Trial 3 finished with value: 0.14788650745050008 and parameters: {'n_estimators': 465, 'max_depth': 44, 'min_samples_split': 15, 'min_samples_leaf': 6, 'max_features': 0.17879623084589014, 'criterion': 'gini'}. Best is trial 0 with value: 0.2621779354948235.\n",
      "[I 2025-08-22 14:47:12,673] Trial 4 finished with value: 0.23561219336219338 and parameters: {'n_estimators': 285, 'max_depth': 13, 'min_samples_split': 6, 'min_samples_leaf': 5, 'max_features': 0.7129488286473421, 'criterion': 'gini'}. Best is trial 0 with value: 0.2621779354948235.\n",
      "[I 2025-08-22 14:47:14,601] Trial 5 finished with value: 0.2703215875676367 and parameters: {'n_estimators': 342, 'max_depth': 38, 'min_samples_split': 18, 'min_samples_leaf': 1, 'max_features': 0.7564326980575818, 'criterion': 'gini'}. Best is trial 5 with value: 0.2703215875676367.\n",
      "[I 2025-08-22 14:47:18,563] Trial 6 finished with value: 0.14835027556644212 and parameters: {'n_estimators': 172, 'max_depth': 6, 'min_samples_split': 13, 'min_samples_leaf': 6, 'max_features': 0.2127046000461744, 'criterion': 'gini'}. Best is trial 5 with value: 0.2703215875676367.\n",
      "[I 2025-08-22 14:47:20,443] Trial 7 finished with value: 0.20777229793063667 and parameters: {'n_estimators': 340, 'max_depth': 48, 'min_samples_split': 10, 'min_samples_leaf': 7, 'max_features': 0.41624308514730646, 'criterion': 'entropy'}. Best is trial 5 with value: 0.2703215875676367.\n",
      "[I 2025-08-22 14:47:22,681] Trial 8 finished with value: 0.23198280791875478 and parameters: {'n_estimators': 399, 'max_depth': 18, 'min_samples_split': 7, 'min_samples_leaf': 4, 'max_features': 0.33190963265201, 'criterion': 'gini'}. Best is trial 5 with value: 0.2703215875676367.\n",
      "[I 2025-08-22 14:47:23,955] Trial 9 finished with value: 0.15842679523886974 and parameters: {'n_estimators': 225, 'max_depth': 30, 'min_samples_split': 8, 'min_samples_leaf': 13, 'max_features': 0.8788210285817641, 'criterion': 'gini'}. Best is trial 5 with value: 0.2703215875676367.\n",
      "[I 2025-08-22 14:47:26,302] Trial 10 finished with value: 0.24475936412753607 and parameters: {'n_estimators': 425, 'max_depth': 31, 'min_samples_split': 19, 'min_samples_leaf': 10, 'max_features': 0.9765163952004139, 'criterion': 'entropy'}. Best is trial 5 with value: 0.2703215875676367.\n",
      "[I 2025-08-22 14:47:26,879] Trial 11 finished with value: 0.26891022502088074 and parameters: {'n_estimators': 83, 'max_depth': 22, 'min_samples_split': 2, 'min_samples_leaf': 1, 'max_features': 0.6951374981069303, 'criterion': 'entropy'}. Best is trial 5 with value: 0.2703215875676367.\n",
      "[I 2025-08-22 14:47:27,362] Trial 12 finished with value: 0.2767703871584469 and parameters: {'n_estimators': 69, 'max_depth': 34, 'min_samples_split': 3, 'min_samples_leaf': 1, 'max_features': 0.5877610965140785, 'criterion': 'entropy'}. Best is trial 12 with value: 0.2767703871584469.\n",
      "[I 2025-08-22 14:47:28,169] Trial 13 finished with value: 0.2553800592150022 and parameters: {'n_estimators': 130, 'max_depth': 36, 'min_samples_split': 20, 'min_samples_leaf': 1, 'max_features': 0.5272988073088054, 'criterion': 'entropy'}. Best is trial 12 with value: 0.2767703871584469.\n",
      "[I 2025-08-22 14:47:29,773] Trial 14 finished with value: 0.2069226109883803 and parameters: {'n_estimators': 286, 'max_depth': 36, 'min_samples_split': 3, 'min_samples_leaf': 9, 'max_features': 0.5809343816017006, 'criterion': 'gini'}. Best is trial 12 with value: 0.2767703871584469.\n",
      "[I 2025-08-22 14:47:31,817] Trial 15 finished with value: 0.2536340274689704 and parameters: {'n_estimators': 363, 'max_depth': 37, 'min_samples_split': 16, 'min_samples_leaf': 3, 'max_features': 0.5840787476886409, 'criterion': 'entropy'}. Best is trial 12 with value: 0.2767703871584469.\n",
      "[I 2025-08-22 14:47:33,222] Trial 16 finished with value: 0.14788650745050008 and parameters: {'n_estimators': 243, 'max_depth': 25, 'min_samples_split': 17, 'min_samples_leaf': 20, 'max_features': 0.8464799615612104, 'criterion': 'entropy'}. Best is trial 12 with value: 0.2767703871584469.\n",
      "[I 2025-08-22 14:47:34,027] Trial 17 finished with value: 0.14788650745050008 and parameters: {'n_estimators': 132, 'max_depth': 40, 'min_samples_split': 5, 'min_samples_leaf': 13, 'max_features': 0.4798728875247746, 'criterion': 'gini'}. Best is trial 12 with value: 0.2767703871584469.\n",
      "[I 2025-08-22 14:47:36,688] Trial 18 finished with value: 0.14788650745050008 and parameters: {'n_estimators': 483, 'max_depth': 31, 'min_samples_split': 13, 'min_samples_leaf': 16, 'max_features': 0.6257327745748327, 'criterion': 'gini'}. Best is trial 12 with value: 0.2767703871584469.\n",
      "[I 2025-08-22 14:47:38,469] Trial 19 finished with value: 0.24475936412753607 and parameters: {'n_estimators': 316, 'max_depth': 50, 'min_samples_split': 18, 'min_samples_leaf': 8, 'max_features': 0.8139659318229425, 'criterion': 'entropy'}. Best is trial 12 with value: 0.2767703871584469.\n",
      "[I 2025-08-22 14:47:40,677] Trial 20 finished with value: 0.248627491521258 and parameters: {'n_estimators': 400, 'max_depth': 26, 'min_samples_split': 4, 'min_samples_leaf': 3, 'max_features': 0.9798815914137344, 'criterion': 'entropy'}. Best is trial 12 with value: 0.2767703871584469.\n",
      "[I 2025-08-22 14:47:41,082] Trial 21 finished with value: 0.3187132638183759 and parameters: {'n_estimators': 50, 'max_depth': 22, 'min_samples_split': 2, 'min_samples_leaf': 1, 'max_features': 0.685687861321544, 'criterion': 'entropy'}. Best is trial 21 with value: 0.3187132638183759.\n",
      "[I 2025-08-22 14:47:41,490] Trial 22 finished with value: 0.3080783431834552 and parameters: {'n_estimators': 53, 'max_depth': 21, 'min_samples_split': 2, 'min_samples_leaf': 1, 'max_features': 0.6541779280836627, 'criterion': 'entropy'}. Best is trial 21 with value: 0.3187132638183759.\n",
      "[I 2025-08-22 14:47:41,916] Trial 23 finished with value: 0.2274435512784942 and parameters: {'n_estimators': 57, 'max_depth': 20, 'min_samples_split': 2, 'min_samples_leaf': 4, 'max_features': 0.649992263435578, 'criterion': 'entropy'}. Best is trial 21 with value: 0.3187132638183759.\n",
      "[I 2025-08-22 14:47:42,644] Trial 24 finished with value: 0.22802886002886003 and parameters: {'n_estimators': 114, 'max_depth': 11, 'min_samples_split': 4, 'min_samples_leaf': 3, 'max_features': 0.48309416530035243, 'criterion': 'entropy'}. Best is trial 21 with value: 0.3187132638183759.\n",
      "[I 2025-08-22 14:47:43,687] Trial 25 finished with value: 0.2254746283859541 and parameters: {'n_estimators': 167, 'max_depth': 23, 'min_samples_split': 2, 'min_samples_leaf': 1, 'max_features': 0.10561342666156626, 'criterion': 'entropy'}. Best is trial 21 with value: 0.3187132638183759.\n",
      "[I 2025-08-22 14:47:44,327] Trial 26 finished with value: 0.2403975361288794 and parameters: {'n_estimators': 95, 'max_depth': 28, 'min_samples_split': 8, 'min_samples_leaf': 5, 'max_features': 0.6620771926091189, 'criterion': 'entropy'}. Best is trial 21 with value: 0.3187132638183759.\n",
      "[I 2025-08-22 14:47:44,745] Trial 27 finished with value: 0.2627770138358373 and parameters: {'n_estimators': 57, 'max_depth': 16, 'min_samples_split': 5, 'min_samples_leaf': 3, 'max_features': 0.5295940821761577, 'criterion': 'entropy'}. Best is trial 21 with value: 0.3187132638183759.\n",
      "[I 2025-08-22 14:47:45,662] Trial 28 finished with value: 0.24475936412753607 and parameters: {'n_estimators': 153, 'max_depth': 34, 'min_samples_split': 4, 'min_samples_leaf': 7, 'max_features': 0.7670768483692414, 'criterion': 'entropy'}. Best is trial 21 with value: 0.3187132638183759.\n",
      "[I 2025-08-22 14:47:46,294] Trial 29 finished with value: 0.23942383923266278 and parameters: {'n_estimators': 88, 'max_depth': 9, 'min_samples_split': 6, 'min_samples_leaf': 2, 'max_features': 0.42916596260767204, 'criterion': 'entropy'}. Best is trial 21 with value: 0.3187132638183759.\n",
      "[I 2025-08-22 14:47:46,714] Trial 30 finished with value: 0.2578559612912439 and parameters: {'n_estimators': 55, 'max_depth': 19, 'min_samples_split': 3, 'min_samples_leaf': 2, 'max_features': 0.9042930503734635, 'criterion': 'entropy'}. Best is trial 21 with value: 0.3187132638183759.\n",
      "[I 2025-08-22 14:47:47,412] Trial 31 finished with value: 0.2824184704184704 and parameters: {'n_estimators': 104, 'max_depth': 39, 'min_samples_split': 3, 'min_samples_leaf': 1, 'max_features': 0.799607723007729, 'criterion': 'entropy'}. Best is trial 21 with value: 0.3187132638183759.\n",
      "[I 2025-08-22 14:47:48,109] Trial 32 finished with value: 0.2824184704184704 and parameters: {'n_estimators': 106, 'max_depth': 42, 'min_samples_split': 3, 'min_samples_leaf': 1, 'max_features': 0.7534019677486339, 'criterion': 'entropy'}. Best is trial 21 with value: 0.3187132638183759.\n",
      "[I 2025-08-22 14:47:48,805] Trial 33 finished with value: 0.14788650745050008 and parameters: {'n_estimators': 107, 'max_depth': 42, 'min_samples_split': 2, 'min_samples_leaf': 18, 'max_features': 0.7862241184683192, 'criterion': 'entropy'}. Best is trial 21 with value: 0.3187132638183759.\n",
      "[I 2025-08-22 14:47:49,948] Trial 34 finished with value: 0.2534693362193362 and parameters: {'n_estimators': 189, 'max_depth': 41, 'min_samples_split': 5, 'min_samples_leaf': 5, 'max_features': 0.7238572292510126, 'criterion': 'entropy'}. Best is trial 21 with value: 0.3187132638183759.\n",
      "[I 2025-08-22 14:47:53,491] Trial 35 finished with value: 0.24988495627872273 and parameters: {'n_estimators': 139, 'max_depth': 45, 'min_samples_split': 8, 'min_samples_leaf': 2, 'max_features': 0.9058330847279813, 'criterion': 'entropy'}. Best is trial 21 with value: 0.3187132638183759.\n",
      "[I 2025-08-22 14:47:54,135] Trial 36 finished with value: 0.25228098208980565 and parameters: {'n_estimators': 95, 'max_depth': 15, 'min_samples_split': 6, 'min_samples_leaf': 4, 'max_features': 0.7079645527389988, 'criterion': 'entropy'}. Best is trial 21 with value: 0.3187132638183759.\n",
      "[I 2025-08-22 14:47:54,888] Trial 37 finished with value: 0.27724768421542617 and parameters: {'n_estimators': 115, 'max_depth': 47, 'min_samples_split': 3, 'min_samples_leaf': 2, 'max_features': 0.8268921313374245, 'criterion': 'entropy'}. Best is trial 21 with value: 0.3187132638183759.\n",
      "[I 2025-08-22 14:47:56,134] Trial 38 finished with value: 0.24403209140026333 and parameters: {'n_estimators': 214, 'max_depth': 23, 'min_samples_split': 4, 'min_samples_leaf': 6, 'max_features': 0.7524894147265111, 'criterion': 'entropy'}. Best is trial 21 with value: 0.3187132638183759.\n",
      "[I 2025-08-22 14:47:56,724] Trial 39 finished with value: 0.2530309820898056 and parameters: {'n_estimators': 81, 'max_depth': 27, 'min_samples_split': 11, 'min_samples_leaf': 4, 'max_features': 0.6371034350905352, 'criterion': 'entropy'}. Best is trial 21 with value: 0.3187132638183759.\n",
      "[I 2025-08-22 14:47:58,178] Trial 40 finished with value: 0.23861463246537876 and parameters: {'n_estimators': 247, 'max_depth': 43, 'min_samples_split': 9, 'min_samples_leaf': 1, 'max_features': 0.8584451450750666, 'criterion': 'entropy'}. Best is trial 21 with value: 0.3187132638183759.\n",
      "[I 2025-08-22 14:47:58,935] Trial 41 finished with value: 0.27724768421542617 and parameters: {'n_estimators': 117, 'max_depth': 47, 'min_samples_split': 3, 'min_samples_leaf': 2, 'max_features': 0.8177503142020663, 'criterion': 'entropy'}. Best is trial 21 with value: 0.3187132638183759.\n",
      "[I 2025-08-22 14:47:59,328] Trial 42 finished with value: 0.27235985872051444 and parameters: {'n_estimators': 51, 'max_depth': 47, 'min_samples_split': 2, 'min_samples_leaf': 2, 'max_features': 0.9422600966277987, 'criterion': 'entropy'}. Best is trial 21 with value: 0.3187132638183759.\n",
      "[I 2025-08-22 14:48:00,485] Trial 43 finished with value: 0.23991987097869455 and parameters: {'n_estimators': 187, 'max_depth': 50, 'min_samples_split': 5, 'min_samples_leaf': 3, 'max_features': 0.8057980064766624, 'criterion': 'entropy'}. Best is trial 21 with value: 0.3187132638183759.\n",
      "[I 2025-08-22 14:48:01,415] Trial 44 finished with value: 0.24790469199669102 and parameters: {'n_estimators': 153, 'max_depth': 44, 'min_samples_split': 3, 'min_samples_leaf': 1, 'max_features': 0.6881852224748068, 'criterion': 'entropy'}. Best is trial 21 with value: 0.3187132638183759.\n",
      "[I 2025-08-22 14:48:01,990] Trial 45 finished with value: 0.2536340274689704 and parameters: {'n_estimators': 80, 'max_depth': 46, 'min_samples_split': 7, 'min_samples_leaf': 5, 'max_features': 0.7375395394611723, 'criterion': 'entropy'}. Best is trial 21 with value: 0.3187132638183759.\n",
      "[I 2025-08-22 14:48:02,793] Trial 46 finished with value: 0.2793459873459873 and parameters: {'n_estimators': 127, 'max_depth': 21, 'min_samples_split': 4, 'min_samples_leaf': 1, 'max_features': 0.8417637776665056, 'criterion': 'entropy'}. Best is trial 21 with value: 0.3187132638183759.\n",
      "[I 2025-08-22 14:48:03,310] Trial 47 finished with value: 0.16785856371534122 and parameters: {'n_estimators': 73, 'max_depth': 17, 'min_samples_split': 4, 'min_samples_leaf': 11, 'max_features': 0.8858681457216004, 'criterion': 'gini'}. Best is trial 21 with value: 0.3187132638183759.\n",
      "[I 2025-08-22 14:48:04,182] Trial 48 finished with value: 0.25228098208980565 and parameters: {'n_estimators': 143, 'max_depth': 21, 'min_samples_split': 14, 'min_samples_leaf': 1, 'max_features': 0.6802531913213541, 'criterion': 'entropy'}. Best is trial 21 with value: 0.3187132638183759.\n",
      "[I 2025-08-22 14:48:04,868] Trial 49 finished with value: 0.2536340274689704 and parameters: {'n_estimators': 105, 'max_depth': 13, 'min_samples_split': 2, 'min_samples_leaf': 4, 'max_features': 0.6214261516353757, 'criterion': 'entropy'}. Best is trial 21 with value: 0.3187132638183759.\n",
      "[I 2025-08-22 14:48:05,957] Trial 50 finished with value: 0.2783461911223105 and parameters: {'n_estimators': 176, 'max_depth': 39, 'min_samples_split': 6, 'min_samples_leaf': 3, 'max_features': 0.9409199766656622, 'criterion': 'gini'}. Best is trial 21 with value: 0.3187132638183759.\n",
      "[I 2025-08-22 14:48:06,744] Trial 51 finished with value: 0.33280533925387246 and parameters: {'n_estimators': 125, 'max_depth': 39, 'min_samples_split': 3, 'min_samples_leaf': 1, 'max_features': 0.944065317234003, 'criterion': 'gini'}. Best is trial 51 with value: 0.33280533925387246.\n",
      "[I 2025-08-22 14:48:07,541] Trial 52 finished with value: 0.33280533925387246 and parameters: {'n_estimators': 126, 'max_depth': 24, 'min_samples_split': 3, 'min_samples_leaf': 1, 'max_features': 0.945703019121001, 'criterion': 'gini'}. Best is trial 51 with value: 0.33280533925387246.\n",
      "[I 2025-08-22 14:48:08,028] Trial 53 finished with value: 0.27155807003941335 and parameters: {'n_estimators': 72, 'max_depth': 34, 'min_samples_split': 3, 'min_samples_leaf': 2, 'max_features': 0.9249687482622567, 'criterion': 'gini'}. Best is trial 51 with value: 0.33280533925387246.\n",
      "[I 2025-08-22 14:48:08,636] Trial 54 finished with value: 0.30306039057599077 and parameters: {'n_estimators': 89, 'max_depth': 24, 'min_samples_split': 2, 'min_samples_leaf': 1, 'max_features': 0.9688389632108059, 'criterion': 'gini'}. Best is trial 51 with value: 0.33280533925387246.\n",
      "[I 2025-08-22 14:48:09,124] Trial 55 finished with value: 0.2783461911223105 and parameters: {'n_estimators': 68, 'max_depth': 25, 'min_samples_split': 2, 'min_samples_leaf': 3, 'max_features': 0.9709067276276662, 'criterion': 'gini'}. Best is trial 51 with value: 0.33280533925387246.\n",
      "[I 2025-08-22 14:48:10,085] Trial 56 finished with value: 0.2649632459044224 and parameters: {'n_estimators': 159, 'max_depth': 29, 'min_samples_split': 11, 'min_samples_leaf': 2, 'max_features': 0.9985571160759077, 'criterion': 'gini'}. Best is trial 51 with value: 0.33280533925387246.\n",
      "[I 2025-08-22 14:48:10,748] Trial 57 finished with value: 0.2421651685549842 and parameters: {'n_estimators': 93, 'max_depth': 24, 'min_samples_split': 5, 'min_samples_leaf': 6, 'max_features': 0.8712388924009733, 'criterion': 'gini'}. Best is trial 51 with value: 0.33280533925387246.\n",
      "[I 2025-08-22 14:48:11,578] Trial 58 finished with value: 0.20626837612515364 and parameters: {'n_estimators': 132, 'max_depth': 18, 'min_samples_split': 2, 'min_samples_leaf': 11, 'max_features': 0.9552144650583082, 'criterion': 'gini'}. Best is trial 51 with value: 0.33280533925387246.\n",
      "[I 2025-08-22 14:48:12,058] Trial 59 finished with value: 0.14835027556644212 and parameters: {'n_estimators': 67, 'max_depth': 32, 'min_samples_split': 7, 'min_samples_leaf': 15, 'max_features': 0.9956275413983368, 'criterion': 'gini'}. Best is trial 51 with value: 0.33280533925387246.\n",
      "[I 2025-08-22 14:48:14,532] Trial 60 finished with value: 0.29035894660894657 and parameters: {'n_estimators': 443, 'max_depth': 27, 'min_samples_split': 4, 'min_samples_leaf': 1, 'max_features': 0.9007642053702091, 'criterion': 'gini'}. Best is trial 51 with value: 0.33280533925387246.\n",
      "[I 2025-08-22 14:48:17,059] Trial 61 finished with value: 0.29799891774891774 and parameters: {'n_estimators': 450, 'max_depth': 27, 'min_samples_split': 3, 'min_samples_leaf': 1, 'max_features': 0.9102947768623308, 'criterion': 'gini'}. Best is trial 51 with value: 0.33280533925387246.\n",
      "[I 2025-08-22 14:48:19,595] Trial 62 finished with value: 0.29035894660894657 and parameters: {'n_estimators': 448, 'max_depth': 26, 'min_samples_split': 4, 'min_samples_leaf': 1, 'max_features': 0.9135567273664379, 'criterion': 'gini'}. Best is trial 51 with value: 0.33280533925387246.\n",
      "[I 2025-08-22 14:48:22,079] Trial 63 finished with value: 0.2637870981477539 and parameters: {'n_estimators': 435, 'max_depth': 28, 'min_samples_split': 2, 'min_samples_leaf': 2, 'max_features': 0.8823949888142519, 'criterion': 'gini'}. Best is trial 51 with value: 0.33280533925387246.\n",
      "[I 2025-08-22 14:48:24,867] Trial 64 finished with value: 0.2656869003594201 and parameters: {'n_estimators': 489, 'max_depth': 31, 'min_samples_split': 3, 'min_samples_leaf': 4, 'max_features': 0.961290692053362, 'criterion': 'gini'}. Best is trial 51 with value: 0.33280533925387246.\n",
      "[I 2025-08-22 14:48:30,062] Trial 65 finished with value: 0.26437793715405655 and parameters: {'n_estimators': 396, 'max_depth': 22, 'min_samples_split': 2, 'min_samples_leaf': 3, 'max_features': 0.9122747649851103, 'criterion': 'gini'}. Best is trial 51 with value: 0.33280533925387246.\n",
      "[I 2025-08-22 14:48:32,220] Trial 66 finished with value: 0.2563939710664908 and parameters: {'n_estimators': 377, 'max_depth': 26, 'min_samples_split': 5, 'min_samples_leaf': 1, 'max_features': 0.30101531302867357, 'criterion': 'gini'}. Best is trial 51 with value: 0.33280533925387246.\n",
      "[I 2025-08-22 14:48:34,813] Trial 67 finished with value: 0.26437793715405655 and parameters: {'n_estimators': 470, 'max_depth': 20, 'min_samples_split': 4, 'min_samples_leaf': 3, 'max_features': 0.9439129958280721, 'criterion': 'gini'}. Best is trial 51 with value: 0.33280533925387246.\n",
      "[I 2025-08-22 14:48:36,581] Trial 68 finished with value: 0.26451437087502666 and parameters: {'n_estimators': 303, 'max_depth': 24, 'min_samples_split': 3, 'min_samples_leaf': 2, 'max_features': 0.8561319689242303, 'criterion': 'gini'}. Best is trial 51 with value: 0.33280533925387246.\n",
      "[I 2025-08-22 14:48:38,874] Trial 69 finished with value: 0.2775679013117627 and parameters: {'n_estimators': 412, 'max_depth': 29, 'min_samples_split': 4, 'min_samples_leaf': 1, 'max_features': 0.5535432510118239, 'criterion': 'gini'}. Best is trial 51 with value: 0.33280533925387246.\n",
      "[I 2025-08-22 14:48:41,362] Trial 70 finished with value: 0.25277701383583734 and parameters: {'n_estimators': 455, 'max_depth': 32, 'min_samples_split': 2, 'min_samples_leaf': 3, 'max_features': 0.6090904305119605, 'criterion': 'gini'}. Best is trial 51 with value: 0.33280533925387246.\n",
      "[I 2025-08-22 14:48:43,824] Trial 71 finished with value: 0.29035894660894657 and parameters: {'n_estimators': 447, 'max_depth': 26, 'min_samples_split': 4, 'min_samples_leaf': 1, 'max_features': 0.9178659907477328, 'criterion': 'gini'}. Best is trial 51 with value: 0.33280533925387246.\n",
      "[I 2025-08-22 14:48:46,236] Trial 72 finished with value: 0.28614604475670047 and parameters: {'n_estimators': 422, 'max_depth': 24, 'min_samples_split': 3, 'min_samples_leaf': 1, 'max_features': 0.8837020724700178, 'criterion': 'gini'}. Best is trial 51 with value: 0.33280533925387246.\n",
      "[I 2025-08-22 14:48:48,875] Trial 73 finished with value: 0.2650178673785232 and parameters: {'n_estimators': 478, 'max_depth': 27, 'min_samples_split': 5, 'min_samples_leaf': 2, 'max_features': 0.9764627805122851, 'criterion': 'gini'}. Best is trial 51 with value: 0.33280533925387246.\n",
      "[I 2025-08-22 14:48:50,879] Trial 74 finished with value: 0.29465457354134866 and parameters: {'n_estimators': 361, 'max_depth': 22, 'min_samples_split': 4, 'min_samples_leaf': 1, 'max_features': 0.7790622637970995, 'criterion': 'gini'}. Best is trial 51 with value: 0.33280533925387246.\n",
      "[I 2025-08-22 14:48:52,896] Trial 75 finished with value: 0.27965515432767407 and parameters: {'n_estimators': 363, 'max_depth': 22, 'min_samples_split': 6, 'min_samples_leaf': 2, 'max_features': 0.6547971599700604, 'criterion': 'gini'}. Best is trial 51 with value: 0.33280533925387246.\n",
      "[I 2025-08-22 14:48:55,628] Trial 76 finished with value: 0.26451437087502666 and parameters: {'n_estimators': 496, 'max_depth': 19, 'min_samples_split': 2, 'min_samples_leaf': 2, 'max_features': 0.8276320381753574, 'criterion': 'gini'}. Best is trial 51 with value: 0.33280533925387246.\n",
      "[I 2025-08-22 14:48:57,440] Trial 77 finished with value: 0.22658653764536116 and parameters: {'n_estimators': 320, 'max_depth': 21, 'min_samples_split': 3, 'min_samples_leaf': 4, 'max_features': 0.7890753526277112, 'criterion': 'gini'}. Best is trial 51 with value: 0.33280533925387246.\n",
      "[I 2025-08-22 14:48:58,932] Trial 78 finished with value: 0.19168467127279204 and parameters: {'n_estimators': 252, 'max_depth': 23, 'min_samples_split': 12, 'min_samples_leaf': 9, 'max_features': 0.7718703239315597, 'criterion': 'gini'}. Best is trial 51 with value: 0.33280533925387246.\n",
      "[I 2025-08-22 14:49:00,541] Trial 79 finished with value: 0.14788650745050008 and parameters: {'n_estimators': 267, 'max_depth': 29, 'min_samples_split': 5, 'min_samples_leaf': 19, 'max_features': 0.8888131978439804, 'criterion': 'gini'}. Best is trial 51 with value: 0.33280533925387246.\n",
      "[I 2025-08-22 14:49:05,452] Trial 80 finished with value: 0.24163940250750765 and parameters: {'n_estimators': 346, 'max_depth': 25, 'min_samples_split': 4, 'min_samples_leaf': 5, 'max_features': 0.9322473945796598, 'criterion': 'gini'}. Best is trial 51 with value: 0.33280533925387246.\n",
      "[I 2025-08-22 14:49:07,878] Trial 81 finished with value: 0.29035894660894657 and parameters: {'n_estimators': 438, 'max_depth': 27, 'min_samples_split': 4, 'min_samples_leaf': 1, 'max_features': 0.9001855832508306, 'criterion': 'gini'}. Best is trial 51 with value: 0.33280533925387246.\n",
      "[I 2025-08-22 14:49:10,401] Trial 82 finished with value: 0.28614604475670047 and parameters: {'n_estimators': 455, 'max_depth': 23, 'min_samples_split': 3, 'min_samples_leaf': 1, 'max_features': 0.835086562746727, 'criterion': 'gini'}. Best is trial 51 with value: 0.33280533925387246.\n",
      "[I 2025-08-22 14:49:12,549] Trial 83 finished with value: 0.2718991616487516 and parameters: {'n_estimators': 384, 'max_depth': 19, 'min_samples_split': 2, 'min_samples_leaf': 1, 'max_features': 0.8568015701862328, 'criterion': 'gini'}. Best is trial 51 with value: 0.33280533925387246.\n",
      "[I 2025-08-22 14:49:14,824] Trial 84 finished with value: 0.23919994121574456 and parameters: {'n_estimators': 414, 'max_depth': 25, 'min_samples_split': 3, 'min_samples_leaf': 3, 'max_features': 0.7223044182912176, 'criterion': 'gini'}. Best is trial 51 with value: 0.33280533925387246.\n",
      "[I 2025-08-22 14:49:17,391] Trial 85 finished with value: 0.29035894660894657 and parameters: {'n_estimators': 466, 'max_depth': 17, 'min_samples_split': 4, 'min_samples_leaf': 1, 'max_features': 0.9556408606410519, 'criterion': 'gini'}. Best is trial 51 with value: 0.33280533925387246.\n",
      "[I 2025-08-22 14:49:17,805] Trial 86 finished with value: 0.2862238744590102 and parameters: {'n_estimators': 51, 'max_depth': 22, 'min_samples_split': 6, 'min_samples_leaf': 2, 'max_features': 0.9234782065710555, 'criterion': 'gini'}. Best is trial 51 with value: 0.33280533925387246.\n",
      "[I 2025-08-22 14:49:18,413] Trial 87 finished with value: 0.3067012987012987 and parameters: {'n_estimators': 83, 'max_depth': 30, 'min_samples_split': 2, 'min_samples_leaf': 2, 'max_features': 0.9729035554332249, 'criterion': 'gini'}. Best is trial 51 with value: 0.33280533925387246.\n",
      "[I 2025-08-22 14:49:18,998] Trial 88 finished with value: 0.3067012987012987 and parameters: {'n_estimators': 84, 'max_depth': 35, 'min_samples_split': 2, 'min_samples_leaf': 2, 'max_features': 0.9912548252508449, 'criterion': 'gini'}. Best is trial 51 with value: 0.33280533925387246.\n",
      "[I 2025-08-22 14:49:19,574] Trial 89 finished with value: 0.2775679013117627 and parameters: {'n_estimators': 83, 'max_depth': 35, 'min_samples_split': 2, 'min_samples_leaf': 3, 'max_features': 0.9949817317006218, 'criterion': 'gini'}. Best is trial 51 with value: 0.33280533925387246.\n",
      "[I 2025-08-22 14:49:20,086] Trial 90 finished with value: 0.29668145743145746 and parameters: {'n_estimators': 65, 'max_depth': 37, 'min_samples_split': 2, 'min_samples_leaf': 2, 'max_features': 0.9771472762666474, 'criterion': 'gini'}. Best is trial 51 with value: 0.33280533925387246.\n",
      "[I 2025-08-22 14:49:20,572] Trial 91 finished with value: 0.27382431457431455 and parameters: {'n_estimators': 62, 'max_depth': 38, 'min_samples_split': 2, 'min_samples_leaf': 2, 'max_features': 0.9799708744954406, 'criterion': 'gini'}. Best is trial 51 with value: 0.33280533925387246.\n",
      "[I 2025-08-22 14:49:21,298] Trial 92 finished with value: 0.2927597402597403 and parameters: {'n_estimators': 97, 'max_depth': 37, 'min_samples_split': 2, 'min_samples_leaf': 2, 'max_features': 0.9651227298597685, 'criterion': 'gini'}. Best is trial 51 with value: 0.33280533925387246.\n",
      "[I 2025-08-22 14:49:22,070] Trial 93 finished with value: 0.15904943959285736 and parameters: {'n_estimators': 119, 'max_depth': 33, 'min_samples_split': 3, 'min_samples_leaf': 13, 'max_features': 0.9985829544953241, 'criterion': 'gini'}. Best is trial 51 with value: 0.33280533925387246.\n",
      "[I 2025-08-22 14:49:22,663] Trial 94 finished with value: 0.3067012987012987 and parameters: {'n_estimators': 86, 'max_depth': 40, 'min_samples_split': 2, 'min_samples_leaf': 2, 'max_features': 0.9455998282576668, 'criterion': 'gini'}. Best is trial 51 with value: 0.33280533925387246.\n",
      "[I 2025-08-22 14:49:23,176] Trial 95 finished with value: 0.22609050589932944 and parameters: {'n_estimators': 74, 'max_depth': 40, 'min_samples_split': 2, 'min_samples_leaf': 3, 'max_features': 0.46667906220162914, 'criterion': 'gini'}. Best is trial 51 with value: 0.33280533925387246.\n",
      "[I 2025-08-22 14:49:23,814] Trial 96 finished with value: 0.26925111392363366 and parameters: {'n_estimators': 90, 'max_depth': 37, 'min_samples_split': 3, 'min_samples_leaf': 4, 'max_features': 0.943415659260856, 'criterion': 'gini'}. Best is trial 51 with value: 0.33280533925387246.\n",
      "[I 2025-08-22 14:49:24,269] Trial 97 finished with value: 0.27382431457431455 and parameters: {'n_estimators': 59, 'max_depth': 36, 'min_samples_split': 2, 'min_samples_leaf': 2, 'max_features': 0.9756330575892834, 'criterion': 'gini'}. Best is trial 51 with value: 0.33280533925387246.\n",
      "[I 2025-08-22 14:49:24,953] Trial 98 finished with value: 0.25277701383583734 and parameters: {'n_estimators': 101, 'max_depth': 41, 'min_samples_split': 3, 'min_samples_leaf': 2, 'max_features': 0.39848491908580963, 'criterion': 'gini'}. Best is trial 51 with value: 0.33280533925387246.\n",
      "[I 2025-08-22 14:49:25,744] Trial 99 finished with value: 0.2649005857686909 and parameters: {'n_estimators': 125, 'max_depth': 5, 'min_samples_split': 2, 'min_samples_leaf': 3, 'max_features': 0.934214838830518, 'criterion': 'gini'}. Best is trial 51 with value: 0.33280533925387246.\n"
     ]
    },
    {
     "name": "stdout",
     "output_type": "stream",
     "text": [
      "Best trial found: 51\n",
      "Best Macro-F1 Score: 0.33280533925387246\n",
      "Best Hyperparameters:\n",
      "{'n_estimators': 125, 'max_depth': 39, 'min_samples_split': 3, 'min_samples_leaf': 1, 'max_features': 0.944065317234003, 'criterion': 'gini'}\n"
     ]
    }
   ],
   "source": [
    "def objective(trial):\n",
    "    \"\"\"Define the objective function for Optuna to optimize.\"\"\"\n",
    "    params = {\n",
    "        'n_estimators': trial.suggest_int('n_estimators', 50, 500),\n",
    "        'max_depth': trial.suggest_int('max_depth', 5, 50),\n",
    "        'min_samples_split': trial.suggest_int('min_samples_split', 2, 20),\n",
    "        'min_samples_leaf': trial.suggest_int('min_samples_leaf', 1, 20),\n",
    "        'max_features': trial.suggest_float('max_features', 0.1, 1.0),\n",
    "        'criterion': trial.suggest_categorical('criterion', ['gini', 'entropy']),\n",
    "        'random_state': 42,\n",
    "        'n_jobs': -1\n",
    "    }\n",
    "    \n",
    "    model = ExtraTreesClassifier(**params)\n",
    "    \n",
    "    # Stratified K-Fold Cross-Validation\n",
    "    skf = StratifiedKFold(n_splits=5, shuffle=True, random_state=42)\n",
    "    f1_scores = []\n",
    "    \n",
    "    for train_idx, val_idx in skf.split(X_train_final, y_train):\n",
    "        X_train_fold, X_val_fold = X_train_final.iloc[train_idx], X_train_final.iloc[val_idx]\n",
    "        y_train_fold, y_val_fold = y_train[train_idx], y_train[val_idx]\n",
    "        \n",
    "        model.fit(X_train_fold, y_train_fold)\n",
    "        preds = model.predict(X_val_fold)\n",
    "        f1_scores.append(f1_score(y_val_fold, preds, average='macro'))\n",
    "        \n",
    "    return np.mean(f1_scores)\n",
    "\n",
    "# Create a study object and optimize\n",
    "study = optuna.create_study(direction='maximize')\n",
    "study.optimize(objective, n_trials=100, timeout=600) # 50 trials or 10 minutes\n",
    "\n",
    "print(f\"Best trial found: {study.best_trial.number}\")\n",
    "print(f\"Best Macro-F1 Score: {study.best_value}\")\n",
    "print(\"Best Hyperparameters:\")\n",
    "print(study.best_params)\n"
   ]
  },
  {
   "cell_type": "markdown",
   "id": "48541f6a",
   "metadata": {},
   "source": [
    "# Model Training & Evaluation"
   ]
  },
  {
   "cell_type": "code",
   "execution_count": 12,
   "id": "8e6cdd2c",
   "metadata": {},
   "outputs": [
    {
     "name": "stdout",
     "output_type": "stream",
     "text": [
      "Overall Accuracy: 0.6813\n",
      "Macro-F1 Score: 0.3181\n",
      "Cohen's Kappa: 0.3188\n",
      "\n",
      "Classification Report:\n",
      "              precision    recall  f1-score   support\n",
      "\n",
      "          ED       0.00      0.00      0.00         1\n",
      "          MD       0.58      0.64      0.61        11\n",
      "          MW       0.29      0.22      0.25         9\n",
      "          NN       0.74      0.87      0.80        60\n",
      "          SD       0.50      0.17      0.25         6\n",
      "          VW       0.00      0.00      0.00         4\n",
      "\n",
      "    accuracy                           0.68        91\n",
      "   macro avg       0.35      0.32      0.32        91\n",
      "weighted avg       0.62      0.68      0.64        91\n",
      "\n",
      "\n",
      "--- Plotting Confusion Matrix ---\n"
     ]
    },
    {
     "data": {
      "image/png": "[encoded data removed]",
      "text/plain": [
       "<Figure size 1000x800 with 2 Axes>"
      ]
     },
     "metadata": {},
     "output_type": "display_data"
    }
   ],
   "source": [
    "# Get best hyperparameters\n",
    "best_params = study.best_params\n",
    "best_params['random_state'] = 42\n",
    "best_params['n_jobs'] = -1\n",
    "\n",
    "# Train the final model\n",
    "final_model = ExtraTreesClassifier(**best_params)\n",
    "final_model.fit(X_train_final, y_train)\n",
    "\n",
    "# Make predictions on the test set\n",
    "y_pred = final_model.predict(X_test_final)\n",
    "\n",
    "# Evaluate the model\n",
    "accuracy = accuracy_score(y_test, y_pred)\n",
    "macro_f1 = f1_score(y_test, y_pred, average='macro')\n",
    "kappa = cohen_kappa_score(y_test, y_pred)\n",
    "\n",
    "print(f\"Overall Accuracy: {accuracy:.4f}\")\n",
    "print(f\"Macro-F1 Score: {macro_f1:.4f}\")\n",
    "print(f\"Cohen's Kappa: {kappa:.4f}\")\n",
    "\n",
    "print(\"\\nClassification Report:\")\n",
    "print(classification_report(y_test, y_pred, target_names=le.classes_))\n",
    "\n",
    "\n",
    "# --- Plot Confusion Matrix ---\n",
    "print(\"\\n--- Plotting Confusion Matrix ---\")\n",
    "cm = confusion_matrix(y_test, y_pred)\n",
    "plt.figure(figsize=(10, 8))\n",
    "sns.heatmap(cm, annot=True, fmt='d', cmap='Blues', xticklabels=le.classes_, yticklabels=le.classes_)\n",
    "plt.title('Confusion Matrix')\n",
    "plt.ylabel('Actual')\n",
    "plt.xlabel('Predicted')\n",
    "plt.show()"
   ]
  },
  {
   "cell_type": "markdown",
   "id": "a065bac3",
   "metadata": {},
   "source": [
    "# Explainability with SHAP"
   ]
  },
  {
   "cell_type": "code",
   "execution_count": null,
   "id": "410e324e",
   "metadata": {},
   "outputs": [],
   "source": [
    "# Create SHAP explainer for the final model\n",
    "# Using a subset of the training data for the background is a common practice for performance\n",
    "explainer = shap.TreeExplainer(final_model, X_train_final.sample(100, random_state=42))\n",
    "shap_values = explainer.shap_values(X_test_final)\n",
    "\n",
    "# SHAP Summary Plot (Bar)\n",
    "print(\"\\nGenerating SHAP Summary Bar Plot...\")\n",
    "plt.figure()\n",
    "shap.summary_plot(shap_values, X_test_final, plot_type=\"bar\", class_names=le.classes_, show=False)\n",
    "plt.title(\"SHAP Summary Plot (Global Feature Importance)\")\n",
    "plt.tight_layout()\n",
    "plt.show()\n",
    "\n",
    "# SHAP Summary Plot (Beeswarm)\n",
    "print(\"\\nGenerating SHAP Summary Beeswarm Plot...\")\n",
    "plt.figure()\n",
    "shap.summary_plot(shap_values, X_test_final, class_names=le.classes_, show=False,  plot_type=\"violin\")\n",
    "plt.title(\"SHAP Summary Plot (Beeswarm)\")\n",
    "plt.tight_layout()\n",
    "plt.show()"
   ]
  }
 ],
 "metadata": {
  "kernelspec": {
   "display_name": "droughtmonitoringiran (3.12.3)",
   "language": "python",
   "name": "python3"
  },
  "language_info": {
   "codemirror_mode": {
    "name": "ipython",
    "version": 3
   },
   "file_extension": ".py",
   "mimetype": "text/x-python",
   "name": "python",
   "nbconvert_exporter": "python",
   "pygments_lexer": "ipython3",
   "version": "3.12.3"
  }
 },
 "nbformat": 4,
 "nbformat_minor": 5
}
