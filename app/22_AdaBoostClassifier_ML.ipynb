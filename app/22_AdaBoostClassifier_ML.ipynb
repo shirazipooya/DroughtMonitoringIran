{
 "cells": [
  {
   "cell_type": "markdown",
   "id": "466fb799",
   "metadata": {
    "notebookRunGroups": {
     "groupValue": "1"
    }
   },
   "source": [
    "# Import Libraries"
   ]
  },
  {
   "cell_type": "code",
   "execution_count": 1,
   "id": "c141a822",
   "metadata": {
    "notebookRunGroups": {
     "groupValue": "1"
    }
   },
   "outputs": [
    {
     "name": "stderr",
     "output_type": "stream",
     "text": [
      "/home/pooya/w/DroughtMonitoringIran/.venv/lib/python3.12/site-packages/tqdm/auto.py:21: TqdmWarning: IProgress not found. Please update jupyter and ipywidgets. See https://ipywidgets.readthedocs.io/en/stable/user_install.html\n",
      "  from .autonotebook import tqdm as notebook_tqdm\n"
     ]
    }
   ],
   "source": [
    "import sys\n",
    "import sqlite3\n",
    "import warnings\n",
    "\n",
    "import pandas as pd\n",
    "import numpy as np\n",
    "\n",
    "import optuna\n",
    "import matplotlib.pyplot as plt\n",
    "import seaborn as sns\n",
    "import shap\n",
    "from sklearn.ensemble import AdaBoostClassifier\n",
    "\n",
    "from sklearn.model_selection import train_test_split, StratifiedKFold\n",
    "from sklearn.preprocessing import StandardScaler, LabelEncoder\n",
    "from sklearn.metrics import accuracy_score, f1_score, cohen_kappa_score, classification_report, confusion_matrix\n",
    "from sklearn.feature_selection import RFECV\n",
    "\n",
    "\n",
    "warnings.filterwarnings('ignore')\n",
    "np.random.seed(42)"
   ]
  },
  {
   "cell_type": "markdown",
   "id": "27845aff",
   "metadata": {},
   "source": [
    "# Load Database"
   ]
  },
  {
   "cell_type": "code",
   "execution_count": 2,
   "id": "1361a6af",
   "metadata": {
    "notebookRunGroups": {
     "groupValue": "1"
    }
   },
   "outputs": [],
   "source": [
    "sys.path.append('/home/pooya/w/DroughtMonitoringIran/')\n",
    "\n",
    "DATABASE_PATH = \"./database/database.db\"\n",
    "\n",
    "conn = sqlite3.connect(DATABASE_PATH)\n",
    "\n",
    "data = pd.read_sql(sql='SELECT * FROM data', con=conn)\n",
    "\n",
    "conn.close()"
   ]
  },
  {
   "cell_type": "markdown",
   "id": "94899866",
   "metadata": {},
   "source": [
    "# Select Columns and Rows"
   ]
  },
  {
   "cell_type": "code",
   "execution_count": 3,
   "id": "c0de84b7",
   "metadata": {},
   "outputs": [],
   "source": [
    "# Select Drought Index and Period\n",
    "di = 'SPEI'\n",
    "di_scale = 6\n",
    "\n",
    "# Select Stations\n",
    "# selected_stations = ['Ramsar', 'Nowshahr', 'Siahbisheh', 'Kiyasar', 'Kojur', 'Baladeh', 'Alasht', 'Babolsar', 'Gharakhil', 'Sari', 'Sari (dasht-e-naz airport)', 'Galugah', 'Bandar-e-amirabad', 'Amol', 'Polsefid']\n",
    "selected_stations = ['Ramsar', 'Nowshahr']\n",
    "# selected_stations = ['Siahbisheh', 'Kiyasar', 'Kojur', 'Baladeh', 'Alasht']\n",
    "# selected_stations = ['Babolsar', 'Gharakhil', 'Sari', 'Sari (dasht-e-naz airport)', 'Galugah', 'Bandar-e-amirabad', 'Amol', 'Polsefid']\n",
    "\n",
    "# Select Columns\n",
    "selected_columns = [\n",
    "    'Station_Name', 'Station_ID',\n",
    "    'Station_Latitude', 'Station_Longitude', 'Station_Elevation',\n",
    "    'Date',\n",
    "    f'{di}_{di_scale}',\n",
    "    f'GPM_{di}_{di_scale}',\n",
    "    f'ERA5_{di}_{di_scale}',\n",
    "    'ERA5_Precipitation',\n",
    "    'GPM_Precipitation',\n",
    "    'TRMM_Precipitation',\n",
    "    'TERRACLIMATE_Precipitation',\n",
    "    'PERSIANNCDR_Precipitation',\n",
    "    'PET_MOD16A2GF',\n",
    "    'NDVI', 'EVI',\n",
    "    'LSTDay', 'LSTNight', 'LST',\n",
    "    'PCI_GPM', 'PCI_ERA5',\n",
    "    'VCI', 'TCI', 'VHI',\n",
    "    'CI_GPM', 'CI_ERA5',\n",
    "]\n",
    "\n",
    "# Select Start and End Date\n",
    "start_date = '2006-09'\n",
    "end_date = '2023-10'"
   ]
  },
  {
   "cell_type": "markdown",
   "id": "c773c79b",
   "metadata": {},
   "source": [
    "# Filter Data"
   ]
  },
  {
   "cell_type": "code",
   "execution_count": 4,
   "id": "ecf78173",
   "metadata": {},
   "outputs": [],
   "source": [
    "df = data\\\n",
    "    .filter(items=selected_columns)\\\n",
    "        .query(\"Station_Name in @selected_stations and Date >= @start_date and Date < @end_date\")"
   ]
  },
  {
   "cell_type": "markdown",
   "id": "ba7b1f34",
   "metadata": {},
   "source": [
    "# Add Some Columns"
   ]
  },
  {
   "cell_type": "code",
   "execution_count": 5,
   "id": "3303aafd",
   "metadata": {},
   "outputs": [],
   "source": [
    "# Date, Year, Month\n",
    "df['Date'] = pd.to_datetime(df['Date'], format='%Y-%m')\n",
    "df['Year'] = df['Date'].dt.year\n",
    "df['Month'] = df['Date'].dt.month\n",
    "\n",
    "# SPI and SPEI Class\n",
    "df[f'{di}_{di_scale}_Class'] = pd.cut(df[f'{di}_{di_scale}'], bins=[-10, -2, -1.5, -1, 1, 1.5, 2, 10], labels=['ED', 'SD', 'MD', 'NN', 'MW', 'VW', 'EW'])\n",
    "\n",
    "# Month Sin & Cos\n",
    "df['Month_sin'] = np.sin(2 * np.pi * df['Month'] / 12)\n",
    "df['Month_cos'] = np.cos(2 * np.pi * df['Month'] / 12)\n",
    "        \n",
    "# LST Diff\n",
    "df['LST_Diff'] = df['LSTDay'] - df['LSTNight']\n",
    "\n",
    "# Convert to Category\n",
    "df['Station_ID'] = df['Station_ID'].astype('category')\n",
    "df['Year'] = df['Year'].astype('category')\n",
    "df['Month'] = df['Month'].astype('category')\n",
    "df[f'{di}_{di_scale}_Class'] = df[f'{di}_{di_scale}_Class'].astype('category')"
   ]
  },
  {
   "cell_type": "code",
   "execution_count": 6,
   "id": "d4284e6f",
   "metadata": {},
   "outputs": [],
   "source": [
    "df.dropna(inplace=True)\n",
    "df.sort_values(by=['Station_ID', 'Year', 'Month'], inplace=True)\n",
    "df.reset_index(drop=True, inplace=True)"
   ]
  },
  {
   "cell_type": "code",
   "execution_count": 7,
   "id": "1e02915e",
   "metadata": {},
   "outputs": [],
   "source": [
    "selected_columns_lag_roll = [\n",
    "    'ERA5_Precipitation',\n",
    "    'GPM_Precipitation',\n",
    "    'TRMM_Precipitation',\n",
    "    'TERRACLIMATE_Precipitation',\n",
    "    'PERSIANNCDR_Precipitation',\n",
    "    f'GPM_{di}_{di_scale}',\n",
    "    f'ERA5_{di}_{di_scale}',\n",
    "    'PET_MOD16A2GF',\n",
    "    'NDVI', 'EVI',\n",
    "    'LSTDay', 'LSTNight', 'LST',\n",
    "    'PCI_GPM', 'PCI_ERA5',\n",
    "    'VCI', 'TCI', 'VHI',\n",
    "    'CI_GPM', 'CI_ERA5',\n",
    "]\n",
    "\n",
    "# Add Lag\n",
    "for lag in range(1, 4):\n",
    "    for col in selected_columns_lag_roll:\n",
    "        df[f'{col}_lag_{lag}'] = df.groupby('Station_ID', observed=False)[col].shift(lag)\n",
    "\n",
    "\n",
    "# Add Mean and Std Roll\n",
    "for r in [3]:\n",
    "    for col in selected_columns_lag_roll:\n",
    "        df[f'{col}_roll_mean_{r}'] = df.groupby('Station_ID', observed=False)[col].transform(lambda x: x.rolling(window=r, min_periods=1).mean())\n",
    "        df[f'{col}_roll_std_{r}'] = df.groupby('Station_ID', observed=False)[col].transform(lambda x: x.rolling(window=r, min_periods=1).std())"
   ]
  },
  {
   "cell_type": "markdown",
   "id": "6a11e19b",
   "metadata": {},
   "source": [
    "# Remove all NA"
   ]
  },
  {
   "cell_type": "code",
   "execution_count": 8,
   "id": "689557a4",
   "metadata": {},
   "outputs": [],
   "source": [
    "df.dropna(inplace=True)\n",
    "df.reset_index(drop=True, inplace=True)"
   ]
  },
  {
   "cell_type": "markdown",
   "id": "059b02cb",
   "metadata": {},
   "source": [
    "# Station-wise Standardization"
   ]
  },
  {
   "cell_type": "code",
   "execution_count": 9,
   "id": "00653016",
   "metadata": {},
   "outputs": [
    {
     "name": "stdout",
     "output_type": "stream",
     "text": [
      "Removing classes with fewer than 2 samples: ['EW']\n",
      "Data shape after removing rare classes: (303, 126)\n",
      "\n",
      "--- Final Class Distribution ---\n",
      "SPEI_6_Class\n",
      "NN    199\n",
      "MD     37\n",
      "MW     31\n",
      "SD     20\n",
      "VW     13\n",
      "ED      3\n",
      "EW      0\n",
      "Name: count, dtype: int64\n",
      "Target Classes: ['ED' 'MD' 'MW' 'NN' 'SD' 'VW']\n",
      "Training set shape: (212, 126)\n",
      "Testing set shape: (91, 126)\n"
     ]
    }
   ],
   "source": [
    "# Define columns to exclude from features\n",
    "EXCLUDE_COLS = ['Station_Name', 'Station_ID', 'Date', f'{di}_{di_scale}_Class', f'{di}_{di_scale}', 'Year', 'Month']\n",
    "FEATURES = [col for col in df.columns if col not in EXCLUDE_COLS]\n",
    "\n",
    "# Station-wise standardization\n",
    "df_scaled = df.copy()\n",
    "for station in df_scaled['Station_Name'].unique():\n",
    "    station_mask = df_scaled['Station_Name'] == station\n",
    "    scaler = StandardScaler()\n",
    "    df_scaled.loc[station_mask, FEATURES] = scaler.fit_transform(df_scaled.loc[station_mask, FEATURES])\n",
    "\n",
    "\n",
    "class_counts = df_scaled[f'{di}_{di_scale}_Class'].value_counts()\n",
    "classes_to_remove = class_counts[class_counts < 2].index\n",
    "\n",
    "if not classes_to_remove.empty:\n",
    "    print(f\"Removing classes with fewer than 2 samples: {classes_to_remove.tolist()}\")\n",
    "    \n",
    "    # Filter the dataframe to exclude these rare classes\n",
    "    df_filtered = df_scaled[~df_scaled[f'{di}_{di_scale}_Class'].isin(classes_to_remove)].copy()\n",
    "    \n",
    "    # Redefine X and y from the filtered dataframe\n",
    "    X = df_filtered[FEATURES]\n",
    "    y = df_filtered[f'{di}_{di_scale}_Class']\n",
    "    \n",
    "    print(f\"Data shape after removing rare classes: {X.shape}\")\n",
    "    print(\"\\n--- Final Class Distribution ---\")\n",
    "    print(y.value_counts())\n",
    "else:\n",
    "    print(\"No classes with fewer than 2 samples found.\")\n",
    "    X = df_scaled[FEATURES]\n",
    "    y = df_scaled[f'{di}_{di_scale}_Class']\n",
    "\n",
    "# Encode the target variable\n",
    "le = LabelEncoder()\n",
    "y_encoded = le.fit_transform(y)\n",
    "\n",
    "# Split data into training and testing sets\n",
    "X_train, X_test, y_train, y_test = train_test_split(\n",
    "    X,\n",
    "    y_encoded,\n",
    "    test_size=0.30,\n",
    "    random_state=42,\n",
    "    stratify=y_encoded\n",
    ")\n",
    "\n",
    "print(f\"Target Classes: {le.classes_}\")\n",
    "print(f\"Training set shape: {X_train.shape}\")\n",
    "print(f\"Testing set shape: {X_test.shape}\")"
   ]
  },
  {
   "cell_type": "markdown",
   "id": "b2c0534b",
   "metadata": {},
   "source": [
    "# Feature Selection with RFECV"
   ]
  },
  {
   "cell_type": "code",
   "execution_count": 10,
   "id": "395cf562",
   "metadata": {},
   "outputs": [
    {
     "name": "stdout",
     "output_type": "stream",
     "text": [
      "Optimal number of features found: 14\n",
      "Selected features: ['GPM_SPEI_6', 'ERA5_SPEI_6', 'TCI', 'VHI', 'TERRACLIMATE_Precipitation_lag_1', 'LSTNight_lag_2', 'ERA5_SPEI_6_lag_3', 'PET_MOD16A2GF_lag_3', 'TERRACLIMATE_Precipitation_roll_std_3', 'GPM_SPEI_6_roll_mean_3', 'GPM_SPEI_6_roll_std_3', 'ERA5_SPEI_6_roll_std_3', 'PCI_GPM_roll_mean_3', 'VCI_roll_std_3']\n"
     ]
    },
    {
     "data": {
      "image/png": "[encoded data removed]",
      "text/plain": [
       "<Figure size 1200x800 with 1 Axes>"
      ]
     },
     "metadata": {},
     "output_type": "display_data"
    }
   ],
   "source": [
    "# The estimator that will be used by RFECV\n",
    "estimator = AdaBoostClassifier(\n",
    "    random_state=42,\n",
    ")\n",
    "\n",
    "# The RFECV object\n",
    "rfecv = RFECV(\n",
    "    estimator=estimator,\n",
    "    step=1,\n",
    "    cv=StratifiedKFold(5),\n",
    "    scoring='f1_macro',\n",
    "    n_jobs=-1\n",
    ")\n",
    "\n",
    "# Fit RFECV on the training data\n",
    "rfecv.fit(X_train, y_train)\n",
    "\n",
    "print(f\"Optimal number of features found: {rfecv.n_features_}\")\n",
    "\n",
    "# Get the final selected features\n",
    "final_features = X_train.columns[rfecv.support_]\n",
    "print(f\"Selected features: {final_features.tolist()}\")\n",
    "\n",
    "# --- Plot Feature Importances ---\n",
    "# The `rfecv.estimator_` attribute is the model trained on the full set of features\n",
    "# during the last step of the cross-validation process. We can use its feature importances.\n",
    "importances = rfecv.estimator_.feature_importances_\n",
    "feature_importance_df = pd.DataFrame({\n",
    "    'Feature': final_features,\n",
    "    'Importance': importances\n",
    "}).sort_values(by='Importance', ascending=False)\n",
    "\n",
    "# Plot only the selected features\n",
    "selected_feature_importances = feature_importance_df[feature_importance_df['Feature'].isin(final_features)]\n",
    "\n",
    "plt.figure(figsize=(12, 8))\n",
    "sns.barplot(x='Importance', y='Feature', data=selected_feature_importances)\n",
    "plt.title('Feature Importances for Selected Features (from RFECV)')\n",
    "plt.xlabel('Importance')\n",
    "plt.ylabel('Feature')\n",
    "plt.tight_layout()\n",
    "plt.show()\n",
    "\n",
    "\n",
    "# Update training and testing sets with selected features\n",
    "X_train_final = X_train[final_features]\n",
    "X_test_final = X_test[final_features]"
   ]
  },
  {
   "cell_type": "markdown",
   "id": "948efbdd",
   "metadata": {},
   "source": [
    "# Hyperparameter Tuning with Optuna"
   ]
  },
  {
   "cell_type": "code",
   "execution_count": 12,
   "id": "95b28a9a",
   "metadata": {},
   "outputs": [
    {
     "name": "stderr",
     "output_type": "stream",
     "text": [
      "[I 2025-08-22 21:15:35,634] A new study created in memory with name: no-name-e1ba53fd-9df3-4406-872a-c7958acc0a1f\n",
      "[I 2025-08-22 21:15:37,575] Trial 0 finished with value: 0.16752920509442248 and parameters: {'n_estimators': 304, 'learning_rate': 0.0418507729568245}. Best is trial 0 with value: 0.16752920509442248.\n",
      "[I 2025-08-22 21:15:39,471] Trial 1 finished with value: 0.15812531342064934 and parameters: {'n_estimators': 276, 'learning_rate': 0.013653550630197806}. Best is trial 0 with value: 0.16752920509442248.\n",
      "[I 2025-08-22 21:15:42,463] Trial 2 finished with value: 0.23492682362701833 and parameters: {'n_estimators': 438, 'learning_rate': 0.10263523095027245}. Best is trial 2 with value: 0.23492682362701833.\n",
      "[I 2025-08-22 21:15:44,533] Trial 3 finished with value: 0.15850090027510946 and parameters: {'n_estimators': 323, 'learning_rate': 0.022062414321810914}. Best is trial 2 with value: 0.23492682362701833.\n",
      "[I 2025-08-22 21:15:45,646] Trial 4 finished with value: 0.23882513491159915 and parameters: {'n_estimators': 173, 'learning_rate': 0.9222340530331761}. Best is trial 4 with value: 0.23882513491159915.\n",
      "[I 2025-08-22 21:15:46,981] Trial 5 finished with value: 0.14788650745050008 and parameters: {'n_estimators': 196, 'learning_rate': 0.015324020297936114}. Best is trial 4 with value: 0.23882513491159915.\n",
      "[I 2025-08-22 21:15:48,544] Trial 6 finished with value: 0.21903213659032073 and parameters: {'n_estimators': 215, 'learning_rate': 0.1708840871567003}. Best is trial 4 with value: 0.23882513491159915.\n",
      "[I 2025-08-22 21:15:51,607] Trial 7 finished with value: 0.2268181818181818 and parameters: {'n_estimators': 445, 'learning_rate': 0.4070027964827258}. Best is trial 4 with value: 0.23882513491159915.\n",
      "[I 2025-08-22 21:15:52,371] Trial 8 finished with value: 0.15812531342064934 and parameters: {'n_estimators': 107, 'learning_rate': 0.03708509656347479}. Best is trial 4 with value: 0.23882513491159915.\n",
      "[I 2025-08-22 21:15:55,489] Trial 9 finished with value: 0.1881312636119675 and parameters: {'n_estimators': 440, 'learning_rate': 0.05162501406619445}. Best is trial 4 with value: 0.23882513491159915.\n",
      "[I 2025-08-22 21:15:55,933] Trial 10 finished with value: 0.23389880751795006 and parameters: {'n_estimators': 61, 'learning_rate': 0.98743036239628}. Best is trial 4 with value: 0.23882513491159915.\n",
      "[I 2025-08-22 21:15:58,595] Trial 11 finished with value: 0.22827019769162 and parameters: {'n_estimators': 401, 'learning_rate': 0.16074216207563338}. Best is trial 4 with value: 0.23882513491159915.\n",
      "[I 2025-08-22 21:16:01,931] Trial 12 finished with value: 0.233303338622388 and parameters: {'n_estimators': 495, 'learning_rate': 0.7934056909577527}. Best is trial 4 with value: 0.23882513491159915.\n",
      "[I 2025-08-22 21:16:03,026] Trial 13 finished with value: 0.2272115821478795 and parameters: {'n_estimators': 169, 'learning_rate': 0.32949164773195866}. Best is trial 4 with value: 0.23882513491159915.\n",
      "[I 2025-08-22 21:16:05,545] Trial 14 finished with value: 0.2296897432876362 and parameters: {'n_estimators': 364, 'learning_rate': 0.12085207415167656}. Best is trial 4 with value: 0.23882513491159915.\n",
      "[I 2025-08-22 21:16:07,126] Trial 15 finished with value: 0.23286605454736115 and parameters: {'n_estimators': 231, 'learning_rate': 0.3593869352645462}. Best is trial 4 with value: 0.23882513491159915.\n",
      "[I 2025-08-22 21:16:08,034] Trial 16 finished with value: 0.17537257087896474 and parameters: {'n_estimators': 126, 'learning_rate': 0.07099294987193165}. Best is trial 4 with value: 0.23882513491159915.\n",
      "[I 2025-08-22 21:16:11,780] Trial 17 finished with value: 0.2676403410619512 and parameters: {'n_estimators': 500, 'learning_rate': 0.5364857849410408}. Best is trial 17 with value: 0.2676403410619512.\n",
      "[I 2025-08-22 21:16:13,652] Trial 18 finished with value: 0.24450225473959875 and parameters: {'n_estimators': 251, 'learning_rate': 0.6097159638563056}. Best is trial 17 with value: 0.2676403410619512.\n",
      "[I 2025-08-22 21:16:16,209] Trial 19 finished with value: 0.2390454927240433 and parameters: {'n_estimators': 354, 'learning_rate': 0.5578922518177623}. Best is trial 17 with value: 0.2676403410619512.\n",
      "[I 2025-08-22 21:16:18,077] Trial 20 finished with value: 0.21697082873553467 and parameters: {'n_estimators': 252, 'learning_rate': 0.20547471112003815}. Best is trial 17 with value: 0.2676403410619512.\n",
      "[I 2025-08-22 21:16:20,774] Trial 21 finished with value: 0.24490096886310547 and parameters: {'n_estimators': 358, 'learning_rate': 0.5595535995865302}. Best is trial 17 with value: 0.2676403410619512.\n",
      "[I 2025-08-22 21:16:24,226] Trial 22 finished with value: 0.27812810270474897 and parameters: {'n_estimators': 482, 'learning_rate': 0.5607341045938186}. Best is trial 22 with value: 0.27812810270474897.\n",
      "[I 2025-08-22 21:16:27,687] Trial 23 finished with value: 0.24077288103517613 and parameters: {'n_estimators': 490, 'learning_rate': 0.2639388215522255}. Best is trial 22 with value: 0.27812810270474897.\n",
      "[I 2025-08-22 21:16:30,587] Trial 24 finished with value: 0.22513377309590968 and parameters: {'n_estimators': 396, 'learning_rate': 0.5241275165230916}. Best is trial 22 with value: 0.27812810270474897.\n",
      "[I 2025-08-22 21:16:34,014] Trial 25 finished with value: 0.2276107635381987 and parameters: {'n_estimators': 463, 'learning_rate': 0.2515831331110097}. Best is trial 22 with value: 0.27812810270474897.\n",
      "[I 2025-08-22 21:16:36,933] Trial 26 finished with value: 0.2473922268851275 and parameters: {'n_estimators': 403, 'learning_rate': 0.681751902149445}. Best is trial 22 with value: 0.27812810270474897.\n",
      "[I 2025-08-22 21:16:46,752] Trial 27 finished with value: 0.24689717392376162 and parameters: {'n_estimators': 408, 'learning_rate': 0.39488854414452074}. Best is trial 22 with value: 0.27812810270474897.\n",
      "[I 2025-08-22 21:16:50,294] Trial 28 finished with value: 0.2764123178253367 and parameters: {'n_estimators': 498, 'learning_rate': 0.674027702895874}. Best is trial 22 with value: 0.27812810270474897.\n",
      "[I 2025-08-22 21:16:53,783] Trial 29 finished with value: 0.2172656526389897 and parameters: {'n_estimators': 498, 'learning_rate': 0.4572125677459169}. Best is trial 22 with value: 0.27812810270474897.\n",
      "[I 2025-08-22 21:16:57,043] Trial 30 finished with value: 0.23330513060321484 and parameters: {'n_estimators': 456, 'learning_rate': 0.3028422563086441}. Best is trial 22 with value: 0.27812810270474897.\n",
      "[I 2025-08-22 21:17:00,322] Trial 31 finished with value: 0.22960627461644986 and parameters: {'n_estimators': 471, 'learning_rate': 0.7210882962722808}. Best is trial 22 with value: 0.27812810270474897.\n",
      "[I 2025-08-22 21:17:03,338] Trial 32 finished with value: 0.25100138409941564 and parameters: {'n_estimators': 424, 'learning_rate': 0.7114256973560985}. Best is trial 22 with value: 0.27812810270474897.\n",
      "[I 2025-08-22 21:17:06,230] Trial 33 finished with value: 0.2679228045449835 and parameters: {'n_estimators': 426, 'learning_rate': 0.8004849935805436}. Best is trial 22 with value: 0.27812810270474897.\n",
      "[I 2025-08-22 21:17:09,430] Trial 34 finished with value: 0.2382853264050498 and parameters: {'n_estimators': 482, 'learning_rate': 0.9980205713194943}. Best is trial 22 with value: 0.27812810270474897.\n",
      "[I 2025-08-22 21:17:12,465] Trial 35 finished with value: 0.2286149673958291 and parameters: {'n_estimators': 461, 'learning_rate': 0.4761025180388169}. Best is trial 22 with value: 0.27812810270474897.\n",
      "[I 2025-08-22 21:17:14,346] Trial 36 finished with value: 0.2530094328178208 and parameters: {'n_estimators': 293, 'learning_rate': 0.7832644657765254}. Best is trial 22 with value: 0.27812810270474897.\n",
      "[I 2025-08-22 21:17:17,056] Trial 37 finished with value: 0.2435080813934769 and parameters: {'n_estimators': 423, 'learning_rate': 0.2193389589814559}. Best is trial 22 with value: 0.27812810270474897.\n",
      "[I 2025-08-22 21:17:19,186] Trial 38 finished with value: 0.24788611867472957 and parameters: {'n_estimators': 327, 'learning_rate': 0.41769938549353897}. Best is trial 22 with value: 0.27812810270474897.\n",
      "[I 2025-08-22 21:17:22,418] Trial 39 finished with value: 0.2162414677642431 and parameters: {'n_estimators': 481, 'learning_rate': 0.13723161976175802}. Best is trial 22 with value: 0.27812810270474897.\n",
      "[I 2025-08-22 21:17:25,237] Trial 40 finished with value: 0.16752920509442248 and parameters: {'n_estimators': 432, 'learning_rate': 0.01908751987327202}. Best is trial 22 with value: 0.27812810270474897.\n",
      "[I 2025-08-22 21:17:27,231] Trial 41 finished with value: 0.14788650745050008 and parameters: {'n_estimators': 299, 'learning_rate': 0.010762192717593813}. Best is trial 22 with value: 0.27812810270474897.\n",
      "[I 2025-08-22 21:17:30,144] Trial 42 finished with value: 0.24453951608836982 and parameters: {'n_estimators': 453, 'learning_rate': 0.836701132493984}. Best is trial 22 with value: 0.27812810270474897.\n",
      "[I 2025-08-22 21:17:33,372] Trial 43 finished with value: 0.243369639279457 and parameters: {'n_estimators': 500, 'learning_rate': 0.8166034087128229}. Best is trial 22 with value: 0.27812810270474897.\n",
      "[I 2025-08-22 21:17:35,843] Trial 44 finished with value: 0.23940549129073715 and parameters: {'n_estimators': 380, 'learning_rate': 0.6310569140030897}. Best is trial 22 with value: 0.27812810270474897.\n",
      "[I 2025-08-22 21:17:37,754] Trial 45 finished with value: 0.16752920509442248 and parameters: {'n_estimators': 292, 'learning_rate': 0.03374318528561532}. Best is trial 22 with value: 0.27812810270474897.\n",
      "[I 2025-08-22 21:17:40,628] Trial 46 finished with value: 0.263977476678562 and parameters: {'n_estimators': 444, 'learning_rate': 0.8641410378751087}. Best is trial 22 with value: 0.27812810270474897.\n",
      "[I 2025-08-22 21:17:43,529] Trial 47 finished with value: 0.23110960868746533 and parameters: {'n_estimators': 445, 'learning_rate': 0.9556872702135053}. Best is trial 22 with value: 0.27812810270474897.\n",
      "[I 2025-08-22 21:17:46,565] Trial 48 finished with value: 0.24183108638263606 and parameters: {'n_estimators': 472, 'learning_rate': 0.31610642446494935}. Best is trial 22 with value: 0.27812810270474897.\n",
      "[I 2025-08-22 21:17:48,718] Trial 49 finished with value: 0.2492897926619931 and parameters: {'n_estimators': 330, 'learning_rate': 0.4912855329566653}. Best is trial 22 with value: 0.27812810270474897.\n",
      "[I 2025-08-22 21:17:54,684] Trial 50 finished with value: 0.27659214030495477 and parameters: {'n_estimators': 421, 'learning_rate': 0.6172496196055309}. Best is trial 22 with value: 0.27812810270474897.\n",
      "[I 2025-08-22 21:17:57,604] Trial 51 finished with value: 0.26311317030789694 and parameters: {'n_estimators': 419, 'learning_rate': 0.6305080069166892}. Best is trial 22 with value: 0.27812810270474897.\n",
      "[I 2025-08-22 21:18:00,554] Trial 52 finished with value: 0.22240155638621112 and parameters: {'n_estimators': 440, 'learning_rate': 0.08502914761102616}. Best is trial 22 with value: 0.27812810270474897.\n",
      "[I 2025-08-22 21:18:03,138] Trial 53 finished with value: 0.2264712675048076 and parameters: {'n_estimators': 382, 'learning_rate': 0.5636609454454101}. Best is trial 22 with value: 0.27812810270474897.\n",
      "[I 2025-08-22 21:18:06,275] Trial 54 finished with value: 0.2545931981185185 and parameters: {'n_estimators': 476, 'learning_rate': 0.4090329713339724}. Best is trial 22 with value: 0.27812810270474897.\n",
      "[I 2025-08-22 21:18:09,228] Trial 55 finished with value: 0.2703786488750895 and parameters: {'n_estimators': 449, 'learning_rate': 0.8564634276796945}. Best is trial 22 with value: 0.27812810270474897.\n",
      "[I 2025-08-22 21:18:11,733] Trial 56 finished with value: 0.2201839208030484 and parameters: {'n_estimators': 381, 'learning_rate': 0.6973854002491437}. Best is trial 22 with value: 0.27812810270474897.\n",
      "[I 2025-08-22 21:18:14,950] Trial 57 finished with value: 0.2427118977192908 and parameters: {'n_estimators': 486, 'learning_rate': 0.3420302672227657}. Best is trial 22 with value: 0.27812810270474897.\n",
      "[I 2025-08-22 21:18:17,976] Trial 58 finished with value: 0.2480584436956894 and parameters: {'n_estimators': 462, 'learning_rate': 0.525927432508561}. Best is trial 22 with value: 0.27812810270474897.\n",
      "[I 2025-08-22 21:18:21,186] Trial 59 finished with value: 0.20742990614590412 and parameters: {'n_estimators': 500, 'learning_rate': 0.054181280856875284}. Best is trial 22 with value: 0.27812810270474897.\n",
      "[I 2025-08-22 21:18:23,348] Trial 60 finished with value: 0.23881043853167108 and parameters: {'n_estimators': 343, 'learning_rate': 0.9865982363954332}. Best is trial 22 with value: 0.27812810270474897.\n",
      "[I 2025-08-22 21:18:26,170] Trial 61 finished with value: 0.24343279181988856 and parameters: {'n_estimators': 442, 'learning_rate': 0.8451915350815062}. Best is trial 22 with value: 0.27812810270474897.\n",
      "[I 2025-08-22 21:18:31,787] Trial 62 finished with value: 0.24161847822122673 and parameters: {'n_estimators': 408, 'learning_rate': 0.8232449605145439}. Best is trial 22 with value: 0.27812810270474897.\n",
      "[I 2025-08-22 21:18:34,608] Trial 63 finished with value: 0.2856772388956297 and parameters: {'n_estimators': 451, 'learning_rate': 0.6290590827978885}. Best is trial 63 with value: 0.2856772388956297.\n",
      "[I 2025-08-22 21:18:37,665] Trial 64 finished with value: 0.2388317666797982 and parameters: {'n_estimators': 475, 'learning_rate': 0.6430963358090883}. Best is trial 63 with value: 0.2856772388956297.\n",
      "[I 2025-08-22 21:18:40,275] Trial 65 finished with value: 0.2360471698973788 and parameters: {'n_estimators': 423, 'learning_rate': 0.4681691294686345}. Best is trial 63 with value: 0.2856772388956297.\n",
      "[I 2025-08-22 21:18:43,253] Trial 66 finished with value: 0.27527852582465595 and parameters: {'n_estimators': 468, 'learning_rate': 0.5824248443229224}. Best is trial 63 with value: 0.2856772388956297.\n",
      "[I 2025-08-22 21:18:45,726] Trial 67 finished with value: 0.23332651278653743 and parameters: {'n_estimators': 390, 'learning_rate': 0.372051178938739}. Best is trial 63 with value: 0.2856772388956297.\n",
      "[I 2025-08-22 21:18:48,609] Trial 68 finished with value: 0.24304587334658292 and parameters: {'n_estimators': 455, 'learning_rate': 0.2743000394209344}. Best is trial 63 with value: 0.2856772388956297.\n",
      "[I 2025-08-22 21:18:49,788] Trial 69 finished with value: 0.24450902269183922 and parameters: {'n_estimators': 185, 'learning_rate': 0.7247283452107317}. Best is trial 63 with value: 0.2856772388956297.\n",
      "[I 2025-08-22 21:18:52,453] Trial 70 finished with value: 0.24207067597153803 and parameters: {'n_estimators': 429, 'learning_rate': 0.5687922179119796}. Best is trial 63 with value: 0.2856772388956297.\n",
      "[I 2025-08-22 21:18:55,469] Trial 71 finished with value: 0.2335295382844818 and parameters: {'n_estimators': 486, 'learning_rate': 0.4402993510126319}. Best is trial 63 with value: 0.2856772388956297.\n",
      "[I 2025-08-22 21:18:58,381] Trial 72 finished with value: 0.2422547189384363 and parameters: {'n_estimators': 466, 'learning_rate': 0.6120935876097197}. Best is trial 63 with value: 0.2856772388956297.\n",
      "[I 2025-08-22 21:19:00,946] Trial 73 finished with value: 0.2418994425576762 and parameters: {'n_estimators': 415, 'learning_rate': 0.5329634776278598}. Best is trial 63 with value: 0.2856772388956297.\n",
      "[I 2025-08-22 21:19:01,850] Trial 74 finished with value: 0.23752294160208237 and parameters: {'n_estimators': 142, 'learning_rate': 0.7285248174610528}. Best is trial 63 with value: 0.2856772388956297.\n",
      "[I 2025-08-22 21:19:08,441] Trial 75 finished with value: 0.2665814628822471 and parameters: {'n_estimators': 488, 'learning_rate': 0.4774247774226829}. Best is trial 63 with value: 0.2856772388956297.\n",
      "[I 2025-08-22 21:19:11,257] Trial 76 finished with value: 0.2394189577006741 and parameters: {'n_estimators': 457, 'learning_rate': 0.3695220686648645}. Best is trial 63 with value: 0.2856772388956297.\n",
      "[I 2025-08-22 21:19:11,767] Trial 77 finished with value: 0.23245048172825672 and parameters: {'n_estimators': 78, 'learning_rate': 0.7410948015495663}. Best is trial 63 with value: 0.2856772388956297.\n",
      "[I 2025-08-22 21:19:14,532] Trial 78 finished with value: 0.25149559696390356 and parameters: {'n_estimators': 448, 'learning_rate': 0.605421285658836}. Best is trial 63 with value: 0.2856772388956297.\n",
      "[I 2025-08-22 21:19:17,194] Trial 79 finished with value: 0.21395736534261123 and parameters: {'n_estimators': 433, 'learning_rate': 0.903462657162235}. Best is trial 63 with value: 0.2856772388956297.\n",
      "[I 2025-08-22 21:19:20,081] Trial 80 finished with value: 0.2576801146471759 and parameters: {'n_estimators': 469, 'learning_rate': 0.656252692209498}. Best is trial 63 with value: 0.2856772388956297.\n",
      "[I 2025-08-22 21:19:23,069] Trial 81 finished with value: 0.2662206061463903 and parameters: {'n_estimators': 481, 'learning_rate': 0.48198589291631017}. Best is trial 63 with value: 0.2856772388956297.\n",
      "[I 2025-08-22 21:19:26,141] Trial 82 finished with value: 0.23523125015286034 and parameters: {'n_estimators': 489, 'learning_rate': 0.4355342310449957}. Best is trial 63 with value: 0.2856772388956297.\n",
      "[I 2025-08-22 21:19:29,210] Trial 83 finished with value: 0.24490922114721983 and parameters: {'n_estimators': 492, 'learning_rate': 0.5221162716654104}. Best is trial 63 with value: 0.2856772388956297.\n",
      "[I 2025-08-22 21:19:32,149] Trial 84 finished with value: 0.23674809611695746 and parameters: {'n_estimators': 475, 'learning_rate': 0.21070103482628397}. Best is trial 63 with value: 0.2856772388956297.\n",
      "[I 2025-08-22 21:19:35,233] Trial 85 finished with value: 0.23804105151172145 and parameters: {'n_estimators': 499, 'learning_rate': 0.29378413371857137}. Best is trial 63 with value: 0.2856772388956297.\n",
      "[I 2025-08-22 21:19:38,120] Trial 86 finished with value: 0.24258443860338175 and parameters: {'n_estimators': 462, 'learning_rate': 0.7636788232482019}. Best is trial 63 with value: 0.2856772388956297.\n",
      "[I 2025-08-22 21:19:40,842] Trial 87 finished with value: 0.2419969999618365 and parameters: {'n_estimators': 438, 'learning_rate': 0.5795301034168123}. Best is trial 63 with value: 0.2856772388956297.\n",
      "[I 2025-08-22 21:19:46,955] Trial 88 finished with value: 0.25168524531024533 and parameters: {'n_estimators': 449, 'learning_rate': 0.911867360707503}. Best is trial 63 with value: 0.2856772388956297.\n",
      "[I 2025-08-22 21:19:49,436] Trial 89 finished with value: 0.22888734743111544 and parameters: {'n_estimators': 397, 'learning_rate': 0.6750990731634345}. Best is trial 63 with value: 0.2856772388956297.\n",
      "[I 2025-08-22 21:19:50,814] Trial 90 finished with value: 0.24052535212324502 and parameters: {'n_estimators': 216, 'learning_rate': 0.16987001814260674}. Best is trial 63 with value: 0.2856772388956297.\n",
      "[I 2025-08-22 21:19:54,112] Trial 91 finished with value: 0.22984477060450365 and parameters: {'n_estimators': 473, 'learning_rate': 0.49219317537979734}. Best is trial 63 with value: 0.2856772388956297.\n",
      "[I 2025-08-22 21:19:57,265] Trial 92 finished with value: 0.22062500591394035 and parameters: {'n_estimators': 483, 'learning_rate': 0.4893763829033649}. Best is trial 63 with value: 0.2856772388956297.\n",
      "[I 2025-08-22 21:20:00,425] Trial 93 finished with value: 0.25265753173315836 and parameters: {'n_estimators': 482, 'learning_rate': 0.3959751373747538}. Best is trial 63 with value: 0.2856772388956297.\n",
      "[I 2025-08-22 21:20:03,657] Trial 94 finished with value: 0.2617577823667013 and parameters: {'n_estimators': 491, 'learning_rate': 0.5643505670281352}. Best is trial 63 with value: 0.2856772388956297.\n",
      "[I 2025-08-22 21:20:06,663] Trial 95 finished with value: 0.24623422952176824 and parameters: {'n_estimators': 464, 'learning_rate': 0.7774014140145861}. Best is trial 63 with value: 0.2856772388956297.\n",
      "[I 2025-08-22 21:20:10,085] Trial 96 finished with value: 0.23859290135152206 and parameters: {'n_estimators': 451, 'learning_rate': 0.43605364454975065}. Best is trial 63 with value: 0.2856772388956297.\n",
      "[I 2025-08-22 21:20:12,786] Trial 97 finished with value: 0.2370029459606641 and parameters: {'n_estimators': 433, 'learning_rate': 0.8748156762140861}. Best is trial 63 with value: 0.2856772388956297.\n",
      "[I 2025-08-22 21:20:15,353] Trial 98 finished with value: 0.26373588638602385 and parameters: {'n_estimators': 417, 'learning_rate': 0.658874163847294}. Best is trial 63 with value: 0.2856772388956297.\n",
      "[I 2025-08-22 21:20:20,725] Trial 99 finished with value: 0.23206203765993055 and parameters: {'n_estimators': 479, 'learning_rate': 0.10799809471289404}. Best is trial 63 with value: 0.2856772388956297.\n"
     ]
    },
    {
     "name": "stdout",
     "output_type": "stream",
     "text": [
      "Best trial found: 63\n",
      "Best Macro-F1 Score: 0.2856772388956297\n",
      "Best Hyperparameters:\n",
      "{'n_estimators': 451, 'learning_rate': 0.6290590827978885}\n"
     ]
    }
   ],
   "source": [
    "def objective(trial):\n",
    "    \"\"\"Define the objective function for Optuna to optimize.\"\"\"\n",
    "    params = {\n",
    "        'n_estimators': trial.suggest_int('n_estimators', 50, 500),\n",
    "        'learning_rate': trial.suggest_float('learning_rate', 0.01, 1.0, log=True),\n",
    "        'algorithm': 'SAMME',\n",
    "        'random_state': 42\n",
    "    }\n",
    "\n",
    "    model = AdaBoostClassifier(**params)\n",
    "\n",
    "    # Stratified K-Fold Cross-Validation\n",
    "    skf = StratifiedKFold(n_splits=5, shuffle=True, random_state=42)\n",
    "    f1_scores = []\n",
    "    \n",
    "    for train_idx, val_idx in skf.split(X_train_final, y_train):\n",
    "        X_train_fold, X_val_fold = X_train_final.iloc[train_idx], X_train_final.iloc[val_idx]\n",
    "        y_train_fold, y_val_fold = y_train[train_idx], y_train[val_idx]\n",
    "        \n",
    "        model.fit(X_train_fold, y_train_fold)\n",
    "        preds = model.predict(X_val_fold)\n",
    "        f1_scores.append(f1_score(y_val_fold, preds, average='macro'))\n",
    "        \n",
    "    return np.mean(f1_scores)\n",
    "\n",
    "# Create a study object and optimize\n",
    "study = optuna.create_study(direction='maximize')\n",
    "study.optimize(objective, n_trials=100, timeout=600) # 50 trials or 10 minutes\n",
    "\n",
    "print(f\"Best trial found: {study.best_trial.number}\")\n",
    "print(f\"Best Macro-F1 Score: {study.best_value}\")\n",
    "print(\"Best Hyperparameters:\")\n",
    "print(study.best_params)\n"
   ]
  },
  {
   "cell_type": "markdown",
   "id": "48541f6a",
   "metadata": {},
   "source": [
    "# Model Training & Evaluation"
   ]
  },
  {
   "cell_type": "code",
   "execution_count": 13,
   "id": "8e6cdd2c",
   "metadata": {},
   "outputs": [
    {
     "name": "stdout",
     "output_type": "stream",
     "text": [
      "Overall Accuracy: 0.6044\n",
      "Macro-F1 Score: 0.2663\n",
      "Cohen's Kappa: 0.1687\n",
      "\n",
      "Classification Report:\n",
      "              precision    recall  f1-score   support\n",
      "\n",
      "          ED       0.00      0.00      0.00         1\n",
      "          MD       0.50      0.36      0.42        11\n",
      "          MW       0.20      0.22      0.21         9\n",
      "          NN       0.70      0.80      0.74        60\n",
      "          SD       0.33      0.17      0.22         6\n",
      "          VW       0.00      0.00      0.00         4\n",
      "\n",
      "    accuracy                           0.60        91\n",
      "   macro avg       0.29      0.26      0.27        91\n",
      "weighted avg       0.56      0.60      0.58        91\n",
      "\n",
      "\n",
      "--- Plotting Confusion Matrix ---\n"
     ]
    },
    {
     "data": {
      "image/png": "[encoded data removed]",
      "text/plain": [
       "<Figure size 1000x800 with 2 Axes>"
      ]
     },
     "metadata": {},
     "output_type": "display_data"
    }
   ],
   "source": [
    "# Get best hyperparameters\n",
    "best_params = study.best_params\n",
    "best_params['random_state'] = 42\n",
    "\n",
    "# Train the final model\n",
    "final_model = AdaBoostClassifier(**best_params)\n",
    "final_model.fit(X_train_final, y_train)\n",
    "\n",
    "# Make predictions on the test set\n",
    "y_pred = final_model.predict(X_test_final)\n",
    "\n",
    "# Evaluate the model\n",
    "accuracy = accuracy_score(y_test, y_pred)\n",
    "macro_f1 = f1_score(y_test, y_pred, average='macro')\n",
    "kappa = cohen_kappa_score(y_test, y_pred)\n",
    "\n",
    "print(f\"Overall Accuracy: {accuracy:.4f}\")\n",
    "print(f\"Macro-F1 Score: {macro_f1:.4f}\")\n",
    "print(f\"Cohen's Kappa: {kappa:.4f}\")\n",
    "\n",
    "print(\"\\nClassification Report:\")\n",
    "print(classification_report(y_test, y_pred, target_names=le.classes_))\n",
    "\n",
    "\n",
    "# --- Plot Confusion Matrix ---\n",
    "print(\"\\n--- Plotting Confusion Matrix ---\")\n",
    "cm = confusion_matrix(y_test, y_pred)\n",
    "plt.figure(figsize=(10, 8))\n",
    "sns.heatmap(cm, annot=True, fmt='d', cmap='Blues', xticklabels=le.classes_, yticklabels=le.classes_)\n",
    "plt.title('Confusion Matrix')\n",
    "plt.ylabel('Actual')\n",
    "plt.xlabel('Predicted')\n",
    "plt.show()"
   ]
  },
  {
   "cell_type": "markdown",
   "id": "a065bac3",
   "metadata": {},
   "source": [
    "# Explainability with SHAP"
   ]
  },
  {
   "cell_type": "code",
   "execution_count": 14,
   "id": "410e324e",
   "metadata": {},
   "outputs": [
    {
     "ename": "InvalidModelError",
     "evalue": "Model type not yet supported by TreeExplainer: <class 'sklearn.ensemble._weight_boosting.AdaBoostClassifier'>",
     "output_type": "error",
     "traceback": [
      "\u001b[31m---------------------------------------------------------------------------\u001b[39m",
      "\u001b[31mInvalidModelError\u001b[39m                         Traceback (most recent call last)",
      "\u001b[36mCell\u001b[39m\u001b[36m \u001b[39m\u001b[32mIn[14]\u001b[39m\u001b[32m, line 3\u001b[39m\n\u001b[32m      1\u001b[39m \u001b[38;5;66;03m# Create SHAP explainer for the final model\u001b[39;00m\n\u001b[32m      2\u001b[39m \u001b[38;5;66;03m# Using a subset of the training data for the background is a common practice for performance\u001b[39;00m\n\u001b[32m----> \u001b[39m\u001b[32m3\u001b[39m explainer = \u001b[43mshap\u001b[49m\u001b[43m.\u001b[49m\u001b[43mTreeExplainer\u001b[49m\u001b[43m(\u001b[49m\u001b[43mfinal_model\u001b[49m\u001b[43m,\u001b[49m\u001b[43m \u001b[49m\u001b[43mX_train_final\u001b[49m\u001b[43m.\u001b[49m\u001b[43msample\u001b[49m\u001b[43m(\u001b[49m\u001b[32;43m100\u001b[39;49m\u001b[43m,\u001b[49m\u001b[43m \u001b[49m\u001b[43mrandom_state\u001b[49m\u001b[43m=\u001b[49m\u001b[32;43m42\u001b[39;49m\u001b[43m)\u001b[49m\u001b[43m)\u001b[49m\n\u001b[32m      4\u001b[39m shap_values = explainer.shap_values(X_test_final)\n\u001b[32m      6\u001b[39m \u001b[38;5;66;03m# SHAP Summary Plot (Bar)\u001b[39;00m\n",
      "\u001b[36mFile \u001b[39m\u001b[32m~/w/DroughtMonitoringIran/.venv/lib/python3.12/site-packages/shap/explainers/_tree.py:278\u001b[39m, in \u001b[36mTreeExplainer.__init__\u001b[39m\u001b[34m(self, model, data, model_output, feature_perturbation, feature_names, approximate, link, linearize_link)\u001b[39m\n\u001b[32m    276\u001b[39m \u001b[38;5;28mself\u001b[39m.feature_perturbation = feature_perturbation\n\u001b[32m    277\u001b[39m \u001b[38;5;28mself\u001b[39m.expected_value = \u001b[38;5;28;01mNone\u001b[39;00m\n\u001b[32m--> \u001b[39m\u001b[32m278\u001b[39m \u001b[38;5;28mself\u001b[39m.model = \u001b[43mTreeEnsemble\u001b[49m\u001b[43m(\u001b[49m\u001b[43mmodel\u001b[49m\u001b[43m,\u001b[49m\u001b[43m \u001b[49m\u001b[38;5;28;43mself\u001b[39;49m\u001b[43m.\u001b[49m\u001b[43mdata\u001b[49m\u001b[43m,\u001b[49m\u001b[43m \u001b[49m\u001b[38;5;28;43mself\u001b[39;49m\u001b[43m.\u001b[49m\u001b[43mdata_missing\u001b[49m\u001b[43m,\u001b[49m\u001b[43m \u001b[49m\u001b[43mmodel_output\u001b[49m\u001b[43m)\u001b[49m\n\u001b[32m    279\u001b[39m \u001b[38;5;28mself\u001b[39m.model_output = model_output\n\u001b[32m    280\u001b[39m \u001b[38;5;66;03m# self.model_output = self.model.model_output # this allows the TreeEnsemble to translate model outputs types by how it loads the model\u001b[39;00m\n\u001b[32m    281\u001b[39m \n\u001b[32m    282\u001b[39m \u001b[38;5;66;03m# check for unsupported combinations of feature_perturbation and model_outputs\u001b[39;00m\n",
      "\u001b[36mFile \u001b[39m\u001b[32m~/w/DroughtMonitoringIran/.venv/lib/python3.12/site-packages/shap/explainers/_tree.py:1436\u001b[39m, in \u001b[36mTreeEnsemble.__init__\u001b[39m\u001b[34m(self, model, data, data_missing, model_output)\u001b[39m\n\u001b[32m   1434\u001b[39m     \u001b[38;5;28mself\u001b[39m.base_offset = model.init_params[param_idx]\n\u001b[32m   1435\u001b[39m \u001b[38;5;28;01melse\u001b[39;00m:\n\u001b[32m-> \u001b[39m\u001b[32m1436\u001b[39m     \u001b[38;5;28;01mraise\u001b[39;00m InvalidModelError(\u001b[33m\"\u001b[39m\u001b[33mModel type not yet supported by TreeExplainer: \u001b[39m\u001b[33m\"\u001b[39m + \u001b[38;5;28mstr\u001b[39m(\u001b[38;5;28mtype\u001b[39m(model)))\n\u001b[32m   1438\u001b[39m \u001b[38;5;66;03m# build a dense numpy version of all the tree objects\u001b[39;00m\n\u001b[32m   1439\u001b[39m \u001b[38;5;28;01mif\u001b[39;00m \u001b[38;5;28mself\u001b[39m.trees \u001b[38;5;129;01mis\u001b[39;00m \u001b[38;5;129;01mnot\u001b[39;00m \u001b[38;5;28;01mNone\u001b[39;00m \u001b[38;5;129;01mand\u001b[39;00m \u001b[38;5;28mself\u001b[39m.trees:\n",
      "\u001b[31mInvalidModelError\u001b[39m: Model type not yet supported by TreeExplainer: <class 'sklearn.ensemble._weight_boosting.AdaBoostClassifier'>"
     ]
    }
   ],
   "source": [
    "# Create SHAP explainer for the final model\n",
    "# Using a subset of the training data for the background is a common practice for performance\n",
    "explainer = shap.TreeExplainer(final_model, X_train_final.sample(100, random_state=42))\n",
    "shap_values = explainer.shap_values(X_test_final)\n",
    "\n",
    "# SHAP Summary Plot (Bar)\n",
    "print(\"\\nGenerating SHAP Summary Bar Plot...\")\n",
    "plt.figure()\n",
    "shap.summary_plot(shap_values, X_test_final, plot_type=\"bar\", class_names=le.classes_, show=False)\n",
    "plt.title(\"SHAP Summary Plot (Global Feature Importance)\")\n",
    "plt.tight_layout()\n",
    "plt.show()\n",
    "\n",
    "# SHAP Summary Plot (Beeswarm)\n",
    "print(\"\\nGenerating SHAP Summary Beeswarm Plot...\")\n",
    "plt.figure()\n",
    "shap.summary_plot(shap_values, X_test_final, class_names=le.classes_, show=False,  plot_type=\"violin\")\n",
    "plt.title(\"SHAP Summary Plot (Beeswarm)\")\n",
    "plt.tight_layout()\n",
    "plt.show()"
   ]
  }
 ],
 "metadata": {
  "kernelspec": {
   "display_name": "droughtmonitoringiran (3.12.3)",
   "language": "python",
   "name": "python3"
  },
  "language_info": {
   "codemirror_mode": {
    "name": "ipython",
    "version": 3
   },
   "file_extension": ".py",
   "mimetype": "text/x-python",
   "name": "python",
   "nbconvert_exporter": "python",
   "pygments_lexer": "ipython3",
   "version": "3.12.3"
  }
 },
 "nbformat": 4,
 "nbformat_minor": 5
}
